{
  "nbformat": 4,
  "nbformat_minor": 0,
  "metadata": {
    "colab": {
      "name": "Statistiques descriptives.ipynb",
      "provenance": [],
      "authorship_tag": "ABX9TyOQ8DsiH7ZuspbXh5HkiI8v",
      "include_colab_link": true
    },
    "kernelspec": {
      "name": "python3",
      "display_name": "Python 3"
    },
    "widgets": {
      "application/vnd.jupyter.widget-state+json": {
        "92c323f65e17420a906b0033a2cb9f05": {
          "model_module": "@jupyter-widgets/controls",
          "model_name": "HBoxModel",
          "state": {
            "_view_name": "HBoxView",
            "_dom_classes": [],
            "_model_name": "HBoxModel",
            "_view_module": "@jupyter-widgets/controls",
            "_model_module_version": "1.5.0",
            "_view_count": null,
            "_view_module_version": "1.5.0",
            "box_style": "",
            "layout": "IPY_MODEL_61faa8fd0a4648ffbe695f0a1bd86bfb",
            "_model_module": "@jupyter-widgets/controls",
            "children": [
              "IPY_MODEL_7289d89fe6f14157b272aa0402d25c3b",
              "IPY_MODEL_af6bab93309b4116b9e01e8d93094068"
            ]
          }
        },
        "61faa8fd0a4648ffbe695f0a1bd86bfb": {
          "model_module": "@jupyter-widgets/base",
          "model_name": "LayoutModel",
          "state": {
            "_view_name": "LayoutView",
            "grid_template_rows": null,
            "right": null,
            "justify_content": null,
            "_view_module": "@jupyter-widgets/base",
            "overflow": null,
            "_model_module_version": "1.2.0",
            "_view_count": null,
            "flex_flow": null,
            "width": null,
            "min_width": null,
            "border": null,
            "align_items": null,
            "bottom": null,
            "_model_module": "@jupyter-widgets/base",
            "top": null,
            "grid_column": null,
            "overflow_y": null,
            "overflow_x": null,
            "grid_auto_flow": null,
            "grid_area": null,
            "grid_template_columns": null,
            "flex": null,
            "_model_name": "LayoutModel",
            "justify_items": null,
            "grid_row": null,
            "max_height": null,
            "align_content": null,
            "visibility": null,
            "align_self": null,
            "height": null,
            "min_height": null,
            "padding": null,
            "grid_auto_rows": null,
            "grid_gap": null,
            "max_width": null,
            "order": null,
            "_view_module_version": "1.2.0",
            "grid_template_areas": null,
            "object_position": null,
            "object_fit": null,
            "grid_auto_columns": null,
            "margin": null,
            "display": null,
            "left": null
          }
        },
        "7289d89fe6f14157b272aa0402d25c3b": {
          "model_module": "@jupyter-widgets/controls",
          "model_name": "FloatProgressModel",
          "state": {
            "_view_name": "ProgressView",
            "style": "IPY_MODEL_702032e7b2d745cb96590a254e3a0143",
            "_dom_classes": [],
            "description": "100%",
            "_model_name": "FloatProgressModel",
            "bar_style": "success",
            "max": 45466,
            "_view_module": "@jupyter-widgets/controls",
            "_model_module_version": "1.5.0",
            "value": 45466,
            "_view_count": null,
            "_view_module_version": "1.5.0",
            "orientation": "horizontal",
            "min": 0,
            "description_tooltip": null,
            "_model_module": "@jupyter-widgets/controls",
            "layout": "IPY_MODEL_efd1ffb9238a46418f4c6eb8e9586c25"
          }
        },
        "af6bab93309b4116b9e01e8d93094068": {
          "model_module": "@jupyter-widgets/controls",
          "model_name": "HTMLModel",
          "state": {
            "_view_name": "HTMLView",
            "style": "IPY_MODEL_f9ec2ddad40844b69dad07aff83759eb",
            "_dom_classes": [],
            "description": "",
            "_model_name": "HTMLModel",
            "placeholder": "​",
            "_view_module": "@jupyter-widgets/controls",
            "_model_module_version": "1.5.0",
            "value": " 45466/45466 [00:03&lt;00:00, 12094.23it/s]",
            "_view_count": null,
            "_view_module_version": "1.5.0",
            "description_tooltip": null,
            "_model_module": "@jupyter-widgets/controls",
            "layout": "IPY_MODEL_4d0fe1a9d32549268bfa4515df383ad1"
          }
        },
        "702032e7b2d745cb96590a254e3a0143": {
          "model_module": "@jupyter-widgets/controls",
          "model_name": "ProgressStyleModel",
          "state": {
            "_view_name": "StyleView",
            "_model_name": "ProgressStyleModel",
            "description_width": "initial",
            "_view_module": "@jupyter-widgets/base",
            "_model_module_version": "1.5.0",
            "_view_count": null,
            "_view_module_version": "1.2.0",
            "bar_color": null,
            "_model_module": "@jupyter-widgets/controls"
          }
        },
        "efd1ffb9238a46418f4c6eb8e9586c25": {
          "model_module": "@jupyter-widgets/base",
          "model_name": "LayoutModel",
          "state": {
            "_view_name": "LayoutView",
            "grid_template_rows": null,
            "right": null,
            "justify_content": null,
            "_view_module": "@jupyter-widgets/base",
            "overflow": null,
            "_model_module_version": "1.2.0",
            "_view_count": null,
            "flex_flow": null,
            "width": null,
            "min_width": null,
            "border": null,
            "align_items": null,
            "bottom": null,
            "_model_module": "@jupyter-widgets/base",
            "top": null,
            "grid_column": null,
            "overflow_y": null,
            "overflow_x": null,
            "grid_auto_flow": null,
            "grid_area": null,
            "grid_template_columns": null,
            "flex": null,
            "_model_name": "LayoutModel",
            "justify_items": null,
            "grid_row": null,
            "max_height": null,
            "align_content": null,
            "visibility": null,
            "align_self": null,
            "height": null,
            "min_height": null,
            "padding": null,
            "grid_auto_rows": null,
            "grid_gap": null,
            "max_width": null,
            "order": null,
            "_view_module_version": "1.2.0",
            "grid_template_areas": null,
            "object_position": null,
            "object_fit": null,
            "grid_auto_columns": null,
            "margin": null,
            "display": null,
            "left": null
          }
        },
        "f9ec2ddad40844b69dad07aff83759eb": {
          "model_module": "@jupyter-widgets/controls",
          "model_name": "DescriptionStyleModel",
          "state": {
            "_view_name": "StyleView",
            "_model_name": "DescriptionStyleModel",
            "description_width": "",
            "_view_module": "@jupyter-widgets/base",
            "_model_module_version": "1.5.0",
            "_view_count": null,
            "_view_module_version": "1.2.0",
            "_model_module": "@jupyter-widgets/controls"
          }
        },
        "4d0fe1a9d32549268bfa4515df383ad1": {
          "model_module": "@jupyter-widgets/base",
          "model_name": "LayoutModel",
          "state": {
            "_view_name": "LayoutView",
            "grid_template_rows": null,
            "right": null,
            "justify_content": null,
            "_view_module": "@jupyter-widgets/base",
            "overflow": null,
            "_model_module_version": "1.2.0",
            "_view_count": null,
            "flex_flow": null,
            "width": null,
            "min_width": null,
            "border": null,
            "align_items": null,
            "bottom": null,
            "_model_module": "@jupyter-widgets/base",
            "top": null,
            "grid_column": null,
            "overflow_y": null,
            "overflow_x": null,
            "grid_auto_flow": null,
            "grid_area": null,
            "grid_template_columns": null,
            "flex": null,
            "_model_name": "LayoutModel",
            "justify_items": null,
            "grid_row": null,
            "max_height": null,
            "align_content": null,
            "visibility": null,
            "align_self": null,
            "height": null,
            "min_height": null,
            "padding": null,
            "grid_auto_rows": null,
            "grid_gap": null,
            "max_width": null,
            "order": null,
            "_view_module_version": "1.2.0",
            "grid_template_areas": null,
            "object_position": null,
            "object_fit": null,
            "grid_auto_columns": null,
            "margin": null,
            "display": null,
            "left": null
          }
        },
        "6597a29e7f39439b9a0541bdd6749a3a": {
          "model_module": "@jupyter-widgets/controls",
          "model_name": "HBoxModel",
          "state": {
            "_view_name": "HBoxView",
            "_dom_classes": [],
            "_model_name": "HBoxModel",
            "_view_module": "@jupyter-widgets/controls",
            "_model_module_version": "1.5.0",
            "_view_count": null,
            "_view_module_version": "1.5.0",
            "box_style": "",
            "layout": "IPY_MODEL_bd19dd5a2c5f4ac5bd2ef8e534a658d3",
            "_model_module": "@jupyter-widgets/controls",
            "children": [
              "IPY_MODEL_570ecd5ef35d42d1898beeb8fd72dccb",
              "IPY_MODEL_1209a20abb5641a996d5883e8287b659"
            ]
          }
        },
        "bd19dd5a2c5f4ac5bd2ef8e534a658d3": {
          "model_module": "@jupyter-widgets/base",
          "model_name": "LayoutModel",
          "state": {
            "_view_name": "LayoutView",
            "grid_template_rows": null,
            "right": null,
            "justify_content": null,
            "_view_module": "@jupyter-widgets/base",
            "overflow": null,
            "_model_module_version": "1.2.0",
            "_view_count": null,
            "flex_flow": null,
            "width": null,
            "min_width": null,
            "border": null,
            "align_items": null,
            "bottom": null,
            "_model_module": "@jupyter-widgets/base",
            "top": null,
            "grid_column": null,
            "overflow_y": null,
            "overflow_x": null,
            "grid_auto_flow": null,
            "grid_area": null,
            "grid_template_columns": null,
            "flex": null,
            "_model_name": "LayoutModel",
            "justify_items": null,
            "grid_row": null,
            "max_height": null,
            "align_content": null,
            "visibility": null,
            "align_self": null,
            "height": null,
            "min_height": null,
            "padding": null,
            "grid_auto_rows": null,
            "grid_gap": null,
            "max_width": null,
            "order": null,
            "_view_module_version": "1.2.0",
            "grid_template_areas": null,
            "object_position": null,
            "object_fit": null,
            "grid_auto_columns": null,
            "margin": null,
            "display": null,
            "left": null
          }
        },
        "570ecd5ef35d42d1898beeb8fd72dccb": {
          "model_module": "@jupyter-widgets/controls",
          "model_name": "FloatProgressModel",
          "state": {
            "_view_name": "ProgressView",
            "style": "IPY_MODEL_308126800be64c409a65298299249514",
            "_dom_classes": [],
            "description": "100%",
            "_model_name": "FloatProgressModel",
            "bar_style": "success",
            "max": 1760,
            "_view_module": "@jupyter-widgets/controls",
            "_model_module_version": "1.5.0",
            "value": 1760,
            "_view_count": null,
            "_view_module_version": "1.5.0",
            "orientation": "horizontal",
            "min": 0,
            "description_tooltip": null,
            "_model_module": "@jupyter-widgets/controls",
            "layout": "IPY_MODEL_455a4608cddc40fcb47ef7eeb7aeed41"
          }
        },
        "1209a20abb5641a996d5883e8287b659": {
          "model_module": "@jupyter-widgets/controls",
          "model_name": "HTMLModel",
          "state": {
            "_view_name": "HTMLView",
            "style": "IPY_MODEL_9ae83a97ee524ed4857a8e7a4a3ff043",
            "_dom_classes": [],
            "description": "",
            "_model_name": "HTMLModel",
            "placeholder": "​",
            "_view_module": "@jupyter-widgets/controls",
            "_model_module_version": "1.5.0",
            "value": " 1760/1760 [00:09&lt;00:00, 188.99it/s]",
            "_view_count": null,
            "_view_module_version": "1.5.0",
            "description_tooltip": null,
            "_model_module": "@jupyter-widgets/controls",
            "layout": "IPY_MODEL_9ef8f38c603f4de3a70c41a8a09774ce"
          }
        },
        "308126800be64c409a65298299249514": {
          "model_module": "@jupyter-widgets/controls",
          "model_name": "ProgressStyleModel",
          "state": {
            "_view_name": "StyleView",
            "_model_name": "ProgressStyleModel",
            "description_width": "initial",
            "_view_module": "@jupyter-widgets/base",
            "_model_module_version": "1.5.0",
            "_view_count": null,
            "_view_module_version": "1.2.0",
            "bar_color": null,
            "_model_module": "@jupyter-widgets/controls"
          }
        },
        "455a4608cddc40fcb47ef7eeb7aeed41": {
          "model_module": "@jupyter-widgets/base",
          "model_name": "LayoutModel",
          "state": {
            "_view_name": "LayoutView",
            "grid_template_rows": null,
            "right": null,
            "justify_content": null,
            "_view_module": "@jupyter-widgets/base",
            "overflow": null,
            "_model_module_version": "1.2.0",
            "_view_count": null,
            "flex_flow": null,
            "width": null,
            "min_width": null,
            "border": null,
            "align_items": null,
            "bottom": null,
            "_model_module": "@jupyter-widgets/base",
            "top": null,
            "grid_column": null,
            "overflow_y": null,
            "overflow_x": null,
            "grid_auto_flow": null,
            "grid_area": null,
            "grid_template_columns": null,
            "flex": null,
            "_model_name": "LayoutModel",
            "justify_items": null,
            "grid_row": null,
            "max_height": null,
            "align_content": null,
            "visibility": null,
            "align_self": null,
            "height": null,
            "min_height": null,
            "padding": null,
            "grid_auto_rows": null,
            "grid_gap": null,
            "max_width": null,
            "order": null,
            "_view_module_version": "1.2.0",
            "grid_template_areas": null,
            "object_position": null,
            "object_fit": null,
            "grid_auto_columns": null,
            "margin": null,
            "display": null,
            "left": null
          }
        },
        "9ae83a97ee524ed4857a8e7a4a3ff043": {
          "model_module": "@jupyter-widgets/controls",
          "model_name": "DescriptionStyleModel",
          "state": {
            "_view_name": "StyleView",
            "_model_name": "DescriptionStyleModel",
            "description_width": "",
            "_view_module": "@jupyter-widgets/base",
            "_model_module_version": "1.5.0",
            "_view_count": null,
            "_view_module_version": "1.2.0",
            "_model_module": "@jupyter-widgets/controls"
          }
        },
        "9ef8f38c603f4de3a70c41a8a09774ce": {
          "model_module": "@jupyter-widgets/base",
          "model_name": "LayoutModel",
          "state": {
            "_view_name": "LayoutView",
            "grid_template_rows": null,
            "right": null,
            "justify_content": null,
            "_view_module": "@jupyter-widgets/base",
            "overflow": null,
            "_model_module_version": "1.2.0",
            "_view_count": null,
            "flex_flow": null,
            "width": null,
            "min_width": null,
            "border": null,
            "align_items": null,
            "bottom": null,
            "_model_module": "@jupyter-widgets/base",
            "top": null,
            "grid_column": null,
            "overflow_y": null,
            "overflow_x": null,
            "grid_auto_flow": null,
            "grid_area": null,
            "grid_template_columns": null,
            "flex": null,
            "_model_name": "LayoutModel",
            "justify_items": null,
            "grid_row": null,
            "max_height": null,
            "align_content": null,
            "visibility": null,
            "align_self": null,
            "height": null,
            "min_height": null,
            "padding": null,
            "grid_auto_rows": null,
            "grid_gap": null,
            "max_width": null,
            "order": null,
            "_view_module_version": "1.2.0",
            "grid_template_areas": null,
            "object_position": null,
            "object_fit": null,
            "grid_auto_columns": null,
            "margin": null,
            "display": null,
            "left": null
          }
        }
      }
    }
  },
  "cells": [
    {
      "cell_type": "markdown",
      "metadata": {
        "id": "view-in-github",
        "colab_type": "text"
      },
      "source": [
        "<a href=\"https://colab.research.google.com/github/marie-ganon/Projet-Python-S1/blob/main/Statistiques_descriptives.ipynb\" target=\"_parent\"><img src=\"https://colab.research.google.com/assets/colab-badge.svg\" alt=\"Open In Colab\"/></a>"
      ]
    },
    {
      "cell_type": "markdown",
      "metadata": {
        "id": "Fk-kjx4rmgqH"
      },
      "source": [
        "# Préliminaires"
      ]
    },
    {
      "cell_type": "code",
      "metadata": {
        "id": "soCt2kkQhluK"
      },
      "source": [
        "import numpy as np\n",
        "import pandas as pd\n",
        "import matplotlib.pyplot as plt\n",
        "import plotly.express as px\n",
        "from urllib import request\n",
        "from wordcloud import WordCloud, STOPWORDS \n",
        "import csv\n",
        "import bs4\n",
        "from tqdm.notebook import trange, tqdm\n",
        "import seaborn as sns\n",
        "import numpy as np"
      ],
      "execution_count": 3,
      "outputs": []
    },
    {
      "cell_type": "code",
      "metadata": {
        "id": "hUAE508zh1m9"
      },
      "source": [
        "import tempfile\n",
        "temp_dir = tempfile.mkdtemp()\n",
        "\n",
        "import zipfile\n",
        "\n",
        "with zipfile.ZipFile('base.csv.zip', 'r') as zip_ref:\n",
        "    zip_ref.extractall('temp_dir')\n",
        "\n",
        "df = pd.read_csv(r'temp_dir/base.csv', sep=',', low_memory = False)"
      ],
      "execution_count": null,
      "outputs": []
    },
    {
      "cell_type": "code",
      "metadata": {
        "id": "GwRYYG3amTht"
      },
      "source": [
        "df = pd.read_csv('base.csv')"
      ],
      "execution_count": 4,
      "outputs": []
    },
    {
      "cell_type": "markdown",
      "metadata": {
        "id": "n76kX7YKmjRQ"
      },
      "source": [
        "# Statistiques sur la variable *genre*"
      ]
    },
    {
      "cell_type": "markdown",
      "metadata": {
        "id": "ysRogT4Joq3o"
      },
      "source": [
        "On créé un data frame comportant tous les genres de films présents dans la base."
      ]
    },
    {
      "cell_type": "code",
      "metadata": {
        "colab": {
          "base_uri": "https://localhost:8080/",
          "height": 67,
          "referenced_widgets": [
            "92c323f65e17420a906b0033a2cb9f05",
            "61faa8fd0a4648ffbe695f0a1bd86bfb",
            "7289d89fe6f14157b272aa0402d25c3b",
            "af6bab93309b4116b9e01e8d93094068",
            "702032e7b2d745cb96590a254e3a0143",
            "efd1ffb9238a46418f4c6eb8e9586c25",
            "f9ec2ddad40844b69dad07aff83759eb",
            "4d0fe1a9d32549268bfa4515df383ad1"
          ]
        },
        "id": "nZsPzX-cn7Zf",
        "outputId": "c44fb70a-a404-49c7-a3bd-a0f2a8b46bba"
      },
      "source": [
        "l = []\n",
        "for i in trange(len(df)):\n",
        "    genre = str(df.genres[i]).split()\n",
        "    for j in genre :\n",
        "        l.append(j)\n",
        "\n",
        "      \n",
        "df_genre = pd.DataFrame(l, columns=['genre'])\n"
      ],
      "execution_count": 16,
      "outputs": [
        {
          "output_type": "display_data",
          "data": {
            "application/vnd.jupyter.widget-view+json": {
              "model_id": "92c323f65e17420a906b0033a2cb9f05",
              "version_minor": 0,
              "version_major": 2
            },
            "text/plain": [
              "HBox(children=(FloatProgress(value=0.0, max=45466.0), HTML(value='')))"
            ]
          },
          "metadata": {
            "tags": []
          }
        },
        {
          "output_type": "stream",
          "text": [
            "\n"
          ],
          "name": "stdout"
        }
      ]
    },
    {
      "cell_type": "code",
      "metadata": {
        "colab": {
          "base_uri": "https://localhost:8080/",
          "height": 421
        },
        "id": "twBa8eBmm372",
        "outputId": "9dbce974-e57a-4922-9d94-70a959e9ed6e"
      },
      "source": [
        "df_genre.genre = df_genre.genre.str.replace(r',', '')\n",
        "fig, ax = plt.subplots(figsize=(12,6))\n",
        "sns.countplot(y = df_genre.genre, order = df_genre['genre'].value_counts().index)\n",
        "plt.title('Occurrences des genres sur la base complète')"
      ],
      "execution_count": 17,
      "outputs": [
        {
          "output_type": "execute_result",
          "data": {
            "text/plain": [
              "Text(0.5, 1.0, 'Occurrences des genres sur la base complète')"
            ]
          },
          "metadata": {
            "tags": []
          },
          "execution_count": 17
        },
        {
          "output_type": "display_data",
          "data": {
            "image/png": "[encoded data removed]",
            "text/plain": [
              "<Figure size 864x432 with 1 Axes>"
            ]
          },
          "metadata": {
            "tags": [],
            "needs_background": "light"
          }
        }
      ]
    },
    {
      "cell_type": "markdown",
      "metadata": {
        "id": "fOn4vn1VVy9r"
      },
      "source": [
        "Le graphique ci-dessus nous informe que les deux genres les plus représentés dans la base sont les comédies et les drames. Ce résultat est assez logique car ces types de films sont souvent donnés en complément d'un autre genre. A présent, étudions les films les mieux classés."
      ]
    },
    {
      "cell_type": "code",
      "metadata": {
        "colab": {
          "base_uri": "https://localhost:8080/"
        },
        "id": "KlgUb9Lg71E9",
        "outputId": "c73b8ce8-a31d-416b-fef1-cd025fe8ad8f"
      },
      "source": [
        "df.vote_count"
      ],
      "execution_count": null,
      "outputs": [
        {
          "output_type": "execute_result",
          "data": {
            "text/plain": [
              "0        5415.0\n",
              "1        2413.0\n",
              "2          92.0\n",
              "3          34.0\n",
              "4         173.0\n",
              "          ...  \n",
              "45461       1.0\n",
              "45462       3.0\n",
              "45463       6.0\n",
              "45464       0.0\n",
              "45465       0.0\n",
              "Name: vote_count, Length: 45466, dtype: float64"
            ]
          },
          "metadata": {
            "tags": []
          },
          "execution_count": 99
        }
      ]
    },
    {
      "cell_type": "markdown",
      "metadata": {
        "id": "Nip1TppO89Mo"
      },
      "source": [
        "En regardant de plus près la variable *vote_count*, nous constatons que certains films comportent moins de 10 évaluations. Par conséquent, afin d'avoir une analyse plus fine de la base, nous allons étudier les genres les plus représentés sur les films les mieux notés selon le classement imdb, sous contrainte que suffisamment de personnes les aient évalués (plus de 100).\n",
        "\n",
        "On construit donc \"best movies\" correspondant aux films ayant été notés par plus de 100 personnes et ayant une note supérieure à 7.0 qu'on compare à l'ensemble des films ayant été notés par plus de 100 personnes. "
      ]
    },
    {
      "cell_type": "code",
      "metadata": {
        "colab": {
          "base_uri": "https://localhost:8080/"
        },
        "id": "jWZCl-vW-B4Q",
        "scrolled": true,
        "outputId": "67c990db-c91c-4394-a60f-d4ad9a3847bd"
      },
      "source": [
        "df_classement =df[df.vote_count>100].sort_values(by='vote_average', ascending = False)     # on filtre sur les films qui ont été notés au moins 100 fois\n",
        "df_best_movies = df_classement[df_classement.genres != '']    # on filtre sur les films pour lesquels le genre est renseigné\n",
        "df_best_movies = df_best_movies[df.vote_average >= 7.0]      # on filtre sur les \"meilleurs films\" ie avec un score supérieur à 7\n",
        "df_best_movies.reset_index(drop = True)\n",
        "print('La base contient',len(df_best_movies),'films très bien notés (>= 7.0)')"
      ],
      "execution_count": 18,
      "outputs": [
        {
          "output_type": "stream",
          "text": [
            "La base contient 1760 films très bien notés (>= 7.0)\n"
          ],
          "name": "stdout"
        },
        {
          "output_type": "stream",
          "text": [
            "/usr/local/lib/python3.6/dist-packages/ipykernel_launcher.py:3: UserWarning:\n",
            "\n",
            "Boolean Series key will be reindexed to match DataFrame index.\n",
            "\n"
          ],
          "name": "stderr"
        }
      ]
    },
    {
      "cell_type": "code",
      "metadata": {
        "colab": {
          "base_uri": "https://localhost:8080/",
          "height": 84,
          "referenced_widgets": [
            "6597a29e7f39439b9a0541bdd6749a3a",
            "bd19dd5a2c5f4ac5bd2ef8e534a658d3",
            "570ecd5ef35d42d1898beeb8fd72dccb",
            "1209a20abb5641a996d5883e8287b659",
            "308126800be64c409a65298299249514",
            "455a4608cddc40fcb47ef7eeb7aeed41",
            "9ae83a97ee524ed4857a8e7a4a3ff043",
            "9ef8f38c603f4de3a70c41a8a09774ce"
          ]
        },
        "id": "H82X1SMu-wrM",
        "outputId": "bad41c3e-6983-4600-868b-c80a74acc9e5"
      },
      "source": [
        "l = []\n",
        "for i in trange(len(df_best_movies)):\n",
        "    if type(df_best_movies.genres.iloc[i]) == str :\n",
        "        bm_genre = df_best_movies.genres.iloc[i].split()\n",
        "        for i in bm_genre :\n",
        "            l.append(i)\n",
        "print(len(l))\n",
        "df_bm_genre = pd.DataFrame(l, columns=['genre'])\n",
        "df_bm_genre.genre = df_bm_genre.genre.str.replace(r',', '')\n",
        "df_bm_genre['best_movies']=['Best movies' for i in range(len(df_bm_genre))]\n",
        "\n",
        "df_genre['best_movies']=['All movies' for i in range(len(df_genre))]"
      ],
      "execution_count": 19,
      "outputs": [
        {
          "output_type": "display_data",
          "data": {
            "application/vnd.jupyter.widget-view+json": {
              "model_id": "6597a29e7f39439b9a0541bdd6749a3a",
              "version_minor": 0,
              "version_major": 2
            },
            "text/plain": [
              "HBox(children=(FloatProgress(value=0.0, max=1760.0), HTML(value='')))"
            ]
          },
          "metadata": {
            "tags": []
          }
        },
        {
          "output_type": "stream",
          "text": [
            "\n",
            "4303\n"
          ],
          "name": "stdout"
        }
      ]
    },
    {
      "cell_type": "code",
      "metadata": {
        "colab": {
          "base_uri": "https://localhost:8080/",
          "height": 202
        },
        "id": "wwCAmb8sGQoJ",
        "scrolled": false,
        "outputId": "41b65d66-3aca-4b03-b2a4-01138d9673f4"
      },
      "source": [
        "df_compare_genres = df_genre.append(df_bm_genre)\n",
        "\n",
        "df_compare_genres.head()\n"
      ],
      "execution_count": 20,
      "outputs": [
        {
          "output_type": "execute_result",
          "data": {
            "text/html": [
              "<div>\n",
              "<style scoped>\n",
              "    .dataframe tbody tr th:only-of-type {\n",
              "        vertical-align: middle;\n",
              "    }\n",
              "\n",
              "    .dataframe tbody tr th {\n",
              "        vertical-align: top;\n",
              "    }\n",
              "\n",
              "    .dataframe thead th {\n",
              "        text-align: right;\n",
              "    }\n",
              "</style>\n",
              "<table border=\"1\" class=\"dataframe\">\n",
              "  <thead>\n",
              "    <tr style=\"text-align: right;\">\n",
              "      <th></th>\n",
              "      <th>genre</th>\n",
              "      <th>best_movies</th>\n",
              "    </tr>\n",
              "  </thead>\n",
              "  <tbody>\n",
              "    <tr>\n",
              "      <th>0</th>\n",
              "      <td>Animation</td>\n",
              "      <td>All movies</td>\n",
              "    </tr>\n",
              "    <tr>\n",
              "      <th>1</th>\n",
              "      <td>Comedy</td>\n",
              "      <td>All movies</td>\n",
              "    </tr>\n",
              "    <tr>\n",
              "      <th>2</th>\n",
              "      <td>Family</td>\n",
              "      <td>All movies</td>\n",
              "    </tr>\n",
              "    <tr>\n",
              "      <th>3</th>\n",
              "      <td>Adventure</td>\n",
              "      <td>All movies</td>\n",
              "    </tr>\n",
              "    <tr>\n",
              "      <th>4</th>\n",
              "      <td>Fantasy</td>\n",
              "      <td>All movies</td>\n",
              "    </tr>\n",
              "  </tbody>\n",
              "</table>\n",
              "</div>"
            ],
            "text/plain": [
              "       genre best_movies\n",
              "0  Animation  All movies\n",
              "1     Comedy  All movies\n",
              "2     Family  All movies\n",
              "3  Adventure  All movies\n",
              "4    Fantasy  All movies"
            ]
          },
          "metadata": {
            "tags": []
          },
          "execution_count": 20
        }
      ]
    },
    {
      "cell_type": "code",
      "metadata": {
        "colab": {
          "base_uri": "https://localhost:8080/",
          "height": 551
        },
        "id": "p6bwBIJSGQoL",
        "outputId": "5b97c1e3-ccaa-4cb0-e5c8-0d6abf044ac0"
      },
      "source": [
        "fig, ax = plt.subplots(figsize=(15,8))\n",
        "sns.countplot(x='genre', hue='best_movies', data=df_compare_genres, order=df_genre.genre.value_counts(normalize=True).index)\n",
        "\n",
        "plt.title('Occurrences des genres des films les mieux notés vs occurrences de tous les genres ')"
      ],
      "execution_count": 21,
      "outputs": [
        {
          "output_type": "execute_result",
          "data": {
            "text/plain": [
              "Text(0.5, 1.0, 'Occurrences des genres des films les mieux notés vs occurrences de tous les genres ')"
            ]
          },
          "metadata": {
            "tags": []
          },
          "execution_count": 21
        },
        {
          "output_type": "display_data",
          "data": {
            "image/png": "[encoded data removed]",
            "text/plain": [
              "<Figure size 1080x576 with 1 Axes>"
            ]
          },
          "metadata": {
            "tags": [],
            "needs_background": "light"
          }
        }
      ]
    },
    {
      "cell_type": "markdown",
      "metadata": {
        "id": "I4O3AQJDGQoO"
      },
      "source": [
        "Un plot des observations des genres des films les mieux notés contre ceux de tous les films ne nous permet pas de conclure. On normalise donc tout cela pour faire apparaître la fréquence d'apparition des genres pour l'ensemble des films et pour les films les mieux notés. "
      ]
    },
    {
      "cell_type": "code",
      "metadata": {
        "colab": {
          "base_uri": "https://localhost:8080/",
          "height": 510
        },
        "id": "wNV3leSGGQoO",
        "outputId": "c07d8013-c3c1-4a38-fab9-53ecf18b77da"
      },
      "source": [
        "fig, ax = plt.subplots(figsize=(15,8))\n",
        "x, y, hue = \"genre\", \"proportion\", \"best_movies\"\n",
        "(df_compare_genres[x].groupby(df_compare_genres[hue]).value_counts(normalize=True).rename(y).reset_index().pipe((sns.barplot, \"data\"), x=x, y=y, hue=hue))\n",
        "\n",
        "plt.title('Proportion des genres dans les films les mieux notés et dans tous les films')\n"
      ],
      "execution_count": 22,
      "outputs": [
        {
          "output_type": "execute_result",
          "data": {
            "text/plain": [
              "Text(0.5, 1.0, 'Proportion des genres dans les films les mieux notés et dans tous les films')"
            ]
          },
          "metadata": {
            "tags": []
          },
          "execution_count": 22
        },
        {
          "output_type": "display_data",
          "data": {
            "image/png": "[encoded data removed]",
            "text/plain": [
              "<Figure size 1080x576 with 1 Axes>"
            ]
          },
          "metadata": {
            "tags": [],
            "needs_background": "light"
          }
        }
      ]
    },
    {
      "cell_type": "code",
      "metadata": {
        "colab": {
          "base_uri": "https://localhost:8080/",
          "height": 847
        },
        "id": "gBtr56UHGQoP",
        "outputId": "efab70d8-6421-4b13-ae8d-65f4b3401731"
      },
      "source": [
        "fig, (ax_1, ax_2) = plt.subplots(2, figsize=(15,15))\n",
        "sns.countplot(x = df_bm_genre.genre, order = df_bm_genre.genre.value_counts().index, ax = ax_1)\n",
        "sns.countplot(x = df_genre.genre, order = df_bm_genre.genre.value_counts().index,ax=ax_2)\n",
        "ax_1.title.set_text(\"Nombre d'occurrence par genre pour les meilleurs films\")\n",
        "ax_2.title.set_text(\"Nombre d'occurrence par genre pour tous les films\")"
      ],
      "execution_count": null,
      "outputs": [
        {
          "output_type": "display_data",
          "data": {
            "image/png": "[encoded data removed]",
            "text/plain": [
              "<Figure size 1080x1080 with 2 Axes>"
            ]
          },
          "metadata": {
            "tags": [],
            "needs_background": "light"
          }
        }
      ]
    },
    {
      "cell_type": "markdown",
      "metadata": {
        "id": "9kM-xoNGNmIB"
      },
      "source": [
        "Nous remarquons que la tendance est sensiblement la même. En effet, avec environ plus de 18 000 films dramatiques, il est assez normal de trouver un bon nombre de films bien notés dans cet ensemble.\n",
        "\n",
        "Toutefois, on constate que bien que certains genres de films soient très présents dans la base, ils peuvent apparaître moins souvent dans le classement des meilleurs films. \n",
        "\n",
        "En effet, alors que le genre Romance était le 3ème genre le plus présent, ici nous remarquons qu'il apparaît beaucoup plus loin dans le classement des genres les plus représentés dans les films les mieux notés (6e position). A l'inverse, le genre Crime est le 4 ème genre le plus représenté dans l'échantillon, et gagne alors 2 places par rapport à son classement dans l'échantillon initial."
      ]
    },
    {
      "cell_type": "markdown",
      "metadata": {
        "id": "t-fTjQ-4Rowa"
      },
      "source": [
        "# Statistiques sur le budget"
      ]
    },
    {
      "cell_type": "markdown",
      "metadata": {
        "id": "WAPOY99gRowb"
      },
      "source": [
        "Une simple recherche internet nous informe que les budgets les plus petits dans la conception d'un film (appelés films \"micro-budgets\") s'élèvent à quelques milliers de dollars. On peut regarder la distribution des films micro-budgets."
      ]
    },
    {
      "cell_type": "code",
      "metadata": {
        "colab": {
          "base_uri": "https://localhost:8080/"
        },
        "id": "tiiX4dByRowb",
        "outputId": "5e55bda6-dc0f-4bff-81e9-1c5bfc440b8f"
      },
      "source": [
        "len(df.budget[df.budget == 0])/len(df.budget)*100"
      ],
      "execution_count": 30,
      "outputs": [
        {
          "output_type": "execute_result",
          "data": {
            "text/plain": [
              "80.44032903708266"
            ]
          },
          "metadata": {
            "tags": []
          },
          "execution_count": 30
        }
      ]
    },
    {
      "cell_type": "code",
      "metadata": {
        "colab": {
          "base_uri": "https://localhost:8080/"
        },
        "id": "FjGEW0ggRowc",
        "scrolled": true,
        "outputId": "bde9c04f-1f29-4620-9b93-2f258f57c17c"
      },
      "source": [
        "df.budget[df.budget < 10000].describe()"
      ],
      "execution_count": 31,
      "outputs": [
        {
          "output_type": "execute_result",
          "data": {
            "text/plain": [
              "count    36873.000000\n",
              "mean         8.133784\n",
              "std        201.490942\n",
              "min          0.000000\n",
              "25%          0.000000\n",
              "50%          0.000000\n",
              "75%          0.000000\n",
              "max       9500.000000\n",
              "Name: budget, dtype: float64"
            ]
          },
          "metadata": {
            "tags": []
          },
          "execution_count": 31
        }
      ]
    },
    {
      "cell_type": "markdown",
      "metadata": {
        "id": "njyjPksCrA3-"
      },
      "source": [
        "Ainsi, en moyenne, les films micro-budgets (budget inférieur à 10000 dollars) ont eu 8 dollars de budget."
      ]
    },
    {
      "cell_type": "code",
      "metadata": {
        "colab": {
          "base_uri": "https://localhost:8080/",
          "height": 427
        },
        "id": "MOapgzUYRowg",
        "scrolled": true,
        "outputId": "cc3f27aa-dc51-4f51-ccc4-0d7290cbff76"
      },
      "source": [
        "fig, ax = plt.subplots(figsize=(12,6))\n",
        "df.budget[df.budget < 10000].hist()\n",
        "plt.title('Histogramme des films à budgets inférieurs à 10 000 dollars (microfilms)')\n",
        "\n",
        "print('Pourcentage de microfilms (budget inférieur à 10000 dollars) à budget inférieurs à 1000 dollars : ', (len(df.budget[df.budget < 1000])/len(df.budget[df.budget < 10000]))*100,'%')"
      ],
      "execution_count": 32,
      "outputs": [
        {
          "output_type": "stream",
          "text": [
            "Pourcentage de microfilms (budget inférieur à 10000 dollars) à budget inférieurs à 1000 dollars :  99.85083936755892 %\n"
          ],
          "name": "stdout"
        },
        {
          "output_type": "display_data",
          "data": {
            "image/png": "[encoded data removed]",
            "text/plain": [
              "<Figure size 864x432 with 1 Axes>"
            ]
          },
          "metadata": {
            "tags": [],
            "needs_background": "light"
          }
        }
      ]
    },
    {
      "cell_type": "markdown",
      "metadata": {
        "id": "ki_SaGiWRowk"
      },
      "source": [
        "Au sein des microfilms, on compte 99.85% de films à budget inférieur à 1000 euros. Ce nombre est de fait assez suspect, on peut imaginer que la base contient des 0 pour les valeurs de budget inconnues ainsi que la plupart des nombres entre 0 et 1000 dollars de production sont des outliers dûs à des erreurs de saisies. "
      ]
    },
    {
      "cell_type": "code",
      "metadata": {
        "colab": {
          "base_uri": "https://localhost:8080/",
          "height": 489
        },
        "id": "45yubEgtRowm",
        "scrolled": true,
        "outputId": "6a15b488-715a-4725-f935-2c7e92f51224"
      },
      "source": [
        "df_budget_ecrete = df.budget[df.budget > 10000]\n",
        "fig, ax = plt.subplots(figsize=(12,6))\n",
        "ax = sns.distplot(df_budget_ecrete)\n",
        "#ax.set_xscale('log')\n",
        "#ax.set_yscale('log')"
      ],
      "execution_count": 33,
      "outputs": [
        {
          "output_type": "stream",
          "text": [
            "/usr/local/lib/python3.6/dist-packages/seaborn/distributions.py:2551: FutureWarning:\n",
            "\n",
            "`distplot` is a deprecated function and will be removed in a future version. Please adapt your code to use either `displot` (a figure-level function with similar flexibility) or `histplot` (an axes-level function for histograms).\n",
            "\n"
          ],
          "name": "stderr"
        },
        {
          "output_type": "display_data",
          "data": {
            "image/png": "[encoded data removed]",
            "text/plain": [
              "<Figure size 864x432 with 1 Axes>"
            ]
          },
          "metadata": {
            "tags": [],
            "needs_background": "light"
          }
        }
      ]
    },
    {
      "cell_type": "code",
      "metadata": {
        "colab": {
          "base_uri": "https://localhost:8080/",
          "height": 473
        },
        "id": "-r8f4QDPRowp",
        "scrolled": true,
        "outputId": "2a0f30b8-d61d-46a5-8e00-a077252d2938"
      },
      "source": [
        "from scipy import stats\n",
        "import seaborn as sns\n",
        "fig, ax = plt.subplots(figsize=(12,6))\n",
        "stats.probplot(df_budget_ecrete, plot=sns.mpl.pyplot)"
      ],
      "execution_count": 34,
      "outputs": [
        {
          "output_type": "execute_result",
          "data": {
            "text/plain": [
              "((array([-3.77240845, -3.54511026, -3.42022122, ...,  3.42022122,\n",
              "          3.54511026,  3.77240845]),\n",
              "  array([1.04e+04, 1.10e+04, 1.10e+04, ..., 2.80e+08, 3.00e+08, 3.80e+08])),\n",
              " (27726595.027183253, 22400462.640541162, 0.7991918566608213))"
            ]
          },
          "metadata": {
            "tags": []
          },
          "execution_count": 34
        },
        {
          "output_type": "display_data",
          "data": {
            "image/png": "[encoded data removed]",
            "text/plain": [
              "<Figure size 864x432 with 1 Axes>"
            ]
          },
          "metadata": {
            "tags": [],
            "needs_background": "light"
          }
        }
      ]
    },
    {
      "cell_type": "markdown",
      "metadata": {
        "id": "aKzhdZN_Rowr"
      },
      "source": [
        "L'information sur le budget paraît peu exploitable du fait de la dispersion des données... Par conséquent, nous allons nous intéresser plus en détails aux revenus générés par le film."
      ]
    },
    {
      "cell_type": "markdown",
      "metadata": {
        "id": "z9ArtX46q5nS"
      },
      "source": [
        "# Statistiques sur les revenus"
      ]
    },
    {
      "cell_type": "markdown",
      "metadata": {
        "id": "6Tu3f1n-pCbp"
      },
      "source": [
        "Etudions tout d'abord la proportion de films n'ayant généré aucun revenu:"
      ]
    },
    {
      "cell_type": "code",
      "metadata": {
        "id": "o6iVMR9oRowv",
        "scrolled": true,
        "colab": {
          "base_uri": "https://localhost:8080/"
        },
        "outputId": "0441a12d-c085-4938-a598-d4f2fcbaae81"
      },
      "source": [
        "len(df.revenue[df.revenue == 0])/len(df.revenue)*100"
      ],
      "execution_count": 36,
      "outputs": [
        {
          "output_type": "execute_result",
          "data": {
            "text/plain": [
              "83.69330928605991"
            ]
          },
          "metadata": {
            "tags": []
          },
          "execution_count": 36
        }
      ]
    },
    {
      "cell_type": "markdown",
      "metadata": {
        "id": "9cETsKMrpg5x"
      },
      "source": [
        "Ainsi, plus de 83% des films de la base n'ont généré aucun revenu."
      ]
    },
    {
      "cell_type": "code",
      "metadata": {
        "id": "SRG_M_JdRowt",
        "colab": {
          "base_uri": "https://localhost:8080/",
          "height": 0
        },
        "outputId": "c19f94bc-4704-493d-eb18-3bfe7b50a162"
      },
      "source": [
        "df_revenue_ecrete = df.revenue[df.revenue > 10000]\n",
        "fig, ax = plt.subplots(figsize=(12,6))\n",
        "ax = sns.distplot(df_revenue_ecrete)\n",
        "#ax.set_xscale('log')\n",
        "#ax.set_yscale('log')"
      ],
      "execution_count": 37,
      "outputs": [
        {
          "output_type": "stream",
          "text": [
            "/usr/local/lib/python3.6/dist-packages/seaborn/distributions.py:2551: FutureWarning:\n",
            "\n",
            "`distplot` is a deprecated function and will be removed in a future version. Please adapt your code to use either `displot` (a figure-level function with similar flexibility) or `histplot` (an axes-level function for histograms).\n",
            "\n"
          ],
          "name": "stderr"
        },
        {
          "output_type": "display_data",
          "data": {
            "image/png": "[encoded data removed]",
            "text/plain": [
              "<Figure size 864x432 with 1 Axes>"
            ]
          },
          "metadata": {
            "tags": [],
            "needs_background": "light"
          }
        }
      ]
    },
    {
      "cell_type": "markdown",
      "metadata": {
        "id": "JrczEwHrsFlp"
      },
      "source": [
        "A travers ce graphique, on constate que la proportion de films à gros budget est très faible. De fait, nous ne pourrons pas non plus exploiter cette variable pour la modélisation. "
      ]
    }
  ]
}