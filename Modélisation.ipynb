{
  "nbformat": 4,
  "nbformat_minor": 0,
  "metadata": {
    "colab": {
      "name": "Modélisation",
      "provenance": [],
      "include_colab_link": true
    },
    "kernelspec": {
      "name": "python3",
      "display_name": "Python 3"
    }
  },
  "cells": [
    {
      "cell_type": "markdown",
      "metadata": {
        "id": "view-in-github",
        "colab_type": "text"
      },
      "source": [
        "<a href=\"https://colab.research.google.com/github/marie-ganon/Projet-Python-S1/blob/main/Mod%C3%A9lisation.ipynb\" target=\"_parent\"><img src=\"https://colab.research.google.com/assets/colab-badge.svg\" alt=\"Open In Colab\"/></a>"
      ]
    },
    {
      "cell_type": "markdown",
      "metadata": {
        "id": "lkmXRqzPQBXu"
      },
      "source": [
        "Avant de commencer à run ce notebook, il faut charger un certain nombre de fichiers : \n",
        "\n",
        "\n",
        "```\n",
        "- test_review.csv.zip\n",
        "- train_review.csv.zip\n",
        "- unsup_filtered_review.csv.zip\n",
        "```\n",
        "\n"
      ]
    },
    {
      "cell_type": "markdown",
      "metadata": {
        "id": "TqdSATRHHShd"
      },
      "source": [
        "**Introduction** \n",
        "\n",
        "Dans cette partie, nous nous intéressons à modéliser/prédire le \"succès\" d'un film selon le critère *score_1* construit dans les parties précédentes. \n",
        "\n",
        "Nous disposons pour cela d'un certain nombre d'indicateurs plus ou moins complets. Nous avons opté pour un modèle linéaire afin de représenter l'influence entre autres du budget, du revenu ou des sentiments des commentaires sur le score.\n",
        "\n",
        "Il s'agit donc d'améliorer le modèle en l'enrichissant notamment par une analyse sentiment pour déterminer les sentiments des commentaires dont on dispose dans les bases *test_review*, *train_review* et *unsup_filtered_review*. \n",
        "\n",
        "\n",
        "\n",
        "**Intégration continue**"
      ]
    },
    {
      "cell_type": "code",
      "metadata": {
        "id": "iu_CN_JlHWlD",
        "outputId": "5a38a235-9f88-4628-9824-1c350f4a787e",
        "colab": {
          "base_uri": "https://localhost:8080/",
          "height": 37
        }
      },
      "source": [
        "from IPython.display import Image\n",
        "try:\n",
        "    im = Image(\"https://travis-ci.org/sdpython/ensae_teaching_cs.png\")\n",
        "except TimeoutError:\n",
        "    im = None\n",
        "im"
      ],
      "execution_count": 1,
      "outputs": [
        {
          "output_type": "execute_result",
          "data": {
            "image/png": "[encoded data removed]",
            "text/plain": [
              "<IPython.core.display.Image object>"
            ]
          },
          "metadata": {
            "tags": []
          },
          "execution_count": 1
        }
      ]
    },
    {
      "cell_type": "markdown",
      "metadata": {
        "id": "Zct7fYd9IDeU"
      },
      "source": [
        "**Sommaire** "
      ]
    },
    {
      "cell_type": "markdown",
      "metadata": {
        "id": "SuWsgQ9JIGwS"
      },
      "source": [
        "1. Préparation des données\r\n",
        "  - Chargement des données\r\n",
        "  - Analyse de la matrice de corrélation\r\n",
        "  - Complétude des deux bases\r\n",
        "\r\n",
        "2. Régression linéaire de *score_1* sur *budget* et *revenue*\r\n",
        "  - Régression sur la base complète\r\n",
        "  - Régression sur la base tronquée\r\n",
        "  - Comparaison des deux régressions\r\n",
        "\r\n",
        "3. Analyse de sentiments\r\n",
        "  - Préparation des données\r\n",
        "  - Classificateur naïf bayésien \r\n",
        "  - Classificateur SVM\r\n",
        "\r\n",
        "4. Approfondissement de la régression linéaire\r\n",
        "  - Préparation des données\r\n",
        "  - Régression linéaire sur la base complète\r\n",
        "  - Régression linéaire sur la base tronquée\r\n",
        "  - Comparaison graphique des deux régressions\r\n",
        "  - Conclusion sur l'ajout de variables\r\n",
        "\r\n",
        "5. Ajout du semi-supervisé dans les commentaires\r\n",
        "  - Pseudo-labellisation\r\n",
        "  - Amélioration de la régression linéaire\r\n",
        "  - Visualisation\r\n",
        "\r\n"
      ]
    },
    {
      "cell_type": "markdown",
      "metadata": {
        "id": "e5RL1sD1QPb9"
      },
      "source": [
        "Import des modules nécessaires"
      ]
    },
    {
      "cell_type": "code",
      "metadata": {
        "id": "VhSzdGb1o4NV"
      },
      "source": [
        "import numpy as np\n",
        "import pandas as pd\n",
        "import matplotlib.pyplot as plt\n",
        "import plotly.express as px\n",
        "from urllib import request\n",
        "from wordcloud import WordCloud, STOPWORDS \n",
        "import csv\n",
        "import bs4\n",
        "from tqdm.notebook import trange, tqdm\n",
        "import seaborn as sns\n",
        "import numpy as np\n",
        "import random as rd"
      ],
      "execution_count": 2,
      "outputs": []
    },
    {
      "cell_type": "markdown",
      "metadata": {
        "id": "7rzwhEzkIIPj"
      },
      "source": [
        "# Préparation"
      ]
    },
    {
      "cell_type": "markdown",
      "metadata": {
        "id": "haG3mLatIPMP"
      },
      "source": [
        "## Chargement des données"
      ]
    },
    {
      "cell_type": "code",
      "metadata": {
        "id": "67siAA_8vW-W"
      },
      "source": [
        "rd.seed(42)"
      ],
      "execution_count": 3,
      "outputs": []
    },
    {
      "cell_type": "markdown",
      "metadata": {
        "id": "F1Q-XYZWNdoJ"
      },
      "source": [
        "Import des bases : \n",
        "- *df* contient la base TMDb\n",
        "- *train_review* contient la partie entraînée sur les reviews labellisés\n",
        "- *test_review* contient la partie test sur les reviews labellisés\n",
        "- *unsup_filtered_review* contient les reviews non labellisés filtrés sur les films contenus dans *df*\n",
        "\n"
      ]
    },
    {
      "cell_type": "code",
      "metadata": {
        "id": "m-b-E64IpT6l"
      },
      "source": [
        " df = pd.read_csv('https://raw.githubusercontent.com/marie-ganon/Projet-Python-S1/main/Bases_import%C3%A9es/base.csv')"
      ],
      "execution_count": 4,
      "outputs": []
    },
    {
      "cell_type": "markdown",
      "metadata": {
        "id": "kQVnDM9M1KsO"
      },
      "source": [
        "Avant de modéliser quoi que ce soit, nous allons supprimer les 'NaN' de la base de données."
      ]
    },
    {
      "cell_type": "code",
      "metadata": {
        "id": "rxaEYJJpyhUu"
      },
      "source": [
        "df = df.dropna()\r\n",
        "df = df.drop(columns='Unnamed: 0')"
      ],
      "execution_count": 5,
      "outputs": []
    },
    {
      "cell_type": "code",
      "metadata": {
        "id": "VSuRl-8hEkzk",
        "outputId": "c34a888a-eab0-463c-8046-074389589589",
        "colab": {
          "base_uri": "https://localhost:8080/"
        }
      },
      "source": [
        "!ls"
      ],
      "execution_count": 19,
      "outputs": [
        {
          "output_type": "stream",
          "text": [
            "sample_data  temp_dir  test_review.csv.zip  train_review.csv.zip\n"
          ],
          "name": "stdout"
        }
      ]
    },
    {
      "cell_type": "code",
      "metadata": {
        "id": "tfr3ENrPF-zT"
      },
      "source": [
        "# Fichier temporaire\r\n",
        "\r\n",
        "import tempfile\r\n",
        "\r\n",
        "temp_dir = tempfile.mkdtemp()"
      ],
      "execution_count": 20,
      "outputs": []
    },
    {
      "cell_type": "code",
      "metadata": {
        "id": "R8yAttJ9N8Ak"
      },
      "source": [
        "# Pour dezipper le csv disponible dans le git \n",
        "\n",
        "import zipfile\n",
        "\n",
        "# IMPORTER LES FICHIERS TEST_REVIEW.CSV.ZIP et TRAIN_REVIEW.CSV.ZIP\n",
        "with zipfile.ZipFile('test_review.csv.zip', 'r') as zip1, zipfile.ZipFile('train_review.csv.zip', 'r') as zip2 :\n",
        "    zip1.extractall('temp_dir')\n",
        "    zip2.extractall('temp_dir')"
      ],
      "execution_count": 21,
      "outputs": []
    },
    {
      "cell_type": "code",
      "metadata": {
        "id": "Q_Go9GCtGEfO"
      },
      "source": [
        "test_review = pd.read_csv(r'temp_dir/test_review .csv', sep=',', low_memory = False)\r\n",
        "train_review = pd.read_csv(r'temp_dir/train_review.csv', sep=',', low_memory = False)"
      ],
      "execution_count": 23,
      "outputs": []
    },
    {
      "cell_type": "markdown",
      "metadata": {
        "id": "E_3_HszvNg0s"
      },
      "source": [
        "## Analyse de la matrice de corrélation de *df*"
      ]
    },
    {
      "cell_type": "markdown",
      "metadata": {
        "id": "ufujyh3hu8HR"
      },
      "source": [
        "Rappelons la matrice de corrélation de la base :"
      ]
    },
    {
      "cell_type": "code",
      "metadata": {
        "id": "_xh2xAXwpiF3",
        "colab": {
          "base_uri": "https://localhost:8080/",
          "height": 0
        },
        "outputId": "dc47fa16-3c8d-405a-bd10-e7b6ca0d22e5"
      },
      "source": [
        "corr = df.corr()\n",
        "corr.style.background_gradient(cmap = 'coolwarm')"
      ],
      "execution_count": 24,
      "outputs": [
        {
          "output_type": "execute_result",
          "data": {
            "text/html": [
              "<style  type=\"text/css\" >\n",
              "#T_187de2fa_3e2a_11eb_877d_0242ac1c0002row0_col0,#T_187de2fa_3e2a_11eb_877d_0242ac1c0002row1_col1,#T_187de2fa_3e2a_11eb_877d_0242ac1c0002row2_col2,#T_187de2fa_3e2a_11eb_877d_0242ac1c0002row3_col3,#T_187de2fa_3e2a_11eb_877d_0242ac1c0002row4_col4,#T_187de2fa_3e2a_11eb_877d_0242ac1c0002row5_col5,#T_187de2fa_3e2a_11eb_877d_0242ac1c0002row6_col6,#T_187de2fa_3e2a_11eb_877d_0242ac1c0002row7_col7,#T_187de2fa_3e2a_11eb_877d_0242ac1c0002row8_col8,#T_187de2fa_3e2a_11eb_877d_0242ac1c0002row9_col9,#T_187de2fa_3e2a_11eb_877d_0242ac1c0002row10_col10,#T_187de2fa_3e2a_11eb_877d_0242ac1c0002row11_col11{\n",
              "            background-color:  #b40426;\n",
              "            color:  #f1f1f1;\n",
              "        }#T_187de2fa_3e2a_11eb_877d_0242ac1c0002row0_col1,#T_187de2fa_3e2a_11eb_877d_0242ac1c0002row2_col11{\n",
              "            background-color:  #465ecf;\n",
              "            color:  #f1f1f1;\n",
              "        }#T_187de2fa_3e2a_11eb_877d_0242ac1c0002row0_col2{\n",
              "            background-color:  #f6a283;\n",
              "            color:  #000000;\n",
              "        }#T_187de2fa_3e2a_11eb_877d_0242ac1c0002row0_col3{\n",
              "            background-color:  #4257c9;\n",
              "            color:  #f1f1f1;\n",
              "        }#T_187de2fa_3e2a_11eb_877d_0242ac1c0002row0_col4,#T_187de2fa_3e2a_11eb_877d_0242ac1c0002row6_col2{\n",
              "            background-color:  #455cce;\n",
              "            color:  #f1f1f1;\n",
              "        }#T_187de2fa_3e2a_11eb_877d_0242ac1c0002row0_col5,#T_187de2fa_3e2a_11eb_877d_0242ac1c0002row0_col6,#T_187de2fa_3e2a_11eb_877d_0242ac1c0002row2_col8,#T_187de2fa_3e2a_11eb_877d_0242ac1c0002row6_col0,#T_187de2fa_3e2a_11eb_877d_0242ac1c0002row10_col1,#T_187de2fa_3e2a_11eb_877d_0242ac1c0002row10_col3,#T_187de2fa_3e2a_11eb_877d_0242ac1c0002row10_col4,#T_187de2fa_3e2a_11eb_877d_0242ac1c0002row10_col7,#T_187de2fa_3e2a_11eb_877d_0242ac1c0002row10_col9,#T_187de2fa_3e2a_11eb_877d_0242ac1c0002row10_col11,#T_187de2fa_3e2a_11eb_877d_0242ac1c0002row11_col2,#T_187de2fa_3e2a_11eb_877d_0242ac1c0002row11_col10{\n",
              "            background-color:  #3b4cc0;\n",
              "            color:  #f1f1f1;\n",
              "        }#T_187de2fa_3e2a_11eb_877d_0242ac1c0002row0_col7,#T_187de2fa_3e2a_11eb_877d_0242ac1c0002row2_col4,#T_187de2fa_3e2a_11eb_877d_0242ac1c0002row5_col0,#T_187de2fa_3e2a_11eb_877d_0242ac1c0002row10_col5{\n",
              "            background-color:  #4b64d5;\n",
              "            color:  #f1f1f1;\n",
              "        }#T_187de2fa_3e2a_11eb_877d_0242ac1c0002row0_col8{\n",
              "            background-color:  #3f53c6;\n",
              "            color:  #f1f1f1;\n",
              "        }#T_187de2fa_3e2a_11eb_877d_0242ac1c0002row0_col9{\n",
              "            background-color:  #4961d2;\n",
              "            color:  #f1f1f1;\n",
              "        }#T_187de2fa_3e2a_11eb_877d_0242ac1c0002row0_col10{\n",
              "            background-color:  #d2dbe8;\n",
              "            color:  #000000;\n",
              "        }#T_187de2fa_3e2a_11eb_877d_0242ac1c0002row0_col11{\n",
              "            background-color:  #3c4ec2;\n",
              "            color:  #f1f1f1;\n",
              "        }#T_187de2fa_3e2a_11eb_877d_0242ac1c0002row1_col0,#T_187de2fa_3e2a_11eb_877d_0242ac1c0002row3_col0{\n",
              "            background-color:  #5a78e4;\n",
              "            color:  #000000;\n",
              "        }#T_187de2fa_3e2a_11eb_877d_0242ac1c0002row1_col2,#T_187de2fa_3e2a_11eb_877d_0242ac1c0002row5_col2,#T_187de2fa_3e2a_11eb_877d_0242ac1c0002row7_col10{\n",
              "            background-color:  #5470de;\n",
              "            color:  #000000;\n",
              "        }#T_187de2fa_3e2a_11eb_877d_0242ac1c0002row1_col3{\n",
              "            background-color:  #d9dce1;\n",
              "            color:  #000000;\n",
              "        }#T_187de2fa_3e2a_11eb_877d_0242ac1c0002row1_col4{\n",
              "            background-color:  #ef886b;\n",
              "            color:  #000000;\n",
              "        }#T_187de2fa_3e2a_11eb_877d_0242ac1c0002row1_col5,#T_187de2fa_3e2a_11eb_877d_0242ac1c0002row8_col7{\n",
              "            background-color:  #abc8fd;\n",
              "            color:  #000000;\n",
              "        }#T_187de2fa_3e2a_11eb_877d_0242ac1c0002row1_col6,#T_187de2fa_3e2a_11eb_877d_0242ac1c0002row3_col8,#T_187de2fa_3e2a_11eb_877d_0242ac1c0002row5_col4{\n",
              "            background-color:  #96b7ff;\n",
              "            color:  #000000;\n",
              "        }#T_187de2fa_3e2a_11eb_877d_0242ac1c0002row1_col7{\n",
              "            background-color:  #f7aa8c;\n",
              "            color:  #000000;\n",
              "        }#T_187de2fa_3e2a_11eb_877d_0242ac1c0002row1_col8,#T_187de2fa_3e2a_11eb_877d_0242ac1c0002row6_col7{\n",
              "            background-color:  #9ebeff;\n",
              "            color:  #000000;\n",
              "        }#T_187de2fa_3e2a_11eb_877d_0242ac1c0002row1_col9{\n",
              "            background-color:  #f7b89c;\n",
              "            color:  #000000;\n",
              "        }#T_187de2fa_3e2a_11eb_877d_0242ac1c0002row1_col10,#T_187de2fa_3e2a_11eb_877d_0242ac1c0002row2_col1{\n",
              "            background-color:  #4e68d8;\n",
              "            color:  #000000;\n",
              "        }#T_187de2fa_3e2a_11eb_877d_0242ac1c0002row1_col11,#T_187de2fa_3e2a_11eb_877d_0242ac1c0002row6_col3,#T_187de2fa_3e2a_11eb_877d_0242ac1c0002row8_col3{\n",
              "            background-color:  #9abbff;\n",
              "            color:  #000000;\n",
              "        }#T_187de2fa_3e2a_11eb_877d_0242ac1c0002row2_col0{\n",
              "            background-color:  #f59d7e;\n",
              "            color:  #000000;\n",
              "        }#T_187de2fa_3e2a_11eb_877d_0242ac1c0002row2_col3,#T_187de2fa_3e2a_11eb_877d_0242ac1c0002row8_col0,#T_187de2fa_3e2a_11eb_877d_0242ac1c0002row8_col10{\n",
              "            background-color:  #5d7ce6;\n",
              "            color:  #000000;\n",
              "        }#T_187de2fa_3e2a_11eb_877d_0242ac1c0002row2_col5{\n",
              "            background-color:  #506bda;\n",
              "            color:  #000000;\n",
              "        }#T_187de2fa_3e2a_11eb_877d_0242ac1c0002row2_col6,#T_187de2fa_3e2a_11eb_877d_0242ac1c0002row2_col9{\n",
              "            background-color:  #536edd;\n",
              "            color:  #000000;\n",
              "        }#T_187de2fa_3e2a_11eb_877d_0242ac1c0002row2_col7{\n",
              "            background-color:  #5572df;\n",
              "            color:  #000000;\n",
              "        }#T_187de2fa_3e2a_11eb_877d_0242ac1c0002row2_col10{\n",
              "            background-color:  #dadce0;\n",
              "            color:  #000000;\n",
              "        }#T_187de2fa_3e2a_11eb_877d_0242ac1c0002row3_col1{\n",
              "            background-color:  #dbdcde;\n",
              "            color:  #000000;\n",
              "        }#T_187de2fa_3e2a_11eb_877d_0242ac1c0002row3_col2{\n",
              "            background-color:  #688aef;\n",
              "            color:  #000000;\n",
              "        }#T_187de2fa_3e2a_11eb_877d_0242ac1c0002row3_col4{\n",
              "            background-color:  #ead5c9;\n",
              "            color:  #000000;\n",
              "        }#T_187de2fa_3e2a_11eb_877d_0242ac1c0002row3_col5{\n",
              "            background-color:  #98b9ff;\n",
              "            color:  #000000;\n",
              "        }#T_187de2fa_3e2a_11eb_877d_0242ac1c0002row3_col6{\n",
              "            background-color:  #aec9fc;\n",
              "            color:  #000000;\n",
              "        }#T_187de2fa_3e2a_11eb_877d_0242ac1c0002row3_col7,#T_187de2fa_3e2a_11eb_877d_0242ac1c0002row7_col3{\n",
              "            background-color:  #f2cbb7;\n",
              "            color:  #000000;\n",
              "        }#T_187de2fa_3e2a_11eb_877d_0242ac1c0002row3_col9{\n",
              "            background-color:  #f0cdbb;\n",
              "            color:  #000000;\n",
              "        }#T_187de2fa_3e2a_11eb_877d_0242ac1c0002row3_col10{\n",
              "            background-color:  #516ddb;\n",
              "            color:  #000000;\n",
              "        }#T_187de2fa_3e2a_11eb_877d_0242ac1c0002row3_col11,#T_187de2fa_3e2a_11eb_877d_0242ac1c0002row6_col4,#T_187de2fa_3e2a_11eb_877d_0242ac1c0002row6_col11,#T_187de2fa_3e2a_11eb_877d_0242ac1c0002row11_col6{\n",
              "            background-color:  #86a9fc;\n",
              "            color:  #000000;\n",
              "        }#T_187de2fa_3e2a_11eb_877d_0242ac1c0002row4_col0,#T_187de2fa_3e2a_11eb_877d_0242ac1c0002row6_col8,#T_187de2fa_3e2a_11eb_877d_0242ac1c0002row9_col2{\n",
              "            background-color:  #6282ea;\n",
              "            color:  #000000;\n",
              "        }#T_187de2fa_3e2a_11eb_877d_0242ac1c0002row4_col1{\n",
              "            background-color:  #ee8468;\n",
              "            color:  #000000;\n",
              "        }#T_187de2fa_3e2a_11eb_877d_0242ac1c0002row4_col2,#T_187de2fa_3e2a_11eb_877d_0242ac1c0002row5_col10{\n",
              "            background-color:  #5b7ae5;\n",
              "            color:  #000000;\n",
              "        }#T_187de2fa_3e2a_11eb_877d_0242ac1c0002row4_col3{\n",
              "            background-color:  #ead4c8;\n",
              "            color:  #000000;\n",
              "        }#T_187de2fa_3e2a_11eb_877d_0242ac1c0002row4_col5,#T_187de2fa_3e2a_11eb_877d_0242ac1c0002row4_col6,#T_187de2fa_3e2a_11eb_877d_0242ac1c0002row6_col9{\n",
              "            background-color:  #9fbfff;\n",
              "            color:  #000000;\n",
              "        }#T_187de2fa_3e2a_11eb_877d_0242ac1c0002row4_col7{\n",
              "            background-color:  #e8765c;\n",
              "            color:  #000000;\n",
              "        }#T_187de2fa_3e2a_11eb_877d_0242ac1c0002row4_col8{\n",
              "            background-color:  #b3cdfb;\n",
              "            color:  #000000;\n",
              "        }#T_187de2fa_3e2a_11eb_877d_0242ac1c0002row4_col9,#T_187de2fa_3e2a_11eb_877d_0242ac1c0002row9_col4{\n",
              "            background-color:  #ec8165;\n",
              "            color:  #000000;\n",
              "        }#T_187de2fa_3e2a_11eb_877d_0242ac1c0002row4_col10,#T_187de2fa_3e2a_11eb_877d_0242ac1c0002row9_col10{\n",
              "            background-color:  #5673e0;\n",
              "            color:  #000000;\n",
              "        }#T_187de2fa_3e2a_11eb_877d_0242ac1c0002row4_col11{\n",
              "            background-color:  #97b8ff;\n",
              "            color:  #000000;\n",
              "        }#T_187de2fa_3e2a_11eb_877d_0242ac1c0002row5_col1{\n",
              "            background-color:  #aac7fd;\n",
              "            color:  #000000;\n",
              "        }#T_187de2fa_3e2a_11eb_877d_0242ac1c0002row5_col3{\n",
              "            background-color:  #93b5fe;\n",
              "            color:  #000000;\n",
              "        }#T_187de2fa_3e2a_11eb_877d_0242ac1c0002row5_col6{\n",
              "            background-color:  #bad0f8;\n",
              "            color:  #000000;\n",
              "        }#T_187de2fa_3e2a_11eb_877d_0242ac1c0002row5_col7{\n",
              "            background-color:  #9dbdff;\n",
              "            color:  #000000;\n",
              "        }#T_187de2fa_3e2a_11eb_877d_0242ac1c0002row5_col8{\n",
              "            background-color:  #5875e1;\n",
              "            color:  #000000;\n",
              "        }#T_187de2fa_3e2a_11eb_877d_0242ac1c0002row5_col9{\n",
              "            background-color:  #9bbcff;\n",
              "            color:  #000000;\n",
              "        }#T_187de2fa_3e2a_11eb_877d_0242ac1c0002row5_col11{\n",
              "            background-color:  #8caffe;\n",
              "            color:  #000000;\n",
              "        }#T_187de2fa_3e2a_11eb_877d_0242ac1c0002row6_col1{\n",
              "            background-color:  #85a8fc;\n",
              "            color:  #000000;\n",
              "        }#T_187de2fa_3e2a_11eb_877d_0242ac1c0002row6_col5{\n",
              "            background-color:  #adc9fd;\n",
              "            color:  #000000;\n",
              "        }#T_187de2fa_3e2a_11eb_877d_0242ac1c0002row6_col10,#T_187de2fa_3e2a_11eb_877d_0242ac1c0002row10_col6{\n",
              "            background-color:  #5977e3;\n",
              "            color:  #000000;\n",
              "        }#T_187de2fa_3e2a_11eb_877d_0242ac1c0002row7_col0,#T_187de2fa_3e2a_11eb_877d_0242ac1c0002row9_col0{\n",
              "            background-color:  #6485ec;\n",
              "            color:  #000000;\n",
              "        }#T_187de2fa_3e2a_11eb_877d_0242ac1c0002row7_col1{\n",
              "            background-color:  #f7a889;\n",
              "            color:  #000000;\n",
              "        }#T_187de2fa_3e2a_11eb_877d_0242ac1c0002row7_col2,#T_187de2fa_3e2a_11eb_877d_0242ac1c0002row8_col5{\n",
              "            background-color:  #6384eb;\n",
              "            color:  #000000;\n",
              "        }#T_187de2fa_3e2a_11eb_877d_0242ac1c0002row7_col4{\n",
              "            background-color:  #e9785d;\n",
              "            color:  #000000;\n",
              "        }#T_187de2fa_3e2a_11eb_877d_0242ac1c0002row7_col5,#T_187de2fa_3e2a_11eb_877d_0242ac1c0002row9_col5{\n",
              "            background-color:  #a5c3fe;\n",
              "            color:  #000000;\n",
              "        }#T_187de2fa_3e2a_11eb_877d_0242ac1c0002row7_col6{\n",
              "            background-color:  #b2ccfb;\n",
              "            color:  #000000;\n",
              "        }#T_187de2fa_3e2a_11eb_877d_0242ac1c0002row7_col8{\n",
              "            background-color:  #a9c6fd;\n",
              "            color:  #000000;\n",
              "        }#T_187de2fa_3e2a_11eb_877d_0242ac1c0002row7_col9,#T_187de2fa_3e2a_11eb_877d_0242ac1c0002row9_col7{\n",
              "            background-color:  #b50927;\n",
              "            color:  #f1f1f1;\n",
              "        }#T_187de2fa_3e2a_11eb_877d_0242ac1c0002row7_col11{\n",
              "            background-color:  #8fb1fe;\n",
              "            color:  #000000;\n",
              "        }#T_187de2fa_3e2a_11eb_877d_0242ac1c0002row8_col1{\n",
              "            background-color:  #a6c4fe;\n",
              "            color:  #000000;\n",
              "        }#T_187de2fa_3e2a_11eb_877d_0242ac1c0002row8_col2{\n",
              "            background-color:  #4a63d3;\n",
              "            color:  #f1f1f1;\n",
              "        }#T_187de2fa_3e2a_11eb_877d_0242ac1c0002row8_col4,#T_187de2fa_3e2a_11eb_877d_0242ac1c0002row9_col6{\n",
              "            background-color:  #b5cdfa;\n",
              "            color:  #000000;\n",
              "        }#T_187de2fa_3e2a_11eb_877d_0242ac1c0002row8_col6,#T_187de2fa_3e2a_11eb_877d_0242ac1c0002row11_col4{\n",
              "            background-color:  #7ea1fa;\n",
              "            color:  #000000;\n",
              "        }#T_187de2fa_3e2a_11eb_877d_0242ac1c0002row8_col9,#T_187de2fa_3e2a_11eb_877d_0242ac1c0002row9_col8{\n",
              "            background-color:  #a3c2fe;\n",
              "            color:  #000000;\n",
              "        }#T_187de2fa_3e2a_11eb_877d_0242ac1c0002row8_col11{\n",
              "            background-color:  #82a6fb;\n",
              "            color:  #000000;\n",
              "        }#T_187de2fa_3e2a_11eb_877d_0242ac1c0002row9_col1{\n",
              "            background-color:  #f7b599;\n",
              "            color:  #000000;\n",
              "        }#T_187de2fa_3e2a_11eb_877d_0242ac1c0002row9_col3{\n",
              "            background-color:  #f1cdba;\n",
              "            color:  #000000;\n",
              "        }#T_187de2fa_3e2a_11eb_877d_0242ac1c0002row9_col11{\n",
              "            background-color:  #8db0fe;\n",
              "            color:  #000000;\n",
              "        }#T_187de2fa_3e2a_11eb_877d_0242ac1c0002row10_col0{\n",
              "            background-color:  #d3dbe7;\n",
              "            color:  #000000;\n",
              "        }#T_187de2fa_3e2a_11eb_877d_0242ac1c0002row10_col2{\n",
              "            background-color:  #d4dbe6;\n",
              "            color:  #000000;\n",
              "        }#T_187de2fa_3e2a_11eb_877d_0242ac1c0002row10_col8{\n",
              "            background-color:  #4055c8;\n",
              "            color:  #f1f1f1;\n",
              "        }#T_187de2fa_3e2a_11eb_877d_0242ac1c0002row11_col0{\n",
              "            background-color:  #3d50c3;\n",
              "            color:  #f1f1f1;\n",
              "        }#T_187de2fa_3e2a_11eb_877d_0242ac1c0002row11_col1{\n",
              "            background-color:  #89acfd;\n",
              "            color:  #000000;\n",
              "        }#T_187de2fa_3e2a_11eb_877d_0242ac1c0002row11_col3{\n",
              "            background-color:  #7093f3;\n",
              "            color:  #000000;\n",
              "        }#T_187de2fa_3e2a_11eb_877d_0242ac1c0002row11_col5{\n",
              "            background-color:  #7da0f9;\n",
              "            color:  #000000;\n",
              "        }#T_187de2fa_3e2a_11eb_877d_0242ac1c0002row11_col7{\n",
              "            background-color:  #779af7;\n",
              "            color:  #000000;\n",
              "        }#T_187de2fa_3e2a_11eb_877d_0242ac1c0002row11_col8{\n",
              "            background-color:  #6788ee;\n",
              "            color:  #000000;\n",
              "        }#T_187de2fa_3e2a_11eb_877d_0242ac1c0002row11_col9{\n",
              "            background-color:  #7396f5;\n",
              "            color:  #000000;\n",
              "        }</style><table id=\"T_187de2fa_3e2a_11eb_877d_0242ac1c0002\" ><thead>    <tr>        <th class=\"blank level0\" ></th>        <th class=\"col_heading level0 col0\" >index</th>        <th class=\"col_heading level0 col1\" >budget</th>        <th class=\"col_heading level0 col2\" >id</th>        <th class=\"col_heading level0 col3\" >popularity</th>        <th class=\"col_heading level0 col4\" >revenue</th>        <th class=\"col_heading level0 col5\" >runtime</th>        <th class=\"col_heading level0 col6\" >vote_average</th>        <th class=\"col_heading level0 col7\" >vote_count</th>        <th class=\"col_heading level0 col8\" >collection</th>        <th class=\"col_heading level0 col9\" >score_1</th>        <th class=\"col_heading level0 col10\" >production_companies_id</th>        <th class=\"col_heading level0 col11\" >pc_id_count</th>    </tr></thead><tbody>\n",
              "                <tr>\n",
              "                        <th id=\"T_187de2fa_3e2a_11eb_877d_0242ac1c0002level0_row0\" class=\"row_heading level0 row0\" >index</th>\n",
              "                        <td id=\"T_187de2fa_3e2a_11eb_877d_0242ac1c0002row0_col0\" class=\"data row0 col0\" >1.000000</td>\n",
              "                        <td id=\"T_187de2fa_3e2a_11eb_877d_0242ac1c0002row0_col1\" class=\"data row0 col1\" >-0.111052</td>\n",
              "                        <td id=\"T_187de2fa_3e2a_11eb_877d_0242ac1c0002row0_col2\" class=\"data row0 col2\" >0.675912</td>\n",
              "                        <td id=\"T_187de2fa_3e2a_11eb_877d_0242ac1c0002row0_col3\" class=\"data row0 col3\" >-0.113959</td>\n",
              "                        <td id=\"T_187de2fa_3e2a_11eb_877d_0242ac1c0002row0_col4\" class=\"data row0 col4\" >-0.083023</td>\n",
              "                        <td id=\"T_187de2fa_3e2a_11eb_877d_0242ac1c0002row0_col5\" class=\"data row0 col5\" >-0.171586</td>\n",
              "                        <td id=\"T_187de2fa_3e2a_11eb_877d_0242ac1c0002row0_col6\" class=\"data row0 col6\" >-0.239960</td>\n",
              "                        <td id=\"T_187de2fa_3e2a_11eb_877d_0242ac1c0002row0_col7\" class=\"data row0 col7\" >-0.071127</td>\n",
              "                        <td id=\"T_187de2fa_3e2a_11eb_877d_0242ac1c0002row0_col8\" class=\"data row0 col8\" >-0.102720</td>\n",
              "                        <td id=\"T_187de2fa_3e2a_11eb_877d_0242ac1c0002row0_col9\" class=\"data row0 col9\" >-0.072469</td>\n",
              "                        <td id=\"T_187de2fa_3e2a_11eb_877d_0242ac1c0002row0_col10\" class=\"data row0 col10\" >0.331970</td>\n",
              "                        <td id=\"T_187de2fa_3e2a_11eb_877d_0242ac1c0002row0_col11\" class=\"data row0 col11\" >-0.229618</td>\n",
              "            </tr>\n",
              "            <tr>\n",
              "                        <th id=\"T_187de2fa_3e2a_11eb_877d_0242ac1c0002level0_row1\" class=\"row_heading level0 row1\" >budget</th>\n",
              "                        <td id=\"T_187de2fa_3e2a_11eb_877d_0242ac1c0002row1_col0\" class=\"data row1 col0\" >-0.111052</td>\n",
              "                        <td id=\"T_187de2fa_3e2a_11eb_877d_0242ac1c0002row1_col1\" class=\"data row1 col1\" >1.000000</td>\n",
              "                        <td id=\"T_187de2fa_3e2a_11eb_877d_0242ac1c0002row1_col2\" class=\"data row1 col2\" >-0.086690</td>\n",
              "                        <td id=\"T_187de2fa_3e2a_11eb_877d_0242ac1c0002row1_col3\" class=\"data row1 col3\" >0.412162</td>\n",
              "                        <td id=\"T_187de2fa_3e2a_11eb_877d_0242ac1c0002row1_col4\" class=\"data row1 col4\" >0.766446</td>\n",
              "                        <td id=\"T_187de2fa_3e2a_11eb_877d_0242ac1c0002row1_col5\" class=\"data row1 col5\" >0.225766</td>\n",
              "                        <td id=\"T_187de2fa_3e2a_11eb_877d_0242ac1c0002row1_col6\" class=\"data row1 col6\" >0.103634</td>\n",
              "                        <td id=\"T_187de2fa_3e2a_11eb_877d_0242ac1c0002row1_col7\" class=\"data row1 col7\" >0.665415</td>\n",
              "                        <td id=\"T_187de2fa_3e2a_11eb_877d_0242ac1c0002row1_col8\" class=\"data row1 col8\" >0.212146</td>\n",
              "                        <td id=\"T_187de2fa_3e2a_11eb_877d_0242ac1c0002row1_col9\" class=\"data row1 col9\" >0.622080</td>\n",
              "                        <td id=\"T_187de2fa_3e2a_11eb_877d_0242ac1c0002row1_col10\" class=\"data row1 col10\" >-0.160624</td>\n",
              "                        <td id=\"T_187de2fa_3e2a_11eb_877d_0242ac1c0002row1_col11\" class=\"data row1 col11\" >0.117158</td>\n",
              "            </tr>\n",
              "            <tr>\n",
              "                        <th id=\"T_187de2fa_3e2a_11eb_877d_0242ac1c0002level0_row2\" class=\"row_heading level0 row2\" >id</th>\n",
              "                        <td id=\"T_187de2fa_3e2a_11eb_877d_0242ac1c0002row2_col0\" class=\"data row2 col0\" >0.675912</td>\n",
              "                        <td id=\"T_187de2fa_3e2a_11eb_877d_0242ac1c0002row2_col1\" class=\"data row2 col1\" >-0.086690</td>\n",
              "                        <td id=\"T_187de2fa_3e2a_11eb_877d_0242ac1c0002row2_col2\" class=\"data row2 col2\" >1.000000</td>\n",
              "                        <td id=\"T_187de2fa_3e2a_11eb_877d_0242ac1c0002row2_col3\" class=\"data row2 col3\" >-0.014127</td>\n",
              "                        <td id=\"T_187de2fa_3e2a_11eb_877d_0242ac1c0002row2_col4\" class=\"data row2 col4\" >-0.060123</td>\n",
              "                        <td id=\"T_187de2fa_3e2a_11eb_877d_0242ac1c0002row2_col5\" class=\"data row2 col5\" >-0.086692</td>\n",
              "                        <td id=\"T_187de2fa_3e2a_11eb_877d_0242ac1c0002row2_col6\" class=\"data row2 col6\" >-0.141201</td>\n",
              "                        <td id=\"T_187de2fa_3e2a_11eb_877d_0242ac1c0002row2_col7\" class=\"data row2 col7\" >-0.033574</td>\n",
              "                        <td id=\"T_187de2fa_3e2a_11eb_877d_0242ac1c0002row2_col8\" class=\"data row2 col8\" >-0.122764</td>\n",
              "                        <td id=\"T_187de2fa_3e2a_11eb_877d_0242ac1c0002row2_col9\" class=\"data row2 col9\" >-0.034831</td>\n",
              "                        <td id=\"T_187de2fa_3e2a_11eb_877d_0242ac1c0002row2_col10\" class=\"data row2 col10\" >0.367358</td>\n",
              "                        <td id=\"T_187de2fa_3e2a_11eb_877d_0242ac1c0002row2_col11\" class=\"data row2 col11\" >-0.186671</td>\n",
              "            </tr>\n",
              "            <tr>\n",
              "                        <th id=\"T_187de2fa_3e2a_11eb_877d_0242ac1c0002level0_row3\" class=\"row_heading level0 row3\" >popularity</th>\n",
              "                        <td id=\"T_187de2fa_3e2a_11eb_877d_0242ac1c0002row3_col0\" class=\"data row3 col0\" >-0.113959</td>\n",
              "                        <td id=\"T_187de2fa_3e2a_11eb_877d_0242ac1c0002row3_col1\" class=\"data row3 col1\" >0.412162</td>\n",
              "                        <td id=\"T_187de2fa_3e2a_11eb_877d_0242ac1c0002row3_col2\" class=\"data row3 col2\" >-0.014127</td>\n",
              "                        <td id=\"T_187de2fa_3e2a_11eb_877d_0242ac1c0002row3_col3\" class=\"data row3 col3\" >1.000000</td>\n",
              "                        <td id=\"T_187de2fa_3e2a_11eb_877d_0242ac1c0002row3_col4\" class=\"data row3 col4\" >0.495219</td>\n",
              "                        <td id=\"T_187de2fa_3e2a_11eb_877d_0242ac1c0002row3_col5\" class=\"data row3 col5\" >0.161276</td>\n",
              "                        <td id=\"T_187de2fa_3e2a_11eb_877d_0242ac1c0002row3_col6\" class=\"data row3 col6\" >0.186538</td>\n",
              "                        <td id=\"T_187de2fa_3e2a_11eb_877d_0242ac1c0002row3_col7\" class=\"data row3 col7\" >0.544388</td>\n",
              "                        <td id=\"T_187de2fa_3e2a_11eb_877d_0242ac1c0002row3_col8\" class=\"data row3 col8\" >0.184730</td>\n",
              "                        <td id=\"T_187de2fa_3e2a_11eb_877d_0242ac1c0002row3_col9\" class=\"data row3 col9\" >0.534342</td>\n",
              "                        <td id=\"T_187de2fa_3e2a_11eb_877d_0242ac1c0002row3_col10\" class=\"data row3 col10\" >-0.143197</td>\n",
              "                        <td id=\"T_187de2fa_3e2a_11eb_877d_0242ac1c0002row3_col11\" class=\"data row3 col11\" >0.050937</td>\n",
              "            </tr>\n",
              "            <tr>\n",
              "                        <th id=\"T_187de2fa_3e2a_11eb_877d_0242ac1c0002level0_row4\" class=\"row_heading level0 row4\" >revenue</th>\n",
              "                        <td id=\"T_187de2fa_3e2a_11eb_877d_0242ac1c0002row4_col0\" class=\"data row4 col0\" >-0.083023</td>\n",
              "                        <td id=\"T_187de2fa_3e2a_11eb_877d_0242ac1c0002row4_col1\" class=\"data row4 col1\" >0.766446</td>\n",
              "                        <td id=\"T_187de2fa_3e2a_11eb_877d_0242ac1c0002row4_col2\" class=\"data row4 col2\" >-0.060123</td>\n",
              "                        <td id=\"T_187de2fa_3e2a_11eb_877d_0242ac1c0002row4_col3\" class=\"data row4 col3\" >0.495219</td>\n",
              "                        <td id=\"T_187de2fa_3e2a_11eb_877d_0242ac1c0002row4_col4\" class=\"data row4 col4\" >1.000000</td>\n",
              "                        <td id=\"T_187de2fa_3e2a_11eb_877d_0242ac1c0002row4_col5\" class=\"data row4 col5\" >0.183763</td>\n",
              "                        <td id=\"T_187de2fa_3e2a_11eb_877d_0242ac1c0002row4_col6\" class=\"data row4 col6\" >0.137679</td>\n",
              "                        <td id=\"T_187de2fa_3e2a_11eb_877d_0242ac1c0002row4_col7\" class=\"data row4 col7\" >0.806602</td>\n",
              "                        <td id=\"T_187de2fa_3e2a_11eb_877d_0242ac1c0002row4_col8\" class=\"data row4 col8\" >0.284759</td>\n",
              "                        <td id=\"T_187de2fa_3e2a_11eb_877d_0242ac1c0002row4_col9\" class=\"data row4 col9\" >0.780984</td>\n",
              "                        <td id=\"T_187de2fa_3e2a_11eb_877d_0242ac1c0002row4_col10\" class=\"data row4 col10\" >-0.125020</td>\n",
              "                        <td id=\"T_187de2fa_3e2a_11eb_877d_0242ac1c0002row4_col11\" class=\"data row4 col11\" >0.108120</td>\n",
              "            </tr>\n",
              "            <tr>\n",
              "                        <th id=\"T_187de2fa_3e2a_11eb_877d_0242ac1c0002level0_row5\" class=\"row_heading level0 row5\" >runtime</th>\n",
              "                        <td id=\"T_187de2fa_3e2a_11eb_877d_0242ac1c0002row5_col0\" class=\"data row5 col0\" >-0.171586</td>\n",
              "                        <td id=\"T_187de2fa_3e2a_11eb_877d_0242ac1c0002row5_col1\" class=\"data row5 col1\" >0.225766</td>\n",
              "                        <td id=\"T_187de2fa_3e2a_11eb_877d_0242ac1c0002row5_col2\" class=\"data row5 col2\" >-0.086692</td>\n",
              "                        <td id=\"T_187de2fa_3e2a_11eb_877d_0242ac1c0002row5_col3\" class=\"data row5 col3\" >0.161276</td>\n",
              "                        <td id=\"T_187de2fa_3e2a_11eb_877d_0242ac1c0002row5_col4\" class=\"data row5 col4\" >0.183763</td>\n",
              "                        <td id=\"T_187de2fa_3e2a_11eb_877d_0242ac1c0002row5_col5\" class=\"data row5 col5\" >1.000000</td>\n",
              "                        <td id=\"T_187de2fa_3e2a_11eb_877d_0242ac1c0002row5_col6\" class=\"data row5 col6\" >0.231019</td>\n",
              "                        <td id=\"T_187de2fa_3e2a_11eb_877d_0242ac1c0002row5_col7\" class=\"data row5 col7\" >0.199476</td>\n",
              "                        <td id=\"T_187de2fa_3e2a_11eb_877d_0242ac1c0002row5_col8\" class=\"data row5 col8\" >-0.016943</td>\n",
              "                        <td id=\"T_187de2fa_3e2a_11eb_877d_0242ac1c0002row5_col9\" class=\"data row5 col9\" >0.200588</td>\n",
              "                        <td id=\"T_187de2fa_3e2a_11eb_877d_0242ac1c0002row5_col10\" class=\"data row5 col10\" >-0.105164</td>\n",
              "                        <td id=\"T_187de2fa_3e2a_11eb_877d_0242ac1c0002row5_col11\" class=\"data row5 col11\" >0.068359</td>\n",
              "            </tr>\n",
              "            <tr>\n",
              "                        <th id=\"T_187de2fa_3e2a_11eb_877d_0242ac1c0002level0_row6\" class=\"row_heading level0 row6\" >vote_average</th>\n",
              "                        <td id=\"T_187de2fa_3e2a_11eb_877d_0242ac1c0002row6_col0\" class=\"data row6 col0\" >-0.239960</td>\n",
              "                        <td id=\"T_187de2fa_3e2a_11eb_877d_0242ac1c0002row6_col1\" class=\"data row6 col1\" >0.103634</td>\n",
              "                        <td id=\"T_187de2fa_3e2a_11eb_877d_0242ac1c0002row6_col2\" class=\"data row6 col2\" >-0.141201</td>\n",
              "                        <td id=\"T_187de2fa_3e2a_11eb_877d_0242ac1c0002row6_col3\" class=\"data row6 col3\" >0.186538</td>\n",
              "                        <td id=\"T_187de2fa_3e2a_11eb_877d_0242ac1c0002row6_col4\" class=\"data row6 col4\" >0.137679</td>\n",
              "                        <td id=\"T_187de2fa_3e2a_11eb_877d_0242ac1c0002row6_col5\" class=\"data row6 col5\" >0.231019</td>\n",
              "                        <td id=\"T_187de2fa_3e2a_11eb_877d_0242ac1c0002row6_col6\" class=\"data row6 col6\" >1.000000</td>\n",
              "                        <td id=\"T_187de2fa_3e2a_11eb_877d_0242ac1c0002row6_col7\" class=\"data row6 col7\" >0.203592</td>\n",
              "                        <td id=\"T_187de2fa_3e2a_11eb_877d_0242ac1c0002row6_col8\" class=\"data row6 col8\" >0.019937</td>\n",
              "                        <td id=\"T_187de2fa_3e2a_11eb_877d_0242ac1c0002row6_col9\" class=\"data row6 col9\" >0.212963</td>\n",
              "                        <td id=\"T_187de2fa_3e2a_11eb_877d_0242ac1c0002row6_col10\" class=\"data row6 col10\" >-0.116379</td>\n",
              "                        <td id=\"T_187de2fa_3e2a_11eb_877d_0242ac1c0002row6_col11\" class=\"data row6 col11\" >0.048969</td>\n",
              "            </tr>\n",
              "            <tr>\n",
              "                        <th id=\"T_187de2fa_3e2a_11eb_877d_0242ac1c0002level0_row7\" class=\"row_heading level0 row7\" >vote_count</th>\n",
              "                        <td id=\"T_187de2fa_3e2a_11eb_877d_0242ac1c0002row7_col0\" class=\"data row7 col0\" >-0.071127</td>\n",
              "                        <td id=\"T_187de2fa_3e2a_11eb_877d_0242ac1c0002row7_col1\" class=\"data row7 col1\" >0.665415</td>\n",
              "                        <td id=\"T_187de2fa_3e2a_11eb_877d_0242ac1c0002row7_col2\" class=\"data row7 col2\" >-0.033574</td>\n",
              "                        <td id=\"T_187de2fa_3e2a_11eb_877d_0242ac1c0002row7_col3\" class=\"data row7 col3\" >0.544388</td>\n",
              "                        <td id=\"T_187de2fa_3e2a_11eb_877d_0242ac1c0002row7_col4\" class=\"data row7 col4\" >0.806602</td>\n",
              "                        <td id=\"T_187de2fa_3e2a_11eb_877d_0242ac1c0002row7_col5\" class=\"data row7 col5\" >0.199476</td>\n",
              "                        <td id=\"T_187de2fa_3e2a_11eb_877d_0242ac1c0002row7_col6\" class=\"data row7 col6\" >0.203592</td>\n",
              "                        <td id=\"T_187de2fa_3e2a_11eb_877d_0242ac1c0002row7_col7\" class=\"data row7 col7\" >1.000000</td>\n",
              "                        <td id=\"T_187de2fa_3e2a_11eb_877d_0242ac1c0002row7_col8\" class=\"data row7 col8\" >0.246816</td>\n",
              "                        <td id=\"T_187de2fa_3e2a_11eb_877d_0242ac1c0002row7_col9\" class=\"data row7 col9\" >0.994176</td>\n",
              "                        <td id=\"T_187de2fa_3e2a_11eb_877d_0242ac1c0002row7_col10\" class=\"data row7 col10\" >-0.134497</td>\n",
              "                        <td id=\"T_187de2fa_3e2a_11eb_877d_0242ac1c0002row7_col11\" class=\"data row7 col11\" >0.080398</td>\n",
              "            </tr>\n",
              "            <tr>\n",
              "                        <th id=\"T_187de2fa_3e2a_11eb_877d_0242ac1c0002level0_row8\" class=\"row_heading level0 row8\" >collection</th>\n",
              "                        <td id=\"T_187de2fa_3e2a_11eb_877d_0242ac1c0002row8_col0\" class=\"data row8 col0\" >-0.102720</td>\n",
              "                        <td id=\"T_187de2fa_3e2a_11eb_877d_0242ac1c0002row8_col1\" class=\"data row8 col1\" >0.212146</td>\n",
              "                        <td id=\"T_187de2fa_3e2a_11eb_877d_0242ac1c0002row8_col2\" class=\"data row8 col2\" >-0.122764</td>\n",
              "                        <td id=\"T_187de2fa_3e2a_11eb_877d_0242ac1c0002row8_col3\" class=\"data row8 col3\" >0.184730</td>\n",
              "                        <td id=\"T_187de2fa_3e2a_11eb_877d_0242ac1c0002row8_col4\" class=\"data row8 col4\" >0.284759</td>\n",
              "                        <td id=\"T_187de2fa_3e2a_11eb_877d_0242ac1c0002row8_col5\" class=\"data row8 col5\" >-0.016943</td>\n",
              "                        <td id=\"T_187de2fa_3e2a_11eb_877d_0242ac1c0002row8_col6\" class=\"data row8 col6\" >0.019937</td>\n",
              "                        <td id=\"T_187de2fa_3e2a_11eb_877d_0242ac1c0002row8_col7\" class=\"data row8 col7\" >0.246816</td>\n",
              "                        <td id=\"T_187de2fa_3e2a_11eb_877d_0242ac1c0002row8_col8\" class=\"data row8 col8\" >1.000000</td>\n",
              "                        <td id=\"T_187de2fa_3e2a_11eb_877d_0242ac1c0002row8_col9\" class=\"data row8 col9\" >0.228573</td>\n",
              "                        <td id=\"T_187de2fa_3e2a_11eb_877d_0242ac1c0002row8_col10\" class=\"data row8 col10\" >-0.100320</td>\n",
              "                        <td id=\"T_187de2fa_3e2a_11eb_877d_0242ac1c0002row8_col11\" class=\"data row8 col11\" >0.036184</td>\n",
              "            </tr>\n",
              "            <tr>\n",
              "                        <th id=\"T_187de2fa_3e2a_11eb_877d_0242ac1c0002level0_row9\" class=\"row_heading level0 row9\" >score_1</th>\n",
              "                        <td id=\"T_187de2fa_3e2a_11eb_877d_0242ac1c0002row9_col0\" class=\"data row9 col0\" >-0.072469</td>\n",
              "                        <td id=\"T_187de2fa_3e2a_11eb_877d_0242ac1c0002row9_col1\" class=\"data row9 col1\" >0.622080</td>\n",
              "                        <td id=\"T_187de2fa_3e2a_11eb_877d_0242ac1c0002row9_col2\" class=\"data row9 col2\" >-0.034831</td>\n",
              "                        <td id=\"T_187de2fa_3e2a_11eb_877d_0242ac1c0002row9_col3\" class=\"data row9 col3\" >0.534342</td>\n",
              "                        <td id=\"T_187de2fa_3e2a_11eb_877d_0242ac1c0002row9_col4\" class=\"data row9 col4\" >0.780984</td>\n",
              "                        <td id=\"T_187de2fa_3e2a_11eb_877d_0242ac1c0002row9_col5\" class=\"data row9 col5\" >0.200588</td>\n",
              "                        <td id=\"T_187de2fa_3e2a_11eb_877d_0242ac1c0002row9_col6\" class=\"data row9 col6\" >0.212963</td>\n",
              "                        <td id=\"T_187de2fa_3e2a_11eb_877d_0242ac1c0002row9_col7\" class=\"data row9 col7\" >0.994176</td>\n",
              "                        <td id=\"T_187de2fa_3e2a_11eb_877d_0242ac1c0002row9_col8\" class=\"data row9 col8\" >0.228573</td>\n",
              "                        <td id=\"T_187de2fa_3e2a_11eb_877d_0242ac1c0002row9_col9\" class=\"data row9 col9\" >1.000000</td>\n",
              "                        <td id=\"T_187de2fa_3e2a_11eb_877d_0242ac1c0002row9_col10\" class=\"data row9 col10\" >-0.126350</td>\n",
              "                        <td id=\"T_187de2fa_3e2a_11eb_877d_0242ac1c0002row9_col11\" class=\"data row9 col11\" >0.075440</td>\n",
              "            </tr>\n",
              "            <tr>\n",
              "                        <th id=\"T_187de2fa_3e2a_11eb_877d_0242ac1c0002level0_row10\" class=\"row_heading level0 row10\" >production_companies_id</th>\n",
              "                        <td id=\"T_187de2fa_3e2a_11eb_877d_0242ac1c0002row10_col0\" class=\"data row10 col0\" >0.331970</td>\n",
              "                        <td id=\"T_187de2fa_3e2a_11eb_877d_0242ac1c0002row10_col1\" class=\"data row10 col1\" >-0.160624</td>\n",
              "                        <td id=\"T_187de2fa_3e2a_11eb_877d_0242ac1c0002row10_col2\" class=\"data row10 col2\" >0.367358</td>\n",
              "                        <td id=\"T_187de2fa_3e2a_11eb_877d_0242ac1c0002row10_col3\" class=\"data row10 col3\" >-0.143197</td>\n",
              "                        <td id=\"T_187de2fa_3e2a_11eb_877d_0242ac1c0002row10_col4\" class=\"data row10 col4\" >-0.125020</td>\n",
              "                        <td id=\"T_187de2fa_3e2a_11eb_877d_0242ac1c0002row10_col5\" class=\"data row10 col5\" >-0.105164</td>\n",
              "                        <td id=\"T_187de2fa_3e2a_11eb_877d_0242ac1c0002row10_col6\" class=\"data row10 col6\" >-0.116379</td>\n",
              "                        <td id=\"T_187de2fa_3e2a_11eb_877d_0242ac1c0002row10_col7\" class=\"data row10 col7\" >-0.134497</td>\n",
              "                        <td id=\"T_187de2fa_3e2a_11eb_877d_0242ac1c0002row10_col8\" class=\"data row10 col8\" >-0.100320</td>\n",
              "                        <td id=\"T_187de2fa_3e2a_11eb_877d_0242ac1c0002row10_col9\" class=\"data row10 col9\" >-0.126350</td>\n",
              "                        <td id=\"T_187de2fa_3e2a_11eb_877d_0242ac1c0002row10_col10\" class=\"data row10 col10\" >1.000000</td>\n",
              "                        <td id=\"T_187de2fa_3e2a_11eb_877d_0242ac1c0002row10_col11\" class=\"data row10 col11\" >-0.238531</td>\n",
              "            </tr>\n",
              "            <tr>\n",
              "                        <th id=\"T_187de2fa_3e2a_11eb_877d_0242ac1c0002level0_row11\" class=\"row_heading level0 row11\" >pc_id_count</th>\n",
              "                        <td id=\"T_187de2fa_3e2a_11eb_877d_0242ac1c0002row11_col0\" class=\"data row11 col0\" >-0.229618</td>\n",
              "                        <td id=\"T_187de2fa_3e2a_11eb_877d_0242ac1c0002row11_col1\" class=\"data row11 col1\" >0.117158</td>\n",
              "                        <td id=\"T_187de2fa_3e2a_11eb_877d_0242ac1c0002row11_col2\" class=\"data row11 col2\" >-0.186671</td>\n",
              "                        <td id=\"T_187de2fa_3e2a_11eb_877d_0242ac1c0002row11_col3\" class=\"data row11 col3\" >0.050937</td>\n",
              "                        <td id=\"T_187de2fa_3e2a_11eb_877d_0242ac1c0002row11_col4\" class=\"data row11 col4\" >0.108120</td>\n",
              "                        <td id=\"T_187de2fa_3e2a_11eb_877d_0242ac1c0002row11_col5\" class=\"data row11 col5\" >0.068359</td>\n",
              "                        <td id=\"T_187de2fa_3e2a_11eb_877d_0242ac1c0002row11_col6\" class=\"data row11 col6\" >0.048969</td>\n",
              "                        <td id=\"T_187de2fa_3e2a_11eb_877d_0242ac1c0002row11_col7\" class=\"data row11 col7\" >0.080398</td>\n",
              "                        <td id=\"T_187de2fa_3e2a_11eb_877d_0242ac1c0002row11_col8\" class=\"data row11 col8\" >0.036184</td>\n",
              "                        <td id=\"T_187de2fa_3e2a_11eb_877d_0242ac1c0002row11_col9\" class=\"data row11 col9\" >0.075440</td>\n",
              "                        <td id=\"T_187de2fa_3e2a_11eb_877d_0242ac1c0002row11_col10\" class=\"data row11 col10\" >-0.238531</td>\n",
              "                        <td id=\"T_187de2fa_3e2a_11eb_877d_0242ac1c0002row11_col11\" class=\"data row11 col11\" >1.000000</td>\n",
              "            </tr>\n",
              "    </tbody></table>"
            ],
            "text/plain": [
              "<pandas.io.formats.style.Styler at 0x7f000bada080>"
            ]
          },
          "metadata": {
            "tags": []
          },
          "execution_count": 24
        }
      ]
    },
    {
      "cell_type": "markdown",
      "metadata": {
        "id": "kw26NXPlvCa4"
      },
      "source": [
        "Par construction de *score_1*, il n'est pas choquant d'observer une forte corrélation avec *popularity*, *vote_count* et *vote_average*.\n",
        "\n",
        "On constate que bien qu'il y ait peu de données qui puissent être exploitées pour le budget et le revenu d'un film, ces deux variables sont cependant corrélées avec *score_1*, qui permet de quantifier la qualité d'un film.\n",
        "\n",
        "Par ailleurs, la compagnie de production et la durée du film ne semblent guère influencer sa qualité. "
      ]
    },
    {
      "cell_type": "markdown",
      "metadata": {
        "id": "dRtvlAwmNlST"
      },
      "source": [
        "## Complétude des deux bases"
      ]
    },
    {
      "cell_type": "markdown",
      "metadata": {
        "id": "u6LyoBTNv9jB"
      },
      "source": [
        "# Régression linéaire de *score_1* sur *budget* et *revenue*"
      ]
    },
    {
      "cell_type": "markdown",
      "metadata": {
        "id": "DtySOStF1uq-"
      },
      "source": [
        "Tout d'abord, récupérons les données nécessaires dans le dataset."
      ]
    },
    {
      "cell_type": "code",
      "metadata": {
        "id": "bbIay57mzhEy"
      },
      "source": [
        "X = pd.DataFrame(np.c_[df.budget, df.revenue], columns= ['budget', 'revenue'])\n",
        "Y = df.score_1"
      ],
      "execution_count": 69,
      "outputs": []
    },
    {
      "cell_type": "markdown",
      "metadata": {
        "id": "eC8dy4CQ2Lkv"
      },
      "source": [
        "Séparons ensuite nos deux ensembles de données en bases d'apprentissage et de test."
      ]
    },
    {
      "cell_type": "code",
      "metadata": {
        "colab": {
          "base_uri": "https://localhost:8080/"
        },
        "id": "XU2YOJmeyDvp",
        "outputId": "5f3cc715-603c-41ad-ec98-2c0eda5dc255"
      },
      "source": [
        "from sklearn.model_selection import train_test_split\n",
        " \n",
        "X_train, X_test, Y_train, Y_test = train_test_split(X, Y, test_size = 0.2, random_state=5)\n",
        "print(X_train.shape)\n",
        "print(X_test.shape)\n",
        "print(Y_train.shape)\n",
        "print(Y_test.shape)"
      ],
      "execution_count": 70,
      "outputs": [
        {
          "output_type": "stream",
          "text": [
            "(13884, 2)\n",
            "(3472, 2)\n",
            "(13884,)\n",
            "(3472,)\n"
          ],
          "name": "stdout"
        }
      ]
    },
    {
      "cell_type": "markdown",
      "metadata": {
        "id": "ECQodfNWnMMP"
      },
      "source": [
        "## Régression linéaire "
      ]
    },
    {
      "cell_type": "markdown",
      "metadata": {
        "id": "65lD77kA2X6j"
      },
      "source": [
        "On effectue alors la régression linéaire voulue."
      ]
    },
    {
      "cell_type": "code",
      "metadata": {
        "colab": {
          "base_uri": "https://localhost:8080/"
        },
        "id": "RBvgnVZMycKr",
        "outputId": "1185e6d1-7785-4fcd-c406-eb293d446703"
      },
      "source": [
        "from sklearn.linear_model import LinearRegression\n",
        "from sklearn.metrics import mean_squared_error\n",
        " \n",
        "lmodellineaire = LinearRegression()\n",
        "lmodellineaire.fit(X_train, Y_train)\n"
      ],
      "execution_count": 71,
      "outputs": [
        {
          "output_type": "execute_result",
          "data": {
            "text/plain": [
              "LinearRegression(copy_X=True, fit_intercept=True, n_jobs=None, normalize=False)"
            ]
          },
          "metadata": {
            "tags": []
          },
          "execution_count": 71
        }
      ]
    },
    {
      "cell_type": "markdown",
      "metadata": {
        "id": "mNfhjpTn2gEg"
      },
      "source": [
        "Evaluons les performances du modèle sur l'échantillon d'apprentissage et sur celui de test :"
      ]
    },
    {
      "cell_type": "code",
      "metadata": {
        "colab": {
          "base_uri": "https://localhost:8080/"
        },
        "id": "donOvBma0f-d",
        "outputId": "b5484970-a076-4ba7-db6f-498d2ca61409"
      },
      "source": [
        "# Evaluation du training set\n",
        "from sklearn.metrics import r2_score\n",
        "y_train_predict = lmodellineaire.predict(X_train)\n",
        "rmse = (np.sqrt(mean_squared_error(Y_train, y_train_predict)))\n",
        "r2 = r2_score(Y_train, y_train_predict)\n",
        " \n",
        "print(\"Performance du modèle sur la base d'apprentissage\")\n",
        "print('--------------------------------------')\n",
        "print(\"L'erreur quadratique moyenne est {}\".format(rmse))\n",
        "print('Le score R² est {}'.format(r2))\n",
        "print('\\n')\n",
        " \n",
        "# Evaluation du testing set\n",
        "y_test_predict = lmodellineaire.predict(X_test)\n",
        "rmse = (np.sqrt(mean_squared_error(Y_test, y_test_predict)))\n",
        "r2 = r2_score(Y_test, y_test_predict)\n",
        " \n",
        "print('Performance du modèle sur la base de test')\n",
        "print('--------------------------------------')\n",
        "print(\"L'erreur quadratique moyenne est {}\".format(rmse))\n",
        "print('Le score R² est {}'.format(r2))"
      ],
      "execution_count": 72,
      "outputs": [
        {
          "output_type": "stream",
          "text": [
            "Performance du modèle sur la base d'apprentissage\n",
            "--------------------------------------\n",
            "L'erreur quadratique moyenne est 3467.4302151622496\n",
            "Le score R² est 0.6162165165800999\n",
            "\n",
            "\n",
            "Performance du modèle sur la base de test\n",
            "--------------------------------------\n",
            "L'erreur quadratique moyenne est 3364.076265294737\n",
            "Le score R² est 0.5879873205932651\n"
          ],
          "name": "stdout"
        }
      ]
    },
    {
      "cell_type": "markdown",
      "metadata": {
        "id": "HdynAg6X3J-C"
      },
      "source": [
        "Bien que le $R^2$ soit plutôt bon, ce modèle génère une erreur quadratique moyenne assez forte sur la valeur de *score_1* (de l'ordre de 3400). Cela est certainement dû à la dispersion de *score_1* :"
      ]
    },
    {
      "cell_type": "code",
      "metadata": {
        "colab": {
          "base_uri": "https://localhost:8080/"
        },
        "id": "w4xZu2Xz22bB",
        "outputId": "458119ae-d2f0-4a67-e69f-e8fa4405f1ac"
      },
      "source": [
        "df.score_1.describe()"
      ],
      "execution_count": 73,
      "outputs": [
        {
          "output_type": "execute_result",
          "data": {
            "text/plain": [
              "count     17356.000000\n",
              "mean       1709.543046\n",
              "std        5527.962377\n",
              "min           0.000000\n",
              "25%          44.800000\n",
              "50%         170.000000\n",
              "75%         857.700000\n",
              "max      114007.500000\n",
              "Name: score_1, dtype: float64"
            ]
          },
          "metadata": {
            "tags": []
          },
          "execution_count": 73
        }
      ]
    },
    {
      "cell_type": "markdown",
      "metadata": {
        "id": "FyGd9ewHnPjD"
      },
      "source": [
        "## Régression linéaire tronquée"
      ]
    },
    {
      "cell_type": "markdown",
      "metadata": {
        "id": "G5NTPtdm3ho7"
      },
      "source": [
        "Etudions les perfomances de ce modèle sur un échantillon comprenant les valeurs de *score_1* allant du 1er au 3ème quartile :"
      ]
    },
    {
      "cell_type": "code",
      "metadata": {
        "id": "krJf22UD4DOv"
      },
      "source": [
        "first_quart = np.percentile(df.score_1, 25)\n",
        "third_quart = np.percentile(df.score_1, 75)"
      ],
      "execution_count": 74,
      "outputs": []
    },
    {
      "cell_type": "code",
      "metadata": {
        "colab": {
          "base_uri": "https://localhost:8080/"
        },
        "id": "abRf5e8C4TrB",
        "outputId": "90281981-4f8b-4605-b9d1-b4cb6c7d00c4"
      },
      "source": [
        "# Filtration des données\n",
        "df_quart = df[df.score_1 > first_quart]\n",
        "df_quart = df[df.score_1 < third_quart]\n",
        "\n",
        "# Création des variables nécessaires\n",
        "X2 = pd.DataFrame(np.c_[df_quart.budget, df_quart.revenue], columns= ['budget', 'revenue'])\n",
        "Y2 = df_quart.score_1\n",
        "X_train2, X_test2, Y_train2, Y_test2 = train_test_split(X2, Y2, test_size = 0.2, random_state=5)\n",
        "\n",
        "# Lancement de la régression linéaire\n",
        "lmodellineaire = LinearRegression()\n",
        "lmodellineaire.fit(X_train2, Y_train2)"
      ],
      "execution_count": 75,
      "outputs": [
        {
          "output_type": "execute_result",
          "data": {
            "text/plain": [
              "LinearRegression(copy_X=True, fit_intercept=True, n_jobs=None, normalize=False)"
            ]
          },
          "metadata": {
            "tags": []
          },
          "execution_count": 75
        }
      ]
    },
    {
      "cell_type": "code",
      "metadata": {
        "colab": {
          "base_uri": "https://localhost:8080/"
        },
        "id": "hcmn_N3Y4IFF",
        "outputId": "b2c794dc-242c-48e9-8ef4-b44d3ce8d059"
      },
      "source": [
        "# Evaluation du training set\n",
        "from sklearn.metrics import r2_score\n",
        "y_train_predict2 = lmodellineaire.predict(X_train2)\n",
        "rmse = (np.sqrt(mean_squared_error(Y_train2, y_train_predict2)))\n",
        "r2 = r2_score(Y_train2, y_train_predict2)\n",
        " \n",
        "print(\"Performance du modèle sur la base d'apprentissage\")\n",
        "print('--------------------------------------')\n",
        "print(\"L'erreur quadratique moyenne est {}\".format(rmse))\n",
        "print('Le score R² est {}'.format(r2))\n",
        "print('\\n')\n",
        " \n",
        "# Evaluation du testing set\n",
        "y_test_predict2 = lmodellineaire.predict(X_test2)\n",
        "rmse = (np.sqrt(mean_squared_error(Y_test2, y_test_predict2)))\n",
        "r2 = r2_score(Y_test2, y_test_predict2)\n",
        " \n",
        "print('Performance du modèle sur la base de test')\n",
        "print('--------------------------------------')\n",
        "print(\"L'erreur quadratique moyenne est {}\".format(rmse))\n",
        "print('Le score R² est {}'.format(r2))"
      ],
      "execution_count": 76,
      "outputs": [
        {
          "output_type": "stream",
          "text": [
            "Performance du modèle sur la base d'apprentissage\n",
            "--------------------------------------\n",
            "L'erreur quadratique moyenne est 188.1704456835393\n",
            "Le score R² est 0.1454504867917935\n",
            "\n",
            "\n",
            "Performance du modèle sur la base de test\n",
            "--------------------------------------\n",
            "L'erreur quadratique moyenne est 181.4256396942466\n",
            "Le score R² est 0.1529228653745578\n"
          ],
          "name": "stdout"
        }
      ]
    },
    {
      "cell_type": "markdown",
      "metadata": {
        "id": "LpMvtBP16ayx"
      },
      "source": [
        "Par cette nouvelle régression, nous avons certes diminué drastiquement l'erreur quadratique moyenne, cependant le $R^2$ a été divisé par 4."
      ]
    },
    {
      "cell_type": "markdown",
      "metadata": {
        "id": "gH9VVlNP68N0"
      },
      "source": [
        "## Comparaison graphique des résultats"
      ]
    },
    {
      "cell_type": "markdown",
      "metadata": {
        "id": "_L705PKUqS2R"
      },
      "source": [
        "Comparons graphiquement les résultats de la prédiction pour ces deux régressions."
      ]
    },
    {
      "cell_type": "code",
      "metadata": {
        "id": "wY5OaF_YuGlW"
      },
      "source": [
        "def plot(test, predict):\r\n",
        "  fig, ax = plt.subplots(figsize=(8,5))\r\n",
        "  p1 = sns.distplot(test, label = 'Vraie valeur')\r\n",
        "  p2 = sns.distplot(predict, label = 'Prédiction')\r\n",
        "  ax.set(xlabel= 'Valeur de score_1', ylabel = 'Densité')\r\n",
        "  fig.legend(labels=['Vraie valeur','Prédiction'], loc = (0.75, 0.5))"
      ],
      "execution_count": 77,
      "outputs": []
    },
    {
      "cell_type": "code",
      "metadata": {
        "id": "r3HKrukgqd94",
        "colab": {
          "base_uri": "https://localhost:8080/",
          "height": 1000
        },
        "outputId": "9dcef985-badd-4877-a721-90e9625fe6da"
      },
      "source": [
        "plot(Y_test,y_test_predict)\r\n",
        "plt.title('Prédiction de la variable score_1 par le budget et le revenu \\n Base entière')\r\n",
        "\r\n",
        "plot(Y_test2, y_test_predict2)\r\n",
        "plt.title('Prédiction de la variable score_1 par le budget et le revenu \\n Valeurs de score_1 entre les 1er et 3ème quartiles')\r\n",
        "\r\n",
        "plt.show()"
      ],
      "execution_count": 78,
      "outputs": [
        {
          "output_type": "stream",
          "text": [
            "/usr/local/lib/python3.6/dist-packages/seaborn/distributions.py:2551: FutureWarning:\n",
            "\n",
            "`distplot` is a deprecated function and will be removed in a future version. Please adapt your code to use either `displot` (a figure-level function with similar flexibility) or `histplot` (an axes-level function for histograms).\n",
            "\n",
            "/usr/local/lib/python3.6/dist-packages/seaborn/distributions.py:2551: FutureWarning:\n",
            "\n",
            "`distplot` is a deprecated function and will be removed in a future version. Please adapt your code to use either `displot` (a figure-level function with similar flexibility) or `histplot` (an axes-level function for histograms).\n",
            "\n",
            "/usr/local/lib/python3.6/dist-packages/seaborn/distributions.py:2551: FutureWarning:\n",
            "\n",
            "`distplot` is a deprecated function and will be removed in a future version. Please adapt your code to use either `displot` (a figure-level function with similar flexibility) or `histplot` (an axes-level function for histograms).\n",
            "\n",
            "/usr/local/lib/python3.6/dist-packages/seaborn/distributions.py:2551: FutureWarning:\n",
            "\n",
            "`distplot` is a deprecated function and will be removed in a future version. Please adapt your code to use either `displot` (a figure-level function with similar flexibility) or `histplot` (an axes-level function for histograms).\n",
            "\n"
          ],
          "name": "stderr"
        },
        {
          "output_type": "display_data",
          "data": {
            "image/png": "[encoded data removed]",
            "text/plain": [
              "<Figure size 576x360 with 1 Axes>"
            ]
          },
          "metadata": {
            "tags": [],
            "needs_background": "light"
          }
        },
        {
          "output_type": "display_data",
          "data": {
            "image/png": "[encoded data removed]",
            "text/plain": [
              "<Figure size 576x360 with 1 Axes>"
            ]
          },
          "metadata": {
            "tags": [],
            "needs_background": "light"
          }
        }
      ]
    },
    {
      "cell_type": "markdown",
      "metadata": {
        "id": "u7g-csnu11h-"
      },
      "source": [
        "Grâce à ces graphiques, on remarque qu'effectivement la première régression est nettement plus efficace que la seconde pour prédire les valeurs de *score_1*. Cependant, l'algorithme a plus de mal à prédire précisément les petites valeurs de *score_1*."
      ]
    },
    {
      "cell_type": "markdown",
      "metadata": {
        "id": "n9JQiqUV2wMN"
      },
      "source": [
        "# Sentiment analysis \n",
        "\n",
        "\n",
        "\n",
        "\n"
      ]
    },
    {
      "cell_type": "markdown",
      "metadata": {
        "id": "wViAil_-mwu_"
      },
      "source": [
        "L'idée derrière cette partie sur l'analyse sentiment des commentaires des spectateurs est de créer un modèle capable de prédire correctement si les sentiments dégagés par les commentaires sont positifs ou négatifs. On dispose ici de bases déjà labellisées. Mais ce travail pourrait permettre d'améliorer nos modèles en s'intéressant à une base plus importante de commentaires que l'on pourrait scraper et sur laquelle on pourrait tourner notre outil de prédiction de sentiments.\n"
      ]
    },
    {
      "cell_type": "markdown",
      "metadata": {
        "id": "C8xRyidUb32Y"
      },
      "source": [
        "## Préparation des données"
      ]
    },
    {
      "cell_type": "markdown",
      "metadata": {
        "id": "uzxi5fBTL4zc"
      },
      "source": [
        "On va tenter d'enrichir notre base en rajoutant l'analyse sentiment des commentaires associés aux films. Pour cela, on utilise les base *train_review.csv.zip* et *test_review.csv.zip* importées précédemment. \n"
      ]
    },
    {
      "cell_type": "code",
      "metadata": {
        "id": "cAcTcGi7UKDB",
        "colab": {
          "base_uri": "https://localhost:8080/",
          "height": 202
        },
        "outputId": "a460d142-3f11-46ae-95ba-61e5c03e3879"
      },
      "source": [
        "train_review.head()"
      ],
      "execution_count": 34,
      "outputs": [
        {
          "output_type": "execute_result",
          "data": {
            "text/html": [
              "<div>\n",
              "<style scoped>\n",
              "    .dataframe tbody tr th:only-of-type {\n",
              "        vertical-align: middle;\n",
              "    }\n",
              "\n",
              "    .dataframe tbody tr th {\n",
              "        vertical-align: top;\n",
              "    }\n",
              "\n",
              "    .dataframe thead th {\n",
              "        text-align: right;\n",
              "    }\n",
              "</style>\n",
              "<table border=\"1\" class=\"dataframe\">\n",
              "  <thead>\n",
              "    <tr style=\"text-align: right;\">\n",
              "      <th></th>\n",
              "      <th>Unnamed: 0</th>\n",
              "      <th>review</th>\n",
              "      <th>sentiment</th>\n",
              "      <th>url_code</th>\n",
              "      <th>rating</th>\n",
              "      <th>imdb_id</th>\n",
              "      <th>code_url</th>\n",
              "    </tr>\n",
              "  </thead>\n",
              "  <tbody>\n",
              "    <tr>\n",
              "      <th>0</th>\n",
              "      <td>0</td>\n",
              "      <td>Working with one of the best Shakespeare sourc...</td>\n",
              "      <td>0</td>\n",
              "      <td>1821</td>\n",
              "      <td>4</td>\n",
              "      <td>tt0125430</td>\n",
              "      <td>1821</td>\n",
              "    </tr>\n",
              "    <tr>\n",
              "      <th>1</th>\n",
              "      <td>1</td>\n",
              "      <td>Well...tremors I, the original started off in ...</td>\n",
              "      <td>0</td>\n",
              "      <td>10402</td>\n",
              "      <td>1</td>\n",
              "      <td>tt0334541</td>\n",
              "      <td>10402</td>\n",
              "    </tr>\n",
              "    <tr>\n",
              "      <th>2</th>\n",
              "      <td>2</td>\n",
              "      <td>Ouch! This one was a bit painful to sit throug...</td>\n",
              "      <td>0</td>\n",
              "      <td>1062</td>\n",
              "      <td>4</td>\n",
              "      <td>tt0043809</td>\n",
              "      <td>1062</td>\n",
              "    </tr>\n",
              "    <tr>\n",
              "      <th>3</th>\n",
              "      <td>3</td>\n",
              "      <td>I've seen some crappy movies in my life, but t...</td>\n",
              "      <td>0</td>\n",
              "      <td>9056</td>\n",
              "      <td>1</td>\n",
              "      <td>tt0219400</td>\n",
              "      <td>9056</td>\n",
              "    </tr>\n",
              "    <tr>\n",
              "      <th>4</th>\n",
              "      <td>4</td>\n",
              "      <td>\"Carriers\" follows the exploits of two guys an...</td>\n",
              "      <td>0</td>\n",
              "      <td>5392</td>\n",
              "      <td>3</td>\n",
              "      <td>tt0806203</td>\n",
              "      <td>5392</td>\n",
              "    </tr>\n",
              "  </tbody>\n",
              "</table>\n",
              "</div>"
            ],
            "text/plain": [
              "   Unnamed: 0  ... code_url\n",
              "0           0  ...     1821\n",
              "1           1  ...    10402\n",
              "2           2  ...     1062\n",
              "3           3  ...     9056\n",
              "4           4  ...     5392\n",
              "\n",
              "[5 rows x 7 columns]"
            ]
          },
          "metadata": {
            "tags": []
          },
          "execution_count": 34
        }
      ]
    },
    {
      "cell_type": "code",
      "metadata": {
        "id": "zaIUDOOYYqF0",
        "colab": {
          "base_uri": "https://localhost:8080/"
        },
        "outputId": "454ca54a-bf38-4196-ad1c-ded9ad6f1a6a"
      },
      "source": [
        "print(len(train_review), len(test_review))"
      ],
      "execution_count": 35,
      "outputs": [
        {
          "output_type": "stream",
          "text": [
            "24998 24998\n"
          ],
          "name": "stdout"
        }
      ]
    },
    {
      "cell_type": "markdown",
      "metadata": {
        "id": "FzJVRNEqP9a1"
      },
      "source": [
        "On va garder les *review* des films présents dans la base *df*."
      ]
    },
    {
      "cell_type": "code",
      "metadata": {
        "id": "V1kLX-8-QE3Z"
      },
      "source": [
        "l = []\n",
        "l_rtest = pd.unique(test_review.imdb_id)\n",
        "l_rtrain = pd.unique(train_review.imdb_id)\n",
        "for elem in df.imdb_id:\n",
        "  if elem in l_rtest or elem in l_rtrain : \n",
        "    l.append(elem)\n"
      ],
      "execution_count": 36,
      "outputs": []
    },
    {
      "cell_type": "code",
      "metadata": {
        "colab": {
          "base_uri": "https://localhost:8080/"
        },
        "id": "f6WKv_BRUj-E",
        "outputId": "80dfab82-18f5-407a-bbf9-73c1fbc75d1a"
      },
      "source": [
        "cond = test_review.apply ( lambda row : row['imdb_id'] in l , axis = 1 )\n",
        "test_filtered = test_review[cond]\n",
        "\n",
        "print('On a supprimé', len(test_review)-len(test_filtered), 'reviews de films non attribués dans la base')"
      ],
      "execution_count": 37,
      "outputs": [
        {
          "output_type": "stream",
          "text": [
            "On a supprimé 15318 reviews de films non attribués dans la base\n"
          ],
          "name": "stdout"
        }
      ]
    },
    {
      "cell_type": "code",
      "metadata": {
        "colab": {
          "base_uri": "https://localhost:8080/"
        },
        "id": "XVuFRYaCVOUK",
        "outputId": "1205df44-7a7b-4cb9-ee35-90330e002404"
      },
      "source": [
        "cond = train_review.apply ( lambda row : row['imdb_id'] in l , axis = 1 )\n",
        "train_filtered = train_review[cond]\n",
        "\n",
        "print('On a supprimé', len(train_review)-len(train_filtered), 'reviews de films non attribués dans la base')"
      ],
      "execution_count": 38,
      "outputs": [
        {
          "output_type": "stream",
          "text": [
            "On a supprimé 15094 reviews de films non attribués dans la base\n"
          ],
          "name": "stdout"
        }
      ]
    },
    {
      "cell_type": "markdown",
      "metadata": {
        "id": "cwI0NCSHVUHI"
      },
      "source": [
        "On va pouvoir associer les deux dataframe construits. "
      ]
    },
    {
      "cell_type": "code",
      "metadata": {
        "colab": {
          "base_uri": "https://localhost:8080/"
        },
        "id": "t2gL1xwCVTKK",
        "outputId": "d70517dd-f682-4915-b883-49c5cd9054c0"
      },
      "source": [
        "review_filtered = pd.concat([train_filtered, test_filtered]).reset_index()\n",
        "print(len(review_filtered))"
      ],
      "execution_count": 39,
      "outputs": [
        {
          "output_type": "stream",
          "text": [
            "19584\n"
          ],
          "name": "stdout"
        }
      ]
    },
    {
      "cell_type": "code",
      "metadata": {
        "id": "N5qN0noKY8VM",
        "colab": {
          "base_uri": "https://localhost:8080/",
          "height": 202
        },
        "outputId": "7812095a-b65a-4c3e-d5f7-197af9fe94a7"
      },
      "source": [
        "review_filtered = review_filtered.drop(columns='Unnamed: 0')\n",
        "review_filtered.head()"
      ],
      "execution_count": 40,
      "outputs": [
        {
          "output_type": "execute_result",
          "data": {
            "text/html": [
              "<div>\n",
              "<style scoped>\n",
              "    .dataframe tbody tr th:only-of-type {\n",
              "        vertical-align: middle;\n",
              "    }\n",
              "\n",
              "    .dataframe tbody tr th {\n",
              "        vertical-align: top;\n",
              "    }\n",
              "\n",
              "    .dataframe thead th {\n",
              "        text-align: right;\n",
              "    }\n",
              "</style>\n",
              "<table border=\"1\" class=\"dataframe\">\n",
              "  <thead>\n",
              "    <tr style=\"text-align: right;\">\n",
              "      <th></th>\n",
              "      <th>index</th>\n",
              "      <th>review</th>\n",
              "      <th>sentiment</th>\n",
              "      <th>url_code</th>\n",
              "      <th>rating</th>\n",
              "      <th>imdb_id</th>\n",
              "      <th>code_url</th>\n",
              "    </tr>\n",
              "  </thead>\n",
              "  <tbody>\n",
              "    <tr>\n",
              "      <th>0</th>\n",
              "      <td>1</td>\n",
              "      <td>Well...tremors I, the original started off in ...</td>\n",
              "      <td>0</td>\n",
              "      <td>10402</td>\n",
              "      <td>1</td>\n",
              "      <td>tt0334541</td>\n",
              "      <td>10402</td>\n",
              "    </tr>\n",
              "    <tr>\n",
              "      <th>1</th>\n",
              "      <td>2</td>\n",
              "      <td>Ouch! This one was a bit painful to sit throug...</td>\n",
              "      <td>0</td>\n",
              "      <td>1062</td>\n",
              "      <td>4</td>\n",
              "      <td>tt0043809</td>\n",
              "      <td>1062</td>\n",
              "    </tr>\n",
              "    <tr>\n",
              "      <th>2</th>\n",
              "      <td>3</td>\n",
              "      <td>I've seen some crappy movies in my life, but t...</td>\n",
              "      <td>0</td>\n",
              "      <td>9056</td>\n",
              "      <td>1</td>\n",
              "      <td>tt0219400</td>\n",
              "      <td>9056</td>\n",
              "    </tr>\n",
              "    <tr>\n",
              "      <th>3</th>\n",
              "      <td>4</td>\n",
              "      <td>\"Carriers\" follows the exploits of two guys an...</td>\n",
              "      <td>0</td>\n",
              "      <td>5392</td>\n",
              "      <td>3</td>\n",
              "      <td>tt0806203</td>\n",
              "      <td>5392</td>\n",
              "    </tr>\n",
              "    <tr>\n",
              "      <th>4</th>\n",
              "      <td>5</td>\n",
              "      <td>I had been looking forward to seeing this film...</td>\n",
              "      <td>0</td>\n",
              "      <td>2682</td>\n",
              "      <td>3</td>\n",
              "      <td>tt0120620</td>\n",
              "      <td>2682</td>\n",
              "    </tr>\n",
              "  </tbody>\n",
              "</table>\n",
              "</div>"
            ],
            "text/plain": [
              "   index  ... code_url\n",
              "0      1  ...    10402\n",
              "1      2  ...     1062\n",
              "2      3  ...     9056\n",
              "3      4  ...     5392\n",
              "4      5  ...     2682\n",
              "\n",
              "[5 rows x 7 columns]"
            ]
          },
          "metadata": {
            "tags": []
          },
          "execution_count": 40
        }
      ]
    },
    {
      "cell_type": "markdown",
      "metadata": {
        "id": "jsphFdKmQ1ZD"
      },
      "source": [
        "On tokenize puis on enlève les stopwords."
      ]
    },
    {
      "cell_type": "code",
      "metadata": {
        "id": "Ms6E9oLO5dXI",
        "colab": {
          "base_uri": "https://localhost:8080/"
        },
        "outputId": "e80578f7-fc82-435c-e583-68cc425c580c"
      },
      "source": [
        "from nltk.corpus import stopwords\n",
        "import nltk\n",
        "nltk.download('punkt')\n",
        "nltk.download('stopwords')\n",
        "from nltk.tokenize import word_tokenize\n",
        "\n",
        "reviews = review_filtered.review.str.cat(sep=' ')\n",
        "# on découpe selon les mots\n",
        "tokens = word_tokenize(reviews)\n",
        "stop_words = set(stopwords.words('english'))\n",
        "tokens = [w for w in tokens if not w in stop_words]\n",
        "words=[word.lower() for word in tokens if word.isalpha()]\n"
      ],
      "execution_count": 41,
      "outputs": [
        {
          "output_type": "stream",
          "text": [
            "[nltk_data] Downloading package punkt to /root/nltk_data...\n",
            "[nltk_data]   Package punkt is already up-to-date!\n",
            "[nltk_data] Downloading package stopwords to /root/nltk_data...\n",
            "[nltk_data]   Package stopwords is already up-to-date!\n"
          ],
          "name": "stdout"
        }
      ]
    },
    {
      "cell_type": "code",
      "metadata": {
        "colab": {
          "base_uri": "https://localhost:8080/"
        },
        "id": "Etq4YUMgQkL2",
        "outputId": "c18cbe6b-0631-4052-f9c1-9a1ef68fd5d8"
      },
      "source": [
        "vocabulary = set(words)\n",
        "print(len(vocabulary))\n",
        "frequency_dist = nltk.FreqDist(words)\n",
        "print('les 10 mots les plus fréquents',sorted(frequency_dist,key=frequency_dist.__getitem__, reverse=True)[0:20])\n"
      ],
      "execution_count": 42,
      "outputs": [
        {
          "output_type": "stream",
          "text": [
            "62144\n",
            "les 10 mots les plus fréquents ['br', 'i', 'movie', 'the', 'film', 'one', 'like', 'it', 'good', 'this', 'would', 'even', 'time', 'really', 'story', 'see', 'great', 'well', 'much', 'could']\n"
          ],
          "name": "stdout"
        }
      ]
    },
    {
      "cell_type": "markdown",
      "metadata": {
        "id": "1UvqljuaY-4K"
      },
      "source": [
        "Il y a encore quelques stop words qu'on va retirer. On rajoute les mots pertinents à retirer dans la liste *to_remove* jusqu'à ce que la liste des 10 mots les plus fréquents contienne des termes sans stopwords ainsi qu'uniquement des mots pertinents (par exemple *movies* ou *film* ne sont pas très pertinents puisque tous les objets sont des films ici)."
      ]
    },
    {
      "cell_type": "code",
      "metadata": {
        "id": "v4aCj6yoYHdk"
      },
      "source": [
        "to_remove = ['i','br', 'the','this', 'it', 'one', 'movie', 'film']\n",
        "words = [word for word in words if word not in to_remove]"
      ],
      "execution_count": 43,
      "outputs": []
    },
    {
      "cell_type": "code",
      "metadata": {
        "colab": {
          "base_uri": "https://localhost:8080/",
          "height": 198
        },
        "id": "ZglF-ogfQltJ",
        "outputId": "407f2f16-1788-4d58-91c8-d2fad7e4b39c"
      },
      "source": [
        "from wordcloud import WordCloud\n",
        "import matplotlib.pyplot as plt\n",
        "vocabulary = set(words)\n",
        "frequency_dist = nltk.FreqDist(words)\n",
        "wordcloud = WordCloud().generate_from_frequencies(frequency_dist)\n",
        "plt.imshow(wordcloud)\n",
        "plt.axis(\"off\")\n",
        "plt.show()\n"
      ],
      "execution_count": 44,
      "outputs": [
        {
          "output_type": "display_data",
          "data": {
            "image/png": "[encoded data removed]",
            "text/plain": [
              "<Figure size 432x288 with 1 Axes>"
            ]
          },
          "metadata": {
            "tags": [],
            "needs_background": "light"
          }
        }
      ]
    },
    {
      "cell_type": "markdown",
      "metadata": {
        "id": "-MoL-pKfZuDZ"
      },
      "source": [
        "Comme nous utilisons des subsets des bases d'apprentissage et d'entraînement initialement fournies, nous allons recréer ces bases pour notre modèle de sentiment analysis. "
      ]
    },
    {
      "cell_type": "code",
      "metadata": {
        "id": "S5SnxcXfVv14",
        "colab": {
          "base_uri": "https://localhost:8080/"
        },
        "outputId": "0c657934-1ae4-442e-c8fa-1b350c003b87"
      },
      "source": [
        "n_max = len(review_filtered)/2\n",
        "n_max "
      ],
      "execution_count": 45,
      "outputs": [
        {
          "output_type": "execute_result",
          "data": {
            "text/plain": [
              "9792.0"
            ]
          },
          "metadata": {
            "tags": []
          },
          "execution_count": 45
        }
      ]
    },
    {
      "cell_type": "code",
      "metadata": {
        "colab": {
          "base_uri": "https://localhost:8080/"
        },
        "id": "kXVGtQ0qZ4nY",
        "outputId": "bd19a626-36b9-4615-cca2-13ee940a5b64"
      },
      "source": [
        "print(len(review_filtered.loc[:n_max-1, 'review'].values), len(review_filtered.loc[n_max:,'review'].values))"
      ],
      "execution_count": 46,
      "outputs": [
        {
          "output_type": "stream",
          "text": [
            "9792 9792\n"
          ],
          "name": "stdout"
        }
      ]
    },
    {
      "cell_type": "code",
      "metadata": {
        "id": "RRrzbc_eX6gw"
      },
      "source": [
        "x_train = review_filtered.loc[:n_max-1, 'review'].values\n",
        "y_train = review_filtered.loc[:n_max-1, 'sentiment'].values\n",
        "x_test = review_filtered.loc[n_max:,'review'].values\n",
        "y_test = review_filtered.loc[n_max:,'sentiment'].values"
      ],
      "execution_count": 47,
      "outputs": []
    },
    {
      "cell_type": "markdown",
      "metadata": {
        "id": "BxKBipcrdOjQ"
      },
      "source": [
        "## Classificateur naïf bayésien"
      ]
    },
    {
      "cell_type": "markdown",
      "metadata": {
        "id": "4DhPyPI2aoR6"
      },
      "source": [
        "On préprocess le texte avec *TFidfTransformer* : "
      ]
    },
    {
      "cell_type": "code",
      "metadata": {
        "colab": {
          "base_uri": "https://localhost:8080/"
        },
        "id": "nc0kP4A4afW5",
        "outputId": "e9cdbcda-5ec0-4c1f-aef4-78f3b13c95b5"
      },
      "source": [
        "from sklearn.feature_extraction.text import TfidfTransformer\n",
        "from sklearn.feature_extraction.text import TfidfVectorizer\n",
        "vectorizer = TfidfVectorizer()\n",
        "train_vectors = vectorizer.fit_transform(x_train)\n",
        "test_vectors = vectorizer.transform(x_test)\n",
        "print(train_vectors.shape, test_vectors.shape)"
      ],
      "execution_count": 48,
      "outputs": [
        {
          "output_type": "stream",
          "text": [
            "(9792, 48607) (9792, 48607)\n"
          ],
          "name": "stdout"
        }
      ]
    },
    {
      "cell_type": "markdown",
      "metadata": {
        "id": "6WfCz2OXa20U"
      },
      "source": [
        "On utilise un classifier naïf bayésien pour entraîner notre modèle."
      ]
    },
    {
      "cell_type": "code",
      "metadata": {
        "id": "ofK28U6SavxK"
      },
      "source": [
        "from sklearn.naive_bayes import MultinomialNB\n",
        "clf = MultinomialNB().fit(train_vectors, y_train)"
      ],
      "execution_count": 49,
      "outputs": []
    },
    {
      "cell_type": "markdown",
      "metadata": {
        "id": "g_QXMuOYbCKu"
      },
      "source": [
        "Maintenant que le modèle est entraîné, on s'intéresse au score :"
      ]
    },
    {
      "cell_type": "code",
      "metadata": {
        "colab": {
          "base_uri": "https://localhost:8080/"
        },
        "id": "0EipgBm-a1az",
        "outputId": "e449cd1c-002a-43e7-8b23-7b2bf0bc3555"
      },
      "source": [
        "from  sklearn.metrics  import accuracy_score\n",
        "predicted = clf.predict(test_vectors)\n",
        "print(accuracy_score(y_test,predicted))\n"
      ],
      "execution_count": 50,
      "outputs": [
        {
          "output_type": "stream",
          "text": [
            "0.8278186274509803\n"
          ],
          "name": "stdout"
        }
      ]
    },
    {
      "cell_type": "code",
      "metadata": {
        "colab": {
          "base_uri": "https://localhost:8080/",
          "height": 0
        },
        "id": "q6L7jYM-d8_S",
        "outputId": "b92651cd-c80a-43a7-e616-cc591f2a52dd"
      },
      "source": [
        "from sklearn.metrics import accuracy_score, f1_score, precision_score, recall_score, confusion_matrix\n",
        "tab = pd.DataFrame([[accuracy_score(y_test, predicted)], [f1_score(y_test, predicted)],[precision_score(y_test, predicted)], [recall_score(y_test, predicted)]], index=['accuracy', 'f1', 'precision', 'recall'], columns = ['score'])\n",
        "tab"
      ],
      "execution_count": 51,
      "outputs": [
        {
          "output_type": "execute_result",
          "data": {
            "text/html": [
              "<div>\n",
              "<style scoped>\n",
              "    .dataframe tbody tr th:only-of-type {\n",
              "        vertical-align: middle;\n",
              "    }\n",
              "\n",
              "    .dataframe tbody tr th {\n",
              "        vertical-align: top;\n",
              "    }\n",
              "\n",
              "    .dataframe thead th {\n",
              "        text-align: right;\n",
              "    }\n",
              "</style>\n",
              "<table border=\"1\" class=\"dataframe\">\n",
              "  <thead>\n",
              "    <tr style=\"text-align: right;\">\n",
              "      <th></th>\n",
              "      <th>score</th>\n",
              "    </tr>\n",
              "  </thead>\n",
              "  <tbody>\n",
              "    <tr>\n",
              "      <th>accuracy</th>\n",
              "      <td>0.827819</td>\n",
              "    </tr>\n",
              "    <tr>\n",
              "      <th>f1</th>\n",
              "      <td>0.838506</td>\n",
              "    </tr>\n",
              "    <tr>\n",
              "      <th>precision</th>\n",
              "      <td>0.840922</td>\n",
              "    </tr>\n",
              "    <tr>\n",
              "      <th>recall</th>\n",
              "      <td>0.836103</td>\n",
              "    </tr>\n",
              "  </tbody>\n",
              "</table>\n",
              "</div>"
            ],
            "text/plain": [
              "              score\n",
              "accuracy   0.827819\n",
              "f1         0.838506\n",
              "precision  0.840922\n",
              "recall     0.836103"
            ]
          },
          "metadata": {
            "tags": []
          },
          "execution_count": 51
        }
      ]
    },
    {
      "cell_type": "code",
      "metadata": {
        "colab": {
          "base_uri": "https://localhost:8080/",
          "height": 0
        },
        "id": "1RavLKBoeCDL",
        "outputId": "6cb6968f-a55c-4677-fcb7-6d0123d6a19a"
      },
      "source": [
        "c = confusion_matrix(y_test, predicted)\n",
        "sns.heatmap(c)"
      ],
      "execution_count": 52,
      "outputs": [
        {
          "output_type": "execute_result",
          "data": {
            "text/plain": [
              "<matplotlib.axes._subplots.AxesSubplot at 0x7f00074e5400>"
            ]
          },
          "metadata": {
            "tags": []
          },
          "execution_count": 52
        },
        {
          "output_type": "display_data",
          "data": {
            "image/png": "[encoded data removed]",
            "text/plain": [
              "<Figure size 432x288 with 2 Axes>"
            ]
          },
          "metadata": {
            "tags": [],
            "needs_background": "light"
          }
        }
      ]
    },
    {
      "cell_type": "markdown",
      "metadata": {
        "id": "9gX1VQVMbJkE"
      },
      "source": [
        "On obtient un score de 84,71% sur la prédiction des sentiments positifs ou négatifs générés par les commentaires utilisateurs. On voit sur la matrice de confiance que les erreurs de type I (faux positifs) et de type II (faux négatifs) sont marginales. \n",
        "A priori, le classificateur est performant, mais il se trouve que SVM est une méthode d'ordinaire meilleure que le classificateur naïf bayésien. \n",
        "On va essayer d'améliorer ce score en utilisant un SVM plutôt qu'un classificateur naïf bayésien. L'avantage du classificateur naïf bayésien en dépit de sa performance est la rapidité d'exécution par rapport au SVM."
      ]
    },
    {
      "cell_type": "markdown",
      "metadata": {
        "id": "DBFjwjKkmONj"
      },
      "source": [
        "### 5-fold validation croisée"
      ]
    },
    {
      "cell_type": "code",
      "metadata": {
        "id": "GDZtdxvamFz4",
        "colab": {
          "base_uri": "https://localhost:8080/"
        },
        "outputId": "ff8d8d55-2eab-44c5-d45d-b48563839bdc"
      },
      "source": [
        "from sklearn.model_selection import cross_val_score\n",
        "scores = cross_val_score(clf, train_vectors, y_train, cv=5)\n",
        "print(\"Cross-validation scores: {}\".format(scores))"
      ],
      "execution_count": 53,
      "outputs": [
        {
          "output_type": "stream",
          "text": [
            "Cross-validation scores: [0.87799898 0.87442573 0.88508682 0.86210419 0.88100102]\n"
          ],
          "name": "stdout"
        }
      ]
    },
    {
      "cell_type": "markdown",
      "metadata": {
        "id": "gCoXtIMkdSVs"
      },
      "source": [
        "## Classificateur SVM"
      ]
    },
    {
      "cell_type": "code",
      "metadata": {
        "id": "pcssCwFla_Ii"
      },
      "source": [
        "from sklearn.model_selection import train_test_split\n",
        "from sklearn.metrics import classification_report"
      ],
      "execution_count": 54,
      "outputs": []
    },
    {
      "cell_type": "code",
      "metadata": {
        "id": "v-4tZ0g0dUiI"
      },
      "source": [
        "from sklearn.svm import SVC\n",
        "clf_svm = SVC(kernel='linear', C=1)\n",
        "clf_svm.fit(train_vectors, y_train)\n",
        "y_pred = clf.predict(test_vectors)"
      ],
      "execution_count": 55,
      "outputs": []
    },
    {
      "cell_type": "code",
      "metadata": {
        "colab": {
          "base_uri": "https://localhost:8080/",
          "height": 171
        },
        "id": "EDfIq1Osdfuq",
        "outputId": "d9bf9fe4-365c-4572-e555-efd54b3a2d1d"
      },
      "source": [
        "from sklearn.metrics import accuracy_score, f1_score, precision_score, recall_score, confusion_matrix\n",
        "tab = pd.DataFrame([[accuracy_score(y_test, y_pred)], [f1_score(y_test, y_pred)],[precision_score(y_test,y_pred)], [recall_score(y_test, y_pred)]], index=['accuracy', 'f1', 'precision', 'recall'], columns = ['score'])\n",
        "tab"
      ],
      "execution_count": 56,
      "outputs": [
        {
          "output_type": "execute_result",
          "data": {
            "text/html": [
              "<div>\n",
              "<style scoped>\n",
              "    .dataframe tbody tr th:only-of-type {\n",
              "        vertical-align: middle;\n",
              "    }\n",
              "\n",
              "    .dataframe tbody tr th {\n",
              "        vertical-align: top;\n",
              "    }\n",
              "\n",
              "    .dataframe thead th {\n",
              "        text-align: right;\n",
              "    }\n",
              "</style>\n",
              "<table border=\"1\" class=\"dataframe\">\n",
              "  <thead>\n",
              "    <tr style=\"text-align: right;\">\n",
              "      <th></th>\n",
              "      <th>score</th>\n",
              "    </tr>\n",
              "  </thead>\n",
              "  <tbody>\n",
              "    <tr>\n",
              "      <th>accuracy</th>\n",
              "      <td>0.827819</td>\n",
              "    </tr>\n",
              "    <tr>\n",
              "      <th>f1</th>\n",
              "      <td>0.838506</td>\n",
              "    </tr>\n",
              "    <tr>\n",
              "      <th>precision</th>\n",
              "      <td>0.840922</td>\n",
              "    </tr>\n",
              "    <tr>\n",
              "      <th>recall</th>\n",
              "      <td>0.836103</td>\n",
              "    </tr>\n",
              "  </tbody>\n",
              "</table>\n",
              "</div>"
            ],
            "text/plain": [
              "              score\n",
              "accuracy   0.827819\n",
              "f1         0.838506\n",
              "precision  0.840922\n",
              "recall     0.836103"
            ]
          },
          "metadata": {
            "tags": []
          },
          "execution_count": 56
        }
      ]
    },
    {
      "cell_type": "markdown",
      "metadata": {
        "id": "9MbTu-q-e-bI"
      },
      "source": [
        "En effet, le score en SVM est un peu plus élevé, avec une précision de 87,21%. Le temps d'exécution est bien plus long en revanche. "
      ]
    },
    {
      "cell_type": "code",
      "metadata": {
        "colab": {
          "base_uri": "https://localhost:8080/",
          "height": 283
        },
        "id": "sXxCJ4V6ezfu",
        "outputId": "297eefdb-db26-44c4-e2b7-7e229b5b18ac"
      },
      "source": [
        "c = confusion_matrix(y_test, y_pred)\n",
        "sns.heatmap(c)"
      ],
      "execution_count": 57,
      "outputs": [
        {
          "output_type": "execute_result",
          "data": {
            "text/plain": [
              "<matplotlib.axes._subplots.AxesSubplot at 0x7f00019f1c18>"
            ]
          },
          "metadata": {
            "tags": []
          },
          "execution_count": 57
        },
        {
          "output_type": "display_data",
          "data": {
            "image/png": "[encoded data removed]",
            "text/plain": [
              "<Figure size 432x288 with 2 Axes>"
            ]
          },
          "metadata": {
            "tags": [],
            "needs_background": "light"
          }
        }
      ]
    },
    {
      "cell_type": "markdown",
      "metadata": {
        "id": "E_o4oq3ffeQA"
      },
      "source": [
        "La matrice de confusion est à peu près inchangée."
      ]
    },
    {
      "cell_type": "markdown",
      "metadata": {
        "id": "rSudlUTUfPHD"
      },
      "source": [
        "### 5-fold validation croisée SVM"
      ]
    },
    {
      "cell_type": "code",
      "metadata": {
        "colab": {
          "base_uri": "https://localhost:8080/"
        },
        "id": "aOzxXFIbfUdq",
        "outputId": "64f61bff-6eec-490d-82a6-667b60e81433"
      },
      "source": [
        "scores = cross_val_score(clf_svm, train_vectors, y_train, cv=5)\n",
        "print(\"Cross-validation scores: {}\".format(scores))"
      ],
      "execution_count": 58,
      "outputs": [
        {
          "output_type": "stream",
          "text": [
            "Cross-validation scores: [0.90658499 0.8963757  0.90091931 0.89121553 0.90040858]\n"
          ],
          "name": "stdout"
        }
      ]
    },
    {
      "cell_type": "markdown",
      "metadata": {
        "id": "mUuoS02fhuCg"
      },
      "source": [
        "# Approfondissement de la régression\n"
      ]
    },
    {
      "cell_type": "markdown",
      "metadata": {
        "id": "waJc5ZT1jRdX"
      },
      "source": [
        "A présent, on va rajouter à la base les données de score imdb associés aux commentaires et la nature des commentaires (positifs ou négatifs) afin de voir si cela améliore la régression sur le score."
      ]
    },
    {
      "cell_type": "markdown",
      "metadata": {
        "id": "gX4IAcE2kfFE"
      },
      "source": [
        "## Préparation des données"
      ]
    },
    {
      "cell_type": "code",
      "metadata": {
        "id": "tLQKf3CRkg_M"
      },
      "source": [
        "gr_review = review_filtered.groupby('imdb_id').mean()\n",
        "#gr_review = gr_review.drop(columns=['Unnamed: 0', 'url_code'])\n"
      ],
      "execution_count": 79,
      "outputs": []
    },
    {
      "cell_type": "code",
      "metadata": {
        "colab": {
          "base_uri": "https://localhost:8080/"
        },
        "id": "J3JEpjr0l8nN",
        "outputId": "cdb77e5e-373d-40c9-df94-725c179bc462"
      },
      "source": [
        "print(len(pd.unique(review_filtered.imdb_id)))"
      ],
      "execution_count": 80,
      "outputs": [
        {
          "output_type": "stream",
          "text": [
            "1779\n"
          ],
          "name": "stdout"
        }
      ]
    },
    {
      "cell_type": "code",
      "metadata": {
        "colab": {
          "base_uri": "https://localhost:8080/"
        },
        "id": "tr26R_TPk-Gg",
        "outputId": "7fa5eff2-8058-4d74-9c72-dea6a6b333d8"
      },
      "source": [
        "df_2 = pd.merge(df, gr_review, left_on ='imdb_id', right_on ='imdb_id')\n",
        "print(len(df_2))"
      ],
      "execution_count": 81,
      "outputs": [
        {
          "output_type": "stream",
          "text": [
            "1779\n"
          ],
          "name": "stdout"
        }
      ]
    },
    {
      "cell_type": "code",
      "metadata": {
        "id": "anZujPCSn1TG",
        "colab": {
          "base_uri": "https://localhost:8080/",
          "height": 0
        },
        "outputId": "c61036d3-5893-4ba3-aef2-a351006d2047"
      },
      "source": [
        "corr = df_2[['budget', 'revenue', 'runtime', 'score_1', 'sentiment', 'rating']].corr()\n",
        "corr.style.background_gradient(cmap = 'coolwarm')"
      ],
      "execution_count": 82,
      "outputs": [
        {
          "output_type": "execute_result",
          "data": {
            "text/html": [
              "<style  type=\"text/css\" >\n",
              "#T_0bb69fe6_3e2d_11eb_877d_0242ac1c0002row0_col0,#T_0bb69fe6_3e2d_11eb_877d_0242ac1c0002row1_col1,#T_0bb69fe6_3e2d_11eb_877d_0242ac1c0002row2_col2,#T_0bb69fe6_3e2d_11eb_877d_0242ac1c0002row3_col3,#T_0bb69fe6_3e2d_11eb_877d_0242ac1c0002row4_col4,#T_0bb69fe6_3e2d_11eb_877d_0242ac1c0002row5_col5{\n",
              "            background-color:  #b40426;\n",
              "            color:  #f1f1f1;\n",
              "        }#T_0bb69fe6_3e2d_11eb_877d_0242ac1c0002row0_col1{\n",
              "            background-color:  #f7b194;\n",
              "            color:  #000000;\n",
              "        }#T_0bb69fe6_3e2d_11eb_877d_0242ac1c0002row0_col2{\n",
              "            background-color:  #82a6fb;\n",
              "            color:  #000000;\n",
              "        }#T_0bb69fe6_3e2d_11eb_877d_0242ac1c0002row0_col3{\n",
              "            background-color:  #e2dad5;\n",
              "            color:  #000000;\n",
              "        }#T_0bb69fe6_3e2d_11eb_877d_0242ac1c0002row0_col4,#T_0bb69fe6_3e2d_11eb_877d_0242ac1c0002row0_col5,#T_0bb69fe6_3e2d_11eb_877d_0242ac1c0002row4_col1,#T_0bb69fe6_3e2d_11eb_877d_0242ac1c0002row4_col3,#T_0bb69fe6_3e2d_11eb_877d_0242ac1c0002row5_col0,#T_0bb69fe6_3e2d_11eb_877d_0242ac1c0002row5_col1,#T_0bb69fe6_3e2d_11eb_877d_0242ac1c0002row5_col2{\n",
              "            background-color:  #3b4cc0;\n",
              "            color:  #f1f1f1;\n",
              "        }#T_0bb69fe6_3e2d_11eb_877d_0242ac1c0002row1_col0{\n",
              "            background-color:  #f7ad90;\n",
              "            color:  #000000;\n",
              "        }#T_0bb69fe6_3e2d_11eb_877d_0242ac1c0002row1_col2{\n",
              "            background-color:  #81a4fb;\n",
              "            color:  #000000;\n",
              "        }#T_0bb69fe6_3e2d_11eb_877d_0242ac1c0002row1_col3{\n",
              "            background-color:  #f18f71;\n",
              "            color:  #000000;\n",
              "        }#T_0bb69fe6_3e2d_11eb_877d_0242ac1c0002row1_col4{\n",
              "            background-color:  #4358cb;\n",
              "            color:  #f1f1f1;\n",
              "        }#T_0bb69fe6_3e2d_11eb_877d_0242ac1c0002row1_col5{\n",
              "            background-color:  #455cce;\n",
              "            color:  #f1f1f1;\n",
              "        }#T_0bb69fe6_3e2d_11eb_877d_0242ac1c0002row2_col0{\n",
              "            background-color:  #96b7ff;\n",
              "            color:  #000000;\n",
              "        }#T_0bb69fe6_3e2d_11eb_877d_0242ac1c0002row2_col1,#T_0bb69fe6_3e2d_11eb_877d_0242ac1c0002row3_col2{\n",
              "            background-color:  #89acfd;\n",
              "            color:  #000000;\n",
              "        }#T_0bb69fe6_3e2d_11eb_877d_0242ac1c0002row2_col3{\n",
              "            background-color:  #8db0fe;\n",
              "            color:  #000000;\n",
              "        }#T_0bb69fe6_3e2d_11eb_877d_0242ac1c0002row2_col4{\n",
              "            background-color:  #4e68d8;\n",
              "            color:  #000000;\n",
              "        }#T_0bb69fe6_3e2d_11eb_877d_0242ac1c0002row2_col5{\n",
              "            background-color:  #4f69d9;\n",
              "            color:  #000000;\n",
              "        }#T_0bb69fe6_3e2d_11eb_877d_0242ac1c0002row3_col0{\n",
              "            background-color:  #e8d6cc;\n",
              "            color:  #000000;\n",
              "        }#T_0bb69fe6_3e2d_11eb_877d_0242ac1c0002row3_col1{\n",
              "            background-color:  #f18d6f;\n",
              "            color:  #000000;\n",
              "        }#T_0bb69fe6_3e2d_11eb_877d_0242ac1c0002row3_col4{\n",
              "            background-color:  #485fd1;\n",
              "            color:  #f1f1f1;\n",
              "        }#T_0bb69fe6_3e2d_11eb_877d_0242ac1c0002row3_col5{\n",
              "            background-color:  #4c66d6;\n",
              "            color:  #000000;\n",
              "        }#T_0bb69fe6_3e2d_11eb_877d_0242ac1c0002row4_col0{\n",
              "            background-color:  #3d50c3;\n",
              "            color:  #f1f1f1;\n",
              "        }#T_0bb69fe6_3e2d_11eb_877d_0242ac1c0002row4_col2,#T_0bb69fe6_3e2d_11eb_877d_0242ac1c0002row5_col3{\n",
              "            background-color:  #3c4ec2;\n",
              "            color:  #f1f1f1;\n",
              "        }#T_0bb69fe6_3e2d_11eb_877d_0242ac1c0002row4_col5,#T_0bb69fe6_3e2d_11eb_877d_0242ac1c0002row5_col4{\n",
              "            background-color:  #c12b30;\n",
              "            color:  #f1f1f1;\n",
              "        }</style><table id=\"T_0bb69fe6_3e2d_11eb_877d_0242ac1c0002\" ><thead>    <tr>        <th class=\"blank level0\" ></th>        <th class=\"col_heading level0 col0\" >budget</th>        <th class=\"col_heading level0 col1\" >revenue</th>        <th class=\"col_heading level0 col2\" >runtime</th>        <th class=\"col_heading level0 col3\" >score_1</th>        <th class=\"col_heading level0 col4\" >sentiment</th>        <th class=\"col_heading level0 col5\" >rating</th>    </tr></thead><tbody>\n",
              "                <tr>\n",
              "                        <th id=\"T_0bb69fe6_3e2d_11eb_877d_0242ac1c0002level0_row0\" class=\"row_heading level0 row0\" >budget</th>\n",
              "                        <td id=\"T_0bb69fe6_3e2d_11eb_877d_0242ac1c0002row0_col0\" class=\"data row0 col0\" >1.000000</td>\n",
              "                        <td id=\"T_0bb69fe6_3e2d_11eb_877d_0242ac1c0002row0_col1\" class=\"data row0 col1\" >0.688175</td>\n",
              "                        <td id=\"T_0bb69fe6_3e2d_11eb_877d_0242ac1c0002row0_col2\" class=\"data row0 col2\" >0.253552</td>\n",
              "                        <td id=\"T_0bb69fe6_3e2d_11eb_877d_0242ac1c0002row0_col3\" class=\"data row0 col3\" >0.534138</td>\n",
              "                        <td id=\"T_0bb69fe6_3e2d_11eb_877d_0242ac1c0002row0_col4\" class=\"data row0 col4\" >-0.019465</td>\n",
              "                        <td id=\"T_0bb69fe6_3e2d_11eb_877d_0242ac1c0002row0_col5\" class=\"data row0 col5\" >-0.028066</td>\n",
              "            </tr>\n",
              "            <tr>\n",
              "                        <th id=\"T_0bb69fe6_3e2d_11eb_877d_0242ac1c0002level0_row1\" class=\"row_heading level0 row1\" >revenue</th>\n",
              "                        <td id=\"T_0bb69fe6_3e2d_11eb_877d_0242ac1c0002row1_col0\" class=\"data row1 col0\" >0.688175</td>\n",
              "                        <td id=\"T_0bb69fe6_3e2d_11eb_877d_0242ac1c0002row1_col1\" class=\"data row1 col1\" >1.000000</td>\n",
              "                        <td id=\"T_0bb69fe6_3e2d_11eb_877d_0242ac1c0002row1_col2\" class=\"data row1 col2\" >0.249538</td>\n",
              "                        <td id=\"T_0bb69fe6_3e2d_11eb_877d_0242ac1c0002row1_col3\" class=\"data row1 col3\" >0.780262</td>\n",
              "                        <td id=\"T_0bb69fe6_3e2d_11eb_877d_0242ac1c0002row1_col4\" class=\"data row1 col4\" >0.011870</td>\n",
              "                        <td id=\"T_0bb69fe6_3e2d_11eb_877d_0242ac1c0002row1_col5\" class=\"data row1 col5\" >0.011924</td>\n",
              "            </tr>\n",
              "            <tr>\n",
              "                        <th id=\"T_0bb69fe6_3e2d_11eb_877d_0242ac1c0002level0_row2\" class=\"row_heading level0 row2\" >runtime</th>\n",
              "                        <td id=\"T_0bb69fe6_3e2d_11eb_877d_0242ac1c0002row2_col0\" class=\"data row2 col0\" >0.253552</td>\n",
              "                        <td id=\"T_0bb69fe6_3e2d_11eb_877d_0242ac1c0002row2_col1\" class=\"data row2 col1\" >0.249538</td>\n",
              "                        <td id=\"T_0bb69fe6_3e2d_11eb_877d_0242ac1c0002row2_col2\" class=\"data row2 col2\" >1.000000</td>\n",
              "                        <td id=\"T_0bb69fe6_3e2d_11eb_877d_0242ac1c0002row2_col3\" class=\"data row2 col3\" >0.271800</td>\n",
              "                        <td id=\"T_0bb69fe6_3e2d_11eb_877d_0242ac1c0002row2_col4\" class=\"data row2 col4\" >0.048067</td>\n",
              "                        <td id=\"T_0bb69fe6_3e2d_11eb_877d_0242ac1c0002row2_col5\" class=\"data row2 col5\" >0.043022</td>\n",
              "            </tr>\n",
              "            <tr>\n",
              "                        <th id=\"T_0bb69fe6_3e2d_11eb_877d_0242ac1c0002level0_row3\" class=\"row_heading level0 row3\" >score_1</th>\n",
              "                        <td id=\"T_0bb69fe6_3e2d_11eb_877d_0242ac1c0002row3_col0\" class=\"data row3 col0\" >0.534138</td>\n",
              "                        <td id=\"T_0bb69fe6_3e2d_11eb_877d_0242ac1c0002row3_col1\" class=\"data row3 col1\" >0.780262</td>\n",
              "                        <td id=\"T_0bb69fe6_3e2d_11eb_877d_0242ac1c0002row3_col2\" class=\"data row3 col2\" >0.271800</td>\n",
              "                        <td id=\"T_0bb69fe6_3e2d_11eb_877d_0242ac1c0002row3_col3\" class=\"data row3 col3\" >1.000000</td>\n",
              "                        <td id=\"T_0bb69fe6_3e2d_11eb_877d_0242ac1c0002row3_col4\" class=\"data row3 col4\" >0.028212</td>\n",
              "                        <td id=\"T_0bb69fe6_3e2d_11eb_877d_0242ac1c0002row3_col5\" class=\"data row3 col5\" >0.032445</td>\n",
              "            </tr>\n",
              "            <tr>\n",
              "                        <th id=\"T_0bb69fe6_3e2d_11eb_877d_0242ac1c0002level0_row4\" class=\"row_heading level0 row4\" >sentiment</th>\n",
              "                        <td id=\"T_0bb69fe6_3e2d_11eb_877d_0242ac1c0002row4_col0\" class=\"data row4 col0\" >-0.019465</td>\n",
              "                        <td id=\"T_0bb69fe6_3e2d_11eb_877d_0242ac1c0002row4_col1\" class=\"data row4 col1\" >0.011870</td>\n",
              "                        <td id=\"T_0bb69fe6_3e2d_11eb_877d_0242ac1c0002row4_col2\" class=\"data row4 col2\" >0.048067</td>\n",
              "                        <td id=\"T_0bb69fe6_3e2d_11eb_877d_0242ac1c0002row4_col3\" class=\"data row4 col3\" >0.028212</td>\n",
              "                        <td id=\"T_0bb69fe6_3e2d_11eb_877d_0242ac1c0002row4_col4\" class=\"data row4 col4\" >1.000000</td>\n",
              "                        <td id=\"T_0bb69fe6_3e2d_11eb_877d_0242ac1c0002row4_col5\" class=\"data row4 col5\" >0.961756</td>\n",
              "            </tr>\n",
              "            <tr>\n",
              "                        <th id=\"T_0bb69fe6_3e2d_11eb_877d_0242ac1c0002level0_row5\" class=\"row_heading level0 row5\" >rating</th>\n",
              "                        <td id=\"T_0bb69fe6_3e2d_11eb_877d_0242ac1c0002row5_col0\" class=\"data row5 col0\" >-0.028066</td>\n",
              "                        <td id=\"T_0bb69fe6_3e2d_11eb_877d_0242ac1c0002row5_col1\" class=\"data row5 col1\" >0.011924</td>\n",
              "                        <td id=\"T_0bb69fe6_3e2d_11eb_877d_0242ac1c0002row5_col2\" class=\"data row5 col2\" >0.043022</td>\n",
              "                        <td id=\"T_0bb69fe6_3e2d_11eb_877d_0242ac1c0002row5_col3\" class=\"data row5 col3\" >0.032445</td>\n",
              "                        <td id=\"T_0bb69fe6_3e2d_11eb_877d_0242ac1c0002row5_col4\" class=\"data row5 col4\" >0.961756</td>\n",
              "                        <td id=\"T_0bb69fe6_3e2d_11eb_877d_0242ac1c0002row5_col5\" class=\"data row5 col5\" >1.000000</td>\n",
              "            </tr>\n",
              "    </tbody></table>"
            ],
            "text/plain": [
              "<pandas.io.formats.style.Styler at 0x7f0001866710>"
            ]
          },
          "metadata": {
            "tags": []
          },
          "execution_count": 82
        }
      ]
    },
    {
      "cell_type": "code",
      "metadata": {
        "id": "K22b38BrfaC9"
      },
      "source": [
        "X = pd.DataFrame(np.c_[df_2.budget, df_2.revenue, df_2.rating, df_2.sentiment], columns= ['budget', 'revenue', 'rating', 'sentiment'])\n",
        "Y = df_2.score_1"
      ],
      "execution_count": 83,
      "outputs": []
    },
    {
      "cell_type": "markdown",
      "metadata": {
        "id": "tYDn7K_0nHBb"
      },
      "source": [
        "## Régression linéaire avec ajout de \"rating\" et \"sentiment\""
      ]
    },
    {
      "cell_type": "code",
      "metadata": {
        "colab": {
          "base_uri": "https://localhost:8080/"
        },
        "id": "QBqK6H5PlfeW",
        "outputId": "ef8aac0a-0030-4ea9-9de1-4bd526c5ea93"
      },
      "source": [
        "from sklearn.model_selection import train_test_split\n",
        " \n",
        "X_train, X_test, Y_train, Y_test = train_test_split(X, Y, test_size = 0.2, random_state=5)\n",
        "print(X_train.shape)\n",
        "print(X_test.shape)\n",
        "print(Y_train.shape)\n",
        "print(Y_test.shape)\n",
        "\n",
        "from sklearn.linear_model import LinearRegression\n",
        "from sklearn.metrics import mean_squared_error\n",
        " \n",
        "lmodellineaire = LinearRegression()\n",
        "lmodellineaire.fit(X_train, Y_train)\n"
      ],
      "execution_count": 84,
      "outputs": [
        {
          "output_type": "stream",
          "text": [
            "(1423, 4)\n",
            "(356, 4)\n",
            "(1423,)\n",
            "(356,)\n"
          ],
          "name": "stdout"
        },
        {
          "output_type": "execute_result",
          "data": {
            "text/plain": [
              "LinearRegression(copy_X=True, fit_intercept=True, n_jobs=None, normalize=False)"
            ]
          },
          "metadata": {
            "tags": []
          },
          "execution_count": 84
        }
      ]
    },
    {
      "cell_type": "code",
      "metadata": {
        "colab": {
          "base_uri": "https://localhost:8080/"
        },
        "id": "xGUam1qalt74",
        "outputId": "8fb46f59-b51b-4d08-9480-1c7a6b033802"
      },
      "source": [
        "# Evaluation du training set\n",
        "from sklearn.metrics import r2_score\n",
        "y_train_predict_rating = lmodellineaire.predict(X_train)\n",
        "rmse = (np.sqrt(mean_squared_error(Y_train, y_train_predict_rating)))\n",
        "r2 = r2_score(Y_train, y_train_predict_rating)\n",
        " \n",
        "print(\"Performance du modèle sur la base d'apprentissage\")\n",
        "print('--------------------------------------')\n",
        "print(\"L'erreur quadratique moyenne est {}\".format(rmse))\n",
        "print('Le score R² est {}'.format(r2))\n",
        "print('\\n')\n",
        " \n",
        "# Evaluation du testing set\n",
        "y_test_predict_rating = lmodellineaire.predict(X_test)\n",
        "rmse = (np.sqrt(mean_squared_error(Y_test, y_test_predict_rating)))\n",
        "r2 = r2_score(Y_test, y_test_predict_rating)\n",
        " \n",
        "print('Performance du modèle sur la base de test')\n",
        "print('--------------------------------------')\n",
        "print(\"L'erreur quadratique moyenne est {}\".format(rmse))\n",
        "print('Le score R² est {}'.format(r2))"
      ],
      "execution_count": 86,
      "outputs": [
        {
          "output_type": "stream",
          "text": [
            "Performance du modèle sur la base d'apprentissage\n",
            "--------------------------------------\n",
            "L'erreur quadratique moyenne est 2751.7752581887908\n",
            "Le score R² est 0.634456027279134\n",
            "\n",
            "\n",
            "Performance du modèle sur la base de test\n",
            "--------------------------------------\n",
            "L'erreur quadratique moyenne est 2778.814420793052\n",
            "Le score R² est 0.451731471378768\n"
          ],
          "name": "stdout"
        }
      ]
    },
    {
      "cell_type": "markdown",
      "metadata": {
        "id": "q2mrMHf77zdb"
      },
      "source": [
        "Il semblerait que l'ajout de variables supplémentaires diminue la qualité de la prédiction. En effet, on passe d'un $R^2$ de 59% à 45%, même si on diminue l'erreur quadratique."
      ]
    },
    {
      "cell_type": "markdown",
      "metadata": {
        "id": "Kin-EN9tnDzR"
      },
      "source": [
        "## Régression tronquée"
      ]
    },
    {
      "cell_type": "markdown",
      "metadata": {
        "id": "--qIEUlvmMrX"
      },
      "source": [
        "Sur les 1er et 3e quartiles. "
      ]
    },
    {
      "cell_type": "code",
      "metadata": {
        "colab": {
          "base_uri": "https://localhost:8080/"
        },
        "id": "N_VtJwbXmFu7",
        "outputId": "9c4ec040-d8e5-4fb2-da96-e07378a4e83d"
      },
      "source": [
        "first_quart = np.percentile(df_2.score_1, 25)\n",
        "third_quart = np.percentile(df_2.score_1, 75)\n",
        "\n",
        "# Filtration des données\n",
        "df_quart = df_2[df_2.score_1 > first_quart]\n",
        "df_quart = df_2[df_2.score_1 < third_quart]\n",
        "\n",
        "# Création des variables nécessaires\n",
        "X2 = pd.DataFrame(np.c_[df_quart.budget, df_quart.revenue], columns= ['budget', 'revenue'])\n",
        "Y2 = df_quart.score_1\n",
        "X_train2, X_test2, Y_train2, Y_test2 = train_test_split(X2, Y2, test_size = 0.2, random_state=5)\n",
        "\n",
        "# Lancement de la régression linéaire\n",
        "lmodellineaire = LinearRegression()\n",
        "lmodellineaire.fit(X_train2, Y_train2)"
      ],
      "execution_count": 87,
      "outputs": [
        {
          "output_type": "execute_result",
          "data": {
            "text/plain": [
              "LinearRegression(copy_X=True, fit_intercept=True, n_jobs=None, normalize=False)"
            ]
          },
          "metadata": {
            "tags": []
          },
          "execution_count": 87
        }
      ]
    },
    {
      "cell_type": "code",
      "metadata": {
        "colab": {
          "base_uri": "https://localhost:8080/"
        },
        "id": "Gvhr9AT3mVoN",
        "outputId": "960e7aa7-dbf8-486d-e1cf-d0818e162bcd"
      },
      "source": [
        "# Evaluation du training set\n",
        "from sklearn.metrics import r2_score\n",
        "y_train_predict_rating2 = lmodellineaire.predict(X_train2)\n",
        "rmse = (np.sqrt(mean_squared_error(Y_train2, y_train_predict_rating2)))\n",
        "r2 = r2_score(Y_train2, y_train_predict_rating2)\n",
        " \n",
        "print(\"Performance du modèle sur la base d'apprentissage\")\n",
        "print('--------------------------------------')\n",
        "print(\"L'erreur quadratique moyenne est {}\".format(rmse))\n",
        "print('Le score R² est {}'.format(r2))\n",
        "print('\\n')\n",
        " \n",
        "# Evaluation du testing set\n",
        "y_test_predict_rating2 = lmodellineaire.predict(X_test2)\n",
        "rmse = (np.sqrt(mean_squared_error(Y_test2, y_test_predict_rating2)))\n",
        "r2 = r2_score(Y_test2, y_test_predict_rating2)\n",
        " \n",
        "print('Performance du modèle sur la base de test')\n",
        "print('--------------------------------------')\n",
        "print(\"L'erreur quadratique moyenne est {}\".format(rmse))\n",
        "print('Le score R² est {}'.format(r2))"
      ],
      "execution_count": 89,
      "outputs": [
        {
          "output_type": "stream",
          "text": [
            "Performance du modèle sur la base d'apprentissage\n",
            "--------------------------------------\n",
            "L'erreur quadratique moyenne est 173.1820015609836\n",
            "Le score R² est 0.20264541422578397\n",
            "\n",
            "\n",
            "Performance du modèle sur la base de test\n",
            "--------------------------------------\n",
            "L'erreur quadratique moyenne est 160.19713029033295\n",
            "Le score R² est 0.21978490918629323\n"
          ],
          "name": "stdout"
        }
      ]
    },
    {
      "cell_type": "markdown",
      "metadata": {
        "id": "Z4jgb2LCmkqV"
      },
      "source": [
        "On a encore diminué l'erreur quadratique moyenne par rapport aux premières régressions linéaires mais le $R^2$ est toujours très très faible ce qui indique une mauvaise qualité de la prédiction. Il faut noter que si on a rajouté deux features pertinents à la régression, ce rajout nous a fait perdre de l'information puisque l'échantillon a été diminué à 1779 films."
      ]
    },
    {
      "cell_type": "markdown",
      "metadata": {
        "id": "Vt8G3qNm90F0"
      },
      "source": [
        "## Comparaison graphique des deux régressions"
      ]
    },
    {
      "cell_type": "code",
      "metadata": {
        "id": "kbYC52LtS7TO",
        "colab": {
          "base_uri": "https://localhost:8080/",
          "height": 1000
        },
        "outputId": "cc6b219d-3021-4977-9bb8-bcebe8df7f8c"
      },
      "source": [
        "plot(Y_test,y_test_predict_rating)\n",
        "plt.title('Prédiction de la variable score_1 par le budget, le revenu, sentiment et rating \\n Base entière')\n",
        "\n",
        "plot(Y_test2, y_test_predict_rating2)\n",
        "plt.title('Prédiction de la variable score_1 par le budget, le revenu, sentiment et rating \\n Valeurs de score_1 entre les 1er et 3ème quartiles')\n",
        "\n",
        "plt.show()"
      ],
      "execution_count": 91,
      "outputs": [
        {
          "output_type": "stream",
          "text": [
            "/usr/local/lib/python3.6/dist-packages/seaborn/distributions.py:2551: FutureWarning:\n",
            "\n",
            "`distplot` is a deprecated function and will be removed in a future version. Please adapt your code to use either `displot` (a figure-level function with similar flexibility) or `histplot` (an axes-level function for histograms).\n",
            "\n",
            "/usr/local/lib/python3.6/dist-packages/seaborn/distributions.py:2551: FutureWarning:\n",
            "\n",
            "`distplot` is a deprecated function and will be removed in a future version. Please adapt your code to use either `displot` (a figure-level function with similar flexibility) or `histplot` (an axes-level function for histograms).\n",
            "\n",
            "/usr/local/lib/python3.6/dist-packages/seaborn/distributions.py:2551: FutureWarning:\n",
            "\n",
            "`distplot` is a deprecated function and will be removed in a future version. Please adapt your code to use either `displot` (a figure-level function with similar flexibility) or `histplot` (an axes-level function for histograms).\n",
            "\n",
            "/usr/local/lib/python3.6/dist-packages/seaborn/distributions.py:2551: FutureWarning:\n",
            "\n",
            "`distplot` is a deprecated function and will be removed in a future version. Please adapt your code to use either `displot` (a figure-level function with similar flexibility) or `histplot` (an axes-level function for histograms).\n",
            "\n"
          ],
          "name": "stderr"
        },
        {
          "output_type": "display_data",
          "data": {
            "image/png": "[encoded data removed]",
            "text/plain": [
              "<Figure size 576x360 with 1 Axes>"
            ]
          },
          "metadata": {
            "tags": [],
            "needs_background": "light"
          }
        },
        {
          "output_type": "display_data",
          "data": {
            "image/png": "[encoded data removed]",
            "text/plain": [
              "<Figure size 576x360 with 1 Axes>"
            ]
          },
          "metadata": {
            "tags": [],
            "needs_background": "light"
          }
        }
      ]
    },
    {
      "cell_type": "markdown",
      "metadata": {
        "id": "a-d9e5hfG-os"
      },
      "source": [
        "Sur ces graphiques, on voit qu'il est nettement plus adapté de faire tourner la régression sur la base entière. En effet, la précision du modèle est grandement accrue sur les données complètes. "
      ]
    },
    {
      "cell_type": "markdown",
      "metadata": {
        "id": "CS16GdcSG-Xc"
      },
      "source": [
        "## Conclusion sur l'ajout de variables explicatives"
      ]
    },
    {
      "cell_type": "markdown",
      "metadata": {
        "id": "MYQhaLs4L7HX"
      },
      "source": [
        "Observons les graphiques des régressions complètes en fonction des variables explicatives choisies :"
      ]
    },
    {
      "cell_type": "code",
      "metadata": {
        "id": "a0rVwGUOG-F1",
        "outputId": "69ca4f68-4744-4de1-e954-7ef9370d1878",
        "colab": {
          "base_uri": "https://localhost:8080/",
          "height": 597
        }
      },
      "source": [
        "fig, ax = plt.subplots(figsize=(8,5))\r\n",
        "p1 = sns.distplot(Y_test, label = 'Vraie valeur', hist = False)\r\n",
        "p2 = sns.distplot(y_test_predict, label = 'Prédiction - Budget et revenu uniquement', hist = False)\r\n",
        "p3 = sns.distplot(y_test_predict_rating, label = 'Prédiction - Budget, revenu, sentiment et rating', hist = False)\r\n",
        "ax.set(xlabel= 'Valeur de score_1', ylabel = 'Densité')\r\n",
        "fig.legend(labels=['Vraie valeur','Prédiction - Budget et revenu uniquement','Prédiction - Budget, revenu, sentiment et rating' ], loc = (0.4, 0.7))\r\n",
        "plt.title('Résultats des deux régressions pour la prédiction de score_1')"
      ],
      "execution_count": 98,
      "outputs": [
        {
          "output_type": "stream",
          "text": [
            "/usr/local/lib/python3.6/dist-packages/seaborn/distributions.py:2551: FutureWarning:\n",
            "\n",
            "`distplot` is a deprecated function and will be removed in a future version. Please adapt your code to use either `displot` (a figure-level function with similar flexibility) or `kdeplot` (an axes-level function for kernel density plots).\n",
            "\n",
            "/usr/local/lib/python3.6/dist-packages/seaborn/distributions.py:2551: FutureWarning:\n",
            "\n",
            "`distplot` is a deprecated function and will be removed in a future version. Please adapt your code to use either `displot` (a figure-level function with similar flexibility) or `kdeplot` (an axes-level function for kernel density plots).\n",
            "\n",
            "/usr/local/lib/python3.6/dist-packages/seaborn/distributions.py:2551: FutureWarning:\n",
            "\n",
            "`distplot` is a deprecated function and will be removed in a future version. Please adapt your code to use either `displot` (a figure-level function with similar flexibility) or `kdeplot` (an axes-level function for kernel density plots).\n",
            "\n"
          ],
          "name": "stderr"
        },
        {
          "output_type": "execute_result",
          "data": {
            "text/plain": [
              "Text(0.5, 1.0, 'Résultats des deux régressions pour la prédiction de score_1')"
            ]
          },
          "metadata": {
            "tags": []
          },
          "execution_count": 98
        },
        {
          "output_type": "display_data",
          "data": {
            "image/png": "[encoded data removed]",
            "text/plain": [
              "<Figure size 576x360 with 1 Axes>"
            ]
          },
          "metadata": {
            "tags": [],
            "needs_background": "light"
          }
        }
      ]
    },
    {
      "cell_type": "markdown",
      "metadata": {
        "id": "wigg-vn9Napp"
      },
      "source": [
        "Grâce à ce graphique, on constate que l'ajout de variables explicatives permet de mieux se rapprocher de la courbe des vraies valeurs, bien que le $R^2$ de cette régression eut été plus faible que celui de la régression sur le budget et le revenu uniquement."
      ]
    },
    {
      "cell_type": "markdown",
      "metadata": {
        "id": "wotHWX45o0K1"
      },
      "source": [
        "# Ajout du semi-supervisé sur les commentaires"
      ]
    },
    {
      "cell_type": "markdown",
      "metadata": {
        "id": "rofusQa_pJ04"
      },
      "source": [
        "Le dernier modèle a été un peu amélioré mais l'échantillon ayant beaucoup été diminué, on va essayer d'inclure davantage de commentaires pour améliorer la régression linéaire sur un sous-ensemble plus important de notre base."
      ]
    },
    {
      "cell_type": "code",
      "metadata": {
        "id": "a0EG4ENNo77u"
      },
      "source": [
        "# IMPORTER LE FICHIER UNSUP_FILTERED.CSV.ZIP\n",
        "with zipfile.ZipFile(r'unsup_filtered_review.csv.zip', 'r') as zip :\n",
        "      zip.extractall('temp_dir')\n",
        "\n",
        "unsup_filtered = pd.read_csv(r'unsup_filtered_review.csv', sep=',', low_memory = False)\n",
        "\n"
      ],
      "execution_count": null,
      "outputs": []
    },
    {
      "cell_type": "markdown",
      "metadata": {
        "id": "3UibnncOgNHm"
      },
      "source": [
        "## Pseudo-labelisation des commentaires"
      ]
    },
    {
      "cell_type": "markdown",
      "metadata": {
        "id": "1Nyh-7k2Qx0J"
      },
      "source": [
        "On va utiliser notre outil d'analyse sentiment sur cette base pour agrandir la base des commentaires. "
      ]
    },
    {
      "cell_type": "code",
      "metadata": {
        "id": "pKOamDhrSpvV"
      },
      "source": [
        "x_train = review_filtered.loc[:n_max-1, 'review'].values\n",
        "y_train = review_filtered.loc[:n_max-1, 'sentiment'].values\n",
        "x_test = review_filtered.loc[n_max:,'review'].values\n",
        "y_test = review_filtered.loc[n_max:,'sentiment'].values\n",
        "x_test_ul = unsup_filtered['review'].values"
      ],
      "execution_count": null,
      "outputs": []
    },
    {
      "cell_type": "code",
      "metadata": {
        "id": "JsGTiGRudyyx",
        "colab": {
          "base_uri": "https://localhost:8080/",
          "height": 204
        },
        "outputId": "a5fbfc6e-911a-41a1-f03e-0ab1e29416fb"
      },
      "source": [
        "review_filtered = review_filtered.drop(columns=['index','rating'])\n",
        "review_filtered.head()"
      ],
      "execution_count": null,
      "outputs": [
        {
          "output_type": "execute_result",
          "data": {
            "text/html": [
              "<div>\n",
              "<style scoped>\n",
              "    .dataframe tbody tr th:only-of-type {\n",
              "        vertical-align: middle;\n",
              "    }\n",
              "\n",
              "    .dataframe tbody tr th {\n",
              "        vertical-align: top;\n",
              "    }\n",
              "\n",
              "    .dataframe thead th {\n",
              "        text-align: right;\n",
              "    }\n",
              "</style>\n",
              "<table border=\"1\" class=\"dataframe\">\n",
              "  <thead>\n",
              "    <tr style=\"text-align: right;\">\n",
              "      <th></th>\n",
              "      <th>review</th>\n",
              "      <th>sentiment</th>\n",
              "      <th>url_code</th>\n",
              "      <th>imdb_id</th>\n",
              "      <th>code_url</th>\n",
              "    </tr>\n",
              "  </thead>\n",
              "  <tbody>\n",
              "    <tr>\n",
              "      <th>0</th>\n",
              "      <td>Well...tremors I, the original started off in ...</td>\n",
              "      <td>0</td>\n",
              "      <td>10402</td>\n",
              "      <td>tt0334541</td>\n",
              "      <td>10402</td>\n",
              "    </tr>\n",
              "    <tr>\n",
              "      <th>1</th>\n",
              "      <td>Ouch! This one was a bit painful to sit throug...</td>\n",
              "      <td>0</td>\n",
              "      <td>1062</td>\n",
              "      <td>tt0043809</td>\n",
              "      <td>1062</td>\n",
              "    </tr>\n",
              "    <tr>\n",
              "      <th>2</th>\n",
              "      <td>I've seen some crappy movies in my life, but t...</td>\n",
              "      <td>0</td>\n",
              "      <td>9056</td>\n",
              "      <td>tt0219400</td>\n",
              "      <td>9056</td>\n",
              "    </tr>\n",
              "    <tr>\n",
              "      <th>3</th>\n",
              "      <td>\"Carriers\" follows the exploits of two guys an...</td>\n",
              "      <td>0</td>\n",
              "      <td>5392</td>\n",
              "      <td>tt0806203</td>\n",
              "      <td>5392</td>\n",
              "    </tr>\n",
              "    <tr>\n",
              "      <th>4</th>\n",
              "      <td>I had been looking forward to seeing this film...</td>\n",
              "      <td>0</td>\n",
              "      <td>2682</td>\n",
              "      <td>tt0120620</td>\n",
              "      <td>2682</td>\n",
              "    </tr>\n",
              "  </tbody>\n",
              "</table>\n",
              "</div>"
            ],
            "text/plain": [
              "                                              review  ...  code_url\n",
              "0  Well...tremors I, the original started off in ...  ...     10402\n",
              "1  Ouch! This one was a bit painful to sit throug...  ...      1062\n",
              "2  I've seen some crappy movies in my life, but t...  ...      9056\n",
              "3  \"Carriers\" follows the exploits of two guys an...  ...      5392\n",
              "4  I had been looking forward to seeing this film...  ...      2682\n",
              "\n",
              "[5 rows x 5 columns]"
            ]
          },
          "metadata": {
            "tags": []
          },
          "execution_count": 58
        }
      ]
    },
    {
      "cell_type": "code",
      "metadata": {
        "id": "7UPFh9jCd0_5"
      },
      "source": [
        "unsup_filtered = unsup_filtered.drop(columns='Unnamed: 0')"
      ],
      "execution_count": null,
      "outputs": []
    },
    {
      "cell_type": "code",
      "metadata": {
        "id": "qa_P3aj6eM9V",
        "colab": {
          "base_uri": "https://localhost:8080/",
          "height": 204
        },
        "outputId": "2e180c29-dc79-47ca-92f3-c9a91d4b1404"
      },
      "source": [
        "unsup_filtered.head()"
      ],
      "execution_count": null,
      "outputs": [
        {
          "output_type": "execute_result",
          "data": {
            "text/html": [
              "<div>\n",
              "<style scoped>\n",
              "    .dataframe tbody tr th:only-of-type {\n",
              "        vertical-align: middle;\n",
              "    }\n",
              "\n",
              "    .dataframe tbody tr th {\n",
              "        vertical-align: top;\n",
              "    }\n",
              "\n",
              "    .dataframe thead th {\n",
              "        text-align: right;\n",
              "    }\n",
              "</style>\n",
              "<table border=\"1\" class=\"dataframe\">\n",
              "  <thead>\n",
              "    <tr style=\"text-align: right;\">\n",
              "      <th></th>\n",
              "      <th>review</th>\n",
              "      <th>url_code</th>\n",
              "      <th>code_url</th>\n",
              "      <th>imdb_id</th>\n",
              "      <th>sentiment</th>\n",
              "    </tr>\n",
              "  </thead>\n",
              "  <tbody>\n",
              "    <tr>\n",
              "      <th>0</th>\n",
              "      <td>Very good film from director Wyler, although i...</td>\n",
              "      <td>1597</td>\n",
              "      <td>1597</td>\n",
              "      <td>tt0030287</td>\n",
              "      <td>1</td>\n",
              "    </tr>\n",
              "    <tr>\n",
              "      <th>1</th>\n",
              "      <td>This flick will pass the time, and Kurt Russle...</td>\n",
              "      <td>27082</td>\n",
              "      <td>27082</td>\n",
              "      <td>tt0089572</td>\n",
              "      <td>0</td>\n",
              "    </tr>\n",
              "    <tr>\n",
              "      <th>2</th>\n",
              "      <td>Here is another of those films that got panned...</td>\n",
              "      <td>30084</td>\n",
              "      <td>30084</td>\n",
              "      <td>tt0163978</td>\n",
              "      <td>1</td>\n",
              "    </tr>\n",
              "    <tr>\n",
              "      <th>3</th>\n",
              "      <td>Not sure how a filmmaker as prolific as Joel \"...</td>\n",
              "      <td>6087</td>\n",
              "      <td>6087</td>\n",
              "      <td>tt0450336</td>\n",
              "      <td>0</td>\n",
              "    </tr>\n",
              "    <tr>\n",
              "      <th>4</th>\n",
              "      <td>What? I watched this movie with my two young n...</td>\n",
              "      <td>49665</td>\n",
              "      <td>49665</td>\n",
              "      <td>tt0457419</td>\n",
              "      <td>0</td>\n",
              "    </tr>\n",
              "  </tbody>\n",
              "</table>\n",
              "</div>"
            ],
            "text/plain": [
              "                                              review  ...  sentiment\n",
              "0  Very good film from director Wyler, although i...  ...          1\n",
              "1  This flick will pass the time, and Kurt Russle...  ...          0\n",
              "2  Here is another of those films that got panned...  ...          1\n",
              "3  Not sure how a filmmaker as prolific as Joel \"...  ...          0\n",
              "4  What? I watched this movie with my two young n...  ...          0\n",
              "\n",
              "[5 rows x 5 columns]"
            ]
          },
          "metadata": {
            "tags": []
          },
          "execution_count": 59
        }
      ]
    },
    {
      "cell_type": "markdown",
      "metadata": {
        "id": "X1xoGbt8b2uP"
      },
      "source": [
        "On utilise notre classificateur naïf de bayes (pour la rapidité) qu'en entraîne avec les données labelisées."
      ]
    },
    {
      "cell_type": "code",
      "metadata": {
        "id": "R4CvNcV5bIfT"
      },
      "source": [
        "from sklearn.naive_bayes import MultinomialNB\n",
        "from sklearn.feature_extraction.text import TfidfTransformer\n",
        "from sklearn.feature_extraction.text import TfidfVectorizer\n",
        "\n",
        "vectorizer = TfidfVectorizer()\n",
        "train_vectors = vectorizer.fit_transform(x_train)\n",
        "test_vectors = vectorizer.transform(x_test)\n",
        "clf = MultinomialNB().fit(train_vectors, y_train)\n",
        "\n",
        "from  sklearn.metrics  import accuracy_score\n",
        "predicted = clf.predict(test_vectors)"
      ],
      "execution_count": null,
      "outputs": []
    },
    {
      "cell_type": "markdown",
      "metadata": {
        "id": "0niU9WnncFdl"
      },
      "source": [
        "On l'applique aux données non labelisées. On va créer une fonction qui prend en argument la proportion du sample que dont on prédit la labelisation."
      ]
    },
    {
      "cell_type": "code",
      "metadata": {
        "id": "skOS8ywMbKpG"
      },
      "source": [
        "def label_percent(n_label): #n_label entre 0 et 1\n",
        "  test_vectors_ul = vectorizer.transform(x_test_ul[:int(len(unsup_filtered)*n_label)])\n",
        "  predicted_2 = clf.predict(test_vectors_ul)\n",
        "  # On reconstitue un dataset avec les données labelisées et pseudo-labelisées via notre classificateur naïf bayésien\n",
        "  df_unsup = unsup_filtered[:int(len(unsup_filtered)*n_label)]\n",
        "  df_unsup['sentiment'] = predicted_2\n",
        "  df = pd.concat([review_filtered, df_unsup])\n",
        "  return df "
      ],
      "execution_count": null,
      "outputs": []
    },
    {
      "cell_type": "markdown",
      "metadata": {
        "id": "KAJDMgJUfICL"
      },
      "source": [
        "## Amélioration de la régression linéaire\n",
        "Pour 20% de la base non labelisée : "
      ]
    },
    {
      "cell_type": "code",
      "metadata": {
        "id": "jRjXReBsdBMS",
        "colab": {
          "base_uri": "https://localhost:8080/"
        },
        "outputId": "313c9161-2a4c-4f40-c1a0-69ff9b2e2b51"
      },
      "source": [
        "df_pseudo_labeled = label_percent(0.2)"
      ],
      "execution_count": null,
      "outputs": [
        {
          "output_type": "stream",
          "text": [
            "/usr/local/lib/python3.6/dist-packages/ipykernel_launcher.py:6: SettingWithCopyWarning:\n",
            "\n",
            "\n",
            "A value is trying to be set on a copy of a slice from a DataFrame.\n",
            "Try using .loc[row_indexer,col_indexer] = value instead\n",
            "\n",
            "See the caveats in the documentation: https://pandas.pydata.org/pandas-docs/stable/user_guide/indexing.html#returning-a-view-versus-a-copy\n",
            "\n"
          ],
          "name": "stderr"
        }
      ]
    },
    {
      "cell_type": "code",
      "metadata": {
        "id": "U2uePDByfM2P",
        "colab": {
          "base_uri": "https://localhost:8080/"
        },
        "outputId": "cc659625-a97d-4efa-ccee-8d284644a2d3"
      },
      "source": [
        "gr_review = df_pseudo_labeled.groupby('imdb_id').mean()\n",
        "print(len(gr_review))\n",
        "#gr_review = gr_review.drop(columns=['Unnamed: 0', 'url_code'])\n",
        "df_2 = pd.merge(df, gr_review, left_on ='imdb_id', right_on ='imdb_id')\n",
        "print(len(df_2))\n",
        "\n",
        "X = pd.DataFrame(np.c_[df_2.budget, df_2.revenue, df_2.sentiment], columns= ['budget', 'revenue', 'sentiment'])\n",
        "Y = df_2.score_1"
      ],
      "execution_count": null,
      "outputs": [
        {
          "output_type": "stream",
          "text": [
            "3989\n",
            "3050\n"
          ],
          "name": "stdout"
        }
      ]
    },
    {
      "cell_type": "code",
      "metadata": {
        "id": "i2rhY_RqbKWH",
        "colab": {
          "base_uri": "https://localhost:8080/"
        },
        "outputId": "a3d7c12f-ee6e-4749-f837-363595e704b5"
      },
      "source": [
        "from sklearn.model_selection import train_test_split\n",
        " \n",
        "X_train, X_test, Y_train, Y_test = train_test_split(X, Y, test_size = 0.2, random_state=5)\n",
        "print(X_train.shape)\n",
        "print(X_test.shape)\n",
        "print(Y_train.shape)\n",
        "print(Y_test.shape)\n",
        "\n",
        "from sklearn.linear_model import LinearRegression\n",
        "from sklearn.metrics import mean_squared_error\n",
        " \n",
        "lmodellineaire = LinearRegression()\n",
        "lmodellineaire.fit(X_train, Y_train)"
      ],
      "execution_count": null,
      "outputs": [
        {
          "output_type": "stream",
          "text": [
            "(2440, 3)\n",
            "(610, 3)\n",
            "(2440,)\n",
            "(610,)\n"
          ],
          "name": "stdout"
        },
        {
          "output_type": "execute_result",
          "data": {
            "text/plain": [
              "LinearRegression(copy_X=True, fit_intercept=True, n_jobs=None, normalize=False)"
            ]
          },
          "metadata": {
            "tags": []
          },
          "execution_count": 69
        }
      ]
    },
    {
      "cell_type": "code",
      "metadata": {
        "id": "MYsCCAb4WKpS",
        "colab": {
          "base_uri": "https://localhost:8080/"
        },
        "outputId": "84532ad2-d7da-4f26-b7b4-2bd575927095"
      },
      "source": [
        "# Evaluation du training set\n",
        "from sklearn.metrics import r2_score\n",
        "y_train_predict = lmodellineaire.predict(X_train)\n",
        "rmse = (np.sqrt(mean_squared_error(Y_train, y_train_predict)))\n",
        "r2 = r2_score(Y_train, y_train_predict)\n",
        " \n",
        "print(\"Performance du modèle sur la base d'apprentissage\")\n",
        "print('--------------------------------------')\n",
        "print(\"L'erreur quadratique moyenne est {}\".format(rmse))\n",
        "print('Le score R² est {}'.format(r2))\n",
        "print('\\n')\n",
        " \n",
        "# Evaluation du testing set\n",
        "y_test_predict = lmodellineaire.predict(X_test)\n",
        "rmse = (np.sqrt(mean_squared_error(Y_test, y_test_predict)))\n",
        "r2 = r2_score(Y_test, y_test_predict)\n",
        " \n",
        "print('Performance du modèle sur la base de test')\n",
        "print('--------------------------------------')\n",
        "print(\"L'erreur quadratique moyenne est {}\".format(rmse))\n",
        "print('Le score R² est {}'.format(r2))"
      ],
      "execution_count": null,
      "outputs": [
        {
          "output_type": "stream",
          "text": [
            "Performance du modèle sur la base d'apprentissage\n",
            "--------------------------------------\n",
            "L'erreur quadratique moyenne est 2923.128003349665\n",
            "Le score R² est 0.6209375264857289\n",
            "\n",
            "\n",
            "Performance du modèle sur la base de test\n",
            "--------------------------------------\n",
            "L'erreur quadratique moyenne est 2595.5322812124464\n",
            "Le score R² est 0.6341989897920716\n"
          ],
          "name": "stdout"
        }
      ]
    },
    {
      "cell_type": "markdown",
      "metadata": {
        "id": "4jWBPIqKgTqr"
      },
      "source": [
        "Pour 50% de la base pseudo-labelisée :"
      ]
    },
    {
      "cell_type": "code",
      "metadata": {
        "id": "dHgUT421f6ma",
        "colab": {
          "base_uri": "https://localhost:8080/"
        },
        "outputId": "d366a2c0-7750-4a23-9791-5bff16e79dfe"
      },
      "source": [
        "df_pseudo_labeled = label_percent(0.5)\n",
        "\n",
        "gr_review = df_pseudo_labeled.groupby('imdb_id').mean()\n",
        "print(len(gr_review))\n",
        "#gr_review = gr_review.drop(columns=['Unnamed: 0', 'url_code'])\n",
        "df_2 = pd.merge(df, gr_review, left_on ='imdb_id', right_on ='imdb_id')\n",
        "print(len(df_2))\n",
        "\n",
        "X = pd.DataFrame(np.c_[df_2.budget, df_2.revenue, df_2.sentiment], columns= ['budget', 'revenue', 'sentiment'])\n",
        "Y = df_2.score_1\n",
        "\n"
      ],
      "execution_count": null,
      "outputs": [
        {
          "output_type": "stream",
          "text": [
            "4390\n",
            "3247\n"
          ],
          "name": "stdout"
        },
        {
          "output_type": "stream",
          "text": [
            "/usr/local/lib/python3.6/dist-packages/ipykernel_launcher.py:6: SettingWithCopyWarning:\n",
            "\n",
            "\n",
            "A value is trying to be set on a copy of a slice from a DataFrame.\n",
            "Try using .loc[row_indexer,col_indexer] = value instead\n",
            "\n",
            "See the caveats in the documentation: https://pandas.pydata.org/pandas-docs/stable/user_guide/indexing.html#returning-a-view-versus-a-copy\n",
            "\n"
          ],
          "name": "stderr"
        }
      ]
    },
    {
      "cell_type": "code",
      "metadata": {
        "id": "Koqi0GKzgghA",
        "colab": {
          "base_uri": "https://localhost:8080/"
        },
        "outputId": "94e7f6e8-c700-4a37-b29c-ddd3614a2ae6"
      },
      "source": [
        "from sklearn.model_selection import train_test_split\n",
        " \n",
        "X_train, X_test, Y_train, Y_test = train_test_split(X, Y, test_size = 0.2, random_state=5)\n",
        "print(X_train.shape)\n",
        "print(X_test.shape)\n",
        "print(Y_train.shape)\n",
        "print(Y_test.shape)\n",
        "\n",
        "from sklearn.linear_model import LinearRegression\n",
        "from sklearn.metrics import mean_squared_error\n",
        " \n",
        "lmodellineaire = LinearRegression()\n",
        "lmodellineaire.fit(X_train, Y_train)"
      ],
      "execution_count": null,
      "outputs": [
        {
          "output_type": "stream",
          "text": [
            "(2597, 3)\n",
            "(650, 3)\n",
            "(2597,)\n",
            "(650,)\n"
          ],
          "name": "stdout"
        },
        {
          "output_type": "execute_result",
          "data": {
            "text/plain": [
              "LinearRegression(copy_X=True, fit_intercept=True, n_jobs=None, normalize=False)"
            ]
          },
          "metadata": {
            "tags": []
          },
          "execution_count": 72
        }
      ]
    },
    {
      "cell_type": "code",
      "metadata": {
        "id": "rmLRqXFygcvG",
        "colab": {
          "base_uri": "https://localhost:8080/"
        },
        "outputId": "3acb5d06-6ad3-425b-c5e2-688625bca33e"
      },
      "source": [
        "# Evaluation du training set\n",
        "from sklearn.metrics import r2_score\n",
        "y_train_predict = lmodellineaire.predict(X_train)\n",
        "rmse = (np.sqrt(mean_squared_error(Y_train, y_train_predict)))\n",
        "r2 = r2_score(Y_train, y_train_predict)\n",
        " \n",
        "print(\"Performance du modèle sur la base d'apprentissage\")\n",
        "print('--------------------------------------')\n",
        "print(\"L'erreur quadratique moyenne est {}\".format(rmse))\n",
        "print('Le score R² est {}'.format(r2))\n",
        "print('\\n')\n",
        " \n",
        "# Evaluation du testing set\n",
        "y_test_predict = lmodellineaire.predict(X_test)\n",
        "rmse = (np.sqrt(mean_squared_error(Y_test, y_test_predict)))\n",
        "r2 = r2_score(Y_test, y_test_predict)\n",
        " \n",
        "print('Performance du modèle sur la base de test')\n",
        "print('--------------------------------------')\n",
        "print(\"L'erreur quadratique moyenne est {}\".format(rmse))\n",
        "print('Le score R² est {}'.format(r2))"
      ],
      "execution_count": null,
      "outputs": [
        {
          "output_type": "stream",
          "text": [
            "Performance du modèle sur la base d'apprentissage\n",
            "--------------------------------------\n",
            "L'erreur quadratique moyenne est 2912.1988098398365\n",
            "Le score R² est 0.6362178664118564\n",
            "\n",
            "\n",
            "Performance du modèle sur la base de test\n",
            "--------------------------------------\n",
            "L'erreur quadratique moyenne est 2640.2316548010717\n",
            "Le score R² est 0.4346136209580901\n"
          ],
          "name": "stdout"
        }
      ]
    },
    {
      "cell_type": "markdown",
      "metadata": {
        "id": "Pa7puxDPgmMW"
      },
      "source": [
        "## Visualisation en variant le pourcentage de la base pseudo labelisée"
      ]
    },
    {
      "cell_type": "code",
      "metadata": {
        "id": "cZQNHrWmglE2",
        "colab": {
          "base_uri": "https://localhost:8080/"
        },
        "outputId": "26f48501-b101-4a9c-be83-04c94dd8efbf"
      },
      "source": [
        "r_train, r_test=[],[]\n",
        "mse_train, mse_test=[],[]\n",
        "for i in np.linspace(0.1,1,10):\n",
        "  df_pseudo_labeled = label_percent(i)\n",
        "\n",
        "  gr_review = df_pseudo_labeled.groupby('imdb_id').mean()\n",
        "  df_2 = pd.merge(df, gr_review, left_on ='imdb_id', right_on ='imdb_id')\n",
        "\n",
        "\n",
        "  X = pd.DataFrame(np.c_[df_2.budget, df_2.revenue, df_2.sentiment], columns= ['budget', 'revenue', 'sentiment'])\n",
        "  Y = df_2.score_1\n",
        "\n",
        "\n",
        "  X_train, X_test, Y_train, Y_test = train_test_split(X, Y, test_size = 0.2, random_state=5)\n",
        "\n",
        "  lmodellineaire = LinearRegression()\n",
        "  lmodellineaire.fit(X_train, Y_train)\n",
        "\n",
        "  y_test_predict = lmodellineaire.predict(X_test)\n",
        "  rmse_test = (np.sqrt(mean_squared_error(Y_test, y_test_predict)))\n",
        "  r2_test = r2_score(Y_test, y_test_predict)\n",
        "\n",
        "  y_train_predict = lmodellineaire.predict(X_train)\n",
        "  rmse_train = (np.sqrt(mean_squared_error(Y_train, y_train_predict)))\n",
        "  r2_train = r2_score(Y_train, y_train_predict)\n",
        "  \n",
        "  r_test.append(r2_test)\n",
        "  r_train.append(r2_train)\n",
        "  mse_test.append(rmse_test)\n",
        "  mse_train.append(rmse_train)"
      ],
      "execution_count": null,
      "outputs": [
        {
          "output_type": "stream",
          "text": [
            "/usr/local/lib/python3.6/dist-packages/ipykernel_launcher.py:6: SettingWithCopyWarning:\n",
            "\n",
            "\n",
            "A value is trying to be set on a copy of a slice from a DataFrame.\n",
            "Try using .loc[row_indexer,col_indexer] = value instead\n",
            "\n",
            "See the caveats in the documentation: https://pandas.pydata.org/pandas-docs/stable/user_guide/indexing.html#returning-a-view-versus-a-copy\n",
            "\n",
            "/usr/local/lib/python3.6/dist-packages/ipykernel_launcher.py:6: SettingWithCopyWarning:\n",
            "\n",
            "\n",
            "A value is trying to be set on a copy of a slice from a DataFrame.\n",
            "Try using .loc[row_indexer,col_indexer] = value instead\n",
            "\n",
            "See the caveats in the documentation: https://pandas.pydata.org/pandas-docs/stable/user_guide/indexing.html#returning-a-view-versus-a-copy\n",
            "\n",
            "/usr/local/lib/python3.6/dist-packages/ipykernel_launcher.py:6: SettingWithCopyWarning:\n",
            "\n",
            "\n",
            "A value is trying to be set on a copy of a slice from a DataFrame.\n",
            "Try using .loc[row_indexer,col_indexer] = value instead\n",
            "\n",
            "See the caveats in the documentation: https://pandas.pydata.org/pandas-docs/stable/user_guide/indexing.html#returning-a-view-versus-a-copy\n",
            "\n",
            "/usr/local/lib/python3.6/dist-packages/ipykernel_launcher.py:6: SettingWithCopyWarning:\n",
            "\n",
            "\n",
            "A value is trying to be set on a copy of a slice from a DataFrame.\n",
            "Try using .loc[row_indexer,col_indexer] = value instead\n",
            "\n",
            "See the caveats in the documentation: https://pandas.pydata.org/pandas-docs/stable/user_guide/indexing.html#returning-a-view-versus-a-copy\n",
            "\n",
            "/usr/local/lib/python3.6/dist-packages/ipykernel_launcher.py:6: SettingWithCopyWarning:\n",
            "\n",
            "\n",
            "A value is trying to be set on a copy of a slice from a DataFrame.\n",
            "Try using .loc[row_indexer,col_indexer] = value instead\n",
            "\n",
            "See the caveats in the documentation: https://pandas.pydata.org/pandas-docs/stable/user_guide/indexing.html#returning-a-view-versus-a-copy\n",
            "\n",
            "/usr/local/lib/python3.6/dist-packages/ipykernel_launcher.py:6: SettingWithCopyWarning:\n",
            "\n",
            "\n",
            "A value is trying to be set on a copy of a slice from a DataFrame.\n",
            "Try using .loc[row_indexer,col_indexer] = value instead\n",
            "\n",
            "See the caveats in the documentation: https://pandas.pydata.org/pandas-docs/stable/user_guide/indexing.html#returning-a-view-versus-a-copy\n",
            "\n",
            "/usr/local/lib/python3.6/dist-packages/ipykernel_launcher.py:6: SettingWithCopyWarning:\n",
            "\n",
            "\n",
            "A value is trying to be set on a copy of a slice from a DataFrame.\n",
            "Try using .loc[row_indexer,col_indexer] = value instead\n",
            "\n",
            "See the caveats in the documentation: https://pandas.pydata.org/pandas-docs/stable/user_guide/indexing.html#returning-a-view-versus-a-copy\n",
            "\n",
            "/usr/local/lib/python3.6/dist-packages/ipykernel_launcher.py:6: SettingWithCopyWarning:\n",
            "\n",
            "\n",
            "A value is trying to be set on a copy of a slice from a DataFrame.\n",
            "Try using .loc[row_indexer,col_indexer] = value instead\n",
            "\n",
            "See the caveats in the documentation: https://pandas.pydata.org/pandas-docs/stable/user_guide/indexing.html#returning-a-view-versus-a-copy\n",
            "\n",
            "/usr/local/lib/python3.6/dist-packages/ipykernel_launcher.py:6: SettingWithCopyWarning:\n",
            "\n",
            "\n",
            "A value is trying to be set on a copy of a slice from a DataFrame.\n",
            "Try using .loc[row_indexer,col_indexer] = value instead\n",
            "\n",
            "See the caveats in the documentation: https://pandas.pydata.org/pandas-docs/stable/user_guide/indexing.html#returning-a-view-versus-a-copy\n",
            "\n"
          ],
          "name": "stderr"
        }
      ]
    },
    {
      "cell_type": "code",
      "metadata": {
        "id": "JkJoZ1zpghka",
        "colab": {
          "base_uri": "https://localhost:8080/",
          "height": 298
        },
        "outputId": "cb60037a-15bc-439e-da89-d3686f4c0fb1"
      },
      "source": [
        "plt.title(\"Performance du score R2 selon la taille de la base pseudo-labelisée\")\n",
        "plt.plot(r_test,  label='r2 test')\n",
        "plt.plot(r_train,  label='r2 train')\n",
        "plt.legend()"
      ],
      "execution_count": null,
      "outputs": [
        {
          "output_type": "execute_result",
          "data": {
            "text/plain": [
              "<matplotlib.legend.Legend at 0x7f3d9cd53c50>"
            ]
          },
          "metadata": {
            "tags": []
          },
          "execution_count": 83
        },
        {
          "output_type": "display_data",
          "data": {
            "image/png": "[encoded data removed]",
            "text/plain": [
              "<Figure size 432x288 with 1 Axes>"
            ]
          },
          "metadata": {
            "tags": [],
            "needs_background": "light"
          }
        }
      ]
    },
    {
      "cell_type": "code",
      "metadata": {
        "id": "ouCdF0-TiNBx",
        "colab": {
          "base_uri": "https://localhost:8080/",
          "height": 298
        },
        "outputId": "0ff63a99-bcf1-45bc-d7c4-0e305a819464"
      },
      "source": [
        "plt.title(\"Performance de l'erreur quadratique selon la taille de la base pseudo-labelisée\")\n",
        "plt.plot(mse_test, label='mse test')\n",
        "plt.plot(mse_train, label='mse train')\n",
        "plt.legend()"
      ],
      "execution_count": null,
      "outputs": [
        {
          "output_type": "execute_result",
          "data": {
            "text/plain": [
              "<matplotlib.legend.Legend at 0x7f3d9cc68c18>"
            ]
          },
          "metadata": {
            "tags": []
          },
          "execution_count": 84
        },
        {
          "output_type": "display_data",
          "data": {
            "image/png": "[encoded data removed]",
            "text/plain": [
              "<Figure size 432x288 with 1 Axes>"
            ]
          },
          "metadata": {
            "tags": [],
            "needs_background": "light"
          }
        }
      ]
    },
    {
      "cell_type": "markdown",
      "metadata": {
        "id": "8feXgRyOH-tA"
      },
      "source": [
        "**Conclusion**"
      ]
    },
    {
      "cell_type": "code",
      "metadata": {
        "id": "8GZvEJZJH_vT"
      },
      "source": [
        ""
      ],
      "execution_count": null,
      "outputs": []
    }
  ]
}