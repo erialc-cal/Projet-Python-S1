{
  "nbformat": 4,
  "nbformat_minor": 0,
  "metadata": {
    "colab": {
      "name": "Modélisation",
      "provenance": [],
      "include_colab_link": true
    },
    "kernelspec": {
      "name": "python3",
      "display_name": "Python 3"
    }
  },
  "cells": [
    {
      "cell_type": "markdown",
      "metadata": {
        "id": "view-in-github",
        "colab_type": "text"
      },
      "source": [
        "<a href=\"https://colab.research.google.com/github/marie-ganon/Projet-Python-S1/blob/main/Mod%C3%A9lisation.ipynb\" target=\"_parent\"><img src=\"https://colab.research.google.com/assets/colab-badge.svg\" alt=\"Open In Colab\"/></a>"
      ]
    },
    {
      "cell_type": "code",
      "metadata": {
        "id": "VhSzdGb1o4NV"
      },
      "source": [
        "import numpy as np\n",
        "import pandas as pd\n",
        "import matplotlib.pyplot as plt\n",
        "import plotly.express as px\n",
        "from urllib import request\n",
        "from wordcloud import WordCloud, STOPWORDS \n",
        "import csv\n",
        "import bs4\n",
        "from tqdm.notebook import trange, tqdm\n",
        "import seaborn as sns\n",
        "import numpy as np\n",
        "import random as rd"
      ],
      "execution_count": 1,
      "outputs": []
    },
    {
      "cell_type": "code",
      "metadata": {
        "id": "67siAA_8vW-W"
      },
      "source": [
        "rd.seed(42)"
      ],
      "execution_count": 2,
      "outputs": []
    },
    {
      "cell_type": "markdown",
      "metadata": {
        "id": "F1Q-XYZWNdoJ"
      },
      "source": [
        "Import des bases : \n",
        "- *df* contient la base TMDb\n",
        "- *train_review* contient la partie entraînée sur les reviews labellisés\n",
        "- *test_review* contient la partie test sur les reviews labellisés\n",
        "\n",
        "\n",
        "\n"
      ]
    },
    {
      "cell_type": "code",
      "metadata": {
        "id": "m-b-E64IpT6l"
      },
      "source": [
        " df = pd.read_csv('https://raw.githubusercontent.com/marie-ganon/Projet-Python-S1/main/Bases_import%C3%A9es/base.csv')"
      ],
      "execution_count": 3,
      "outputs": []
    },
    {
      "cell_type": "markdown",
      "metadata": {
        "id": "kQVnDM9M1KsO"
      },
      "source": [
        "Avant de modéliser quoi que ce soit, nous allons supprimer les 'NaN' de la base de données."
      ]
    },
    {
      "cell_type": "code",
      "metadata": {
        "id": "rxaEYJJpyhUu"
      },
      "source": [
        "df = df.dropna()\r\n",
        "df = df.drop(columns='Unnamed: 0')"
      ],
      "execution_count": 4,
      "outputs": []
    },
    {
      "cell_type": "code",
      "metadata": {
        "id": "R8yAttJ9N8Ak"
      },
      "source": [
        "# Fichier temporaire\n",
        "\n",
        "import tempfile\n",
        "\n",
        "temp_dir = tempfile.mkdtemp()\n",
        "\n",
        "# Pour dezipper le csv disponible dans le git \n",
        "\n",
        "import zipfile\n",
        "\n",
        "with zipfile.ZipFile('/content/sample_data/test_review.csv.zip', 'r') as zip1, zipfile.ZipFile('/content/sample_data/train_review.csv.zip', 'r') as zip2 :\n",
        "    zip1.extractall('temp_dir')\n",
        "    zip2.extractall('temp_dir')\n",
        "\n",
        "test_review = pd.read_csv(r'temp_dir/test_review.csv', sep=',', low_memory = False)\n",
        "train_review = pd.read_csv(r'temp_dir/train_review.csv', sep=',', low_memory = False)\n"
      ],
      "execution_count": 6,
      "outputs": []
    },
    {
      "cell_type": "markdown",
      "metadata": {
        "id": "HTv1TTYvwpj8"
      },
      "source": [
        "# Observations des bases"
      ]
    },
    {
      "cell_type": "markdown",
      "metadata": {
        "id": "E_3_HszvNg0s"
      },
      "source": [
        "## Analyse de la matrice de corrélation de *df*"
      ]
    },
    {
      "cell_type": "markdown",
      "metadata": {
        "id": "ufujyh3hu8HR"
      },
      "source": [
        "Rappelons la matrice de corrélation de la base :"
      ]
    },
    {
      "cell_type": "code",
      "metadata": {
        "id": "_xh2xAXwpiF3",
        "colab": {
          "base_uri": "https://localhost:8080/",
          "height": 308
        },
        "outputId": "7e869aa8-c3a9-4085-db3c-4b8ca7b4cc09"
      },
      "source": [
        "corr = df.corr()\n",
        "corr.style.background_gradient(cmap = 'coolwarm')"
      ],
      "execution_count": null,
      "outputs": [
        {
          "output_type": "execute_result",
          "data": {
            "text/html": [
              "<style  type=\"text/css\" >\n",
              "#T_d199bc8c_3bcd_11eb_9f0d_0242ac1c0002row0_col0,#T_d199bc8c_3bcd_11eb_9f0d_0242ac1c0002row1_col1,#T_d199bc8c_3bcd_11eb_9f0d_0242ac1c0002row2_col2,#T_d199bc8c_3bcd_11eb_9f0d_0242ac1c0002row3_col3,#T_d199bc8c_3bcd_11eb_9f0d_0242ac1c0002row4_col4,#T_d199bc8c_3bcd_11eb_9f0d_0242ac1c0002row5_col5,#T_d199bc8c_3bcd_11eb_9f0d_0242ac1c0002row6_col6,#T_d199bc8c_3bcd_11eb_9f0d_0242ac1c0002row7_col7,#T_d199bc8c_3bcd_11eb_9f0d_0242ac1c0002row8_col8,#T_d199bc8c_3bcd_11eb_9f0d_0242ac1c0002row9_col9,#T_d199bc8c_3bcd_11eb_9f0d_0242ac1c0002row10_col10,#T_d199bc8c_3bcd_11eb_9f0d_0242ac1c0002row11_col11{\n",
              "            background-color:  #b40426;\n",
              "            color:  #f1f1f1;\n",
              "        }#T_d199bc8c_3bcd_11eb_9f0d_0242ac1c0002row0_col1,#T_d199bc8c_3bcd_11eb_9f0d_0242ac1c0002row2_col11{\n",
              "            background-color:  #465ecf;\n",
              "            color:  #f1f1f1;\n",
              "        }#T_d199bc8c_3bcd_11eb_9f0d_0242ac1c0002row0_col2{\n",
              "            background-color:  #f6a283;\n",
              "            color:  #000000;\n",
              "        }#T_d199bc8c_3bcd_11eb_9f0d_0242ac1c0002row0_col3{\n",
              "            background-color:  #4257c9;\n",
              "            color:  #f1f1f1;\n",
              "        }#T_d199bc8c_3bcd_11eb_9f0d_0242ac1c0002row0_col4,#T_d199bc8c_3bcd_11eb_9f0d_0242ac1c0002row6_col2{\n",
              "            background-color:  #455cce;\n",
              "            color:  #f1f1f1;\n",
              "        }#T_d199bc8c_3bcd_11eb_9f0d_0242ac1c0002row0_col5,#T_d199bc8c_3bcd_11eb_9f0d_0242ac1c0002row0_col6,#T_d199bc8c_3bcd_11eb_9f0d_0242ac1c0002row2_col8,#T_d199bc8c_3bcd_11eb_9f0d_0242ac1c0002row6_col0,#T_d199bc8c_3bcd_11eb_9f0d_0242ac1c0002row10_col1,#T_d199bc8c_3bcd_11eb_9f0d_0242ac1c0002row10_col3,#T_d199bc8c_3bcd_11eb_9f0d_0242ac1c0002row10_col4,#T_d199bc8c_3bcd_11eb_9f0d_0242ac1c0002row10_col7,#T_d199bc8c_3bcd_11eb_9f0d_0242ac1c0002row10_col9,#T_d199bc8c_3bcd_11eb_9f0d_0242ac1c0002row10_col11,#T_d199bc8c_3bcd_11eb_9f0d_0242ac1c0002row11_col2,#T_d199bc8c_3bcd_11eb_9f0d_0242ac1c0002row11_col10{\n",
              "            background-color:  #3b4cc0;\n",
              "            color:  #f1f1f1;\n",
              "        }#T_d199bc8c_3bcd_11eb_9f0d_0242ac1c0002row0_col7,#T_d199bc8c_3bcd_11eb_9f0d_0242ac1c0002row2_col4,#T_d199bc8c_3bcd_11eb_9f0d_0242ac1c0002row5_col0,#T_d199bc8c_3bcd_11eb_9f0d_0242ac1c0002row10_col5{\n",
              "            background-color:  #4b64d5;\n",
              "            color:  #f1f1f1;\n",
              "        }#T_d199bc8c_3bcd_11eb_9f0d_0242ac1c0002row0_col8{\n",
              "            background-color:  #3f53c6;\n",
              "            color:  #f1f1f1;\n",
              "        }#T_d199bc8c_3bcd_11eb_9f0d_0242ac1c0002row0_col9{\n",
              "            background-color:  #4961d2;\n",
              "            color:  #f1f1f1;\n",
              "        }#T_d199bc8c_3bcd_11eb_9f0d_0242ac1c0002row0_col10{\n",
              "            background-color:  #d2dbe8;\n",
              "            color:  #000000;\n",
              "        }#T_d199bc8c_3bcd_11eb_9f0d_0242ac1c0002row0_col11{\n",
              "            background-color:  #3c4ec2;\n",
              "            color:  #f1f1f1;\n",
              "        }#T_d199bc8c_3bcd_11eb_9f0d_0242ac1c0002row1_col0,#T_d199bc8c_3bcd_11eb_9f0d_0242ac1c0002row3_col0{\n",
              "            background-color:  #5a78e4;\n",
              "            color:  #000000;\n",
              "        }#T_d199bc8c_3bcd_11eb_9f0d_0242ac1c0002row1_col2,#T_d199bc8c_3bcd_11eb_9f0d_0242ac1c0002row5_col2,#T_d199bc8c_3bcd_11eb_9f0d_0242ac1c0002row7_col10{\n",
              "            background-color:  #5470de;\n",
              "            color:  #000000;\n",
              "        }#T_d199bc8c_3bcd_11eb_9f0d_0242ac1c0002row1_col3{\n",
              "            background-color:  #d9dce1;\n",
              "            color:  #000000;\n",
              "        }#T_d199bc8c_3bcd_11eb_9f0d_0242ac1c0002row1_col4{\n",
              "            background-color:  #ef886b;\n",
              "            color:  #000000;\n",
              "        }#T_d199bc8c_3bcd_11eb_9f0d_0242ac1c0002row1_col5,#T_d199bc8c_3bcd_11eb_9f0d_0242ac1c0002row8_col7{\n",
              "            background-color:  #abc8fd;\n",
              "            color:  #000000;\n",
              "        }#T_d199bc8c_3bcd_11eb_9f0d_0242ac1c0002row1_col6,#T_d199bc8c_3bcd_11eb_9f0d_0242ac1c0002row3_col8,#T_d199bc8c_3bcd_11eb_9f0d_0242ac1c0002row5_col4{\n",
              "            background-color:  #96b7ff;\n",
              "            color:  #000000;\n",
              "        }#T_d199bc8c_3bcd_11eb_9f0d_0242ac1c0002row1_col7{\n",
              "            background-color:  #f7aa8c;\n",
              "            color:  #000000;\n",
              "        }#T_d199bc8c_3bcd_11eb_9f0d_0242ac1c0002row1_col8,#T_d199bc8c_3bcd_11eb_9f0d_0242ac1c0002row6_col7{\n",
              "            background-color:  #9ebeff;\n",
              "            color:  #000000;\n",
              "        }#T_d199bc8c_3bcd_11eb_9f0d_0242ac1c0002row1_col9{\n",
              "            background-color:  #f7b89c;\n",
              "            color:  #000000;\n",
              "        }#T_d199bc8c_3bcd_11eb_9f0d_0242ac1c0002row1_col10,#T_d199bc8c_3bcd_11eb_9f0d_0242ac1c0002row2_col1{\n",
              "            background-color:  #4e68d8;\n",
              "            color:  #000000;\n",
              "        }#T_d199bc8c_3bcd_11eb_9f0d_0242ac1c0002row1_col11,#T_d199bc8c_3bcd_11eb_9f0d_0242ac1c0002row6_col3,#T_d199bc8c_3bcd_11eb_9f0d_0242ac1c0002row8_col3{\n",
              "            background-color:  #9abbff;\n",
              "            color:  #000000;\n",
              "        }#T_d199bc8c_3bcd_11eb_9f0d_0242ac1c0002row2_col0{\n",
              "            background-color:  #f59d7e;\n",
              "            color:  #000000;\n",
              "        }#T_d199bc8c_3bcd_11eb_9f0d_0242ac1c0002row2_col3,#T_d199bc8c_3bcd_11eb_9f0d_0242ac1c0002row8_col0,#T_d199bc8c_3bcd_11eb_9f0d_0242ac1c0002row8_col10{\n",
              "            background-color:  #5d7ce6;\n",
              "            color:  #000000;\n",
              "        }#T_d199bc8c_3bcd_11eb_9f0d_0242ac1c0002row2_col5{\n",
              "            background-color:  #506bda;\n",
              "            color:  #000000;\n",
              "        }#T_d199bc8c_3bcd_11eb_9f0d_0242ac1c0002row2_col6,#T_d199bc8c_3bcd_11eb_9f0d_0242ac1c0002row2_col9{\n",
              "            background-color:  #536edd;\n",
              "            color:  #000000;\n",
              "        }#T_d199bc8c_3bcd_11eb_9f0d_0242ac1c0002row2_col7{\n",
              "            background-color:  #5572df;\n",
              "            color:  #000000;\n",
              "        }#T_d199bc8c_3bcd_11eb_9f0d_0242ac1c0002row2_col10{\n",
              "            background-color:  #dadce0;\n",
              "            color:  #000000;\n",
              "        }#T_d199bc8c_3bcd_11eb_9f0d_0242ac1c0002row3_col1{\n",
              "            background-color:  #dbdcde;\n",
              "            color:  #000000;\n",
              "        }#T_d199bc8c_3bcd_11eb_9f0d_0242ac1c0002row3_col2{\n",
              "            background-color:  #688aef;\n",
              "            color:  #000000;\n",
              "        }#T_d199bc8c_3bcd_11eb_9f0d_0242ac1c0002row3_col4{\n",
              "            background-color:  #ead5c9;\n",
              "            color:  #000000;\n",
              "        }#T_d199bc8c_3bcd_11eb_9f0d_0242ac1c0002row3_col5{\n",
              "            background-color:  #98b9ff;\n",
              "            color:  #000000;\n",
              "        }#T_d199bc8c_3bcd_11eb_9f0d_0242ac1c0002row3_col6{\n",
              "            background-color:  #aec9fc;\n",
              "            color:  #000000;\n",
              "        }#T_d199bc8c_3bcd_11eb_9f0d_0242ac1c0002row3_col7,#T_d199bc8c_3bcd_11eb_9f0d_0242ac1c0002row7_col3{\n",
              "            background-color:  #f2cbb7;\n",
              "            color:  #000000;\n",
              "        }#T_d199bc8c_3bcd_11eb_9f0d_0242ac1c0002row3_col9{\n",
              "            background-color:  #f0cdbb;\n",
              "            color:  #000000;\n",
              "        }#T_d199bc8c_3bcd_11eb_9f0d_0242ac1c0002row3_col10{\n",
              "            background-color:  #516ddb;\n",
              "            color:  #000000;\n",
              "        }#T_d199bc8c_3bcd_11eb_9f0d_0242ac1c0002row3_col11,#T_d199bc8c_3bcd_11eb_9f0d_0242ac1c0002row6_col4,#T_d199bc8c_3bcd_11eb_9f0d_0242ac1c0002row6_col11,#T_d199bc8c_3bcd_11eb_9f0d_0242ac1c0002row11_col6{\n",
              "            background-color:  #86a9fc;\n",
              "            color:  #000000;\n",
              "        }#T_d199bc8c_3bcd_11eb_9f0d_0242ac1c0002row4_col0,#T_d199bc8c_3bcd_11eb_9f0d_0242ac1c0002row6_col8,#T_d199bc8c_3bcd_11eb_9f0d_0242ac1c0002row9_col2{\n",
              "            background-color:  #6282ea;\n",
              "            color:  #000000;\n",
              "        }#T_d199bc8c_3bcd_11eb_9f0d_0242ac1c0002row4_col1{\n",
              "            background-color:  #ee8468;\n",
              "            color:  #000000;\n",
              "        }#T_d199bc8c_3bcd_11eb_9f0d_0242ac1c0002row4_col2,#T_d199bc8c_3bcd_11eb_9f0d_0242ac1c0002row5_col10{\n",
              "            background-color:  #5b7ae5;\n",
              "            color:  #000000;\n",
              "        }#T_d199bc8c_3bcd_11eb_9f0d_0242ac1c0002row4_col3{\n",
              "            background-color:  #ead4c8;\n",
              "            color:  #000000;\n",
              "        }#T_d199bc8c_3bcd_11eb_9f0d_0242ac1c0002row4_col5,#T_d199bc8c_3bcd_11eb_9f0d_0242ac1c0002row4_col6,#T_d199bc8c_3bcd_11eb_9f0d_0242ac1c0002row6_col9{\n",
              "            background-color:  #9fbfff;\n",
              "            color:  #000000;\n",
              "        }#T_d199bc8c_3bcd_11eb_9f0d_0242ac1c0002row4_col7{\n",
              "            background-color:  #e8765c;\n",
              "            color:  #000000;\n",
              "        }#T_d199bc8c_3bcd_11eb_9f0d_0242ac1c0002row4_col8{\n",
              "            background-color:  #b3cdfb;\n",
              "            color:  #000000;\n",
              "        }#T_d199bc8c_3bcd_11eb_9f0d_0242ac1c0002row4_col9,#T_d199bc8c_3bcd_11eb_9f0d_0242ac1c0002row9_col4{\n",
              "            background-color:  #ec8165;\n",
              "            color:  #000000;\n",
              "        }#T_d199bc8c_3bcd_11eb_9f0d_0242ac1c0002row4_col10,#T_d199bc8c_3bcd_11eb_9f0d_0242ac1c0002row9_col10{\n",
              "            background-color:  #5673e0;\n",
              "            color:  #000000;\n",
              "        }#T_d199bc8c_3bcd_11eb_9f0d_0242ac1c0002row4_col11{\n",
              "            background-color:  #97b8ff;\n",
              "            color:  #000000;\n",
              "        }#T_d199bc8c_3bcd_11eb_9f0d_0242ac1c0002row5_col1{\n",
              "            background-color:  #aac7fd;\n",
              "            color:  #000000;\n",
              "        }#T_d199bc8c_3bcd_11eb_9f0d_0242ac1c0002row5_col3{\n",
              "            background-color:  #93b5fe;\n",
              "            color:  #000000;\n",
              "        }#T_d199bc8c_3bcd_11eb_9f0d_0242ac1c0002row5_col6{\n",
              "            background-color:  #bad0f8;\n",
              "            color:  #000000;\n",
              "        }#T_d199bc8c_3bcd_11eb_9f0d_0242ac1c0002row5_col7{\n",
              "            background-color:  #9dbdff;\n",
              "            color:  #000000;\n",
              "        }#T_d199bc8c_3bcd_11eb_9f0d_0242ac1c0002row5_col8{\n",
              "            background-color:  #5875e1;\n",
              "            color:  #000000;\n",
              "        }#T_d199bc8c_3bcd_11eb_9f0d_0242ac1c0002row5_col9{\n",
              "            background-color:  #9bbcff;\n",
              "            color:  #000000;\n",
              "        }#T_d199bc8c_3bcd_11eb_9f0d_0242ac1c0002row5_col11{\n",
              "            background-color:  #8caffe;\n",
              "            color:  #000000;\n",
              "        }#T_d199bc8c_3bcd_11eb_9f0d_0242ac1c0002row6_col1{\n",
              "            background-color:  #85a8fc;\n",
              "            color:  #000000;\n",
              "        }#T_d199bc8c_3bcd_11eb_9f0d_0242ac1c0002row6_col5{\n",
              "            background-color:  #adc9fd;\n",
              "            color:  #000000;\n",
              "        }#T_d199bc8c_3bcd_11eb_9f0d_0242ac1c0002row6_col10,#T_d199bc8c_3bcd_11eb_9f0d_0242ac1c0002row10_col6{\n",
              "            background-color:  #5977e3;\n",
              "            color:  #000000;\n",
              "        }#T_d199bc8c_3bcd_11eb_9f0d_0242ac1c0002row7_col0,#T_d199bc8c_3bcd_11eb_9f0d_0242ac1c0002row9_col0{\n",
              "            background-color:  #6485ec;\n",
              "            color:  #000000;\n",
              "        }#T_d199bc8c_3bcd_11eb_9f0d_0242ac1c0002row7_col1{\n",
              "            background-color:  #f7a889;\n",
              "            color:  #000000;\n",
              "        }#T_d199bc8c_3bcd_11eb_9f0d_0242ac1c0002row7_col2,#T_d199bc8c_3bcd_11eb_9f0d_0242ac1c0002row8_col5{\n",
              "            background-color:  #6384eb;\n",
              "            color:  #000000;\n",
              "        }#T_d199bc8c_3bcd_11eb_9f0d_0242ac1c0002row7_col4{\n",
              "            background-color:  #e9785d;\n",
              "            color:  #000000;\n",
              "        }#T_d199bc8c_3bcd_11eb_9f0d_0242ac1c0002row7_col5,#T_d199bc8c_3bcd_11eb_9f0d_0242ac1c0002row9_col5{\n",
              "            background-color:  #a5c3fe;\n",
              "            color:  #000000;\n",
              "        }#T_d199bc8c_3bcd_11eb_9f0d_0242ac1c0002row7_col6{\n",
              "            background-color:  #b2ccfb;\n",
              "            color:  #000000;\n",
              "        }#T_d199bc8c_3bcd_11eb_9f0d_0242ac1c0002row7_col8{\n",
              "            background-color:  #a9c6fd;\n",
              "            color:  #000000;\n",
              "        }#T_d199bc8c_3bcd_11eb_9f0d_0242ac1c0002row7_col9,#T_d199bc8c_3bcd_11eb_9f0d_0242ac1c0002row9_col7{\n",
              "            background-color:  #b50927;\n",
              "            color:  #f1f1f1;\n",
              "        }#T_d199bc8c_3bcd_11eb_9f0d_0242ac1c0002row7_col11{\n",
              "            background-color:  #8fb1fe;\n",
              "            color:  #000000;\n",
              "        }#T_d199bc8c_3bcd_11eb_9f0d_0242ac1c0002row8_col1{\n",
              "            background-color:  #a6c4fe;\n",
              "            color:  #000000;\n",
              "        }#T_d199bc8c_3bcd_11eb_9f0d_0242ac1c0002row8_col2{\n",
              "            background-color:  #4a63d3;\n",
              "            color:  #f1f1f1;\n",
              "        }#T_d199bc8c_3bcd_11eb_9f0d_0242ac1c0002row8_col4,#T_d199bc8c_3bcd_11eb_9f0d_0242ac1c0002row9_col6{\n",
              "            background-color:  #b5cdfa;\n",
              "            color:  #000000;\n",
              "        }#T_d199bc8c_3bcd_11eb_9f0d_0242ac1c0002row8_col6,#T_d199bc8c_3bcd_11eb_9f0d_0242ac1c0002row11_col4{\n",
              "            background-color:  #7ea1fa;\n",
              "            color:  #000000;\n",
              "        }#T_d199bc8c_3bcd_11eb_9f0d_0242ac1c0002row8_col9,#T_d199bc8c_3bcd_11eb_9f0d_0242ac1c0002row9_col8{\n",
              "            background-color:  #a3c2fe;\n",
              "            color:  #000000;\n",
              "        }#T_d199bc8c_3bcd_11eb_9f0d_0242ac1c0002row8_col11{\n",
              "            background-color:  #82a6fb;\n",
              "            color:  #000000;\n",
              "        }#T_d199bc8c_3bcd_11eb_9f0d_0242ac1c0002row9_col1{\n",
              "            background-color:  #f7b599;\n",
              "            color:  #000000;\n",
              "        }#T_d199bc8c_3bcd_11eb_9f0d_0242ac1c0002row9_col3{\n",
              "            background-color:  #f1cdba;\n",
              "            color:  #000000;\n",
              "        }#T_d199bc8c_3bcd_11eb_9f0d_0242ac1c0002row9_col11{\n",
              "            background-color:  #8db0fe;\n",
              "            color:  #000000;\n",
              "        }#T_d199bc8c_3bcd_11eb_9f0d_0242ac1c0002row10_col0{\n",
              "            background-color:  #d3dbe7;\n",
              "            color:  #000000;\n",
              "        }#T_d199bc8c_3bcd_11eb_9f0d_0242ac1c0002row10_col2{\n",
              "            background-color:  #d4dbe6;\n",
              "            color:  #000000;\n",
              "        }#T_d199bc8c_3bcd_11eb_9f0d_0242ac1c0002row10_col8{\n",
              "            background-color:  #4055c8;\n",
              "            color:  #f1f1f1;\n",
              "        }#T_d199bc8c_3bcd_11eb_9f0d_0242ac1c0002row11_col0{\n",
              "            background-color:  #3d50c3;\n",
              "            color:  #f1f1f1;\n",
              "        }#T_d199bc8c_3bcd_11eb_9f0d_0242ac1c0002row11_col1{\n",
              "            background-color:  #89acfd;\n",
              "            color:  #000000;\n",
              "        }#T_d199bc8c_3bcd_11eb_9f0d_0242ac1c0002row11_col3{\n",
              "            background-color:  #7093f3;\n",
              "            color:  #000000;\n",
              "        }#T_d199bc8c_3bcd_11eb_9f0d_0242ac1c0002row11_col5{\n",
              "            background-color:  #7da0f9;\n",
              "            color:  #000000;\n",
              "        }#T_d199bc8c_3bcd_11eb_9f0d_0242ac1c0002row11_col7{\n",
              "            background-color:  #779af7;\n",
              "            color:  #000000;\n",
              "        }#T_d199bc8c_3bcd_11eb_9f0d_0242ac1c0002row11_col8{\n",
              "            background-color:  #6788ee;\n",
              "            color:  #000000;\n",
              "        }#T_d199bc8c_3bcd_11eb_9f0d_0242ac1c0002row11_col9{\n",
              "            background-color:  #7396f5;\n",
              "            color:  #000000;\n",
              "        }</style><table id=\"T_d199bc8c_3bcd_11eb_9f0d_0242ac1c0002\" ><thead>    <tr>        <th class=\"blank level0\" ></th>        <th class=\"col_heading level0 col0\" >index</th>        <th class=\"col_heading level0 col1\" >budget</th>        <th class=\"col_heading level0 col2\" >id</th>        <th class=\"col_heading level0 col3\" >popularity</th>        <th class=\"col_heading level0 col4\" >revenue</th>        <th class=\"col_heading level0 col5\" >runtime</th>        <th class=\"col_heading level0 col6\" >vote_average</th>        <th class=\"col_heading level0 col7\" >vote_count</th>        <th class=\"col_heading level0 col8\" >collection</th>        <th class=\"col_heading level0 col9\" >score_1</th>        <th class=\"col_heading level0 col10\" >production_companies_id</th>        <th class=\"col_heading level0 col11\" >pc_id_count</th>    </tr></thead><tbody>\n",
              "                <tr>\n",
              "                        <th id=\"T_d199bc8c_3bcd_11eb_9f0d_0242ac1c0002level0_row0\" class=\"row_heading level0 row0\" >index</th>\n",
              "                        <td id=\"T_d199bc8c_3bcd_11eb_9f0d_0242ac1c0002row0_col0\" class=\"data row0 col0\" >1.000000</td>\n",
              "                        <td id=\"T_d199bc8c_3bcd_11eb_9f0d_0242ac1c0002row0_col1\" class=\"data row0 col1\" >-0.111052</td>\n",
              "                        <td id=\"T_d199bc8c_3bcd_11eb_9f0d_0242ac1c0002row0_col2\" class=\"data row0 col2\" >0.675912</td>\n",
              "                        <td id=\"T_d199bc8c_3bcd_11eb_9f0d_0242ac1c0002row0_col3\" class=\"data row0 col3\" >-0.113959</td>\n",
              "                        <td id=\"T_d199bc8c_3bcd_11eb_9f0d_0242ac1c0002row0_col4\" class=\"data row0 col4\" >-0.083023</td>\n",
              "                        <td id=\"T_d199bc8c_3bcd_11eb_9f0d_0242ac1c0002row0_col5\" class=\"data row0 col5\" >-0.171586</td>\n",
              "                        <td id=\"T_d199bc8c_3bcd_11eb_9f0d_0242ac1c0002row0_col6\" class=\"data row0 col6\" >-0.239960</td>\n",
              "                        <td id=\"T_d199bc8c_3bcd_11eb_9f0d_0242ac1c0002row0_col7\" class=\"data row0 col7\" >-0.071127</td>\n",
              "                        <td id=\"T_d199bc8c_3bcd_11eb_9f0d_0242ac1c0002row0_col8\" class=\"data row0 col8\" >-0.102720</td>\n",
              "                        <td id=\"T_d199bc8c_3bcd_11eb_9f0d_0242ac1c0002row0_col9\" class=\"data row0 col9\" >-0.072469</td>\n",
              "                        <td id=\"T_d199bc8c_3bcd_11eb_9f0d_0242ac1c0002row0_col10\" class=\"data row0 col10\" >0.331970</td>\n",
              "                        <td id=\"T_d199bc8c_3bcd_11eb_9f0d_0242ac1c0002row0_col11\" class=\"data row0 col11\" >-0.229618</td>\n",
              "            </tr>\n",
              "            <tr>\n",
              "                        <th id=\"T_d199bc8c_3bcd_11eb_9f0d_0242ac1c0002level0_row1\" class=\"row_heading level0 row1\" >budget</th>\n",
              "                        <td id=\"T_d199bc8c_3bcd_11eb_9f0d_0242ac1c0002row1_col0\" class=\"data row1 col0\" >-0.111052</td>\n",
              "                        <td id=\"T_d199bc8c_3bcd_11eb_9f0d_0242ac1c0002row1_col1\" class=\"data row1 col1\" >1.000000</td>\n",
              "                        <td id=\"T_d199bc8c_3bcd_11eb_9f0d_0242ac1c0002row1_col2\" class=\"data row1 col2\" >-0.086690</td>\n",
              "                        <td id=\"T_d199bc8c_3bcd_11eb_9f0d_0242ac1c0002row1_col3\" class=\"data row1 col3\" >0.412162</td>\n",
              "                        <td id=\"T_d199bc8c_3bcd_11eb_9f0d_0242ac1c0002row1_col4\" class=\"data row1 col4\" >0.766446</td>\n",
              "                        <td id=\"T_d199bc8c_3bcd_11eb_9f0d_0242ac1c0002row1_col5\" class=\"data row1 col5\" >0.225766</td>\n",
              "                        <td id=\"T_d199bc8c_3bcd_11eb_9f0d_0242ac1c0002row1_col6\" class=\"data row1 col6\" >0.103634</td>\n",
              "                        <td id=\"T_d199bc8c_3bcd_11eb_9f0d_0242ac1c0002row1_col7\" class=\"data row1 col7\" >0.665415</td>\n",
              "                        <td id=\"T_d199bc8c_3bcd_11eb_9f0d_0242ac1c0002row1_col8\" class=\"data row1 col8\" >0.212146</td>\n",
              "                        <td id=\"T_d199bc8c_3bcd_11eb_9f0d_0242ac1c0002row1_col9\" class=\"data row1 col9\" >0.622080</td>\n",
              "                        <td id=\"T_d199bc8c_3bcd_11eb_9f0d_0242ac1c0002row1_col10\" class=\"data row1 col10\" >-0.160624</td>\n",
              "                        <td id=\"T_d199bc8c_3bcd_11eb_9f0d_0242ac1c0002row1_col11\" class=\"data row1 col11\" >0.117158</td>\n",
              "            </tr>\n",
              "            <tr>\n",
              "                        <th id=\"T_d199bc8c_3bcd_11eb_9f0d_0242ac1c0002level0_row2\" class=\"row_heading level0 row2\" >id</th>\n",
              "                        <td id=\"T_d199bc8c_3bcd_11eb_9f0d_0242ac1c0002row2_col0\" class=\"data row2 col0\" >0.675912</td>\n",
              "                        <td id=\"T_d199bc8c_3bcd_11eb_9f0d_0242ac1c0002row2_col1\" class=\"data row2 col1\" >-0.086690</td>\n",
              "                        <td id=\"T_d199bc8c_3bcd_11eb_9f0d_0242ac1c0002row2_col2\" class=\"data row2 col2\" >1.000000</td>\n",
              "                        <td id=\"T_d199bc8c_3bcd_11eb_9f0d_0242ac1c0002row2_col3\" class=\"data row2 col3\" >-0.014127</td>\n",
              "                        <td id=\"T_d199bc8c_3bcd_11eb_9f0d_0242ac1c0002row2_col4\" class=\"data row2 col4\" >-0.060123</td>\n",
              "                        <td id=\"T_d199bc8c_3bcd_11eb_9f0d_0242ac1c0002row2_col5\" class=\"data row2 col5\" >-0.086692</td>\n",
              "                        <td id=\"T_d199bc8c_3bcd_11eb_9f0d_0242ac1c0002row2_col6\" class=\"data row2 col6\" >-0.141201</td>\n",
              "                        <td id=\"T_d199bc8c_3bcd_11eb_9f0d_0242ac1c0002row2_col7\" class=\"data row2 col7\" >-0.033574</td>\n",
              "                        <td id=\"T_d199bc8c_3bcd_11eb_9f0d_0242ac1c0002row2_col8\" class=\"data row2 col8\" >-0.122764</td>\n",
              "                        <td id=\"T_d199bc8c_3bcd_11eb_9f0d_0242ac1c0002row2_col9\" class=\"data row2 col9\" >-0.034831</td>\n",
              "                        <td id=\"T_d199bc8c_3bcd_11eb_9f0d_0242ac1c0002row2_col10\" class=\"data row2 col10\" >0.367358</td>\n",
              "                        <td id=\"T_d199bc8c_3bcd_11eb_9f0d_0242ac1c0002row2_col11\" class=\"data row2 col11\" >-0.186671</td>\n",
              "            </tr>\n",
              "            <tr>\n",
              "                        <th id=\"T_d199bc8c_3bcd_11eb_9f0d_0242ac1c0002level0_row3\" class=\"row_heading level0 row3\" >popularity</th>\n",
              "                        <td id=\"T_d199bc8c_3bcd_11eb_9f0d_0242ac1c0002row3_col0\" class=\"data row3 col0\" >-0.113959</td>\n",
              "                        <td id=\"T_d199bc8c_3bcd_11eb_9f0d_0242ac1c0002row3_col1\" class=\"data row3 col1\" >0.412162</td>\n",
              "                        <td id=\"T_d199bc8c_3bcd_11eb_9f0d_0242ac1c0002row3_col2\" class=\"data row3 col2\" >-0.014127</td>\n",
              "                        <td id=\"T_d199bc8c_3bcd_11eb_9f0d_0242ac1c0002row3_col3\" class=\"data row3 col3\" >1.000000</td>\n",
              "                        <td id=\"T_d199bc8c_3bcd_11eb_9f0d_0242ac1c0002row3_col4\" class=\"data row3 col4\" >0.495219</td>\n",
              "                        <td id=\"T_d199bc8c_3bcd_11eb_9f0d_0242ac1c0002row3_col5\" class=\"data row3 col5\" >0.161276</td>\n",
              "                        <td id=\"T_d199bc8c_3bcd_11eb_9f0d_0242ac1c0002row3_col6\" class=\"data row3 col6\" >0.186538</td>\n",
              "                        <td id=\"T_d199bc8c_3bcd_11eb_9f0d_0242ac1c0002row3_col7\" class=\"data row3 col7\" >0.544388</td>\n",
              "                        <td id=\"T_d199bc8c_3bcd_11eb_9f0d_0242ac1c0002row3_col8\" class=\"data row3 col8\" >0.184730</td>\n",
              "                        <td id=\"T_d199bc8c_3bcd_11eb_9f0d_0242ac1c0002row3_col9\" class=\"data row3 col9\" >0.534342</td>\n",
              "                        <td id=\"T_d199bc8c_3bcd_11eb_9f0d_0242ac1c0002row3_col10\" class=\"data row3 col10\" >-0.143197</td>\n",
              "                        <td id=\"T_d199bc8c_3bcd_11eb_9f0d_0242ac1c0002row3_col11\" class=\"data row3 col11\" >0.050937</td>\n",
              "            </tr>\n",
              "            <tr>\n",
              "                        <th id=\"T_d199bc8c_3bcd_11eb_9f0d_0242ac1c0002level0_row4\" class=\"row_heading level0 row4\" >revenue</th>\n",
              "                        <td id=\"T_d199bc8c_3bcd_11eb_9f0d_0242ac1c0002row4_col0\" class=\"data row4 col0\" >-0.083023</td>\n",
              "                        <td id=\"T_d199bc8c_3bcd_11eb_9f0d_0242ac1c0002row4_col1\" class=\"data row4 col1\" >0.766446</td>\n",
              "                        <td id=\"T_d199bc8c_3bcd_11eb_9f0d_0242ac1c0002row4_col2\" class=\"data row4 col2\" >-0.060123</td>\n",
              "                        <td id=\"T_d199bc8c_3bcd_11eb_9f0d_0242ac1c0002row4_col3\" class=\"data row4 col3\" >0.495219</td>\n",
              "                        <td id=\"T_d199bc8c_3bcd_11eb_9f0d_0242ac1c0002row4_col4\" class=\"data row4 col4\" >1.000000</td>\n",
              "                        <td id=\"T_d199bc8c_3bcd_11eb_9f0d_0242ac1c0002row4_col5\" class=\"data row4 col5\" >0.183763</td>\n",
              "                        <td id=\"T_d199bc8c_3bcd_11eb_9f0d_0242ac1c0002row4_col6\" class=\"data row4 col6\" >0.137679</td>\n",
              "                        <td id=\"T_d199bc8c_3bcd_11eb_9f0d_0242ac1c0002row4_col7\" class=\"data row4 col7\" >0.806602</td>\n",
              "                        <td id=\"T_d199bc8c_3bcd_11eb_9f0d_0242ac1c0002row4_col8\" class=\"data row4 col8\" >0.284759</td>\n",
              "                        <td id=\"T_d199bc8c_3bcd_11eb_9f0d_0242ac1c0002row4_col9\" class=\"data row4 col9\" >0.780984</td>\n",
              "                        <td id=\"T_d199bc8c_3bcd_11eb_9f0d_0242ac1c0002row4_col10\" class=\"data row4 col10\" >-0.125020</td>\n",
              "                        <td id=\"T_d199bc8c_3bcd_11eb_9f0d_0242ac1c0002row4_col11\" class=\"data row4 col11\" >0.108120</td>\n",
              "            </tr>\n",
              "            <tr>\n",
              "                        <th id=\"T_d199bc8c_3bcd_11eb_9f0d_0242ac1c0002level0_row5\" class=\"row_heading level0 row5\" >runtime</th>\n",
              "                        <td id=\"T_d199bc8c_3bcd_11eb_9f0d_0242ac1c0002row5_col0\" class=\"data row5 col0\" >-0.171586</td>\n",
              "                        <td id=\"T_d199bc8c_3bcd_11eb_9f0d_0242ac1c0002row5_col1\" class=\"data row5 col1\" >0.225766</td>\n",
              "                        <td id=\"T_d199bc8c_3bcd_11eb_9f0d_0242ac1c0002row5_col2\" class=\"data row5 col2\" >-0.086692</td>\n",
              "                        <td id=\"T_d199bc8c_3bcd_11eb_9f0d_0242ac1c0002row5_col3\" class=\"data row5 col3\" >0.161276</td>\n",
              "                        <td id=\"T_d199bc8c_3bcd_11eb_9f0d_0242ac1c0002row5_col4\" class=\"data row5 col4\" >0.183763</td>\n",
              "                        <td id=\"T_d199bc8c_3bcd_11eb_9f0d_0242ac1c0002row5_col5\" class=\"data row5 col5\" >1.000000</td>\n",
              "                        <td id=\"T_d199bc8c_3bcd_11eb_9f0d_0242ac1c0002row5_col6\" class=\"data row5 col6\" >0.231019</td>\n",
              "                        <td id=\"T_d199bc8c_3bcd_11eb_9f0d_0242ac1c0002row5_col7\" class=\"data row5 col7\" >0.199476</td>\n",
              "                        <td id=\"T_d199bc8c_3bcd_11eb_9f0d_0242ac1c0002row5_col8\" class=\"data row5 col8\" >-0.016943</td>\n",
              "                        <td id=\"T_d199bc8c_3bcd_11eb_9f0d_0242ac1c0002row5_col9\" class=\"data row5 col9\" >0.200588</td>\n",
              "                        <td id=\"T_d199bc8c_3bcd_11eb_9f0d_0242ac1c0002row5_col10\" class=\"data row5 col10\" >-0.105164</td>\n",
              "                        <td id=\"T_d199bc8c_3bcd_11eb_9f0d_0242ac1c0002row5_col11\" class=\"data row5 col11\" >0.068359</td>\n",
              "            </tr>\n",
              "            <tr>\n",
              "                        <th id=\"T_d199bc8c_3bcd_11eb_9f0d_0242ac1c0002level0_row6\" class=\"row_heading level0 row6\" >vote_average</th>\n",
              "                        <td id=\"T_d199bc8c_3bcd_11eb_9f0d_0242ac1c0002row6_col0\" class=\"data row6 col0\" >-0.239960</td>\n",
              "                        <td id=\"T_d199bc8c_3bcd_11eb_9f0d_0242ac1c0002row6_col1\" class=\"data row6 col1\" >0.103634</td>\n",
              "                        <td id=\"T_d199bc8c_3bcd_11eb_9f0d_0242ac1c0002row6_col2\" class=\"data row6 col2\" >-0.141201</td>\n",
              "                        <td id=\"T_d199bc8c_3bcd_11eb_9f0d_0242ac1c0002row6_col3\" class=\"data row6 col3\" >0.186538</td>\n",
              "                        <td id=\"T_d199bc8c_3bcd_11eb_9f0d_0242ac1c0002row6_col4\" class=\"data row6 col4\" >0.137679</td>\n",
              "                        <td id=\"T_d199bc8c_3bcd_11eb_9f0d_0242ac1c0002row6_col5\" class=\"data row6 col5\" >0.231019</td>\n",
              "                        <td id=\"T_d199bc8c_3bcd_11eb_9f0d_0242ac1c0002row6_col6\" class=\"data row6 col6\" >1.000000</td>\n",
              "                        <td id=\"T_d199bc8c_3bcd_11eb_9f0d_0242ac1c0002row6_col7\" class=\"data row6 col7\" >0.203592</td>\n",
              "                        <td id=\"T_d199bc8c_3bcd_11eb_9f0d_0242ac1c0002row6_col8\" class=\"data row6 col8\" >0.019937</td>\n",
              "                        <td id=\"T_d199bc8c_3bcd_11eb_9f0d_0242ac1c0002row6_col9\" class=\"data row6 col9\" >0.212963</td>\n",
              "                        <td id=\"T_d199bc8c_3bcd_11eb_9f0d_0242ac1c0002row6_col10\" class=\"data row6 col10\" >-0.116379</td>\n",
              "                        <td id=\"T_d199bc8c_3bcd_11eb_9f0d_0242ac1c0002row6_col11\" class=\"data row6 col11\" >0.048969</td>\n",
              "            </tr>\n",
              "            <tr>\n",
              "                        <th id=\"T_d199bc8c_3bcd_11eb_9f0d_0242ac1c0002level0_row7\" class=\"row_heading level0 row7\" >vote_count</th>\n",
              "                        <td id=\"T_d199bc8c_3bcd_11eb_9f0d_0242ac1c0002row7_col0\" class=\"data row7 col0\" >-0.071127</td>\n",
              "                        <td id=\"T_d199bc8c_3bcd_11eb_9f0d_0242ac1c0002row7_col1\" class=\"data row7 col1\" >0.665415</td>\n",
              "                        <td id=\"T_d199bc8c_3bcd_11eb_9f0d_0242ac1c0002row7_col2\" class=\"data row7 col2\" >-0.033574</td>\n",
              "                        <td id=\"T_d199bc8c_3bcd_11eb_9f0d_0242ac1c0002row7_col3\" class=\"data row7 col3\" >0.544388</td>\n",
              "                        <td id=\"T_d199bc8c_3bcd_11eb_9f0d_0242ac1c0002row7_col4\" class=\"data row7 col4\" >0.806602</td>\n",
              "                        <td id=\"T_d199bc8c_3bcd_11eb_9f0d_0242ac1c0002row7_col5\" class=\"data row7 col5\" >0.199476</td>\n",
              "                        <td id=\"T_d199bc8c_3bcd_11eb_9f0d_0242ac1c0002row7_col6\" class=\"data row7 col6\" >0.203592</td>\n",
              "                        <td id=\"T_d199bc8c_3bcd_11eb_9f0d_0242ac1c0002row7_col7\" class=\"data row7 col7\" >1.000000</td>\n",
              "                        <td id=\"T_d199bc8c_3bcd_11eb_9f0d_0242ac1c0002row7_col8\" class=\"data row7 col8\" >0.246816</td>\n",
              "                        <td id=\"T_d199bc8c_3bcd_11eb_9f0d_0242ac1c0002row7_col9\" class=\"data row7 col9\" >0.994176</td>\n",
              "                        <td id=\"T_d199bc8c_3bcd_11eb_9f0d_0242ac1c0002row7_col10\" class=\"data row7 col10\" >-0.134497</td>\n",
              "                        <td id=\"T_d199bc8c_3bcd_11eb_9f0d_0242ac1c0002row7_col11\" class=\"data row7 col11\" >0.080398</td>\n",
              "            </tr>\n",
              "            <tr>\n",
              "                        <th id=\"T_d199bc8c_3bcd_11eb_9f0d_0242ac1c0002level0_row8\" class=\"row_heading level0 row8\" >collection</th>\n",
              "                        <td id=\"T_d199bc8c_3bcd_11eb_9f0d_0242ac1c0002row8_col0\" class=\"data row8 col0\" >-0.102720</td>\n",
              "                        <td id=\"T_d199bc8c_3bcd_11eb_9f0d_0242ac1c0002row8_col1\" class=\"data row8 col1\" >0.212146</td>\n",
              "                        <td id=\"T_d199bc8c_3bcd_11eb_9f0d_0242ac1c0002row8_col2\" class=\"data row8 col2\" >-0.122764</td>\n",
              "                        <td id=\"T_d199bc8c_3bcd_11eb_9f0d_0242ac1c0002row8_col3\" class=\"data row8 col3\" >0.184730</td>\n",
              "                        <td id=\"T_d199bc8c_3bcd_11eb_9f0d_0242ac1c0002row8_col4\" class=\"data row8 col4\" >0.284759</td>\n",
              "                        <td id=\"T_d199bc8c_3bcd_11eb_9f0d_0242ac1c0002row8_col5\" class=\"data row8 col5\" >-0.016943</td>\n",
              "                        <td id=\"T_d199bc8c_3bcd_11eb_9f0d_0242ac1c0002row8_col6\" class=\"data row8 col6\" >0.019937</td>\n",
              "                        <td id=\"T_d199bc8c_3bcd_11eb_9f0d_0242ac1c0002row8_col7\" class=\"data row8 col7\" >0.246816</td>\n",
              "                        <td id=\"T_d199bc8c_3bcd_11eb_9f0d_0242ac1c0002row8_col8\" class=\"data row8 col8\" >1.000000</td>\n",
              "                        <td id=\"T_d199bc8c_3bcd_11eb_9f0d_0242ac1c0002row8_col9\" class=\"data row8 col9\" >0.228573</td>\n",
              "                        <td id=\"T_d199bc8c_3bcd_11eb_9f0d_0242ac1c0002row8_col10\" class=\"data row8 col10\" >-0.100320</td>\n",
              "                        <td id=\"T_d199bc8c_3bcd_11eb_9f0d_0242ac1c0002row8_col11\" class=\"data row8 col11\" >0.036184</td>\n",
              "            </tr>\n",
              "            <tr>\n",
              "                        <th id=\"T_d199bc8c_3bcd_11eb_9f0d_0242ac1c0002level0_row9\" class=\"row_heading level0 row9\" >score_1</th>\n",
              "                        <td id=\"T_d199bc8c_3bcd_11eb_9f0d_0242ac1c0002row9_col0\" class=\"data row9 col0\" >-0.072469</td>\n",
              "                        <td id=\"T_d199bc8c_3bcd_11eb_9f0d_0242ac1c0002row9_col1\" class=\"data row9 col1\" >0.622080</td>\n",
              "                        <td id=\"T_d199bc8c_3bcd_11eb_9f0d_0242ac1c0002row9_col2\" class=\"data row9 col2\" >-0.034831</td>\n",
              "                        <td id=\"T_d199bc8c_3bcd_11eb_9f0d_0242ac1c0002row9_col3\" class=\"data row9 col3\" >0.534342</td>\n",
              "                        <td id=\"T_d199bc8c_3bcd_11eb_9f0d_0242ac1c0002row9_col4\" class=\"data row9 col4\" >0.780984</td>\n",
              "                        <td id=\"T_d199bc8c_3bcd_11eb_9f0d_0242ac1c0002row9_col5\" class=\"data row9 col5\" >0.200588</td>\n",
              "                        <td id=\"T_d199bc8c_3bcd_11eb_9f0d_0242ac1c0002row9_col6\" class=\"data row9 col6\" >0.212963</td>\n",
              "                        <td id=\"T_d199bc8c_3bcd_11eb_9f0d_0242ac1c0002row9_col7\" class=\"data row9 col7\" >0.994176</td>\n",
              "                        <td id=\"T_d199bc8c_3bcd_11eb_9f0d_0242ac1c0002row9_col8\" class=\"data row9 col8\" >0.228573</td>\n",
              "                        <td id=\"T_d199bc8c_3bcd_11eb_9f0d_0242ac1c0002row9_col9\" class=\"data row9 col9\" >1.000000</td>\n",
              "                        <td id=\"T_d199bc8c_3bcd_11eb_9f0d_0242ac1c0002row9_col10\" class=\"data row9 col10\" >-0.126350</td>\n",
              "                        <td id=\"T_d199bc8c_3bcd_11eb_9f0d_0242ac1c0002row9_col11\" class=\"data row9 col11\" >0.075440</td>\n",
              "            </tr>\n",
              "            <tr>\n",
              "                        <th id=\"T_d199bc8c_3bcd_11eb_9f0d_0242ac1c0002level0_row10\" class=\"row_heading level0 row10\" >production_companies_id</th>\n",
              "                        <td id=\"T_d199bc8c_3bcd_11eb_9f0d_0242ac1c0002row10_col0\" class=\"data row10 col0\" >0.331970</td>\n",
              "                        <td id=\"T_d199bc8c_3bcd_11eb_9f0d_0242ac1c0002row10_col1\" class=\"data row10 col1\" >-0.160624</td>\n",
              "                        <td id=\"T_d199bc8c_3bcd_11eb_9f0d_0242ac1c0002row10_col2\" class=\"data row10 col2\" >0.367358</td>\n",
              "                        <td id=\"T_d199bc8c_3bcd_11eb_9f0d_0242ac1c0002row10_col3\" class=\"data row10 col3\" >-0.143197</td>\n",
              "                        <td id=\"T_d199bc8c_3bcd_11eb_9f0d_0242ac1c0002row10_col4\" class=\"data row10 col4\" >-0.125020</td>\n",
              "                        <td id=\"T_d199bc8c_3bcd_11eb_9f0d_0242ac1c0002row10_col5\" class=\"data row10 col5\" >-0.105164</td>\n",
              "                        <td id=\"T_d199bc8c_3bcd_11eb_9f0d_0242ac1c0002row10_col6\" class=\"data row10 col6\" >-0.116379</td>\n",
              "                        <td id=\"T_d199bc8c_3bcd_11eb_9f0d_0242ac1c0002row10_col7\" class=\"data row10 col7\" >-0.134497</td>\n",
              "                        <td id=\"T_d199bc8c_3bcd_11eb_9f0d_0242ac1c0002row10_col8\" class=\"data row10 col8\" >-0.100320</td>\n",
              "                        <td id=\"T_d199bc8c_3bcd_11eb_9f0d_0242ac1c0002row10_col9\" class=\"data row10 col9\" >-0.126350</td>\n",
              "                        <td id=\"T_d199bc8c_3bcd_11eb_9f0d_0242ac1c0002row10_col10\" class=\"data row10 col10\" >1.000000</td>\n",
              "                        <td id=\"T_d199bc8c_3bcd_11eb_9f0d_0242ac1c0002row10_col11\" class=\"data row10 col11\" >-0.238531</td>\n",
              "            </tr>\n",
              "            <tr>\n",
              "                        <th id=\"T_d199bc8c_3bcd_11eb_9f0d_0242ac1c0002level0_row11\" class=\"row_heading level0 row11\" >pc_id_count</th>\n",
              "                        <td id=\"T_d199bc8c_3bcd_11eb_9f0d_0242ac1c0002row11_col0\" class=\"data row11 col0\" >-0.229618</td>\n",
              "                        <td id=\"T_d199bc8c_3bcd_11eb_9f0d_0242ac1c0002row11_col1\" class=\"data row11 col1\" >0.117158</td>\n",
              "                        <td id=\"T_d199bc8c_3bcd_11eb_9f0d_0242ac1c0002row11_col2\" class=\"data row11 col2\" >-0.186671</td>\n",
              "                        <td id=\"T_d199bc8c_3bcd_11eb_9f0d_0242ac1c0002row11_col3\" class=\"data row11 col3\" >0.050937</td>\n",
              "                        <td id=\"T_d199bc8c_3bcd_11eb_9f0d_0242ac1c0002row11_col4\" class=\"data row11 col4\" >0.108120</td>\n",
              "                        <td id=\"T_d199bc8c_3bcd_11eb_9f0d_0242ac1c0002row11_col5\" class=\"data row11 col5\" >0.068359</td>\n",
              "                        <td id=\"T_d199bc8c_3bcd_11eb_9f0d_0242ac1c0002row11_col6\" class=\"data row11 col6\" >0.048969</td>\n",
              "                        <td id=\"T_d199bc8c_3bcd_11eb_9f0d_0242ac1c0002row11_col7\" class=\"data row11 col7\" >0.080398</td>\n",
              "                        <td id=\"T_d199bc8c_3bcd_11eb_9f0d_0242ac1c0002row11_col8\" class=\"data row11 col8\" >0.036184</td>\n",
              "                        <td id=\"T_d199bc8c_3bcd_11eb_9f0d_0242ac1c0002row11_col9\" class=\"data row11 col9\" >0.075440</td>\n",
              "                        <td id=\"T_d199bc8c_3bcd_11eb_9f0d_0242ac1c0002row11_col10\" class=\"data row11 col10\" >-0.238531</td>\n",
              "                        <td id=\"T_d199bc8c_3bcd_11eb_9f0d_0242ac1c0002row11_col11\" class=\"data row11 col11\" >1.000000</td>\n",
              "            </tr>\n",
              "    </tbody></table>"
            ],
            "text/plain": [
              "<pandas.io.formats.style.Styler at 0x7ff0787062b0>"
            ]
          },
          "metadata": {
            "tags": []
          },
          "execution_count": 10
        }
      ]
    },
    {
      "cell_type": "markdown",
      "metadata": {
        "id": "kw26NXPlvCa4"
      },
      "source": [
        "Par construction de *score_1*, il n'est pas choquant d'observer une forte corrélation avec *popularity*, *vote_count* et *vote_average*.\n",
        "\n",
        "On constate que bien qu'il y ait peu de données qui puissent être exploitées pour le budget et le revenu d'un film, ces deux variables sont cependant corrélées avec *score_1*, qui permet de quantifier la qualité d'un film.\n",
        "\n",
        "Par ailleurs, la compagnie de production et la durée du film ne semblent guère influencer sa qualité. "
      ]
    },
    {
      "cell_type": "markdown",
      "metadata": {
        "id": "dRtvlAwmNlST"
      },
      "source": [
        "## Complétude des deux bases"
      ]
    },
    {
      "cell_type": "markdown",
      "metadata": {
        "id": "u6LyoBTNv9jB"
      },
      "source": [
        "# Régression linéaire de *score_1* sur *budget* et *revenue*"
      ]
    },
    {
      "cell_type": "markdown",
      "metadata": {
        "id": "DtySOStF1uq-"
      },
      "source": [
        "Tout d'abord, récupérons les données nécessaires dans le dataset."
      ]
    },
    {
      "cell_type": "code",
      "metadata": {
        "id": "bbIay57mzhEy"
      },
      "source": [
        "X = pd.DataFrame(np.c_[df.budget, df.revenue], columns= ['budget', 'revenue'])\n",
        "Y = df.score_1"
      ],
      "execution_count": null,
      "outputs": []
    },
    {
      "cell_type": "markdown",
      "metadata": {
        "id": "eC8dy4CQ2Lkv"
      },
      "source": [
        "Séparons ensuite nos deux ensembles de données en bases d'apprentissage et de test."
      ]
    },
    {
      "cell_type": "code",
      "metadata": {
        "colab": {
          "base_uri": "https://localhost:8080/"
        },
        "id": "XU2YOJmeyDvp",
        "outputId": "c73f0b33-1173-4900-cee4-946f451075dd"
      },
      "source": [
        "from sklearn.model_selection import train_test_split\n",
        " \n",
        "X_train, X_test, Y_train, Y_test = train_test_split(X, Y, test_size = 0.2, random_state=5)\n",
        "print(X_train.shape)\n",
        "print(X_test.shape)\n",
        "print(Y_train.shape)\n",
        "print(Y_test.shape)"
      ],
      "execution_count": null,
      "outputs": [
        {
          "output_type": "stream",
          "text": [
            "(13884, 2)\n",
            "(3472, 2)\n",
            "(13884,)\n",
            "(3472,)\n"
          ],
          "name": "stdout"
        }
      ]
    },
    {
      "cell_type": "markdown",
      "metadata": {
        "id": "ECQodfNWnMMP"
      },
      "source": [
        "## Régression linéaire "
      ]
    },
    {
      "cell_type": "markdown",
      "metadata": {
        "id": "65lD77kA2X6j"
      },
      "source": [
        "On effectue alors la régression linéaire voulue."
      ]
    },
    {
      "cell_type": "code",
      "metadata": {
        "colab": {
          "base_uri": "https://localhost:8080/"
        },
        "id": "RBvgnVZMycKr",
        "outputId": "16df73b5-21b2-4ce3-94af-9ed315a5bd06"
      },
      "source": [
        "from sklearn.linear_model import LinearRegression\n",
        "from sklearn.metrics import mean_squared_error\n",
        " \n",
        "lmodellineaire = LinearRegression()\n",
        "lmodellineaire.fit(X_train, Y_train)\n"
      ],
      "execution_count": null,
      "outputs": [
        {
          "output_type": "execute_result",
          "data": {
            "text/plain": [
              "LinearRegression(copy_X=True, fit_intercept=True, n_jobs=None, normalize=False)"
            ]
          },
          "metadata": {
            "tags": []
          },
          "execution_count": 108
        }
      ]
    },
    {
      "cell_type": "markdown",
      "metadata": {
        "id": "mNfhjpTn2gEg"
      },
      "source": [
        "Evaluons les performances du modèle sur l'échantillon d'apprentissage et sur celui de test :"
      ]
    },
    {
      "cell_type": "code",
      "metadata": {
        "colab": {
          "base_uri": "https://localhost:8080/"
        },
        "id": "donOvBma0f-d",
        "outputId": "9ec24877-cf4a-4ab8-94e8-584532feff5f"
      },
      "source": [
        "# Evaluation du training set\n",
        "from sklearn.metrics import r2_score\n",
        "y_train_predict = lmodellineaire.predict(X_train)\n",
        "rmse = (np.sqrt(mean_squared_error(Y_train, y_train_predict)))\n",
        "r2 = r2_score(Y_train, y_train_predict)\n",
        " \n",
        "print(\"Performance du modèle sur la base d'apprentissage\")\n",
        "print('--------------------------------------')\n",
        "print(\"L'erreur quadratique moyenne est {}\".format(rmse))\n",
        "print('Le score R² est {}'.format(r2))\n",
        "print('\\n')\n",
        " \n",
        "# Evaluation du testing set\n",
        "y_test_predict = lmodellineaire.predict(X_test)\n",
        "rmse = (np.sqrt(mean_squared_error(Y_test, y_test_predict)))\n",
        "r2 = r2_score(Y_test, y_test_predict)\n",
        " \n",
        "print('Performance du modèle sur la base de test')\n",
        "print('--------------------------------------')\n",
        "print(\"L'erreur quadratique moyenne est {}\".format(rmse))\n",
        "print('Le score R² est {}'.format(r2))"
      ],
      "execution_count": null,
      "outputs": [
        {
          "output_type": "stream",
          "text": [
            "Performance du modèle sur la base d'apprentissage\n",
            "--------------------------------------\n",
            "L'erreur quadratique moyenne est 3467.4302151622496\n",
            "Le score R² est 0.6162165165800999\n",
            "\n",
            "\n",
            "Performance du modèle sur la base de test\n",
            "--------------------------------------\n",
            "L'erreur quadratique moyenne est 3364.076265294737\n",
            "Le score R² est 0.5879873205932651\n"
          ],
          "name": "stdout"
        }
      ]
    },
    {
      "cell_type": "markdown",
      "metadata": {
        "id": "HdynAg6X3J-C"
      },
      "source": [
        "Bien que le R² soit plutôt bon, ce modèle génère une erreur quadratique moyenne assez forte sur la valeur de *score_1* (de l'ordre de 3400). Cela est certainement dû à la dispersion de score_1 :"
      ]
    },
    {
      "cell_type": "code",
      "metadata": {
        "colab": {
          "base_uri": "https://localhost:8080/"
        },
        "id": "w4xZu2Xz22bB",
        "outputId": "4093f9f7-c459-4ef5-b470-1c1c0e25c5d0"
      },
      "source": [
        "df.score_1.describe()"
      ],
      "execution_count": null,
      "outputs": [
        {
          "output_type": "execute_result",
          "data": {
            "text/plain": [
              "count     17356.000000\n",
              "mean       1709.543046\n",
              "std        5527.962377\n",
              "min           0.000000\n",
              "25%          44.800000\n",
              "50%         170.000000\n",
              "75%         857.700000\n",
              "max      114007.500000\n",
              "Name: score_1, dtype: float64"
            ]
          },
          "metadata": {
            "tags": []
          },
          "execution_count": 110
        }
      ]
    },
    {
      "cell_type": "markdown",
      "metadata": {
        "id": "FyGd9ewHnPjD"
      },
      "source": [
        "## Régression linéaire tronquée"
      ]
    },
    {
      "cell_type": "markdown",
      "metadata": {
        "id": "G5NTPtdm3ho7"
      },
      "source": [
        "Etudions les perfomances de ce modèle sur un échantillon comprenant les valeurs de *score_1* allant du 1er au 3ème quartile :"
      ]
    },
    {
      "cell_type": "code",
      "metadata": {
        "id": "krJf22UD4DOv"
      },
      "source": [
        "first_quart = np.percentile(df.score_1, 25)\n",
        "third_quart = np.percentile(df.score_1, 75)"
      ],
      "execution_count": null,
      "outputs": []
    },
    {
      "cell_type": "code",
      "metadata": {
        "colab": {
          "base_uri": "https://localhost:8080/"
        },
        "id": "abRf5e8C4TrB",
        "outputId": "e93ca633-a447-4336-f3c8-aa474136481f"
      },
      "source": [
        "# Filtration des données\n",
        "df_quart = df[df.score_1 > first_quart]\n",
        "df_quart = df[df.score_1 < third_quart]\n",
        "\n",
        "# Création des variables nécessaires\n",
        "X2 = pd.DataFrame(np.c_[df_quart.budget, df_quart.revenue], columns= ['budget', 'revenue'])\n",
        "Y2 = df_quart.score_1\n",
        "X_train2, X_test2, Y_train2, Y_test2 = train_test_split(X2, Y2, test_size = 0.2, random_state=5)\n",
        "\n",
        "# Lancement de la régression linéaire\n",
        "lmodellineaire = LinearRegression()\n",
        "lmodellineaire.fit(X_train2, Y_train2)"
      ],
      "execution_count": null,
      "outputs": [
        {
          "output_type": "execute_result",
          "data": {
            "text/plain": [
              "LinearRegression(copy_X=True, fit_intercept=True, n_jobs=None, normalize=False)"
            ]
          },
          "metadata": {
            "tags": []
          },
          "execution_count": 112
        }
      ]
    },
    {
      "cell_type": "code",
      "metadata": {
        "colab": {
          "base_uri": "https://localhost:8080/"
        },
        "id": "hcmn_N3Y4IFF",
        "outputId": "b9142f80-c994-467e-b67c-ed0304dcd86d"
      },
      "source": [
        "# Evaluation du training set\n",
        "from sklearn.metrics import r2_score\n",
        "y_train_predict2 = lmodellineaire.predict(X_train2)\n",
        "rmse = (np.sqrt(mean_squared_error(Y_train2, y_train_predict2)))\n",
        "r2 = r2_score(Y_train2, y_train_predict2)\n",
        " \n",
        "print(\"Performance du modèle sur la base d'apprentissage\")\n",
        "print('--------------------------------------')\n",
        "print(\"L'erreur quadratique moyenne est {}\".format(rmse))\n",
        "print('Le score R² est {}'.format(r2))\n",
        "print('\\n')\n",
        " \n",
        "# Evaluation du testing set\n",
        "y_test_predict2 = lmodellineaire.predict(X_test2)\n",
        "rmse = (np.sqrt(mean_squared_error(Y_test2, y_test_predict2)))\n",
        "r2 = r2_score(Y_test2, y_test_predict2)\n",
        " \n",
        "print('Performance du modèle sur la base de test')\n",
        "print('--------------------------------------')\n",
        "print(\"L'erreur quadratique moyenne est {}\".format(rmse))\n",
        "print('Le score R² est {}'.format(r2))"
      ],
      "execution_count": null,
      "outputs": [
        {
          "output_type": "stream",
          "text": [
            "Performance du modèle sur la base d'apprentissage\n",
            "--------------------------------------\n",
            "L'erreur quadratique moyenne est 188.1704456835393\n",
            "Le score R² est 0.1454504867917935\n",
            "\n",
            "\n",
            "Performance du modèle sur la base de test\n",
            "--------------------------------------\n",
            "L'erreur quadratique moyenne est 181.4256396942466\n",
            "Le score R² est 0.1529228653745578\n"
          ],
          "name": "stdout"
        }
      ]
    },
    {
      "cell_type": "markdown",
      "metadata": {
        "id": "LpMvtBP16ayx"
      },
      "source": [
        "Par cette nouvelle régression, nous avons certes diminué drastiquement l'erreur quadratique moyenne, cependant le R² a été divisé par 4."
      ]
    },
    {
      "cell_type": "markdown",
      "metadata": {
        "id": "_L705PKUqS2R"
      },
      "source": [
        "Comparons graphiquement les résultats de la prédiction pour ces deux régressions."
      ]
    },
    {
      "cell_type": "code",
      "metadata": {
        "id": "wY5OaF_YuGlW"
      },
      "source": [
        "def plot(test, predict):\r\n",
        "  fig, ax = plt.subplots(figsize=(8,5))\r\n",
        "  p1 = sns.distplot(test, label = 'Vraie valeur')\r\n",
        "  p2 = sns.distplot(predict, label = 'Prédiction')\r\n",
        "  ax.set(xlabel= 'Valeur de score_1', ylabel = 'Densité')\r\n",
        "  fig.legend(labels=['Vraie valeur','Prédiction'], loc = (0.75, 0.5))"
      ],
      "execution_count": 103,
      "outputs": []
    },
    {
      "cell_type": "code",
      "metadata": {
        "id": "r3HKrukgqd94",
        "colab": {
          "base_uri": "https://localhost:8080/",
          "height": 1000
        },
        "outputId": "d298797c-bf20-4465-908e-0018916615c3"
      },
      "source": [
        "plot(Y_test,y_test_predict)\r\n",
        "plt.title('Prédiction de la variable score_1 par le budget et le revenu \\n Base entière')\r\n",
        "\r\n",
        "plot(Y_test2, y_test_predict2)\r\n",
        "plt.title('Prédiction de la variable score_1 par le budget et le revenu \\n Valeurs de score_1 entre les 1er et 3ème quartiles')\r\n",
        "\r\n",
        "plt.show()"
      ],
      "execution_count": null,
      "outputs": [
        {
          "output_type": "stream",
          "text": [
            "/usr/local/lib/python3.6/dist-packages/seaborn/distributions.py:2551: FutureWarning:\n",
            "\n",
            "`distplot` is a deprecated function and will be removed in a future version. Please adapt your code to use either `displot` (a figure-level function with similar flexibility) or `histplot` (an axes-level function for histograms).\n",
            "\n",
            "/usr/local/lib/python3.6/dist-packages/seaborn/distributions.py:2551: FutureWarning:\n",
            "\n",
            "`distplot` is a deprecated function and will be removed in a future version. Please adapt your code to use either `displot` (a figure-level function with similar flexibility) or `histplot` (an axes-level function for histograms).\n",
            "\n",
            "/usr/local/lib/python3.6/dist-packages/seaborn/distributions.py:2551: FutureWarning:\n",
            "\n",
            "`distplot` is a deprecated function and will be removed in a future version. Please adapt your code to use either `displot` (a figure-level function with similar flexibility) or `histplot` (an axes-level function for histograms).\n",
            "\n",
            "/usr/local/lib/python3.6/dist-packages/seaborn/distributions.py:2551: FutureWarning:\n",
            "\n",
            "`distplot` is a deprecated function and will be removed in a future version. Please adapt your code to use either `displot` (a figure-level function with similar flexibility) or `histplot` (an axes-level function for histograms).\n",
            "\n"
          ],
          "name": "stderr"
        },
        {
          "output_type": "display_data",
          "data": {
            "image/png": "[encoded data removed]",
            "text/plain": [
              "<Figure size 576x360 with 1 Axes>"
            ]
          },
          "metadata": {
            "tags": [],
            "needs_background": "light"
          }
        },
        {
          "output_type": "display_data",
          "data": {
            "image/png": "[encoded data removed]",
            "text/plain": [
              "<Figure size 576x360 with 1 Axes>"
            ]
          },
          "metadata": {
            "tags": [],
            "needs_background": "light"
          }
        }
      ]
    },
    {
      "cell_type": "markdown",
      "metadata": {
        "id": "u7g-csnu11h-"
      },
      "source": [
        "Grâce à ces graphiques, on remarque qu'effectivement la première régression est nettement plus efficace que la seconde pour prédire les valeurs de *score_1*. Cependant, l'algorithme a plus de mal à prédire précisément les petites valeurs de *score_1*."
      ]
    },
    {
      "cell_type": "markdown",
      "metadata": {
        "id": "n9JQiqUV2wMN"
      },
      "source": [
        "# Sentiment analysis \n",
        "\n",
        "\n",
        "\n",
        "\n"
      ]
    },
    {
      "cell_type": "markdown",
      "metadata": {
        "id": "wViAil_-mwu_"
      },
      "source": [
        "L'idée derrière cette partie sur l'analyse sentiment des commentaires des spectateurs est de créer un modèle capable de prédire correctement si les sentiments dégagés par les commentaires sont positifs ou négatifs. On dispose ici de bases déjà labellisées. Mais ce travail pourrait permettre d'améliorer nos modèles en s'intéressant à une base plus importante de commentaires que l'on pourrait scraper et sur laquelle on pourrait tourner notre outil de prédiction de sentiments.\n"
      ]
    },
    {
      "cell_type": "markdown",
      "metadata": {
        "id": "C8xRyidUb32Y"
      },
      "source": [
        "## Préparation des données"
      ]
    },
    {
      "cell_type": "markdown",
      "metadata": {
        "id": "uzxi5fBTL4zc"
      },
      "source": [
        "On va tenter d'enrichir notre base en rajoutant l'analyse sentiment des commentaires associés aux films. Pour cela, on importe les base *train_review.csv.zip* et *test_review.csv.zip*. \n"
      ]
    },
    {
      "cell_type": "code",
      "metadata": {
        "id": "ERFfYKo5juqE"
      },
      "source": [
        "train_review = pd.read_csv(r'/content/temp_dir/train_review.csv', sep=',')\n",
        "test_review = pd.read_csv(r'/content/temp_dir/test_review.csv', sep=',')"
      ],
      "execution_count": 61,
      "outputs": []
    },
    {
      "cell_type": "code",
      "metadata": {
        "id": "cAcTcGi7UKDB",
        "outputId": "9c167d7f-a145-4d7d-d2a0-436172d17a19",
        "colab": {
          "base_uri": "https://localhost:8080/",
          "height": 204
        }
      },
      "source": [
        "train_review.head()"
      ],
      "execution_count": 62,
      "outputs": [
        {
          "output_type": "execute_result",
          "data": {
            "text/html": [
              "<div>\n",
              "<style scoped>\n",
              "    .dataframe tbody tr th:only-of-type {\n",
              "        vertical-align: middle;\n",
              "    }\n",
              "\n",
              "    .dataframe tbody tr th {\n",
              "        vertical-align: top;\n",
              "    }\n",
              "\n",
              "    .dataframe thead th {\n",
              "        text-align: right;\n",
              "    }\n",
              "</style>\n",
              "<table border=\"1\" class=\"dataframe\">\n",
              "  <thead>\n",
              "    <tr style=\"text-align: right;\">\n",
              "      <th></th>\n",
              "      <th>Unnamed: 0</th>\n",
              "      <th>review</th>\n",
              "      <th>sentiment</th>\n",
              "      <th>url_code</th>\n",
              "      <th>rating</th>\n",
              "      <th>imdb_id</th>\n",
              "    </tr>\n",
              "  </thead>\n",
              "  <tbody>\n",
              "    <tr>\n",
              "      <th>0</th>\n",
              "      <td>0</td>\n",
              "      <td>Working with one of the best Shakespeare sourc...</td>\n",
              "      <td>0</td>\n",
              "      <td>1821</td>\n",
              "      <td>4</td>\n",
              "      <td>tt0064354</td>\n",
              "    </tr>\n",
              "    <tr>\n",
              "      <th>1</th>\n",
              "      <td>1</td>\n",
              "      <td>Well...tremors I, the original started off in ...</td>\n",
              "      <td>0</td>\n",
              "      <td>10402</td>\n",
              "      <td>1</td>\n",
              "      <td>tt0100680</td>\n",
              "    </tr>\n",
              "    <tr>\n",
              "      <th>2</th>\n",
              "      <td>2</td>\n",
              "      <td>Ouch! This one was a bit painful to sit throug...</td>\n",
              "      <td>0</td>\n",
              "      <td>1062</td>\n",
              "      <td>4</td>\n",
              "      <td>tt0100680</td>\n",
              "    </tr>\n",
              "    <tr>\n",
              "      <th>3</th>\n",
              "      <td>3</td>\n",
              "      <td>I've seen some crappy movies in my life, but t...</td>\n",
              "      <td>0</td>\n",
              "      <td>9056</td>\n",
              "      <td>1</td>\n",
              "      <td>tt0100680</td>\n",
              "    </tr>\n",
              "    <tr>\n",
              "      <th>4</th>\n",
              "      <td>4</td>\n",
              "      <td>\"Carriers\" follows the exploits of two guys an...</td>\n",
              "      <td>0</td>\n",
              "      <td>5392</td>\n",
              "      <td>3</td>\n",
              "      <td>tt0047200</td>\n",
              "    </tr>\n",
              "  </tbody>\n",
              "</table>\n",
              "</div>"
            ],
            "text/plain": [
              "   Unnamed: 0  ...    imdb_id\n",
              "0           0  ...  tt0064354\n",
              "1           1  ...  tt0100680\n",
              "2           2  ...  tt0100680\n",
              "3           3  ...  tt0100680\n",
              "4           4  ...  tt0047200\n",
              "\n",
              "[5 rows x 6 columns]"
            ]
          },
          "metadata": {
            "tags": []
          },
          "execution_count": 62
        }
      ]
    },
    {
      "cell_type": "code",
      "metadata": {
        "id": "zaIUDOOYYqF0",
        "outputId": "bfb97c5e-7675-4e35-ca8b-d68635433182",
        "colab": {
          "base_uri": "https://localhost:8080/"
        }
      },
      "source": [
        "print(len(train_review), len(test_review))"
      ],
      "execution_count": 63,
      "outputs": [
        {
          "output_type": "stream",
          "text": [
            "25000 25000\n"
          ],
          "name": "stdout"
        }
      ]
    },
    {
      "cell_type": "markdown",
      "metadata": {
        "id": "FzJVRNEqP9a1"
      },
      "source": [
        "On va garder les *review* des films présents dans la base *df*."
      ]
    },
    {
      "cell_type": "code",
      "metadata": {
        "id": "V1kLX-8-QE3Z"
      },
      "source": [
        "l = []\n",
        "l_rtest = pd.unique(test_review.imdb_id)\n",
        "l_rtrain = pd.unique(train_review.imdb_id)\n",
        "for elem in df.imdb_id:\n",
        "  if elem in l_rtest or elem in l_rtrain : \n",
        "    l.append(elem)\n"
      ],
      "execution_count": 64,
      "outputs": []
    },
    {
      "cell_type": "code",
      "metadata": {
        "colab": {
          "base_uri": "https://localhost:8080/"
        },
        "id": "f6WKv_BRUj-E",
        "outputId": "c5f90f0d-e85c-4f9a-b956-e2642cc1abe9"
      },
      "source": [
        "cond = test_review.apply ( lambda row : row['imdb_id'] in l , axis = 1 )\n",
        "test_filtered = test_review[cond]\n",
        "\n",
        "print('On a supprimé', len(test_review)-len(test_filtered), 'reviews de films non attribués dans la base')"
      ],
      "execution_count": 65,
      "outputs": [
        {
          "output_type": "stream",
          "text": [
            "On a supprimé 15320 reviews de films non attribués dans la base\n"
          ],
          "name": "stdout"
        }
      ]
    },
    {
      "cell_type": "code",
      "metadata": {
        "colab": {
          "base_uri": "https://localhost:8080/"
        },
        "id": "XVuFRYaCVOUK",
        "outputId": "0a74cb39-4f2a-4210-80e0-8366394a18e8"
      },
      "source": [
        "cond = train_review.apply ( lambda row : row['imdb_id'] in l , axis = 1 )\n",
        "train_filtered = train_review[cond]\n",
        "\n",
        "print('On a supprimé', len(train_review)-len(train_filtered), 'reviews de films non attribués dans la base')"
      ],
      "execution_count": 66,
      "outputs": [
        {
          "output_type": "stream",
          "text": [
            "On a supprimé 15095 reviews de films non attribués dans la base\n"
          ],
          "name": "stdout"
        }
      ]
    },
    {
      "cell_type": "markdown",
      "metadata": {
        "id": "cwI0NCSHVUHI"
      },
      "source": [
        "On va pouvoir associer les deux dataframe construits. "
      ]
    },
    {
      "cell_type": "code",
      "metadata": {
        "colab": {
          "base_uri": "https://localhost:8080/"
        },
        "id": "t2gL1xwCVTKK",
        "outputId": "0fa8bbc9-d6f3-4e3f-90f7-e22b1080dd1a"
      },
      "source": [
        "review_filtered = pd.concat([train_filtered, test_filtered]).reset_index()\n",
        "print(len(review_filtered))"
      ],
      "execution_count": 68,
      "outputs": [
        {
          "output_type": "stream",
          "text": [
            "19585\n"
          ],
          "name": "stdout"
        }
      ]
    },
    {
      "cell_type": "code",
      "metadata": {
        "id": "N5qN0noKY8VM",
        "outputId": "d03d4035-fd22-45e8-d2e5-699d6ef4c9aa",
        "colab": {
          "base_uri": "https://localhost:8080/",
          "height": 204
        }
      },
      "source": [
        "review_filtered = review_filtered.drop(columns='Unnamed: 0')\n",
        "review_filtered.head()"
      ],
      "execution_count": 69,
      "outputs": [
        {
          "output_type": "execute_result",
          "data": {
            "text/html": [
              "<div>\n",
              "<style scoped>\n",
              "    .dataframe tbody tr th:only-of-type {\n",
              "        vertical-align: middle;\n",
              "    }\n",
              "\n",
              "    .dataframe tbody tr th {\n",
              "        vertical-align: top;\n",
              "    }\n",
              "\n",
              "    .dataframe thead th {\n",
              "        text-align: right;\n",
              "    }\n",
              "</style>\n",
              "<table border=\"1\" class=\"dataframe\">\n",
              "  <thead>\n",
              "    <tr style=\"text-align: right;\">\n",
              "      <th></th>\n",
              "      <th>index</th>\n",
              "      <th>review</th>\n",
              "      <th>sentiment</th>\n",
              "      <th>url_code</th>\n",
              "      <th>rating</th>\n",
              "      <th>imdb_id</th>\n",
              "    </tr>\n",
              "  </thead>\n",
              "  <tbody>\n",
              "    <tr>\n",
              "      <th>0</th>\n",
              "      <td>1</td>\n",
              "      <td>Well...tremors I, the original started off in ...</td>\n",
              "      <td>0</td>\n",
              "      <td>10402</td>\n",
              "      <td>1</td>\n",
              "      <td>tt0100680</td>\n",
              "    </tr>\n",
              "    <tr>\n",
              "      <th>1</th>\n",
              "      <td>2</td>\n",
              "      <td>Ouch! This one was a bit painful to sit throug...</td>\n",
              "      <td>0</td>\n",
              "      <td>1062</td>\n",
              "      <td>4</td>\n",
              "      <td>tt0100680</td>\n",
              "    </tr>\n",
              "    <tr>\n",
              "      <th>2</th>\n",
              "      <td>3</td>\n",
              "      <td>I've seen some crappy movies in my life, but t...</td>\n",
              "      <td>0</td>\n",
              "      <td>9056</td>\n",
              "      <td>1</td>\n",
              "      <td>tt0100680</td>\n",
              "    </tr>\n",
              "    <tr>\n",
              "      <th>3</th>\n",
              "      <td>4</td>\n",
              "      <td>\"Carriers\" follows the exploits of two guys an...</td>\n",
              "      <td>0</td>\n",
              "      <td>5392</td>\n",
              "      <td>3</td>\n",
              "      <td>tt0047200</td>\n",
              "    </tr>\n",
              "    <tr>\n",
              "      <th>4</th>\n",
              "      <td>34</td>\n",
              "      <td>I can't say that Wargames: The Dead Code is th...</td>\n",
              "      <td>0</td>\n",
              "      <td>9565</td>\n",
              "      <td>3</td>\n",
              "      <td>tt0080486</td>\n",
              "    </tr>\n",
              "  </tbody>\n",
              "</table>\n",
              "</div>"
            ],
            "text/plain": [
              "   index                                             review  ...  rating    imdb_id\n",
              "0      1  Well...tremors I, the original started off in ...  ...       1  tt0100680\n",
              "1      2  Ouch! This one was a bit painful to sit throug...  ...       4  tt0100680\n",
              "2      3  I've seen some crappy movies in my life, but t...  ...       1  tt0100680\n",
              "3      4  \"Carriers\" follows the exploits of two guys an...  ...       3  tt0047200\n",
              "4     34  I can't say that Wargames: The Dead Code is th...  ...       3  tt0080486\n",
              "\n",
              "[5 rows x 6 columns]"
            ]
          },
          "metadata": {
            "tags": []
          },
          "execution_count": 69
        }
      ]
    },
    {
      "cell_type": "markdown",
      "metadata": {
        "id": "jsphFdKmQ1ZD"
      },
      "source": [
        "On tokenize puis on enlève les stopwords."
      ]
    },
    {
      "cell_type": "code",
      "metadata": {
        "id": "Ms6E9oLO5dXI",
        "colab": {
          "base_uri": "https://localhost:8080/"
        },
        "outputId": "b60bae77-ac93-44df-d7e5-b28a43590cb7"
      },
      "source": [
        "from nltk.corpus import stopwords\n",
        "import nltk\n",
        "nltk.download('punkt')\n",
        "nltk.download('stopwords')\n",
        "from nltk.tokenize import word_tokenize\n",
        "\n",
        "reviews = review_filtered.review.str.cat(sep=' ')\n",
        "# on découpe selon les mots\n",
        "tokens = word_tokenize(reviews)\n",
        "stop_words = set(stopwords.words('english'))\n",
        "tokens = [w for w in tokens if not w in stop_words]\n",
        "words=[word.lower() for word in tokens if word.isalpha()]\n"
      ],
      "execution_count": 70,
      "outputs": [
        {
          "output_type": "stream",
          "text": [
            "[nltk_data] Downloading package punkt to /root/nltk_data...\n",
            "[nltk_data]   Package punkt is already up-to-date!\n",
            "[nltk_data] Downloading package stopwords to /root/nltk_data...\n",
            "[nltk_data]   Package stopwords is already up-to-date!\n"
          ],
          "name": "stdout"
        }
      ]
    },
    {
      "cell_type": "code",
      "metadata": {
        "colab": {
          "base_uri": "https://localhost:8080/"
        },
        "id": "Etq4YUMgQkL2",
        "outputId": "280307b3-dad3-4add-c4cd-72f3eee33d96"
      },
      "source": [
        "vocabulary = set(words)\n",
        "print(len(vocabulary))\n",
        "frequency_dist = nltk.FreqDist(words)\n",
        "print('les 10 mots les plus fréquents',sorted(frequency_dist,key=frequency_dist.__getitem__, reverse=True)[0:20])\n"
      ],
      "execution_count": 71,
      "outputs": [
        {
          "output_type": "stream",
          "text": [
            "66021\n",
            "les 10 mots les plus fréquents ['br', 'i', 'the', 'movie', 'film', 'one', 'like', 'it', 'this', 'good', 'would', 'even', 'time', 'really', 'see', 'story', 'well', 'much', 'could', 'great']\n"
          ],
          "name": "stdout"
        }
      ]
    },
    {
      "cell_type": "markdown",
      "metadata": {
        "id": "1UvqljuaY-4K"
      },
      "source": [
        "Il y a encore quelques stop words qu'on va retirer. On rajoute les mots pertinents à retirer dans la liste *to_remove* jusqu'à ce que la liste des 10 mots les plus fréquents contienne des termes sans stopwords ainsi qu'uniquement des mots pertinents (par exemple *movies* ou *film* ne sont pas très pertinents puisque tous les objets sont des films ici)."
      ]
    },
    {
      "cell_type": "code",
      "metadata": {
        "id": "v4aCj6yoYHdk"
      },
      "source": [
        "to_remove = ['i','br', 'the','this', 'it', 'one', 'movie', 'film']\n",
        "words = [word for word in words if word not in to_remove]"
      ],
      "execution_count": 72,
      "outputs": []
    },
    {
      "cell_type": "code",
      "metadata": {
        "colab": {
          "base_uri": "https://localhost:8080/",
          "height": 198
        },
        "id": "ZglF-ogfQltJ",
        "outputId": "a8725703-fd8e-40dc-890b-d221c32bfc05"
      },
      "source": [
        "from wordcloud import WordCloud\n",
        "import matplotlib.pyplot as plt\n",
        "vocabulary = set(words)\n",
        "frequency_dist = nltk.FreqDist(words)\n",
        "wordcloud = WordCloud().generate_from_frequencies(frequency_dist)\n",
        "plt.imshow(wordcloud)\n",
        "plt.axis(\"off\")\n",
        "plt.show()\n"
      ],
      "execution_count": 73,
      "outputs": [
        {
          "output_type": "display_data",
          "data": {
            "image/png": "[encoded data removed]",
            "text/plain": [
              "<Figure size 432x288 with 1 Axes>"
            ]
          },
          "metadata": {
            "tags": [],
            "needs_background": "light"
          }
        }
      ]
    },
    {
      "cell_type": "markdown",
      "metadata": {
        "id": "-MoL-pKfZuDZ"
      },
      "source": [
        "Comme nous utilisons des subsets des bases d'apprentissage et d'entraînement initialement fournies, nous allons recréer ces bases pour notre modèle de sentiment analysis. "
      ]
    },
    {
      "cell_type": "code",
      "metadata": {
        "id": "S5SnxcXfVv14",
        "outputId": "0c1ad5c5-7e45-483f-afb2-e433d24d844b",
        "colab": {
          "base_uri": "https://localhost:8080/"
        }
      },
      "source": [
        "n_max = len(review_filtered)/2\n",
        "n_max "
      ],
      "execution_count": 74,
      "outputs": [
        {
          "output_type": "execute_result",
          "data": {
            "text/plain": [
              "9792.5"
            ]
          },
          "metadata": {
            "tags": []
          },
          "execution_count": 74
        }
      ]
    },
    {
      "cell_type": "code",
      "metadata": {
        "colab": {
          "base_uri": "https://localhost:8080/"
        },
        "id": "kXVGtQ0qZ4nY",
        "outputId": "d3b3f964-c58a-41f0-fe3c-4e2bf2f9acd2"
      },
      "source": [
        "\n",
        "print(len(review_filtered.loc[:n_max-1, 'review'].values), len(review_filtered.loc[n_max:,'review'].values))"
      ],
      "execution_count": 76,
      "outputs": [
        {
          "output_type": "stream",
          "text": [
            "9792 9792\n"
          ],
          "name": "stdout"
        }
      ]
    },
    {
      "cell_type": "code",
      "metadata": {
        "id": "RRrzbc_eX6gw"
      },
      "source": [
        "x_train = review_filtered.loc[:n_max-1, 'review'].values\n",
        "y_train = review_filtered.loc[:n_max-1, 'sentiment'].values\n",
        "x_test = review_filtered.loc[n_max:,'review'].values\n",
        "y_test = review_filtered.loc[n_max:,'sentiment'].values"
      ],
      "execution_count": 77,
      "outputs": []
    },
    {
      "cell_type": "markdown",
      "metadata": {
        "id": "BxKBipcrdOjQ"
      },
      "source": [
        "## Classificateur naïf bayésien"
      ]
    },
    {
      "cell_type": "markdown",
      "metadata": {
        "id": "4DhPyPI2aoR6"
      },
      "source": [
        "On préprocess le texte avec *TFidfTransformer* : "
      ]
    },
    {
      "cell_type": "code",
      "metadata": {
        "colab": {
          "base_uri": "https://localhost:8080/"
        },
        "id": "nc0kP4A4afW5",
        "outputId": "c8554ff4-c5d4-4b63-c0eb-aa9ae48de37a"
      },
      "source": [
        "from sklearn.feature_extraction.text import TfidfTransformer\n",
        "from sklearn.feature_extraction.text import TfidfVectorizer\n",
        "vectorizer = TfidfVectorizer()\n",
        "train_vectors = vectorizer.fit_transform(x_train)\n",
        "test_vectors = vectorizer.transform(x_test)\n",
        "print(train_vectors.shape, test_vectors.shape)"
      ],
      "execution_count": 78,
      "outputs": [
        {
          "output_type": "stream",
          "text": [
            "(9792, 51042) (9792, 51042)\n"
          ],
          "name": "stdout"
        }
      ]
    },
    {
      "cell_type": "markdown",
      "metadata": {
        "id": "6WfCz2OXa20U"
      },
      "source": [
        "On utilise un classifier naïf bayésien pour entraîner notre modèle."
      ]
    },
    {
      "cell_type": "code",
      "metadata": {
        "id": "ofK28U6SavxK"
      },
      "source": [
        "from sklearn.naive_bayes import MultinomialNB\n",
        "clf = MultinomialNB().fit(train_vectors, y_train)"
      ],
      "execution_count": 79,
      "outputs": []
    },
    {
      "cell_type": "markdown",
      "metadata": {
        "id": "g_QXMuOYbCKu"
      },
      "source": [
        "Maintenant que le modèle est entraîné, on s'intéresse au score :"
      ]
    },
    {
      "cell_type": "code",
      "metadata": {
        "colab": {
          "base_uri": "https://localhost:8080/"
        },
        "id": "0EipgBm-a1az",
        "outputId": "a8e4bc5b-18df-4753-c5bd-933f72846259"
      },
      "source": [
        "from  sklearn.metrics  import accuracy_score\n",
        "predicted = clf.predict(test_vectors)\n",
        "print(accuracy_score(y_test,predicted))\n"
      ],
      "execution_count": 80,
      "outputs": [
        {
          "output_type": "stream",
          "text": [
            "0.8471200980392157\n"
          ],
          "name": "stdout"
        }
      ]
    },
    {
      "cell_type": "code",
      "metadata": {
        "colab": {
          "base_uri": "https://localhost:8080/",
          "height": 173
        },
        "id": "q6L7jYM-d8_S",
        "outputId": "451f0f58-c535-4acd-e429-70c527aafd30"
      },
      "source": [
        "from sklearn.metrics import accuracy_score, f1_score, precision_score, recall_score, confusion_matrix\n",
        "tab = pd.DataFrame([[accuracy_score(y_test, predicted)], [f1_score(y_test, predicted)],[precision_score(y_test, predicted)], [recall_score(y_test, predicted)]], index=['accuracy', 'f1', 'precision', 'recall'], columns = ['score'])\n",
        "tab"
      ],
      "execution_count": 81,
      "outputs": [
        {
          "output_type": "execute_result",
          "data": {
            "text/html": [
              "<div>\n",
              "<style scoped>\n",
              "    .dataframe tbody tr th:only-of-type {\n",
              "        vertical-align: middle;\n",
              "    }\n",
              "\n",
              "    .dataframe tbody tr th {\n",
              "        vertical-align: top;\n",
              "    }\n",
              "\n",
              "    .dataframe thead th {\n",
              "        text-align: right;\n",
              "    }\n",
              "</style>\n",
              "<table border=\"1\" class=\"dataframe\">\n",
              "  <thead>\n",
              "    <tr style=\"text-align: right;\">\n",
              "      <th></th>\n",
              "      <th>score</th>\n",
              "    </tr>\n",
              "  </thead>\n",
              "  <tbody>\n",
              "    <tr>\n",
              "      <th>accuracy</th>\n",
              "      <td>0.847120</td>\n",
              "    </tr>\n",
              "    <tr>\n",
              "      <th>f1</th>\n",
              "      <td>0.857551</td>\n",
              "    </tr>\n",
              "    <tr>\n",
              "      <th>precision</th>\n",
              "      <td>0.854380</td>\n",
              "    </tr>\n",
              "    <tr>\n",
              "      <th>recall</th>\n",
              "      <td>0.860745</td>\n",
              "    </tr>\n",
              "  </tbody>\n",
              "</table>\n",
              "</div>"
            ],
            "text/plain": [
              "              score\n",
              "accuracy   0.847120\n",
              "f1         0.857551\n",
              "precision  0.854380\n",
              "recall     0.860745"
            ]
          },
          "metadata": {
            "tags": []
          },
          "execution_count": 81
        }
      ]
    },
    {
      "cell_type": "code",
      "metadata": {
        "colab": {
          "base_uri": "https://localhost:8080/",
          "height": 286
        },
        "id": "1RavLKBoeCDL",
        "outputId": "dfc5e462-fb86-41d0-a937-6a8e89afaab3"
      },
      "source": [
        "c = confusion_matrix(y_test, predicted)\n",
        "sns.heatmap(c)"
      ],
      "execution_count": 82,
      "outputs": [
        {
          "output_type": "execute_result",
          "data": {
            "text/plain": [
              "<matplotlib.axes._subplots.AxesSubplot at 0x7f08c6af1e48>"
            ]
          },
          "metadata": {
            "tags": []
          },
          "execution_count": 82
        },
        {
          "output_type": "display_data",
          "data": {
            "image/png": "[encoded data removed]",
            "text/plain": [
              "<Figure size 432x288 with 2 Axes>"
            ]
          },
          "metadata": {
            "tags": [],
            "needs_background": "light"
          }
        }
      ]
    },
    {
      "cell_type": "markdown",
      "metadata": {
        "id": "9gX1VQVMbJkE"
      },
      "source": [
        "On obtient un score de 84,71% sur la prédiction des sentiments positifs ou négatifs générés par les commentaires utilisateurs. On voit sur la matrice de confiance que les erreurs de type I (faux positifs) et de type II (faux négatifs) sont marginales. \n",
        "A priori, le classificateur est performant, mais il se trouve que SVM est une méthode d'ordinaire meilleure que le classificateur naïf bayésien. \n",
        "On va essayer d'améliorer ce score en utilisant un SVM plutôt qu'un classificateur naïf bayésien. L'avantage du classificateur naïf bayésien en dépit de sa performance est la rapidité d'exécution par rapport au SVM."
      ]
    },
    {
      "cell_type": "markdown",
      "metadata": {
        "id": "DBFjwjKkmONj"
      },
      "source": [
        "### 5-fold validation croisée"
      ]
    },
    {
      "cell_type": "code",
      "metadata": {
        "id": "GDZtdxvamFz4"
      },
      "source": [
        "from sklearn.model_selection import cross_val_score\n",
        "scores = cross_val_score(clf, train_vectors, y_train, cv=5)\n",
        "print(\"Cross-validation scores: {}\".format(scores))"
      ],
      "execution_count": null,
      "outputs": []
    },
    {
      "cell_type": "markdown",
      "metadata": {
        "id": "gCoXtIMkdSVs"
      },
      "source": [
        "## Classificateur SVM"
      ]
    },
    {
      "cell_type": "code",
      "metadata": {
        "id": "pcssCwFla_Ii"
      },
      "source": [
        "from sklearn.model_selection import train_test_split\n",
        "from sklearn.metrics import classification_report"
      ],
      "execution_count": 83,
      "outputs": []
    },
    {
      "cell_type": "code",
      "metadata": {
        "id": "v-4tZ0g0dUiI"
      },
      "source": [
        "from sklearn.svm import SVC\n",
        "clf = SVC(kernel='linear', C=1)\n",
        "clf.fit(train_vectors, y_train)\n",
        "y_pred = clf.predict(test_vectors)"
      ],
      "execution_count": 84,
      "outputs": []
    },
    {
      "cell_type": "code",
      "metadata": {
        "colab": {
          "base_uri": "https://localhost:8080/",
          "height": 173
        },
        "id": "EDfIq1Osdfuq",
        "outputId": "747ba7e4-c7dc-4248-fc97-d06dee83b1d3"
      },
      "source": [
        "from sklearn.metrics import accuracy_score, f1_score, precision_score, recall_score, confusion_matrix\n",
        "tab = pd.DataFrame([[accuracy_score(y_test, y_pred)], [f1_score(y_test, y_pred)],[precision_score(y_test,y_pred)], [recall_score(y_test, y_pred)]], index=['accuracy', 'f1', 'precision', 'recall'], columns = ['score'])\n",
        "tab"
      ],
      "execution_count": 85,
      "outputs": [
        {
          "output_type": "execute_result",
          "data": {
            "text/html": [
              "<div>\n",
              "<style scoped>\n",
              "    .dataframe tbody tr th:only-of-type {\n",
              "        vertical-align: middle;\n",
              "    }\n",
              "\n",
              "    .dataframe tbody tr th {\n",
              "        vertical-align: top;\n",
              "    }\n",
              "\n",
              "    .dataframe thead th {\n",
              "        text-align: right;\n",
              "    }\n",
              "</style>\n",
              "<table border=\"1\" class=\"dataframe\">\n",
              "  <thead>\n",
              "    <tr style=\"text-align: right;\">\n",
              "      <th></th>\n",
              "      <th>score</th>\n",
              "    </tr>\n",
              "  </thead>\n",
              "  <tbody>\n",
              "    <tr>\n",
              "      <th>accuracy</th>\n",
              "      <td>0.872141</td>\n",
              "    </tr>\n",
              "    <tr>\n",
              "      <th>f1</th>\n",
              "      <td>0.879221</td>\n",
              "    </tr>\n",
              "    <tr>\n",
              "      <th>precision</th>\n",
              "      <td>0.888131</td>\n",
              "    </tr>\n",
              "    <tr>\n",
              "      <th>recall</th>\n",
              "      <td>0.870487</td>\n",
              "    </tr>\n",
              "  </tbody>\n",
              "</table>\n",
              "</div>"
            ],
            "text/plain": [
              "              score\n",
              "accuracy   0.872141\n",
              "f1         0.879221\n",
              "precision  0.888131\n",
              "recall     0.870487"
            ]
          },
          "metadata": {
            "tags": []
          },
          "execution_count": 85
        }
      ]
    },
    {
      "cell_type": "markdown",
      "metadata": {
        "id": "9MbTu-q-e-bI"
      },
      "source": [
        "En effet le score en SVM est un peu plus élevé, avec une précision de 87,21%. Le temps d'exécution est bien plus long en revanche. "
      ]
    },
    {
      "cell_type": "code",
      "metadata": {
        "colab": {
          "base_uri": "https://localhost:8080/",
          "height": 283
        },
        "id": "sXxCJ4V6ezfu",
        "outputId": "5f81baf5-8a2a-4cf2-ceef-a367bf23ea41"
      },
      "source": [
        "c = confusion_matrix(y_test, y_pred)\n",
        "sns.heatmap(c)"
      ],
      "execution_count": 87,
      "outputs": [
        {
          "output_type": "execute_result",
          "data": {
            "text/plain": [
              "<matplotlib.axes._subplots.AxesSubplot at 0x7f08c2b68a58>"
            ]
          },
          "metadata": {
            "tags": []
          },
          "execution_count": 87
        },
        {
          "output_type": "display_data",
          "data": {
            "image/png": "[encoded data removed]",
            "text/plain": [
              "<Figure size 432x288 with 2 Axes>"
            ]
          },
          "metadata": {
            "tags": [],
            "needs_background": "light"
          }
        }
      ]
    },
    {
      "cell_type": "markdown",
      "metadata": {
        "id": "E_o4oq3ffeQA"
      },
      "source": [
        "La matrice de confusion est à peu près inchangée."
      ]
    },
    {
      "cell_type": "markdown",
      "metadata": {
        "id": "rSudlUTUfPHD"
      },
      "source": [
        "### 5-fold validation croisée SVM"
      ]
    },
    {
      "cell_type": "code",
      "metadata": {
        "colab": {
          "base_uri": "https://localhost:8080/",
          "height": 324
        },
        "id": "aOzxXFIbfUdq",
        "outputId": "5958ca3a-f66c-41df-ee70-c4620234cd1c"
      },
      "source": [
        "scores = cross_val_score(clf, train_vectors, y_train, cv=5)\n",
        "print(\"Cross-validation scores: {}\".format(scores))"
      ],
      "execution_count": 89,
      "outputs": [
        {
          "output_type": "error",
          "ename": "KeyboardInterrupt",
          "evalue": "ignored",
          "traceback": [
            "\u001b[0;31m---------------------------------------------------------------------------\u001b[0m",
            "\u001b[0;31mKeyboardInterrupt\u001b[0m                         Traceback (most recent call last)",
            "\u001b[0;32m<ipython-input-89-4589068f69cd>\u001b[0m in \u001b[0;36m<module>\u001b[0;34m()\u001b[0m\n\u001b[0;32m----> 1\u001b[0;31m \u001b[0mscores\u001b[0m \u001b[0;34m=\u001b[0m \u001b[0mcross_val_score\u001b[0m\u001b[0;34m(\u001b[0m\u001b[0mclf\u001b[0m\u001b[0;34m,\u001b[0m \u001b[0mtrain_vectors\u001b[0m\u001b[0;34m,\u001b[0m \u001b[0my_train\u001b[0m\u001b[0;34m,\u001b[0m \u001b[0mcv\u001b[0m\u001b[0;34m=\u001b[0m\u001b[0;36m5\u001b[0m\u001b[0;34m)\u001b[0m\u001b[0;34m\u001b[0m\u001b[0;34m\u001b[0m\u001b[0m\n\u001b[0m\u001b[1;32m      2\u001b[0m \u001b[0mprint\u001b[0m\u001b[0;34m(\u001b[0m\u001b[0;34m\"Cross-validation scores: {}\"\u001b[0m\u001b[0;34m.\u001b[0m\u001b[0mformat\u001b[0m\u001b[0;34m(\u001b[0m\u001b[0mscores\u001b[0m\u001b[0;34m)\u001b[0m\u001b[0;34m)\u001b[0m\u001b[0;34m\u001b[0m\u001b[0;34m\u001b[0m\u001b[0m\n",
            "\u001b[0;32m/usr/local/lib/python3.6/dist-packages/sklearn/model_selection/_validation.py\u001b[0m in \u001b[0;36mcross_val_score\u001b[0;34m(estimator, X, y, groups, scoring, cv, n_jobs, verbose, fit_params, pre_dispatch, error_score)\u001b[0m\n\u001b[1;32m    388\u001b[0m                                 \u001b[0mfit_params\u001b[0m\u001b[0;34m=\u001b[0m\u001b[0mfit_params\u001b[0m\u001b[0;34m,\u001b[0m\u001b[0;34m\u001b[0m\u001b[0;34m\u001b[0m\u001b[0m\n\u001b[1;32m    389\u001b[0m                                 \u001b[0mpre_dispatch\u001b[0m\u001b[0;34m=\u001b[0m\u001b[0mpre_dispatch\u001b[0m\u001b[0;34m,\u001b[0m\u001b[0;34m\u001b[0m\u001b[0;34m\u001b[0m\u001b[0m\n\u001b[0;32m--> 390\u001b[0;31m                                 error_score=error_score)\n\u001b[0m\u001b[1;32m    391\u001b[0m     \u001b[0;32mreturn\u001b[0m \u001b[0mcv_results\u001b[0m\u001b[0;34m[\u001b[0m\u001b[0;34m'test_score'\u001b[0m\u001b[0;34m]\u001b[0m\u001b[0;34m\u001b[0m\u001b[0;34m\u001b[0m\u001b[0m\n\u001b[1;32m    392\u001b[0m \u001b[0;34m\u001b[0m\u001b[0m\n",
            "\u001b[0;32m/usr/local/lib/python3.6/dist-packages/sklearn/model_selection/_validation.py\u001b[0m in \u001b[0;36mcross_validate\u001b[0;34m(estimator, X, y, groups, scoring, cv, n_jobs, verbose, fit_params, pre_dispatch, return_train_score, return_estimator, error_score)\u001b[0m\n\u001b[1;32m    234\u001b[0m             \u001b[0mreturn_times\u001b[0m\u001b[0;34m=\u001b[0m\u001b[0;32mTrue\u001b[0m\u001b[0;34m,\u001b[0m \u001b[0mreturn_estimator\u001b[0m\u001b[0;34m=\u001b[0m\u001b[0mreturn_estimator\u001b[0m\u001b[0;34m,\u001b[0m\u001b[0;34m\u001b[0m\u001b[0;34m\u001b[0m\u001b[0m\n\u001b[1;32m    235\u001b[0m             error_score=error_score)\n\u001b[0;32m--> 236\u001b[0;31m         for train, test in cv.split(X, y, groups))\n\u001b[0m\u001b[1;32m    237\u001b[0m \u001b[0;34m\u001b[0m\u001b[0m\n\u001b[1;32m    238\u001b[0m     \u001b[0mzipped_scores\u001b[0m \u001b[0;34m=\u001b[0m \u001b[0mlist\u001b[0m\u001b[0;34m(\u001b[0m\u001b[0mzip\u001b[0m\u001b[0;34m(\u001b[0m\u001b[0;34m*\u001b[0m\u001b[0mscores\u001b[0m\u001b[0;34m)\u001b[0m\u001b[0;34m)\u001b[0m\u001b[0;34m\u001b[0m\u001b[0;34m\u001b[0m\u001b[0m\n",
            "\u001b[0;32m/usr/local/lib/python3.6/dist-packages/joblib/parallel.py\u001b[0m in \u001b[0;36m__call__\u001b[0;34m(self, iterable)\u001b[0m\n\u001b[1;32m   1049\u001b[0m                 \u001b[0mself\u001b[0m\u001b[0;34m.\u001b[0m\u001b[0m_iterating\u001b[0m \u001b[0;34m=\u001b[0m \u001b[0mself\u001b[0m\u001b[0;34m.\u001b[0m\u001b[0m_original_iterator\u001b[0m \u001b[0;32mis\u001b[0m \u001b[0;32mnot\u001b[0m \u001b[0;32mNone\u001b[0m\u001b[0;34m\u001b[0m\u001b[0;34m\u001b[0m\u001b[0m\n\u001b[1;32m   1050\u001b[0m \u001b[0;34m\u001b[0m\u001b[0m\n\u001b[0;32m-> 1051\u001b[0;31m             \u001b[0;32mwhile\u001b[0m \u001b[0mself\u001b[0m\u001b[0;34m.\u001b[0m\u001b[0mdispatch_one_batch\u001b[0m\u001b[0;34m(\u001b[0m\u001b[0miterator\u001b[0m\u001b[0;34m)\u001b[0m\u001b[0;34m:\u001b[0m\u001b[0;34m\u001b[0m\u001b[0;34m\u001b[0m\u001b[0m\n\u001b[0m\u001b[1;32m   1052\u001b[0m                 \u001b[0;32mpass\u001b[0m\u001b[0;34m\u001b[0m\u001b[0;34m\u001b[0m\u001b[0m\n\u001b[1;32m   1053\u001b[0m \u001b[0;34m\u001b[0m\u001b[0m\n",
            "\u001b[0;32m/usr/local/lib/python3.6/dist-packages/joblib/parallel.py\u001b[0m in \u001b[0;36mdispatch_one_batch\u001b[0;34m(self, iterator)\u001b[0m\n\u001b[1;32m    864\u001b[0m                 \u001b[0;32mreturn\u001b[0m \u001b[0;32mFalse\u001b[0m\u001b[0;34m\u001b[0m\u001b[0;34m\u001b[0m\u001b[0m\n\u001b[1;32m    865\u001b[0m             \u001b[0;32melse\u001b[0m\u001b[0;34m:\u001b[0m\u001b[0;34m\u001b[0m\u001b[0;34m\u001b[0m\u001b[0m\n\u001b[0;32m--> 866\u001b[0;31m                 \u001b[0mself\u001b[0m\u001b[0;34m.\u001b[0m\u001b[0m_dispatch\u001b[0m\u001b[0;34m(\u001b[0m\u001b[0mtasks\u001b[0m\u001b[0;34m)\u001b[0m\u001b[0;34m\u001b[0m\u001b[0;34m\u001b[0m\u001b[0m\n\u001b[0m\u001b[1;32m    867\u001b[0m                 \u001b[0;32mreturn\u001b[0m \u001b[0;32mTrue\u001b[0m\u001b[0;34m\u001b[0m\u001b[0;34m\u001b[0m\u001b[0m\n\u001b[1;32m    868\u001b[0m \u001b[0;34m\u001b[0m\u001b[0m\n",
            "\u001b[0;32m/usr/local/lib/python3.6/dist-packages/joblib/parallel.py\u001b[0m in \u001b[0;36m_dispatch\u001b[0;34m(self, batch)\u001b[0m\n\u001b[1;32m    782\u001b[0m         \u001b[0;32mwith\u001b[0m \u001b[0mself\u001b[0m\u001b[0;34m.\u001b[0m\u001b[0m_lock\u001b[0m\u001b[0;34m:\u001b[0m\u001b[0;34m\u001b[0m\u001b[0;34m\u001b[0m\u001b[0m\n\u001b[1;32m    783\u001b[0m             \u001b[0mjob_idx\u001b[0m \u001b[0;34m=\u001b[0m \u001b[0mlen\u001b[0m\u001b[0;34m(\u001b[0m\u001b[0mself\u001b[0m\u001b[0;34m.\u001b[0m\u001b[0m_jobs\u001b[0m\u001b[0;34m)\u001b[0m\u001b[0;34m\u001b[0m\u001b[0;34m\u001b[0m\u001b[0m\n\u001b[0;32m--> 784\u001b[0;31m             \u001b[0mjob\u001b[0m \u001b[0;34m=\u001b[0m \u001b[0mself\u001b[0m\u001b[0;34m.\u001b[0m\u001b[0m_backend\u001b[0m\u001b[0;34m.\u001b[0m\u001b[0mapply_async\u001b[0m\u001b[0;34m(\u001b[0m\u001b[0mbatch\u001b[0m\u001b[0;34m,\u001b[0m \u001b[0mcallback\u001b[0m\u001b[0;34m=\u001b[0m\u001b[0mcb\u001b[0m\u001b[0;34m)\u001b[0m\u001b[0;34m\u001b[0m\u001b[0;34m\u001b[0m\u001b[0m\n\u001b[0m\u001b[1;32m    785\u001b[0m             \u001b[0;31m# A job can complete so quickly than its callback is\u001b[0m\u001b[0;34m\u001b[0m\u001b[0;34m\u001b[0m\u001b[0;34m\u001b[0m\u001b[0m\n\u001b[1;32m    786\u001b[0m             \u001b[0;31m# called before we get here, causing self._jobs to\u001b[0m\u001b[0;34m\u001b[0m\u001b[0;34m\u001b[0m\u001b[0;34m\u001b[0m\u001b[0m\n",
            "\u001b[0;32m/usr/local/lib/python3.6/dist-packages/joblib/_parallel_backends.py\u001b[0m in \u001b[0;36mapply_async\u001b[0;34m(self, func, callback)\u001b[0m\n\u001b[1;32m    206\u001b[0m     \u001b[0;32mdef\u001b[0m \u001b[0mapply_async\u001b[0m\u001b[0;34m(\u001b[0m\u001b[0mself\u001b[0m\u001b[0;34m,\u001b[0m \u001b[0mfunc\u001b[0m\u001b[0;34m,\u001b[0m \u001b[0mcallback\u001b[0m\u001b[0;34m=\u001b[0m\u001b[0;32mNone\u001b[0m\u001b[0;34m)\u001b[0m\u001b[0;34m:\u001b[0m\u001b[0;34m\u001b[0m\u001b[0;34m\u001b[0m\u001b[0m\n\u001b[1;32m    207\u001b[0m         \u001b[0;34m\"\"\"Schedule a func to be run\"\"\"\u001b[0m\u001b[0;34m\u001b[0m\u001b[0;34m\u001b[0m\u001b[0m\n\u001b[0;32m--> 208\u001b[0;31m         \u001b[0mresult\u001b[0m \u001b[0;34m=\u001b[0m \u001b[0mImmediateResult\u001b[0m\u001b[0;34m(\u001b[0m\u001b[0mfunc\u001b[0m\u001b[0;34m)\u001b[0m\u001b[0;34m\u001b[0m\u001b[0;34m\u001b[0m\u001b[0m\n\u001b[0m\u001b[1;32m    209\u001b[0m         \u001b[0;32mif\u001b[0m \u001b[0mcallback\u001b[0m\u001b[0;34m:\u001b[0m\u001b[0;34m\u001b[0m\u001b[0;34m\u001b[0m\u001b[0m\n\u001b[1;32m    210\u001b[0m             \u001b[0mcallback\u001b[0m\u001b[0;34m(\u001b[0m\u001b[0mresult\u001b[0m\u001b[0;34m)\u001b[0m\u001b[0;34m\u001b[0m\u001b[0;34m\u001b[0m\u001b[0m\n",
            "\u001b[0;32m/usr/local/lib/python3.6/dist-packages/joblib/_parallel_backends.py\u001b[0m in \u001b[0;36m__init__\u001b[0;34m(self, batch)\u001b[0m\n\u001b[1;32m    570\u001b[0m         \u001b[0;31m# Don't delay the application, to avoid keeping the input\u001b[0m\u001b[0;34m\u001b[0m\u001b[0;34m\u001b[0m\u001b[0;34m\u001b[0m\u001b[0m\n\u001b[1;32m    571\u001b[0m         \u001b[0;31m# arguments in memory\u001b[0m\u001b[0;34m\u001b[0m\u001b[0;34m\u001b[0m\u001b[0;34m\u001b[0m\u001b[0m\n\u001b[0;32m--> 572\u001b[0;31m         \u001b[0mself\u001b[0m\u001b[0;34m.\u001b[0m\u001b[0mresults\u001b[0m \u001b[0;34m=\u001b[0m \u001b[0mbatch\u001b[0m\u001b[0;34m(\u001b[0m\u001b[0;34m)\u001b[0m\u001b[0;34m\u001b[0m\u001b[0;34m\u001b[0m\u001b[0m\n\u001b[0m\u001b[1;32m    573\u001b[0m \u001b[0;34m\u001b[0m\u001b[0m\n\u001b[1;32m    574\u001b[0m     \u001b[0;32mdef\u001b[0m \u001b[0mget\u001b[0m\u001b[0;34m(\u001b[0m\u001b[0mself\u001b[0m\u001b[0;34m)\u001b[0m\u001b[0;34m:\u001b[0m\u001b[0;34m\u001b[0m\u001b[0;34m\u001b[0m\u001b[0m\n",
            "\u001b[0;32m/usr/local/lib/python3.6/dist-packages/joblib/parallel.py\u001b[0m in \u001b[0;36m__call__\u001b[0;34m(self)\u001b[0m\n\u001b[1;32m    261\u001b[0m         \u001b[0;32mwith\u001b[0m \u001b[0mparallel_backend\u001b[0m\u001b[0;34m(\u001b[0m\u001b[0mself\u001b[0m\u001b[0;34m.\u001b[0m\u001b[0m_backend\u001b[0m\u001b[0;34m,\u001b[0m \u001b[0mn_jobs\u001b[0m\u001b[0;34m=\u001b[0m\u001b[0mself\u001b[0m\u001b[0;34m.\u001b[0m\u001b[0m_n_jobs\u001b[0m\u001b[0;34m)\u001b[0m\u001b[0;34m:\u001b[0m\u001b[0;34m\u001b[0m\u001b[0;34m\u001b[0m\u001b[0m\n\u001b[1;32m    262\u001b[0m             return [func(*args, **kwargs)\n\u001b[0;32m--> 263\u001b[0;31m                     for func, args, kwargs in self.items]\n\u001b[0m\u001b[1;32m    264\u001b[0m \u001b[0;34m\u001b[0m\u001b[0m\n\u001b[1;32m    265\u001b[0m     \u001b[0;32mdef\u001b[0m \u001b[0m__reduce__\u001b[0m\u001b[0;34m(\u001b[0m\u001b[0mself\u001b[0m\u001b[0;34m)\u001b[0m\u001b[0;34m:\u001b[0m\u001b[0;34m\u001b[0m\u001b[0;34m\u001b[0m\u001b[0m\n",
            "\u001b[0;32m/usr/local/lib/python3.6/dist-packages/joblib/parallel.py\u001b[0m in \u001b[0;36m<listcomp>\u001b[0;34m(.0)\u001b[0m\n\u001b[1;32m    261\u001b[0m         \u001b[0;32mwith\u001b[0m \u001b[0mparallel_backend\u001b[0m\u001b[0;34m(\u001b[0m\u001b[0mself\u001b[0m\u001b[0;34m.\u001b[0m\u001b[0m_backend\u001b[0m\u001b[0;34m,\u001b[0m \u001b[0mn_jobs\u001b[0m\u001b[0;34m=\u001b[0m\u001b[0mself\u001b[0m\u001b[0;34m.\u001b[0m\u001b[0m_n_jobs\u001b[0m\u001b[0;34m)\u001b[0m\u001b[0;34m:\u001b[0m\u001b[0;34m\u001b[0m\u001b[0;34m\u001b[0m\u001b[0m\n\u001b[1;32m    262\u001b[0m             return [func(*args, **kwargs)\n\u001b[0;32m--> 263\u001b[0;31m                     for func, args, kwargs in self.items]\n\u001b[0m\u001b[1;32m    264\u001b[0m \u001b[0;34m\u001b[0m\u001b[0m\n\u001b[1;32m    265\u001b[0m     \u001b[0;32mdef\u001b[0m \u001b[0m__reduce__\u001b[0m\u001b[0;34m(\u001b[0m\u001b[0mself\u001b[0m\u001b[0;34m)\u001b[0m\u001b[0;34m:\u001b[0m\u001b[0;34m\u001b[0m\u001b[0;34m\u001b[0m\u001b[0m\n",
            "\u001b[0;32m/usr/local/lib/python3.6/dist-packages/sklearn/model_selection/_validation.py\u001b[0m in \u001b[0;36m_fit_and_score\u001b[0;34m(estimator, X, y, scorer, train, test, verbose, parameters, fit_params, return_train_score, return_parameters, return_n_test_samples, return_times, return_estimator, error_score)\u001b[0m\n\u001b[1;32m    542\u001b[0m     \u001b[0;32melse\u001b[0m\u001b[0;34m:\u001b[0m\u001b[0;34m\u001b[0m\u001b[0;34m\u001b[0m\u001b[0m\n\u001b[1;32m    543\u001b[0m         \u001b[0mfit_time\u001b[0m \u001b[0;34m=\u001b[0m \u001b[0mtime\u001b[0m\u001b[0;34m.\u001b[0m\u001b[0mtime\u001b[0m\u001b[0;34m(\u001b[0m\u001b[0;34m)\u001b[0m \u001b[0;34m-\u001b[0m \u001b[0mstart_time\u001b[0m\u001b[0;34m\u001b[0m\u001b[0;34m\u001b[0m\u001b[0m\n\u001b[0;32m--> 544\u001b[0;31m         \u001b[0mtest_scores\u001b[0m \u001b[0;34m=\u001b[0m \u001b[0m_score\u001b[0m\u001b[0;34m(\u001b[0m\u001b[0mestimator\u001b[0m\u001b[0;34m,\u001b[0m \u001b[0mX_test\u001b[0m\u001b[0;34m,\u001b[0m \u001b[0my_test\u001b[0m\u001b[0;34m,\u001b[0m \u001b[0mscorer\u001b[0m\u001b[0;34m)\u001b[0m\u001b[0;34m\u001b[0m\u001b[0;34m\u001b[0m\u001b[0m\n\u001b[0m\u001b[1;32m    545\u001b[0m         \u001b[0mscore_time\u001b[0m \u001b[0;34m=\u001b[0m \u001b[0mtime\u001b[0m\u001b[0;34m.\u001b[0m\u001b[0mtime\u001b[0m\u001b[0;34m(\u001b[0m\u001b[0;34m)\u001b[0m \u001b[0;34m-\u001b[0m \u001b[0mstart_time\u001b[0m \u001b[0;34m-\u001b[0m \u001b[0mfit_time\u001b[0m\u001b[0;34m\u001b[0m\u001b[0;34m\u001b[0m\u001b[0m\n\u001b[1;32m    546\u001b[0m         \u001b[0;32mif\u001b[0m \u001b[0mreturn_train_score\u001b[0m\u001b[0;34m:\u001b[0m\u001b[0;34m\u001b[0m\u001b[0;34m\u001b[0m\u001b[0m\n",
            "\u001b[0;32m/usr/local/lib/python3.6/dist-packages/sklearn/model_selection/_validation.py\u001b[0m in \u001b[0;36m_score\u001b[0;34m(estimator, X_test, y_test, scorer)\u001b[0m\n\u001b[1;32m    589\u001b[0m         \u001b[0mscores\u001b[0m \u001b[0;34m=\u001b[0m \u001b[0mscorer\u001b[0m\u001b[0;34m(\u001b[0m\u001b[0mestimator\u001b[0m\u001b[0;34m,\u001b[0m \u001b[0mX_test\u001b[0m\u001b[0;34m)\u001b[0m\u001b[0;34m\u001b[0m\u001b[0;34m\u001b[0m\u001b[0m\n\u001b[1;32m    590\u001b[0m     \u001b[0;32melse\u001b[0m\u001b[0;34m:\u001b[0m\u001b[0;34m\u001b[0m\u001b[0;34m\u001b[0m\u001b[0m\n\u001b[0;32m--> 591\u001b[0;31m         \u001b[0mscores\u001b[0m \u001b[0;34m=\u001b[0m \u001b[0mscorer\u001b[0m\u001b[0;34m(\u001b[0m\u001b[0mestimator\u001b[0m\u001b[0;34m,\u001b[0m \u001b[0mX_test\u001b[0m\u001b[0;34m,\u001b[0m \u001b[0my_test\u001b[0m\u001b[0;34m)\u001b[0m\u001b[0;34m\u001b[0m\u001b[0;34m\u001b[0m\u001b[0m\n\u001b[0m\u001b[1;32m    592\u001b[0m \u001b[0;34m\u001b[0m\u001b[0m\n\u001b[1;32m    593\u001b[0m     error_msg = (\"scoring must return a number, got %s (%s) \"\n",
            "\u001b[0;32m/usr/local/lib/python3.6/dist-packages/sklearn/metrics/_scorer.py\u001b[0m in \u001b[0;36m__call__\u001b[0;34m(self, estimator, *args, **kwargs)\u001b[0m\n\u001b[1;32m     87\u001b[0m                                       *args, **kwargs)\n\u001b[1;32m     88\u001b[0m             \u001b[0;32melse\u001b[0m\u001b[0;34m:\u001b[0m\u001b[0;34m\u001b[0m\u001b[0;34m\u001b[0m\u001b[0m\n\u001b[0;32m---> 89\u001b[0;31m                 \u001b[0mscore\u001b[0m \u001b[0;34m=\u001b[0m \u001b[0mscorer\u001b[0m\u001b[0;34m(\u001b[0m\u001b[0mestimator\u001b[0m\u001b[0;34m,\u001b[0m \u001b[0;34m*\u001b[0m\u001b[0margs\u001b[0m\u001b[0;34m,\u001b[0m \u001b[0;34m**\u001b[0m\u001b[0mkwargs\u001b[0m\u001b[0;34m)\u001b[0m\u001b[0;34m\u001b[0m\u001b[0;34m\u001b[0m\u001b[0m\n\u001b[0m\u001b[1;32m     90\u001b[0m             \u001b[0mscores\u001b[0m\u001b[0;34m[\u001b[0m\u001b[0mname\u001b[0m\u001b[0;34m]\u001b[0m \u001b[0;34m=\u001b[0m \u001b[0mscore\u001b[0m\u001b[0;34m\u001b[0m\u001b[0;34m\u001b[0m\u001b[0m\n\u001b[1;32m     91\u001b[0m         \u001b[0;32mreturn\u001b[0m \u001b[0mscores\u001b[0m\u001b[0;34m\u001b[0m\u001b[0;34m\u001b[0m\u001b[0m\n",
            "\u001b[0;32m/usr/local/lib/python3.6/dist-packages/sklearn/metrics/_scorer.py\u001b[0m in \u001b[0;36m_passthrough_scorer\u001b[0;34m(estimator, *args, **kwargs)\u001b[0m\n\u001b[1;32m    369\u001b[0m \u001b[0;32mdef\u001b[0m \u001b[0m_passthrough_scorer\u001b[0m\u001b[0;34m(\u001b[0m\u001b[0mestimator\u001b[0m\u001b[0;34m,\u001b[0m \u001b[0;34m*\u001b[0m\u001b[0margs\u001b[0m\u001b[0;34m,\u001b[0m \u001b[0;34m**\u001b[0m\u001b[0mkwargs\u001b[0m\u001b[0;34m)\u001b[0m\u001b[0;34m:\u001b[0m\u001b[0;34m\u001b[0m\u001b[0;34m\u001b[0m\u001b[0m\n\u001b[1;32m    370\u001b[0m     \u001b[0;34m\"\"\"Function that wraps estimator.score\"\"\"\u001b[0m\u001b[0;34m\u001b[0m\u001b[0;34m\u001b[0m\u001b[0m\n\u001b[0;32m--> 371\u001b[0;31m     \u001b[0;32mreturn\u001b[0m \u001b[0mestimator\u001b[0m\u001b[0;34m.\u001b[0m\u001b[0mscore\u001b[0m\u001b[0;34m(\u001b[0m\u001b[0;34m*\u001b[0m\u001b[0margs\u001b[0m\u001b[0;34m,\u001b[0m \u001b[0;34m**\u001b[0m\u001b[0mkwargs\u001b[0m\u001b[0;34m)\u001b[0m\u001b[0;34m\u001b[0m\u001b[0;34m\u001b[0m\u001b[0m\n\u001b[0m\u001b[1;32m    372\u001b[0m \u001b[0;34m\u001b[0m\u001b[0m\n\u001b[1;32m    373\u001b[0m \u001b[0;34m\u001b[0m\u001b[0m\n",
            "\u001b[0;32m/usr/local/lib/python3.6/dist-packages/sklearn/base.py\u001b[0m in \u001b[0;36mscore\u001b[0;34m(self, X, y, sample_weight)\u001b[0m\n\u001b[1;32m    367\u001b[0m         \"\"\"\n\u001b[1;32m    368\u001b[0m         \u001b[0;32mfrom\u001b[0m \u001b[0;34m.\u001b[0m\u001b[0mmetrics\u001b[0m \u001b[0;32mimport\u001b[0m \u001b[0maccuracy_score\u001b[0m\u001b[0;34m\u001b[0m\u001b[0;34m\u001b[0m\u001b[0m\n\u001b[0;32m--> 369\u001b[0;31m         \u001b[0;32mreturn\u001b[0m \u001b[0maccuracy_score\u001b[0m\u001b[0;34m(\u001b[0m\u001b[0my\u001b[0m\u001b[0;34m,\u001b[0m \u001b[0mself\u001b[0m\u001b[0;34m.\u001b[0m\u001b[0mpredict\u001b[0m\u001b[0;34m(\u001b[0m\u001b[0mX\u001b[0m\u001b[0;34m)\u001b[0m\u001b[0;34m,\u001b[0m \u001b[0msample_weight\u001b[0m\u001b[0;34m=\u001b[0m\u001b[0msample_weight\u001b[0m\u001b[0;34m)\u001b[0m\u001b[0;34m\u001b[0m\u001b[0;34m\u001b[0m\u001b[0m\n\u001b[0m\u001b[1;32m    370\u001b[0m \u001b[0;34m\u001b[0m\u001b[0m\n\u001b[1;32m    371\u001b[0m \u001b[0;34m\u001b[0m\u001b[0m\n",
            "\u001b[0;32m/usr/local/lib/python3.6/dist-packages/sklearn/svm/_base.py\u001b[0m in \u001b[0;36mpredict\u001b[0;34m(self, X)\u001b[0m\n\u001b[1;32m    592\u001b[0m             \u001b[0my\u001b[0m \u001b[0;34m=\u001b[0m \u001b[0mnp\u001b[0m\u001b[0;34m.\u001b[0m\u001b[0margmax\u001b[0m\u001b[0;34m(\u001b[0m\u001b[0mself\u001b[0m\u001b[0;34m.\u001b[0m\u001b[0mdecision_function\u001b[0m\u001b[0;34m(\u001b[0m\u001b[0mX\u001b[0m\u001b[0;34m)\u001b[0m\u001b[0;34m,\u001b[0m \u001b[0maxis\u001b[0m\u001b[0;34m=\u001b[0m\u001b[0;36m1\u001b[0m\u001b[0;34m)\u001b[0m\u001b[0;34m\u001b[0m\u001b[0;34m\u001b[0m\u001b[0m\n\u001b[1;32m    593\u001b[0m         \u001b[0;32melse\u001b[0m\u001b[0;34m:\u001b[0m\u001b[0;34m\u001b[0m\u001b[0;34m\u001b[0m\u001b[0m\n\u001b[0;32m--> 594\u001b[0;31m             \u001b[0my\u001b[0m \u001b[0;34m=\u001b[0m \u001b[0msuper\u001b[0m\u001b[0;34m(\u001b[0m\u001b[0;34m)\u001b[0m\u001b[0;34m.\u001b[0m\u001b[0mpredict\u001b[0m\u001b[0;34m(\u001b[0m\u001b[0mX\u001b[0m\u001b[0;34m)\u001b[0m\u001b[0;34m\u001b[0m\u001b[0;34m\u001b[0m\u001b[0m\n\u001b[0m\u001b[1;32m    595\u001b[0m         \u001b[0;32mreturn\u001b[0m \u001b[0mself\u001b[0m\u001b[0;34m.\u001b[0m\u001b[0mclasses_\u001b[0m\u001b[0;34m.\u001b[0m\u001b[0mtake\u001b[0m\u001b[0;34m(\u001b[0m\u001b[0mnp\u001b[0m\u001b[0;34m.\u001b[0m\u001b[0masarray\u001b[0m\u001b[0;34m(\u001b[0m\u001b[0my\u001b[0m\u001b[0;34m,\u001b[0m \u001b[0mdtype\u001b[0m\u001b[0;34m=\u001b[0m\u001b[0mnp\u001b[0m\u001b[0;34m.\u001b[0m\u001b[0mintp\u001b[0m\u001b[0;34m)\u001b[0m\u001b[0;34m)\u001b[0m\u001b[0;34m\u001b[0m\u001b[0;34m\u001b[0m\u001b[0m\n\u001b[1;32m    596\u001b[0m \u001b[0;34m\u001b[0m\u001b[0m\n",
            "\u001b[0;32m/usr/local/lib/python3.6/dist-packages/sklearn/svm/_base.py\u001b[0m in \u001b[0;36mpredict\u001b[0;34m(self, X)\u001b[0m\n\u001b[1;32m    315\u001b[0m         \u001b[0mX\u001b[0m \u001b[0;34m=\u001b[0m \u001b[0mself\u001b[0m\u001b[0;34m.\u001b[0m\u001b[0m_validate_for_predict\u001b[0m\u001b[0;34m(\u001b[0m\u001b[0mX\u001b[0m\u001b[0;34m)\u001b[0m\u001b[0;34m\u001b[0m\u001b[0;34m\u001b[0m\u001b[0m\n\u001b[1;32m    316\u001b[0m         \u001b[0mpredict\u001b[0m \u001b[0;34m=\u001b[0m \u001b[0mself\u001b[0m\u001b[0;34m.\u001b[0m\u001b[0m_sparse_predict\u001b[0m \u001b[0;32mif\u001b[0m \u001b[0mself\u001b[0m\u001b[0;34m.\u001b[0m\u001b[0m_sparse\u001b[0m \u001b[0;32melse\u001b[0m \u001b[0mself\u001b[0m\u001b[0;34m.\u001b[0m\u001b[0m_dense_predict\u001b[0m\u001b[0;34m\u001b[0m\u001b[0;34m\u001b[0m\u001b[0m\n\u001b[0;32m--> 317\u001b[0;31m         \u001b[0;32mreturn\u001b[0m \u001b[0mpredict\u001b[0m\u001b[0;34m(\u001b[0m\u001b[0mX\u001b[0m\u001b[0;34m)\u001b[0m\u001b[0;34m\u001b[0m\u001b[0;34m\u001b[0m\u001b[0m\n\u001b[0m\u001b[1;32m    318\u001b[0m \u001b[0;34m\u001b[0m\u001b[0m\n\u001b[1;32m    319\u001b[0m     \u001b[0;32mdef\u001b[0m \u001b[0m_dense_predict\u001b[0m\u001b[0;34m(\u001b[0m\u001b[0mself\u001b[0m\u001b[0;34m,\u001b[0m \u001b[0mX\u001b[0m\u001b[0;34m)\u001b[0m\u001b[0;34m:\u001b[0m\u001b[0;34m\u001b[0m\u001b[0;34m\u001b[0m\u001b[0m\n",
            "\u001b[0;32m/usr/local/lib/python3.6/dist-packages/sklearn/svm/_base.py\u001b[0m in \u001b[0;36m_sparse_predict\u001b[0;34m(self, X)\u001b[0m\n\u001b[1;32m    360\u001b[0m             \u001b[0mself\u001b[0m\u001b[0;34m.\u001b[0m\u001b[0mnu\u001b[0m\u001b[0;34m,\u001b[0m \u001b[0mself\u001b[0m\u001b[0;34m.\u001b[0m\u001b[0mepsilon\u001b[0m\u001b[0;34m,\u001b[0m \u001b[0mself\u001b[0m\u001b[0;34m.\u001b[0m\u001b[0mshrinking\u001b[0m\u001b[0;34m,\u001b[0m\u001b[0;34m\u001b[0m\u001b[0;34m\u001b[0m\u001b[0m\n\u001b[1;32m    361\u001b[0m             \u001b[0mself\u001b[0m\u001b[0;34m.\u001b[0m\u001b[0mprobability\u001b[0m\u001b[0;34m,\u001b[0m \u001b[0mself\u001b[0m\u001b[0;34m.\u001b[0m\u001b[0m_n_support\u001b[0m\u001b[0;34m,\u001b[0m\u001b[0;34m\u001b[0m\u001b[0;34m\u001b[0m\u001b[0m\n\u001b[0;32m--> 362\u001b[0;31m             self.probA_, self.probB_)\n\u001b[0m\u001b[1;32m    363\u001b[0m \u001b[0;34m\u001b[0m\u001b[0m\n\u001b[1;32m    364\u001b[0m     \u001b[0;32mdef\u001b[0m \u001b[0m_compute_kernel\u001b[0m\u001b[0;34m(\u001b[0m\u001b[0mself\u001b[0m\u001b[0;34m,\u001b[0m \u001b[0mX\u001b[0m\u001b[0;34m)\u001b[0m\u001b[0;34m:\u001b[0m\u001b[0;34m\u001b[0m\u001b[0;34m\u001b[0m\u001b[0m\n",
            "\u001b[0;31mKeyboardInterrupt\u001b[0m: "
          ]
        }
      ]
    },
    {
      "cell_type": "markdown",
      "metadata": {
        "id": "mUuoS02fhuCg"
      },
      "source": [
        "# Approfondissement de la régression\n"
      ]
    },
    {
      "cell_type": "markdown",
      "metadata": {
        "id": "waJc5ZT1jRdX"
      },
      "source": [
        "A présent, on va rajouter à la base les données de score imdb associés aux commentaires et la nature des commentaires (positifs ou négatifs) afin de voir si cela améliore la régression sur le score."
      ]
    },
    {
      "cell_type": "markdown",
      "metadata": {
        "id": "gX4IAcE2kfFE"
      },
      "source": [
        "## Préparation des données"
      ]
    },
    {
      "cell_type": "code",
      "metadata": {
        "id": "tLQKf3CRkg_M"
      },
      "source": [
        "gr_review = review_filtered.groupby('imdb_id').mean()\n",
        "#gr_review = gr_review.drop(columns=['Unnamed: 0', 'url_code'])\n"
      ],
      "execution_count": 92,
      "outputs": []
    },
    {
      "cell_type": "code",
      "metadata": {
        "colab": {
          "base_uri": "https://localhost:8080/"
        },
        "id": "J3JEpjr0l8nN",
        "outputId": "86a941f3-d1d5-47f8-f086-f499647e1eed"
      },
      "source": [
        "print(len(pd.unique(review_filtered.imdb_id)))"
      ],
      "execution_count": 93,
      "outputs": [
        {
          "output_type": "stream",
          "text": [
            "1779\n"
          ],
          "name": "stdout"
        }
      ]
    },
    {
      "cell_type": "code",
      "metadata": {
        "colab": {
          "base_uri": "https://localhost:8080/"
        },
        "id": "tr26R_TPk-Gg",
        "outputId": "bedafcdc-a870-486f-f2a7-aea07951540e"
      },
      "source": [
        "df_2 = pd.merge(df, gr_review, left_on ='imdb_id', right_on ='imdb_id')\n",
        "print(len(df_2))"
      ],
      "execution_count": 94,
      "outputs": [
        {
          "output_type": "stream",
          "text": [
            "1779\n"
          ],
          "name": "stdout"
        }
      ]
    },
    {
      "cell_type": "code",
      "metadata": {
        "id": "anZujPCSn1TG",
        "outputId": "37fc04d6-d983-4306-84be-b697f224dd66",
        "colab": {
          "base_uri": "https://localhost:8080/",
          "height": 166
        }
      },
      "source": [
        "corr = df_2[['budget', 'revenue', 'runtime', 'score_1', 'sentiment', 'rating']].corr()\n",
        "corr.style.background_gradient(cmap = 'coolwarm')"
      ],
      "execution_count": 95,
      "outputs": [
        {
          "output_type": "execute_result",
          "data": {
            "text/html": [
              "<style  type=\"text/css\" >\n",
              "#T_2993b58c_3c91_11eb_9b4d_0242ac1c0002row0_col0,#T_2993b58c_3c91_11eb_9b4d_0242ac1c0002row1_col1,#T_2993b58c_3c91_11eb_9b4d_0242ac1c0002row2_col2,#T_2993b58c_3c91_11eb_9b4d_0242ac1c0002row3_col3,#T_2993b58c_3c91_11eb_9b4d_0242ac1c0002row4_col4,#T_2993b58c_3c91_11eb_9b4d_0242ac1c0002row5_col5{\n",
              "            background-color:  #b40426;\n",
              "            color:  #f1f1f1;\n",
              "        }#T_2993b58c_3c91_11eb_9b4d_0242ac1c0002row0_col1{\n",
              "            background-color:  #f7b194;\n",
              "            color:  #000000;\n",
              "        }#T_2993b58c_3c91_11eb_9b4d_0242ac1c0002row0_col2{\n",
              "            background-color:  #81a4fb;\n",
              "            color:  #000000;\n",
              "        }#T_2993b58c_3c91_11eb_9b4d_0242ac1c0002row0_col3{\n",
              "            background-color:  #e2dad5;\n",
              "            color:  #000000;\n",
              "        }#T_2993b58c_3c91_11eb_9b4d_0242ac1c0002row0_col4,#T_2993b58c_3c91_11eb_9b4d_0242ac1c0002row0_col5,#T_2993b58c_3c91_11eb_9b4d_0242ac1c0002row4_col0,#T_2993b58c_3c91_11eb_9b4d_0242ac1c0002row4_col1,#T_2993b58c_3c91_11eb_9b4d_0242ac1c0002row4_col2,#T_2993b58c_3c91_11eb_9b4d_0242ac1c0002row4_col3,#T_2993b58c_3c91_11eb_9b4d_0242ac1c0002row5_col0,#T_2993b58c_3c91_11eb_9b4d_0242ac1c0002row5_col1,#T_2993b58c_3c91_11eb_9b4d_0242ac1c0002row5_col2{\n",
              "            background-color:  #3b4cc0;\n",
              "            color:  #f1f1f1;\n",
              "        }#T_2993b58c_3c91_11eb_9b4d_0242ac1c0002row1_col0{\n",
              "            background-color:  #f7af91;\n",
              "            color:  #000000;\n",
              "        }#T_2993b58c_3c91_11eb_9b4d_0242ac1c0002row1_col2{\n",
              "            background-color:  #80a3fa;\n",
              "            color:  #000000;\n",
              "        }#T_2993b58c_3c91_11eb_9b4d_0242ac1c0002row1_col3{\n",
              "            background-color:  #f18f71;\n",
              "            color:  #000000;\n",
              "        }#T_2993b58c_3c91_11eb_9b4d_0242ac1c0002row1_col4{\n",
              "            background-color:  #4358cb;\n",
              "            color:  #f1f1f1;\n",
              "        }#T_2993b58c_3c91_11eb_9b4d_0242ac1c0002row1_col5{\n",
              "            background-color:  #455cce;\n",
              "            color:  #f1f1f1;\n",
              "        }#T_2993b58c_3c91_11eb_9b4d_0242ac1c0002row2_col0{\n",
              "            background-color:  #94b6ff;\n",
              "            color:  #000000;\n",
              "        }#T_2993b58c_3c91_11eb_9b4d_0242ac1c0002row2_col1{\n",
              "            background-color:  #89acfd;\n",
              "            color:  #000000;\n",
              "        }#T_2993b58c_3c91_11eb_9b4d_0242ac1c0002row2_col3{\n",
              "            background-color:  #8db0fe;\n",
              "            color:  #000000;\n",
              "        }#T_2993b58c_3c91_11eb_9b4d_0242ac1c0002row2_col4{\n",
              "            background-color:  #4e68d8;\n",
              "            color:  #000000;\n",
              "        }#T_2993b58c_3c91_11eb_9b4d_0242ac1c0002row2_col5{\n",
              "            background-color:  #506bda;\n",
              "            color:  #000000;\n",
              "        }#T_2993b58c_3c91_11eb_9b4d_0242ac1c0002row3_col0{\n",
              "            background-color:  #e8d6cc;\n",
              "            color:  #000000;\n",
              "        }#T_2993b58c_3c91_11eb_9b4d_0242ac1c0002row3_col1{\n",
              "            background-color:  #f18d6f;\n",
              "            color:  #000000;\n",
              "        }#T_2993b58c_3c91_11eb_9b4d_0242ac1c0002row3_col2{\n",
              "            background-color:  #88abfd;\n",
              "            color:  #000000;\n",
              "        }#T_2993b58c_3c91_11eb_9b4d_0242ac1c0002row3_col4{\n",
              "            background-color:  #485fd1;\n",
              "            color:  #f1f1f1;\n",
              "        }#T_2993b58c_3c91_11eb_9b4d_0242ac1c0002row3_col5{\n",
              "            background-color:  #4b64d5;\n",
              "            color:  #f1f1f1;\n",
              "        }#T_2993b58c_3c91_11eb_9b4d_0242ac1c0002row4_col5,#T_2993b58c_3c91_11eb_9b4d_0242ac1c0002row5_col4{\n",
              "            background-color:  #be242e;\n",
              "            color:  #f1f1f1;\n",
              "        }#T_2993b58c_3c91_11eb_9b4d_0242ac1c0002row5_col3{\n",
              "            background-color:  #3c4ec2;\n",
              "            color:  #f1f1f1;\n",
              "        }</style><table id=\"T_2993b58c_3c91_11eb_9b4d_0242ac1c0002\" ><thead>    <tr>        <th class=\"blank level0\" ></th>        <th class=\"col_heading level0 col0\" >budget</th>        <th class=\"col_heading level0 col1\" >revenue</th>        <th class=\"col_heading level0 col2\" >runtime</th>        <th class=\"col_heading level0 col3\" >score_1</th>        <th class=\"col_heading level0 col4\" >sentiment</th>        <th class=\"col_heading level0 col5\" >rating</th>    </tr></thead><tbody>\n",
              "                <tr>\n",
              "                        <th id=\"T_2993b58c_3c91_11eb_9b4d_0242ac1c0002level0_row0\" class=\"row_heading level0 row0\" >budget</th>\n",
              "                        <td id=\"T_2993b58c_3c91_11eb_9b4d_0242ac1c0002row0_col0\" class=\"data row0 col0\" >1.000000</td>\n",
              "                        <td id=\"T_2993b58c_3c91_11eb_9b4d_0242ac1c0002row0_col1\" class=\"data row0 col1\" >0.688175</td>\n",
              "                        <td id=\"T_2993b58c_3c91_11eb_9b4d_0242ac1c0002row0_col2\" class=\"data row0 col2\" >0.253552</td>\n",
              "                        <td id=\"T_2993b58c_3c91_11eb_9b4d_0242ac1c0002row0_col3\" class=\"data row0 col3\" >0.534138</td>\n",
              "                        <td id=\"T_2993b58c_3c91_11eb_9b4d_0242ac1c0002row0_col4\" class=\"data row0 col4\" >-0.019571</td>\n",
              "                        <td id=\"T_2993b58c_3c91_11eb_9b4d_0242ac1c0002row0_col5\" class=\"data row0 col5\" >-0.023178</td>\n",
              "            </tr>\n",
              "            <tr>\n",
              "                        <th id=\"T_2993b58c_3c91_11eb_9b4d_0242ac1c0002level0_row1\" class=\"row_heading level0 row1\" >revenue</th>\n",
              "                        <td id=\"T_2993b58c_3c91_11eb_9b4d_0242ac1c0002row1_col0\" class=\"data row1 col0\" >0.688175</td>\n",
              "                        <td id=\"T_2993b58c_3c91_11eb_9b4d_0242ac1c0002row1_col1\" class=\"data row1 col1\" >1.000000</td>\n",
              "                        <td id=\"T_2993b58c_3c91_11eb_9b4d_0242ac1c0002row1_col2\" class=\"data row1 col2\" >0.249538</td>\n",
              "                        <td id=\"T_2993b58c_3c91_11eb_9b4d_0242ac1c0002row1_col3\" class=\"data row1 col3\" >0.780262</td>\n",
              "                        <td id=\"T_2993b58c_3c91_11eb_9b4d_0242ac1c0002row1_col4\" class=\"data row1 col4\" >0.011856</td>\n",
              "                        <td id=\"T_2993b58c_3c91_11eb_9b4d_0242ac1c0002row1_col5\" class=\"data row1 col5\" >0.013321</td>\n",
              "            </tr>\n",
              "            <tr>\n",
              "                        <th id=\"T_2993b58c_3c91_11eb_9b4d_0242ac1c0002level0_row2\" class=\"row_heading level0 row2\" >runtime</th>\n",
              "                        <td id=\"T_2993b58c_3c91_11eb_9b4d_0242ac1c0002row2_col0\" class=\"data row2 col0\" >0.253552</td>\n",
              "                        <td id=\"T_2993b58c_3c91_11eb_9b4d_0242ac1c0002row2_col1\" class=\"data row2 col1\" >0.249538</td>\n",
              "                        <td id=\"T_2993b58c_3c91_11eb_9b4d_0242ac1c0002row2_col2\" class=\"data row2 col2\" >1.000000</td>\n",
              "                        <td id=\"T_2993b58c_3c91_11eb_9b4d_0242ac1c0002row2_col3\" class=\"data row2 col3\" >0.271800</td>\n",
              "                        <td id=\"T_2993b58c_3c91_11eb_9b4d_0242ac1c0002row2_col4\" class=\"data row2 col4\" >0.047998</td>\n",
              "                        <td id=\"T_2993b58c_3c91_11eb_9b4d_0242ac1c0002row2_col5\" class=\"data row2 col5\" >0.048769</td>\n",
              "            </tr>\n",
              "            <tr>\n",
              "                        <th id=\"T_2993b58c_3c91_11eb_9b4d_0242ac1c0002level0_row3\" class=\"row_heading level0 row3\" >score_1</th>\n",
              "                        <td id=\"T_2993b58c_3c91_11eb_9b4d_0242ac1c0002row3_col0\" class=\"data row3 col0\" >0.534138</td>\n",
              "                        <td id=\"T_2993b58c_3c91_11eb_9b4d_0242ac1c0002row3_col1\" class=\"data row3 col1\" >0.780262</td>\n",
              "                        <td id=\"T_2993b58c_3c91_11eb_9b4d_0242ac1c0002row3_col2\" class=\"data row3 col2\" >0.271800</td>\n",
              "                        <td id=\"T_2993b58c_3c91_11eb_9b4d_0242ac1c0002row3_col3\" class=\"data row3 col3\" >1.000000</td>\n",
              "                        <td id=\"T_2993b58c_3c91_11eb_9b4d_0242ac1c0002row3_col4\" class=\"data row3 col4\" >0.028201</td>\n",
              "                        <td id=\"T_2993b58c_3c91_11eb_9b4d_0242ac1c0002row3_col5\" class=\"data row3 col5\" >0.033916</td>\n",
              "            </tr>\n",
              "            <tr>\n",
              "                        <th id=\"T_2993b58c_3c91_11eb_9b4d_0242ac1c0002level0_row4\" class=\"row_heading level0 row4\" >sentiment</th>\n",
              "                        <td id=\"T_2993b58c_3c91_11eb_9b4d_0242ac1c0002row4_col0\" class=\"data row4 col0\" >-0.019571</td>\n",
              "                        <td id=\"T_2993b58c_3c91_11eb_9b4d_0242ac1c0002row4_col1\" class=\"data row4 col1\" >0.011856</td>\n",
              "                        <td id=\"T_2993b58c_3c91_11eb_9b4d_0242ac1c0002row4_col2\" class=\"data row4 col2\" >0.047998</td>\n",
              "                        <td id=\"T_2993b58c_3c91_11eb_9b4d_0242ac1c0002row4_col3\" class=\"data row4 col3\" >0.028201</td>\n",
              "                        <td id=\"T_2993b58c_3c91_11eb_9b4d_0242ac1c0002row4_col4\" class=\"data row4 col4\" >1.000000</td>\n",
              "                        <td id=\"T_2993b58c_3c91_11eb_9b4d_0242ac1c0002row4_col5\" class=\"data row4 col5\" >0.970471</td>\n",
              "            </tr>\n",
              "            <tr>\n",
              "                        <th id=\"T_2993b58c_3c91_11eb_9b4d_0242ac1c0002level0_row5\" class=\"row_heading level0 row5\" >rating</th>\n",
              "                        <td id=\"T_2993b58c_3c91_11eb_9b4d_0242ac1c0002row5_col0\" class=\"data row5 col0\" >-0.023178</td>\n",
              "                        <td id=\"T_2993b58c_3c91_11eb_9b4d_0242ac1c0002row5_col1\" class=\"data row5 col1\" >0.013321</td>\n",
              "                        <td id=\"T_2993b58c_3c91_11eb_9b4d_0242ac1c0002row5_col2\" class=\"data row5 col2\" >0.048769</td>\n",
              "                        <td id=\"T_2993b58c_3c91_11eb_9b4d_0242ac1c0002row5_col3\" class=\"data row5 col3\" >0.033916</td>\n",
              "                        <td id=\"T_2993b58c_3c91_11eb_9b4d_0242ac1c0002row5_col4\" class=\"data row5 col4\" >0.970471</td>\n",
              "                        <td id=\"T_2993b58c_3c91_11eb_9b4d_0242ac1c0002row5_col5\" class=\"data row5 col5\" >1.000000</td>\n",
              "            </tr>\n",
              "    </tbody></table>"
            ],
            "text/plain": [
              "<pandas.io.formats.style.Styler at 0x7f08c2aa8c18>"
            ]
          },
          "metadata": {
            "tags": []
          },
          "execution_count": 95
        }
      ]
    },
    {
      "cell_type": "code",
      "metadata": {
        "id": "K22b38BrfaC9"
      },
      "source": [
        "X = pd.DataFrame(np.c_[df_2.budget, df_2.revenue, df_2.rating, df_2.sentiment], columns= ['budget', 'revenue', 'rating', 'sentiment'])\n",
        "Y = df_2.score_1"
      ],
      "execution_count": 97,
      "outputs": []
    },
    {
      "cell_type": "markdown",
      "metadata": {
        "id": "tYDn7K_0nHBb"
      },
      "source": [
        "## Régression linéaire avec ajout de \"rating\" et \"sentiment\""
      ]
    },
    {
      "cell_type": "code",
      "metadata": {
        "colab": {
          "base_uri": "https://localhost:8080/"
        },
        "id": "QBqK6H5PlfeW",
        "outputId": "473882f3-5b1c-4ea9-f734-8ada626f6dc1"
      },
      "source": [
        "from sklearn.model_selection import train_test_split\n",
        " \n",
        "X_train, X_test, Y_train, Y_test = train_test_split(X, Y, test_size = 0.2, random_state=5)\n",
        "print(X_train.shape)\n",
        "print(X_test.shape)\n",
        "print(Y_train.shape)\n",
        "print(Y_test.shape)\n",
        "\n",
        "from sklearn.linear_model import LinearRegression\n",
        "from sklearn.metrics import mean_squared_error\n",
        " \n",
        "lmodellineaire = LinearRegression()\n",
        "lmodellineaire.fit(X_train, Y_train)\n"
      ],
      "execution_count": 98,
      "outputs": [
        {
          "output_type": "stream",
          "text": [
            "(1423, 4)\n",
            "(356, 4)\n",
            "(1423,)\n",
            "(356,)\n"
          ],
          "name": "stdout"
        },
        {
          "output_type": "execute_result",
          "data": {
            "text/plain": [
              "LinearRegression(copy_X=True, fit_intercept=True, n_jobs=None, normalize=False)"
            ]
          },
          "metadata": {
            "tags": []
          },
          "execution_count": 98
        }
      ]
    },
    {
      "cell_type": "code",
      "metadata": {
        "colab": {
          "base_uri": "https://localhost:8080/"
        },
        "id": "xGUam1qalt74",
        "outputId": "e048bd6b-fffe-43d8-b912-4dd571f959b6"
      },
      "source": [
        "# Evaluation du training set\n",
        "from sklearn.metrics import r2_score\n",
        "y_train_predict = lmodellineaire.predict(X_train)\n",
        "rmse = (np.sqrt(mean_squared_error(Y_train, y_train_predict)))\n",
        "r2 = r2_score(Y_train, y_train_predict)\n",
        " \n",
        "print(\"Performance du modèle sur la base d'apprentissage\")\n",
        "print('--------------------------------------')\n",
        "print(\"L'erreur quadratique moyenne est {}\".format(rmse))\n",
        "print('Le score R² est {}'.format(r2))\n",
        "print('\\n')\n",
        " \n",
        "# Evaluation du testing set\n",
        "y_test_predict = lmodellineaire.predict(X_test)\n",
        "rmse = (np.sqrt(mean_squared_error(Y_test, y_test_predict)))\n",
        "r2 = r2_score(Y_test, y_test_predict)\n",
        " \n",
        "print('Performance du modèle sur la base de test')\n",
        "print('--------------------------------------')\n",
        "print(\"L'erreur quadratique moyenne est {}\".format(rmse))\n",
        "print('Le score R² est {}'.format(r2))"
      ],
      "execution_count": 99,
      "outputs": [
        {
          "output_type": "stream",
          "text": [
            "Performance du modèle sur la base d'apprentissage\n",
            "--------------------------------------\n",
            "L'erreur quadratique moyenne est 2752.321358120113\n",
            "Le score R² est 0.6343109257881477\n",
            "\n",
            "\n",
            "Performance du modèle sur la base de test\n",
            "--------------------------------------\n",
            "L'erreur quadratique moyenne est 2775.3429568595857\n",
            "Le score R² est 0.45310047648624907\n"
          ],
          "name": "stdout"
        }
      ]
    },
    {
      "cell_type": "markdown",
      "metadata": {
        "id": "Kin-EN9tnDzR"
      },
      "source": [
        "## Régression tronquée"
      ]
    },
    {
      "cell_type": "markdown",
      "metadata": {
        "id": "--qIEUlvmMrX"
      },
      "source": [
        "Sur les 1er et 3e quartiles. "
      ]
    },
    {
      "cell_type": "code",
      "metadata": {
        "colab": {
          "base_uri": "https://localhost:8080/"
        },
        "id": "N_VtJwbXmFu7",
        "outputId": "ea0a7129-4b66-4b99-fc66-36af6dbd6624"
      },
      "source": [
        "first_quart = np.percentile(df_2.score_1, 25)\n",
        "third_quart = np.percentile(df_2.score_1, 75)\n",
        "\n",
        "# Filtration des données\n",
        "df_quart = df_2[df_2.score_1 > first_quart]\n",
        "df_quart = df_2[df_2.score_1 < third_quart]\n",
        "\n",
        "# Création des variables nécessaires\n",
        "X2 = pd.DataFrame(np.c_[df_quart.budget, df_quart.revenue], columns= ['budget', 'revenue'])\n",
        "Y2 = df_quart.score_1\n",
        "X_train2, X_test2, Y_train2, Y_test2 = train_test_split(X2, Y2, test_size = 0.2, random_state=5)\n",
        "\n",
        "# Lancement de la régression linéaire\n",
        "lmodellineaire = LinearRegression()\n",
        "lmodellineaire.fit(X_train2, Y_train2)"
      ],
      "execution_count": 100,
      "outputs": [
        {
          "output_type": "execute_result",
          "data": {
            "text/plain": [
              "LinearRegression(copy_X=True, fit_intercept=True, n_jobs=None, normalize=False)"
            ]
          },
          "metadata": {
            "tags": []
          },
          "execution_count": 100
        }
      ]
    },
    {
      "cell_type": "code",
      "metadata": {
        "colab": {
          "base_uri": "https://localhost:8080/"
        },
        "id": "Gvhr9AT3mVoN",
        "outputId": "635cd769-c0a1-4370-ead3-4922f48bbd08"
      },
      "source": [
        "# Evaluation du training set\n",
        "from sklearn.metrics import r2_score\n",
        "y_train_predict2 = lmodellineaire.predict(X_train2)\n",
        "rmse = (np.sqrt(mean_squared_error(Y_train2, y_train_predict2)))\n",
        "r2 = r2_score(Y_train2, y_train_predict2)\n",
        " \n",
        "print(\"Performance du modèle sur la base d'apprentissage\")\n",
        "print('--------------------------------------')\n",
        "print(\"L'erreur quadratique moyenne est {}\".format(rmse))\n",
        "print('Le score R² est {}'.format(r2))\n",
        "print('\\n')\n",
        " \n",
        "# Evaluation du testing set\n",
        "y_test_predict2 = lmodellineaire.predict(X_test2)\n",
        "rmse = (np.sqrt(mean_squared_error(Y_test2, y_test_predict2)))\n",
        "r2 = r2_score(Y_test2, y_test_predict2)\n",
        " \n",
        "print('Performance du modèle sur la base de test')\n",
        "print('--------------------------------------')\n",
        "print(\"L'erreur quadratique moyenne est {}\".format(rmse))\n",
        "print('Le score R² est {}'.format(r2))"
      ],
      "execution_count": 101,
      "outputs": [
        {
          "output_type": "stream",
          "text": [
            "Performance du modèle sur la base d'apprentissage\n",
            "--------------------------------------\n",
            "L'erreur quadratique moyenne est 173.1820015609836\n",
            "Le score R² est 0.20264541422578397\n",
            "\n",
            "\n",
            "Performance du modèle sur la base de test\n",
            "--------------------------------------\n",
            "L'erreur quadratique moyenne est 160.19713029033295\n",
            "Le score R² est 0.21978490918629323\n"
          ],
          "name": "stdout"
        }
      ]
    },
    {
      "cell_type": "markdown",
      "metadata": {
        "id": "Z4jgb2LCmkqV"
      },
      "source": [
        "On a encore diminué l'erreur quadratique moyenne par rapport aux premières régressions linéaires mais le $R^2$ est toujours très très faible ce qui indique une mauvaise qualité de la prédiction. Il faut noter que si on a rajouté deux features pertinents à la régression, ce rajout nous a fait perdre de l'information puisque l'échantillon a été diminué à 1779 films."
      ]
    },
    {
      "cell_type": "code",
      "metadata": {
        "id": "kbYC52LtS7TO",
        "outputId": "7188ca7d-25e0-4d97-b7e3-3d1eb3678023",
        "colab": {
          "base_uri": "https://localhost:8080/",
          "height": 1000
        }
      },
      "source": [
        "plot(Y_test,y_test_predict)\n",
        "plt.title('Prédiction de la variable score_1 par le budget et le revenu \\n Base entière')\n",
        "\n",
        "plot(Y_test2, y_test_predict2)\n",
        "plt.title('Prédiction de la variable score_1 par le budget et le revenu \\n Valeurs de score_1 entre les 1er et 3ème quartiles')\n",
        "\n",
        "plt.show()"
      ],
      "execution_count": 104,
      "outputs": [
        {
          "output_type": "stream",
          "text": [
            "/usr/local/lib/python3.6/dist-packages/seaborn/distributions.py:2551: FutureWarning:\n",
            "\n",
            "`distplot` is a deprecated function and will be removed in a future version. Please adapt your code to use either `displot` (a figure-level function with similar flexibility) or `histplot` (an axes-level function for histograms).\n",
            "\n",
            "/usr/local/lib/python3.6/dist-packages/seaborn/distributions.py:2551: FutureWarning:\n",
            "\n",
            "`distplot` is a deprecated function and will be removed in a future version. Please adapt your code to use either `displot` (a figure-level function with similar flexibility) or `histplot` (an axes-level function for histograms).\n",
            "\n",
            "/usr/local/lib/python3.6/dist-packages/seaborn/distributions.py:2551: FutureWarning:\n",
            "\n",
            "`distplot` is a deprecated function and will be removed in a future version. Please adapt your code to use either `displot` (a figure-level function with similar flexibility) or `histplot` (an axes-level function for histograms).\n",
            "\n",
            "/usr/local/lib/python3.6/dist-packages/seaborn/distributions.py:2551: FutureWarning:\n",
            "\n",
            "`distplot` is a deprecated function and will be removed in a future version. Please adapt your code to use either `displot` (a figure-level function with similar flexibility) or `histplot` (an axes-level function for histograms).\n",
            "\n"
          ],
          "name": "stderr"
        },
        {
          "output_type": "display_data",
          "data": {
            "image/png": "[encoded data removed]",
            "text/plain": [
              "<Figure size 576x360 with 1 Axes>"
            ]
          },
          "metadata": {
            "tags": [],
            "needs_background": "light"
          }
        },
        {
          "output_type": "display_data",
          "data": {
            "image/png": "[encoded data removed]",
            "text/plain": [
              "<Figure size 576x360 with 1 Axes>"
            ]
          },
          "metadata": {
            "tags": [],
            "needs_background": "light"
          }
        }
      ]
    },
    {
      "cell_type": "markdown",
      "metadata": {
        "id": "wotHWX45o0K1"
      },
      "source": [
        "# Semi-supervisé sur les commentaires"
      ]
    },
    {
      "cell_type": "markdown",
      "metadata": {
        "id": "rofusQa_pJ04"
      },
      "source": [
        "Le dernier modèle a été un peu amélioré mais l'échantillon ayant beaucoup été diminué, on va essayer d'inclure davantage de commentaires pour améliorer la régression linéaire sur un sous ensemble plus important de notre base. On dispose pour cela d'un dataframe de commentaires non labellisés que l'on va prédire à l'aide de notre classificateur naïf bayésien. "
      ]
    },
    {
      "cell_type": "code",
      "metadata": {
        "id": "a0EG4ENNo77u"
      },
      "source": [
        ""
      ],
      "execution_count": null,
      "outputs": []
    }
  ]
}