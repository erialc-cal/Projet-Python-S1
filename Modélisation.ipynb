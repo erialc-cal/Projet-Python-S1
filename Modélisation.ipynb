{
  "nbformat": 4,
  "nbformat_minor": 0,
  "metadata": {
    "colab": {
      "name": "Modélisation",
      "provenance": [],
      "authorship_tag": "ABX9TyOURRpz9GG9M42anX8G6aaV",
      "include_colab_link": true
    },
    "kernelspec": {
      "name": "python3",
      "display_name": "Python 3"
    }
  },
  "cells": [
    {
      "cell_type": "markdown",
      "metadata": {
        "id": "view-in-github",
        "colab_type": "text"
      },
      "source": [
        "<a href=\"https://colab.research.google.com/github/marie-ganon/Projet-Python-S1/blob/main/Mod%C3%A9lisation.ipynb\" target=\"_parent\"><img src=\"https://colab.research.google.com/assets/colab-badge.svg\" alt=\"Open In Colab\"/></a>"
      ]
    },
    {
      "cell_type": "code",
      "metadata": {
        "id": "VhSzdGb1o4NV"
      },
      "source": [
        "import numpy as np\n",
        "import pandas as pd\n",
        "import matplotlib.pyplot as plt\n",
        "import plotly.express as px\n",
        "from urllib import request\n",
        "from wordcloud import WordCloud, STOPWORDS \n",
        "import csv\n",
        "import bs4\n",
        "from tqdm.notebook import trange, tqdm\n",
        "import seaborn as sns\n",
        "import numpy as np"
      ],
      "execution_count": null,
      "outputs": []
    },
    {
      "cell_type": "code",
      "metadata": {
        "id": "m-b-E64IpT6l"
      },
      "source": [
        " df = pd.read_csv('https://raw.githubusercontent.com/marie-ganon/Projet-Python-S1/main/base.csv')"
      ],
      "execution_count": 24,
      "outputs": []
    },
    {
      "cell_type": "code",
      "metadata": {
        "colab": {
          "base_uri": "https://localhost:8080/"
        },
        "id": "d2Q0tMIjpXMK",
        "outputId": "bd17ee3c-72c5-469d-b9d5-f8ff3fbfb2e4"
      },
      "source": [
        "#test = pd.read_csv('https://raw.githubusercontent.com/marie-ganon/Projet-Python-S1/main/movies_metadata.csv.zip')"
      ],
      "execution_count": null,
      "outputs": [
        {
          "output_type": "stream",
          "text": [
            "/usr/local/lib/python3.6/dist-packages/IPython/core/interactiveshell.py:2718: DtypeWarning:\n",
            "\n",
            "Columns (10) have mixed types.Specify dtype option on import or set low_memory=False.\n",
            "\n"
          ],
          "name": "stderr"
        }
      ]
    },
    {
      "cell_type": "markdown",
      "metadata": {
        "id": "kQVnDM9M1KsO"
      },
      "source": [
        "Avant de modéliser quoi que ce soit, nous allons supprimer les 'NaN' de la base de données."
      ]
    },
    {
      "cell_type": "code",
      "metadata": {
        "id": "rxaEYJJpyhUu"
      },
      "source": [
        "df = df.dropna()"
      ],
      "execution_count": 76,
      "outputs": []
    },
    {
      "cell_type": "markdown",
      "metadata": {
        "id": "HTv1TTYvwpj8"
      },
      "source": [
        "# Analyse de la matrice de corrélation de la base"
      ]
    },
    {
      "cell_type": "markdown",
      "metadata": {
        "id": "ufujyh3hu8HR"
      },
      "source": [
        "Rappelons la matrice de corrélation de la base :"
      ]
    },
    {
      "cell_type": "code",
      "metadata": {
        "id": "_xh2xAXwpiF3",
        "colab": {
          "base_uri": "https://localhost:8080/",
          "height": 325
        },
        "outputId": "a9026744-7fad-40a2-f01b-c0783ec38e10"
      },
      "source": [
        "corr = df.corr()\n",
        "corr.style.background_gradient(cmap = 'coolwarm')"
      ],
      "execution_count": 77,
      "outputs": [
        {
          "output_type": "execute_result",
          "data": {
            "text/html": [
              "<style  type=\"text/css\" >\n",
              "#T_24bba0f4_37de_11eb_a34c_0242ac1c0002row0_col0,#T_24bba0f4_37de_11eb_a34c_0242ac1c0002row1_col1,#T_24bba0f4_37de_11eb_a34c_0242ac1c0002row2_col2,#T_24bba0f4_37de_11eb_a34c_0242ac1c0002row3_col3,#T_24bba0f4_37de_11eb_a34c_0242ac1c0002row4_col4,#T_24bba0f4_37de_11eb_a34c_0242ac1c0002row5_col5,#T_24bba0f4_37de_11eb_a34c_0242ac1c0002row6_col6,#T_24bba0f4_37de_11eb_a34c_0242ac1c0002row7_col7,#T_24bba0f4_37de_11eb_a34c_0242ac1c0002row8_col8,#T_24bba0f4_37de_11eb_a34c_0242ac1c0002row9_col9,#T_24bba0f4_37de_11eb_a34c_0242ac1c0002row10_col10,#T_24bba0f4_37de_11eb_a34c_0242ac1c0002row11_col11{\n",
              "            background-color:  #b40426;\n",
              "            color:  #f1f1f1;\n",
              "        }#T_24bba0f4_37de_11eb_a34c_0242ac1c0002row0_col1,#T_24bba0f4_37de_11eb_a34c_0242ac1c0002row0_col3,#T_24bba0f4_37de_11eb_a34c_0242ac1c0002row0_col4,#T_24bba0f4_37de_11eb_a34c_0242ac1c0002row0_col5,#T_24bba0f4_37de_11eb_a34c_0242ac1c0002row0_col6,#T_24bba0f4_37de_11eb_a34c_0242ac1c0002row0_col7,#T_24bba0f4_37de_11eb_a34c_0242ac1c0002row0_col9,#T_24bba0f4_37de_11eb_a34c_0242ac1c0002row0_col11,#T_24bba0f4_37de_11eb_a34c_0242ac1c0002row2_col8,#T_24bba0f4_37de_11eb_a34c_0242ac1c0002row10_col7,#T_24bba0f4_37de_11eb_a34c_0242ac1c0002row10_col9,#T_24bba0f4_37de_11eb_a34c_0242ac1c0002row11_col0,#T_24bba0f4_37de_11eb_a34c_0242ac1c0002row11_col2,#T_24bba0f4_37de_11eb_a34c_0242ac1c0002row11_col10{\n",
              "            background-color:  #3b4cc0;\n",
              "            color:  #f1f1f1;\n",
              "        }#T_24bba0f4_37de_11eb_a34c_0242ac1c0002row0_col2{\n",
              "            background-color:  #f7b396;\n",
              "            color:  #000000;\n",
              "        }#T_24bba0f4_37de_11eb_a34c_0242ac1c0002row0_col8{\n",
              "            background-color:  #445acc;\n",
              "            color:  #f1f1f1;\n",
              "        }#T_24bba0f4_37de_11eb_a34c_0242ac1c0002row0_col10{\n",
              "            background-color:  #c5d6f2;\n",
              "            color:  #000000;\n",
              "        }#T_24bba0f4_37de_11eb_a34c_0242ac1c0002row1_col0{\n",
              "            background-color:  #536edd;\n",
              "            color:  #000000;\n",
              "        }#T_24bba0f4_37de_11eb_a34c_0242ac1c0002row1_col2,#T_24bba0f4_37de_11eb_a34c_0242ac1c0002row1_col10,#T_24bba0f4_37de_11eb_a34c_0242ac1c0002row5_col2{\n",
              "            background-color:  #506bda;\n",
              "            color:  #000000;\n",
              "        }#T_24bba0f4_37de_11eb_a34c_0242ac1c0002row1_col3{\n",
              "            background-color:  #e2dad5;\n",
              "            color:  #000000;\n",
              "        }#T_24bba0f4_37de_11eb_a34c_0242ac1c0002row1_col4{\n",
              "            background-color:  #ef886b;\n",
              "            color:  #000000;\n",
              "        }#T_24bba0f4_37de_11eb_a34c_0242ac1c0002row1_col5,#T_24bba0f4_37de_11eb_a34c_0242ac1c0002row3_col6,#T_24bba0f4_37de_11eb_a34c_0242ac1c0002row6_col5,#T_24bba0f4_37de_11eb_a34c_0242ac1c0002row9_col6,#T_24bba0f4_37de_11eb_a34c_0242ac1c0002row9_col8,#T_24bba0f4_37de_11eb_a34c_0242ac1c0002row9_col11{\n",
              "            background-color:  #97b8ff;\n",
              "            color:  #000000;\n",
              "        }#T_24bba0f4_37de_11eb_a34c_0242ac1c0002row1_col6{\n",
              "            background-color:  #80a3fa;\n",
              "            color:  #000000;\n",
              "        }#T_24bba0f4_37de_11eb_a34c_0242ac1c0002row1_col7{\n",
              "            background-color:  #f7aa8c;\n",
              "            color:  #000000;\n",
              "        }#T_24bba0f4_37de_11eb_a34c_0242ac1c0002row1_col8{\n",
              "            background-color:  #93b5fe;\n",
              "            color:  #000000;\n",
              "        }#T_24bba0f4_37de_11eb_a34c_0242ac1c0002row1_col9{\n",
              "            background-color:  #f7b89c;\n",
              "            color:  #000000;\n",
              "        }#T_24bba0f4_37de_11eb_a34c_0242ac1c0002row1_col11,#T_24bba0f4_37de_11eb_a34c_0242ac1c0002row4_col8{\n",
              "            background-color:  #a3c2fe;\n",
              "            color:  #000000;\n",
              "        }#T_24bba0f4_37de_11eb_a34c_0242ac1c0002row2_col0{\n",
              "            background-color:  #f7ad90;\n",
              "            color:  #000000;\n",
              "        }#T_24bba0f4_37de_11eb_a34c_0242ac1c0002row2_col1{\n",
              "            background-color:  #485fd1;\n",
              "            color:  #f1f1f1;\n",
              "        }#T_24bba0f4_37de_11eb_a34c_0242ac1c0002row2_col3{\n",
              "            background-color:  #5a78e4;\n",
              "            color:  #000000;\n",
              "        }#T_24bba0f4_37de_11eb_a34c_0242ac1c0002row2_col4,#T_24bba0f4_37de_11eb_a34c_0242ac1c0002row6_col2{\n",
              "            background-color:  #455cce;\n",
              "            color:  #f1f1f1;\n",
              "        }#T_24bba0f4_37de_11eb_a34c_0242ac1c0002row2_col5{\n",
              "            background-color:  #4e68d8;\n",
              "            color:  #000000;\n",
              "        }#T_24bba0f4_37de_11eb_a34c_0242ac1c0002row2_col6{\n",
              "            background-color:  #465ecf;\n",
              "            color:  #f1f1f1;\n",
              "        }#T_24bba0f4_37de_11eb_a34c_0242ac1c0002row2_col7,#T_24bba0f4_37de_11eb_a34c_0242ac1c0002row3_col0{\n",
              "            background-color:  #4b64d5;\n",
              "            color:  #f1f1f1;\n",
              "        }#T_24bba0f4_37de_11eb_a34c_0242ac1c0002row2_col9,#T_24bba0f4_37de_11eb_a34c_0242ac1c0002row2_col11,#T_24bba0f4_37de_11eb_a34c_0242ac1c0002row8_col2{\n",
              "            background-color:  #4a63d3;\n",
              "            color:  #f1f1f1;\n",
              "        }#T_24bba0f4_37de_11eb_a34c_0242ac1c0002row2_col10{\n",
              "            background-color:  #cfdaea;\n",
              "            color:  #000000;\n",
              "        }#T_24bba0f4_37de_11eb_a34c_0242ac1c0002row3_col1{\n",
              "            background-color:  #dfdbd9;\n",
              "            color:  #000000;\n",
              "        }#T_24bba0f4_37de_11eb_a34c_0242ac1c0002row3_col2,#T_24bba0f4_37de_11eb_a34c_0242ac1c0002row4_col0,#T_24bba0f4_37de_11eb_a34c_0242ac1c0002row5_col10,#T_24bba0f4_37de_11eb_a34c_0242ac1c0002row7_col0,#T_24bba0f4_37de_11eb_a34c_0242ac1c0002row7_col2,#T_24bba0f4_37de_11eb_a34c_0242ac1c0002row9_col0,#T_24bba0f4_37de_11eb_a34c_0242ac1c0002row9_col2{\n",
              "            background-color:  #5b7ae5;\n",
              "            color:  #000000;\n",
              "        }#T_24bba0f4_37de_11eb_a34c_0242ac1c0002row3_col4{\n",
              "            background-color:  #ead5c9;\n",
              "            color:  #000000;\n",
              "        }#T_24bba0f4_37de_11eb_a34c_0242ac1c0002row3_col5,#T_24bba0f4_37de_11eb_a34c_0242ac1c0002row4_col5{\n",
              "            background-color:  #8db0fe;\n",
              "            color:  #000000;\n",
              "        }#T_24bba0f4_37de_11eb_a34c_0242ac1c0002row3_col7{\n",
              "            background-color:  #f2cbb7;\n",
              "            color:  #000000;\n",
              "        }#T_24bba0f4_37de_11eb_a34c_0242ac1c0002row3_col8,#T_24bba0f4_37de_11eb_a34c_0242ac1c0002row5_col1{\n",
              "            background-color:  #92b4fe;\n",
              "            color:  #000000;\n",
              "        }#T_24bba0f4_37de_11eb_a34c_0242ac1c0002row3_col9{\n",
              "            background-color:  #f0cdbb;\n",
              "            color:  #000000;\n",
              "        }#T_24bba0f4_37de_11eb_a34c_0242ac1c0002row3_col10,#T_24bba0f4_37de_11eb_a34c_0242ac1c0002row5_col0{\n",
              "            background-color:  #4c66d6;\n",
              "            color:  #000000;\n",
              "        }#T_24bba0f4_37de_11eb_a34c_0242ac1c0002row3_col11{\n",
              "            background-color:  #94b6ff;\n",
              "            color:  #000000;\n",
              "        }#T_24bba0f4_37de_11eb_a34c_0242ac1c0002row4_col1{\n",
              "            background-color:  #ee8468;\n",
              "            color:  #000000;\n",
              "        }#T_24bba0f4_37de_11eb_a34c_0242ac1c0002row4_col2,#T_24bba0f4_37de_11eb_a34c_0242ac1c0002row4_col10{\n",
              "            background-color:  #5875e1;\n",
              "            color:  #000000;\n",
              "        }#T_24bba0f4_37de_11eb_a34c_0242ac1c0002row4_col3{\n",
              "            background-color:  #eed0c0;\n",
              "            color:  #000000;\n",
              "        }#T_24bba0f4_37de_11eb_a34c_0242ac1c0002row4_col6,#T_24bba0f4_37de_11eb_a34c_0242ac1c0002row5_col11,#T_24bba0f4_37de_11eb_a34c_0242ac1c0002row6_col9{\n",
              "            background-color:  #86a9fc;\n",
              "            color:  #000000;\n",
              "        }#T_24bba0f4_37de_11eb_a34c_0242ac1c0002row4_col7,#T_24bba0f4_37de_11eb_a34c_0242ac1c0002row7_col4{\n",
              "            background-color:  #e8765c;\n",
              "            color:  #000000;\n",
              "        }#T_24bba0f4_37de_11eb_a34c_0242ac1c0002row4_col9,#T_24bba0f4_37de_11eb_a34c_0242ac1c0002row9_col4{\n",
              "            background-color:  #ec8165;\n",
              "            color:  #000000;\n",
              "        }#T_24bba0f4_37de_11eb_a34c_0242ac1c0002row4_col11{\n",
              "            background-color:  #9fbfff;\n",
              "            color:  #000000;\n",
              "        }#T_24bba0f4_37de_11eb_a34c_0242ac1c0002row5_col3,#T_24bba0f4_37de_11eb_a34c_0242ac1c0002row11_col1{\n",
              "            background-color:  #8fb1fe;\n",
              "            color:  #000000;\n",
              "        }#T_24bba0f4_37de_11eb_a34c_0242ac1c0002row5_col4{\n",
              "            background-color:  #7ea1fa;\n",
              "            color:  #000000;\n",
              "        }#T_24bba0f4_37de_11eb_a34c_0242ac1c0002row5_col6,#T_24bba0f4_37de_11eb_a34c_0242ac1c0002row8_col1{\n",
              "            background-color:  #9abbff;\n",
              "            color:  #000000;\n",
              "        }#T_24bba0f4_37de_11eb_a34c_0242ac1c0002row5_col7{\n",
              "            background-color:  #82a6fb;\n",
              "            color:  #000000;\n",
              "        }#T_24bba0f4_37de_11eb_a34c_0242ac1c0002row5_col8,#T_24bba0f4_37de_11eb_a34c_0242ac1c0002row9_col10{\n",
              "            background-color:  #5673e0;\n",
              "            color:  #000000;\n",
              "        }#T_24bba0f4_37de_11eb_a34c_0242ac1c0002row5_col9,#T_24bba0f4_37de_11eb_a34c_0242ac1c0002row11_col4{\n",
              "            background-color:  #81a4fb;\n",
              "            color:  #000000;\n",
              "        }#T_24bba0f4_37de_11eb_a34c_0242ac1c0002row6_col0{\n",
              "            background-color:  #4961d2;\n",
              "            color:  #f1f1f1;\n",
              "        }#T_24bba0f4_37de_11eb_a34c_0242ac1c0002row6_col1,#T_24bba0f4_37de_11eb_a34c_0242ac1c0002row11_col9{\n",
              "            background-color:  #779af7;\n",
              "            color:  #000000;\n",
              "        }#T_24bba0f4_37de_11eb_a34c_0242ac1c0002row6_col3,#T_24bba0f4_37de_11eb_a34c_0242ac1c0002row7_col6,#T_24bba0f4_37de_11eb_a34c_0242ac1c0002row8_col9{\n",
              "            background-color:  #96b7ff;\n",
              "            color:  #000000;\n",
              "        }#T_24bba0f4_37de_11eb_a34c_0242ac1c0002row6_col4,#T_24bba0f4_37de_11eb_a34c_0242ac1c0002row11_col5{\n",
              "            background-color:  #7597f6;\n",
              "            color:  #000000;\n",
              "        }#T_24bba0f4_37de_11eb_a34c_0242ac1c0002row6_col7{\n",
              "            background-color:  #85a8fc;\n",
              "            color:  #000000;\n",
              "        }#T_24bba0f4_37de_11eb_a34c_0242ac1c0002row6_col8{\n",
              "            background-color:  #6282ea;\n",
              "            color:  #000000;\n",
              "        }#T_24bba0f4_37de_11eb_a34c_0242ac1c0002row6_col10{\n",
              "            background-color:  #5e7de7;\n",
              "            color:  #000000;\n",
              "        }#T_24bba0f4_37de_11eb_a34c_0242ac1c0002row6_col11,#T_24bba0f4_37de_11eb_a34c_0242ac1c0002row11_col7{\n",
              "            background-color:  #7b9ff9;\n",
              "            color:  #000000;\n",
              "        }#T_24bba0f4_37de_11eb_a34c_0242ac1c0002row7_col1{\n",
              "            background-color:  #f7a889;\n",
              "            color:  #000000;\n",
              "        }#T_24bba0f4_37de_11eb_a34c_0242ac1c0002row7_col3{\n",
              "            background-color:  #f4c6af;\n",
              "            color:  #000000;\n",
              "        }#T_24bba0f4_37de_11eb_a34c_0242ac1c0002row7_col5,#T_24bba0f4_37de_11eb_a34c_0242ac1c0002row9_col5{\n",
              "            background-color:  #90b2fe;\n",
              "            color:  #000000;\n",
              "        }#T_24bba0f4_37de_11eb_a34c_0242ac1c0002row7_col8{\n",
              "            background-color:  #9dbdff;\n",
              "            color:  #000000;\n",
              "        }#T_24bba0f4_37de_11eb_a34c_0242ac1c0002row7_col9,#T_24bba0f4_37de_11eb_a34c_0242ac1c0002row9_col7{\n",
              "            background-color:  #b50927;\n",
              "            color:  #f1f1f1;\n",
              "        }#T_24bba0f4_37de_11eb_a34c_0242ac1c0002row7_col10,#T_24bba0f4_37de_11eb_a34c_0242ac1c0002row10_col6{\n",
              "            background-color:  #5572df;\n",
              "            color:  #000000;\n",
              "        }#T_24bba0f4_37de_11eb_a34c_0242ac1c0002row7_col11{\n",
              "            background-color:  #98b9ff;\n",
              "            color:  #000000;\n",
              "        }#T_24bba0f4_37de_11eb_a34c_0242ac1c0002row8_col0,#T_24bba0f4_37de_11eb_a34c_0242ac1c0002row11_col8{\n",
              "            background-color:  #6485ec;\n",
              "            color:  #000000;\n",
              "        }#T_24bba0f4_37de_11eb_a34c_0242ac1c0002row8_col3{\n",
              "            background-color:  #9ebeff;\n",
              "            color:  #000000;\n",
              "        }#T_24bba0f4_37de_11eb_a34c_0242ac1c0002row8_col4{\n",
              "            background-color:  #a2c1ff;\n",
              "            color:  #000000;\n",
              "        }#T_24bba0f4_37de_11eb_a34c_0242ac1c0002row8_col5{\n",
              "            background-color:  #6384eb;\n",
              "            color:  #000000;\n",
              "        }#T_24bba0f4_37de_11eb_a34c_0242ac1c0002row8_col6{\n",
              "            background-color:  #7396f5;\n",
              "            color:  #000000;\n",
              "        }#T_24bba0f4_37de_11eb_a34c_0242ac1c0002row8_col7{\n",
              "            background-color:  #9bbcff;\n",
              "            color:  #000000;\n",
              "        }#T_24bba0f4_37de_11eb_a34c_0242ac1c0002row8_col10{\n",
              "            background-color:  #5977e3;\n",
              "            color:  #000000;\n",
              "        }#T_24bba0f4_37de_11eb_a34c_0242ac1c0002row8_col11,#T_24bba0f4_37de_11eb_a34c_0242ac1c0002row11_col3{\n",
              "            background-color:  #84a7fc;\n",
              "            color:  #000000;\n",
              "        }#T_24bba0f4_37de_11eb_a34c_0242ac1c0002row9_col1{\n",
              "            background-color:  #f7b497;\n",
              "            color:  #000000;\n",
              "        }#T_24bba0f4_37de_11eb_a34c_0242ac1c0002row9_col3{\n",
              "            background-color:  #f2c9b4;\n",
              "            color:  #000000;\n",
              "        }#T_24bba0f4_37de_11eb_a34c_0242ac1c0002row10_col0{\n",
              "            background-color:  #c9d7f0;\n",
              "            color:  #000000;\n",
              "        }#T_24bba0f4_37de_11eb_a34c_0242ac1c0002row10_col1{\n",
              "            background-color:  #3d50c3;\n",
              "            color:  #f1f1f1;\n",
              "        }#T_24bba0f4_37de_11eb_a34c_0242ac1c0002row10_col2{\n",
              "            background-color:  #cad8ef;\n",
              "            color:  #000000;\n",
              "        }#T_24bba0f4_37de_11eb_a34c_0242ac1c0002row10_col3{\n",
              "            background-color:  #4257c9;\n",
              "            color:  #f1f1f1;\n",
              "        }#T_24bba0f4_37de_11eb_a34c_0242ac1c0002row10_col4{\n",
              "            background-color:  #3c4ec2;\n",
              "            color:  #f1f1f1;\n",
              "        }#T_24bba0f4_37de_11eb_a34c_0242ac1c0002row10_col5{\n",
              "            background-color:  #4f69d9;\n",
              "            color:  #000000;\n",
              "        }#T_24bba0f4_37de_11eb_a34c_0242ac1c0002row10_col8,#T_24bba0f4_37de_11eb_a34c_0242ac1c0002row10_col11{\n",
              "            background-color:  #3f53c6;\n",
              "            color:  #f1f1f1;\n",
              "        }#T_24bba0f4_37de_11eb_a34c_0242ac1c0002row11_col6{\n",
              "            background-color:  #6c8ff1;\n",
              "            color:  #000000;\n",
              "        }</style><table id=\"T_24bba0f4_37de_11eb_a34c_0242ac1c0002\" ><thead>    <tr>        <th class=\"blank level0\" ></th>        <th class=\"col_heading level0 col0\" >Unnamed: 0</th>        <th class=\"col_heading level0 col1\" >budget</th>        <th class=\"col_heading level0 col2\" >id</th>        <th class=\"col_heading level0 col3\" >popularity</th>        <th class=\"col_heading level0 col4\" >revenue</th>        <th class=\"col_heading level0 col5\" >runtime</th>        <th class=\"col_heading level0 col6\" >vote_average</th>        <th class=\"col_heading level0 col7\" >vote_count</th>        <th class=\"col_heading level0 col8\" >collection</th>        <th class=\"col_heading level0 col9\" >score_1</th>        <th class=\"col_heading level0 col10\" >production_companies_id</th>        <th class=\"col_heading level0 col11\" >pc_id_count</th>    </tr></thead><tbody>\n",
              "                <tr>\n",
              "                        <th id=\"T_24bba0f4_37de_11eb_a34c_0242ac1c0002level0_row0\" class=\"row_heading level0 row0\" >Unnamed: 0</th>\n",
              "                        <td id=\"T_24bba0f4_37de_11eb_a34c_0242ac1c0002row0_col0\" class=\"data row0 col0\" >1.000000</td>\n",
              "                        <td id=\"T_24bba0f4_37de_11eb_a34c_0242ac1c0002row0_col1\" class=\"data row0 col1\" >-0.148571</td>\n",
              "                        <td id=\"T_24bba0f4_37de_11eb_a34c_0242ac1c0002row0_col2\" class=\"data row0 col2\" >0.623423</td>\n",
              "                        <td id=\"T_24bba0f4_37de_11eb_a34c_0242ac1c0002row0_col3\" class=\"data row0 col3\" >-0.175530</td>\n",
              "                        <td id=\"T_24bba0f4_37de_11eb_a34c_0242ac1c0002row0_col4\" class=\"data row0 col4\" >-0.110522</td>\n",
              "                        <td id=\"T_24bba0f4_37de_11eb_a34c_0242ac1c0002row0_col5\" class=\"data row0 col5\" >-0.171669</td>\n",
              "                        <td id=\"T_24bba0f4_37de_11eb_a34c_0242ac1c0002row0_col6\" class=\"data row0 col6\" >-0.185557</td>\n",
              "                        <td id=\"T_24bba0f4_37de_11eb_a34c_0242ac1c0002row0_col7\" class=\"data row0 col7\" >-0.113463</td>\n",
              "                        <td id=\"T_24bba0f4_37de_11eb_a34c_0242ac1c0002row0_col8\" class=\"data row0 col8\" >-0.080594</td>\n",
              "                        <td id=\"T_24bba0f4_37de_11eb_a34c_0242ac1c0002row0_col9\" class=\"data row0 col9\" >-0.110614</td>\n",
              "                        <td id=\"T_24bba0f4_37de_11eb_a34c_0242ac1c0002row0_col10\" class=\"data row0 col10\" >0.287707</td>\n",
              "                        <td id=\"T_24bba0f4_37de_11eb_a34c_0242ac1c0002row0_col11\" class=\"data row0 col11\" >-0.246866</td>\n",
              "            </tr>\n",
              "            <tr>\n",
              "                        <th id=\"T_24bba0f4_37de_11eb_a34c_0242ac1c0002level0_row1\" class=\"row_heading level0 row1\" >budget</th>\n",
              "                        <td id=\"T_24bba0f4_37de_11eb_a34c_0242ac1c0002row1_col0\" class=\"data row1 col0\" >-0.148571</td>\n",
              "                        <td id=\"T_24bba0f4_37de_11eb_a34c_0242ac1c0002row1_col1\" class=\"data row1 col1\" >1.000000</td>\n",
              "                        <td id=\"T_24bba0f4_37de_11eb_a34c_0242ac1c0002row1_col2\" class=\"data row1 col2\" >-0.096657</td>\n",
              "                        <td id=\"T_24bba0f4_37de_11eb_a34c_0242ac1c0002row1_col3\" class=\"data row1 col3\" >0.436337</td>\n",
              "                        <td id=\"T_24bba0f4_37de_11eb_a34c_0242ac1c0002row1_col4\" class=\"data row1 col4\" >0.766920</td>\n",
              "                        <td id=\"T_24bba0f4_37de_11eb_a34c_0242ac1c0002row1_col5\" class=\"data row1 col5\" >0.155912</td>\n",
              "                        <td id=\"T_24bba0f4_37de_11eb_a34c_0242ac1c0002row1_col6\" class=\"data row1 col6\" >0.068225</td>\n",
              "                        <td id=\"T_24bba0f4_37de_11eb_a34c_0242ac1c0002row1_col7\" class=\"data row1 col7\" >0.671645</td>\n",
              "                        <td id=\"T_24bba0f4_37de_11eb_a34c_0242ac1c0002row1_col8\" class=\"data row1 col8\" >0.180931</td>\n",
              "                        <td id=\"T_24bba0f4_37de_11eb_a34c_0242ac1c0002row1_col9\" class=\"data row1 col9\" >0.629228</td>\n",
              "                        <td id=\"T_24bba0f4_37de_11eb_a34c_0242ac1c0002row1_col10\" class=\"data row1 col10\" >-0.135599</td>\n",
              "                        <td id=\"T_24bba0f4_37de_11eb_a34c_0242ac1c0002row1_col11\" class=\"data row1 col11\" >0.144304</td>\n",
              "            </tr>\n",
              "            <tr>\n",
              "                        <th id=\"T_24bba0f4_37de_11eb_a34c_0242ac1c0002level0_row2\" class=\"row_heading level0 row2\" >id</th>\n",
              "                        <td id=\"T_24bba0f4_37de_11eb_a34c_0242ac1c0002row2_col0\" class=\"data row2 col0\" >0.623423</td>\n",
              "                        <td id=\"T_24bba0f4_37de_11eb_a34c_0242ac1c0002row2_col1\" class=\"data row2 col1\" >-0.096657</td>\n",
              "                        <td id=\"T_24bba0f4_37de_11eb_a34c_0242ac1c0002row2_col2\" class=\"data row2 col2\" >1.000000</td>\n",
              "                        <td id=\"T_24bba0f4_37de_11eb_a34c_0242ac1c0002row2_col3\" class=\"data row2 col3\" >-0.053992</td>\n",
              "                        <td id=\"T_24bba0f4_37de_11eb_a34c_0242ac1c0002row2_col4\" class=\"data row2 col4\" >-0.067341</td>\n",
              "                        <td id=\"T_24bba0f4_37de_11eb_a34c_0242ac1c0002row2_col5\" class=\"data row2 col5\" >-0.095947</td>\n",
              "                        <td id=\"T_24bba0f4_37de_11eb_a34c_0242ac1c0002row2_col6\" class=\"data row2 col6\" >-0.136979</td>\n",
              "                        <td id=\"T_24bba0f4_37de_11eb_a34c_0242ac1c0002row2_col7\" class=\"data row2 col7\" >-0.055209</td>\n",
              "                        <td id=\"T_24bba0f4_37de_11eb_a34c_0242ac1c0002row2_col8\" class=\"data row2 col8\" >-0.117688</td>\n",
              "                        <td id=\"T_24bba0f4_37de_11eb_a34c_0242ac1c0002row2_col9\" class=\"data row2 col9\" >-0.054086</td>\n",
              "                        <td id=\"T_24bba0f4_37de_11eb_a34c_0242ac1c0002row2_col10\" class=\"data row2 col10\" >0.330078</td>\n",
              "                        <td id=\"T_24bba0f4_37de_11eb_a34c_0242ac1c0002row2_col11\" class=\"data row2 col11\" >-0.181285</td>\n",
              "            </tr>\n",
              "            <tr>\n",
              "                        <th id=\"T_24bba0f4_37de_11eb_a34c_0242ac1c0002level0_row3\" class=\"row_heading level0 row3\" >popularity</th>\n",
              "                        <td id=\"T_24bba0f4_37de_11eb_a34c_0242ac1c0002row3_col0\" class=\"data row3 col0\" >-0.175530</td>\n",
              "                        <td id=\"T_24bba0f4_37de_11eb_a34c_0242ac1c0002row3_col1\" class=\"data row3 col1\" >0.436337</td>\n",
              "                        <td id=\"T_24bba0f4_37de_11eb_a34c_0242ac1c0002row3_col2\" class=\"data row3 col2\" >-0.053992</td>\n",
              "                        <td id=\"T_24bba0f4_37de_11eb_a34c_0242ac1c0002row3_col3\" class=\"data row3 col3\" >1.000000</td>\n",
              "                        <td id=\"T_24bba0f4_37de_11eb_a34c_0242ac1c0002row3_col4\" class=\"data row3 col4\" >0.501218</td>\n",
              "                        <td id=\"T_24bba0f4_37de_11eb_a34c_0242ac1c0002row3_col5\" class=\"data row3 col5\" >0.124911</td>\n",
              "                        <td id=\"T_24bba0f4_37de_11eb_a34c_0242ac1c0002row3_col6\" class=\"data row3 col6\" >0.146682</td>\n",
              "                        <td id=\"T_24bba0f4_37de_11eb_a34c_0242ac1c0002row3_col7\" class=\"data row3 col7\" >0.552508</td>\n",
              "                        <td id=\"T_24bba0f4_37de_11eb_a34c_0242ac1c0002row3_col8\" class=\"data row3 col8\" >0.177025</td>\n",
              "                        <td id=\"T_24bba0f4_37de_11eb_a34c_0242ac1c0002row3_col9\" class=\"data row3 col9\" >0.540582</td>\n",
              "                        <td id=\"T_24bba0f4_37de_11eb_a34c_0242ac1c0002row3_col10\" class=\"data row3 col10\" >-0.146485</td>\n",
              "                        <td id=\"T_24bba0f4_37de_11eb_a34c_0242ac1c0002row3_col11\" class=\"data row3 col11\" >0.089818</td>\n",
              "            </tr>\n",
              "            <tr>\n",
              "                        <th id=\"T_24bba0f4_37de_11eb_a34c_0242ac1c0002level0_row4\" class=\"row_heading level0 row4\" >revenue</th>\n",
              "                        <td id=\"T_24bba0f4_37de_11eb_a34c_0242ac1c0002row4_col0\" class=\"data row4 col0\" >-0.110522</td>\n",
              "                        <td id=\"T_24bba0f4_37de_11eb_a34c_0242ac1c0002row4_col1\" class=\"data row4 col1\" >0.766920</td>\n",
              "                        <td id=\"T_24bba0f4_37de_11eb_a34c_0242ac1c0002row4_col2\" class=\"data row4 col2\" >-0.067341</td>\n",
              "                        <td id=\"T_24bba0f4_37de_11eb_a34c_0242ac1c0002row4_col3\" class=\"data row4 col3\" >0.501218</td>\n",
              "                        <td id=\"T_24bba0f4_37de_11eb_a34c_0242ac1c0002row4_col4\" class=\"data row4 col4\" >1.000000</td>\n",
              "                        <td id=\"T_24bba0f4_37de_11eb_a34c_0242ac1c0002row4_col5\" class=\"data row4 col5\" >0.121972</td>\n",
              "                        <td id=\"T_24bba0f4_37de_11eb_a34c_0242ac1c0002row4_col6\" class=\"data row4 col6\" >0.091945</td>\n",
              "                        <td id=\"T_24bba0f4_37de_11eb_a34c_0242ac1c0002row4_col7\" class=\"data row4 col7\" >0.809743</td>\n",
              "                        <td id=\"T_24bba0f4_37de_11eb_a34c_0242ac1c0002row4_col8\" class=\"data row4 col8\" >0.235846</td>\n",
              "                        <td id=\"T_24bba0f4_37de_11eb_a34c_0242ac1c0002row4_col9\" class=\"data row4 col9\" >0.784853</td>\n",
              "                        <td id=\"T_24bba0f4_37de_11eb_a34c_0242ac1c0002row4_col10\" class=\"data row4 col10\" >-0.103861</td>\n",
              "                        <td id=\"T_24bba0f4_37de_11eb_a34c_0242ac1c0002row4_col11\" class=\"data row4 col11\" >0.128344</td>\n",
              "            </tr>\n",
              "            <tr>\n",
              "                        <th id=\"T_24bba0f4_37de_11eb_a34c_0242ac1c0002level0_row5\" class=\"row_heading level0 row5\" >runtime</th>\n",
              "                        <td id=\"T_24bba0f4_37de_11eb_a34c_0242ac1c0002row5_col0\" class=\"data row5 col0\" >-0.171669</td>\n",
              "                        <td id=\"T_24bba0f4_37de_11eb_a34c_0242ac1c0002row5_col1\" class=\"data row5 col1\" >0.155912</td>\n",
              "                        <td id=\"T_24bba0f4_37de_11eb_a34c_0242ac1c0002row5_col2\" class=\"data row5 col2\" >-0.095947</td>\n",
              "                        <td id=\"T_24bba0f4_37de_11eb_a34c_0242ac1c0002row5_col3\" class=\"data row5 col3\" >0.124911</td>\n",
              "                        <td id=\"T_24bba0f4_37de_11eb_a34c_0242ac1c0002row5_col4\" class=\"data row5 col4\" >0.121972</td>\n",
              "                        <td id=\"T_24bba0f4_37de_11eb_a34c_0242ac1c0002row5_col5\" class=\"data row5 col5\" >1.000000</td>\n",
              "                        <td id=\"T_24bba0f4_37de_11eb_a34c_0242ac1c0002row5_col6\" class=\"data row5 col6\" >0.155065</td>\n",
              "                        <td id=\"T_24bba0f4_37de_11eb_a34c_0242ac1c0002row5_col7\" class=\"data row5 col7\" >0.130619</td>\n",
              "                        <td id=\"T_24bba0f4_37de_11eb_a34c_0242ac1c0002row5_col8\" class=\"data row5 col8\" >-0.016928</td>\n",
              "                        <td id=\"T_24bba0f4_37de_11eb_a34c_0242ac1c0002row5_col9\" class=\"data row5 col9\" >0.130466</td>\n",
              "                        <td id=\"T_24bba0f4_37de_11eb_a34c_0242ac1c0002row5_col10\" class=\"data row5 col10\" >-0.090927</td>\n",
              "                        <td id=\"T_24bba0f4_37de_11eb_a34c_0242ac1c0002row5_col11\" class=\"data row5 col11\" >0.041570</td>\n",
              "            </tr>\n",
              "            <tr>\n",
              "                        <th id=\"T_24bba0f4_37de_11eb_a34c_0242ac1c0002level0_row6\" class=\"row_heading level0 row6\" >vote_average</th>\n",
              "                        <td id=\"T_24bba0f4_37de_11eb_a34c_0242ac1c0002row6_col0\" class=\"data row6 col0\" >-0.185557</td>\n",
              "                        <td id=\"T_24bba0f4_37de_11eb_a34c_0242ac1c0002row6_col1\" class=\"data row6 col1\" >0.068225</td>\n",
              "                        <td id=\"T_24bba0f4_37de_11eb_a34c_0242ac1c0002row6_col2\" class=\"data row6 col2\" >-0.136979</td>\n",
              "                        <td id=\"T_24bba0f4_37de_11eb_a34c_0242ac1c0002row6_col3\" class=\"data row6 col3\" >0.146682</td>\n",
              "                        <td id=\"T_24bba0f4_37de_11eb_a34c_0242ac1c0002row6_col4\" class=\"data row6 col4\" >0.091945</td>\n",
              "                        <td id=\"T_24bba0f4_37de_11eb_a34c_0242ac1c0002row6_col5\" class=\"data row6 col5\" >0.155065</td>\n",
              "                        <td id=\"T_24bba0f4_37de_11eb_a34c_0242ac1c0002row6_col6\" class=\"data row6 col6\" >1.000000</td>\n",
              "                        <td id=\"T_24bba0f4_37de_11eb_a34c_0242ac1c0002row6_col7\" class=\"data row6 col7\" >0.140098</td>\n",
              "                        <td id=\"T_24bba0f4_37de_11eb_a34c_0242ac1c0002row6_col8\" class=\"data row6 col8\" >0.023347</td>\n",
              "                        <td id=\"T_24bba0f4_37de_11eb_a34c_0242ac1c0002row6_col9\" class=\"data row6 col9\" >0.147204</td>\n",
              "                        <td id=\"T_24bba0f4_37de_11eb_a34c_0242ac1c0002row6_col10\" class=\"data row6 col10\" >-0.082563</td>\n",
              "                        <td id=\"T_24bba0f4_37de_11eb_a34c_0242ac1c0002row6_col11\" class=\"data row6 col11\" >0.001795</td>\n",
              "            </tr>\n",
              "            <tr>\n",
              "                        <th id=\"T_24bba0f4_37de_11eb_a34c_0242ac1c0002level0_row7\" class=\"row_heading level0 row7\" >vote_count</th>\n",
              "                        <td id=\"T_24bba0f4_37de_11eb_a34c_0242ac1c0002row7_col0\" class=\"data row7 col0\" >-0.113463</td>\n",
              "                        <td id=\"T_24bba0f4_37de_11eb_a34c_0242ac1c0002row7_col1\" class=\"data row7 col1\" >0.671645</td>\n",
              "                        <td id=\"T_24bba0f4_37de_11eb_a34c_0242ac1c0002row7_col2\" class=\"data row7 col2\" >-0.055209</td>\n",
              "                        <td id=\"T_24bba0f4_37de_11eb_a34c_0242ac1c0002row7_col3\" class=\"data row7 col3\" >0.552508</td>\n",
              "                        <td id=\"T_24bba0f4_37de_11eb_a34c_0242ac1c0002row7_col4\" class=\"data row7 col4\" >0.809743</td>\n",
              "                        <td id=\"T_24bba0f4_37de_11eb_a34c_0242ac1c0002row7_col5\" class=\"data row7 col5\" >0.130619</td>\n",
              "                        <td id=\"T_24bba0f4_37de_11eb_a34c_0242ac1c0002row7_col6\" class=\"data row7 col6\" >0.140098</td>\n",
              "                        <td id=\"T_24bba0f4_37de_11eb_a34c_0242ac1c0002row7_col7\" class=\"data row7 col7\" >1.000000</td>\n",
              "                        <td id=\"T_24bba0f4_37de_11eb_a34c_0242ac1c0002row7_col8\" class=\"data row7 col8\" >0.209809</td>\n",
              "                        <td id=\"T_24bba0f4_37de_11eb_a34c_0242ac1c0002row7_col9\" class=\"data row7 col9\" >0.994286</td>\n",
              "                        <td id=\"T_24bba0f4_37de_11eb_a34c_0242ac1c0002row7_col10\" class=\"data row7 col10\" >-0.116741</td>\n",
              "                        <td id=\"T_24bba0f4_37de_11eb_a34c_0242ac1c0002row7_col11\" class=\"data row7 col11\" >0.108258</td>\n",
              "            </tr>\n",
              "            <tr>\n",
              "                        <th id=\"T_24bba0f4_37de_11eb_a34c_0242ac1c0002level0_row8\" class=\"row_heading level0 row8\" >collection</th>\n",
              "                        <td id=\"T_24bba0f4_37de_11eb_a34c_0242ac1c0002row8_col0\" class=\"data row8 col0\" >-0.080594</td>\n",
              "                        <td id=\"T_24bba0f4_37de_11eb_a34c_0242ac1c0002row8_col1\" class=\"data row8 col1\" >0.180931</td>\n",
              "                        <td id=\"T_24bba0f4_37de_11eb_a34c_0242ac1c0002row8_col2\" class=\"data row8 col2\" >-0.117688</td>\n",
              "                        <td id=\"T_24bba0f4_37de_11eb_a34c_0242ac1c0002row8_col3\" class=\"data row8 col3\" >0.177025</td>\n",
              "                        <td id=\"T_24bba0f4_37de_11eb_a34c_0242ac1c0002row8_col4\" class=\"data row8 col4\" >0.235846</td>\n",
              "                        <td id=\"T_24bba0f4_37de_11eb_a34c_0242ac1c0002row8_col5\" class=\"data row8 col5\" >-0.016928</td>\n",
              "                        <td id=\"T_24bba0f4_37de_11eb_a34c_0242ac1c0002row8_col6\" class=\"data row8 col6\" >0.023347</td>\n",
              "                        <td id=\"T_24bba0f4_37de_11eb_a34c_0242ac1c0002row8_col7\" class=\"data row8 col7\" >0.209809</td>\n",
              "                        <td id=\"T_24bba0f4_37de_11eb_a34c_0242ac1c0002row8_col8\" class=\"data row8 col8\" >1.000000</td>\n",
              "                        <td id=\"T_24bba0f4_37de_11eb_a34c_0242ac1c0002row8_col9\" class=\"data row8 col9\" >0.194312</td>\n",
              "                        <td id=\"T_24bba0f4_37de_11eb_a34c_0242ac1c0002row8_col10\" class=\"data row8 col10\" >-0.099509</td>\n",
              "                        <td id=\"T_24bba0f4_37de_11eb_a34c_0242ac1c0002row8_col11\" class=\"data row8 col11\" >0.034864</td>\n",
              "            </tr>\n",
              "            <tr>\n",
              "                        <th id=\"T_24bba0f4_37de_11eb_a34c_0242ac1c0002level0_row9\" class=\"row_heading level0 row9\" >score_1</th>\n",
              "                        <td id=\"T_24bba0f4_37de_11eb_a34c_0242ac1c0002row9_col0\" class=\"data row9 col0\" >-0.110614</td>\n",
              "                        <td id=\"T_24bba0f4_37de_11eb_a34c_0242ac1c0002row9_col1\" class=\"data row9 col1\" >0.629228</td>\n",
              "                        <td id=\"T_24bba0f4_37de_11eb_a34c_0242ac1c0002row9_col2\" class=\"data row9 col2\" >-0.054086</td>\n",
              "                        <td id=\"T_24bba0f4_37de_11eb_a34c_0242ac1c0002row9_col3\" class=\"data row9 col3\" >0.540582</td>\n",
              "                        <td id=\"T_24bba0f4_37de_11eb_a34c_0242ac1c0002row9_col4\" class=\"data row9 col4\" >0.784853</td>\n",
              "                        <td id=\"T_24bba0f4_37de_11eb_a34c_0242ac1c0002row9_col5\" class=\"data row9 col5\" >0.130466</td>\n",
              "                        <td id=\"T_24bba0f4_37de_11eb_a34c_0242ac1c0002row9_col6\" class=\"data row9 col6\" >0.147204</td>\n",
              "                        <td id=\"T_24bba0f4_37de_11eb_a34c_0242ac1c0002row9_col7\" class=\"data row9 col7\" >0.994286</td>\n",
              "                        <td id=\"T_24bba0f4_37de_11eb_a34c_0242ac1c0002row9_col8\" class=\"data row9 col8\" >0.194312</td>\n",
              "                        <td id=\"T_24bba0f4_37de_11eb_a34c_0242ac1c0002row9_col9\" class=\"data row9 col9\" >1.000000</td>\n",
              "                        <td id=\"T_24bba0f4_37de_11eb_a34c_0242ac1c0002row9_col10\" class=\"data row9 col10\" >-0.109567</td>\n",
              "                        <td id=\"T_24bba0f4_37de_11eb_a34c_0242ac1c0002row9_col11\" class=\"data row9 col11\" >0.101393</td>\n",
              "            </tr>\n",
              "            <tr>\n",
              "                        <th id=\"T_24bba0f4_37de_11eb_a34c_0242ac1c0002level0_row10\" class=\"row_heading level0 row10\" >production_companies_id</th>\n",
              "                        <td id=\"T_24bba0f4_37de_11eb_a34c_0242ac1c0002row10_col0\" class=\"data row10 col0\" >0.287707</td>\n",
              "                        <td id=\"T_24bba0f4_37de_11eb_a34c_0242ac1c0002row10_col1\" class=\"data row10 col1\" >-0.135599</td>\n",
              "                        <td id=\"T_24bba0f4_37de_11eb_a34c_0242ac1c0002row10_col2\" class=\"data row10 col2\" >0.330078</td>\n",
              "                        <td id=\"T_24bba0f4_37de_11eb_a34c_0242ac1c0002row10_col3\" class=\"data row10 col3\" >-0.146485</td>\n",
              "                        <td id=\"T_24bba0f4_37de_11eb_a34c_0242ac1c0002row10_col4\" class=\"data row10 col4\" >-0.103861</td>\n",
              "                        <td id=\"T_24bba0f4_37de_11eb_a34c_0242ac1c0002row10_col5\" class=\"data row10 col5\" >-0.090927</td>\n",
              "                        <td id=\"T_24bba0f4_37de_11eb_a34c_0242ac1c0002row10_col6\" class=\"data row10 col6\" >-0.082563</td>\n",
              "                        <td id=\"T_24bba0f4_37de_11eb_a34c_0242ac1c0002row10_col7\" class=\"data row10 col7\" >-0.116741</td>\n",
              "                        <td id=\"T_24bba0f4_37de_11eb_a34c_0242ac1c0002row10_col8\" class=\"data row10 col8\" >-0.099509</td>\n",
              "                        <td id=\"T_24bba0f4_37de_11eb_a34c_0242ac1c0002row10_col9\" class=\"data row10 col9\" >-0.109567</td>\n",
              "                        <td id=\"T_24bba0f4_37de_11eb_a34c_0242ac1c0002row10_col10\" class=\"data row10 col10\" >1.000000</td>\n",
              "                        <td id=\"T_24bba0f4_37de_11eb_a34c_0242ac1c0002row10_col11\" class=\"data row10 col11\" >-0.222717</td>\n",
              "            </tr>\n",
              "            <tr>\n",
              "                        <th id=\"T_24bba0f4_37de_11eb_a34c_0242ac1c0002level0_row11\" class=\"row_heading level0 row11\" >pc_id_count</th>\n",
              "                        <td id=\"T_24bba0f4_37de_11eb_a34c_0242ac1c0002row11_col0\" class=\"data row11 col0\" >-0.246866</td>\n",
              "                        <td id=\"T_24bba0f4_37de_11eb_a34c_0242ac1c0002row11_col1\" class=\"data row11 col1\" >0.144304</td>\n",
              "                        <td id=\"T_24bba0f4_37de_11eb_a34c_0242ac1c0002row11_col2\" class=\"data row11 col2\" >-0.181285</td>\n",
              "                        <td id=\"T_24bba0f4_37de_11eb_a34c_0242ac1c0002row11_col3\" class=\"data row11 col3\" >0.089818</td>\n",
              "                        <td id=\"T_24bba0f4_37de_11eb_a34c_0242ac1c0002row11_col4\" class=\"data row11 col4\" >0.128344</td>\n",
              "                        <td id=\"T_24bba0f4_37de_11eb_a34c_0242ac1c0002row11_col5\" class=\"data row11 col5\" >0.041570</td>\n",
              "                        <td id=\"T_24bba0f4_37de_11eb_a34c_0242ac1c0002row11_col6\" class=\"data row11 col6\" >0.001795</td>\n",
              "                        <td id=\"T_24bba0f4_37de_11eb_a34c_0242ac1c0002row11_col7\" class=\"data row11 col7\" >0.108258</td>\n",
              "                        <td id=\"T_24bba0f4_37de_11eb_a34c_0242ac1c0002row11_col8\" class=\"data row11 col8\" >0.034864</td>\n",
              "                        <td id=\"T_24bba0f4_37de_11eb_a34c_0242ac1c0002row11_col9\" class=\"data row11 col9\" >0.101393</td>\n",
              "                        <td id=\"T_24bba0f4_37de_11eb_a34c_0242ac1c0002row11_col10\" class=\"data row11 col10\" >-0.222717</td>\n",
              "                        <td id=\"T_24bba0f4_37de_11eb_a34c_0242ac1c0002row11_col11\" class=\"data row11 col11\" >1.000000</td>\n",
              "            </tr>\n",
              "    </tbody></table>"
            ],
            "text/plain": [
              "<pandas.io.formats.style.Styler at 0x7f95c5854978>"
            ]
          },
          "metadata": {
            "tags": []
          },
          "execution_count": 77
        }
      ]
    },
    {
      "cell_type": "markdown",
      "metadata": {
        "id": "kw26NXPlvCa4"
      },
      "source": [
        "Par construction de *score_1*, il n'est pas choquant d'observer une forte corrélation avec *popularity*, *vote_count* et *vote_average*.\n",
        "\n",
        "On constate que bien qu'il y ait peu de données qui puissent être exploitées pour le budget et le revenu d'un film, ces deux variables sont cependant corrélées avec *score_1*, qui permet de quantifier la qualité d'un film.\n",
        "\n",
        "Par ailleurs, la compagnie de production et la durée du film ne semblent guère influencer sa qualité. "
      ]
    },
    {
      "cell_type": "markdown",
      "metadata": {
        "id": "u6LyoBTNv9jB"
      },
      "source": [
        "# Régression linéaire de *score_1* sur *budget* et *revenue*"
      ]
    },
    {
      "cell_type": "markdown",
      "metadata": {
        "id": "DtySOStF1uq-"
      },
      "source": [
        "Tout d'abord, récupérons les données nécessaires dans le dataset."
      ]
    },
    {
      "cell_type": "code",
      "metadata": {
        "id": "bbIay57mzhEy"
      },
      "source": [
        "X = pd.DataFrame(np.c_[df.budget, df.revenue], columns= ['budget', 'revenue'])\n",
        "Y = df.score_1"
      ],
      "execution_count": 78,
      "outputs": []
    },
    {
      "cell_type": "markdown",
      "metadata": {
        "id": "eC8dy4CQ2Lkv"
      },
      "source": [
        "Séparons ensuite nos deux ensembles de données en bases d'apprentissage et de test."
      ]
    },
    {
      "cell_type": "code",
      "metadata": {
        "colab": {
          "base_uri": "https://localhost:8080/"
        },
        "id": "XU2YOJmeyDvp",
        "outputId": "510e98d8-69d6-4507-ce6a-48539d7ec659"
      },
      "source": [
        "from sklearn.model_selection import train_test_split\n",
        " \n",
        "X_train, X_test, Y_train, Y_test = train_test_split(X, Y, test_size = 0.2, random_state=5)\n",
        "print(X_train.shape)\n",
        "print(X_test.shape)\n",
        "print(Y_train.shape)\n",
        "print(Y_test.shape)"
      ],
      "execution_count": 82,
      "outputs": [
        {
          "output_type": "stream",
          "text": [
            "(25756, 2)\n",
            "(6440, 2)\n",
            "(25756,)\n",
            "(6440,)\n"
          ],
          "name": "stdout"
        }
      ]
    },
    {
      "cell_type": "markdown",
      "metadata": {
        "id": "65lD77kA2X6j"
      },
      "source": [
        "On effectue alors la régression linéaire voulue."
      ]
    },
    {
      "cell_type": "code",
      "metadata": {
        "colab": {
          "base_uri": "https://localhost:8080/"
        },
        "id": "RBvgnVZMycKr",
        "outputId": "d7117173-1b20-4cc5-f993-af16a4979ed6"
      },
      "source": [
        "from sklearn.linear_model import LinearRegression\n",
        "from sklearn.metrics import mean_squared_error\n",
        " \n",
        "lmodellineaire = LinearRegression()\n",
        "lmodellineaire.fit(X_train, Y_train)\n"
      ],
      "execution_count": 83,
      "outputs": [
        {
          "output_type": "execute_result",
          "data": {
            "text/plain": [
              "LinearRegression(copy_X=True, fit_intercept=True, n_jobs=None, normalize=False)"
            ]
          },
          "metadata": {
            "tags": []
          },
          "execution_count": 83
        }
      ]
    },
    {
      "cell_type": "markdown",
      "metadata": {
        "id": "mNfhjpTn2gEg"
      },
      "source": [
        "Evaluons les performances du modèle sur l'échantillon d'apprentissage et sur celui de test :"
      ]
    },
    {
      "cell_type": "code",
      "metadata": {
        "colab": {
          "base_uri": "https://localhost:8080/"
        },
        "id": "donOvBma0f-d",
        "outputId": "2b397384-0f75-4610-b80a-918be93f42ed"
      },
      "source": [
        "# Evaluation du training set\n",
        "from sklearn.metrics import r2_score\n",
        "y_train_predict = lmodellineaire.predict(X_train)\n",
        "rmse = (np.sqrt(mean_squared_error(Y_train, y_train_predict)))\n",
        "r2 = r2_score(Y_train, y_train_predict)\n",
        " \n",
        "print(\"Performance du modèle sur la base d'apprentissage\")\n",
        "print('--------------------------------------')\n",
        "print(\"L'erreur quadratique moyenne est {}\".format(rmse))\n",
        "print('Le score R² est {}'.format(r2))\n",
        "print('\\n')\n",
        " \n",
        "# Evaluation du testing set\n",
        "y_test_predict = lmodellineaire.predict(X_test)\n",
        "rmse = (np.sqrt(mean_squared_error(Y_test, y_test_predict)))\n",
        "r2 = r2_score(Y_test, y_test_predict)\n",
        " \n",
        "print('Performance du modèle sur la base de test')\n",
        "print('--------------------------------------')\n",
        "print(\"L'erreur quadratique moyenne est {}\".format(rmse))\n",
        "print('Le score R² est {}'.format(r2))"
      ],
      "execution_count": 84,
      "outputs": [
        {
          "output_type": "stream",
          "text": [
            "Performance du modèle sur la base d'apprentissage\n",
            "--------------------------------------\n",
            "L'erreur quadratique moyenne est 2671.0388755570357\n",
            "Le score R² est 0.6120609574121265\n",
            "\n",
            "\n",
            "Performance du modèle sur la base de test\n",
            "--------------------------------------\n",
            "L'erreur quadratique moyenne est 2167.897726148996\n",
            "Le score R² est 0.648478800442039\n"
          ],
          "name": "stdout"
        }
      ]
    },
    {
      "cell_type": "markdown",
      "metadata": {
        "id": "HdynAg6X3J-C"
      },
      "source": [
        "Bien que le R² soit plutôt bon, ce modèle génère une erreur quadratique moyenne assez forte sur la valeur de *score_1* (de l'ordre de 2500). Cela est certainement dû à la dispersion de score_1 :"
      ]
    },
    {
      "cell_type": "code",
      "metadata": {
        "colab": {
          "base_uri": "https://localhost:8080/"
        },
        "id": "w4xZu2Xz22bB",
        "outputId": "558c7ba8-354e-4bb6-fe1a-8bf9b1f432c6"
      },
      "source": [
        "df.score_1.describe()"
      ],
      "execution_count": 86,
      "outputs": [
        {
          "output_type": "execute_result",
          "data": {
            "text/plain": [
              "count     32196.00000\n",
              "mean       1013.59686\n",
              "std        4169.92930\n",
              "min           0.00000\n",
              "25%          29.00000\n",
              "50%          91.20000\n",
              "75%         362.60000\n",
              "max      114007.50000\n",
              "Name: score_1, dtype: float64"
            ]
          },
          "metadata": {
            "tags": []
          },
          "execution_count": 86
        }
      ]
    },
    {
      "cell_type": "markdown",
      "metadata": {
        "id": "G5NTPtdm3ho7"
      },
      "source": [
        "Etudions les perfomances de ce modèle sur un échantillon comprenant les valeurs de *score_1* allant du 1er au 3ème quartile :"
      ]
    },
    {
      "cell_type": "code",
      "metadata": {
        "id": "krJf22UD4DOv"
      },
      "source": [
        "first_quart = np.percentile(df.score_1, 25)\n",
        "third_quart = np.percentile(df.score_1, 75)"
      ],
      "execution_count": 89,
      "outputs": []
    },
    {
      "cell_type": "code",
      "metadata": {
        "colab": {
          "base_uri": "https://localhost:8080/"
        },
        "id": "abRf5e8C4TrB",
        "outputId": "4b65799d-8bd0-4248-f737-12706241ed56"
      },
      "source": [
        "# Filtration des données\n",
        "df_quart = df[df.score_1 > first_quart]\n",
        "df_quart = df[df.score_1 < third_quart]\n",
        "\n",
        "# Création des variables nécessaires\n",
        "X = pd.DataFrame(np.c_[df_quart.budget, df_quart.revenue], columns= ['budget', 'revenue'])\n",
        "Y = df_quart.score_1\n",
        "X_train, X_test, Y_train, Y_test = train_test_split(X, Y, test_size = 0.2, random_state=5)\n",
        "\n",
        "# Lancement de la régression linéaire\n",
        "lmodellineaire = LinearRegression()\n",
        "lmodellineaire.fit(X_train, Y_train)"
      ],
      "execution_count": 101,
      "outputs": [
        {
          "output_type": "execute_result",
          "data": {
            "text/plain": [
              "LinearRegression(copy_X=True, fit_intercept=True, n_jobs=None, normalize=False)"
            ]
          },
          "metadata": {
            "tags": []
          },
          "execution_count": 101
        }
      ]
    },
    {
      "cell_type": "code",
      "metadata": {
        "colab": {
          "base_uri": "https://localhost:8080/"
        },
        "id": "hcmn_N3Y4IFF",
        "outputId": "158ee2a2-0d42-4410-aef1-82423cd9b8e6"
      },
      "source": [
        "# Evaluation du training set\n",
        "from sklearn.metrics import r2_score\n",
        "y_train_predict = lmodellineaire.predict(X_train)\n",
        "rmse = (np.sqrt(mean_squared_error(Y_train, y_train_predict)))\n",
        "r2 = r2_score(Y_train, y_train_predict)\n",
        " \n",
        "print(\"Performance du modèle sur la base d'apprentissage\")\n",
        "print('--------------------------------------')\n",
        "print(\"L'erreur quadratique moyenne est {}\".format(rmse))\n",
        "print('Le score R² est {}'.format(r2))\n",
        "print('\\n')\n",
        " \n",
        "# Evaluation du testing set\n",
        "y_test_predict = lmodellineaire.predict(X_test)\n",
        "rmse = (np.sqrt(mean_squared_error(Y_test, y_test_predict)))\n",
        "r2 = r2_score(Y_test, y_test_predict)\n",
        " \n",
        "print('Performance du modèle sur la base de test')\n",
        "print('--------------------------------------')\n",
        "print(\"L'erreur quadratique moyenne est {}\".format(rmse))\n",
        "print('Le score R² est {}'.format(r2))"
      ],
      "execution_count": 102,
      "outputs": [
        {
          "output_type": "stream",
          "text": [
            "Performance du modèle sur la base d'apprentissage\n",
            "--------------------------------------\n",
            "L'erreur quadratique moyenne est 83.63004147117628\n",
            "Le score R² est 0.0595354749583098\n",
            "\n",
            "\n",
            "Performance du modèle sur la base de test\n",
            "--------------------------------------\n",
            "L'erreur quadratique moyenne est 84.01766747313141\n",
            "Le score R² est 0.027584725994881265\n"
          ],
          "name": "stdout"
        }
      ]
    },
    {
      "cell_type": "markdown",
      "metadata": {
        "id": "LpMvtBP16ayx"
      },
      "source": [
        "Par cette nouvelle régression, nous avons certes diminué drastiquement l'erreur quadratique moyenne, cependant le R² a chuté (de 65% à 3% sur l'échantillon test)."
      ]
    }
  ]
}