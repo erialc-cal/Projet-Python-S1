{
  "nbformat": 4,
  "nbformat_minor": 0,
  "metadata": {
    "colab": {
      "name": "Modélisation",
      "provenance": [],
      "toc_visible": true,
      "include_colab_link": true
    },
    "kernelspec": {
      "name": "python3",
      "display_name": "Python 3"
    }
  },
  "cells": [
    {
      "cell_type": "markdown",
      "metadata": {
        "id": "view-in-github",
        "colab_type": "text"
      },
      "source": [
        "<a href=\"https://colab.research.google.com/github/marie-ganon/Projet-Python-S1/blob/main/Mod%C3%A9lisation.ipynb\" target=\"_parent\"><img src=\"https://colab.research.google.com/assets/colab-badge.svg\" alt=\"Open In Colab\"/></a>"
      ]
    },
    {
      "cell_type": "markdown",
      "metadata": {
        "id": "lkmXRqzPQBXu"
      },
      "source": [
        "Avant de commencer à run ce notebook, il faut charger un certain nombre de fichiers : \n",
        "\n",
        "\n",
        "```\n",
        "- test_review.csv.zip\n",
        "- train_review.csv.zip\n",
        "- unsup_filtered_review.csv.zip\n",
        "```\n",
        "\n"
      ]
    },
    {
      "cell_type": "markdown",
      "metadata": {
        "id": "TqdSATRHHShd"
      },
      "source": [
        "**Introduction** \n",
        "\n",
        "Dans cette partie, nous nous intéressons à modéliser/prédire le \"succès\" d'un film selon le critère *score_1* construit dans les parties précédentes. \n",
        "\n",
        "Nous disposons pour cela d'un certain nombre d'indicateurs plus ou moins complets. Nous avons opté pour un modèle linéaire afin de représenter l'influence entre autres du budget, du revenu ou des sentiments des commentaires sur le score.\n",
        "\n",
        "Il s'agit donc d'améliorer le modèle en l'enrichissant notamment par une analyse sentiment pour déterminer les sentiments des commentaires dont on dispose dans les bases *test_review*, *train_review* et *unsup_filtered_review*. \n",
        "\n",
        "\n",
        "\n",
        "**Intégration continue**"
      ]
    },
    {
      "cell_type": "code",
      "metadata": {
        "id": "iu_CN_JlHWlD",
        "colab": {
          "base_uri": "https://localhost:8080/",
          "height": 37
        },
        "outputId": "86995dfc-a41b-4a80-c745-65af96192e34"
      },
      "source": [
        "from IPython.display import Image\n",
        "try:\n",
        "    im = Image(\"https://travis-ci.org/sdpython/ensae_teaching_cs.png\")\n",
        "except TimeoutError:\n",
        "    im = None\n",
        "im"
      ],
      "execution_count": 257,
      "outputs": [
        {
          "output_type": "execute_result",
          "data": {
            "image/png": "[encoded data removed]",
            "text/plain": [
              "<IPython.core.display.Image object>"
            ]
          },
          "metadata": {
            "tags": []
          },
          "execution_count": 257
        }
      ]
    },
    {
      "cell_type": "markdown",
      "metadata": {
        "id": "Zct7fYd9IDeU"
      },
      "source": [
        "**Sommaire** "
      ]
    },
    {
      "cell_type": "markdown",
      "metadata": {
        "id": "SuWsgQ9JIGwS"
      },
      "source": [
        "1. Préparation des données\r\n",
        "  - Chargement des données\r\n",
        "  - Analyse de la matrice de corrélation\r\n",
        "  - Complétude des deux bases\r\n",
        "\r\n",
        "2. Régression linéaire de *score_1* sur *budget* et *revenue*\r\n",
        "  - Régression sur la base complète\r\n",
        "  - Régression sur la base tronquée\r\n",
        "  - Comparaison des deux régressions\r\n",
        "\r\n",
        "3. Analyse de sentiments\r\n",
        "  - Préparation des données\r\n",
        "  - Classificateur naïf bayésien \r\n",
        "  - Classificateur SVM\r\n",
        "\r\n",
        "4. Approfondissement de la régression linéaire\r\n",
        "  - Préparation des données\r\n",
        "  - Régression linéaire sur la base complète\r\n",
        "  - Régression linéaire sur la base tronquée\r\n",
        "  - Comparaison graphique des deux régressions\r\n",
        "  - Conclusion sur l'ajout de variables\r\n",
        "\r\n",
        "5. Ajout du semi-supervisé dans les commentaires\r\n",
        "  - Pseudo-labellisation\r\n",
        "  - Amélioration de la régression linéaire\r\n",
        "  - Visualisation\r\n",
        "\r\n"
      ]
    },
    {
      "cell_type": "markdown",
      "metadata": {
        "id": "e5RL1sD1QPb9"
      },
      "source": [
        "Import des modules nécessaires"
      ]
    },
    {
      "cell_type": "code",
      "metadata": {
        "id": "VhSzdGb1o4NV"
      },
      "source": [
        "import numpy as np\n",
        "import pandas as pd\n",
        "import matplotlib.pyplot as plt\n",
        "import plotly.express as px\n",
        "from urllib import request\n",
        "from wordcloud import WordCloud, STOPWORDS \n",
        "import csv\n",
        "import bs4\n",
        "from tqdm.notebook import trange, tqdm\n",
        "import seaborn as sns\n",
        "import numpy as np\n",
        "import random as rd"
      ],
      "execution_count": 258,
      "outputs": []
    },
    {
      "cell_type": "markdown",
      "metadata": {
        "id": "7rzwhEzkIIPj"
      },
      "source": [
        "# Préparation"
      ]
    },
    {
      "cell_type": "markdown",
      "metadata": {
        "id": "haG3mLatIPMP"
      },
      "source": [
        "## Chargement des données"
      ]
    },
    {
      "cell_type": "code",
      "metadata": {
        "id": "67siAA_8vW-W"
      },
      "source": [
        "rd.seed(42)"
      ],
      "execution_count": 259,
      "outputs": []
    },
    {
      "cell_type": "markdown",
      "metadata": {
        "id": "F1Q-XYZWNdoJ"
      },
      "source": [
        "Import des bases : \n",
        "- *df* contient la base TMDb\n",
        "- *train_review* contient la partie entraînée sur les reviews labellisés\n",
        "- *test_review* contient la partie test sur les reviews labellisés\n",
        "- *unsup_filtered_review* contient les reviews non labellisés filtrés sur les films contenus dans *df*\n",
        "\n"
      ]
    },
    {
      "cell_type": "code",
      "metadata": {
        "id": "m-b-E64IpT6l"
      },
      "source": [
        " df = pd.read_csv('https://raw.githubusercontent.com/marie-ganon/Projet-Python-S1/main/Bases_import%C3%A9es/base.csv')"
      ],
      "execution_count": 260,
      "outputs": []
    },
    {
      "cell_type": "markdown",
      "metadata": {
        "id": "kQVnDM9M1KsO"
      },
      "source": [
        "Avant de modéliser quoi que ce soit, nous allons supprimer les 'NaN' de la base de données."
      ]
    },
    {
      "cell_type": "code",
      "metadata": {
        "id": "rxaEYJJpyhUu"
      },
      "source": [
        "df = df.dropna()\r\n",
        "df = df.drop(columns='Unnamed: 0')"
      ],
      "execution_count": 261,
      "outputs": []
    },
    {
      "cell_type": "code",
      "metadata": {
        "id": "VSuRl-8hEkzk",
        "colab": {
          "base_uri": "https://localhost:8080/"
        },
        "outputId": "c34a888a-eab0-463c-8046-074389589589"
      },
      "source": [
        "!ls"
      ],
      "execution_count": null,
      "outputs": [
        {
          "output_type": "stream",
          "text": [
            "sample_data  temp_dir  test_review.csv.zip  train_review.csv.zip\n"
          ],
          "name": "stdout"
        }
      ]
    },
    {
      "cell_type": "code",
      "metadata": {
        "id": "tfr3ENrPF-zT"
      },
      "source": [
        "# Fichier temporaire\r\n",
        "\r\n",
        "import tempfile\r\n",
        "\r\n",
        "temp_dir = tempfile.mkdtemp()"
      ],
      "execution_count": 6,
      "outputs": []
    },
    {
      "cell_type": "code",
      "metadata": {
        "id": "R8yAttJ9N8Ak"
      },
      "source": [
        "# Pour dezipper le csv disponible dans le git \n",
        "\n",
        "import zipfile\n",
        "\n",
        "# IMPORTER LES FICHIERS TEST_REVIEW.CSV.ZIP et TRAIN_REVIEW.CSV.ZIP\n",
        "with zipfile.ZipFile('test_review.csv.zip', 'r') as zip1, zipfile.ZipFile('train_review.csv.zip', 'r') as zip2 :\n",
        "    zip1.extractall('temp_dir')\n",
        "    zip2.extractall('temp_dir')"
      ],
      "execution_count": 12,
      "outputs": []
    },
    {
      "cell_type": "code",
      "metadata": {
        "id": "Q_Go9GCtGEfO"
      },
      "source": [
        "test_review = pd.read_csv(r'temp_dir/test_review .csv', sep=',', low_memory = False)\r\n",
        "train_review = pd.read_csv(r'temp_dir/train_review.csv', sep=',', low_memory = False)"
      ],
      "execution_count": 13,
      "outputs": []
    },
    {
      "cell_type": "markdown",
      "metadata": {
        "id": "E_3_HszvNg0s"
      },
      "source": [
        "## Analyse de la matrice de corrélation de *df*"
      ]
    },
    {
      "cell_type": "markdown",
      "metadata": {
        "id": "ufujyh3hu8HR"
      },
      "source": [
        "Rappelons la matrice de corrélation de la base :"
      ]
    },
    {
      "cell_type": "code",
      "metadata": {
        "id": "_xh2xAXwpiF3",
        "colab": {
          "base_uri": "https://localhost:8080/",
          "height": 312
        },
        "outputId": "de122f27-aca9-4f49-9436-c718479140da"
      },
      "source": [
        "corr = df.corr()\n",
        "corr.style.background_gradient(cmap = 'coolwarm')"
      ],
      "execution_count": 262,
      "outputs": [
        {
          "output_type": "execute_result",
          "data": {
            "text/html": [
              "<style  type=\"text/css\" >\n",
              "#T_3057f7a8_3e52_11eb_985c_0242ac1c0002row0_col0,#T_3057f7a8_3e52_11eb_985c_0242ac1c0002row1_col1,#T_3057f7a8_3e52_11eb_985c_0242ac1c0002row2_col2,#T_3057f7a8_3e52_11eb_985c_0242ac1c0002row3_col3,#T_3057f7a8_3e52_11eb_985c_0242ac1c0002row4_col4,#T_3057f7a8_3e52_11eb_985c_0242ac1c0002row5_col5,#T_3057f7a8_3e52_11eb_985c_0242ac1c0002row6_col6,#T_3057f7a8_3e52_11eb_985c_0242ac1c0002row7_col7,#T_3057f7a8_3e52_11eb_985c_0242ac1c0002row8_col8,#T_3057f7a8_3e52_11eb_985c_0242ac1c0002row9_col9,#T_3057f7a8_3e52_11eb_985c_0242ac1c0002row10_col10,#T_3057f7a8_3e52_11eb_985c_0242ac1c0002row11_col11{\n",
              "            background-color:  #b40426;\n",
              "            color:  #f1f1f1;\n",
              "        }#T_3057f7a8_3e52_11eb_985c_0242ac1c0002row0_col1,#T_3057f7a8_3e52_11eb_985c_0242ac1c0002row2_col11{\n",
              "            background-color:  #465ecf;\n",
              "            color:  #f1f1f1;\n",
              "        }#T_3057f7a8_3e52_11eb_985c_0242ac1c0002row0_col2{\n",
              "            background-color:  #f6a283;\n",
              "            color:  #000000;\n",
              "        }#T_3057f7a8_3e52_11eb_985c_0242ac1c0002row0_col3{\n",
              "            background-color:  #4257c9;\n",
              "            color:  #f1f1f1;\n",
              "        }#T_3057f7a8_3e52_11eb_985c_0242ac1c0002row0_col4,#T_3057f7a8_3e52_11eb_985c_0242ac1c0002row6_col2{\n",
              "            background-color:  #455cce;\n",
              "            color:  #f1f1f1;\n",
              "        }#T_3057f7a8_3e52_11eb_985c_0242ac1c0002row0_col5,#T_3057f7a8_3e52_11eb_985c_0242ac1c0002row0_col6,#T_3057f7a8_3e52_11eb_985c_0242ac1c0002row2_col8,#T_3057f7a8_3e52_11eb_985c_0242ac1c0002row6_col0,#T_3057f7a8_3e52_11eb_985c_0242ac1c0002row10_col1,#T_3057f7a8_3e52_11eb_985c_0242ac1c0002row10_col3,#T_3057f7a8_3e52_11eb_985c_0242ac1c0002row10_col4,#T_3057f7a8_3e52_11eb_985c_0242ac1c0002row10_col7,#T_3057f7a8_3e52_11eb_985c_0242ac1c0002row10_col9,#T_3057f7a8_3e52_11eb_985c_0242ac1c0002row10_col11,#T_3057f7a8_3e52_11eb_985c_0242ac1c0002row11_col2,#T_3057f7a8_3e52_11eb_985c_0242ac1c0002row11_col10{\n",
              "            background-color:  #3b4cc0;\n",
              "            color:  #f1f1f1;\n",
              "        }#T_3057f7a8_3e52_11eb_985c_0242ac1c0002row0_col7,#T_3057f7a8_3e52_11eb_985c_0242ac1c0002row2_col4,#T_3057f7a8_3e52_11eb_985c_0242ac1c0002row5_col0,#T_3057f7a8_3e52_11eb_985c_0242ac1c0002row10_col5{\n",
              "            background-color:  #4b64d5;\n",
              "            color:  #f1f1f1;\n",
              "        }#T_3057f7a8_3e52_11eb_985c_0242ac1c0002row0_col8{\n",
              "            background-color:  #3f53c6;\n",
              "            color:  #f1f1f1;\n",
              "        }#T_3057f7a8_3e52_11eb_985c_0242ac1c0002row0_col9{\n",
              "            background-color:  #4961d2;\n",
              "            color:  #f1f1f1;\n",
              "        }#T_3057f7a8_3e52_11eb_985c_0242ac1c0002row0_col10{\n",
              "            background-color:  #d2dbe8;\n",
              "            color:  #000000;\n",
              "        }#T_3057f7a8_3e52_11eb_985c_0242ac1c0002row0_col11{\n",
              "            background-color:  #3c4ec2;\n",
              "            color:  #f1f1f1;\n",
              "        }#T_3057f7a8_3e52_11eb_985c_0242ac1c0002row1_col0,#T_3057f7a8_3e52_11eb_985c_0242ac1c0002row3_col0{\n",
              "            background-color:  #5a78e4;\n",
              "            color:  #000000;\n",
              "        }#T_3057f7a8_3e52_11eb_985c_0242ac1c0002row1_col2,#T_3057f7a8_3e52_11eb_985c_0242ac1c0002row5_col2,#T_3057f7a8_3e52_11eb_985c_0242ac1c0002row7_col10{\n",
              "            background-color:  #5470de;\n",
              "            color:  #000000;\n",
              "        }#T_3057f7a8_3e52_11eb_985c_0242ac1c0002row1_col3{\n",
              "            background-color:  #d9dce1;\n",
              "            color:  #000000;\n",
              "        }#T_3057f7a8_3e52_11eb_985c_0242ac1c0002row1_col4{\n",
              "            background-color:  #ef886b;\n",
              "            color:  #000000;\n",
              "        }#T_3057f7a8_3e52_11eb_985c_0242ac1c0002row1_col5,#T_3057f7a8_3e52_11eb_985c_0242ac1c0002row8_col7{\n",
              "            background-color:  #abc8fd;\n",
              "            color:  #000000;\n",
              "        }#T_3057f7a8_3e52_11eb_985c_0242ac1c0002row1_col6,#T_3057f7a8_3e52_11eb_985c_0242ac1c0002row3_col8,#T_3057f7a8_3e52_11eb_985c_0242ac1c0002row5_col4{\n",
              "            background-color:  #96b7ff;\n",
              "            color:  #000000;\n",
              "        }#T_3057f7a8_3e52_11eb_985c_0242ac1c0002row1_col7{\n",
              "            background-color:  #f7aa8c;\n",
              "            color:  #000000;\n",
              "        }#T_3057f7a8_3e52_11eb_985c_0242ac1c0002row1_col8,#T_3057f7a8_3e52_11eb_985c_0242ac1c0002row6_col7{\n",
              "            background-color:  #9ebeff;\n",
              "            color:  #000000;\n",
              "        }#T_3057f7a8_3e52_11eb_985c_0242ac1c0002row1_col9{\n",
              "            background-color:  #f7b89c;\n",
              "            color:  #000000;\n",
              "        }#T_3057f7a8_3e52_11eb_985c_0242ac1c0002row1_col10,#T_3057f7a8_3e52_11eb_985c_0242ac1c0002row2_col1{\n",
              "            background-color:  #4e68d8;\n",
              "            color:  #000000;\n",
              "        }#T_3057f7a8_3e52_11eb_985c_0242ac1c0002row1_col11,#T_3057f7a8_3e52_11eb_985c_0242ac1c0002row6_col3,#T_3057f7a8_3e52_11eb_985c_0242ac1c0002row8_col3{\n",
              "            background-color:  #9abbff;\n",
              "            color:  #000000;\n",
              "        }#T_3057f7a8_3e52_11eb_985c_0242ac1c0002row2_col0{\n",
              "            background-color:  #f59d7e;\n",
              "            color:  #000000;\n",
              "        }#T_3057f7a8_3e52_11eb_985c_0242ac1c0002row2_col3,#T_3057f7a8_3e52_11eb_985c_0242ac1c0002row8_col0,#T_3057f7a8_3e52_11eb_985c_0242ac1c0002row8_col10{\n",
              "            background-color:  #5d7ce6;\n",
              "            color:  #000000;\n",
              "        }#T_3057f7a8_3e52_11eb_985c_0242ac1c0002row2_col5{\n",
              "            background-color:  #506bda;\n",
              "            color:  #000000;\n",
              "        }#T_3057f7a8_3e52_11eb_985c_0242ac1c0002row2_col6,#T_3057f7a8_3e52_11eb_985c_0242ac1c0002row2_col9{\n",
              "            background-color:  #536edd;\n",
              "            color:  #000000;\n",
              "        }#T_3057f7a8_3e52_11eb_985c_0242ac1c0002row2_col7{\n",
              "            background-color:  #5572df;\n",
              "            color:  #000000;\n",
              "        }#T_3057f7a8_3e52_11eb_985c_0242ac1c0002row2_col10{\n",
              "            background-color:  #dadce0;\n",
              "            color:  #000000;\n",
              "        }#T_3057f7a8_3e52_11eb_985c_0242ac1c0002row3_col1{\n",
              "            background-color:  #dbdcde;\n",
              "            color:  #000000;\n",
              "        }#T_3057f7a8_3e52_11eb_985c_0242ac1c0002row3_col2{\n",
              "            background-color:  #688aef;\n",
              "            color:  #000000;\n",
              "        }#T_3057f7a8_3e52_11eb_985c_0242ac1c0002row3_col4{\n",
              "            background-color:  #ead5c9;\n",
              "            color:  #000000;\n",
              "        }#T_3057f7a8_3e52_11eb_985c_0242ac1c0002row3_col5{\n",
              "            background-color:  #98b9ff;\n",
              "            color:  #000000;\n",
              "        }#T_3057f7a8_3e52_11eb_985c_0242ac1c0002row3_col6{\n",
              "            background-color:  #aec9fc;\n",
              "            color:  #000000;\n",
              "        }#T_3057f7a8_3e52_11eb_985c_0242ac1c0002row3_col7,#T_3057f7a8_3e52_11eb_985c_0242ac1c0002row7_col3{\n",
              "            background-color:  #f2cbb7;\n",
              "            color:  #000000;\n",
              "        }#T_3057f7a8_3e52_11eb_985c_0242ac1c0002row3_col9{\n",
              "            background-color:  #f0cdbb;\n",
              "            color:  #000000;\n",
              "        }#T_3057f7a8_3e52_11eb_985c_0242ac1c0002row3_col10{\n",
              "            background-color:  #516ddb;\n",
              "            color:  #000000;\n",
              "        }#T_3057f7a8_3e52_11eb_985c_0242ac1c0002row3_col11,#T_3057f7a8_3e52_11eb_985c_0242ac1c0002row6_col4,#T_3057f7a8_3e52_11eb_985c_0242ac1c0002row6_col11,#T_3057f7a8_3e52_11eb_985c_0242ac1c0002row11_col6{\n",
              "            background-color:  #86a9fc;\n",
              "            color:  #000000;\n",
              "        }#T_3057f7a8_3e52_11eb_985c_0242ac1c0002row4_col0,#T_3057f7a8_3e52_11eb_985c_0242ac1c0002row6_col8,#T_3057f7a8_3e52_11eb_985c_0242ac1c0002row9_col2{\n",
              "            background-color:  #6282ea;\n",
              "            color:  #000000;\n",
              "        }#T_3057f7a8_3e52_11eb_985c_0242ac1c0002row4_col1{\n",
              "            background-color:  #ee8468;\n",
              "            color:  #000000;\n",
              "        }#T_3057f7a8_3e52_11eb_985c_0242ac1c0002row4_col2,#T_3057f7a8_3e52_11eb_985c_0242ac1c0002row5_col10{\n",
              "            background-color:  #5b7ae5;\n",
              "            color:  #000000;\n",
              "        }#T_3057f7a8_3e52_11eb_985c_0242ac1c0002row4_col3{\n",
              "            background-color:  #ead4c8;\n",
              "            color:  #000000;\n",
              "        }#T_3057f7a8_3e52_11eb_985c_0242ac1c0002row4_col5,#T_3057f7a8_3e52_11eb_985c_0242ac1c0002row4_col6,#T_3057f7a8_3e52_11eb_985c_0242ac1c0002row6_col9{\n",
              "            background-color:  #9fbfff;\n",
              "            color:  #000000;\n",
              "        }#T_3057f7a8_3e52_11eb_985c_0242ac1c0002row4_col7{\n",
              "            background-color:  #e8765c;\n",
              "            color:  #000000;\n",
              "        }#T_3057f7a8_3e52_11eb_985c_0242ac1c0002row4_col8{\n",
              "            background-color:  #b3cdfb;\n",
              "            color:  #000000;\n",
              "        }#T_3057f7a8_3e52_11eb_985c_0242ac1c0002row4_col9,#T_3057f7a8_3e52_11eb_985c_0242ac1c0002row9_col4{\n",
              "            background-color:  #ec8165;\n",
              "            color:  #000000;\n",
              "        }#T_3057f7a8_3e52_11eb_985c_0242ac1c0002row4_col10,#T_3057f7a8_3e52_11eb_985c_0242ac1c0002row9_col10{\n",
              "            background-color:  #5673e0;\n",
              "            color:  #000000;\n",
              "        }#T_3057f7a8_3e52_11eb_985c_0242ac1c0002row4_col11{\n",
              "            background-color:  #97b8ff;\n",
              "            color:  #000000;\n",
              "        }#T_3057f7a8_3e52_11eb_985c_0242ac1c0002row5_col1{\n",
              "            background-color:  #aac7fd;\n",
              "            color:  #000000;\n",
              "        }#T_3057f7a8_3e52_11eb_985c_0242ac1c0002row5_col3{\n",
              "            background-color:  #93b5fe;\n",
              "            color:  #000000;\n",
              "        }#T_3057f7a8_3e52_11eb_985c_0242ac1c0002row5_col6{\n",
              "            background-color:  #bad0f8;\n",
              "            color:  #000000;\n",
              "        }#T_3057f7a8_3e52_11eb_985c_0242ac1c0002row5_col7{\n",
              "            background-color:  #9dbdff;\n",
              "            color:  #000000;\n",
              "        }#T_3057f7a8_3e52_11eb_985c_0242ac1c0002row5_col8{\n",
              "            background-color:  #5875e1;\n",
              "            color:  #000000;\n",
              "        }#T_3057f7a8_3e52_11eb_985c_0242ac1c0002row5_col9{\n",
              "            background-color:  #9bbcff;\n",
              "            color:  #000000;\n",
              "        }#T_3057f7a8_3e52_11eb_985c_0242ac1c0002row5_col11{\n",
              "            background-color:  #8caffe;\n",
              "            color:  #000000;\n",
              "        }#T_3057f7a8_3e52_11eb_985c_0242ac1c0002row6_col1{\n",
              "            background-color:  #85a8fc;\n",
              "            color:  #000000;\n",
              "        }#T_3057f7a8_3e52_11eb_985c_0242ac1c0002row6_col5{\n",
              "            background-color:  #adc9fd;\n",
              "            color:  #000000;\n",
              "        }#T_3057f7a8_3e52_11eb_985c_0242ac1c0002row6_col10,#T_3057f7a8_3e52_11eb_985c_0242ac1c0002row10_col6{\n",
              "            background-color:  #5977e3;\n",
              "            color:  #000000;\n",
              "        }#T_3057f7a8_3e52_11eb_985c_0242ac1c0002row7_col0,#T_3057f7a8_3e52_11eb_985c_0242ac1c0002row9_col0{\n",
              "            background-color:  #6485ec;\n",
              "            color:  #000000;\n",
              "        }#T_3057f7a8_3e52_11eb_985c_0242ac1c0002row7_col1{\n",
              "            background-color:  #f7a889;\n",
              "            color:  #000000;\n",
              "        }#T_3057f7a8_3e52_11eb_985c_0242ac1c0002row7_col2,#T_3057f7a8_3e52_11eb_985c_0242ac1c0002row8_col5{\n",
              "            background-color:  #6384eb;\n",
              "            color:  #000000;\n",
              "        }#T_3057f7a8_3e52_11eb_985c_0242ac1c0002row7_col4{\n",
              "            background-color:  #e9785d;\n",
              "            color:  #000000;\n",
              "        }#T_3057f7a8_3e52_11eb_985c_0242ac1c0002row7_col5,#T_3057f7a8_3e52_11eb_985c_0242ac1c0002row9_col5{\n",
              "            background-color:  #a5c3fe;\n",
              "            color:  #000000;\n",
              "        }#T_3057f7a8_3e52_11eb_985c_0242ac1c0002row7_col6{\n",
              "            background-color:  #b2ccfb;\n",
              "            color:  #000000;\n",
              "        }#T_3057f7a8_3e52_11eb_985c_0242ac1c0002row7_col8{\n",
              "            background-color:  #a9c6fd;\n",
              "            color:  #000000;\n",
              "        }#T_3057f7a8_3e52_11eb_985c_0242ac1c0002row7_col9,#T_3057f7a8_3e52_11eb_985c_0242ac1c0002row9_col7{\n",
              "            background-color:  #b50927;\n",
              "            color:  #f1f1f1;\n",
              "        }#T_3057f7a8_3e52_11eb_985c_0242ac1c0002row7_col11{\n",
              "            background-color:  #8fb1fe;\n",
              "            color:  #000000;\n",
              "        }#T_3057f7a8_3e52_11eb_985c_0242ac1c0002row8_col1{\n",
              "            background-color:  #a6c4fe;\n",
              "            color:  #000000;\n",
              "        }#T_3057f7a8_3e52_11eb_985c_0242ac1c0002row8_col2{\n",
              "            background-color:  #4a63d3;\n",
              "            color:  #f1f1f1;\n",
              "        }#T_3057f7a8_3e52_11eb_985c_0242ac1c0002row8_col4,#T_3057f7a8_3e52_11eb_985c_0242ac1c0002row9_col6{\n",
              "            background-color:  #b5cdfa;\n",
              "            color:  #000000;\n",
              "        }#T_3057f7a8_3e52_11eb_985c_0242ac1c0002row8_col6,#T_3057f7a8_3e52_11eb_985c_0242ac1c0002row11_col4{\n",
              "            background-color:  #7ea1fa;\n",
              "            color:  #000000;\n",
              "        }#T_3057f7a8_3e52_11eb_985c_0242ac1c0002row8_col9,#T_3057f7a8_3e52_11eb_985c_0242ac1c0002row9_col8{\n",
              "            background-color:  #a3c2fe;\n",
              "            color:  #000000;\n",
              "        }#T_3057f7a8_3e52_11eb_985c_0242ac1c0002row8_col11{\n",
              "            background-color:  #82a6fb;\n",
              "            color:  #000000;\n",
              "        }#T_3057f7a8_3e52_11eb_985c_0242ac1c0002row9_col1{\n",
              "            background-color:  #f7b599;\n",
              "            color:  #000000;\n",
              "        }#T_3057f7a8_3e52_11eb_985c_0242ac1c0002row9_col3{\n",
              "            background-color:  #f1cdba;\n",
              "            color:  #000000;\n",
              "        }#T_3057f7a8_3e52_11eb_985c_0242ac1c0002row9_col11{\n",
              "            background-color:  #8db0fe;\n",
              "            color:  #000000;\n",
              "        }#T_3057f7a8_3e52_11eb_985c_0242ac1c0002row10_col0{\n",
              "            background-color:  #d3dbe7;\n",
              "            color:  #000000;\n",
              "        }#T_3057f7a8_3e52_11eb_985c_0242ac1c0002row10_col2{\n",
              "            background-color:  #d4dbe6;\n",
              "            color:  #000000;\n",
              "        }#T_3057f7a8_3e52_11eb_985c_0242ac1c0002row10_col8{\n",
              "            background-color:  #4055c8;\n",
              "            color:  #f1f1f1;\n",
              "        }#T_3057f7a8_3e52_11eb_985c_0242ac1c0002row11_col0{\n",
              "            background-color:  #3d50c3;\n",
              "            color:  #f1f1f1;\n",
              "        }#T_3057f7a8_3e52_11eb_985c_0242ac1c0002row11_col1{\n",
              "            background-color:  #89acfd;\n",
              "            color:  #000000;\n",
              "        }#T_3057f7a8_3e52_11eb_985c_0242ac1c0002row11_col3{\n",
              "            background-color:  #7093f3;\n",
              "            color:  #000000;\n",
              "        }#T_3057f7a8_3e52_11eb_985c_0242ac1c0002row11_col5{\n",
              "            background-color:  #7da0f9;\n",
              "            color:  #000000;\n",
              "        }#T_3057f7a8_3e52_11eb_985c_0242ac1c0002row11_col7{\n",
              "            background-color:  #779af7;\n",
              "            color:  #000000;\n",
              "        }#T_3057f7a8_3e52_11eb_985c_0242ac1c0002row11_col8{\n",
              "            background-color:  #6788ee;\n",
              "            color:  #000000;\n",
              "        }#T_3057f7a8_3e52_11eb_985c_0242ac1c0002row11_col9{\n",
              "            background-color:  #7396f5;\n",
              "            color:  #000000;\n",
              "        }</style><table id=\"T_3057f7a8_3e52_11eb_985c_0242ac1c0002\" ><thead>    <tr>        <th class=\"blank level0\" ></th>        <th class=\"col_heading level0 col0\" >index</th>        <th class=\"col_heading level0 col1\" >budget</th>        <th class=\"col_heading level0 col2\" >id</th>        <th class=\"col_heading level0 col3\" >popularity</th>        <th class=\"col_heading level0 col4\" >revenue</th>        <th class=\"col_heading level0 col5\" >runtime</th>        <th class=\"col_heading level0 col6\" >vote_average</th>        <th class=\"col_heading level0 col7\" >vote_count</th>        <th class=\"col_heading level0 col8\" >collection</th>        <th class=\"col_heading level0 col9\" >score_1</th>        <th class=\"col_heading level0 col10\" >production_companies_id</th>        <th class=\"col_heading level0 col11\" >pc_id_count</th>    </tr></thead><tbody>\n",
              "                <tr>\n",
              "                        <th id=\"T_3057f7a8_3e52_11eb_985c_0242ac1c0002level0_row0\" class=\"row_heading level0 row0\" >index</th>\n",
              "                        <td id=\"T_3057f7a8_3e52_11eb_985c_0242ac1c0002row0_col0\" class=\"data row0 col0\" >1.000000</td>\n",
              "                        <td id=\"T_3057f7a8_3e52_11eb_985c_0242ac1c0002row0_col1\" class=\"data row0 col1\" >-0.111052</td>\n",
              "                        <td id=\"T_3057f7a8_3e52_11eb_985c_0242ac1c0002row0_col2\" class=\"data row0 col2\" >0.675912</td>\n",
              "                        <td id=\"T_3057f7a8_3e52_11eb_985c_0242ac1c0002row0_col3\" class=\"data row0 col3\" >-0.113959</td>\n",
              "                        <td id=\"T_3057f7a8_3e52_11eb_985c_0242ac1c0002row0_col4\" class=\"data row0 col4\" >-0.083023</td>\n",
              "                        <td id=\"T_3057f7a8_3e52_11eb_985c_0242ac1c0002row0_col5\" class=\"data row0 col5\" >-0.171586</td>\n",
              "                        <td id=\"T_3057f7a8_3e52_11eb_985c_0242ac1c0002row0_col6\" class=\"data row0 col6\" >-0.239960</td>\n",
              "                        <td id=\"T_3057f7a8_3e52_11eb_985c_0242ac1c0002row0_col7\" class=\"data row0 col7\" >-0.071127</td>\n",
              "                        <td id=\"T_3057f7a8_3e52_11eb_985c_0242ac1c0002row0_col8\" class=\"data row0 col8\" >-0.102720</td>\n",
              "                        <td id=\"T_3057f7a8_3e52_11eb_985c_0242ac1c0002row0_col9\" class=\"data row0 col9\" >-0.072469</td>\n",
              "                        <td id=\"T_3057f7a8_3e52_11eb_985c_0242ac1c0002row0_col10\" class=\"data row0 col10\" >0.331970</td>\n",
              "                        <td id=\"T_3057f7a8_3e52_11eb_985c_0242ac1c0002row0_col11\" class=\"data row0 col11\" >-0.229618</td>\n",
              "            </tr>\n",
              "            <tr>\n",
              "                        <th id=\"T_3057f7a8_3e52_11eb_985c_0242ac1c0002level0_row1\" class=\"row_heading level0 row1\" >budget</th>\n",
              "                        <td id=\"T_3057f7a8_3e52_11eb_985c_0242ac1c0002row1_col0\" class=\"data row1 col0\" >-0.111052</td>\n",
              "                        <td id=\"T_3057f7a8_3e52_11eb_985c_0242ac1c0002row1_col1\" class=\"data row1 col1\" >1.000000</td>\n",
              "                        <td id=\"T_3057f7a8_3e52_11eb_985c_0242ac1c0002row1_col2\" class=\"data row1 col2\" >-0.086690</td>\n",
              "                        <td id=\"T_3057f7a8_3e52_11eb_985c_0242ac1c0002row1_col3\" class=\"data row1 col3\" >0.412162</td>\n",
              "                        <td id=\"T_3057f7a8_3e52_11eb_985c_0242ac1c0002row1_col4\" class=\"data row1 col4\" >0.766446</td>\n",
              "                        <td id=\"T_3057f7a8_3e52_11eb_985c_0242ac1c0002row1_col5\" class=\"data row1 col5\" >0.225766</td>\n",
              "                        <td id=\"T_3057f7a8_3e52_11eb_985c_0242ac1c0002row1_col6\" class=\"data row1 col6\" >0.103634</td>\n",
              "                        <td id=\"T_3057f7a8_3e52_11eb_985c_0242ac1c0002row1_col7\" class=\"data row1 col7\" >0.665415</td>\n",
              "                        <td id=\"T_3057f7a8_3e52_11eb_985c_0242ac1c0002row1_col8\" class=\"data row1 col8\" >0.212146</td>\n",
              "                        <td id=\"T_3057f7a8_3e52_11eb_985c_0242ac1c0002row1_col9\" class=\"data row1 col9\" >0.622080</td>\n",
              "                        <td id=\"T_3057f7a8_3e52_11eb_985c_0242ac1c0002row1_col10\" class=\"data row1 col10\" >-0.160624</td>\n",
              "                        <td id=\"T_3057f7a8_3e52_11eb_985c_0242ac1c0002row1_col11\" class=\"data row1 col11\" >0.117158</td>\n",
              "            </tr>\n",
              "            <tr>\n",
              "                        <th id=\"T_3057f7a8_3e52_11eb_985c_0242ac1c0002level0_row2\" class=\"row_heading level0 row2\" >id</th>\n",
              "                        <td id=\"T_3057f7a8_3e52_11eb_985c_0242ac1c0002row2_col0\" class=\"data row2 col0\" >0.675912</td>\n",
              "                        <td id=\"T_3057f7a8_3e52_11eb_985c_0242ac1c0002row2_col1\" class=\"data row2 col1\" >-0.086690</td>\n",
              "                        <td id=\"T_3057f7a8_3e52_11eb_985c_0242ac1c0002row2_col2\" class=\"data row2 col2\" >1.000000</td>\n",
              "                        <td id=\"T_3057f7a8_3e52_11eb_985c_0242ac1c0002row2_col3\" class=\"data row2 col3\" >-0.014127</td>\n",
              "                        <td id=\"T_3057f7a8_3e52_11eb_985c_0242ac1c0002row2_col4\" class=\"data row2 col4\" >-0.060123</td>\n",
              "                        <td id=\"T_3057f7a8_3e52_11eb_985c_0242ac1c0002row2_col5\" class=\"data row2 col5\" >-0.086692</td>\n",
              "                        <td id=\"T_3057f7a8_3e52_11eb_985c_0242ac1c0002row2_col6\" class=\"data row2 col6\" >-0.141201</td>\n",
              "                        <td id=\"T_3057f7a8_3e52_11eb_985c_0242ac1c0002row2_col7\" class=\"data row2 col7\" >-0.033574</td>\n",
              "                        <td id=\"T_3057f7a8_3e52_11eb_985c_0242ac1c0002row2_col8\" class=\"data row2 col8\" >-0.122764</td>\n",
              "                        <td id=\"T_3057f7a8_3e52_11eb_985c_0242ac1c0002row2_col9\" class=\"data row2 col9\" >-0.034831</td>\n",
              "                        <td id=\"T_3057f7a8_3e52_11eb_985c_0242ac1c0002row2_col10\" class=\"data row2 col10\" >0.367358</td>\n",
              "                        <td id=\"T_3057f7a8_3e52_11eb_985c_0242ac1c0002row2_col11\" class=\"data row2 col11\" >-0.186671</td>\n",
              "            </tr>\n",
              "            <tr>\n",
              "                        <th id=\"T_3057f7a8_3e52_11eb_985c_0242ac1c0002level0_row3\" class=\"row_heading level0 row3\" >popularity</th>\n",
              "                        <td id=\"T_3057f7a8_3e52_11eb_985c_0242ac1c0002row3_col0\" class=\"data row3 col0\" >-0.113959</td>\n",
              "                        <td id=\"T_3057f7a8_3e52_11eb_985c_0242ac1c0002row3_col1\" class=\"data row3 col1\" >0.412162</td>\n",
              "                        <td id=\"T_3057f7a8_3e52_11eb_985c_0242ac1c0002row3_col2\" class=\"data row3 col2\" >-0.014127</td>\n",
              "                        <td id=\"T_3057f7a8_3e52_11eb_985c_0242ac1c0002row3_col3\" class=\"data row3 col3\" >1.000000</td>\n",
              "                        <td id=\"T_3057f7a8_3e52_11eb_985c_0242ac1c0002row3_col4\" class=\"data row3 col4\" >0.495219</td>\n",
              "                        <td id=\"T_3057f7a8_3e52_11eb_985c_0242ac1c0002row3_col5\" class=\"data row3 col5\" >0.161276</td>\n",
              "                        <td id=\"T_3057f7a8_3e52_11eb_985c_0242ac1c0002row3_col6\" class=\"data row3 col6\" >0.186538</td>\n",
              "                        <td id=\"T_3057f7a8_3e52_11eb_985c_0242ac1c0002row3_col7\" class=\"data row3 col7\" >0.544388</td>\n",
              "                        <td id=\"T_3057f7a8_3e52_11eb_985c_0242ac1c0002row3_col8\" class=\"data row3 col8\" >0.184730</td>\n",
              "                        <td id=\"T_3057f7a8_3e52_11eb_985c_0242ac1c0002row3_col9\" class=\"data row3 col9\" >0.534342</td>\n",
              "                        <td id=\"T_3057f7a8_3e52_11eb_985c_0242ac1c0002row3_col10\" class=\"data row3 col10\" >-0.143197</td>\n",
              "                        <td id=\"T_3057f7a8_3e52_11eb_985c_0242ac1c0002row3_col11\" class=\"data row3 col11\" >0.050937</td>\n",
              "            </tr>\n",
              "            <tr>\n",
              "                        <th id=\"T_3057f7a8_3e52_11eb_985c_0242ac1c0002level0_row4\" class=\"row_heading level0 row4\" >revenue</th>\n",
              "                        <td id=\"T_3057f7a8_3e52_11eb_985c_0242ac1c0002row4_col0\" class=\"data row4 col0\" >-0.083023</td>\n",
              "                        <td id=\"T_3057f7a8_3e52_11eb_985c_0242ac1c0002row4_col1\" class=\"data row4 col1\" >0.766446</td>\n",
              "                        <td id=\"T_3057f7a8_3e52_11eb_985c_0242ac1c0002row4_col2\" class=\"data row4 col2\" >-0.060123</td>\n",
              "                        <td id=\"T_3057f7a8_3e52_11eb_985c_0242ac1c0002row4_col3\" class=\"data row4 col3\" >0.495219</td>\n",
              "                        <td id=\"T_3057f7a8_3e52_11eb_985c_0242ac1c0002row4_col4\" class=\"data row4 col4\" >1.000000</td>\n",
              "                        <td id=\"T_3057f7a8_3e52_11eb_985c_0242ac1c0002row4_col5\" class=\"data row4 col5\" >0.183763</td>\n",
              "                        <td id=\"T_3057f7a8_3e52_11eb_985c_0242ac1c0002row4_col6\" class=\"data row4 col6\" >0.137679</td>\n",
              "                        <td id=\"T_3057f7a8_3e52_11eb_985c_0242ac1c0002row4_col7\" class=\"data row4 col7\" >0.806602</td>\n",
              "                        <td id=\"T_3057f7a8_3e52_11eb_985c_0242ac1c0002row4_col8\" class=\"data row4 col8\" >0.284759</td>\n",
              "                        <td id=\"T_3057f7a8_3e52_11eb_985c_0242ac1c0002row4_col9\" class=\"data row4 col9\" >0.780984</td>\n",
              "                        <td id=\"T_3057f7a8_3e52_11eb_985c_0242ac1c0002row4_col10\" class=\"data row4 col10\" >-0.125020</td>\n",
              "                        <td id=\"T_3057f7a8_3e52_11eb_985c_0242ac1c0002row4_col11\" class=\"data row4 col11\" >0.108120</td>\n",
              "            </tr>\n",
              "            <tr>\n",
              "                        <th id=\"T_3057f7a8_3e52_11eb_985c_0242ac1c0002level0_row5\" class=\"row_heading level0 row5\" >runtime</th>\n",
              "                        <td id=\"T_3057f7a8_3e52_11eb_985c_0242ac1c0002row5_col0\" class=\"data row5 col0\" >-0.171586</td>\n",
              "                        <td id=\"T_3057f7a8_3e52_11eb_985c_0242ac1c0002row5_col1\" class=\"data row5 col1\" >0.225766</td>\n",
              "                        <td id=\"T_3057f7a8_3e52_11eb_985c_0242ac1c0002row5_col2\" class=\"data row5 col2\" >-0.086692</td>\n",
              "                        <td id=\"T_3057f7a8_3e52_11eb_985c_0242ac1c0002row5_col3\" class=\"data row5 col3\" >0.161276</td>\n",
              "                        <td id=\"T_3057f7a8_3e52_11eb_985c_0242ac1c0002row5_col4\" class=\"data row5 col4\" >0.183763</td>\n",
              "                        <td id=\"T_3057f7a8_3e52_11eb_985c_0242ac1c0002row5_col5\" class=\"data row5 col5\" >1.000000</td>\n",
              "                        <td id=\"T_3057f7a8_3e52_11eb_985c_0242ac1c0002row5_col6\" class=\"data row5 col6\" >0.231019</td>\n",
              "                        <td id=\"T_3057f7a8_3e52_11eb_985c_0242ac1c0002row5_col7\" class=\"data row5 col7\" >0.199476</td>\n",
              "                        <td id=\"T_3057f7a8_3e52_11eb_985c_0242ac1c0002row5_col8\" class=\"data row5 col8\" >-0.016943</td>\n",
              "                        <td id=\"T_3057f7a8_3e52_11eb_985c_0242ac1c0002row5_col9\" class=\"data row5 col9\" >0.200588</td>\n",
              "                        <td id=\"T_3057f7a8_3e52_11eb_985c_0242ac1c0002row5_col10\" class=\"data row5 col10\" >-0.105164</td>\n",
              "                        <td id=\"T_3057f7a8_3e52_11eb_985c_0242ac1c0002row5_col11\" class=\"data row5 col11\" >0.068359</td>\n",
              "            </tr>\n",
              "            <tr>\n",
              "                        <th id=\"T_3057f7a8_3e52_11eb_985c_0242ac1c0002level0_row6\" class=\"row_heading level0 row6\" >vote_average</th>\n",
              "                        <td id=\"T_3057f7a8_3e52_11eb_985c_0242ac1c0002row6_col0\" class=\"data row6 col0\" >-0.239960</td>\n",
              "                        <td id=\"T_3057f7a8_3e52_11eb_985c_0242ac1c0002row6_col1\" class=\"data row6 col1\" >0.103634</td>\n",
              "                        <td id=\"T_3057f7a8_3e52_11eb_985c_0242ac1c0002row6_col2\" class=\"data row6 col2\" >-0.141201</td>\n",
              "                        <td id=\"T_3057f7a8_3e52_11eb_985c_0242ac1c0002row6_col3\" class=\"data row6 col3\" >0.186538</td>\n",
              "                        <td id=\"T_3057f7a8_3e52_11eb_985c_0242ac1c0002row6_col4\" class=\"data row6 col4\" >0.137679</td>\n",
              "                        <td id=\"T_3057f7a8_3e52_11eb_985c_0242ac1c0002row6_col5\" class=\"data row6 col5\" >0.231019</td>\n",
              "                        <td id=\"T_3057f7a8_3e52_11eb_985c_0242ac1c0002row6_col6\" class=\"data row6 col6\" >1.000000</td>\n",
              "                        <td id=\"T_3057f7a8_3e52_11eb_985c_0242ac1c0002row6_col7\" class=\"data row6 col7\" >0.203592</td>\n",
              "                        <td id=\"T_3057f7a8_3e52_11eb_985c_0242ac1c0002row6_col8\" class=\"data row6 col8\" >0.019937</td>\n",
              "                        <td id=\"T_3057f7a8_3e52_11eb_985c_0242ac1c0002row6_col9\" class=\"data row6 col9\" >0.212963</td>\n",
              "                        <td id=\"T_3057f7a8_3e52_11eb_985c_0242ac1c0002row6_col10\" class=\"data row6 col10\" >-0.116379</td>\n",
              "                        <td id=\"T_3057f7a8_3e52_11eb_985c_0242ac1c0002row6_col11\" class=\"data row6 col11\" >0.048969</td>\n",
              "            </tr>\n",
              "            <tr>\n",
              "                        <th id=\"T_3057f7a8_3e52_11eb_985c_0242ac1c0002level0_row7\" class=\"row_heading level0 row7\" >vote_count</th>\n",
              "                        <td id=\"T_3057f7a8_3e52_11eb_985c_0242ac1c0002row7_col0\" class=\"data row7 col0\" >-0.071127</td>\n",
              "                        <td id=\"T_3057f7a8_3e52_11eb_985c_0242ac1c0002row7_col1\" class=\"data row7 col1\" >0.665415</td>\n",
              "                        <td id=\"T_3057f7a8_3e52_11eb_985c_0242ac1c0002row7_col2\" class=\"data row7 col2\" >-0.033574</td>\n",
              "                        <td id=\"T_3057f7a8_3e52_11eb_985c_0242ac1c0002row7_col3\" class=\"data row7 col3\" >0.544388</td>\n",
              "                        <td id=\"T_3057f7a8_3e52_11eb_985c_0242ac1c0002row7_col4\" class=\"data row7 col4\" >0.806602</td>\n",
              "                        <td id=\"T_3057f7a8_3e52_11eb_985c_0242ac1c0002row7_col5\" class=\"data row7 col5\" >0.199476</td>\n",
              "                        <td id=\"T_3057f7a8_3e52_11eb_985c_0242ac1c0002row7_col6\" class=\"data row7 col6\" >0.203592</td>\n",
              "                        <td id=\"T_3057f7a8_3e52_11eb_985c_0242ac1c0002row7_col7\" class=\"data row7 col7\" >1.000000</td>\n",
              "                        <td id=\"T_3057f7a8_3e52_11eb_985c_0242ac1c0002row7_col8\" class=\"data row7 col8\" >0.246816</td>\n",
              "                        <td id=\"T_3057f7a8_3e52_11eb_985c_0242ac1c0002row7_col9\" class=\"data row7 col9\" >0.994176</td>\n",
              "                        <td id=\"T_3057f7a8_3e52_11eb_985c_0242ac1c0002row7_col10\" class=\"data row7 col10\" >-0.134497</td>\n",
              "                        <td id=\"T_3057f7a8_3e52_11eb_985c_0242ac1c0002row7_col11\" class=\"data row7 col11\" >0.080398</td>\n",
              "            </tr>\n",
              "            <tr>\n",
              "                        <th id=\"T_3057f7a8_3e52_11eb_985c_0242ac1c0002level0_row8\" class=\"row_heading level0 row8\" >collection</th>\n",
              "                        <td id=\"T_3057f7a8_3e52_11eb_985c_0242ac1c0002row8_col0\" class=\"data row8 col0\" >-0.102720</td>\n",
              "                        <td id=\"T_3057f7a8_3e52_11eb_985c_0242ac1c0002row8_col1\" class=\"data row8 col1\" >0.212146</td>\n",
              "                        <td id=\"T_3057f7a8_3e52_11eb_985c_0242ac1c0002row8_col2\" class=\"data row8 col2\" >-0.122764</td>\n",
              "                        <td id=\"T_3057f7a8_3e52_11eb_985c_0242ac1c0002row8_col3\" class=\"data row8 col3\" >0.184730</td>\n",
              "                        <td id=\"T_3057f7a8_3e52_11eb_985c_0242ac1c0002row8_col4\" class=\"data row8 col4\" >0.284759</td>\n",
              "                        <td id=\"T_3057f7a8_3e52_11eb_985c_0242ac1c0002row8_col5\" class=\"data row8 col5\" >-0.016943</td>\n",
              "                        <td id=\"T_3057f7a8_3e52_11eb_985c_0242ac1c0002row8_col6\" class=\"data row8 col6\" >0.019937</td>\n",
              "                        <td id=\"T_3057f7a8_3e52_11eb_985c_0242ac1c0002row8_col7\" class=\"data row8 col7\" >0.246816</td>\n",
              "                        <td id=\"T_3057f7a8_3e52_11eb_985c_0242ac1c0002row8_col8\" class=\"data row8 col8\" >1.000000</td>\n",
              "                        <td id=\"T_3057f7a8_3e52_11eb_985c_0242ac1c0002row8_col9\" class=\"data row8 col9\" >0.228573</td>\n",
              "                        <td id=\"T_3057f7a8_3e52_11eb_985c_0242ac1c0002row8_col10\" class=\"data row8 col10\" >-0.100320</td>\n",
              "                        <td id=\"T_3057f7a8_3e52_11eb_985c_0242ac1c0002row8_col11\" class=\"data row8 col11\" >0.036184</td>\n",
              "            </tr>\n",
              "            <tr>\n",
              "                        <th id=\"T_3057f7a8_3e52_11eb_985c_0242ac1c0002level0_row9\" class=\"row_heading level0 row9\" >score_1</th>\n",
              "                        <td id=\"T_3057f7a8_3e52_11eb_985c_0242ac1c0002row9_col0\" class=\"data row9 col0\" >-0.072469</td>\n",
              "                        <td id=\"T_3057f7a8_3e52_11eb_985c_0242ac1c0002row9_col1\" class=\"data row9 col1\" >0.622080</td>\n",
              "                        <td id=\"T_3057f7a8_3e52_11eb_985c_0242ac1c0002row9_col2\" class=\"data row9 col2\" >-0.034831</td>\n",
              "                        <td id=\"T_3057f7a8_3e52_11eb_985c_0242ac1c0002row9_col3\" class=\"data row9 col3\" >0.534342</td>\n",
              "                        <td id=\"T_3057f7a8_3e52_11eb_985c_0242ac1c0002row9_col4\" class=\"data row9 col4\" >0.780984</td>\n",
              "                        <td id=\"T_3057f7a8_3e52_11eb_985c_0242ac1c0002row9_col5\" class=\"data row9 col5\" >0.200588</td>\n",
              "                        <td id=\"T_3057f7a8_3e52_11eb_985c_0242ac1c0002row9_col6\" class=\"data row9 col6\" >0.212963</td>\n",
              "                        <td id=\"T_3057f7a8_3e52_11eb_985c_0242ac1c0002row9_col7\" class=\"data row9 col7\" >0.994176</td>\n",
              "                        <td id=\"T_3057f7a8_3e52_11eb_985c_0242ac1c0002row9_col8\" class=\"data row9 col8\" >0.228573</td>\n",
              "                        <td id=\"T_3057f7a8_3e52_11eb_985c_0242ac1c0002row9_col9\" class=\"data row9 col9\" >1.000000</td>\n",
              "                        <td id=\"T_3057f7a8_3e52_11eb_985c_0242ac1c0002row9_col10\" class=\"data row9 col10\" >-0.126350</td>\n",
              "                        <td id=\"T_3057f7a8_3e52_11eb_985c_0242ac1c0002row9_col11\" class=\"data row9 col11\" >0.075440</td>\n",
              "            </tr>\n",
              "            <tr>\n",
              "                        <th id=\"T_3057f7a8_3e52_11eb_985c_0242ac1c0002level0_row10\" class=\"row_heading level0 row10\" >production_companies_id</th>\n",
              "                        <td id=\"T_3057f7a8_3e52_11eb_985c_0242ac1c0002row10_col0\" class=\"data row10 col0\" >0.331970</td>\n",
              "                        <td id=\"T_3057f7a8_3e52_11eb_985c_0242ac1c0002row10_col1\" class=\"data row10 col1\" >-0.160624</td>\n",
              "                        <td id=\"T_3057f7a8_3e52_11eb_985c_0242ac1c0002row10_col2\" class=\"data row10 col2\" >0.367358</td>\n",
              "                        <td id=\"T_3057f7a8_3e52_11eb_985c_0242ac1c0002row10_col3\" class=\"data row10 col3\" >-0.143197</td>\n",
              "                        <td id=\"T_3057f7a8_3e52_11eb_985c_0242ac1c0002row10_col4\" class=\"data row10 col4\" >-0.125020</td>\n",
              "                        <td id=\"T_3057f7a8_3e52_11eb_985c_0242ac1c0002row10_col5\" class=\"data row10 col5\" >-0.105164</td>\n",
              "                        <td id=\"T_3057f7a8_3e52_11eb_985c_0242ac1c0002row10_col6\" class=\"data row10 col6\" >-0.116379</td>\n",
              "                        <td id=\"T_3057f7a8_3e52_11eb_985c_0242ac1c0002row10_col7\" class=\"data row10 col7\" >-0.134497</td>\n",
              "                        <td id=\"T_3057f7a8_3e52_11eb_985c_0242ac1c0002row10_col8\" class=\"data row10 col8\" >-0.100320</td>\n",
              "                        <td id=\"T_3057f7a8_3e52_11eb_985c_0242ac1c0002row10_col9\" class=\"data row10 col9\" >-0.126350</td>\n",
              "                        <td id=\"T_3057f7a8_3e52_11eb_985c_0242ac1c0002row10_col10\" class=\"data row10 col10\" >1.000000</td>\n",
              "                        <td id=\"T_3057f7a8_3e52_11eb_985c_0242ac1c0002row10_col11\" class=\"data row10 col11\" >-0.238531</td>\n",
              "            </tr>\n",
              "            <tr>\n",
              "                        <th id=\"T_3057f7a8_3e52_11eb_985c_0242ac1c0002level0_row11\" class=\"row_heading level0 row11\" >pc_id_count</th>\n",
              "                        <td id=\"T_3057f7a8_3e52_11eb_985c_0242ac1c0002row11_col0\" class=\"data row11 col0\" >-0.229618</td>\n",
              "                        <td id=\"T_3057f7a8_3e52_11eb_985c_0242ac1c0002row11_col1\" class=\"data row11 col1\" >0.117158</td>\n",
              "                        <td id=\"T_3057f7a8_3e52_11eb_985c_0242ac1c0002row11_col2\" class=\"data row11 col2\" >-0.186671</td>\n",
              "                        <td id=\"T_3057f7a8_3e52_11eb_985c_0242ac1c0002row11_col3\" class=\"data row11 col3\" >0.050937</td>\n",
              "                        <td id=\"T_3057f7a8_3e52_11eb_985c_0242ac1c0002row11_col4\" class=\"data row11 col4\" >0.108120</td>\n",
              "                        <td id=\"T_3057f7a8_3e52_11eb_985c_0242ac1c0002row11_col5\" class=\"data row11 col5\" >0.068359</td>\n",
              "                        <td id=\"T_3057f7a8_3e52_11eb_985c_0242ac1c0002row11_col6\" class=\"data row11 col6\" >0.048969</td>\n",
              "                        <td id=\"T_3057f7a8_3e52_11eb_985c_0242ac1c0002row11_col7\" class=\"data row11 col7\" >0.080398</td>\n",
              "                        <td id=\"T_3057f7a8_3e52_11eb_985c_0242ac1c0002row11_col8\" class=\"data row11 col8\" >0.036184</td>\n",
              "                        <td id=\"T_3057f7a8_3e52_11eb_985c_0242ac1c0002row11_col9\" class=\"data row11 col9\" >0.075440</td>\n",
              "                        <td id=\"T_3057f7a8_3e52_11eb_985c_0242ac1c0002row11_col10\" class=\"data row11 col10\" >-0.238531</td>\n",
              "                        <td id=\"T_3057f7a8_3e52_11eb_985c_0242ac1c0002row11_col11\" class=\"data row11 col11\" >1.000000</td>\n",
              "            </tr>\n",
              "    </tbody></table>"
            ],
            "text/plain": [
              "<pandas.io.formats.style.Styler at 0x7f6efb2f3898>"
            ]
          },
          "metadata": {
            "tags": []
          },
          "execution_count": 262
        }
      ]
    },
    {
      "cell_type": "markdown",
      "metadata": {
        "id": "u6LyoBTNv9jB"
      },
      "source": [
        "# Régression linéaire de *score_1* sur *budget* et *revenue*"
      ]
    },
    {
      "cell_type": "markdown",
      "metadata": {
        "id": "kw26NXPlvCa4"
      },
      "source": [
        "Par construction de *score_1*, il n'est pas choquant d'observer une forte corrélation avec *popularity*, *vote_count* et *vote_average*.\n",
        "\n",
        "On constate que bien qu'il y ait peu de données qui puissent être exploitées pour le budget et le revenu d'un film, ces deux variables sont cependant corrélées avec *score_1*, qui permet de quantifier la qualité d'un film.\n",
        "\n",
        "Par ailleurs, la compagnie de production et la durée du film ne semblent guère influencer sa qualité. "
      ]
    },
    {
      "cell_type": "markdown",
      "metadata": {
        "id": "DtySOStF1uq-"
      },
      "source": [
        "Tout d'abord, récupérons les données nécessaires dans le dataset."
      ]
    },
    {
      "cell_type": "code",
      "metadata": {
        "id": "bbIay57mzhEy"
      },
      "source": [
        "X = pd.DataFrame(np.c_[df.budget, df.revenue], columns= ['budget', 'revenue'])\n",
        "Y = df.score_1"
      ],
      "execution_count": 263,
      "outputs": []
    },
    {
      "cell_type": "markdown",
      "metadata": {
        "id": "eC8dy4CQ2Lkv"
      },
      "source": [
        "Séparons ensuite nos deux ensembles de données en bases d'apprentissage et de test."
      ]
    },
    {
      "cell_type": "code",
      "metadata": {
        "colab": {
          "base_uri": "https://localhost:8080/"
        },
        "id": "XU2YOJmeyDvp",
        "outputId": "c0c0f639-406a-4ce1-8376-7ad55b544c75"
      },
      "source": [
        "from sklearn.model_selection import train_test_split\n",
        " \n",
        "X_train, X_test, Y_train, Y_test = train_test_split(X, Y, test_size = 0.2, random_state=5)\n",
        "print(X_train.shape)\n",
        "print(X_test.shape)\n",
        "print(Y_train.shape)\n",
        "print(Y_test.shape)"
      ],
      "execution_count": 264,
      "outputs": [
        {
          "output_type": "stream",
          "text": [
            "(13884, 2)\n",
            "(3472, 2)\n",
            "(13884,)\n",
            "(3472,)\n"
          ],
          "name": "stdout"
        }
      ]
    },
    {
      "cell_type": "markdown",
      "metadata": {
        "id": "ECQodfNWnMMP"
      },
      "source": [
        "## Régression linéaire "
      ]
    },
    {
      "cell_type": "markdown",
      "metadata": {
        "id": "65lD77kA2X6j"
      },
      "source": [
        "On effectue alors la régression linéaire voulue. On importe les modules nécessaires.\n",
        "\n",
        "La fonction qu'on code va nous permettre d'évaluer les performances du modèle sur l'échantillon d'apprentissage et sur celui de test avec les $R^2$ et l'erreur quadratique moyenne. "
      ]
    },
    {
      "cell_type": "code",
      "metadata": {
        "id": "f3hIGZ7MwFGh"
      },
      "source": [
        "from sklearn.linear_model import LinearRegression\n",
        "from sklearn.metrics import mean_squared_error\n",
        "from sklearn.metrics import r2_score"
      ],
      "execution_count": 265,
      "outputs": []
    },
    {
      "cell_type": "code",
      "metadata": {
        "id": "BdRlH2wYwK2e"
      },
      "source": [
        "def linear_model(xtrain, ytrain, xtest, ytest):\n",
        "  lmodellineaire = LinearRegression()\n",
        "  lmodellineaire.fit(xtrain, ytrain)\n",
        "  \n",
        "  # Evaluation du training set\n",
        "  y_train_predict = lmodellineaire.predict(xtrain)\n",
        "  rmse_train = (np.sqrt(mean_squared_error(ytrain, y_train_predict)))\n",
        "  r2_train = r2_score(ytrain, y_train_predict)\n",
        "  print(\"Performance du modèle sur la base d'apprentissage\")\n",
        "  print('--------------------------------------')\n",
        "  print(\"L'erreur quadratique moyenne est {}\".format(rmse_train))\n",
        "  print('Le score R² est {}'.format(r2_train))\n",
        "  print('\\n')\n",
        "\n",
        "\n",
        "  # Evaluation du testing set\n",
        "  y_test_predict = lmodellineaire.predict(xtest)\n",
        "  rmse_test = (np.sqrt(mean_squared_error(ytest, y_test_predict)))\n",
        "  r2_test = r2_score(ytest, y_test_predict)\n",
        "\n",
        "  print('Performance du modèle sur la base de test')\n",
        "  print('--------------------------------------')\n",
        "  print(\"L'erreur quadratique moyenne est {}\".format(rmse_test))\n",
        "  print('Le score R² est {}'.format(r2_test))\n",
        "  print('\\n')\n",
        "  return y_train_predict, y_test_predict, r2_test, r2_train, rmse_test, rmse_train"
      ],
      "execution_count": 266,
      "outputs": []
    },
    {
      "cell_type": "code",
      "metadata": {
        "id": "y3aTJAw-xAFK",
        "outputId": "37cd462c-2e3d-4651-d44f-08c8c68031c7",
        "colab": {
          "base_uri": "https://localhost:8080/"
        }
      },
      "source": [
        "model1 = linear_model(X_train, Y_train, X_test, Y_test)\n",
        "\n",
        "print(model1[2:])"
      ],
      "execution_count": 267,
      "outputs": [
        {
          "output_type": "stream",
          "text": [
            "Performance du modèle sur la base d'apprentissage\n",
            "--------------------------------------\n",
            "L'erreur quadratique moyenne est 3467.4302151622496\n",
            "Le score R² est 0.6162165165800999\n",
            "\n",
            "\n",
            "Performance du modèle sur la base de test\n",
            "--------------------------------------\n",
            "L'erreur quadratique moyenne est 3364.076265294737\n",
            "Le score R² est 0.5879873205932651\n",
            "\n",
            "\n",
            "(0.5879873205932651, 0.6162165165800999, 3364.076265294737, 3467.4302151622496)\n"
          ],
          "name": "stdout"
        }
      ]
    },
    {
      "cell_type": "code",
      "metadata": {
        "id": "UlCEK8SPAWxG"
      },
      "source": [
        "l = []\n",
        "l.extend(model1[2:])\n",
        "l.append(len(X))\n"
      ],
      "execution_count": 268,
      "outputs": []
    },
    {
      "cell_type": "code",
      "metadata": {
        "id": "si6e-jz0D4ti",
        "outputId": "ce886f7c-260d-4480-859c-b0954e447904",
        "colab": {
          "base_uri": "https://localhost:8080/",
          "height": 235
        }
      },
      "source": [
        "table_resultats = pd.DataFrame(['r2_test', 'r2_train', 'MSE_test','MSE_train', 'count'], columns=['name'])\n",
        "\n",
        "table_resultats['model1'] = l\n",
        "table_resultats = table_resultats.set_index('name')\n",
        "table_resultats"
      ],
      "execution_count": 269,
      "outputs": [
        {
          "output_type": "execute_result",
          "data": {
            "text/html": [
              "<div>\n",
              "<style scoped>\n",
              "    .dataframe tbody tr th:only-of-type {\n",
              "        vertical-align: middle;\n",
              "    }\n",
              "\n",
              "    .dataframe tbody tr th {\n",
              "        vertical-align: top;\n",
              "    }\n",
              "\n",
              "    .dataframe thead th {\n",
              "        text-align: right;\n",
              "    }\n",
              "</style>\n",
              "<table border=\"1\" class=\"dataframe\">\n",
              "  <thead>\n",
              "    <tr style=\"text-align: right;\">\n",
              "      <th></th>\n",
              "      <th>model1</th>\n",
              "    </tr>\n",
              "    <tr>\n",
              "      <th>name</th>\n",
              "      <th></th>\n",
              "    </tr>\n",
              "  </thead>\n",
              "  <tbody>\n",
              "    <tr>\n",
              "      <th>r2_test</th>\n",
              "      <td>0.587987</td>\n",
              "    </tr>\n",
              "    <tr>\n",
              "      <th>r2_train</th>\n",
              "      <td>0.616217</td>\n",
              "    </tr>\n",
              "    <tr>\n",
              "      <th>MSE_test</th>\n",
              "      <td>3364.076265</td>\n",
              "    </tr>\n",
              "    <tr>\n",
              "      <th>MSE_train</th>\n",
              "      <td>3467.430215</td>\n",
              "    </tr>\n",
              "    <tr>\n",
              "      <th>count</th>\n",
              "      <td>17356.000000</td>\n",
              "    </tr>\n",
              "  </tbody>\n",
              "</table>\n",
              "</div>"
            ],
            "text/plain": [
              "                 model1\n",
              "name                   \n",
              "r2_test        0.587987\n",
              "r2_train       0.616217\n",
              "MSE_test    3364.076265\n",
              "MSE_train   3467.430215\n",
              "count      17356.000000"
            ]
          },
          "metadata": {
            "tags": []
          },
          "execution_count": 269
        }
      ]
    },
    {
      "cell_type": "markdown",
      "metadata": {
        "id": "HdynAg6X3J-C"
      },
      "source": [
        "Bien que le $R^2$ soit plutôt bon, ce modèle génère une erreur quadratique moyenne assez forte sur la valeur de *score_1* (de l'ordre de 3400). Cela est certainement dû à la dispersion de *score_1* :"
      ]
    },
    {
      "cell_type": "code",
      "metadata": {
        "colab": {
          "base_uri": "https://localhost:8080/"
        },
        "id": "w4xZu2Xz22bB",
        "outputId": "320f2e94-2644-4f19-c534-a212f1637bce"
      },
      "source": [
        "df.score_1.describe()"
      ],
      "execution_count": 270,
      "outputs": [
        {
          "output_type": "execute_result",
          "data": {
            "text/plain": [
              "count     17356.000000\n",
              "mean       1709.543046\n",
              "std        5527.962377\n",
              "min           0.000000\n",
              "25%          44.800000\n",
              "50%         170.000000\n",
              "75%         857.700000\n",
              "max      114007.500000\n",
              "Name: score_1, dtype: float64"
            ]
          },
          "metadata": {
            "tags": []
          },
          "execution_count": 270
        }
      ]
    },
    {
      "cell_type": "markdown",
      "metadata": {
        "id": "FyGd9ewHnPjD"
      },
      "source": [
        "## Régression linéaire tronquée"
      ]
    },
    {
      "cell_type": "markdown",
      "metadata": {
        "id": "G5NTPtdm3ho7"
      },
      "source": [
        "Etudions les perfomances de ce modèle sur un échantillon comprenant les valeurs de *score_1* allant du 1er au 3ème quartile :"
      ]
    },
    {
      "cell_type": "code",
      "metadata": {
        "id": "krJf22UD4DOv"
      },
      "source": [
        "first_quart = np.percentile(df.score_1, 25)\n",
        "third_quart = np.percentile(df.score_1, 75)"
      ],
      "execution_count": 271,
      "outputs": []
    },
    {
      "cell_type": "code",
      "metadata": {
        "id": "abRf5e8C4TrB"
      },
      "source": [
        "# Filtration des données\n",
        "df_quart = df[df.score_1 > first_quart]\n",
        "df_quart = df[df.score_1 < third_quart]\n",
        "\n",
        "# Création des variables nécessaires\n",
        "X2 = pd.DataFrame(np.c_[df_quart.budget, df_quart.revenue], columns= ['budget', 'revenue'])\n",
        "Y2 = df_quart.score_1\n",
        "X_train2, X_test2, Y_train2, Y_test2 = train_test_split(X2, Y2, test_size = 0.2, random_state=5)\n",
        "\n"
      ],
      "execution_count": 272,
      "outputs": []
    },
    {
      "cell_type": "markdown",
      "metadata": {
        "id": "QWmE6SmGxqr5"
      },
      "source": [
        "On observe la régression linéaire tronquée : "
      ]
    },
    {
      "cell_type": "code",
      "metadata": {
        "id": "C2R5Cb-Vxp3E",
        "outputId": "c27f87bf-0d97-4a53-9e97-798c4f881ed8",
        "colab": {
          "base_uri": "https://localhost:8080/"
        }
      },
      "source": [
        "model2 = linear_model(X_train2, Y_train2, X_test2, Y_test2)"
      ],
      "execution_count": 273,
      "outputs": [
        {
          "output_type": "stream",
          "text": [
            "Performance du modèle sur la base d'apprentissage\n",
            "--------------------------------------\n",
            "L'erreur quadratique moyenne est 188.1704456835393\n",
            "Le score R² est 0.1454504867917935\n",
            "\n",
            "\n",
            "Performance du modèle sur la base de test\n",
            "--------------------------------------\n",
            "L'erreur quadratique moyenne est 181.4256396942466\n",
            "Le score R² est 0.1529228653745578\n",
            "\n",
            "\n"
          ],
          "name": "stdout"
        }
      ]
    },
    {
      "cell_type": "code",
      "metadata": {
        "id": "QKl0GM6fGWsJ",
        "outputId": "0cc054b0-825c-4983-b2d1-261653cf74ff",
        "colab": {
          "base_uri": "https://localhost:8080/",
          "height": 235
        }
      },
      "source": [
        "l = []\n",
        "l.extend(model2[2:])\n",
        "l.append(len(X2))\n",
        "\n",
        "table_resultats['model2'] = l\n",
        "table_resultats"
      ],
      "execution_count": 274,
      "outputs": [
        {
          "output_type": "execute_result",
          "data": {
            "text/html": [
              "<div>\n",
              "<style scoped>\n",
              "    .dataframe tbody tr th:only-of-type {\n",
              "        vertical-align: middle;\n",
              "    }\n",
              "\n",
              "    .dataframe tbody tr th {\n",
              "        vertical-align: top;\n",
              "    }\n",
              "\n",
              "    .dataframe thead th {\n",
              "        text-align: right;\n",
              "    }\n",
              "</style>\n",
              "<table border=\"1\" class=\"dataframe\">\n",
              "  <thead>\n",
              "    <tr style=\"text-align: right;\">\n",
              "      <th></th>\n",
              "      <th>model1</th>\n",
              "      <th>model2</th>\n",
              "    </tr>\n",
              "    <tr>\n",
              "      <th>name</th>\n",
              "      <th></th>\n",
              "      <th></th>\n",
              "    </tr>\n",
              "  </thead>\n",
              "  <tbody>\n",
              "    <tr>\n",
              "      <th>r2_test</th>\n",
              "      <td>0.587987</td>\n",
              "      <td>0.152923</td>\n",
              "    </tr>\n",
              "    <tr>\n",
              "      <th>r2_train</th>\n",
              "      <td>0.616217</td>\n",
              "      <td>0.145450</td>\n",
              "    </tr>\n",
              "    <tr>\n",
              "      <th>MSE_test</th>\n",
              "      <td>3364.076265</td>\n",
              "      <td>181.425640</td>\n",
              "    </tr>\n",
              "    <tr>\n",
              "      <th>MSE_train</th>\n",
              "      <td>3467.430215</td>\n",
              "      <td>188.170446</td>\n",
              "    </tr>\n",
              "    <tr>\n",
              "      <th>count</th>\n",
              "      <td>17356.000000</td>\n",
              "      <td>13017.000000</td>\n",
              "    </tr>\n",
              "  </tbody>\n",
              "</table>\n",
              "</div>"
            ],
            "text/plain": [
              "                 model1        model2\n",
              "name                                 \n",
              "r2_test        0.587987      0.152923\n",
              "r2_train       0.616217      0.145450\n",
              "MSE_test    3364.076265    181.425640\n",
              "MSE_train   3467.430215    188.170446\n",
              "count      17356.000000  13017.000000"
            ]
          },
          "metadata": {
            "tags": []
          },
          "execution_count": 274
        }
      ]
    },
    {
      "cell_type": "markdown",
      "metadata": {
        "id": "LpMvtBP16ayx"
      },
      "source": [
        "Par cette nouvelle régression, nous avons certes diminué drastiquement l'erreur quadratique moyenne, cependant le $R^2$ a été divisé par 4."
      ]
    },
    {
      "cell_type": "markdown",
      "metadata": {
        "id": "gH9VVlNP68N0"
      },
      "source": [
        "## Comparaison graphique des résultats"
      ]
    },
    {
      "cell_type": "markdown",
      "metadata": {
        "id": "_L705PKUqS2R"
      },
      "source": [
        "Comparons graphiquement les résultats de la prédiction pour ces deux régressions."
      ]
    },
    {
      "cell_type": "code",
      "metadata": {
        "id": "wY5OaF_YuGlW"
      },
      "source": [
        "def plot(test, predict):\r\n",
        "  fig, ax = plt.subplots(figsize=(8,5))\r\n",
        "  p1 = sns.distplot(test, label = 'Vraie valeur')\r\n",
        "  p2 = sns.distplot(predict, label = 'Prédiction')\r\n",
        "  ax.set(xlabel= 'Valeur de score_1', ylabel = 'Densité')\r\n",
        "  fig.legend(labels=['Vraie valeur','Prédiction'], loc = (0.75, 0.5))"
      ],
      "execution_count": 275,
      "outputs": []
    },
    {
      "cell_type": "code",
      "metadata": {
        "id": "r3HKrukgqd94",
        "colab": {
          "base_uri": "https://localhost:8080/",
          "height": 1000
        },
        "outputId": "29b250e1-9df8-4d88-bd66-dfb369b0a28d"
      },
      "source": [
        "plot(Y_test,linear_model(X_train, Y_train, X_test, Y_test)[1])\r\n",
        "plt.title('Prédiction de la variable score_1 par le budget et le revenu \\n Base entière')\r\n",
        "\r\n",
        "plot(Y_test2, linear_model(X_train2, Y_train2, X_test2, Y_test2)[1])\r\n",
        "plt.title('Prédiction de la variable score_1 par le budget et le revenu \\n Valeurs de score_1 entre les 1er et 3ème quartiles')\r\n",
        "\r\n",
        "plt.show()"
      ],
      "execution_count": 276,
      "outputs": [
        {
          "output_type": "stream",
          "text": [
            "Performance du modèle sur la base d'apprentissage\n",
            "--------------------------------------\n",
            "L'erreur quadratique moyenne est 3467.4302151622496\n",
            "Le score R² est 0.6162165165800999\n",
            "\n",
            "\n",
            "Performance du modèle sur la base de test\n",
            "--------------------------------------\n",
            "L'erreur quadratique moyenne est 3364.076265294737\n",
            "Le score R² est 0.5879873205932651\n",
            "\n",
            "\n",
            "Performance du modèle sur la base d'apprentissage\n",
            "--------------------------------------\n",
            "L'erreur quadratique moyenne est 188.1704456835393\n",
            "Le score R² est 0.1454504867917935\n",
            "\n",
            "\n",
            "Performance du modèle sur la base de test\n",
            "--------------------------------------\n",
            "L'erreur quadratique moyenne est 181.4256396942466\n",
            "Le score R² est 0.1529228653745578\n",
            "\n",
            "\n"
          ],
          "name": "stdout"
        },
        {
          "output_type": "stream",
          "text": [
            "/usr/local/lib/python3.6/dist-packages/seaborn/distributions.py:2551: FutureWarning:\n",
            "\n",
            "`distplot` is a deprecated function and will be removed in a future version. Please adapt your code to use either `displot` (a figure-level function with similar flexibility) or `histplot` (an axes-level function for histograms).\n",
            "\n",
            "/usr/local/lib/python3.6/dist-packages/seaborn/distributions.py:2551: FutureWarning:\n",
            "\n",
            "`distplot` is a deprecated function and will be removed in a future version. Please adapt your code to use either `displot` (a figure-level function with similar flexibility) or `histplot` (an axes-level function for histograms).\n",
            "\n",
            "/usr/local/lib/python3.6/dist-packages/seaborn/distributions.py:2551: FutureWarning:\n",
            "\n",
            "`distplot` is a deprecated function and will be removed in a future version. Please adapt your code to use either `displot` (a figure-level function with similar flexibility) or `histplot` (an axes-level function for histograms).\n",
            "\n",
            "/usr/local/lib/python3.6/dist-packages/seaborn/distributions.py:2551: FutureWarning:\n",
            "\n",
            "`distplot` is a deprecated function and will be removed in a future version. Please adapt your code to use either `displot` (a figure-level function with similar flexibility) or `histplot` (an axes-level function for histograms).\n",
            "\n"
          ],
          "name": "stderr"
        },
        {
          "output_type": "display_data",
          "data": {
            "image/png": "[encoded data removed]",
            "text/plain": [
              "<Figure size 576x360 with 1 Axes>"
            ]
          },
          "metadata": {
            "tags": [],
            "needs_background": "light"
          }
        },
        {
          "output_type": "display_data",
          "data": {
            "image/png": "[encoded data removed]",
            "text/plain": [
              "<Figure size 576x360 with 1 Axes>"
            ]
          },
          "metadata": {
            "tags": [],
            "needs_background": "light"
          }
        }
      ]
    },
    {
      "cell_type": "markdown",
      "metadata": {
        "id": "u7g-csnu11h-"
      },
      "source": [
        "Grâce à ces graphiques, on remarque qu'effectivement la première régression est nettement plus efficace que la seconde pour prédire les valeurs de *score_1*. Cependant, l'algorithme a plus de mal à prédire précisément les petites valeurs de *score_1*."
      ]
    },
    {
      "cell_type": "markdown",
      "metadata": {
        "id": "n9JQiqUV2wMN"
      },
      "source": [
        "# Sentiment analysis \n",
        "\n",
        "\n",
        "\n",
        "\n"
      ]
    },
    {
      "cell_type": "markdown",
      "metadata": {
        "id": "wViAil_-mwu_"
      },
      "source": [
        "L'idée derrière cette partie sur l'analyse sentiment des commentaires des spectateurs est de créer un modèle capable de prédire correctement si les sentiments dégagés par les commentaires sont positifs ou négatifs. On dispose ici de bases déjà labellisées. Mais ce travail pourrait permettre d'améliorer nos modèles en s'intéressant à une base plus importante de commentaires que l'on pourrait scraper et sur laquelle on pourrait tourner notre outil de prédiction de sentiments.\n"
      ]
    },
    {
      "cell_type": "markdown",
      "metadata": {
        "id": "C8xRyidUb32Y"
      },
      "source": [
        "## Préparation des données"
      ]
    },
    {
      "cell_type": "markdown",
      "metadata": {
        "id": "uzxi5fBTL4zc"
      },
      "source": [
        "On va tenter d'enrichir notre base en rajoutant l'analyse sentiment des commentaires associés aux films. Pour cela, on utilise les base *train_review.csv.zip* et *test_review.csv.zip* importées précédemment. \n"
      ]
    },
    {
      "cell_type": "code",
      "metadata": {
        "id": "cAcTcGi7UKDB",
        "colab": {
          "base_uri": "https://localhost:8080/",
          "height": 238
        },
        "outputId": "ad60c16c-ec88-49d9-95d5-e6715d7b3bc9"
      },
      "source": [
        "train_review.head()"
      ],
      "execution_count": 277,
      "outputs": [
        {
          "output_type": "execute_result",
          "data": {
            "text/html": [
              "<div>\n",
              "<style scoped>\n",
              "    .dataframe tbody tr th:only-of-type {\n",
              "        vertical-align: middle;\n",
              "    }\n",
              "\n",
              "    .dataframe tbody tr th {\n",
              "        vertical-align: top;\n",
              "    }\n",
              "\n",
              "    .dataframe thead th {\n",
              "        text-align: right;\n",
              "    }\n",
              "</style>\n",
              "<table border=\"1\" class=\"dataframe\">\n",
              "  <thead>\n",
              "    <tr style=\"text-align: right;\">\n",
              "      <th></th>\n",
              "      <th>Unnamed: 0</th>\n",
              "      <th>review</th>\n",
              "      <th>sentiment</th>\n",
              "      <th>url_code</th>\n",
              "      <th>rating</th>\n",
              "      <th>imdb_id</th>\n",
              "      <th>code_url</th>\n",
              "    </tr>\n",
              "  </thead>\n",
              "  <tbody>\n",
              "    <tr>\n",
              "      <th>0</th>\n",
              "      <td>0</td>\n",
              "      <td>Working with one of the best Shakespeare sourc...</td>\n",
              "      <td>0</td>\n",
              "      <td>1821</td>\n",
              "      <td>4</td>\n",
              "      <td>tt0125430</td>\n",
              "      <td>1821</td>\n",
              "    </tr>\n",
              "    <tr>\n",
              "      <th>1</th>\n",
              "      <td>1</td>\n",
              "      <td>Well...tremors I, the original started off in ...</td>\n",
              "      <td>0</td>\n",
              "      <td>10402</td>\n",
              "      <td>1</td>\n",
              "      <td>tt0334541</td>\n",
              "      <td>10402</td>\n",
              "    </tr>\n",
              "    <tr>\n",
              "      <th>2</th>\n",
              "      <td>2</td>\n",
              "      <td>Ouch! This one was a bit painful to sit throug...</td>\n",
              "      <td>0</td>\n",
              "      <td>1062</td>\n",
              "      <td>4</td>\n",
              "      <td>tt0043809</td>\n",
              "      <td>1062</td>\n",
              "    </tr>\n",
              "    <tr>\n",
              "      <th>3</th>\n",
              "      <td>3</td>\n",
              "      <td>I've seen some crappy movies in my life, but t...</td>\n",
              "      <td>0</td>\n",
              "      <td>9056</td>\n",
              "      <td>1</td>\n",
              "      <td>tt0219400</td>\n",
              "      <td>9056</td>\n",
              "    </tr>\n",
              "    <tr>\n",
              "      <th>4</th>\n",
              "      <td>4</td>\n",
              "      <td>\"Carriers\" follows the exploits of two guys an...</td>\n",
              "      <td>0</td>\n",
              "      <td>5392</td>\n",
              "      <td>3</td>\n",
              "      <td>tt0806203</td>\n",
              "      <td>5392</td>\n",
              "    </tr>\n",
              "  </tbody>\n",
              "</table>\n",
              "</div>"
            ],
            "text/plain": [
              "   Unnamed: 0  ... code_url\n",
              "0           0  ...     1821\n",
              "1           1  ...    10402\n",
              "2           2  ...     1062\n",
              "3           3  ...     9056\n",
              "4           4  ...     5392\n",
              "\n",
              "[5 rows x 7 columns]"
            ]
          },
          "metadata": {
            "tags": []
          },
          "execution_count": 277
        }
      ]
    },
    {
      "cell_type": "code",
      "metadata": {
        "id": "zaIUDOOYYqF0",
        "colab": {
          "base_uri": "https://localhost:8080/"
        },
        "outputId": "6cefbf81-a889-4972-b772-75ff4f9cd591"
      },
      "source": [
        "print(len(train_review), len(test_review))"
      ],
      "execution_count": 278,
      "outputs": [
        {
          "output_type": "stream",
          "text": [
            "24998 24998\n"
          ],
          "name": "stdout"
        }
      ]
    },
    {
      "cell_type": "markdown",
      "metadata": {
        "id": "FzJVRNEqP9a1"
      },
      "source": [
        "On va garder les *review* des films présents dans la base *df*."
      ]
    },
    {
      "cell_type": "code",
      "metadata": {
        "id": "V1kLX-8-QE3Z"
      },
      "source": [
        "l = []\n",
        "l_rtest = pd.unique(test_review.imdb_id)\n",
        "l_rtrain = pd.unique(train_review.imdb_id)\n",
        "for elem in df.imdb_id:\n",
        "  if elem in l_rtest or elem in l_rtrain : \n",
        "    l.append(elem)\n"
      ],
      "execution_count": 279,
      "outputs": []
    },
    {
      "cell_type": "markdown",
      "metadata": {
        "id": "wq2JYvf51mV2"
      },
      "source": [
        "On crée une fonction de filtration des reviews pour ne garder que ceux que l'on dispose."
      ]
    },
    {
      "cell_type": "code",
      "metadata": {
        "id": "f6WKv_BRUj-E"
      },
      "source": [
        "def filter_review(data):\n",
        "  cond = data.apply ( lambda row : row['imdb_id'] in l , axis = 1 )\n",
        "  print('On a supprimé', len(data)-len(data[cond]), 'reviews de films non attribués dans la base')\n",
        "  print('\\n')\n",
        "  return data[cond]\n",
        "\n"
      ],
      "execution_count": 280,
      "outputs": []
    },
    {
      "cell_type": "code",
      "metadata": {
        "colab": {
          "base_uri": "https://localhost:8080/"
        },
        "id": "XVuFRYaCVOUK",
        "outputId": "8cc5fd26-b0f7-4f92-9a97-100e27ae9d65"
      },
      "source": [
        "test_filtered = filter_review(test_review)\n",
        "train_filtered = filter_review(train_review)"
      ],
      "execution_count": 281,
      "outputs": [
        {
          "output_type": "stream",
          "text": [
            "On a supprimé 15318 reviews de films non attribués dans la base\n",
            "\n",
            "\n",
            "On a supprimé 15094 reviews de films non attribués dans la base\n",
            "\n",
            "\n"
          ],
          "name": "stdout"
        }
      ]
    },
    {
      "cell_type": "markdown",
      "metadata": {
        "id": "cwI0NCSHVUHI"
      },
      "source": [
        "On va pouvoir associer les deux dataframe construits. "
      ]
    },
    {
      "cell_type": "code",
      "metadata": {
        "colab": {
          "base_uri": "https://localhost:8080/"
        },
        "id": "t2gL1xwCVTKK",
        "outputId": "24eec698-dbcd-4959-a5ae-715e84fdcb20"
      },
      "source": [
        "review_filtered = pd.concat([train_filtered, test_filtered]).reset_index()\n",
        "print(len(review_filtered))"
      ],
      "execution_count": 282,
      "outputs": [
        {
          "output_type": "stream",
          "text": [
            "19584\n"
          ],
          "name": "stdout"
        }
      ]
    },
    {
      "cell_type": "code",
      "metadata": {
        "id": "N5qN0noKY8VM",
        "colab": {
          "base_uri": "https://localhost:8080/",
          "height": 204
        },
        "outputId": "a6b3f20e-b998-4bd0-f85f-9ac3cd08ddd2"
      },
      "source": [
        "review_filtered = review_filtered.drop(columns='Unnamed: 0')\n",
        "review_filtered.head()"
      ],
      "execution_count": 283,
      "outputs": [
        {
          "output_type": "execute_result",
          "data": {
            "text/html": [
              "<div>\n",
              "<style scoped>\n",
              "    .dataframe tbody tr th:only-of-type {\n",
              "        vertical-align: middle;\n",
              "    }\n",
              "\n",
              "    .dataframe tbody tr th {\n",
              "        vertical-align: top;\n",
              "    }\n",
              "\n",
              "    .dataframe thead th {\n",
              "        text-align: right;\n",
              "    }\n",
              "</style>\n",
              "<table border=\"1\" class=\"dataframe\">\n",
              "  <thead>\n",
              "    <tr style=\"text-align: right;\">\n",
              "      <th></th>\n",
              "      <th>index</th>\n",
              "      <th>review</th>\n",
              "      <th>sentiment</th>\n",
              "      <th>url_code</th>\n",
              "      <th>rating</th>\n",
              "      <th>imdb_id</th>\n",
              "      <th>code_url</th>\n",
              "    </tr>\n",
              "  </thead>\n",
              "  <tbody>\n",
              "    <tr>\n",
              "      <th>0</th>\n",
              "      <td>1</td>\n",
              "      <td>Well...tremors I, the original started off in ...</td>\n",
              "      <td>0</td>\n",
              "      <td>10402</td>\n",
              "      <td>1</td>\n",
              "      <td>tt0334541</td>\n",
              "      <td>10402</td>\n",
              "    </tr>\n",
              "    <tr>\n",
              "      <th>1</th>\n",
              "      <td>2</td>\n",
              "      <td>Ouch! This one was a bit painful to sit throug...</td>\n",
              "      <td>0</td>\n",
              "      <td>1062</td>\n",
              "      <td>4</td>\n",
              "      <td>tt0043809</td>\n",
              "      <td>1062</td>\n",
              "    </tr>\n",
              "    <tr>\n",
              "      <th>2</th>\n",
              "      <td>3</td>\n",
              "      <td>I've seen some crappy movies in my life, but t...</td>\n",
              "      <td>0</td>\n",
              "      <td>9056</td>\n",
              "      <td>1</td>\n",
              "      <td>tt0219400</td>\n",
              "      <td>9056</td>\n",
              "    </tr>\n",
              "    <tr>\n",
              "      <th>3</th>\n",
              "      <td>4</td>\n",
              "      <td>\"Carriers\" follows the exploits of two guys an...</td>\n",
              "      <td>0</td>\n",
              "      <td>5392</td>\n",
              "      <td>3</td>\n",
              "      <td>tt0806203</td>\n",
              "      <td>5392</td>\n",
              "    </tr>\n",
              "    <tr>\n",
              "      <th>4</th>\n",
              "      <td>5</td>\n",
              "      <td>I had been looking forward to seeing this film...</td>\n",
              "      <td>0</td>\n",
              "      <td>2682</td>\n",
              "      <td>3</td>\n",
              "      <td>tt0120620</td>\n",
              "      <td>2682</td>\n",
              "    </tr>\n",
              "  </tbody>\n",
              "</table>\n",
              "</div>"
            ],
            "text/plain": [
              "   index  ... code_url\n",
              "0      1  ...    10402\n",
              "1      2  ...     1062\n",
              "2      3  ...     9056\n",
              "3      4  ...     5392\n",
              "4      5  ...     2682\n",
              "\n",
              "[5 rows x 7 columns]"
            ]
          },
          "metadata": {
            "tags": []
          },
          "execution_count": 283
        }
      ]
    },
    {
      "cell_type": "markdown",
      "metadata": {
        "id": "jsphFdKmQ1ZD"
      },
      "source": [
        "On tokenize puis on enlève les stopwords."
      ]
    },
    {
      "cell_type": "code",
      "metadata": {
        "id": "Ms6E9oLO5dXI",
        "colab": {
          "base_uri": "https://localhost:8080/"
        },
        "outputId": "8c8dabda-dca0-4330-f793-fe71e4c89d18"
      },
      "source": [
        "from nltk.corpus import stopwords\n",
        "import nltk\n",
        "nltk.download('punkt')\n",
        "nltk.download('stopwords')\n",
        "from nltk.tokenize import word_tokenize\n",
        "\n",
        "reviews = review_filtered.review.str.cat(sep=' ')\n",
        "# on découpe selon les mots\n",
        "tokens = word_tokenize(reviews)\n",
        "stop_words = set(stopwords.words('english'))\n",
        "tokens = [w for w in tokens if not w in stop_words]\n",
        "words=[word.lower() for word in tokens if word.isalpha()]\n"
      ],
      "execution_count": 54,
      "outputs": [
        {
          "output_type": "stream",
          "text": [
            "[nltk_data] Downloading package punkt to /root/nltk_data...\n",
            "[nltk_data]   Unzipping tokenizers/punkt.zip.\n",
            "[nltk_data] Downloading package stopwords to /root/nltk_data...\n",
            "[nltk_data]   Unzipping corpora/stopwords.zip.\n"
          ],
          "name": "stdout"
        }
      ]
    },
    {
      "cell_type": "code",
      "metadata": {
        "colab": {
          "base_uri": "https://localhost:8080/"
        },
        "id": "Etq4YUMgQkL2",
        "outputId": "9932f4ee-e93f-42d4-aa7c-138f7a65136b"
      },
      "source": [
        "vocabulary = set(words)\n",
        "print(len(vocabulary))\n",
        "frequency_dist = nltk.FreqDist(words)\n",
        "print('les 10 mots les plus fréquents',sorted(frequency_dist,key=frequency_dist.__getitem__, reverse=True)[0:20])\n"
      ],
      "execution_count": 55,
      "outputs": [
        {
          "output_type": "stream",
          "text": [
            "62144\n",
            "les 10 mots les plus fréquents ['br', 'i', 'movie', 'the', 'film', 'one', 'like', 'it', 'good', 'this', 'would', 'even', 'time', 'really', 'story', 'see', 'great', 'well', 'much', 'could']\n"
          ],
          "name": "stdout"
        }
      ]
    },
    {
      "cell_type": "markdown",
      "metadata": {
        "id": "1UvqljuaY-4K"
      },
      "source": [
        "Il y a encore quelques stop words qu'on va retirer. On rajoute les mots pertinents à retirer dans la liste *to_remove* jusqu'à ce que la liste des 10 mots les plus fréquents contienne des termes sans stopwords ainsi qu'uniquement des mots pertinents (par exemple *movies* ou *film* ne sont pas très pertinents puisque tous les objets sont des films ici)."
      ]
    },
    {
      "cell_type": "code",
      "metadata": {
        "id": "v4aCj6yoYHdk"
      },
      "source": [
        "to_remove = ['i','br', 'the','this', 'it', 'one', 'movie', 'film']\n",
        "words = [word for word in words if word not in to_remove]"
      ],
      "execution_count": 59,
      "outputs": []
    },
    {
      "cell_type": "code",
      "metadata": {
        "colab": {
          "base_uri": "https://localhost:8080/",
          "height": 198
        },
        "id": "ZglF-ogfQltJ",
        "outputId": "d5717a47-0af4-42df-cef7-10e4e48a85b2"
      },
      "source": [
        "from wordcloud import WordCloud\n",
        "import matplotlib.pyplot as plt\n",
        "vocabulary = set(words)\n",
        "frequency_dist = nltk.FreqDist(words)\n",
        "wordcloud = WordCloud().generate_from_frequencies(frequency_dist)\n",
        "plt.imshow(wordcloud)\n",
        "plt.axis(\"off\")\n",
        "plt.show()\n"
      ],
      "execution_count": 60,
      "outputs": [
        {
          "output_type": "display_data",
          "data": {
            "image/png": "[encoded data removed]",
            "text/plain": [
              "<Figure size 432x288 with 1 Axes>"
            ]
          },
          "metadata": {
            "tags": [],
            "needs_background": "light"
          }
        }
      ]
    },
    {
      "cell_type": "markdown",
      "metadata": {
        "id": "-MoL-pKfZuDZ"
      },
      "source": [
        "Comme nous utilisons des subsets des bases d'apprentissage et d'entraînement initialement fournies, nous allons recréer ces bases pour notre modèle de sentiment analysis. "
      ]
    },
    {
      "cell_type": "code",
      "metadata": {
        "id": "S5SnxcXfVv14",
        "colab": {
          "base_uri": "https://localhost:8080/"
        },
        "outputId": "c4bb8071-7c2e-4ce8-e1b6-53f81ac375c1"
      },
      "source": [
        "n_max = len(review_filtered)/2\n",
        "n_max "
      ],
      "execution_count": 284,
      "outputs": [
        {
          "output_type": "execute_result",
          "data": {
            "text/plain": [
              "9792.0"
            ]
          },
          "metadata": {
            "tags": []
          },
          "execution_count": 284
        }
      ]
    },
    {
      "cell_type": "code",
      "metadata": {
        "colab": {
          "base_uri": "https://localhost:8080/"
        },
        "id": "kXVGtQ0qZ4nY",
        "outputId": "92d6c82b-11d0-4f6a-8159-07aed1cc05d8"
      },
      "source": [
        "print(len(review_filtered.loc[:n_max-1, 'review'].values), len(review_filtered.loc[n_max:,'review'].values))"
      ],
      "execution_count": 285,
      "outputs": [
        {
          "output_type": "stream",
          "text": [
            "9792 9792\n"
          ],
          "name": "stdout"
        }
      ]
    },
    {
      "cell_type": "code",
      "metadata": {
        "id": "RRrzbc_eX6gw"
      },
      "source": [
        "x_train = review_filtered.loc[:n_max-1, 'review'].values\n",
        "y_train = review_filtered.loc[:n_max-1, 'sentiment'].values\n",
        "x_test = review_filtered.loc[n_max:,'review'].values\n",
        "y_test = review_filtered.loc[n_max:,'sentiment'].values"
      ],
      "execution_count": 286,
      "outputs": []
    },
    {
      "cell_type": "markdown",
      "metadata": {
        "id": "BxKBipcrdOjQ"
      },
      "source": [
        "## Classificateur naïf bayésien"
      ]
    },
    {
      "cell_type": "markdown",
      "metadata": {
        "id": "4DhPyPI2aoR6"
      },
      "source": [
        "On préprocess le texte avec *TFidfTransformer* : "
      ]
    },
    {
      "cell_type": "code",
      "metadata": {
        "colab": {
          "base_uri": "https://localhost:8080/"
        },
        "id": "nc0kP4A4afW5",
        "outputId": "46de71fb-c288-47f6-febf-a2ca3dc6d219"
      },
      "source": [
        "from sklearn.feature_extraction.text import TfidfTransformer\n",
        "from sklearn.feature_extraction.text import TfidfVectorizer\n",
        "vectorizer = TfidfVectorizer()\n",
        "train_vectors = vectorizer.fit_transform(x_train)\n",
        "test_vectors = vectorizer.transform(x_test)\n",
        "print(train_vectors.shape, test_vectors.shape)"
      ],
      "execution_count": 287,
      "outputs": [
        {
          "output_type": "stream",
          "text": [
            "(9792, 48607) (9792, 48607)\n"
          ],
          "name": "stdout"
        }
      ]
    },
    {
      "cell_type": "markdown",
      "metadata": {
        "id": "6WfCz2OXa20U"
      },
      "source": [
        "On utilise un classifier naïf bayésien pour entraîner notre modèle."
      ]
    },
    {
      "cell_type": "code",
      "metadata": {
        "id": "ofK28U6SavxK"
      },
      "source": [
        "from sklearn.naive_bayes import MultinomialNB\n",
        "clf = MultinomialNB().fit(train_vectors, y_train)"
      ],
      "execution_count": 64,
      "outputs": []
    },
    {
      "cell_type": "markdown",
      "metadata": {
        "id": "g_QXMuOYbCKu"
      },
      "source": [
        "Maintenant que le modèle est entraîné, on s'intéresse au score :"
      ]
    },
    {
      "cell_type": "code",
      "metadata": {
        "colab": {
          "base_uri": "https://localhost:8080/"
        },
        "id": "0EipgBm-a1az",
        "outputId": "b5b2bf51-5036-4d27-a6ed-d633fd638450"
      },
      "source": [
        "from  sklearn.metrics  import accuracy_score\n",
        "predicted = clf.predict(test_vectors)\n",
        "print(accuracy_score(y_test,predicted))\n"
      ],
      "execution_count": 65,
      "outputs": [
        {
          "output_type": "stream",
          "text": [
            "0.8278186274509803\n"
          ],
          "name": "stdout"
        }
      ]
    },
    {
      "cell_type": "code",
      "metadata": {
        "colab": {
          "base_uri": "https://localhost:8080/"
        },
        "id": "q6L7jYM-d8_S",
        "outputId": "b92651cd-c80a-43a7-e616-cc591f2a52dd"
      },
      "source": [
        "from sklearn.metrics import accuracy_score, f1_score, precision_score, recall_score, confusion_matrix\n",
        "tab = pd.DataFrame([[accuracy_score(y_test, predicted)], [f1_score(y_test, predicted)],[precision_score(y_test, predicted)], [recall_score(y_test, predicted)]], index=['accuracy', 'f1', 'precision', 'recall'], columns = ['score'])\n",
        "tab"
      ],
      "execution_count": null,
      "outputs": [
        {
          "output_type": "execute_result",
          "data": {
            "text/html": [
              "<div>\n",
              "<style scoped>\n",
              "    .dataframe tbody tr th:only-of-type {\n",
              "        vertical-align: middle;\n",
              "    }\n",
              "\n",
              "    .dataframe tbody tr th {\n",
              "        vertical-align: top;\n",
              "    }\n",
              "\n",
              "    .dataframe thead th {\n",
              "        text-align: right;\n",
              "    }\n",
              "</style>\n",
              "<table border=\"1\" class=\"dataframe\">\n",
              "  <thead>\n",
              "    <tr style=\"text-align: right;\">\n",
              "      <th></th>\n",
              "      <th>score</th>\n",
              "    </tr>\n",
              "  </thead>\n",
              "  <tbody>\n",
              "    <tr>\n",
              "      <th>accuracy</th>\n",
              "      <td>0.827819</td>\n",
              "    </tr>\n",
              "    <tr>\n",
              "      <th>f1</th>\n",
              "      <td>0.838506</td>\n",
              "    </tr>\n",
              "    <tr>\n",
              "      <th>precision</th>\n",
              "      <td>0.840922</td>\n",
              "    </tr>\n",
              "    <tr>\n",
              "      <th>recall</th>\n",
              "      <td>0.836103</td>\n",
              "    </tr>\n",
              "  </tbody>\n",
              "</table>\n",
              "</div>"
            ],
            "text/plain": [
              "              score\n",
              "accuracy   0.827819\n",
              "f1         0.838506\n",
              "precision  0.840922\n",
              "recall     0.836103"
            ]
          },
          "metadata": {
            "tags": []
          },
          "execution_count": 51
        }
      ]
    },
    {
      "cell_type": "code",
      "metadata": {
        "colab": {
          "base_uri": "https://localhost:8080/"
        },
        "id": "1RavLKBoeCDL",
        "outputId": "6cb6968f-a55c-4677-fcb7-6d0123d6a19a"
      },
      "source": [
        "c = confusion_matrix(y_test, predicted)\n",
        "sns.heatmap(c)"
      ],
      "execution_count": null,
      "outputs": [
        {
          "output_type": "execute_result",
          "data": {
            "text/plain": [
              "<matplotlib.axes._subplots.AxesSubplot at 0x7f00074e5400>"
            ]
          },
          "metadata": {
            "tags": []
          },
          "execution_count": 52
        },
        {
          "output_type": "display_data",
          "data": {
            "image/png": "[encoded data removed]",
            "text/plain": [
              "<Figure size 432x288 with 2 Axes>"
            ]
          },
          "metadata": {
            "tags": [],
            "needs_background": "light"
          }
        }
      ]
    },
    {
      "cell_type": "markdown",
      "metadata": {
        "id": "9gX1VQVMbJkE"
      },
      "source": [
        "On obtient un score de 84,71% sur la prédiction des sentiments positifs ou négatifs générés par les commentaires utilisateurs. On voit sur la matrice de confiance que les erreurs de type I (faux positifs) et de type II (faux négatifs) sont marginales. \n",
        "A priori, le classificateur est performant, mais il se trouve que SVM est une méthode d'ordinaire meilleure que le classificateur naïf bayésien. \n",
        "On va essayer d'améliorer ce score en utilisant un SVM plutôt qu'un classificateur naïf bayésien. L'avantage du classificateur naïf bayésien en dépit de sa performance est la rapidité d'exécution par rapport au SVM."
      ]
    },
    {
      "cell_type": "markdown",
      "metadata": {
        "id": "DBFjwjKkmONj"
      },
      "source": [
        "### 5-fold validation croisée"
      ]
    },
    {
      "cell_type": "code",
      "metadata": {
        "id": "GDZtdxvamFz4",
        "colab": {
          "base_uri": "https://localhost:8080/"
        },
        "outputId": "ff8d8d55-2eab-44c5-d45d-b48563839bdc"
      },
      "source": [
        "from sklearn.model_selection import cross_val_score\n",
        "scores = cross_val_score(clf, train_vectors, y_train, cv=5)\n",
        "print(\"Cross-validation scores: {}\".format(scores))"
      ],
      "execution_count": null,
      "outputs": [
        {
          "output_type": "stream",
          "text": [
            "Cross-validation scores: [0.87799898 0.87442573 0.88508682 0.86210419 0.88100102]\n"
          ],
          "name": "stdout"
        }
      ]
    },
    {
      "cell_type": "markdown",
      "metadata": {
        "id": "gCoXtIMkdSVs"
      },
      "source": [
        "## Classificateur SVM"
      ]
    },
    {
      "cell_type": "code",
      "metadata": {
        "id": "pcssCwFla_Ii"
      },
      "source": [
        "from sklearn.model_selection import train_test_split\n",
        "from sklearn.metrics import classification_report"
      ],
      "execution_count": null,
      "outputs": []
    },
    {
      "cell_type": "code",
      "metadata": {
        "id": "v-4tZ0g0dUiI"
      },
      "source": [
        "from sklearn.svm import SVC\n",
        "clf_svm = SVC(kernel='linear', C=1)\n",
        "clf_svm.fit(train_vectors, y_train)\n",
        "y_pred = clf.predict(test_vectors)"
      ],
      "execution_count": null,
      "outputs": []
    },
    {
      "cell_type": "code",
      "metadata": {
        "colab": {
          "base_uri": "https://localhost:8080/",
          "height": 171
        },
        "id": "EDfIq1Osdfuq",
        "outputId": "d9bf9fe4-365c-4572-e555-efd54b3a2d1d"
      },
      "source": [
        "from sklearn.metrics import accuracy_score, f1_score, precision_score, recall_score, confusion_matrix\n",
        "tab = pd.DataFrame([[accuracy_score(y_test, y_pred)], [f1_score(y_test, y_pred)],[precision_score(y_test,y_pred)], [recall_score(y_test, y_pred)]], index=['accuracy', 'f1', 'precision', 'recall'], columns = ['score'])\n",
        "tab"
      ],
      "execution_count": null,
      "outputs": [
        {
          "output_type": "execute_result",
          "data": {
            "text/html": [
              "<div>\n",
              "<style scoped>\n",
              "    .dataframe tbody tr th:only-of-type {\n",
              "        vertical-align: middle;\n",
              "    }\n",
              "\n",
              "    .dataframe tbody tr th {\n",
              "        vertical-align: top;\n",
              "    }\n",
              "\n",
              "    .dataframe thead th {\n",
              "        text-align: right;\n",
              "    }\n",
              "</style>\n",
              "<table border=\"1\" class=\"dataframe\">\n",
              "  <thead>\n",
              "    <tr style=\"text-align: right;\">\n",
              "      <th></th>\n",
              "      <th>score</th>\n",
              "    </tr>\n",
              "  </thead>\n",
              "  <tbody>\n",
              "    <tr>\n",
              "      <th>accuracy</th>\n",
              "      <td>0.827819</td>\n",
              "    </tr>\n",
              "    <tr>\n",
              "      <th>f1</th>\n",
              "      <td>0.838506</td>\n",
              "    </tr>\n",
              "    <tr>\n",
              "      <th>precision</th>\n",
              "      <td>0.840922</td>\n",
              "    </tr>\n",
              "    <tr>\n",
              "      <th>recall</th>\n",
              "      <td>0.836103</td>\n",
              "    </tr>\n",
              "  </tbody>\n",
              "</table>\n",
              "</div>"
            ],
            "text/plain": [
              "              score\n",
              "accuracy   0.827819\n",
              "f1         0.838506\n",
              "precision  0.840922\n",
              "recall     0.836103"
            ]
          },
          "metadata": {
            "tags": []
          },
          "execution_count": 56
        }
      ]
    },
    {
      "cell_type": "markdown",
      "metadata": {
        "id": "9MbTu-q-e-bI"
      },
      "source": [
        "En effet, le score en SVM est un peu plus élevé, avec une précision de 87,21%. Le temps d'exécution est bien plus long en revanche. "
      ]
    },
    {
      "cell_type": "code",
      "metadata": {
        "colab": {
          "base_uri": "https://localhost:8080/",
          "height": 283
        },
        "id": "sXxCJ4V6ezfu",
        "outputId": "297eefdb-db26-44c4-e2b7-7e229b5b18ac"
      },
      "source": [
        "c = confusion_matrix(y_test, y_pred)\n",
        "sns.heatmap(c)"
      ],
      "execution_count": null,
      "outputs": [
        {
          "output_type": "execute_result",
          "data": {
            "text/plain": [
              "<matplotlib.axes._subplots.AxesSubplot at 0x7f00019f1c18>"
            ]
          },
          "metadata": {
            "tags": []
          },
          "execution_count": 57
        },
        {
          "output_type": "display_data",
          "data": {
            "image/png": "[encoded data removed]",
            "text/plain": [
              "<Figure size 432x288 with 2 Axes>"
            ]
          },
          "metadata": {
            "tags": [],
            "needs_background": "light"
          }
        }
      ]
    },
    {
      "cell_type": "markdown",
      "metadata": {
        "id": "E_o4oq3ffeQA"
      },
      "source": [
        "La matrice de confusion est à peu près inchangée."
      ]
    },
    {
      "cell_type": "markdown",
      "metadata": {
        "id": "rSudlUTUfPHD"
      },
      "source": [
        "### 5-fold validation croisée SVM"
      ]
    },
    {
      "cell_type": "code",
      "metadata": {
        "colab": {
          "base_uri": "https://localhost:8080/"
        },
        "id": "aOzxXFIbfUdq",
        "outputId": "64f61bff-6eec-490d-82a6-667b60e81433"
      },
      "source": [
        "scores = cross_val_score(clf_svm, train_vectors, y_train, cv=5)\n",
        "print(\"Cross-validation scores: {}\".format(scores))"
      ],
      "execution_count": null,
      "outputs": [
        {
          "output_type": "stream",
          "text": [
            "Cross-validation scores: [0.90658499 0.8963757  0.90091931 0.89121553 0.90040858]\n"
          ],
          "name": "stdout"
        }
      ]
    },
    {
      "cell_type": "markdown",
      "metadata": {
        "id": "mUuoS02fhuCg"
      },
      "source": [
        "# Approfondissement de la régression\n"
      ]
    },
    {
      "cell_type": "markdown",
      "metadata": {
        "id": "waJc5ZT1jRdX"
      },
      "source": [
        "A présent, on va rajouter à la base les données de score imdb associés aux commentaires et la nature des commentaires (positifs ou négatifs) afin de voir si cela améliore la régression sur le score."
      ]
    },
    {
      "cell_type": "markdown",
      "metadata": {
        "id": "gX4IAcE2kfFE"
      },
      "source": [
        "## Préparation des données"
      ]
    },
    {
      "cell_type": "markdown",
      "metadata": {
        "id": "ufqyJNci3CNM"
      },
      "source": [
        "Il nous reste à agréger les reviews et les rassembler par id. "
      ]
    },
    {
      "cell_type": "code",
      "metadata": {
        "id": "tLQKf3CRkg_M"
      },
      "source": [
        "gr_review = review_filtered.groupby('imdb_id').mean()\n",
        "#gr_review = gr_review.drop(columns=['Unnamed: 0', 'url_code'])\n"
      ],
      "execution_count": 288,
      "outputs": []
    },
    {
      "cell_type": "code",
      "metadata": {
        "colab": {
          "base_uri": "https://localhost:8080/"
        },
        "id": "J3JEpjr0l8nN",
        "outputId": "bb4021b7-d116-44cc-89d7-a7c133fbf706"
      },
      "source": [
        "print(\"Taille de l'échantillon final après filtration et agrégation par id des commentaires\", len(pd.unique(review_filtered.imdb_id)))"
      ],
      "execution_count": 289,
      "outputs": [
        {
          "output_type": "stream",
          "text": [
            "Taille de l'échantillon final après filtration et agrégation par id des commentaires 1779\n"
          ],
          "name": "stdout"
        }
      ]
    },
    {
      "cell_type": "markdown",
      "metadata": {
        "id": "XEUx7T912_49"
      },
      "source": [
        "On agrège sur la base principale."
      ]
    },
    {
      "cell_type": "code",
      "metadata": {
        "id": "tr26R_TPk-Gg"
      },
      "source": [
        "df_2 = pd.merge(df, gr_review, left_on ='imdb_id', right_on ='imdb_id')"
      ],
      "execution_count": 290,
      "outputs": []
    },
    {
      "cell_type": "code",
      "metadata": {
        "id": "anZujPCSn1TG",
        "colab": {
          "base_uri": "https://localhost:8080/",
          "height": 166
        },
        "outputId": "ff1fe11b-cc9f-41c3-c82e-72383af9d28b"
      },
      "source": [
        "corr = df_2[['budget', 'revenue', 'runtime', 'score_1', 'sentiment', 'rating']].corr()\n",
        "corr.style.background_gradient(cmap = 'coolwarm')"
      ],
      "execution_count": 291,
      "outputs": [
        {
          "output_type": "execute_result",
          "data": {
            "text/html": [
              "<style  type=\"text/css\" >\n",
              "#T_60779d30_3e52_11eb_985c_0242ac1c0002row0_col0,#T_60779d30_3e52_11eb_985c_0242ac1c0002row1_col1,#T_60779d30_3e52_11eb_985c_0242ac1c0002row2_col2,#T_60779d30_3e52_11eb_985c_0242ac1c0002row3_col3,#T_60779d30_3e52_11eb_985c_0242ac1c0002row4_col4,#T_60779d30_3e52_11eb_985c_0242ac1c0002row5_col5{\n",
              "            background-color:  #b40426;\n",
              "            color:  #f1f1f1;\n",
              "        }#T_60779d30_3e52_11eb_985c_0242ac1c0002row0_col1{\n",
              "            background-color:  #f7b194;\n",
              "            color:  #000000;\n",
              "        }#T_60779d30_3e52_11eb_985c_0242ac1c0002row0_col2{\n",
              "            background-color:  #82a6fb;\n",
              "            color:  #000000;\n",
              "        }#T_60779d30_3e52_11eb_985c_0242ac1c0002row0_col3{\n",
              "            background-color:  #e2dad5;\n",
              "            color:  #000000;\n",
              "        }#T_60779d30_3e52_11eb_985c_0242ac1c0002row0_col4,#T_60779d30_3e52_11eb_985c_0242ac1c0002row0_col5,#T_60779d30_3e52_11eb_985c_0242ac1c0002row4_col1,#T_60779d30_3e52_11eb_985c_0242ac1c0002row4_col3,#T_60779d30_3e52_11eb_985c_0242ac1c0002row5_col0,#T_60779d30_3e52_11eb_985c_0242ac1c0002row5_col1,#T_60779d30_3e52_11eb_985c_0242ac1c0002row5_col2{\n",
              "            background-color:  #3b4cc0;\n",
              "            color:  #f1f1f1;\n",
              "        }#T_60779d30_3e52_11eb_985c_0242ac1c0002row1_col0{\n",
              "            background-color:  #f7ad90;\n",
              "            color:  #000000;\n",
              "        }#T_60779d30_3e52_11eb_985c_0242ac1c0002row1_col2{\n",
              "            background-color:  #81a4fb;\n",
              "            color:  #000000;\n",
              "        }#T_60779d30_3e52_11eb_985c_0242ac1c0002row1_col3{\n",
              "            background-color:  #f18f71;\n",
              "            color:  #000000;\n",
              "        }#T_60779d30_3e52_11eb_985c_0242ac1c0002row1_col4{\n",
              "            background-color:  #4358cb;\n",
              "            color:  #f1f1f1;\n",
              "        }#T_60779d30_3e52_11eb_985c_0242ac1c0002row1_col5{\n",
              "            background-color:  #455cce;\n",
              "            color:  #f1f1f1;\n",
              "        }#T_60779d30_3e52_11eb_985c_0242ac1c0002row2_col0{\n",
              "            background-color:  #96b7ff;\n",
              "            color:  #000000;\n",
              "        }#T_60779d30_3e52_11eb_985c_0242ac1c0002row2_col1,#T_60779d30_3e52_11eb_985c_0242ac1c0002row3_col2{\n",
              "            background-color:  #89acfd;\n",
              "            color:  #000000;\n",
              "        }#T_60779d30_3e52_11eb_985c_0242ac1c0002row2_col3{\n",
              "            background-color:  #8db0fe;\n",
              "            color:  #000000;\n",
              "        }#T_60779d30_3e52_11eb_985c_0242ac1c0002row2_col4{\n",
              "            background-color:  #4e68d8;\n",
              "            color:  #000000;\n",
              "        }#T_60779d30_3e52_11eb_985c_0242ac1c0002row2_col5{\n",
              "            background-color:  #4f69d9;\n",
              "            color:  #000000;\n",
              "        }#T_60779d30_3e52_11eb_985c_0242ac1c0002row3_col0{\n",
              "            background-color:  #e8d6cc;\n",
              "            color:  #000000;\n",
              "        }#T_60779d30_3e52_11eb_985c_0242ac1c0002row3_col1{\n",
              "            background-color:  #f18d6f;\n",
              "            color:  #000000;\n",
              "        }#T_60779d30_3e52_11eb_985c_0242ac1c0002row3_col4{\n",
              "            background-color:  #485fd1;\n",
              "            color:  #f1f1f1;\n",
              "        }#T_60779d30_3e52_11eb_985c_0242ac1c0002row3_col5{\n",
              "            background-color:  #4c66d6;\n",
              "            color:  #000000;\n",
              "        }#T_60779d30_3e52_11eb_985c_0242ac1c0002row4_col0{\n",
              "            background-color:  #3d50c3;\n",
              "            color:  #f1f1f1;\n",
              "        }#T_60779d30_3e52_11eb_985c_0242ac1c0002row4_col2,#T_60779d30_3e52_11eb_985c_0242ac1c0002row5_col3{\n",
              "            background-color:  #3c4ec2;\n",
              "            color:  #f1f1f1;\n",
              "        }#T_60779d30_3e52_11eb_985c_0242ac1c0002row4_col5,#T_60779d30_3e52_11eb_985c_0242ac1c0002row5_col4{\n",
              "            background-color:  #c12b30;\n",
              "            color:  #f1f1f1;\n",
              "        }</style><table id=\"T_60779d30_3e52_11eb_985c_0242ac1c0002\" ><thead>    <tr>        <th class=\"blank level0\" ></th>        <th class=\"col_heading level0 col0\" >budget</th>        <th class=\"col_heading level0 col1\" >revenue</th>        <th class=\"col_heading level0 col2\" >runtime</th>        <th class=\"col_heading level0 col3\" >score_1</th>        <th class=\"col_heading level0 col4\" >sentiment</th>        <th class=\"col_heading level0 col5\" >rating</th>    </tr></thead><tbody>\n",
              "                <tr>\n",
              "                        <th id=\"T_60779d30_3e52_11eb_985c_0242ac1c0002level0_row0\" class=\"row_heading level0 row0\" >budget</th>\n",
              "                        <td id=\"T_60779d30_3e52_11eb_985c_0242ac1c0002row0_col0\" class=\"data row0 col0\" >1.000000</td>\n",
              "                        <td id=\"T_60779d30_3e52_11eb_985c_0242ac1c0002row0_col1\" class=\"data row0 col1\" >0.688175</td>\n",
              "                        <td id=\"T_60779d30_3e52_11eb_985c_0242ac1c0002row0_col2\" class=\"data row0 col2\" >0.253552</td>\n",
              "                        <td id=\"T_60779d30_3e52_11eb_985c_0242ac1c0002row0_col3\" class=\"data row0 col3\" >0.534138</td>\n",
              "                        <td id=\"T_60779d30_3e52_11eb_985c_0242ac1c0002row0_col4\" class=\"data row0 col4\" >-0.019465</td>\n",
              "                        <td id=\"T_60779d30_3e52_11eb_985c_0242ac1c0002row0_col5\" class=\"data row0 col5\" >-0.028066</td>\n",
              "            </tr>\n",
              "            <tr>\n",
              "                        <th id=\"T_60779d30_3e52_11eb_985c_0242ac1c0002level0_row1\" class=\"row_heading level0 row1\" >revenue</th>\n",
              "                        <td id=\"T_60779d30_3e52_11eb_985c_0242ac1c0002row1_col0\" class=\"data row1 col0\" >0.688175</td>\n",
              "                        <td id=\"T_60779d30_3e52_11eb_985c_0242ac1c0002row1_col1\" class=\"data row1 col1\" >1.000000</td>\n",
              "                        <td id=\"T_60779d30_3e52_11eb_985c_0242ac1c0002row1_col2\" class=\"data row1 col2\" >0.249538</td>\n",
              "                        <td id=\"T_60779d30_3e52_11eb_985c_0242ac1c0002row1_col3\" class=\"data row1 col3\" >0.780262</td>\n",
              "                        <td id=\"T_60779d30_3e52_11eb_985c_0242ac1c0002row1_col4\" class=\"data row1 col4\" >0.011870</td>\n",
              "                        <td id=\"T_60779d30_3e52_11eb_985c_0242ac1c0002row1_col5\" class=\"data row1 col5\" >0.011924</td>\n",
              "            </tr>\n",
              "            <tr>\n",
              "                        <th id=\"T_60779d30_3e52_11eb_985c_0242ac1c0002level0_row2\" class=\"row_heading level0 row2\" >runtime</th>\n",
              "                        <td id=\"T_60779d30_3e52_11eb_985c_0242ac1c0002row2_col0\" class=\"data row2 col0\" >0.253552</td>\n",
              "                        <td id=\"T_60779d30_3e52_11eb_985c_0242ac1c0002row2_col1\" class=\"data row2 col1\" >0.249538</td>\n",
              "                        <td id=\"T_60779d30_3e52_11eb_985c_0242ac1c0002row2_col2\" class=\"data row2 col2\" >1.000000</td>\n",
              "                        <td id=\"T_60779d30_3e52_11eb_985c_0242ac1c0002row2_col3\" class=\"data row2 col3\" >0.271800</td>\n",
              "                        <td id=\"T_60779d30_3e52_11eb_985c_0242ac1c0002row2_col4\" class=\"data row2 col4\" >0.048067</td>\n",
              "                        <td id=\"T_60779d30_3e52_11eb_985c_0242ac1c0002row2_col5\" class=\"data row2 col5\" >0.043022</td>\n",
              "            </tr>\n",
              "            <tr>\n",
              "                        <th id=\"T_60779d30_3e52_11eb_985c_0242ac1c0002level0_row3\" class=\"row_heading level0 row3\" >score_1</th>\n",
              "                        <td id=\"T_60779d30_3e52_11eb_985c_0242ac1c0002row3_col0\" class=\"data row3 col0\" >0.534138</td>\n",
              "                        <td id=\"T_60779d30_3e52_11eb_985c_0242ac1c0002row3_col1\" class=\"data row3 col1\" >0.780262</td>\n",
              "                        <td id=\"T_60779d30_3e52_11eb_985c_0242ac1c0002row3_col2\" class=\"data row3 col2\" >0.271800</td>\n",
              "                        <td id=\"T_60779d30_3e52_11eb_985c_0242ac1c0002row3_col3\" class=\"data row3 col3\" >1.000000</td>\n",
              "                        <td id=\"T_60779d30_3e52_11eb_985c_0242ac1c0002row3_col4\" class=\"data row3 col4\" >0.028212</td>\n",
              "                        <td id=\"T_60779d30_3e52_11eb_985c_0242ac1c0002row3_col5\" class=\"data row3 col5\" >0.032445</td>\n",
              "            </tr>\n",
              "            <tr>\n",
              "                        <th id=\"T_60779d30_3e52_11eb_985c_0242ac1c0002level0_row4\" class=\"row_heading level0 row4\" >sentiment</th>\n",
              "                        <td id=\"T_60779d30_3e52_11eb_985c_0242ac1c0002row4_col0\" class=\"data row4 col0\" >-0.019465</td>\n",
              "                        <td id=\"T_60779d30_3e52_11eb_985c_0242ac1c0002row4_col1\" class=\"data row4 col1\" >0.011870</td>\n",
              "                        <td id=\"T_60779d30_3e52_11eb_985c_0242ac1c0002row4_col2\" class=\"data row4 col2\" >0.048067</td>\n",
              "                        <td id=\"T_60779d30_3e52_11eb_985c_0242ac1c0002row4_col3\" class=\"data row4 col3\" >0.028212</td>\n",
              "                        <td id=\"T_60779d30_3e52_11eb_985c_0242ac1c0002row4_col4\" class=\"data row4 col4\" >1.000000</td>\n",
              "                        <td id=\"T_60779d30_3e52_11eb_985c_0242ac1c0002row4_col5\" class=\"data row4 col5\" >0.961756</td>\n",
              "            </tr>\n",
              "            <tr>\n",
              "                        <th id=\"T_60779d30_3e52_11eb_985c_0242ac1c0002level0_row5\" class=\"row_heading level0 row5\" >rating</th>\n",
              "                        <td id=\"T_60779d30_3e52_11eb_985c_0242ac1c0002row5_col0\" class=\"data row5 col0\" >-0.028066</td>\n",
              "                        <td id=\"T_60779d30_3e52_11eb_985c_0242ac1c0002row5_col1\" class=\"data row5 col1\" >0.011924</td>\n",
              "                        <td id=\"T_60779d30_3e52_11eb_985c_0242ac1c0002row5_col2\" class=\"data row5 col2\" >0.043022</td>\n",
              "                        <td id=\"T_60779d30_3e52_11eb_985c_0242ac1c0002row5_col3\" class=\"data row5 col3\" >0.032445</td>\n",
              "                        <td id=\"T_60779d30_3e52_11eb_985c_0242ac1c0002row5_col4\" class=\"data row5 col4\" >0.961756</td>\n",
              "                        <td id=\"T_60779d30_3e52_11eb_985c_0242ac1c0002row5_col5\" class=\"data row5 col5\" >1.000000</td>\n",
              "            </tr>\n",
              "    </tbody></table>"
            ],
            "text/plain": [
              "<pandas.io.formats.style.Styler at 0x7f6efba41ba8>"
            ]
          },
          "metadata": {
            "tags": []
          },
          "execution_count": 291
        }
      ]
    },
    {
      "cell_type": "markdown",
      "metadata": {
        "id": "v8H_xHGH3KPU"
      },
      "source": [
        "La matrice de corrélation ne nous indique pas une grande influence de *sentiment* et *rating* dans le *score_1* mais toutefois, comme on s'attend, la corrélation est positive. Tentons toutefois d'observer si l'ajout de ces variables améliore la prédiction."
      ]
    },
    {
      "cell_type": "code",
      "metadata": {
        "id": "K22b38BrfaC9"
      },
      "source": [
        "X = pd.DataFrame(np.c_[df_2.budget, df_2.revenue, df_2.rating, df_2.sentiment], columns= ['budget', 'revenue', 'rating', 'sentiment'])\n",
        "Y = df_2.score_1"
      ],
      "execution_count": 292,
      "outputs": []
    },
    {
      "cell_type": "markdown",
      "metadata": {
        "id": "tYDn7K_0nHBb"
      },
      "source": [
        "## Régression linéaire avec ajout de \"rating\" et \"sentiment\""
      ]
    },
    {
      "cell_type": "code",
      "metadata": {
        "id": "QBqK6H5PlfeW"
      },
      "source": [
        "X_train3, X_test3, Y_train3, Y_test3 = train_test_split(X, Y, test_size = 0.2, random_state=5)"
      ],
      "execution_count": 293,
      "outputs": []
    },
    {
      "cell_type": "code",
      "metadata": {
        "id": "AcwOAk3C3cpj",
        "outputId": "213e511b-0173-4955-c427-925534b40e10",
        "colab": {
          "base_uri": "https://localhost:8080/"
        }
      },
      "source": [
        "model3 = linear_model(X_train3, Y_train3, X_test3, Y_test3)"
      ],
      "execution_count": 294,
      "outputs": [
        {
          "output_type": "stream",
          "text": [
            "Performance du modèle sur la base d'apprentissage\n",
            "--------------------------------------\n",
            "L'erreur quadratique moyenne est 2751.7752581887908\n",
            "Le score R² est 0.634456027279134\n",
            "\n",
            "\n",
            "Performance du modèle sur la base de test\n",
            "--------------------------------------\n",
            "L'erreur quadratique moyenne est 2778.814420793052\n",
            "Le score R² est 0.451731471378768\n",
            "\n",
            "\n"
          ],
          "name": "stdout"
        }
      ]
    },
    {
      "cell_type": "code",
      "metadata": {
        "id": "HRsCAI9xGpmo",
        "outputId": "c3cc26a1-f2a7-4b67-b20e-11124973dcc0",
        "colab": {
          "base_uri": "https://localhost:8080/",
          "height": 235
        }
      },
      "source": [
        "l = []\n",
        "l.extend(model3[2:])\n",
        "l.append(len(X))\n",
        "\n",
        "table_resultats['model3'] = l\n",
        "table_resultats"
      ],
      "execution_count": 295,
      "outputs": [
        {
          "output_type": "execute_result",
          "data": {
            "text/html": [
              "<div>\n",
              "<style scoped>\n",
              "    .dataframe tbody tr th:only-of-type {\n",
              "        vertical-align: middle;\n",
              "    }\n",
              "\n",
              "    .dataframe tbody tr th {\n",
              "        vertical-align: top;\n",
              "    }\n",
              "\n",
              "    .dataframe thead th {\n",
              "        text-align: right;\n",
              "    }\n",
              "</style>\n",
              "<table border=\"1\" class=\"dataframe\">\n",
              "  <thead>\n",
              "    <tr style=\"text-align: right;\">\n",
              "      <th></th>\n",
              "      <th>model1</th>\n",
              "      <th>model2</th>\n",
              "      <th>model3</th>\n",
              "    </tr>\n",
              "    <tr>\n",
              "      <th>name</th>\n",
              "      <th></th>\n",
              "      <th></th>\n",
              "      <th></th>\n",
              "    </tr>\n",
              "  </thead>\n",
              "  <tbody>\n",
              "    <tr>\n",
              "      <th>r2_test</th>\n",
              "      <td>0.587987</td>\n",
              "      <td>0.152923</td>\n",
              "      <td>0.451731</td>\n",
              "    </tr>\n",
              "    <tr>\n",
              "      <th>r2_train</th>\n",
              "      <td>0.616217</td>\n",
              "      <td>0.145450</td>\n",
              "      <td>0.634456</td>\n",
              "    </tr>\n",
              "    <tr>\n",
              "      <th>MSE_test</th>\n",
              "      <td>3364.076265</td>\n",
              "      <td>181.425640</td>\n",
              "      <td>2778.814421</td>\n",
              "    </tr>\n",
              "    <tr>\n",
              "      <th>MSE_train</th>\n",
              "      <td>3467.430215</td>\n",
              "      <td>188.170446</td>\n",
              "      <td>2751.775258</td>\n",
              "    </tr>\n",
              "    <tr>\n",
              "      <th>count</th>\n",
              "      <td>17356.000000</td>\n",
              "      <td>13017.000000</td>\n",
              "      <td>1779.000000</td>\n",
              "    </tr>\n",
              "  </tbody>\n",
              "</table>\n",
              "</div>"
            ],
            "text/plain": [
              "                 model1        model2       model3\n",
              "name                                              \n",
              "r2_test        0.587987      0.152923     0.451731\n",
              "r2_train       0.616217      0.145450     0.634456\n",
              "MSE_test    3364.076265    181.425640  2778.814421\n",
              "MSE_train   3467.430215    188.170446  2751.775258\n",
              "count      17356.000000  13017.000000  1779.000000"
            ]
          },
          "metadata": {
            "tags": []
          },
          "execution_count": 295
        }
      ]
    },
    {
      "cell_type": "markdown",
      "metadata": {
        "id": "q2mrMHf77zdb"
      },
      "source": [
        "Il semblerait que l'ajout de variables supplémentaires diminue la qualité de la prédiction. En effet, on passe d'un $R^2$ de 59% à 45%, même si on diminue l'erreur quadratique."
      ]
    },
    {
      "cell_type": "markdown",
      "metadata": {
        "id": "Kin-EN9tnDzR"
      },
      "source": [
        "## Régression tronquée"
      ]
    },
    {
      "cell_type": "markdown",
      "metadata": {
        "id": "--qIEUlvmMrX"
      },
      "source": [
        "Sur les 1er et 3e quartiles. "
      ]
    },
    {
      "cell_type": "code",
      "metadata": {
        "id": "N_VtJwbXmFu7"
      },
      "source": [
        "first_quart = np.percentile(df_2.score_1, 25)\n",
        "third_quart = np.percentile(df_2.score_1, 75)\n",
        "\n",
        "# Filtration des données\n",
        "df_quart = df_2[df_2.score_1 > first_quart]\n",
        "df_quart = df_2[df_2.score_1 < third_quart]\n",
        "\n",
        "# Création des variables nécessaires\n",
        "X2 = pd.DataFrame(np.c_[df_quart.budget, df_quart.revenue], columns= ['budget', 'revenue'])\n",
        "Y2 = df_quart.score_1\n",
        "X_train4, X_test4, Y_train4, Y_test4 = train_test_split(X2, Y2, test_size = 0.2, random_state=5)\n"
      ],
      "execution_count": 296,
      "outputs": []
    },
    {
      "cell_type": "code",
      "metadata": {
        "id": "JqJYXJpN4Bs6",
        "outputId": "708b1421-0f8e-4e64-c25c-bfc18c99a71a",
        "colab": {
          "base_uri": "https://localhost:8080/"
        }
      },
      "source": [
        "model4 = linear_model(X_train4, Y_train4, X_test4, Y_test4)"
      ],
      "execution_count": 297,
      "outputs": [
        {
          "output_type": "stream",
          "text": [
            "Performance du modèle sur la base d'apprentissage\n",
            "--------------------------------------\n",
            "L'erreur quadratique moyenne est 173.1820015609836\n",
            "Le score R² est 0.20264541422578397\n",
            "\n",
            "\n",
            "Performance du modèle sur la base de test\n",
            "--------------------------------------\n",
            "L'erreur quadratique moyenne est 160.19713029033295\n",
            "Le score R² est 0.21978490918629323\n",
            "\n",
            "\n"
          ],
          "name": "stdout"
        }
      ]
    },
    {
      "cell_type": "code",
      "metadata": {
        "id": "wbO2SNBpHVhu",
        "outputId": "d13e146d-46e3-4e6c-a0b8-0b2db86f438a",
        "colab": {
          "base_uri": "https://localhost:8080/",
          "height": 235
        }
      },
      "source": [
        "l = []\n",
        "l.extend(model4[2:])\n",
        "l.append(len(X2))\n",
        "\n",
        "table_resultats['model4'] = l\n",
        "table_resultats"
      ],
      "execution_count": 298,
      "outputs": [
        {
          "output_type": "execute_result",
          "data": {
            "text/html": [
              "<div>\n",
              "<style scoped>\n",
              "    .dataframe tbody tr th:only-of-type {\n",
              "        vertical-align: middle;\n",
              "    }\n",
              "\n",
              "    .dataframe tbody tr th {\n",
              "        vertical-align: top;\n",
              "    }\n",
              "\n",
              "    .dataframe thead th {\n",
              "        text-align: right;\n",
              "    }\n",
              "</style>\n",
              "<table border=\"1\" class=\"dataframe\">\n",
              "  <thead>\n",
              "    <tr style=\"text-align: right;\">\n",
              "      <th></th>\n",
              "      <th>model1</th>\n",
              "      <th>model2</th>\n",
              "      <th>model3</th>\n",
              "      <th>model4</th>\n",
              "    </tr>\n",
              "    <tr>\n",
              "      <th>name</th>\n",
              "      <th></th>\n",
              "      <th></th>\n",
              "      <th></th>\n",
              "      <th></th>\n",
              "    </tr>\n",
              "  </thead>\n",
              "  <tbody>\n",
              "    <tr>\n",
              "      <th>r2_test</th>\n",
              "      <td>0.587987</td>\n",
              "      <td>0.152923</td>\n",
              "      <td>0.451731</td>\n",
              "      <td>0.219785</td>\n",
              "    </tr>\n",
              "    <tr>\n",
              "      <th>r2_train</th>\n",
              "      <td>0.616217</td>\n",
              "      <td>0.145450</td>\n",
              "      <td>0.634456</td>\n",
              "      <td>0.202645</td>\n",
              "    </tr>\n",
              "    <tr>\n",
              "      <th>MSE_test</th>\n",
              "      <td>3364.076265</td>\n",
              "      <td>181.425640</td>\n",
              "      <td>2778.814421</td>\n",
              "      <td>160.197130</td>\n",
              "    </tr>\n",
              "    <tr>\n",
              "      <th>MSE_train</th>\n",
              "      <td>3467.430215</td>\n",
              "      <td>188.170446</td>\n",
              "      <td>2751.775258</td>\n",
              "      <td>173.182002</td>\n",
              "    </tr>\n",
              "    <tr>\n",
              "      <th>count</th>\n",
              "      <td>17356.000000</td>\n",
              "      <td>13017.000000</td>\n",
              "      <td>1779.000000</td>\n",
              "      <td>1334.000000</td>\n",
              "    </tr>\n",
              "  </tbody>\n",
              "</table>\n",
              "</div>"
            ],
            "text/plain": [
              "                 model1        model2       model3       model4\n",
              "name                                                           \n",
              "r2_test        0.587987      0.152923     0.451731     0.219785\n",
              "r2_train       0.616217      0.145450     0.634456     0.202645\n",
              "MSE_test    3364.076265    181.425640  2778.814421   160.197130\n",
              "MSE_train   3467.430215    188.170446  2751.775258   173.182002\n",
              "count      17356.000000  13017.000000  1779.000000  1334.000000"
            ]
          },
          "metadata": {
            "tags": []
          },
          "execution_count": 298
        }
      ]
    },
    {
      "cell_type": "markdown",
      "metadata": {
        "id": "Z4jgb2LCmkqV"
      },
      "source": [
        "On a encore diminué l'erreur quadratique moyenne par rapport aux premières régressions linéaires mais le $R^2$ est toujours très très faible ce qui indique une mauvaise qualité de la prédiction. Il faut noter que si on a rajouté deux features pertinents à la régression, ce rajout nous a fait perdre de l'information puisque l'échantillon a été diminué à 1779 films."
      ]
    },
    {
      "cell_type": "markdown",
      "metadata": {
        "id": "Vt8G3qNm90F0"
      },
      "source": [
        "## Comparaison graphique des deux régressions"
      ]
    },
    {
      "cell_type": "code",
      "metadata": {
        "id": "kbYC52LtS7TO",
        "colab": {
          "base_uri": "https://localhost:8080/",
          "height": 1000
        },
        "outputId": "16d3d0d1-4c07-48f2-e7ea-3df4ccaf36c0"
      },
      "source": [
        "plot(Y_test,model3[1])\n",
        "plt.title('Prédiction de la variable score_1 par le budget, le revenu, sentiment et rating \\n Base entière')\n",
        "\n",
        "plot(Y_test2, model4[1])\n",
        "plt.title('Prédiction de la variable score_1 par le budget, le revenu, sentiment et rating \\n Valeurs de score_1 entre les 1er et 3ème quartiles')\n",
        "\n",
        "plt.show()"
      ],
      "execution_count": 300,
      "outputs": [
        {
          "output_type": "stream",
          "text": [
            "/usr/local/lib/python3.6/dist-packages/seaborn/distributions.py:2551: FutureWarning:\n",
            "\n",
            "`distplot` is a deprecated function and will be removed in a future version. Please adapt your code to use either `displot` (a figure-level function with similar flexibility) or `histplot` (an axes-level function for histograms).\n",
            "\n",
            "/usr/local/lib/python3.6/dist-packages/seaborn/distributions.py:2551: FutureWarning:\n",
            "\n",
            "`distplot` is a deprecated function and will be removed in a future version. Please adapt your code to use either `displot` (a figure-level function with similar flexibility) or `histplot` (an axes-level function for histograms).\n",
            "\n",
            "/usr/local/lib/python3.6/dist-packages/seaborn/distributions.py:2551: FutureWarning:\n",
            "\n",
            "`distplot` is a deprecated function and will be removed in a future version. Please adapt your code to use either `displot` (a figure-level function with similar flexibility) or `histplot` (an axes-level function for histograms).\n",
            "\n",
            "/usr/local/lib/python3.6/dist-packages/seaborn/distributions.py:2551: FutureWarning:\n",
            "\n",
            "`distplot` is a deprecated function and will be removed in a future version. Please adapt your code to use either `displot` (a figure-level function with similar flexibility) or `histplot` (an axes-level function for histograms).\n",
            "\n"
          ],
          "name": "stderr"
        },
        {
          "output_type": "display_data",
          "data": {
            "image/png": "[encoded data removed]",
            "text/plain": [
              "<Figure size 576x360 with 1 Axes>"
            ]
          },
          "metadata": {
            "tags": [],
            "needs_background": "light"
          }
        },
        {
          "output_type": "display_data",
          "data": {
            "image/png": "[encoded data removed]",
            "text/plain": [
              "<Figure size 576x360 with 1 Axes>"
            ]
          },
          "metadata": {
            "tags": [],
            "needs_background": "light"
          }
        }
      ]
    },
    {
      "cell_type": "markdown",
      "metadata": {
        "id": "a-d9e5hfG-os"
      },
      "source": [
        "Sur ces graphiques, on voit qu'il est nettement plus adapté de faire tourner la régression sur la base entière. En effet, la précision du modèle est grandement accrue sur les données complètes. "
      ]
    },
    {
      "cell_type": "markdown",
      "metadata": {
        "id": "CS16GdcSG-Xc"
      },
      "source": [
        "## Conclusion sur l'ajout de variables explicatives"
      ]
    },
    {
      "cell_type": "markdown",
      "metadata": {
        "id": "MYQhaLs4L7HX"
      },
      "source": [
        "Observons les graphiques des régressions complètes en fonction des variables explicatives choisies :"
      ]
    },
    {
      "cell_type": "code",
      "metadata": {
        "id": "a0rVwGUOG-F1",
        "colab": {
          "base_uri": "https://localhost:8080/",
          "height": 592
        },
        "outputId": "caddb280-f9b5-4d45-875f-6ce3f856b419"
      },
      "source": [
        "fig, ax = plt.subplots(figsize=(8,5))\r\n",
        "p1 = sns.distplot(Y_test, label = 'Vraie valeur', hist = False)\r\n",
        "p2 = sns.distplot(model1[1], label = 'Prédiction - Budget et revenu uniquement', hist = False)\r\n",
        "p3 = sns.distplot(model3[1], label = 'Prédiction - Budget, revenu, sentiment et rating', hist = False)\r\n",
        "ax.set(xlabel= 'Valeur de score_1', ylabel = 'Densité')\r\n",
        "fig.legend(labels=['Vraie valeur','Prédiction - Budget et revenu uniquement','Prédiction - Budget, revenu, sentiment et rating' ], loc = (0.4, 0.7))\r\n",
        "plt.title('Résultats des deux régressions pour la prédiction de score_1')"
      ],
      "execution_count": 302,
      "outputs": [
        {
          "output_type": "stream",
          "text": [
            "/usr/local/lib/python3.6/dist-packages/seaborn/distributions.py:2551: FutureWarning:\n",
            "\n",
            "`distplot` is a deprecated function and will be removed in a future version. Please adapt your code to use either `displot` (a figure-level function with similar flexibility) or `kdeplot` (an axes-level function for kernel density plots).\n",
            "\n",
            "/usr/local/lib/python3.6/dist-packages/seaborn/distributions.py:2551: FutureWarning:\n",
            "\n",
            "`distplot` is a deprecated function and will be removed in a future version. Please adapt your code to use either `displot` (a figure-level function with similar flexibility) or `kdeplot` (an axes-level function for kernel density plots).\n",
            "\n",
            "/usr/local/lib/python3.6/dist-packages/seaborn/distributions.py:2551: FutureWarning:\n",
            "\n",
            "`distplot` is a deprecated function and will be removed in a future version. Please adapt your code to use either `displot` (a figure-level function with similar flexibility) or `kdeplot` (an axes-level function for kernel density plots).\n",
            "\n"
          ],
          "name": "stderr"
        },
        {
          "output_type": "execute_result",
          "data": {
            "text/plain": [
              "Text(0.5, 1.0, 'Résultats des deux régressions pour la prédiction de score_1')"
            ]
          },
          "metadata": {
            "tags": []
          },
          "execution_count": 302
        },
        {
          "output_type": "display_data",
          "data": {
            "image/png": "[encoded data removed]",
            "text/plain": [
              "<Figure size 576x360 with 1 Axes>"
            ]
          },
          "metadata": {
            "tags": [],
            "needs_background": "light"
          }
        }
      ]
    },
    {
      "cell_type": "markdown",
      "metadata": {
        "id": "wigg-vn9Napp"
      },
      "source": [
        "Grâce à ce graphique, on constate que l'ajout de variables explicatives permet de mieux se rapprocher de la courbe des vraies valeurs, bien que le $R^2$ de cette régression eut été plus faible que celui de la régression sur le budget et le revenu uniquement."
      ]
    },
    {
      "cell_type": "markdown",
      "metadata": {
        "id": "wotHWX45o0K1"
      },
      "source": [
        "# Ajout du semi-supervisé sur les commentaires"
      ]
    },
    {
      "cell_type": "markdown",
      "metadata": {
        "id": "rofusQa_pJ04"
      },
      "source": [
        "Le dernier modèle a été un peu amélioré mais l'échantillon ayant beaucoup été diminué, on va essayer d'inclure davantage de commentaires pour améliorer la régression linéaire sur un sous-ensemble plus important de notre base."
      ]
    },
    {
      "cell_type": "code",
      "metadata": {
        "id": "a0EG4ENNo77u"
      },
      "source": [
        "# IMPORTER LE FICHIER UNSUP_FILTERED.CSV.ZIP\n",
        "with zipfile.ZipFile(r'unsup_filtered_review.csv.zip', 'r') as zip :\n",
        "      zip.extractall('temp_dir')\n",
        "\n",
        "unsup_filtered = pd.read_csv(r'temp_dir/unsup_filtered_review.csv', sep=',', low_memory = False)\n",
        "\n"
      ],
      "execution_count": 102,
      "outputs": []
    },
    {
      "cell_type": "code",
      "metadata": {
        "id": "ooT9RMBP6mCy",
        "outputId": "f2ba8b51-1315-4543-ab4d-f51f46e6d2a7",
        "colab": {
          "base_uri": "https://localhost:8080/",
          "height": 204
        }
      },
      "source": [
        "unsup_filtered.head()"
      ],
      "execution_count": 103,
      "outputs": [
        {
          "output_type": "execute_result",
          "data": {
            "text/html": [
              "<div>\n",
              "<style scoped>\n",
              "    .dataframe tbody tr th:only-of-type {\n",
              "        vertical-align: middle;\n",
              "    }\n",
              "\n",
              "    .dataframe tbody tr th {\n",
              "        vertical-align: top;\n",
              "    }\n",
              "\n",
              "    .dataframe thead th {\n",
              "        text-align: right;\n",
              "    }\n",
              "</style>\n",
              "<table border=\"1\" class=\"dataframe\">\n",
              "  <thead>\n",
              "    <tr style=\"text-align: right;\">\n",
              "      <th></th>\n",
              "      <th>Unnamed: 0</th>\n",
              "      <th>Unnamed: 0.1</th>\n",
              "      <th>review</th>\n",
              "      <th>url_code</th>\n",
              "      <th>code_url</th>\n",
              "      <th>imdb_id</th>\n",
              "    </tr>\n",
              "  </thead>\n",
              "  <tbody>\n",
              "    <tr>\n",
              "      <th>0</th>\n",
              "      <td>2</td>\n",
              "      <td>2</td>\n",
              "      <td>Very good film from director Wyler, although i...</td>\n",
              "      <td>1597</td>\n",
              "      <td>1597</td>\n",
              "      <td>tt0030287</td>\n",
              "    </tr>\n",
              "    <tr>\n",
              "      <th>1</th>\n",
              "      <td>3</td>\n",
              "      <td>3</td>\n",
              "      <td>This flick will pass the time, and Kurt Russle...</td>\n",
              "      <td>27082</td>\n",
              "      <td>27082</td>\n",
              "      <td>tt0089572</td>\n",
              "    </tr>\n",
              "    <tr>\n",
              "      <th>2</th>\n",
              "      <td>5</td>\n",
              "      <td>5</td>\n",
              "      <td>Here is another of those films that got panned...</td>\n",
              "      <td>30084</td>\n",
              "      <td>30084</td>\n",
              "      <td>tt0163978</td>\n",
              "    </tr>\n",
              "    <tr>\n",
              "      <th>3</th>\n",
              "      <td>6</td>\n",
              "      <td>6</td>\n",
              "      <td>Not sure how a filmmaker as prolific as Joel \"...</td>\n",
              "      <td>6087</td>\n",
              "      <td>6087</td>\n",
              "      <td>tt0450336</td>\n",
              "    </tr>\n",
              "    <tr>\n",
              "      <th>4</th>\n",
              "      <td>7</td>\n",
              "      <td>7</td>\n",
              "      <td>What? I watched this movie with my two young n...</td>\n",
              "      <td>49665</td>\n",
              "      <td>49665</td>\n",
              "      <td>tt0457419</td>\n",
              "    </tr>\n",
              "  </tbody>\n",
              "</table>\n",
              "</div>"
            ],
            "text/plain": [
              "   Unnamed: 0  Unnamed: 0.1  ... code_url    imdb_id\n",
              "0           2             2  ...     1597  tt0030287\n",
              "1           3             3  ...    27082  tt0089572\n",
              "2           5             5  ...    30084  tt0163978\n",
              "3           6             6  ...     6087  tt0450336\n",
              "4           7             7  ...    49665  tt0457419\n",
              "\n",
              "[5 rows x 6 columns]"
            ]
          },
          "metadata": {
            "tags": []
          },
          "execution_count": 103
        }
      ]
    },
    {
      "cell_type": "markdown",
      "metadata": {
        "id": "3UibnncOgNHm"
      },
      "source": [
        "## Pseudo-labelisation des commentaires"
      ]
    },
    {
      "cell_type": "markdown",
      "metadata": {
        "id": "1Nyh-7k2Qx0J"
      },
      "source": [
        "On va utiliser notre outil d'analyse sentiment sur cette base pour agrandir la base des commentaires. "
      ]
    },
    {
      "cell_type": "code",
      "metadata": {
        "id": "pKOamDhrSpvV"
      },
      "source": [
        "x_train = review_filtered.loc[:n_max-1, 'review'].values\n",
        "y_train = review_filtered.loc[:n_max-1, 'sentiment'].values\n",
        "x_test = review_filtered.loc[n_max:,'review'].values\n",
        "y_test = review_filtered.loc[n_max:,'sentiment'].values\n",
        "x_test_ul = unsup_filtered['review'].values"
      ],
      "execution_count": 303,
      "outputs": []
    },
    {
      "cell_type": "code",
      "metadata": {
        "id": "JsGTiGRudyyx",
        "colab": {
          "base_uri": "https://localhost:8080/",
          "height": 204
        },
        "outputId": "008b2b12-266e-42d4-98bc-329504f97f88"
      },
      "source": [
        "review_filtered = review_filtered.drop(columns=['index','rating'])\n",
        "review_filtered.head()"
      ],
      "execution_count": 304,
      "outputs": [
        {
          "output_type": "execute_result",
          "data": {
            "text/html": [
              "<div>\n",
              "<style scoped>\n",
              "    .dataframe tbody tr th:only-of-type {\n",
              "        vertical-align: middle;\n",
              "    }\n",
              "\n",
              "    .dataframe tbody tr th {\n",
              "        vertical-align: top;\n",
              "    }\n",
              "\n",
              "    .dataframe thead th {\n",
              "        text-align: right;\n",
              "    }\n",
              "</style>\n",
              "<table border=\"1\" class=\"dataframe\">\n",
              "  <thead>\n",
              "    <tr style=\"text-align: right;\">\n",
              "      <th></th>\n",
              "      <th>review</th>\n",
              "      <th>sentiment</th>\n",
              "      <th>url_code</th>\n",
              "      <th>imdb_id</th>\n",
              "      <th>code_url</th>\n",
              "    </tr>\n",
              "  </thead>\n",
              "  <tbody>\n",
              "    <tr>\n",
              "      <th>0</th>\n",
              "      <td>Well...tremors I, the original started off in ...</td>\n",
              "      <td>0</td>\n",
              "      <td>10402</td>\n",
              "      <td>tt0334541</td>\n",
              "      <td>10402</td>\n",
              "    </tr>\n",
              "    <tr>\n",
              "      <th>1</th>\n",
              "      <td>Ouch! This one was a bit painful to sit throug...</td>\n",
              "      <td>0</td>\n",
              "      <td>1062</td>\n",
              "      <td>tt0043809</td>\n",
              "      <td>1062</td>\n",
              "    </tr>\n",
              "    <tr>\n",
              "      <th>2</th>\n",
              "      <td>I've seen some crappy movies in my life, but t...</td>\n",
              "      <td>0</td>\n",
              "      <td>9056</td>\n",
              "      <td>tt0219400</td>\n",
              "      <td>9056</td>\n",
              "    </tr>\n",
              "    <tr>\n",
              "      <th>3</th>\n",
              "      <td>\"Carriers\" follows the exploits of two guys an...</td>\n",
              "      <td>0</td>\n",
              "      <td>5392</td>\n",
              "      <td>tt0806203</td>\n",
              "      <td>5392</td>\n",
              "    </tr>\n",
              "    <tr>\n",
              "      <th>4</th>\n",
              "      <td>I had been looking forward to seeing this film...</td>\n",
              "      <td>0</td>\n",
              "      <td>2682</td>\n",
              "      <td>tt0120620</td>\n",
              "      <td>2682</td>\n",
              "    </tr>\n",
              "  </tbody>\n",
              "</table>\n",
              "</div>"
            ],
            "text/plain": [
              "                                              review  ...  code_url\n",
              "0  Well...tremors I, the original started off in ...  ...     10402\n",
              "1  Ouch! This one was a bit painful to sit throug...  ...      1062\n",
              "2  I've seen some crappy movies in my life, but t...  ...      9056\n",
              "3  \"Carriers\" follows the exploits of two guys an...  ...      5392\n",
              "4  I had been looking forward to seeing this film...  ...      2682\n",
              "\n",
              "[5 rows x 5 columns]"
            ]
          },
          "metadata": {
            "tags": []
          },
          "execution_count": 304
        }
      ]
    },
    {
      "cell_type": "code",
      "metadata": {
        "id": "7UPFh9jCd0_5",
        "outputId": "8a187f17-02f2-4262-f4a7-3f2b8f55481b",
        "colab": {
          "base_uri": "https://localhost:8080/",
          "height": 307
        }
      },
      "source": [
        "unsup_filtered = unsup_filtered.drop(columns='Unnamed: 0')"
      ],
      "execution_count": 305,
      "outputs": [
        {
          "output_type": "error",
          "ename": "KeyError",
          "evalue": "ignored",
          "traceback": [
            "\u001b[0;31m---------------------------------------------------------------------------\u001b[0m",
            "\u001b[0;31mKeyError\u001b[0m                                  Traceback (most recent call last)",
            "\u001b[0;32m<ipython-input-305-a786758da15b>\u001b[0m in \u001b[0;36m<module>\u001b[0;34m()\u001b[0m\n\u001b[0;32m----> 1\u001b[0;31m \u001b[0munsup_filtered\u001b[0m \u001b[0;34m=\u001b[0m \u001b[0munsup_filtered\u001b[0m\u001b[0;34m.\u001b[0m\u001b[0mdrop\u001b[0m\u001b[0;34m(\u001b[0m\u001b[0mcolumns\u001b[0m\u001b[0;34m=\u001b[0m\u001b[0;34m'Unnamed: 0'\u001b[0m\u001b[0;34m)\u001b[0m\u001b[0;34m\u001b[0m\u001b[0;34m\u001b[0m\u001b[0m\n\u001b[0m",
            "\u001b[0;32m/usr/local/lib/python3.6/dist-packages/pandas/core/frame.py\u001b[0m in \u001b[0;36mdrop\u001b[0;34m(self, labels, axis, index, columns, level, inplace, errors)\u001b[0m\n\u001b[1;32m   4172\u001b[0m             \u001b[0mlevel\u001b[0m\u001b[0;34m=\u001b[0m\u001b[0mlevel\u001b[0m\u001b[0;34m,\u001b[0m\u001b[0;34m\u001b[0m\u001b[0;34m\u001b[0m\u001b[0m\n\u001b[1;32m   4173\u001b[0m             \u001b[0minplace\u001b[0m\u001b[0;34m=\u001b[0m\u001b[0minplace\u001b[0m\u001b[0;34m,\u001b[0m\u001b[0;34m\u001b[0m\u001b[0;34m\u001b[0m\u001b[0m\n\u001b[0;32m-> 4174\u001b[0;31m             \u001b[0merrors\u001b[0m\u001b[0;34m=\u001b[0m\u001b[0merrors\u001b[0m\u001b[0;34m,\u001b[0m\u001b[0;34m\u001b[0m\u001b[0;34m\u001b[0m\u001b[0m\n\u001b[0m\u001b[1;32m   4175\u001b[0m         )\n\u001b[1;32m   4176\u001b[0m \u001b[0;34m\u001b[0m\u001b[0m\n",
            "\u001b[0;32m/usr/local/lib/python3.6/dist-packages/pandas/core/generic.py\u001b[0m in \u001b[0;36mdrop\u001b[0;34m(self, labels, axis, index, columns, level, inplace, errors)\u001b[0m\n\u001b[1;32m   3887\u001b[0m         \u001b[0;32mfor\u001b[0m \u001b[0maxis\u001b[0m\u001b[0;34m,\u001b[0m \u001b[0mlabels\u001b[0m \u001b[0;32min\u001b[0m \u001b[0maxes\u001b[0m\u001b[0;34m.\u001b[0m\u001b[0mitems\u001b[0m\u001b[0;34m(\u001b[0m\u001b[0;34m)\u001b[0m\u001b[0;34m:\u001b[0m\u001b[0;34m\u001b[0m\u001b[0;34m\u001b[0m\u001b[0m\n\u001b[1;32m   3888\u001b[0m             \u001b[0;32mif\u001b[0m \u001b[0mlabels\u001b[0m \u001b[0;32mis\u001b[0m \u001b[0;32mnot\u001b[0m \u001b[0;32mNone\u001b[0m\u001b[0;34m:\u001b[0m\u001b[0;34m\u001b[0m\u001b[0;34m\u001b[0m\u001b[0m\n\u001b[0;32m-> 3889\u001b[0;31m                 \u001b[0mobj\u001b[0m \u001b[0;34m=\u001b[0m \u001b[0mobj\u001b[0m\u001b[0;34m.\u001b[0m\u001b[0m_drop_axis\u001b[0m\u001b[0;34m(\u001b[0m\u001b[0mlabels\u001b[0m\u001b[0;34m,\u001b[0m \u001b[0maxis\u001b[0m\u001b[0;34m,\u001b[0m \u001b[0mlevel\u001b[0m\u001b[0;34m=\u001b[0m\u001b[0mlevel\u001b[0m\u001b[0;34m,\u001b[0m \u001b[0merrors\u001b[0m\u001b[0;34m=\u001b[0m\u001b[0merrors\u001b[0m\u001b[0;34m)\u001b[0m\u001b[0;34m\u001b[0m\u001b[0;34m\u001b[0m\u001b[0m\n\u001b[0m\u001b[1;32m   3890\u001b[0m \u001b[0;34m\u001b[0m\u001b[0m\n\u001b[1;32m   3891\u001b[0m         \u001b[0;32mif\u001b[0m \u001b[0minplace\u001b[0m\u001b[0;34m:\u001b[0m\u001b[0;34m\u001b[0m\u001b[0;34m\u001b[0m\u001b[0m\n",
            "\u001b[0;32m/usr/local/lib/python3.6/dist-packages/pandas/core/generic.py\u001b[0m in \u001b[0;36m_drop_axis\u001b[0;34m(self, labels, axis, level, errors)\u001b[0m\n\u001b[1;32m   3921\u001b[0m                 \u001b[0mnew_axis\u001b[0m \u001b[0;34m=\u001b[0m \u001b[0maxis\u001b[0m\u001b[0;34m.\u001b[0m\u001b[0mdrop\u001b[0m\u001b[0;34m(\u001b[0m\u001b[0mlabels\u001b[0m\u001b[0;34m,\u001b[0m \u001b[0mlevel\u001b[0m\u001b[0;34m=\u001b[0m\u001b[0mlevel\u001b[0m\u001b[0;34m,\u001b[0m \u001b[0merrors\u001b[0m\u001b[0;34m=\u001b[0m\u001b[0merrors\u001b[0m\u001b[0;34m)\u001b[0m\u001b[0;34m\u001b[0m\u001b[0;34m\u001b[0m\u001b[0m\n\u001b[1;32m   3922\u001b[0m             \u001b[0;32melse\u001b[0m\u001b[0;34m:\u001b[0m\u001b[0;34m\u001b[0m\u001b[0;34m\u001b[0m\u001b[0m\n\u001b[0;32m-> 3923\u001b[0;31m                 \u001b[0mnew_axis\u001b[0m \u001b[0;34m=\u001b[0m \u001b[0maxis\u001b[0m\u001b[0;34m.\u001b[0m\u001b[0mdrop\u001b[0m\u001b[0;34m(\u001b[0m\u001b[0mlabels\u001b[0m\u001b[0;34m,\u001b[0m \u001b[0merrors\u001b[0m\u001b[0;34m=\u001b[0m\u001b[0merrors\u001b[0m\u001b[0;34m)\u001b[0m\u001b[0;34m\u001b[0m\u001b[0;34m\u001b[0m\u001b[0m\n\u001b[0m\u001b[1;32m   3924\u001b[0m             \u001b[0mresult\u001b[0m \u001b[0;34m=\u001b[0m \u001b[0mself\u001b[0m\u001b[0;34m.\u001b[0m\u001b[0mreindex\u001b[0m\u001b[0;34m(\u001b[0m\u001b[0;34m**\u001b[0m\u001b[0;34m{\u001b[0m\u001b[0maxis_name\u001b[0m\u001b[0;34m:\u001b[0m \u001b[0mnew_axis\u001b[0m\u001b[0;34m}\u001b[0m\u001b[0;34m)\u001b[0m\u001b[0;34m\u001b[0m\u001b[0;34m\u001b[0m\u001b[0m\n\u001b[1;32m   3925\u001b[0m \u001b[0;34m\u001b[0m\u001b[0m\n",
            "\u001b[0;32m/usr/local/lib/python3.6/dist-packages/pandas/core/indexes/base.py\u001b[0m in \u001b[0;36mdrop\u001b[0;34m(self, labels, errors)\u001b[0m\n\u001b[1;32m   5285\u001b[0m         \u001b[0;32mif\u001b[0m \u001b[0mmask\u001b[0m\u001b[0;34m.\u001b[0m\u001b[0many\u001b[0m\u001b[0;34m(\u001b[0m\u001b[0;34m)\u001b[0m\u001b[0;34m:\u001b[0m\u001b[0;34m\u001b[0m\u001b[0;34m\u001b[0m\u001b[0m\n\u001b[1;32m   5286\u001b[0m             \u001b[0;32mif\u001b[0m \u001b[0merrors\u001b[0m \u001b[0;34m!=\u001b[0m \u001b[0;34m\"ignore\"\u001b[0m\u001b[0;34m:\u001b[0m\u001b[0;34m\u001b[0m\u001b[0;34m\u001b[0m\u001b[0m\n\u001b[0;32m-> 5287\u001b[0;31m                 \u001b[0;32mraise\u001b[0m \u001b[0mKeyError\u001b[0m\u001b[0;34m(\u001b[0m\u001b[0;34mf\"{labels[mask]} not found in axis\"\u001b[0m\u001b[0;34m)\u001b[0m\u001b[0;34m\u001b[0m\u001b[0;34m\u001b[0m\u001b[0m\n\u001b[0m\u001b[1;32m   5288\u001b[0m             \u001b[0mindexer\u001b[0m \u001b[0;34m=\u001b[0m \u001b[0mindexer\u001b[0m\u001b[0;34m[\u001b[0m\u001b[0;34m~\u001b[0m\u001b[0mmask\u001b[0m\u001b[0;34m]\u001b[0m\u001b[0;34m\u001b[0m\u001b[0;34m\u001b[0m\u001b[0m\n\u001b[1;32m   5289\u001b[0m         \u001b[0;32mreturn\u001b[0m \u001b[0mself\u001b[0m\u001b[0;34m.\u001b[0m\u001b[0mdelete\u001b[0m\u001b[0;34m(\u001b[0m\u001b[0mindexer\u001b[0m\u001b[0;34m)\u001b[0m\u001b[0;34m\u001b[0m\u001b[0;34m\u001b[0m\u001b[0m\n",
            "\u001b[0;31mKeyError\u001b[0m: \"['Unnamed: 0'] not found in axis\""
          ]
        }
      ]
    },
    {
      "cell_type": "code",
      "metadata": {
        "id": "qa_P3aj6eM9V",
        "colab": {
          "base_uri": "https://localhost:8080/",
          "height": 204
        },
        "outputId": "481c3a6e-f547-44f5-93ac-79b690ccbb7b"
      },
      "source": [
        "unsup_filtered.head()"
      ],
      "execution_count": 306,
      "outputs": [
        {
          "output_type": "execute_result",
          "data": {
            "text/html": [
              "<div>\n",
              "<style scoped>\n",
              "    .dataframe tbody tr th:only-of-type {\n",
              "        vertical-align: middle;\n",
              "    }\n",
              "\n",
              "    .dataframe tbody tr th {\n",
              "        vertical-align: top;\n",
              "    }\n",
              "\n",
              "    .dataframe thead th {\n",
              "        text-align: right;\n",
              "    }\n",
              "</style>\n",
              "<table border=\"1\" class=\"dataframe\">\n",
              "  <thead>\n",
              "    <tr style=\"text-align: right;\">\n",
              "      <th></th>\n",
              "      <th>Unnamed: 0.1</th>\n",
              "      <th>review</th>\n",
              "      <th>url_code</th>\n",
              "      <th>code_url</th>\n",
              "      <th>imdb_id</th>\n",
              "    </tr>\n",
              "  </thead>\n",
              "  <tbody>\n",
              "    <tr>\n",
              "      <th>0</th>\n",
              "      <td>2</td>\n",
              "      <td>Very good film from director Wyler, although i...</td>\n",
              "      <td>1597</td>\n",
              "      <td>1597</td>\n",
              "      <td>tt0030287</td>\n",
              "    </tr>\n",
              "    <tr>\n",
              "      <th>1</th>\n",
              "      <td>3</td>\n",
              "      <td>This flick will pass the time, and Kurt Russle...</td>\n",
              "      <td>27082</td>\n",
              "      <td>27082</td>\n",
              "      <td>tt0089572</td>\n",
              "    </tr>\n",
              "    <tr>\n",
              "      <th>2</th>\n",
              "      <td>5</td>\n",
              "      <td>Here is another of those films that got panned...</td>\n",
              "      <td>30084</td>\n",
              "      <td>30084</td>\n",
              "      <td>tt0163978</td>\n",
              "    </tr>\n",
              "    <tr>\n",
              "      <th>3</th>\n",
              "      <td>6</td>\n",
              "      <td>Not sure how a filmmaker as prolific as Joel \"...</td>\n",
              "      <td>6087</td>\n",
              "      <td>6087</td>\n",
              "      <td>tt0450336</td>\n",
              "    </tr>\n",
              "    <tr>\n",
              "      <th>4</th>\n",
              "      <td>7</td>\n",
              "      <td>What? I watched this movie with my two young n...</td>\n",
              "      <td>49665</td>\n",
              "      <td>49665</td>\n",
              "      <td>tt0457419</td>\n",
              "    </tr>\n",
              "  </tbody>\n",
              "</table>\n",
              "</div>"
            ],
            "text/plain": [
              "   Unnamed: 0.1  ...    imdb_id\n",
              "0             2  ...  tt0030287\n",
              "1             3  ...  tt0089572\n",
              "2             5  ...  tt0163978\n",
              "3             6  ...  tt0450336\n",
              "4             7  ...  tt0457419\n",
              "\n",
              "[5 rows x 5 columns]"
            ]
          },
          "metadata": {
            "tags": []
          },
          "execution_count": 306
        }
      ]
    },
    {
      "cell_type": "markdown",
      "metadata": {
        "id": "X1xoGbt8b2uP"
      },
      "source": [
        "On utilise notre classificateur naïf de bayes (pour la rapidité) qu'en entraîne avec les données labelisées."
      ]
    },
    {
      "cell_type": "code",
      "metadata": {
        "id": "R4CvNcV5bIfT"
      },
      "source": [
        "from sklearn.naive_bayes import MultinomialNB\n",
        "from sklearn.feature_extraction.text import TfidfTransformer\n",
        "from sklearn.feature_extraction.text import TfidfVectorizer\n",
        "\n",
        "vectorizer = TfidfVectorizer()\n",
        "train_vectors = vectorizer.fit_transform(x_train)\n",
        "test_vectors = vectorizer.transform(x_test)\n",
        "clf = MultinomialNB().fit(train_vectors, y_train)\n",
        "\n",
        "from  sklearn.metrics  import accuracy_score\n",
        "predicted = clf.predict(test_vectors)"
      ],
      "execution_count": 307,
      "outputs": []
    },
    {
      "cell_type": "markdown",
      "metadata": {
        "id": "0niU9WnncFdl"
      },
      "source": [
        "On l'applique aux données non labelisées. On va créer une fonction qui prend en argument la proportion du sample que dont on prédit la labelisation."
      ]
    },
    {
      "cell_type": "code",
      "metadata": {
        "id": "skOS8ywMbKpG"
      },
      "source": [
        "def label_percent(n_label): #n_label entre 0 et 1\n",
        "  test_vectors_ul = vectorizer.transform(x_test_ul[:int(len(unsup_filtered)*n_label)])\n",
        "  predicted_2 = clf.predict(test_vectors_ul)\n",
        "  # On reconstitue un dataset avec les données labelisées et pseudo-labelisées via notre classificateur naïf bayésien\n",
        "  df_unsup = unsup_filtered[:int(len(unsup_filtered)*n_label)]\n",
        "  df_unsup['sentiment'] = predicted_2\n",
        "  df = pd.concat([review_filtered, df_unsup])\n",
        "  return df "
      ],
      "execution_count": 308,
      "outputs": []
    },
    {
      "cell_type": "markdown",
      "metadata": {
        "id": "KAJDMgJUfICL"
      },
      "source": [
        "## Amélioration de la régression linéaire\n",
        "Pour 20% de la base non labelisée : "
      ]
    },
    {
      "cell_type": "code",
      "metadata": {
        "id": "jRjXReBsdBMS",
        "colab": {
          "base_uri": "https://localhost:8080/"
        },
        "outputId": "779515e4-1b12-4608-8db6-7acdcb8f8094"
      },
      "source": [
        "df_pseudo_labeled = label_percent(0.2)"
      ],
      "execution_count": 309,
      "outputs": [
        {
          "output_type": "stream",
          "text": [
            "/usr/local/lib/python3.6/dist-packages/ipykernel_launcher.py:6: SettingWithCopyWarning:\n",
            "\n",
            "\n",
            "A value is trying to be set on a copy of a slice from a DataFrame.\n",
            "Try using .loc[row_indexer,col_indexer] = value instead\n",
            "\n",
            "See the caveats in the documentation: https://pandas.pydata.org/pandas-docs/stable/user_guide/indexing.html#returning-a-view-versus-a-copy\n",
            "\n"
          ],
          "name": "stderr"
        }
      ]
    },
    {
      "cell_type": "code",
      "metadata": {
        "id": "U2uePDByfM2P",
        "colab": {
          "base_uri": "https://localhost:8080/"
        },
        "outputId": "ae74b39c-1111-4a45-950e-12d5f418b002"
      },
      "source": [
        "gr_review = df_pseudo_labeled.groupby('imdb_id').mean()\n",
        "print(\"Taille de l'échantillon après agrégation\", len(gr_review))\n",
        "#gr_review = gr_review.drop(columns=['Unnamed: 0', 'url_code'])\n",
        "df_2 = pd.merge(df, gr_review, left_on ='imdb_id', right_on ='imdb_id')\n",
        "\n",
        "\n",
        "X = pd.DataFrame(np.c_[df_2.budget, df_2.revenue, df_2.sentiment], columns= ['budget', 'revenue', 'sentiment'])\n",
        "Y = df_2.score_1"
      ],
      "execution_count": 310,
      "outputs": [
        {
          "output_type": "stream",
          "text": [
            "Taille de l'échantillon après agrégation 3989\n"
          ],
          "name": "stdout"
        }
      ]
    },
    {
      "cell_type": "code",
      "metadata": {
        "id": "i2rhY_RqbKWH"
      },
      "source": [
        "X_train, X_test, Y_train, Y_test = train_test_split(X, Y, test_size = 0.2, random_state=5)"
      ],
      "execution_count": 311,
      "outputs": []
    },
    {
      "cell_type": "code",
      "metadata": {
        "id": "ePF_yuh38ZWQ",
        "outputId": "0f7b05fb-bdc0-4e1c-e753-eeaf04d10f6a",
        "colab": {
          "base_uri": "https://localhost:8080/"
        }
      },
      "source": [
        "model_am_20 = linear_model(X_train, Y_train, X_test, Y_test)"
      ],
      "execution_count": 312,
      "outputs": [
        {
          "output_type": "stream",
          "text": [
            "Performance du modèle sur la base d'apprentissage\n",
            "--------------------------------------\n",
            "L'erreur quadratique moyenne est 2923.128003349665\n",
            "Le score R² est 0.6209375264857289\n",
            "\n",
            "\n",
            "Performance du modèle sur la base de test\n",
            "--------------------------------------\n",
            "L'erreur quadratique moyenne est 2595.5322812124464\n",
            "Le score R² est 0.6341989897920716\n",
            "\n",
            "\n"
          ],
          "name": "stdout"
        }
      ]
    },
    {
      "cell_type": "code",
      "metadata": {
        "id": "eLkoLjxyHobZ",
        "outputId": "2dbea017-9ef3-47ea-ae1f-7bfd190a5a17",
        "colab": {
          "base_uri": "https://localhost:8080/",
          "height": 235
        }
      },
      "source": [
        "l = []\n",
        "l.extend(model_am_20[2:])\n",
        "l.append(len(X))\n",
        "\n",
        "table_resultats['model_am_20'] = l\n",
        "table_resultats"
      ],
      "execution_count": 313,
      "outputs": [
        {
          "output_type": "execute_result",
          "data": {
            "text/html": [
              "<div>\n",
              "<style scoped>\n",
              "    .dataframe tbody tr th:only-of-type {\n",
              "        vertical-align: middle;\n",
              "    }\n",
              "\n",
              "    .dataframe tbody tr th {\n",
              "        vertical-align: top;\n",
              "    }\n",
              "\n",
              "    .dataframe thead th {\n",
              "        text-align: right;\n",
              "    }\n",
              "</style>\n",
              "<table border=\"1\" class=\"dataframe\">\n",
              "  <thead>\n",
              "    <tr style=\"text-align: right;\">\n",
              "      <th></th>\n",
              "      <th>model1</th>\n",
              "      <th>model2</th>\n",
              "      <th>model3</th>\n",
              "      <th>model4</th>\n",
              "      <th>model_am_20</th>\n",
              "    </tr>\n",
              "    <tr>\n",
              "      <th>name</th>\n",
              "      <th></th>\n",
              "      <th></th>\n",
              "      <th></th>\n",
              "      <th></th>\n",
              "      <th></th>\n",
              "    </tr>\n",
              "  </thead>\n",
              "  <tbody>\n",
              "    <tr>\n",
              "      <th>r2_test</th>\n",
              "      <td>0.587987</td>\n",
              "      <td>0.152923</td>\n",
              "      <td>0.451731</td>\n",
              "      <td>0.219785</td>\n",
              "      <td>0.634199</td>\n",
              "    </tr>\n",
              "    <tr>\n",
              "      <th>r2_train</th>\n",
              "      <td>0.616217</td>\n",
              "      <td>0.145450</td>\n",
              "      <td>0.634456</td>\n",
              "      <td>0.202645</td>\n",
              "      <td>0.620938</td>\n",
              "    </tr>\n",
              "    <tr>\n",
              "      <th>MSE_test</th>\n",
              "      <td>3364.076265</td>\n",
              "      <td>181.425640</td>\n",
              "      <td>2778.814421</td>\n",
              "      <td>160.197130</td>\n",
              "      <td>2595.532281</td>\n",
              "    </tr>\n",
              "    <tr>\n",
              "      <th>MSE_train</th>\n",
              "      <td>3467.430215</td>\n",
              "      <td>188.170446</td>\n",
              "      <td>2751.775258</td>\n",
              "      <td>173.182002</td>\n",
              "      <td>2923.128003</td>\n",
              "    </tr>\n",
              "    <tr>\n",
              "      <th>count</th>\n",
              "      <td>17356.000000</td>\n",
              "      <td>13017.000000</td>\n",
              "      <td>1779.000000</td>\n",
              "      <td>1334.000000</td>\n",
              "      <td>3050.000000</td>\n",
              "    </tr>\n",
              "  </tbody>\n",
              "</table>\n",
              "</div>"
            ],
            "text/plain": [
              "                 model1        model2       model3       model4  model_am_20\n",
              "name                                                                        \n",
              "r2_test        0.587987      0.152923     0.451731     0.219785     0.634199\n",
              "r2_train       0.616217      0.145450     0.634456     0.202645     0.620938\n",
              "MSE_test    3364.076265    181.425640  2778.814421   160.197130  2595.532281\n",
              "MSE_train   3467.430215    188.170446  2751.775258   173.182002  2923.128003\n",
              "count      17356.000000  13017.000000  1779.000000  1334.000000  3050.000000"
            ]
          },
          "metadata": {
            "tags": []
          },
          "execution_count": 313
        }
      ]
    },
    {
      "cell_type": "markdown",
      "metadata": {
        "id": "4jWBPIqKgTqr"
      },
      "source": [
        "Pour 50% de la base pseudo-labelisée :"
      ]
    },
    {
      "cell_type": "code",
      "metadata": {
        "id": "dHgUT421f6ma",
        "colab": {
          "base_uri": "https://localhost:8080/"
        },
        "outputId": "b2722bf0-d566-48bc-c6dc-f1cfe6feca1d"
      },
      "source": [
        "df_pseudo_labeled = label_percent(0.5)\n",
        "\n",
        "gr_review = df_pseudo_labeled.groupby('imdb_id').mean()\n",
        "print(\"Taille de l'échantillon après agrégation\", len(gr_review))\n",
        "#gr_review = gr_review.drop(columns=['Unnamed: 0', 'url_code'])\n",
        "df_2 = pd.merge(df, gr_review, left_on ='imdb_id', right_on ='imdb_id')\n",
        "\n",
        "\n",
        "X = pd.DataFrame(np.c_[df_2.budget, df_2.revenue, df_2.sentiment], columns= ['budget', 'revenue', 'sentiment'])\n",
        "Y = df_2.score_1\n",
        "\n"
      ],
      "execution_count": 314,
      "outputs": [
        {
          "output_type": "stream",
          "text": [
            "Taille de l'échantillon après agrégation 4390\n"
          ],
          "name": "stdout"
        },
        {
          "output_type": "stream",
          "text": [
            "/usr/local/lib/python3.6/dist-packages/ipykernel_launcher.py:6: SettingWithCopyWarning:\n",
            "\n",
            "\n",
            "A value is trying to be set on a copy of a slice from a DataFrame.\n",
            "Try using .loc[row_indexer,col_indexer] = value instead\n",
            "\n",
            "See the caveats in the documentation: https://pandas.pydata.org/pandas-docs/stable/user_guide/indexing.html#returning-a-view-versus-a-copy\n",
            "\n"
          ],
          "name": "stderr"
        }
      ]
    },
    {
      "cell_type": "code",
      "metadata": {
        "id": "Koqi0GKzgghA"
      },
      "source": [
        "X_train, X_test, Y_train, Y_test = train_test_split(X, Y, test_size = 0.2, random_state=5)\n"
      ],
      "execution_count": 315,
      "outputs": []
    },
    {
      "cell_type": "code",
      "metadata": {
        "id": "rmLRqXFygcvG",
        "colab": {
          "base_uri": "https://localhost:8080/"
        },
        "outputId": "266e0f36-d915-45e2-8cb1-d13c423ef025"
      },
      "source": [
        "model_am_50 = linear_model(X_train,Y_train, X_test,Y_test)"
      ],
      "execution_count": 316,
      "outputs": [
        {
          "output_type": "stream",
          "text": [
            "Performance du modèle sur la base d'apprentissage\n",
            "--------------------------------------\n",
            "L'erreur quadratique moyenne est 2912.1988098398365\n",
            "Le score R² est 0.6362178664118564\n",
            "\n",
            "\n",
            "Performance du modèle sur la base de test\n",
            "--------------------------------------\n",
            "L'erreur quadratique moyenne est 2640.2316548010717\n",
            "Le score R² est 0.4346136209580901\n",
            "\n",
            "\n"
          ],
          "name": "stdout"
        }
      ]
    },
    {
      "cell_type": "code",
      "metadata": {
        "id": "1zhMaNk_Hz8r",
        "outputId": "8d913065-29ab-43d5-d717-0a225962b653",
        "colab": {
          "base_uri": "https://localhost:8080/",
          "height": 235
        }
      },
      "source": [
        "l = []\n",
        "l.extend(model_am_50[2:])\n",
        "l.append(len(X))\n",
        "\n",
        "table_resultats['model_am_50'] = l\n",
        "table_resultats"
      ],
      "execution_count": 317,
      "outputs": [
        {
          "output_type": "execute_result",
          "data": {
            "text/html": [
              "<div>\n",
              "<style scoped>\n",
              "    .dataframe tbody tr th:only-of-type {\n",
              "        vertical-align: middle;\n",
              "    }\n",
              "\n",
              "    .dataframe tbody tr th {\n",
              "        vertical-align: top;\n",
              "    }\n",
              "\n",
              "    .dataframe thead th {\n",
              "        text-align: right;\n",
              "    }\n",
              "</style>\n",
              "<table border=\"1\" class=\"dataframe\">\n",
              "  <thead>\n",
              "    <tr style=\"text-align: right;\">\n",
              "      <th></th>\n",
              "      <th>model1</th>\n",
              "      <th>model2</th>\n",
              "      <th>model3</th>\n",
              "      <th>model4</th>\n",
              "      <th>model_am_20</th>\n",
              "      <th>model_am_50</th>\n",
              "    </tr>\n",
              "    <tr>\n",
              "      <th>name</th>\n",
              "      <th></th>\n",
              "      <th></th>\n",
              "      <th></th>\n",
              "      <th></th>\n",
              "      <th></th>\n",
              "      <th></th>\n",
              "    </tr>\n",
              "  </thead>\n",
              "  <tbody>\n",
              "    <tr>\n",
              "      <th>r2_test</th>\n",
              "      <td>0.587987</td>\n",
              "      <td>0.152923</td>\n",
              "      <td>0.451731</td>\n",
              "      <td>0.219785</td>\n",
              "      <td>0.634199</td>\n",
              "      <td>0.434614</td>\n",
              "    </tr>\n",
              "    <tr>\n",
              "      <th>r2_train</th>\n",
              "      <td>0.616217</td>\n",
              "      <td>0.145450</td>\n",
              "      <td>0.634456</td>\n",
              "      <td>0.202645</td>\n",
              "      <td>0.620938</td>\n",
              "      <td>0.636218</td>\n",
              "    </tr>\n",
              "    <tr>\n",
              "      <th>MSE_test</th>\n",
              "      <td>3364.076265</td>\n",
              "      <td>181.425640</td>\n",
              "      <td>2778.814421</td>\n",
              "      <td>160.197130</td>\n",
              "      <td>2595.532281</td>\n",
              "      <td>2640.231655</td>\n",
              "    </tr>\n",
              "    <tr>\n",
              "      <th>MSE_train</th>\n",
              "      <td>3467.430215</td>\n",
              "      <td>188.170446</td>\n",
              "      <td>2751.775258</td>\n",
              "      <td>173.182002</td>\n",
              "      <td>2923.128003</td>\n",
              "      <td>2912.198810</td>\n",
              "    </tr>\n",
              "    <tr>\n",
              "      <th>count</th>\n",
              "      <td>17356.000000</td>\n",
              "      <td>13017.000000</td>\n",
              "      <td>1779.000000</td>\n",
              "      <td>1334.000000</td>\n",
              "      <td>3050.000000</td>\n",
              "      <td>3247.000000</td>\n",
              "    </tr>\n",
              "  </tbody>\n",
              "</table>\n",
              "</div>"
            ],
            "text/plain": [
              "                 model1        model2  ...  model_am_20  model_am_50\n",
              "name                                   ...                          \n",
              "r2_test        0.587987      0.152923  ...     0.634199     0.434614\n",
              "r2_train       0.616217      0.145450  ...     0.620938     0.636218\n",
              "MSE_test    3364.076265    181.425640  ...  2595.532281  2640.231655\n",
              "MSE_train   3467.430215    188.170446  ...  2923.128003  2912.198810\n",
              "count      17356.000000  13017.000000  ...  3050.000000  3247.000000\n",
              "\n",
              "[5 rows x 6 columns]"
            ]
          },
          "metadata": {
            "tags": []
          },
          "execution_count": 317
        }
      ]
    },
    {
      "cell_type": "markdown",
      "metadata": {
        "id": "Mq-zZbmT89NR"
      },
      "source": [
        "Les erreurs quadratiques moyennes ainsi que les $R^2$ sont moins bons sur la base test lorsque l'on utilise 50% des données pseudo-labelisées. En revanche, la prédiction est améliorée sur la base d'apprentissage... mais de manière infime. "
      ]
    },
    {
      "cell_type": "markdown",
      "metadata": {
        "id": "Pa7puxDPgmMW"
      },
      "source": [
        "## Visualisation en variant le pourcentage de la base pseudo labelisée"
      ]
    },
    {
      "cell_type": "markdown",
      "metadata": {
        "id": "t04tjqGq5Ayf"
      },
      "source": [
        "On peut vouloir à présent déterminer l'amélioration de la prédiction selon le pourcentage de base pseudolabelisée que nous ajoutons au modèle. Pour cela nous créons une fonction à partir du code de la fonction *linear_model*. "
      ]
    },
    {
      "cell_type": "code",
      "metadata": {
        "id": "cZQNHrWmglE2"
      },
      "source": [
        " def for_plot_rmse_r2(pas) :\n",
        "  r_train, r_test=[],[]\n",
        "  mse_train, mse_test=[],[]\n",
        "  for i in np.linspace(0.1,1,pas):\n",
        "    df_pseudo_labeled = label_percent(i)\n",
        "\n",
        "    gr_review = df_pseudo_labeled.groupby('imdb_id').mean()\n",
        "    df_2 = pd.merge(df, gr_review, left_on ='imdb_id', right_on ='imdb_id')\n",
        "\n",
        "\n",
        "    X = pd.DataFrame(np.c_[df_2.budget, df_2.revenue, df_2.sentiment], columns= ['budget', 'revenue', 'sentiment'])\n",
        "    Y = df_2.score_1\n",
        "\n",
        "\n",
        "    X_train, X_test, Y_train, Y_test = train_test_split(X, Y, test_size = 0.2, random_state=5)\n",
        "\n",
        "    model = linear_model(X_train, Y_train, X_test, Y_test) \n",
        "    #on rappelle model contient y_train_predict, y_test_predict, r2_test, r2_train, mse_test, mse_train\n",
        "    \n",
        "    r_test.append(model[2])\n",
        "    r_train.append(model[3])\n",
        "    mse_test.append(model[4])\n",
        "    mse_train.append(model[5])\n",
        "\n",
        "  return r_test, r_train, mse_test, mse_train"
      ],
      "execution_count": 319,
      "outputs": []
    },
    {
      "cell_type": "markdown",
      "metadata": {
        "id": "jQWTozY1KXRt"
      },
      "source": [
        "Comme le code de *linear_model* va générer de nombreux print, on utilise cette fonction qui va les bloquer temporairement. "
      ]
    },
    {
      "cell_type": "code",
      "metadata": {
        "id": "UEbalM1jKb-s"
      },
      "source": [
        "# Disable\n",
        "def blockPrint():\n",
        "    sys.__stdout__ = sys.stdout\n",
        "    sys.stdout = open(os.devnull, 'w')\n",
        "\n",
        "# Restore\n",
        "def enablePrint():\n",
        "    sys.stdout = sys.__stdout__"
      ],
      "execution_count": 340,
      "outputs": []
    },
    {
      "cell_type": "markdown",
      "metadata": {
        "id": "qdgU_8Zk5g_8"
      },
      "source": [
        "On choisit le pas que l'on souhaite. "
      ]
    },
    {
      "cell_type": "code",
      "metadata": {
        "id": "JkJoZ1zpghka"
      },
      "source": [
        "blockPrint()\n",
        "pas = 20\n",
        "rmse_r2 = for_plot_rmse_r2(pas)\n",
        "\n"
      ],
      "execution_count": null,
      "outputs": []
    },
    {
      "cell_type": "code",
      "metadata": {
        "id": "jX49HFsILSnH",
        "outputId": "c3066a3f-a44f-435d-b50c-7bbe5edca2ea",
        "colab": {
          "base_uri": "https://localhost:8080/",
          "height": 298
        }
      },
      "source": [
        "plt.title(\"Performance du score R2 selon la taille de la base pseudo-labelisée\")\n",
        "plt.plot(rmse_r2[0],  label='r2 test')\n",
        "plt.plot(rmse_r2[1],  label='r2 train')\n",
        "plt.legend()"
      ],
      "execution_count": 332,
      "outputs": [
        {
          "output_type": "execute_result",
          "data": {
            "text/plain": [
              "<matplotlib.legend.Legend at 0x7f6efa8cbac8>"
            ]
          },
          "metadata": {
            "tags": []
          },
          "execution_count": 332
        },
        {
          "output_type": "display_data",
          "data": {
            "image/png": "[encoded data removed]",
            "text/plain": [
              "<Figure size 432x288 with 1 Axes>"
            ]
          },
          "metadata": {
            "tags": [],
            "needs_background": "light"
          }
        }
      ]
    },
    {
      "cell_type": "code",
      "metadata": {
        "id": "ouCdF0-TiNBx",
        "colab": {
          "base_uri": "https://localhost:8080/",
          "height": 298
        },
        "outputId": "700657d1-c165-43f3-917e-ec1e7b7fb2a7"
      },
      "source": [
        "plt.title(\"Performance de l'erreur quadratique selon la taille de la base pseudo-labelisée\")\n",
        "plt.plot(rmse_r2[2], label='mse test')\n",
        "plt.plot(rmse_r2[3], label='mse train')\n",
        "plt.legend()"
      ],
      "execution_count": 333,
      "outputs": [
        {
          "output_type": "execute_result",
          "data": {
            "text/plain": [
              "<matplotlib.legend.Legend at 0x7f6efa884a90>"
            ]
          },
          "metadata": {
            "tags": []
          },
          "execution_count": 333
        },
        {
          "output_type": "display_data",
          "data": {
            "image/png": "[encoded data removed]",
            "text/plain": [
              "<Figure size 432x288 with 1 Axes>"
            ]
          },
          "metadata": {
            "tags": [],
            "needs_background": "light"
          }
        }
      ]
    },
    {
      "cell_type": "code",
      "metadata": {
        "id": "aiKUNNRB-iNh",
        "outputId": "1e7a986c-58fe-4adf-af9b-0a8e51a9029c",
        "colab": {
          "base_uri": "https://localhost:8080/"
        }
      },
      "source": [
        "enablePrint()\n",
        "l_min = [ rmse_r2[2].index(min(rmse_r2[2]))/pas,rmse_r2[3].index(min(rmse_r2[3]))/pas]\n",
        "print(\"Pourcentage optimal pour minimiser MSE TEST\", rmse_r2[2].index(min(rmse_r2[2]))/pas, '%')\n",
        "print('\\n')\n",
        "print(\"Pourcentage optimal pour minimiser MSE TRAIN\", rmse_r2[3].index(min(rmse_r2[3]))/pas, '%')\n"
      ],
      "execution_count": 344,
      "outputs": [
        {
          "output_type": "execute_result",
          "data": {
            "text/plain": [
              "[0.45, 0.35]"
            ]
          },
          "metadata": {
            "tags": []
          },
          "execution_count": 344
        }
      ]
    },
    {
      "cell_type": "code",
      "metadata": {
        "id": "QixNvjTSLdV8",
        "outputId": "74e90c2e-571a-4cbf-b7e1-eb170be3712d",
        "colab": {
          "base_uri": "https://localhost:8080/"
        }
      },
      "source": [
        "df_pseudo_labeled = label_percent(0.45)\n",
        "gr_review = df_pseudo_labeled.groupby('imdb_id').mean()\n",
        "print(\"Taille de l'échantillon après agrégation\", len(gr_review))\n",
        "#gr_review = gr_review.drop(columns=['Unnamed: 0', 'url_code'])\n",
        "df_2 = pd.merge(df, gr_review, left_on ='imdb_id', right_on ='imdb_id')\n",
        "\n",
        "\n",
        "X = pd.DataFrame(np.c_[df_2.budget, df_2.revenue, df_2.sentiment], columns= ['budget', 'revenue', 'sentiment'])\n",
        "Y = df_2.score_1\n",
        "\n",
        "X_train, X_test, Y_train, Y_test = train_test_split(X, Y, test_size = 0.2, random_state=5)\n",
        "\n",
        "model_opt = linear_model(X_train,Y_train, X_test,Y_test)"
      ],
      "execution_count": 342,
      "outputs": [
        {
          "output_type": "stream",
          "text": [
            "/usr/local/lib/python3.6/dist-packages/ipykernel_launcher.py:6: SettingWithCopyWarning:\n",
            "\n",
            "\n",
            "A value is trying to be set on a copy of a slice from a DataFrame.\n",
            "Try using .loc[row_indexer,col_indexer] = value instead\n",
            "\n",
            "See the caveats in the documentation: https://pandas.pydata.org/pandas-docs/stable/user_guide/indexing.html#returning-a-view-versus-a-copy\n",
            "\n"
          ],
          "name": "stderr"
        }
      ]
    },
    {
      "cell_type": "code",
      "metadata": {
        "id": "nZYVo9n-L8eX",
        "outputId": "43080847-5a41-4936-aec7-2a33fbcf3d86",
        "colab": {
          "base_uri": "https://localhost:8080/",
          "height": 235
        }
      },
      "source": [
        "l = []\n",
        "l.extend(model_opt[2:])\n",
        "l.append(len(X))\n",
        "\n",
        "table_resultats['model_opt'] = l\n",
        "table_resultats"
      ],
      "execution_count": 343,
      "outputs": [
        {
          "output_type": "execute_result",
          "data": {
            "text/html": [
              "<div>\n",
              "<style scoped>\n",
              "    .dataframe tbody tr th:only-of-type {\n",
              "        vertical-align: middle;\n",
              "    }\n",
              "\n",
              "    .dataframe tbody tr th {\n",
              "        vertical-align: top;\n",
              "    }\n",
              "\n",
              "    .dataframe thead th {\n",
              "        text-align: right;\n",
              "    }\n",
              "</style>\n",
              "<table border=\"1\" class=\"dataframe\">\n",
              "  <thead>\n",
              "    <tr style=\"text-align: right;\">\n",
              "      <th></th>\n",
              "      <th>model1</th>\n",
              "      <th>model2</th>\n",
              "      <th>model3</th>\n",
              "      <th>model4</th>\n",
              "      <th>model_am_20</th>\n",
              "      <th>model_am_50</th>\n",
              "      <th>model_opt</th>\n",
              "    </tr>\n",
              "    <tr>\n",
              "      <th>name</th>\n",
              "      <th></th>\n",
              "      <th></th>\n",
              "      <th></th>\n",
              "      <th></th>\n",
              "      <th></th>\n",
              "      <th></th>\n",
              "      <th></th>\n",
              "    </tr>\n",
              "  </thead>\n",
              "  <tbody>\n",
              "    <tr>\n",
              "      <th>r2_test</th>\n",
              "      <td>0.587987</td>\n",
              "      <td>0.152923</td>\n",
              "      <td>0.451731</td>\n",
              "      <td>0.219785</td>\n",
              "      <td>0.634199</td>\n",
              "      <td>0.434614</td>\n",
              "      <td>0.443857</td>\n",
              "    </tr>\n",
              "    <tr>\n",
              "      <th>r2_train</th>\n",
              "      <td>0.616217</td>\n",
              "      <td>0.145450</td>\n",
              "      <td>0.634456</td>\n",
              "      <td>0.202645</td>\n",
              "      <td>0.620938</td>\n",
              "      <td>0.636218</td>\n",
              "      <td>0.654358</td>\n",
              "    </tr>\n",
              "    <tr>\n",
              "      <th>MSE_test</th>\n",
              "      <td>3364.076265</td>\n",
              "      <td>181.425640</td>\n",
              "      <td>2778.814421</td>\n",
              "      <td>160.197130</td>\n",
              "      <td>2595.532281</td>\n",
              "      <td>2640.231655</td>\n",
              "      <td>3444.024579</td>\n",
              "    </tr>\n",
              "    <tr>\n",
              "      <th>MSE_train</th>\n",
              "      <td>3467.430215</td>\n",
              "      <td>188.170446</td>\n",
              "      <td>2751.775258</td>\n",
              "      <td>173.182002</td>\n",
              "      <td>2923.128003</td>\n",
              "      <td>2912.198810</td>\n",
              "      <td>2713.122531</td>\n",
              "    </tr>\n",
              "    <tr>\n",
              "      <th>count</th>\n",
              "      <td>17356.000000</td>\n",
              "      <td>13017.000000</td>\n",
              "      <td>1779.000000</td>\n",
              "      <td>1334.000000</td>\n",
              "      <td>3050.000000</td>\n",
              "      <td>3247.000000</td>\n",
              "      <td>3216.000000</td>\n",
              "    </tr>\n",
              "  </tbody>\n",
              "</table>\n",
              "</div>"
            ],
            "text/plain": [
              "                 model1        model2  ...  model_am_50    model_opt\n",
              "name                                   ...                          \n",
              "r2_test        0.587987      0.152923  ...     0.434614     0.443857\n",
              "r2_train       0.616217      0.145450  ...     0.636218     0.654358\n",
              "MSE_test    3364.076265    181.425640  ...  2640.231655  3444.024579\n",
              "MSE_train   3467.430215    188.170446  ...  2912.198810  2713.122531\n",
              "count      17356.000000  13017.000000  ...  3247.000000  3216.000000\n",
              "\n",
              "[5 rows x 7 columns]"
            ]
          },
          "metadata": {
            "tags": []
          },
          "execution_count": 343
        }
      ]
    },
    {
      "cell_type": "markdown",
      "metadata": {
        "id": "8feXgRyOH-tA"
      },
      "source": [
        "**Conclusion**\n",
        "\n",
        "\n",
        "![Capture d’écran 2020-12-14 à 22.46.51.png](data:image/png;base64,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)"
      ]
    },
    {
      "cell_type": "code",
      "metadata": {
        "id": "Eh0nsPKMLXil"
      },
      "source": [
        ""
      ],
      "execution_count": null,
      "outputs": []
    }
  ]
}