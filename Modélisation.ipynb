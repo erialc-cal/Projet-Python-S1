{
  "nbformat": 4,
  "nbformat_minor": 0,
  "metadata": {
    "colab": {
      "name": "Modélisation",
      "provenance": [],
      "toc_visible": true,
      "include_colab_link": true
    },
    "kernelspec": {
      "name": "python3",
      "display_name": "Python 3"
    }
  },
  "cells": [
    {
      "cell_type": "markdown",
      "metadata": {
        "id": "view-in-github",
        "colab_type": "text"
      },
      "source": [
        "<a href=\"https://colab.research.google.com/github/marie-ganon/Projet-Python-S1/blob/main/Mod%C3%A9lisation.ipynb\" target=\"_parent\"><img src=\"https://colab.research.google.com/assets/colab-badge.svg\" alt=\"Open In Colab\"/></a>"
      ]
    },
    {
      "cell_type": "markdown",
      "metadata": {
        "id": "lkmXRqzPQBXu"
      },
      "source": [
        "Avant de commencer à run ce notebook, il faut charger un certain nombre de fichiers : \n",
        "\n",
        "\n",
        "```\n",
        "- test_review.csv.zip\n",
        "- train_review.csv.zip\n",
        "- unsup_filtered_review.csv.zip\n",
        "```\n",
        "\n"
      ]
    },
    {
      "cell_type": "markdown",
      "metadata": {
        "id": "TqdSATRHHShd"
      },
      "source": [
        "**Introduction** \n",
        "\n",
        "Dans cette partie, nous nous intéressons à modéliser/prédire le \"succès\" d'un film selon le critère *score_1* construit dans les parties précédentes. \n",
        "\n",
        "Nous disposons pour cela d'un certain nombre d'indicateurs plus ou moins complets. Nous avons opté pour un modèle linéaire principalement afin de représenter l'influence entre autres du budget, du revenu ou des sentiments des commentaires sur le score.\n",
        "\n",
        "Il s'agit donc d'améliorer le modèle en l'enrichissant notamment par une analyse sentiment pour déterminer les sentiments des commentaires dont on dispose dans les bases *test_review*, *train_review* et *unsup_filtered_review*. \n",
        "\n",
        "D'autre part on a intégré suite au travail effectué dans les statistiques descriptives des modalités catégorielles correspondant aux genres pour en voir la pertinence dans la régression.\n",
        "\n",
        "La dernière partie s'intéresse aux résultats que l'on peut avoir sur un modèle random forest par rapport à nos travaux sur le modèle linéaire. \n",
        "\n",
        "**Intégration continue**"
      ]
    },
    {
      "cell_type": "code",
      "metadata": {
        "id": "iu_CN_JlHWlD",
        "colab": {
          "base_uri": "https://localhost:8080/",
          "height": 37
        },
        "outputId": "86995dfc-a41b-4a80-c745-65af96192e34"
      },
      "source": [
        "from IPython.display import Image\n",
        "try:\n",
        "    im = Image(\"https://travis-ci.org/sdpython/ensae_teaching_cs.png\")\n",
        "except TimeoutError:\n",
        "    im = None\n",
        "im"
      ],
      "execution_count": null,
      "outputs": [
        {
          "output_type": "execute_result",
          "data": {
            "image/png": "[encoded data removed]",
            "text/plain": [
              "<IPython.core.display.Image object>"
            ]
          },
          "metadata": {
            "tags": []
          },
          "execution_count": 257
        }
      ]
    },
    {
      "cell_type": "markdown",
      "metadata": {
        "id": "Zct7fYd9IDeU"
      },
      "source": [
        "**Sommaire** "
      ]
    },
    {
      "cell_type": "markdown",
      "metadata": {
        "id": "SuWsgQ9JIGwS"
      },
      "source": [
        "1. Préparation des données\r\n",
        "  - Chargement des données\r\n",
        "  - Analyse de la matrice de corrélation\r\n",
        "  - Complétude des deux bases\r\n",
        "\r\n",
        "2. Régression linéaire de *score_1* sur *budget* et *revenue*\r\n",
        "  - Régression sur la base complète\r\n",
        "  - Régression sur la base tronquée\r\n",
        "  - Comparaison des deux régressions\r\n",
        "\r\n",
        "3. Analyse de sentiments\r\n",
        "  - Préparation des données\r\n",
        "  - Classificateur naïf bayésien \r\n",
        "  - Classificateur SVM\r\n",
        "\r\n",
        "4. Approfondissement de la régression linéaire\r\n",
        "  - Préparation des données\r\n",
        "  - Régression linéaire sur la base complète\r\n",
        "  - Régression linéaire sur la base tronquée\r\n",
        "  - Comparaison graphique des deux régressions\r\n",
        "  - Conclusion sur l'ajout de variables\r\n",
        "\r\n",
        "5. Ajout du semi-supervisé dans les commentaires\r\n",
        "  - Pseudo-labelisation\r\n",
        "  - Amélioration de la régression linéaire\r\n",
        "  - Visualisation en variant le pourcentage de base pseudo labelisée incorporée\r\n",
        "  - Conclusion sur l'ajout de commentaires par méthode semi-supervisée\r\n",
        "\r\n",
        "6.   Ajout de la variable *genres* en modalités binaires\r\n",
        "\r\n",
        "7. Ouverture : d'autres modèles ? Un random forest \r\n",
        "\r\n",
        "\r\n"
      ]
    },
    {
      "cell_type": "markdown",
      "metadata": {
        "id": "e5RL1sD1QPb9"
      },
      "source": [
        "Import des modules nécessaires"
      ]
    },
    {
      "cell_type": "code",
      "metadata": {
        "id": "VhSzdGb1o4NV"
      },
      "source": [
        "import numpy as np\n",
        "import pandas as pd\n",
        "import matplotlib.pyplot as plt\n",
        "import plotly.express as px\n",
        "from urllib import request\n",
        "from wordcloud import WordCloud, STOPWORDS \n",
        "import csv\n",
        "import bs4\n",
        "from tqdm.notebook import trange, tqdm\n",
        "import seaborn as sns\n",
        "import numpy as np\n",
        "import random as rd"
      ],
      "execution_count": null,
      "outputs": []
    },
    {
      "cell_type": "markdown",
      "metadata": {
        "id": "7rzwhEzkIIPj"
      },
      "source": [
        "# Préparation"
      ]
    },
    {
      "cell_type": "markdown",
      "metadata": {
        "id": "haG3mLatIPMP"
      },
      "source": [
        "## Chargement des données"
      ]
    },
    {
      "cell_type": "code",
      "metadata": {
        "id": "67siAA_8vW-W"
      },
      "source": [
        "rd.seed(42)"
      ],
      "execution_count": null,
      "outputs": []
    },
    {
      "cell_type": "markdown",
      "metadata": {
        "id": "F1Q-XYZWNdoJ"
      },
      "source": [
        "Import des bases : \n",
        "- *df* contient la base TMDb\n",
        "- *train_review* contient la partie entraînée sur les reviews labellisés\n",
        "- *test_review* contient la partie test sur les reviews labellisés\n",
        "- *unsup_filtered_review* contient les reviews non labellisés filtrés sur les films contenus dans *df*\n",
        "\n"
      ]
    },
    {
      "cell_type": "code",
      "metadata": {
        "id": "m-b-E64IpT6l"
      },
      "source": [
        " df = pd.read_csv('https://raw.githubusercontent.com/marie-ganon/Projet-Python-S1/main/Bases_import%C3%A9es/base.csv')"
      ],
      "execution_count": null,
      "outputs": []
    },
    {
      "cell_type": "markdown",
      "metadata": {
        "id": "kQVnDM9M1KsO"
      },
      "source": [
        "Avant de modéliser quoi que ce soit, nous allons supprimer les 'NaN' de la base de données."
      ]
    },
    {
      "cell_type": "code",
      "metadata": {
        "id": "rxaEYJJpyhUu"
      },
      "source": [
        "df = df.dropna()\r\n",
        "df = df.drop(columns='Unnamed: 0')"
      ],
      "execution_count": null,
      "outputs": []
    },
    {
      "cell_type": "code",
      "metadata": {
        "id": "s3K7-NVcmBNl",
        "colab": {
          "base_uri": "https://localhost:8080/",
          "height": 683
        },
        "outputId": "762c3f92-8e13-43cd-8a4e-a3c37b5e4601"
      },
      "source": [
        "df.head()"
      ],
      "execution_count": null,
      "outputs": [
        {
          "output_type": "execute_result",
          "data": {
            "text/html": [
              "<div>\n",
              "<style scoped>\n",
              "    .dataframe tbody tr th:only-of-type {\n",
              "        vertical-align: middle;\n",
              "    }\n",
              "\n",
              "    .dataframe tbody tr th {\n",
              "        vertical-align: top;\n",
              "    }\n",
              "\n",
              "    .dataframe thead th {\n",
              "        text-align: right;\n",
              "    }\n",
              "</style>\n",
              "<table border=\"1\" class=\"dataframe\">\n",
              "  <thead>\n",
              "    <tr style=\"text-align: right;\">\n",
              "      <th></th>\n",
              "      <th>Unnamed: 0</th>\n",
              "      <th>index</th>\n",
              "      <th>budget</th>\n",
              "      <th>genres</th>\n",
              "      <th>id</th>\n",
              "      <th>imdb_id</th>\n",
              "      <th>original_language</th>\n",
              "      <th>original_title</th>\n",
              "      <th>overview</th>\n",
              "      <th>popularity</th>\n",
              "      <th>release_date</th>\n",
              "      <th>revenue</th>\n",
              "      <th>runtime</th>\n",
              "      <th>status</th>\n",
              "      <th>tagline</th>\n",
              "      <th>title</th>\n",
              "      <th>vote_average</th>\n",
              "      <th>vote_count</th>\n",
              "      <th>collection</th>\n",
              "      <th>score_1</th>\n",
              "      <th>production_companies_name</th>\n",
              "      <th>production_companies_id</th>\n",
              "      <th>pc_id_count</th>\n",
              "      <th>country_code</th>\n",
              "      <th>country_name</th>\n",
              "    </tr>\n",
              "  </thead>\n",
              "  <tbody>\n",
              "    <tr>\n",
              "      <th>0</th>\n",
              "      <td>0</td>\n",
              "      <td>0</td>\n",
              "      <td>30000000</td>\n",
              "      <td>Animation, Comedy, Family</td>\n",
              "      <td>862</td>\n",
              "      <td>tt0114709</td>\n",
              "      <td>Anglais</td>\n",
              "      <td>Toy Story</td>\n",
              "      <td>Led by Woody, Andy's toys live happily in his ...</td>\n",
              "      <td>21.946943</td>\n",
              "      <td>1995-10-30</td>\n",
              "      <td>373554033.0</td>\n",
              "      <td>81.0</td>\n",
              "      <td>Released</td>\n",
              "      <td>NaN</td>\n",
              "      <td>Toy Story</td>\n",
              "      <td>7.7</td>\n",
              "      <td>5415.0</td>\n",
              "      <td>1</td>\n",
              "      <td>41695.5</td>\n",
              "      <td>Pixar Animation Studios</td>\n",
              "      <td>3</td>\n",
              "      <td>29.0</td>\n",
              "      <td>US</td>\n",
              "      <td>United States of America</td>\n",
              "    </tr>\n",
              "    <tr>\n",
              "      <th>1</th>\n",
              "      <td>1</td>\n",
              "      <td>1</td>\n",
              "      <td>65000000</td>\n",
              "      <td>Adventure, Fantasy, Family</td>\n",
              "      <td>8844</td>\n",
              "      <td>tt0113497</td>\n",
              "      <td>Anglais</td>\n",
              "      <td>Jumanji</td>\n",
              "      <td>When siblings Judy and Peter discover an encha...</td>\n",
              "      <td>17.015539</td>\n",
              "      <td>1995-12-15</td>\n",
              "      <td>262797249.0</td>\n",
              "      <td>104.0</td>\n",
              "      <td>Released</td>\n",
              "      <td>Roll the dice and unleash the excitement!</td>\n",
              "      <td>Jumanji</td>\n",
              "      <td>6.9</td>\n",
              "      <td>2413.0</td>\n",
              "      <td>0</td>\n",
              "      <td>16649.7</td>\n",
              "      <td>TriStar Pictures</td>\n",
              "      <td>559</td>\n",
              "      <td>163.0</td>\n",
              "      <td>US</td>\n",
              "      <td>United States of America</td>\n",
              "    </tr>\n",
              "    <tr>\n",
              "      <th>2</th>\n",
              "      <td>2</td>\n",
              "      <td>2</td>\n",
              "      <td>0</td>\n",
              "      <td>Romance, Comedy</td>\n",
              "      <td>15602</td>\n",
              "      <td>tt0113228</td>\n",
              "      <td>Anglais</td>\n",
              "      <td>Grumpier Old Men</td>\n",
              "      <td>A family wedding reignites the ancient feud be...</td>\n",
              "      <td>11.712900</td>\n",
              "      <td>1995-12-22</td>\n",
              "      <td>0.0</td>\n",
              "      <td>101.0</td>\n",
              "      <td>Released</td>\n",
              "      <td>Still Yelling. Still Fighting. Still Ready for...</td>\n",
              "      <td>Grumpier Old Men</td>\n",
              "      <td>6.5</td>\n",
              "      <td>92.0</td>\n",
              "      <td>1</td>\n",
              "      <td>598.0</td>\n",
              "      <td>Warner Bros</td>\n",
              "      <td>6194</td>\n",
              "      <td>757.0</td>\n",
              "      <td>US</td>\n",
              "      <td>United States of America</td>\n",
              "    </tr>\n",
              "    <tr>\n",
              "      <th>3</th>\n",
              "      <td>3</td>\n",
              "      <td>3</td>\n",
              "      <td>16000000</td>\n",
              "      <td>Comedy, Drama, Romance</td>\n",
              "      <td>31357</td>\n",
              "      <td>tt0114885</td>\n",
              "      <td>Anglais</td>\n",
              "      <td>Waiting to Exhale</td>\n",
              "      <td>Cheated on, mistreated and stepped on, the wom...</td>\n",
              "      <td>3.859495</td>\n",
              "      <td>1995-12-22</td>\n",
              "      <td>81452156.0</td>\n",
              "      <td>127.0</td>\n",
              "      <td>Released</td>\n",
              "      <td>Friends are the people who let you be yourself...</td>\n",
              "      <td>Waiting to Exhale</td>\n",
              "      <td>6.1</td>\n",
              "      <td>34.0</td>\n",
              "      <td>0</td>\n",
              "      <td>207.4</td>\n",
              "      <td>Twentieth Century Fox Film Corporation</td>\n",
              "      <td>306</td>\n",
              "      <td>780.0</td>\n",
              "      <td>US</td>\n",
              "      <td>United States of America</td>\n",
              "    </tr>\n",
              "    <tr>\n",
              "      <th>4</th>\n",
              "      <td>4</td>\n",
              "      <td>4</td>\n",
              "      <td>0</td>\n",
              "      <td>Comedy</td>\n",
              "      <td>11862</td>\n",
              "      <td>tt0113041</td>\n",
              "      <td>Anglais</td>\n",
              "      <td>Father of the Bride Part II</td>\n",
              "      <td>Just when George Banks has recovered from his ...</td>\n",
              "      <td>8.387519</td>\n",
              "      <td>1995-02-10</td>\n",
              "      <td>76578911.0</td>\n",
              "      <td>106.0</td>\n",
              "      <td>Released</td>\n",
              "      <td>Just When His World Is Back To Normal... He's ...</td>\n",
              "      <td>Father of the Bride Part II</td>\n",
              "      <td>5.7</td>\n",
              "      <td>173.0</td>\n",
              "      <td>1</td>\n",
              "      <td>986.1</td>\n",
              "      <td>Sandollar Productions</td>\n",
              "      <td>5842</td>\n",
              "      <td>5.0</td>\n",
              "      <td>US</td>\n",
              "      <td>United States of America</td>\n",
              "    </tr>\n",
              "  </tbody>\n",
              "</table>\n",
              "</div>"
            ],
            "text/plain": [
              "   Unnamed: 0  index  ...  country_code               country_name\n",
              "0           0      0  ...            US   United States of America\n",
              "1           1      1  ...            US   United States of America\n",
              "2           2      2  ...            US   United States of America\n",
              "3           3      3  ...            US   United States of America\n",
              "4           4      4  ...            US   United States of America\n",
              "\n",
              "[5 rows x 25 columns]"
            ]
          },
          "metadata": {
            "tags": []
          },
          "execution_count": 442
        }
      ]
    },
    {
      "cell_type": "code",
      "metadata": {
        "id": "VSuRl-8hEkzk",
        "colab": {
          "base_uri": "https://localhost:8080/"
        },
        "outputId": "c34a888a-eab0-463c-8046-074389589589"
      },
      "source": [
        "!ls"
      ],
      "execution_count": null,
      "outputs": [
        {
          "output_type": "stream",
          "text": [
            "sample_data  temp_dir  test_review.csv.zip  train_review.csv.zip\n"
          ],
          "name": "stdout"
        }
      ]
    },
    {
      "cell_type": "code",
      "metadata": {
        "id": "tfr3ENrPF-zT"
      },
      "source": [
        "# Fichier temporaire\r\n",
        "\r\n",
        "import tempfile\r\n",
        "\r\n",
        "temp_dir = tempfile.mkdtemp()"
      ],
      "execution_count": null,
      "outputs": []
    },
    {
      "cell_type": "code",
      "metadata": {
        "id": "R8yAttJ9N8Ak"
      },
      "source": [
        "# Pour dezipper le csv disponible dans le git \n",
        "\n",
        "import zipfile\n",
        "\n",
        "# IMPORTER LES FICHIERS TEST_REVIEW.CSV.ZIP et TRAIN_REVIEW.CSV.ZIP\n",
        "with zipfile.ZipFile('test_review.csv.zip', 'r') as zip1, zipfile.ZipFile('train_review.csv.zip', 'r') as zip2 :\n",
        "    zip1.extractall('temp_dir')\n",
        "    zip2.extractall('temp_dir')"
      ],
      "execution_count": null,
      "outputs": []
    },
    {
      "cell_type": "code",
      "metadata": {
        "id": "Q_Go9GCtGEfO"
      },
      "source": [
        "test_review = pd.read_csv(r'temp_dir/test_review .csv', sep=',', low_memory = False)\r\n",
        "train_review = pd.read_csv(r'temp_dir/train_review.csv', sep=',', low_memory = False)"
      ],
      "execution_count": null,
      "outputs": []
    },
    {
      "cell_type": "markdown",
      "metadata": {
        "id": "E_3_HszvNg0s"
      },
      "source": [
        "## Analyse de la matrice de corrélation de *df*"
      ]
    },
    {
      "cell_type": "markdown",
      "metadata": {
        "id": "ufujyh3hu8HR"
      },
      "source": [
        "Rappelons la matrice de corrélation de la base :"
      ]
    },
    {
      "cell_type": "code",
      "metadata": {
        "id": "_xh2xAXwpiF3",
        "colab": {
          "base_uri": "https://localhost:8080/",
          "height": 312
        },
        "outputId": "de122f27-aca9-4f49-9436-c718479140da"
      },
      "source": [
        "corr = df.corr()\n",
        "corr.style.background_gradient(cmap = 'coolwarm')"
      ],
      "execution_count": null,
      "outputs": [
        {
          "output_type": "execute_result",
          "data": {
            "text/html": [
              "<style  type=\"text/css\" >\n",
              "#T_3057f7a8_3e52_11eb_985c_0242ac1c0002row0_col0,#T_3057f7a8_3e52_11eb_985c_0242ac1c0002row1_col1,#T_3057f7a8_3e52_11eb_985c_0242ac1c0002row2_col2,#T_3057f7a8_3e52_11eb_985c_0242ac1c0002row3_col3,#T_3057f7a8_3e52_11eb_985c_0242ac1c0002row4_col4,#T_3057f7a8_3e52_11eb_985c_0242ac1c0002row5_col5,#T_3057f7a8_3e52_11eb_985c_0242ac1c0002row6_col6,#T_3057f7a8_3e52_11eb_985c_0242ac1c0002row7_col7,#T_3057f7a8_3e52_11eb_985c_0242ac1c0002row8_col8,#T_3057f7a8_3e52_11eb_985c_0242ac1c0002row9_col9,#T_3057f7a8_3e52_11eb_985c_0242ac1c0002row10_col10,#T_3057f7a8_3e52_11eb_985c_0242ac1c0002row11_col11{\n",
              "            background-color:  #b40426;\n",
              "            color:  #f1f1f1;\n",
              "        }#T_3057f7a8_3e52_11eb_985c_0242ac1c0002row0_col1,#T_3057f7a8_3e52_11eb_985c_0242ac1c0002row2_col11{\n",
              "            background-color:  #465ecf;\n",
              "            color:  #f1f1f1;\n",
              "        }#T_3057f7a8_3e52_11eb_985c_0242ac1c0002row0_col2{\n",
              "            background-color:  #f6a283;\n",
              "            color:  #000000;\n",
              "        }#T_3057f7a8_3e52_11eb_985c_0242ac1c0002row0_col3{\n",
              "            background-color:  #4257c9;\n",
              "            color:  #f1f1f1;\n",
              "        }#T_3057f7a8_3e52_11eb_985c_0242ac1c0002row0_col4,#T_3057f7a8_3e52_11eb_985c_0242ac1c0002row6_col2{\n",
              "            background-color:  #455cce;\n",
              "            color:  #f1f1f1;\n",
              "        }#T_3057f7a8_3e52_11eb_985c_0242ac1c0002row0_col5,#T_3057f7a8_3e52_11eb_985c_0242ac1c0002row0_col6,#T_3057f7a8_3e52_11eb_985c_0242ac1c0002row2_col8,#T_3057f7a8_3e52_11eb_985c_0242ac1c0002row6_col0,#T_3057f7a8_3e52_11eb_985c_0242ac1c0002row10_col1,#T_3057f7a8_3e52_11eb_985c_0242ac1c0002row10_col3,#T_3057f7a8_3e52_11eb_985c_0242ac1c0002row10_col4,#T_3057f7a8_3e52_11eb_985c_0242ac1c0002row10_col7,#T_3057f7a8_3e52_11eb_985c_0242ac1c0002row10_col9,#T_3057f7a8_3e52_11eb_985c_0242ac1c0002row10_col11,#T_3057f7a8_3e52_11eb_985c_0242ac1c0002row11_col2,#T_3057f7a8_3e52_11eb_985c_0242ac1c0002row11_col10{\n",
              "            background-color:  #3b4cc0;\n",
              "            color:  #f1f1f1;\n",
              "        }#T_3057f7a8_3e52_11eb_985c_0242ac1c0002row0_col7,#T_3057f7a8_3e52_11eb_985c_0242ac1c0002row2_col4,#T_3057f7a8_3e52_11eb_985c_0242ac1c0002row5_col0,#T_3057f7a8_3e52_11eb_985c_0242ac1c0002row10_col5{\n",
              "            background-color:  #4b64d5;\n",
              "            color:  #f1f1f1;\n",
              "        }#T_3057f7a8_3e52_11eb_985c_0242ac1c0002row0_col8{\n",
              "            background-color:  #3f53c6;\n",
              "            color:  #f1f1f1;\n",
              "        }#T_3057f7a8_3e52_11eb_985c_0242ac1c0002row0_col9{\n",
              "            background-color:  #4961d2;\n",
              "            color:  #f1f1f1;\n",
              "        }#T_3057f7a8_3e52_11eb_985c_0242ac1c0002row0_col10{\n",
              "            background-color:  #d2dbe8;\n",
              "            color:  #000000;\n",
              "        }#T_3057f7a8_3e52_11eb_985c_0242ac1c0002row0_col11{\n",
              "            background-color:  #3c4ec2;\n",
              "            color:  #f1f1f1;\n",
              "        }#T_3057f7a8_3e52_11eb_985c_0242ac1c0002row1_col0,#T_3057f7a8_3e52_11eb_985c_0242ac1c0002row3_col0{\n",
              "            background-color:  #5a78e4;\n",
              "            color:  #000000;\n",
              "        }#T_3057f7a8_3e52_11eb_985c_0242ac1c0002row1_col2,#T_3057f7a8_3e52_11eb_985c_0242ac1c0002row5_col2,#T_3057f7a8_3e52_11eb_985c_0242ac1c0002row7_col10{\n",
              "            background-color:  #5470de;\n",
              "            color:  #000000;\n",
              "        }#T_3057f7a8_3e52_11eb_985c_0242ac1c0002row1_col3{\n",
              "            background-color:  #d9dce1;\n",
              "            color:  #000000;\n",
              "        }#T_3057f7a8_3e52_11eb_985c_0242ac1c0002row1_col4{\n",
              "            background-color:  #ef886b;\n",
              "            color:  #000000;\n",
              "        }#T_3057f7a8_3e52_11eb_985c_0242ac1c0002row1_col5,#T_3057f7a8_3e52_11eb_985c_0242ac1c0002row8_col7{\n",
              "            background-color:  #abc8fd;\n",
              "            color:  #000000;\n",
              "        }#T_3057f7a8_3e52_11eb_985c_0242ac1c0002row1_col6,#T_3057f7a8_3e52_11eb_985c_0242ac1c0002row3_col8,#T_3057f7a8_3e52_11eb_985c_0242ac1c0002row5_col4{\n",
              "            background-color:  #96b7ff;\n",
              "            color:  #000000;\n",
              "        }#T_3057f7a8_3e52_11eb_985c_0242ac1c0002row1_col7{\n",
              "            background-color:  #f7aa8c;\n",
              "            color:  #000000;\n",
              "        }#T_3057f7a8_3e52_11eb_985c_0242ac1c0002row1_col8,#T_3057f7a8_3e52_11eb_985c_0242ac1c0002row6_col7{\n",
              "            background-color:  #9ebeff;\n",
              "            color:  #000000;\n",
              "        }#T_3057f7a8_3e52_11eb_985c_0242ac1c0002row1_col9{\n",
              "            background-color:  #f7b89c;\n",
              "            color:  #000000;\n",
              "        }#T_3057f7a8_3e52_11eb_985c_0242ac1c0002row1_col10,#T_3057f7a8_3e52_11eb_985c_0242ac1c0002row2_col1{\n",
              "            background-color:  #4e68d8;\n",
              "            color:  #000000;\n",
              "        }#T_3057f7a8_3e52_11eb_985c_0242ac1c0002row1_col11,#T_3057f7a8_3e52_11eb_985c_0242ac1c0002row6_col3,#T_3057f7a8_3e52_11eb_985c_0242ac1c0002row8_col3{\n",
              "            background-color:  #9abbff;\n",
              "            color:  #000000;\n",
              "        }#T_3057f7a8_3e52_11eb_985c_0242ac1c0002row2_col0{\n",
              "            background-color:  #f59d7e;\n",
              "            color:  #000000;\n",
              "        }#T_3057f7a8_3e52_11eb_985c_0242ac1c0002row2_col3,#T_3057f7a8_3e52_11eb_985c_0242ac1c0002row8_col0,#T_3057f7a8_3e52_11eb_985c_0242ac1c0002row8_col10{\n",
              "            background-color:  #5d7ce6;\n",
              "            color:  #000000;\n",
              "        }#T_3057f7a8_3e52_11eb_985c_0242ac1c0002row2_col5{\n",
              "            background-color:  #506bda;\n",
              "            color:  #000000;\n",
              "        }#T_3057f7a8_3e52_11eb_985c_0242ac1c0002row2_col6,#T_3057f7a8_3e52_11eb_985c_0242ac1c0002row2_col9{\n",
              "            background-color:  #536edd;\n",
              "            color:  #000000;\n",
              "        }#T_3057f7a8_3e52_11eb_985c_0242ac1c0002row2_col7{\n",
              "            background-color:  #5572df;\n",
              "            color:  #000000;\n",
              "        }#T_3057f7a8_3e52_11eb_985c_0242ac1c0002row2_col10{\n",
              "            background-color:  #dadce0;\n",
              "            color:  #000000;\n",
              "        }#T_3057f7a8_3e52_11eb_985c_0242ac1c0002row3_col1{\n",
              "            background-color:  #dbdcde;\n",
              "            color:  #000000;\n",
              "        }#T_3057f7a8_3e52_11eb_985c_0242ac1c0002row3_col2{\n",
              "            background-color:  #688aef;\n",
              "            color:  #000000;\n",
              "        }#T_3057f7a8_3e52_11eb_985c_0242ac1c0002row3_col4{\n",
              "            background-color:  #ead5c9;\n",
              "            color:  #000000;\n",
              "        }#T_3057f7a8_3e52_11eb_985c_0242ac1c0002row3_col5{\n",
              "            background-color:  #98b9ff;\n",
              "            color:  #000000;\n",
              "        }#T_3057f7a8_3e52_11eb_985c_0242ac1c0002row3_col6{\n",
              "            background-color:  #aec9fc;\n",
              "            color:  #000000;\n",
              "        }#T_3057f7a8_3e52_11eb_985c_0242ac1c0002row3_col7,#T_3057f7a8_3e52_11eb_985c_0242ac1c0002row7_col3{\n",
              "            background-color:  #f2cbb7;\n",
              "            color:  #000000;\n",
              "        }#T_3057f7a8_3e52_11eb_985c_0242ac1c0002row3_col9{\n",
              "            background-color:  #f0cdbb;\n",
              "            color:  #000000;\n",
              "        }#T_3057f7a8_3e52_11eb_985c_0242ac1c0002row3_col10{\n",
              "            background-color:  #516ddb;\n",
              "            color:  #000000;\n",
              "        }#T_3057f7a8_3e52_11eb_985c_0242ac1c0002row3_col11,#T_3057f7a8_3e52_11eb_985c_0242ac1c0002row6_col4,#T_3057f7a8_3e52_11eb_985c_0242ac1c0002row6_col11,#T_3057f7a8_3e52_11eb_985c_0242ac1c0002row11_col6{\n",
              "            background-color:  #86a9fc;\n",
              "            color:  #000000;\n",
              "        }#T_3057f7a8_3e52_11eb_985c_0242ac1c0002row4_col0,#T_3057f7a8_3e52_11eb_985c_0242ac1c0002row6_col8,#T_3057f7a8_3e52_11eb_985c_0242ac1c0002row9_col2{\n",
              "            background-color:  #6282ea;\n",
              "            color:  #000000;\n",
              "        }#T_3057f7a8_3e52_11eb_985c_0242ac1c0002row4_col1{\n",
              "            background-color:  #ee8468;\n",
              "            color:  #000000;\n",
              "        }#T_3057f7a8_3e52_11eb_985c_0242ac1c0002row4_col2,#T_3057f7a8_3e52_11eb_985c_0242ac1c0002row5_col10{\n",
              "            background-color:  #5b7ae5;\n",
              "            color:  #000000;\n",
              "        }#T_3057f7a8_3e52_11eb_985c_0242ac1c0002row4_col3{\n",
              "            background-color:  #ead4c8;\n",
              "            color:  #000000;\n",
              "        }#T_3057f7a8_3e52_11eb_985c_0242ac1c0002row4_col5,#T_3057f7a8_3e52_11eb_985c_0242ac1c0002row4_col6,#T_3057f7a8_3e52_11eb_985c_0242ac1c0002row6_col9{\n",
              "            background-color:  #9fbfff;\n",
              "            color:  #000000;\n",
              "        }#T_3057f7a8_3e52_11eb_985c_0242ac1c0002row4_col7{\n",
              "            background-color:  #e8765c;\n",
              "            color:  #000000;\n",
              "        }#T_3057f7a8_3e52_11eb_985c_0242ac1c0002row4_col8{\n",
              "            background-color:  #b3cdfb;\n",
              "            color:  #000000;\n",
              "        }#T_3057f7a8_3e52_11eb_985c_0242ac1c0002row4_col9,#T_3057f7a8_3e52_11eb_985c_0242ac1c0002row9_col4{\n",
              "            background-color:  #ec8165;\n",
              "            color:  #000000;\n",
              "        }#T_3057f7a8_3e52_11eb_985c_0242ac1c0002row4_col10,#T_3057f7a8_3e52_11eb_985c_0242ac1c0002row9_col10{\n",
              "            background-color:  #5673e0;\n",
              "            color:  #000000;\n",
              "        }#T_3057f7a8_3e52_11eb_985c_0242ac1c0002row4_col11{\n",
              "            background-color:  #97b8ff;\n",
              "            color:  #000000;\n",
              "        }#T_3057f7a8_3e52_11eb_985c_0242ac1c0002row5_col1{\n",
              "            background-color:  #aac7fd;\n",
              "            color:  #000000;\n",
              "        }#T_3057f7a8_3e52_11eb_985c_0242ac1c0002row5_col3{\n",
              "            background-color:  #93b5fe;\n",
              "            color:  #000000;\n",
              "        }#T_3057f7a8_3e52_11eb_985c_0242ac1c0002row5_col6{\n",
              "            background-color:  #bad0f8;\n",
              "            color:  #000000;\n",
              "        }#T_3057f7a8_3e52_11eb_985c_0242ac1c0002row5_col7{\n",
              "            background-color:  #9dbdff;\n",
              "            color:  #000000;\n",
              "        }#T_3057f7a8_3e52_11eb_985c_0242ac1c0002row5_col8{\n",
              "            background-color:  #5875e1;\n",
              "            color:  #000000;\n",
              "        }#T_3057f7a8_3e52_11eb_985c_0242ac1c0002row5_col9{\n",
              "            background-color:  #9bbcff;\n",
              "            color:  #000000;\n",
              "        }#T_3057f7a8_3e52_11eb_985c_0242ac1c0002row5_col11{\n",
              "            background-color:  #8caffe;\n",
              "            color:  #000000;\n",
              "        }#T_3057f7a8_3e52_11eb_985c_0242ac1c0002row6_col1{\n",
              "            background-color:  #85a8fc;\n",
              "            color:  #000000;\n",
              "        }#T_3057f7a8_3e52_11eb_985c_0242ac1c0002row6_col5{\n",
              "            background-color:  #adc9fd;\n",
              "            color:  #000000;\n",
              "        }#T_3057f7a8_3e52_11eb_985c_0242ac1c0002row6_col10,#T_3057f7a8_3e52_11eb_985c_0242ac1c0002row10_col6{\n",
              "            background-color:  #5977e3;\n",
              "            color:  #000000;\n",
              "        }#T_3057f7a8_3e52_11eb_985c_0242ac1c0002row7_col0,#T_3057f7a8_3e52_11eb_985c_0242ac1c0002row9_col0{\n",
              "            background-color:  #6485ec;\n",
              "            color:  #000000;\n",
              "        }#T_3057f7a8_3e52_11eb_985c_0242ac1c0002row7_col1{\n",
              "            background-color:  #f7a889;\n",
              "            color:  #000000;\n",
              "        }#T_3057f7a8_3e52_11eb_985c_0242ac1c0002row7_col2,#T_3057f7a8_3e52_11eb_985c_0242ac1c0002row8_col5{\n",
              "            background-color:  #6384eb;\n",
              "            color:  #000000;\n",
              "        }#T_3057f7a8_3e52_11eb_985c_0242ac1c0002row7_col4{\n",
              "            background-color:  #e9785d;\n",
              "            color:  #000000;\n",
              "        }#T_3057f7a8_3e52_11eb_985c_0242ac1c0002row7_col5,#T_3057f7a8_3e52_11eb_985c_0242ac1c0002row9_col5{\n",
              "            background-color:  #a5c3fe;\n",
              "            color:  #000000;\n",
              "        }#T_3057f7a8_3e52_11eb_985c_0242ac1c0002row7_col6{\n",
              "            background-color:  #b2ccfb;\n",
              "            color:  #000000;\n",
              "        }#T_3057f7a8_3e52_11eb_985c_0242ac1c0002row7_col8{\n",
              "            background-color:  #a9c6fd;\n",
              "            color:  #000000;\n",
              "        }#T_3057f7a8_3e52_11eb_985c_0242ac1c0002row7_col9,#T_3057f7a8_3e52_11eb_985c_0242ac1c0002row9_col7{\n",
              "            background-color:  #b50927;\n",
              "            color:  #f1f1f1;\n",
              "        }#T_3057f7a8_3e52_11eb_985c_0242ac1c0002row7_col11{\n",
              "            background-color:  #8fb1fe;\n",
              "            color:  #000000;\n",
              "        }#T_3057f7a8_3e52_11eb_985c_0242ac1c0002row8_col1{\n",
              "            background-color:  #a6c4fe;\n",
              "            color:  #000000;\n",
              "        }#T_3057f7a8_3e52_11eb_985c_0242ac1c0002row8_col2{\n",
              "            background-color:  #4a63d3;\n",
              "            color:  #f1f1f1;\n",
              "        }#T_3057f7a8_3e52_11eb_985c_0242ac1c0002row8_col4,#T_3057f7a8_3e52_11eb_985c_0242ac1c0002row9_col6{\n",
              "            background-color:  #b5cdfa;\n",
              "            color:  #000000;\n",
              "        }#T_3057f7a8_3e52_11eb_985c_0242ac1c0002row8_col6,#T_3057f7a8_3e52_11eb_985c_0242ac1c0002row11_col4{\n",
              "            background-color:  #7ea1fa;\n",
              "            color:  #000000;\n",
              "        }#T_3057f7a8_3e52_11eb_985c_0242ac1c0002row8_col9,#T_3057f7a8_3e52_11eb_985c_0242ac1c0002row9_col8{\n",
              "            background-color:  #a3c2fe;\n",
              "            color:  #000000;\n",
              "        }#T_3057f7a8_3e52_11eb_985c_0242ac1c0002row8_col11{\n",
              "            background-color:  #82a6fb;\n",
              "            color:  #000000;\n",
              "        }#T_3057f7a8_3e52_11eb_985c_0242ac1c0002row9_col1{\n",
              "            background-color:  #f7b599;\n",
              "            color:  #000000;\n",
              "        }#T_3057f7a8_3e52_11eb_985c_0242ac1c0002row9_col3{\n",
              "            background-color:  #f1cdba;\n",
              "            color:  #000000;\n",
              "        }#T_3057f7a8_3e52_11eb_985c_0242ac1c0002row9_col11{\n",
              "            background-color:  #8db0fe;\n",
              "            color:  #000000;\n",
              "        }#T_3057f7a8_3e52_11eb_985c_0242ac1c0002row10_col0{\n",
              "            background-color:  #d3dbe7;\n",
              "            color:  #000000;\n",
              "        }#T_3057f7a8_3e52_11eb_985c_0242ac1c0002row10_col2{\n",
              "            background-color:  #d4dbe6;\n",
              "            color:  #000000;\n",
              "        }#T_3057f7a8_3e52_11eb_985c_0242ac1c0002row10_col8{\n",
              "            background-color:  #4055c8;\n",
              "            color:  #f1f1f1;\n",
              "        }#T_3057f7a8_3e52_11eb_985c_0242ac1c0002row11_col0{\n",
              "            background-color:  #3d50c3;\n",
              "            color:  #f1f1f1;\n",
              "        }#T_3057f7a8_3e52_11eb_985c_0242ac1c0002row11_col1{\n",
              "            background-color:  #89acfd;\n",
              "            color:  #000000;\n",
              "        }#T_3057f7a8_3e52_11eb_985c_0242ac1c0002row11_col3{\n",
              "            background-color:  #7093f3;\n",
              "            color:  #000000;\n",
              "        }#T_3057f7a8_3e52_11eb_985c_0242ac1c0002row11_col5{\n",
              "            background-color:  #7da0f9;\n",
              "            color:  #000000;\n",
              "        }#T_3057f7a8_3e52_11eb_985c_0242ac1c0002row11_col7{\n",
              "            background-color:  #779af7;\n",
              "            color:  #000000;\n",
              "        }#T_3057f7a8_3e52_11eb_985c_0242ac1c0002row11_col8{\n",
              "            background-color:  #6788ee;\n",
              "            color:  #000000;\n",
              "        }#T_3057f7a8_3e52_11eb_985c_0242ac1c0002row11_col9{\n",
              "            background-color:  #7396f5;\n",
              "            color:  #000000;\n",
              "        }</style><table id=\"T_3057f7a8_3e52_11eb_985c_0242ac1c0002\" ><thead>    <tr>        <th class=\"blank level0\" ></th>        <th class=\"col_heading level0 col0\" >index</th>        <th class=\"col_heading level0 col1\" >budget</th>        <th class=\"col_heading level0 col2\" >id</th>        <th class=\"col_heading level0 col3\" >popularity</th>        <th class=\"col_heading level0 col4\" >revenue</th>        <th class=\"col_heading level0 col5\" >runtime</th>        <th class=\"col_heading level0 col6\" >vote_average</th>        <th class=\"col_heading level0 col7\" >vote_count</th>        <th class=\"col_heading level0 col8\" >collection</th>        <th class=\"col_heading level0 col9\" >score_1</th>        <th class=\"col_heading level0 col10\" >production_companies_id</th>        <th class=\"col_heading level0 col11\" >pc_id_count</th>    </tr></thead><tbody>\n",
              "                <tr>\n",
              "                        <th id=\"T_3057f7a8_3e52_11eb_985c_0242ac1c0002level0_row0\" class=\"row_heading level0 row0\" >index</th>\n",
              "                        <td id=\"T_3057f7a8_3e52_11eb_985c_0242ac1c0002row0_col0\" class=\"data row0 col0\" >1.000000</td>\n",
              "                        <td id=\"T_3057f7a8_3e52_11eb_985c_0242ac1c0002row0_col1\" class=\"data row0 col1\" >-0.111052</td>\n",
              "                        <td id=\"T_3057f7a8_3e52_11eb_985c_0242ac1c0002row0_col2\" class=\"data row0 col2\" >0.675912</td>\n",
              "                        <td id=\"T_3057f7a8_3e52_11eb_985c_0242ac1c0002row0_col3\" class=\"data row0 col3\" >-0.113959</td>\n",
              "                        <td id=\"T_3057f7a8_3e52_11eb_985c_0242ac1c0002row0_col4\" class=\"data row0 col4\" >-0.083023</td>\n",
              "                        <td id=\"T_3057f7a8_3e52_11eb_985c_0242ac1c0002row0_col5\" class=\"data row0 col5\" >-0.171586</td>\n",
              "                        <td id=\"T_3057f7a8_3e52_11eb_985c_0242ac1c0002row0_col6\" class=\"data row0 col6\" >-0.239960</td>\n",
              "                        <td id=\"T_3057f7a8_3e52_11eb_985c_0242ac1c0002row0_col7\" class=\"data row0 col7\" >-0.071127</td>\n",
              "                        <td id=\"T_3057f7a8_3e52_11eb_985c_0242ac1c0002row0_col8\" class=\"data row0 col8\" >-0.102720</td>\n",
              "                        <td id=\"T_3057f7a8_3e52_11eb_985c_0242ac1c0002row0_col9\" class=\"data row0 col9\" >-0.072469</td>\n",
              "                        <td id=\"T_3057f7a8_3e52_11eb_985c_0242ac1c0002row0_col10\" class=\"data row0 col10\" >0.331970</td>\n",
              "                        <td id=\"T_3057f7a8_3e52_11eb_985c_0242ac1c0002row0_col11\" class=\"data row0 col11\" >-0.229618</td>\n",
              "            </tr>\n",
              "            <tr>\n",
              "                        <th id=\"T_3057f7a8_3e52_11eb_985c_0242ac1c0002level0_row1\" class=\"row_heading level0 row1\" >budget</th>\n",
              "                        <td id=\"T_3057f7a8_3e52_11eb_985c_0242ac1c0002row1_col0\" class=\"data row1 col0\" >-0.111052</td>\n",
              "                        <td id=\"T_3057f7a8_3e52_11eb_985c_0242ac1c0002row1_col1\" class=\"data row1 col1\" >1.000000</td>\n",
              "                        <td id=\"T_3057f7a8_3e52_11eb_985c_0242ac1c0002row1_col2\" class=\"data row1 col2\" >-0.086690</td>\n",
              "                        <td id=\"T_3057f7a8_3e52_11eb_985c_0242ac1c0002row1_col3\" class=\"data row1 col3\" >0.412162</td>\n",
              "                        <td id=\"T_3057f7a8_3e52_11eb_985c_0242ac1c0002row1_col4\" class=\"data row1 col4\" >0.766446</td>\n",
              "                        <td id=\"T_3057f7a8_3e52_11eb_985c_0242ac1c0002row1_col5\" class=\"data row1 col5\" >0.225766</td>\n",
              "                        <td id=\"T_3057f7a8_3e52_11eb_985c_0242ac1c0002row1_col6\" class=\"data row1 col6\" >0.103634</td>\n",
              "                        <td id=\"T_3057f7a8_3e52_11eb_985c_0242ac1c0002row1_col7\" class=\"data row1 col7\" >0.665415</td>\n",
              "                        <td id=\"T_3057f7a8_3e52_11eb_985c_0242ac1c0002row1_col8\" class=\"data row1 col8\" >0.212146</td>\n",
              "                        <td id=\"T_3057f7a8_3e52_11eb_985c_0242ac1c0002row1_col9\" class=\"data row1 col9\" >0.622080</td>\n",
              "                        <td id=\"T_3057f7a8_3e52_11eb_985c_0242ac1c0002row1_col10\" class=\"data row1 col10\" >-0.160624</td>\n",
              "                        <td id=\"T_3057f7a8_3e52_11eb_985c_0242ac1c0002row1_col11\" class=\"data row1 col11\" >0.117158</td>\n",
              "            </tr>\n",
              "            <tr>\n",
              "                        <th id=\"T_3057f7a8_3e52_11eb_985c_0242ac1c0002level0_row2\" class=\"row_heading level0 row2\" >id</th>\n",
              "                        <td id=\"T_3057f7a8_3e52_11eb_985c_0242ac1c0002row2_col0\" class=\"data row2 col0\" >0.675912</td>\n",
              "                        <td id=\"T_3057f7a8_3e52_11eb_985c_0242ac1c0002row2_col1\" class=\"data row2 col1\" >-0.086690</td>\n",
              "                        <td id=\"T_3057f7a8_3e52_11eb_985c_0242ac1c0002row2_col2\" class=\"data row2 col2\" >1.000000</td>\n",
              "                        <td id=\"T_3057f7a8_3e52_11eb_985c_0242ac1c0002row2_col3\" class=\"data row2 col3\" >-0.014127</td>\n",
              "                        <td id=\"T_3057f7a8_3e52_11eb_985c_0242ac1c0002row2_col4\" class=\"data row2 col4\" >-0.060123</td>\n",
              "                        <td id=\"T_3057f7a8_3e52_11eb_985c_0242ac1c0002row2_col5\" class=\"data row2 col5\" >-0.086692</td>\n",
              "                        <td id=\"T_3057f7a8_3e52_11eb_985c_0242ac1c0002row2_col6\" class=\"data row2 col6\" >-0.141201</td>\n",
              "                        <td id=\"T_3057f7a8_3e52_11eb_985c_0242ac1c0002row2_col7\" class=\"data row2 col7\" >-0.033574</td>\n",
              "                        <td id=\"T_3057f7a8_3e52_11eb_985c_0242ac1c0002row2_col8\" class=\"data row2 col8\" >-0.122764</td>\n",
              "                        <td id=\"T_3057f7a8_3e52_11eb_985c_0242ac1c0002row2_col9\" class=\"data row2 col9\" >-0.034831</td>\n",
              "                        <td id=\"T_3057f7a8_3e52_11eb_985c_0242ac1c0002row2_col10\" class=\"data row2 col10\" >0.367358</td>\n",
              "                        <td id=\"T_3057f7a8_3e52_11eb_985c_0242ac1c0002row2_col11\" class=\"data row2 col11\" >-0.186671</td>\n",
              "            </tr>\n",
              "            <tr>\n",
              "                        <th id=\"T_3057f7a8_3e52_11eb_985c_0242ac1c0002level0_row3\" class=\"row_heading level0 row3\" >popularity</th>\n",
              "                        <td id=\"T_3057f7a8_3e52_11eb_985c_0242ac1c0002row3_col0\" class=\"data row3 col0\" >-0.113959</td>\n",
              "                        <td id=\"T_3057f7a8_3e52_11eb_985c_0242ac1c0002row3_col1\" class=\"data row3 col1\" >0.412162</td>\n",
              "                        <td id=\"T_3057f7a8_3e52_11eb_985c_0242ac1c0002row3_col2\" class=\"data row3 col2\" >-0.014127</td>\n",
              "                        <td id=\"T_3057f7a8_3e52_11eb_985c_0242ac1c0002row3_col3\" class=\"data row3 col3\" >1.000000</td>\n",
              "                        <td id=\"T_3057f7a8_3e52_11eb_985c_0242ac1c0002row3_col4\" class=\"data row3 col4\" >0.495219</td>\n",
              "                        <td id=\"T_3057f7a8_3e52_11eb_985c_0242ac1c0002row3_col5\" class=\"data row3 col5\" >0.161276</td>\n",
              "                        <td id=\"T_3057f7a8_3e52_11eb_985c_0242ac1c0002row3_col6\" class=\"data row3 col6\" >0.186538</td>\n",
              "                        <td id=\"T_3057f7a8_3e52_11eb_985c_0242ac1c0002row3_col7\" class=\"data row3 col7\" >0.544388</td>\n",
              "                        <td id=\"T_3057f7a8_3e52_11eb_985c_0242ac1c0002row3_col8\" class=\"data row3 col8\" >0.184730</td>\n",
              "                        <td id=\"T_3057f7a8_3e52_11eb_985c_0242ac1c0002row3_col9\" class=\"data row3 col9\" >0.534342</td>\n",
              "                        <td id=\"T_3057f7a8_3e52_11eb_985c_0242ac1c0002row3_col10\" class=\"data row3 col10\" >-0.143197</td>\n",
              "                        <td id=\"T_3057f7a8_3e52_11eb_985c_0242ac1c0002row3_col11\" class=\"data row3 col11\" >0.050937</td>\n",
              "            </tr>\n",
              "            <tr>\n",
              "                        <th id=\"T_3057f7a8_3e52_11eb_985c_0242ac1c0002level0_row4\" class=\"row_heading level0 row4\" >revenue</th>\n",
              "                        <td id=\"T_3057f7a8_3e52_11eb_985c_0242ac1c0002row4_col0\" class=\"data row4 col0\" >-0.083023</td>\n",
              "                        <td id=\"T_3057f7a8_3e52_11eb_985c_0242ac1c0002row4_col1\" class=\"data row4 col1\" >0.766446</td>\n",
              "                        <td id=\"T_3057f7a8_3e52_11eb_985c_0242ac1c0002row4_col2\" class=\"data row4 col2\" >-0.060123</td>\n",
              "                        <td id=\"T_3057f7a8_3e52_11eb_985c_0242ac1c0002row4_col3\" class=\"data row4 col3\" >0.495219</td>\n",
              "                        <td id=\"T_3057f7a8_3e52_11eb_985c_0242ac1c0002row4_col4\" class=\"data row4 col4\" >1.000000</td>\n",
              "                        <td id=\"T_3057f7a8_3e52_11eb_985c_0242ac1c0002row4_col5\" class=\"data row4 col5\" >0.183763</td>\n",
              "                        <td id=\"T_3057f7a8_3e52_11eb_985c_0242ac1c0002row4_col6\" class=\"data row4 col6\" >0.137679</td>\n",
              "                        <td id=\"T_3057f7a8_3e52_11eb_985c_0242ac1c0002row4_col7\" class=\"data row4 col7\" >0.806602</td>\n",
              "                        <td id=\"T_3057f7a8_3e52_11eb_985c_0242ac1c0002row4_col8\" class=\"data row4 col8\" >0.284759</td>\n",
              "                        <td id=\"T_3057f7a8_3e52_11eb_985c_0242ac1c0002row4_col9\" class=\"data row4 col9\" >0.780984</td>\n",
              "                        <td id=\"T_3057f7a8_3e52_11eb_985c_0242ac1c0002row4_col10\" class=\"data row4 col10\" >-0.125020</td>\n",
              "                        <td id=\"T_3057f7a8_3e52_11eb_985c_0242ac1c0002row4_col11\" class=\"data row4 col11\" >0.108120</td>\n",
              "            </tr>\n",
              "            <tr>\n",
              "                        <th id=\"T_3057f7a8_3e52_11eb_985c_0242ac1c0002level0_row5\" class=\"row_heading level0 row5\" >runtime</th>\n",
              "                        <td id=\"T_3057f7a8_3e52_11eb_985c_0242ac1c0002row5_col0\" class=\"data row5 col0\" >-0.171586</td>\n",
              "                        <td id=\"T_3057f7a8_3e52_11eb_985c_0242ac1c0002row5_col1\" class=\"data row5 col1\" >0.225766</td>\n",
              "                        <td id=\"T_3057f7a8_3e52_11eb_985c_0242ac1c0002row5_col2\" class=\"data row5 col2\" >-0.086692</td>\n",
              "                        <td id=\"T_3057f7a8_3e52_11eb_985c_0242ac1c0002row5_col3\" class=\"data row5 col3\" >0.161276</td>\n",
              "                        <td id=\"T_3057f7a8_3e52_11eb_985c_0242ac1c0002row5_col4\" class=\"data row5 col4\" >0.183763</td>\n",
              "                        <td id=\"T_3057f7a8_3e52_11eb_985c_0242ac1c0002row5_col5\" class=\"data row5 col5\" >1.000000</td>\n",
              "                        <td id=\"T_3057f7a8_3e52_11eb_985c_0242ac1c0002row5_col6\" class=\"data row5 col6\" >0.231019</td>\n",
              "                        <td id=\"T_3057f7a8_3e52_11eb_985c_0242ac1c0002row5_col7\" class=\"data row5 col7\" >0.199476</td>\n",
              "                        <td id=\"T_3057f7a8_3e52_11eb_985c_0242ac1c0002row5_col8\" class=\"data row5 col8\" >-0.016943</td>\n",
              "                        <td id=\"T_3057f7a8_3e52_11eb_985c_0242ac1c0002row5_col9\" class=\"data row5 col9\" >0.200588</td>\n",
              "                        <td id=\"T_3057f7a8_3e52_11eb_985c_0242ac1c0002row5_col10\" class=\"data row5 col10\" >-0.105164</td>\n",
              "                        <td id=\"T_3057f7a8_3e52_11eb_985c_0242ac1c0002row5_col11\" class=\"data row5 col11\" >0.068359</td>\n",
              "            </tr>\n",
              "            <tr>\n",
              "                        <th id=\"T_3057f7a8_3e52_11eb_985c_0242ac1c0002level0_row6\" class=\"row_heading level0 row6\" >vote_average</th>\n",
              "                        <td id=\"T_3057f7a8_3e52_11eb_985c_0242ac1c0002row6_col0\" class=\"data row6 col0\" >-0.239960</td>\n",
              "                        <td id=\"T_3057f7a8_3e52_11eb_985c_0242ac1c0002row6_col1\" class=\"data row6 col1\" >0.103634</td>\n",
              "                        <td id=\"T_3057f7a8_3e52_11eb_985c_0242ac1c0002row6_col2\" class=\"data row6 col2\" >-0.141201</td>\n",
              "                        <td id=\"T_3057f7a8_3e52_11eb_985c_0242ac1c0002row6_col3\" class=\"data row6 col3\" >0.186538</td>\n",
              "                        <td id=\"T_3057f7a8_3e52_11eb_985c_0242ac1c0002row6_col4\" class=\"data row6 col4\" >0.137679</td>\n",
              "                        <td id=\"T_3057f7a8_3e52_11eb_985c_0242ac1c0002row6_col5\" class=\"data row6 col5\" >0.231019</td>\n",
              "                        <td id=\"T_3057f7a8_3e52_11eb_985c_0242ac1c0002row6_col6\" class=\"data row6 col6\" >1.000000</td>\n",
              "                        <td id=\"T_3057f7a8_3e52_11eb_985c_0242ac1c0002row6_col7\" class=\"data row6 col7\" >0.203592</td>\n",
              "                        <td id=\"T_3057f7a8_3e52_11eb_985c_0242ac1c0002row6_col8\" class=\"data row6 col8\" >0.019937</td>\n",
              "                        <td id=\"T_3057f7a8_3e52_11eb_985c_0242ac1c0002row6_col9\" class=\"data row6 col9\" >0.212963</td>\n",
              "                        <td id=\"T_3057f7a8_3e52_11eb_985c_0242ac1c0002row6_col10\" class=\"data row6 col10\" >-0.116379</td>\n",
              "                        <td id=\"T_3057f7a8_3e52_11eb_985c_0242ac1c0002row6_col11\" class=\"data row6 col11\" >0.048969</td>\n",
              "            </tr>\n",
              "            <tr>\n",
              "                        <th id=\"T_3057f7a8_3e52_11eb_985c_0242ac1c0002level0_row7\" class=\"row_heading level0 row7\" >vote_count</th>\n",
              "                        <td id=\"T_3057f7a8_3e52_11eb_985c_0242ac1c0002row7_col0\" class=\"data row7 col0\" >-0.071127</td>\n",
              "                        <td id=\"T_3057f7a8_3e52_11eb_985c_0242ac1c0002row7_col1\" class=\"data row7 col1\" >0.665415</td>\n",
              "                        <td id=\"T_3057f7a8_3e52_11eb_985c_0242ac1c0002row7_col2\" class=\"data row7 col2\" >-0.033574</td>\n",
              "                        <td id=\"T_3057f7a8_3e52_11eb_985c_0242ac1c0002row7_col3\" class=\"data row7 col3\" >0.544388</td>\n",
              "                        <td id=\"T_3057f7a8_3e52_11eb_985c_0242ac1c0002row7_col4\" class=\"data row7 col4\" >0.806602</td>\n",
              "                        <td id=\"T_3057f7a8_3e52_11eb_985c_0242ac1c0002row7_col5\" class=\"data row7 col5\" >0.199476</td>\n",
              "                        <td id=\"T_3057f7a8_3e52_11eb_985c_0242ac1c0002row7_col6\" class=\"data row7 col6\" >0.203592</td>\n",
              "                        <td id=\"T_3057f7a8_3e52_11eb_985c_0242ac1c0002row7_col7\" class=\"data row7 col7\" >1.000000</td>\n",
              "                        <td id=\"T_3057f7a8_3e52_11eb_985c_0242ac1c0002row7_col8\" class=\"data row7 col8\" >0.246816</td>\n",
              "                        <td id=\"T_3057f7a8_3e52_11eb_985c_0242ac1c0002row7_col9\" class=\"data row7 col9\" >0.994176</td>\n",
              "                        <td id=\"T_3057f7a8_3e52_11eb_985c_0242ac1c0002row7_col10\" class=\"data row7 col10\" >-0.134497</td>\n",
              "                        <td id=\"T_3057f7a8_3e52_11eb_985c_0242ac1c0002row7_col11\" class=\"data row7 col11\" >0.080398</td>\n",
              "            </tr>\n",
              "            <tr>\n",
              "                        <th id=\"T_3057f7a8_3e52_11eb_985c_0242ac1c0002level0_row8\" class=\"row_heading level0 row8\" >collection</th>\n",
              "                        <td id=\"T_3057f7a8_3e52_11eb_985c_0242ac1c0002row8_col0\" class=\"data row8 col0\" >-0.102720</td>\n",
              "                        <td id=\"T_3057f7a8_3e52_11eb_985c_0242ac1c0002row8_col1\" class=\"data row8 col1\" >0.212146</td>\n",
              "                        <td id=\"T_3057f7a8_3e52_11eb_985c_0242ac1c0002row8_col2\" class=\"data row8 col2\" >-0.122764</td>\n",
              "                        <td id=\"T_3057f7a8_3e52_11eb_985c_0242ac1c0002row8_col3\" class=\"data row8 col3\" >0.184730</td>\n",
              "                        <td id=\"T_3057f7a8_3e52_11eb_985c_0242ac1c0002row8_col4\" class=\"data row8 col4\" >0.284759</td>\n",
              "                        <td id=\"T_3057f7a8_3e52_11eb_985c_0242ac1c0002row8_col5\" class=\"data row8 col5\" >-0.016943</td>\n",
              "                        <td id=\"T_3057f7a8_3e52_11eb_985c_0242ac1c0002row8_col6\" class=\"data row8 col6\" >0.019937</td>\n",
              "                        <td id=\"T_3057f7a8_3e52_11eb_985c_0242ac1c0002row8_col7\" class=\"data row8 col7\" >0.246816</td>\n",
              "                        <td id=\"T_3057f7a8_3e52_11eb_985c_0242ac1c0002row8_col8\" class=\"data row8 col8\" >1.000000</td>\n",
              "                        <td id=\"T_3057f7a8_3e52_11eb_985c_0242ac1c0002row8_col9\" class=\"data row8 col9\" >0.228573</td>\n",
              "                        <td id=\"T_3057f7a8_3e52_11eb_985c_0242ac1c0002row8_col10\" class=\"data row8 col10\" >-0.100320</td>\n",
              "                        <td id=\"T_3057f7a8_3e52_11eb_985c_0242ac1c0002row8_col11\" class=\"data row8 col11\" >0.036184</td>\n",
              "            </tr>\n",
              "            <tr>\n",
              "                        <th id=\"T_3057f7a8_3e52_11eb_985c_0242ac1c0002level0_row9\" class=\"row_heading level0 row9\" >score_1</th>\n",
              "                        <td id=\"T_3057f7a8_3e52_11eb_985c_0242ac1c0002row9_col0\" class=\"data row9 col0\" >-0.072469</td>\n",
              "                        <td id=\"T_3057f7a8_3e52_11eb_985c_0242ac1c0002row9_col1\" class=\"data row9 col1\" >0.622080</td>\n",
              "                        <td id=\"T_3057f7a8_3e52_11eb_985c_0242ac1c0002row9_col2\" class=\"data row9 col2\" >-0.034831</td>\n",
              "                        <td id=\"T_3057f7a8_3e52_11eb_985c_0242ac1c0002row9_col3\" class=\"data row9 col3\" >0.534342</td>\n",
              "                        <td id=\"T_3057f7a8_3e52_11eb_985c_0242ac1c0002row9_col4\" class=\"data row9 col4\" >0.780984</td>\n",
              "                        <td id=\"T_3057f7a8_3e52_11eb_985c_0242ac1c0002row9_col5\" class=\"data row9 col5\" >0.200588</td>\n",
              "                        <td id=\"T_3057f7a8_3e52_11eb_985c_0242ac1c0002row9_col6\" class=\"data row9 col6\" >0.212963</td>\n",
              "                        <td id=\"T_3057f7a8_3e52_11eb_985c_0242ac1c0002row9_col7\" class=\"data row9 col7\" >0.994176</td>\n",
              "                        <td id=\"T_3057f7a8_3e52_11eb_985c_0242ac1c0002row9_col8\" class=\"data row9 col8\" >0.228573</td>\n",
              "                        <td id=\"T_3057f7a8_3e52_11eb_985c_0242ac1c0002row9_col9\" class=\"data row9 col9\" >1.000000</td>\n",
              "                        <td id=\"T_3057f7a8_3e52_11eb_985c_0242ac1c0002row9_col10\" class=\"data row9 col10\" >-0.126350</td>\n",
              "                        <td id=\"T_3057f7a8_3e52_11eb_985c_0242ac1c0002row9_col11\" class=\"data row9 col11\" >0.075440</td>\n",
              "            </tr>\n",
              "            <tr>\n",
              "                        <th id=\"T_3057f7a8_3e52_11eb_985c_0242ac1c0002level0_row10\" class=\"row_heading level0 row10\" >production_companies_id</th>\n",
              "                        <td id=\"T_3057f7a8_3e52_11eb_985c_0242ac1c0002row10_col0\" class=\"data row10 col0\" >0.331970</td>\n",
              "                        <td id=\"T_3057f7a8_3e52_11eb_985c_0242ac1c0002row10_col1\" class=\"data row10 col1\" >-0.160624</td>\n",
              "                        <td id=\"T_3057f7a8_3e52_11eb_985c_0242ac1c0002row10_col2\" class=\"data row10 col2\" >0.367358</td>\n",
              "                        <td id=\"T_3057f7a8_3e52_11eb_985c_0242ac1c0002row10_col3\" class=\"data row10 col3\" >-0.143197</td>\n",
              "                        <td id=\"T_3057f7a8_3e52_11eb_985c_0242ac1c0002row10_col4\" class=\"data row10 col4\" >-0.125020</td>\n",
              "                        <td id=\"T_3057f7a8_3e52_11eb_985c_0242ac1c0002row10_col5\" class=\"data row10 col5\" >-0.105164</td>\n",
              "                        <td id=\"T_3057f7a8_3e52_11eb_985c_0242ac1c0002row10_col6\" class=\"data row10 col6\" >-0.116379</td>\n",
              "                        <td id=\"T_3057f7a8_3e52_11eb_985c_0242ac1c0002row10_col7\" class=\"data row10 col7\" >-0.134497</td>\n",
              "                        <td id=\"T_3057f7a8_3e52_11eb_985c_0242ac1c0002row10_col8\" class=\"data row10 col8\" >-0.100320</td>\n",
              "                        <td id=\"T_3057f7a8_3e52_11eb_985c_0242ac1c0002row10_col9\" class=\"data row10 col9\" >-0.126350</td>\n",
              "                        <td id=\"T_3057f7a8_3e52_11eb_985c_0242ac1c0002row10_col10\" class=\"data row10 col10\" >1.000000</td>\n",
              "                        <td id=\"T_3057f7a8_3e52_11eb_985c_0242ac1c0002row10_col11\" class=\"data row10 col11\" >-0.238531</td>\n",
              "            </tr>\n",
              "            <tr>\n",
              "                        <th id=\"T_3057f7a8_3e52_11eb_985c_0242ac1c0002level0_row11\" class=\"row_heading level0 row11\" >pc_id_count</th>\n",
              "                        <td id=\"T_3057f7a8_3e52_11eb_985c_0242ac1c0002row11_col0\" class=\"data row11 col0\" >-0.229618</td>\n",
              "                        <td id=\"T_3057f7a8_3e52_11eb_985c_0242ac1c0002row11_col1\" class=\"data row11 col1\" >0.117158</td>\n",
              "                        <td id=\"T_3057f7a8_3e52_11eb_985c_0242ac1c0002row11_col2\" class=\"data row11 col2\" >-0.186671</td>\n",
              "                        <td id=\"T_3057f7a8_3e52_11eb_985c_0242ac1c0002row11_col3\" class=\"data row11 col3\" >0.050937</td>\n",
              "                        <td id=\"T_3057f7a8_3e52_11eb_985c_0242ac1c0002row11_col4\" class=\"data row11 col4\" >0.108120</td>\n",
              "                        <td id=\"T_3057f7a8_3e52_11eb_985c_0242ac1c0002row11_col5\" class=\"data row11 col5\" >0.068359</td>\n",
              "                        <td id=\"T_3057f7a8_3e52_11eb_985c_0242ac1c0002row11_col6\" class=\"data row11 col6\" >0.048969</td>\n",
              "                        <td id=\"T_3057f7a8_3e52_11eb_985c_0242ac1c0002row11_col7\" class=\"data row11 col7\" >0.080398</td>\n",
              "                        <td id=\"T_3057f7a8_3e52_11eb_985c_0242ac1c0002row11_col8\" class=\"data row11 col8\" >0.036184</td>\n",
              "                        <td id=\"T_3057f7a8_3e52_11eb_985c_0242ac1c0002row11_col9\" class=\"data row11 col9\" >0.075440</td>\n",
              "                        <td id=\"T_3057f7a8_3e52_11eb_985c_0242ac1c0002row11_col10\" class=\"data row11 col10\" >-0.238531</td>\n",
              "                        <td id=\"T_3057f7a8_3e52_11eb_985c_0242ac1c0002row11_col11\" class=\"data row11 col11\" >1.000000</td>\n",
              "            </tr>\n",
              "    </tbody></table>"
            ],
            "text/plain": [
              "<pandas.io.formats.style.Styler at 0x7f6efb2f3898>"
            ]
          },
          "metadata": {
            "tags": []
          },
          "execution_count": 262
        }
      ]
    },
    {
      "cell_type": "markdown",
      "metadata": {
        "id": "u6LyoBTNv9jB"
      },
      "source": [
        "# Régression linéaire de *score_1* sur *budget* et *revenue*"
      ]
    },
    {
      "cell_type": "markdown",
      "metadata": {
        "id": "kw26NXPlvCa4"
      },
      "source": [
        "Par construction de *score_1*, il n'est pas choquant d'observer une forte corrélation avec *popularity*, *vote_count* et *vote_average*.\n",
        "\n",
        "On constate que bien qu'il y ait peu de données qui puissent être exploitées pour le budget et le revenu d'un film, ces deux variables sont cependant corrélées avec *score_1*, qui permet de quantifier la qualité d'un film.\n",
        "\n",
        "Par ailleurs, la compagnie de production et la durée du film ne semblent guère influencer sa qualité. "
      ]
    },
    {
      "cell_type": "markdown",
      "metadata": {
        "id": "DtySOStF1uq-"
      },
      "source": [
        "Tout d'abord, récupérons les données nécessaires dans le dataset."
      ]
    },
    {
      "cell_type": "code",
      "metadata": {
        "id": "bbIay57mzhEy"
      },
      "source": [
        "X = pd.DataFrame(np.c_[df.budget, df.revenue], columns= ['budget', 'revenue'])\n",
        "Y = df.score_1"
      ],
      "execution_count": null,
      "outputs": []
    },
    {
      "cell_type": "markdown",
      "metadata": {
        "id": "eC8dy4CQ2Lkv"
      },
      "source": [
        "Séparons ensuite nos deux ensembles de données en bases d'apprentissage et de test."
      ]
    },
    {
      "cell_type": "code",
      "metadata": {
        "colab": {
          "base_uri": "https://localhost:8080/"
        },
        "id": "XU2YOJmeyDvp",
        "outputId": "c0c0f639-406a-4ce1-8376-7ad55b544c75"
      },
      "source": [
        "\n",
        "from sklearn.model_selection import train_test_split\n",
        " \n",
        "X_train, X_test, Y_train, Y_test = train_test_split(X, Y, test_size = 0.2, random_state=5)\n",
        "print(X_train.shape)\n",
        "print(X_test.shape)\n",
        "print(Y_train.shape)\n",
        "print(Y_test.shape)"
      ],
      "execution_count": null,
      "outputs": [
        {
          "output_type": "stream",
          "text": [
            "(13884, 2)\n",
            "(3472, 2)\n",
            "(13884,)\n",
            "(3472,)\n"
          ],
          "name": "stdout"
        }
      ]
    },
    {
      "cell_type": "markdown",
      "metadata": {
        "id": "ECQodfNWnMMP"
      },
      "source": [
        "## Régression linéaire "
      ]
    },
    {
      "cell_type": "markdown",
      "metadata": {
        "id": "65lD77kA2X6j"
      },
      "source": [
        "On effectue alors la régression linéaire voulue. On importe les modules nécessaires.\n",
        "\n",
        "La fonction qu'on code va nous permettre d'évaluer les performances du modèle sur l'échantillon d'apprentissage et sur celui de test avec les $R^2$ et l'erreur quadratique moyenne. "
      ]
    },
    {
      "cell_type": "code",
      "metadata": {
        "id": "f3hIGZ7MwFGh"
      },
      "source": [
        "from sklearn.linear_model import LinearRegression\n",
        "from sklearn.metrics import mean_squared_error\n",
        "from sklearn.metrics import r2_score"
      ],
      "execution_count": null,
      "outputs": []
    },
    {
      "cell_type": "code",
      "metadata": {
        "id": "BdRlH2wYwK2e"
      },
      "source": [
        "def linear_model(xtrain, ytrain, xtest, ytest):\n",
        "  lmodellineaire = LinearRegression()\n",
        "  lmodellineaire.fit(xtrain, ytrain)\n",
        "  \n",
        "  # Evaluation du training set\n",
        "  y_train_predict = lmodellineaire.predict(xtrain)\n",
        "  rmse_train = (np.sqrt(mean_squared_error(ytrain, y_train_predict)))\n",
        "  r2_train = r2_score(ytrain, y_train_predict)\n",
        "  print(\"Performance du modèle sur la base d'apprentissage\")\n",
        "  print('--------------------------------------')\n",
        "  print(\"L'erreur quadratique moyenne est {}\".format(rmse_train))\n",
        "  print('Le score R² est {}'.format(r2_train))\n",
        "  print('\\n')\n",
        "\n",
        "\n",
        "  # Evaluation du testing set\n",
        "  y_test_predict = lmodellineaire.predict(xtest)\n",
        "  rmse_test = (np.sqrt(mean_squared_error(ytest, y_test_predict)))\n",
        "  r2_test = r2_score(ytest, y_test_predict)\n",
        "\n",
        "  print('Performance du modèle sur la base de test')\n",
        "  print('--------------------------------------')\n",
        "  print(\"L'erreur quadratique moyenne est {}\".format(rmse_test))\n",
        "  print('Le score R² est {}'.format(r2_test))\n",
        "  print('\\n')\n",
        "  return y_train_predict, y_test_predict, r2_test, r2_train, rmse_test, rmse_train"
      ],
      "execution_count": null,
      "outputs": []
    },
    {
      "cell_type": "code",
      "metadata": {
        "colab": {
          "base_uri": "https://localhost:8080/"
        },
        "id": "y3aTJAw-xAFK",
        "outputId": "37cd462c-2e3d-4651-d44f-08c8c68031c7"
      },
      "source": [
        "model1 = linear_model(X_train, Y_train, X_test, Y_test)\n",
        "\n",
        "print(model1[2:])"
      ],
      "execution_count": null,
      "outputs": [
        {
          "output_type": "stream",
          "text": [
            "Performance du modèle sur la base d'apprentissage\n",
            "--------------------------------------\n",
            "L'erreur quadratique moyenne est 3467.4302151622496\n",
            "Le score R² est 0.6162165165800999\n",
            "\n",
            "\n",
            "Performance du modèle sur la base de test\n",
            "--------------------------------------\n",
            "L'erreur quadratique moyenne est 3364.076265294737\n",
            "Le score R² est 0.5879873205932651\n",
            "\n",
            "\n",
            "(0.5879873205932651, 0.6162165165800999, 3364.076265294737, 3467.4302151622496)\n"
          ],
          "name": "stdout"
        }
      ]
    },
    {
      "cell_type": "code",
      "metadata": {
        "id": "UlCEK8SPAWxG"
      },
      "source": [
        "l = []\n",
        "l.extend(model1[2:])\n",
        "l.append(len(X))\n"
      ],
      "execution_count": null,
      "outputs": []
    },
    {
      "cell_type": "code",
      "metadata": {
        "colab": {
          "base_uri": "https://localhost:8080/",
          "height": 235
        },
        "id": "si6e-jz0D4ti",
        "outputId": "ce886f7c-260d-4480-859c-b0954e447904"
      },
      "source": [
        "table_resultats = pd.DataFrame(['r2_test', 'r2_train', 'MSE_test','MSE_train', 'count'], columns=['name'])\n",
        "\n",
        "table_resultats['model1'] = l\n",
        "table_resultats = table_resultats.set_index('name')\n",
        "table_resultats"
      ],
      "execution_count": null,
      "outputs": [
        {
          "output_type": "execute_result",
          "data": {
            "text/html": [
              "<div>\n",
              "<style scoped>\n",
              "    .dataframe tbody tr th:only-of-type {\n",
              "        vertical-align: middle;\n",
              "    }\n",
              "\n",
              "    .dataframe tbody tr th {\n",
              "        vertical-align: top;\n",
              "    }\n",
              "\n",
              "    .dataframe thead th {\n",
              "        text-align: right;\n",
              "    }\n",
              "</style>\n",
              "<table border=\"1\" class=\"dataframe\">\n",
              "  <thead>\n",
              "    <tr style=\"text-align: right;\">\n",
              "      <th></th>\n",
              "      <th>model1</th>\n",
              "    </tr>\n",
              "    <tr>\n",
              "      <th>name</th>\n",
              "      <th></th>\n",
              "    </tr>\n",
              "  </thead>\n",
              "  <tbody>\n",
              "    <tr>\n",
              "      <th>r2_test</th>\n",
              "      <td>0.587987</td>\n",
              "    </tr>\n",
              "    <tr>\n",
              "      <th>r2_train</th>\n",
              "      <td>0.616217</td>\n",
              "    </tr>\n",
              "    <tr>\n",
              "      <th>MSE_test</th>\n",
              "      <td>3364.076265</td>\n",
              "    </tr>\n",
              "    <tr>\n",
              "      <th>MSE_train</th>\n",
              "      <td>3467.430215</td>\n",
              "    </tr>\n",
              "    <tr>\n",
              "      <th>count</th>\n",
              "      <td>17356.000000</td>\n",
              "    </tr>\n",
              "  </tbody>\n",
              "</table>\n",
              "</div>"
            ],
            "text/plain": [
              "                 model1\n",
              "name                   \n",
              "r2_test        0.587987\n",
              "r2_train       0.616217\n",
              "MSE_test    3364.076265\n",
              "MSE_train   3467.430215\n",
              "count      17356.000000"
            ]
          },
          "metadata": {
            "tags": []
          },
          "execution_count": 269
        }
      ]
    },
    {
      "cell_type": "markdown",
      "metadata": {
        "id": "HdynAg6X3J-C"
      },
      "source": [
        "Bien que le $R^2$ soit plutôt bon, ce modèle génère une erreur quadratique moyenne assez forte sur la valeur de *score_1* (de l'ordre de 3400). Cela est certainement dû à la dispersion de *score_1* :"
      ]
    },
    {
      "cell_type": "code",
      "metadata": {
        "colab": {
          "base_uri": "https://localhost:8080/"
        },
        "id": "w4xZu2Xz22bB",
        "outputId": "320f2e94-2644-4f19-c534-a212f1637bce"
      },
      "source": [
        "df.score_1.describe()"
      ],
      "execution_count": null,
      "outputs": [
        {
          "output_type": "execute_result",
          "data": {
            "text/plain": [
              "count     17356.000000\n",
              "mean       1709.543046\n",
              "std        5527.962377\n",
              "min           0.000000\n",
              "25%          44.800000\n",
              "50%         170.000000\n",
              "75%         857.700000\n",
              "max      114007.500000\n",
              "Name: score_1, dtype: float64"
            ]
          },
          "metadata": {
            "tags": []
          },
          "execution_count": 270
        }
      ]
    },
    {
      "cell_type": "markdown",
      "metadata": {
        "id": "FyGd9ewHnPjD"
      },
      "source": [
        "## Régression linéaire tronquée"
      ]
    },
    {
      "cell_type": "markdown",
      "metadata": {
        "id": "G5NTPtdm3ho7"
      },
      "source": [
        "Etudions les perfomances de ce modèle sur un échantillon comprenant les valeurs de *score_1* allant du 1er au 3ème quartile :"
      ]
    },
    {
      "cell_type": "code",
      "metadata": {
        "id": "krJf22UD4DOv"
      },
      "source": [
        "first_quart = np.percentile(df.score_1, 25)\n",
        "third_quart = np.percentile(df.score_1, 75)"
      ],
      "execution_count": null,
      "outputs": []
    },
    {
      "cell_type": "code",
      "metadata": {
        "id": "abRf5e8C4TrB"
      },
      "source": [
        "# Filtration des données\n",
        "df_quart = df[df.score_1 > first_quart]\n",
        "df_quart = df[df.score_1 < third_quart]\n",
        "\n",
        "# Création des variables nécessaires\n",
        "X2 = pd.DataFrame(np.c_[df_quart.budget, df_quart.revenue], columns= ['budget', 'revenue'])\n",
        "Y2 = df_quart.score_1\n",
        "X_train2, X_test2, Y_train2, Y_test2 = train_test_split(X2, Y2, test_size = 0.2, random_state=5)\n",
        "\n"
      ],
      "execution_count": null,
      "outputs": []
    },
    {
      "cell_type": "markdown",
      "metadata": {
        "id": "QWmE6SmGxqr5"
      },
      "source": [
        "On observe la régression linéaire tronquée : "
      ]
    },
    {
      "cell_type": "code",
      "metadata": {
        "colab": {
          "base_uri": "https://localhost:8080/"
        },
        "id": "C2R5Cb-Vxp3E",
        "outputId": "c27f87bf-0d97-4a53-9e97-798c4f881ed8"
      },
      "source": [
        "model2 = linear_model(X_train2, Y_train2, X_test2, Y_test2)"
      ],
      "execution_count": null,
      "outputs": [
        {
          "output_type": "stream",
          "text": [
            "Performance du modèle sur la base d'apprentissage\n",
            "--------------------------------------\n",
            "L'erreur quadratique moyenne est 188.1704456835393\n",
            "Le score R² est 0.1454504867917935\n",
            "\n",
            "\n",
            "Performance du modèle sur la base de test\n",
            "--------------------------------------\n",
            "L'erreur quadratique moyenne est 181.4256396942466\n",
            "Le score R² est 0.1529228653745578\n",
            "\n",
            "\n"
          ],
          "name": "stdout"
        }
      ]
    },
    {
      "cell_type": "code",
      "metadata": {
        "colab": {
          "base_uri": "https://localhost:8080/",
          "height": 235
        },
        "id": "QKl0GM6fGWsJ",
        "outputId": "0cc054b0-825c-4983-b2d1-261653cf74ff"
      },
      "source": [
        "l = []\n",
        "l.extend(model2[2:])\n",
        "l.append(len(X2))\n",
        "\n",
        "table_resultats['model2'] = l\n",
        "table_resultats"
      ],
      "execution_count": null,
      "outputs": [
        {
          "output_type": "execute_result",
          "data": {
            "text/html": [
              "<div>\n",
              "<style scoped>\n",
              "    .dataframe tbody tr th:only-of-type {\n",
              "        vertical-align: middle;\n",
              "    }\n",
              "\n",
              "    .dataframe tbody tr th {\n",
              "        vertical-align: top;\n",
              "    }\n",
              "\n",
              "    .dataframe thead th {\n",
              "        text-align: right;\n",
              "    }\n",
              "</style>\n",
              "<table border=\"1\" class=\"dataframe\">\n",
              "  <thead>\n",
              "    <tr style=\"text-align: right;\">\n",
              "      <th></th>\n",
              "      <th>model1</th>\n",
              "      <th>model2</th>\n",
              "    </tr>\n",
              "    <tr>\n",
              "      <th>name</th>\n",
              "      <th></th>\n",
              "      <th></th>\n",
              "    </tr>\n",
              "  </thead>\n",
              "  <tbody>\n",
              "    <tr>\n",
              "      <th>r2_test</th>\n",
              "      <td>0.587987</td>\n",
              "      <td>0.152923</td>\n",
              "    </tr>\n",
              "    <tr>\n",
              "      <th>r2_train</th>\n",
              "      <td>0.616217</td>\n",
              "      <td>0.145450</td>\n",
              "    </tr>\n",
              "    <tr>\n",
              "      <th>MSE_test</th>\n",
              "      <td>3364.076265</td>\n",
              "      <td>181.425640</td>\n",
              "    </tr>\n",
              "    <tr>\n",
              "      <th>MSE_train</th>\n",
              "      <td>3467.430215</td>\n",
              "      <td>188.170446</td>\n",
              "    </tr>\n",
              "    <tr>\n",
              "      <th>count</th>\n",
              "      <td>17356.000000</td>\n",
              "      <td>13017.000000</td>\n",
              "    </tr>\n",
              "  </tbody>\n",
              "</table>\n",
              "</div>"
            ],
            "text/plain": [
              "                 model1        model2\n",
              "name                                 \n",
              "r2_test        0.587987      0.152923\n",
              "r2_train       0.616217      0.145450\n",
              "MSE_test    3364.076265    181.425640\n",
              "MSE_train   3467.430215    188.170446\n",
              "count      17356.000000  13017.000000"
            ]
          },
          "metadata": {
            "tags": []
          },
          "execution_count": 274
        }
      ]
    },
    {
      "cell_type": "markdown",
      "metadata": {
        "id": "LpMvtBP16ayx"
      },
      "source": [
        "Par cette nouvelle régression, nous avons certes diminué drastiquement l'erreur quadratique moyenne, cependant le $R^2$ a été divisé par 4."
      ]
    },
    {
      "cell_type": "markdown",
      "metadata": {
        "id": "gH9VVlNP68N0"
      },
      "source": [
        "## Comparaison graphique des résultats"
      ]
    },
    {
      "cell_type": "markdown",
      "metadata": {
        "id": "_L705PKUqS2R"
      },
      "source": [
        "Comparons graphiquement les résultats de la prédiction pour ces deux régressions."
      ]
    },
    {
      "cell_type": "code",
      "metadata": {
        "id": "wY5OaF_YuGlW"
      },
      "source": [
        "def plot(test, predict):\r\n",
        "  fig, ax = plt.subplots(figsize=(8,5))\r\n",
        "  p1 = sns.distplot(test, label = 'Vraie valeur')\r\n",
        "  p2 = sns.distplot(predict, label = 'Prédiction')\r\n",
        "  ax.set(xlabel= 'Valeur de score_1', ylabel = 'Densité')\r\n",
        "  fig.legend(labels=['Vraie valeur','Prédiction'], loc = (0.75, 0.5))"
      ],
      "execution_count": null,
      "outputs": []
    },
    {
      "cell_type": "code",
      "metadata": {
        "id": "r3HKrukgqd94",
        "colab": {
          "base_uri": "https://localhost:8080/",
          "height": 1000
        },
        "outputId": "29b250e1-9df8-4d88-bd66-dfb369b0a28d"
      },
      "source": [
        "plot(Y_test,linear_model(X_train, Y_train, X_test, Y_test)[1])\r\n",
        "plt.title('Prédiction de la variable score_1 par le budget et le revenu \\n Base entière')\r\n",
        "\r\n",
        "plot(Y_test2, linear_model(X_train2, Y_train2, X_test2, Y_test2)[1])\r\n",
        "plt.title('Prédiction de la variable score_1 par le budget et le revenu \\n Valeurs de score_1 entre les 1er et 3ème quartiles')\r\n",
        "\r\n",
        "plt.show()"
      ],
      "execution_count": null,
      "outputs": [
        {
          "output_type": "stream",
          "text": [
            "Performance du modèle sur la base d'apprentissage\n",
            "--------------------------------------\n",
            "L'erreur quadratique moyenne est 3467.4302151622496\n",
            "Le score R² est 0.6162165165800999\n",
            "\n",
            "\n",
            "Performance du modèle sur la base de test\n",
            "--------------------------------------\n",
            "L'erreur quadratique moyenne est 3364.076265294737\n",
            "Le score R² est 0.5879873205932651\n",
            "\n",
            "\n",
            "Performance du modèle sur la base d'apprentissage\n",
            "--------------------------------------\n",
            "L'erreur quadratique moyenne est 188.1704456835393\n",
            "Le score R² est 0.1454504867917935\n",
            "\n",
            "\n",
            "Performance du modèle sur la base de test\n",
            "--------------------------------------\n",
            "L'erreur quadratique moyenne est 181.4256396942466\n",
            "Le score R² est 0.1529228653745578\n",
            "\n",
            "\n"
          ],
          "name": "stdout"
        },
        {
          "output_type": "stream",
          "text": [
            "/usr/local/lib/python3.6/dist-packages/seaborn/distributions.py:2551: FutureWarning:\n",
            "\n",
            "`distplot` is a deprecated function and will be removed in a future version. Please adapt your code to use either `displot` (a figure-level function with similar flexibility) or `histplot` (an axes-level function for histograms).\n",
            "\n",
            "/usr/local/lib/python3.6/dist-packages/seaborn/distributions.py:2551: FutureWarning:\n",
            "\n",
            "`distplot` is a deprecated function and will be removed in a future version. Please adapt your code to use either `displot` (a figure-level function with similar flexibility) or `histplot` (an axes-level function for histograms).\n",
            "\n",
            "/usr/local/lib/python3.6/dist-packages/seaborn/distributions.py:2551: FutureWarning:\n",
            "\n",
            "`distplot` is a deprecated function and will be removed in a future version. Please adapt your code to use either `displot` (a figure-level function with similar flexibility) or `histplot` (an axes-level function for histograms).\n",
            "\n",
            "/usr/local/lib/python3.6/dist-packages/seaborn/distributions.py:2551: FutureWarning:\n",
            "\n",
            "`distplot` is a deprecated function and will be removed in a future version. Please adapt your code to use either `displot` (a figure-level function with similar flexibility) or `histplot` (an axes-level function for histograms).\n",
            "\n"
          ],
          "name": "stderr"
        },
        {
          "output_type": "display_data",
          "data": {
            "image/png": "[encoded data removed]",
            "text/plain": [
              "<Figure size 576x360 with 1 Axes>"
            ]
          },
          "metadata": {
            "tags": [],
            "needs_background": "light"
          }
        },
        {
          "output_type": "display_data",
          "data": {
            "image/png": "[encoded data removed]",
            "text/plain": [
              "<Figure size 576x360 with 1 Axes>"
            ]
          },
          "metadata": {
            "tags": [],
            "needs_background": "light"
          }
        }
      ]
    },
    {
      "cell_type": "markdown",
      "metadata": {
        "id": "u7g-csnu11h-"
      },
      "source": [
        "Grâce à ces graphiques, on remarque qu'effectivement la première régression est nettement plus efficace que la seconde pour prédire les valeurs de *score_1*. Cependant, l'algorithme a plus de mal à prédire précisément les petites valeurs de *score_1*."
      ]
    },
    {
      "cell_type": "markdown",
      "metadata": {
        "id": "n9JQiqUV2wMN"
      },
      "source": [
        "# Sentiment analysis \n",
        "\n",
        "\n",
        "\n",
        "\n"
      ]
    },
    {
      "cell_type": "markdown",
      "metadata": {
        "id": "wViAil_-mwu_"
      },
      "source": [
        "L'idée derrière cette partie sur l'analyse sentiment des commentaires des spectateurs est de créer un modèle capable de prédire correctement si les sentiments dégagés par les commentaires sont positifs ou négatifs. On dispose ici de bases déjà labellisées. Mais ce travail pourrait permettre d'améliorer nos modèles en s'intéressant à une base plus importante de commentaires que l'on pourrait scraper et sur laquelle on pourrait tourner notre outil de prédiction de sentiments.\n"
      ]
    },
    {
      "cell_type": "markdown",
      "metadata": {
        "id": "C8xRyidUb32Y"
      },
      "source": [
        "## Préparation des données"
      ]
    },
    {
      "cell_type": "markdown",
      "metadata": {
        "id": "uzxi5fBTL4zc"
      },
      "source": [
        "On va tenter d'enrichir notre base en rajoutant l'analyse sentiment des commentaires associés aux films. Pour cela, on utilise les base *train_review.csv.zip* et *test_review.csv.zip* importées précédemment. \n"
      ]
    },
    {
      "cell_type": "code",
      "metadata": {
        "id": "cAcTcGi7UKDB",
        "colab": {
          "base_uri": "https://localhost:8080/",
          "height": 238
        },
        "outputId": "ad60c16c-ec88-49d9-95d5-e6715d7b3bc9"
      },
      "source": [
        "train_review.head()"
      ],
      "execution_count": null,
      "outputs": [
        {
          "output_type": "execute_result",
          "data": {
            "text/html": [
              "<div>\n",
              "<style scoped>\n",
              "    .dataframe tbody tr th:only-of-type {\n",
              "        vertical-align: middle;\n",
              "    }\n",
              "\n",
              "    .dataframe tbody tr th {\n",
              "        vertical-align: top;\n",
              "    }\n",
              "\n",
              "    .dataframe thead th {\n",
              "        text-align: right;\n",
              "    }\n",
              "</style>\n",
              "<table border=\"1\" class=\"dataframe\">\n",
              "  <thead>\n",
              "    <tr style=\"text-align: right;\">\n",
              "      <th></th>\n",
              "      <th>Unnamed: 0</th>\n",
              "      <th>review</th>\n",
              "      <th>sentiment</th>\n",
              "      <th>url_code</th>\n",
              "      <th>rating</th>\n",
              "      <th>imdb_id</th>\n",
              "      <th>code_url</th>\n",
              "    </tr>\n",
              "  </thead>\n",
              "  <tbody>\n",
              "    <tr>\n",
              "      <th>0</th>\n",
              "      <td>0</td>\n",
              "      <td>Working with one of the best Shakespeare sourc...</td>\n",
              "      <td>0</td>\n",
              "      <td>1821</td>\n",
              "      <td>4</td>\n",
              "      <td>tt0125430</td>\n",
              "      <td>1821</td>\n",
              "    </tr>\n",
              "    <tr>\n",
              "      <th>1</th>\n",
              "      <td>1</td>\n",
              "      <td>Well...tremors I, the original started off in ...</td>\n",
              "      <td>0</td>\n",
              "      <td>10402</td>\n",
              "      <td>1</td>\n",
              "      <td>tt0334541</td>\n",
              "      <td>10402</td>\n",
              "    </tr>\n",
              "    <tr>\n",
              "      <th>2</th>\n",
              "      <td>2</td>\n",
              "      <td>Ouch! This one was a bit painful to sit throug...</td>\n",
              "      <td>0</td>\n",
              "      <td>1062</td>\n",
              "      <td>4</td>\n",
              "      <td>tt0043809</td>\n",
              "      <td>1062</td>\n",
              "    </tr>\n",
              "    <tr>\n",
              "      <th>3</th>\n",
              "      <td>3</td>\n",
              "      <td>I've seen some crappy movies in my life, but t...</td>\n",
              "      <td>0</td>\n",
              "      <td>9056</td>\n",
              "      <td>1</td>\n",
              "      <td>tt0219400</td>\n",
              "      <td>9056</td>\n",
              "    </tr>\n",
              "    <tr>\n",
              "      <th>4</th>\n",
              "      <td>4</td>\n",
              "      <td>\"Carriers\" follows the exploits of two guys an...</td>\n",
              "      <td>0</td>\n",
              "      <td>5392</td>\n",
              "      <td>3</td>\n",
              "      <td>tt0806203</td>\n",
              "      <td>5392</td>\n",
              "    </tr>\n",
              "  </tbody>\n",
              "</table>\n",
              "</div>"
            ],
            "text/plain": [
              "   Unnamed: 0  ... code_url\n",
              "0           0  ...     1821\n",
              "1           1  ...    10402\n",
              "2           2  ...     1062\n",
              "3           3  ...     9056\n",
              "4           4  ...     5392\n",
              "\n",
              "[5 rows x 7 columns]"
            ]
          },
          "metadata": {
            "tags": []
          },
          "execution_count": 277
        }
      ]
    },
    {
      "cell_type": "code",
      "metadata": {
        "id": "zaIUDOOYYqF0",
        "colab": {
          "base_uri": "https://localhost:8080/"
        },
        "outputId": "6cefbf81-a889-4972-b772-75ff4f9cd591"
      },
      "source": [
        "print(len(train_review), len(test_review))"
      ],
      "execution_count": null,
      "outputs": [
        {
          "output_type": "stream",
          "text": [
            "24998 24998\n"
          ],
          "name": "stdout"
        }
      ]
    },
    {
      "cell_type": "markdown",
      "metadata": {
        "id": "FzJVRNEqP9a1"
      },
      "source": [
        "On va garder les *review* des films présents dans la base *df*."
      ]
    },
    {
      "cell_type": "code",
      "metadata": {
        "id": "V1kLX-8-QE3Z"
      },
      "source": [
        "l = []\n",
        "l_rtest = pd.unique(test_review.imdb_id)\n",
        "l_rtrain = pd.unique(train_review.imdb_id)\n",
        "for elem in df.imdb_id:\n",
        "  if elem in l_rtest or elem in l_rtrain : \n",
        "    l.append(elem)\n"
      ],
      "execution_count": null,
      "outputs": []
    },
    {
      "cell_type": "markdown",
      "metadata": {
        "id": "wq2JYvf51mV2"
      },
      "source": [
        "On crée une fonction de filtration des reviews pour ne garder que ceux que l'on dispose."
      ]
    },
    {
      "cell_type": "code",
      "metadata": {
        "id": "f6WKv_BRUj-E"
      },
      "source": [
        "def filter_review(data):\n",
        "  cond = data.apply ( lambda row : row['imdb_id'] in l , axis = 1 )\n",
        "  print('On a supprimé', len(data)-len(data[cond]), 'reviews de films non attribués dans la base')\n",
        "  print('\\n')\n",
        "  return data[cond]\n",
        "\n"
      ],
      "execution_count": null,
      "outputs": []
    },
    {
      "cell_type": "code",
      "metadata": {
        "colab": {
          "base_uri": "https://localhost:8080/"
        },
        "id": "XVuFRYaCVOUK",
        "outputId": "8cc5fd26-b0f7-4f92-9a97-100e27ae9d65"
      },
      "source": [
        "test_filtered = filter_review(test_review)\n",
        "train_filtered = filter_review(train_review)"
      ],
      "execution_count": null,
      "outputs": [
        {
          "output_type": "stream",
          "text": [
            "On a supprimé 15318 reviews de films non attribués dans la base\n",
            "\n",
            "\n",
            "On a supprimé 15094 reviews de films non attribués dans la base\n",
            "\n",
            "\n"
          ],
          "name": "stdout"
        }
      ]
    },
    {
      "cell_type": "markdown",
      "metadata": {
        "id": "cwI0NCSHVUHI"
      },
      "source": [
        "On va pouvoir associer les deux dataframe construits. "
      ]
    },
    {
      "cell_type": "code",
      "metadata": {
        "colab": {
          "base_uri": "https://localhost:8080/"
        },
        "id": "t2gL1xwCVTKK",
        "outputId": "24eec698-dbcd-4959-a5ae-715e84fdcb20"
      },
      "source": [
        "review_filtered = pd.concat([train_filtered, test_filtered]).reset_index()\n",
        "print(len(review_filtered))"
      ],
      "execution_count": null,
      "outputs": [
        {
          "output_type": "stream",
          "text": [
            "19584\n"
          ],
          "name": "stdout"
        }
      ]
    },
    {
      "cell_type": "code",
      "metadata": {
        "id": "N5qN0noKY8VM",
        "colab": {
          "base_uri": "https://localhost:8080/",
          "height": 204
        },
        "outputId": "a6b3f20e-b998-4bd0-f85f-9ac3cd08ddd2"
      },
      "source": [
        "review_filtered = review_filtered.drop(columns='Unnamed: 0')\n",
        "review_filtered.head()"
      ],
      "execution_count": null,
      "outputs": [
        {
          "output_type": "execute_result",
          "data": {
            "text/html": [
              "<div>\n",
              "<style scoped>\n",
              "    .dataframe tbody tr th:only-of-type {\n",
              "        vertical-align: middle;\n",
              "    }\n",
              "\n",
              "    .dataframe tbody tr th {\n",
              "        vertical-align: top;\n",
              "    }\n",
              "\n",
              "    .dataframe thead th {\n",
              "        text-align: right;\n",
              "    }\n",
              "</style>\n",
              "<table border=\"1\" class=\"dataframe\">\n",
              "  <thead>\n",
              "    <tr style=\"text-align: right;\">\n",
              "      <th></th>\n",
              "      <th>index</th>\n",
              "      <th>review</th>\n",
              "      <th>sentiment</th>\n",
              "      <th>url_code</th>\n",
              "      <th>rating</th>\n",
              "      <th>imdb_id</th>\n",
              "      <th>code_url</th>\n",
              "    </tr>\n",
              "  </thead>\n",
              "  <tbody>\n",
              "    <tr>\n",
              "      <th>0</th>\n",
              "      <td>1</td>\n",
              "      <td>Well...tremors I, the original started off in ...</td>\n",
              "      <td>0</td>\n",
              "      <td>10402</td>\n",
              "      <td>1</td>\n",
              "      <td>tt0334541</td>\n",
              "      <td>10402</td>\n",
              "    </tr>\n",
              "    <tr>\n",
              "      <th>1</th>\n",
              "      <td>2</td>\n",
              "      <td>Ouch! This one was a bit painful to sit throug...</td>\n",
              "      <td>0</td>\n",
              "      <td>1062</td>\n",
              "      <td>4</td>\n",
              "      <td>tt0043809</td>\n",
              "      <td>1062</td>\n",
              "    </tr>\n",
              "    <tr>\n",
              "      <th>2</th>\n",
              "      <td>3</td>\n",
              "      <td>I've seen some crappy movies in my life, but t...</td>\n",
              "      <td>0</td>\n",
              "      <td>9056</td>\n",
              "      <td>1</td>\n",
              "      <td>tt0219400</td>\n",
              "      <td>9056</td>\n",
              "    </tr>\n",
              "    <tr>\n",
              "      <th>3</th>\n",
              "      <td>4</td>\n",
              "      <td>\"Carriers\" follows the exploits of two guys an...</td>\n",
              "      <td>0</td>\n",
              "      <td>5392</td>\n",
              "      <td>3</td>\n",
              "      <td>tt0806203</td>\n",
              "      <td>5392</td>\n",
              "    </tr>\n",
              "    <tr>\n",
              "      <th>4</th>\n",
              "      <td>5</td>\n",
              "      <td>I had been looking forward to seeing this film...</td>\n",
              "      <td>0</td>\n",
              "      <td>2682</td>\n",
              "      <td>3</td>\n",
              "      <td>tt0120620</td>\n",
              "      <td>2682</td>\n",
              "    </tr>\n",
              "  </tbody>\n",
              "</table>\n",
              "</div>"
            ],
            "text/plain": [
              "   index  ... code_url\n",
              "0      1  ...    10402\n",
              "1      2  ...     1062\n",
              "2      3  ...     9056\n",
              "3      4  ...     5392\n",
              "4      5  ...     2682\n",
              "\n",
              "[5 rows x 7 columns]"
            ]
          },
          "metadata": {
            "tags": []
          },
          "execution_count": 283
        }
      ]
    },
    {
      "cell_type": "markdown",
      "metadata": {
        "id": "jsphFdKmQ1ZD"
      },
      "source": [
        "On tokenize puis on enlève les stopwords."
      ]
    },
    {
      "cell_type": "code",
      "metadata": {
        "id": "Ms6E9oLO5dXI",
        "colab": {
          "base_uri": "https://localhost:8080/"
        },
        "outputId": "8c8dabda-dca0-4330-f793-fe71e4c89d18"
      },
      "source": [
        "from nltk.corpus import stopwords\n",
        "import nltk\n",
        "nltk.download('punkt')\n",
        "nltk.download('stopwords')\n",
        "from nltk.tokenize import word_tokenize\n",
        "\n",
        "reviews = review_filtered.review.str.cat(sep=' ')\n",
        "# on découpe selon les mots\n",
        "tokens = word_tokenize(reviews)\n",
        "stop_words = set(stopwords.words('english'))\n",
        "tokens = [w for w in tokens if not w in stop_words]\n",
        "words=[word.lower() for word in tokens if word.isalpha()]\n"
      ],
      "execution_count": null,
      "outputs": [
        {
          "output_type": "stream",
          "text": [
            "[nltk_data] Downloading package punkt to /root/nltk_data...\n",
            "[nltk_data]   Unzipping tokenizers/punkt.zip.\n",
            "[nltk_data] Downloading package stopwords to /root/nltk_data...\n",
            "[nltk_data]   Unzipping corpora/stopwords.zip.\n"
          ],
          "name": "stdout"
        }
      ]
    },
    {
      "cell_type": "code",
      "metadata": {
        "colab": {
          "base_uri": "https://localhost:8080/"
        },
        "id": "Etq4YUMgQkL2",
        "outputId": "9932f4ee-e93f-42d4-aa7c-138f7a65136b"
      },
      "source": [
        "vocabulary = set(words)\n",
        "print(len(vocabulary))\n",
        "frequency_dist = nltk.FreqDist(words)\n",
        "print('les 10 mots les plus fréquents',sorted(frequency_dist,key=frequency_dist.__getitem__, reverse=True)[0:20])\n"
      ],
      "execution_count": null,
      "outputs": [
        {
          "output_type": "stream",
          "text": [
            "62144\n",
            "les 10 mots les plus fréquents ['br', 'i', 'movie', 'the', 'film', 'one', 'like', 'it', 'good', 'this', 'would', 'even', 'time', 'really', 'story', 'see', 'great', 'well', 'much', 'could']\n"
          ],
          "name": "stdout"
        }
      ]
    },
    {
      "cell_type": "markdown",
      "metadata": {
        "id": "1UvqljuaY-4K"
      },
      "source": [
        "Il y a encore quelques stop words qu'on va retirer. On rajoute les mots pertinents à retirer dans la liste *to_remove* jusqu'à ce que la liste des 10 mots les plus fréquents contienne des termes sans stopwords ainsi qu'uniquement des mots pertinents (par exemple *movies* ou *film* ne sont pas très pertinents puisque tous les objets sont des films ici)."
      ]
    },
    {
      "cell_type": "code",
      "metadata": {
        "id": "v4aCj6yoYHdk"
      },
      "source": [
        "to_remove = ['i','br', 'the','this', 'it', 'one', 'movie', 'film']\n",
        "words = [word for word in words if word not in to_remove]"
      ],
      "execution_count": null,
      "outputs": []
    },
    {
      "cell_type": "code",
      "metadata": {
        "colab": {
          "base_uri": "https://localhost:8080/",
          "height": 198
        },
        "id": "ZglF-ogfQltJ",
        "outputId": "d5717a47-0af4-42df-cef7-10e4e48a85b2"
      },
      "source": [
        "from wordcloud import WordCloud\n",
        "import matplotlib.pyplot as plt\n",
        "vocabulary = set(words)\n",
        "frequency_dist = nltk.FreqDist(words)\n",
        "wordcloud = WordCloud().generate_from_frequencies(frequency_dist)\n",
        "plt.imshow(wordcloud)\n",
        "plt.axis(\"off\")\n",
        "plt.show()\n"
      ],
      "execution_count": null,
      "outputs": [
        {
          "output_type": "display_data",
          "data": {
            "image/png": "[encoded data removed]",
            "text/plain": [
              "<Figure size 432x288 with 1 Axes>"
            ]
          },
          "metadata": {
            "tags": [],
            "needs_background": "light"
          }
        }
      ]
    },
    {
      "cell_type": "markdown",
      "metadata": {
        "id": "-MoL-pKfZuDZ"
      },
      "source": [
        "Comme nous utilisons des subsets des bases d'apprentissage et d'entraînement initialement fournies, nous allons recréer ces bases pour notre modèle de sentiment analysis. "
      ]
    },
    {
      "cell_type": "code",
      "metadata": {
        "id": "S5SnxcXfVv14",
        "colab": {
          "base_uri": "https://localhost:8080/"
        },
        "outputId": "c4bb8071-7c2e-4ce8-e1b6-53f81ac375c1"
      },
      "source": [
        "n_max = len(review_filtered)/2\n",
        "n_max "
      ],
      "execution_count": null,
      "outputs": [
        {
          "output_type": "execute_result",
          "data": {
            "text/plain": [
              "9792.0"
            ]
          },
          "metadata": {
            "tags": []
          },
          "execution_count": 284
        }
      ]
    },
    {
      "cell_type": "code",
      "metadata": {
        "colab": {
          "base_uri": "https://localhost:8080/"
        },
        "id": "kXVGtQ0qZ4nY",
        "outputId": "92d6c82b-11d0-4f6a-8159-07aed1cc05d8"
      },
      "source": [
        "print(len(review_filtered.loc[:n_max-1, 'review'].values), len(review_filtered.loc[n_max:,'review'].values))"
      ],
      "execution_count": null,
      "outputs": [
        {
          "output_type": "stream",
          "text": [
            "9792 9792\n"
          ],
          "name": "stdout"
        }
      ]
    },
    {
      "cell_type": "code",
      "metadata": {
        "id": "RRrzbc_eX6gw"
      },
      "source": [
        "x_train = review_filtered.loc[:n_max-1, 'review'].values\n",
        "y_train = review_filtered.loc[:n_max-1, 'sentiment'].values\n",
        "x_test = review_filtered.loc[n_max:,'review'].values\n",
        "y_test = review_filtered.loc[n_max:,'sentiment'].values"
      ],
      "execution_count": null,
      "outputs": []
    },
    {
      "cell_type": "markdown",
      "metadata": {
        "id": "BxKBipcrdOjQ"
      },
      "source": [
        "## Classificateur naïf bayésien"
      ]
    },
    {
      "cell_type": "markdown",
      "metadata": {
        "id": "4DhPyPI2aoR6"
      },
      "source": [
        "On préprocess le texte avec *TFidfTransformer* : "
      ]
    },
    {
      "cell_type": "code",
      "metadata": {
        "colab": {
          "base_uri": "https://localhost:8080/"
        },
        "id": "nc0kP4A4afW5",
        "outputId": "46de71fb-c288-47f6-febf-a2ca3dc6d219"
      },
      "source": [
        "from sklearn.feature_extraction.text import TfidfTransformer\n",
        "from sklearn.feature_extraction.text import TfidfVectorizer\n",
        "vectorizer = TfidfVectorizer()\n",
        "train_vectors = vectorizer.fit_transform(x_train)\n",
        "test_vectors = vectorizer.transform(x_test)\n",
        "print(train_vectors.shape, test_vectors.shape)"
      ],
      "execution_count": null,
      "outputs": [
        {
          "output_type": "stream",
          "text": [
            "(9792, 48607) (9792, 48607)\n"
          ],
          "name": "stdout"
        }
      ]
    },
    {
      "cell_type": "markdown",
      "metadata": {
        "id": "6WfCz2OXa20U"
      },
      "source": [
        "On utilise un classifier naïf bayésien pour entraîner notre modèle."
      ]
    },
    {
      "cell_type": "code",
      "metadata": {
        "id": "ofK28U6SavxK"
      },
      "source": [
        "from sklearn.naive_bayes import MultinomialNB\n",
        "clf = MultinomialNB().fit(train_vectors, y_train)"
      ],
      "execution_count": null,
      "outputs": []
    },
    {
      "cell_type": "markdown",
      "metadata": {
        "id": "g_QXMuOYbCKu"
      },
      "source": [
        "Maintenant que le modèle est entraîné, on s'intéresse au score :"
      ]
    },
    {
      "cell_type": "code",
      "metadata": {
        "colab": {
          "base_uri": "https://localhost:8080/"
        },
        "id": "0EipgBm-a1az",
        "outputId": "b5b2bf51-5036-4d27-a6ed-d633fd638450"
      },
      "source": [
        "from  sklearn.metrics  import accuracy_score\n",
        "predicted = clf.predict(test_vectors)\n",
        "print(accuracy_score(y_test,predicted))\n"
      ],
      "execution_count": null,
      "outputs": [
        {
          "output_type": "stream",
          "text": [
            "0.8278186274509803\n"
          ],
          "name": "stdout"
        }
      ]
    },
    {
      "cell_type": "code",
      "metadata": {
        "colab": {
          "base_uri": "https://localhost:8080/"
        },
        "id": "q6L7jYM-d8_S",
        "outputId": "b92651cd-c80a-43a7-e616-cc591f2a52dd"
      },
      "source": [
        "from sklearn.metrics import accuracy_score, f1_score, precision_score, recall_score, confusion_matrix\n",
        "tab = pd.DataFrame([[accuracy_score(y_test, predicted)], [f1_score(y_test, predicted)],[precision_score(y_test, predicted)], [recall_score(y_test, predicted)]], index=['accuracy', 'f1', 'precision', 'recall'], columns = ['score'])\n",
        "tab"
      ],
      "execution_count": null,
      "outputs": [
        {
          "output_type": "execute_result",
          "data": {
            "text/html": [
              "<div>\n",
              "<style scoped>\n",
              "    .dataframe tbody tr th:only-of-type {\n",
              "        vertical-align: middle;\n",
              "    }\n",
              "\n",
              "    .dataframe tbody tr th {\n",
              "        vertical-align: top;\n",
              "    }\n",
              "\n",
              "    .dataframe thead th {\n",
              "        text-align: right;\n",
              "    }\n",
              "</style>\n",
              "<table border=\"1\" class=\"dataframe\">\n",
              "  <thead>\n",
              "    <tr style=\"text-align: right;\">\n",
              "      <th></th>\n",
              "      <th>score</th>\n",
              "    </tr>\n",
              "  </thead>\n",
              "  <tbody>\n",
              "    <tr>\n",
              "      <th>accuracy</th>\n",
              "      <td>0.827819</td>\n",
              "    </tr>\n",
              "    <tr>\n",
              "      <th>f1</th>\n",
              "      <td>0.838506</td>\n",
              "    </tr>\n",
              "    <tr>\n",
              "      <th>precision</th>\n",
              "      <td>0.840922</td>\n",
              "    </tr>\n",
              "    <tr>\n",
              "      <th>recall</th>\n",
              "      <td>0.836103</td>\n",
              "    </tr>\n",
              "  </tbody>\n",
              "</table>\n",
              "</div>"
            ],
            "text/plain": [
              "              score\n",
              "accuracy   0.827819\n",
              "f1         0.838506\n",
              "precision  0.840922\n",
              "recall     0.836103"
            ]
          },
          "metadata": {
            "tags": []
          },
          "execution_count": 51
        }
      ]
    },
    {
      "cell_type": "code",
      "metadata": {
        "colab": {
          "base_uri": "https://localhost:8080/"
        },
        "id": "1RavLKBoeCDL",
        "outputId": "6cb6968f-a55c-4677-fcb7-6d0123d6a19a"
      },
      "source": [
        "c = confusion_matrix(y_test, predicted)\n",
        "sns.heatmap(c)"
      ],
      "execution_count": null,
      "outputs": [
        {
          "output_type": "execute_result",
          "data": {
            "text/plain": [
              "<matplotlib.axes._subplots.AxesSubplot at 0x7f00074e5400>"
            ]
          },
          "metadata": {
            "tags": []
          },
          "execution_count": 52
        },
        {
          "output_type": "display_data",
          "data": {
            "image/png": "[encoded data removed]",
            "text/plain": [
              "<Figure size 432x288 with 2 Axes>"
            ]
          },
          "metadata": {
            "tags": [],
            "needs_background": "light"
          }
        }
      ]
    },
    {
      "cell_type": "markdown",
      "metadata": {
        "id": "9gX1VQVMbJkE"
      },
      "source": [
        "On obtient un score de 84,71% sur la prédiction des sentiments positifs ou négatifs générés par les commentaires utilisateurs. On voit sur la matrice de confiance que les erreurs de type I (faux positifs) et de type II (faux négatifs) sont marginales. \n",
        "A priori, le classificateur est performant, mais il se trouve que SVM est une méthode d'ordinaire meilleure que le classificateur naïf bayésien. \n",
        "On va essayer d'améliorer ce score en utilisant un SVM plutôt qu'un classificateur naïf bayésien. L'avantage du classificateur naïf bayésien en dépit de sa performance est la rapidité d'exécution par rapport au SVM."
      ]
    },
    {
      "cell_type": "markdown",
      "metadata": {
        "id": "DBFjwjKkmONj"
      },
      "source": [
        "### 5-fold validation croisée"
      ]
    },
    {
      "cell_type": "code",
      "metadata": {
        "id": "GDZtdxvamFz4",
        "colab": {
          "base_uri": "https://localhost:8080/"
        },
        "outputId": "ff8d8d55-2eab-44c5-d45d-b48563839bdc"
      },
      "source": [
        "from sklearn.model_selection import cross_val_score\n",
        "scores = cross_val_score(clf, train_vectors, y_train, cv=5)\n",
        "print(\"Cross-validation scores: {}\".format(scores))"
      ],
      "execution_count": null,
      "outputs": [
        {
          "output_type": "stream",
          "text": [
            "Cross-validation scores: [0.87799898 0.87442573 0.88508682 0.86210419 0.88100102]\n"
          ],
          "name": "stdout"
        }
      ]
    },
    {
      "cell_type": "markdown",
      "metadata": {
        "id": "gCoXtIMkdSVs"
      },
      "source": [
        "## Classificateur SVM"
      ]
    },
    {
      "cell_type": "code",
      "metadata": {
        "id": "pcssCwFla_Ii"
      },
      "source": [
        "from sklearn.model_selection import train_test_split\n",
        "from sklearn.metrics import classification_report"
      ],
      "execution_count": null,
      "outputs": []
    },
    {
      "cell_type": "code",
      "metadata": {
        "id": "v-4tZ0g0dUiI"
      },
      "source": [
        "from sklearn.svm import SVC\n",
        "clf_svm = SVC(kernel='linear', C=1)\n",
        "clf_svm.fit(train_vectors, y_train)\n",
        "y_pred = clf.predict(test_vectors)"
      ],
      "execution_count": null,
      "outputs": []
    },
    {
      "cell_type": "code",
      "metadata": {
        "colab": {
          "base_uri": "https://localhost:8080/",
          "height": 171
        },
        "id": "EDfIq1Osdfuq",
        "outputId": "d9bf9fe4-365c-4572-e555-efd54b3a2d1d"
      },
      "source": [
        "from sklearn.metrics import accuracy_score, f1_score, precision_score, recall_score, confusion_matrix\n",
        "tab = pd.DataFrame([[accuracy_score(y_test, y_pred)], [f1_score(y_test, y_pred)],[precision_score(y_test,y_pred)], [recall_score(y_test, y_pred)]], index=['accuracy', 'f1', 'precision', 'recall'], columns = ['score'])\n",
        "tab"
      ],
      "execution_count": null,
      "outputs": [
        {
          "output_type": "execute_result",
          "data": {
            "text/html": [
              "<div>\n",
              "<style scoped>\n",
              "    .dataframe tbody tr th:only-of-type {\n",
              "        vertical-align: middle;\n",
              "    }\n",
              "\n",
              "    .dataframe tbody tr th {\n",
              "        vertical-align: top;\n",
              "    }\n",
              "\n",
              "    .dataframe thead th {\n",
              "        text-align: right;\n",
              "    }\n",
              "</style>\n",
              "<table border=\"1\" class=\"dataframe\">\n",
              "  <thead>\n",
              "    <tr style=\"text-align: right;\">\n",
              "      <th></th>\n",
              "      <th>score</th>\n",
              "    </tr>\n",
              "  </thead>\n",
              "  <tbody>\n",
              "    <tr>\n",
              "      <th>accuracy</th>\n",
              "      <td>0.827819</td>\n",
              "    </tr>\n",
              "    <tr>\n",
              "      <th>f1</th>\n",
              "      <td>0.838506</td>\n",
              "    </tr>\n",
              "    <tr>\n",
              "      <th>precision</th>\n",
              "      <td>0.840922</td>\n",
              "    </tr>\n",
              "    <tr>\n",
              "      <th>recall</th>\n",
              "      <td>0.836103</td>\n",
              "    </tr>\n",
              "  </tbody>\n",
              "</table>\n",
              "</div>"
            ],
            "text/plain": [
              "              score\n",
              "accuracy   0.827819\n",
              "f1         0.838506\n",
              "precision  0.840922\n",
              "recall     0.836103"
            ]
          },
          "metadata": {
            "tags": []
          },
          "execution_count": 56
        }
      ]
    },
    {
      "cell_type": "markdown",
      "metadata": {
        "id": "9MbTu-q-e-bI"
      },
      "source": [
        "En effet, le score en SVM est un peu plus élevé, avec une précision de 87,21%. Le temps d'exécution est bien plus long en revanche. "
      ]
    },
    {
      "cell_type": "code",
      "metadata": {
        "colab": {
          "base_uri": "https://localhost:8080/",
          "height": 283
        },
        "id": "sXxCJ4V6ezfu",
        "outputId": "297eefdb-db26-44c4-e2b7-7e229b5b18ac"
      },
      "source": [
        "c = confusion_matrix(y_test, y_pred)\n",
        "sns.heatmap(c)"
      ],
      "execution_count": null,
      "outputs": [
        {
          "output_type": "execute_result",
          "data": {
            "text/plain": [
              "<matplotlib.axes._subplots.AxesSubplot at 0x7f00019f1c18>"
            ]
          },
          "metadata": {
            "tags": []
          },
          "execution_count": 57
        },
        {
          "output_type": "display_data",
          "data": {
            "image/png": "[encoded data removed]",
            "text/plain": [
              "<Figure size 432x288 with 2 Axes>"
            ]
          },
          "metadata": {
            "tags": [],
            "needs_background": "light"
          }
        }
      ]
    },
    {
      "cell_type": "markdown",
      "metadata": {
        "id": "E_o4oq3ffeQA"
      },
      "source": [
        "La matrice de confusion est à peu près inchangée."
      ]
    },
    {
      "cell_type": "markdown",
      "metadata": {
        "id": "rSudlUTUfPHD"
      },
      "source": [
        "### 5-fold validation croisée SVM"
      ]
    },
    {
      "cell_type": "code",
      "metadata": {
        "colab": {
          "base_uri": "https://localhost:8080/"
        },
        "id": "aOzxXFIbfUdq",
        "outputId": "64f61bff-6eec-490d-82a6-667b60e81433"
      },
      "source": [
        "scores = cross_val_score(clf_svm, train_vectors, y_train, cv=5)\n",
        "print(\"Cross-validation scores: {}\".format(scores))"
      ],
      "execution_count": null,
      "outputs": [
        {
          "output_type": "stream",
          "text": [
            "Cross-validation scores: [0.90658499 0.8963757  0.90091931 0.89121553 0.90040858]\n"
          ],
          "name": "stdout"
        }
      ]
    },
    {
      "cell_type": "markdown",
      "metadata": {
        "id": "mUuoS02fhuCg"
      },
      "source": [
        "# Approfondissement de la régression\n"
      ]
    },
    {
      "cell_type": "markdown",
      "metadata": {
        "id": "waJc5ZT1jRdX"
      },
      "source": [
        "A présent, on va rajouter à la base les données de score imdb associés aux commentaires et la nature des commentaires (positifs ou négatifs) afin de voir si cela améliore la régression sur le score."
      ]
    },
    {
      "cell_type": "markdown",
      "metadata": {
        "id": "gX4IAcE2kfFE"
      },
      "source": [
        "## Préparation des données"
      ]
    },
    {
      "cell_type": "markdown",
      "metadata": {
        "id": "ufqyJNci3CNM"
      },
      "source": [
        "Il nous reste à agréger les reviews et les rassembler par id. "
      ]
    },
    {
      "cell_type": "code",
      "metadata": {
        "id": "tLQKf3CRkg_M"
      },
      "source": [
        "gr_review = review_filtered.groupby('imdb_id').mean()\n",
        "#gr_review = gr_review.drop(columns=['Unnamed: 0', 'url_code'])\n"
      ],
      "execution_count": null,
      "outputs": []
    },
    {
      "cell_type": "code",
      "metadata": {
        "colab": {
          "base_uri": "https://localhost:8080/"
        },
        "id": "J3JEpjr0l8nN",
        "outputId": "bb4021b7-d116-44cc-89d7-a7c133fbf706"
      },
      "source": [
        "print(\"Taille de l'échantillon final après filtration et agrégation par id des commentaires\", len(pd.unique(review_filtered.imdb_id)))"
      ],
      "execution_count": null,
      "outputs": [
        {
          "output_type": "stream",
          "text": [
            "Taille de l'échantillon final après filtration et agrégation par id des commentaires 1779\n"
          ],
          "name": "stdout"
        }
      ]
    },
    {
      "cell_type": "markdown",
      "metadata": {
        "id": "XEUx7T912_49"
      },
      "source": [
        "On agrège sur la base principale."
      ]
    },
    {
      "cell_type": "code",
      "metadata": {
        "id": "tr26R_TPk-Gg"
      },
      "source": [
        "df_2 = pd.merge(df, gr_review, left_on ='imdb_id', right_on ='imdb_id')"
      ],
      "execution_count": null,
      "outputs": []
    },
    {
      "cell_type": "code",
      "metadata": {
        "id": "anZujPCSn1TG",
        "colab": {
          "base_uri": "https://localhost:8080/",
          "height": 166
        },
        "outputId": "ff1fe11b-cc9f-41c3-c82e-72383af9d28b"
      },
      "source": [
        "corr = df_2[['budget', 'revenue', 'runtime', 'score_1', 'sentiment', 'rating']].corr()\n",
        "corr.style.background_gradient(cmap = 'coolwarm')"
      ],
      "execution_count": null,
      "outputs": [
        {
          "output_type": "execute_result",
          "data": {
            "text/html": [
              "<style  type=\"text/css\" >\n",
              "#T_60779d30_3e52_11eb_985c_0242ac1c0002row0_col0,#T_60779d30_3e52_11eb_985c_0242ac1c0002row1_col1,#T_60779d30_3e52_11eb_985c_0242ac1c0002row2_col2,#T_60779d30_3e52_11eb_985c_0242ac1c0002row3_col3,#T_60779d30_3e52_11eb_985c_0242ac1c0002row4_col4,#T_60779d30_3e52_11eb_985c_0242ac1c0002row5_col5{\n",
              "            background-color:  #b40426;\n",
              "            color:  #f1f1f1;\n",
              "        }#T_60779d30_3e52_11eb_985c_0242ac1c0002row0_col1{\n",
              "            background-color:  #f7b194;\n",
              "            color:  #000000;\n",
              "        }#T_60779d30_3e52_11eb_985c_0242ac1c0002row0_col2{\n",
              "            background-color:  #82a6fb;\n",
              "            color:  #000000;\n",
              "        }#T_60779d30_3e52_11eb_985c_0242ac1c0002row0_col3{\n",
              "            background-color:  #e2dad5;\n",
              "            color:  #000000;\n",
              "        }#T_60779d30_3e52_11eb_985c_0242ac1c0002row0_col4,#T_60779d30_3e52_11eb_985c_0242ac1c0002row0_col5,#T_60779d30_3e52_11eb_985c_0242ac1c0002row4_col1,#T_60779d30_3e52_11eb_985c_0242ac1c0002row4_col3,#T_60779d30_3e52_11eb_985c_0242ac1c0002row5_col0,#T_60779d30_3e52_11eb_985c_0242ac1c0002row5_col1,#T_60779d30_3e52_11eb_985c_0242ac1c0002row5_col2{\n",
              "            background-color:  #3b4cc0;\n",
              "            color:  #f1f1f1;\n",
              "        }#T_60779d30_3e52_11eb_985c_0242ac1c0002row1_col0{\n",
              "            background-color:  #f7ad90;\n",
              "            color:  #000000;\n",
              "        }#T_60779d30_3e52_11eb_985c_0242ac1c0002row1_col2{\n",
              "            background-color:  #81a4fb;\n",
              "            color:  #000000;\n",
              "        }#T_60779d30_3e52_11eb_985c_0242ac1c0002row1_col3{\n",
              "            background-color:  #f18f71;\n",
              "            color:  #000000;\n",
              "        }#T_60779d30_3e52_11eb_985c_0242ac1c0002row1_col4{\n",
              "            background-color:  #4358cb;\n",
              "            color:  #f1f1f1;\n",
              "        }#T_60779d30_3e52_11eb_985c_0242ac1c0002row1_col5{\n",
              "            background-color:  #455cce;\n",
              "            color:  #f1f1f1;\n",
              "        }#T_60779d30_3e52_11eb_985c_0242ac1c0002row2_col0{\n",
              "            background-color:  #96b7ff;\n",
              "            color:  #000000;\n",
              "        }#T_60779d30_3e52_11eb_985c_0242ac1c0002row2_col1,#T_60779d30_3e52_11eb_985c_0242ac1c0002row3_col2{\n",
              "            background-color:  #89acfd;\n",
              "            color:  #000000;\n",
              "        }#T_60779d30_3e52_11eb_985c_0242ac1c0002row2_col3{\n",
              "            background-color:  #8db0fe;\n",
              "            color:  #000000;\n",
              "        }#T_60779d30_3e52_11eb_985c_0242ac1c0002row2_col4{\n",
              "            background-color:  #4e68d8;\n",
              "            color:  #000000;\n",
              "        }#T_60779d30_3e52_11eb_985c_0242ac1c0002row2_col5{\n",
              "            background-color:  #4f69d9;\n",
              "            color:  #000000;\n",
              "        }#T_60779d30_3e52_11eb_985c_0242ac1c0002row3_col0{\n",
              "            background-color:  #e8d6cc;\n",
              "            color:  #000000;\n",
              "        }#T_60779d30_3e52_11eb_985c_0242ac1c0002row3_col1{\n",
              "            background-color:  #f18d6f;\n",
              "            color:  #000000;\n",
              "        }#T_60779d30_3e52_11eb_985c_0242ac1c0002row3_col4{\n",
              "            background-color:  #485fd1;\n",
              "            color:  #f1f1f1;\n",
              "        }#T_60779d30_3e52_11eb_985c_0242ac1c0002row3_col5{\n",
              "            background-color:  #4c66d6;\n",
              "            color:  #000000;\n",
              "        }#T_60779d30_3e52_11eb_985c_0242ac1c0002row4_col0{\n",
              "            background-color:  #3d50c3;\n",
              "            color:  #f1f1f1;\n",
              "        }#T_60779d30_3e52_11eb_985c_0242ac1c0002row4_col2,#T_60779d30_3e52_11eb_985c_0242ac1c0002row5_col3{\n",
              "            background-color:  #3c4ec2;\n",
              "            color:  #f1f1f1;\n",
              "        }#T_60779d30_3e52_11eb_985c_0242ac1c0002row4_col5,#T_60779d30_3e52_11eb_985c_0242ac1c0002row5_col4{\n",
              "            background-color:  #c12b30;\n",
              "            color:  #f1f1f1;\n",
              "        }</style><table id=\"T_60779d30_3e52_11eb_985c_0242ac1c0002\" ><thead>    <tr>        <th class=\"blank level0\" ></th>        <th class=\"col_heading level0 col0\" >budget</th>        <th class=\"col_heading level0 col1\" >revenue</th>        <th class=\"col_heading level0 col2\" >runtime</th>        <th class=\"col_heading level0 col3\" >score_1</th>        <th class=\"col_heading level0 col4\" >sentiment</th>        <th class=\"col_heading level0 col5\" >rating</th>    </tr></thead><tbody>\n",
              "                <tr>\n",
              "                        <th id=\"T_60779d30_3e52_11eb_985c_0242ac1c0002level0_row0\" class=\"row_heading level0 row0\" >budget</th>\n",
              "                        <td id=\"T_60779d30_3e52_11eb_985c_0242ac1c0002row0_col0\" class=\"data row0 col0\" >1.000000</td>\n",
              "                        <td id=\"T_60779d30_3e52_11eb_985c_0242ac1c0002row0_col1\" class=\"data row0 col1\" >0.688175</td>\n",
              "                        <td id=\"T_60779d30_3e52_11eb_985c_0242ac1c0002row0_col2\" class=\"data row0 col2\" >0.253552</td>\n",
              "                        <td id=\"T_60779d30_3e52_11eb_985c_0242ac1c0002row0_col3\" class=\"data row0 col3\" >0.534138</td>\n",
              "                        <td id=\"T_60779d30_3e52_11eb_985c_0242ac1c0002row0_col4\" class=\"data row0 col4\" >-0.019465</td>\n",
              "                        <td id=\"T_60779d30_3e52_11eb_985c_0242ac1c0002row0_col5\" class=\"data row0 col5\" >-0.028066</td>\n",
              "            </tr>\n",
              "            <tr>\n",
              "                        <th id=\"T_60779d30_3e52_11eb_985c_0242ac1c0002level0_row1\" class=\"row_heading level0 row1\" >revenue</th>\n",
              "                        <td id=\"T_60779d30_3e52_11eb_985c_0242ac1c0002row1_col0\" class=\"data row1 col0\" >0.688175</td>\n",
              "                        <td id=\"T_60779d30_3e52_11eb_985c_0242ac1c0002row1_col1\" class=\"data row1 col1\" >1.000000</td>\n",
              "                        <td id=\"T_60779d30_3e52_11eb_985c_0242ac1c0002row1_col2\" class=\"data row1 col2\" >0.249538</td>\n",
              "                        <td id=\"T_60779d30_3e52_11eb_985c_0242ac1c0002row1_col3\" class=\"data row1 col3\" >0.780262</td>\n",
              "                        <td id=\"T_60779d30_3e52_11eb_985c_0242ac1c0002row1_col4\" class=\"data row1 col4\" >0.011870</td>\n",
              "                        <td id=\"T_60779d30_3e52_11eb_985c_0242ac1c0002row1_col5\" class=\"data row1 col5\" >0.011924</td>\n",
              "            </tr>\n",
              "            <tr>\n",
              "                        <th id=\"T_60779d30_3e52_11eb_985c_0242ac1c0002level0_row2\" class=\"row_heading level0 row2\" >runtime</th>\n",
              "                        <td id=\"T_60779d30_3e52_11eb_985c_0242ac1c0002row2_col0\" class=\"data row2 col0\" >0.253552</td>\n",
              "                        <td id=\"T_60779d30_3e52_11eb_985c_0242ac1c0002row2_col1\" class=\"data row2 col1\" >0.249538</td>\n",
              "                        <td id=\"T_60779d30_3e52_11eb_985c_0242ac1c0002row2_col2\" class=\"data row2 col2\" >1.000000</td>\n",
              "                        <td id=\"T_60779d30_3e52_11eb_985c_0242ac1c0002row2_col3\" class=\"data row2 col3\" >0.271800</td>\n",
              "                        <td id=\"T_60779d30_3e52_11eb_985c_0242ac1c0002row2_col4\" class=\"data row2 col4\" >0.048067</td>\n",
              "                        <td id=\"T_60779d30_3e52_11eb_985c_0242ac1c0002row2_col5\" class=\"data row2 col5\" >0.043022</td>\n",
              "            </tr>\n",
              "            <tr>\n",
              "                        <th id=\"T_60779d30_3e52_11eb_985c_0242ac1c0002level0_row3\" class=\"row_heading level0 row3\" >score_1</th>\n",
              "                        <td id=\"T_60779d30_3e52_11eb_985c_0242ac1c0002row3_col0\" class=\"data row3 col0\" >0.534138</td>\n",
              "                        <td id=\"T_60779d30_3e52_11eb_985c_0242ac1c0002row3_col1\" class=\"data row3 col1\" >0.780262</td>\n",
              "                        <td id=\"T_60779d30_3e52_11eb_985c_0242ac1c0002row3_col2\" class=\"data row3 col2\" >0.271800</td>\n",
              "                        <td id=\"T_60779d30_3e52_11eb_985c_0242ac1c0002row3_col3\" class=\"data row3 col3\" >1.000000</td>\n",
              "                        <td id=\"T_60779d30_3e52_11eb_985c_0242ac1c0002row3_col4\" class=\"data row3 col4\" >0.028212</td>\n",
              "                        <td id=\"T_60779d30_3e52_11eb_985c_0242ac1c0002row3_col5\" class=\"data row3 col5\" >0.032445</td>\n",
              "            </tr>\n",
              "            <tr>\n",
              "                        <th id=\"T_60779d30_3e52_11eb_985c_0242ac1c0002level0_row4\" class=\"row_heading level0 row4\" >sentiment</th>\n",
              "                        <td id=\"T_60779d30_3e52_11eb_985c_0242ac1c0002row4_col0\" class=\"data row4 col0\" >-0.019465</td>\n",
              "                        <td id=\"T_60779d30_3e52_11eb_985c_0242ac1c0002row4_col1\" class=\"data row4 col1\" >0.011870</td>\n",
              "                        <td id=\"T_60779d30_3e52_11eb_985c_0242ac1c0002row4_col2\" class=\"data row4 col2\" >0.048067</td>\n",
              "                        <td id=\"T_60779d30_3e52_11eb_985c_0242ac1c0002row4_col3\" class=\"data row4 col3\" >0.028212</td>\n",
              "                        <td id=\"T_60779d30_3e52_11eb_985c_0242ac1c0002row4_col4\" class=\"data row4 col4\" >1.000000</td>\n",
              "                        <td id=\"T_60779d30_3e52_11eb_985c_0242ac1c0002row4_col5\" class=\"data row4 col5\" >0.961756</td>\n",
              "            </tr>\n",
              "            <tr>\n",
              "                        <th id=\"T_60779d30_3e52_11eb_985c_0242ac1c0002level0_row5\" class=\"row_heading level0 row5\" >rating</th>\n",
              "                        <td id=\"T_60779d30_3e52_11eb_985c_0242ac1c0002row5_col0\" class=\"data row5 col0\" >-0.028066</td>\n",
              "                        <td id=\"T_60779d30_3e52_11eb_985c_0242ac1c0002row5_col1\" class=\"data row5 col1\" >0.011924</td>\n",
              "                        <td id=\"T_60779d30_3e52_11eb_985c_0242ac1c0002row5_col2\" class=\"data row5 col2\" >0.043022</td>\n",
              "                        <td id=\"T_60779d30_3e52_11eb_985c_0242ac1c0002row5_col3\" class=\"data row5 col3\" >0.032445</td>\n",
              "                        <td id=\"T_60779d30_3e52_11eb_985c_0242ac1c0002row5_col4\" class=\"data row5 col4\" >0.961756</td>\n",
              "                        <td id=\"T_60779d30_3e52_11eb_985c_0242ac1c0002row5_col5\" class=\"data row5 col5\" >1.000000</td>\n",
              "            </tr>\n",
              "    </tbody></table>"
            ],
            "text/plain": [
              "<pandas.io.formats.style.Styler at 0x7f6efba41ba8>"
            ]
          },
          "metadata": {
            "tags": []
          },
          "execution_count": 291
        }
      ]
    },
    {
      "cell_type": "markdown",
      "metadata": {
        "id": "v8H_xHGH3KPU"
      },
      "source": [
        "La matrice de corrélation ne nous indique pas une grande influence de *sentiment* et *rating* dans le *score_1* mais toutefois, comme on s'attend, la corrélation est positive. Tentons toutefois d'observer si l'ajout de ces variables améliore la prédiction."
      ]
    },
    {
      "cell_type": "code",
      "metadata": {
        "id": "K22b38BrfaC9"
      },
      "source": [
        "X = pd.DataFrame(np.c_[df_2.budget, df_2.revenue, df_2.rating, df_2.sentiment], columns= ['budget', 'revenue', 'rating', 'sentiment'])\n",
        "Y = df_2.score_1"
      ],
      "execution_count": null,
      "outputs": []
    },
    {
      "cell_type": "markdown",
      "metadata": {
        "id": "tYDn7K_0nHBb"
      },
      "source": [
        "## Régression linéaire avec ajout de \"rating\" et \"sentiment\""
      ]
    },
    {
      "cell_type": "code",
      "metadata": {
        "id": "QBqK6H5PlfeW"
      },
      "source": [
        "X_train3, X_test3, Y_train3, Y_test3 = train_test_split(X, Y, test_size = 0.2, random_state=5)"
      ],
      "execution_count": null,
      "outputs": []
    },
    {
      "cell_type": "code",
      "metadata": {
        "colab": {
          "base_uri": "https://localhost:8080/"
        },
        "id": "AcwOAk3C3cpj",
        "outputId": "213e511b-0173-4955-c427-925534b40e10"
      },
      "source": [
        "model3 = linear_model(X_train3, Y_train3, X_test3, Y_test3)"
      ],
      "execution_count": null,
      "outputs": [
        {
          "output_type": "stream",
          "text": [
            "Performance du modèle sur la base d'apprentissage\n",
            "--------------------------------------\n",
            "L'erreur quadratique moyenne est 2751.7752581887908\n",
            "Le score R² est 0.634456027279134\n",
            "\n",
            "\n",
            "Performance du modèle sur la base de test\n",
            "--------------------------------------\n",
            "L'erreur quadratique moyenne est 2778.814420793052\n",
            "Le score R² est 0.451731471378768\n",
            "\n",
            "\n"
          ],
          "name": "stdout"
        }
      ]
    },
    {
      "cell_type": "code",
      "metadata": {
        "colab": {
          "base_uri": "https://localhost:8080/",
          "height": 235
        },
        "id": "HRsCAI9xGpmo",
        "outputId": "c3cc26a1-f2a7-4b67-b20e-11124973dcc0"
      },
      "source": [
        "l = []\n",
        "l.extend(model3[2:])\n",
        "l.append(len(X))\n",
        "\n",
        "table_resultats['model3'] = l\n",
        "table_resultats"
      ],
      "execution_count": null,
      "outputs": [
        {
          "output_type": "execute_result",
          "data": {
            "text/html": [
              "<div>\n",
              "<style scoped>\n",
              "    .dataframe tbody tr th:only-of-type {\n",
              "        vertical-align: middle;\n",
              "    }\n",
              "\n",
              "    .dataframe tbody tr th {\n",
              "        vertical-align: top;\n",
              "    }\n",
              "\n",
              "    .dataframe thead th {\n",
              "        text-align: right;\n",
              "    }\n",
              "</style>\n",
              "<table border=\"1\" class=\"dataframe\">\n",
              "  <thead>\n",
              "    <tr style=\"text-align: right;\">\n",
              "      <th></th>\n",
              "      <th>model1</th>\n",
              "      <th>model2</th>\n",
              "      <th>model3</th>\n",
              "    </tr>\n",
              "    <tr>\n",
              "      <th>name</th>\n",
              "      <th></th>\n",
              "      <th></th>\n",
              "      <th></th>\n",
              "    </tr>\n",
              "  </thead>\n",
              "  <tbody>\n",
              "    <tr>\n",
              "      <th>r2_test</th>\n",
              "      <td>0.587987</td>\n",
              "      <td>0.152923</td>\n",
              "      <td>0.451731</td>\n",
              "    </tr>\n",
              "    <tr>\n",
              "      <th>r2_train</th>\n",
              "      <td>0.616217</td>\n",
              "      <td>0.145450</td>\n",
              "      <td>0.634456</td>\n",
              "    </tr>\n",
              "    <tr>\n",
              "      <th>MSE_test</th>\n",
              "      <td>3364.076265</td>\n",
              "      <td>181.425640</td>\n",
              "      <td>2778.814421</td>\n",
              "    </tr>\n",
              "    <tr>\n",
              "      <th>MSE_train</th>\n",
              "      <td>3467.430215</td>\n",
              "      <td>188.170446</td>\n",
              "      <td>2751.775258</td>\n",
              "    </tr>\n",
              "    <tr>\n",
              "      <th>count</th>\n",
              "      <td>17356.000000</td>\n",
              "      <td>13017.000000</td>\n",
              "      <td>1779.000000</td>\n",
              "    </tr>\n",
              "  </tbody>\n",
              "</table>\n",
              "</div>"
            ],
            "text/plain": [
              "                 model1        model2       model3\n",
              "name                                              \n",
              "r2_test        0.587987      0.152923     0.451731\n",
              "r2_train       0.616217      0.145450     0.634456\n",
              "MSE_test    3364.076265    181.425640  2778.814421\n",
              "MSE_train   3467.430215    188.170446  2751.775258\n",
              "count      17356.000000  13017.000000  1779.000000"
            ]
          },
          "metadata": {
            "tags": []
          },
          "execution_count": 295
        }
      ]
    },
    {
      "cell_type": "markdown",
      "metadata": {
        "id": "q2mrMHf77zdb"
      },
      "source": [
        "Il semblerait que l'ajout de variables supplémentaires diminue la qualité de la prédiction. En effet, on passe d'un $R^2$ de 59% à 45%, même si on diminue l'erreur quadratique."
      ]
    },
    {
      "cell_type": "markdown",
      "metadata": {
        "id": "Kin-EN9tnDzR"
      },
      "source": [
        "## Régression tronquée"
      ]
    },
    {
      "cell_type": "markdown",
      "metadata": {
        "id": "--qIEUlvmMrX"
      },
      "source": [
        "Sur les 1er et 3e quartiles. "
      ]
    },
    {
      "cell_type": "code",
      "metadata": {
        "id": "N_VtJwbXmFu7"
      },
      "source": [
        "first_quart = np.percentile(df_2.score_1, 25)\n",
        "third_quart = np.percentile(df_2.score_1, 75)\n",
        "\n",
        "# Filtration des données\n",
        "df_quart = df_2[df_2.score_1 > first_quart]\n",
        "df_quart = df_2[df_2.score_1 < third_quart]\n",
        "\n",
        "# Création des variables nécessaires\n",
        "X2 = pd.DataFrame(np.c_[df_quart.budget, df_quart.revenue], columns= ['budget', 'revenue'])\n",
        "Y2 = df_quart.score_1\n",
        "X_train4, X_test4, Y_train4, Y_test4 = train_test_split(X2, Y2, test_size = 0.2, random_state=5)\n"
      ],
      "execution_count": null,
      "outputs": []
    },
    {
      "cell_type": "code",
      "metadata": {
        "colab": {
          "base_uri": "https://localhost:8080/"
        },
        "id": "JqJYXJpN4Bs6",
        "outputId": "708b1421-0f8e-4e64-c25c-bfc18c99a71a"
      },
      "source": [
        "model4 = linear_model(X_train4, Y_train4, X_test4, Y_test4)"
      ],
      "execution_count": null,
      "outputs": [
        {
          "output_type": "stream",
          "text": [
            "Performance du modèle sur la base d'apprentissage\n",
            "--------------------------------------\n",
            "L'erreur quadratique moyenne est 173.1820015609836\n",
            "Le score R² est 0.20264541422578397\n",
            "\n",
            "\n",
            "Performance du modèle sur la base de test\n",
            "--------------------------------------\n",
            "L'erreur quadratique moyenne est 160.19713029033295\n",
            "Le score R² est 0.21978490918629323\n",
            "\n",
            "\n"
          ],
          "name": "stdout"
        }
      ]
    },
    {
      "cell_type": "code",
      "metadata": {
        "colab": {
          "base_uri": "https://localhost:8080/",
          "height": 235
        },
        "id": "wbO2SNBpHVhu",
        "outputId": "d13e146d-46e3-4e6c-a0b8-0b2db86f438a"
      },
      "source": [
        "l = []\n",
        "l.extend(model4[2:])\n",
        "l.append(len(X2))\n",
        "\n",
        "table_resultats['model4'] = l\n",
        "table_resultats"
      ],
      "execution_count": null,
      "outputs": [
        {
          "output_type": "execute_result",
          "data": {
            "text/html": [
              "<div>\n",
              "<style scoped>\n",
              "    .dataframe tbody tr th:only-of-type {\n",
              "        vertical-align: middle;\n",
              "    }\n",
              "\n",
              "    .dataframe tbody tr th {\n",
              "        vertical-align: top;\n",
              "    }\n",
              "\n",
              "    .dataframe thead th {\n",
              "        text-align: right;\n",
              "    }\n",
              "</style>\n",
              "<table border=\"1\" class=\"dataframe\">\n",
              "  <thead>\n",
              "    <tr style=\"text-align: right;\">\n",
              "      <th></th>\n",
              "      <th>model1</th>\n",
              "      <th>model2</th>\n",
              "      <th>model3</th>\n",
              "      <th>model4</th>\n",
              "    </tr>\n",
              "    <tr>\n",
              "      <th>name</th>\n",
              "      <th></th>\n",
              "      <th></th>\n",
              "      <th></th>\n",
              "      <th></th>\n",
              "    </tr>\n",
              "  </thead>\n",
              "  <tbody>\n",
              "    <tr>\n",
              "      <th>r2_test</th>\n",
              "      <td>0.587987</td>\n",
              "      <td>0.152923</td>\n",
              "      <td>0.451731</td>\n",
              "      <td>0.219785</td>\n",
              "    </tr>\n",
              "    <tr>\n",
              "      <th>r2_train</th>\n",
              "      <td>0.616217</td>\n",
              "      <td>0.145450</td>\n",
              "      <td>0.634456</td>\n",
              "      <td>0.202645</td>\n",
              "    </tr>\n",
              "    <tr>\n",
              "      <th>MSE_test</th>\n",
              "      <td>3364.076265</td>\n",
              "      <td>181.425640</td>\n",
              "      <td>2778.814421</td>\n",
              "      <td>160.197130</td>\n",
              "    </tr>\n",
              "    <tr>\n",
              "      <th>MSE_train</th>\n",
              "      <td>3467.430215</td>\n",
              "      <td>188.170446</td>\n",
              "      <td>2751.775258</td>\n",
              "      <td>173.182002</td>\n",
              "    </tr>\n",
              "    <tr>\n",
              "      <th>count</th>\n",
              "      <td>17356.000000</td>\n",
              "      <td>13017.000000</td>\n",
              "      <td>1779.000000</td>\n",
              "      <td>1334.000000</td>\n",
              "    </tr>\n",
              "  </tbody>\n",
              "</table>\n",
              "</div>"
            ],
            "text/plain": [
              "                 model1        model2       model3       model4\n",
              "name                                                           \n",
              "r2_test        0.587987      0.152923     0.451731     0.219785\n",
              "r2_train       0.616217      0.145450     0.634456     0.202645\n",
              "MSE_test    3364.076265    181.425640  2778.814421   160.197130\n",
              "MSE_train   3467.430215    188.170446  2751.775258   173.182002\n",
              "count      17356.000000  13017.000000  1779.000000  1334.000000"
            ]
          },
          "metadata": {
            "tags": []
          },
          "execution_count": 298
        }
      ]
    },
    {
      "cell_type": "markdown",
      "metadata": {
        "id": "Z4jgb2LCmkqV"
      },
      "source": [
        "On a encore diminué l'erreur quadratique moyenne par rapport aux premières régressions linéaires mais le $R^2$ est toujours très très faible ce qui indique une mauvaise qualité de la prédiction. Il faut noter que si on a rajouté deux features pertinents à la régression, ce rajout nous a fait perdre de l'information puisque l'échantillon a été diminué à 1779 films."
      ]
    },
    {
      "cell_type": "markdown",
      "metadata": {
        "id": "Vt8G3qNm90F0"
      },
      "source": [
        "## Comparaison graphique des deux régressions"
      ]
    },
    {
      "cell_type": "code",
      "metadata": {
        "id": "kbYC52LtS7TO",
        "colab": {
          "base_uri": "https://localhost:8080/",
          "height": 1000
        },
        "outputId": "16d3d0d1-4c07-48f2-e7ea-3df4ccaf36c0"
      },
      "source": [
        "plot(Y_test,model3[1])\n",
        "plt.title('Prédiction de la variable score_1 par le budget, le revenu, sentiment et rating \\n Base entière')\n",
        "\n",
        "plot(Y_test2, model4[1])\n",
        "plt.title('Prédiction de la variable score_1 par le budget, le revenu, sentiment et rating \\n Valeurs de score_1 entre les 1er et 3ème quartiles')\n",
        "\n",
        "plt.show()"
      ],
      "execution_count": null,
      "outputs": [
        {
          "output_type": "stream",
          "text": [
            "/usr/local/lib/python3.6/dist-packages/seaborn/distributions.py:2551: FutureWarning:\n",
            "\n",
            "`distplot` is a deprecated function and will be removed in a future version. Please adapt your code to use either `displot` (a figure-level function with similar flexibility) or `histplot` (an axes-level function for histograms).\n",
            "\n",
            "/usr/local/lib/python3.6/dist-packages/seaborn/distributions.py:2551: FutureWarning:\n",
            "\n",
            "`distplot` is a deprecated function and will be removed in a future version. Please adapt your code to use either `displot` (a figure-level function with similar flexibility) or `histplot` (an axes-level function for histograms).\n",
            "\n",
            "/usr/local/lib/python3.6/dist-packages/seaborn/distributions.py:2551: FutureWarning:\n",
            "\n",
            "`distplot` is a deprecated function and will be removed in a future version. Please adapt your code to use either `displot` (a figure-level function with similar flexibility) or `histplot` (an axes-level function for histograms).\n",
            "\n",
            "/usr/local/lib/python3.6/dist-packages/seaborn/distributions.py:2551: FutureWarning:\n",
            "\n",
            "`distplot` is a deprecated function and will be removed in a future version. Please adapt your code to use either `displot` (a figure-level function with similar flexibility) or `histplot` (an axes-level function for histograms).\n",
            "\n"
          ],
          "name": "stderr"
        },
        {
          "output_type": "display_data",
          "data": {
            "image/png": "[encoded data removed]",
            "text/plain": [
              "<Figure size 576x360 with 1 Axes>"
            ]
          },
          "metadata": {
            "tags": [],
            "needs_background": "light"
          }
        },
        {
          "output_type": "display_data",
          "data": {
            "image/png": "[encoded data removed]",
            "text/plain": [
              "<Figure size 576x360 with 1 Axes>"
            ]
          },
          "metadata": {
            "tags": [],
            "needs_background": "light"
          }
        }
      ]
    },
    {
      "cell_type": "markdown",
      "metadata": {
        "id": "a-d9e5hfG-os"
      },
      "source": [
        "Sur ces graphiques, on voit qu'il est nettement plus adapté de faire tourner la régression sur la base entière. En effet, la précision du modèle est grandement accrue sur les données complètes. "
      ]
    },
    {
      "cell_type": "markdown",
      "metadata": {
        "id": "CS16GdcSG-Xc"
      },
      "source": [
        "## Conclusion sur l'ajout de variables explicatives"
      ]
    },
    {
      "cell_type": "markdown",
      "metadata": {
        "id": "MYQhaLs4L7HX"
      },
      "source": [
        "Observons les graphiques des régressions complètes en fonction des variables explicatives choisies :"
      ]
    },
    {
      "cell_type": "code",
      "metadata": {
        "id": "a0rVwGUOG-F1",
        "colab": {
          "base_uri": "https://localhost:8080/",
          "height": 592
        },
        "outputId": "caddb280-f9b5-4d45-875f-6ce3f856b419"
      },
      "source": [
        "fig, ax = plt.subplots(figsize=(8,5))\r\n",
        "p1 = sns.distplot(Y_test, label = 'Vraie valeur', hist = False)\r\n",
        "p2 = sns.distplot(model1[1], label = 'Prédiction - Budget et revenu uniquement', hist = False)\r\n",
        "p3 = sns.distplot(model3[1], label = 'Prédiction - Budget, revenu, sentiment et rating', hist = False)\r\n",
        "ax.set(xlabel= 'Valeur de score_1', ylabel = 'Densité')\r\n",
        "fig.legend(labels=['Vraie valeur','Prédiction - Budget et revenu uniquement','Prédiction - Budget, revenu, sentiment et rating' ], loc = (0.4, 0.7))\r\n",
        "plt.title('Résultats des deux régressions pour la prédiction de score_1')"
      ],
      "execution_count": null,
      "outputs": [
        {
          "output_type": "stream",
          "text": [
            "/usr/local/lib/python3.6/dist-packages/seaborn/distributions.py:2551: FutureWarning:\n",
            "\n",
            "`distplot` is a deprecated function and will be removed in a future version. Please adapt your code to use either `displot` (a figure-level function with similar flexibility) or `kdeplot` (an axes-level function for kernel density plots).\n",
            "\n",
            "/usr/local/lib/python3.6/dist-packages/seaborn/distributions.py:2551: FutureWarning:\n",
            "\n",
            "`distplot` is a deprecated function and will be removed in a future version. Please adapt your code to use either `displot` (a figure-level function with similar flexibility) or `kdeplot` (an axes-level function for kernel density plots).\n",
            "\n",
            "/usr/local/lib/python3.6/dist-packages/seaborn/distributions.py:2551: FutureWarning:\n",
            "\n",
            "`distplot` is a deprecated function and will be removed in a future version. Please adapt your code to use either `displot` (a figure-level function with similar flexibility) or `kdeplot` (an axes-level function for kernel density plots).\n",
            "\n"
          ],
          "name": "stderr"
        },
        {
          "output_type": "execute_result",
          "data": {
            "text/plain": [
              "Text(0.5, 1.0, 'Résultats des deux régressions pour la prédiction de score_1')"
            ]
          },
          "metadata": {
            "tags": []
          },
          "execution_count": 302
        },
        {
          "output_type": "display_data",
          "data": {
            "image/png": "[encoded data removed]",
            "text/plain": [
              "<Figure size 576x360 with 1 Axes>"
            ]
          },
          "metadata": {
            "tags": [],
            "needs_background": "light"
          }
        }
      ]
    },
    {
      "cell_type": "markdown",
      "metadata": {
        "id": "wigg-vn9Napp"
      },
      "source": [
        "Grâce à ce graphique, on constate que l'ajout de variables explicatives permet de mieux se rapprocher de la courbe des vraies valeurs, bien que le $R^2$ de cette régression eut été plus faible que celui de la régression sur le budget et le revenu uniquement."
      ]
    },
    {
      "cell_type": "markdown",
      "metadata": {
        "id": "wotHWX45o0K1"
      },
      "source": [
        "# Ajout du semi-supervisé sur les commentaires"
      ]
    },
    {
      "cell_type": "markdown",
      "metadata": {
        "id": "rofusQa_pJ04"
      },
      "source": [
        "Le dernier modèle a été un peu amélioré mais l'échantillon ayant beaucoup été diminué, on va essayer d'inclure davantage de commentaires pour améliorer la régression linéaire sur un sous-ensemble plus important de notre base."
      ]
    },
    {
      "cell_type": "code",
      "metadata": {
        "id": "a0EG4ENNo77u"
      },
      "source": [
        "# IMPORTER LE FICHIER UNSUP_FILTERED.CSV.ZIP\n",
        "with zipfile.ZipFile(r'unsup_filtered_review.csv.zip', 'r') as zip :\n",
        "      zip.extractall('temp_dir')\n",
        "\n",
        "unsup_filtered = pd.read_csv(r'temp_dir/unsup_filtered_review.csv', sep=',', low_memory = False)\n",
        "\n"
      ],
      "execution_count": null,
      "outputs": []
    },
    {
      "cell_type": "code",
      "metadata": {
        "colab": {
          "base_uri": "https://localhost:8080/",
          "height": 204
        },
        "id": "ooT9RMBP6mCy",
        "outputId": "f2ba8b51-1315-4543-ab4d-f51f46e6d2a7"
      },
      "source": [
        "unsup_filtered.head()"
      ],
      "execution_count": null,
      "outputs": [
        {
          "output_type": "execute_result",
          "data": {
            "text/html": [
              "<div>\n",
              "<style scoped>\n",
              "    .dataframe tbody tr th:only-of-type {\n",
              "        vertical-align: middle;\n",
              "    }\n",
              "\n",
              "    .dataframe tbody tr th {\n",
              "        vertical-align: top;\n",
              "    }\n",
              "\n",
              "    .dataframe thead th {\n",
              "        text-align: right;\n",
              "    }\n",
              "</style>\n",
              "<table border=\"1\" class=\"dataframe\">\n",
              "  <thead>\n",
              "    <tr style=\"text-align: right;\">\n",
              "      <th></th>\n",
              "      <th>Unnamed: 0</th>\n",
              "      <th>Unnamed: 0.1</th>\n",
              "      <th>review</th>\n",
              "      <th>url_code</th>\n",
              "      <th>code_url</th>\n",
              "      <th>imdb_id</th>\n",
              "    </tr>\n",
              "  </thead>\n",
              "  <tbody>\n",
              "    <tr>\n",
              "      <th>0</th>\n",
              "      <td>2</td>\n",
              "      <td>2</td>\n",
              "      <td>Very good film from director Wyler, although i...</td>\n",
              "      <td>1597</td>\n",
              "      <td>1597</td>\n",
              "      <td>tt0030287</td>\n",
              "    </tr>\n",
              "    <tr>\n",
              "      <th>1</th>\n",
              "      <td>3</td>\n",
              "      <td>3</td>\n",
              "      <td>This flick will pass the time, and Kurt Russle...</td>\n",
              "      <td>27082</td>\n",
              "      <td>27082</td>\n",
              "      <td>tt0089572</td>\n",
              "    </tr>\n",
              "    <tr>\n",
              "      <th>2</th>\n",
              "      <td>5</td>\n",
              "      <td>5</td>\n",
              "      <td>Here is another of those films that got panned...</td>\n",
              "      <td>30084</td>\n",
              "      <td>30084</td>\n",
              "      <td>tt0163978</td>\n",
              "    </tr>\n",
              "    <tr>\n",
              "      <th>3</th>\n",
              "      <td>6</td>\n",
              "      <td>6</td>\n",
              "      <td>Not sure how a filmmaker as prolific as Joel \"...</td>\n",
              "      <td>6087</td>\n",
              "      <td>6087</td>\n",
              "      <td>tt0450336</td>\n",
              "    </tr>\n",
              "    <tr>\n",
              "      <th>4</th>\n",
              "      <td>7</td>\n",
              "      <td>7</td>\n",
              "      <td>What? I watched this movie with my two young n...</td>\n",
              "      <td>49665</td>\n",
              "      <td>49665</td>\n",
              "      <td>tt0457419</td>\n",
              "    </tr>\n",
              "  </tbody>\n",
              "</table>\n",
              "</div>"
            ],
            "text/plain": [
              "   Unnamed: 0  Unnamed: 0.1  ... code_url    imdb_id\n",
              "0           2             2  ...     1597  tt0030287\n",
              "1           3             3  ...    27082  tt0089572\n",
              "2           5             5  ...    30084  tt0163978\n",
              "3           6             6  ...     6087  tt0450336\n",
              "4           7             7  ...    49665  tt0457419\n",
              "\n",
              "[5 rows x 6 columns]"
            ]
          },
          "metadata": {
            "tags": []
          },
          "execution_count": 103
        }
      ]
    },
    {
      "cell_type": "markdown",
      "metadata": {
        "id": "3UibnncOgNHm"
      },
      "source": [
        "## Pseudo-labelisation des commentaires"
      ]
    },
    {
      "cell_type": "markdown",
      "metadata": {
        "id": "1Nyh-7k2Qx0J"
      },
      "source": [
        "On va utiliser notre outil d'analyse sentiment sur cette base pour agrandir la base des commentaires. "
      ]
    },
    {
      "cell_type": "code",
      "metadata": {
        "id": "pKOamDhrSpvV"
      },
      "source": [
        "x_train = review_filtered.loc[:n_max-1, 'review'].values\n",
        "y_train = review_filtered.loc[:n_max-1, 'sentiment'].values\n",
        "x_test = review_filtered.loc[n_max:,'review'].values\n",
        "y_test = review_filtered.loc[n_max:,'sentiment'].values\n",
        "x_test_ul = unsup_filtered['review'].values"
      ],
      "execution_count": null,
      "outputs": []
    },
    {
      "cell_type": "code",
      "metadata": {
        "id": "JsGTiGRudyyx",
        "colab": {
          "base_uri": "https://localhost:8080/",
          "height": 204
        },
        "outputId": "008b2b12-266e-42d4-98bc-329504f97f88"
      },
      "source": [
        "review_filtered = review_filtered.drop(columns=['index','rating'])\n",
        "review_filtered.head()"
      ],
      "execution_count": null,
      "outputs": [
        {
          "output_type": "execute_result",
          "data": {
            "text/html": [
              "<div>\n",
              "<style scoped>\n",
              "    .dataframe tbody tr th:only-of-type {\n",
              "        vertical-align: middle;\n",
              "    }\n",
              "\n",
              "    .dataframe tbody tr th {\n",
              "        vertical-align: top;\n",
              "    }\n",
              "\n",
              "    .dataframe thead th {\n",
              "        text-align: right;\n",
              "    }\n",
              "</style>\n",
              "<table border=\"1\" class=\"dataframe\">\n",
              "  <thead>\n",
              "    <tr style=\"text-align: right;\">\n",
              "      <th></th>\n",
              "      <th>review</th>\n",
              "      <th>sentiment</th>\n",
              "      <th>url_code</th>\n",
              "      <th>imdb_id</th>\n",
              "      <th>code_url</th>\n",
              "    </tr>\n",
              "  </thead>\n",
              "  <tbody>\n",
              "    <tr>\n",
              "      <th>0</th>\n",
              "      <td>Well...tremors I, the original started off in ...</td>\n",
              "      <td>0</td>\n",
              "      <td>10402</td>\n",
              "      <td>tt0334541</td>\n",
              "      <td>10402</td>\n",
              "    </tr>\n",
              "    <tr>\n",
              "      <th>1</th>\n",
              "      <td>Ouch! This one was a bit painful to sit throug...</td>\n",
              "      <td>0</td>\n",
              "      <td>1062</td>\n",
              "      <td>tt0043809</td>\n",
              "      <td>1062</td>\n",
              "    </tr>\n",
              "    <tr>\n",
              "      <th>2</th>\n",
              "      <td>I've seen some crappy movies in my life, but t...</td>\n",
              "      <td>0</td>\n",
              "      <td>9056</td>\n",
              "      <td>tt0219400</td>\n",
              "      <td>9056</td>\n",
              "    </tr>\n",
              "    <tr>\n",
              "      <th>3</th>\n",
              "      <td>\"Carriers\" follows the exploits of two guys an...</td>\n",
              "      <td>0</td>\n",
              "      <td>5392</td>\n",
              "      <td>tt0806203</td>\n",
              "      <td>5392</td>\n",
              "    </tr>\n",
              "    <tr>\n",
              "      <th>4</th>\n",
              "      <td>I had been looking forward to seeing this film...</td>\n",
              "      <td>0</td>\n",
              "      <td>2682</td>\n",
              "      <td>tt0120620</td>\n",
              "      <td>2682</td>\n",
              "    </tr>\n",
              "  </tbody>\n",
              "</table>\n",
              "</div>"
            ],
            "text/plain": [
              "                                              review  ...  code_url\n",
              "0  Well...tremors I, the original started off in ...  ...     10402\n",
              "1  Ouch! This one was a bit painful to sit throug...  ...      1062\n",
              "2  I've seen some crappy movies in my life, but t...  ...      9056\n",
              "3  \"Carriers\" follows the exploits of two guys an...  ...      5392\n",
              "4  I had been looking forward to seeing this film...  ...      2682\n",
              "\n",
              "[5 rows x 5 columns]"
            ]
          },
          "metadata": {
            "tags": []
          },
          "execution_count": 304
        }
      ]
    },
    {
      "cell_type": "code",
      "metadata": {
        "id": "7UPFh9jCd0_5",
        "colab": {
          "base_uri": "https://localhost:8080/",
          "height": 307
        },
        "outputId": "8a187f17-02f2-4262-f4a7-3f2b8f55481b"
      },
      "source": [
        "unsup_filtered = unsup_filtered.drop(columns='Unnamed: 0')"
      ],
      "execution_count": null,
      "outputs": [
        {
          "output_type": "error",
          "ename": "KeyError",
          "evalue": "ignored",
          "traceback": [
            "\u001b[0;31m---------------------------------------------------------------------------\u001b[0m",
            "\u001b[0;31mKeyError\u001b[0m                                  Traceback (most recent call last)",
            "\u001b[0;32m<ipython-input-305-a786758da15b>\u001b[0m in \u001b[0;36m<module>\u001b[0;34m()\u001b[0m\n\u001b[0;32m----> 1\u001b[0;31m \u001b[0munsup_filtered\u001b[0m \u001b[0;34m=\u001b[0m \u001b[0munsup_filtered\u001b[0m\u001b[0;34m.\u001b[0m\u001b[0mdrop\u001b[0m\u001b[0;34m(\u001b[0m\u001b[0mcolumns\u001b[0m\u001b[0;34m=\u001b[0m\u001b[0;34m'Unnamed: 0'\u001b[0m\u001b[0;34m)\u001b[0m\u001b[0;34m\u001b[0m\u001b[0;34m\u001b[0m\u001b[0m\n\u001b[0m",
            "\u001b[0;32m/usr/local/lib/python3.6/dist-packages/pandas/core/frame.py\u001b[0m in \u001b[0;36mdrop\u001b[0;34m(self, labels, axis, index, columns, level, inplace, errors)\u001b[0m\n\u001b[1;32m   4172\u001b[0m             \u001b[0mlevel\u001b[0m\u001b[0;34m=\u001b[0m\u001b[0mlevel\u001b[0m\u001b[0;34m,\u001b[0m\u001b[0;34m\u001b[0m\u001b[0;34m\u001b[0m\u001b[0m\n\u001b[1;32m   4173\u001b[0m             \u001b[0minplace\u001b[0m\u001b[0;34m=\u001b[0m\u001b[0minplace\u001b[0m\u001b[0;34m,\u001b[0m\u001b[0;34m\u001b[0m\u001b[0;34m\u001b[0m\u001b[0m\n\u001b[0;32m-> 4174\u001b[0;31m             \u001b[0merrors\u001b[0m\u001b[0;34m=\u001b[0m\u001b[0merrors\u001b[0m\u001b[0;34m,\u001b[0m\u001b[0;34m\u001b[0m\u001b[0;34m\u001b[0m\u001b[0m\n\u001b[0m\u001b[1;32m   4175\u001b[0m         )\n\u001b[1;32m   4176\u001b[0m \u001b[0;34m\u001b[0m\u001b[0m\n",
            "\u001b[0;32m/usr/local/lib/python3.6/dist-packages/pandas/core/generic.py\u001b[0m in \u001b[0;36mdrop\u001b[0;34m(self, labels, axis, index, columns, level, inplace, errors)\u001b[0m\n\u001b[1;32m   3887\u001b[0m         \u001b[0;32mfor\u001b[0m \u001b[0maxis\u001b[0m\u001b[0;34m,\u001b[0m \u001b[0mlabels\u001b[0m \u001b[0;32min\u001b[0m \u001b[0maxes\u001b[0m\u001b[0;34m.\u001b[0m\u001b[0mitems\u001b[0m\u001b[0;34m(\u001b[0m\u001b[0;34m)\u001b[0m\u001b[0;34m:\u001b[0m\u001b[0;34m\u001b[0m\u001b[0;34m\u001b[0m\u001b[0m\n\u001b[1;32m   3888\u001b[0m             \u001b[0;32mif\u001b[0m \u001b[0mlabels\u001b[0m \u001b[0;32mis\u001b[0m \u001b[0;32mnot\u001b[0m \u001b[0;32mNone\u001b[0m\u001b[0;34m:\u001b[0m\u001b[0;34m\u001b[0m\u001b[0;34m\u001b[0m\u001b[0m\n\u001b[0;32m-> 3889\u001b[0;31m                 \u001b[0mobj\u001b[0m \u001b[0;34m=\u001b[0m \u001b[0mobj\u001b[0m\u001b[0;34m.\u001b[0m\u001b[0m_drop_axis\u001b[0m\u001b[0;34m(\u001b[0m\u001b[0mlabels\u001b[0m\u001b[0;34m,\u001b[0m \u001b[0maxis\u001b[0m\u001b[0;34m,\u001b[0m \u001b[0mlevel\u001b[0m\u001b[0;34m=\u001b[0m\u001b[0mlevel\u001b[0m\u001b[0;34m,\u001b[0m \u001b[0merrors\u001b[0m\u001b[0;34m=\u001b[0m\u001b[0merrors\u001b[0m\u001b[0;34m)\u001b[0m\u001b[0;34m\u001b[0m\u001b[0;34m\u001b[0m\u001b[0m\n\u001b[0m\u001b[1;32m   3890\u001b[0m \u001b[0;34m\u001b[0m\u001b[0m\n\u001b[1;32m   3891\u001b[0m         \u001b[0;32mif\u001b[0m \u001b[0minplace\u001b[0m\u001b[0;34m:\u001b[0m\u001b[0;34m\u001b[0m\u001b[0;34m\u001b[0m\u001b[0m\n",
            "\u001b[0;32m/usr/local/lib/python3.6/dist-packages/pandas/core/generic.py\u001b[0m in \u001b[0;36m_drop_axis\u001b[0;34m(self, labels, axis, level, errors)\u001b[0m\n\u001b[1;32m   3921\u001b[0m                 \u001b[0mnew_axis\u001b[0m \u001b[0;34m=\u001b[0m \u001b[0maxis\u001b[0m\u001b[0;34m.\u001b[0m\u001b[0mdrop\u001b[0m\u001b[0;34m(\u001b[0m\u001b[0mlabels\u001b[0m\u001b[0;34m,\u001b[0m \u001b[0mlevel\u001b[0m\u001b[0;34m=\u001b[0m\u001b[0mlevel\u001b[0m\u001b[0;34m,\u001b[0m \u001b[0merrors\u001b[0m\u001b[0;34m=\u001b[0m\u001b[0merrors\u001b[0m\u001b[0;34m)\u001b[0m\u001b[0;34m\u001b[0m\u001b[0;34m\u001b[0m\u001b[0m\n\u001b[1;32m   3922\u001b[0m             \u001b[0;32melse\u001b[0m\u001b[0;34m:\u001b[0m\u001b[0;34m\u001b[0m\u001b[0;34m\u001b[0m\u001b[0m\n\u001b[0;32m-> 3923\u001b[0;31m                 \u001b[0mnew_axis\u001b[0m \u001b[0;34m=\u001b[0m \u001b[0maxis\u001b[0m\u001b[0;34m.\u001b[0m\u001b[0mdrop\u001b[0m\u001b[0;34m(\u001b[0m\u001b[0mlabels\u001b[0m\u001b[0;34m,\u001b[0m \u001b[0merrors\u001b[0m\u001b[0;34m=\u001b[0m\u001b[0merrors\u001b[0m\u001b[0;34m)\u001b[0m\u001b[0;34m\u001b[0m\u001b[0;34m\u001b[0m\u001b[0m\n\u001b[0m\u001b[1;32m   3924\u001b[0m             \u001b[0mresult\u001b[0m \u001b[0;34m=\u001b[0m \u001b[0mself\u001b[0m\u001b[0;34m.\u001b[0m\u001b[0mreindex\u001b[0m\u001b[0;34m(\u001b[0m\u001b[0;34m**\u001b[0m\u001b[0;34m{\u001b[0m\u001b[0maxis_name\u001b[0m\u001b[0;34m:\u001b[0m \u001b[0mnew_axis\u001b[0m\u001b[0;34m}\u001b[0m\u001b[0;34m)\u001b[0m\u001b[0;34m\u001b[0m\u001b[0;34m\u001b[0m\u001b[0m\n\u001b[1;32m   3925\u001b[0m \u001b[0;34m\u001b[0m\u001b[0m\n",
            "\u001b[0;32m/usr/local/lib/python3.6/dist-packages/pandas/core/indexes/base.py\u001b[0m in \u001b[0;36mdrop\u001b[0;34m(self, labels, errors)\u001b[0m\n\u001b[1;32m   5285\u001b[0m         \u001b[0;32mif\u001b[0m \u001b[0mmask\u001b[0m\u001b[0;34m.\u001b[0m\u001b[0many\u001b[0m\u001b[0;34m(\u001b[0m\u001b[0;34m)\u001b[0m\u001b[0;34m:\u001b[0m\u001b[0;34m\u001b[0m\u001b[0;34m\u001b[0m\u001b[0m\n\u001b[1;32m   5286\u001b[0m             \u001b[0;32mif\u001b[0m \u001b[0merrors\u001b[0m \u001b[0;34m!=\u001b[0m \u001b[0;34m\"ignore\"\u001b[0m\u001b[0;34m:\u001b[0m\u001b[0;34m\u001b[0m\u001b[0;34m\u001b[0m\u001b[0m\n\u001b[0;32m-> 5287\u001b[0;31m                 \u001b[0;32mraise\u001b[0m \u001b[0mKeyError\u001b[0m\u001b[0;34m(\u001b[0m\u001b[0;34mf\"{labels[mask]} not found in axis\"\u001b[0m\u001b[0;34m)\u001b[0m\u001b[0;34m\u001b[0m\u001b[0;34m\u001b[0m\u001b[0m\n\u001b[0m\u001b[1;32m   5288\u001b[0m             \u001b[0mindexer\u001b[0m \u001b[0;34m=\u001b[0m \u001b[0mindexer\u001b[0m\u001b[0;34m[\u001b[0m\u001b[0;34m~\u001b[0m\u001b[0mmask\u001b[0m\u001b[0;34m]\u001b[0m\u001b[0;34m\u001b[0m\u001b[0;34m\u001b[0m\u001b[0m\n\u001b[1;32m   5289\u001b[0m         \u001b[0;32mreturn\u001b[0m \u001b[0mself\u001b[0m\u001b[0;34m.\u001b[0m\u001b[0mdelete\u001b[0m\u001b[0;34m(\u001b[0m\u001b[0mindexer\u001b[0m\u001b[0;34m)\u001b[0m\u001b[0;34m\u001b[0m\u001b[0;34m\u001b[0m\u001b[0m\n",
            "\u001b[0;31mKeyError\u001b[0m: \"['Unnamed: 0'] not found in axis\""
          ]
        }
      ]
    },
    {
      "cell_type": "code",
      "metadata": {
        "id": "qa_P3aj6eM9V",
        "colab": {
          "base_uri": "https://localhost:8080/",
          "height": 204
        },
        "outputId": "481c3a6e-f547-44f5-93ac-79b690ccbb7b"
      },
      "source": [
        "unsup_filtered.head()"
      ],
      "execution_count": null,
      "outputs": [
        {
          "output_type": "execute_result",
          "data": {
            "text/html": [
              "<div>\n",
              "<style scoped>\n",
              "    .dataframe tbody tr th:only-of-type {\n",
              "        vertical-align: middle;\n",
              "    }\n",
              "\n",
              "    .dataframe tbody tr th {\n",
              "        vertical-align: top;\n",
              "    }\n",
              "\n",
              "    .dataframe thead th {\n",
              "        text-align: right;\n",
              "    }\n",
              "</style>\n",
              "<table border=\"1\" class=\"dataframe\">\n",
              "  <thead>\n",
              "    <tr style=\"text-align: right;\">\n",
              "      <th></th>\n",
              "      <th>Unnamed: 0.1</th>\n",
              "      <th>review</th>\n",
              "      <th>url_code</th>\n",
              "      <th>code_url</th>\n",
              "      <th>imdb_id</th>\n",
              "    </tr>\n",
              "  </thead>\n",
              "  <tbody>\n",
              "    <tr>\n",
              "      <th>0</th>\n",
              "      <td>2</td>\n",
              "      <td>Very good film from director Wyler, although i...</td>\n",
              "      <td>1597</td>\n",
              "      <td>1597</td>\n",
              "      <td>tt0030287</td>\n",
              "    </tr>\n",
              "    <tr>\n",
              "      <th>1</th>\n",
              "      <td>3</td>\n",
              "      <td>This flick will pass the time, and Kurt Russle...</td>\n",
              "      <td>27082</td>\n",
              "      <td>27082</td>\n",
              "      <td>tt0089572</td>\n",
              "    </tr>\n",
              "    <tr>\n",
              "      <th>2</th>\n",
              "      <td>5</td>\n",
              "      <td>Here is another of those films that got panned...</td>\n",
              "      <td>30084</td>\n",
              "      <td>30084</td>\n",
              "      <td>tt0163978</td>\n",
              "    </tr>\n",
              "    <tr>\n",
              "      <th>3</th>\n",
              "      <td>6</td>\n",
              "      <td>Not sure how a filmmaker as prolific as Joel \"...</td>\n",
              "      <td>6087</td>\n",
              "      <td>6087</td>\n",
              "      <td>tt0450336</td>\n",
              "    </tr>\n",
              "    <tr>\n",
              "      <th>4</th>\n",
              "      <td>7</td>\n",
              "      <td>What? I watched this movie with my two young n...</td>\n",
              "      <td>49665</td>\n",
              "      <td>49665</td>\n",
              "      <td>tt0457419</td>\n",
              "    </tr>\n",
              "  </tbody>\n",
              "</table>\n",
              "</div>"
            ],
            "text/plain": [
              "   Unnamed: 0.1  ...    imdb_id\n",
              "0             2  ...  tt0030287\n",
              "1             3  ...  tt0089572\n",
              "2             5  ...  tt0163978\n",
              "3             6  ...  tt0450336\n",
              "4             7  ...  tt0457419\n",
              "\n",
              "[5 rows x 5 columns]"
            ]
          },
          "metadata": {
            "tags": []
          },
          "execution_count": 306
        }
      ]
    },
    {
      "cell_type": "markdown",
      "metadata": {
        "id": "X1xoGbt8b2uP"
      },
      "source": [
        "On utilise notre classificateur naïf de bayes (pour la rapidité) qu'en entraîne avec les données labelisées."
      ]
    },
    {
      "cell_type": "code",
      "metadata": {
        "id": "R4CvNcV5bIfT"
      },
      "source": [
        "from sklearn.naive_bayes import MultinomialNB\n",
        "from sklearn.feature_extraction.text import TfidfTransformer\n",
        "from sklearn.feature_extraction.text import TfidfVectorizer\n",
        "\n",
        "vectorizer = TfidfVectorizer()\n",
        "train_vectors = vectorizer.fit_transform(x_train)\n",
        "test_vectors = vectorizer.transform(x_test)\n",
        "clf = MultinomialNB().fit(train_vectors, y_train)\n",
        "\n",
        "from  sklearn.metrics  import accuracy_score\n",
        "predicted = clf.predict(test_vectors)"
      ],
      "execution_count": null,
      "outputs": []
    },
    {
      "cell_type": "markdown",
      "metadata": {
        "id": "0niU9WnncFdl"
      },
      "source": [
        "On l'applique aux données non labelisées. On va créer une fonction qui prend en argument la proportion du sample que dont on prédit la labelisation."
      ]
    },
    {
      "cell_type": "code",
      "metadata": {
        "id": "skOS8ywMbKpG"
      },
      "source": [
        "def label_percent(n_label): #n_label entre 0 et 1\n",
        "  test_vectors_ul = vectorizer.transform(x_test_ul[:int(len(unsup_filtered)*n_label)])\n",
        "  predicted_2 = clf.predict(test_vectors_ul)\n",
        "  # On reconstitue un dataset avec les données labelisées et pseudo-labelisées via notre classificateur naïf bayésien\n",
        "  df_unsup = unsup_filtered[:int(len(unsup_filtered)*n_label)]\n",
        "  df_unsup['sentiment'] = predicted_2\n",
        "  df = pd.concat([review_filtered, df_unsup])\n",
        "  return df "
      ],
      "execution_count": null,
      "outputs": []
    },
    {
      "cell_type": "markdown",
      "metadata": {
        "id": "KAJDMgJUfICL"
      },
      "source": [
        "## Amélioration de la régression linéaire\n",
        "Pour 20% de la base non labelisée : "
      ]
    },
    {
      "cell_type": "code",
      "metadata": {
        "id": "jRjXReBsdBMS",
        "colab": {
          "base_uri": "https://localhost:8080/"
        },
        "outputId": "779515e4-1b12-4608-8db6-7acdcb8f8094"
      },
      "source": [
        "df_pseudo_labeled = label_percent(0.2)"
      ],
      "execution_count": null,
      "outputs": [
        {
          "output_type": "stream",
          "text": [
            "/usr/local/lib/python3.6/dist-packages/ipykernel_launcher.py:6: SettingWithCopyWarning:\n",
            "\n",
            "\n",
            "A value is trying to be set on a copy of a slice from a DataFrame.\n",
            "Try using .loc[row_indexer,col_indexer] = value instead\n",
            "\n",
            "See the caveats in the documentation: https://pandas.pydata.org/pandas-docs/stable/user_guide/indexing.html#returning-a-view-versus-a-copy\n",
            "\n"
          ],
          "name": "stderr"
        }
      ]
    },
    {
      "cell_type": "code",
      "metadata": {
        "id": "U2uePDByfM2P",
        "colab": {
          "base_uri": "https://localhost:8080/"
        },
        "outputId": "ae74b39c-1111-4a45-950e-12d5f418b002"
      },
      "source": [
        "gr_review = df_pseudo_labeled.groupby('imdb_id').mean()\n",
        "print(\"Taille de l'échantillon après agrégation\", len(gr_review))\n",
        "#gr_review = gr_review.drop(columns=['Unnamed: 0', 'url_code'])\n",
        "df_2 = pd.merge(df, gr_review, left_on ='imdb_id', right_on ='imdb_id')\n",
        "\n",
        "\n",
        "X = pd.DataFrame(np.c_[df_2.budget, df_2.revenue, df_2.sentiment], columns= ['budget', 'revenue', 'sentiment'])\n",
        "Y = df_2.score_1"
      ],
      "execution_count": null,
      "outputs": [
        {
          "output_type": "stream",
          "text": [
            "Taille de l'échantillon après agrégation 3989\n"
          ],
          "name": "stdout"
        }
      ]
    },
    {
      "cell_type": "code",
      "metadata": {
        "id": "i2rhY_RqbKWH"
      },
      "source": [
        "X_train, X_test, Y_train, Y_test = train_test_split(X, Y, test_size = 0.2, random_state=5)"
      ],
      "execution_count": null,
      "outputs": []
    },
    {
      "cell_type": "code",
      "metadata": {
        "colab": {
          "base_uri": "https://localhost:8080/"
        },
        "id": "ePF_yuh38ZWQ",
        "outputId": "0f7b05fb-bdc0-4e1c-e753-eeaf04d10f6a"
      },
      "source": [
        "model_am_20 = linear_model(X_train, Y_train, X_test, Y_test)"
      ],
      "execution_count": null,
      "outputs": [
        {
          "output_type": "stream",
          "text": [
            "Performance du modèle sur la base d'apprentissage\n",
            "--------------------------------------\n",
            "L'erreur quadratique moyenne est 2923.128003349665\n",
            "Le score R² est 0.6209375264857289\n",
            "\n",
            "\n",
            "Performance du modèle sur la base de test\n",
            "--------------------------------------\n",
            "L'erreur quadratique moyenne est 2595.5322812124464\n",
            "Le score R² est 0.6341989897920716\n",
            "\n",
            "\n"
          ],
          "name": "stdout"
        }
      ]
    },
    {
      "cell_type": "code",
      "metadata": {
        "colab": {
          "base_uri": "https://localhost:8080/",
          "height": 235
        },
        "id": "eLkoLjxyHobZ",
        "outputId": "2dbea017-9ef3-47ea-ae1f-7bfd190a5a17"
      },
      "source": [
        "l = []\n",
        "l.extend(model_am_20[2:])\n",
        "l.append(len(X))\n",
        "\n",
        "table_resultats['model_am_20'] = l\n",
        "table_resultats"
      ],
      "execution_count": null,
      "outputs": [
        {
          "output_type": "execute_result",
          "data": {
            "text/html": [
              "<div>\n",
              "<style scoped>\n",
              "    .dataframe tbody tr th:only-of-type {\n",
              "        vertical-align: middle;\n",
              "    }\n",
              "\n",
              "    .dataframe tbody tr th {\n",
              "        vertical-align: top;\n",
              "    }\n",
              "\n",
              "    .dataframe thead th {\n",
              "        text-align: right;\n",
              "    }\n",
              "</style>\n",
              "<table border=\"1\" class=\"dataframe\">\n",
              "  <thead>\n",
              "    <tr style=\"text-align: right;\">\n",
              "      <th></th>\n",
              "      <th>model1</th>\n",
              "      <th>model2</th>\n",
              "      <th>model3</th>\n",
              "      <th>model4</th>\n",
              "      <th>model_am_20</th>\n",
              "    </tr>\n",
              "    <tr>\n",
              "      <th>name</th>\n",
              "      <th></th>\n",
              "      <th></th>\n",
              "      <th></th>\n",
              "      <th></th>\n",
              "      <th></th>\n",
              "    </tr>\n",
              "  </thead>\n",
              "  <tbody>\n",
              "    <tr>\n",
              "      <th>r2_test</th>\n",
              "      <td>0.587987</td>\n",
              "      <td>0.152923</td>\n",
              "      <td>0.451731</td>\n",
              "      <td>0.219785</td>\n",
              "      <td>0.634199</td>\n",
              "    </tr>\n",
              "    <tr>\n",
              "      <th>r2_train</th>\n",
              "      <td>0.616217</td>\n",
              "      <td>0.145450</td>\n",
              "      <td>0.634456</td>\n",
              "      <td>0.202645</td>\n",
              "      <td>0.620938</td>\n",
              "    </tr>\n",
              "    <tr>\n",
              "      <th>MSE_test</th>\n",
              "      <td>3364.076265</td>\n",
              "      <td>181.425640</td>\n",
              "      <td>2778.814421</td>\n",
              "      <td>160.197130</td>\n",
              "      <td>2595.532281</td>\n",
              "    </tr>\n",
              "    <tr>\n",
              "      <th>MSE_train</th>\n",
              "      <td>3467.430215</td>\n",
              "      <td>188.170446</td>\n",
              "      <td>2751.775258</td>\n",
              "      <td>173.182002</td>\n",
              "      <td>2923.128003</td>\n",
              "    </tr>\n",
              "    <tr>\n",
              "      <th>count</th>\n",
              "      <td>17356.000000</td>\n",
              "      <td>13017.000000</td>\n",
              "      <td>1779.000000</td>\n",
              "      <td>1334.000000</td>\n",
              "      <td>3050.000000</td>\n",
              "    </tr>\n",
              "  </tbody>\n",
              "</table>\n",
              "</div>"
            ],
            "text/plain": [
              "                 model1        model2       model3       model4  model_am_20\n",
              "name                                                                        \n",
              "r2_test        0.587987      0.152923     0.451731     0.219785     0.634199\n",
              "r2_train       0.616217      0.145450     0.634456     0.202645     0.620938\n",
              "MSE_test    3364.076265    181.425640  2778.814421   160.197130  2595.532281\n",
              "MSE_train   3467.430215    188.170446  2751.775258   173.182002  2923.128003\n",
              "count      17356.000000  13017.000000  1779.000000  1334.000000  3050.000000"
            ]
          },
          "metadata": {
            "tags": []
          },
          "execution_count": 313
        }
      ]
    },
    {
      "cell_type": "markdown",
      "metadata": {
        "id": "4jWBPIqKgTqr"
      },
      "source": [
        "Pour 50% de la base pseudo-labelisée :"
      ]
    },
    {
      "cell_type": "code",
      "metadata": {
        "id": "dHgUT421f6ma",
        "colab": {
          "base_uri": "https://localhost:8080/"
        },
        "outputId": "f279818f-362b-443c-a1e8-aaaa7f069509"
      },
      "source": [
        "df_pseudo_labeled = label_percent(0.5)\n",
        "\n",
        "gr_review = df_pseudo_labeled.groupby('imdb_id').mean()\n",
        "print(\"Taille de l'échantillon après agrégation\", len(gr_review))\n",
        "#gr_review = gr_review.drop(columns=['Unnamed: 0', 'url_code'])\n",
        "df_2 = pd.merge(df, gr_review, left_on ='imdb_id', right_on ='imdb_id')\n",
        "\n",
        "\n",
        "X = pd.DataFrame(np.c_[df_2.budget, df_2.revenue, df_2.sentiment], columns= ['budget', 'revenue', 'sentiment'])\n",
        "Y = df_2.score_1\n",
        "\n"
      ],
      "execution_count": null,
      "outputs": [
        {
          "output_type": "stream",
          "text": [
            "/usr/local/lib/python3.6/dist-packages/ipykernel_launcher.py:6: SettingWithCopyWarning:\n",
            "\n",
            "\n",
            "A value is trying to be set on a copy of a slice from a DataFrame.\n",
            "Try using .loc[row_indexer,col_indexer] = value instead\n",
            "\n",
            "See the caveats in the documentation: https://pandas.pydata.org/pandas-docs/stable/user_guide/indexing.html#returning-a-view-versus-a-copy\n",
            "\n"
          ],
          "name": "stderr"
        }
      ]
    },
    {
      "cell_type": "code",
      "metadata": {
        "id": "Koqi0GKzgghA"
      },
      "source": [
        "X_train, X_test, Y_train, Y_test = train_test_split(X, Y, test_size = 0.2, random_state=5)\n"
      ],
      "execution_count": null,
      "outputs": []
    },
    {
      "cell_type": "code",
      "metadata": {
        "id": "rmLRqXFygcvG"
      },
      "source": [
        "model_am_50 = linear_model(X_train,Y_train, X_test,Y_test)"
      ],
      "execution_count": null,
      "outputs": []
    },
    {
      "cell_type": "code",
      "metadata": {
        "colab": {
          "base_uri": "https://localhost:8080/",
          "height": 235
        },
        "id": "1zhMaNk_Hz8r",
        "outputId": "8d913065-29ab-43d5-d717-0a225962b653"
      },
      "source": [
        "l = []\n",
        "l.extend(model_am_50[2:])\n",
        "l.append(len(X))\n",
        "\n",
        "table_resultats['model_am_50'] = l\n",
        "table_resultats"
      ],
      "execution_count": null,
      "outputs": [
        {
          "output_type": "execute_result",
          "data": {
            "text/html": [
              "<div>\n",
              "<style scoped>\n",
              "    .dataframe tbody tr th:only-of-type {\n",
              "        vertical-align: middle;\n",
              "    }\n",
              "\n",
              "    .dataframe tbody tr th {\n",
              "        vertical-align: top;\n",
              "    }\n",
              "\n",
              "    .dataframe thead th {\n",
              "        text-align: right;\n",
              "    }\n",
              "</style>\n",
              "<table border=\"1\" class=\"dataframe\">\n",
              "  <thead>\n",
              "    <tr style=\"text-align: right;\">\n",
              "      <th></th>\n",
              "      <th>model1</th>\n",
              "      <th>model2</th>\n",
              "      <th>model3</th>\n",
              "      <th>model4</th>\n",
              "      <th>model_am_20</th>\n",
              "      <th>model_am_50</th>\n",
              "    </tr>\n",
              "    <tr>\n",
              "      <th>name</th>\n",
              "      <th></th>\n",
              "      <th></th>\n",
              "      <th></th>\n",
              "      <th></th>\n",
              "      <th></th>\n",
              "      <th></th>\n",
              "    </tr>\n",
              "  </thead>\n",
              "  <tbody>\n",
              "    <tr>\n",
              "      <th>r2_test</th>\n",
              "      <td>0.587987</td>\n",
              "      <td>0.152923</td>\n",
              "      <td>0.451731</td>\n",
              "      <td>0.219785</td>\n",
              "      <td>0.634199</td>\n",
              "      <td>0.434614</td>\n",
              "    </tr>\n",
              "    <tr>\n",
              "      <th>r2_train</th>\n",
              "      <td>0.616217</td>\n",
              "      <td>0.145450</td>\n",
              "      <td>0.634456</td>\n",
              "      <td>0.202645</td>\n",
              "      <td>0.620938</td>\n",
              "      <td>0.636218</td>\n",
              "    </tr>\n",
              "    <tr>\n",
              "      <th>MSE_test</th>\n",
              "      <td>3364.076265</td>\n",
              "      <td>181.425640</td>\n",
              "      <td>2778.814421</td>\n",
              "      <td>160.197130</td>\n",
              "      <td>2595.532281</td>\n",
              "      <td>2640.231655</td>\n",
              "    </tr>\n",
              "    <tr>\n",
              "      <th>MSE_train</th>\n",
              "      <td>3467.430215</td>\n",
              "      <td>188.170446</td>\n",
              "      <td>2751.775258</td>\n",
              "      <td>173.182002</td>\n",
              "      <td>2923.128003</td>\n",
              "      <td>2912.198810</td>\n",
              "    </tr>\n",
              "    <tr>\n",
              "      <th>count</th>\n",
              "      <td>17356.000000</td>\n",
              "      <td>13017.000000</td>\n",
              "      <td>1779.000000</td>\n",
              "      <td>1334.000000</td>\n",
              "      <td>3050.000000</td>\n",
              "      <td>3247.000000</td>\n",
              "    </tr>\n",
              "  </tbody>\n",
              "</table>\n",
              "</div>"
            ],
            "text/plain": [
              "                 model1        model2  ...  model_am_20  model_am_50\n",
              "name                                   ...                          \n",
              "r2_test        0.587987      0.152923  ...     0.634199     0.434614\n",
              "r2_train       0.616217      0.145450  ...     0.620938     0.636218\n",
              "MSE_test    3364.076265    181.425640  ...  2595.532281  2640.231655\n",
              "MSE_train   3467.430215    188.170446  ...  2923.128003  2912.198810\n",
              "count      17356.000000  13017.000000  ...  3050.000000  3247.000000\n",
              "\n",
              "[5 rows x 6 columns]"
            ]
          },
          "metadata": {
            "tags": []
          },
          "execution_count": 317
        }
      ]
    },
    {
      "cell_type": "markdown",
      "metadata": {
        "id": "Mq-zZbmT89NR"
      },
      "source": [
        "Les erreurs quadratiques moyennes ainsi que les $R^2$ sont moins bons sur la base test lorsque l'on utilise 50% des données pseudo-labelisées. En revanche, la prédiction est améliorée sur la base d'apprentissage... mais de manière infime. "
      ]
    },
    {
      "cell_type": "markdown",
      "metadata": {
        "id": "Pa7puxDPgmMW"
      },
      "source": [
        "## Visualisation en variant le pourcentage de la base pseudo labelisée"
      ]
    },
    {
      "cell_type": "markdown",
      "metadata": {
        "id": "t04tjqGq5Ayf"
      },
      "source": [
        "On peut vouloir à présent déterminer l'amélioration de la prédiction selon le pourcentage de base pseudolabelisée que nous ajoutons au modèle. Pour cela nous créons une fonction à partir du code de la fonction *linear_model*. "
      ]
    },
    {
      "cell_type": "code",
      "metadata": {
        "id": "cZQNHrWmglE2"
      },
      "source": [
        " def for_plot_rmse_r2(pas) :\n",
        "  r_train, r_test=[],[]\n",
        "  mse_train, mse_test=[],[]\n",
        "  for i in np.linspace(0.1,1,pas):\n",
        "    df_pseudo_labeled = label_percent(i)\n",
        "\n",
        "    gr_review = df_pseudo_labeled.groupby('imdb_id').mean()\n",
        "    df_2 = pd.merge(df, gr_review, left_on ='imdb_id', right_on ='imdb_id')\n",
        "\n",
        "\n",
        "    X = pd.DataFrame(np.c_[df_2.budget, df_2.revenue, df_2.sentiment], columns= ['budget', 'revenue', 'sentiment'])\n",
        "    Y = df_2.score_1\n",
        "\n",
        "\n",
        "    X_train, X_test, Y_train, Y_test = train_test_split(X, Y, test_size = 0.2, random_state=5)\n",
        "\n",
        "    model = linear_model(X_train, Y_train, X_test, Y_test) \n",
        "    #on rappelle model contient y_train_predict, y_test_predict, r2_test, r2_train, mse_test, mse_train\n",
        "    \n",
        "    r_test.append(model[2])\n",
        "    r_train.append(model[3])\n",
        "    mse_test.append(model[4])\n",
        "    mse_train.append(model[5])\n",
        "\n",
        "  return r_test, r_train, mse_test, mse_train"
      ],
      "execution_count": null,
      "outputs": []
    },
    {
      "cell_type": "markdown",
      "metadata": {
        "id": "jQWTozY1KXRt"
      },
      "source": [
        "Comme le code de *linear_model* va générer de nombreux print, on utilise cette fonction qui va les bloquer temporairement. "
      ]
    },
    {
      "cell_type": "code",
      "metadata": {
        "id": "UEbalM1jKb-s"
      },
      "source": [
        "# Disable\n",
        "def blockPrint():\n",
        "    sys.__stdout__ = sys.stdout\n",
        "    sys.stdout = open(os.devnull, 'w')\n",
        "\n",
        "# Restore\n",
        "def enablePrint():\n",
        "    sys.stdout = sys.__stdout__\n",
        "\n",
        "\n"
      ],
      "execution_count": null,
      "outputs": []
    },
    {
      "cell_type": "markdown",
      "metadata": {
        "id": "qdgU_8Zk5g_8"
      },
      "source": [
        "On choisit le pas que l'on souhaite. "
      ]
    },
    {
      "cell_type": "code",
      "metadata": {
        "id": "JkJoZ1zpghka"
      },
      "source": [
        "blockPrint()\n",
        "pas = 20\n",
        "rmse_r2 = for_plot_rmse_r2(pas)\n",
        "\n"
      ],
      "execution_count": null,
      "outputs": []
    },
    {
      "cell_type": "code",
      "metadata": {
        "colab": {
          "base_uri": "https://localhost:8080/",
          "height": 298
        },
        "id": "jX49HFsILSnH",
        "outputId": "c3066a3f-a44f-435d-b50c-7bbe5edca2ea"
      },
      "source": [
        "plt.title(\"Performance du score R2 selon la taille de la base pseudo-labelisée\")\n",
        "plt.plot(rmse_r2[0],  label='r2 test')\n",
        "plt.plot(rmse_r2[1],  label='r2 train')\n",
        "plt.legend()"
      ],
      "execution_count": null,
      "outputs": [
        {
          "output_type": "execute_result",
          "data": {
            "text/plain": [
              "<matplotlib.legend.Legend at 0x7f6efa8cbac8>"
            ]
          },
          "metadata": {
            "tags": []
          },
          "execution_count": 332
        },
        {
          "output_type": "display_data",
          "data": {
            "image/png": "[encoded data removed]",
            "text/plain": [
              "<Figure size 432x288 with 1 Axes>"
            ]
          },
          "metadata": {
            "tags": [],
            "needs_background": "light"
          }
        }
      ]
    },
    {
      "cell_type": "code",
      "metadata": {
        "id": "ouCdF0-TiNBx",
        "colab": {
          "base_uri": "https://localhost:8080/",
          "height": 298
        },
        "outputId": "700657d1-c165-43f3-917e-ec1e7b7fb2a7"
      },
      "source": [
        "plt.title(\"Performance de l'erreur quadratique selon la taille de la base pseudo-labelisée\")\n",
        "plt.plot(rmse_r2[2], label='mse test')\n",
        "plt.plot(rmse_r2[3], label='mse train')\n",
        "plt.legend()"
      ],
      "execution_count": null,
      "outputs": [
        {
          "output_type": "execute_result",
          "data": {
            "text/plain": [
              "<matplotlib.legend.Legend at 0x7f6efa884a90>"
            ]
          },
          "metadata": {
            "tags": []
          },
          "execution_count": 333
        },
        {
          "output_type": "display_data",
          "data": {
            "image/png": "[encoded data removed]",
            "text/plain": [
              "<Figure size 432x288 with 1 Axes>"
            ]
          },
          "metadata": {
            "tags": [],
            "needs_background": "light"
          }
        }
      ]
    },
    {
      "cell_type": "code",
      "metadata": {
        "colab": {
          "base_uri": "https://localhost:8080/"
        },
        "id": "aiKUNNRB-iNh",
        "outputId": "1e7a986c-58fe-4adf-af9b-0a8e51a9029c"
      },
      "source": [
        "enablePrint()\n",
        "l_min = [ rmse_r2[2].index(min(rmse_r2[2]))/pas,rmse_r2[3].index(min(rmse_r2[3]))/pas]\n",
        "print(\"Pourcentage optimal pour minimiser MSE TEST\", rmse_r2[2].index(min(rmse_r2[2]))/pas, '%')\n",
        "print('\\n')\n",
        "print(\"Pourcentage optimal pour minimiser MSE TRAIN\", rmse_r2[3].index(min(rmse_r2[3]))/pas, '%')\n"
      ],
      "execution_count": null,
      "outputs": [
        {
          "output_type": "execute_result",
          "data": {
            "text/plain": [
              "[0.45, 0.35]"
            ]
          },
          "metadata": {
            "tags": []
          },
          "execution_count": 344
        }
      ]
    },
    {
      "cell_type": "code",
      "metadata": {
        "colab": {
          "base_uri": "https://localhost:8080/"
        },
        "id": "QixNvjTSLdV8",
        "outputId": "74e90c2e-571a-4cbf-b7e1-eb170be3712d"
      },
      "source": [
        "df_pseudo_labeled = label_percent(0.45)\n",
        "gr_review = df_pseudo_labeled.groupby('imdb_id').mean()\n",
        "print(\"Taille de l'échantillon après agrégation\", len(gr_review))\n",
        "#gr_review = gr_review.drop(columns=['Unnamed: 0', 'url_code'])\n",
        "df_2 = pd.merge(df, gr_review, left_on ='imdb_id', right_on ='imdb_id')\n",
        "\n",
        "\n",
        "X = pd.DataFrame(np.c_[df_2.budget, df_2.revenue, df_2.sentiment], columns= ['budget', 'revenue', 'sentiment'])\n",
        "Y = df_2.score_1\n",
        "\n",
        "X_train, X_test, Y_train, Y_test = train_test_split(X, Y, test_size = 0.2, random_state=5)\n",
        "\n",
        "model_opt = linear_model(X_train,Y_train, X_test,Y_test)"
      ],
      "execution_count": null,
      "outputs": [
        {
          "output_type": "stream",
          "text": [
            "/usr/local/lib/python3.6/dist-packages/ipykernel_launcher.py:6: SettingWithCopyWarning:\n",
            "\n",
            "\n",
            "A value is trying to be set on a copy of a slice from a DataFrame.\n",
            "Try using .loc[row_indexer,col_indexer] = value instead\n",
            "\n",
            "See the caveats in the documentation: https://pandas.pydata.org/pandas-docs/stable/user_guide/indexing.html#returning-a-view-versus-a-copy\n",
            "\n"
          ],
          "name": "stderr"
        }
      ]
    },
    {
      "cell_type": "markdown",
      "metadata": {
        "id": "emP3IN_WTc-D"
      },
      "source": [
        "## Conclusion sur l'ajout de commentaires par semi-supervisé"
      ]
    },
    {
      "cell_type": "code",
      "metadata": {
        "id": "5OLE96tEQQ-y",
        "colab": {
          "base_uri": "https://localhost:8080/",
          "height": 235
        },
        "outputId": "e4d8c244-78c7-4778-a57a-83676a7a8ea7"
      },
      "source": [
        "table_resultats[['model1', 'model2' ,'model3', 'model_am_20', 'model_am_50']]"
      ],
      "execution_count": null,
      "outputs": [
        {
          "output_type": "execute_result",
          "data": {
            "text/html": [
              "<div>\n",
              "<style scoped>\n",
              "    .dataframe tbody tr th:only-of-type {\n",
              "        vertical-align: middle;\n",
              "    }\n",
              "\n",
              "    .dataframe tbody tr th {\n",
              "        vertical-align: top;\n",
              "    }\n",
              "\n",
              "    .dataframe thead th {\n",
              "        text-align: right;\n",
              "    }\n",
              "</style>\n",
              "<table border=\"1\" class=\"dataframe\">\n",
              "  <thead>\n",
              "    <tr style=\"text-align: right;\">\n",
              "      <th></th>\n",
              "      <th>model1</th>\n",
              "      <th>model2</th>\n",
              "      <th>model3</th>\n",
              "      <th>model_am_20</th>\n",
              "      <th>model_am_50</th>\n",
              "    </tr>\n",
              "    <tr>\n",
              "      <th>name</th>\n",
              "      <th></th>\n",
              "      <th></th>\n",
              "      <th></th>\n",
              "      <th></th>\n",
              "      <th></th>\n",
              "    </tr>\n",
              "  </thead>\n",
              "  <tbody>\n",
              "    <tr>\n",
              "      <th>r2_test</th>\n",
              "      <td>0.587987</td>\n",
              "      <td>0.152923</td>\n",
              "      <td>0.451731</td>\n",
              "      <td>0.634199</td>\n",
              "      <td>0.434614</td>\n",
              "    </tr>\n",
              "    <tr>\n",
              "      <th>r2_train</th>\n",
              "      <td>0.616217</td>\n",
              "      <td>0.145450</td>\n",
              "      <td>0.634456</td>\n",
              "      <td>0.620938</td>\n",
              "      <td>0.636218</td>\n",
              "    </tr>\n",
              "    <tr>\n",
              "      <th>MSE_test</th>\n",
              "      <td>3364.076265</td>\n",
              "      <td>181.425640</td>\n",
              "      <td>2778.814421</td>\n",
              "      <td>2595.532281</td>\n",
              "      <td>2640.231655</td>\n",
              "    </tr>\n",
              "    <tr>\n",
              "      <th>MSE_train</th>\n",
              "      <td>3467.430215</td>\n",
              "      <td>188.170446</td>\n",
              "      <td>2751.775258</td>\n",
              "      <td>2923.128003</td>\n",
              "      <td>2912.198810</td>\n",
              "    </tr>\n",
              "    <tr>\n",
              "      <th>count</th>\n",
              "      <td>17356.000000</td>\n",
              "      <td>13017.000000</td>\n",
              "      <td>1779.000000</td>\n",
              "      <td>3050.000000</td>\n",
              "      <td>3247.000000</td>\n",
              "    </tr>\n",
              "  </tbody>\n",
              "</table>\n",
              "</div>"
            ],
            "text/plain": [
              "                 model1        model2       model3  model_am_20  model_am_50\n",
              "name                                                                        \n",
              "r2_test        0.587987      0.152923     0.451731     0.634199     0.434614\n",
              "r2_train       0.616217      0.145450     0.634456     0.620938     0.636218\n",
              "MSE_test    3364.076265    181.425640  2778.814421  2595.532281  2640.231655\n",
              "MSE_train   3467.430215    188.170446  2751.775258  2923.128003  2912.198810\n",
              "count      17356.000000  13017.000000  1779.000000  3050.000000  3247.000000"
            ]
          },
          "metadata": {
            "tags": []
          },
          "execution_count": 349
        }
      ]
    },
    {
      "cell_type": "markdown",
      "metadata": {
        "id": "xHg6uKy0PuuL"
      },
      "source": [
        "Sur le tableau ci-dessus, nous avons les différentes performances des régressions linéaires sur notre base : \n",
        "- le modèle 1 est une régression linéaire du revenu et budget pour prédire le score sur la base complète. La dispersion des données donne une erreur quadratique importante. \n",
        "- le modèle 2 est la même régression sur la base tronquée sur son interquartile. On perd une partie de la base mais l'erreur est diminuée de manière impressionnante. En revanche, la qualité de la prédiction chute tout aussi drastiquement. \n",
        "- le modèle 3 est *enrichi de l'analyse sentiment sur la base labelisée* : on voit que l'erreur est un peu diminuée par rapport au modèle 1 et la qualité de la prédiction augmente avec le R2 mais on a diminuée la taille de l'échantillon d'un facteur 10 ! On ne peut pas vraiment dire que la prédiction est améliorée. \n",
        "- le modèle_am_20 est enrichi cette fois d'une partie de la base pseudo labelisée par notre algorithme de prédiction de sentiment : ce procédé permet d'augmenter un peu la taille de l'échantillon à nouveau, diminue l'erreur et augmente la pertinence des indicateurs (augmentation du R2).\n",
        "- le modèle_am_50 est enrichi de 50% de la base pseudo labelisée. On s'attendrait à ce que la régression soit encore davantage performante. Dans les faits, notre algorithme de prédiction est sujet à erreurs, et plus la taille de la base sur laquelle on effectue la pseudo labelisation est grande, moins cette information est pertinente. On voit en effet que l'erreur test et le R2 test augmentent à nouveau. \n",
        "\n",
        "L'ensemble de ces opérations nous permet de dire qu'il faut trouver un compromis entre taille d'échantillon, échantillon semi-supervisé afin d'améliorer notre prédiction du score de film. "
      ]
    },
    {
      "cell_type": "code",
      "metadata": {
        "colab": {
          "base_uri": "https://localhost:8080/",
          "height": 663
        },
        "id": "Eh0nsPKMLXil",
        "outputId": "ed58a584-17dd-46d2-e251-9f7f5a837dd6"
      },
      "source": [
        "fig, ax = plt.subplots(figsize=(8,5))\n",
        "p1 = sns.distplot(Y_test, label = 'Vraie valeur', hist = False)\n",
        "p2 = sns.distplot(model_am_50[1], label = 'Prédiction - avec 50% de pseudo-labels', hist = False)\n",
        "p3 = sns.distplot(model3[1], label = 'Prédiction - Budget, revenu, sentiment et rating', hist = False)\n",
        "p4 = sns.distplot(model_am_20[1], label = 'Prédiction - avec 20% de pseudo-labels', hist = False)\n",
        "ax.set(xlabel= 'Valeur de score_1', ylabel = 'Densité')\n",
        "ax.set_xscale('log')\n",
        "fig.legend(labels=['Vraie valeur','Prédiction - avec 50% de pseudo-labels','Prédiction - Budget, revenu, sentiment et rating' ,'Prédiction - avec 20% de pseudo-labels'], loc = (0.4, 0.7))\n",
        "plt.title('Résultats des deux régressions avec pseudo-labels pour la prédiction de score_1')"
      ],
      "execution_count": null,
      "outputs": [
        {
          "output_type": "stream",
          "text": [
            "/usr/local/lib/python3.6/dist-packages/seaborn/distributions.py:2551: FutureWarning:\n",
            "\n",
            "`distplot` is a deprecated function and will be removed in a future version. Please adapt your code to use either `displot` (a figure-level function with similar flexibility) or `kdeplot` (an axes-level function for kernel density plots).\n",
            "\n",
            "/usr/local/lib/python3.6/dist-packages/seaborn/distributions.py:2551: FutureWarning:\n",
            "\n",
            "`distplot` is a deprecated function and will be removed in a future version. Please adapt your code to use either `displot` (a figure-level function with similar flexibility) or `kdeplot` (an axes-level function for kernel density plots).\n",
            "\n",
            "/usr/local/lib/python3.6/dist-packages/seaborn/distributions.py:2551: FutureWarning:\n",
            "\n",
            "`distplot` is a deprecated function and will be removed in a future version. Please adapt your code to use either `displot` (a figure-level function with similar flexibility) or `kdeplot` (an axes-level function for kernel density plots).\n",
            "\n",
            "/usr/local/lib/python3.6/dist-packages/seaborn/distributions.py:2551: FutureWarning:\n",
            "\n",
            "`distplot` is a deprecated function and will be removed in a future version. Please adapt your code to use either `displot` (a figure-level function with similar flexibility) or `kdeplot` (an axes-level function for kernel density plots).\n",
            "\n"
          ],
          "name": "stderr"
        },
        {
          "output_type": "execute_result",
          "data": {
            "text/plain": [
              "Text(0.5, 1.0, 'Résultats des deux régressions avec pseudo-labels pour la prédiction de score_1')"
            ]
          },
          "metadata": {
            "tags": []
          },
          "execution_count": 360
        },
        {
          "output_type": "display_data",
          "data": {
            "image/png": "[encoded data removed]",
            "text/plain": [
              "<Figure size 576x360 with 1 Axes>"
            ]
          },
          "metadata": {
            "tags": [],
            "needs_background": "light"
          }
        }
      ]
    },
    {
      "cell_type": "markdown",
      "metadata": {
        "id": "R1j9ucpIU_1x"
      },
      "source": [
        "Il apparaît que les \"meilleures\" prédictions du score sont obtenues avec le budget, le revenu, les sentiment et le rating sans pseudo labelisé ou la prédiction avec 20% de pseudo-labels. "
      ]
    },
    {
      "cell_type": "markdown",
      "metadata": {
        "id": "WQsmTF8xVVGx"
      },
      "source": [
        "# Ajout de variable *genres* en modalité catégorielles"
      ]
    },
    {
      "cell_type": "code",
      "metadata": {
        "id": "f5BSnVmvadrG"
      },
      "source": [
        "df['main_genre']=df.genres.str.split(',').str.get(0)"
      ],
      "execution_count": null,
      "outputs": []
    },
    {
      "cell_type": "code",
      "metadata": {
        "id": "KU860oJnTIht",
        "colab": {
          "base_uri": "https://localhost:8080/"
        },
        "outputId": "4c7e61f0-9a0d-4510-fc3c-5b138695dec1"
      },
      "source": [
        "l_genres = pd.unique(df.main_genre)\n",
        "l_genres"
      ],
      "execution_count": null,
      "outputs": [
        {
          "output_type": "execute_result",
          "data": {
            "text/plain": [
              "array(['Adventure', 'Romance', 'Comedy', 'Action', 'Family', 'History',\n",
              "       'Drama', 'Crime', 'Fantasy', 'Science', 'Music', 'Horror',\n",
              "       'Documentary', 'Mystery', 'Thriller', 'Animation', 'War',\n",
              "       'Western', 'Foreign', 'TV'], dtype=object)"
            ]
          },
          "metadata": {
            "tags": []
          },
          "execution_count": 522
        }
      ]
    },
    {
      "cell_type": "markdown",
      "metadata": {
        "id": "Gv3cCVBTWr8O"
      },
      "source": [
        "Nous allons créer les variables de modalité pour chaque genre. On va utiliser OneHotEncoder pour créer notre dataframe de modalité."
      ]
    },
    {
      "cell_type": "code",
      "metadata": {
        "id": "WmEvWxagXS3s"
      },
      "source": [
        "df_dummy = pd.get_dummies(df.main_genre)"
      ],
      "execution_count": null,
      "outputs": []
    },
    {
      "cell_type": "markdown",
      "metadata": {
        "id": "CQV4sGram1xR"
      },
      "source": [
        "On agrège à notre base. "
      ]
    },
    {
      "cell_type": "code",
      "metadata": {
        "id": "OmSKcATyXWG9",
        "colab": {
          "base_uri": "https://localhost:8080/",
          "height": 224
        },
        "outputId": "bed7b650-c3f5-4b19-8bde-843950e9f2f4"
      },
      "source": [
        "df_dummy.head()"
      ],
      "execution_count": null,
      "outputs": [
        {
          "output_type": "execute_result",
          "data": {
            "text/html": [
              "<div>\n",
              "<style scoped>\n",
              "    .dataframe tbody tr th:only-of-type {\n",
              "        vertical-align: middle;\n",
              "    }\n",
              "\n",
              "    .dataframe tbody tr th {\n",
              "        vertical-align: top;\n",
              "    }\n",
              "\n",
              "    .dataframe thead th {\n",
              "        text-align: right;\n",
              "    }\n",
              "</style>\n",
              "<table border=\"1\" class=\"dataframe\">\n",
              "  <thead>\n",
              "    <tr style=\"text-align: right;\">\n",
              "      <th></th>\n",
              "      <th>Action</th>\n",
              "      <th>Adventure</th>\n",
              "      <th>Animation</th>\n",
              "      <th>Comedy</th>\n",
              "      <th>Crime</th>\n",
              "      <th>Documentary</th>\n",
              "      <th>Drama</th>\n",
              "      <th>Family</th>\n",
              "      <th>Fantasy</th>\n",
              "      <th>Foreign</th>\n",
              "      <th>History</th>\n",
              "      <th>Horror</th>\n",
              "      <th>Music</th>\n",
              "      <th>Mystery</th>\n",
              "      <th>Romance</th>\n",
              "      <th>Science</th>\n",
              "      <th>TV</th>\n",
              "      <th>Thriller</th>\n",
              "      <th>War</th>\n",
              "      <th>Western</th>\n",
              "    </tr>\n",
              "  </thead>\n",
              "  <tbody>\n",
              "    <tr>\n",
              "      <th>0</th>\n",
              "      <td>0</td>\n",
              "      <td>0</td>\n",
              "      <td>1</td>\n",
              "      <td>0</td>\n",
              "      <td>0</td>\n",
              "      <td>0</td>\n",
              "      <td>0</td>\n",
              "      <td>0</td>\n",
              "      <td>0</td>\n",
              "      <td>0</td>\n",
              "      <td>0</td>\n",
              "      <td>0</td>\n",
              "      <td>0</td>\n",
              "      <td>0</td>\n",
              "      <td>0</td>\n",
              "      <td>0</td>\n",
              "      <td>0</td>\n",
              "      <td>0</td>\n",
              "      <td>0</td>\n",
              "      <td>0</td>\n",
              "    </tr>\n",
              "    <tr>\n",
              "      <th>1</th>\n",
              "      <td>0</td>\n",
              "      <td>1</td>\n",
              "      <td>0</td>\n",
              "      <td>0</td>\n",
              "      <td>0</td>\n",
              "      <td>0</td>\n",
              "      <td>0</td>\n",
              "      <td>0</td>\n",
              "      <td>0</td>\n",
              "      <td>0</td>\n",
              "      <td>0</td>\n",
              "      <td>0</td>\n",
              "      <td>0</td>\n",
              "      <td>0</td>\n",
              "      <td>0</td>\n",
              "      <td>0</td>\n",
              "      <td>0</td>\n",
              "      <td>0</td>\n",
              "      <td>0</td>\n",
              "      <td>0</td>\n",
              "    </tr>\n",
              "    <tr>\n",
              "      <th>2</th>\n",
              "      <td>0</td>\n",
              "      <td>0</td>\n",
              "      <td>0</td>\n",
              "      <td>0</td>\n",
              "      <td>0</td>\n",
              "      <td>0</td>\n",
              "      <td>0</td>\n",
              "      <td>0</td>\n",
              "      <td>0</td>\n",
              "      <td>0</td>\n",
              "      <td>0</td>\n",
              "      <td>0</td>\n",
              "      <td>0</td>\n",
              "      <td>0</td>\n",
              "      <td>1</td>\n",
              "      <td>0</td>\n",
              "      <td>0</td>\n",
              "      <td>0</td>\n",
              "      <td>0</td>\n",
              "      <td>0</td>\n",
              "    </tr>\n",
              "    <tr>\n",
              "      <th>3</th>\n",
              "      <td>0</td>\n",
              "      <td>0</td>\n",
              "      <td>0</td>\n",
              "      <td>1</td>\n",
              "      <td>0</td>\n",
              "      <td>0</td>\n",
              "      <td>0</td>\n",
              "      <td>0</td>\n",
              "      <td>0</td>\n",
              "      <td>0</td>\n",
              "      <td>0</td>\n",
              "      <td>0</td>\n",
              "      <td>0</td>\n",
              "      <td>0</td>\n",
              "      <td>0</td>\n",
              "      <td>0</td>\n",
              "      <td>0</td>\n",
              "      <td>0</td>\n",
              "      <td>0</td>\n",
              "      <td>0</td>\n",
              "    </tr>\n",
              "    <tr>\n",
              "      <th>4</th>\n",
              "      <td>0</td>\n",
              "      <td>0</td>\n",
              "      <td>0</td>\n",
              "      <td>1</td>\n",
              "      <td>0</td>\n",
              "      <td>0</td>\n",
              "      <td>0</td>\n",
              "      <td>0</td>\n",
              "      <td>0</td>\n",
              "      <td>0</td>\n",
              "      <td>0</td>\n",
              "      <td>0</td>\n",
              "      <td>0</td>\n",
              "      <td>0</td>\n",
              "      <td>0</td>\n",
              "      <td>0</td>\n",
              "      <td>0</td>\n",
              "      <td>0</td>\n",
              "      <td>0</td>\n",
              "      <td>0</td>\n",
              "    </tr>\n",
              "  </tbody>\n",
              "</table>\n",
              "</div>"
            ],
            "text/plain": [
              "   Action  Adventure  Animation  Comedy  ...  TV  Thriller  War  Western\n",
              "0       0          0          1       0  ...   0         0    0        0\n",
              "1       0          1          0       0  ...   0         0    0        0\n",
              "2       0          0          0       0  ...   0         0    0        0\n",
              "3       0          0          0       1  ...   0         0    0        0\n",
              "4       0          0          0       1  ...   0         0    0        0\n",
              "\n",
              "[5 rows x 20 columns]"
            ]
          },
          "metadata": {
            "tags": []
          },
          "execution_count": 502
        }
      ]
    },
    {
      "cell_type": "code",
      "metadata": {
        "id": "X3zaYsk2ZbbZ"
      },
      "source": [
        "X = pd.concat([df[['budget', 'revenue']], df_encode[l_genres]], axis=1)\n",
        "Y = df.score_1\n",
        "\n",
        "X = X.dropna(axis=0)\n",
        "Y = Y.dropna(axis=0)\n",
        "\n",
        "X_train, X_test, Y_train, Y_test = train_test_split(X, Y, test_size = 0.2, random_state=5)\n",
        "print(X_train.shape)\n",
        "print(X_test.shape)\n",
        "print(Y_train.shape)\n",
        "print(Y_test.shape)"
      ],
      "execution_count": null,
      "outputs": []
    },
    {
      "cell_type": "markdown",
      "metadata": {
        "id": "vjNIAeTTrkik"
      },
      "source": [
        "On applique la régression linéaire."
      ]
    },
    {
      "cell_type": "code",
      "metadata": {
        "id": "jcsAOLglaVkh"
      },
      "source": [
        "model_genre = linear_model(X_train, Y_train, X_test, Y_test)"
      ],
      "execution_count": null,
      "outputs": []
    },
    {
      "cell_type": "code",
      "metadata": {
        "id": "7mruWeHFr8F1",
        "colab": {
          "base_uri": "https://localhost:8080/",
          "height": 255
        },
        "outputId": "73bb096a-cce8-433c-cd3a-d9dada0fd1b3"
      },
      "source": [
        "l = []\n",
        "l.extend(model_genre[2:])\n",
        "l.append(len(X))\n",
        "\n",
        "table_resultats['model_genre'] = l\n",
        "table_resultats"
      ],
      "execution_count": null,
      "outputs": [
        {
          "output_type": "execute_result",
          "data": {
            "text/html": [
              "<div>\n",
              "<style scoped>\n",
              "    .dataframe tbody tr th:only-of-type {\n",
              "        vertical-align: middle;\n",
              "    }\n",
              "\n",
              "    .dataframe tbody tr th {\n",
              "        vertical-align: top;\n",
              "    }\n",
              "\n",
              "    .dataframe thead th {\n",
              "        text-align: right;\n",
              "    }\n",
              "</style>\n",
              "<table border=\"1\" class=\"dataframe\">\n",
              "  <thead>\n",
              "    <tr style=\"text-align: right;\">\n",
              "      <th></th>\n",
              "      <th>model1</th>\n",
              "      <th>model2</th>\n",
              "      <th>model3</th>\n",
              "      <th>model4</th>\n",
              "      <th>model_am_20</th>\n",
              "      <th>model_am_50</th>\n",
              "      <th>model_opt</th>\n",
              "      <th>model_genre</th>\n",
              "    </tr>\n",
              "    <tr>\n",
              "      <th>name</th>\n",
              "      <th></th>\n",
              "      <th></th>\n",
              "      <th></th>\n",
              "      <th></th>\n",
              "      <th></th>\n",
              "      <th></th>\n",
              "      <th></th>\n",
              "      <th></th>\n",
              "    </tr>\n",
              "  </thead>\n",
              "  <tbody>\n",
              "    <tr>\n",
              "      <th>r2_test</th>\n",
              "      <td>0.587987</td>\n",
              "      <td>0.152923</td>\n",
              "      <td>0.451731</td>\n",
              "      <td>0.219785</td>\n",
              "      <td>0.634199</td>\n",
              "      <td>0.434614</td>\n",
              "      <td>0.443857</td>\n",
              "      <td>0.589279</td>\n",
              "    </tr>\n",
              "    <tr>\n",
              "      <th>r2_train</th>\n",
              "      <td>0.616217</td>\n",
              "      <td>0.145450</td>\n",
              "      <td>0.634456</td>\n",
              "      <td>0.202645</td>\n",
              "      <td>0.620938</td>\n",
              "      <td>0.636218</td>\n",
              "      <td>0.654358</td>\n",
              "      <td>0.618358</td>\n",
              "    </tr>\n",
              "    <tr>\n",
              "      <th>MSE_test</th>\n",
              "      <td>3364.076265</td>\n",
              "      <td>181.425640</td>\n",
              "      <td>2778.814421</td>\n",
              "      <td>160.197130</td>\n",
              "      <td>2595.532281</td>\n",
              "      <td>2640.231655</td>\n",
              "      <td>3444.024579</td>\n",
              "      <td>3358.798468</td>\n",
              "    </tr>\n",
              "    <tr>\n",
              "      <th>MSE_train</th>\n",
              "      <td>3467.430215</td>\n",
              "      <td>188.170446</td>\n",
              "      <td>2751.775258</td>\n",
              "      <td>173.182002</td>\n",
              "      <td>2923.128003</td>\n",
              "      <td>2912.198810</td>\n",
              "      <td>2713.122531</td>\n",
              "      <td>3457.743850</td>\n",
              "    </tr>\n",
              "    <tr>\n",
              "      <th>count</th>\n",
              "      <td>17356.000000</td>\n",
              "      <td>13017.000000</td>\n",
              "      <td>1779.000000</td>\n",
              "      <td>1334.000000</td>\n",
              "      <td>3050.000000</td>\n",
              "      <td>3247.000000</td>\n",
              "      <td>3216.000000</td>\n",
              "      <td>17356.000000</td>\n",
              "    </tr>\n",
              "  </tbody>\n",
              "</table>\n",
              "</div>"
            ],
            "text/plain": [
              "                 model1        model2  ...    model_opt   model_genre\n",
              "name                                   ...                           \n",
              "r2_test        0.587987      0.152923  ...     0.443857      0.589279\n",
              "r2_train       0.616217      0.145450  ...     0.654358      0.618358\n",
              "MSE_test    3364.076265    181.425640  ...  3444.024579   3358.798468\n",
              "MSE_train   3467.430215    188.170446  ...  2713.122531   3457.743850\n",
              "count      17356.000000  13017.000000  ...  3216.000000  17356.000000\n",
              "\n",
              "[5 rows x 8 columns]"
            ]
          },
          "metadata": {
            "tags": []
          },
          "execution_count": 526
        }
      ]
    },
    {
      "cell_type": "markdown",
      "metadata": {
        "id": "OTk49_LBtl8A"
      },
      "source": [
        "L'ajout des genres dans les features de la régression laisse celle-ci presqu'inchangée du point de vue de l'erreur quadratique moyenne ainsi que du R2. "
      ]
    },
    {
      "cell_type": "code",
      "metadata": {
        "id": "fZaBe75NaYRO",
        "colab": {
          "base_uri": "https://localhost:8080/",
          "height": 663
        },
        "outputId": "5e517b09-44b7-4dd2-82f2-6ec913e8c068"
      },
      "source": [
        "fig, ax = plt.subplots(figsize=(8,5))\n",
        "p1 = sns.distplot(Y_test, label = 'Vraie valeur', hist = False)\n",
        "p2 = sns.distplot(model_genre[1], label = 'Prédiction - Budget, revenu, genres', hist = False)\n",
        "p3 = sns.distplot(model1[1], label = 'Prédiction - Budget, revenu', hist = False)\n",
        "p3 = sns.distplot(model3[1], label = 'Prédiction - Budget, revenu, sentiments, rating', hist = False)\n",
        "ax.set(xlabel= 'Valeur de score_1', ylabel = 'Densité')\n",
        "ax.set_xscale('log')\n",
        "fig.legend(labels=['Vraie valeur','Prédiction - Budget, revenu, genres','Prédiction - Budget, revenu','Prédiction - Budget, revenu, sentiment et rating' ,'Prédiction - avec 20% de pseudo-labels'], loc = (0.4, 0.7))\n",
        "plt.title('Résultats de la régression avec genres pour la prédiction de score_1')"
      ],
      "execution_count": null,
      "outputs": [
        {
          "output_type": "stream",
          "text": [
            "/usr/local/lib/python3.6/dist-packages/seaborn/distributions.py:2551: FutureWarning:\n",
            "\n",
            "`distplot` is a deprecated function and will be removed in a future version. Please adapt your code to use either `displot` (a figure-level function with similar flexibility) or `kdeplot` (an axes-level function for kernel density plots).\n",
            "\n",
            "/usr/local/lib/python3.6/dist-packages/seaborn/distributions.py:2551: FutureWarning:\n",
            "\n",
            "`distplot` is a deprecated function and will be removed in a future version. Please adapt your code to use either `displot` (a figure-level function with similar flexibility) or `kdeplot` (an axes-level function for kernel density plots).\n",
            "\n",
            "/usr/local/lib/python3.6/dist-packages/seaborn/distributions.py:2551: FutureWarning:\n",
            "\n",
            "`distplot` is a deprecated function and will be removed in a future version. Please adapt your code to use either `displot` (a figure-level function with similar flexibility) or `kdeplot` (an axes-level function for kernel density plots).\n",
            "\n",
            "/usr/local/lib/python3.6/dist-packages/seaborn/distributions.py:2551: FutureWarning:\n",
            "\n",
            "`distplot` is a deprecated function and will be removed in a future version. Please adapt your code to use either `displot` (a figure-level function with similar flexibility) or `kdeplot` (an axes-level function for kernel density plots).\n",
            "\n"
          ],
          "name": "stderr"
        },
        {
          "output_type": "execute_result",
          "data": {
            "text/plain": [
              "Text(0.5, 1.0, 'Résultats de la régression avec genres pour la prédiction de score_1')"
            ]
          },
          "metadata": {
            "tags": []
          },
          "execution_count": 530
        },
        {
          "output_type": "display_data",
          "data": {
            "image/png": "[encoded data removed]",
            "text/plain": [
              "<Figure size 576x360 with 1 Axes>"
            ]
          },
          "metadata": {
            "tags": [],
            "needs_background": "light"
          }
        }
      ]
    },
    {
      "cell_type": "markdown",
      "metadata": {
        "id": "t-0uqjPdsxzd"
      },
      "source": [
        "On voit que l'ajout du genre n'est pas particulièrement pertinent sur la valeur du score par rapport à l'ajout des sentiments et ratings. En effet, comme nous l'avions vu dans les statistiques descriptives avec la LDA, le genre du film n'est pas une information très utile pour prédire le succès d'un film, de même que les films à succès  semblent être en particulier ceux dont le synopsis sort de l'ordinaire. \n",
        "\n",
        "L'ensemble de ces observations porte à interpréter la \"recette\" du succès d'un film comme l'absence de recette  !"
      ]
    },
    {
      "cell_type": "markdown",
      "metadata": {
        "id": "DoOfThQxtzpk"
      },
      "source": [
        "# Ouverture : d'autres modèles ? Un random forest"
      ]
    },
    {
      "cell_type": "markdown",
      "metadata": {
        "id": "IsQiEs5kud8y"
      },
      "source": [
        "Un autre type de régresseur un peu plus élaboré est le Random Forest Regressor. On va prendre un hyperparamètre *n_estimators* de 10 pour commencer (10 arbres). "
      ]
    },
    {
      "cell_type": "code",
      "metadata": {
        "id": "QTqLp6TEdsyp"
      },
      "source": [
        "from sklearn.ensemble import RandomForestRegressor\n",
        "\n",
        "def rf_model(n_estimators, xtrain, xtest, ytrain, ytest):\n",
        "\n",
        "  regressor = RandomForestRegressor(n_estimators, random_state = 0)\n",
        "  regressor.fit(xtrain, ytrain)\n",
        "\n",
        "\n",
        "  y_train_predict = regressor.predict(xtrain)\n",
        "\n",
        "  rmse_train = (np.sqrt(mean_squared_error(ytrain, y_train_predict)))\n",
        "  r2_train = r2_score(ytrain, y_train_predict)\n",
        "  print(\"Performance du modèle sur la base d'apprentissage\")\n",
        "  print('--------------------------------------')\n",
        "  print(\"L'erreur quadratique moyenne est {}\".format(rmse_train))\n",
        "  print('Le score R² est {}'.format(r2_train))\n",
        "  print('\\n')\n",
        "\n",
        "\n",
        "  # Evaluation du testing set\n",
        "  y_test_predict = regressor.predict(xtest)\n",
        "  rmse_test = (np.sqrt(mean_squared_error(ytest, y_test_predict)))\n",
        "  r2_test = r2_score(ytest, y_test_predict)\n",
        "\n",
        "  print('Performance du modèle sur la base de test')\n",
        "  print('--------------------------------------')\n",
        "  print(\"L'erreur quadratique moyenne est {}\".format(rmse_test))\n",
        "  print('Le score R² est {}'.format(r2_test))\n",
        "  print('\\n')\n",
        "  return y_train_predict, y_test_predict, r2_test, r2_train, rmse_test, rmse_train"
      ],
      "execution_count": null,
      "outputs": []
    },
    {
      "cell_type": "code",
      "metadata": {
        "id": "iypcUR7Vw5ap",
        "colab": {
          "base_uri": "https://localhost:8080/"
        },
        "outputId": "e21c3bb1-e5dc-44ca-af92-f76eedada609"
      },
      "source": [
        "X = pd.DataFrame(np.c_[df.budget, df.revenue], columns= ['budget', 'revenue'])\n",
        "Y = df.score_1\n",
        "\n",
        "X_train, X_test, Y_train, Y_test = train_test_split(X, Y, test_size = 0.2, random_state=0)\n",
        "len(X_train), len(X_test), len(Y_train), len(Y_test)"
      ],
      "execution_count": null,
      "outputs": [
        {
          "output_type": "execute_result",
          "data": {
            "text/plain": [
              "(13884, 3472, 13884, 3472)"
            ]
          },
          "metadata": {
            "tags": []
          },
          "execution_count": 551
        }
      ]
    },
    {
      "cell_type": "code",
      "metadata": {
        "id": "Hb6jVhinzmT3"
      },
      "source": [
        "model_rf = rf_model(10, X_train, X_test, Y_train, Y_test)"
      ],
      "execution_count": null,
      "outputs": []
    },
    {
      "cell_type": "markdown",
      "metadata": {
        "id": "Z9Ae4YsIzona"
      },
      "source": [
        "Visualisons un peu nos prédictions."
      ]
    },
    {
      "cell_type": "code",
      "metadata": {
        "id": "Evw0SUDsuYrc",
        "colab": {
          "base_uri": "https://localhost:8080/",
          "height": 422
        },
        "outputId": "f4623b23-105d-40ef-8e58-9a14febd077b"
      },
      "source": [
        "\n",
        "\n",
        "fig, ax = plt.subplots(figsize=(12,6))\n",
        "res_test = pd.DataFrame({'score_1 réel': Y_test, 'score_1 prédit': model_rf[1]})\n",
        "sns.scatterplot(data=res_test, x=\"score_1 réel\",y=\"score_1 prédit\", label=\"Score prédit en fonction du score réel pour le jeu de données test\")\n",
        "identite = [i for i in range(0, 70000)]\n",
        "sns.lineplot(x=identite,y=identite,style=True, dashes=[(2,2)],color=\"red\")\n",
        "\n",
        "\n",
        "\n",
        "res_train = pd.DataFrame({'score_1 réel': Y_train, 'score_1 prédit': model_rf[0]})\n",
        "sns.scatterplot(data=res_train, x=\"score_1 réel\",y=\"score_1 prédit\", alpha=0.8, label=\"Score prédit en fonction du score réel pour le jeu de données entraîné\")\n",
        "\n",
        "plt.title(\"Score prédit en fonction du score réel \")"
      ],
      "execution_count": null,
      "outputs": [
        {
          "output_type": "execute_result",
          "data": {
            "text/plain": [
              "Text(0.5, 1.0, 'Score prédit en fonction du score réel ')"
            ]
          },
          "metadata": {
            "tags": []
          },
          "execution_count": 557
        },
        {
          "output_type": "display_data",
          "data": {
            "image/png": "[encoded data removed]",
            "text/plain": [
              "<Figure size 864x432 with 1 Axes>"
            ]
          },
          "metadata": {
            "tags": [],
            "needs_background": "light"
          }
        }
      ]
    },
    {
      "cell_type": "code",
      "metadata": {
        "id": "zkAHVQVpyZmX",
        "colab": {
          "base_uri": "https://localhost:8080/",
          "height": 1000
        },
        "outputId": "583512bf-3eb6-49f2-faf1-cc6eddcb0215"
      },
      "source": [
        "plot(Y_test,linear_model(X_train, Y_train, X_test, Y_test)[1])\n",
        "plt.title('Prédiction de la variable score_1 par le budget et le revenu \\n Régression linéaire')\n",
        "\n",
        "plot(Y_test, model_rf[1])\n",
        "plt.title('Prédiction de la variable score_1 par le budget et le revenu \\n Random Forest Regressor')\n",
        "\n",
        "plt.show()"
      ],
      "execution_count": null,
      "outputs": [
        {
          "output_type": "stream",
          "text": [
            "/usr/local/lib/python3.6/dist-packages/seaborn/distributions.py:2551: FutureWarning:\n",
            "\n",
            "`distplot` is a deprecated function and will be removed in a future version. Please adapt your code to use either `displot` (a figure-level function with similar flexibility) or `histplot` (an axes-level function for histograms).\n",
            "\n",
            "/usr/local/lib/python3.6/dist-packages/seaborn/distributions.py:2551: FutureWarning:\n",
            "\n",
            "`distplot` is a deprecated function and will be removed in a future version. Please adapt your code to use either `displot` (a figure-level function with similar flexibility) or `histplot` (an axes-level function for histograms).\n",
            "\n",
            "/usr/local/lib/python3.6/dist-packages/seaborn/distributions.py:2551: FutureWarning:\n",
            "\n",
            "`distplot` is a deprecated function and will be removed in a future version. Please adapt your code to use either `displot` (a figure-level function with similar flexibility) or `histplot` (an axes-level function for histograms).\n",
            "\n",
            "/usr/local/lib/python3.6/dist-packages/seaborn/distributions.py:2551: FutureWarning:\n",
            "\n",
            "`distplot` is a deprecated function and will be removed in a future version. Please adapt your code to use either `displot` (a figure-level function with similar flexibility) or `histplot` (an axes-level function for histograms).\n",
            "\n"
          ],
          "name": "stderr"
        },
        {
          "output_type": "display_data",
          "data": {
            "image/png": "[encoded data removed]",
            "text/plain": [
              "<Figure size 576x360 with 1 Axes>"
            ]
          },
          "metadata": {
            "tags": [],
            "needs_background": "light"
          }
        },
        {
          "output_type": "display_data",
          "data": {
            "image/png": "[encoded data removed]",
            "text/plain": [
              "<Figure size 576x360 with 1 Axes>"
            ]
          },
          "metadata": {
            "tags": [],
            "needs_background": "light"
          }
        }
      ]
    },
    {
      "cell_type": "markdown",
      "metadata": {
        "id": "JSYIlwUF0UZR"
      },
      "source": [
        "Le Random Forest est plus efficace pour la prédiction que le modèle linéaire. On pourrait tenter d'ajuster ce modèle de la même manière que la régression linéaire, toutefois, on a vu que l'ajout des commentaires et des sentiments tronquait de manière importante la quantité de données exploitables ce qui ne serait pas idéal pour un Random Forest. "
      ]
    },
    {
      "cell_type": "markdown",
      "metadata": {
        "id": "2UU8IgwY0mux"
      },
      "source": [
        "# Conclusion de la modélisation\n"
      ]
    },
    {
      "cell_type": "markdown",
      "metadata": {
        "id": "MGCFgS7PDHLU"
      },
      "source": [
        "On a utilisé différentes méthodes de Machine Learning afin de modéliser la \"recette\" du succès d'un film. \n",
        "\n",
        "Dans les parties précédentes, nous avions construits des indicateurs de succès (confrontant  la popularité à un score mélangeant succès critique et popularité). En regardant les différentes variables, nous avions noté un certain nombre de caractéristiques des films : la prédominance de certains genres dans l'ensemble des films, par des méthodes de NLP, nous avons cherché à caractériser les topics pour des films à succès. La conclusion précédente était qu'il n'y avait pas de topic particulier pour des films à succès. \n",
        "\n",
        "D'autre part nous avions regardé des variables qui n'ont pas été utilisées dans la modélisation mais qui auraient pu être pertinentes pour expliquer le succès ou non d'un film : comme la compagnie produisant le film (variable qui peut être corrélée au budget du film qui est mal renseigné !) ou encore la provenance géographique du film. \n",
        "\n",
        "Dans cette partie de modélisation où nous cherchons à prédire le score d'un film (donc son succès), nous avons choisi un modèle simple car en effet de nombreuses informations sont manquantes dans le budget et le revenu. Nous avons aussi cherché à améliorer la **régression linéaire** par différentes méthodes en enrichissant notre base par du *sentiment analysis* sur un batch de commentaires imdb par des méthodes supervisées et semi-supervisées. La comparaison des résultats fait ressortir l'importance de choisir un compromis entre réduction/augmentation de notre échantillon et ajout de features plus ou moins intéressants. Et comme l'on pouvait s'y attendre de nos observations précédentes, le genre est un indicateur médiocre pour prédire le succès d'un film. \n",
        "\n",
        "Nous avons terminé par entraîner un modèle de Random Forest sur la base la plus complète possible (avec comme features le budget et le revenu) pour prédire le score. La performance du Random Forest améliore celle de la régression linéaire, trop \"simple\" sans doute pour prédire le succès d'un film. Mais à nouveau, il paraît difficile d'ajuster le modèle en rajoutant des variables d'intérêt sans diminuer la qualité de la prédiction par la diminution drastique de la quantité de données. \n",
        "\n",
        "En conclusion, prédire la \"recette à succès\" d'un film est une tâche difficile, et nos résultats sont davantages la preuve qu'il n'y a pas réellement de recette que le contraire. Toutefois, l'influence du budget et l'indication des revenus du films sont des informations pertinentes ainsi que les sentiments engendrés récupérés via les commentaires. "
      ]
    }
  ]
}