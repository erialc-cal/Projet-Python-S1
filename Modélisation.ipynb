{
  "nbformat": 4,
  "nbformat_minor": 0,
  "metadata": {
    "colab": {
      "name": "Modélisation",
      "provenance": [],
      "toc_visible": true,
      "include_colab_link": true
    },
    "kernelspec": {
      "name": "python3",
      "display_name": "Python 3"
    }
  },
  "cells": [
    {
      "cell_type": "markdown",
      "metadata": {
        "id": "view-in-github",
        "colab_type": "text"
      },
      "source": [
        "<a href=\"https://colab.research.google.com/github/marie-ganon/Projet-Python-S1/blob/main/Mod%C3%A9lisation.ipynb\" target=\"_parent\"><img src=\"https://colab.research.google.com/assets/colab-badge.svg\" alt=\"Open In Colab\"/></a>"
      ]
    },
    {
      "cell_type": "code",
      "metadata": {
        "id": "VhSzdGb1o4NV"
      },
      "source": [
        "import numpy as np\n",
        "import pandas as pd\n",
        "import matplotlib.pyplot as plt\n",
        "import plotly.express as px\n",
        "from urllib import request\n",
        "from wordcloud import WordCloud, STOPWORDS \n",
        "import csv\n",
        "import bs4\n",
        "from tqdm.notebook import trange, tqdm\n",
        "import seaborn as sns\n",
        "import numpy as np\n",
        "import random as rd"
      ],
      "execution_count": 2,
      "outputs": []
    },
    {
      "cell_type": "code",
      "metadata": {
        "id": "67siAA_8vW-W"
      },
      "source": [
        "rd.seed(42)"
      ],
      "execution_count": 3,
      "outputs": []
    },
    {
      "cell_type": "markdown",
      "metadata": {
        "id": "F1Q-XYZWNdoJ"
      },
      "source": [
        "Import des bases : \n",
        "- *df* contient la base TMDb\n",
        "- *train_review* contient la partie entraînée sur les reviews labellisés\n",
        "- *test_review* contient la partie test sur les reviews labellisés\n",
        "\n",
        "\n",
        "\n"
      ]
    },
    {
      "cell_type": "code",
      "metadata": {
        "id": "m-b-E64IpT6l"
      },
      "source": [
        " df = pd.read_csv('https://raw.githubusercontent.com/marie-ganon/Projet-Python-S1/main/Bases_import%C3%A9es/base.csv')"
      ],
      "execution_count": 4,
      "outputs": []
    },
    {
      "cell_type": "markdown",
      "metadata": {
        "id": "kQVnDM9M1KsO"
      },
      "source": [
        "Avant de modéliser quoi que ce soit, nous allons supprimer les 'NaN' de la base de données."
      ]
    },
    {
      "cell_type": "code",
      "metadata": {
        "id": "rxaEYJJpyhUu"
      },
      "source": [
        "df = df.dropna()\r\n",
        "df = df.drop(columns='Unnamed: 0')"
      ],
      "execution_count": 5,
      "outputs": []
    },
    {
      "cell_type": "code",
      "metadata": {
        "id": "R8yAttJ9N8Ak",
        "outputId": "2ab306e1-4284-4ac6-9e4d-ce693b2b0461",
        "colab": {
          "base_uri": "https://localhost:8080/",
          "height": 368
        }
      },
      "source": [
        "# Fichier temporaire\n",
        "\n",
        "import tempfile\n",
        "\n",
        "temp_dir = tempfile.mkdtemp()\n",
        "\n",
        "# Pour dezipper le csv disponible dans le git \n",
        "\n",
        "import zipfile\n",
        "\n",
        "with zipfile.ZipFile('test_review.csv.zip', 'r') as zip1, zipfile.ZipFile('train_review.csv.zip', 'r') as zip2 :\n",
        "    zip1.extractall('temp_dir')\n",
        "    zip2.extractall('temp_dir')\n",
        "\n",
        "test_review = pd.read_csv(r'temp_dir/test_review.csv', sep=',', low_memory = False)\n",
        "train_review = pd.read_csv(r'temp_dir/train_review.csv', sep=',', low_memory = False)\n"
      ],
      "execution_count": 7,
      "outputs": [
        {
          "output_type": "error",
          "ename": "FileNotFoundError",
          "evalue": "ignored",
          "traceback": [
            "\u001b[0;31m---------------------------------------------------------------------------\u001b[0m",
            "\u001b[0;31mFileNotFoundError\u001b[0m                         Traceback (most recent call last)",
            "\u001b[0;32m<ipython-input-7-ce1bcb639072>\u001b[0m in \u001b[0;36m<module>\u001b[0;34m()\u001b[0m\n\u001b[1;32m      9\u001b[0m \u001b[0;32mimport\u001b[0m \u001b[0mzipfile\u001b[0m\u001b[0;34m\u001b[0m\u001b[0;34m\u001b[0m\u001b[0m\n\u001b[1;32m     10\u001b[0m \u001b[0;34m\u001b[0m\u001b[0m\n\u001b[0;32m---> 11\u001b[0;31m \u001b[0;32mwith\u001b[0m \u001b[0mzipfile\u001b[0m\u001b[0;34m.\u001b[0m\u001b[0mZipFile\u001b[0m\u001b[0;34m(\u001b[0m\u001b[0;34m'test_review.csv.zip'\u001b[0m\u001b[0;34m,\u001b[0m \u001b[0;34m'r'\u001b[0m\u001b[0;34m)\u001b[0m \u001b[0;32mas\u001b[0m \u001b[0mzip1\u001b[0m\u001b[0;34m,\u001b[0m \u001b[0mzipfile\u001b[0m\u001b[0;34m.\u001b[0m\u001b[0mZipFile\u001b[0m\u001b[0;34m(\u001b[0m\u001b[0;34m'train_review.csv.zip'\u001b[0m\u001b[0;34m,\u001b[0m \u001b[0;34m'r'\u001b[0m\u001b[0;34m)\u001b[0m \u001b[0;32mas\u001b[0m \u001b[0mzip2\u001b[0m \u001b[0;34m:\u001b[0m\u001b[0;34m\u001b[0m\u001b[0;34m\u001b[0m\u001b[0m\n\u001b[0m\u001b[1;32m     12\u001b[0m     \u001b[0mzip1\u001b[0m\u001b[0;34m.\u001b[0m\u001b[0mextractall\u001b[0m\u001b[0;34m(\u001b[0m\u001b[0;34m'temp_dir'\u001b[0m\u001b[0;34m)\u001b[0m\u001b[0;34m\u001b[0m\u001b[0;34m\u001b[0m\u001b[0m\n\u001b[1;32m     13\u001b[0m     \u001b[0mzip2\u001b[0m\u001b[0;34m.\u001b[0m\u001b[0mextractall\u001b[0m\u001b[0;34m(\u001b[0m\u001b[0;34m'temp_dir'\u001b[0m\u001b[0;34m)\u001b[0m\u001b[0;34m\u001b[0m\u001b[0;34m\u001b[0m\u001b[0m\n",
            "\u001b[0;32m/usr/lib/python3.6/zipfile.py\u001b[0m in \u001b[0;36m__init__\u001b[0;34m(self, file, mode, compression, allowZip64)\u001b[0m\n\u001b[1;32m   1111\u001b[0m             \u001b[0;32mwhile\u001b[0m \u001b[0;32mTrue\u001b[0m\u001b[0;34m:\u001b[0m\u001b[0;34m\u001b[0m\u001b[0;34m\u001b[0m\u001b[0m\n\u001b[1;32m   1112\u001b[0m                 \u001b[0;32mtry\u001b[0m\u001b[0;34m:\u001b[0m\u001b[0;34m\u001b[0m\u001b[0;34m\u001b[0m\u001b[0m\n\u001b[0;32m-> 1113\u001b[0;31m                     \u001b[0mself\u001b[0m\u001b[0;34m.\u001b[0m\u001b[0mfp\u001b[0m \u001b[0;34m=\u001b[0m \u001b[0mio\u001b[0m\u001b[0;34m.\u001b[0m\u001b[0mopen\u001b[0m\u001b[0;34m(\u001b[0m\u001b[0mfile\u001b[0m\u001b[0;34m,\u001b[0m \u001b[0mfilemode\u001b[0m\u001b[0;34m)\u001b[0m\u001b[0;34m\u001b[0m\u001b[0;34m\u001b[0m\u001b[0m\n\u001b[0m\u001b[1;32m   1114\u001b[0m                 \u001b[0;32mexcept\u001b[0m \u001b[0mOSError\u001b[0m\u001b[0;34m:\u001b[0m\u001b[0;34m\u001b[0m\u001b[0;34m\u001b[0m\u001b[0m\n\u001b[1;32m   1115\u001b[0m                     \u001b[0;32mif\u001b[0m \u001b[0mfilemode\u001b[0m \u001b[0;32min\u001b[0m \u001b[0mmodeDict\u001b[0m\u001b[0;34m:\u001b[0m\u001b[0;34m\u001b[0m\u001b[0;34m\u001b[0m\u001b[0m\n",
            "\u001b[0;31mFileNotFoundError\u001b[0m: [Errno 2] No such file or directory: 'test_review.csv.zip'"
          ]
        }
      ]
    },
    {
      "cell_type": "markdown",
      "metadata": {
        "id": "HTv1TTYvwpj8"
      },
      "source": [
        "# Analyse de la matrice de corrélation de la base"
      ]
    },
    {
      "cell_type": "markdown",
      "metadata": {
        "id": "ufujyh3hu8HR"
      },
      "source": [
        "Rappelons la matrice de corrélation de la base :"
      ]
    },
    {
      "cell_type": "code",
      "metadata": {
        "id": "_xh2xAXwpiF3",
        "colab": {
          "base_uri": "https://localhost:8080/",
          "height": 308
        },
        "outputId": "7e869aa8-c3a9-4085-db3c-4b8ca7b4cc09"
      },
      "source": [
        "corr = df.corr()\n",
        "corr.style.background_gradient(cmap = 'coolwarm')"
      ],
      "execution_count": null,
      "outputs": [
        {
          "output_type": "execute_result",
          "data": {
            "text/html": [
              "<style  type=\"text/css\" >\n",
              "#T_d199bc8c_3bcd_11eb_9f0d_0242ac1c0002row0_col0,#T_d199bc8c_3bcd_11eb_9f0d_0242ac1c0002row1_col1,#T_d199bc8c_3bcd_11eb_9f0d_0242ac1c0002row2_col2,#T_d199bc8c_3bcd_11eb_9f0d_0242ac1c0002row3_col3,#T_d199bc8c_3bcd_11eb_9f0d_0242ac1c0002row4_col4,#T_d199bc8c_3bcd_11eb_9f0d_0242ac1c0002row5_col5,#T_d199bc8c_3bcd_11eb_9f0d_0242ac1c0002row6_col6,#T_d199bc8c_3bcd_11eb_9f0d_0242ac1c0002row7_col7,#T_d199bc8c_3bcd_11eb_9f0d_0242ac1c0002row8_col8,#T_d199bc8c_3bcd_11eb_9f0d_0242ac1c0002row9_col9,#T_d199bc8c_3bcd_11eb_9f0d_0242ac1c0002row10_col10,#T_d199bc8c_3bcd_11eb_9f0d_0242ac1c0002row11_col11{\n",
              "            background-color:  #b40426;\n",
              "            color:  #f1f1f1;\n",
              "        }#T_d199bc8c_3bcd_11eb_9f0d_0242ac1c0002row0_col1,#T_d199bc8c_3bcd_11eb_9f0d_0242ac1c0002row2_col11{\n",
              "            background-color:  #465ecf;\n",
              "            color:  #f1f1f1;\n",
              "        }#T_d199bc8c_3bcd_11eb_9f0d_0242ac1c0002row0_col2{\n",
              "            background-color:  #f6a283;\n",
              "            color:  #000000;\n",
              "        }#T_d199bc8c_3bcd_11eb_9f0d_0242ac1c0002row0_col3{\n",
              "            background-color:  #4257c9;\n",
              "            color:  #f1f1f1;\n",
              "        }#T_d199bc8c_3bcd_11eb_9f0d_0242ac1c0002row0_col4,#T_d199bc8c_3bcd_11eb_9f0d_0242ac1c0002row6_col2{\n",
              "            background-color:  #455cce;\n",
              "            color:  #f1f1f1;\n",
              "        }#T_d199bc8c_3bcd_11eb_9f0d_0242ac1c0002row0_col5,#T_d199bc8c_3bcd_11eb_9f0d_0242ac1c0002row0_col6,#T_d199bc8c_3bcd_11eb_9f0d_0242ac1c0002row2_col8,#T_d199bc8c_3bcd_11eb_9f0d_0242ac1c0002row6_col0,#T_d199bc8c_3bcd_11eb_9f0d_0242ac1c0002row10_col1,#T_d199bc8c_3bcd_11eb_9f0d_0242ac1c0002row10_col3,#T_d199bc8c_3bcd_11eb_9f0d_0242ac1c0002row10_col4,#T_d199bc8c_3bcd_11eb_9f0d_0242ac1c0002row10_col7,#T_d199bc8c_3bcd_11eb_9f0d_0242ac1c0002row10_col9,#T_d199bc8c_3bcd_11eb_9f0d_0242ac1c0002row10_col11,#T_d199bc8c_3bcd_11eb_9f0d_0242ac1c0002row11_col2,#T_d199bc8c_3bcd_11eb_9f0d_0242ac1c0002row11_col10{\n",
              "            background-color:  #3b4cc0;\n",
              "            color:  #f1f1f1;\n",
              "        }#T_d199bc8c_3bcd_11eb_9f0d_0242ac1c0002row0_col7,#T_d199bc8c_3bcd_11eb_9f0d_0242ac1c0002row2_col4,#T_d199bc8c_3bcd_11eb_9f0d_0242ac1c0002row5_col0,#T_d199bc8c_3bcd_11eb_9f0d_0242ac1c0002row10_col5{\n",
              "            background-color:  #4b64d5;\n",
              "            color:  #f1f1f1;\n",
              "        }#T_d199bc8c_3bcd_11eb_9f0d_0242ac1c0002row0_col8{\n",
              "            background-color:  #3f53c6;\n",
              "            color:  #f1f1f1;\n",
              "        }#T_d199bc8c_3bcd_11eb_9f0d_0242ac1c0002row0_col9{\n",
              "            background-color:  #4961d2;\n",
              "            color:  #f1f1f1;\n",
              "        }#T_d199bc8c_3bcd_11eb_9f0d_0242ac1c0002row0_col10{\n",
              "            background-color:  #d2dbe8;\n",
              "            color:  #000000;\n",
              "        }#T_d199bc8c_3bcd_11eb_9f0d_0242ac1c0002row0_col11{\n",
              "            background-color:  #3c4ec2;\n",
              "            color:  #f1f1f1;\n",
              "        }#T_d199bc8c_3bcd_11eb_9f0d_0242ac1c0002row1_col0,#T_d199bc8c_3bcd_11eb_9f0d_0242ac1c0002row3_col0{\n",
              "            background-color:  #5a78e4;\n",
              "            color:  #000000;\n",
              "        }#T_d199bc8c_3bcd_11eb_9f0d_0242ac1c0002row1_col2,#T_d199bc8c_3bcd_11eb_9f0d_0242ac1c0002row5_col2,#T_d199bc8c_3bcd_11eb_9f0d_0242ac1c0002row7_col10{\n",
              "            background-color:  #5470de;\n",
              "            color:  #000000;\n",
              "        }#T_d199bc8c_3bcd_11eb_9f0d_0242ac1c0002row1_col3{\n",
              "            background-color:  #d9dce1;\n",
              "            color:  #000000;\n",
              "        }#T_d199bc8c_3bcd_11eb_9f0d_0242ac1c0002row1_col4{\n",
              "            background-color:  #ef886b;\n",
              "            color:  #000000;\n",
              "        }#T_d199bc8c_3bcd_11eb_9f0d_0242ac1c0002row1_col5,#T_d199bc8c_3bcd_11eb_9f0d_0242ac1c0002row8_col7{\n",
              "            background-color:  #abc8fd;\n",
              "            color:  #000000;\n",
              "        }#T_d199bc8c_3bcd_11eb_9f0d_0242ac1c0002row1_col6,#T_d199bc8c_3bcd_11eb_9f0d_0242ac1c0002row3_col8,#T_d199bc8c_3bcd_11eb_9f0d_0242ac1c0002row5_col4{\n",
              "            background-color:  #96b7ff;\n",
              "            color:  #000000;\n",
              "        }#T_d199bc8c_3bcd_11eb_9f0d_0242ac1c0002row1_col7{\n",
              "            background-color:  #f7aa8c;\n",
              "            color:  #000000;\n",
              "        }#T_d199bc8c_3bcd_11eb_9f0d_0242ac1c0002row1_col8,#T_d199bc8c_3bcd_11eb_9f0d_0242ac1c0002row6_col7{\n",
              "            background-color:  #9ebeff;\n",
              "            color:  #000000;\n",
              "        }#T_d199bc8c_3bcd_11eb_9f0d_0242ac1c0002row1_col9{\n",
              "            background-color:  #f7b89c;\n",
              "            color:  #000000;\n",
              "        }#T_d199bc8c_3bcd_11eb_9f0d_0242ac1c0002row1_col10,#T_d199bc8c_3bcd_11eb_9f0d_0242ac1c0002row2_col1{\n",
              "            background-color:  #4e68d8;\n",
              "            color:  #000000;\n",
              "        }#T_d199bc8c_3bcd_11eb_9f0d_0242ac1c0002row1_col11,#T_d199bc8c_3bcd_11eb_9f0d_0242ac1c0002row6_col3,#T_d199bc8c_3bcd_11eb_9f0d_0242ac1c0002row8_col3{\n",
              "            background-color:  #9abbff;\n",
              "            color:  #000000;\n",
              "        }#T_d199bc8c_3bcd_11eb_9f0d_0242ac1c0002row2_col0{\n",
              "            background-color:  #f59d7e;\n",
              "            color:  #000000;\n",
              "        }#T_d199bc8c_3bcd_11eb_9f0d_0242ac1c0002row2_col3,#T_d199bc8c_3bcd_11eb_9f0d_0242ac1c0002row8_col0,#T_d199bc8c_3bcd_11eb_9f0d_0242ac1c0002row8_col10{\n",
              "            background-color:  #5d7ce6;\n",
              "            color:  #000000;\n",
              "        }#T_d199bc8c_3bcd_11eb_9f0d_0242ac1c0002row2_col5{\n",
              "            background-color:  #506bda;\n",
              "            color:  #000000;\n",
              "        }#T_d199bc8c_3bcd_11eb_9f0d_0242ac1c0002row2_col6,#T_d199bc8c_3bcd_11eb_9f0d_0242ac1c0002row2_col9{\n",
              "            background-color:  #536edd;\n",
              "            color:  #000000;\n",
              "        }#T_d199bc8c_3bcd_11eb_9f0d_0242ac1c0002row2_col7{\n",
              "            background-color:  #5572df;\n",
              "            color:  #000000;\n",
              "        }#T_d199bc8c_3bcd_11eb_9f0d_0242ac1c0002row2_col10{\n",
              "            background-color:  #dadce0;\n",
              "            color:  #000000;\n",
              "        }#T_d199bc8c_3bcd_11eb_9f0d_0242ac1c0002row3_col1{\n",
              "            background-color:  #dbdcde;\n",
              "            color:  #000000;\n",
              "        }#T_d199bc8c_3bcd_11eb_9f0d_0242ac1c0002row3_col2{\n",
              "            background-color:  #688aef;\n",
              "            color:  #000000;\n",
              "        }#T_d199bc8c_3bcd_11eb_9f0d_0242ac1c0002row3_col4{\n",
              "            background-color:  #ead5c9;\n",
              "            color:  #000000;\n",
              "        }#T_d199bc8c_3bcd_11eb_9f0d_0242ac1c0002row3_col5{\n",
              "            background-color:  #98b9ff;\n",
              "            color:  #000000;\n",
              "        }#T_d199bc8c_3bcd_11eb_9f0d_0242ac1c0002row3_col6{\n",
              "            background-color:  #aec9fc;\n",
              "            color:  #000000;\n",
              "        }#T_d199bc8c_3bcd_11eb_9f0d_0242ac1c0002row3_col7,#T_d199bc8c_3bcd_11eb_9f0d_0242ac1c0002row7_col3{\n",
              "            background-color:  #f2cbb7;\n",
              "            color:  #000000;\n",
              "        }#T_d199bc8c_3bcd_11eb_9f0d_0242ac1c0002row3_col9{\n",
              "            background-color:  #f0cdbb;\n",
              "            color:  #000000;\n",
              "        }#T_d199bc8c_3bcd_11eb_9f0d_0242ac1c0002row3_col10{\n",
              "            background-color:  #516ddb;\n",
              "            color:  #000000;\n",
              "        }#T_d199bc8c_3bcd_11eb_9f0d_0242ac1c0002row3_col11,#T_d199bc8c_3bcd_11eb_9f0d_0242ac1c0002row6_col4,#T_d199bc8c_3bcd_11eb_9f0d_0242ac1c0002row6_col11,#T_d199bc8c_3bcd_11eb_9f0d_0242ac1c0002row11_col6{\n",
              "            background-color:  #86a9fc;\n",
              "            color:  #000000;\n",
              "        }#T_d199bc8c_3bcd_11eb_9f0d_0242ac1c0002row4_col0,#T_d199bc8c_3bcd_11eb_9f0d_0242ac1c0002row6_col8,#T_d199bc8c_3bcd_11eb_9f0d_0242ac1c0002row9_col2{\n",
              "            background-color:  #6282ea;\n",
              "            color:  #000000;\n",
              "        }#T_d199bc8c_3bcd_11eb_9f0d_0242ac1c0002row4_col1{\n",
              "            background-color:  #ee8468;\n",
              "            color:  #000000;\n",
              "        }#T_d199bc8c_3bcd_11eb_9f0d_0242ac1c0002row4_col2,#T_d199bc8c_3bcd_11eb_9f0d_0242ac1c0002row5_col10{\n",
              "            background-color:  #5b7ae5;\n",
              "            color:  #000000;\n",
              "        }#T_d199bc8c_3bcd_11eb_9f0d_0242ac1c0002row4_col3{\n",
              "            background-color:  #ead4c8;\n",
              "            color:  #000000;\n",
              "        }#T_d199bc8c_3bcd_11eb_9f0d_0242ac1c0002row4_col5,#T_d199bc8c_3bcd_11eb_9f0d_0242ac1c0002row4_col6,#T_d199bc8c_3bcd_11eb_9f0d_0242ac1c0002row6_col9{\n",
              "            background-color:  #9fbfff;\n",
              "            color:  #000000;\n",
              "        }#T_d199bc8c_3bcd_11eb_9f0d_0242ac1c0002row4_col7{\n",
              "            background-color:  #e8765c;\n",
              "            color:  #000000;\n",
              "        }#T_d199bc8c_3bcd_11eb_9f0d_0242ac1c0002row4_col8{\n",
              "            background-color:  #b3cdfb;\n",
              "            color:  #000000;\n",
              "        }#T_d199bc8c_3bcd_11eb_9f0d_0242ac1c0002row4_col9,#T_d199bc8c_3bcd_11eb_9f0d_0242ac1c0002row9_col4{\n",
              "            background-color:  #ec8165;\n",
              "            color:  #000000;\n",
              "        }#T_d199bc8c_3bcd_11eb_9f0d_0242ac1c0002row4_col10,#T_d199bc8c_3bcd_11eb_9f0d_0242ac1c0002row9_col10{\n",
              "            background-color:  #5673e0;\n",
              "            color:  #000000;\n",
              "        }#T_d199bc8c_3bcd_11eb_9f0d_0242ac1c0002row4_col11{\n",
              "            background-color:  #97b8ff;\n",
              "            color:  #000000;\n",
              "        }#T_d199bc8c_3bcd_11eb_9f0d_0242ac1c0002row5_col1{\n",
              "            background-color:  #aac7fd;\n",
              "            color:  #000000;\n",
              "        }#T_d199bc8c_3bcd_11eb_9f0d_0242ac1c0002row5_col3{\n",
              "            background-color:  #93b5fe;\n",
              "            color:  #000000;\n",
              "        }#T_d199bc8c_3bcd_11eb_9f0d_0242ac1c0002row5_col6{\n",
              "            background-color:  #bad0f8;\n",
              "            color:  #000000;\n",
              "        }#T_d199bc8c_3bcd_11eb_9f0d_0242ac1c0002row5_col7{\n",
              "            background-color:  #9dbdff;\n",
              "            color:  #000000;\n",
              "        }#T_d199bc8c_3bcd_11eb_9f0d_0242ac1c0002row5_col8{\n",
              "            background-color:  #5875e1;\n",
              "            color:  #000000;\n",
              "        }#T_d199bc8c_3bcd_11eb_9f0d_0242ac1c0002row5_col9{\n",
              "            background-color:  #9bbcff;\n",
              "            color:  #000000;\n",
              "        }#T_d199bc8c_3bcd_11eb_9f0d_0242ac1c0002row5_col11{\n",
              "            background-color:  #8caffe;\n",
              "            color:  #000000;\n",
              "        }#T_d199bc8c_3bcd_11eb_9f0d_0242ac1c0002row6_col1{\n",
              "            background-color:  #85a8fc;\n",
              "            color:  #000000;\n",
              "        }#T_d199bc8c_3bcd_11eb_9f0d_0242ac1c0002row6_col5{\n",
              "            background-color:  #adc9fd;\n",
              "            color:  #000000;\n",
              "        }#T_d199bc8c_3bcd_11eb_9f0d_0242ac1c0002row6_col10,#T_d199bc8c_3bcd_11eb_9f0d_0242ac1c0002row10_col6{\n",
              "            background-color:  #5977e3;\n",
              "            color:  #000000;\n",
              "        }#T_d199bc8c_3bcd_11eb_9f0d_0242ac1c0002row7_col0,#T_d199bc8c_3bcd_11eb_9f0d_0242ac1c0002row9_col0{\n",
              "            background-color:  #6485ec;\n",
              "            color:  #000000;\n",
              "        }#T_d199bc8c_3bcd_11eb_9f0d_0242ac1c0002row7_col1{\n",
              "            background-color:  #f7a889;\n",
              "            color:  #000000;\n",
              "        }#T_d199bc8c_3bcd_11eb_9f0d_0242ac1c0002row7_col2,#T_d199bc8c_3bcd_11eb_9f0d_0242ac1c0002row8_col5{\n",
              "            background-color:  #6384eb;\n",
              "            color:  #000000;\n",
              "        }#T_d199bc8c_3bcd_11eb_9f0d_0242ac1c0002row7_col4{\n",
              "            background-color:  #e9785d;\n",
              "            color:  #000000;\n",
              "        }#T_d199bc8c_3bcd_11eb_9f0d_0242ac1c0002row7_col5,#T_d199bc8c_3bcd_11eb_9f0d_0242ac1c0002row9_col5{\n",
              "            background-color:  #a5c3fe;\n",
              "            color:  #000000;\n",
              "        }#T_d199bc8c_3bcd_11eb_9f0d_0242ac1c0002row7_col6{\n",
              "            background-color:  #b2ccfb;\n",
              "            color:  #000000;\n",
              "        }#T_d199bc8c_3bcd_11eb_9f0d_0242ac1c0002row7_col8{\n",
              "            background-color:  #a9c6fd;\n",
              "            color:  #000000;\n",
              "        }#T_d199bc8c_3bcd_11eb_9f0d_0242ac1c0002row7_col9,#T_d199bc8c_3bcd_11eb_9f0d_0242ac1c0002row9_col7{\n",
              "            background-color:  #b50927;\n",
              "            color:  #f1f1f1;\n",
              "        }#T_d199bc8c_3bcd_11eb_9f0d_0242ac1c0002row7_col11{\n",
              "            background-color:  #8fb1fe;\n",
              "            color:  #000000;\n",
              "        }#T_d199bc8c_3bcd_11eb_9f0d_0242ac1c0002row8_col1{\n",
              "            background-color:  #a6c4fe;\n",
              "            color:  #000000;\n",
              "        }#T_d199bc8c_3bcd_11eb_9f0d_0242ac1c0002row8_col2{\n",
              "            background-color:  #4a63d3;\n",
              "            color:  #f1f1f1;\n",
              "        }#T_d199bc8c_3bcd_11eb_9f0d_0242ac1c0002row8_col4,#T_d199bc8c_3bcd_11eb_9f0d_0242ac1c0002row9_col6{\n",
              "            background-color:  #b5cdfa;\n",
              "            color:  #000000;\n",
              "        }#T_d199bc8c_3bcd_11eb_9f0d_0242ac1c0002row8_col6,#T_d199bc8c_3bcd_11eb_9f0d_0242ac1c0002row11_col4{\n",
              "            background-color:  #7ea1fa;\n",
              "            color:  #000000;\n",
              "        }#T_d199bc8c_3bcd_11eb_9f0d_0242ac1c0002row8_col9,#T_d199bc8c_3bcd_11eb_9f0d_0242ac1c0002row9_col8{\n",
              "            background-color:  #a3c2fe;\n",
              "            color:  #000000;\n",
              "        }#T_d199bc8c_3bcd_11eb_9f0d_0242ac1c0002row8_col11{\n",
              "            background-color:  #82a6fb;\n",
              "            color:  #000000;\n",
              "        }#T_d199bc8c_3bcd_11eb_9f0d_0242ac1c0002row9_col1{\n",
              "            background-color:  #f7b599;\n",
              "            color:  #000000;\n",
              "        }#T_d199bc8c_3bcd_11eb_9f0d_0242ac1c0002row9_col3{\n",
              "            background-color:  #f1cdba;\n",
              "            color:  #000000;\n",
              "        }#T_d199bc8c_3bcd_11eb_9f0d_0242ac1c0002row9_col11{\n",
              "            background-color:  #8db0fe;\n",
              "            color:  #000000;\n",
              "        }#T_d199bc8c_3bcd_11eb_9f0d_0242ac1c0002row10_col0{\n",
              "            background-color:  #d3dbe7;\n",
              "            color:  #000000;\n",
              "        }#T_d199bc8c_3bcd_11eb_9f0d_0242ac1c0002row10_col2{\n",
              "            background-color:  #d4dbe6;\n",
              "            color:  #000000;\n",
              "        }#T_d199bc8c_3bcd_11eb_9f0d_0242ac1c0002row10_col8{\n",
              "            background-color:  #4055c8;\n",
              "            color:  #f1f1f1;\n",
              "        }#T_d199bc8c_3bcd_11eb_9f0d_0242ac1c0002row11_col0{\n",
              "            background-color:  #3d50c3;\n",
              "            color:  #f1f1f1;\n",
              "        }#T_d199bc8c_3bcd_11eb_9f0d_0242ac1c0002row11_col1{\n",
              "            background-color:  #89acfd;\n",
              "            color:  #000000;\n",
              "        }#T_d199bc8c_3bcd_11eb_9f0d_0242ac1c0002row11_col3{\n",
              "            background-color:  #7093f3;\n",
              "            color:  #000000;\n",
              "        }#T_d199bc8c_3bcd_11eb_9f0d_0242ac1c0002row11_col5{\n",
              "            background-color:  #7da0f9;\n",
              "            color:  #000000;\n",
              "        }#T_d199bc8c_3bcd_11eb_9f0d_0242ac1c0002row11_col7{\n",
              "            background-color:  #779af7;\n",
              "            color:  #000000;\n",
              "        }#T_d199bc8c_3bcd_11eb_9f0d_0242ac1c0002row11_col8{\n",
              "            background-color:  #6788ee;\n",
              "            color:  #000000;\n",
              "        }#T_d199bc8c_3bcd_11eb_9f0d_0242ac1c0002row11_col9{\n",
              "            background-color:  #7396f5;\n",
              "            color:  #000000;\n",
              "        }</style><table id=\"T_d199bc8c_3bcd_11eb_9f0d_0242ac1c0002\" ><thead>    <tr>        <th class=\"blank level0\" ></th>        <th class=\"col_heading level0 col0\" >index</th>        <th class=\"col_heading level0 col1\" >budget</th>        <th class=\"col_heading level0 col2\" >id</th>        <th class=\"col_heading level0 col3\" >popularity</th>        <th class=\"col_heading level0 col4\" >revenue</th>        <th class=\"col_heading level0 col5\" >runtime</th>        <th class=\"col_heading level0 col6\" >vote_average</th>        <th class=\"col_heading level0 col7\" >vote_count</th>        <th class=\"col_heading level0 col8\" >collection</th>        <th class=\"col_heading level0 col9\" >score_1</th>        <th class=\"col_heading level0 col10\" >production_companies_id</th>        <th class=\"col_heading level0 col11\" >pc_id_count</th>    </tr></thead><tbody>\n",
              "                <tr>\n",
              "                        <th id=\"T_d199bc8c_3bcd_11eb_9f0d_0242ac1c0002level0_row0\" class=\"row_heading level0 row0\" >index</th>\n",
              "                        <td id=\"T_d199bc8c_3bcd_11eb_9f0d_0242ac1c0002row0_col0\" class=\"data row0 col0\" >1.000000</td>\n",
              "                        <td id=\"T_d199bc8c_3bcd_11eb_9f0d_0242ac1c0002row0_col1\" class=\"data row0 col1\" >-0.111052</td>\n",
              "                        <td id=\"T_d199bc8c_3bcd_11eb_9f0d_0242ac1c0002row0_col2\" class=\"data row0 col2\" >0.675912</td>\n",
              "                        <td id=\"T_d199bc8c_3bcd_11eb_9f0d_0242ac1c0002row0_col3\" class=\"data row0 col3\" >-0.113959</td>\n",
              "                        <td id=\"T_d199bc8c_3bcd_11eb_9f0d_0242ac1c0002row0_col4\" class=\"data row0 col4\" >-0.083023</td>\n",
              "                        <td id=\"T_d199bc8c_3bcd_11eb_9f0d_0242ac1c0002row0_col5\" class=\"data row0 col5\" >-0.171586</td>\n",
              "                        <td id=\"T_d199bc8c_3bcd_11eb_9f0d_0242ac1c0002row0_col6\" class=\"data row0 col6\" >-0.239960</td>\n",
              "                        <td id=\"T_d199bc8c_3bcd_11eb_9f0d_0242ac1c0002row0_col7\" class=\"data row0 col7\" >-0.071127</td>\n",
              "                        <td id=\"T_d199bc8c_3bcd_11eb_9f0d_0242ac1c0002row0_col8\" class=\"data row0 col8\" >-0.102720</td>\n",
              "                        <td id=\"T_d199bc8c_3bcd_11eb_9f0d_0242ac1c0002row0_col9\" class=\"data row0 col9\" >-0.072469</td>\n",
              "                        <td id=\"T_d199bc8c_3bcd_11eb_9f0d_0242ac1c0002row0_col10\" class=\"data row0 col10\" >0.331970</td>\n",
              "                        <td id=\"T_d199bc8c_3bcd_11eb_9f0d_0242ac1c0002row0_col11\" class=\"data row0 col11\" >-0.229618</td>\n",
              "            </tr>\n",
              "            <tr>\n",
              "                        <th id=\"T_d199bc8c_3bcd_11eb_9f0d_0242ac1c0002level0_row1\" class=\"row_heading level0 row1\" >budget</th>\n",
              "                        <td id=\"T_d199bc8c_3bcd_11eb_9f0d_0242ac1c0002row1_col0\" class=\"data row1 col0\" >-0.111052</td>\n",
              "                        <td id=\"T_d199bc8c_3bcd_11eb_9f0d_0242ac1c0002row1_col1\" class=\"data row1 col1\" >1.000000</td>\n",
              "                        <td id=\"T_d199bc8c_3bcd_11eb_9f0d_0242ac1c0002row1_col2\" class=\"data row1 col2\" >-0.086690</td>\n",
              "                        <td id=\"T_d199bc8c_3bcd_11eb_9f0d_0242ac1c0002row1_col3\" class=\"data row1 col3\" >0.412162</td>\n",
              "                        <td id=\"T_d199bc8c_3bcd_11eb_9f0d_0242ac1c0002row1_col4\" class=\"data row1 col4\" >0.766446</td>\n",
              "                        <td id=\"T_d199bc8c_3bcd_11eb_9f0d_0242ac1c0002row1_col5\" class=\"data row1 col5\" >0.225766</td>\n",
              "                        <td id=\"T_d199bc8c_3bcd_11eb_9f0d_0242ac1c0002row1_col6\" class=\"data row1 col6\" >0.103634</td>\n",
              "                        <td id=\"T_d199bc8c_3bcd_11eb_9f0d_0242ac1c0002row1_col7\" class=\"data row1 col7\" >0.665415</td>\n",
              "                        <td id=\"T_d199bc8c_3bcd_11eb_9f0d_0242ac1c0002row1_col8\" class=\"data row1 col8\" >0.212146</td>\n",
              "                        <td id=\"T_d199bc8c_3bcd_11eb_9f0d_0242ac1c0002row1_col9\" class=\"data row1 col9\" >0.622080</td>\n",
              "                        <td id=\"T_d199bc8c_3bcd_11eb_9f0d_0242ac1c0002row1_col10\" class=\"data row1 col10\" >-0.160624</td>\n",
              "                        <td id=\"T_d199bc8c_3bcd_11eb_9f0d_0242ac1c0002row1_col11\" class=\"data row1 col11\" >0.117158</td>\n",
              "            </tr>\n",
              "            <tr>\n",
              "                        <th id=\"T_d199bc8c_3bcd_11eb_9f0d_0242ac1c0002level0_row2\" class=\"row_heading level0 row2\" >id</th>\n",
              "                        <td id=\"T_d199bc8c_3bcd_11eb_9f0d_0242ac1c0002row2_col0\" class=\"data row2 col0\" >0.675912</td>\n",
              "                        <td id=\"T_d199bc8c_3bcd_11eb_9f0d_0242ac1c0002row2_col1\" class=\"data row2 col1\" >-0.086690</td>\n",
              "                        <td id=\"T_d199bc8c_3bcd_11eb_9f0d_0242ac1c0002row2_col2\" class=\"data row2 col2\" >1.000000</td>\n",
              "                        <td id=\"T_d199bc8c_3bcd_11eb_9f0d_0242ac1c0002row2_col3\" class=\"data row2 col3\" >-0.014127</td>\n",
              "                        <td id=\"T_d199bc8c_3bcd_11eb_9f0d_0242ac1c0002row2_col4\" class=\"data row2 col4\" >-0.060123</td>\n",
              "                        <td id=\"T_d199bc8c_3bcd_11eb_9f0d_0242ac1c0002row2_col5\" class=\"data row2 col5\" >-0.086692</td>\n",
              "                        <td id=\"T_d199bc8c_3bcd_11eb_9f0d_0242ac1c0002row2_col6\" class=\"data row2 col6\" >-0.141201</td>\n",
              "                        <td id=\"T_d199bc8c_3bcd_11eb_9f0d_0242ac1c0002row2_col7\" class=\"data row2 col7\" >-0.033574</td>\n",
              "                        <td id=\"T_d199bc8c_3bcd_11eb_9f0d_0242ac1c0002row2_col8\" class=\"data row2 col8\" >-0.122764</td>\n",
              "                        <td id=\"T_d199bc8c_3bcd_11eb_9f0d_0242ac1c0002row2_col9\" class=\"data row2 col9\" >-0.034831</td>\n",
              "                        <td id=\"T_d199bc8c_3bcd_11eb_9f0d_0242ac1c0002row2_col10\" class=\"data row2 col10\" >0.367358</td>\n",
              "                        <td id=\"T_d199bc8c_3bcd_11eb_9f0d_0242ac1c0002row2_col11\" class=\"data row2 col11\" >-0.186671</td>\n",
              "            </tr>\n",
              "            <tr>\n",
              "                        <th id=\"T_d199bc8c_3bcd_11eb_9f0d_0242ac1c0002level0_row3\" class=\"row_heading level0 row3\" >popularity</th>\n",
              "                        <td id=\"T_d199bc8c_3bcd_11eb_9f0d_0242ac1c0002row3_col0\" class=\"data row3 col0\" >-0.113959</td>\n",
              "                        <td id=\"T_d199bc8c_3bcd_11eb_9f0d_0242ac1c0002row3_col1\" class=\"data row3 col1\" >0.412162</td>\n",
              "                        <td id=\"T_d199bc8c_3bcd_11eb_9f0d_0242ac1c0002row3_col2\" class=\"data row3 col2\" >-0.014127</td>\n",
              "                        <td id=\"T_d199bc8c_3bcd_11eb_9f0d_0242ac1c0002row3_col3\" class=\"data row3 col3\" >1.000000</td>\n",
              "                        <td id=\"T_d199bc8c_3bcd_11eb_9f0d_0242ac1c0002row3_col4\" class=\"data row3 col4\" >0.495219</td>\n",
              "                        <td id=\"T_d199bc8c_3bcd_11eb_9f0d_0242ac1c0002row3_col5\" class=\"data row3 col5\" >0.161276</td>\n",
              "                        <td id=\"T_d199bc8c_3bcd_11eb_9f0d_0242ac1c0002row3_col6\" class=\"data row3 col6\" >0.186538</td>\n",
              "                        <td id=\"T_d199bc8c_3bcd_11eb_9f0d_0242ac1c0002row3_col7\" class=\"data row3 col7\" >0.544388</td>\n",
              "                        <td id=\"T_d199bc8c_3bcd_11eb_9f0d_0242ac1c0002row3_col8\" class=\"data row3 col8\" >0.184730</td>\n",
              "                        <td id=\"T_d199bc8c_3bcd_11eb_9f0d_0242ac1c0002row3_col9\" class=\"data row3 col9\" >0.534342</td>\n",
              "                        <td id=\"T_d199bc8c_3bcd_11eb_9f0d_0242ac1c0002row3_col10\" class=\"data row3 col10\" >-0.143197</td>\n",
              "                        <td id=\"T_d199bc8c_3bcd_11eb_9f0d_0242ac1c0002row3_col11\" class=\"data row3 col11\" >0.050937</td>\n",
              "            </tr>\n",
              "            <tr>\n",
              "                        <th id=\"T_d199bc8c_3bcd_11eb_9f0d_0242ac1c0002level0_row4\" class=\"row_heading level0 row4\" >revenue</th>\n",
              "                        <td id=\"T_d199bc8c_3bcd_11eb_9f0d_0242ac1c0002row4_col0\" class=\"data row4 col0\" >-0.083023</td>\n",
              "                        <td id=\"T_d199bc8c_3bcd_11eb_9f0d_0242ac1c0002row4_col1\" class=\"data row4 col1\" >0.766446</td>\n",
              "                        <td id=\"T_d199bc8c_3bcd_11eb_9f0d_0242ac1c0002row4_col2\" class=\"data row4 col2\" >-0.060123</td>\n",
              "                        <td id=\"T_d199bc8c_3bcd_11eb_9f0d_0242ac1c0002row4_col3\" class=\"data row4 col3\" >0.495219</td>\n",
              "                        <td id=\"T_d199bc8c_3bcd_11eb_9f0d_0242ac1c0002row4_col4\" class=\"data row4 col4\" >1.000000</td>\n",
              "                        <td id=\"T_d199bc8c_3bcd_11eb_9f0d_0242ac1c0002row4_col5\" class=\"data row4 col5\" >0.183763</td>\n",
              "                        <td id=\"T_d199bc8c_3bcd_11eb_9f0d_0242ac1c0002row4_col6\" class=\"data row4 col6\" >0.137679</td>\n",
              "                        <td id=\"T_d199bc8c_3bcd_11eb_9f0d_0242ac1c0002row4_col7\" class=\"data row4 col7\" >0.806602</td>\n",
              "                        <td id=\"T_d199bc8c_3bcd_11eb_9f0d_0242ac1c0002row4_col8\" class=\"data row4 col8\" >0.284759</td>\n",
              "                        <td id=\"T_d199bc8c_3bcd_11eb_9f0d_0242ac1c0002row4_col9\" class=\"data row4 col9\" >0.780984</td>\n",
              "                        <td id=\"T_d199bc8c_3bcd_11eb_9f0d_0242ac1c0002row4_col10\" class=\"data row4 col10\" >-0.125020</td>\n",
              "                        <td id=\"T_d199bc8c_3bcd_11eb_9f0d_0242ac1c0002row4_col11\" class=\"data row4 col11\" >0.108120</td>\n",
              "            </tr>\n",
              "            <tr>\n",
              "                        <th id=\"T_d199bc8c_3bcd_11eb_9f0d_0242ac1c0002level0_row5\" class=\"row_heading level0 row5\" >runtime</th>\n",
              "                        <td id=\"T_d199bc8c_3bcd_11eb_9f0d_0242ac1c0002row5_col0\" class=\"data row5 col0\" >-0.171586</td>\n",
              "                        <td id=\"T_d199bc8c_3bcd_11eb_9f0d_0242ac1c0002row5_col1\" class=\"data row5 col1\" >0.225766</td>\n",
              "                        <td id=\"T_d199bc8c_3bcd_11eb_9f0d_0242ac1c0002row5_col2\" class=\"data row5 col2\" >-0.086692</td>\n",
              "                        <td id=\"T_d199bc8c_3bcd_11eb_9f0d_0242ac1c0002row5_col3\" class=\"data row5 col3\" >0.161276</td>\n",
              "                        <td id=\"T_d199bc8c_3bcd_11eb_9f0d_0242ac1c0002row5_col4\" class=\"data row5 col4\" >0.183763</td>\n",
              "                        <td id=\"T_d199bc8c_3bcd_11eb_9f0d_0242ac1c0002row5_col5\" class=\"data row5 col5\" >1.000000</td>\n",
              "                        <td id=\"T_d199bc8c_3bcd_11eb_9f0d_0242ac1c0002row5_col6\" class=\"data row5 col6\" >0.231019</td>\n",
              "                        <td id=\"T_d199bc8c_3bcd_11eb_9f0d_0242ac1c0002row5_col7\" class=\"data row5 col7\" >0.199476</td>\n",
              "                        <td id=\"T_d199bc8c_3bcd_11eb_9f0d_0242ac1c0002row5_col8\" class=\"data row5 col8\" >-0.016943</td>\n",
              "                        <td id=\"T_d199bc8c_3bcd_11eb_9f0d_0242ac1c0002row5_col9\" class=\"data row5 col9\" >0.200588</td>\n",
              "                        <td id=\"T_d199bc8c_3bcd_11eb_9f0d_0242ac1c0002row5_col10\" class=\"data row5 col10\" >-0.105164</td>\n",
              "                        <td id=\"T_d199bc8c_3bcd_11eb_9f0d_0242ac1c0002row5_col11\" class=\"data row5 col11\" >0.068359</td>\n",
              "            </tr>\n",
              "            <tr>\n",
              "                        <th id=\"T_d199bc8c_3bcd_11eb_9f0d_0242ac1c0002level0_row6\" class=\"row_heading level0 row6\" >vote_average</th>\n",
              "                        <td id=\"T_d199bc8c_3bcd_11eb_9f0d_0242ac1c0002row6_col0\" class=\"data row6 col0\" >-0.239960</td>\n",
              "                        <td id=\"T_d199bc8c_3bcd_11eb_9f0d_0242ac1c0002row6_col1\" class=\"data row6 col1\" >0.103634</td>\n",
              "                        <td id=\"T_d199bc8c_3bcd_11eb_9f0d_0242ac1c0002row6_col2\" class=\"data row6 col2\" >-0.141201</td>\n",
              "                        <td id=\"T_d199bc8c_3bcd_11eb_9f0d_0242ac1c0002row6_col3\" class=\"data row6 col3\" >0.186538</td>\n",
              "                        <td id=\"T_d199bc8c_3bcd_11eb_9f0d_0242ac1c0002row6_col4\" class=\"data row6 col4\" >0.137679</td>\n",
              "                        <td id=\"T_d199bc8c_3bcd_11eb_9f0d_0242ac1c0002row6_col5\" class=\"data row6 col5\" >0.231019</td>\n",
              "                        <td id=\"T_d199bc8c_3bcd_11eb_9f0d_0242ac1c0002row6_col6\" class=\"data row6 col6\" >1.000000</td>\n",
              "                        <td id=\"T_d199bc8c_3bcd_11eb_9f0d_0242ac1c0002row6_col7\" class=\"data row6 col7\" >0.203592</td>\n",
              "                        <td id=\"T_d199bc8c_3bcd_11eb_9f0d_0242ac1c0002row6_col8\" class=\"data row6 col8\" >0.019937</td>\n",
              "                        <td id=\"T_d199bc8c_3bcd_11eb_9f0d_0242ac1c0002row6_col9\" class=\"data row6 col9\" >0.212963</td>\n",
              "                        <td id=\"T_d199bc8c_3bcd_11eb_9f0d_0242ac1c0002row6_col10\" class=\"data row6 col10\" >-0.116379</td>\n",
              "                        <td id=\"T_d199bc8c_3bcd_11eb_9f0d_0242ac1c0002row6_col11\" class=\"data row6 col11\" >0.048969</td>\n",
              "            </tr>\n",
              "            <tr>\n",
              "                        <th id=\"T_d199bc8c_3bcd_11eb_9f0d_0242ac1c0002level0_row7\" class=\"row_heading level0 row7\" >vote_count</th>\n",
              "                        <td id=\"T_d199bc8c_3bcd_11eb_9f0d_0242ac1c0002row7_col0\" class=\"data row7 col0\" >-0.071127</td>\n",
              "                        <td id=\"T_d199bc8c_3bcd_11eb_9f0d_0242ac1c0002row7_col1\" class=\"data row7 col1\" >0.665415</td>\n",
              "                        <td id=\"T_d199bc8c_3bcd_11eb_9f0d_0242ac1c0002row7_col2\" class=\"data row7 col2\" >-0.033574</td>\n",
              "                        <td id=\"T_d199bc8c_3bcd_11eb_9f0d_0242ac1c0002row7_col3\" class=\"data row7 col3\" >0.544388</td>\n",
              "                        <td id=\"T_d199bc8c_3bcd_11eb_9f0d_0242ac1c0002row7_col4\" class=\"data row7 col4\" >0.806602</td>\n",
              "                        <td id=\"T_d199bc8c_3bcd_11eb_9f0d_0242ac1c0002row7_col5\" class=\"data row7 col5\" >0.199476</td>\n",
              "                        <td id=\"T_d199bc8c_3bcd_11eb_9f0d_0242ac1c0002row7_col6\" class=\"data row7 col6\" >0.203592</td>\n",
              "                        <td id=\"T_d199bc8c_3bcd_11eb_9f0d_0242ac1c0002row7_col7\" class=\"data row7 col7\" >1.000000</td>\n",
              "                        <td id=\"T_d199bc8c_3bcd_11eb_9f0d_0242ac1c0002row7_col8\" class=\"data row7 col8\" >0.246816</td>\n",
              "                        <td id=\"T_d199bc8c_3bcd_11eb_9f0d_0242ac1c0002row7_col9\" class=\"data row7 col9\" >0.994176</td>\n",
              "                        <td id=\"T_d199bc8c_3bcd_11eb_9f0d_0242ac1c0002row7_col10\" class=\"data row7 col10\" >-0.134497</td>\n",
              "                        <td id=\"T_d199bc8c_3bcd_11eb_9f0d_0242ac1c0002row7_col11\" class=\"data row7 col11\" >0.080398</td>\n",
              "            </tr>\n",
              "            <tr>\n",
              "                        <th id=\"T_d199bc8c_3bcd_11eb_9f0d_0242ac1c0002level0_row8\" class=\"row_heading level0 row8\" >collection</th>\n",
              "                        <td id=\"T_d199bc8c_3bcd_11eb_9f0d_0242ac1c0002row8_col0\" class=\"data row8 col0\" >-0.102720</td>\n",
              "                        <td id=\"T_d199bc8c_3bcd_11eb_9f0d_0242ac1c0002row8_col1\" class=\"data row8 col1\" >0.212146</td>\n",
              "                        <td id=\"T_d199bc8c_3bcd_11eb_9f0d_0242ac1c0002row8_col2\" class=\"data row8 col2\" >-0.122764</td>\n",
              "                        <td id=\"T_d199bc8c_3bcd_11eb_9f0d_0242ac1c0002row8_col3\" class=\"data row8 col3\" >0.184730</td>\n",
              "                        <td id=\"T_d199bc8c_3bcd_11eb_9f0d_0242ac1c0002row8_col4\" class=\"data row8 col4\" >0.284759</td>\n",
              "                        <td id=\"T_d199bc8c_3bcd_11eb_9f0d_0242ac1c0002row8_col5\" class=\"data row8 col5\" >-0.016943</td>\n",
              "                        <td id=\"T_d199bc8c_3bcd_11eb_9f0d_0242ac1c0002row8_col6\" class=\"data row8 col6\" >0.019937</td>\n",
              "                        <td id=\"T_d199bc8c_3bcd_11eb_9f0d_0242ac1c0002row8_col7\" class=\"data row8 col7\" >0.246816</td>\n",
              "                        <td id=\"T_d199bc8c_3bcd_11eb_9f0d_0242ac1c0002row8_col8\" class=\"data row8 col8\" >1.000000</td>\n",
              "                        <td id=\"T_d199bc8c_3bcd_11eb_9f0d_0242ac1c0002row8_col9\" class=\"data row8 col9\" >0.228573</td>\n",
              "                        <td id=\"T_d199bc8c_3bcd_11eb_9f0d_0242ac1c0002row8_col10\" class=\"data row8 col10\" >-0.100320</td>\n",
              "                        <td id=\"T_d199bc8c_3bcd_11eb_9f0d_0242ac1c0002row8_col11\" class=\"data row8 col11\" >0.036184</td>\n",
              "            </tr>\n",
              "            <tr>\n",
              "                        <th id=\"T_d199bc8c_3bcd_11eb_9f0d_0242ac1c0002level0_row9\" class=\"row_heading level0 row9\" >score_1</th>\n",
              "                        <td id=\"T_d199bc8c_3bcd_11eb_9f0d_0242ac1c0002row9_col0\" class=\"data row9 col0\" >-0.072469</td>\n",
              "                        <td id=\"T_d199bc8c_3bcd_11eb_9f0d_0242ac1c0002row9_col1\" class=\"data row9 col1\" >0.622080</td>\n",
              "                        <td id=\"T_d199bc8c_3bcd_11eb_9f0d_0242ac1c0002row9_col2\" class=\"data row9 col2\" >-0.034831</td>\n",
              "                        <td id=\"T_d199bc8c_3bcd_11eb_9f0d_0242ac1c0002row9_col3\" class=\"data row9 col3\" >0.534342</td>\n",
              "                        <td id=\"T_d199bc8c_3bcd_11eb_9f0d_0242ac1c0002row9_col4\" class=\"data row9 col4\" >0.780984</td>\n",
              "                        <td id=\"T_d199bc8c_3bcd_11eb_9f0d_0242ac1c0002row9_col5\" class=\"data row9 col5\" >0.200588</td>\n",
              "                        <td id=\"T_d199bc8c_3bcd_11eb_9f0d_0242ac1c0002row9_col6\" class=\"data row9 col6\" >0.212963</td>\n",
              "                        <td id=\"T_d199bc8c_3bcd_11eb_9f0d_0242ac1c0002row9_col7\" class=\"data row9 col7\" >0.994176</td>\n",
              "                        <td id=\"T_d199bc8c_3bcd_11eb_9f0d_0242ac1c0002row9_col8\" class=\"data row9 col8\" >0.228573</td>\n",
              "                        <td id=\"T_d199bc8c_3bcd_11eb_9f0d_0242ac1c0002row9_col9\" class=\"data row9 col9\" >1.000000</td>\n",
              "                        <td id=\"T_d199bc8c_3bcd_11eb_9f0d_0242ac1c0002row9_col10\" class=\"data row9 col10\" >-0.126350</td>\n",
              "                        <td id=\"T_d199bc8c_3bcd_11eb_9f0d_0242ac1c0002row9_col11\" class=\"data row9 col11\" >0.075440</td>\n",
              "            </tr>\n",
              "            <tr>\n",
              "                        <th id=\"T_d199bc8c_3bcd_11eb_9f0d_0242ac1c0002level0_row10\" class=\"row_heading level0 row10\" >production_companies_id</th>\n",
              "                        <td id=\"T_d199bc8c_3bcd_11eb_9f0d_0242ac1c0002row10_col0\" class=\"data row10 col0\" >0.331970</td>\n",
              "                        <td id=\"T_d199bc8c_3bcd_11eb_9f0d_0242ac1c0002row10_col1\" class=\"data row10 col1\" >-0.160624</td>\n",
              "                        <td id=\"T_d199bc8c_3bcd_11eb_9f0d_0242ac1c0002row10_col2\" class=\"data row10 col2\" >0.367358</td>\n",
              "                        <td id=\"T_d199bc8c_3bcd_11eb_9f0d_0242ac1c0002row10_col3\" class=\"data row10 col3\" >-0.143197</td>\n",
              "                        <td id=\"T_d199bc8c_3bcd_11eb_9f0d_0242ac1c0002row10_col4\" class=\"data row10 col4\" >-0.125020</td>\n",
              "                        <td id=\"T_d199bc8c_3bcd_11eb_9f0d_0242ac1c0002row10_col5\" class=\"data row10 col5\" >-0.105164</td>\n",
              "                        <td id=\"T_d199bc8c_3bcd_11eb_9f0d_0242ac1c0002row10_col6\" class=\"data row10 col6\" >-0.116379</td>\n",
              "                        <td id=\"T_d199bc8c_3bcd_11eb_9f0d_0242ac1c0002row10_col7\" class=\"data row10 col7\" >-0.134497</td>\n",
              "                        <td id=\"T_d199bc8c_3bcd_11eb_9f0d_0242ac1c0002row10_col8\" class=\"data row10 col8\" >-0.100320</td>\n",
              "                        <td id=\"T_d199bc8c_3bcd_11eb_9f0d_0242ac1c0002row10_col9\" class=\"data row10 col9\" >-0.126350</td>\n",
              "                        <td id=\"T_d199bc8c_3bcd_11eb_9f0d_0242ac1c0002row10_col10\" class=\"data row10 col10\" >1.000000</td>\n",
              "                        <td id=\"T_d199bc8c_3bcd_11eb_9f0d_0242ac1c0002row10_col11\" class=\"data row10 col11\" >-0.238531</td>\n",
              "            </tr>\n",
              "            <tr>\n",
              "                        <th id=\"T_d199bc8c_3bcd_11eb_9f0d_0242ac1c0002level0_row11\" class=\"row_heading level0 row11\" >pc_id_count</th>\n",
              "                        <td id=\"T_d199bc8c_3bcd_11eb_9f0d_0242ac1c0002row11_col0\" class=\"data row11 col0\" >-0.229618</td>\n",
              "                        <td id=\"T_d199bc8c_3bcd_11eb_9f0d_0242ac1c0002row11_col1\" class=\"data row11 col1\" >0.117158</td>\n",
              "                        <td id=\"T_d199bc8c_3bcd_11eb_9f0d_0242ac1c0002row11_col2\" class=\"data row11 col2\" >-0.186671</td>\n",
              "                        <td id=\"T_d199bc8c_3bcd_11eb_9f0d_0242ac1c0002row11_col3\" class=\"data row11 col3\" >0.050937</td>\n",
              "                        <td id=\"T_d199bc8c_3bcd_11eb_9f0d_0242ac1c0002row11_col4\" class=\"data row11 col4\" >0.108120</td>\n",
              "                        <td id=\"T_d199bc8c_3bcd_11eb_9f0d_0242ac1c0002row11_col5\" class=\"data row11 col5\" >0.068359</td>\n",
              "                        <td id=\"T_d199bc8c_3bcd_11eb_9f0d_0242ac1c0002row11_col6\" class=\"data row11 col6\" >0.048969</td>\n",
              "                        <td id=\"T_d199bc8c_3bcd_11eb_9f0d_0242ac1c0002row11_col7\" class=\"data row11 col7\" >0.080398</td>\n",
              "                        <td id=\"T_d199bc8c_3bcd_11eb_9f0d_0242ac1c0002row11_col8\" class=\"data row11 col8\" >0.036184</td>\n",
              "                        <td id=\"T_d199bc8c_3bcd_11eb_9f0d_0242ac1c0002row11_col9\" class=\"data row11 col9\" >0.075440</td>\n",
              "                        <td id=\"T_d199bc8c_3bcd_11eb_9f0d_0242ac1c0002row11_col10\" class=\"data row11 col10\" >-0.238531</td>\n",
              "                        <td id=\"T_d199bc8c_3bcd_11eb_9f0d_0242ac1c0002row11_col11\" class=\"data row11 col11\" >1.000000</td>\n",
              "            </tr>\n",
              "    </tbody></table>"
            ],
            "text/plain": [
              "<pandas.io.formats.style.Styler at 0x7ff0787062b0>"
            ]
          },
          "metadata": {
            "tags": []
          },
          "execution_count": 10
        }
      ]
    },
    {
      "cell_type": "markdown",
      "metadata": {
        "id": "kw26NXPlvCa4"
      },
      "source": [
        "Par construction de *score_1*, il n'est pas choquant d'observer une forte corrélation avec *popularity*, *vote_count* et *vote_average*.\n",
        "\n",
        "On constate que bien qu'il y ait peu de données qui puissent être exploitées pour le budget et le revenu d'un film, ces deux variables sont cependant corrélées avec *score_1*, qui permet de quantifier la qualité d'un film.\n",
        "\n",
        "Par ailleurs, la compagnie de production et la durée du film ne semblent guère influencer sa qualité. "
      ]
    },
    {
      "cell_type": "markdown",
      "metadata": {
        "id": "u6LyoBTNv9jB"
      },
      "source": [
        "# Régression linéaire de *score_1* sur *budget* et *revenue*"
      ]
    },
    {
      "cell_type": "markdown",
      "metadata": {
        "id": "DtySOStF1uq-"
      },
      "source": [
        "Tout d'abord, récupérons les données nécessaires dans le dataset."
      ]
    },
    {
      "cell_type": "code",
      "metadata": {
        "id": "bbIay57mzhEy"
      },
      "source": [
        "X = pd.DataFrame(np.c_[df.budget, df.revenue], columns= ['budget', 'revenue'])\n",
        "Y = df.score_1"
      ],
      "execution_count": null,
      "outputs": []
    },
    {
      "cell_type": "markdown",
      "metadata": {
        "id": "eC8dy4CQ2Lkv"
      },
      "source": [
        "Séparons ensuite nos deux ensembles de données en bases d'apprentissage et de test."
      ]
    },
    {
      "cell_type": "code",
      "metadata": {
        "colab": {
          "base_uri": "https://localhost:8080/"
        },
        "id": "XU2YOJmeyDvp",
        "outputId": "c73f0b33-1173-4900-cee4-946f451075dd"
      },
      "source": [
        "from sklearn.model_selection import train_test_split\n",
        " \n",
        "X_train, X_test, Y_train, Y_test = train_test_split(X, Y, test_size = 0.2, random_state=5)\n",
        "print(X_train.shape)\n",
        "print(X_test.shape)\n",
        "print(Y_train.shape)\n",
        "print(Y_test.shape)"
      ],
      "execution_count": null,
      "outputs": [
        {
          "output_type": "stream",
          "text": [
            "(13884, 2)\n",
            "(3472, 2)\n",
            "(13884,)\n",
            "(3472,)\n"
          ],
          "name": "stdout"
        }
      ]
    },
    {
      "cell_type": "markdown",
      "metadata": {
        "id": "65lD77kA2X6j"
      },
      "source": [
        "On effectue alors la régression linéaire voulue."
      ]
    },
    {
      "cell_type": "code",
      "metadata": {
        "colab": {
          "base_uri": "https://localhost:8080/"
        },
        "id": "RBvgnVZMycKr",
        "outputId": "16df73b5-21b2-4ce3-94af-9ed315a5bd06"
      },
      "source": [
        "from sklearn.linear_model import LinearRegression\n",
        "from sklearn.metrics import mean_squared_error\n",
        " \n",
        "lmodellineaire = LinearRegression()\n",
        "lmodellineaire.fit(X_train, Y_train)\n"
      ],
      "execution_count": null,
      "outputs": [
        {
          "output_type": "execute_result",
          "data": {
            "text/plain": [
              "LinearRegression(copy_X=True, fit_intercept=True, n_jobs=None, normalize=False)"
            ]
          },
          "metadata": {
            "tags": []
          },
          "execution_count": 108
        }
      ]
    },
    {
      "cell_type": "markdown",
      "metadata": {
        "id": "mNfhjpTn2gEg"
      },
      "source": [
        "Evaluons les performances du modèle sur l'échantillon d'apprentissage et sur celui de test :"
      ]
    },
    {
      "cell_type": "code",
      "metadata": {
        "colab": {
          "base_uri": "https://localhost:8080/"
        },
        "id": "donOvBma0f-d",
        "outputId": "9ec24877-cf4a-4ab8-94e8-584532feff5f"
      },
      "source": [
        "# Evaluation du training set\n",
        "from sklearn.metrics import r2_score\n",
        "y_train_predict = lmodellineaire.predict(X_train)\n",
        "rmse = (np.sqrt(mean_squared_error(Y_train, y_train_predict)))\n",
        "r2 = r2_score(Y_train, y_train_predict)\n",
        " \n",
        "print(\"Performance du modèle sur la base d'apprentissage\")\n",
        "print('--------------------------------------')\n",
        "print(\"L'erreur quadratique moyenne est {}\".format(rmse))\n",
        "print('Le score R² est {}'.format(r2))\n",
        "print('\\n')\n",
        " \n",
        "# Evaluation du testing set\n",
        "y_test_predict = lmodellineaire.predict(X_test)\n",
        "rmse = (np.sqrt(mean_squared_error(Y_test, y_test_predict)))\n",
        "r2 = r2_score(Y_test, y_test_predict)\n",
        " \n",
        "print('Performance du modèle sur la base de test')\n",
        "print('--------------------------------------')\n",
        "print(\"L'erreur quadratique moyenne est {}\".format(rmse))\n",
        "print('Le score R² est {}'.format(r2))"
      ],
      "execution_count": null,
      "outputs": [
        {
          "output_type": "stream",
          "text": [
            "Performance du modèle sur la base d'apprentissage\n",
            "--------------------------------------\n",
            "L'erreur quadratique moyenne est 3467.4302151622496\n",
            "Le score R² est 0.6162165165800999\n",
            "\n",
            "\n",
            "Performance du modèle sur la base de test\n",
            "--------------------------------------\n",
            "L'erreur quadratique moyenne est 3364.076265294737\n",
            "Le score R² est 0.5879873205932651\n"
          ],
          "name": "stdout"
        }
      ]
    },
    {
      "cell_type": "markdown",
      "metadata": {
        "id": "HdynAg6X3J-C"
      },
      "source": [
        "Bien que le R² soit plutôt bon, ce modèle génère une erreur quadratique moyenne assez forte sur la valeur de *score_1* (de l'ordre de 3400). Cela est certainement dû à la dispersion de score_1 :"
      ]
    },
    {
      "cell_type": "code",
      "metadata": {
        "colab": {
          "base_uri": "https://localhost:8080/"
        },
        "id": "w4xZu2Xz22bB",
        "outputId": "4093f9f7-c459-4ef5-b470-1c1c0e25c5d0"
      },
      "source": [
        "df.score_1.describe()"
      ],
      "execution_count": null,
      "outputs": [
        {
          "output_type": "execute_result",
          "data": {
            "text/plain": [
              "count     17356.000000\n",
              "mean       1709.543046\n",
              "std        5527.962377\n",
              "min           0.000000\n",
              "25%          44.800000\n",
              "50%         170.000000\n",
              "75%         857.700000\n",
              "max      114007.500000\n",
              "Name: score_1, dtype: float64"
            ]
          },
          "metadata": {
            "tags": []
          },
          "execution_count": 110
        }
      ]
    },
    {
      "cell_type": "markdown",
      "metadata": {
        "id": "G5NTPtdm3ho7"
      },
      "source": [
        "Etudions les perfomances de ce modèle sur un échantillon comprenant les valeurs de *score_1* allant du 1er au 3ème quartile :"
      ]
    },
    {
      "cell_type": "code",
      "metadata": {
        "id": "krJf22UD4DOv"
      },
      "source": [
        "first_quart = np.percentile(df.score_1, 25)\n",
        "third_quart = np.percentile(df.score_1, 75)"
      ],
      "execution_count": null,
      "outputs": []
    },
    {
      "cell_type": "code",
      "metadata": {
        "colab": {
          "base_uri": "https://localhost:8080/"
        },
        "id": "abRf5e8C4TrB",
        "outputId": "e93ca633-a447-4336-f3c8-aa474136481f"
      },
      "source": [
        "# Filtration des données\n",
        "df_quart = df[df.score_1 > first_quart]\n",
        "df_quart = df[df.score_1 < third_quart]\n",
        "\n",
        "# Création des variables nécessaires\n",
        "X2 = pd.DataFrame(np.c_[df_quart.budget, df_quart.revenue], columns= ['budget', 'revenue'])\n",
        "Y2 = df_quart.score_1\n",
        "X_train2, X_test2, Y_train2, Y_test2 = train_test_split(X2, Y2, test_size = 0.2, random_state=5)\n",
        "\n",
        "# Lancement de la régression linéaire\n",
        "lmodellineaire = LinearRegression()\n",
        "lmodellineaire.fit(X_train2, Y_train2)"
      ],
      "execution_count": null,
      "outputs": [
        {
          "output_type": "execute_result",
          "data": {
            "text/plain": [
              "LinearRegression(copy_X=True, fit_intercept=True, n_jobs=None, normalize=False)"
            ]
          },
          "metadata": {
            "tags": []
          },
          "execution_count": 112
        }
      ]
    },
    {
      "cell_type": "code",
      "metadata": {
        "colab": {
          "base_uri": "https://localhost:8080/"
        },
        "id": "hcmn_N3Y4IFF",
        "outputId": "b9142f80-c994-467e-b67c-ed0304dcd86d"
      },
      "source": [
        "# Evaluation du training set\n",
        "from sklearn.metrics import r2_score\n",
        "y_train_predict2 = lmodellineaire.predict(X_train2)\n",
        "rmse = (np.sqrt(mean_squared_error(Y_train2, y_train_predict2)))\n",
        "r2 = r2_score(Y_train2, y_train_predict2)\n",
        " \n",
        "print(\"Performance du modèle sur la base d'apprentissage\")\n",
        "print('--------------------------------------')\n",
        "print(\"L'erreur quadratique moyenne est {}\".format(rmse))\n",
        "print('Le score R² est {}'.format(r2))\n",
        "print('\\n')\n",
        " \n",
        "# Evaluation du testing set\n",
        "y_test_predict2 = lmodellineaire.predict(X_test2)\n",
        "rmse = (np.sqrt(mean_squared_error(Y_test2, y_test_predict2)))\n",
        "r2 = r2_score(Y_test2, y_test_predict2)\n",
        " \n",
        "print('Performance du modèle sur la base de test')\n",
        "print('--------------------------------------')\n",
        "print(\"L'erreur quadratique moyenne est {}\".format(rmse))\n",
        "print('Le score R² est {}'.format(r2))"
      ],
      "execution_count": null,
      "outputs": [
        {
          "output_type": "stream",
          "text": [
            "Performance du modèle sur la base d'apprentissage\n",
            "--------------------------------------\n",
            "L'erreur quadratique moyenne est 188.1704456835393\n",
            "Le score R² est 0.1454504867917935\n",
            "\n",
            "\n",
            "Performance du modèle sur la base de test\n",
            "--------------------------------------\n",
            "L'erreur quadratique moyenne est 181.4256396942466\n",
            "Le score R² est 0.1529228653745578\n"
          ],
          "name": "stdout"
        }
      ]
    },
    {
      "cell_type": "markdown",
      "metadata": {
        "id": "LpMvtBP16ayx"
      },
      "source": [
        "Par cette nouvelle régression, nous avons certes diminué drastiquement l'erreur quadratique moyenne, cependant le R² a été divisé par 4."
      ]
    },
    {
      "cell_type": "markdown",
      "metadata": {
        "id": "_L705PKUqS2R"
      },
      "source": [
        "Comparons graphiquement les résultats de la prédiction pour ces deux régressions."
      ]
    },
    {
      "cell_type": "code",
      "metadata": {
        "id": "wY5OaF_YuGlW"
      },
      "source": [
        "def plot(test, predict):\r\n",
        "  fig, ax = plt.subplots(figsize=(8,5))\r\n",
        "  p1 = sns.distplot(test, label = 'Vraie valeur')\r\n",
        "  p2 = sns.distplot(predict, label = 'Prédiction')\r\n",
        "  ax.set(xlabel= 'Valeur de score_1', ylabel = 'Densité')\r\n",
        "  fig.legend(labels=['Vraie valeur','Prédiction'], loc = (0.75, 0.5))"
      ],
      "execution_count": null,
      "outputs": []
    },
    {
      "cell_type": "code",
      "metadata": {
        "id": "r3HKrukgqd94",
        "colab": {
          "base_uri": "https://localhost:8080/",
          "height": 1000
        },
        "outputId": "d298797c-bf20-4465-908e-0018916615c3"
      },
      "source": [
        "plot(Y_test,y_test_predict)\r\n",
        "plt.title('Prédiction de la variable score_1 par le budget et le revenu \\n Base entière')\r\n",
        "\r\n",
        "plot(Y_test2, y_test_predict2)\r\n",
        "plt.title('Prédiction de la variable score_1 par le budget et le revenu \\n Valeurs de score_1 entre les 1er et 3ème quartiles')\r\n",
        "\r\n",
        "plt.show()"
      ],
      "execution_count": null,
      "outputs": [
        {
          "output_type": "stream",
          "text": [
            "/usr/local/lib/python3.6/dist-packages/seaborn/distributions.py:2551: FutureWarning:\n",
            "\n",
            "`distplot` is a deprecated function and will be removed in a future version. Please adapt your code to use either `displot` (a figure-level function with similar flexibility) or `histplot` (an axes-level function for histograms).\n",
            "\n",
            "/usr/local/lib/python3.6/dist-packages/seaborn/distributions.py:2551: FutureWarning:\n",
            "\n",
            "`distplot` is a deprecated function and will be removed in a future version. Please adapt your code to use either `displot` (a figure-level function with similar flexibility) or `histplot` (an axes-level function for histograms).\n",
            "\n",
            "/usr/local/lib/python3.6/dist-packages/seaborn/distributions.py:2551: FutureWarning:\n",
            "\n",
            "`distplot` is a deprecated function and will be removed in a future version. Please adapt your code to use either `displot` (a figure-level function with similar flexibility) or `histplot` (an axes-level function for histograms).\n",
            "\n",
            "/usr/local/lib/python3.6/dist-packages/seaborn/distributions.py:2551: FutureWarning:\n",
            "\n",
            "`distplot` is a deprecated function and will be removed in a future version. Please adapt your code to use either `displot` (a figure-level function with similar flexibility) or `histplot` (an axes-level function for histograms).\n",
            "\n"
          ],
          "name": "stderr"
        },
        {
          "output_type": "display_data",
          "data": {
            "image/png": "[encoded data removed]",
            "text/plain": [
              "<Figure size 576x360 with 1 Axes>"
            ]
          },
          "metadata": {
            "tags": [],
            "needs_background": "light"
          }
        },
        {
          "output_type": "display_data",
          "data": {
            "image/png": "[encoded data removed]",
            "text/plain": [
              "<Figure size 576x360 with 1 Axes>"
            ]
          },
          "metadata": {
            "tags": [],
            "needs_background": "light"
          }
        }
      ]
    },
    {
      "cell_type": "markdown",
      "metadata": {
        "id": "u7g-csnu11h-"
      },
      "source": [
        "Grâce à ces graphiques, on remarque qu'effectivement la première régression est nettement plus efficace que la seconde pour prédire les valeurs de *score_1*. Cependant, l'algorithme a plus de mal à prédire précisément les petites valeurs de *score_1*."
      ]
    },
    {
      "cell_type": "markdown",
      "metadata": {
        "id": "n9JQiqUV2wMN"
      },
      "source": [
        "# Sentiment analysis (?)\n"
      ]
    },
    {
      "cell_type": "code",
      "metadata": {
        "id": "xxjeMsYWpce-",
        "colab": {
          "base_uri": "https://localhost:8080/"
        },
        "outputId": "35a6bb4a-fcd2-484c-e98d-c65e1f8f463e"
      },
      "source": [
        "from google.colab import drive\n",
        "drive.mount('/content/drive')"
      ],
      "execution_count": null,
      "outputs": [
        {
          "output_type": "stream",
          "text": [
            "Mounted at /content/drive\n"
          ],
          "name": "stdout"
        }
      ]
    },
    {
      "cell_type": "code",
      "metadata": {
        "id": "VFCQJOEy3siL",
        "colab": {
          "base_uri": "https://localhost:8080/",
          "height": 346
        },
        "outputId": "de0e6795-469a-4b5b-b70e-ed930ce2f9cb"
      },
      "source": [
        "review = pd.read_csv(r'/content/drive/MyDrive/ENSAE/2A/Projet Info S1/review_imdb.csv', sep=';', encoding='utf-8', low_memory=True)"
      ],
      "execution_count": null,
      "outputs": [
        {
          "output_type": "error",
          "ename": "FileNotFoundError",
          "evalue": "ignored",
          "traceback": [
            "\u001b[0;31m---------------------------------------------------------------------------\u001b[0m",
            "\u001b[0;31mFileNotFoundError\u001b[0m                         Traceback (most recent call last)",
            "\u001b[0;32m<ipython-input-148-73a825e4013c>\u001b[0m in \u001b[0;36m<module>\u001b[0;34m()\u001b[0m\n\u001b[0;32m----> 1\u001b[0;31m \u001b[0mreview\u001b[0m \u001b[0;34m=\u001b[0m \u001b[0mpd\u001b[0m\u001b[0;34m.\u001b[0m\u001b[0mread_csv\u001b[0m\u001b[0;34m(\u001b[0m\u001b[0;34mr'/content/drive/MyDrive/ENSAE/2A/Projet Info S1/review_imdb.csv'\u001b[0m\u001b[0;34m,\u001b[0m \u001b[0msep\u001b[0m\u001b[0;34m=\u001b[0m\u001b[0;34m';'\u001b[0m\u001b[0;34m,\u001b[0m \u001b[0mencoding\u001b[0m\u001b[0;34m=\u001b[0m\u001b[0;34m'utf-8'\u001b[0m\u001b[0;34m,\u001b[0m \u001b[0mlow_memory\u001b[0m\u001b[0;34m=\u001b[0m\u001b[0;32mTrue\u001b[0m\u001b[0;34m)\u001b[0m\u001b[0;34m\u001b[0m\u001b[0;34m\u001b[0m\u001b[0m\n\u001b[0m",
            "\u001b[0;32m/usr/local/lib/python3.6/dist-packages/pandas/io/parsers.py\u001b[0m in \u001b[0;36mread_csv\u001b[0;34m(filepath_or_buffer, sep, delimiter, header, names, index_col, usecols, squeeze, prefix, mangle_dupe_cols, dtype, engine, converters, true_values, false_values, skipinitialspace, skiprows, skipfooter, nrows, na_values, keep_default_na, na_filter, verbose, skip_blank_lines, parse_dates, infer_datetime_format, keep_date_col, date_parser, dayfirst, cache_dates, iterator, chunksize, compression, thousands, decimal, lineterminator, quotechar, quoting, doublequote, escapechar, comment, encoding, dialect, error_bad_lines, warn_bad_lines, delim_whitespace, low_memory, memory_map, float_precision)\u001b[0m\n\u001b[1;32m    686\u001b[0m     )\n\u001b[1;32m    687\u001b[0m \u001b[0;34m\u001b[0m\u001b[0m\n\u001b[0;32m--> 688\u001b[0;31m     \u001b[0;32mreturn\u001b[0m \u001b[0m_read\u001b[0m\u001b[0;34m(\u001b[0m\u001b[0mfilepath_or_buffer\u001b[0m\u001b[0;34m,\u001b[0m \u001b[0mkwds\u001b[0m\u001b[0;34m)\u001b[0m\u001b[0;34m\u001b[0m\u001b[0;34m\u001b[0m\u001b[0m\n\u001b[0m\u001b[1;32m    689\u001b[0m \u001b[0;34m\u001b[0m\u001b[0m\n\u001b[1;32m    690\u001b[0m \u001b[0;34m\u001b[0m\u001b[0m\n",
            "\u001b[0;32m/usr/local/lib/python3.6/dist-packages/pandas/io/parsers.py\u001b[0m in \u001b[0;36m_read\u001b[0;34m(filepath_or_buffer, kwds)\u001b[0m\n\u001b[1;32m    452\u001b[0m \u001b[0;34m\u001b[0m\u001b[0m\n\u001b[1;32m    453\u001b[0m     \u001b[0;31m# Create the parser.\u001b[0m\u001b[0;34m\u001b[0m\u001b[0;34m\u001b[0m\u001b[0;34m\u001b[0m\u001b[0m\n\u001b[0;32m--> 454\u001b[0;31m     \u001b[0mparser\u001b[0m \u001b[0;34m=\u001b[0m \u001b[0mTextFileReader\u001b[0m\u001b[0;34m(\u001b[0m\u001b[0mfp_or_buf\u001b[0m\u001b[0;34m,\u001b[0m \u001b[0;34m**\u001b[0m\u001b[0mkwds\u001b[0m\u001b[0;34m)\u001b[0m\u001b[0;34m\u001b[0m\u001b[0;34m\u001b[0m\u001b[0m\n\u001b[0m\u001b[1;32m    455\u001b[0m \u001b[0;34m\u001b[0m\u001b[0m\n\u001b[1;32m    456\u001b[0m     \u001b[0;32mif\u001b[0m \u001b[0mchunksize\u001b[0m \u001b[0;32mor\u001b[0m \u001b[0miterator\u001b[0m\u001b[0;34m:\u001b[0m\u001b[0;34m\u001b[0m\u001b[0;34m\u001b[0m\u001b[0m\n",
            "\u001b[0;32m/usr/local/lib/python3.6/dist-packages/pandas/io/parsers.py\u001b[0m in \u001b[0;36m__init__\u001b[0;34m(self, f, engine, **kwds)\u001b[0m\n\u001b[1;32m    946\u001b[0m             \u001b[0mself\u001b[0m\u001b[0;34m.\u001b[0m\u001b[0moptions\u001b[0m\u001b[0;34m[\u001b[0m\u001b[0;34m\"has_index_names\"\u001b[0m\u001b[0;34m]\u001b[0m \u001b[0;34m=\u001b[0m \u001b[0mkwds\u001b[0m\u001b[0;34m[\u001b[0m\u001b[0;34m\"has_index_names\"\u001b[0m\u001b[0;34m]\u001b[0m\u001b[0;34m\u001b[0m\u001b[0;34m\u001b[0m\u001b[0m\n\u001b[1;32m    947\u001b[0m \u001b[0;34m\u001b[0m\u001b[0m\n\u001b[0;32m--> 948\u001b[0;31m         \u001b[0mself\u001b[0m\u001b[0;34m.\u001b[0m\u001b[0m_make_engine\u001b[0m\u001b[0;34m(\u001b[0m\u001b[0mself\u001b[0m\u001b[0;34m.\u001b[0m\u001b[0mengine\u001b[0m\u001b[0;34m)\u001b[0m\u001b[0;34m\u001b[0m\u001b[0;34m\u001b[0m\u001b[0m\n\u001b[0m\u001b[1;32m    949\u001b[0m \u001b[0;34m\u001b[0m\u001b[0m\n\u001b[1;32m    950\u001b[0m     \u001b[0;32mdef\u001b[0m \u001b[0mclose\u001b[0m\u001b[0;34m(\u001b[0m\u001b[0mself\u001b[0m\u001b[0;34m)\u001b[0m\u001b[0;34m:\u001b[0m\u001b[0;34m\u001b[0m\u001b[0;34m\u001b[0m\u001b[0m\n",
            "\u001b[0;32m/usr/local/lib/python3.6/dist-packages/pandas/io/parsers.py\u001b[0m in \u001b[0;36m_make_engine\u001b[0;34m(self, engine)\u001b[0m\n\u001b[1;32m   1178\u001b[0m     \u001b[0;32mdef\u001b[0m \u001b[0m_make_engine\u001b[0m\u001b[0;34m(\u001b[0m\u001b[0mself\u001b[0m\u001b[0;34m,\u001b[0m \u001b[0mengine\u001b[0m\u001b[0;34m=\u001b[0m\u001b[0;34m\"c\"\u001b[0m\u001b[0;34m)\u001b[0m\u001b[0;34m:\u001b[0m\u001b[0;34m\u001b[0m\u001b[0;34m\u001b[0m\u001b[0m\n\u001b[1;32m   1179\u001b[0m         \u001b[0;32mif\u001b[0m \u001b[0mengine\u001b[0m \u001b[0;34m==\u001b[0m \u001b[0;34m\"c\"\u001b[0m\u001b[0;34m:\u001b[0m\u001b[0;34m\u001b[0m\u001b[0;34m\u001b[0m\u001b[0m\n\u001b[0;32m-> 1180\u001b[0;31m             \u001b[0mself\u001b[0m\u001b[0;34m.\u001b[0m\u001b[0m_engine\u001b[0m \u001b[0;34m=\u001b[0m \u001b[0mCParserWrapper\u001b[0m\u001b[0;34m(\u001b[0m\u001b[0mself\u001b[0m\u001b[0;34m.\u001b[0m\u001b[0mf\u001b[0m\u001b[0;34m,\u001b[0m \u001b[0;34m**\u001b[0m\u001b[0mself\u001b[0m\u001b[0;34m.\u001b[0m\u001b[0moptions\u001b[0m\u001b[0;34m)\u001b[0m\u001b[0;34m\u001b[0m\u001b[0;34m\u001b[0m\u001b[0m\n\u001b[0m\u001b[1;32m   1181\u001b[0m         \u001b[0;32melse\u001b[0m\u001b[0;34m:\u001b[0m\u001b[0;34m\u001b[0m\u001b[0;34m\u001b[0m\u001b[0m\n\u001b[1;32m   1182\u001b[0m             \u001b[0;32mif\u001b[0m \u001b[0mengine\u001b[0m \u001b[0;34m==\u001b[0m \u001b[0;34m\"python\"\u001b[0m\u001b[0;34m:\u001b[0m\u001b[0;34m\u001b[0m\u001b[0;34m\u001b[0m\u001b[0m\n",
            "\u001b[0;32m/usr/local/lib/python3.6/dist-packages/pandas/io/parsers.py\u001b[0m in \u001b[0;36m__init__\u001b[0;34m(self, src, **kwds)\u001b[0m\n\u001b[1;32m   1991\u001b[0m         \u001b[0;32mif\u001b[0m \u001b[0mkwds\u001b[0m\u001b[0;34m.\u001b[0m\u001b[0mget\u001b[0m\u001b[0;34m(\u001b[0m\u001b[0;34m\"compression\"\u001b[0m\u001b[0;34m)\u001b[0m \u001b[0;32mis\u001b[0m \u001b[0;32mNone\u001b[0m \u001b[0;32mand\u001b[0m \u001b[0mencoding\u001b[0m\u001b[0;34m:\u001b[0m\u001b[0;34m\u001b[0m\u001b[0;34m\u001b[0m\u001b[0m\n\u001b[1;32m   1992\u001b[0m             \u001b[0;32mif\u001b[0m \u001b[0misinstance\u001b[0m\u001b[0;34m(\u001b[0m\u001b[0msrc\u001b[0m\u001b[0;34m,\u001b[0m \u001b[0mstr\u001b[0m\u001b[0;34m)\u001b[0m\u001b[0;34m:\u001b[0m\u001b[0;34m\u001b[0m\u001b[0;34m\u001b[0m\u001b[0m\n\u001b[0;32m-> 1993\u001b[0;31m                 \u001b[0msrc\u001b[0m \u001b[0;34m=\u001b[0m \u001b[0mopen\u001b[0m\u001b[0;34m(\u001b[0m\u001b[0msrc\u001b[0m\u001b[0;34m,\u001b[0m \u001b[0;34m\"rb\"\u001b[0m\u001b[0;34m)\u001b[0m\u001b[0;34m\u001b[0m\u001b[0;34m\u001b[0m\u001b[0m\n\u001b[0m\u001b[1;32m   1994\u001b[0m                 \u001b[0mself\u001b[0m\u001b[0;34m.\u001b[0m\u001b[0mhandles\u001b[0m\u001b[0;34m.\u001b[0m\u001b[0mappend\u001b[0m\u001b[0;34m(\u001b[0m\u001b[0msrc\u001b[0m\u001b[0;34m)\u001b[0m\u001b[0;34m\u001b[0m\u001b[0;34m\u001b[0m\u001b[0m\n\u001b[1;32m   1995\u001b[0m \u001b[0;34m\u001b[0m\u001b[0m\n",
            "\u001b[0;31mFileNotFoundError\u001b[0m: [Errno 2] No such file or directory: '/content/drive/MyDrive/ENSAE/2A/Projet Info S1/review_imdb.csv'"
          ]
        }
      ]
    },
    {
      "cell_type": "code",
      "metadata": {
        "id": "hg4BwXfA5V-n"
      },
      "source": [
        "review.to_csv('review_imdb_2.csv')"
      ],
      "execution_count": null,
      "outputs": []
    },
    {
      "cell_type": "code",
      "metadata": {
        "id": "Ms6E9oLO5dXI"
      },
      "source": [
        ""
      ],
      "execution_count": null,
      "outputs": []
    }
  ]
}