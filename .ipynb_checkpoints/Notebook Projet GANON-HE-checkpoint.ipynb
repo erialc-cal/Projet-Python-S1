{
 "cells": [
  {
   "cell_type": "markdown",
   "metadata": {
    "id": "2qiZtOU8LJkl"
   },
   "source": [
    "# Introduction et problématisation"
   ]
  },
  {
   "cell_type": "markdown",
   "metadata": {
    "id": "iu5bQdzILM9Z"
   },
   "source": [
    "# Aperçu de la base de données et nettoyage\n",
    "  ## Installation de tous les packages nécessaires au projet"
   ]
  },
  {
   "cell_type": "code",
   "execution_count": 107,
   "metadata": {
    "id": "sa3PjxxaMgG3"
   },
   "outputs": [],
   "source": [
    "import numpy as np\n",
    "import pandas as pd\n",
    "import matplotlib.pyplot as plt\n",
    "import plotly.express as px\n",
    "from urllib import request\n",
    "import csv\n",
    "import bs4\n",
    "from tqdm.notebook import trange\n",
    "import seaborn as sns\n",
    "import numpy as np"
   ]
  },
  {
   "cell_type": "code",
   "execution_count": null,
   "metadata": {
    "colab": {
     "base_uri": "https://localhost:8080/",
     "height": 121
    },
    "id": "dRWDp7iYLd9M",
    "outputId": "7601ec24-772a-45bf-b3bf-f9fd0f5a5660"
   },
   "outputs": [
    {
     "name": "stdout",
     "output_type": "stream",
     "text": [
      "Cloning into 'Projet-Python-S1'...\n",
      "warning: --local is ignored\n",
      "fatal: Unable to look up https (port 9418) (Name or service not known)\n",
      "[Errno 2] No such file or directory: 'cloned-repo'\n",
      "/content/cloned-repo\n",
      "environment.yml  LICENSE-CODE  LICENSE-TEXT  notebooks\tREADME.md\n"
     ]
    }
   ],
   "source": [
    "!git clone -l -s git://https://github.com/marie-ganon/Projet-Python-S1.git\n",
    "%cd cloned-repo\n",
    "!ls"
   ]
  },
  {
   "cell_type": "markdown",
   "metadata": {
    "id": "RoE0KjBTNN3s"
   },
   "source": [
    "## Aperçu de la base initiale\n",
    "\n",
    "La base que nous avons décidé de choisir pour mener à bien notre projet est issue du site The Movie Database, BLABLABLA\n",
    "\n",
    "Le dataset est disponible à l'adresse suivante : https://www.kaggle.com/rounakbanik/the-movies-dataset. Une partie de la base a été prénettoyée sur Excel et avec des méthodes Python simples. "
   ]
  },
  {
   "cell_type": "code",
   "execution_count": 108,
   "metadata": {
    "scrolled": true
   },
   "outputs": [
    {
     "ename": "SyntaxError",
     "evalue": "invalid syntax (<ipython-input-108-52ed86e18a91>, line 1)",
     "output_type": "error",
     "traceback": [
      "\u001b[0;36m  File \u001b[0;32m\"<ipython-input-108-52ed86e18a91>\"\u001b[0;36m, line \u001b[0;32m1\u001b[0m\n\u001b[0;31m    ls Dropbox/GitHub/Projet-Python-S1\u001b[0m\n\u001b[0m             ^\u001b[0m\n\u001b[0;31mSyntaxError\u001b[0m\u001b[0;31m:\u001b[0m invalid syntax\n"
     ]
    }
   ],
   "source": [
    "ls Dropbox/GitHub/Projet-Python-S1"
   ]
  },
  {
   "cell_type": "code",
   "execution_count": 92,
   "metadata": {},
   "outputs": [
    {
     "name": "stdout",
     "output_type": "stream",
     "text": [
      "[Errno 2] No such file or directory: 'Dropbox/GitHub/Projet-Python-S1'\n",
      "/Users/h2jw/Dropbox/GitHub/Projet-Python-S1\n"
     ]
    }
   ],
   "source": [
    "cd Dropbox/GitHub/Projet-Python-S1"
   ]
  },
  {
   "cell_type": "code",
   "execution_count": 109,
   "metadata": {},
   "outputs": [],
   "source": [
    "# On crée un dossier temporaire pour dézipper le csv\n",
    "import tempfile\n",
    "\n",
    "temp_dir = tempfile.mkdtemp()\n"
   ]
  },
  {
   "cell_type": "code",
   "execution_count": 135,
   "metadata": {
    "scrolled": true
   },
   "outputs": [],
   "source": [
    "# Pour dezipper le csv disponible dans le git (movies metadata)\n",
    "\n",
    "import zipfile\n",
    "\n",
    "with zipfile.ZipFile('movies_metadata.csv.zip', 'r') as zip_ref:\n",
    "    zip_ref.extractall('temp_dir')\n",
    "    "
   ]
  },
  {
   "cell_type": "code",
   "execution_count": 136,
   "metadata": {
    "colab": {
     "base_uri": "https://localhost:8080/",
     "height": 759
    },
    "id": "xUUFwJ-eMQ4V",
    "outputId": "b52917ab-d352-4c6b-b02f-4e71572501b5",
    "scrolled": true
   },
   "outputs": [
    {
     "name": "stdout",
     "output_type": "stream",
     "text": [
      "<class 'pandas.core.frame.DataFrame'>\n",
      "RangeIndex: 45466 entries, 0 to 45465\n",
      "Data columns (total 24 columns):\n",
      " #   Column                 Non-Null Count  Dtype  \n",
      "---  ------                 --------------  -----  \n",
      " 0   adult                  45466 non-null  object \n",
      " 1   belongs_to_collection  4494 non-null   object \n",
      " 2   budget                 45466 non-null  object \n",
      " 3   genres                 45466 non-null  object \n",
      " 4   homepage               7782 non-null   object \n",
      " 5   id                     45466 non-null  object \n",
      " 6   imdb_id                45449 non-null  object \n",
      " 7   original_language      45455 non-null  object \n",
      " 8   original_title         45466 non-null  object \n",
      " 9   overview               44512 non-null  object \n",
      " 10  popularity             45461 non-null  object \n",
      " 11  poster_path            45080 non-null  object \n",
      " 12  production_companies   45463 non-null  object \n",
      " 13  production_countries   45463 non-null  object \n",
      " 14  release_date           45379 non-null  object \n",
      " 15  revenue                45460 non-null  float64\n",
      " 16  runtime                45203 non-null  float64\n",
      " 17  spoken_languages       45460 non-null  object \n",
      " 18  status                 45379 non-null  object \n",
      " 19  tagline                20412 non-null  object \n",
      " 20  title                  45460 non-null  object \n",
      " 21  video                  45460 non-null  object \n",
      " 22  vote_average           45460 non-null  float64\n",
      " 23  vote_count             45460 non-null  float64\n",
      "dtypes: float64(4), object(20)\n",
      "memory usage: 8.3+ MB\n"
     ]
    }
   ],
   "source": [
    "df = pd.read_csv(r'temp_dir/movies_metadata.csv', sep=',', low_memory = False)\n",
    "df.info()"
   ]
  },
  {
   "cell_type": "markdown",
   "metadata": {
    "id": "LG6zvfrcc0O3"
   },
   "source": [
    "On regarde tout d'abord si la base comporte beaucoup de cellules vide:"
   ]
  },
  {
   "cell_type": "code",
   "execution_count": 137,
   "metadata": {
    "colab": {
     "base_uri": "https://localhost:8080/",
     "height": 543
    },
    "id": "uKM6qbS0czXq",
    "outputId": "64ea0600-0015-4530-9f61-b8552449f883"
   },
   "outputs": [
    {
     "name": "stdout",
     "output_type": "stream",
     "text": [
      "Complétude totale en pourcentage de la base : 90.32592120119062 %\n"
     ]
    },
    {
     "data": {
      "image/png": "[encoded data removed]",
      "text/plain": [
       "<Figure size 864x432 with 1 Axes>"
      ]
     },
     "metadata": {
      "needs_background": "light"
     },
     "output_type": "display_data"
    }
   ],
   "source": [
    "fig, ax = plt.subplots(figsize=(12,6))\n",
    "sns.heatmap(df.isnull(), cbar=False)\n",
    "plt.title('Complétude de la base, en blanc les valeurs manquantes')\n",
    "print(\"Complétude totale en pourcentage de la base :\", (1-df.isnull().sum().sum()/(len(df.id)*len(df.columns)))*100,'%')"
   ]
  },
  {
   "cell_type": "markdown",
   "metadata": {
    "id": "-Xx1dZiOGshn"
   },
   "source": [
    "## Détails des colonnes de la base"
   ]
  },
  {
   "cell_type": "markdown",
   "metadata": {
    "id": "NS4rOl_HGm6Z"
   },
   "source": [
    "# Nettoyage de la base"
   ]
  },
  {
   "cell_type": "markdown",
   "metadata": {},
   "source": [
    "## Nettoyage de *production_companies* "
   ]
  },
  {
   "cell_type": "code",
   "execution_count": 138,
   "metadata": {},
   "outputs": [
    {
     "data": {
      "text/plain": [
       "0           [{'name': 'Pixar Animation Studios', 'id': 3}]\n",
       "1        [{'name': 'TriStar Pictures', 'id': 559}, {'na...\n",
       "2        [{'name': 'Warner Bros.', 'id': 6194}, {'name'...\n",
       "3        [{'name': 'Twentieth Century Fox Film Corporat...\n",
       "4        [{'name': 'Sandollar Productions', 'id': 5842}...\n",
       "                               ...                        \n",
       "45461                                                   []\n",
       "45462               [{'name': 'Sine Olivia', 'id': 19653}]\n",
       "45463    [{'name': 'American World Pictures', 'id': 6165}]\n",
       "45464                 [{'name': 'Yermoliev', 'id': 88753}]\n",
       "45465                                                   []\n",
       "Name: production_companies, Length: 45466, dtype: object"
      ]
     },
     "execution_count": 138,
     "metadata": {},
     "output_type": "execute_result"
    }
   ],
   "source": [
    "df.production_companies"
   ]
  },
  {
   "cell_type": "code",
   "execution_count": 139,
   "metadata": {},
   "outputs": [],
   "source": [
    "df_temp = df.production_companies.str.split(',')\n",
    "df_1 = pd.DataFrame()\n",
    "df_2 = pd.DataFrame()\n",
    "df_1['name'] = df_temp.str.get(0)\n",
    "df_1['id'] = df_temp.str.get(1)\n",
    "df['production_companies_name'] = df_1.name.str.split(':').str.get(1)\n",
    "df_2['production_companies_id'] = df_1.id.str.split(':').str.get(1)\n"
   ]
  },
  {
   "cell_type": "code",
   "execution_count": 140,
   "metadata": {},
   "outputs": [],
   "source": [
    "import re\n",
    "l = []\n",
    "for elem in df_2['production_companies_id']:\n",
    "  string1 = str(elem)\n",
    "  l.append(map(int, re.findall(r'\\d+', string1)))\n",
    "df['production_companies_id']= pd.DataFrame(l)\n"
   ]
  },
  {
   "cell_type": "code",
   "execution_count": 141,
   "metadata": {},
   "outputs": [
    {
     "data": {
      "text/plain": [
       "0                        'Pixar Animation Studios'\n",
       "1                               'TriStar Pictures'\n",
       "2                                   'Warner Bros.'\n",
       "3         'Twentieth Century Fox Film Corporation'\n",
       "4                          'Sandollar Productions'\n",
       "                           ...                    \n",
       "45461                                          NaN\n",
       "45462                                'Sine Olivia'\n",
       "45463                    'American World Pictures'\n",
       "45464                                  'Yermoliev'\n",
       "45465                                          NaN\n",
       "Name: production_companies_name, Length: 45466, dtype: object"
      ]
     },
     "execution_count": 141,
     "metadata": {},
     "output_type": "execute_result"
    }
   ],
   "source": [
    "df.production_companies_name"
   ]
  },
  {
   "cell_type": "markdown",
   "metadata": {},
   "source": [
    "## Nettoyage de *production_countries*"
   ]
  },
  {
   "cell_type": "code",
   "execution_count": 142,
   "metadata": {},
   "outputs": [
    {
     "data": {
      "text/plain": [
       "0         'name': 'United States of America'}]\n",
       "1         'name': 'United States of America'}]\n",
       "2         'name': 'United States of America'}]\n",
       "3         'name': 'United States of America'}]\n",
       "4         'name': 'United States of America'}]\n",
       "                         ...                  \n",
       "45461                         'name': 'Iran'}]\n",
       "45462                  'name': 'Philippines'}]\n",
       "45463     'name': 'United States of America'}]\n",
       "45464                       'name': 'Russia'}]\n",
       "45465               'name': 'United Kingdom'}]\n",
       "Name: production_countries, Length: 45466, dtype: object"
      ]
     },
     "execution_count": 142,
     "metadata": {},
     "output_type": "execute_result"
    }
   ],
   "source": [
    "df.production_countries.str.split(',').str.get(1)"
   ]
  },
  {
   "cell_type": "code",
   "execution_count": 143,
   "metadata": {},
   "outputs": [],
   "source": [
    "\n",
    "df_temp = df.production_countries.str.split(',')\n",
    "df_1 = pd.DataFrame()\n",
    "df_2 = pd.DataFrame()\n",
    "df_1['country_code'] = df_temp.str.get(0)\n",
    "df_1['country_name'] = df_temp.str.get(1)\n",
    "df['country_code'] = df_1.country_code.str.split(':').str.get(1)\n",
    "df_2['country_name_try'] = df_1.country_name.str.split(':').str.get(1)\n",
    "df['country_name']=df_2['country_name_try'].str.split('}').str.get(0)\n"
   ]
  },
  {
   "cell_type": "markdown",
   "metadata": {
    "id": "3L3sTW3CdAdH"
   },
   "source": [
    "On commence par retirer toute la ponctuation, qui ne nous servira pas.  "
   ]
  },
  {
   "cell_type": "code",
   "execution_count": 144,
   "metadata": {
    "id": "ACcMoH0zcIq4"
   },
   "outputs": [],
   "source": [
    "df.production_companies_name = df.production_companies_name.str.replace(r'[^\\w\\s]+', '')\n",
    "df.production_companies= df.production_companies.str.replace(r'[^\\w\\s]+', '')\n",
    "df.genres = df.genres.str.replace(r'[^\\w\\s]+', '')\n",
    "df.production_countries = df.production_countries.str.replace(r'[^\\w\\s]+', '')\n",
    "df.spoken_languages = df.spoken_languages.str.replace(r'[^\\w\\s]+', '')\n",
    "df.country_code = df.country_code.str.replace(r'[^\\w\\s]+', '')\n",
    "df.country_name = df.country_name.str.replace(r'[^\\w\\s]+', '')"
   ]
  },
  {
   "cell_type": "code",
   "execution_count": 145,
   "metadata": {},
   "outputs": [
    {
     "data": {
      "text/plain": [
       "0         United States of America\n",
       "1         United States of America\n",
       "2         United States of America\n",
       "3         United States of America\n",
       "4         United States of America\n",
       "                   ...            \n",
       "45461                         Iran\n",
       "45462                  Philippines\n",
       "45463     United States of America\n",
       "45464                       Russia\n",
       "45465               United Kingdom\n",
       "Name: country_name, Length: 45466, dtype: object"
      ]
     },
     "execution_count": 145,
     "metadata": {},
     "output_type": "execute_result"
    }
   ],
   "source": [
    "df.country_name"
   ]
  },
  {
   "cell_type": "markdown",
   "metadata": {
    "id": "OyVrmea5g61f"
   },
   "source": [
    "Nous obtenons alors ce résultat-ci :"
   ]
  },
  {
   "cell_type": "code",
   "execution_count": 146,
   "metadata": {
    "colab": {
     "base_uri": "https://localhost:8080/",
     "height": 725
    },
    "id": "vIQavrLtfNF-",
    "outputId": "204df8a2-277e-4f42-931d-76940c34bae2",
    "scrolled": false
   },
   "outputs": [
    {
     "data": {
      "text/html": [
       "<div>\n",
       "<style scoped>\n",
       "    .dataframe tbody tr th:only-of-type {\n",
       "        vertical-align: middle;\n",
       "    }\n",
       "\n",
       "    .dataframe tbody tr th {\n",
       "        vertical-align: top;\n",
       "    }\n",
       "\n",
       "    .dataframe thead th {\n",
       "        text-align: right;\n",
       "    }\n",
       "</style>\n",
       "<table border=\"1\" class=\"dataframe\">\n",
       "  <thead>\n",
       "    <tr style=\"text-align: right;\">\n",
       "      <th></th>\n",
       "      <th>adult</th>\n",
       "      <th>belongs_to_collection</th>\n",
       "      <th>budget</th>\n",
       "      <th>genres</th>\n",
       "      <th>homepage</th>\n",
       "      <th>id</th>\n",
       "      <th>imdb_id</th>\n",
       "      <th>original_language</th>\n",
       "      <th>original_title</th>\n",
       "      <th>overview</th>\n",
       "      <th>...</th>\n",
       "      <th>status</th>\n",
       "      <th>tagline</th>\n",
       "      <th>title</th>\n",
       "      <th>video</th>\n",
       "      <th>vote_average</th>\n",
       "      <th>vote_count</th>\n",
       "      <th>production_companies_name</th>\n",
       "      <th>production_companies_id</th>\n",
       "      <th>country_code</th>\n",
       "      <th>country_name</th>\n",
       "    </tr>\n",
       "  </thead>\n",
       "  <tbody>\n",
       "    <tr>\n",
       "      <th>0</th>\n",
       "      <td>False</td>\n",
       "      <td>{'id': 10194, 'name': 'Toy Story Collection', ...</td>\n",
       "      <td>30000000</td>\n",
       "      <td>id 16 name Animation id 35 name Comedy id 1075...</td>\n",
       "      <td>http://toystory.disney.com/toy-story</td>\n",
       "      <td>862</td>\n",
       "      <td>tt0114709</td>\n",
       "      <td>en</td>\n",
       "      <td>Toy Story</td>\n",
       "      <td>Led by Woody, Andy's toys live happily in his ...</td>\n",
       "      <td>...</td>\n",
       "      <td>Released</td>\n",
       "      <td>NaN</td>\n",
       "      <td>Toy Story</td>\n",
       "      <td>False</td>\n",
       "      <td>7.7</td>\n",
       "      <td>5415.0</td>\n",
       "      <td>Pixar Animation Studios</td>\n",
       "      <td>3.0</td>\n",
       "      <td>US</td>\n",
       "      <td>United States of America</td>\n",
       "    </tr>\n",
       "    <tr>\n",
       "      <th>1</th>\n",
       "      <td>False</td>\n",
       "      <td>NaN</td>\n",
       "      <td>65000000</td>\n",
       "      <td>id 12 name Adventure id 14 name Fantasy id 107...</td>\n",
       "      <td>NaN</td>\n",
       "      <td>8844</td>\n",
       "      <td>tt0113497</td>\n",
       "      <td>en</td>\n",
       "      <td>Jumanji</td>\n",
       "      <td>When siblings Judy and Peter discover an encha...</td>\n",
       "      <td>...</td>\n",
       "      <td>Released</td>\n",
       "      <td>Roll the dice and unleash the excitement!</td>\n",
       "      <td>Jumanji</td>\n",
       "      <td>False</td>\n",
       "      <td>6.9</td>\n",
       "      <td>2413.0</td>\n",
       "      <td>TriStar Pictures</td>\n",
       "      <td>559.0</td>\n",
       "      <td>US</td>\n",
       "      <td>United States of America</td>\n",
       "    </tr>\n",
       "    <tr>\n",
       "      <th>2</th>\n",
       "      <td>False</td>\n",
       "      <td>{'id': 119050, 'name': 'Grumpy Old Men Collect...</td>\n",
       "      <td>0</td>\n",
       "      <td>id 10749 name Romance id 35 name Comedy</td>\n",
       "      <td>NaN</td>\n",
       "      <td>15602</td>\n",
       "      <td>tt0113228</td>\n",
       "      <td>en</td>\n",
       "      <td>Grumpier Old Men</td>\n",
       "      <td>A family wedding reignites the ancient feud be...</td>\n",
       "      <td>...</td>\n",
       "      <td>Released</td>\n",
       "      <td>Still Yelling. Still Fighting. Still Ready for...</td>\n",
       "      <td>Grumpier Old Men</td>\n",
       "      <td>False</td>\n",
       "      <td>6.5</td>\n",
       "      <td>92.0</td>\n",
       "      <td>Warner Bros</td>\n",
       "      <td>6194.0</td>\n",
       "      <td>US</td>\n",
       "      <td>United States of America</td>\n",
       "    </tr>\n",
       "    <tr>\n",
       "      <th>3</th>\n",
       "      <td>False</td>\n",
       "      <td>NaN</td>\n",
       "      <td>16000000</td>\n",
       "      <td>id 35 name Comedy id 18 name Drama id 10749 na...</td>\n",
       "      <td>NaN</td>\n",
       "      <td>31357</td>\n",
       "      <td>tt0114885</td>\n",
       "      <td>en</td>\n",
       "      <td>Waiting to Exhale</td>\n",
       "      <td>Cheated on, mistreated and stepped on, the wom...</td>\n",
       "      <td>...</td>\n",
       "      <td>Released</td>\n",
       "      <td>Friends are the people who let you be yourself...</td>\n",
       "      <td>Waiting to Exhale</td>\n",
       "      <td>False</td>\n",
       "      <td>6.1</td>\n",
       "      <td>34.0</td>\n",
       "      <td>Twentieth Century Fox Film Corporation</td>\n",
       "      <td>306.0</td>\n",
       "      <td>US</td>\n",
       "      <td>United States of America</td>\n",
       "    </tr>\n",
       "    <tr>\n",
       "      <th>4</th>\n",
       "      <td>False</td>\n",
       "      <td>{'id': 96871, 'name': 'Father of the Bride Col...</td>\n",
       "      <td>0</td>\n",
       "      <td>id 35 name Comedy</td>\n",
       "      <td>NaN</td>\n",
       "      <td>11862</td>\n",
       "      <td>tt0113041</td>\n",
       "      <td>en</td>\n",
       "      <td>Father of the Bride Part II</td>\n",
       "      <td>Just when George Banks has recovered from his ...</td>\n",
       "      <td>...</td>\n",
       "      <td>Released</td>\n",
       "      <td>Just When His World Is Back To Normal... He's ...</td>\n",
       "      <td>Father of the Bride Part II</td>\n",
       "      <td>False</td>\n",
       "      <td>5.7</td>\n",
       "      <td>173.0</td>\n",
       "      <td>Sandollar Productions</td>\n",
       "      <td>5842.0</td>\n",
       "      <td>US</td>\n",
       "      <td>United States of America</td>\n",
       "    </tr>\n",
       "  </tbody>\n",
       "</table>\n",
       "<p>5 rows × 28 columns</p>\n",
       "</div>"
      ],
      "text/plain": [
       "   adult                              belongs_to_collection    budget  \\\n",
       "0  False  {'id': 10194, 'name': 'Toy Story Collection', ...  30000000   \n",
       "1  False                                                NaN  65000000   \n",
       "2  False  {'id': 119050, 'name': 'Grumpy Old Men Collect...         0   \n",
       "3  False                                                NaN  16000000   \n",
       "4  False  {'id': 96871, 'name': 'Father of the Bride Col...         0   \n",
       "\n",
       "                                              genres  \\\n",
       "0  id 16 name Animation id 35 name Comedy id 1075...   \n",
       "1  id 12 name Adventure id 14 name Fantasy id 107...   \n",
       "2            id 10749 name Romance id 35 name Comedy   \n",
       "3  id 35 name Comedy id 18 name Drama id 10749 na...   \n",
       "4                                  id 35 name Comedy   \n",
       "\n",
       "                               homepage     id    imdb_id original_language  \\\n",
       "0  http://toystory.disney.com/toy-story    862  tt0114709                en   \n",
       "1                                   NaN   8844  tt0113497                en   \n",
       "2                                   NaN  15602  tt0113228                en   \n",
       "3                                   NaN  31357  tt0114885                en   \n",
       "4                                   NaN  11862  tt0113041                en   \n",
       "\n",
       "                original_title  \\\n",
       "0                    Toy Story   \n",
       "1                      Jumanji   \n",
       "2             Grumpier Old Men   \n",
       "3            Waiting to Exhale   \n",
       "4  Father of the Bride Part II   \n",
       "\n",
       "                                            overview  ...    status  \\\n",
       "0  Led by Woody, Andy's toys live happily in his ...  ...  Released   \n",
       "1  When siblings Judy and Peter discover an encha...  ...  Released   \n",
       "2  A family wedding reignites the ancient feud be...  ...  Released   \n",
       "3  Cheated on, mistreated and stepped on, the wom...  ...  Released   \n",
       "4  Just when George Banks has recovered from his ...  ...  Released   \n",
       "\n",
       "                                             tagline  \\\n",
       "0                                                NaN   \n",
       "1          Roll the dice and unleash the excitement!   \n",
       "2  Still Yelling. Still Fighting. Still Ready for...   \n",
       "3  Friends are the people who let you be yourself...   \n",
       "4  Just When His World Is Back To Normal... He's ...   \n",
       "\n",
       "                         title  video vote_average  vote_count  \\\n",
       "0                    Toy Story  False          7.7      5415.0   \n",
       "1                      Jumanji  False          6.9      2413.0   \n",
       "2             Grumpier Old Men  False          6.5        92.0   \n",
       "3            Waiting to Exhale  False          6.1        34.0   \n",
       "4  Father of the Bride Part II  False          5.7       173.0   \n",
       "\n",
       "                 production_companies_name production_companies_id  \\\n",
       "0                  Pixar Animation Studios                     3.0   \n",
       "1                         TriStar Pictures                   559.0   \n",
       "2                              Warner Bros                  6194.0   \n",
       "3   Twentieth Century Fox Film Corporation                   306.0   \n",
       "4                    Sandollar Productions                  5842.0   \n",
       "\n",
       "  country_code               country_name  \n",
       "0           US   United States of America  \n",
       "1           US   United States of America  \n",
       "2           US   United States of America  \n",
       "3           US   United States of America  \n",
       "4           US   United States of America  \n",
       "\n",
       "[5 rows x 28 columns]"
      ]
     },
     "execution_count": 146,
     "metadata": {},
     "output_type": "execute_result"
    }
   ],
   "source": [
    "df.head(5)"
   ]
  },
  {
   "cell_type": "markdown",
   "metadata": {},
   "source": [
    "On supprime alors les colonnes dédoublées lors du nettoyage. "
   ]
  },
  {
   "cell_type": "code",
   "execution_count": 147,
   "metadata": {},
   "outputs": [],
   "source": [
    "df = df.drop(columns=['production_companies','production_countries'])"
   ]
  },
  {
   "cell_type": "markdown",
   "metadata": {
    "id": "JDow4Z-yg9yD"
   },
   "source": [
    "Nous remarquons que conserver certains mots dans les cellules de la base, tels que les 'id', 'name', ne sont pas pertinents. Par ailleurs, il sera plus lisible de pouvoir associer les identifiants de langue ISO_639-1 à leur langue dans les colonnes 'original_language' et 'spoken_language'. Ces deux objectifs sont l'objet des sections suivantes.\n",
    "\n"
   ]
  },
  {
   "cell_type": "markdown",
   "metadata": {
    "id": "TpxUu9r-R7hr"
   },
   "source": [
    "## Scraping de la liste ISO_639-1"
   ]
  },
  {
   "cell_type": "markdown",
   "metadata": {
    "id": "RltwLvlLJzRW"
   },
   "source": [
    "Cette liste est disponible sur l'url suivante : https://fr.wikipedia.org/wiki/Liste_des_codes_ISO_639-1.\n",
    "\n",
    "Nous allons récupérer les identifiants, ainsi que les langues correspondantes:"
   ]
  },
  {
   "cell_type": "code",
   "execution_count": 148,
   "metadata": {
    "id": "0s9V40wuJyvA"
   },
   "outputs": [],
   "source": [
    "url_iso = \"https://fr.wikipedia.org/wiki/Liste_des_codes_ISO_639-1\"\n",
    "    \n",
    "request_text = request.urlopen(url_iso).read()\n",
    "page = bs4.BeautifulSoup(request_text, \"lxml\")"
   ]
  },
  {
   "cell_type": "markdown",
   "metadata": {
    "id": "g8604Sz5ODiJ"
   },
   "source": [
    "Les informations que nous désirons étant contenues dans un tableau, on le récupère puis on le convertit en Data Frame"
   ]
  },
  {
   "cell_type": "code",
   "execution_count": 149,
   "metadata": {
    "colab": {
     "base_uri": "https://localhost:8080/",
     "height": 415
    },
    "id": "nbDZXv-mMLYs",
    "outputId": "f6ebcdce-5816-4cbf-c0bd-bec97582052b"
   },
   "outputs": [
    {
     "data": {
      "text/html": [
       "<div>\n",
       "<style scoped>\n",
       "    .dataframe tbody tr th:only-of-type {\n",
       "        vertical-align: middle;\n",
       "    }\n",
       "\n",
       "    .dataframe tbody tr th {\n",
       "        vertical-align: top;\n",
       "    }\n",
       "\n",
       "    .dataframe thead th {\n",
       "        text-align: right;\n",
       "    }\n",
       "</style>\n",
       "<table border=\"1\" class=\"dataframe\">\n",
       "  <thead>\n",
       "    <tr style=\"text-align: right;\">\n",
       "      <th></th>\n",
       "      <th>639-1</th>\n",
       "      <th>639-2</th>\n",
       "      <th>639-3</th>\n",
       "      <th>Nom de la langue</th>\n",
       "      <th>Nom(dans la langue correspondante)</th>\n",
       "      <th>Nom en anglais</th>\n",
       "      <th>Commentaire</th>\n",
       "    </tr>\n",
       "  </thead>\n",
       "  <tbody>\n",
       "    <tr>\n",
       "      <th>0</th>\n",
       "      <td>aa</td>\n",
       "      <td>aar</td>\n",
       "      <td>aar</td>\n",
       "      <td>Afar</td>\n",
       "      <td>Afaraf</td>\n",
       "      <td>Afar</td>\n",
       "      <td>NaN</td>\n",
       "    </tr>\n",
       "    <tr>\n",
       "      <th>1</th>\n",
       "      <td>ab</td>\n",
       "      <td>abk</td>\n",
       "      <td>abk</td>\n",
       "      <td>Abkhaze</td>\n",
       "      <td>Аҧсуа</td>\n",
       "      <td>Abkhazian</td>\n",
       "      <td>NaN</td>\n",
       "    </tr>\n",
       "    <tr>\n",
       "      <th>2</th>\n",
       "      <td>ae</td>\n",
       "      <td>ave</td>\n",
       "      <td>ave</td>\n",
       "      <td>Avestique</td>\n",
       "      <td>Avesta</td>\n",
       "      <td>Avestan</td>\n",
       "      <td>NaN</td>\n",
       "    </tr>\n",
       "    <tr>\n",
       "      <th>3</th>\n",
       "      <td>af</td>\n",
       "      <td>afr</td>\n",
       "      <td>afr</td>\n",
       "      <td>Afrikaans</td>\n",
       "      <td>Afrikaans</td>\n",
       "      <td>Afrikaans</td>\n",
       "      <td>NaN</td>\n",
       "    </tr>\n",
       "    <tr>\n",
       "      <th>4</th>\n",
       "      <td>ak</td>\n",
       "      <td>aka</td>\n",
       "      <td>aka + 2</td>\n",
       "      <td>Akan</td>\n",
       "      <td>Akan</td>\n",
       "      <td>Akan</td>\n",
       "      <td>NaN</td>\n",
       "    </tr>\n",
       "    <tr>\n",
       "      <th>...</th>\n",
       "      <td>...</td>\n",
       "      <td>...</td>\n",
       "      <td>...</td>\n",
       "      <td>...</td>\n",
       "      <td>...</td>\n",
       "      <td>...</td>\n",
       "      <td>...</td>\n",
       "    </tr>\n",
       "    <tr>\n",
       "      <th>182</th>\n",
       "      <td>yi</td>\n",
       "      <td>yid</td>\n",
       "      <td>yid + 2</td>\n",
       "      <td>Yiddish</td>\n",
       "      <td>ייִדיש</td>\n",
       "      <td>Yiddish</td>\n",
       "      <td>NaN</td>\n",
       "    </tr>\n",
       "    <tr>\n",
       "      <th>183</th>\n",
       "      <td>yo</td>\n",
       "      <td>yor</td>\n",
       "      <td>yor</td>\n",
       "      <td>Yoruba</td>\n",
       "      <td>Yorùbá</td>\n",
       "      <td>Yoruba</td>\n",
       "      <td>NaN</td>\n",
       "    </tr>\n",
       "    <tr>\n",
       "      <th>184</th>\n",
       "      <td>za</td>\n",
       "      <td>zha</td>\n",
       "      <td>zha + 2</td>\n",
       "      <td>Zhuang</td>\n",
       "      <td>Saɯ cueŋƅ ; Saw cuengh</td>\n",
       "      <td>Zhuang</td>\n",
       "      <td>NaN</td>\n",
       "    </tr>\n",
       "    <tr>\n",
       "      <th>185</th>\n",
       "      <td>zh</td>\n",
       "      <td>chi/zho</td>\n",
       "      <td>zho + 13</td>\n",
       "      <td>Chinois</td>\n",
       "      <td>中文, 汉语, 漢語</td>\n",
       "      <td>Chinese</td>\n",
       "      <td>NaN</td>\n",
       "    </tr>\n",
       "    <tr>\n",
       "      <th>186</th>\n",
       "      <td>zu</td>\n",
       "      <td>zul</td>\n",
       "      <td>zul</td>\n",
       "      <td>Zoulou</td>\n",
       "      <td>isiZulu</td>\n",
       "      <td>Zulu</td>\n",
       "      <td>NaN</td>\n",
       "    </tr>\n",
       "  </tbody>\n",
       "</table>\n",
       "<p>187 rows × 7 columns</p>\n",
       "</div>"
      ],
      "text/plain": [
       "    639-1    639-2     639-3 Nom de la langue  \\\n",
       "0      aa      aar       aar             Afar   \n",
       "1      ab      abk       abk          Abkhaze   \n",
       "2      ae      ave       ave        Avestique   \n",
       "3      af      afr       afr        Afrikaans   \n",
       "4      ak      aka   aka + 2             Akan   \n",
       "..    ...      ...       ...              ...   \n",
       "182    yi      yid   yid + 2          Yiddish   \n",
       "183    yo      yor       yor           Yoruba   \n",
       "184    za      zha   zha + 2           Zhuang   \n",
       "185    zh  chi/zho  zho + 13          Chinois   \n",
       "186    zu      zul       zul           Zoulou   \n",
       "\n",
       "    Nom(dans la langue correspondante) Nom en anglais Commentaire  \n",
       "0                               Afaraf           Afar         NaN  \n",
       "1                                Аҧсуа      Abkhazian         NaN  \n",
       "2                               Avesta        Avestan         NaN  \n",
       "3                            Afrikaans      Afrikaans         NaN  \n",
       "4                                 Akan           Akan         NaN  \n",
       "..                                 ...            ...         ...  \n",
       "182                             ייִדיש        Yiddish         NaN  \n",
       "183                             Yorùbá         Yoruba         NaN  \n",
       "184             Saɯ cueŋƅ ; Saw cuengh         Zhuang         NaN  \n",
       "185                         中文, 汉语, 漢語        Chinese         NaN  \n",
       "186                            isiZulu           Zulu         NaN  \n",
       "\n",
       "[187 rows x 7 columns]"
      ]
     },
     "execution_count": 149,
     "metadata": {},
     "output_type": "execute_result"
    }
   ],
   "source": [
    "table = page.find('table')\n",
    "ls = str(table)\n",
    "liste_iso = pd.DataFrame(pd.read_html(ls)[0])\n",
    "liste_iso"
   ]
  },
  {
   "cell_type": "markdown",
   "metadata": {
    "id": "t7RHJwNqORjx"
   },
   "source": [
    "Après une étude approfondie de la base, nous avons constaté que certains films possédaient l'identifiant 'cn' correspondant au cantonais. On le rajoute au Data Frame précédent: "
   ]
  },
  {
   "cell_type": "code",
   "execution_count": 150,
   "metadata": {
    "colab": {
     "base_uri": "https://localhost:8080/",
     "height": 415
    },
    "id": "Hg3siGkgOidT",
    "outputId": "0e48d1fb-16bc-4fcf-f69b-8298a9d9f131"
   },
   "outputs": [
    {
     "data": {
      "text/html": [
       "<div>\n",
       "<style scoped>\n",
       "    .dataframe tbody tr th:only-of-type {\n",
       "        vertical-align: middle;\n",
       "    }\n",
       "\n",
       "    .dataframe tbody tr th {\n",
       "        vertical-align: top;\n",
       "    }\n",
       "\n",
       "    .dataframe thead th {\n",
       "        text-align: right;\n",
       "    }\n",
       "</style>\n",
       "<table border=\"1\" class=\"dataframe\">\n",
       "  <thead>\n",
       "    <tr style=\"text-align: right;\">\n",
       "      <th></th>\n",
       "      <th>639-1</th>\n",
       "      <th>639-2</th>\n",
       "      <th>639-3</th>\n",
       "      <th>Nom de la langue</th>\n",
       "      <th>Nom(dans la langue correspondante)</th>\n",
       "      <th>Nom en anglais</th>\n",
       "      <th>Commentaire</th>\n",
       "    </tr>\n",
       "  </thead>\n",
       "  <tbody>\n",
       "    <tr>\n",
       "      <th>0</th>\n",
       "      <td>aa</td>\n",
       "      <td>aar</td>\n",
       "      <td>aar</td>\n",
       "      <td>Afar</td>\n",
       "      <td>Afaraf</td>\n",
       "      <td>Afar</td>\n",
       "      <td>NaN</td>\n",
       "    </tr>\n",
       "    <tr>\n",
       "      <th>1</th>\n",
       "      <td>ab</td>\n",
       "      <td>abk</td>\n",
       "      <td>abk</td>\n",
       "      <td>Abkhaze</td>\n",
       "      <td>Аҧсуа</td>\n",
       "      <td>Abkhazian</td>\n",
       "      <td>NaN</td>\n",
       "    </tr>\n",
       "    <tr>\n",
       "      <th>2</th>\n",
       "      <td>ae</td>\n",
       "      <td>ave</td>\n",
       "      <td>ave</td>\n",
       "      <td>Avestique</td>\n",
       "      <td>Avesta</td>\n",
       "      <td>Avestan</td>\n",
       "      <td>NaN</td>\n",
       "    </tr>\n",
       "    <tr>\n",
       "      <th>3</th>\n",
       "      <td>af</td>\n",
       "      <td>afr</td>\n",
       "      <td>afr</td>\n",
       "      <td>Afrikaans</td>\n",
       "      <td>Afrikaans</td>\n",
       "      <td>Afrikaans</td>\n",
       "      <td>NaN</td>\n",
       "    </tr>\n",
       "    <tr>\n",
       "      <th>4</th>\n",
       "      <td>ak</td>\n",
       "      <td>aka</td>\n",
       "      <td>aka + 2</td>\n",
       "      <td>Akan</td>\n",
       "      <td>Akan</td>\n",
       "      <td>Akan</td>\n",
       "      <td>NaN</td>\n",
       "    </tr>\n",
       "    <tr>\n",
       "      <th>...</th>\n",
       "      <td>...</td>\n",
       "      <td>...</td>\n",
       "      <td>...</td>\n",
       "      <td>...</td>\n",
       "      <td>...</td>\n",
       "      <td>...</td>\n",
       "      <td>...</td>\n",
       "    </tr>\n",
       "    <tr>\n",
       "      <th>183</th>\n",
       "      <td>yo</td>\n",
       "      <td>yor</td>\n",
       "      <td>yor</td>\n",
       "      <td>Yoruba</td>\n",
       "      <td>Yorùbá</td>\n",
       "      <td>Yoruba</td>\n",
       "      <td>NaN</td>\n",
       "    </tr>\n",
       "    <tr>\n",
       "      <th>184</th>\n",
       "      <td>za</td>\n",
       "      <td>zha</td>\n",
       "      <td>zha + 2</td>\n",
       "      <td>Zhuang</td>\n",
       "      <td>Saɯ cueŋƅ ; Saw cuengh</td>\n",
       "      <td>Zhuang</td>\n",
       "      <td>NaN</td>\n",
       "    </tr>\n",
       "    <tr>\n",
       "      <th>185</th>\n",
       "      <td>zh</td>\n",
       "      <td>chi/zho</td>\n",
       "      <td>zho + 13</td>\n",
       "      <td>Chinois</td>\n",
       "      <td>中文, 汉语, 漢語</td>\n",
       "      <td>Chinese</td>\n",
       "      <td>NaN</td>\n",
       "    </tr>\n",
       "    <tr>\n",
       "      <th>186</th>\n",
       "      <td>zu</td>\n",
       "      <td>zul</td>\n",
       "      <td>zul</td>\n",
       "      <td>Zoulou</td>\n",
       "      <td>isiZulu</td>\n",
       "      <td>Zulu</td>\n",
       "      <td>NaN</td>\n",
       "    </tr>\n",
       "    <tr>\n",
       "      <th>187</th>\n",
       "      <td>cn</td>\n",
       "      <td>NaN</td>\n",
       "      <td>NaN</td>\n",
       "      <td>Cantonais</td>\n",
       "      <td>NaN</td>\n",
       "      <td>Cantonese</td>\n",
       "      <td>NaN</td>\n",
       "    </tr>\n",
       "  </tbody>\n",
       "</table>\n",
       "<p>188 rows × 7 columns</p>\n",
       "</div>"
      ],
      "text/plain": [
       "    639-1    639-2     639-3 Nom de la langue  \\\n",
       "0      aa      aar       aar             Afar   \n",
       "1      ab      abk       abk          Abkhaze   \n",
       "2      ae      ave       ave        Avestique   \n",
       "3      af      afr       afr        Afrikaans   \n",
       "4      ak      aka   aka + 2             Akan   \n",
       "..    ...      ...       ...              ...   \n",
       "183    yo      yor       yor           Yoruba   \n",
       "184    za      zha   zha + 2           Zhuang   \n",
       "185    zh  chi/zho  zho + 13          Chinois   \n",
       "186    zu      zul       zul           Zoulou   \n",
       "187    cn      NaN       NaN        Cantonais   \n",
       "\n",
       "    Nom(dans la langue correspondante) Nom en anglais Commentaire  \n",
       "0                               Afaraf           Afar         NaN  \n",
       "1                                Аҧсуа      Abkhazian         NaN  \n",
       "2                               Avesta        Avestan         NaN  \n",
       "3                            Afrikaans      Afrikaans         NaN  \n",
       "4                                 Akan           Akan         NaN  \n",
       "..                                 ...            ...         ...  \n",
       "183                             Yorùbá         Yoruba         NaN  \n",
       "184             Saɯ cueŋƅ ; Saw cuengh         Zhuang         NaN  \n",
       "185                         中文, 汉语, 漢語        Chinese         NaN  \n",
       "186                            isiZulu           Zulu         NaN  \n",
       "187                                NaN      Cantonese         NaN  \n",
       "\n",
       "[188 rows x 7 columns]"
      ]
     },
     "execution_count": 150,
     "metadata": {},
     "output_type": "execute_result"
    }
   ],
   "source": [
    "liste_iso.loc[187] = ['cn', 'NaN', 'NaN', 'Cantonais', 'NaN', 'Cantonese', 'NaN']\n",
    "liste_iso"
   ]
  },
  {
   "cell_type": "markdown",
   "metadata": {
    "id": "FQzs32wXSwfm"
   },
   "source": [
    "La fonction suivante permettra de récupérer la langue associée à un identifiant ISO_639-1. En la faisant tourner, nous nous sommes rendu compte que les NaN n'étaient pas toujours indiqués de la même manière. Il faut donc prendre en compte ces cas pour éviter toute erreur lors du lancement de la fonction."
   ]
  },
  {
   "cell_type": "code",
   "execution_count": 151,
   "metadata": {
    "id": "aCifPm7yS8aP"
   },
   "outputs": [],
   "source": [
    "def find_id(id):\n",
    "  if id == '' or id == 'NaN' or id == 'xx' or id == 'nan' or id =='104.0' or id =='68.0' or id =='82.0':        # on élimine le cas où la langue n'est pas indiquée\n",
    "    return ''\n",
    "  i = 0\n",
    "  while (str((liste_iso['639-1'])[i]) == id) == False and i<len(df):\n",
    "    i += 1\n",
    "  return liste_iso['Nom de la langue'][i]"
   ]
  },
  {
   "cell_type": "markdown",
   "metadata": {
    "id": "ORmmKEYQWWDl"
   },
   "source": [
    "## Nettoyage de la variable 'original_language'"
   ]
  },
  {
   "cell_type": "markdown",
   "metadata": {
    "id": "oE0rLDKbWHo_"
   },
   "source": [
    "On teste la fonction sur la première entrée de la colonne 'original_language'"
   ]
  },
  {
   "cell_type": "code",
   "execution_count": 152,
   "metadata": {
    "colab": {
     "base_uri": "https://localhost:8080/",
     "height": 35
    },
    "id": "RM3MrLAVTQOQ",
    "outputId": "2f407a32-c09b-468e-8f1b-499ee4b40e28"
   },
   "outputs": [
    {
     "data": {
      "text/plain": [
       "'Anglais'"
      ]
     },
     "execution_count": 152,
     "metadata": {},
     "output_type": "execute_result"
    }
   ],
   "source": [
    "test = str('en')\n",
    "find_id(test)"
   ]
  },
  {
   "cell_type": "markdown",
   "metadata": {
    "id": "h2DXdBFnWNCg"
   },
   "source": [
    "Puis on généralise la méthode à toutes les cellules de cette colonne :"
   ]
  },
  {
   "cell_type": "code",
   "execution_count": 66,
   "metadata": {
    "colab": {
     "base_uri": "https://localhost:8080/",
     "height": 208,
     "referenced_widgets": [
      "ebbf8fc030d94bbe80d21b8eeb2157e3",
      "032ca08cd73a405484f64ddaba64f2ac",
      "b09a2a2f4f2345bfb3d65f6a1e2c659f",
      "1a13ba1945604a619802452a779325c4",
      "b5505b1580214ce8897d88f2609cbc62",
      "96241a7765c74a3a97ea5e53dda55a42",
      "41e270a924fe4b278be2b26ca534de32",
      "43982077001c43368383462440f26990"
     ]
    },
    "id": "iA_lBPMZWUr8",
    "outputId": "8c8e25fc-8085-4c3b-9af8-26659f913289"
   },
   "outputs": [
    {
     "data": {
      "application/vnd.jupyter.widget-view+json": {
       "model_id": "8a419d565c644899a941d181d2d80675",
       "version_major": 2,
       "version_minor": 0
      },
      "text/plain": [
       "HBox(children=(FloatProgress(value=0.0, max=45466.0), HTML(value='')))"
      ]
     },
     "metadata": {},
     "output_type": "display_data"
    },
    {
     "name": "stderr",
     "output_type": "stream",
     "text": [
      "/Users/h2jw/opt/anaconda3/lib/python3.7/site-packages/ipykernel_launcher.py:3: SettingWithCopyWarning: \n",
      "A value is trying to be set on a copy of a slice from a DataFrame\n",
      "\n",
      "See the caveats in the documentation: https://pandas.pydata.org/pandas-docs/stable/user_guide/indexing.html#returning-a-view-versus-a-copy\n",
      "  This is separate from the ipykernel package so we can avoid doing imports until\n"
     ]
    },
    {
     "name": "stdout",
     "output_type": "stream",
     "text": [
      "\n"
     ]
    }
   ],
   "source": [
    "for i in trange(len(df)):\n",
    "  id = str(df.original_language[i])\n",
    "  df.original_language[i] = find_id(id)"
   ]
  },
  {
   "cell_type": "code",
   "execution_count": 75,
   "metadata": {
    "colab": {
     "base_uri": "https://localhost:8080/",
     "height": 225
    },
    "id": "dswwEvaCUPdf",
    "outputId": "e774fa19-0a4d-46e7-830e-cd67f9c98a9a"
   },
   "outputs": [
    {
     "data": {
      "text/plain": [
       "0        en\n",
       "1        en\n",
       "2        en\n",
       "3        en\n",
       "4        en\n",
       "         ..\n",
       "45461    fa\n",
       "45462    tl\n",
       "45463    en\n",
       "45464    en\n",
       "45465    en\n",
       "Name: original_language, Length: 45466, dtype: object"
      ]
     },
     "execution_count": 75,
     "metadata": {},
     "output_type": "execute_result"
    }
   ],
   "source": [
    "df.original_language"
   ]
  },
  {
   "cell_type": "markdown",
   "metadata": {
    "id": "gW-XF7S6kkDm"
   },
   "source": [
    "## Nettoyage de *genre* "
   ]
  },
  {
   "cell_type": "markdown",
   "metadata": {
    "id": "gyDnY13YGUtY"
   },
   "source": [
    "Le but de cette partie est de supprimer les informations non-essentielles qui se trouvent dans les cellules de ces colonnes."
   ]
  },
  {
   "cell_type": "markdown",
   "metadata": {
    "id": "c8jC9m0wB1ro"
   },
   "source": [
    "On s'intéresse dans un premier temps à la colonne 'genres'."
   ]
  },
  {
   "cell_type": "code",
   "execution_count": 154,
   "metadata": {
    "colab": {
     "base_uri": "https://localhost:8080/",
     "height": 35
    },
    "id": "AN345job_ib0",
    "outputId": "eca21005-f3f2-4774-ddb0-a9bbd90ba1c8"
   },
   "outputs": [
    {
     "data": {
      "text/plain": [
       "'id 16 name Animation id 35 name Comedy id 10751 name Family'"
      ]
     },
     "execution_count": 154,
     "metadata": {},
     "output_type": "execute_result"
    }
   ],
   "source": [
    "df.genres[0]"
   ]
  },
  {
   "cell_type": "markdown",
   "metadata": {
    "id": "Qv-BYUkGCGta"
   },
   "source": [
    "Dans cet exemple, il nous faut seulement les mots 'Animation', 'Comedy' et 'Family'. Grâce à la fonction split(), nous pouvons transformer cette chaîne de caractère en liste, puis récupérer les mots qui nous intéressent. Le code suivant réalise cette opération pour toutes les cellules de cette colonne\n"
   ]
  },
  {
   "cell_type": "code",
   "execution_count": 155,
   "metadata": {
    "colab": {
     "base_uri": "https://localhost:8080/",
     "height": 451,
     "referenced_widgets": [
      "b756ffb7d28d4878a5f0a74afe69e9c0",
      "2d42285c10284b86a128f03e5fffa19c",
      "228ce4f071ab4412998cd5aaa6634a3d",
      "602e507c418f4475809930e5980f5496",
      "a9ac0c748cc0452a9cc36a811e663fcc",
      "3aca0e103e25435a9513fb7d0b658292",
      "82468621d7f24b98b7ef31d78287fd31",
      "ce110a0b7473449198a74fd139d91a66"
     ]
    },
    "id": "7hr3B99wqOrl",
    "outputId": "132f41b1-4587-4a1f-e9f2-b7bc346a9696"
   },
   "outputs": [
    {
     "data": {
      "application/vnd.jupyter.widget-view+json": {
       "model_id": "7c1b7174f4564809b01218c8eb4dfcdf",
       "version_major": 2,
       "version_minor": 0
      },
      "text/plain": [
       "HBox(children=(FloatProgress(value=0.0, max=45466.0), HTML(value='')))"
      ]
     },
     "metadata": {},
     "output_type": "display_data"
    },
    {
     "name": "stderr",
     "output_type": "stream",
     "text": [
      "/Users/h2jw/opt/anaconda3/lib/python3.7/site-packages/ipykernel_launcher.py:3: SettingWithCopyWarning: \n",
      "A value is trying to be set on a copy of a slice from a DataFrame\n",
      "\n",
      "See the caveats in the documentation: https://pandas.pydata.org/pandas-docs/stable/user_guide/indexing.html#returning-a-view-versus-a-copy\n",
      "  This is separate from the ipykernel package so we can avoid doing imports until\n",
      "/Users/h2jw/opt/anaconda3/lib/python3.7/site-packages/ipykernel_launcher.py:6: SettingWithCopyWarning: \n",
      "A value is trying to be set on a copy of a slice from a DataFrame\n",
      "\n",
      "See the caveats in the documentation: https://pandas.pydata.org/pandas-docs/stable/user_guide/indexing.html#returning-a-view-versus-a-copy\n",
      "  \n",
      "/Users/h2jw/opt/anaconda3/lib/python3.7/site-packages/ipykernel_launcher.py:8: SettingWithCopyWarning: \n",
      "A value is trying to be set on a copy of a slice from a DataFrame\n",
      "\n",
      "See the caveats in the documentation: https://pandas.pydata.org/pandas-docs/stable/user_guide/indexing.html#returning-a-view-versus-a-copy\n",
      "  \n"
     ]
    },
    {
     "name": "stdout",
     "output_type": "stream",
     "text": [
      "\n"
     ]
    }
   ],
   "source": [
    "for i in trange(len(df)):\n",
    "  genre = df.genres[i].split()\n",
    "  df.genres[i] = \"\"\n",
    "  for j in range(len(genre)//4):\n",
    "    if j == 0 :\n",
    "      df.genres[i] = df.genres[i] + genre[3]\n",
    "    else : \n",
    "      df.genres[i] = df.genres[i] + ', ' + genre[3 + j*4]"
   ]
  },
  {
   "cell_type": "code",
   "execution_count": 156,
   "metadata": {
    "colab": {
     "base_uri": "https://localhost:8080/",
     "height": 225
    },
    "id": "HOJS6jneq_61",
    "outputId": "925f2e3e-aa3a-4d6f-831a-74b62cc0166d",
    "scrolled": true
   },
   "outputs": [
    {
     "data": {
      "text/plain": [
       "0         Animation, Comedy, Family\n",
       "1        Adventure, Fantasy, Family\n",
       "2                   Romance, Comedy\n",
       "3            Comedy, Drama, Romance\n",
       "4                            Comedy\n",
       "                    ...            \n",
       "45461                 Drama, Family\n",
       "45462                         Drama\n",
       "45463       Action, Drama, Thriller\n",
       "45464                              \n",
       "45465                              \n",
       "Name: genres, Length: 45466, dtype: object"
      ]
     },
     "execution_count": 156,
     "metadata": {},
     "output_type": "execute_result"
    }
   ],
   "source": [
    "df.genres"
   ]
  },
  {
   "cell_type": "markdown",
   "metadata": {},
   "source": [
    "## Nettoyage de la variable 'budget'"
   ]
  },
  {
   "cell_type": "code",
   "execution_count": 201,
   "metadata": {},
   "outputs": [
    {
     "data": {
      "text/plain": [
       "19730    /ff9qCepilowshEtG2GYWwzt2bs4.jpg\n",
       "29503    /zV8bHuSL6WXoD6FWogP9j4x80bL.jpg\n",
       "35587    /zaSf5OG7V8X8gqFvly88zDdRm46.jpg\n",
       "45465                                   0\n",
       "26992                                   0\n",
       "                       ...               \n",
       "39688                             9900000\n",
       "34215                            99000000\n",
       "11609                              994000\n",
       "39203                              996519\n",
       "9247                               998000\n",
       "Name: budget, Length: 45466, dtype: object"
      ]
     },
     "execution_count": 201,
     "metadata": {},
     "output_type": "execute_result"
    }
   ],
   "source": [
    "df.budget.sort_values()"
   ]
  },
  {
   "cell_type": "code",
   "execution_count": 205,
   "metadata": {},
   "outputs": [],
   "source": [
    "df.budget.loc[[19730,29503,35587]] = np.NaN"
   ]
  },
  {
   "cell_type": "code",
   "execution_count": 209,
   "metadata": {},
   "outputs": [],
   "source": [
    "df.budget = df.budget.astype(float)"
   ]
  },
  {
   "cell_type": "markdown",
   "metadata": {},
   "source": [
    "## Variable *spoken_language*"
   ]
  },
  {
   "cell_type": "markdown",
   "metadata": {
    "id": "oqUlYpe2H7M-"
   },
   "source": [
    "Intéressons-nous désormais à la colonne spoken_language :"
   ]
  },
  {
   "cell_type": "code",
   "execution_count": 86,
   "metadata": {
    "colab": {
     "base_uri": "https://localhost:8080/",
     "height": 225
    },
    "id": "ZhLjEbrJhJDS",
    "outputId": "0bf7fc00-87d0-4615-87e2-9f9815704237"
   },
   "outputs": [
    {
     "data": {
      "text/plain": [
       "0                 [{'iso_639_1': 'en', 'name': 'English'}]\n",
       "1        [{'iso_639_1': 'en', 'name': 'English'}, {'iso...\n",
       "2                 [{'iso_639_1': 'en', 'name': 'English'}]\n",
       "3                 [{'iso_639_1': 'en', 'name': 'English'}]\n",
       "4                 [{'iso_639_1': 'en', 'name': 'English'}]\n",
       "                               ...                        \n",
       "45461               [{'iso_639_1': 'fa', 'name': 'فارسی'}]\n",
       "45462                    [{'iso_639_1': 'tl', 'name': ''}]\n",
       "45463             [{'iso_639_1': 'en', 'name': 'English'}]\n",
       "45464                                                   []\n",
       "45465             [{'iso_639_1': 'en', 'name': 'English'}]\n",
       "Name: spoken_languages, Length: 45466, dtype: object"
      ]
     },
     "execution_count": 86,
     "metadata": {},
     "output_type": "execute_result"
    }
   ],
   "source": [
    "base_init.spoken_languages"
   ]
  },
  {
   "cell_type": "markdown",
   "metadata": {
    "id": "JXDylSzLHpal"
   },
   "source": [
    "Nous remarquons que les cellules de cette colonne ont la même structure que celles de la colonne 'genre'. Ici, nous souhaitons garder les identifiants iso_639_1 ('en' pour la première ligne). Nous pourrons ensuite les associer à une langue grâce à la base liste_iso.\n",
    "\n",
    "Cependant, pour certaines cellules, les caractères qui suivent 'name' et qui indiquent le nom de la langue occupent plus qu'un mot. Nous allons donc les traiter à part."
   ]
  },
  {
   "cell_type": "markdown",
   "metadata": {
    "id": "4hVkWJNUOizF"
   },
   "source": [
    "Puis on nettoie la colonne 'spoken language' et on associe l'identifiant iso_639_1 à sa langue."
   ]
  },
  {
   "cell_type": "code",
   "execution_count": 87,
   "metadata": {
    "id": "8bSb2fW7JEuu"
   },
   "outputs": [
    {
     "name": "stdout",
     "output_type": "stream",
     "text": [
      "2\n"
     ]
    },
    {
     "name": "stderr",
     "output_type": "stream",
     "text": [
      "/Users/h2jw/opt/anaconda3/lib/python3.7/site-packages/ipykernel_launcher.py:3: SettingWithCopyWarning: \n",
      "A value is trying to be set on a copy of a slice from a DataFrame\n",
      "\n",
      "See the caveats in the documentation: https://pandas.pydata.org/pandas-docs/stable/user_guide/indexing.html#returning-a-view-versus-a-copy\n",
      "  This is separate from the ipykernel package so we can avoid doing imports until\n"
     ]
    },
    {
     "ename": "KeyError",
     "evalue": "188",
     "output_type": "error",
     "traceback": [
      "\u001b[0;31m---------------------------------------------------------------------------\u001b[0m",
      "\u001b[0;31mKeyError\u001b[0m                                  Traceback (most recent call last)",
      "\u001b[0;32m<ipython-input-87-8c79ecc34de4>\u001b[0m in \u001b[0;36m<module>\u001b[0;34m\u001b[0m\n\u001b[1;32m      7\u001b[0m       \u001b[0mprint\u001b[0m\u001b[0;34m(\u001b[0m\u001b[0mi\u001b[0m\u001b[0;34m)\u001b[0m\u001b[0;34m\u001b[0m\u001b[0;34m\u001b[0m\u001b[0m\n\u001b[1;32m      8\u001b[0m       \u001b[0;32mif\u001b[0m \u001b[0mj\u001b[0m \u001b[0;34m==\u001b[0m \u001b[0;36m0\u001b[0m \u001b[0;34m:\u001b[0m\u001b[0;34m\u001b[0m\u001b[0;34m\u001b[0m\u001b[0m\n\u001b[0;32m----> 9\u001b[0;31m         \u001b[0mdf\u001b[0m\u001b[0;34m.\u001b[0m\u001b[0mspoken_languages\u001b[0m\u001b[0;34m[\u001b[0m\u001b[0mi\u001b[0m\u001b[0;34m]\u001b[0m \u001b[0;34m=\u001b[0m \u001b[0mdf\u001b[0m\u001b[0;34m.\u001b[0m\u001b[0mspoken_languages\u001b[0m\u001b[0;34m[\u001b[0m\u001b[0mi\u001b[0m\u001b[0;34m]\u001b[0m \u001b[0;34m+\u001b[0m \u001b[0mfind_id\u001b[0m\u001b[0;34m(\u001b[0m\u001b[0mstr\u001b[0m\u001b[0;34m(\u001b[0m\u001b[0mlangue\u001b[0m\u001b[0;34m[\u001b[0m\u001b[0;36m1\u001b[0m\u001b[0;34m]\u001b[0m\u001b[0;34m)\u001b[0m\u001b[0;34m)\u001b[0m\u001b[0;34m\u001b[0m\u001b[0;34m\u001b[0m\u001b[0m\n\u001b[0m\u001b[1;32m     10\u001b[0m       \u001b[0;32melse\u001b[0m \u001b[0;34m:\u001b[0m\u001b[0;34m\u001b[0m\u001b[0;34m\u001b[0m\u001b[0m\n\u001b[1;32m     11\u001b[0m         \u001b[0mdf\u001b[0m\u001b[0;34m.\u001b[0m\u001b[0mspoken_languages\u001b[0m\u001b[0;34m[\u001b[0m\u001b[0mi\u001b[0m\u001b[0;34m]\u001b[0m \u001b[0;34m=\u001b[0m \u001b[0mdf\u001b[0m\u001b[0;34m.\u001b[0m\u001b[0mspoken_languages\u001b[0m\u001b[0;34m[\u001b[0m\u001b[0mi\u001b[0m\u001b[0;34m]\u001b[0m \u001b[0;34m+\u001b[0m \u001b[0;34m', '\u001b[0m \u001b[0;34m+\u001b[0m \u001b[0mfind_id\u001b[0m\u001b[0;34m(\u001b[0m\u001b[0mstr\u001b[0m\u001b[0;34m(\u001b[0m\u001b[0mlangue\u001b[0m\u001b[0;34m[\u001b[0m\u001b[0;36m1\u001b[0m \u001b[0;34m+\u001b[0m \u001b[0mj\u001b[0m\u001b[0;34m*\u001b[0m\u001b[0;36m4\u001b[0m\u001b[0;34m]\u001b[0m\u001b[0;34m)\u001b[0m\u001b[0;34m)\u001b[0m\u001b[0;34m\u001b[0m\u001b[0;34m\u001b[0m\u001b[0m\n",
      "\u001b[0;32m<ipython-input-64-1807f7cb45b3>\u001b[0m in \u001b[0;36mfind_id\u001b[0;34m(id)\u001b[0m\n\u001b[1;32m      3\u001b[0m     \u001b[0;32mreturn\u001b[0m \u001b[0;34m''\u001b[0m\u001b[0;34m\u001b[0m\u001b[0;34m\u001b[0m\u001b[0m\n\u001b[1;32m      4\u001b[0m   \u001b[0mi\u001b[0m \u001b[0;34m=\u001b[0m \u001b[0;36m0\u001b[0m\u001b[0;34m\u001b[0m\u001b[0;34m\u001b[0m\u001b[0m\n\u001b[0;32m----> 5\u001b[0;31m   \u001b[0;32mwhile\u001b[0m \u001b[0;34m(\u001b[0m\u001b[0mstr\u001b[0m\u001b[0;34m(\u001b[0m\u001b[0;34m(\u001b[0m\u001b[0mliste_iso\u001b[0m\u001b[0;34m[\u001b[0m\u001b[0;34m'639-1'\u001b[0m\u001b[0;34m]\u001b[0m\u001b[0;34m)\u001b[0m\u001b[0;34m[\u001b[0m\u001b[0mi\u001b[0m\u001b[0;34m]\u001b[0m\u001b[0;34m)\u001b[0m \u001b[0;34m==\u001b[0m \u001b[0mid\u001b[0m\u001b[0;34m)\u001b[0m \u001b[0;34m==\u001b[0m \u001b[0;32mFalse\u001b[0m \u001b[0;32mand\u001b[0m \u001b[0mi\u001b[0m\u001b[0;34m<\u001b[0m\u001b[0mlen\u001b[0m\u001b[0;34m(\u001b[0m\u001b[0mdf\u001b[0m\u001b[0;34m)\u001b[0m\u001b[0;34m:\u001b[0m\u001b[0;34m\u001b[0m\u001b[0;34m\u001b[0m\u001b[0m\n\u001b[0m\u001b[1;32m      6\u001b[0m     \u001b[0mi\u001b[0m \u001b[0;34m+=\u001b[0m \u001b[0;36m1\u001b[0m\u001b[0;34m\u001b[0m\u001b[0;34m\u001b[0m\u001b[0m\n\u001b[1;32m      7\u001b[0m   \u001b[0;32mreturn\u001b[0m \u001b[0mliste_iso\u001b[0m\u001b[0;34m[\u001b[0m\u001b[0;34m'Nom de la langue'\u001b[0m\u001b[0;34m]\u001b[0m\u001b[0;34m[\u001b[0m\u001b[0mi\u001b[0m\u001b[0;34m]\u001b[0m\u001b[0;34m\u001b[0m\u001b[0;34m\u001b[0m\u001b[0m\n",
      "\u001b[0;32m~/opt/anaconda3/lib/python3.7/site-packages/pandas/core/series.py\u001b[0m in \u001b[0;36m__getitem__\u001b[0;34m(self, key)\u001b[0m\n\u001b[1;32m    869\u001b[0m         \u001b[0mkey\u001b[0m \u001b[0;34m=\u001b[0m \u001b[0mcom\u001b[0m\u001b[0;34m.\u001b[0m\u001b[0mapply_if_callable\u001b[0m\u001b[0;34m(\u001b[0m\u001b[0mkey\u001b[0m\u001b[0;34m,\u001b[0m \u001b[0mself\u001b[0m\u001b[0;34m)\u001b[0m\u001b[0;34m\u001b[0m\u001b[0;34m\u001b[0m\u001b[0m\n\u001b[1;32m    870\u001b[0m         \u001b[0;32mtry\u001b[0m\u001b[0;34m:\u001b[0m\u001b[0;34m\u001b[0m\u001b[0;34m\u001b[0m\u001b[0m\n\u001b[0;32m--> 871\u001b[0;31m             \u001b[0mresult\u001b[0m \u001b[0;34m=\u001b[0m \u001b[0mself\u001b[0m\u001b[0;34m.\u001b[0m\u001b[0mindex\u001b[0m\u001b[0;34m.\u001b[0m\u001b[0mget_value\u001b[0m\u001b[0;34m(\u001b[0m\u001b[0mself\u001b[0m\u001b[0;34m,\u001b[0m \u001b[0mkey\u001b[0m\u001b[0;34m)\u001b[0m\u001b[0;34m\u001b[0m\u001b[0;34m\u001b[0m\u001b[0m\n\u001b[0m\u001b[1;32m    872\u001b[0m \u001b[0;34m\u001b[0m\u001b[0m\n\u001b[1;32m    873\u001b[0m             \u001b[0;32mif\u001b[0m \u001b[0;32mnot\u001b[0m \u001b[0mis_scalar\u001b[0m\u001b[0;34m(\u001b[0m\u001b[0mresult\u001b[0m\u001b[0;34m)\u001b[0m\u001b[0;34m:\u001b[0m\u001b[0;34m\u001b[0m\u001b[0;34m\u001b[0m\u001b[0m\n",
      "\u001b[0;32m~/opt/anaconda3/lib/python3.7/site-packages/pandas/core/indexes/base.py\u001b[0m in \u001b[0;36mget_value\u001b[0;34m(self, series, key)\u001b[0m\n\u001b[1;32m   4403\u001b[0m         \u001b[0mk\u001b[0m \u001b[0;34m=\u001b[0m \u001b[0mself\u001b[0m\u001b[0;34m.\u001b[0m\u001b[0m_convert_scalar_indexer\u001b[0m\u001b[0;34m(\u001b[0m\u001b[0mk\u001b[0m\u001b[0;34m,\u001b[0m \u001b[0mkind\u001b[0m\u001b[0;34m=\u001b[0m\u001b[0;34m\"getitem\"\u001b[0m\u001b[0;34m)\u001b[0m\u001b[0;34m\u001b[0m\u001b[0;34m\u001b[0m\u001b[0m\n\u001b[1;32m   4404\u001b[0m         \u001b[0;32mtry\u001b[0m\u001b[0;34m:\u001b[0m\u001b[0;34m\u001b[0m\u001b[0;34m\u001b[0m\u001b[0m\n\u001b[0;32m-> 4405\u001b[0;31m             \u001b[0;32mreturn\u001b[0m \u001b[0mself\u001b[0m\u001b[0;34m.\u001b[0m\u001b[0m_engine\u001b[0m\u001b[0;34m.\u001b[0m\u001b[0mget_value\u001b[0m\u001b[0;34m(\u001b[0m\u001b[0ms\u001b[0m\u001b[0;34m,\u001b[0m \u001b[0mk\u001b[0m\u001b[0;34m,\u001b[0m \u001b[0mtz\u001b[0m\u001b[0;34m=\u001b[0m\u001b[0mgetattr\u001b[0m\u001b[0;34m(\u001b[0m\u001b[0mseries\u001b[0m\u001b[0;34m.\u001b[0m\u001b[0mdtype\u001b[0m\u001b[0;34m,\u001b[0m \u001b[0;34m\"tz\"\u001b[0m\u001b[0;34m,\u001b[0m \u001b[0;32mNone\u001b[0m\u001b[0;34m)\u001b[0m\u001b[0;34m)\u001b[0m\u001b[0;34m\u001b[0m\u001b[0;34m\u001b[0m\u001b[0m\n\u001b[0m\u001b[1;32m   4406\u001b[0m         \u001b[0;32mexcept\u001b[0m \u001b[0mKeyError\u001b[0m \u001b[0;32mas\u001b[0m \u001b[0me1\u001b[0m\u001b[0;34m:\u001b[0m\u001b[0;34m\u001b[0m\u001b[0;34m\u001b[0m\u001b[0m\n\u001b[1;32m   4407\u001b[0m             \u001b[0;32mif\u001b[0m \u001b[0mlen\u001b[0m\u001b[0;34m(\u001b[0m\u001b[0mself\u001b[0m\u001b[0;34m)\u001b[0m \u001b[0;34m>\u001b[0m \u001b[0;36m0\u001b[0m \u001b[0;32mand\u001b[0m \u001b[0;34m(\u001b[0m\u001b[0mself\u001b[0m\u001b[0;34m.\u001b[0m\u001b[0mholds_integer\u001b[0m\u001b[0;34m(\u001b[0m\u001b[0;34m)\u001b[0m \u001b[0;32mor\u001b[0m \u001b[0mself\u001b[0m\u001b[0;34m.\u001b[0m\u001b[0mis_boolean\u001b[0m\u001b[0;34m(\u001b[0m\u001b[0;34m)\u001b[0m\u001b[0;34m)\u001b[0m\u001b[0;34m:\u001b[0m\u001b[0;34m\u001b[0m\u001b[0;34m\u001b[0m\u001b[0m\n",
      "\u001b[0;32mpandas/_libs/index.pyx\u001b[0m in \u001b[0;36mpandas._libs.index.IndexEngine.get_value\u001b[0;34m()\u001b[0m\n",
      "\u001b[0;32mpandas/_libs/index.pyx\u001b[0m in \u001b[0;36mpandas._libs.index.IndexEngine.get_value\u001b[0;34m()\u001b[0m\n",
      "\u001b[0;32mpandas/_libs/index.pyx\u001b[0m in \u001b[0;36mpandas._libs.index.IndexEngine.get_loc\u001b[0;34m()\u001b[0m\n",
      "\u001b[0;32mpandas/_libs/hashtable_class_helper.pxi\u001b[0m in \u001b[0;36mpandas._libs.hashtable.Int64HashTable.get_item\u001b[0;34m()\u001b[0m\n",
      "\u001b[0;32mpandas/_libs/hashtable_class_helper.pxi\u001b[0m in \u001b[0;36mpandas._libs.hashtable.Int64HashTable.get_item\u001b[0;34m()\u001b[0m\n",
      "\u001b[0;31mKeyError\u001b[0m: 188"
     ]
    }
   ],
   "source": [
    "for i in range(len(df)):\n",
    "  langue = df.spoken_languages[i].split()\n",
    "  df.spoken_languages[i] = \"\"\n",
    "  others = []\n",
    "  if len(langue)%4 == 0 :   # on vérifie si la cellule possède 4 caractères par langue\n",
    "    for j in range(len(langue)//4):\n",
    "      print(i)\n",
    "      if j == 0 :\n",
    "        df.spoken_languages[i] = df.spoken_languages[i] + find_id(str(langue[1]))\n",
    "      else : \n",
    "        df.spoken_languages[i] = df.spoken_languages[i] + ', ' + find_id(str(langue[1 + j*4]))\n",
    "  else :\n",
    "    others.append(i)\n",
    "return others"
   ]
  },
  {
   "cell_type": "code",
   "execution_count": 88,
   "metadata": {},
   "outputs": [
    {
     "data": {
      "text/plain": [
       "0                                                \n",
       "1                                                \n",
       "2                                                \n",
       "3        [{'iso_639_1': 'en', 'name': 'English'}]\n",
       "4        [{'iso_639_1': 'en', 'name': 'English'}]\n",
       "                           ...                   \n",
       "45461      [{'iso_639_1': 'fa', 'name': 'فارسی'}]\n",
       "45462           [{'iso_639_1': 'tl', 'name': ''}]\n",
       "45463    [{'iso_639_1': 'en', 'name': 'English'}]\n",
       "45464                                          []\n",
       "45465    [{'iso_639_1': 'en', 'name': 'English'}]\n",
       "Name: spoken_languages, Length: 45466, dtype: object"
      ]
     },
     "execution_count": 88,
     "metadata": {},
     "output_type": "execute_result"
    }
   ],
   "source": [
    "df.spoken_languages"
   ]
  },
  {
   "cell_type": "code",
   "execution_count": null,
   "metadata": {
    "id": "PZ9z7T7bZRsq"
   },
   "outputs": [],
   "source": [
    "others"
   ]
  },
  {
   "cell_type": "markdown",
   "metadata": {
    "id": "vUle2_eqbvrU"
   },
   "source": [
    "# Scraping de mots-clés caractérisant le film"
   ]
  },
  {
   "cell_type": "markdown",
   "metadata": {
    "id": "uYgkz3Urb2Ac"
   },
   "source": [
    "Le but de cette partie est de récupérer des mots-clés pour chaque film de la base. Pour un film donné, d'identifiant imbd_id, nous allons scraper la page https://www.imdb.com/title/imbd_id/keywords. Tout l'intérêt de la démarche est de pouvoir réaliser des nuages de mots, pour tenter de mettre en évidence les thématiques qui plaisent au public."
   ]
  },
  {
   "cell_type": "code",
   "execution_count": 84,
   "metadata": {
    "id": "jGZbYDMqcf9S"
   },
   "outputs": [],
   "source": [
    "url_keywords = \"https://www.imdb.com/title/\" + df.imdb_id[1] +\"/keywords\"\n",
    "    \n",
    "request_text = request.urlopen(url_keywords).read()\n",
    "page = bs4.BeautifulSoup(request_text, \"lxml\")"
   ]
  },
  {
   "cell_type": "markdown",
   "metadata": {
    "id": "w4N6S-zWfDZR"
   },
   "source": [
    "On peut ensuite récupérer facilement les mots-clés, repérés dans le code source par 'data-item-keyword' :"
   ]
  },
  {
   "cell_type": "code",
   "execution_count": 85,
   "metadata": {
    "colab": {
     "base_uri": "https://localhost:8080/",
     "height": 1000
    },
    "id": "uHjDUCnwdlOb",
    "outputId": "aa84202b-9a95-49cb-de09-b5bfb343c8bd"
   },
   "outputs": [
    {
     "name": "stdout",
     "output_type": "stream",
     "text": [
      "board game\n",
      "adventurer\n",
      "fight\n",
      "game\n",
      "year 1995\n",
      "drumbeat\n",
      "jumanji\n",
      "franchise\n",
      "first of series\n",
      "first part\n",
      "cult film\n",
      "cult classic\n",
      "christmas\n",
      "1960s\n",
      "1990s\n",
      "20th century\n",
      "jungle\n",
      "magic\n",
      "trapped in a game\n",
      "dybbuk box\n",
      "based on children's book\n",
      "rainforest\n",
      "surrealism\n",
      "year 1969\n",
      "new hampshire\n",
      "blockbuster\n",
      "wood\n",
      "board\n",
      "explorer\n",
      "footwear\n",
      "bug\n",
      "danger\n",
      "adulthood\n",
      "child\n",
      "childhood\n",
      "perilous escape\n",
      "pigtails\n",
      "bearded man\n",
      "shared universe\n",
      "old photograph\n",
      "child turning into animal\n",
      "live action and animation\n",
      "psychotronic film\n",
      "supernatural power\n",
      "1860s\n",
      "19th century\n",
      "friends who live together\n",
      "overalls\n",
      "actor playing multiple roles\n",
      "animal killing\n",
      "heavy rain\n",
      "rampage\n",
      "hiding in a closet\n",
      "mutation\n",
      "attic\n",
      "friendship\n",
      "fish out of water\n",
      "stealing a car\n",
      "hunter\n",
      "year 1869\n",
      "abandoned factory\n",
      "tail\n",
      "sporting goods store\n",
      "small town\n",
      "motorcycle\n",
      "giant insect\n",
      "forest\n",
      "factory\n",
      "exterminator\n",
      "crocodile\n",
      "big game hunter\n",
      "one word title\n",
      "no opening credits\n",
      "rhinoceros\n",
      "pelican\n",
      "mosquito\n",
      "monkey\n",
      "lion\n",
      "earthquake\n",
      "zebra\n",
      "elephant\n",
      "bully\n",
      "title spoken by character\n",
      "woodland\n",
      "lush\n",
      "vegetation\n",
      "arachnid\n",
      "critter\n",
      "crawler\n",
      "blunderbuss\n",
      "blunder\n",
      "leaf\n",
      "lace\n",
      "competition\n",
      "vine\n",
      "partner\n",
      "plant\n",
      "carnivore\n",
      "reference to wilt chamberlain\n",
      "wonder bread\n",
      "looking through a keyhole\n",
      "dice\n",
      "saying thank you\n",
      "reference to tarzan\n",
      "reference to ringling brothers\n",
      "handcuffed\n",
      "motor car\n",
      "vehicle\n",
      "automobile\n",
      "weapon\n",
      "car\n",
      "motor vehicle\n",
      "car crash\n",
      "vandalism\n",
      "first film in series\n",
      "title same as book\n",
      "boy\n",
      "girl\n",
      "supernatural\n",
      "shoe factory\n",
      "older version of character\n",
      "rolling dice\n",
      "cgi animal\n",
      "fortune teller\n",
      "nervous breakdown\n",
      "person thought dead is alive\n",
      "nemesis\n",
      "great white hunter\n",
      "police car\n",
      "fainting\n",
      "moving into a house\n",
      "aunt niece relationship\n",
      "aunt nephew relationship\n",
      "cutting face while shaving\n",
      "illegal gun sale\n",
      "hostage situation\n",
      "discount store\n",
      "laundry detergent\n",
      "hacksaw\n",
      "turning into a monkey\n",
      "reference to clue the board game\n",
      "predator prey\n",
      "human hunting a human\n",
      "poison\n",
      "spider\n",
      "businessman\n",
      "boarding school\n",
      "wealthy family\n",
      "transported back in time\n",
      "return to the past\n",
      "santa claus costume\n",
      "alternate timeline\n",
      "timeline change\n",
      "pregnant woman\n",
      "statue\n",
      "sneaker\n",
      "beat up\n",
      "bloody lip\n",
      "black eye\n",
      "stealing a bicycle\n",
      "namesake\n",
      "family name\n",
      "snob\n",
      "wooden chest\n",
      "excavation\n",
      "game piece\n",
      "brochure\n",
      "family legacy\n",
      "suitcase\n",
      "animatronic\n",
      "fib\n",
      "real estate agent\n",
      "jungle man\n",
      "homeless person\n",
      "bum\n",
      "squatter\n",
      "car crashes into a store\n",
      "driving a car into a building\n",
      "realtor\n",
      "driving without a license\n",
      "cracked windshield\n",
      "cutting one's own hair\n",
      "view through rifle scope\n",
      "sniper rifle\n",
      "canoe\n",
      "scuba tank\n",
      "tire\n",
      "paint can\n",
      "rain\n",
      "reference to a zodiac sign\n",
      "reference to a horoscope\n",
      "reference to libra the constellation\n",
      "zodiac sign\n",
      "trailer narrated by hal douglas\n",
      "trailer narrated by nick tate\n",
      "breaking the fourth wall\n",
      "altering history\n",
      "held at gunpoint\n",
      "improvised weapon\n",
      "impersonating a police officer\n",
      "looting\n",
      "subtitled scene\n",
      "hit by a car\n",
      "shotgun\n",
      "psychiatrist\n",
      "library\n",
      "mother daughter relationship\n",
      "mother son relationship\n",
      "arrest\n",
      "handcuffs\n",
      "revolver\n",
      "bullet time\n",
      "underwater scene\n",
      "investment banker\n",
      "chaos\n",
      "motorcycle cop\n",
      "gun store\n",
      "poison ivy\n",
      "car through wall\n",
      "family relationships\n",
      "time lapse photography\n",
      "vortex\n",
      "shoe\n",
      "santa claus suit\n",
      "river\n",
      "rifle\n",
      "refrigerator\n",
      "recluse\n",
      "prologue\n",
      "police officer\n",
      "orphan\n",
      "missing child\n",
      "mansion\n",
      "loss of parents\n",
      "giant spider\n",
      "flood\n",
      "first love\n",
      "fireplace\n",
      "father son reunion\n",
      "conveyor belt\n",
      "convertible\n",
      "construction site\n",
      "confession\n",
      "christmas party\n",
      "child in peril\n",
      "chest\n",
      "cemetery\n",
      "carnivorous plant\n",
      "bridge\n",
      "bicycle chase\n",
      "beach\n",
      "axe\n",
      "auto theft\n",
      "apology\n",
      "animal driving a car\n",
      "insect attack\n",
      "courage\n",
      "animal attack\n",
      "quicksand\n",
      "presumed dead\n",
      "monsoon\n",
      "car accident\n",
      "bat\n",
      "father son relationship\n",
      "brother sister relationship\n",
      "stampede\n",
      "cgi\n",
      "based on novel\n",
      "based on book\n",
      "horror for children\n",
      "tween girl\n",
      "lifting someone into the air\n",
      "human becoming an animal\n",
      "time travel\n",
      "surprise ending\n",
      "None\n"
     ]
    }
   ],
   "source": [
    "for post in page.findAll('td'):\n",
    "    print(post.get('data-item-keyword'))"
   ]
  },
  {
   "cell_type": "markdown",
   "metadata": {
    "id": "BPguvih7fpo_"
   },
   "source": [
    "On généralise la démarche à tous les films de la base, puis on stocke les mots-clés dans une nouvelle variable. Cependant, il a fallu exclure certains indices car nous avons constaté que pour ceux-ci, le lien https://www.imdb.com/title/imbd_id/keywords n'existait pas."
   ]
  },
  {
   "cell_type": "code",
   "execution_count": null,
   "metadata": {
    "colab": {
     "base_uri": "https://localhost:8080/",
     "height": 1000
    },
    "id": "6FtO3znJSvqU",
    "outputId": "8185115d-faa4-43ff-9b7e-37b4362c09b6"
   },
   "outputs": [],
   "source": [
    "df_new_column = pd.DataFrame(0, index=np.arange(len(df)), columns=['keywords'])\n",
    "df = pd.concat([df,df_new_column], axis=1)\n",
    "\n",
    "df"
   ]
  },
  {
   "cell_type": "code",
   "execution_count": null,
   "metadata": {
    "colab": {
     "base_uri": "https://localhost:8080/",
     "height": 208,
     "referenced_widgets": [
      "f5e4468de70649ce93d3b8c220059022",
      "27b3bebbb2714413bce98cd63f83d652",
      "b4f5efbcff9644c8bf2ef66969ed87c0",
      "5af45de889df41feabb479b707790e30",
      "f853e5cf3eab4f1bb5f5ec3a1f8bb0f8",
      "95aac5b4890545c9815e64dc0117464d",
      "27e930b475a34935a640f7816f978d52",
      "ce41825353fc4373a8d6964e5192d1fa"
     ]
    },
    "id": "BmDBrh-cfWmT",
    "outputId": "668d4828-efe6-475a-b481-dd515ab1b8e4"
   },
   "outputs": [],
   "source": [
    "for i in trange(33357,len(df)):\n",
    "  if df.imdb_id[i] == None or str(df.imdb_id[i]) == 'nan' or str(df.imdb_id[i]) == 'NaN' or str(df.imdb_id[i]) == '0' or i == 30399 or i == 30544 or i==33357:\n",
    "    pass\n",
    "  else:\n",
    "    url_keywords = \"https://www.imdb.com/title/\" + df.imdb_id[i] +\"/keywords\"\n",
    "    request_text = request.urlopen(url_keywords).read()\n",
    "    page = bs4.BeautifulSoup(request_text, \"lxml\")\n",
    "    l = []\n",
    "    for post in page.findAll('td'):\n",
    "      l.append(post.get('data-item-keyword'))\n",
    "    df.keywords[i] = l"
   ]
  },
  {
   "cell_type": "code",
   "execution_count": null,
   "metadata": {
    "colab": {
     "base_uri": "https://localhost:8080/",
     "height": 17
    },
    "id": "GOQXzOO8QPa7",
    "outputId": "3b84ae94-684e-4bff-c740-686bffbcc9c9"
   },
   "outputs": [],
   "source": [
    "#from google.colab import files\n",
    "df.to_csv('base_clean.csv') \n",
    "#files.download('base_clean.csv')"
   ]
  },
  {
   "cell_type": "markdown",
   "metadata": {
    "id": "TTuzvfXYLWCC"
   },
   "source": [
    "# Statistiques descriptives"
   ]
  },
  {
   "cell_type": "markdown",
   "metadata": {},
   "source": [
    "## Genres"
   ]
  },
  {
   "cell_type": "code",
   "execution_count": 157,
   "metadata": {
    "colab": {
     "base_uri": "https://localhost:8080/",
     "height": 283
    },
    "id": "qkyniCjvqWG1",
    "outputId": "278e0d57-e532-47fc-9da8-e2e8df1e1e6f",
    "scrolled": true
   },
   "outputs": [
    {
     "data": {
      "text/plain": [
       "<matplotlib.axes._subplots.AxesSubplot at 0x7fc349d3add0>"
      ]
     },
     "execution_count": 157,
     "metadata": {},
     "output_type": "execute_result"
    },
    {
     "data": {
      "image/png": "[encoded data removed]",
      "text/plain": [
       "<Figure size 432x288 with 1 Axes>"
      ]
     },
     "metadata": {
      "needs_background": "light"
     },
     "output_type": "display_data"
    }
   ],
   "source": [
    "df.groupby(df['genres']).id.count().sort_values(ascending = False)[:10].plot(kind = 'barh')"
   ]
  },
  {
   "cell_type": "markdown",
   "metadata": {},
   "source": [
    "Les films de genre *drame*, *comédie* et *documentaire* sont les plus représentés dans l'ensemble des films. Remarquons qu'on n'a pas récupéré les genres indépendamments ici : on considère comme un genre à part entière des subsets composés de plusieurs genres. On pourrait vouloir voir la proportion des films contenant \"Drama\" ou \"Romance\" par exemple."
   ]
  },
  {
   "cell_type": "code",
   "execution_count": 185,
   "metadata": {},
   "outputs": [
    {
     "data": {
      "application/vnd.jupyter.widget-view+json": {
       "model_id": "8c3129a0d4e8438dac7b04ab356b8f8f",
       "version_major": 2,
       "version_minor": 0
      },
      "text/plain": [
       "HBox(children=(FloatProgress(value=0.0, max=45466.0), HTML(value='')))"
      ]
     },
     "metadata": {},
     "output_type": "display_data"
    },
    {
     "name": "stdout",
     "output_type": "stream",
     "text": [
      "\n"
     ]
    },
    {
     "data": {
      "text/html": [
       "<div>\n",
       "<style scoped>\n",
       "    .dataframe tbody tr th:only-of-type {\n",
       "        vertical-align: middle;\n",
       "    }\n",
       "\n",
       "    .dataframe tbody tr th {\n",
       "        vertical-align: top;\n",
       "    }\n",
       "\n",
       "    .dataframe thead th {\n",
       "        text-align: right;\n",
       "    }\n",
       "</style>\n",
       "<table border=\"1\" class=\"dataframe\">\n",
       "  <thead>\n",
       "    <tr style=\"text-align: right;\">\n",
       "      <th></th>\n",
       "      <th>genre</th>\n",
       "    </tr>\n",
       "  </thead>\n",
       "  <tbody>\n",
       "    <tr>\n",
       "      <th>0</th>\n",
       "      <td>Animation,</td>\n",
       "    </tr>\n",
       "    <tr>\n",
       "      <th>1</th>\n",
       "      <td>Comedy,</td>\n",
       "    </tr>\n",
       "    <tr>\n",
       "      <th>2</th>\n",
       "      <td>Family</td>\n",
       "    </tr>\n",
       "    <tr>\n",
       "      <th>3</th>\n",
       "      <td>Adventure,</td>\n",
       "    </tr>\n",
       "    <tr>\n",
       "      <th>4</th>\n",
       "      <td>Fantasy,</td>\n",
       "    </tr>\n",
       "    <tr>\n",
       "      <th>...</th>\n",
       "      <td>...</td>\n",
       "    </tr>\n",
       "    <tr>\n",
       "      <th>91104</th>\n",
       "      <td>Family</td>\n",
       "    </tr>\n",
       "    <tr>\n",
       "      <th>91105</th>\n",
       "      <td>Drama</td>\n",
       "    </tr>\n",
       "    <tr>\n",
       "      <th>91106</th>\n",
       "      <td>Action,</td>\n",
       "    </tr>\n",
       "    <tr>\n",
       "      <th>91107</th>\n",
       "      <td>Drama,</td>\n",
       "    </tr>\n",
       "    <tr>\n",
       "      <th>91108</th>\n",
       "      <td>Thriller</td>\n",
       "    </tr>\n",
       "  </tbody>\n",
       "</table>\n",
       "<p>91109 rows × 1 columns</p>\n",
       "</div>"
      ],
      "text/plain": [
       "            genre\n",
       "0      Animation,\n",
       "1         Comedy,\n",
       "2          Family\n",
       "3      Adventure,\n",
       "4        Fantasy,\n",
       "...           ...\n",
       "91104      Family\n",
       "91105       Drama\n",
       "91106     Action,\n",
       "91107      Drama,\n",
       "91108    Thriller\n",
       "\n",
       "[91109 rows x 1 columns]"
      ]
     },
     "execution_count": 185,
     "metadata": {},
     "output_type": "execute_result"
    }
   ],
   "source": [
    "l = []\n",
    "for i in trange(len(df)):\n",
    "    genre = df.genres[i].split()\n",
    "    for i in genre :\n",
    "        l.append(i)\n",
    "genre = pd.DataFrame(l, columns=['genre'])\n",
    "genre = genre.genre.str.replace(r',', '')\n",
    "genre"
   ]
  },
  {
   "cell_type": "code",
   "execution_count": 198,
   "metadata": {
    "scrolled": true
   },
   "outputs": [
    {
     "data": {
      "image/png": "[encoded data removed]",
      "text/plain": [
       "<Figure size 864x432 with 1 Axes>"
      ]
     },
     "metadata": {
      "needs_background": "light"
     },
     "output_type": "display_data"
    }
   ],
   "source": [
    "fig, ax = plt.subplots(figsize=(12,6))\n",
    "sns.countplot(y = genre)\n",
    "plt.title('Occurrences totales des genres')\n",
    "fig.savefig('occ_totales_genres.png')"
   ]
  },
  {
   "cell_type": "markdown",
   "metadata": {},
   "source": [
    "## Variables quantitatives"
   ]
  },
  {
   "cell_type": "markdown",
   "metadata": {},
   "source": [
    "### Budget"
   ]
  },
  {
   "cell_type": "markdown",
   "metadata": {},
   "source": [
    "Une simple recherche internet nous informe que les budgets les plus petits dans la conception d'un film (appelés films \"micro-budget\") s'élèvent à quelques milliers de dollars. On peut regarder la distribution des films microbudgets."
   ]
  },
  {
   "cell_type": "code",
   "execution_count": 258,
   "metadata": {},
   "outputs": [
    {
     "data": {
      "text/plain": [
       "80.44032903708266"
      ]
     },
     "execution_count": 258,
     "metadata": {},
     "output_type": "execute_result"
    }
   ],
   "source": [
    "len(df.budget[df.budget == 0])/len(df.budget)*100"
   ]
  },
  {
   "cell_type": "code",
   "execution_count": 217,
   "metadata": {
    "scrolled": true
   },
   "outputs": [
    {
     "data": {
      "text/plain": [
       "count    36873.000000\n",
       "mean         8.133784\n",
       "std        201.490942\n",
       "min          0.000000\n",
       "25%          0.000000\n",
       "50%          0.000000\n",
       "75%          0.000000\n",
       "max       9500.000000\n",
       "Name: budget, dtype: float64"
      ]
     },
     "execution_count": 217,
     "metadata": {},
     "output_type": "execute_result"
    }
   ],
   "source": [
    "df.budget[df.budget < 10000].describe()"
   ]
  },
  {
   "cell_type": "code",
   "execution_count": 238,
   "metadata": {
    "scrolled": true
   },
   "outputs": [
    {
     "name": "stdout",
     "output_type": "stream",
     "text": [
      "Pourcentage de microfilms (budget inférieur à 10000 dollars) à budget inférieurs à 1000 dollars :  99.85083936755892 %\n"
     ]
    },
    {
     "data": {
      "image/png": "[encoded data removed]",
      "text/plain": [
       "<Figure size 864x432 with 1 Axes>"
      ]
     },
     "metadata": {
      "needs_background": "light"
     },
     "output_type": "display_data"
    }
   ],
   "source": [
    "fig, ax = plt.subplots(figsize=(12,6))\n",
    "df.budget[df.budget < 10000].hist()\n",
    "plt.title('Histogramme des films à budgets inférieurs à 10 000 dollars (microfilms)')\n",
    "\n",
    "print('Pourcentage de microfilms (budget inférieur à 10000 dollars) à budget inférieurs à 1000 dollars : ', (len(df.budget[df.budget < 1000])/len(df.budget[df.budget < 10000]))*100,'%')"
   ]
  },
  {
   "cell_type": "markdown",
   "metadata": {},
   "source": [
    "Au sein des microfilms (budget inférieur à 10000 dollars), on compte 99.85% de films à budget inférieur à 1000 euros. Ce nombre est de fait assez suspect, on peut imaginer que la base contient des 0 pour les valeurs de budget inconnues ainsi que la plupart des nombres entre 0 et 1000 dollars de production sont des outliers dûs à des erreurs de saisies. "
   ]
  },
  {
   "cell_type": "code",
   "execution_count": 247,
   "metadata": {
    "scrolled": true
   },
   "outputs": [
    {
     "data": {
      "image/png": "[encoded data removed]",
      "text/plain": [
       "<Figure size 864x432 with 1 Axes>"
      ]
     },
     "metadata": {
      "needs_background": "light"
     },
     "output_type": "display_data"
    }
   ],
   "source": [
    "df_budget_ecrete = df.budget[df.budget > 10000]\n",
    "fig, ax = plt.subplots(figsize=(12,6))\n",
    "ax = sns.distplot(df_budget_ecrete)\n",
    "#ax.set_xscale('log')\n",
    "#ax.set_yscale('log')"
   ]
  },
  {
   "cell_type": "code",
   "execution_count": 255,
   "metadata": {
    "scrolled": true
   },
   "outputs": [
    {
     "data": {
      "text/plain": [
       "((array([-3.77240845, -3.54511026, -3.42022122, ...,  3.42022122,\n",
       "          3.54511026,  3.77240845]),\n",
       "  array([1.04e+04, 1.10e+04, 1.10e+04, ..., 2.80e+08, 3.00e+08, 3.80e+08])),\n",
       " (27726595.02718325, 22400462.640541162, 0.7991918566608214))"
      ]
     },
     "execution_count": 255,
     "metadata": {},
     "output_type": "execute_result"
    },
    {
     "data": {
      "image/png": "[encoded data removed]",
      "text/plain": [
       "<Figure size 864x432 with 1 Axes>"
      ]
     },
     "metadata": {
      "needs_background": "light"
     },
     "output_type": "display_data"
    }
   ],
   "source": [
    "from scipy import stats\n",
    "import seaborn as sns\n",
    "fig, ax = plt.subplots(figsize=(12,6))\n",
    "stats.probplot(df_budget_ecrete, plot=sns.mpl.pyplot)"
   ]
  },
  {
   "cell_type": "markdown",
   "metadata": {},
   "source": [
    "L'information sur le budget paraît peu exploitable du fait de la dispersion des données..."
   ]
  },
  {
   "cell_type": "markdown",
   "metadata": {},
   "source": [
    "### Revenue"
   ]
  },
  {
   "cell_type": "code",
   "execution_count": 265,
   "metadata": {},
   "outputs": [],
   "source": [
    "df_sorted_revenue = df.revenue.sort_values()"
   ]
  },
  {
   "cell_type": "code",
   "execution_count": 267,
   "metadata": {
    "scrolled": true
   },
   "outputs": [
    {
     "data": {
      "text/plain": [
       "22731    0.0\n",
       "29873    0.0\n",
       "29874    0.0\n",
       "29875    0.0\n",
       "29876    0.0\n",
       "        ... \n",
       "29792    0.0\n",
       "29793    0.0\n",
       "29794    0.0\n",
       "29795    0.0\n",
       "29796    0.0\n",
       "Name: revenue, Length: 100, dtype: float64"
      ]
     },
     "execution_count": 267,
     "metadata": {},
     "output_type": "execute_result"
    }
   ],
   "source": []
  },
  {
   "cell_type": "code",
   "execution_count": 260,
   "metadata": {},
   "outputs": [
    {
     "ename": "RuntimeError",
     "evalue": "Selected KDE bandwidth is 0. Cannot estiamte density.",
     "output_type": "error",
     "traceback": [
      "\u001b[0;31m---------------------------------------------------------------------------\u001b[0m",
      "\u001b[0;31mValueError\u001b[0m                                Traceback (most recent call last)",
      "\u001b[0;32m~/opt/anaconda3/lib/python3.7/site-packages/statsmodels/nonparametric/kde.py\u001b[0m in \u001b[0;36mkdensityfft\u001b[0;34m(X, kernel, bw, weights, gridsize, adjust, clip, cut, retgrid)\u001b[0m\n\u001b[1;32m    450\u001b[0m     \u001b[0;32mtry\u001b[0m\u001b[0;34m:\u001b[0m\u001b[0;34m\u001b[0m\u001b[0;34m\u001b[0m\u001b[0m\n\u001b[0;32m--> 451\u001b[0;31m         \u001b[0mbw\u001b[0m \u001b[0;34m=\u001b[0m \u001b[0mfloat\u001b[0m\u001b[0;34m(\u001b[0m\u001b[0mbw\u001b[0m\u001b[0;34m)\u001b[0m\u001b[0;34m\u001b[0m\u001b[0;34m\u001b[0m\u001b[0m\n\u001b[0m\u001b[1;32m    452\u001b[0m     \u001b[0;32mexcept\u001b[0m\u001b[0;34m:\u001b[0m\u001b[0;34m\u001b[0m\u001b[0;34m\u001b[0m\u001b[0m\n",
      "\u001b[0;31mValueError\u001b[0m: could not convert string to float: 'scott'",
      "\nDuring handling of the above exception, another exception occurred:\n",
      "\u001b[0;31mRuntimeError\u001b[0m                              Traceback (most recent call last)",
      "\u001b[0;32m<ipython-input-260-07ff7d4f8720>\u001b[0m in \u001b[0;36m<module>\u001b[0;34m\u001b[0m\n\u001b[0;32m----> 1\u001b[0;31m \u001b[0msns\u001b[0m\u001b[0;34m.\u001b[0m\u001b[0mdistplot\u001b[0m\u001b[0;34m(\u001b[0m\u001b[0mdf\u001b[0m\u001b[0;34m.\u001b[0m\u001b[0mrevenue\u001b[0m\u001b[0;34m)\u001b[0m\u001b[0;34m\u001b[0m\u001b[0;34m\u001b[0m\u001b[0m\n\u001b[0m",
      "\u001b[0;32m~/opt/anaconda3/lib/python3.7/site-packages/seaborn/distributions.py\u001b[0m in \u001b[0;36mdistplot\u001b[0;34m(a, bins, hist, kde, rug, fit, hist_kws, kde_kws, rug_kws, fit_kws, color, vertical, norm_hist, axlabel, label, ax)\u001b[0m\n\u001b[1;32m    231\u001b[0m     \u001b[0;32mif\u001b[0m \u001b[0mkde\u001b[0m\u001b[0;34m:\u001b[0m\u001b[0;34m\u001b[0m\u001b[0;34m\u001b[0m\u001b[0m\n\u001b[1;32m    232\u001b[0m         \u001b[0mkde_color\u001b[0m \u001b[0;34m=\u001b[0m \u001b[0mkde_kws\u001b[0m\u001b[0;34m.\u001b[0m\u001b[0mpop\u001b[0m\u001b[0;34m(\u001b[0m\u001b[0;34m\"color\"\u001b[0m\u001b[0;34m,\u001b[0m \u001b[0mcolor\u001b[0m\u001b[0;34m)\u001b[0m\u001b[0;34m\u001b[0m\u001b[0;34m\u001b[0m\u001b[0m\n\u001b[0;32m--> 233\u001b[0;31m         \u001b[0mkdeplot\u001b[0m\u001b[0;34m(\u001b[0m\u001b[0ma\u001b[0m\u001b[0;34m,\u001b[0m \u001b[0mvertical\u001b[0m\u001b[0;34m=\u001b[0m\u001b[0mvertical\u001b[0m\u001b[0;34m,\u001b[0m \u001b[0max\u001b[0m\u001b[0;34m=\u001b[0m\u001b[0max\u001b[0m\u001b[0;34m,\u001b[0m \u001b[0mcolor\u001b[0m\u001b[0;34m=\u001b[0m\u001b[0mkde_color\u001b[0m\u001b[0;34m,\u001b[0m \u001b[0;34m**\u001b[0m\u001b[0mkde_kws\u001b[0m\u001b[0;34m)\u001b[0m\u001b[0;34m\u001b[0m\u001b[0;34m\u001b[0m\u001b[0m\n\u001b[0m\u001b[1;32m    234\u001b[0m         \u001b[0;32mif\u001b[0m \u001b[0mkde_color\u001b[0m \u001b[0;34m!=\u001b[0m \u001b[0mcolor\u001b[0m\u001b[0;34m:\u001b[0m\u001b[0;34m\u001b[0m\u001b[0;34m\u001b[0m\u001b[0m\n\u001b[1;32m    235\u001b[0m             \u001b[0mkde_kws\u001b[0m\u001b[0;34m[\u001b[0m\u001b[0;34m\"color\"\u001b[0m\u001b[0;34m]\u001b[0m \u001b[0;34m=\u001b[0m \u001b[0mkde_color\u001b[0m\u001b[0;34m\u001b[0m\u001b[0;34m\u001b[0m\u001b[0m\n",
      "\u001b[0;32m~/opt/anaconda3/lib/python3.7/site-packages/seaborn/distributions.py\u001b[0m in \u001b[0;36mkdeplot\u001b[0;34m(data, data2, shade, vertical, kernel, bw, gridsize, cut, clip, legend, cumulative, shade_lowest, cbar, cbar_ax, cbar_kws, ax, **kwargs)\u001b[0m\n\u001b[1;32m    703\u001b[0m         ax = _univariate_kdeplot(data, shade, vertical, kernel, bw,\n\u001b[1;32m    704\u001b[0m                                  \u001b[0mgridsize\u001b[0m\u001b[0;34m,\u001b[0m \u001b[0mcut\u001b[0m\u001b[0;34m,\u001b[0m \u001b[0mclip\u001b[0m\u001b[0;34m,\u001b[0m \u001b[0mlegend\u001b[0m\u001b[0;34m,\u001b[0m \u001b[0max\u001b[0m\u001b[0;34m,\u001b[0m\u001b[0;34m\u001b[0m\u001b[0;34m\u001b[0m\u001b[0m\n\u001b[0;32m--> 705\u001b[0;31m                                  cumulative=cumulative, **kwargs)\n\u001b[0m\u001b[1;32m    706\u001b[0m \u001b[0;34m\u001b[0m\u001b[0m\n\u001b[1;32m    707\u001b[0m     \u001b[0;32mreturn\u001b[0m \u001b[0max\u001b[0m\u001b[0;34m\u001b[0m\u001b[0;34m\u001b[0m\u001b[0m\n",
      "\u001b[0;32m~/opt/anaconda3/lib/python3.7/site-packages/seaborn/distributions.py\u001b[0m in \u001b[0;36m_univariate_kdeplot\u001b[0;34m(data, shade, vertical, kernel, bw, gridsize, cut, clip, legend, ax, cumulative, **kwargs)\u001b[0m\n\u001b[1;32m    293\u001b[0m         x, y = _statsmodels_univariate_kde(data, kernel, bw,\n\u001b[1;32m    294\u001b[0m                                            \u001b[0mgridsize\u001b[0m\u001b[0;34m,\u001b[0m \u001b[0mcut\u001b[0m\u001b[0;34m,\u001b[0m \u001b[0mclip\u001b[0m\u001b[0;34m,\u001b[0m\u001b[0;34m\u001b[0m\u001b[0;34m\u001b[0m\u001b[0m\n\u001b[0;32m--> 295\u001b[0;31m                                            cumulative=cumulative)\n\u001b[0m\u001b[1;32m    296\u001b[0m     \u001b[0;32melse\u001b[0m\u001b[0;34m:\u001b[0m\u001b[0;34m\u001b[0m\u001b[0;34m\u001b[0m\u001b[0m\n\u001b[1;32m    297\u001b[0m         \u001b[0;31m# Fall back to scipy if missing statsmodels\u001b[0m\u001b[0;34m\u001b[0m\u001b[0;34m\u001b[0m\u001b[0;34m\u001b[0m\u001b[0m\n",
      "\u001b[0;32m~/opt/anaconda3/lib/python3.7/site-packages/seaborn/distributions.py\u001b[0m in \u001b[0;36m_statsmodels_univariate_kde\u001b[0;34m(data, kernel, bw, gridsize, cut, clip, cumulative)\u001b[0m\n\u001b[1;32m    365\u001b[0m     \u001b[0mfft\u001b[0m \u001b[0;34m=\u001b[0m \u001b[0mkernel\u001b[0m \u001b[0;34m==\u001b[0m \u001b[0;34m\"gau\"\u001b[0m\u001b[0;34m\u001b[0m\u001b[0;34m\u001b[0m\u001b[0m\n\u001b[1;32m    366\u001b[0m     \u001b[0mkde\u001b[0m \u001b[0;34m=\u001b[0m \u001b[0msmnp\u001b[0m\u001b[0;34m.\u001b[0m\u001b[0mKDEUnivariate\u001b[0m\u001b[0;34m(\u001b[0m\u001b[0mdata\u001b[0m\u001b[0;34m)\u001b[0m\u001b[0;34m\u001b[0m\u001b[0;34m\u001b[0m\u001b[0m\n\u001b[0;32m--> 367\u001b[0;31m     \u001b[0mkde\u001b[0m\u001b[0;34m.\u001b[0m\u001b[0mfit\u001b[0m\u001b[0;34m(\u001b[0m\u001b[0mkernel\u001b[0m\u001b[0;34m,\u001b[0m \u001b[0mbw\u001b[0m\u001b[0;34m,\u001b[0m \u001b[0mfft\u001b[0m\u001b[0;34m,\u001b[0m \u001b[0mgridsize\u001b[0m\u001b[0;34m=\u001b[0m\u001b[0mgridsize\u001b[0m\u001b[0;34m,\u001b[0m \u001b[0mcut\u001b[0m\u001b[0;34m=\u001b[0m\u001b[0mcut\u001b[0m\u001b[0;34m,\u001b[0m \u001b[0mclip\u001b[0m\u001b[0;34m=\u001b[0m\u001b[0mclip\u001b[0m\u001b[0;34m)\u001b[0m\u001b[0;34m\u001b[0m\u001b[0;34m\u001b[0m\u001b[0m\n\u001b[0m\u001b[1;32m    368\u001b[0m     \u001b[0;32mif\u001b[0m \u001b[0mcumulative\u001b[0m\u001b[0;34m:\u001b[0m\u001b[0;34m\u001b[0m\u001b[0;34m\u001b[0m\u001b[0m\n\u001b[1;32m    369\u001b[0m         \u001b[0mgrid\u001b[0m\u001b[0;34m,\u001b[0m \u001b[0my\u001b[0m \u001b[0;34m=\u001b[0m \u001b[0mkde\u001b[0m\u001b[0;34m.\u001b[0m\u001b[0msupport\u001b[0m\u001b[0;34m,\u001b[0m \u001b[0mkde\u001b[0m\u001b[0;34m.\u001b[0m\u001b[0mcdf\u001b[0m\u001b[0;34m\u001b[0m\u001b[0;34m\u001b[0m\u001b[0m\n",
      "\u001b[0;32m~/opt/anaconda3/lib/python3.7/site-packages/statsmodels/nonparametric/kde.py\u001b[0m in \u001b[0;36mfit\u001b[0;34m(self, kernel, bw, fft, weights, gridsize, adjust, cut, clip)\u001b[0m\n\u001b[1;32m    138\u001b[0m             density, grid, bw = kdensityfft(endog, kernel=kernel, bw=bw,\n\u001b[1;32m    139\u001b[0m                     \u001b[0madjust\u001b[0m\u001b[0;34m=\u001b[0m\u001b[0madjust\u001b[0m\u001b[0;34m,\u001b[0m \u001b[0mweights\u001b[0m\u001b[0;34m=\u001b[0m\u001b[0mweights\u001b[0m\u001b[0;34m,\u001b[0m \u001b[0mgridsize\u001b[0m\u001b[0;34m=\u001b[0m\u001b[0mgridsize\u001b[0m\u001b[0;34m,\u001b[0m\u001b[0;34m\u001b[0m\u001b[0;34m\u001b[0m\u001b[0m\n\u001b[0;32m--> 140\u001b[0;31m                     clip=clip, cut=cut)\n\u001b[0m\u001b[1;32m    141\u001b[0m         \u001b[0;32melse\u001b[0m\u001b[0;34m:\u001b[0m\u001b[0;34m\u001b[0m\u001b[0;34m\u001b[0m\u001b[0m\n\u001b[1;32m    142\u001b[0m             density, grid, bw = kdensity(endog, kernel=kernel, bw=bw,\n",
      "\u001b[0;32m~/opt/anaconda3/lib/python3.7/site-packages/statsmodels/nonparametric/kde.py\u001b[0m in \u001b[0;36mkdensityfft\u001b[0;34m(X, kernel, bw, weights, gridsize, adjust, clip, cut, retgrid)\u001b[0m\n\u001b[1;32m    451\u001b[0m         \u001b[0mbw\u001b[0m \u001b[0;34m=\u001b[0m \u001b[0mfloat\u001b[0m\u001b[0;34m(\u001b[0m\u001b[0mbw\u001b[0m\u001b[0;34m)\u001b[0m\u001b[0;34m\u001b[0m\u001b[0;34m\u001b[0m\u001b[0m\n\u001b[1;32m    452\u001b[0m     \u001b[0;32mexcept\u001b[0m\u001b[0;34m:\u001b[0m\u001b[0;34m\u001b[0m\u001b[0;34m\u001b[0m\u001b[0m\n\u001b[0;32m--> 453\u001b[0;31m         \u001b[0mbw\u001b[0m \u001b[0;34m=\u001b[0m \u001b[0mbandwidths\u001b[0m\u001b[0;34m.\u001b[0m\u001b[0mselect_bandwidth\u001b[0m\u001b[0;34m(\u001b[0m\u001b[0mX\u001b[0m\u001b[0;34m,\u001b[0m \u001b[0mbw\u001b[0m\u001b[0;34m,\u001b[0m \u001b[0mkern\u001b[0m\u001b[0;34m)\u001b[0m \u001b[0;31m# will cross-val fit this pattern?\u001b[0m\u001b[0;34m\u001b[0m\u001b[0;34m\u001b[0m\u001b[0m\n\u001b[0m\u001b[1;32m    454\u001b[0m     \u001b[0mbw\u001b[0m \u001b[0;34m*=\u001b[0m \u001b[0madjust\u001b[0m\u001b[0;34m\u001b[0m\u001b[0;34m\u001b[0m\u001b[0m\n\u001b[1;32m    455\u001b[0m \u001b[0;34m\u001b[0m\u001b[0m\n",
      "\u001b[0;32m~/opt/anaconda3/lib/python3.7/site-packages/statsmodels/nonparametric/bandwidths.py\u001b[0m in \u001b[0;36mselect_bandwidth\u001b[0;34m(x, bw, kernel)\u001b[0m\n\u001b[1;32m    172\u001b[0m         \u001b[0;31m# eventually this can fall back on another selection criterion.\u001b[0m\u001b[0;34m\u001b[0m\u001b[0;34m\u001b[0m\u001b[0;34m\u001b[0m\u001b[0m\n\u001b[1;32m    173\u001b[0m         \u001b[0merr\u001b[0m \u001b[0;34m=\u001b[0m \u001b[0;34m\"Selected KDE bandwidth is 0. Cannot estiamte density.\"\u001b[0m\u001b[0;34m\u001b[0m\u001b[0;34m\u001b[0m\u001b[0m\n\u001b[0;32m--> 174\u001b[0;31m         \u001b[0;32mraise\u001b[0m \u001b[0mRuntimeError\u001b[0m\u001b[0;34m(\u001b[0m\u001b[0merr\u001b[0m\u001b[0;34m)\u001b[0m\u001b[0;34m\u001b[0m\u001b[0;34m\u001b[0m\u001b[0m\n\u001b[0m\u001b[1;32m    175\u001b[0m     \u001b[0;32melse\u001b[0m\u001b[0;34m:\u001b[0m\u001b[0;34m\u001b[0m\u001b[0;34m\u001b[0m\u001b[0m\n\u001b[1;32m    176\u001b[0m         \u001b[0;32mreturn\u001b[0m \u001b[0mbandwidth\u001b[0m\u001b[0;34m\u001b[0m\u001b[0;34m\u001b[0m\u001b[0m\n",
      "\u001b[0;31mRuntimeError\u001b[0m: Selected KDE bandwidth is 0. Cannot estiamte density."
     ]
    },
    {
     "data": {
      "image/png": "[encoded data removed]",
      "text/plain": [
       "<Figure size 432x288 with 1 Axes>"
      ]
     },
     "metadata": {
      "needs_background": "light"
     },
     "output_type": "display_data"
    }
   ],
   "source": [
    "sns.distplot(df.revenue)"
   ]
  },
  {
   "cell_type": "markdown",
   "metadata": {
    "id": "sESOJtfOLagm"
   },
   "source": [
    "# Modélisation"
   ]
  }
 ],
 "metadata": {
  "colab": {
   "collapsed_sections": [],
   "name": "Notebook Projet GANON-HE.ipynb",
   "provenance": []
  },
  "kernelspec": {
   "display_name": "Python 3",
   "language": "python",
   "name": "python3"
  },
  "language_info": {
   "codemirror_mode": {
    "name": "ipython",
    "version": 3
   },
   "file_extension": ".py",
   "mimetype": "text/x-python",
   "name": "python",
   "nbconvert_exporter": "python",
   "pygments_lexer": "ipython3",
   "version": "3.7.6"
  },
  "widgets": {
   "application/vnd.jupyter.widget-state+json": {
    "032ca08cd73a405484f64ddaba64f2ac": {
     "model_module": "@jupyter-widgets/base",
     "model_name": "LayoutModel",
     "state": {
      "_model_module": "@jupyter-widgets/base",
      "_model_module_version": "1.2.0",
      "_model_name": "LayoutModel",
      "_view_count": null,
      "_view_module": "@jupyter-widgets/base",
      "_view_module_version": "1.2.0",
      "_view_name": "LayoutView",
      "align_content": null,
      "align_items": null,
      "align_self": null,
      "border": null,
      "bottom": null,
      "display": null,
      "flex": null,
      "flex_flow": null,
      "grid_area": null,
      "grid_auto_columns": null,
      "grid_auto_flow": null,
      "grid_auto_rows": null,
      "grid_column": null,
      "grid_gap": null,
      "grid_row": null,
      "grid_template_areas": null,
      "grid_template_columns": null,
      "grid_template_rows": null,
      "height": null,
      "justify_content": null,
      "justify_items": null,
      "left": null,
      "margin": null,
      "max_height": null,
      "max_width": null,
      "min_height": null,
      "min_width": null,
      "object_fit": null,
      "object_position": null,
      "order": null,
      "overflow": null,
      "overflow_x": null,
      "overflow_y": null,
      "padding": null,
      "right": null,
      "top": null,
      "visibility": null,
      "width": null
     }
    },
    "1a13ba1945604a619802452a779325c4": {
     "model_module": "@jupyter-widgets/controls",
     "model_name": "HTMLModel",
     "state": {
      "_dom_classes": [],
      "_model_module": "@jupyter-widgets/controls",
      "_model_module_version": "1.5.0",
      "_model_name": "HTMLModel",
      "_view_count": null,
      "_view_module": "@jupyter-widgets/controls",
      "_view_module_version": "1.5.0",
      "_view_name": "HTMLView",
      "description": "",
      "description_tooltip": null,
      "layout": "IPY_MODEL_43982077001c43368383462440f26990",
      "placeholder": "​",
      "style": "IPY_MODEL_41e270a924fe4b278be2b26ca534de32",
      "value": " 45466/45466 [01:22&lt;00:00, 548.53it/s]"
     }
    },
    "228ce4f071ab4412998cd5aaa6634a3d": {
     "model_module": "@jupyter-widgets/controls",
     "model_name": "FloatProgressModel",
     "state": {
      "_dom_classes": [],
      "_model_module": "@jupyter-widgets/controls",
      "_model_module_version": "1.5.0",
      "_model_name": "FloatProgressModel",
      "_view_count": null,
      "_view_module": "@jupyter-widgets/controls",
      "_view_module_version": "1.5.0",
      "_view_name": "ProgressView",
      "bar_style": "success",
      "description": "100%",
      "description_tooltip": null,
      "layout": "IPY_MODEL_3aca0e103e25435a9513fb7d0b658292",
      "max": 45466,
      "min": 0,
      "orientation": "horizontal",
      "style": "IPY_MODEL_a9ac0c748cc0452a9cc36a811e663fcc",
      "value": 45466
     }
    },
    "27b3bebbb2714413bce98cd63f83d652": {
     "model_module": "@jupyter-widgets/base",
     "model_name": "LayoutModel",
     "state": {
      "_model_module": "@jupyter-widgets/base",
      "_model_module_version": "1.2.0",
      "_model_name": "LayoutModel",
      "_view_count": null,
      "_view_module": "@jupyter-widgets/base",
      "_view_module_version": "1.2.0",
      "_view_name": "LayoutView",
      "align_content": null,
      "align_items": null,
      "align_self": null,
      "border": null,
      "bottom": null,
      "display": null,
      "flex": null,
      "flex_flow": null,
      "grid_area": null,
      "grid_auto_columns": null,
      "grid_auto_flow": null,
      "grid_auto_rows": null,
      "grid_column": null,
      "grid_gap": null,
      "grid_row": null,
      "grid_template_areas": null,
      "grid_template_columns": null,
      "grid_template_rows": null,
      "height": null,
      "justify_content": null,
      "justify_items": null,
      "left": null,
      "margin": null,
      "max_height": null,
      "max_width": null,
      "min_height": null,
      "min_width": null,
      "object_fit": null,
      "object_position": null,
      "order": null,
      "overflow": null,
      "overflow_x": null,
      "overflow_y": null,
      "padding": null,
      "right": null,
      "top": null,
      "visibility": null,
      "width": null
     }
    },
    "27e930b475a34935a640f7816f978d52": {
     "model_module": "@jupyter-widgets/controls",
     "model_name": "DescriptionStyleModel",
     "state": {
      "_model_module": "@jupyter-widgets/controls",
      "_model_module_version": "1.5.0",
      "_model_name": "DescriptionStyleModel",
      "_view_count": null,
      "_view_module": "@jupyter-widgets/base",
      "_view_module_version": "1.2.0",
      "_view_name": "StyleView",
      "description_width": ""
     }
    },
    "2d42285c10284b86a128f03e5fffa19c": {
     "model_module": "@jupyter-widgets/base",
     "model_name": "LayoutModel",
     "state": {
      "_model_module": "@jupyter-widgets/base",
      "_model_module_version": "1.2.0",
      "_model_name": "LayoutModel",
      "_view_count": null,
      "_view_module": "@jupyter-widgets/base",
      "_view_module_version": "1.2.0",
      "_view_name": "LayoutView",
      "align_content": null,
      "align_items": null,
      "align_self": null,
      "border": null,
      "bottom": null,
      "display": null,
      "flex": null,
      "flex_flow": null,
      "grid_area": null,
      "grid_auto_columns": null,
      "grid_auto_flow": null,
      "grid_auto_rows": null,
      "grid_column": null,
      "grid_gap": null,
      "grid_row": null,
      "grid_template_areas": null,
      "grid_template_columns": null,
      "grid_template_rows": null,
      "height": null,
      "justify_content": null,
      "justify_items": null,
      "left": null,
      "margin": null,
      "max_height": null,
      "max_width": null,
      "min_height": null,
      "min_width": null,
      "object_fit": null,
      "object_position": null,
      "order": null,
      "overflow": null,
      "overflow_x": null,
      "overflow_y": null,
      "padding": null,
      "right": null,
      "top": null,
      "visibility": null,
      "width": null
     }
    },
    "3aca0e103e25435a9513fb7d0b658292": {
     "model_module": "@jupyter-widgets/base",
     "model_name": "LayoutModel",
     "state": {
      "_model_module": "@jupyter-widgets/base",
      "_model_module_version": "1.2.0",
      "_model_name": "LayoutModel",
      "_view_count": null,
      "_view_module": "@jupyter-widgets/base",
      "_view_module_version": "1.2.0",
      "_view_name": "LayoutView",
      "align_content": null,
      "align_items": null,
      "align_self": null,
      "border": null,
      "bottom": null,
      "display": null,
      "flex": null,
      "flex_flow": null,
      "grid_area": null,
      "grid_auto_columns": null,
      "grid_auto_flow": null,
      "grid_auto_rows": null,
      "grid_column": null,
      "grid_gap": null,
      "grid_row": null,
      "grid_template_areas": null,
      "grid_template_columns": null,
      "grid_template_rows": null,
      "height": null,
      "justify_content": null,
      "justify_items": null,
      "left": null,
      "margin": null,
      "max_height": null,
      "max_width": null,
      "min_height": null,
      "min_width": null,
      "object_fit": null,
      "object_position": null,
      "order": null,
      "overflow": null,
      "overflow_x": null,
      "overflow_y": null,
      "padding": null,
      "right": null,
      "top": null,
      "visibility": null,
      "width": null
     }
    },
    "41e270a924fe4b278be2b26ca534de32": {
     "model_module": "@jupyter-widgets/controls",
     "model_name": "DescriptionStyleModel",
     "state": {
      "_model_module": "@jupyter-widgets/controls",
      "_model_module_version": "1.5.0",
      "_model_name": "DescriptionStyleModel",
      "_view_count": null,
      "_view_module": "@jupyter-widgets/base",
      "_view_module_version": "1.2.0",
      "_view_name": "StyleView",
      "description_width": ""
     }
    },
    "43982077001c43368383462440f26990": {
     "model_module": "@jupyter-widgets/base",
     "model_name": "LayoutModel",
     "state": {
      "_model_module": "@jupyter-widgets/base",
      "_model_module_version": "1.2.0",
      "_model_name": "LayoutModel",
      "_view_count": null,
      "_view_module": "@jupyter-widgets/base",
      "_view_module_version": "1.2.0",
      "_view_name": "LayoutView",
      "align_content": null,
      "align_items": null,
      "align_self": null,
      "border": null,
      "bottom": null,
      "display": null,
      "flex": null,
      "flex_flow": null,
      "grid_area": null,
      "grid_auto_columns": null,
      "grid_auto_flow": null,
      "grid_auto_rows": null,
      "grid_column": null,
      "grid_gap": null,
      "grid_row": null,
      "grid_template_areas": null,
      "grid_template_columns": null,
      "grid_template_rows": null,
      "height": null,
      "justify_content": null,
      "justify_items": null,
      "left": null,
      "margin": null,
      "max_height": null,
      "max_width": null,
      "min_height": null,
      "min_width": null,
      "object_fit": null,
      "object_position": null,
      "order": null,
      "overflow": null,
      "overflow_x": null,
      "overflow_y": null,
      "padding": null,
      "right": null,
      "top": null,
      "visibility": null,
      "width": null
     }
    },
    "5af45de889df41feabb479b707790e30": {
     "model_module": "@jupyter-widgets/controls",
     "model_name": "HTMLModel",
     "state": {
      "_dom_classes": [],
      "_model_module": "@jupyter-widgets/controls",
      "_model_module_version": "1.5.0",
      "_model_name": "HTMLModel",
      "_view_count": null,
      "_view_module": "@jupyter-widgets/controls",
      "_view_module_version": "1.5.0",
      "_view_name": "HTMLView",
      "description": "",
      "description_tooltip": null,
      "layout": "IPY_MODEL_ce41825353fc4373a8d6964e5192d1fa",
      "placeholder": "​",
      "style": "IPY_MODEL_27e930b475a34935a640f7816f978d52",
      "value": " 12109/12109 [1:51:22&lt;00:00,  1.81it/s]"
     }
    },
    "602e507c418f4475809930e5980f5496": {
     "model_module": "@jupyter-widgets/controls",
     "model_name": "HTMLModel",
     "state": {
      "_dom_classes": [],
      "_model_module": "@jupyter-widgets/controls",
      "_model_module_version": "1.5.0",
      "_model_name": "HTMLModel",
      "_view_count": null,
      "_view_module": "@jupyter-widgets/controls",
      "_view_module_version": "1.5.0",
      "_view_name": "HTMLView",
      "description": "",
      "description_tooltip": null,
      "layout": "IPY_MODEL_ce110a0b7473449198a74fd139d91a66",
      "placeholder": "​",
      "style": "IPY_MODEL_82468621d7f24b98b7ef31d78287fd31",
      "value": " 45466/45466 [00:48&lt;00:00, 932.55it/s]"
     }
    },
    "82468621d7f24b98b7ef31d78287fd31": {
     "model_module": "@jupyter-widgets/controls",
     "model_name": "DescriptionStyleModel",
     "state": {
      "_model_module": "@jupyter-widgets/controls",
      "_model_module_version": "1.5.0",
      "_model_name": "DescriptionStyleModel",
      "_view_count": null,
      "_view_module": "@jupyter-widgets/base",
      "_view_module_version": "1.2.0",
      "_view_name": "StyleView",
      "description_width": ""
     }
    },
    "95aac5b4890545c9815e64dc0117464d": {
     "model_module": "@jupyter-widgets/base",
     "model_name": "LayoutModel",
     "state": {
      "_model_module": "@jupyter-widgets/base",
      "_model_module_version": "1.2.0",
      "_model_name": "LayoutModel",
      "_view_count": null,
      "_view_module": "@jupyter-widgets/base",
      "_view_module_version": "1.2.0",
      "_view_name": "LayoutView",
      "align_content": null,
      "align_items": null,
      "align_self": null,
      "border": null,
      "bottom": null,
      "display": null,
      "flex": null,
      "flex_flow": null,
      "grid_area": null,
      "grid_auto_columns": null,
      "grid_auto_flow": null,
      "grid_auto_rows": null,
      "grid_column": null,
      "grid_gap": null,
      "grid_row": null,
      "grid_template_areas": null,
      "grid_template_columns": null,
      "grid_template_rows": null,
      "height": null,
      "justify_content": null,
      "justify_items": null,
      "left": null,
      "margin": null,
      "max_height": null,
      "max_width": null,
      "min_height": null,
      "min_width": null,
      "object_fit": null,
      "object_position": null,
      "order": null,
      "overflow": null,
      "overflow_x": null,
      "overflow_y": null,
      "padding": null,
      "right": null,
      "top": null,
      "visibility": null,
      "width": null
     }
    },
    "96241a7765c74a3a97ea5e53dda55a42": {
     "model_module": "@jupyter-widgets/base",
     "model_name": "LayoutModel",
     "state": {
      "_model_module": "@jupyter-widgets/base",
      "_model_module_version": "1.2.0",
      "_model_name": "LayoutModel",
      "_view_count": null,
      "_view_module": "@jupyter-widgets/base",
      "_view_module_version": "1.2.0",
      "_view_name": "LayoutView",
      "align_content": null,
      "align_items": null,
      "align_self": null,
      "border": null,
      "bottom": null,
      "display": null,
      "flex": null,
      "flex_flow": null,
      "grid_area": null,
      "grid_auto_columns": null,
      "grid_auto_flow": null,
      "grid_auto_rows": null,
      "grid_column": null,
      "grid_gap": null,
      "grid_row": null,
      "grid_template_areas": null,
      "grid_template_columns": null,
      "grid_template_rows": null,
      "height": null,
      "justify_content": null,
      "justify_items": null,
      "left": null,
      "margin": null,
      "max_height": null,
      "max_width": null,
      "min_height": null,
      "min_width": null,
      "object_fit": null,
      "object_position": null,
      "order": null,
      "overflow": null,
      "overflow_x": null,
      "overflow_y": null,
      "padding": null,
      "right": null,
      "top": null,
      "visibility": null,
      "width": null
     }
    },
    "a9ac0c748cc0452a9cc36a811e663fcc": {
     "model_module": "@jupyter-widgets/controls",
     "model_name": "ProgressStyleModel",
     "state": {
      "_model_module": "@jupyter-widgets/controls",
      "_model_module_version": "1.5.0",
      "_model_name": "ProgressStyleModel",
      "_view_count": null,
      "_view_module": "@jupyter-widgets/base",
      "_view_module_version": "1.2.0",
      "_view_name": "StyleView",
      "bar_color": null,
      "description_width": "initial"
     }
    },
    "b09a2a2f4f2345bfb3d65f6a1e2c659f": {
     "model_module": "@jupyter-widgets/controls",
     "model_name": "FloatProgressModel",
     "state": {
      "_dom_classes": [],
      "_model_module": "@jupyter-widgets/controls",
      "_model_module_version": "1.5.0",
      "_model_name": "FloatProgressModel",
      "_view_count": null,
      "_view_module": "@jupyter-widgets/controls",
      "_view_module_version": "1.5.0",
      "_view_name": "ProgressView",
      "bar_style": "success",
      "description": "100%",
      "description_tooltip": null,
      "layout": "IPY_MODEL_96241a7765c74a3a97ea5e53dda55a42",
      "max": 45466,
      "min": 0,
      "orientation": "horizontal",
      "style": "IPY_MODEL_b5505b1580214ce8897d88f2609cbc62",
      "value": 45466
     }
    },
    "b4f5efbcff9644c8bf2ef66969ed87c0": {
     "model_module": "@jupyter-widgets/controls",
     "model_name": "FloatProgressModel",
     "state": {
      "_dom_classes": [],
      "_model_module": "@jupyter-widgets/controls",
      "_model_module_version": "1.5.0",
      "_model_name": "FloatProgressModel",
      "_view_count": null,
      "_view_module": "@jupyter-widgets/controls",
      "_view_module_version": "1.5.0",
      "_view_name": "ProgressView",
      "bar_style": "success",
      "description": "100%",
      "description_tooltip": null,
      "layout": "IPY_MODEL_95aac5b4890545c9815e64dc0117464d",
      "max": 12109,
      "min": 0,
      "orientation": "horizontal",
      "style": "IPY_MODEL_f853e5cf3eab4f1bb5f5ec3a1f8bb0f8",
      "value": 12109
     }
    },
    "b5505b1580214ce8897d88f2609cbc62": {
     "model_module": "@jupyter-widgets/controls",
     "model_name": "ProgressStyleModel",
     "state": {
      "_model_module": "@jupyter-widgets/controls",
      "_model_module_version": "1.5.0",
      "_model_name": "ProgressStyleModel",
      "_view_count": null,
      "_view_module": "@jupyter-widgets/base",
      "_view_module_version": "1.2.0",
      "_view_name": "StyleView",
      "bar_color": null,
      "description_width": "initial"
     }
    },
    "b756ffb7d28d4878a5f0a74afe69e9c0": {
     "model_module": "@jupyter-widgets/controls",
     "model_name": "HBoxModel",
     "state": {
      "_dom_classes": [],
      "_model_module": "@jupyter-widgets/controls",
      "_model_module_version": "1.5.0",
      "_model_name": "HBoxModel",
      "_view_count": null,
      "_view_module": "@jupyter-widgets/controls",
      "_view_module_version": "1.5.0",
      "_view_name": "HBoxView",
      "box_style": "",
      "children": [
       "IPY_MODEL_228ce4f071ab4412998cd5aaa6634a3d",
       "IPY_MODEL_602e507c418f4475809930e5980f5496"
      ],
      "layout": "IPY_MODEL_2d42285c10284b86a128f03e5fffa19c"
     }
    },
    "ce110a0b7473449198a74fd139d91a66": {
     "model_module": "@jupyter-widgets/base",
     "model_name": "LayoutModel",
     "state": {
      "_model_module": "@jupyter-widgets/base",
      "_model_module_version": "1.2.0",
      "_model_name": "LayoutModel",
      "_view_count": null,
      "_view_module": "@jupyter-widgets/base",
      "_view_module_version": "1.2.0",
      "_view_name": "LayoutView",
      "align_content": null,
      "align_items": null,
      "align_self": null,
      "border": null,
      "bottom": null,
      "display": null,
      "flex": null,
      "flex_flow": null,
      "grid_area": null,
      "grid_auto_columns": null,
      "grid_auto_flow": null,
      "grid_auto_rows": null,
      "grid_column": null,
      "grid_gap": null,
      "grid_row": null,
      "grid_template_areas": null,
      "grid_template_columns": null,
      "grid_template_rows": null,
      "height": null,
      "justify_content": null,
      "justify_items": null,
      "left": null,
      "margin": null,
      "max_height": null,
      "max_width": null,
      "min_height": null,
      "min_width": null,
      "object_fit": null,
      "object_position": null,
      "order": null,
      "overflow": null,
      "overflow_x": null,
      "overflow_y": null,
      "padding": null,
      "right": null,
      "top": null,
      "visibility": null,
      "width": null
     }
    },
    "ce41825353fc4373a8d6964e5192d1fa": {
     "model_module": "@jupyter-widgets/base",
     "model_name": "LayoutModel",
     "state": {
      "_model_module": "@jupyter-widgets/base",
      "_model_module_version": "1.2.0",
      "_model_name": "LayoutModel",
      "_view_count": null,
      "_view_module": "@jupyter-widgets/base",
      "_view_module_version": "1.2.0",
      "_view_name": "LayoutView",
      "align_content": null,
      "align_items": null,
      "align_self": null,
      "border": null,
      "bottom": null,
      "display": null,
      "flex": null,
      "flex_flow": null,
      "grid_area": null,
      "grid_auto_columns": null,
      "grid_auto_flow": null,
      "grid_auto_rows": null,
      "grid_column": null,
      "grid_gap": null,
      "grid_row": null,
      "grid_template_areas": null,
      "grid_template_columns": null,
      "grid_template_rows": null,
      "height": null,
      "justify_content": null,
      "justify_items": null,
      "left": null,
      "margin": null,
      "max_height": null,
      "max_width": null,
      "min_height": null,
      "min_width": null,
      "object_fit": null,
      "object_position": null,
      "order": null,
      "overflow": null,
      "overflow_x": null,
      "overflow_y": null,
      "padding": null,
      "right": null,
      "top": null,
      "visibility": null,
      "width": null
     }
    },
    "ebbf8fc030d94bbe80d21b8eeb2157e3": {
     "model_module": "@jupyter-widgets/controls",
     "model_name": "HBoxModel",
     "state": {
      "_dom_classes": [],
      "_model_module": "@jupyter-widgets/controls",
      "_model_module_version": "1.5.0",
      "_model_name": "HBoxModel",
      "_view_count": null,
      "_view_module": "@jupyter-widgets/controls",
      "_view_module_version": "1.5.0",
      "_view_name": "HBoxView",
      "box_style": "",
      "children": [
       "IPY_MODEL_b09a2a2f4f2345bfb3d65f6a1e2c659f",
       "IPY_MODEL_1a13ba1945604a619802452a779325c4"
      ],
      "layout": "IPY_MODEL_032ca08cd73a405484f64ddaba64f2ac"
     }
    },
    "f5e4468de70649ce93d3b8c220059022": {
     "model_module": "@jupyter-widgets/controls",
     "model_name": "HBoxModel",
     "state": {
      "_dom_classes": [],
      "_model_module": "@jupyter-widgets/controls",
      "_model_module_version": "1.5.0",
      "_model_name": "HBoxModel",
      "_view_count": null,
      "_view_module": "@jupyter-widgets/controls",
      "_view_module_version": "1.5.0",
      "_view_name": "HBoxView",
      "box_style": "",
      "children": [
       "IPY_MODEL_b4f5efbcff9644c8bf2ef66969ed87c0",
       "IPY_MODEL_5af45de889df41feabb479b707790e30"
      ],
      "layout": "IPY_MODEL_27b3bebbb2714413bce98cd63f83d652"
     }
    },
    "f853e5cf3eab4f1bb5f5ec3a1f8bb0f8": {
     "model_module": "@jupyter-widgets/controls",
     "model_name": "ProgressStyleModel",
     "state": {
      "_model_module": "@jupyter-widgets/controls",
      "_model_module_version": "1.5.0",
      "_model_name": "ProgressStyleModel",
      "_view_count": null,
      "_view_module": "@jupyter-widgets/base",
      "_view_module_version": "1.2.0",
      "_view_name": "StyleView",
      "bar_color": null,
      "description_width": "initial"
     }
    }
   }
  }
 },
 "nbformat": 4,
 "nbformat_minor": 1
}
