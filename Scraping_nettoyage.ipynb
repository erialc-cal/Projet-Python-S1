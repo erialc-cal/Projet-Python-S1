{
  "nbformat": 4,
  "nbformat_minor": 0,
  "metadata": {
    "kernelspec": {
      "display_name": "Python 3",
      "language": "python",
      "name": "python3"
    },
    "language_info": {
      "codemirror_mode": {
        "name": "ipython",
        "version": 3
      },
      "file_extension": ".py",
      "mimetype": "text/x-python",
      "name": "python",
      "nbconvert_exporter": "python",
      "pygments_lexer": "ipython3",
      "version": "3.7.6"
    },
    "colab": {
      "name": "Notebook scraping et nettoyage.ipynb",
      "provenance": [],
      "toc_visible": true,
      "include_colab_link": true
    },
    "widgets": {
      "application/vnd.jupyter.widget-state+json": {
        "459b0a015f7d4b55a0288929cd5aa778": {
          "model_module": "@jupyter-widgets/controls",
          "model_name": "HBoxModel",
          "state": {
            "_view_name": "HBoxView",
            "_dom_classes": [],
            "_model_name": "HBoxModel",
            "_view_module": "@jupyter-widgets/controls",
            "_model_module_version": "1.5.0",
            "_view_count": null,
            "_view_module_version": "1.5.0",
            "box_style": "",
            "layout": "IPY_MODEL_882104b843314054ba37fb7ce070e15d",
            "_model_module": "@jupyter-widgets/controls",
            "children": [
              "IPY_MODEL_ce98e6da58c84d2aa5718ccda655574d",
              "IPY_MODEL_dcb15be2e67e4b30927ecf704b8a75ca"
            ]
          }
        },
        "882104b843314054ba37fb7ce070e15d": {
          "model_module": "@jupyter-widgets/base",
          "model_name": "LayoutModel",
          "state": {
            "_view_name": "LayoutView",
            "grid_template_rows": null,
            "right": null,
            "justify_content": null,
            "_view_module": "@jupyter-widgets/base",
            "overflow": null,
            "_model_module_version": "1.2.0",
            "_view_count": null,
            "flex_flow": null,
            "width": null,
            "min_width": null,
            "border": null,
            "align_items": null,
            "bottom": null,
            "_model_module": "@jupyter-widgets/base",
            "top": null,
            "grid_column": null,
            "overflow_y": null,
            "overflow_x": null,
            "grid_auto_flow": null,
            "grid_area": null,
            "grid_template_columns": null,
            "flex": null,
            "_model_name": "LayoutModel",
            "justify_items": null,
            "grid_row": null,
            "max_height": null,
            "align_content": null,
            "visibility": null,
            "align_self": null,
            "height": null,
            "min_height": null,
            "padding": null,
            "grid_auto_rows": null,
            "grid_gap": null,
            "max_width": null,
            "order": null,
            "_view_module_version": "1.2.0",
            "grid_template_areas": null,
            "object_position": null,
            "object_fit": null,
            "grid_auto_columns": null,
            "margin": null,
            "display": null,
            "left": null
          }
        },
        "ce98e6da58c84d2aa5718ccda655574d": {
          "model_module": "@jupyter-widgets/controls",
          "model_name": "FloatProgressModel",
          "state": {
            "_view_name": "ProgressView",
            "style": "IPY_MODEL_1505ad4b1d004e78988a05478c02ce1b",
            "_dom_classes": [],
            "description": "  3%",
            "_model_name": "FloatProgressModel",
            "bar_style": "danger",
            "max": 45417,
            "_view_module": "@jupyter-widgets/controls",
            "_model_module_version": "1.5.0",
            "value": 1419,
            "_view_count": null,
            "_view_module_version": "1.5.0",
            "orientation": "horizontal",
            "min": 0,
            "description_tooltip": null,
            "_model_module": "@jupyter-widgets/controls",
            "layout": "IPY_MODEL_279662ffe6734de1b39511953d6973e9"
          }
        },
        "dcb15be2e67e4b30927ecf704b8a75ca": {
          "model_module": "@jupyter-widgets/controls",
          "model_name": "HTMLModel",
          "state": {
            "_view_name": "HTMLView",
            "style": "IPY_MODEL_80f3f35611144e41abaacb8edf42e3fd",
            "_dom_classes": [],
            "description": "",
            "_model_name": "HTMLModel",
            "placeholder": "​",
            "_view_module": "@jupyter-widgets/controls",
            "_model_module_version": "1.5.0",
            "value": " 1419/45417 [00:20&lt;00:53, 821.68it/s]",
            "_view_count": null,
            "_view_module_version": "1.5.0",
            "description_tooltip": null,
            "_model_module": "@jupyter-widgets/controls",
            "layout": "IPY_MODEL_05a99efbbf3c44e9bc67f80ee2e1dfc5"
          }
        },
        "1505ad4b1d004e78988a05478c02ce1b": {
          "model_module": "@jupyter-widgets/controls",
          "model_name": "ProgressStyleModel",
          "state": {
            "_view_name": "StyleView",
            "_model_name": "ProgressStyleModel",
            "description_width": "initial",
            "_view_module": "@jupyter-widgets/base",
            "_model_module_version": "1.5.0",
            "_view_count": null,
            "_view_module_version": "1.2.0",
            "bar_color": null,
            "_model_module": "@jupyter-widgets/controls"
          }
        },
        "279662ffe6734de1b39511953d6973e9": {
          "model_module": "@jupyter-widgets/base",
          "model_name": "LayoutModel",
          "state": {
            "_view_name": "LayoutView",
            "grid_template_rows": null,
            "right": null,
            "justify_content": null,
            "_view_module": "@jupyter-widgets/base",
            "overflow": null,
            "_model_module_version": "1.2.0",
            "_view_count": null,
            "flex_flow": null,
            "width": null,
            "min_width": null,
            "border": null,
            "align_items": null,
            "bottom": null,
            "_model_module": "@jupyter-widgets/base",
            "top": null,
            "grid_column": null,
            "overflow_y": null,
            "overflow_x": null,
            "grid_auto_flow": null,
            "grid_area": null,
            "grid_template_columns": null,
            "flex": null,
            "_model_name": "LayoutModel",
            "justify_items": null,
            "grid_row": null,
            "max_height": null,
            "align_content": null,
            "visibility": null,
            "align_self": null,
            "height": null,
            "min_height": null,
            "padding": null,
            "grid_auto_rows": null,
            "grid_gap": null,
            "max_width": null,
            "order": null,
            "_view_module_version": "1.2.0",
            "grid_template_areas": null,
            "object_position": null,
            "object_fit": null,
            "grid_auto_columns": null,
            "margin": null,
            "display": null,
            "left": null
          }
        },
        "80f3f35611144e41abaacb8edf42e3fd": {
          "model_module": "@jupyter-widgets/controls",
          "model_name": "DescriptionStyleModel",
          "state": {
            "_view_name": "StyleView",
            "_model_name": "DescriptionStyleModel",
            "description_width": "",
            "_view_module": "@jupyter-widgets/base",
            "_model_module_version": "1.5.0",
            "_view_count": null,
            "_view_module_version": "1.2.0",
            "_model_module": "@jupyter-widgets/controls"
          }
        },
        "05a99efbbf3c44e9bc67f80ee2e1dfc5": {
          "model_module": "@jupyter-widgets/base",
          "model_name": "LayoutModel",
          "state": {
            "_view_name": "LayoutView",
            "grid_template_rows": null,
            "right": null,
            "justify_content": null,
            "_view_module": "@jupyter-widgets/base",
            "overflow": null,
            "_model_module_version": "1.2.0",
            "_view_count": null,
            "flex_flow": null,
            "width": null,
            "min_width": null,
            "border": null,
            "align_items": null,
            "bottom": null,
            "_model_module": "@jupyter-widgets/base",
            "top": null,
            "grid_column": null,
            "overflow_y": null,
            "overflow_x": null,
            "grid_auto_flow": null,
            "grid_area": null,
            "grid_template_columns": null,
            "flex": null,
            "_model_name": "LayoutModel",
            "justify_items": null,
            "grid_row": null,
            "max_height": null,
            "align_content": null,
            "visibility": null,
            "align_self": null,
            "height": null,
            "min_height": null,
            "padding": null,
            "grid_auto_rows": null,
            "grid_gap": null,
            "max_width": null,
            "order": null,
            "_view_module_version": "1.2.0",
            "grid_template_areas": null,
            "object_position": null,
            "object_fit": null,
            "grid_auto_columns": null,
            "margin": null,
            "display": null,
            "left": null
          }
        },
        "51c77dd4f1ad47aab7824affe52979cb": {
          "model_module": "@jupyter-widgets/controls",
          "model_name": "HBoxModel",
          "state": {
            "_view_name": "HBoxView",
            "_dom_classes": [],
            "_model_name": "HBoxModel",
            "_view_module": "@jupyter-widgets/controls",
            "_model_module_version": "1.5.0",
            "_view_count": null,
            "_view_module_version": "1.5.0",
            "box_style": "",
            "layout": "IPY_MODEL_67d29bdefc6641c8918f75d0afdc0885",
            "_model_module": "@jupyter-widgets/controls",
            "children": [
              "IPY_MODEL_93fa8d282fdc4e3da67a7de79aff14cd",
              "IPY_MODEL_f5dc541d89d6460d946bff6b9fbcce0c"
            ]
          }
        },
        "67d29bdefc6641c8918f75d0afdc0885": {
          "model_module": "@jupyter-widgets/base",
          "model_name": "LayoutModel",
          "state": {
            "_view_name": "LayoutView",
            "grid_template_rows": null,
            "right": null,
            "justify_content": null,
            "_view_module": "@jupyter-widgets/base",
            "overflow": null,
            "_model_module_version": "1.2.0",
            "_view_count": null,
            "flex_flow": null,
            "width": null,
            "min_width": null,
            "border": null,
            "align_items": null,
            "bottom": null,
            "_model_module": "@jupyter-widgets/base",
            "top": null,
            "grid_column": null,
            "overflow_y": null,
            "overflow_x": null,
            "grid_auto_flow": null,
            "grid_area": null,
            "grid_template_columns": null,
            "flex": null,
            "_model_name": "LayoutModel",
            "justify_items": null,
            "grid_row": null,
            "max_height": null,
            "align_content": null,
            "visibility": null,
            "align_self": null,
            "height": null,
            "min_height": null,
            "padding": null,
            "grid_auto_rows": null,
            "grid_gap": null,
            "max_width": null,
            "order": null,
            "_view_module_version": "1.2.0",
            "grid_template_areas": null,
            "object_position": null,
            "object_fit": null,
            "grid_auto_columns": null,
            "margin": null,
            "display": null,
            "left": null
          }
        },
        "93fa8d282fdc4e3da67a7de79aff14cd": {
          "model_module": "@jupyter-widgets/controls",
          "model_name": "FloatProgressModel",
          "state": {
            "_view_name": "ProgressView",
            "style": "IPY_MODEL_2f1753060ca14a5280a053a40e19f315",
            "_dom_classes": [],
            "description": "  0%",
            "_model_name": "FloatProgressModel",
            "bar_style": "danger",
            "max": 42980,
            "_view_module": "@jupyter-widgets/controls",
            "_model_module_version": "1.5.0",
            "value": 0,
            "_view_count": null,
            "_view_module_version": "1.5.0",
            "orientation": "horizontal",
            "min": 0,
            "description_tooltip": null,
            "_model_module": "@jupyter-widgets/controls",
            "layout": "IPY_MODEL_78ff2626182c4a5eb22dd2db7b51274e"
          }
        },
        "f5dc541d89d6460d946bff6b9fbcce0c": {
          "model_module": "@jupyter-widgets/controls",
          "model_name": "HTMLModel",
          "state": {
            "_view_name": "HTMLView",
            "style": "IPY_MODEL_6f568c13fc9c419caea5e19ec4faee9b",
            "_dom_classes": [],
            "description": "",
            "_model_name": "HTMLModel",
            "placeholder": "​",
            "_view_module": "@jupyter-widgets/controls",
            "_model_module_version": "1.5.0",
            "value": " 0/42980 [00:01&lt;?, ?it/s]",
            "_view_count": null,
            "_view_module_version": "1.5.0",
            "description_tooltip": null,
            "_model_module": "@jupyter-widgets/controls",
            "layout": "IPY_MODEL_0ba909c1fe084175a0c36eacca6b3ddf"
          }
        },
        "2f1753060ca14a5280a053a40e19f315": {
          "model_module": "@jupyter-widgets/controls",
          "model_name": "ProgressStyleModel",
          "state": {
            "_view_name": "StyleView",
            "_model_name": "ProgressStyleModel",
            "description_width": "initial",
            "_view_module": "@jupyter-widgets/base",
            "_model_module_version": "1.5.0",
            "_view_count": null,
            "_view_module_version": "1.2.0",
            "bar_color": null,
            "_model_module": "@jupyter-widgets/controls"
          }
        },
        "78ff2626182c4a5eb22dd2db7b51274e": {
          "model_module": "@jupyter-widgets/base",
          "model_name": "LayoutModel",
          "state": {
            "_view_name": "LayoutView",
            "grid_template_rows": null,
            "right": null,
            "justify_content": null,
            "_view_module": "@jupyter-widgets/base",
            "overflow": null,
            "_model_module_version": "1.2.0",
            "_view_count": null,
            "flex_flow": null,
            "width": null,
            "min_width": null,
            "border": null,
            "align_items": null,
            "bottom": null,
            "_model_module": "@jupyter-widgets/base",
            "top": null,
            "grid_column": null,
            "overflow_y": null,
            "overflow_x": null,
            "grid_auto_flow": null,
            "grid_area": null,
            "grid_template_columns": null,
            "flex": null,
            "_model_name": "LayoutModel",
            "justify_items": null,
            "grid_row": null,
            "max_height": null,
            "align_content": null,
            "visibility": null,
            "align_self": null,
            "height": null,
            "min_height": null,
            "padding": null,
            "grid_auto_rows": null,
            "grid_gap": null,
            "max_width": null,
            "order": null,
            "_view_module_version": "1.2.0",
            "grid_template_areas": null,
            "object_position": null,
            "object_fit": null,
            "grid_auto_columns": null,
            "margin": null,
            "display": null,
            "left": null
          }
        },
        "6f568c13fc9c419caea5e19ec4faee9b": {
          "model_module": "@jupyter-widgets/controls",
          "model_name": "DescriptionStyleModel",
          "state": {
            "_view_name": "StyleView",
            "_model_name": "DescriptionStyleModel",
            "description_width": "",
            "_view_module": "@jupyter-widgets/base",
            "_model_module_version": "1.5.0",
            "_view_count": null,
            "_view_module_version": "1.2.0",
            "_model_module": "@jupyter-widgets/controls"
          }
        },
        "0ba909c1fe084175a0c36eacca6b3ddf": {
          "model_module": "@jupyter-widgets/base",
          "model_name": "LayoutModel",
          "state": {
            "_view_name": "LayoutView",
            "grid_template_rows": null,
            "right": null,
            "justify_content": null,
            "_view_module": "@jupyter-widgets/base",
            "overflow": null,
            "_model_module_version": "1.2.0",
            "_view_count": null,
            "flex_flow": null,
            "width": null,
            "min_width": null,
            "border": null,
            "align_items": null,
            "bottom": null,
            "_model_module": "@jupyter-widgets/base",
            "top": null,
            "grid_column": null,
            "overflow_y": null,
            "overflow_x": null,
            "grid_auto_flow": null,
            "grid_area": null,
            "grid_template_columns": null,
            "flex": null,
            "_model_name": "LayoutModel",
            "justify_items": null,
            "grid_row": null,
            "max_height": null,
            "align_content": null,
            "visibility": null,
            "align_self": null,
            "height": null,
            "min_height": null,
            "padding": null,
            "grid_auto_rows": null,
            "grid_gap": null,
            "max_width": null,
            "order": null,
            "_view_module_version": "1.2.0",
            "grid_template_areas": null,
            "object_position": null,
            "object_fit": null,
            "grid_auto_columns": null,
            "margin": null,
            "display": null,
            "left": null
          }
        },
        "d63bc4b909d34834819c692320f0c1db": {
          "model_module": "@jupyter-widgets/controls",
          "model_name": "HBoxModel",
          "state": {
            "_view_name": "HBoxView",
            "_dom_classes": [],
            "_model_name": "HBoxModel",
            "_view_module": "@jupyter-widgets/controls",
            "_model_module_version": "1.5.0",
            "_view_count": null,
            "_view_module_version": "1.5.0",
            "box_style": "",
            "layout": "IPY_MODEL_21e92fb255cf4790acfa29d972070a1b",
            "_model_module": "@jupyter-widgets/controls",
            "children": [
              "IPY_MODEL_033d1d246cc64fa9937adb6c56ead87a",
              "IPY_MODEL_bec261d2ef1e495d9ec9af01cb8bcda0"
            ]
          }
        },
        "21e92fb255cf4790acfa29d972070a1b": {
          "model_module": "@jupyter-widgets/base",
          "model_name": "LayoutModel",
          "state": {
            "_view_name": "LayoutView",
            "grid_template_rows": null,
            "right": null,
            "justify_content": null,
            "_view_module": "@jupyter-widgets/base",
            "overflow": null,
            "_model_module_version": "1.2.0",
            "_view_count": null,
            "flex_flow": null,
            "width": null,
            "min_width": null,
            "border": null,
            "align_items": null,
            "bottom": null,
            "_model_module": "@jupyter-widgets/base",
            "top": null,
            "grid_column": null,
            "overflow_y": null,
            "overflow_x": null,
            "grid_auto_flow": null,
            "grid_area": null,
            "grid_template_columns": null,
            "flex": null,
            "_model_name": "LayoutModel",
            "justify_items": null,
            "grid_row": null,
            "max_height": null,
            "align_content": null,
            "visibility": null,
            "align_self": null,
            "height": null,
            "min_height": null,
            "padding": null,
            "grid_auto_rows": null,
            "grid_gap": null,
            "max_width": null,
            "order": null,
            "_view_module_version": "1.2.0",
            "grid_template_areas": null,
            "object_position": null,
            "object_fit": null,
            "grid_auto_columns": null,
            "margin": null,
            "display": null,
            "left": null
          }
        },
        "033d1d246cc64fa9937adb6c56ead87a": {
          "model_module": "@jupyter-widgets/controls",
          "model_name": "FloatProgressModel",
          "state": {
            "_view_name": "ProgressView",
            "style": "IPY_MODEL_6fd40f5a509e44529134868cd509ad84",
            "_dom_classes": [],
            "description": "  0%",
            "_model_name": "FloatProgressModel",
            "bar_style": "danger",
            "max": 42980,
            "_view_module": "@jupyter-widgets/controls",
            "_model_module_version": "1.5.0",
            "value": 48,
            "_view_count": null,
            "_view_module_version": "1.5.0",
            "orientation": "horizontal",
            "min": 0,
            "description_tooltip": null,
            "_model_module": "@jupyter-widgets/controls",
            "layout": "IPY_MODEL_a02d46d1b7474fa5adf9f3585c525305"
          }
        },
        "bec261d2ef1e495d9ec9af01cb8bcda0": {
          "model_module": "@jupyter-widgets/controls",
          "model_name": "HTMLModel",
          "state": {
            "_view_name": "HTMLView",
            "style": "IPY_MODEL_a1829deb64c24b408f7a3ce13b4143fa",
            "_dom_classes": [],
            "description": "",
            "_model_name": "HTMLModel",
            "placeholder": "​",
            "_view_module": "@jupyter-widgets/controls",
            "_model_module_version": "1.5.0",
            "value": " 48/42980 [00:37&lt;8:48:27,  1.35it/s]",
            "_view_count": null,
            "_view_module_version": "1.5.0",
            "description_tooltip": null,
            "_model_module": "@jupyter-widgets/controls",
            "layout": "IPY_MODEL_38a99a01aa364b58b549e981848ea24e"
          }
        },
        "6fd40f5a509e44529134868cd509ad84": {
          "model_module": "@jupyter-widgets/controls",
          "model_name": "ProgressStyleModel",
          "state": {
            "_view_name": "StyleView",
            "_model_name": "ProgressStyleModel",
            "description_width": "initial",
            "_view_module": "@jupyter-widgets/base",
            "_model_module_version": "1.5.0",
            "_view_count": null,
            "_view_module_version": "1.2.0",
            "bar_color": null,
            "_model_module": "@jupyter-widgets/controls"
          }
        },
        "a02d46d1b7474fa5adf9f3585c525305": {
          "model_module": "@jupyter-widgets/base",
          "model_name": "LayoutModel",
          "state": {
            "_view_name": "LayoutView",
            "grid_template_rows": null,
            "right": null,
            "justify_content": null,
            "_view_module": "@jupyter-widgets/base",
            "overflow": null,
            "_model_module_version": "1.2.0",
            "_view_count": null,
            "flex_flow": null,
            "width": null,
            "min_width": null,
            "border": null,
            "align_items": null,
            "bottom": null,
            "_model_module": "@jupyter-widgets/base",
            "top": null,
            "grid_column": null,
            "overflow_y": null,
            "overflow_x": null,
            "grid_auto_flow": null,
            "grid_area": null,
            "grid_template_columns": null,
            "flex": null,
            "_model_name": "LayoutModel",
            "justify_items": null,
            "grid_row": null,
            "max_height": null,
            "align_content": null,
            "visibility": null,
            "align_self": null,
            "height": null,
            "min_height": null,
            "padding": null,
            "grid_auto_rows": null,
            "grid_gap": null,
            "max_width": null,
            "order": null,
            "_view_module_version": "1.2.0",
            "grid_template_areas": null,
            "object_position": null,
            "object_fit": null,
            "grid_auto_columns": null,
            "margin": null,
            "display": null,
            "left": null
          }
        },
        "a1829deb64c24b408f7a3ce13b4143fa": {
          "model_module": "@jupyter-widgets/controls",
          "model_name": "DescriptionStyleModel",
          "state": {
            "_view_name": "StyleView",
            "_model_name": "DescriptionStyleModel",
            "description_width": "",
            "_view_module": "@jupyter-widgets/base",
            "_model_module_version": "1.5.0",
            "_view_count": null,
            "_view_module_version": "1.2.0",
            "_model_module": "@jupyter-widgets/controls"
          }
        },
        "38a99a01aa364b58b549e981848ea24e": {
          "model_module": "@jupyter-widgets/base",
          "model_name": "LayoutModel",
          "state": {
            "_view_name": "LayoutView",
            "grid_template_rows": null,
            "right": null,
            "justify_content": null,
            "_view_module": "@jupyter-widgets/base",
            "overflow": null,
            "_model_module_version": "1.2.0",
            "_view_count": null,
            "flex_flow": null,
            "width": null,
            "min_width": null,
            "border": null,
            "align_items": null,
            "bottom": null,
            "_model_module": "@jupyter-widgets/base",
            "top": null,
            "grid_column": null,
            "overflow_y": null,
            "overflow_x": null,
            "grid_auto_flow": null,
            "grid_area": null,
            "grid_template_columns": null,
            "flex": null,
            "_model_name": "LayoutModel",
            "justify_items": null,
            "grid_row": null,
            "max_height": null,
            "align_content": null,
            "visibility": null,
            "align_self": null,
            "height": null,
            "min_height": null,
            "padding": null,
            "grid_auto_rows": null,
            "grid_gap": null,
            "max_width": null,
            "order": null,
            "_view_module_version": "1.2.0",
            "grid_template_areas": null,
            "object_position": null,
            "object_fit": null,
            "grid_auto_columns": null,
            "margin": null,
            "display": null,
            "left": null
          }
        }
      }
    }
  },
  "cells": [
    {
      "cell_type": "markdown",
      "metadata": {
        "id": "view-in-github",
        "colab_type": "text"
      },
      "source": [
        "<a href=\"https://colab.research.google.com/github/marie-ganon/Projet-Python-S1/blob/main/Scraping_nettoyage.ipynb\" target=\"_parent\"><img src=\"https://colab.research.google.com/assets/colab-badge.svg\" alt=\"Open In Colab\"/></a>"
      ]
    },
    {
      "cell_type": "markdown",
      "metadata": {
        "id": "eTDyiiurXxCi"
      },
      "source": [
        "Chargement des packages utiles"
      ]
    },
    {
      "cell_type": "code",
      "metadata": {
        "id": "Bx_pQrTRXxCi"
      },
      "source": [
        "import numpy as np\n",
        "import pandas as pd\n",
        "import matplotlib.pyplot as plt\n",
        "import plotly.express as px\n",
        "from urllib import request\n",
        "from wordcloud import WordCloud, STOPWORDS \n",
        "import csv\n",
        "import bs4\n",
        "from tqdm.notebook import trange, tqdm\n",
        "import seaborn as sns\n",
        "import numpy as np"
      ],
      "execution_count": 1,
      "outputs": []
    },
    {
      "cell_type": "markdown",
      "metadata": {
        "id": "g3m8HQ_BXxCi"
      },
      "source": [
        "## Aperçu de la base initiale\n",
        "\n",
        "La base que nous avons décidé de choisir pour mener à bien notre projet est un ensemble de données collecté par TMDB (The Movie Database, une API), ainsi que GroupLens, un laboratoire de recherche de l'université du Minnesota.\n",
        "\n",
        "Le dataset est disponible à l'adresse suivante : https://www.kaggle.com/rounakbanik/the-movies-dataset.\n",
        "\n",
        "Ces données regroupent plus de 45 000 films et donnent de nombreuses caractéristiques, tels que le genre, le budget et le revenu généré par le film. Une partie de la base a été prénettoyée sur Excel et avec des méthodes Python simples. "
      ]
    },
    {
      "cell_type": "code",
      "metadata": {
        "id": "0r2egIGRXxCi"
      },
      "source": [
        "# On crée un dossier temporaire pour dézipper le csv\n",
        "import tempfile\n",
        "\n",
        "temp_dir = tempfile.mkdtemp()\n"
      ],
      "execution_count": 2,
      "outputs": []
    },
    {
      "cell_type": "code",
      "metadata": {
        "id": "JnCWwg9OXxCi"
      },
      "source": [
        "# Pour dezipper le csv disponible dans le git (movies metadata)\n",
        "\n",
        "import zipfile\n",
        "\n",
        "with zipfile.ZipFile('/movies_metadata.csv.zip', 'r') as zip_ref:\n",
        "    zip_ref.extractall('temp_dir')\n",
        "    "
      ],
      "execution_count": 399,
      "outputs": []
    },
    {
      "cell_type": "code",
      "metadata": {
        "colab": {
          "base_uri": "https://localhost:8080/"
        },
        "id": "CRJGFRnKZLhN",
        "outputId": "2a79f8eb-8e5e-4b63-ca0e-34cff9d7279d"
      },
      "source": [
        "from google.colab import drive\n",
        "drive.mount('/content/drive')"
      ],
      "execution_count": 400,
      "outputs": [
        {
          "output_type": "stream",
          "text": [
            "Drive already mounted at /content/drive; to attempt to forcibly remount, call drive.mount(\"/content/drive\", force_remount=True).\n"
          ],
          "name": "stdout"
        }
      ]
    },
    {
      "cell_type": "code",
      "metadata": {
        "id": "jfVvpSAEXxCi"
      },
      "source": [
        "df = pd.read_csv(r'temp_dir/movies_metadata.csv', sep=',', low_memory = False)"
      ],
      "execution_count": 75,
      "outputs": []
    },
    {
      "cell_type": "markdown",
      "metadata": {
        "id": "XizICr_WXxCi"
      },
      "source": [
        "# Nettoyage sur la base\n",
        "\n",
        "On regarde : \n",
        "- quelles colonnes sont les mieux renseignées\n",
        "- quelles colonnes il faut supprimer\n",
        "- si les types de chaque variable est cohérent\n",
        "\n",
        "#### Sommaire \n",
        "1. Nettoyage des colonnes\n",
        "2. Nettoyage sur les lignes\n",
        "3. Nettoyage variable par variable\n",
        "    - *popularity*\n",
        "    - *vote_average* et *vote_count*\n",
        "    - *production_companies* et *production_countries*"
      ]
    },
    {
      "cell_type": "markdown",
      "metadata": {
        "id": "YCU0jmF7XxCi"
      },
      "source": [
        "## Nettoyage des colonnes"
      ]
    },
    {
      "cell_type": "code",
      "metadata": {
        "id": "tBgnnceoXxCj",
        "colab": {
          "base_uri": "https://localhost:8080/",
          "height": 452
        },
        "outputId": "0a572f8a-aa6b-4d08-e1de-78c52936c85e"
      },
      "source": [
        "fig, ax = plt.subplots(figsize=(12,6))\n",
        "sns.heatmap(df.isnull(), cbar=False)\n",
        "plt.title('Complétude de la base, en blanc les valeurs manquantes')\n",
        "print(\"Complétude totale en pourcentage de la base :\", (1-df.isnull().sum().sum()/(len(df.id)*len(df.columns)))*100,'%')"
      ],
      "execution_count": 76,
      "outputs": [
        {
          "output_type": "stream",
          "text": [
            "Complétude totale en pourcentage de la base : 90.32592120119062 %\n"
          ],
          "name": "stdout"
        },
        {
          "output_type": "display_data",
          "data": {
            "image/png": "[encoded data removed]",
            "text/plain": [
              "<Figure size 864x432 with 1 Axes>"
            ]
          },
          "metadata": {
            "tags": [],
            "needs_background": "light"
          }
        }
      ]
    },
    {
      "cell_type": "code",
      "metadata": {
        "id": "eRqokJ3mXxCj",
        "colab": {
          "base_uri": "https://localhost:8080/"
        },
        "outputId": "9dd5857c-5f64-4528-d322-383b8f3c016c"
      },
      "source": [
        "df.info()"
      ],
      "execution_count": 77,
      "outputs": [
        {
          "output_type": "stream",
          "text": [
            "<class 'pandas.core.frame.DataFrame'>\n",
            "RangeIndex: 45466 entries, 0 to 45465\n",
            "Data columns (total 24 columns):\n",
            " #   Column                 Non-Null Count  Dtype  \n",
            "---  ------                 --------------  -----  \n",
            " 0   adult                  45466 non-null  object \n",
            " 1   belongs_to_collection  4494 non-null   object \n",
            " 2   budget                 45466 non-null  object \n",
            " 3   genres                 45466 non-null  object \n",
            " 4   homepage               7782 non-null   object \n",
            " 5   id                     45466 non-null  object \n",
            " 6   imdb_id                45449 non-null  object \n",
            " 7   original_language      45455 non-null  object \n",
            " 8   original_title         45466 non-null  object \n",
            " 9   overview               44512 non-null  object \n",
            " 10  popularity             45461 non-null  object \n",
            " 11  poster_path            45080 non-null  object \n",
            " 12  production_companies   45463 non-null  object \n",
            " 13  production_countries   45463 non-null  object \n",
            " 14  release_date           45379 non-null  object \n",
            " 15  revenue                45460 non-null  float64\n",
            " 16  runtime                45203 non-null  float64\n",
            " 17  spoken_languages       45460 non-null  object \n",
            " 18  status                 45379 non-null  object \n",
            " 19  tagline                20412 non-null  object \n",
            " 20  title                  45460 non-null  object \n",
            " 21  video                  45460 non-null  object \n",
            " 22  vote_average           45460 non-null  float64\n",
            " 23  vote_count             45460 non-null  float64\n",
            "dtypes: float64(4), object(20)\n",
            "memory usage: 8.3+ MB\n"
          ],
          "name": "stdout"
        }
      ]
    },
    {
      "cell_type": "markdown",
      "metadata": {
        "id": "dCr45glQ83xK"
      },
      "source": [
        "En explorant les premières colonnes de la base et le site The Movie DataBase, on comprend mieux le sens des colonnes :\n",
        "\n",
        "- *adult* : Booléen qui indique si oui ou non le film est un film pour adultes\n",
        "- *belongs_to_collection*\n",
        "- *budget* : budget de production du film\n",
        "- *genres* : Genre cinématographique du film\n",
        "- *homepage* : Lien menant à la page d'accueil du film si elle existe\n",
        "- *id* : Identifiant du film sur le site The Movie DataBase\n",
        "- *imdb_id* : Identifiant du film sur le site Internet Movie DataBase\n",
        "- *original_language* : Langue dans laquelle le film a été tourné\n",
        "-\t*original_title* : Titre originel du film\n",
        "- *overview* : Synopsis du film\n",
        "-\t*popularity* : Indicateur de la popularité du film\n",
        "- *poster_path* : Chemin d'accès à l'affiche du film présentée sur la version anglophone de TMDB (si elle existe)\n",
        "- *production_companies* : Compagnie qui a produit le film\n",
        "-\t*production_countries* : Pays dans lequel le film a été produit\n",
        "- *release_date* : Date de première sortie du film, donnée sur TMDB\n",
        "- *revenue*\t: Revenus générés par le film selon TMDB\n",
        "- *runtime*\t: Durée du film\n",
        "- *spoken_languages* : Langues parlées dans la versionn originale du film\n",
        "- *status* : Indique si le film est sorti ou non\n",
        "- *tagline* : slogan/phrase d'accroche du film sur la page anglophone de TMDB (si elle existe)\n",
        "-\t*title*\t: Titre du film en anglais\n",
        "- *video*\t: Booléen\n",
        "- *vote_average* : Moyenne des votes (à l'époque où la base a été constituée) sur TMDB\n",
        "-\t*vote_count* : Nombre de votes (à l'époque où la base a été constituée) sur TMDB\n"
      ]
    },
    {
      "cell_type": "markdown",
      "metadata": {
        "id": "5Q6cTkqpXxCj"
      },
      "source": [
        "Notre base de données est très volumineuse. Or toutes les colonnes ne nous seront pas utiles pour notre analyse. Par conséquent, pour une question de mémoire nous avons décidé de les supprimer. \n",
        "\n",
        "En particulier, les informations données dans la colonne *spoken_languages* étant peu claires, nous préférons enlever cette colonne de notre dataset.\n",
        "Les informations *taglines*, *homepage* et *belongs_to_collection* ne sont pas très bien renseignées ni forcément pertinentes, on va donc les dropper de même. En revanche, avant de dropper *belongs_to_collection*, on va créer une variable binaire renseignant si oui ou non un film appartient à une collection (c'est-à-dire correspond à un volet de plusieurs films) puisqu'il s'agit d'une information pouvant avoir une importance significative sur le succès du film. \n",
        "\n",
        "Tous les types sont des *object* à l'exception des variables *revenue*, *runtime*, *vote_average*, et *vote_count*. On s'attend toutefois à avoir pour *popularity* qui est un score de popularité ainsi que pour *budget* des formats *float64* ou *int*. Il faudra se pencher sur ces variables. "
      ]
    },
    {
      "cell_type": "code",
      "metadata": {
        "scrolled": false,
        "id": "XWBqmytCXxCj",
        "colab": {
          "base_uri": "https://localhost:8080/"
        },
        "outputId": "55a462b3-0d3c-4474-f5c4-1d532cf4ba22"
      },
      "source": [
        "df.belongs_to_collection"
      ],
      "execution_count": 78,
      "outputs": [
        {
          "output_type": "execute_result",
          "data": {
            "text/plain": [
              "0        {'id': 10194, 'name': 'Toy Story Collection', ...\n",
              "1                                                      NaN\n",
              "2        {'id': 119050, 'name': 'Grumpy Old Men Collect...\n",
              "3                                                      NaN\n",
              "4        {'id': 96871, 'name': 'Father of the Bride Col...\n",
              "                               ...                        \n",
              "45461                                                  NaN\n",
              "45462                                                  NaN\n",
              "45463                                                  NaN\n",
              "45464                                                  NaN\n",
              "45465                                                  NaN\n",
              "Name: belongs_to_collection, Length: 45466, dtype: object"
            ]
          },
          "metadata": {
            "tags": []
          },
          "execution_count": 78
        }
      ]
    },
    {
      "cell_type": "code",
      "metadata": {
        "id": "dP9-dQfUXxCk"
      },
      "source": [
        "df.belongs_to_collection = df.belongs_to_collection.fillna(0)"
      ],
      "execution_count": 79,
      "outputs": []
    },
    {
      "cell_type": "markdown",
      "metadata": {
        "id": "quS7LDcxXxCk"
      },
      "source": [
        "*collection* prend la valeur 1 si le film appartient à une collection, 0 sinon. "
      ]
    },
    {
      "cell_type": "code",
      "metadata": {
        "id": "f6uKVWZ7XxCl"
      },
      "source": [
        "df['collection']= np.where(df['belongs_to_collection']!= 0, 1, 0)"
      ],
      "execution_count": 80,
      "outputs": []
    },
    {
      "cell_type": "code",
      "metadata": {
        "id": "xl0BIQoPXxCl",
        "colab": {
          "base_uri": "https://localhost:8080/"
        },
        "outputId": "1f353b1f-a99f-4c60-d406-0231366c1ae7"
      },
      "source": [
        "df.collection.head()"
      ],
      "execution_count": 81,
      "outputs": [
        {
          "output_type": "execute_result",
          "data": {
            "text/plain": [
              "0    1\n",
              "1    0\n",
              "2    1\n",
              "3    0\n",
              "4    1\n",
              "Name: collection, dtype: int64"
            ]
          },
          "metadata": {
            "tags": []
          },
          "execution_count": 81
        }
      ]
    },
    {
      "cell_type": "code",
      "metadata": {
        "id": "sYklWCLbXxCl"
      },
      "source": [
        "df = df.drop(columns ='spoken_languages')\n",
        "df = df.drop(columns ='tagline')\n",
        "df = df.drop(columns ='homepage')\n",
        "df = df.drop(columns ='belongs_to_collection')"
      ],
      "execution_count": 82,
      "outputs": []
    },
    {
      "cell_type": "code",
      "metadata": {
        "scrolled": true,
        "id": "ljFbQxizXxCl",
        "colab": {
          "base_uri": "https://localhost:8080/"
        },
        "outputId": "c681ee5b-d541-4274-a6f5-1c13d369c3e6"
      },
      "source": [
        "df.columns"
      ],
      "execution_count": 83,
      "outputs": [
        {
          "output_type": "execute_result",
          "data": {
            "text/plain": [
              "Index(['adult', 'budget', 'genres', 'id', 'imdb_id', 'original_language',\n",
              "       'original_title', 'overview', 'popularity', 'poster_path',\n",
              "       'production_companies', 'production_countries', 'release_date',\n",
              "       'revenue', 'runtime', 'status', 'title', 'video', 'vote_average',\n",
              "       'vote_count', 'collection'],\n",
              "      dtype='object')"
            ]
          },
          "metadata": {
            "tags": []
          },
          "execution_count": 83
        }
      ]
    },
    {
      "cell_type": "markdown",
      "metadata": {
        "id": "24Jw89AAXxCl"
      },
      "source": [
        "On va s'intéresser rapidement aux types de chaque variable et en tirer leur pertinence ou non pour notre étude. "
      ]
    },
    {
      "cell_type": "code",
      "metadata": {
        "scrolled": true,
        "id": "mx0BjAsOXxCl",
        "colab": {
          "base_uri": "https://localhost:8080/"
        },
        "outputId": "1fa92a29-0aac-49a0-8233-a06b60253127"
      },
      "source": [
        "pd.unique(df.adult)"
      ],
      "execution_count": 84,
      "outputs": [
        {
          "output_type": "execute_result",
          "data": {
            "text/plain": [
              "array(['False', 'True', ' - Written by Ørnås',\n",
              "       ' Rune Balot goes to a casino connected to the October corporation to try to wrap up her case once and for all.',\n",
              "       ' Avalanche Sharks tells the story of a bikini contest that turns into a horrifying affair when it is hit by a shark avalanche.'],\n",
              "      dtype=object)"
            ]
          },
          "metadata": {
            "tags": []
          },
          "execution_count": 84
        }
      ]
    },
    {
      "cell_type": "markdown",
      "metadata": {
        "id": "euW-29qqXxCl"
      },
      "source": [
        "Vraisemblablement, *adult* est une variable binaire prenant la valeur *True* lorsqu'un film est un film pour adulte, *False* lorsque c'est un film tout public. On remarque qu'il y a des erreurs de collecte lors du scrapping mais cette variable n'étant pas très intéressante pour nous, nous allons la dropper. "
      ]
    },
    {
      "cell_type": "code",
      "metadata": {
        "id": "UELtcrhZXxCm",
        "colab": {
          "base_uri": "https://localhost:8080/",
          "height": 185
        },
        "outputId": "c0bb3903-beb2-4075-ce69-813af01325ac"
      },
      "source": [
        "df.head(1)"
      ],
      "execution_count": 85,
      "outputs": [
        {
          "output_type": "execute_result",
          "data": {
            "text/html": [
              "<div>\n",
              "<style scoped>\n",
              "    .dataframe tbody tr th:only-of-type {\n",
              "        vertical-align: middle;\n",
              "    }\n",
              "\n",
              "    .dataframe tbody tr th {\n",
              "        vertical-align: top;\n",
              "    }\n",
              "\n",
              "    .dataframe thead th {\n",
              "        text-align: right;\n",
              "    }\n",
              "</style>\n",
              "<table border=\"1\" class=\"dataframe\">\n",
              "  <thead>\n",
              "    <tr style=\"text-align: right;\">\n",
              "      <th></th>\n",
              "      <th>adult</th>\n",
              "      <th>budget</th>\n",
              "      <th>genres</th>\n",
              "      <th>id</th>\n",
              "      <th>imdb_id</th>\n",
              "      <th>original_language</th>\n",
              "      <th>original_title</th>\n",
              "      <th>overview</th>\n",
              "      <th>popularity</th>\n",
              "      <th>poster_path</th>\n",
              "      <th>production_companies</th>\n",
              "      <th>production_countries</th>\n",
              "      <th>release_date</th>\n",
              "      <th>revenue</th>\n",
              "      <th>runtime</th>\n",
              "      <th>status</th>\n",
              "      <th>title</th>\n",
              "      <th>video</th>\n",
              "      <th>vote_average</th>\n",
              "      <th>vote_count</th>\n",
              "      <th>collection</th>\n",
              "    </tr>\n",
              "  </thead>\n",
              "  <tbody>\n",
              "    <tr>\n",
              "      <th>0</th>\n",
              "      <td>False</td>\n",
              "      <td>30000000</td>\n",
              "      <td>[{'id': 16, 'name': 'Animation'}, {'id': 35, '...</td>\n",
              "      <td>862</td>\n",
              "      <td>tt0114709</td>\n",
              "      <td>en</td>\n",
              "      <td>Toy Story</td>\n",
              "      <td>Led by Woody, Andy's toys live happily in his ...</td>\n",
              "      <td>21.946943</td>\n",
              "      <td>/rhIRbceoE9lR4veEXuwCC2wARtG.jpg</td>\n",
              "      <td>[{'name': 'Pixar Animation Studios', 'id': 3}]</td>\n",
              "      <td>[{'iso_3166_1': 'US', 'name': 'United States o...</td>\n",
              "      <td>1995-10-30</td>\n",
              "      <td>373554033.0</td>\n",
              "      <td>81.0</td>\n",
              "      <td>Released</td>\n",
              "      <td>Toy Story</td>\n",
              "      <td>False</td>\n",
              "      <td>7.7</td>\n",
              "      <td>5415.0</td>\n",
              "      <td>1</td>\n",
              "    </tr>\n",
              "  </tbody>\n",
              "</table>\n",
              "</div>"
            ],
            "text/plain": [
              "   adult    budget  ... vote_count collection\n",
              "0  False  30000000  ...     5415.0          1\n",
              "\n",
              "[1 rows x 21 columns]"
            ]
          },
          "metadata": {
            "tags": []
          },
          "execution_count": 85
        }
      ]
    },
    {
      "cell_type": "code",
      "metadata": {
        "id": "UnCmFAtHXxCp",
        "colab": {
          "base_uri": "https://localhost:8080/"
        },
        "outputId": "b844c2c4-6793-4b56-ebea-f66452a8c6b8"
      },
      "source": [
        "print('Modalités status :', pd.unique(df.status))\n",
        "print('Modalités video :', pd.unique(df.video))"
      ],
      "execution_count": 86,
      "outputs": [
        {
          "output_type": "stream",
          "text": [
            "Modalités status : ['Released' nan 'Rumored' 'Post Production' 'In Production' 'Planned'\n",
            " 'Canceled']\n",
            "Modalités video : [False True nan]\n"
          ],
          "name": "stdout"
        }
      ]
    },
    {
      "cell_type": "markdown",
      "metadata": {
        "id": "KvKqetXRXxCp"
      },
      "source": [
        "On n'utilisera pas les images à priori. On peut enlever *poster_path*. Les modalités de *video* ne sont pas très intéressantes non plus. "
      ]
    },
    {
      "cell_type": "code",
      "metadata": {
        "id": "g2_CtTxaXxCp"
      },
      "source": [
        "df = df.drop(columns ='video')\n",
        "df = df.drop(columns ='poster_path')\n",
        "df = df.drop(columns ='adult')"
      ],
      "execution_count": 87,
      "outputs": []
    },
    {
      "cell_type": "markdown",
      "metadata": {
        "id": "uPnIojotXxCp"
      },
      "source": [
        "## Nettoyage sur les lignes"
      ]
    },
    {
      "cell_type": "markdown",
      "metadata": {
        "id": "qOuHkalzXxCp"
      },
      "source": [
        "Nous n'avons pas vérifié encore la cohérence sur les lignes du dataset. Vérifions d'abord que le dataset ne contient que des *id* uniques. Sinon, on retire les informations en surplus. "
      ]
    },
    {
      "cell_type": "code",
      "metadata": {
        "scrolled": true,
        "id": "7anCYZ6rXxCp",
        "colab": {
          "base_uri": "https://localhost:8080/"
        },
        "outputId": "8770748e-a183-40fc-b92e-43a9da20a574"
      },
      "source": [
        "print(\"Doublons d'id : \" , len(df)-len(pd.unique(df.id)))\n",
        "print(\"Doublons d'id imdb : \" , len(df)-len(pd.unique(df.imdb_id)))\n",
        "df = df.drop_duplicates(subset=['id'])\n",
        "df = df.drop_duplicates(subset=['imdb_id'])"
      ],
      "execution_count": 88,
      "outputs": [
        {
          "output_type": "stream",
          "text": [
            "Doublons d'id :  30\n",
            "Doublons d'id imdb :  48\n"
          ],
          "name": "stdout"
        }
      ]
    },
    {
      "cell_type": "markdown",
      "metadata": {
        "id": "YuLWzu4J0W62"
      },
      "source": [
        "D'autre part, on peut enlever tous les 'id' ne correspondant pas à des valeurs convertibles en entier. "
      ]
    },
    {
      "cell_type": "code",
      "metadata": {
        "colab": {
          "base_uri": "https://localhost:8080/"
        },
        "id": "7nPJQvi80cC3",
        "outputId": "dac8b276-d5e1-4b41-8ad3-1e1b6521d617"
      },
      "source": [
        "df = df[df.id != '1997-08-20']\n",
        "df.id.astype('float')"
      ],
      "execution_count": 89,
      "outputs": [
        {
          "output_type": "execute_result",
          "data": {
            "text/plain": [
              "0           862.0\n",
              "1          8844.0\n",
              "2         15602.0\n",
              "3         31357.0\n",
              "4         11862.0\n",
              "           ...   \n",
              "45461    439050.0\n",
              "45462    111109.0\n",
              "45463     67758.0\n",
              "45464    227506.0\n",
              "45465    461257.0\n",
              "Name: id, Length: 45417, dtype: float64"
            ]
          },
          "metadata": {
            "tags": []
          },
          "execution_count": 89
        }
      ]
    },
    {
      "cell_type": "markdown",
      "metadata": {
        "id": "OeoMIDFSXxCp"
      },
      "source": [
        "## Nettoyage par variable"
      ]
    },
    {
      "cell_type": "markdown",
      "metadata": {
        "id": "Ydragb8gXxCq"
      },
      "source": [
        "### *Popularity*\n",
        "Sur *The Movie Database* un indicateur de popularité a été construit à la date *t* en prenant en compte les informations suivantes d'après la documentation :\n",
        "- Nombre de votes\n",
        "- Nombre de vues \n",
        "- Nombre de favoris \n",
        "- Nombre de gens ayant le film dans leur \"watchlist\"\n",
        "- Date de sortie\n",
        "- Nombre de votes totaux\n",
        "- Score des jours précédents\n",
        "\n",
        "Néanmoins, les détails de la métrique ne sont pas explicités. "
      ]
    },
    {
      "cell_type": "code",
      "metadata": {
        "id": "DVF-orFQXxCq",
        "colab": {
          "base_uri": "https://localhost:8080/"
        },
        "outputId": "47a33cfa-4b80-4685-d944-9bc719ed32c6"
      },
      "source": [
        "df.popularity = df.popularity.astype('float64')\n",
        "df.popularity.describe()"
      ],
      "execution_count": 90,
      "outputs": [
        {
          "output_type": "execute_result",
          "data": {
            "text/plain": [
              "count    45414.000000\n",
              "mean         2.921932\n",
              "std          6.007588\n",
              "min          0.000000\n",
              "25%          0.386107\n",
              "50%          1.127685\n",
              "75%          3.679143\n",
              "max        547.488298\n",
              "Name: popularity, dtype: float64"
            ]
          },
          "metadata": {
            "tags": []
          },
          "execution_count": 90
        }
      ]
    },
    {
      "cell_type": "code",
      "metadata": {
        "id": "i9sEEnjQXxCq",
        "colab": {
          "base_uri": "https://localhost:8080/"
        },
        "outputId": "49b11b14-60f8-4855-dc8a-e711e9a467e4"
      },
      "source": [
        "df.popularity.describe()"
      ],
      "execution_count": 91,
      "outputs": [
        {
          "output_type": "execute_result",
          "data": {
            "text/plain": [
              "count    45414.000000\n",
              "mean         2.921932\n",
              "std          6.007588\n",
              "min          0.000000\n",
              "25%          0.386107\n",
              "50%          1.127685\n",
              "75%          3.679143\n",
              "max        547.488298\n",
              "Name: popularity, dtype: float64"
            ]
          },
          "metadata": {
            "tags": []
          },
          "execution_count": 91
        }
      ]
    },
    {
      "cell_type": "markdown",
      "metadata": {
        "id": "GYEZjdZZXxCq"
      },
      "source": [
        "Observons les 20 meilleurs films par popularité : "
      ]
    },
    {
      "cell_type": "code",
      "metadata": {
        "scrolled": true,
        "id": "LjjbmhepXxCq",
        "colab": {
          "base_uri": "https://localhost:8080/"
        },
        "outputId": "d5c0b3fb-d4cf-4172-84da-712f96f64d6e"
      },
      "source": [
        "df.sort_values(by='popularity', ascending=False)['original_title'].head(20)"
      ],
      "execution_count": 92,
      "outputs": [
        {
          "output_type": "execute_result",
          "data": {
            "text/plain": [
              "30700                                             Minions\n",
              "33356                                        Wonder Woman\n",
              "42222                                Beauty and the Beast\n",
              "43644                                         Baby Driver\n",
              "24455                                          Big Hero 6\n",
              "26564                                            Deadpool\n",
              "26566                      Guardians of the Galaxy Vol. 2\n",
              "14551                                              Avatar\n",
              "24351                                           John Wick\n",
              "23675                                           Gone Girl\n",
              "24873               The Hunger Games: Mockingjay - Part 1\n",
              "44274                      War for the Planet of the Apes\n",
              "26567                          Captain America: Civil War\n",
              "292                                          Pulp Fiction\n",
              "26560    Pirates of the Caribbean: Dead Men Tell No Tales\n",
              "12481                                     The Dark Knight\n",
              "536                                          Blade Runner\n",
              "17818                                        The Avengers\n",
              "43286            Captain Underpants: The First Epic Movie\n",
              "33361                                          The Circle\n",
              "Name: original_title, dtype: object"
            ]
          },
          "metadata": {
            "tags": []
          },
          "execution_count": 92
        }
      ]
    },
    {
      "cell_type": "markdown",
      "metadata": {
        "id": "jWLngYl6XxCq"
      },
      "source": [
        "Cela paraît à peu près cohérent, il s'agit bien de films connus. "
      ]
    },
    {
      "cell_type": "code",
      "metadata": {
        "id": "bVRK2ffUXxCq",
        "colab": {
          "base_uri": "https://localhost:8080/",
          "height": 298
        },
        "outputId": "033249ca-9bd9-4074-ef25-b8bae35a6384"
      },
      "source": [
        "fig, ax = plt.subplots(figsize=(2,4))\n",
        "sns.heatmap(df[['popularity']].isnull(),cbar=False)\n",
        "plt.title('Complétude après nettoyage')\n",
        "print('Popularity est complet à ',(1-len(df.popularity[df.popularity.isnull()])/len(df.popularity))*100,'%')"
      ],
      "execution_count": 93,
      "outputs": [
        {
          "output_type": "stream",
          "text": [
            "Popularity est complet à  99.99339454389326 %\n"
          ],
          "name": "stdout"
        },
        {
          "output_type": "display_data",
          "data": {
            "image/png": "[encoded data removed]",
            "text/plain": [
              "<Figure size 144x288 with 1 Axes>"
            ]
          },
          "metadata": {
            "tags": [],
            "needs_background": "light"
          }
        }
      ]
    },
    {
      "cell_type": "markdown",
      "metadata": {
        "id": "Cl0ybX8tXxCq"
      },
      "source": [
        "### *vote_average* et *vote_count*\n",
        "*vote_average* : variable renseignée sur *TMDb*, elle donne la moyenne des votes sur tMDb sur 10. \n",
        "\n",
        "*vote_count* : variable de *TMDb* donnant le nombre de votant pour chaque film. "
      ]
    },
    {
      "cell_type": "code",
      "metadata": {
        "id": "mW1syqy0XxCq",
        "colab": {
          "base_uri": "https://localhost:8080/"
        },
        "outputId": "035bbbfb-c72c-4e61-b63c-79b27be082f7"
      },
      "source": [
        "print('statistiques: \\n ',df.vote_average.describe())\n",
        "\n",
        "print('nombre de nan: \\n', df.vote_average.isnull().sum())"
      ],
      "execution_count": 94,
      "outputs": [
        {
          "output_type": "stream",
          "text": [
            "statistiques: \n",
            "  count    45414.000000\n",
            "mean         5.618864\n",
            "std          1.923210\n",
            "min          0.000000\n",
            "25%          5.000000\n",
            "50%          6.000000\n",
            "75%          6.800000\n",
            "max         10.000000\n",
            "Name: vote_average, dtype: float64\n",
            "nombre de nan: \n",
            " 3\n"
          ],
          "name": "stdout"
        }
      ]
    },
    {
      "cell_type": "markdown",
      "metadata": {
        "id": "sAvnnRkMXxCr"
      },
      "source": [
        " Notons que le pic à 0 est dû à un certain nombre de films non notés. Il n'y a seulement 4 NaNs, par défaut, le site met une moyenne de votes nuls si le nombre de votant est nul. "
      ]
    },
    {
      "cell_type": "code",
      "metadata": {
        "id": "ZKdxh2MfXxCr",
        "colab": {
          "base_uri": "https://localhost:8080/",
          "height": 313
        },
        "outputId": "b7fd9b2b-82c4-4485-baa8-1525974c3690"
      },
      "source": [
        "df.groupby(df['vote_average']).imdb_id.count().plot()\n",
        "plt.title('Distribution des notes moyennes sur imdb')"
      ],
      "execution_count": 95,
      "outputs": [
        {
          "output_type": "execute_result",
          "data": {
            "text/plain": [
              "Text(0.5, 1.0, 'Distribution des notes moyennes sur imdb')"
            ]
          },
          "metadata": {
            "tags": []
          },
          "execution_count": 95
        },
        {
          "output_type": "display_data",
          "data": {
            "image/png": "[encoded data removed]",
            "text/plain": [
              "<Figure size 432x288 with 1 Axes>"
            ]
          },
          "metadata": {
            "tags": [],
            "needs_background": "light"
          }
        }
      ]
    },
    {
      "cell_type": "code",
      "metadata": {
        "id": "zH_T7UbOXxCr",
        "colab": {
          "base_uri": "https://localhost:8080/"
        },
        "outputId": "ddceb41e-cb2b-4ecd-ab25-76b996084a6b"
      },
      "source": [
        "df.sort_values(by='vote_average', ascending=False)['original_title'].head(20)"
      ],
      "execution_count": 96,
      "outputs": [
        {
          "output_type": "execute_result",
          "data": {
            "text/plain": [
              "44629                                 東京喰種 トーキョーグール\n",
              "37543    Portrait of a Young Man in Three Movements\n",
              "30143                            Im Alter von Ellen\n",
              "394                            Girl in the Cadillac\n",
              "27404          The Court-Martial of Jackie Robinson\n",
              "22255                               Cowboy del Amor\n",
              "39157                                 Truckfighters\n",
              "44550    Harold and Lillian: A Hollywood Love Story\n",
              "32797                      אני לא מאמין, אני רובוט!\n",
              "40269                                       Killjoy\n",
              "35461                       Tom Brown's School Days\n",
              "39344                           Survive and Advance\n",
              "32873                                    Redemption\n",
              "2114                              The Farmer's Wife\n",
              "39845                                       Bazodee\n",
              "37877                              Bowery Battalion\n",
              "1634                       Other Voices Other Rooms\n",
              "28152                                Goodbye & Amen\n",
              "36767                                     Parapalos\n",
              "32949                               Pourquoi Israël\n",
              "Name: original_title, dtype: object"
            ]
          },
          "metadata": {
            "tags": []
          },
          "execution_count": 96
        }
      ]
    },
    {
      "cell_type": "markdown",
      "metadata": {
        "id": "PEdNND3nXxCr"
      },
      "source": [
        "En se basant sur les moyennes des notes seules on observe sans surprise un résultat très différent pour la liste des 20 meilleurs films puisque ces moyennes ne prennent pas en compte le poids du nombre de votes. Dans la liste, il s'agit surtout de films inconnus du grand public. "
      ]
    },
    {
      "cell_type": "code",
      "metadata": {
        "scrolled": true,
        "id": "w3bXGvyJXxCr",
        "colab": {
          "base_uri": "https://localhost:8080/"
        },
        "outputId": "5be5b8fc-a361-4e80-dd55-4f4c8405ae61"
      },
      "source": [
        "print('statistiques: \\n',df.vote_count.describe())\n",
        "print('valeurs manquantes: \\n', df.vote_count.isnull().sum())"
      ],
      "execution_count": 97,
      "outputs": [
        {
          "output_type": "stream",
          "text": [
            "statistiques: \n",
            " count    45414.000000\n",
            "mean       109.971837\n",
            "std        491.549122\n",
            "min          0.000000\n",
            "25%          3.000000\n",
            "50%         10.000000\n",
            "75%         34.000000\n",
            "max      14075.000000\n",
            "Name: vote_count, dtype: float64\n",
            "valeurs manquantes: \n",
            " 3\n"
          ],
          "name": "stdout"
        }
      ]
    },
    {
      "cell_type": "markdown",
      "metadata": {
        "id": "vwP668CeXxCr"
      },
      "source": [
        "#### Quelques métriques supplémentaires \n",
        "On peut essayer d'établir une métrique permettant d'améliorer l'observation du succès d'un film basé sur sa note.\n",
        "\n",
        "    score_1 = vote_count × vote_average\n",
        "    score_2 = vote_count × vote_average²\n",
        "    score_3 = vote_count² × vote_average\n"
      ]
    },
    {
      "cell_type": "code",
      "metadata": {
        "id": "6fI8sHAvXxCr"
      },
      "source": [
        "df['score_1'] = df.vote_count.mul(df.vote_average)\n",
        "df['score_2'] = df.vote_count.mul(df.vote_average.pow(2))\n",
        "df['score_3'] = df.vote_count.pow(2).mul(df.vote_average)"
      ],
      "execution_count": 98,
      "outputs": []
    },
    {
      "cell_type": "code",
      "metadata": {
        "scrolled": true,
        "id": "wNiEm-r-XxCr",
        "colab": {
          "base_uri": "https://localhost:8080/",
          "height": 788
        },
        "outputId": "76c103f0-9f66-4781-9ff5-245cc86850f8"
      },
      "source": [
        "l_score1 = df.sort_values(by='score_1', ascending=False)['original_title'].head(20).tolist()\n",
        "l_score2 = df.sort_values(by='score_2', ascending=False)['original_title'].head(20).tolist()\n",
        "l_score3 = df.sort_values(by='score_3', ascending=False)['original_title'].head(20).tolist()\n",
        "\n",
        "pd.DataFrame({'score_1': l_score1 ,'score_2' : l_score2, 'score_3' : l_score3})"
      ],
      "execution_count": 99,
      "outputs": [
        {
          "output_type": "execute_result",
          "data": {
            "text/html": [
              "<div>\n",
              "<style scoped>\n",
              "    .dataframe tbody tr th:only-of-type {\n",
              "        vertical-align: middle;\n",
              "    }\n",
              "\n",
              "    .dataframe tbody tr th {\n",
              "        vertical-align: top;\n",
              "    }\n",
              "\n",
              "    .dataframe thead th {\n",
              "        text-align: right;\n",
              "    }\n",
              "</style>\n",
              "<table border=\"1\" class=\"dataframe\">\n",
              "  <thead>\n",
              "    <tr style=\"text-align: right;\">\n",
              "      <th></th>\n",
              "      <th>score_1</th>\n",
              "      <th>score_2</th>\n",
              "      <th>score_3</th>\n",
              "    </tr>\n",
              "  </thead>\n",
              "  <tbody>\n",
              "    <tr>\n",
              "      <th>0</th>\n",
              "      <td>Inception</td>\n",
              "      <td>Inception</td>\n",
              "      <td>Inception</td>\n",
              "    </tr>\n",
              "    <tr>\n",
              "      <th>1</th>\n",
              "      <td>The Dark Knight</td>\n",
              "      <td>The Dark Knight</td>\n",
              "      <td>The Dark Knight</td>\n",
              "    </tr>\n",
              "    <tr>\n",
              "      <th>2</th>\n",
              "      <td>Interstellar</td>\n",
              "      <td>Interstellar</td>\n",
              "      <td>The Avengers</td>\n",
              "    </tr>\n",
              "    <tr>\n",
              "      <th>3</th>\n",
              "      <td>The Avengers</td>\n",
              "      <td>Fight Club</td>\n",
              "      <td>Avatar</td>\n",
              "    </tr>\n",
              "    <tr>\n",
              "      <th>4</th>\n",
              "      <td>Avatar</td>\n",
              "      <td>The Avengers</td>\n",
              "      <td>Interstellar</td>\n",
              "    </tr>\n",
              "    <tr>\n",
              "      <th>5</th>\n",
              "      <td>Deadpool</td>\n",
              "      <td>Avatar</td>\n",
              "      <td>Deadpool</td>\n",
              "    </tr>\n",
              "    <tr>\n",
              "      <th>6</th>\n",
              "      <td>Fight Club</td>\n",
              "      <td>Deadpool</td>\n",
              "      <td>Django Unchained</td>\n",
              "    </tr>\n",
              "    <tr>\n",
              "      <th>7</th>\n",
              "      <td>Django Unchained</td>\n",
              "      <td>Django Unchained</td>\n",
              "      <td>Guardians of the Galaxy</td>\n",
              "    </tr>\n",
              "    <tr>\n",
              "      <th>8</th>\n",
              "      <td>Guardians of the Galaxy</td>\n",
              "      <td>Guardians of the Galaxy</td>\n",
              "      <td>Fight Club</td>\n",
              "    </tr>\n",
              "    <tr>\n",
              "      <th>9</th>\n",
              "      <td>Pulp Fiction</td>\n",
              "      <td>The Shawshank Redemption</td>\n",
              "      <td>Mad Max: Fury Road</td>\n",
              "    </tr>\n",
              "    <tr>\n",
              "      <th>10</th>\n",
              "      <td>The Matrix</td>\n",
              "      <td>Pulp Fiction</td>\n",
              "      <td>The Dark Knight Rises</td>\n",
              "    </tr>\n",
              "    <tr>\n",
              "      <th>11</th>\n",
              "      <td>The Lord of the Rings: The Fellowship of the Ring</td>\n",
              "      <td>The Lord of the Rings: The Fellowship of the Ring</td>\n",
              "      <td>The Matrix</td>\n",
              "    </tr>\n",
              "    <tr>\n",
              "      <th>12</th>\n",
              "      <td>The Shawshank Redemption</td>\n",
              "      <td>The Matrix</td>\n",
              "      <td>The Hunger Games</td>\n",
              "    </tr>\n",
              "    <tr>\n",
              "      <th>13</th>\n",
              "      <td>The Dark Knight Rises</td>\n",
              "      <td>Forrest Gump</td>\n",
              "      <td>The Lord of the Rings: The Fellowship of the Ring</td>\n",
              "    </tr>\n",
              "    <tr>\n",
              "      <th>14</th>\n",
              "      <td>Mad Max: Fury Road</td>\n",
              "      <td>The Lord of the Rings: The Return of the King</td>\n",
              "      <td>Pulp Fiction</td>\n",
              "    </tr>\n",
              "    <tr>\n",
              "      <th>15</th>\n",
              "      <td>Forrest Gump</td>\n",
              "      <td>The Dark Knight Rises</td>\n",
              "      <td>The Shawshank Redemption</td>\n",
              "    </tr>\n",
              "    <tr>\n",
              "      <th>16</th>\n",
              "      <td>The Lord of the Rings: The Return of the King</td>\n",
              "      <td>Mad Max: Fury Road</td>\n",
              "      <td>Iron Man</td>\n",
              "    </tr>\n",
              "    <tr>\n",
              "      <th>17</th>\n",
              "      <td>The Hunger Games</td>\n",
              "      <td>Iron Man</td>\n",
              "      <td>The Lord of the Rings: The Return of the King</td>\n",
              "    </tr>\n",
              "    <tr>\n",
              "      <th>18</th>\n",
              "      <td>Iron Man</td>\n",
              "      <td>The Lord of the Rings: The Two Towers</td>\n",
              "      <td>Iron Man 3</td>\n",
              "    </tr>\n",
              "    <tr>\n",
              "      <th>19</th>\n",
              "      <td>The Lord of the Rings: The Two Towers</td>\n",
              "      <td>The Hunger Games</td>\n",
              "      <td>Forrest Gump</td>\n",
              "    </tr>\n",
              "  </tbody>\n",
              "</table>\n",
              "</div>"
            ],
            "text/plain": [
              "                                              score_1  ...                                            score_3\n",
              "0                                           Inception  ...                                          Inception\n",
              "1                                     The Dark Knight  ...                                    The Dark Knight\n",
              "2                                        Interstellar  ...                                       The Avengers\n",
              "3                                        The Avengers  ...                                             Avatar\n",
              "4                                              Avatar  ...                                       Interstellar\n",
              "5                                            Deadpool  ...                                           Deadpool\n",
              "6                                          Fight Club  ...                                   Django Unchained\n",
              "7                                    Django Unchained  ...                            Guardians of the Galaxy\n",
              "8                             Guardians of the Galaxy  ...                                         Fight Club\n",
              "9                                        Pulp Fiction  ...                                 Mad Max: Fury Road\n",
              "10                                         The Matrix  ...                              The Dark Knight Rises\n",
              "11  The Lord of the Rings: The Fellowship of the Ring  ...                                         The Matrix\n",
              "12                           The Shawshank Redemption  ...                                   The Hunger Games\n",
              "13                              The Dark Knight Rises  ...  The Lord of the Rings: The Fellowship of the Ring\n",
              "14                                 Mad Max: Fury Road  ...                                       Pulp Fiction\n",
              "15                                       Forrest Gump  ...                           The Shawshank Redemption\n",
              "16      The Lord of the Rings: The Return of the King  ...                                           Iron Man\n",
              "17                                   The Hunger Games  ...      The Lord of the Rings: The Return of the King\n",
              "18                                           Iron Man  ...                                         Iron Man 3\n",
              "19              The Lord of the Rings: The Two Towers  ...                                       Forrest Gump\n",
              "\n",
              "[20 rows x 3 columns]"
            ]
          },
          "metadata": {
            "tags": []
          },
          "execution_count": 99
        }
      ]
    },
    {
      "cell_type": "markdown",
      "metadata": {
        "id": "VZqm2LuxXxCr"
      },
      "source": [
        "La première métrique obtenue a un résultat correspondant davantage à l'idée que l'on se fait d'un succès critique et commercial d'un film. On observe d'ailleurs que l'on peut jouer sur l'importance de la popularité via le *vote_count* et sur l'importance du succès critique via *vote_average* : le **score_3** met en avant des films \"populaires\" au sens blockbusters etc. tandis que le **score_2** met en avant des succès critiques tels que Fight Club, ou The Shawshank Redemption. Toutefois cette influence est assez marginale, les scores 1, 2 et 3 sont assez proches, on retiendra donc seulement le **score 1**."
      ]
    },
    {
      "cell_type": "code",
      "metadata": {
        "id": "I-mudkNhXxCr",
        "colab": {
          "base_uri": "https://localhost:8080/",
          "height": 703
        },
        "outputId": "cf392def-65d1-446f-f3e9-88100f6f06d1"
      },
      "source": [
        "l_pop = df.sort_values(by='popularity', ascending=False)['original_title'].head(20).tolist()\n",
        "pd.DataFrame({'popularity': l_pop ,'score_1' : l_score1})"
      ],
      "execution_count": 100,
      "outputs": [
        {
          "output_type": "execute_result",
          "data": {
            "text/html": [
              "<div>\n",
              "<style scoped>\n",
              "    .dataframe tbody tr th:only-of-type {\n",
              "        vertical-align: middle;\n",
              "    }\n",
              "\n",
              "    .dataframe tbody tr th {\n",
              "        vertical-align: top;\n",
              "    }\n",
              "\n",
              "    .dataframe thead th {\n",
              "        text-align: right;\n",
              "    }\n",
              "</style>\n",
              "<table border=\"1\" class=\"dataframe\">\n",
              "  <thead>\n",
              "    <tr style=\"text-align: right;\">\n",
              "      <th></th>\n",
              "      <th>popularity</th>\n",
              "      <th>score_1</th>\n",
              "    </tr>\n",
              "  </thead>\n",
              "  <tbody>\n",
              "    <tr>\n",
              "      <th>0</th>\n",
              "      <td>Minions</td>\n",
              "      <td>Inception</td>\n",
              "    </tr>\n",
              "    <tr>\n",
              "      <th>1</th>\n",
              "      <td>Wonder Woman</td>\n",
              "      <td>The Dark Knight</td>\n",
              "    </tr>\n",
              "    <tr>\n",
              "      <th>2</th>\n",
              "      <td>Beauty and the Beast</td>\n",
              "      <td>Interstellar</td>\n",
              "    </tr>\n",
              "    <tr>\n",
              "      <th>3</th>\n",
              "      <td>Baby Driver</td>\n",
              "      <td>The Avengers</td>\n",
              "    </tr>\n",
              "    <tr>\n",
              "      <th>4</th>\n",
              "      <td>Big Hero 6</td>\n",
              "      <td>Avatar</td>\n",
              "    </tr>\n",
              "    <tr>\n",
              "      <th>5</th>\n",
              "      <td>Deadpool</td>\n",
              "      <td>Deadpool</td>\n",
              "    </tr>\n",
              "    <tr>\n",
              "      <th>6</th>\n",
              "      <td>Guardians of the Galaxy Vol. 2</td>\n",
              "      <td>Fight Club</td>\n",
              "    </tr>\n",
              "    <tr>\n",
              "      <th>7</th>\n",
              "      <td>Avatar</td>\n",
              "      <td>Django Unchained</td>\n",
              "    </tr>\n",
              "    <tr>\n",
              "      <th>8</th>\n",
              "      <td>John Wick</td>\n",
              "      <td>Guardians of the Galaxy</td>\n",
              "    </tr>\n",
              "    <tr>\n",
              "      <th>9</th>\n",
              "      <td>Gone Girl</td>\n",
              "      <td>Pulp Fiction</td>\n",
              "    </tr>\n",
              "    <tr>\n",
              "      <th>10</th>\n",
              "      <td>The Hunger Games: Mockingjay - Part 1</td>\n",
              "      <td>The Matrix</td>\n",
              "    </tr>\n",
              "    <tr>\n",
              "      <th>11</th>\n",
              "      <td>War for the Planet of the Apes</td>\n",
              "      <td>The Lord of the Rings: The Fellowship of the Ring</td>\n",
              "    </tr>\n",
              "    <tr>\n",
              "      <th>12</th>\n",
              "      <td>Captain America: Civil War</td>\n",
              "      <td>The Shawshank Redemption</td>\n",
              "    </tr>\n",
              "    <tr>\n",
              "      <th>13</th>\n",
              "      <td>Pulp Fiction</td>\n",
              "      <td>The Dark Knight Rises</td>\n",
              "    </tr>\n",
              "    <tr>\n",
              "      <th>14</th>\n",
              "      <td>Pirates of the Caribbean: Dead Men Tell No Tales</td>\n",
              "      <td>Mad Max: Fury Road</td>\n",
              "    </tr>\n",
              "    <tr>\n",
              "      <th>15</th>\n",
              "      <td>The Dark Knight</td>\n",
              "      <td>Forrest Gump</td>\n",
              "    </tr>\n",
              "    <tr>\n",
              "      <th>16</th>\n",
              "      <td>Blade Runner</td>\n",
              "      <td>The Lord of the Rings: The Return of the King</td>\n",
              "    </tr>\n",
              "    <tr>\n",
              "      <th>17</th>\n",
              "      <td>The Avengers</td>\n",
              "      <td>The Hunger Games</td>\n",
              "    </tr>\n",
              "    <tr>\n",
              "      <th>18</th>\n",
              "      <td>Captain Underpants: The First Epic Movie</td>\n",
              "      <td>Iron Man</td>\n",
              "    </tr>\n",
              "    <tr>\n",
              "      <th>19</th>\n",
              "      <td>The Circle</td>\n",
              "      <td>The Lord of the Rings: The Two Towers</td>\n",
              "    </tr>\n",
              "  </tbody>\n",
              "</table>\n",
              "</div>"
            ],
            "text/plain": [
              "                                          popularity                                            score_1\n",
              "0                                            Minions                                          Inception\n",
              "1                                       Wonder Woman                                    The Dark Knight\n",
              "2                               Beauty and the Beast                                       Interstellar\n",
              "3                                        Baby Driver                                       The Avengers\n",
              "4                                         Big Hero 6                                             Avatar\n",
              "5                                           Deadpool                                           Deadpool\n",
              "6                     Guardians of the Galaxy Vol. 2                                         Fight Club\n",
              "7                                             Avatar                                   Django Unchained\n",
              "8                                          John Wick                            Guardians of the Galaxy\n",
              "9                                          Gone Girl                                       Pulp Fiction\n",
              "10             The Hunger Games: Mockingjay - Part 1                                         The Matrix\n",
              "11                    War for the Planet of the Apes  The Lord of the Rings: The Fellowship of the Ring\n",
              "12                        Captain America: Civil War                           The Shawshank Redemption\n",
              "13                                      Pulp Fiction                              The Dark Knight Rises\n",
              "14  Pirates of the Caribbean: Dead Men Tell No Tales                                 Mad Max: Fury Road\n",
              "15                                   The Dark Knight                                       Forrest Gump\n",
              "16                                      Blade Runner      The Lord of the Rings: The Return of the King\n",
              "17                                      The Avengers                                   The Hunger Games\n",
              "18          Captain Underpants: The First Epic Movie                                           Iron Man\n",
              "19                                        The Circle              The Lord of the Rings: The Two Towers"
            ]
          },
          "metadata": {
            "tags": []
          },
          "execution_count": 100
        }
      ]
    },
    {
      "cell_type": "markdown",
      "metadata": {
        "id": "21Jn-dysXxCr"
      },
      "source": [
        "On pourra retenir *popularity* pour évoquer des film au succès commercial, et *score_1* pour évoquer des films relativement acclamés par la critique et populaires. "
      ]
    },
    {
      "cell_type": "code",
      "metadata": {
        "id": "31ug_tXbn-cO"
      },
      "source": [
        "df = df.drop(columns=['score_2', 'score_3'])"
      ],
      "execution_count": 101,
      "outputs": []
    },
    {
      "cell_type": "markdown",
      "metadata": {
        "id": "LIFKRegpXxCr"
      },
      "source": [
        "### *production companies* et *production countries*"
      ]
    },
    {
      "cell_type": "markdown",
      "metadata": {
        "id": "BNzCQQSjfeS4"
      },
      "source": [
        "#### *production_companies*"
      ]
    },
    {
      "cell_type": "code",
      "metadata": {
        "id": "THCk8HQAXxCr",
        "colab": {
          "base_uri": "https://localhost:8080/"
        },
        "outputId": "1389a0d7-1865-454a-f6d3-0e2097776492"
      },
      "source": [
        "df.production_companies"
      ],
      "execution_count": 102,
      "outputs": [
        {
          "output_type": "execute_result",
          "data": {
            "text/plain": [
              "0           [{'name': 'Pixar Animation Studios', 'id': 3}]\n",
              "1        [{'name': 'TriStar Pictures', 'id': 559}, {'na...\n",
              "2        [{'name': 'Warner Bros.', 'id': 6194}, {'name'...\n",
              "3        [{'name': 'Twentieth Century Fox Film Corporat...\n",
              "4        [{'name': 'Sandollar Productions', 'id': 5842}...\n",
              "                               ...                        \n",
              "45461                                                   []\n",
              "45462               [{'name': 'Sine Olivia', 'id': 19653}]\n",
              "45463    [{'name': 'American World Pictures', 'id': 6165}]\n",
              "45464                 [{'name': 'Yermoliev', 'id': 88753}]\n",
              "45465                                                   []\n",
              "Name: production_companies, Length: 45417, dtype: object"
            ]
          },
          "metadata": {
            "tags": []
          },
          "execution_count": 102
        }
      ]
    },
    {
      "cell_type": "markdown",
      "metadata": {
        "id": "CWejqTVVXxCr"
      },
      "source": [
        "Dans la cellule de code suivante, nous allons récupérer les noms des companies de production, ainsi que leur identifiant. Celui-ci s'avérera utile par la suite."
      ]
    },
    {
      "cell_type": "code",
      "metadata": {
        "id": "1H4lQaBAXxCr"
      },
      "source": [
        "df_temp = df.production_companies.str.split(',')\n",
        "df_1 = pd.DataFrame()\n",
        "df_2 = pd.DataFrame()\n",
        "df_1['name'] = df_temp.str.get(0)\n",
        "df_1['id'] = df_temp.str.get(1)\n",
        "df['production_companies_name'] = df_1.name.str.split(':').str.get(1)\n",
        "df['production_companies_id'] = df_1.id.str.split(':').str.get(1)\n"
      ],
      "execution_count": 103,
      "outputs": []
    },
    {
      "cell_type": "markdown",
      "metadata": {
        "id": "dueazfTTXxCr"
      },
      "source": [
        "On retire ensuite les guillemets qui se trouvent dans les cellules de cette colonne"
      ]
    },
    {
      "cell_type": "code",
      "metadata": {
        "id": "aU_WcGQjXxCr"
      },
      "source": [
        "df.production_companies_name = df.production_companies_name.str.replace(r'[^\\w\\s]+', '')\n",
        "df.production_companies_id= df.production_companies_id.str.replace(r'[^\\w\\s]+', '')\n",
        "df.production_companies_id = df.production_companies_id.str.replace(\"'\",\"\")\n",
        "#df.production_companies_id.sort_values(ascending=False).head(100)"
      ],
      "execution_count": 104,
      "outputs": []
    },
    {
      "cell_type": "markdown",
      "metadata": {
        "id": "W7MsiAgtXxCr"
      },
      "source": [
        "On voit des doublons, il faut harmoniser à l'aide des *id* des compagnies de production.\n",
        "Nous pouvons remarquer quelques effets à corriger : certains films sont mal regroupés en raison de l'utilisation des acronymes ou du nom complet de la société de production. Par exemple, Lionsgate est également présent sous le nom Lions Gate, de même avec la BBC et British Broadcasting Channel etc.\n"
      ]
    },
    {
      "cell_type": "code",
      "metadata": {
        "id": "Vvyi_tUhXxCr",
        "colab": {
          "base_uri": "https://localhost:8080/"
        },
        "outputId": "ce6e6ba6-19f5-4dd0-a939-a2656db1067a"
      },
      "source": [
        "df.production_companies_name.head()"
      ],
      "execution_count": 105,
      "outputs": [
        {
          "output_type": "execute_result",
          "data": {
            "text/plain": [
              "0                    Pixar Animation Studios\n",
              "1                           TriStar Pictures\n",
              "2                                Warner Bros\n",
              "3     Twentieth Century Fox Film Corporation\n",
              "4                      Sandollar Productions\n",
              "Name: production_companies_name, dtype: object"
            ]
          },
          "metadata": {
            "tags": []
          },
          "execution_count": 105
        }
      ]
    },
    {
      "cell_type": "code",
      "metadata": {
        "id": "MzYuFe5TXxCr"
      },
      "source": [
        "df['pc_id_count'] = df.groupby(['production_companies_id'])['production_companies_name'].transform('count')\n",
        "#df['pc_id_count']=df['production_companies_id'].map(df['production_companies_id'].value_counts())"
      ],
      "execution_count": 106,
      "outputs": []
    },
    {
      "cell_type": "code",
      "metadata": {
        "id": "UiHkXee1XxCr",
        "colab": {
          "base_uri": "https://localhost:8080/",
          "height": 204
        },
        "outputId": "77b7f445-0f2f-4e49-f3e6-cbc628928925"
      },
      "source": [
        "df[['pc_id_count', 'production_companies_name', 'production_companies_id']].head()"
      ],
      "execution_count": 107,
      "outputs": [
        {
          "output_type": "execute_result",
          "data": {
            "text/html": [
              "<div>\n",
              "<style scoped>\n",
              "    .dataframe tbody tr th:only-of-type {\n",
              "        vertical-align: middle;\n",
              "    }\n",
              "\n",
              "    .dataframe tbody tr th {\n",
              "        vertical-align: top;\n",
              "    }\n",
              "\n",
              "    .dataframe thead th {\n",
              "        text-align: right;\n",
              "    }\n",
              "</style>\n",
              "<table border=\"1\" class=\"dataframe\">\n",
              "  <thead>\n",
              "    <tr style=\"text-align: right;\">\n",
              "      <th></th>\n",
              "      <th>pc_id_count</th>\n",
              "      <th>production_companies_name</th>\n",
              "      <th>production_companies_id</th>\n",
              "    </tr>\n",
              "  </thead>\n",
              "  <tbody>\n",
              "    <tr>\n",
              "      <th>0</th>\n",
              "      <td>29.0</td>\n",
              "      <td>Pixar Animation Studios</td>\n",
              "      <td>3</td>\n",
              "    </tr>\n",
              "    <tr>\n",
              "      <th>1</th>\n",
              "      <td>163.0</td>\n",
              "      <td>TriStar Pictures</td>\n",
              "      <td>559</td>\n",
              "    </tr>\n",
              "    <tr>\n",
              "      <th>2</th>\n",
              "      <td>757.0</td>\n",
              "      <td>Warner Bros</td>\n",
              "      <td>6194</td>\n",
              "    </tr>\n",
              "    <tr>\n",
              "      <th>3</th>\n",
              "      <td>780.0</td>\n",
              "      <td>Twentieth Century Fox Film Corporation</td>\n",
              "      <td>306</td>\n",
              "    </tr>\n",
              "    <tr>\n",
              "      <th>4</th>\n",
              "      <td>5.0</td>\n",
              "      <td>Sandollar Productions</td>\n",
              "      <td>5842</td>\n",
              "    </tr>\n",
              "  </tbody>\n",
              "</table>\n",
              "</div>"
            ],
            "text/plain": [
              "   pc_id_count                production_companies_name production_companies_id\n",
              "0         29.0                  Pixar Animation Studios                       3\n",
              "1        163.0                         TriStar Pictures                     559\n",
              "2        757.0                              Warner Bros                    6194\n",
              "3        780.0   Twentieth Century Fox Film Corporation                     306\n",
              "4          5.0                    Sandollar Productions                    5842"
            ]
          },
          "metadata": {
            "tags": []
          },
          "execution_count": 107
        }
      ]
    },
    {
      "cell_type": "code",
      "metadata": {
        "id": "Bd42LkKWtJIJ"
      },
      "source": [
        "df.production_companies_id = df.production_companies_id.fillna(0)\n",
        "df.production_companies_id = df.production_companies_id.astype(int)\n",
        "df.production_companies_name = df.production_companies_name.fillna('Non renseigné')"
      ],
      "execution_count": 444,
      "outputs": []
    },
    {
      "cell_type": "code",
      "metadata": {
        "id": "nshLLEbuXxCs",
        "colab": {
          "base_uri": "https://localhost:8080/",
          "height": 235
        },
        "outputId": "ac5be725-1f79-4b0c-ee49-da56387c60da"
      },
      "source": [
        "df.sort_values(by='production_companies_id')[['pc_id_count', 'production_companies_name', 'production_companies_id']].head()"
      ],
      "execution_count": 445,
      "outputs": [
        {
          "output_type": "execute_result",
          "data": {
            "text/html": [
              "<div>\n",
              "<style scoped>\n",
              "    .dataframe tbody tr th:only-of-type {\n",
              "        vertical-align: middle;\n",
              "    }\n",
              "\n",
              "    .dataframe tbody tr th {\n",
              "        vertical-align: top;\n",
              "    }\n",
              "\n",
              "    .dataframe thead th {\n",
              "        text-align: right;\n",
              "    }\n",
              "</style>\n",
              "<table border=\"1\" class=\"dataframe\">\n",
              "  <thead>\n",
              "    <tr style=\"text-align: right;\">\n",
              "      <th></th>\n",
              "      <th>pc_id_count</th>\n",
              "      <th>production_companies_name</th>\n",
              "      <th>production_companies_id</th>\n",
              "    </tr>\n",
              "    <tr>\n",
              "      <th>id</th>\n",
              "      <th></th>\n",
              "      <th></th>\n",
              "      <th></th>\n",
              "    </tr>\n",
              "  </thead>\n",
              "  <tbody>\n",
              "    <tr>\n",
              "      <th>461257</th>\n",
              "      <td>NaN</td>\n",
              "      <td>Non renseigné</td>\n",
              "      <td>0</td>\n",
              "    </tr>\n",
              "    <tr>\n",
              "      <th>34505</th>\n",
              "      <td>NaN</td>\n",
              "      <td>Non renseigné</td>\n",
              "      <td>0</td>\n",
              "    </tr>\n",
              "    <tr>\n",
              "      <th>20147</th>\n",
              "      <td>NaN</td>\n",
              "      <td>Non renseigné</td>\n",
              "      <td>0</td>\n",
              "    </tr>\n",
              "    <tr>\n",
              "      <th>182528</th>\n",
              "      <td>NaN</td>\n",
              "      <td>Non renseigné</td>\n",
              "      <td>0</td>\n",
              "    </tr>\n",
              "    <tr>\n",
              "      <th>28652</th>\n",
              "      <td>NaN</td>\n",
              "      <td>Non renseigné</td>\n",
              "      <td>0</td>\n",
              "    </tr>\n",
              "  </tbody>\n",
              "</table>\n",
              "</div>"
            ],
            "text/plain": [
              "        pc_id_count production_companies_name  production_companies_id\n",
              "id                                                                    \n",
              "461257          NaN             Non renseigné                        0\n",
              "34505           NaN             Non renseigné                        0\n",
              "20147           NaN             Non renseigné                        0\n",
              "182528          NaN             Non renseigné                        0\n",
              "28652           NaN             Non renseigné                        0"
            ]
          },
          "metadata": {
            "tags": []
          },
          "execution_count": 445
        }
      ]
    },
    {
      "cell_type": "markdown",
      "metadata": {
        "id": "QxJYIhemieag"
      },
      "source": [
        "On construit un dictionnaire reliant *id* et *noms* des compagnies de production. "
      ]
    },
    {
      "cell_type": "code",
      "metadata": {
        "id": "1qMNNFSdh5Qi"
      },
      "source": [
        "dico_pc = df.groupby('production_companies_id').production_companies_name.agg('min').transpose().to_dict()"
      ],
      "execution_count": 446,
      "outputs": []
    },
    {
      "cell_type": "code",
      "metadata": {
        "colab": {
          "base_uri": "https://localhost:8080/"
        },
        "id": "QjwrgNLpsj4J",
        "outputId": "f9bec775-3869-4363-b2a3-da4293830260"
      },
      "source": [
        "print(dico_pc.keys(),dico_pc[1])"
      ],
      "execution_count": 447,
      "outputs": [
        {
          "output_type": "stream",
          "text": [
            "dict_keys([0, 1, 2, 3, 4, 5, 6, 7, 8, 9, 10, 11, 12, 13, 14, 15, 16, 17, 18, 19, 20, 21, 23, 24, 25, 27, 28, 29, 30, 32, 33, 34, 35, 36, 37, 38, 39, 41, 42, 43, 44, 45, 46, 47, 49, 50, 51, 52, 53, 54, 55, 56, 58, 59, 60, 62, 64, 65, 67, 70, 72, 73, 74, 76, 77, 78, 79, 80, 81, 82, 83, 84, 85, 86, 88, 94, 97, 98, 99, 100, 101, 103, 104, 105, 107, 109, 110, 112, 113, 116, 118, 119, 120, 121, 122, 123, 124, 125, 126, 128, 129, 130, 131, 134, 135, 136, 137, 138, 139, 140, 141, 142, 144, 146, 147, 148, 149, 151, 152, 153, 155, 156, 157, 158, 161, 162, 163, 164, 165, 166, 168, 170, 171, 173, 174, 175, 176, 177, 178, 181, 182, 183, 185, 186, 189, 190, 191, 194, 196, 197, 198, 199, 200, 201, 203, 204, 206, 207, 208, 209, 210, 211, 212, 213, 214, 215, 216, 217, 218, 219, 220, 222, 223, 224, 225, 227, 228, 229, 230, 231, 233, 234, 235, 236, 238, 239, 240, 241, 242, 243, 245, 246, 247, 248, 249, 250, 251, 254, 255, 258, 259, 260, 261, 263, 264, 266, 267, 268, 269, 272, 273, 274, 276, 278, 280, 282, 284, 285, 288, 289, 290, 292, 293, 294, 296, 297, 298, 299, 300, 302, 306, 307, 308, 309, 310, 311, 313, 315, 316, 317, 318, 320, 321, 322, 326, 327, 328, 330, 331, 333, 335, 336, 341, 342, 345, 346, 347, 348, 351, 354, 355, 356, 357, 359, 360, 361, 362, 364, 365, 367, 368, 370, 371, 373, 376, 377, 379, 380, 383, 385, 386, 388, 393, 396, 397, 398, 399, 400, 401, 402, 403, 404, 405, 406, 407, 410, 412, 413, 414, 415, 416, 417, 418, 419, 420, 421, 423, 424, 425, 426, 427, 428, 429, 430, 431, 433, 435, 436, 437, 438, 439, 441, 443, 444, 446, 449, 450, 452, 454, 455, 457, 459, 461, 462, 463, 464, 465, 467, 468, 469, 470, 472, 473, 475, 477, 478, 479, 480, 481, 483, 484, 486, 487, 489, 490, 491, 494, 496, 497, 499, 500, 503, 506, 507, 508, 509, 510, 511, 512, 513, 514, 515, 516, 517, 519, 520, 521, 523, 524, 525, 528, 532, 533, 534, 537, 538, 539, 540, 542, 544, 546, 547, 550, 551, 552, 553, 554, 556, 557, 559, 560, 562, 563, 564, 567, 568, 570, 572, 574, 575, 580, 581, 582, 584, 585, 587, 588, 591, 594, 597, 598, 599, 600, 602, 608, 609, 611, 612, 613, 614, 615, 616, 617, 618, 619, 620, 622, 624, 626, 627, 628, 632, 634, 635, 638, 639, 641, 643, 644, 648, 650, 653, 654, 655, 656, 657, 659, 660, 661, 662, 664, 665, 667, 668, 669, 670, 675, 676, 678, 679, 680, 682, 684, 685, 686, 688, 689, 691, 692, 693, 694, 695, 697, 698, 700, 702, 703, 705, 706, 707, 708, 711, 713, 718, 719, 720, 721, 722, 724, 725, 726, 727, 728, 729, 730, 732, 734, 735, 736, 737, 738, 740, 741, 743, 744, 745, 746, 748, 749, 750, 753, 754, 755, 756, 757, 758, 760, 761, 762, 763, 768, 769, 770, 771, 773, 774, 776, 777, 779, 784, 786, 787, 788, 789, 790, 791, 792, 793, 794, 796, 798, 799, 800, 802, 803, 804, 805, 806, 807, 810, 813, 816, 817, 819, 820, 822, 823, 824, 826, 827, 828, 829, 830, 831, 834, 836, 838, 839, 841, 843, 844, 846, 847, 850, 851, 854, 856, 857, 858, 859, 860, 862, 863, 865, 866, 868, 870, 871, 872, 873, 874, 875, 876, 877, 881, 882, 883, 884, 885, 886, 887, 888, 890, 892, 893, 895, 897, 898, 901, 903, 906, 908, 910, 911, 912, 915, 916, 918, 919, 921, 922, 923, 925, 927, 928, 930, 931, 932, 934, 937, 938, 940, 941, 942, 943, 945, 946, 947, 948, 953, 954, 955, 958, 959, 960, 964, 965, 966, 968, 969, 971, 972, 973, 974, 975, 976, 979, 980, 982, 983, 985, 986, 987, 988, 989, 992, 993, 995, 998, 999, 1001, 1002, 1003, 1005, 1009, 1010, 1011, 1012, 1016, 1017, 1020, 1021, 1023, 1024, 1026, 1030, 1031, 1035, 1036, 1038, 1039, 1041, 1042, 1043, 1044, 1047, 1048, 1049, 1050, 1051, 1054, 1059, 1060, 1061, 1062, 1063, 1066, 1069, 1070, 1071, 1073, 1075, 1076, 1077, 1078, 1079, 1080, 1082, 1083, 1084, 1087, 1088, 1092, 1093, 1095, 1097, 1099, 1101, 1102, 1105, 1107, 1108, 1110, 1113, 1115, 1117, 1122, 1123, 1124, 1125, 1129, 1130, 1131, 1132, 1137, 1138, 1141, 1147, 1151, 1152, 1153, 1155, 1156, 1157, 1158, 1159, 1163, 1164, 1166, 1167, 1168, 1169, 1171, 1172, 1174, 1176, 1177, 1178, 1179, 1180, 1181, 1182, 1183, 1184, 1187, 1188, 1190, 1192, 1194, 1195, 1199, 1200, 1203, 1204, 1205, 1207, 1208, 1210, 1211, 1212, 1213, 1215, 1216, 1218, 1219, 1221, 1222, 1223, 1224, 1225, 1231, 1234, 1235, 1236, 1237, 1239, 1240, 1241, 1242, 1243, 1244, 1245, 1246, 1247, 1249, 1250, 1251, 1252, 1253, 1255, 1256, 1257, 1258, 1259, 1261, 1262, 1266, 1267, 1268, 1269, 1271, 1273, 1274, 1275, 1280, 1281, 1282, 1283, 1284, 1285, 1286, 1287, 1292, 1295, 1296, 1299, 1300, 1302, 1304, 1305, 1307, 1309, 1311, 1312, 1313, 1314, 1315, 1317, 1318, 1319, 1321, 1322, 1323, 1325, 1326, 1328, 1331, 1332, 1333, 1335, 1339, 1341, 1342, 1343, 1345, 1347, 1352, 1353, 1354, 1360, 1361, 1363, 1369, 1370, 1371, 1373, 1374, 1375, 1376, 1377, 1378, 1379, 1380, 1382, 1386, 1388, 1391, 1392, 1393, 1394, 1397, 1398, 1399, 1400, 1401, 1403, 1405, 1406, 1407, 1408, 1410, 1411, 1415, 1416, 1419, 1420, 1421, 1422, 1423, 1424, 1426, 1427, 1428, 1429, 1431, 1432, 1435, 1436, 1438, 1441, 1442, 1444, 1445, 1446, 1447, 1448, 1450, 1453, 1460, 1461, 1462, 1465, 1467, 1468, 1470, 1471, 1472, 1473, 1474, 1475, 1477, 1478, 1479, 1480, 1482, 1483, 1484, 1486, 1487, 1490, 1492, 1493, 1496, 1497, 1498, 1501, 1502, 1503, 1504, 1505, 1506, 1507, 1508, 1509, 1512, 1515, 1516, 1521, 1522, 1523, 1524, 1526, 1527, 1528, 1529, 1530, 1531, 1532, 1533, 1538, 1539, 1541, 1542, 1545, 1546, 1548, 1549, 1553, 1554, 1555, 1556, 1557, 1558, 1560, 1563, 1565, 1566, 1567, 1569, 1570, 1573, 1574, 1575, 1576, 1578, 1580, 1582, 1583, 1584, 1585, 1586, 1587, 1588, 1589, 1590, 1591, 1594, 1595, 1596, 1597, 1598, 1599, 1600, 1602, 1603, 1605, 1606, 1607, 1610, 1612, 1613, 1615, 1616, 1618, 1620, 1625, 1626, 1627, 1628, 1630, 1631, 1632, 1633, 1635, 1636, 1638, 1639, 1640, 1641, 1644, 1645, 1647, 1648, 1649, 1650, 1653, 1655, 1657, 1659, 1660, 1662, 1664, 1665, 1666, 1669, 1671, 1672, 1676, 1677, 1678, 1679, 1684, 1685, 1688, 1693, 1701, 1702, 1704, 1705, 1708, 1711, 1712, 1713, 1714, 1717, 1719, 1722, 1723, 1724, 1727, 1728, 1729, 1730, 1735, 1736, 1737, 1740, 1741, 1742, 1743, 1746, 1747, 1751, 1754, 1755, 1756, 1757, 1761, 1763, 1764, 1765, 1766, 1768, 1772, 1775, 1776, 1778, 1779, 1784, 1785, 1786, 1787, 1788, 1789, 1791, 1793, 1794, 1795, 1796, 1798, 1799, 1800, 1801, 1802, 1803, 1804, 1807, 1808, 1810, 1811, 1812, 1814, 1815, 1817, 1818, 1819, 1820, 1822, 1823, 1824, 1825, 1826, 1828, 1829, 1830, 1832, 1836, 1838, 1840, 1841, 1842, 1843, 1844, 1845, 1846, 1848, 1850, 1854, 1858, 1861, 1867, 1869, 1870, 1871, 1872, 1873, 1874, 1875, 1876, 1877, 1879, 1880, 1881, 1885, 1886, 1887, 1890, 1892, 1894, 1895, 1897, 1898, 1900, 1901, 1902, 1905, 1906, 1912, 1914, 1915, 1917, 1920, 1923, 1925, 1926, 1927, 1928, 1929, 1930, 1931, 1934, 1936, 1942, 1946, 1947, 1949, 1950, 1951, 1954, 1957, 1958, 1959, 1962, 1964, 1965, 1968, 1969, 1971, 1972, 1974, 1976, 1978, 1979, 1980, 1981, 1982, 1983, 1984, 1987, 1988, 1989, 1990, 1991, 1992, 1995, 2000, 2008, 2009, 2013, 2015, 2016, 2017, 2019, 2027, 2029, 2030, 2032, 2034, 2036, 2044, 2046, 2048, 2049, 2050, 2051, 2053, 2054, 2055, 2060, 2061, 2063, 2064, 2065, 2070, 2073, 2075, 2076, 2078, 2080, 2081, 2083, 2088, 2090, 2091, 2092, 2094, 2098, 2100, 2101, 2102, 2105, 2106, 2108, 2112, 2113, 2115, 2122, 2123, 2124, 2125, 2127, 2130, 2132, 2137, 2140, 2141, 2144, 2146, 2147, 2150, 2152, 2153, 2154, 2155, 2157, 2159, 2160, 2161, 2162, 2164, 2165, 2166, 2167, 2169, 2170, 2179, 2181, 2184, 2185, 2186, 2187, 2188, 2192, 2197, 2198, 2203, 2209, 2210, 2212, 2213, 2214, 2215, 2216, 2218, 2219, 2220, 2221, 2224, 2226, 2230, 2231, 2233, 2236, 2238, 2239, 2242, 2244, 2245, 2247, 2248, 2250, 2251, 2253, 2254, 2256, 2257, 2258, 2260, 2262, 2264, 2265, 2266, 2267, 2268, 2269, 2270, 2273, 2274, 2277, 2278, 2279, 2280, 2282, 2289, 2290, 2291, 2292, 2293, 2294, 2297, 2302, 2303, 2304, 2306, 2307, 2308, 2309, 2310, 2311, 2312, 2313, 2315, 2316, 2317, 2318, 2319, 2320, 2321, 2322, 2324, 2325, 2326, 2328, 2329, 2330, 2333, 2335, 2337, 2341, 2342, 2343, 2344, 2345, 2347, 2348, 2351, 2352, 2353, 2354, 2356, 2359, 2361, 2362, 2364, 2365, 2366, 2370, 2372, 2373, 2374, 2375, 2376, 2379, 2380, 2381, 2382, 2383, 2387, 2389, 2391, 2392, 2393, 2394, 2395, 2396, 2399, 2400, 2401, 2402, 2403, 2404, 2406, 2408, 2409, 2410, 2412, 2416, 2418, 2421, 2422, 2426, 2427, 2428, 2429, 2430, 2432, 2433, 2434, 2437, 2440, 2441, 2445, 2446, 2448, 2449, 2452, 2453, 2455, 2461, 2462, 2463, 2464, 2465, 2476, 2479, 2480, 2481, 2482, 2483, 2486, 2487, 2489, 2490, 2491, 2492, 2493, 2494, 2495, 2496, 2497, 2498, 2499, 2500, 2501, 2502, 2503, 2504, 2505, 2508, 2511, 2512, 2513, 2514, 2516, 2517, 2520, 2521, 2525, 2526, 2527, 2531, 2532, 2535, 2537, 2538, 2541, 2542, 2549, 2551, 2552, 2554, 2561, 2562, 2564, 2565, 2566, 2567, 2568, 2570, 2575, 2577, 2580, 2582, 2585, 2586, 2587, 2588, 2591, 2592, 2595, 2596, 2598, 2599, 2600, 2602, 2604, 2605, 2606, 2608, 2609, 2612, 2613, 2615, 2619, 2623, 2630, 2632, 2634, 2636, 2640, 2643, 2644, 2649, 2650, 2651, 2652, 2659, 2662, 2664, 2665, 2668, 2669, 2670, 2673, 2674, 2675, 2677, 2679, 2680, 2681, 2683, 2684, 2688, 2690, 2691, 2692, 2695, 2696, 2699, 2700, 2703, 2704, 2705, 2706, 2710, 2711, 2712, 2714, 2715, 2717, 2723, 2726, 2729, 2730, 2731, 2734, 2735, 2736, 2737, 2740, 2741, 2742, 2744, 2745, 2746, 2747, 2748, 2751, 2752, 2753, 2754, 2756, 2757, 2760, 2761, 2763, 2764, 2765, 2766, 2767, 2769, 2772, 2773, 2775, 2776, 2777, 2779, 2780, 2783, 2784, 2785, 2786, 2787, 2788, 2789, 2790, 2792, 2798, 2799, 2804, 2805, 2806, 2809, 2810, 2811, 2812, 2813, 2814, 2815, 2817, 2822, 2823, 2826, 2828, 2829, 2830, 2832, 2833, 2834, 2835, 2842, 2844, 2846, 2847, 2849, 2850, 2852, 2853, 2854, 2856, 2857, 2858, 2861, 2863, 2865, 2866, 2867, 2869, 2870, 2872, 2873, 2875, 2876, 2877, 2879, 2880, 2883, 2884, 2885, 2886, 2888, 2890, 2893, 2894, 2901, 2902, 2903, 2905, 2906, 2907, 2908, 2909, 2910, 2911, 2912, 2915, 2916, 2918, 2919, 2920, 2921, 2922, 2924, 2926, 2927, 2928, 2929, 2930, 2931, 2933, 2934, 2935, 2936, 2938, 2940, 2942, 2943, 2944, 2948, 2949, 2950, 2951, 2952, 2953, 2956, 2957, 2958, 2959, 2961, 2962, 2964, 2965, 2966, 2969, 2972, 2973, 2974, 2976, 2978, 2982, 2983, 2984, 2986, 2987, 2989, 2995, 2996, 2997, 3000, 3003, 3004, 3005, 3006, 3007, 3009, 3011, 3012, 3015, 3017, 3018, 3019, 3020, 3025, 3026, 3029, 3032, 3033, 3034, 3036, 3038, 3039, 3040, 3041, 3043, 3044, 3045, 3047, 3049, 3051, 3052, 3054, 3055, 3057, 3058, 3060, 3061, 3064, 3065, 3066, 3067, 3068, 3070, 3071, 3072, 3073, 3074, 3076, 3077, 3078, 3079, 3080, 3081, 3082, 3083, 3084, 3086, 3087, 3092, 3094, 3095, 3097, 3099, 3100, 3101, 3102, 3105, 3106, 3110, 3112, 3116, 3117, 3118, 3119, 3120, 3121, 3123, 3124, 3125, 3126, 3127, 3128, 3129, 3133, 3134, 3135, 3136, 3137, 3138, 3140, 3141, 3142, 3145, 3146, 3147, 3150, 3151, 3153, 3154, 3155, 3156, 3157, 3158, 3159, 3160, 3161, 3164, 3165, 3166, 3167, 3169, 3170, 3171, 3172, 3173, 3175, 3176, 3179, 3180, 3182, 3183, 3184, 3187, 3188, 3189, 3192, 3195, 3196, 3198, 3199, 3200, 3201, 3202, 3203, 3204, 3207, 3208, 3212, 3213, 3214, 3217, 3219, 3220, 3221, 3222, 3223, 3224, 3225, 3226, 3228, 3231, 3232, 3234, 3235, 3236, 3237, 3238, 3240, 3241, 3244, 3245, 3246, 3248, 3252, 3254, 3255, 3256, 3257, 3263, 3265, 3266, 3267, 3268, 3269, 3270, 3271, 3272, 3276, 3279, 3280, 3281, 3282, 3283, 3287, 3289, 3290, 3291, 3293, 3294, 3295, 3298, 3299, 3300, 3302, 3304, 3305, 3306, 3307, 3308, 3310, 3313, 3314, 3316, 3318, 3319, 3320, 3322, 3324, 3326, 3327, 3328, 3330, 3332, 3333, 3336, 3338, 3339, 3341, 3344, 3346, 3347, 3348, 3349, 3350, 3351, 3353, 3356, 3358, 3359, 3361, 3362, 3366, 3372, 3376, 3378, 3379, 3380, 3381, 3383, 3388, 3389, 3390, 3391, 3393, 3394, 3395, 3396, 3397, 3398, 3400, 3401, 3402, 3404, 3405, 3406, 3407, 3408, 3411, 3412, 3413, 3414, 3416, 3417, 3418, 3419, 3421, 3423, 3425, 3427, 3428, 3429, 3430, 3431, 3432, 3433, 3434, 3435, 3436, 3438, 3441, 3444, 3445, 3446, 3447, 3448, 3449, 3450, 3451, 3452, 3453, 3458, 3459, 3460, 3462, 3463, 3465, 3466, 3467, 3468, 3470, 3471, 3472, 3473, 3475, 3477, 3478, 3480, 3481, 3483, 3484, 3485, 3486, 3489, 3490, 3491, 3492, 3493, 3494, 3495, 3496, 3497, 3498, 3502, 3504, 3506, 3510, 3513, 3514, 3516, 3519, 3520, 3521, 3522, 3524, 3525, 3526, 3528, 3530, 3531, 3535, 3536, 3539, 3540, 3541, 3543, 3544, 3545, 3546, 3547, 3548, 3549, 3552, 3553, 3554, 3555, 3556, 3557, 3558, 3560, 3561, 3563, 3564, 3565, 3566, 3568, 3569, 3570, 3571, 3572, 3573, 3574, 3575, 3576, 3578, 3583, 3585, 3588, 3592, 3593, 3595, 3598, 3599, 3600, 3603, 3604, 3605, 3606, 3608, 3609, 3610, 3612, 3614, 3615, 3616, 3617, 3618, 3619, 3620, 3621, 3623, 3625, 3626, 3627, 3628, 3630, 3631, 3632, 3634, 3635, 3638, 3641, 3644, 3645, 3646, 3647, 3649, 3651, 3652, 3653, 3654, 3656, 3657, 3659, 3660, 3661, 3662, 3667, 3668, 3672, 3675, 3676, 3677, 3679, 3680, 3681, 3683, 3685, 3687, 3688, 3689, 3690, 3691, 3694, 3695, 3696, 3697, 3698, 3703, 3706, 3707, 3708, 3712, 3714, 3715, 3718, 3719, 3725, 3726, 3728, 3733, 3734, 3735, 3741, 3743, 3747, 3748, 3749, 3750, 3751, 3753, 3754, 3756, 3759, 3760, 3761, 3762, 3763, 3764, 3765, 3766, 3767, 3768, 3769, 3770, 3777, 3778, 3781, 3782, 3786, 3787, 3788, 3790, 3791, 3792, 3795, 3796, 3797, 3798, 3799, 3801, 3802, 3803, 3804, 3805, 3808, 3810, 3811, 3813, 3815, 3816, 3823, 3825, 3827, 3829, 3830, 3835, 3836, 3839, 3840, 3842, 3845, 3846, 3848, 3849, 3850, 3851, 3852, 3853, 3857, 3862, 3863, 3864, 3865, 3866, 3867, 3868, 3870, 3875, 3879, 3881, 3883, 3887, 3888, 3892, 3893, 3894, 3895, 3896, 3898, 3901, 3902, 3906, 3908, 3909, 3911, 3912, 3914, 3915, 3916, 3917, 3918, 3919, 3920, 3921, 3922, 3923, 3924, 3926, 3928, 3929, 3930, 3932, 3935, 3936, 3938, 3939, 3940, 3947, 3950, 3951, 3952, 3957, 3958, 3959, 3960, 3963, 3964, 3965, 3966, 3968, 3969, 3970, 3971, 3975, 3978, 3979, 3980, 3981, 3982, 3983, 3984, 3985, 3986, 3989, 3990, 3992, 3994, 3995, 3996, 3997, 4003, 4006, 4007, 4009, 4010, 4014, 4015, 4016, 4017, 4018, 4022, 4026, 4027, 4030, 4033, 4035, 4037, 4038, 4040, 4041, 4042, 4043, 4049, 4051, 4052, 4053, 4054, 4056, 4059, 4060, 4061, 4062, 4063, 4064, 4065, 4067, 4068, 4071, 4076, 4077, 4079, 4080, 4081, 4082, 4087, 4095, 4096, 4097, 4098, 4099, 4100, 4101, 4102, 4103, 4104, 4106, 4107, 4108, 4109, 4110, 4111, 4112, 4113, 4114, 4115, 4116, 4119, 4120, 4125, 4126, 4127, 4129, 4131, 4133, 4135, 4137, 4141, 4145, 4147, 4148, 4149, 4151, 4152, 4159, 4162, 4164, 4166, 4167, 4169, 4170, 4171, 4172, 4174, 4175, 4176, 4178, 4179, 4181, 4182, 4183, 4186, 4188, 4189, 4191, 4192, 4194, 4197, 4198, 4199, 4200, 4203, 4205, 4206, 4207, 4208, 4211, 4212, 4213, 4214, 4216, 4217, 4218, 4220, 4221, 4222, 4223, 4225, 4226, 4227, 4229, 4232, 4233, 4234, 4235, 4237, 4240, 4241, 4242, 4243, 4246, 4247, 4248, 4253, 4255, 4259, 4263, 4264, 4268, 4270, 4271, 4273, 4274, 4277, 4278, 4279, 4282, 4283, 4284, 4285, 4287, 4288, 4290, 4292, 4293, 4294, 4297, 4298, 4299, 4301, 4302, 4304, 4305, 4306, 4308, 4311, 4313, 4316, 4319, 4322, 4323, 4324, 4326, 4328, 4333, 4334, 4335, 4336, 4339, 4340, 4343, 4344, 4345, 4347, 4349, 4350, 4351, 4356, 4357, 4358, 4359, 4360, 4361, 4363, 4365, 4366, 4367, 4369, 4373, 4374, 4375, 4376, 4377, 4378, 4379, 4380, 4381, 4382, 4388, 4389, 4391, 4393, 4395, 4396, 4399, 4400, 4401, 4402, 4403, 4405, 4406, 4408, 4409, 4411, 4412, 4414, 4415, 4416, 4417, 4418, 4419, 4420, 4421, 4424, 4427, 4428, 4431, 4433, 4434, 4436, 4437, 4439, 4448, 4451, 4456, 4463, 4469, 4470, 4472, 4473, 4475, 4476, 4483, 4484, 4491, 4495, 4496, 4497, 4498, 4502, 4503, 4506, 4508, 4513, 4514, 4517, 4518, 4519, 4526, 4527, 4529, 4530, 4531, 4532, 4533, 4534, 4535, 4539, 4541, 4542, 4543, 4545, 4552, 4554, 4555, 4557, 4559, 4562, 4563, 4564, 4565, 4566, 4569, 4570, 4572, 4573, 4574, 4575, 4576, 4579, 4580, 4581, 4582, 4583, 4585, 4586, 4587, 4588, 4589, 4590, 4591, 4592, 4593, 4594, 4595, 4597, 4598, 4599, 4602, 4603, 4605, 4606, 4608, 4610, 4614, 4615, 4616, 4620, 4621, 4624, 4626, 4627, 4629, 4630, 4631, 4632, 4634, 4636, 4638, 4639, 4641, 4645, 4647, 4648, 4649, 4650, 4651, 4655, 4656, 4658, 4659, 4660, 4662, 4663, 4664, 4667, 4672, 4673, 4674, 4675, 4676, 4677, 4681, 4684, 4685, 4687, 4688, 4689, 4690, 4692, 4697, 4698, 4699, 4700, 4701, 4703, 4704, 4705, 4707, 4710, 4712, 4713, 4714, 4717, 4718, 4721, 4724, 4725, 4726, 4729, 4730, 4732, 4736, 4738, 4739, 4740, 4742, 4743, 4744, 4745, 4746, 4747, 4748, 4749, 4750, 4753, 4754, 4756, 4758, 4759, 4760, 4762, 4765, 4766, 4774, 4777, 4780, 4781, 4782, 4784, 4786, 4787, 4788, 4790, 4792, 4793, 4794, 4796, 4797, 4799, 4800, 4801, 4802, 4804, 4805, 4808, 4809, 4810, 4811, 4813, 4814, 4817, 4818, 4819, 4820, 4821, 4824, 4825, 4826, 4827, 4828, 4829, 4830, 4834, 4835, 4836, 4838, 4839, 4842, 4847, 4848, 4852, 4853, 4856, 4857, 4858, 4861, 4862, 4863, 4864, 4865, 4866, 4867, 4868, 4870, 4872, 4878, 4881, 4884, 4886, 4887, 4890, 4893, 4894, 4896, 4897, 4898, 4899, 4903, 4904, 4905, 4907, 4908, 4909, 4911, 4912, 4913, 4914, 4915, 4916, 4917, 4918, 4921, 4922, 4923, 4927, 4928, 4929, 4933, 4934, 4936, 4938, 4939, 4940, 4944, 4945, 4946, 4947, 4948, 4949, 4950, 4951, 4952, 4958, 4959, 4960, 4963, 4965, 4968, 4970, 4971, 4977, 4978, 4983, 4985, 4986, 4988, 4990, 4992, 4995, 4997, 4999, 5001, 5003, 5004, 5005, 5006, 5007, 5008, 5010, 5011, 5012, 5015, 5017, 5020, 5021, 5023, 5024, 5025, 5026, 5028, 5030, 5031, 5038, 5040, 5041, 5042, 5043, 5044, 5045, 5049, 5051, 5052, 5054, 5056, 5061, 5062, 5067, 5069, 5070, 5072, 5073, 5076, 5077, 5078, 5079, 5080, 5084, 5085, 5087, 5093, 5094, 5099, 5100, 5101, 5104, 5106, 5107, 5108, 5109, 5110, 5111, 5112, 5113, 5117, 5120, 5121, 5122, 5123, 5124, 5125, 5126, 5127, 5128, 5129, 5132, 5133, 5135, 5137, 5140, 5142, 5145, 5148, 5150, 5153, 5155, 5159, 5162, 5164, 5165, 5166, 5170, 5171, 5173, 5174, 5175, 5176, 5181, 5186, 5187, 5195, 5199, 5201, 5212, 5214, 5217, 5218, 5219, 5220, 5221, 5223, 5224, 5225, 5227, 5228, 5229, 5231, 5233, 5234, 5235, 5237, 5238, 5240, 5241, 5242, 5245, 5247, 5248, 5249, 5251, 5253, 5258, 5260, 5261, 5262, 5266, 5267, 5269, 5270, 5272, 5276, 5277, 5281, 5284, 5285, 5286, 5293, 5294, 5295, 5296, 5298, 5299, 5302, 5303, 5305, 5306, 5307, 5311, 5313, 5315, 5316, 5324, 5325, 5326, 5328, 5330, 5332, 5333, 5334, 5336, 5337, 5338, 5340, 5344, 5346, 5347, 5351, 5352, 5353, 5355, 5356, 5357, 5358, 5361, 5362, 5364, 5367, 5369, 5370, 5371, 5372, 5373, 5376, 5379, 5381, 5385, 5386, 5387, 5388, 5391, 5394, 5397, 5401, 5404, 5406, 5407, 5408, 5409, 5410, 5411, 5413, 5414, 5417, 5418, 5421, 5422, 5426, 5433, 5437, 5438, 5440, 5442, 5443, 5444, 5445, 5447, 5448, 5449, 5450, 5452, 5454, 5455, 5460, 5461, 5462, 5463, 5466, 5469, 5470, 5475, 5479, 5480, 5482, 5484, 5485, 5486, 5487, 5488, 5490, 5494, 5498, 5504, 5505, 5507, 5515, 5517, 5521, 5525, 5526, 5528, 5529, 5531, 5533, 5534, 5535, 5537, 5538, 5539, 5542, 5545, 5546, 5547, 5548, 5551, 5552, 5553, 5556, 5561, 5562, 5563, 5568, 5569, 5570, 5571, 5573, 5574, 5576, 5577, 5579, 5581, 5582, 5583, 5586, 5591, 5594, 5596, 5609, 5612, 5614, 5615, 5617, 5619, 5620, 5621, 5623, 5625, 5626, 5630, 5632, 5633, 5635, 5639, 5640, 5641, 5644, 5645, 5646, 5648, 5649, 5652, 5654, 5656, 5659, 5661, 5662, 5666, 5668, 5669, 5670, 5674, 5677, 5679, 5681, 5682, 5683, 5685, 5686, 5687, 5690, 5694, 5695, 5696, 5698, 5699, 5701, 5703, 5706, 5707, 5708, 5710, 5711, 5712, 5716, 5718, 5721, 5723, 5724, 5726, 5729, 5730, 5735, 5739, 5740, 5745, 5746, 5748, 5749, 5751, 5752, 5754, 5755, 5756, 5759, 5760, 5761, 5763, 5766, 5768, 5770, 5773, 5774, 5775, 5776, 5778, 5779, 5780, 5781, 5786, 5790, 5791, 5793, 5798, 5799, 5802, 5815, 5820, 5821, 5822, 5823, 5824, 5826, 5827, 5828, 5830, 5831, 5841, 5842, 5843, 5844, 5845, 5846, 5848, 5849, 5850, 5851, 5855, 5856, 5857, 5859, 5860, 5861, 5870, 5871, 5873, 5874, 5878, 5879, 5882, 5885, 5887, 5888, 5889, 5891, 5892, 5893, 5896, 5897, 5899, 5901, 5904, 5906, 5907, 5912, 5915, 5920, 5922, 5924, 5928, 5935, 5938, 5939, 5940, 5948, 5950, 5953, 5954, 5957, 5958, 5959, 5963, 5965, 5966, 5967, 5968, 5971, 5972, 5974, 5975, 5982, 5984, 5992, 5993, 5995, 5996, 5999, 6000, 6003, 6005, 6007, 6008, 6018, 6023, 6026, 6028, 6033, 6034, 6037, 6051, 6060, 6062, 6066, 6067, 6068, 6069, 6071, 6078, 6082, 6084, 6086, 6087, 6090, 6092, 6095, 6098, 6104, 6105, 6106, 6108, 6111, 6113, 6114, 6116, 6117, 6125, 6128, 6129, 6130, 6131, 6135, 6137, 6141, 6142, 6144, 6145, 6147, 6148, 6152, 6153, 6154, 6157, 6158, 6159, 6162, 6165, 6168, 6170, 6174, 6175, 6176, 6177, 6178, 6179, 6180, 6181, 6189, 6190, 6194, 6197, 6203, 6205, 6206, 6212, 6213, 6215, 6216, 6220, 6221, 6223, 6224, 6231, 6232, 6233, 6235, 6236, 6237, 6242, 6246, 6249, 6250, 6255, 6259, 6264, 6265, 6266, 6270, 6274, 6275, 6276, 6279, 6281, 6282, 6283, 6288, 6292, 6296, 6298, 6301, 6302, 6303, 6304, 6305, 6306, 6308, 6309, 6312, 6313, 6317, 6318, 6319, 6323, 6326, 6327, 6328, 6329, 6334, 6337, 6338, 6339, 6342, 6344, 6345, 6352, 6353, 6354, 6356, 6359, 6363, 6364, 6365, 6366, 6367, 6370, 6371, 6372, 6373, 6374, 6377, 6379, 6382, 6384, 6386, 6388, 6390, 6394, 6397, 6399, 6404, 6407, 6408, 6416, 6417, 6419, 6425, 6426, 6427, 6428, 6429, 6431, 6434, 6435, 6438, 6445, 6446, 6447, 6448, 6452, 6453, 6454, 6455, 6458, 6461, 6462, 6464, 6466, 6470, 6475, 6476, 6477, 6480, 6484, 6485, 6488, 6492, 6500, 6504, 6505, 6507, 6509, 6510, 6516, 6517, 6519, 6520, 6521, 6523, 6527, 6529, 6530, 6531, 6535, 6536, 6538, 6541, 6544, 6545, 6547, 6548, 6549, 6550, 6551, 6555, 6557, 6560, 6562, 6564, 6565, 6566, 6570, 6571, 6572, 6574, 6576, 6583, 6584, 6587, 6590, 6596, 6597, 6605, 6606, 6616, 6617, 6623, 6624, 6633, 6636, 6638, 6639, 6644, 6647, 6651, 6652, 6654, 6657, 6661, 6663, 6665, 6666, 6667, 6669, 6673, 6677, 6679, 6681, 6683, 6684, 6685, 6689, 6690, 6691, 6692, 6694, 6697, 6704, 6705, 6708, 6714, 6715, 6716, 6718, 6720, 6724, 6725, 6727, 6728, 6730, 6735, 6736, 6739, 6742, 6745, 6748, 6751, 6752, 6755, 6757, 6758, 6759, 6760, 6761, 6762, 6763, 6765, 6766, 6768, 6773, 6775, 6778, 6780, 6782, 6785, 6786, 6789, 6790, 6802, 6804, 6805, 6809, 6812, 6820, 6822, 6823, 6824, 6831, 6832, 6834, 6838, 6841, 6842, 6844, 6847, 6849, 6850, 6852, 6853, 6854, 6857, 6858, 6859, 6861, 6863, 6869, 6878, 6882, 6887, 6889, 6893, 6896, 6897, 6901, 6906, 6908, 6910, 6916, 6918, 6919, 6921, 6925, 6926, 6927, 6929, 6930, 6934, 6936, 6937, 6938, 6939, 6941, 6943, 6947, 6949, 6950, 6951, 6956, 6959, 6960, 6961, 6962, 6964, 6971, 6973, 6980, 6992, 6996, 6999, 7001, 7002, 7005, 7008, 7010, 7013, 7015, 7018, 7020, 7024, 7025, 7030, 7031, 7033, 7035, 7036, 7038, 7041, 7042, 7045, 7046, 7047, 7048, 7049, 7054, 7055, 7057, 7059, 7062, 7064, 7069, 7070, 7074, 7075, 7076, 7079, 7080, 7082, 7083, 7086, 7087, 7088, 7091, 7092, 7100, 7101, 7105, 7108, 7110, 7112, 7115, 7117, 7118, 7119, 7120, 7125, 7126, 7127, 7128, 7134, 7135, 7140, 7141, 7142, 7143, 7144, 7148, 7149, 7151, 7152, 7154, 7155, 7157, 7159, 7162, 7164, 7166, 7168, 7169, 7171, 7173, 7177, 7178, 7184, 7188, 7190, 7193, 7196, 7197, 7201, 7212, 7215, 7216, 7217, 7220, 7225, 7228, 7229, 7237, 7247, 7248, 7249, 7250, 7252, 7254, 7255, 7258, 7260, 7261, 7263, 7264, 7265, 7266, 7269, 7270, 7271, 7272, 7274, 7277, 7278, 7281, 7286, 7290, 7293, 7294, 7295, 7299, 7300, 7301, 7302, 7305, 7307, 7309, 7310, 7312, 7313, 7314, 7315, 7317, 7319, 7320, 7324, 7325, 7330, 7331, 7333, 7339, 7340, 7341, 7342, 7343, 7344, 7345, 7346, 7347, 7350, 7352, 7353, 7355, 7356, 7357, 7359, 7361, 7364, 7367, 7368, 7370, 7372, 7373, 7374, 7377, 7380, 7382, 7392, 7395, 7396, 7399, 7400, 7403, 7405, 7407, 7408, 7410, 7414, 7419, 7423, 7424, 7425, 7426, 7429, 7432, 7434, 7435, 7436, 7437, 7438, 7443, 7445, 7446, 7447, 7448, 7449, 7453, 7454, 7456, 7460, 7466, 7472, 7473, 7475, 7480, 7481, 7482, 7483, 7484, 7485, 7492, 7493, 7494, 7499, 7500, 7502, 7503, 7506, 7507, 7508, 7510, 7514, 7516, 7519, 7521, 7523, 7524, 7525, 7529, 7531, 7535, 7537, 7541, 7543, 7550, 7553, 7554, 7556, 7557, 7561, 7565, 7570, 7571, 7573, 7575, 7576, 7579, 7582, 7583, 7584, 7585, 7586, 7587, 7588, 7592, 7594, 7601, 7608, 7610, 7611, 7613, 7617, 7619, 7625, 7626, 7627, 7630, 7633, 7636, 7640, 7646, 7653, 7660, 7662, 7669, 7671, 7672, 7673, 7674, 7676, 7679, 7680, 7688, 7691, 7692, 7694, 7696, 7698, 7699, 7702, 7704, 7705, 7706, 7710, 7714, 7720, 7724, 7729, 7730, 7733, 7741, 7743, 7749, 7751, 7754, 7762, 7764, 7765, 7767, 7768, 7770, 7772, 7775, 7776, 7777, 7782, 7783, 7784, 7787, 7790, 7795, 7796, 7798, 7799, 7800, 7801, 7803, 7805, 7806, 7810, 7816, 7817, 7819, 7822, 7823, 7826, 7827, 7828, 7829, 7830, 7831, 7832, 7833, 7839, 7843, 7846, 7847, 7850, 7855, 7857, 7864, 7866, 7869, 7870, 7872, 7881, 7882, 7885, 7890, 7894, 7897, 7898, 7899, 7901, 7903, 7906, 7907, 7911, 7912, 7914, 7918, 7926, 7928, 7929, 7930, 7931, 7932, 7933, 7937, 7942, 7943, 7948, 7949, 7954, 7955, 7956, 7959, 7961, 7965, 7971, 7977, 7979, 7981, 7983, 7984, 7986, 7990, 7992, 7996, 7997, 8001, 8011, 8014, 8015, 8016, 8019, 8031, 8039, 8040, 8041, 8046, 8050, 8053, 8056, 8059, 8061, 8064, 8068, 8073, 8078, 8079, 8083, 8085, 8087, 8090, 8096, 8099, 8100, 8101, 8102, 8104, 8105, 8109, 8116, 8117, 8119, 8123, 8128, 8130, 8131, 8135, 8137, 8138, 8139, 8142, 8145, 8146, 8147, 8151, 8156, 8158, 8165, 8171, 8173, 8178, 8179, 8180, 8182, 8183, 8185, 8187, 8189, 8191, 8193, 8194, 8196, 8204, 8205, 8207, 8210, 8212, 8213, 8215, 8216, 8219, 8222, 8229, 8230, 8232, 8237, 8238, 8241, 8250, 8254, 8255, 8258, 8261, 8262, 8263, 8265, 8266, 8268, 8269, 8273, 8275, 8276, 8277, 8280, 8290, 8298, 8299, 8302, 8303, 8307, 8310, 8311, 8313, 8314, 8317, 8321, 8322, 8323, 8331, 8333, 8335, 8339, 8341, 8342, 8344, 8350, 8355, 8362, 8363, 8366, 8369, 8370, 8373, 8380, 8382, 8383, 8386, 8390, 8395, 8402, 8403, 8411, 8412, 8415, 8420, 8423, 8424, 8430, 8431, 8436, 8439, 8441, 8442, 8444, 8451, 8452, 8456, 8457, 8460, 8461, 8463, 8466, 8467, 8469, 8470, 8471, 8473, 8474, 8478, 8479, 8481, 8483, 8486, 8488, 8491, 8492, 8496, 8499, 8500, 8501, 8508, 8509, 8512, 8515, 8516, 8520, 8521, 8526, 8530, 8532, 8541, 8549, 8565, 8568, 8573, 8580, 8581, 8582, 8583, 8588, 8589, 8590, 8595, 8599, 8600, 8601, 8605, 8608, 8609, 8612, 8614, 8622, 8624, 8628, 8630, 8640, 8658, 8666, 8668, 8670, 8676, 8677, 8680, 8681, 8685, 8689, 8690, 8691, 8692, 8697, 8698, 8699, 8703, 8704, 8714, 8717, 8719, 8724, 8728, 8730, 8735, 8739, 8747, 8748, 8749, 8751, 8753, 8769, 8772, 8778, 8781, 8790, 8791, 8793, 8797, 8798, 8799, 8803, 8807, 8808, 8816, 8818, 8819, 8820, 8821, 8822, 8827, 8828, 8830, 8833, 8840, 8850, 8852, 8857, 8858, 8859, 8861, 8869, 8870, 8872, 8873, 8875, 8880, 8888, 8890, 8893, 8894, 8899, 8900, 8906, 8911, 8912, 8914, 8915, 8916, 8918, 8919, 8922, 8923, 8924, 8928, 8930, 8935, 8940, 8943, 8948, 8953, 8955, 8962, 8966, 8970, 8976, 8979, 8981, 8988, 8992, 8993, 8994, 8997, 9000, 9005, 9012, 9015, 9018, 9020, 9024, 9026, 9027, 9030, 9032, 9034, 9038, 9039, 9040, 9043, 9044, 9050, 9054, 9055, 9058, 9059, 9066, 9068, 9074, 9075, 9077, 9079, 9081, 9083, 9088, 9090, 9096, 9110, 9111, 9115, 9118, 9122, 9124, 9126, 9137, 9138, 9145, 9148, 9149, 9150, 9152, 9154, 9155, 9156, 9158, 9160, 9165, 9168, 9171, 9181, 9195, 9196, 9198, 9205, 9209, 9210, 9211, 9214, 9217, 9219, 9221, 9222, 9223, 9225, 9228, 9232, 9233, 9237, 9240, 9244, 9247, 9248, 9251, 9255, 9257, 9259, 9261, 9262, 9266, 9281, 9282, 9286, 9290, 9292, 9301, 9303, 9307, 9315, 9320, 9323, 9325, 9330, 9331, 9334, 9335, 9336, 9340, 9341, 9342, 9344, 9345, 9349, 9350, 9364, 9369, 9371, 9372, 9375, 9377, 9381, 9382, 9383, 9384, 9385, 9387, 9962, 9964, 9967, 9968, 9973, 9974, 9976, 9980, 9987, 9996, 9998, 9999, 10000, 10001, 10002, 10011, 10012, 10023, 10026, 10031, 10038, 10039, 10044, 10046, 10047, 10051, 10054, 10056, 10057, 10058, 10059, 10067, 10077, 10079, 10081, 10084, 10086, 10091, 10096, 10100, 10101, 10102, 10104, 10105, 10116, 10118, 10128, 10138, 10143, 10146, 10148, 10156, 10157, 10159, 10161, 10163, 10165, 10167, 10176, 10178, 10188, 10194, 10195, 10196, 10198, 10201, 10202, 10209, 10210, 10214, 10217, 10219, 10220, 10221, 10226, 10227, 10228, 10229, 10235, 10238, 10240, 10243, 10244, 10246, 10250, 10253, 10254, 10255, 10259, 10260, 10265, 10272, 10278, 10283, 10284, 10285, 10289, 10290, 10298, 10299, 10302, 10307, 10308, 10312, 10313, 10316, 10318, 10320, 10324, 10326, 10327, 10329, 10330, 10331, 10338, 10339, 10342, 10343, 10345, 10346, 10347, 10348, 10351, 10354, 10358, 10361, 10368, 10369, 10370, 10377, 10389, 10393, 10397, 10399, 10400, 10405, 10417, 10418, 10420, 10424, 10425, 10427, 10430, 10437, 10443, 10444, 10445, 10453, 10462, 10463, 10466, 10473, 10475, 10477, 10478, 10479, 10481, 10484, 10485, 10487, 10488, 10492, 10494, 10497, 10503, 10505, 10507, 10509, 10510, 10511, 10515, 10516, 10517, 10518, 10519, 10520, 10521, 10522, 10523, 10525, 10530, 10531, 10535, 10537, 10554, 10556, 10559, 10561, 10563, 10565, 10568, 10571, 10583, 10584, 10588, 10593, 10599, 10602, 10609, 10610, 10612, 10617, 10618, 10620, 10621, 10622, 10623, 10625, 10630, 10631, 10633, 10640, 10645, 10647, 10650, 10652, 10657, 10663, 10670, 10675, 10676, 10690, 10694, 10695, 10700, 10702, 10705, 10713, 10715, 10720, 10722, 10735, 10739, 10740, 10747, 10748, 10754, 10767, 10769, 10771, 10772, 10776, 10778, 10784, 10786, 10789, 10793, 10804, 10806, 10807, 10817, 10822, 10826, 10828, 10843, 10844, 10845, 10852, 10853, 10854, 10858, 10861, 10869, 10872, 10878, 10882, 10890, 10892, 10901, 10914, 10915, 10917, 10922, 10923, 10927, 10928, 10929, 10932, 10933, 10935, 10936, 10939, 10941, 10942, 10943, 10947, 10951, 10954, 10958, 10962, 10967, 10968, 10969, 10970, 10974, 10975, 10976, 10978, 10985, 10986, 10988, 10989, 10991, 10992, 10999, 11001, 11005, 11008, 11018, 11021, 11024, 11029, 11041, 11043, 11046, 11048, 11049, 11054, 11055, 11056, 11061, 11065, 11068, 11073, 11081, 11086, 11092, 11093, 11094, 11098, 11112, 11114, 11116, 11126, 11127, 11128, 11130, 11138, 11139, 11141, 11142, 11143, 11147, 11152, 11165, 11180, 11186, 11191, 11192, 11193, 11194, 11203, 11205, 11208, 11220, 11224, 11227, 11240, 11244, 11246, 11264, 11273, 11274, 11275, 11276, 11279, 11280, 11284, 11289, 11290, 11295, 11300, 11301, 11308, 11311, 11312, 11317, 11331, 11332, 11339, 11341, 11345, 11352, 11356, 11370, 11376, 11378, 11382, 11384, 11387, 11390, 11391, 11401, 11406, 11407, 11408, 11413, 11418, 11420, 11424, 11430, 11431, 11438, 11441, 11444, 11446, 11448, 11457, 11459, 11460, 11461, 11462, 11463, 11465, 11468, 11470, 11471, 11472, 11474, 11476, 11480, 11483, 11486, 11487, 11489, 11490, 11492, 11493, 11496, 11503, 11505, 11506, 11509, 11510, 11517, 11518, 11522, 11529, 11530, 11536, 11537, 11550, 11554, 11561, 11565, 11571, 11574, 11578, 11579, 11584, 11585, 11586, 11589, 11594, 11595, 11600, 11605, 11613, 11619, 11624, 11626, 11629, 11638, 11641, 11645, 11646, 11651, 11656, 11658, 11661, 11665, 11670, 11671, 11672, 11675, 11679, 11686, 11687, 11702, 11707, 11712, 11735, 11736, 11737, 11740, 11745, 11757, 11765, 11773, 11777, 11778, 11785, 11787, 11791, 11792, 11793, 11794, 11801, 11803, 11819, 11831, 11840, 11842, 11843, 11851, 11856, 11858, 11859, 11860, 11862, 11863, 11864, 11865, 11870, 11874, 11879, 11884, 11892, 11893, 11895, 11901, 11907, 11912, 11917, 11945, 11946, 11949, 11952, 11954, 11955, 11961, 11976, 11977, 11982, 11983, 11987, 11992, 11996, 11999, 12003, 12009, 12010, 12021, 12022, 12023, 12026, 12032, 12040, 12041, 12046, 12061, 12062, 12069, 12075, 12076, 12077, 12081, 12085, 12086, 12088, 12093, 12096, 12103, 12111, 12112, 12113, 12119, 12120, 12127, 12133, 12134, 12141, 12142, 12154, 12166, 12167, 12169, 12177, 12178, 12180, 12181, 12182, 12186, 12188, 12190, 12205, 12215, 12217, 12224, 12226, 12228, 12238, 12239, 12240, 12242, 12245, 12247, 12252, 12254, 12258, 12265, 12266, 12269, 12274, 12278, 12292, 12293, 12296, 12297, 12315, 12319, 12334, 12335, 12340, 12354, 12355, 12357, 12360, 12364, 12365, 12371, 12372, 12380, 12381, 12386, 12387, 12389, 12396, 12398, 12410, 12413, 12420, 12424, 12432, 12443, 12466, 12467, 12474, 12476, 12485, 12487, 12493, 12500, 12502, 12508, 12514, 12520, 12529, 12534, 12545, 12551, 12553, 12557, 12561, 12564, 12565, 12580, 12583, 12584, 12589, 12593, 12599, 12601, 12608, 12616, 12617, 12622, 12625, 12630, 12648, 12654, 12657, 12660, 12664, 12665, 12667, 12669, 12671, 12686, 12687, 12689, 12695, 12696, 12709, 12711, 12719, 12720, 12724, 12725, 12727, 12740, 12743, 12744, 12749, 12750, 12751, 12767, 12770, 12771, 12778, 12779, 12782, 12789, 12793, 12795, 12797, 12799, 12800, 12801, 12807, 12808, 12810, 12834, 12836, 12838, 12848, 12849, 12850, 12854, 12855, 12856, 12859, 12861, 12865, 12866, 12872, 12874, 12875, 12877, 12881, 12885, 12889, 12894, 12897, 12903, 12905, 12906, 12909, 12943, 12950, 12966, 12972, 12973, 12975, 12977, 12982, 12984, 12986, 12989, 12991, 12997, 13000, 13001, 13002, 13020, 13022, 13023, 13027, 13029, 13031, 13032, 13040, 13041, 13042, 13045, 13064, 13071, 13077, 13094, 13096, 13107, 13113, 13121, 13123, 13131, 13133, 13134, 13140, 13148, 13150, 13151, 13158, 13161, 13168, 13184, 13185, 13187, 13191, 13193, 13194, 13205, 13212, 13218, 13231, 13235, 13238, 13240, 13241, 13246, 13247, 13252, 13255, 13260, 13270, 13281, 13282, 13286, 13287, 13308, 13311, 13313, 13316, 13318, 13324, 13338, 13339, 13340, 13346, 13349, 13351, 13359, 13361, 13362, 13363, 13369, 13370, 13371, 13375, 13383, 13384, 13389, 13391, 13399, 13400, 13403, 13404, 13407, 13411, 13413, 13419, 13425, 13427, 13429, 13432, 13433, 13438, 13439, 13442, 13445, 13450, 13459, 13465, 13466, 13470, 13472, 13479, 13495, 13498, 13499, 13523, 13534, 13535, 13537, 13547, 13549, 13552, 13553, 13557, 13558, 13561, 13563, 13565, 13566, 13569, 13572, 13573, 13575, 13579, 13580, 13582, 13586, 13588, 13591, 13592, 13597, 13612, 13613, 13617, 13620, 13630, 13635, 13644, 13646, 13654, 13660, 13662, 13665, 13670, 13671, 13672, 13673, 13674, 13675, 13677, 13678, 13682, 13689, 13699, 13700, 13701, 13705, 13707, 13708, 13709, 13716, 13718, 13719, 13720, 13721, 13723, 13731, 13733, 13734, 13737, 13742, 13745, 13746, 13748, 13750, 13751, 13755, 13757, 13760, 13765, 13773, 13777, 13782, 13786, 13788, 13790, 13796, 13816, 13818, 13819, 13833, 13838, 13839, 13845, 13850, 13852, 13853, 13862, 13863, 13866, 13877, 13880, 13892, 13894, 13898, 13905, 13907, 13912, 13913, 13914, 13916, 13918, 13921, 13924, 13930, 13932, 13946, 13947, 13954, 13967, 13968, 13969, 13973, 13976, 13985, 13992, 13996, 13999, 14001, 14002, 14007, 14019, 14020, 14024, 14027, 14028, 14029, 14031, 14035, 14046, 14047, 14055, 14056, 14063, 14066, 14069, 14070, 14074, 14078, 14085, 14087, 14091, 14093, 14102, 14104, 14106, 14109, 14112, 14115, 14116, 14118, 14121, 14127, 14132, 14137, 14145, 14148, 14149, 14150, 14154, 14156, 14159, 14165, 14166, 14171, 14175, 14178, 14180, 14185, 14186, 14188, 14193, 14197, 14217, 14220, 14221, 14228, 14232, 14233, 14235, 14237, 14245, 14246, 14248, 14252, 14253, 14254, 14262, 14269, 14271, 14273, 14276, 14280, 14282, 14284, 14285, 14286, 14294, 14298, 14299, 14314, 14315, 14317, 14319, 14323, 14324, 14326, 14336, 14343, 14345, 14351, 14355, 14358, 14368, 14372, 14374, 14377, 14391, 14404, 14406, 14408, 14409, 14418, 14444, 14459, 14464, 14465, 14468, 14477, 14513, 14515, 14524, 14531, 14532, 14534, 14538, 14550, 14551, 14557, 14563, 14564, 14572, 14576, 14579, 14580, 14582, 14585, 14589, 14590, 14591, 14599, 14600, 14605, 14606, 14619, 14623, 14624, 14625, 14628, 14634, 14637, 14638, 14641, 14646, 14648, 14650, 14656, 14665, 14669, 14679, 14680, 14683, 14687, 14688, 14697, 14701, 14707, 14712, 14714, 14718, 14723, 14729, 14747, 14750, 14757, 14786, 14787, 14799, 14802, 14803, 14809, 14828, 14829, 14830, 14832, 14836, 14837, 14838, 14861, 14862, 14868, 14884, 14901, 14912, 14914, 14919, 14924, 14925, 14937, 14938, 14958, 14959, 14960, 14961, 14962, 14965, 14966, 14967, 14970, 14975, 14982, 14987, 15002, 15008, 15010, 15012, 15017, 15024, 15037, 15040, 15042, 15044, 15045, 15048, 15055, 15057, 15058, 15059, 15062, 15064, 15066, 15068, 15071, 15073, 15077, 15083, 15094, 15097, 15098, 15103, 15104, 15105, 15108, 15120, 15121, 15127, 15128, 15132, 15135, 15143, 15149, 15156, 15157, 15159, 15160, 15163, 15165, 15166, 15175, 15180, 15184, 15187, 15191, 15193, 15194, 15195, 15197, 15224, 15231, 15242, 15246, 15261, 15265, 15266, 15268, 15269, 15276, 15278, 15282, 15285, 15287, 15289, 15292, 15296, 15297, 15299, 15301, 15303, 15307, 15308, 15309, 15314, 15316, 15318, 15319, 15320, 15321, 15323, 15324, 15325, 15326, 15342, 15346, 15347, 15352, 15354, 15384, 15390, 15398, 15399, 15401, 15406, 15417, 15418, 15419, 15444, 15446, 15448, 15459, 15460, 15462, 15465, 15469, 15472, 15476, 15479, 15486, 15488, 15489, 15498, 15505, 15507, 15509, 15517, 15521, 15530, 15537, 15540, 15558, 15567, 15568, 15578, 15580, 15583, 15591, 15595, 15597, 15601, 15606, 15616, 15634, 15635, 15645, 15646, 15653, 15660, 15669, 15671, 15672, 15674, 15681, 15682, 15683, 15707, 15709, 15722, 15731, 15751, 15780, 15781, 15784, 15787, 15788, 15794, 15798, 15799, 15826, 15830, 15842, 15848, 15856, 15866, 15868, 15870, 15871, 15873, 15874, 15886, 15888, 15889, 15913, 15925, 15933, 15937, 15948, 15957, 15963, 15973, 15978, 15979, 15980, 15984, 15993, 15996, 15997, 15998, 16004, 16011, 16014, 16020, 16030, 16042, 16046, 16048, 16051, 16053, 16056, 16058, 16061, 16064, 16066, 16067, 16073, 16076, 16078, 16079, 16101, 16106, 16108, 16124, 16127, 16128, 16131, 16132, 16144, 16151, 16154, 16183, 16185, 16188, 16191, 16204, 16206, 16209, 16210, 16211, 16214, 16217, 16219, 16238, 16252, 16256, 16259, 16262, 16265, 16269, 16274, 16276, 16280, 16286, 16291, 16301, 16305, 16313, 16316, 16322, 16323, 16331, 16336, 16337, 16339, 16354, 16366, 16370, 16386, 16397, 16401, 16404, 16405, 16406, 16409, 16413, 16421, 16422, 16424, 16428, 16430, 16432, 16434, 16439, 16441, 16443, 16449, 16450, 16453, 16464, 16466, 16496, 16498, 16510, 16511, 16527, 16535, 16538, 16546, 16549, 16553, 16558, 16561, 16568, 16581, 16584, 16593, 16610, 16612, 16616, 16621, 16623, 16628, 16630, 16631, 16636, 16639, 16641, 16642, 16643, 16644, 16647, 16658, 16667, 16670, 16675, 16677, 16685, 16687, 16700, 16701, 16708, 16718, 16723, 16725, 16726, 16733, 16734, 16748, 16753, 16768, 16769, 16772, 16779, 16782, 16785, 16786, 16788, 16792, 16798, 16804, 16820, 16837, 16839, 16844, 16850, 16853, 16860, 16864, 16867, 16874, 16875, 16877, 16882, 16887, 16889, 16897, 16900, 16906, 16914, 16918, 16923, 16928, 16930, 16934, 16936, 16937, 16943, 16945, 16947, 16948, 16953, 16956, 16959, 16968, 16977, 16979, 16984, 17008, 17009, 17018, 17023, 17024, 17027, 17033, 17038, 17039, 17043, 17047, 17049, 17055, 17061, 17069, 17071, 17072, 17075, 17080, 17087, 17088, 17090, 17096, 17097, 17100, 17102, 17105, 17116, 17119, 17138, 17139, 17157, 17161, 17164, 17168, 17169, 17171, 17173, 17177, 17179, 17180, 17181, 17183, 17208, 17209, 17216, 17227, 17252, 17260, 17270, 17281, 17290, 17311, 17312, 17317, 17337, 17339, 17349, 17364, 17365, 17369, 17375, 17380, 17382, 17383, 17387, 17388, 17390, 17392, 17393, 17404, 17405, 17406, 17408, 17411, 17413, 17415, 17425, 17432, 17434, 17436, 17444, 17449, 17450, 17451, 17457, 17461, 17465, 17469, 17479, 17513, 17514, 17516, 17517, 17526, 17537, 17550, 17552, 17561, 17563, 17587, 17610, 17611, 17619, 17620, 17643, 17644, 17645, 17662, 17666, 17668, 17671, 17691, 17692, 17697, 17700, 17723, 17725, 17741, 17745, 17758, 17761, 17763, 17777, 17778, 17780, 17785, 17794, 17806, 17811, 17817, 17818, 17820, 17821, 17823, 17827, 17837, 17838, 17840, 17842, 17845, 17874, 17881, 17884, 17887, 17888, 17889, 17893, 17911, 17912, 17915, 17926, 17927, 17928, 17946, 17953, 17955, 17962, 17965, 17966, 17980, 17992, 17997, 18003, 18008, 18010, 18013, 18038, 18039, 18040, 18043, 18044, 18054, 18061, 18062, 18064, 18065, 18066, 18068, 18069, 18071, 18073, 18080, 18086, 18088, 18092, 18093, 18094, 18108, 18120, 18125, 18131, 18138, 18149, 18156, 18160, 18165, 18167, 18169, 18176, 18178, 18180, 18188, 18189, 18190, 18192, 18201, 18202, 18203, 18219, 18229, 18239, 18253, 18268, 18276, 18283, 18284, 18325, 18346, 18347, 18359, 18367, 18378, 18382, 18387, 18402, 18405, 18412, 18426, 18436, 18437, 18440, 18444, 18450, 18480, 18481, 18485, 18516, 18519, 18526, 18541, 18549, 18572, 18575, 18582, 18583, 18595, 18609, 18612, 18615, 18619, 18622, 18623, 18626, 18627, 18643, 18656, 18674, 18675, 18677, 18682, 18685, 18700, 18701, 18702, 18717, 18720, 18722, 18726, 18734, 18737, 18758, 18760, 18769, 18771, 18774, 18776, 18789, 18793, 18810, 18818, 18826, 18832, 18852, 18859, 18866, 18867, 18876, 18880, 18881, 18892, 18899, 18903, 18922, 18923, 18924, 18926, 18933, 18939, 18947, 18952, 18956, 18970, 18973, 18977, 18978, 18993, 19002, 19014, 19016, 19020, 19024, 19033, 19037, 19038, 19055, 19059, 19067, 19070, 19072, 19076, 19088, 19104, 19113, 19117, 19124, 19138, 19142, 19143, 19144, 19145, 19146, 19149, 19150, 19160, 19161, 19171, 19175, 19176, 19177, 19181, 19187, 19194, 19211, 19212, 19215, 19222, 19227, 19228, 19230, 19237, 19243, 19246, 19249, 19250, 19257, 19262, 19325, 19330, 19340, 19349, 19356, 19358, 19368, 19374, 19381, 19385, 19397, 19402, 19404, 19412, 19425, 19431, 19451, 19456, 19463, 19467, 19485, 19491, 19494, 19528, 19531, 19532, 19535, 19542, 19546, 19548, 19570, 19584, 19589, 19592, 19599, 19601, 19606, 19615, 19623, 19625, 19632, 19638, 19642, 19649, 19653, 19671, 19672, 19673, 19678, 19683, 19684, 19687, 19694, 19704, 19722, 19723, 19724, 19730, 19733, 19741, 19742, 19747, 19752, 19760, 19761, 19765, 19773, 19776, 19777, 19781, 19785, 19788, 19791, 19799, 19802, 19803, 19804, 19816, 19818, 19850, 19852, 19901, 19906, 19911, 19916, 19917, 19955, 19956, 19961, 19970, 19972, 19993, 19997, 19999, 20014, 20018, 20023, 20024, 20033, 20037, 20038, 20039, 20042, 20060, 20063, 20064, 20066, 20068, 20072, 20076, 20091, 20103, 20107, 20108, 20124, 20127, 20139, 20149, 20151, 20182, 20184, 20192, 20193, 20219, 20235, 20240, 20241, 20244, 20246, 20260, 20264, 20268, 20269, 20276, 20303, 20313, 20314, 20317, 20318, 20320, 20339, 20353, 20358, 20366, 20370, 20393, 20395, 20398, 20411, 20421, 20441, 20449, 20462, 20472, 20477, 20479, 20491, 20500, 20511, 20528, 20535, 20537, 20542, 20544, 20545, 20559, 20560, 20562, 20566, 20577, 20580, 20581, 20588, 20589, 20598, 20602, 20611, 20612, 20613, 20616, 20629, 20639, 20643, 20656, 20658, 20659, 20670, 20671, 20678, 20687, 20692, 20693, 20695, 20711, 20728, 20734, 20736, 20739, 20740, 20741, 20744, 20745, 20757, 20759, 20761, 20770, 20771, 20772, 20773, 20774, 20778, 20780, 20783, 20788, 20798, 20803, 20807, 20823, 20826, 20835, 20847, 20848, 20852, 20853, 20854, 20855, 20858, 20873, 20877, 20904, 20913, 20915, 20916, 20917, 20938, 20942, 20943, 20966, 20974, 20976, 20977, 20980, 20982, 20987, 20993, 20997, 20998, 21015, 21018, 21034, 21040, 21041, 21046, 21048, 21067, 21079, 21098, 21100, 21110, 21120, 21125, 21126, 21136, 21137, 21138, 21139, 21144, 21145, 21147, 21149, 21151, 21159, 21161, 21163, 21180, 21188, 21189, 21193, 21199, 21200, 21205, 21206, 21207, 21213, 21216, 21221, 21222, 21224, 21230, 21237, 21243, 21246, 21248, 21254, 21256, 21261, 21267, 21279, 21280, 21290, 21293, 21296, 21303, 21309, 21321, 21329, 21332, 21334, 21360, 21374, 21375, 21379, 21381, 21384, 21398, 21404, 21414, 21415, 21435, 21446, 21456, 21457, 21459, 21468, 21482, 21513, 21525, 21526, 21532, 21534, 21537, 21540, 21544, 21546, 21555, 21556, 21566, 21569, 21572, 21576, 21577, 21578, 21579, 21588, 21590, 21591, 21592, 21594, 21597, 21608, 21609, 21621, 21628, 21629, 21640, 21641, 21646, 21666, 21673, 21678, 21683, 21702, 21703, 21706, 21708, 21712, 21716, 21718, 21723, 21726, 21732, 21733, 21736, 21740, 21743, 21750, 21754, 21758, 21775, 21786, 21789, 21794, 21805, 21817, 21819, 21834, 21840, 21858, 21868, 21872, 21873, 21882, 21887, 21889, 21897, 21899, 21914, 21915, 21917, 21921, 21928, 21946, 21948, 21953, 21959, 21966, 21978, 21979, 22028, 22029, 22030, 22036, 22042, 22046, 22047, 22051, 22057, 22060, 22061, 22062, 22085, 22089, 22090, 22097, 22101, 22109, 22117, 22123, 22135, 22136, 22146, 22154, 22155, 22158, 22191, 22209, 22218, 22220, 22231, 22245, 22284, 22285, 22289, 22294, 22300, 22302, 22306, 22308, 22309, 22321, 22329, 22348, 22353, 22358, 22359, 22367, 22375, 22376, 22384, 22385, 22393, 22411, 22423, 22436, 22445, 22449, 22452, 22464, 22466, 22475, 22477, 22486, 22490, 22498, 22500, 22509, 22518, 22520, 22532, 22573, 22588, 22602, 22622, 22631, 22632, 22633, 22650, 22677, 22701, 22702, 22706, 22707, 22708, 22761, 22764, 22782, 22784, 22793, 22800, 22811, 22814, 22822, 22826, 22836, 22837, 22841, 22842, 22852, 22856, 22858, 22864, 22865, 22891, 22913, 22916, 22918, 22921, 22933, 22937, 22950, 22957, 22959, 22971, 22974, 22983, 22995, 22997, 23009, 23036, 23050, 23084, 23098, 23099, 23108, 23119, 23120, 23156, 23167, 23189, 23192, 23222, 23225, 23231, 23301, 23315, 23318, 23331, 23333, 23336, 23337, 23338, 23343, 23377, 23378, 23384, 23385, 23386, 23389, 23390, 23398, 23399, 23404, 23406, 23411, 23418, 23431, 23437, 23457, 23462, 23468, 23469, 23477, 23480, 23481, 23485, 23495, 23496, 23513, 23516, 23525, 23553, 23555, 23577, 23595, 23596, 23607, 23632, 23647, 23648, 23663, 23665, 23680, 23683, 23688, 23698, 23700, 23701, 23703, 23705, 23708, 23709, 23712, 23719, 23722, 23724, 23740, 23745, 23749, 23754, 23761, 23800, 23818, 23820, 23822, 23838, 23839, 23852, 23868, 23872, 23875, 23886, 23898, 23909, 23912, 23928, 23932, 23946, 23948, 23967, 23968, 23970, 23985, 23991, 24012, 24013, 24021, 24060, 24067, 24093, 24108, 24133, 24142, 24143, 24148, 24156, 24180, 24184, 24195, 24205, 24206, 24235, 24239, 24240, 24257, 24259, 24284, 24287, 24296, 24301, 24307, 24309, 24312, 24338, 24342, 24349, 24352, 24372, 24379, 24385, 24399, 24412, 24416, 24428, 24459, 24471, 24477, 24528, 24546, 24562, 24576, 24635, 24637, 24643, 24650, 24662, 24674, 24720, 24734, 24737, 24747, 24769, 24781, 24843, 24845, 24853, 24895, 24899, 24906, 24908, 24934, 24948, 24949, 24952, 24955, 24972, 25004, 25009, 25012, 25055, 25056, 25060, 25065, 25072, 25077, 25136, 25140, 25196, 25197, 25206, 25250, 25261, 25275, 25307, 25323, 25345, 25346, 25350, 25381, 25410, 25412, 25422, 25431, 25458, 25473, 25474, 25478, 25484, 25487, 25491, 25526, 25545, 25560, 25566, 25570, 25575, 25577, 25578, 25582, 25591, 25606, 25630, 25639, 25651, 25654, 25660, 25669, 25673, 25674, 25677, 25678, 25689, 25690, 25701, 25708, 25724, 25755, 25756, 25795, 25814, 25817, 25819, 25822, 25844, 25846, 25884, 25886, 25894, 25919, 25924, 25925, 25928, 25929, 25953, 25986, 25988, 25994, 26001, 26013, 26015, 26043, 26046, 26087, 26092, 26103, 26105, 26133, 26137, 26174, 26189, 26197, 26212, 26249, 26253, 26260, 26267, 26305, 26324, 26332, 26342, 26344, 26347, 26362, 26365, 26369, 26373, 26396, 26399, 26402, 26403, 26408, 26420, 26421, 26422, 26424, 26445, 26449, 26450, 26468, 26484, 26590, 26593, 26598, 26610, 26629, 26637, 26646, 26647, 26648, 26649, 26669, 26680, 26684, 26686, 26693, 26710, 26727, 26742, 26750, 26753, 26769, 26776, 26854, 26855, 26875, 26878, 26927, 26932, 26951, 26957, 26958, 26966, 26995, 26999, 27025, 27028, 27049, 27063, 27066, 27071, 27072, 27088, 27099, 27100, 27101, 27110, 27124, 27127, 27128, 27133, 27155, 27180, 27188, 27204, 27206, 27336, 27354, 27373, 27404, 27450, 27459, 27460, 27497, 27499, 27543, 27570, 27592, 27593, 27619, 27621, 27628, 27644, 27649, 27653, 27673, 27706, 27726, 27734, 27753, 27756, 27760, 27804, 27817, 27848, 27863, 27881, 27899, 27901, 27927, 27934, 28001, 28003, 28049, 28085, 28103, 28104, 28149, 28152, 28163, 28184, 28192, 28221, 28230, 28236, 28250, 28286, 28294, 28317, 28320, 28323, 28348, 28367, 28387, 28433, 28440, 28447, 28472, 28490, 28504, 28513, 28518, 28520, 28523, 28555, 28617, 28622, 28638, 28671, 28688, 28699, 28713, 28762, 28769, 28775, 28810, 28815, 28831, 28832, 28872, 28917, 28926, 28950, 28955, 29005, 29010, 29025, 29028, 29060, 29062, 29097, 29110, 29165, 29201, 29223, 29238, 29248, 29264, 29265, 29269, 29272, 29305, 29315, 29363, 29364, 29365, 29406, 29407, 29419, 29427, 29459, 29467, 29475, 29481, 29489, 29493, 29500, 29506, 29519, 29524, 29566, 29575, 29587, 29646, 29648, 29650, 29652, 29671, 29672, 29682, 29692, 29693, 29700, 29702, 29709, 29716, 29729, 29736, 29749, 29784, 29837, 29843, 29856, 29867, 29891, 29922, 29924, 30031, 30062, 30064, 30083, 30085, 30131, 30148, 30187, 30194, 30232, 30256, 30257, 30270, 30336, 30376, 30391, 30399, 30420, 30422, 30497, 30531, 30533, 30534, 30535, 30553, 30584, 30589, 30591, 30593, 30601, 30637, 30666, 30688, 30724, 30795, 30804, 30816, 30833, 30926, 30943, 30965, 30983, 30997, 31023, 31030, 31034, 31052, 31058, 31062, 31064, 31075, 31080, 31084, 31114, 31137, 31141, 31143, 31149, 31167, 31182, 31183, 31226, 31242, 31266, 31296, 31342, 31343, 31394, 31421, 31465, 31527, 31550, 31587, 31637, 31702, 31739, 31775, 31782, 31785, 31789, 31793, 31807, 31835, 31848, 31892, 32164, 32175, 32200, 32201, 32218, 32243, 32251, 32287, 32292, 32300, 32306, 32330, 32365, 32393, 32397, 32400, 32414, 32429, 32430, 32443, 32462, 32473, 32485, 32505, 32508, 32537, 32540, 32542, 32553, 32558, 32569, 32580, 32606, 32622, 32626, 32634, 32647, 32648, 32652, 32653, 32687, 32696, 32731, 32732, 32769, 32782, 32827, 32843, 32875, 32911, 32930, 32954, 32981, 33022, 33130, 33131, 33135, 33167, 33168, 33197, 33199, 33214, 33227, 33236, 33256, 33263, 33271, 33290, 33299, 33306, 33314, 33326, 33333, 33365, 33380, 33389, 33392, 33398, 33427, 33433, 33449, 33453, 33460, 33475, 33511, 33521, 33538, 33569, 33588, 33596, 33601, 33606, 33624, 33634, 33650, 33660, 33674, 33717, 33770, 33774, 33781, 33783, 33792, 33805, 33810, 33817, 33818, 33836, 33846, 33891, 33916, 34000, 34027, 34037, 34068, 34070, 34097, 34103, 34127, 34145, 34175, 34200, 34202, 34231, 34233, 34245, 34249, 34271, 34280, 34281, 34284, 34307, 34341, 34350, 34374, 34397, 34432, 34455, 34456, 34469, 34478, 34484, 34502, 34505, 34509, 34519, 34526, 34532, 34574, 34578, 34602, 34627, 34628, 34634, 34673, 34705, 34733, 34745, 34777, 34804, 34911, 34951, 34966, 34977, 34990, 34994, 35017, 35021, 35027, 35043, 35076, 35085, 35153, 35162, 35208, 35211, 35212, 35265, 35267, 35327, 35353, 35389, 35396, 35430, 35431, 35442, 35449, 35461, 35465, 35471, 35482, 35493, 35499, 35500, 35508, 35558, 35561, 35562, 35600, 35603, 35610, 35659, 35673, 35711, 35713, 35731, 35746, 35761, 35777, 35781, 35798, 35799, 35802, 35812, 35814, 35816, 35830, 35831, 35849, 35852, 35858, 35872, 35873, 35874, 35905, 35915, 35916, 35930, 35987, 35989, 35998, 36016, 36025, 36107, 36108, 36109, 36118, 36122, 36123, 36149, 36152, 36174, 36181, 36191, 36195, 36236, 36239, 36241, 36242, 36245, 36274, 36289, 36321, 36359, 36389, 36390, 36394, 36412, 36414, 36417, 36421, 36425, 36433, 36434, 36472, 36549, 36550, 36551, 36601, 36614, 36616, 36633, 36684, 36686, 36746, 36748, 36785, 36786, 36791, 36835, 36836, 36841, 36881, 36911, 36956, 37006, 37014, 37020, 37034, 37041, 37046, 37051, 37061, 37065, 37081, 37123, 37129, 37130, 37137, 37145, 37208, 37217, 37221, 37230, 37297, 37330, 37352, 37356, 37429, 37432, 37437, 37438, 37441, 37445, 37451, 37462, 37464, 37488, 37492, 37503, 37504, 37535, 37583, 37637, 37658, 37659, 37660, 37661, 37664, 37665, 37667, 37673, 37682, 37693, 37708, 37723, 37732, 37740, 37789, 37802, 37812, 37815, 37860, 37870, 37890, 37892, 37897, 37929, 37938, 37954, 37974, 37987, 38016, 38018, 38024, 38063, 38069, 38077, 38086, 38097, 38099, 38100, 38111, 38115, 38118, 38128, 38146, 38147, 38154, 38157, 38159, 38162, 38175, 38179, 38196, 38207, 38212, 38215, 38223, 38224, 38272, 38284, 38298, 38299, 38348, 38365, 38374, 38381, 38407, 38474, 38550, 38555, 38567, 38568, 38573, 38582, 38609, 38617, 38666, 38675, 38725, 38766, 38767, 38792, 38797, 38798, 38851, 38857, 38870, 38920, 38925, 38952, 38953, 38956, 38957, 38972, 38977, 38982, 38995, 39016, 39020, 39026, 39036, 39039, 39045, 39050, 39061, 39075, 39077, 39134, 39174, 39211, 39222, 39240, 39242, 39246, 39255, 39257, 39281, 39328, 39329, 39335, 39340, 39359, 39407, 39417, 39445, 39456, 39485, 39492, 39518, 39526, 39530, 39606, 39613, 39649, 39699, 39703, 39720, 39803, 39804, 39817, 39820, 39829, 39832, 39856, 39904, 39906, 39932, 39955, 39961, 39964, 39985, 39987, 40020, 40031, 40044, 40065, 40071, 40092, 40151, 40157, 40238, 40245, 40249, 40268, 40271, 40276, 40325, 40336, 40353, 40383, 40401, 40413, 40417, 40423, 40424, 40431, 40432, 40445, 40451, 40456, 40460, 40477, 40478, 40486, 40515, 40538, 40560, 40590, 40594, 40639, 40644, 40666, 40690, 40700, 40716, 40745, 40758, 40759, 40765, 40773, 40774, 40788, 40796, 40797, 40806, 40817, 40833, 40870, 40938, 40970, 40975, 40989, 41045, 41046, 41047, 41077, 41111, 41112, 41197, 41245, 41289, 41314, 41344, 41354, 41397, 41434, 41465, 41474, 41506, 41511, 41527, 41533, 41536, 41537, 41542, 41551, 41573, 41577, 41605, 41606, 41639, 41640, 41642, 41653, 41656, 41659, 41671, 41675, 41676, 41677, 41680, 41681, 41684, 41698, 41720, 41730, 41735, 41738, 41752, 41763, 41765, 41789, 41792, 41796, 41800, 41823, 41828, 41912, 41914, 41917, 41945, 41954, 41956, 41969, 41973, 41977, 42001, 42004, 42019, 42031, 42033, 42037, 42039, 42045, 42051, 42053, 42084, 42096, 42120, 42121, 42136, 42137, 42152, 42184, 42189, 42203, 42205, 42206, 42231, 42243, 42255, 42263, 42273, 42322, 42342, 42347, 42349, 42414, 42466, 42479, 42485, 42498, 42504, 42521, 42531, 42610, 42613, 42621, 42648, 42681, 42686, 42694, 42711, 42712, 42735, 42755, 42759, 42767, 42785, 42804, 42810, 42841, 42843, 42880, 42899, 42978, 43051, 43092, 43206, 43239, 43255, 43260, 43265, 43272, 43290, 43376, 43382, 43384, 43386, 43390, 43436, 43458, 43462, 43463, 43464, 43466, 43487, 43494, 43498, 43528, 43596, 43628, 43631, 43635, 43640, 43650, 43710, 43711, 43793, 43808, 43849, 43854, 43867, 43872, 43900, 43907, 43916, 43918, 43944, 43977, 43979, 43995, 43997, 44067, 44072, 44076, 44089, 44097, 44098, 44099, 44160, 44163, 44205, 44222, 44223, 44224, 44236, 44280, 44296, 44302, 44332, 44382, 44426, 44428, 44431, 44438, 44455, 44460, 44467, 44537, 44543, 44548, 44568, 44611, 44612, 44615, 44620, 44622, 44628, 44632, 44640, 44642, 44643, 44653, 44672, 44678, 44698, 44699, 44715, 44730, 44751, 44774, 44784, 44803, 44916, 44921, 44940, 44944, 44948, 44962, 44964, 44989, 44995, 45004, 45012, 45086, 45119, 45138, 45190, 45229, 45339, 45347, 45366, 45410, 45436, 45460, 45461, 45469, 45475, 45486, 45494, 45585, 45587, 45601, 45602, 45606, 45641, 45724, 45725, 45732, 45754, 45765, 45778, 45822, 45830, 45852, 45861, 45867, 45873, 45909, 45986, 46010, 46012, 46048, 46055, 46104, 46117, 46132, 46160, 46170, 46177, 46225, 46226, 46234, 46241, 46244, 46261, 46296, 46315, 46328, 46336, 46346, 46410, 46412, 46416, 46429, 46431, 46446, 46453, 46454, 46503, 46509, 46523, 46525, 46526, 46563, 46567, 46568, 46570, 46609, 46654, 46719, 46722, 46798, 46844, 46875, 46879, 46903, 46907, 46939, 46979, 47002, 47082, 47092, 47103, 47112, 47186, 47196, 47226, 47237, 47241, 47261, 47270, 47281, 47327, 47335, 47347, 47351, 47356, 47416, 47426, 47440, 47441, 47449, 47452, 47460, 47473, 47486, 47499, 47547, 47561, 47593, 47605, 47680, 47685, 47687, 47693, 47722, 47729, 47750, 47776, 47783, 47804, 47813, 47832, 47843, 47848, 47853, 47854, 47893, 47896, 47925, 48026, 48075, 48081, 48106, 48116, 48117, 48144, 48176, 48269, 48270, 48320, 48334, 48357, 48370, 48401, 48420, 48421, 48441, 48456, 48480, 48490, 48491, 48510, 48530, 48545, 48548, 48577, 48596, 48612, 48668, 48669, 48685, 48701, 48708, 48738, 48742, 48745, 48747, 48774, 48812, 48856, 48860, 48861, 48873, 48874, 48934, 48941, 48976, 49011, 49055, 49069, 49105, 49124, 49152, 49199, 49248, 49254, 49255, 49261, 49266, 49273, 49297, 49321, 49328, 49386, 49389, 49393, 49396, 49405, 49430, 49471, 49473, 49589, 49619, 49628, 49671, 49673, 49691, 49707, 49723, 49734, 49739, 49755, 49756, 49760, 49763, 49803, 49822, 49830, 49843, 49847, 49865, 49867, 49871, 49924, 49928, 49933, 49940, 49941, 49945, 49959, 49964, 49968, 49976, 49983, 49986, 49988, 49989, 49990, 50074, 50080, 50084, 50089, 50103, 50104, 50109, 50110, 50146, 50185, 50242, 50248, 50382, 50421, 50449, 50451, 50460, 50476, 50479, 50490, 50491, 50505, 50511, 50513, 50574, 50786, 50810, 50820, 50834, 50843, 50885, 50892, 50904, 50908, 50911, 50933, 50948, 50962, 50976, 50983, 50989, 50997, 51028, 51043, 51065, 51071, 51081, 51084, 51098, 51117, 51151, 51198, 51207, 51254, 51255, 51274, 51277, 51316, 51322, 51360, 51363, 51411, 51523, 51611, 51614, 51626, 51656, 51663, 51670, 51719, 51747, 51748, 51785, 51816, 51848, 51854, 51878, 51899, 51905, 51928, 51955, 51965, 51980, 51990, 51992, 51995, 52003, 52010, 52032, 52082, 52085, 52103, 52105, 52120, 52134, 52144, 52146, 52185, 52207, 52217, 52241, 52242, 52257, 52258, 52295, 52305, 52343, 52360, 52372, 52377, 52387, 52412, 52426, 52458, 52472, 52473, 52577, 52597, 52599, 52606, 52630, 52635, 52669, 52688, 52698, 52704, 52707, 52749, 52758, 52763, 52775, 52780, 52782, 52826, 52828, 52831, 52854, 52859, 52878, 52882, 52900, 52917, 52921, 52932, 52972, 52986, 53002, 53009, 53015, 53027, 53038, 53042, 53076, 53085, 53105, 53169, 53198, 53236, 53282, 53303, 53334, 53390, 53446, 53472, 53493, 53518, 53531, 53573, 53577, 53583, 53591, 53630, 53634, 53651, 53696, 53729, 53749, 53804, 53874, 53894, 53926, 53935, 53963, 53972, 53975, 54019, 54041, 54088, 54103, 54131, 54224, 54237, 54259, 54269, 54275, 54279, 54287, 54299, 54307, 54374, 54377, 54386, 54403, 54446, 54531, 54537, 54574, 54582, 54598, 54602, 54657, 54674, 54684, 54687, 54712, 54731, 54732, 54778, 54787, 54833, 54849, 54873, 54874, 54879, 54927, 54949, 54957, 54962, 55017, 55037, 55107, 55142, 55145, 55170, 55218, 55239, 55250, 55251, 55254, 55267, 55284, 55318, 55352, 55455, 55481, 55497, 55524, 55525, 55530, 55540, 55545, 55547, 55570, 55571, 55573, 55576, 55633, 55642, 55649, 55665, 55669, 55686, 55783, 55802, 55805, 55808, 55820, 55840, 55956, 55960, 55968, 55973, 55989, 56041, 56111, 56159, 56221, 56239, 56277, 56289, 56290, 56291, 56307, 56347, 56359, 56362, 56398, 56403, 56447, 56482, 56492, 56499, 56508, 56580, 56615, 56663, 56674, 56684, 56689, 56696, 56804, 56811, 56820, 56889, 56890, 56895, 56931, 56950, 56994, 57002, 57028, 57043, 57065, 57094, 57185, 57263, 57276, 57288, 57294, 57297, 57301, 57317, 57338, 57349, 57412, 57430, 57437, 57487, 57488, 57493, 57505, 57537, 57609, 57626, 57635, 57659, 57719, 57752, 57753, 57780, 57825, 57851, 57862, 57927, 57946, 57977, 57998, 58045, 58073, 58090, 58091, 58093, 58108, 58136, 58204, 58225, 58253, 58255, 58262, 58273, 58399, 58423, 58442, 58491, 58538, 58565, 58568, 58572, 58591, 58596, 58637, 58658, 58659, 58666, 58674, 58675, 58725, 58749, 58784, 58791, 58864, 58870, 58902, 58932, 59005, 59031, 59033, 59086, 59111, 59118, 59180, 59193, 59195, 59196, 59199, 59213, 59266, 59275, 59279, 59293, 59305, 59341, 59374, 59387, 59398, 59425, 59427, 59429, 59453, 59463, 59483, 59517, 59558, 59566, 59576, 59577, 59620, 59651, 59666, 59689, 59811, 59838, 59851, 59996, 60014, 60028, 60041, 60045, 60061, 60064, 60103, 60137, 60250, 60282, 60290, 60294, 60305, 60360, 60389, 60399, 60464, 60473, 60481, 60490, 60536, 60547, 60605, 60622, 60644, 60662, 60676, 60681, 60690, 60714, 60724, 60748, 60749, 60754, 60824, 60877, 60914, 60919, 60950, 61007, 61011, 61014, 61051, 61085, 61194, 61201, 61208, 61211, 61212, 61259, 61273, 61288, 61298, 61307, 61312, 61336, 61415, 61428, 61488, 61550, 61604, 61689, 61698, 61703, 61727, 61746, 61759, 61770, 61773, 61789, 61827, 61897, 61949, 62009, 62063, 62081, 62136, 62170, 62175, 62196, 62197, 62216, 62257, 62312, 62402, 62412, 62423, 62452, 62457, 62478, 62485, 62512, 62513, 62532, 62546, 62562, 62658, 62699, 62708, 62711, 62730, 62749, 62764, 62774, 62877, 62889, 62924, 62925, 62945, 62981, 63047, 63053, 63074, 63078, 63092, 63095, 63117, 63136, 63178, 63188, 63189, 63193, 63267, 63305, 63306, 63349, 63357, 63381, 63391, 63484, 63485, 63505, 63550, 63612, 63627, 63637, 63690, 63708, 63713, 63714, 63716, 63782, 63784, 63794, 63813, 63816, 63846, 63905, 63953, 63960, 63964, 63967, 63971, 63987, 64025, 64038, 64047, 64052, 64054, 64107, 64111, 64128, 64190, 64216, 64232, 64233, 64282, 64299, 64321, 64323, 64331, 64335, 64339, 64343, 64379, 64393, 64402, 64425, 64451, 64464, 64498, 64499, 64510, 64522, 64531, 64577, 64596, 64597, 64614, 64620, 64621, 64629, 64642, 64655, 64673, 64705, 64709, 64716, 64730, 64757, 64776, 64779, 64784, 64785, 64806, 64814, 64827, 64857, 64858, 64898, 64913, 64927, 64942, 64945, 64974, 65085, 65125, 65151, 65157, 65191, 65192, 65217, 65251, 65285, 65300, 65337, 65428, 65442, 65532, 65546, 65582, 65585, 65594, 65602, 65606, 65607, 65649, 65654, 65655, 65658, 65701, 65737, 65769, 65786, 65792, 65795, 65815, 65820, 65834, 65840, 65858, 65869, 65873, 65903, 65906, 65909, 65956, 65962, 66008, 66034, 66038, 66102, 66152, 66172, 66178, 66179, 66206, 66209, 66252, 66256, 66271, 66283, 66284, 66326, 66386, 66398, 66430, 66454, 66465, 66483, 66615, 66650, 66693, 66722, 66728, 66768, 66791, 66834, 66848, 66850, 66903, 66911, 66913, 66961, 66970, 67025, 67037, 67043, 67065, 67097, 67110, 67114, 67117, 67128, 67229, 67232, 67254, 67325, 67344, 67370, 67385, 67480, 67481, 67496, 67498, 67504, 67508, 67525, 67576, 67592, 67609, 67646, 67653, 67713, 67851, 67853, 67895, 67912, 67976, 67979, 67994, 67997, 67999, 68001, 68040, 68073, 68086, 68120, 68129, 68154, 68167, 68201, 68209, 68229, 68257, 68260, 68290, 68293, 68319, 68383, 68384, 68386, 68399, 68428, 68438, 68453, 68466, 68479, 68488, 68539, 68552, 68562, 68571, 68591, 68596, 68599, 68602, 68620, 68624, 68746, 68807, 68860, 68884, 68915, 68919, 68945, 68952, 68959, 69005, 69037, 69053, 69112, 69124, 69142, 69189, 69192, 69202, 69204, 69240, 69253, 69262, 69292, 69299, 69317, 69328, 69329, 69352, 69387, 69395, 69425, 69456, 69500, 69563, 69576, 69619, 69696, 69704, 69750, 69765, 69777, 69791, 69815, 69825, 69840, 69868, 69870, 69882, 69915, 69959, 69985, 69987, 70054, 70098, 70149, 70186, 70197, 70230, 70274, 70279, 70303, 70359, 70420, 70444, 70446, 70464, 70591, 70619, 70737, 70771, 70777, 70783, 70784, 70801, 70839, 70879, 70884, 70930, 70969, 70973, 71029, 71042, 71072, 71087, 71109, 71150, 71156, 71158, 71243, 71331, 71352, 71398, 71447, 71489, 71515, 71621, 71671, 71693, 71702, 71744, 71748, 71751, 71759, 71825, 71826, 71842, 71843, 71848, 71860, 71874, 71884, 71890, 71899, 71947, 71951, 71953, 71972, 71985, 72022, 72023, 72026, 72049, 72060, 72067, 72112, 72127, 72131, 72152, 72184, 72228, 72244, 72251, 72260, 72276, 72295, 72299, 72315, 72317, 72339, 72345, 72382, 72384, 72408, 72417, 72421, 72432, 72448, 72468, 72469, 72470, 72471, 72481, 72489, 72494, 72518, 72537, 72542, 72591, 72662, 72664, 72688, 72690, 72700, 72713, 72737, 72757, 72758, 72769, 72797, 72861, 72870, 72874, 72926, 72927, 72942, 72945, 72948, 72951, 72954, 72965, 72987, 72996, 72998, 72999, 73015, 73043, 73067, 73068, 73069, 73091, 73124, 73129, 73162, 73176, 73178, 73179, 73213, 73252, 73320, 73322, 73331, 73334, 73335, 73342, 73343, 73345, 73385, 73401, 73436, 73461, 73469, 73471, 73494, 73502, 73526, 73528, 73552, 73553, 73556, 73571, 73574, 73587, 73606, 73620, 73631, 73642, 73643, 73658, 73661, 73663, 73679, 73685, 73686, 73694, 73695, 73706, 73715, 73734, 73741, 73744, 73759, 73765, 73770, 73777, 73782, 73783, 73800, 73820, 73856, 73887, 73934, 73975, 73982, 73983, 74006, 74023, 74067, 74079, 74105, 74116, 74144, 74148, 74153, 74164, 74188, 74199, 74210, 74253, 74257, 74277, 74308, 74328, 74333, 74335, 74348, 74355, 74361, 74385, 74406, 74407, 74429, 74432, 74445, 74472, 74602, 74617, 74622, 74624, 74659, 74665, 74679, 74682, 74700, 74705, 74731, 74752, 74778, 74828, 74910, 74938, 74954, 74958, 74959, 74992, 74997, 75013, 75045, 75075, 75140, 75150, 75151, 75167, 75168, 75170, 75212, 75247, 75258, 75277, 75317, 75341, 75352, 75358, 75373, 75375, 75377, 75408, 75418, 75431, 75439, 75491, 75499, 75507, 75511, 75522, 75524, 75533, 75540, 75555, 75556, 75567, 75579, 75609, 75620, 75712, 75714, 75759, 75818, 75835, 75872, 75889, 75897, 75923, 75957, 75978, 76002, 76038, 76045, 76056, 76131, 76144, 76166, 76193, 76194, 76207, 76211, 76219, 76233, 76236, 76267, 76270, 76298, 76305, 76343, 76346, 76348, 76425, 76431, 76460, 76472, 76473, 76515, 76530, 76541, 76563, 76619, 76628, 76632, 76634, 76635, 76643, 76679, 76685, 76705, 76718, 76719, 76797, 76809, 76866, 76876, 76877, 76902, 76917, 76928, 76942, 76952, 77004, 77019, 77022, 77130, 77133, 77167, 77175, 77195, 77197, 77226, 77231, 77235, 77268, 77322, 77369, 77413, 77441, 77448, 77451, 77452, 77459, 77471, 77501, 77508, 77514, 77518, 77549, 77578, 77601, 77606, 77609, 77633, 77649, 77656, 77671, 77672, 77683, 77713, 77732, 77733, 77779, 77791, 77793, 77830, 77854, 77864, 77890, 77921, 77943, 77970, 77995, 78037, 78039, 78049, 78056, 78109, 78121, 78154, 78243, 78244, 78246, 78248, 78255, 78268, 78306, 78309, 78321, 78370, 78412, 78475, 78563, 78565, 78578, 78590, 78604, 78619, 78626, 78627, 78636, 78645, 78686, 78688, 78696, 78701, 78710, 78716, 78725, 78751, 78766, 78848, 78851, 78854, 78890, 78892, 78981, 79049, 79055, 79062, 79080, 79168, 79171, 79178, 79180, 79218, 79260, 79289, 79293, 79351, 79373, 79377, 79409, 79427, 79478, 79509, 79532, 79545, 79569, 79613, 79619, 79651, 79654, 79707, 79725, 79727, 79736, 79765, 79775, 79808, 79811, 79854, 79858, 79871, 79897, 79901, 79924, 79935, 79947, 79960, 79986, 79987, 80004, 80020, 80033, 80041, 80057, 80066, 80067, 80069, 80075, 80088, 80108, 80112, 80115, 80156, 80158, 80169, 80180, 80198, 80201, 80261, 80274, 80290, 80292, 80310, 80327, 80343, 80346, 80364, 80393, 80401, 80450, 80492, 80504, 80514, 80556, 80559, 80573, 80636, 80656, 80658, 80666, 80696, 80712, 80717, 80873, 80880, 80889, 80933, 80968, 80995, 80999, 81025, 81051, 81074, 81142, 81175, 81185, 81225, 81235, 81254, 81289, 81300, 81366, 81379, 81397, 81500, 81501, 81522, 81550, 81604, 81616, 81646, 81716, 81732, 81825, 81827, 81865, 81886, 81895, 81903, 81915, 81925, 81930, 81962, 81981, 81993, 81994, 82001, 82007, 82020, 82064, 82128, 82222, 82227, 82234, 82261, 82298, 82320, 82340, 82345, 82376, 82407, 82459, 82618, 82620, 82645, 82669, 82687, 82699, 82745, 82776, 82779, 82780, 82784, 82786, 82811, 82830, 82833, 82848, 82915, 82946, 82956, 82958, 83092, 83098, 83124, 83190, 83194, 83243, 83249, 83289, 83295, 83296, 83316, 83329, 83338, 83339, 83348, 83357, 83384, 83404, 83440, 83458, 83486, 83604, 83638, 83652, 83694, 83765, 84007, 84017, 84021, 84031, 84105, 84120, 84161, 84167, 84188, 84212, 84219, 84327, 84397, 84452, 84456, 84489, 84494, 84521, 84525, 84544, 84554, 84610, 84678, 84748, 84797, 84803, 84825, 84834, 84838, 84839, 84863, 84882, 84883, 84911, 84938, 84939, 84943, 84947, 84957, 84964, 84995, 85028, 85101, 85119, 85121, 85150, 85229, 85280, 85313, 85329, 85382, 85383, 85389, 85391, 85434, 85450, 85501, 85529, 85559, 85627, 85638, 85641, 85668, 85680, 85711, 85721, 85769, 85770, 85800, 85804, 85808, 85822, 85869, 85872, 85903, 85910, 85942, 85943, 85944, 85976, 85985, 86050, 86077, 86089, 86093, 86094, 86117, 86121, 86166, 86169, 86181, 86188, 86248, 86249, 86250, 86255, 86256, 86265, 86273, 86463, 86526, 86538, 86625, 86626, 86706, 86710, 86737, 86758, 86833, 86861, 86881, 86906, 86914, 86915, 86918, 86925, 86932, 86934, 86935, 86936, 86962, 86969, 86979, 86980, 86993, 87008, 87014, 87065, 87116, 87143, 87144, 87214, 87259, 87275, 87278, 87308, 87358, 87370, 87385, 87426, 87464, 87477, 87522, 87564, 87589, 87594, 87656, 87664, 87674, 87704, 87714, 87726, 87780, 87807, 87810, 87902, 87928, 87947, 87977, 87980, 87986, 88024, 88031, 88086, 88123, 88138, 88158, 88216, 88251, 88295, 88324, 88355, 88370, 88473, 88549, 88601, 88709, 88719, 88753, 88756, 88813, 88839, 88849, 88955, 88965, 88966, 88976, 88982, 88992, 89036, 89037, 89125, 89142, 89145, 89197, 89218, 89221, 89247, 89251, 89292, 89312, 89348, 89446, 89464, 89475, 89529, 89612, 89674, 89730, 89807, 89849, 89864, 89897, 89949, 89951, 89953, 89970, 89991, 89993, 90012, 90053, 90093, 90129, 90139, 90177, 90198, 90232, 90274, 90401, 90405, 90490, 90557, 90586, 90595, 90630, 90743, 90752, 90753, 90792, 90799, 90899, 90949, 90950, 90970, 90979, 91082, 91175, 91181, 91244, 91393, 91394, 91522, 91672, 91689, 91698, 91712, 91744, 91781, 91783, 91787, 91871, 91875, 91896, 91900, 92031, 92032, 92066, 92086, 92127, 92534, 92539, 92554, 92568, 92630, 92631, 92715, 92766, 92805, 92838, 92861, 93020, 93065, 93093, 93112, 93125, 93133, 93145, 93165, 93193, 93194, 93197, 93224, 93240, 93391, 93399, 93481, 93488, 93492, 93591, 93597, 93608, 93635, 93638, 93645, 93652, 93678, 93689, 93741, 93847, 93867, 93868, 93881, 93896, 93951, 93953, 93961, 94046, 94202, 94225, 94395, 94396, 94447, 94464, 94575, 94708, 94734, 94763, 94767, 94778, 94829, 94836, 94838, 94912, 94930, 94935, 94953, 94967, 95035, 95081, 95102, 95143, 95146, 95162, 95164, 95200, 95301, 95315, 95321, 95341, 95351, 95357, 95364, 95366, 95368, 95386, 95392, 95393, 95410, 95666, 95677, 95698, 95799, 95918, 95940, 96053, 96067])  Lucasfilm\n"
          ],
          "name": "stdout"
        }
      ]
    },
    {
      "cell_type": "markdown",
      "metadata": {
        "id": "MdOWlJlqrkB3"
      },
      "source": [
        "On va pouvoir remplacer les noms des compagnies de production maintenant pour les homogénéiser. "
      ]
    },
    {
      "cell_type": "code",
      "metadata": {
        "id": "tNylrFtsh5KM"
      },
      "source": [
        "for film in trange(len(df.index)):\n",
        "  num_prod = df.production_companies_id[film]\n",
        "  df.replace(df.production_companies_name[film], dico_pc[num_prod])"
      ],
      "execution_count": null,
      "outputs": []
    },
    {
      "cell_type": "markdown",
      "metadata": {
        "id": "lAFJjUIwfWun"
      },
      "source": [
        "#### *production_countries*"
      ]
    },
    {
      "cell_type": "code",
      "metadata": {
        "colab": {
          "base_uri": "https://localhost:8080/"
        },
        "id": "-rXKqdyWbmXT",
        "outputId": "a3b37a96-c873-4112-c9d8-6ea42e5e410c"
      },
      "source": [
        "df.production_countries.str.split(',').str.get(1)"
      ],
      "execution_count": 108,
      "outputs": [
        {
          "output_type": "execute_result",
          "data": {
            "text/plain": [
              "0         'name': 'United States of America'}]\n",
              "1         'name': 'United States of America'}]\n",
              "2         'name': 'United States of America'}]\n",
              "3         'name': 'United States of America'}]\n",
              "4         'name': 'United States of America'}]\n",
              "                         ...                  \n",
              "45461                         'name': 'Iran'}]\n",
              "45462                  'name': 'Philippines'}]\n",
              "45463     'name': 'United States of America'}]\n",
              "45464                       'name': 'Russia'}]\n",
              "45465               'name': 'United Kingdom'}]\n",
              "Name: production_countries, Length: 45417, dtype: object"
            ]
          },
          "metadata": {
            "tags": []
          },
          "execution_count": 108
        }
      ]
    },
    {
      "cell_type": "code",
      "metadata": {
        "id": "nSIJfrWhnf3E"
      },
      "source": [
        "df_temp = df.production_countries.str.split(',')\n",
        "df_1 = pd.DataFrame()\n",
        "df_2 = pd.DataFrame()\n",
        "df_1['country_code'] = df_temp.str.get(0)\n",
        "df_1['country_name'] = df_temp.str.get(1)\n",
        "df['country_code'] = df_1.country_code.str.split(':').str.get(1)\n",
        "df_2['country_name_try'] = df_1.country_name.str.split(':').str.get(1)\n",
        "df['country_name']=df_2['country_name_try'].str.split('}').str.get(0)\n",
        "\n",
        "df.country_code = df.country_code.str.replace(r'[^\\w\\s]+', '')\n",
        "df.country_name = df.country_name.str.replace(r'[^\\w\\s]+', '')"
      ],
      "execution_count": 109,
      "outputs": []
    },
    {
      "cell_type": "markdown",
      "metadata": {
        "id": "ieou0TUSnnbc"
      },
      "source": [
        "On supprime les colonnes dédoublées à cause du nettoyage"
      ]
    },
    {
      "cell_type": "code",
      "metadata": {
        "id": "uJD0j0F2niJp"
      },
      "source": [
        "df = df.drop(columns=['production_companies','production_countries'])"
      ],
      "execution_count": 110,
      "outputs": []
    },
    {
      "cell_type": "code",
      "metadata": {
        "colab": {
          "base_uri": "https://localhost:8080/",
          "height": 299
        },
        "id": "T3RpkYMOnp8B",
        "outputId": "7919ae89-ab08-4206-cf56-866db27111d4"
      },
      "source": [
        "fig, ax = plt.subplots(figsize=(2,4))\n",
        "sns.heatmap(df[['country_name']].isnull(),cbar=False)\n",
        "plt.title('Complétude après nettoyage')\n",
        "print('Country_name est complet à ',(1-len(df.country_name[df.country_name.isnull()])/len(df.country_name))*100,'%')"
      ],
      "execution_count": 111,
      "outputs": [
        {
          "output_type": "stream",
          "text": [
            "Country_name est complet à  86.1857894620957 %\n"
          ],
          "name": "stdout"
        },
        {
          "output_type": "display_data",
          "data": {
            "image/png": "[encoded data removed]",
            "text/plain": [
              "<Figure size 144x288 with 1 Axes>"
            ]
          },
          "metadata": {
            "tags": [],
            "needs_background": "light"
          }
        }
      ]
    },
    {
      "cell_type": "code",
      "metadata": {
        "colab": {
          "base_uri": "https://localhost:8080/"
        },
        "id": "DAqYRgXOnwtZ",
        "outputId": "bced8785-c60a-4839-dbbe-9a64ce288003"
      },
      "source": [
        "df.columns"
      ],
      "execution_count": 112,
      "outputs": [
        {
          "output_type": "execute_result",
          "data": {
            "text/plain": [
              "Index(['budget', 'genres', 'id', 'imdb_id', 'original_language',\n",
              "       'original_title', 'overview', 'popularity', 'release_date', 'revenue',\n",
              "       'runtime', 'status', 'title', 'vote_average', 'vote_count',\n",
              "       'collection', 'score_1', 'production_companies_name',\n",
              "       'production_companies_id', 'pc_id_count', 'country_code',\n",
              "       'country_name'],\n",
              "      dtype='object')"
            ]
          },
          "metadata": {
            "tags": []
          },
          "execution_count": 112
        }
      ]
    },
    {
      "cell_type": "code",
      "metadata": {
        "id": "VbkFt4hFn5eT"
      },
      "source": [
        ""
      ],
      "execution_count": 112,
      "outputs": []
    },
    {
      "cell_type": "markdown",
      "metadata": {
        "id": "2-RbAh9IwTdD"
      },
      "source": [
        "### *Genre*\n",
        "Le but de cette partie est de supprimer les caractères non-essentiels qui se trouvent dans les cellules de cette colonne, tels que les id et les name.\n",
        "\n",
        "\n"
      ]
    },
    {
      "cell_type": "code",
      "metadata": {
        "colab": {
          "base_uri": "https://localhost:8080/",
          "height": 35
        },
        "id": "cXnrPctNxwPu",
        "outputId": "16fa7fbc-ac14-4670-f898-54e9b3d0b7ff"
      },
      "source": [
        "df.genres = df.genres.str.replace(r'[^\\w\\s]+', '')\n",
        "df.genres[0]"
      ],
      "execution_count": 113,
      "outputs": [
        {
          "output_type": "execute_result",
          "data": {
            "application/vnd.google.colaboratory.intrinsic+json": {
              "type": "string"
            },
            "text/plain": [
              "'id 16 name Animation id 35 name Comedy id 10751 name Family'"
            ]
          },
          "metadata": {
            "tags": []
          },
          "execution_count": 113
        }
      ]
    },
    {
      "cell_type": "markdown",
      "metadata": {
        "id": "k7CG1VaBx48Y"
      },
      "source": [
        "Dans cet exemple, il nous faut seulement les mots Animation, Comedy et Family. Grâce à la fonction split(), nous pouvons transformer cette chaîne de caractère en liste, puis récupérer les mots qui nous intéressent. Le code suivant réalise cette opération pour toutes les cellules de cette colonne"
      ]
    },
    {
      "cell_type": "code",
      "metadata": {
        "colab": {
          "base_uri": "https://localhost:8080/",
          "height": 1000,
          "referenced_widgets": [
            "459b0a015f7d4b55a0288929cd5aa778",
            "882104b843314054ba37fb7ce070e15d",
            "ce98e6da58c84d2aa5718ccda655574d",
            "dcb15be2e67e4b30927ecf704b8a75ca",
            "1505ad4b1d004e78988a05478c02ce1b",
            "279662ffe6734de1b39511953d6973e9",
            "80f3f35611144e41abaacb8edf42e3fd",
            "05a99efbbf3c44e9bc67f80ee2e1dfc5"
          ]
        },
        "id": "GAoFakMnx0wS",
        "outputId": "2ffede3e-1b96-466b-abdf-f5e0db6d30ad"
      },
      "source": [
        "for i in trange(len(df)):\n",
        "  genre = df.genres[i].split()\n",
        "  df.genres[i] = \"\"\n",
        "  for j in range(len(genre)//4):\n",
        "    if j == 0 :\n",
        "      df.genres[i] = df.genres[i] + genre[3]\n",
        "    else : \n",
        "      df.genres[i] = df.genres[i] + ', ' + genre[3 + j*4]"
      ],
      "execution_count": 114,
      "outputs": [
        {
          "output_type": "display_data",
          "data": {
            "application/vnd.jupyter.widget-view+json": {
              "model_id": "459b0a015f7d4b55a0288929cd5aa778",
              "version_minor": 0,
              "version_major": 2
            },
            "text/plain": [
              "HBox(children=(FloatProgress(value=0.0, max=45417.0), HTML(value='')))"
            ]
          },
          "metadata": {
            "tags": []
          }
        },
        {
          "output_type": "stream",
          "text": [
            "/usr/local/lib/python3.6/dist-packages/ipykernel_launcher.py:3: SettingWithCopyWarning:\n",
            "\n",
            "\n",
            "A value is trying to be set on a copy of a slice from a DataFrame\n",
            "\n",
            "See the caveats in the documentation: https://pandas.pydata.org/pandas-docs/stable/user_guide/indexing.html#returning-a-view-versus-a-copy\n",
            "\n",
            "/usr/local/lib/python3.6/dist-packages/ipykernel_launcher.py:6: SettingWithCopyWarning:\n",
            "\n",
            "\n",
            "A value is trying to be set on a copy of a slice from a DataFrame\n",
            "\n",
            "See the caveats in the documentation: https://pandas.pydata.org/pandas-docs/stable/user_guide/indexing.html#returning-a-view-versus-a-copy\n",
            "\n",
            "/usr/local/lib/python3.6/dist-packages/ipykernel_launcher.py:8: SettingWithCopyWarning:\n",
            "\n",
            "\n",
            "A value is trying to be set on a copy of a slice from a DataFrame\n",
            "\n",
            "See the caveats in the documentation: https://pandas.pydata.org/pandas-docs/stable/user_guide/indexing.html#returning-a-view-versus-a-copy\n",
            "\n"
          ],
          "name": "stderr"
        },
        {
          "output_type": "error",
          "ename": "KeyError",
          "evalue": "ignored",
          "traceback": [
            "\u001b[0;31m---------------------------------------------------------------------------\u001b[0m",
            "\u001b[0;31mKeyError\u001b[0m                                  Traceback (most recent call last)",
            "\u001b[0;32m/usr/local/lib/python3.6/dist-packages/pandas/core/indexes/base.py\u001b[0m in \u001b[0;36mget_loc\u001b[0;34m(self, key, method, tolerance)\u001b[0m\n\u001b[1;32m   2894\u001b[0m             \u001b[0;32mtry\u001b[0m\u001b[0;34m:\u001b[0m\u001b[0;34m\u001b[0m\u001b[0;34m\u001b[0m\u001b[0m\n\u001b[0;32m-> 2895\u001b[0;31m                 \u001b[0;32mreturn\u001b[0m \u001b[0mself\u001b[0m\u001b[0;34m.\u001b[0m\u001b[0m_engine\u001b[0m\u001b[0;34m.\u001b[0m\u001b[0mget_loc\u001b[0m\u001b[0;34m(\u001b[0m\u001b[0mcasted_key\u001b[0m\u001b[0;34m)\u001b[0m\u001b[0;34m\u001b[0m\u001b[0;34m\u001b[0m\u001b[0m\n\u001b[0m\u001b[1;32m   2896\u001b[0m             \u001b[0;32mexcept\u001b[0m \u001b[0mKeyError\u001b[0m \u001b[0;32mas\u001b[0m \u001b[0merr\u001b[0m\u001b[0;34m:\u001b[0m\u001b[0;34m\u001b[0m\u001b[0;34m\u001b[0m\u001b[0m\n",
            "\u001b[0;32mpandas/_libs/index.pyx\u001b[0m in \u001b[0;36mpandas._libs.index.IndexEngine.get_loc\u001b[0;34m()\u001b[0m\n",
            "\u001b[0;32mpandas/_libs/index.pyx\u001b[0m in \u001b[0;36mpandas._libs.index.IndexEngine.get_loc\u001b[0;34m()\u001b[0m\n",
            "\u001b[0;32mpandas/_libs/hashtable_class_helper.pxi\u001b[0m in \u001b[0;36mpandas._libs.hashtable.Int64HashTable.get_item\u001b[0;34m()\u001b[0m\n",
            "\u001b[0;32mpandas/_libs/hashtable_class_helper.pxi\u001b[0m in \u001b[0;36mpandas._libs.hashtable.Int64HashTable.get_item\u001b[0;34m()\u001b[0m\n",
            "\u001b[0;31mKeyError\u001b[0m: 1465",
            "\nThe above exception was the direct cause of the following exception:\n",
            "\u001b[0;31mKeyError\u001b[0m                                  Traceback (most recent call last)",
            "\u001b[0;32m<ipython-input-114-80540c3d1556>\u001b[0m in \u001b[0;36m<module>\u001b[0;34m()\u001b[0m\n\u001b[1;32m      1\u001b[0m \u001b[0;32mfor\u001b[0m \u001b[0mi\u001b[0m \u001b[0;32min\u001b[0m \u001b[0mtrange\u001b[0m\u001b[0;34m(\u001b[0m\u001b[0mlen\u001b[0m\u001b[0;34m(\u001b[0m\u001b[0mdf\u001b[0m\u001b[0;34m)\u001b[0m\u001b[0;34m)\u001b[0m\u001b[0;34m:\u001b[0m\u001b[0;34m\u001b[0m\u001b[0;34m\u001b[0m\u001b[0m\n\u001b[0;32m----> 2\u001b[0;31m   \u001b[0mgenre\u001b[0m \u001b[0;34m=\u001b[0m \u001b[0mdf\u001b[0m\u001b[0;34m.\u001b[0m\u001b[0mgenres\u001b[0m\u001b[0;34m[\u001b[0m\u001b[0mi\u001b[0m\u001b[0;34m]\u001b[0m\u001b[0;34m.\u001b[0m\u001b[0msplit\u001b[0m\u001b[0;34m(\u001b[0m\u001b[0;34m)\u001b[0m\u001b[0;34m\u001b[0m\u001b[0;34m\u001b[0m\u001b[0m\n\u001b[0m\u001b[1;32m      3\u001b[0m   \u001b[0mdf\u001b[0m\u001b[0;34m.\u001b[0m\u001b[0mgenres\u001b[0m\u001b[0;34m[\u001b[0m\u001b[0mi\u001b[0m\u001b[0;34m]\u001b[0m \u001b[0;34m=\u001b[0m \u001b[0;34m\"\"\u001b[0m\u001b[0;34m\u001b[0m\u001b[0;34m\u001b[0m\u001b[0m\n\u001b[1;32m      4\u001b[0m   \u001b[0;32mfor\u001b[0m \u001b[0mj\u001b[0m \u001b[0;32min\u001b[0m \u001b[0mrange\u001b[0m\u001b[0;34m(\u001b[0m\u001b[0mlen\u001b[0m\u001b[0;34m(\u001b[0m\u001b[0mgenre\u001b[0m\u001b[0;34m)\u001b[0m\u001b[0;34m//\u001b[0m\u001b[0;36m4\u001b[0m\u001b[0;34m)\u001b[0m\u001b[0;34m:\u001b[0m\u001b[0;34m\u001b[0m\u001b[0;34m\u001b[0m\u001b[0m\n\u001b[1;32m      5\u001b[0m     \u001b[0;32mif\u001b[0m \u001b[0mj\u001b[0m \u001b[0;34m==\u001b[0m \u001b[0;36m0\u001b[0m \u001b[0;34m:\u001b[0m\u001b[0;34m\u001b[0m\u001b[0;34m\u001b[0m\u001b[0m\n",
            "\u001b[0;32m/usr/local/lib/python3.6/dist-packages/pandas/core/series.py\u001b[0m in \u001b[0;36m__getitem__\u001b[0;34m(self, key)\u001b[0m\n\u001b[1;32m    880\u001b[0m \u001b[0;34m\u001b[0m\u001b[0m\n\u001b[1;32m    881\u001b[0m         \u001b[0;32melif\u001b[0m \u001b[0mkey_is_scalar\u001b[0m\u001b[0;34m:\u001b[0m\u001b[0;34m\u001b[0m\u001b[0;34m\u001b[0m\u001b[0m\n\u001b[0;32m--> 882\u001b[0;31m             \u001b[0;32mreturn\u001b[0m \u001b[0mself\u001b[0m\u001b[0;34m.\u001b[0m\u001b[0m_get_value\u001b[0m\u001b[0;34m(\u001b[0m\u001b[0mkey\u001b[0m\u001b[0;34m)\u001b[0m\u001b[0;34m\u001b[0m\u001b[0;34m\u001b[0m\u001b[0m\n\u001b[0m\u001b[1;32m    883\u001b[0m \u001b[0;34m\u001b[0m\u001b[0m\n\u001b[1;32m    884\u001b[0m         \u001b[0;32mif\u001b[0m \u001b[0mis_hashable\u001b[0m\u001b[0;34m(\u001b[0m\u001b[0mkey\u001b[0m\u001b[0;34m)\u001b[0m\u001b[0;34m:\u001b[0m\u001b[0;34m\u001b[0m\u001b[0;34m\u001b[0m\u001b[0m\n",
            "\u001b[0;32m/usr/local/lib/python3.6/dist-packages/pandas/core/series.py\u001b[0m in \u001b[0;36m_get_value\u001b[0;34m(self, label, takeable)\u001b[0m\n\u001b[1;32m    987\u001b[0m \u001b[0;34m\u001b[0m\u001b[0m\n\u001b[1;32m    988\u001b[0m         \u001b[0;31m# Similar to Index.get_value, but we do not fall back to positional\u001b[0m\u001b[0;34m\u001b[0m\u001b[0;34m\u001b[0m\u001b[0;34m\u001b[0m\u001b[0m\n\u001b[0;32m--> 989\u001b[0;31m         \u001b[0mloc\u001b[0m \u001b[0;34m=\u001b[0m \u001b[0mself\u001b[0m\u001b[0;34m.\u001b[0m\u001b[0mindex\u001b[0m\u001b[0;34m.\u001b[0m\u001b[0mget_loc\u001b[0m\u001b[0;34m(\u001b[0m\u001b[0mlabel\u001b[0m\u001b[0;34m)\u001b[0m\u001b[0;34m\u001b[0m\u001b[0;34m\u001b[0m\u001b[0m\n\u001b[0m\u001b[1;32m    990\u001b[0m         \u001b[0;32mreturn\u001b[0m \u001b[0mself\u001b[0m\u001b[0;34m.\u001b[0m\u001b[0mindex\u001b[0m\u001b[0;34m.\u001b[0m\u001b[0m_get_values_for_loc\u001b[0m\u001b[0;34m(\u001b[0m\u001b[0mself\u001b[0m\u001b[0;34m,\u001b[0m \u001b[0mloc\u001b[0m\u001b[0;34m,\u001b[0m \u001b[0mlabel\u001b[0m\u001b[0;34m)\u001b[0m\u001b[0;34m\u001b[0m\u001b[0;34m\u001b[0m\u001b[0m\n\u001b[1;32m    991\u001b[0m \u001b[0;34m\u001b[0m\u001b[0m\n",
            "\u001b[0;32m/usr/local/lib/python3.6/dist-packages/pandas/core/indexes/base.py\u001b[0m in \u001b[0;36mget_loc\u001b[0;34m(self, key, method, tolerance)\u001b[0m\n\u001b[1;32m   2895\u001b[0m                 \u001b[0;32mreturn\u001b[0m \u001b[0mself\u001b[0m\u001b[0;34m.\u001b[0m\u001b[0m_engine\u001b[0m\u001b[0;34m.\u001b[0m\u001b[0mget_loc\u001b[0m\u001b[0;34m(\u001b[0m\u001b[0mcasted_key\u001b[0m\u001b[0;34m)\u001b[0m\u001b[0;34m\u001b[0m\u001b[0;34m\u001b[0m\u001b[0m\n\u001b[1;32m   2896\u001b[0m             \u001b[0;32mexcept\u001b[0m \u001b[0mKeyError\u001b[0m \u001b[0;32mas\u001b[0m \u001b[0merr\u001b[0m\u001b[0;34m:\u001b[0m\u001b[0;34m\u001b[0m\u001b[0;34m\u001b[0m\u001b[0m\n\u001b[0;32m-> 2897\u001b[0;31m                 \u001b[0;32mraise\u001b[0m \u001b[0mKeyError\u001b[0m\u001b[0;34m(\u001b[0m\u001b[0mkey\u001b[0m\u001b[0;34m)\u001b[0m \u001b[0;32mfrom\u001b[0m \u001b[0merr\u001b[0m\u001b[0;34m\u001b[0m\u001b[0;34m\u001b[0m\u001b[0m\n\u001b[0m\u001b[1;32m   2898\u001b[0m \u001b[0;34m\u001b[0m\u001b[0m\n\u001b[1;32m   2899\u001b[0m         \u001b[0;32mif\u001b[0m \u001b[0mtolerance\u001b[0m \u001b[0;32mis\u001b[0m \u001b[0;32mnot\u001b[0m \u001b[0;32mNone\u001b[0m\u001b[0;34m:\u001b[0m\u001b[0;34m\u001b[0m\u001b[0;34m\u001b[0m\u001b[0m\n",
            "\u001b[0;31mKeyError\u001b[0m: 1465"
          ]
        }
      ]
    },
    {
      "cell_type": "code",
      "metadata": {
        "id": "285-5GKhx0sC"
      },
      "source": [
        "df.groupby(df['genres']).imdb_id.count().sort_values(ascending = False)[:10].plot(kind = 'barh')"
      ],
      "execution_count": null,
      "outputs": []
    },
    {
      "cell_type": "markdown",
      "metadata": {
        "id": "FxOI5_BuyHg8"
      },
      "source": [
        "Les films de genre drame, comédie et documentaire sont les plus représentés dans l'ensemble des films. Remarquons que les genres n'ont pas été récupérés indépendamment : on considère comme un genre à part entière des subsets composés de plusieurs genres. On pourrait vouloir voir la proportion des films contenant Drama ou Romance par exemple."
      ]
    },
    {
      "cell_type": "code",
      "metadata": {
        "id": "BZ7rNtF2x0o2"
      },
      "source": [
        "l = []\n",
        "for i in trange(len(df)):\n",
        "    genre = df.genres[i].split()\n",
        "    for i in genre :\n",
        "        l.append(i)\n",
        "genre = pd.DataFrame(l, columns=['genre'])\n",
        "genre = genre.genre.str.replace(r',', '')\n",
        "genre"
      ],
      "execution_count": null,
      "outputs": []
    },
    {
      "cell_type": "code",
      "metadata": {
        "id": "UL_S-Mvlx0lz"
      },
      "source": [
        "fig, ax = plt.subplots(figsize=(12,6))\n",
        "sns.countplot(y = genre)\n",
        "plt.title('Occurrences totales des genres')"
      ],
      "execution_count": null,
      "outputs": []
    },
    {
      "cell_type": "markdown",
      "metadata": {
        "id": "BuVCawSsyOXt"
      },
      "source": [
        "Ces premières statistiques descriptives nous font apparaître que la base n'est pas bien nettoyée puiqu'il reste des id et des entrées qui ne correspondent pas au genre."
      ]
    },
    {
      "cell_type": "code",
      "metadata": {
        "colab": {
          "base_uri": "https://localhost:8080/"
        },
        "id": "5PC3xKO2x0eG",
        "outputId": "819b58ff-fa0e-4376-c2c7-08c8fc8f8658"
      },
      "source": [
        "df.genres[df.genres == '[]'].sort_values()"
      ],
      "execution_count": 115,
      "outputs": [
        {
          "output_type": "execute_result",
          "data": {
            "text/plain": [
              "Series([], Name: genres, dtype: object)"
            ]
          },
          "metadata": {
            "tags": []
          },
          "execution_count": 115
        }
      ]
    },
    {
      "cell_type": "code",
      "metadata": {
        "colab": {
          "base_uri": "https://localhost:8080/"
        },
        "id": "52KAyZe516rJ",
        "outputId": "bad2b981-790d-4626-ff19-99c5c6e1d455"
      },
      "source": [
        "df = df[df.genres != '[]']\n",
        "df = df[df.genres != '']\n",
        "df.genres[df.genres.notnull()].sort_values()"
      ],
      "execution_count": 116,
      "outputs": [
        {
          "output_type": "execute_result",
          "data": {
            "text/plain": [
              "1130                                                Action\n",
              "690                                      Action, Adventure\n",
              "14                                       Action, Adventure\n",
              "547                              Action, Adventure, Comedy\n",
              "943       Action, Adventure, Comedy, Crime, Drama, Romance\n",
              "                               ...                        \n",
              "16228          id 99 name Documentary id 9648 name Mystery\n",
              "29786          id 99 name Documentary id 9648 name Mystery\n",
              "15058    id 99 name Documentary id 9648 name Mystery id...\n",
              "24141    id 99 name Documentary id 9648 name Mystery id...\n",
              "17110    id 99 name Documentary id 9648 name Mystery id...\n",
              "Name: genres, Length: 42980, dtype: object"
            ]
          },
          "metadata": {
            "tags": []
          },
          "execution_count": 116
        }
      ]
    },
    {
      "cell_type": "code",
      "metadata": {
        "id": "scvbyD3ax0QC"
      },
      "source": [
        "df.genres = df.genres.str.replace('18','')\n",
        "df.genres = df.genres.str.replace('53','')\n",
        "df.genres = df.genres.str.replace('28','')\n",
        "df.genres = df.genres.str.replace('10751','')\n",
        "df.genres = df.genres.str.replace('9648','')\n",
        "df.genres = df.genres.str.replace('12','')\n",
        "df.genres = df.genres.str.replace('27','')\n"
      ],
      "execution_count": 117,
      "outputs": []
    },
    {
      "cell_type": "code",
      "metadata": {
        "colab": {
          "base_uri": "https://localhost:8080/",
          "height": 662,
          "referenced_widgets": [
            "51c77dd4f1ad47aab7824affe52979cb",
            "67d29bdefc6641c8918f75d0afdc0885",
            "93fa8d282fdc4e3da67a7de79aff14cd",
            "f5dc541d89d6460d946bff6b9fbcce0c",
            "2f1753060ca14a5280a053a40e19f315",
            "78ff2626182c4a5eb22dd2db7b51274e",
            "6f568c13fc9c419caea5e19ec4faee9b",
            "0ba909c1fe084175a0c36eacca6b3ddf"
          ]
        },
        "id": "vfqIoZqex1dj",
        "outputId": "8171f561-d78d-47e6-ae14-0476703d329e"
      },
      "source": [
        "l = []\n",
        "for i in trange(len(df)):\n",
        "    genre = df.genres[i].split()\n",
        "    for i in genre :\n",
        "        l.append(i)\n",
        "print(len(l))\n",
        "df_genre = pd.DataFrame(l, columns=['genre'])\n",
        "df_genre.genre = df_genre.genre.str.replace(r',', '')\n",
        "df_genre.genre = df_genre[df_genre.genre != '']\n",
        "fig, ax = plt.subplots(figsize=(12,6))\n",
        "sns.countplot(y = df_genre.genre, order = df_genre['genre'].value_counts().index)\n",
        "plt.title('Occurrences totales des genres')\n"
      ],
      "execution_count": 118,
      "outputs": [
        {
          "output_type": "display_data",
          "data": {
            "application/vnd.jupyter.widget-view+json": {
              "model_id": "51c77dd4f1ad47aab7824affe52979cb",
              "version_minor": 0,
              "version_major": 2
            },
            "text/plain": [
              "HBox(children=(FloatProgress(value=0.0, max=42980.0), HTML(value='')))"
            ]
          },
          "metadata": {
            "tags": []
          }
        },
        {
          "output_type": "error",
          "ename": "KeyError",
          "evalue": "ignored",
          "traceback": [
            "\u001b[0;31m---------------------------------------------------------------------------\u001b[0m",
            "\u001b[0;31mKeyError\u001b[0m                                  Traceback (most recent call last)",
            "\u001b[0;32m/usr/local/lib/python3.6/dist-packages/pandas/core/indexes/base.py\u001b[0m in \u001b[0;36mget_loc\u001b[0;34m(self, key, method, tolerance)\u001b[0m\n\u001b[1;32m   2894\u001b[0m             \u001b[0;32mtry\u001b[0m\u001b[0;34m:\u001b[0m\u001b[0;34m\u001b[0m\u001b[0;34m\u001b[0m\u001b[0m\n\u001b[0;32m-> 2895\u001b[0;31m                 \u001b[0;32mreturn\u001b[0m \u001b[0mself\u001b[0m\u001b[0;34m.\u001b[0m\u001b[0m_engine\u001b[0m\u001b[0;34m.\u001b[0m\u001b[0mget_loc\u001b[0m\u001b[0;34m(\u001b[0m\u001b[0mcasted_key\u001b[0m\u001b[0;34m)\u001b[0m\u001b[0;34m\u001b[0m\u001b[0;34m\u001b[0m\u001b[0m\n\u001b[0m\u001b[1;32m   2896\u001b[0m             \u001b[0;32mexcept\u001b[0m \u001b[0mKeyError\u001b[0m \u001b[0;32mas\u001b[0m \u001b[0merr\u001b[0m\u001b[0;34m:\u001b[0m\u001b[0;34m\u001b[0m\u001b[0;34m\u001b[0m\u001b[0m\n",
            "\u001b[0;32mpandas/_libs/index.pyx\u001b[0m in \u001b[0;36mpandas._libs.index.IndexEngine.get_loc\u001b[0;34m()\u001b[0m\n",
            "\u001b[0;32mpandas/_libs/index.pyx\u001b[0m in \u001b[0;36mpandas._libs.index.IndexEngine.get_loc\u001b[0;34m()\u001b[0m\n",
            "\u001b[0;32mpandas/_libs/hashtable_class_helper.pxi\u001b[0m in \u001b[0;36mpandas._libs.hashtable.Int64HashTable.get_item\u001b[0;34m()\u001b[0m\n",
            "\u001b[0;32mpandas/_libs/hashtable_class_helper.pxi\u001b[0m in \u001b[0;36mpandas._libs.hashtable.Int64HashTable.get_item\u001b[0;34m()\u001b[0m\n",
            "\u001b[0;31mKeyError\u001b[0m: 55",
            "\nThe above exception was the direct cause of the following exception:\n",
            "\u001b[0;31mKeyError\u001b[0m                                  Traceback (most recent call last)",
            "\u001b[0;32m<ipython-input-118-2cc9feb16953>\u001b[0m in \u001b[0;36m<module>\u001b[0;34m()\u001b[0m\n\u001b[1;32m      1\u001b[0m \u001b[0ml\u001b[0m \u001b[0;34m=\u001b[0m \u001b[0;34m[\u001b[0m\u001b[0;34m]\u001b[0m\u001b[0;34m\u001b[0m\u001b[0;34m\u001b[0m\u001b[0m\n\u001b[1;32m      2\u001b[0m \u001b[0;32mfor\u001b[0m \u001b[0mi\u001b[0m \u001b[0;32min\u001b[0m \u001b[0mtrange\u001b[0m\u001b[0;34m(\u001b[0m\u001b[0mlen\u001b[0m\u001b[0;34m(\u001b[0m\u001b[0mdf\u001b[0m\u001b[0;34m)\u001b[0m\u001b[0;34m)\u001b[0m\u001b[0;34m:\u001b[0m\u001b[0;34m\u001b[0m\u001b[0;34m\u001b[0m\u001b[0m\n\u001b[0;32m----> 3\u001b[0;31m     \u001b[0mgenre\u001b[0m \u001b[0;34m=\u001b[0m \u001b[0mdf\u001b[0m\u001b[0;34m.\u001b[0m\u001b[0mgenres\u001b[0m\u001b[0;34m[\u001b[0m\u001b[0mi\u001b[0m\u001b[0;34m]\u001b[0m\u001b[0;34m.\u001b[0m\u001b[0msplit\u001b[0m\u001b[0;34m(\u001b[0m\u001b[0;34m)\u001b[0m\u001b[0;34m\u001b[0m\u001b[0;34m\u001b[0m\u001b[0m\n\u001b[0m\u001b[1;32m      4\u001b[0m     \u001b[0;32mfor\u001b[0m \u001b[0mi\u001b[0m \u001b[0;32min\u001b[0m \u001b[0mgenre\u001b[0m \u001b[0;34m:\u001b[0m\u001b[0;34m\u001b[0m\u001b[0;34m\u001b[0m\u001b[0m\n\u001b[1;32m      5\u001b[0m         \u001b[0ml\u001b[0m\u001b[0;34m.\u001b[0m\u001b[0mappend\u001b[0m\u001b[0;34m(\u001b[0m\u001b[0mi\u001b[0m\u001b[0;34m)\u001b[0m\u001b[0;34m\u001b[0m\u001b[0;34m\u001b[0m\u001b[0m\n",
            "\u001b[0;32m/usr/local/lib/python3.6/dist-packages/pandas/core/series.py\u001b[0m in \u001b[0;36m__getitem__\u001b[0;34m(self, key)\u001b[0m\n\u001b[1;32m    880\u001b[0m \u001b[0;34m\u001b[0m\u001b[0m\n\u001b[1;32m    881\u001b[0m         \u001b[0;32melif\u001b[0m \u001b[0mkey_is_scalar\u001b[0m\u001b[0;34m:\u001b[0m\u001b[0;34m\u001b[0m\u001b[0;34m\u001b[0m\u001b[0m\n\u001b[0;32m--> 882\u001b[0;31m             \u001b[0;32mreturn\u001b[0m \u001b[0mself\u001b[0m\u001b[0;34m.\u001b[0m\u001b[0m_get_value\u001b[0m\u001b[0;34m(\u001b[0m\u001b[0mkey\u001b[0m\u001b[0;34m)\u001b[0m\u001b[0;34m\u001b[0m\u001b[0;34m\u001b[0m\u001b[0m\n\u001b[0m\u001b[1;32m    883\u001b[0m \u001b[0;34m\u001b[0m\u001b[0m\n\u001b[1;32m    884\u001b[0m         \u001b[0;32mif\u001b[0m \u001b[0mis_hashable\u001b[0m\u001b[0;34m(\u001b[0m\u001b[0mkey\u001b[0m\u001b[0;34m)\u001b[0m\u001b[0;34m:\u001b[0m\u001b[0;34m\u001b[0m\u001b[0;34m\u001b[0m\u001b[0m\n",
            "\u001b[0;32m/usr/local/lib/python3.6/dist-packages/pandas/core/series.py\u001b[0m in \u001b[0;36m_get_value\u001b[0;34m(self, label, takeable)\u001b[0m\n\u001b[1;32m    987\u001b[0m \u001b[0;34m\u001b[0m\u001b[0m\n\u001b[1;32m    988\u001b[0m         \u001b[0;31m# Similar to Index.get_value, but we do not fall back to positional\u001b[0m\u001b[0;34m\u001b[0m\u001b[0;34m\u001b[0m\u001b[0;34m\u001b[0m\u001b[0m\n\u001b[0;32m--> 989\u001b[0;31m         \u001b[0mloc\u001b[0m \u001b[0;34m=\u001b[0m \u001b[0mself\u001b[0m\u001b[0;34m.\u001b[0m\u001b[0mindex\u001b[0m\u001b[0;34m.\u001b[0m\u001b[0mget_loc\u001b[0m\u001b[0;34m(\u001b[0m\u001b[0mlabel\u001b[0m\u001b[0;34m)\u001b[0m\u001b[0;34m\u001b[0m\u001b[0;34m\u001b[0m\u001b[0m\n\u001b[0m\u001b[1;32m    990\u001b[0m         \u001b[0;32mreturn\u001b[0m \u001b[0mself\u001b[0m\u001b[0;34m.\u001b[0m\u001b[0mindex\u001b[0m\u001b[0;34m.\u001b[0m\u001b[0m_get_values_for_loc\u001b[0m\u001b[0;34m(\u001b[0m\u001b[0mself\u001b[0m\u001b[0;34m,\u001b[0m \u001b[0mloc\u001b[0m\u001b[0;34m,\u001b[0m \u001b[0mlabel\u001b[0m\u001b[0;34m)\u001b[0m\u001b[0;34m\u001b[0m\u001b[0;34m\u001b[0m\u001b[0m\n\u001b[1;32m    991\u001b[0m \u001b[0;34m\u001b[0m\u001b[0m\n",
            "\u001b[0;32m/usr/local/lib/python3.6/dist-packages/pandas/core/indexes/base.py\u001b[0m in \u001b[0;36mget_loc\u001b[0;34m(self, key, method, tolerance)\u001b[0m\n\u001b[1;32m   2895\u001b[0m                 \u001b[0;32mreturn\u001b[0m \u001b[0mself\u001b[0m\u001b[0;34m.\u001b[0m\u001b[0m_engine\u001b[0m\u001b[0;34m.\u001b[0m\u001b[0mget_loc\u001b[0m\u001b[0;34m(\u001b[0m\u001b[0mcasted_key\u001b[0m\u001b[0;34m)\u001b[0m\u001b[0;34m\u001b[0m\u001b[0;34m\u001b[0m\u001b[0m\n\u001b[1;32m   2896\u001b[0m             \u001b[0;32mexcept\u001b[0m \u001b[0mKeyError\u001b[0m \u001b[0;32mas\u001b[0m \u001b[0merr\u001b[0m\u001b[0;34m:\u001b[0m\u001b[0;34m\u001b[0m\u001b[0;34m\u001b[0m\u001b[0m\n\u001b[0;32m-> 2897\u001b[0;31m                 \u001b[0;32mraise\u001b[0m \u001b[0mKeyError\u001b[0m\u001b[0;34m(\u001b[0m\u001b[0mkey\u001b[0m\u001b[0;34m)\u001b[0m \u001b[0;32mfrom\u001b[0m \u001b[0merr\u001b[0m\u001b[0;34m\u001b[0m\u001b[0;34m\u001b[0m\u001b[0m\n\u001b[0m\u001b[1;32m   2898\u001b[0m \u001b[0;34m\u001b[0m\u001b[0m\n\u001b[1;32m   2899\u001b[0m         \u001b[0;32mif\u001b[0m \u001b[0mtolerance\u001b[0m \u001b[0;32mis\u001b[0m \u001b[0;32mnot\u001b[0m \u001b[0;32mNone\u001b[0m\u001b[0;34m:\u001b[0m\u001b[0;34m\u001b[0m\u001b[0;34m\u001b[0m\u001b[0m\n",
            "\u001b[0;31mKeyError\u001b[0m: 55"
          ]
        }
      ]
    },
    {
      "cell_type": "markdown",
      "metadata": {
        "id": "_uADVy-bwTOB"
      },
      "source": [
        "Ce nettoyage fait apparaître qu'il existe en fait des genres plus représentés que Documentaire mais qui figuraient souvent dans des regroupements (Thriller, Action, Horror ou Crime)."
      ]
    },
    {
      "cell_type": "code",
      "metadata": {
        "id": "myjOmePexx1w"
      },
      "source": [
        "len(df.genres[df.genres == ''])\n",
        "df.genres = df.genres.replace('', np.NaN)\n",
        "\n",
        "fig, ax = plt.subplots(figsize=(2,4))\n",
        "sns.heatmap(df[['genres']].isnull(),cbar=False)\n",
        "plt.title('Complétude après nettoyage')\n",
        "print('Genres est complet à ',(1-len(df.genres[df.genres.isnull()])/len(df.genres))*100,'%')"
      ],
      "execution_count": null,
      "outputs": []
    },
    {
      "cell_type": "markdown",
      "metadata": {
        "id": "o5xL3Bgmysac"
      },
      "source": [
        "### *Budget* et *revenu*\n",
        "\n"
      ]
    },
    {
      "cell_type": "markdown",
      "metadata": {
        "id": "zBwBqckhCcSs"
      },
      "source": [
        "#### *budget*\n",
        "Il n'y a pas beaucoup de manipulations à faire sur la variable *budget*. Néanmoins, on retiendra qu'elle n'est pas forcément exploitable du fait de la forte quantité de 0. "
      ]
    },
    {
      "cell_type": "code",
      "metadata": {
        "colab": {
          "base_uri": "https://localhost:8080/"
        },
        "id": "uzI2kmB_yuc1",
        "outputId": "9d3ec1cd-2c37-404d-d1eb-5421e2ab2c62"
      },
      "source": [
        "print(df.budget.sort_values().head())\n",
        "df.budget = df.budget.astype(float)"
      ],
      "execution_count": 119,
      "outputs": [
        {
          "output_type": "stream",
          "text": [
            "22098    0\n",
            "28905    0\n",
            "28906    0\n",
            "28907    0\n",
            "28908    0\n",
            "Name: budget, dtype: object\n"
          ],
          "name": "stdout"
        }
      ]
    },
    {
      "cell_type": "code",
      "metadata": {
        "id": "RbkHL6QAAUwu",
        "colab": {
          "base_uri": "https://localhost:8080/",
          "height": 314
        },
        "outputId": "dc4c1dd0-41fa-4b80-a1f6-692bba60ce49"
      },
      "source": [
        "df.budget.sort_values().plot(logx=True,logy=False)"
      ],
      "execution_count": 120,
      "outputs": [
        {
          "output_type": "stream",
          "text": [
            "\n"
          ],
          "name": "stdout"
        },
        {
          "output_type": "execute_result",
          "data": {
            "text/plain": [
              "<matplotlib.axes._subplots.AxesSubplot at 0x7f3837ff45f8>"
            ]
          },
          "metadata": {
            "tags": []
          },
          "execution_count": 120
        },
        {
          "output_type": "display_data",
          "data": {
            "image/png": "[encoded data removed]",
            "text/plain": [
              "<Figure size 432x288 with 1 Axes>"
            ]
          },
          "metadata": {
            "tags": [],
            "needs_background": "light"
          }
        }
      ]
    },
    {
      "cell_type": "code",
      "metadata": {
        "id": "fvDk6RdDAuKz",
        "colab": {
          "base_uri": "https://localhost:8080/",
          "height": 297
        },
        "outputId": "73cb69a2-210f-4abf-c1d5-a669763f5f23"
      },
      "source": [
        "df.budget[df.budget > 0].sort_values().plot(logx=True,logy=False)"
      ],
      "execution_count": 121,
      "outputs": [
        {
          "output_type": "execute_result",
          "data": {
            "text/plain": [
              "<matplotlib.axes._subplots.AxesSubplot at 0x7f382fbfc9b0>"
            ]
          },
          "metadata": {
            "tags": []
          },
          "execution_count": 121
        },
        {
          "output_type": "display_data",
          "data": {
            "image/png": "[encoded data removed]",
            "text/plain": [
              "<Figure size 432x288 with 1 Axes>"
            ]
          },
          "metadata": {
            "tags": [],
            "needs_background": "light"
          }
        }
      ]
    },
    {
      "cell_type": "code",
      "metadata": {
        "colab": {
          "base_uri": "https://localhost:8080/",
          "height": 298
        },
        "id": "n5IQ4x7y3sES",
        "outputId": "68966670-4ca5-4875-be17-1a46063af3fc"
      },
      "source": [
        "fig, ax = plt.subplots(figsize=(2,4))\n",
        "sns.heatmap(df[['budget']]==0,cbar=False)\n",
        "plt.title('Complétude après nettoyage')\n",
        "print('Budget est complet à ',(1-len(df.budget[df.budget == 0])/len(df.budget))*100,'%')"
      ],
      "execution_count": 122,
      "outputs": [
        {
          "output_type": "stream",
          "text": [
            "Budget est complet à  20.523499302000936 %\n"
          ],
          "name": "stdout"
        },
        {
          "output_type": "display_data",
          "data": {
            "image/png": "[encoded data removed]",
            "text/plain": [
              "<Figure size 144x288 with 1 Axes>"
            ]
          },
          "metadata": {
            "tags": [],
            "needs_background": "light"
          }
        }
      ]
    },
    {
      "cell_type": "markdown",
      "metadata": {
        "id": "QMlTlcp_A1fl"
      },
      "source": [
        "#### *revenue*"
      ]
    },
    {
      "cell_type": "markdown",
      "metadata": {
        "id": "e8H1DDuJBxZC"
      },
      "source": [
        "De même que pour la variable *budget*, la variable *revenue* est assez mal renseignée avec une grosse proportion de films dont le revenu est renseigné comme nul. "
      ]
    },
    {
      "cell_type": "code",
      "metadata": {
        "id": "Pbh3C0YXBkvr",
        "colab": {
          "base_uri": "https://localhost:8080/"
        },
        "outputId": "4f54d7c5-c40a-4181-9c06-395c8c7e0ccf"
      },
      "source": [
        "df.revenue.describe()"
      ],
      "execution_count": 123,
      "outputs": [
        {
          "output_type": "execute_result",
          "data": {
            "text/plain": [
              "count    4.297700e+04\n",
              "mean     1.184854e+07\n",
              "std      6.610393e+07\n",
              "min      0.000000e+00\n",
              "25%      0.000000e+00\n",
              "50%      0.000000e+00\n",
              "75%      0.000000e+00\n",
              "max      2.787965e+09\n",
              "Name: revenue, dtype: float64"
            ]
          },
          "metadata": {
            "tags": []
          },
          "execution_count": 123
        }
      ]
    },
    {
      "cell_type": "code",
      "metadata": {
        "id": "aPpxFBanA_rm",
        "colab": {
          "base_uri": "https://localhost:8080/",
          "height": 293
        },
        "outputId": "2f2080a7-6a8e-428e-9b37-c97ee5195d14"
      },
      "source": [
        "df.revenue.sort_values().plot()\n"
      ],
      "execution_count": 124,
      "outputs": [
        {
          "output_type": "execute_result",
          "data": {
            "text/plain": [
              "<matplotlib.axes._subplots.AxesSubplot at 0x7f3837f94080>"
            ]
          },
          "metadata": {
            "tags": []
          },
          "execution_count": 124
        },
        {
          "output_type": "display_data",
          "data": {
            "image/png": "[encoded data removed]",
            "text/plain": [
              "<Figure size 432x288 with 1 Axes>"
            ]
          },
          "metadata": {
            "tags": [],
            "needs_background": "light"
          }
        }
      ]
    },
    {
      "cell_type": "code",
      "metadata": {
        "id": "JJW9r6tKBpwb",
        "colab": {
          "base_uri": "https://localhost:8080/",
          "height": 298
        },
        "outputId": "5dc8a747-eb2b-4ac3-8674-37c6c44a6f14"
      },
      "source": [
        "fig, ax = plt.subplots(figsize=(2,4))\n",
        "sns.heatmap(df[['revenue']]==0,cbar=False)\n",
        "plt.title('Complétude après nettoyage')\n",
        "print('Revenue est complet à ',(1-len(df.revenue[df.revenue == 0])/len(df.revenue))*100,'%')"
      ],
      "execution_count": 125,
      "outputs": [
        {
          "output_type": "stream",
          "text": [
            "Revenue est complet à  17.16612377850163 %\n"
          ],
          "name": "stdout"
        },
        {
          "output_type": "display_data",
          "data": {
            "image/png": "[encoded data removed]",
            "text/plain": [
              "<Figure size 144x288 with 1 Axes>"
            ]
          },
          "metadata": {
            "tags": [],
            "needs_background": "light"
          }
        }
      ]
    },
    {
      "cell_type": "markdown",
      "metadata": {
        "id": "s1WKbEok9PhS"
      },
      "source": [
        "### *Original language* \n",
        "\n",
        "\n",
        "Dans notre base de données, les langues originales dans lequel le film est apparu sont codées de cette manière :"
      ]
    },
    {
      "cell_type": "code",
      "metadata": {
        "colab": {
          "base_uri": "https://localhost:8080/",
          "height": 35
        },
        "id": "iCfBDk7-9ZR6",
        "outputId": "5889ef27-52eb-4ceb-d18c-1b46488e49b4"
      },
      "source": [
        "df.original_language[0]"
      ],
      "execution_count": 126,
      "outputs": [
        {
          "output_type": "execute_result",
          "data": {
            "application/vnd.google.colaboratory.intrinsic+json": {
              "type": "string"
            },
            "text/plain": [
              "'en'"
            ]
          },
          "metadata": {
            "tags": []
          },
          "execution_count": 126
        }
      ]
    },
    {
      "cell_type": "markdown",
      "metadata": {
        "id": "MmlCgXLV9dkx"
      },
      "source": [
        "En fait, il s'agit des identifiants ISO_639-1 de chaque langue (en l'occurence ici l'anglais). Pour plus de lisibilité, nous avons décidé de récupérer cette liste d'identifiants via une méthode de webscrapping, puis de créer une fonction qui renvoit la langue associée à son identifiant."
      ]
    },
    {
      "cell_type": "markdown",
      "metadata": {
        "id": "d2E5x1Ue9gxH"
      },
      "source": [
        "#### Scraping des identifiants ISO_639-1\n",
        "\n",
        "\n",
        "La liste des codes IS0_639-1 est disponible sur l'url suivante : https://fr.wikipedia.org/wiki/Liste_des_codes_ISO_639-1.\n",
        "\n",
        "Nous allons récupérer les identifiants, ainsi que les langues correspondantes:"
      ]
    },
    {
      "cell_type": "code",
      "metadata": {
        "id": "GMl4S2ZQ9o_9"
      },
      "source": [
        "url_iso = \"https://fr.wikipedia.org/wiki/Liste_des_codes_ISO_639-1\"\n",
        "    \n",
        "request_text = request.urlopen(url_iso).read()\n",
        "page = bs4.BeautifulSoup(request_text, \"lxml\")"
      ],
      "execution_count": 381,
      "outputs": []
    },
    {
      "cell_type": "markdown",
      "metadata": {
        "id": "vNR2CCo49svo"
      },
      "source": [
        "Les informations que nous désirons étant contenues dans un tableau, on le récupère puis on le convertit en Data Frame."
      ]
    },
    {
      "cell_type": "code",
      "metadata": {
        "colab": {
          "base_uri": "https://localhost:8080/"
        },
        "id": "r3bpHcw79sMC",
        "outputId": "10513127-47f7-4256-e124-a27d0d6dbe91"
      },
      "source": [
        "table = page.find('table')\n",
        "ls = str(table)\n",
        "liste_iso = pd.DataFrame(pd.read_html(ls)[0])\n",
        "liste_iso"
      ],
      "execution_count": 382,
      "outputs": [
        {
          "output_type": "execute_result",
          "data": {
            "text/html": [
              "<div>\n",
              "<style scoped>\n",
              "    .dataframe tbody tr th:only-of-type {\n",
              "        vertical-align: middle;\n",
              "    }\n",
              "\n",
              "    .dataframe tbody tr th {\n",
              "        vertical-align: top;\n",
              "    }\n",
              "\n",
              "    .dataframe thead th {\n",
              "        text-align: right;\n",
              "    }\n",
              "</style>\n",
              "<table border=\"1\" class=\"dataframe\">\n",
              "  <thead>\n",
              "    <tr style=\"text-align: right;\">\n",
              "      <th></th>\n",
              "      <th>639-1</th>\n",
              "      <th>639-2</th>\n",
              "      <th>639-3</th>\n",
              "      <th>Nom de la langue</th>\n",
              "      <th>Nom(dans la langue correspondante)</th>\n",
              "      <th>Nom en anglais</th>\n",
              "      <th>Commentaire</th>\n",
              "    </tr>\n",
              "  </thead>\n",
              "  <tbody>\n",
              "    <tr>\n",
              "      <th>0</th>\n",
              "      <td>aa</td>\n",
              "      <td>aar</td>\n",
              "      <td>aar</td>\n",
              "      <td>Afar</td>\n",
              "      <td>Afaraf</td>\n",
              "      <td>Afar</td>\n",
              "      <td>NaN</td>\n",
              "    </tr>\n",
              "    <tr>\n",
              "      <th>1</th>\n",
              "      <td>ab</td>\n",
              "      <td>abk</td>\n",
              "      <td>abk</td>\n",
              "      <td>Abkhaze</td>\n",
              "      <td>Аҧсуа</td>\n",
              "      <td>Abkhazian</td>\n",
              "      <td>NaN</td>\n",
              "    </tr>\n",
              "    <tr>\n",
              "      <th>2</th>\n",
              "      <td>ae</td>\n",
              "      <td>ave</td>\n",
              "      <td>ave</td>\n",
              "      <td>Avestique</td>\n",
              "      <td>Avesta</td>\n",
              "      <td>Avestan</td>\n",
              "      <td>NaN</td>\n",
              "    </tr>\n",
              "    <tr>\n",
              "      <th>3</th>\n",
              "      <td>af</td>\n",
              "      <td>afr</td>\n",
              "      <td>afr</td>\n",
              "      <td>Afrikaans</td>\n",
              "      <td>Afrikaans</td>\n",
              "      <td>Afrikaans</td>\n",
              "      <td>NaN</td>\n",
              "    </tr>\n",
              "    <tr>\n",
              "      <th>4</th>\n",
              "      <td>ak</td>\n",
              "      <td>aka</td>\n",
              "      <td>aka + 2</td>\n",
              "      <td>Akan</td>\n",
              "      <td>Akan</td>\n",
              "      <td>Akan</td>\n",
              "      <td>NaN</td>\n",
              "    </tr>\n",
              "    <tr>\n",
              "      <th>...</th>\n",
              "      <td>...</td>\n",
              "      <td>...</td>\n",
              "      <td>...</td>\n",
              "      <td>...</td>\n",
              "      <td>...</td>\n",
              "      <td>...</td>\n",
              "      <td>...</td>\n",
              "    </tr>\n",
              "    <tr>\n",
              "      <th>182</th>\n",
              "      <td>yi</td>\n",
              "      <td>yid</td>\n",
              "      <td>yid + 2</td>\n",
              "      <td>Yiddish</td>\n",
              "      <td>ייִדיש</td>\n",
              "      <td>Yiddish</td>\n",
              "      <td>NaN</td>\n",
              "    </tr>\n",
              "    <tr>\n",
              "      <th>183</th>\n",
              "      <td>yo</td>\n",
              "      <td>yor</td>\n",
              "      <td>yor</td>\n",
              "      <td>Yoruba</td>\n",
              "      <td>Yorùbá</td>\n",
              "      <td>Yoruba</td>\n",
              "      <td>NaN</td>\n",
              "    </tr>\n",
              "    <tr>\n",
              "      <th>184</th>\n",
              "      <td>za</td>\n",
              "      <td>zha</td>\n",
              "      <td>zha + 2</td>\n",
              "      <td>Zhuang</td>\n",
              "      <td>Saɯ cueŋƅ ; Saw cuengh</td>\n",
              "      <td>Zhuang</td>\n",
              "      <td>NaN</td>\n",
              "    </tr>\n",
              "    <tr>\n",
              "      <th>185</th>\n",
              "      <td>zh</td>\n",
              "      <td>chi/zho</td>\n",
              "      <td>zho + 13</td>\n",
              "      <td>Chinois</td>\n",
              "      <td>中文, 汉语, 漢語</td>\n",
              "      <td>Chinese</td>\n",
              "      <td>NaN</td>\n",
              "    </tr>\n",
              "    <tr>\n",
              "      <th>186</th>\n",
              "      <td>zu</td>\n",
              "      <td>zul</td>\n",
              "      <td>zul</td>\n",
              "      <td>Zoulou</td>\n",
              "      <td>isiZulu</td>\n",
              "      <td>Zulu</td>\n",
              "      <td>NaN</td>\n",
              "    </tr>\n",
              "  </tbody>\n",
              "</table>\n",
              "<p>187 rows × 7 columns</p>\n",
              "</div>"
            ],
            "text/plain": [
              "    639-1    639-2  ... Nom en anglais Commentaire\n",
              "0      aa      aar  ...           Afar         NaN\n",
              "1      ab      abk  ...      Abkhazian         NaN\n",
              "2      ae      ave  ...        Avestan         NaN\n",
              "3      af      afr  ...      Afrikaans         NaN\n",
              "4      ak      aka  ...           Akan         NaN\n",
              "..    ...      ...  ...            ...         ...\n",
              "182    yi      yid  ...        Yiddish         NaN\n",
              "183    yo      yor  ...         Yoruba         NaN\n",
              "184    za      zha  ...         Zhuang         NaN\n",
              "185    zh  chi/zho  ...        Chinese         NaN\n",
              "186    zu      zul  ...           Zulu         NaN\n",
              "\n",
              "[187 rows x 7 columns]"
            ]
          },
          "metadata": {
            "tags": []
          },
          "execution_count": 382
        }
      ]
    },
    {
      "cell_type": "markdown",
      "metadata": {
        "id": "7DAa2-nV9r-q"
      },
      "source": [
        "Après une étude approfondie de la base, nous avons constaté que certains films possédaient l'identifiant 'cn' correspondant au cantonais. On le rajoute au Data Frame précédent:\n",
        "\n"
      ]
    },
    {
      "cell_type": "code",
      "metadata": {
        "colab": {
          "base_uri": "https://localhost:8080/"
        },
        "id": "mZEri99W90wf",
        "outputId": "016bb8cd-0d94-4a13-fd7a-d7607c97345f"
      },
      "source": [
        "liste_iso.loc[187] = ['cn', 'NaN', 'NaN', 'Cantonais', 'NaN', 'Cantonese', 'NaN']\n",
        "liste_iso"
      ],
      "execution_count": 383,
      "outputs": [
        {
          "output_type": "execute_result",
          "data": {
            "text/html": [
              "<div>\n",
              "<style scoped>\n",
              "    .dataframe tbody tr th:only-of-type {\n",
              "        vertical-align: middle;\n",
              "    }\n",
              "\n",
              "    .dataframe tbody tr th {\n",
              "        vertical-align: top;\n",
              "    }\n",
              "\n",
              "    .dataframe thead th {\n",
              "        text-align: right;\n",
              "    }\n",
              "</style>\n",
              "<table border=\"1\" class=\"dataframe\">\n",
              "  <thead>\n",
              "    <tr style=\"text-align: right;\">\n",
              "      <th></th>\n",
              "      <th>639-1</th>\n",
              "      <th>639-2</th>\n",
              "      <th>639-3</th>\n",
              "      <th>Nom de la langue</th>\n",
              "      <th>Nom(dans la langue correspondante)</th>\n",
              "      <th>Nom en anglais</th>\n",
              "      <th>Commentaire</th>\n",
              "    </tr>\n",
              "  </thead>\n",
              "  <tbody>\n",
              "    <tr>\n",
              "      <th>0</th>\n",
              "      <td>aa</td>\n",
              "      <td>aar</td>\n",
              "      <td>aar</td>\n",
              "      <td>Afar</td>\n",
              "      <td>Afaraf</td>\n",
              "      <td>Afar</td>\n",
              "      <td>NaN</td>\n",
              "    </tr>\n",
              "    <tr>\n",
              "      <th>1</th>\n",
              "      <td>ab</td>\n",
              "      <td>abk</td>\n",
              "      <td>abk</td>\n",
              "      <td>Abkhaze</td>\n",
              "      <td>Аҧсуа</td>\n",
              "      <td>Abkhazian</td>\n",
              "      <td>NaN</td>\n",
              "    </tr>\n",
              "    <tr>\n",
              "      <th>2</th>\n",
              "      <td>ae</td>\n",
              "      <td>ave</td>\n",
              "      <td>ave</td>\n",
              "      <td>Avestique</td>\n",
              "      <td>Avesta</td>\n",
              "      <td>Avestan</td>\n",
              "      <td>NaN</td>\n",
              "    </tr>\n",
              "    <tr>\n",
              "      <th>3</th>\n",
              "      <td>af</td>\n",
              "      <td>afr</td>\n",
              "      <td>afr</td>\n",
              "      <td>Afrikaans</td>\n",
              "      <td>Afrikaans</td>\n",
              "      <td>Afrikaans</td>\n",
              "      <td>NaN</td>\n",
              "    </tr>\n",
              "    <tr>\n",
              "      <th>4</th>\n",
              "      <td>ak</td>\n",
              "      <td>aka</td>\n",
              "      <td>aka + 2</td>\n",
              "      <td>Akan</td>\n",
              "      <td>Akan</td>\n",
              "      <td>Akan</td>\n",
              "      <td>NaN</td>\n",
              "    </tr>\n",
              "    <tr>\n",
              "      <th>...</th>\n",
              "      <td>...</td>\n",
              "      <td>...</td>\n",
              "      <td>...</td>\n",
              "      <td>...</td>\n",
              "      <td>...</td>\n",
              "      <td>...</td>\n",
              "      <td>...</td>\n",
              "    </tr>\n",
              "    <tr>\n",
              "      <th>183</th>\n",
              "      <td>yo</td>\n",
              "      <td>yor</td>\n",
              "      <td>yor</td>\n",
              "      <td>Yoruba</td>\n",
              "      <td>Yorùbá</td>\n",
              "      <td>Yoruba</td>\n",
              "      <td>NaN</td>\n",
              "    </tr>\n",
              "    <tr>\n",
              "      <th>184</th>\n",
              "      <td>za</td>\n",
              "      <td>zha</td>\n",
              "      <td>zha + 2</td>\n",
              "      <td>Zhuang</td>\n",
              "      <td>Saɯ cueŋƅ ; Saw cuengh</td>\n",
              "      <td>Zhuang</td>\n",
              "      <td>NaN</td>\n",
              "    </tr>\n",
              "    <tr>\n",
              "      <th>185</th>\n",
              "      <td>zh</td>\n",
              "      <td>chi/zho</td>\n",
              "      <td>zho + 13</td>\n",
              "      <td>Chinois</td>\n",
              "      <td>中文, 汉语, 漢語</td>\n",
              "      <td>Chinese</td>\n",
              "      <td>NaN</td>\n",
              "    </tr>\n",
              "    <tr>\n",
              "      <th>186</th>\n",
              "      <td>zu</td>\n",
              "      <td>zul</td>\n",
              "      <td>zul</td>\n",
              "      <td>Zoulou</td>\n",
              "      <td>isiZulu</td>\n",
              "      <td>Zulu</td>\n",
              "      <td>NaN</td>\n",
              "    </tr>\n",
              "    <tr>\n",
              "      <th>187</th>\n",
              "      <td>cn</td>\n",
              "      <td>NaN</td>\n",
              "      <td>NaN</td>\n",
              "      <td>Cantonais</td>\n",
              "      <td>NaN</td>\n",
              "      <td>Cantonese</td>\n",
              "      <td>NaN</td>\n",
              "    </tr>\n",
              "  </tbody>\n",
              "</table>\n",
              "<p>188 rows × 7 columns</p>\n",
              "</div>"
            ],
            "text/plain": [
              "    639-1    639-2  ... Nom en anglais Commentaire\n",
              "0      aa      aar  ...           Afar         NaN\n",
              "1      ab      abk  ...      Abkhazian         NaN\n",
              "2      ae      ave  ...        Avestan         NaN\n",
              "3      af      afr  ...      Afrikaans         NaN\n",
              "4      ak      aka  ...           Akan         NaN\n",
              "..    ...      ...  ...            ...         ...\n",
              "183    yo      yor  ...         Yoruba         NaN\n",
              "184    za      zha  ...         Zhuang         NaN\n",
              "185    zh  chi/zho  ...        Chinese         NaN\n",
              "186    zu      zul  ...           Zulu         NaN\n",
              "187    cn      NaN  ...      Cantonese         NaN\n",
              "\n",
              "[188 rows x 7 columns]"
            ]
          },
          "metadata": {
            "tags": []
          },
          "execution_count": 383
        }
      ]
    },
    {
      "cell_type": "markdown",
      "metadata": {
        "id": "igk9MH2_94bl"
      },
      "source": [
        "La fonction suivante permettra de récupérer la langue associée à un identifiant ISO_639-1. En la faisant tourner, nous nous sommes rendu compte que les NaN n'étaient pas toujours indiqués de la même manière. Il faut donc prendre en compte ces cas pour éviter toute erreur lors du lancement de la fonction."
      ]
    },
    {
      "cell_type": "code",
      "metadata": {
        "id": "Cv6tGS9197_o"
      },
      "source": [
        "def find_id(id):\n",
        "  if id == '' or id == 'NaN' or id == 'xx' or id == 'nan' or id =='104.0' or id =='68.0' or id =='82.0':        # on élimine le cas où la langue n'est pas indiquée\n",
        "    return ''\n",
        "  i = 0\n",
        "  while (str((liste_iso['639-1'])[i]) == id) == False and i<len(df):\n",
        "    i += 1\n",
        "  return liste_iso['Nom de la langue'][i]"
      ],
      "execution_count": 384,
      "outputs": []
    },
    {
      "cell_type": "markdown",
      "metadata": {
        "id": "eYbQqkxX-AVd"
      },
      "source": [
        "On teste la fonction sur la première entrée de la colonne 'original_language'"
      ]
    },
    {
      "cell_type": "code",
      "metadata": {
        "colab": {
          "base_uri": "https://localhost:8080/"
        },
        "id": "_vQTB8rP990A",
        "outputId": "e839e146-43a3-48f2-9da0-8e03c183b1d4"
      },
      "source": [
        "test = str('en')\n",
        "find_id(test)"
      ],
      "execution_count": 385,
      "outputs": [
        {
          "output_type": "execute_result",
          "data": {
            "application/vnd.google.colaboratory.intrinsic+json": {
              "type": "string"
            },
            "text/plain": [
              "'Anglais'"
            ]
          },
          "metadata": {
            "tags": []
          },
          "execution_count": 385
        }
      ]
    },
    {
      "cell_type": "markdown",
      "metadata": {
        "id": "OaMGql2g-EVQ"
      },
      "source": [
        "Puis on généralise la méthode à toutes les cellules de cette colonne :"
      ]
    },
    {
      "cell_type": "code",
      "metadata": {
        "id": "C3mejqWN-FWP"
      },
      "source": [
        "for i in trange(len(df)):\n",
        "  id = str(df.original_language[i])\n",
        "  df.original_language[i] = find_id(id)"
      ],
      "execution_count": null,
      "outputs": []
    },
    {
      "cell_type": "markdown",
      "metadata": {
        "id": "DdQo6B9C-9JJ"
      },
      "source": [
        ""
      ]
    },
    {
      "cell_type": "code",
      "metadata": {
        "id": "kWJp2ufi-9f6",
        "outputId": "f15a71ea-1486-4835-ffed-813810679d8f",
        "colab": {
          "base_uri": "https://localhost:8080/"
        }
      },
      "source": [
        ""
      ],
      "execution_count": 387,
      "outputs": [
        {
          "output_type": "execute_result",
          "data": {
            "text/plain": [
              "count    42800.000000\n",
              "mean        95.462079\n",
              "std         36.571425\n",
              "min          0.000000\n",
              "25%         86.000000\n",
              "50%         95.000000\n",
              "75%        107.000000\n",
              "max       1256.000000\n",
              "Name: runtime, dtype: float64"
            ]
          },
          "metadata": {
            "tags": []
          },
          "execution_count": 387
        }
      ]
    },
    {
      "cell_type": "code",
      "metadata": {
        "id": "FdQjnnns-7vQ"
      },
      "source": [
        "df.to_csv('base.csv')"
      ],
      "execution_count": null,
      "outputs": []
    },
    {
      "cell_type": "markdown",
      "metadata": {
        "id": "CfZEvcuGzFVF"
      },
      "source": [
        "# Scraping de mots-clés caractérisant le film\n",
        "Le but de cette partie est de récupérer des mots-clés pour chaque film de la base. Pour un film donné, d'identifiant imbd_id, nous allons scraper la page https://www.imdb.com/title/imbd_id/keywords. Tout l'intérêt de la démarche est de pouvoir ensuite réaliser des nuages de mots, pour tenter de mettre en évidence les thématiques qui plaisent au public"
      ]
    },
    {
      "cell_type": "code",
      "metadata": {
        "id": "0Yxw6CiNzGvC"
      },
      "source": [
        "url_keywords = \"https://www.imdb.com/title/\" + df.imdb_id[1] +\"/keywords\"\n",
        "    \n",
        "request_text = request.urlopen(url_keywords).read()\n",
        "page = bs4.BeautifulSoup(request_text, \"lxml\")"
      ],
      "execution_count": 59,
      "outputs": []
    },
    {
      "cell_type": "markdown",
      "metadata": {
        "id": "1BMCndn_-REe"
      },
      "source": [
        "On peut ensuite récupérer facilement les mots-clés, repérés dans le code source par 'data-item-keyword' :"
      ]
    },
    {
      "cell_type": "code",
      "metadata": {
        "id": "2ZOkL-65-OcL"
      },
      "source": [
        "for post in page.findAll('td'):\n",
        "    print(post.get('data-item-keyword'))"
      ],
      "execution_count": null,
      "outputs": []
    },
    {
      "cell_type": "markdown",
      "metadata": {
        "id": "y6Xo7kUq-WCu"
      },
      "source": [
        "On généralise la démarche à tous les films de la base, puis on stocke les mots-clés dans une nouvelle variable. Cependant, il a fallu exclure certains indices car nous avons constaté que pour ceux-ci, le lien https://www.imdb.com/title/imbd_id/keywords n'existait pas."
      ]
    },
    {
      "cell_type": "code",
      "metadata": {
        "id": "2m0AOj0Z-S1s"
      },
      "source": [
        "df_new_column = pd.DataFrame(0, index=np.arange(len(df)), columns=['keywords'])\n",
        "df_2 = pd.concat([df.imdb_id, df.title, df_new_column], axis=1)\n",
        "\n",
        "df_2"
      ],
      "execution_count": null,
      "outputs": []
    },
    {
      "cell_type": "markdown",
      "metadata": {
        "id": "Dx8r1P8q-ZeJ"
      },
      "source": [
        "Code de scrapping des mots clefs. Malheureusement ce code étant très chronophage, on se contentera de charger les mots-clefs déjà scrappés.\n",
        "\n",
        "\n",
        "```\n",
        "for i in trange(len(df)):\n",
        "  if df.imdb_id[i] == None or str(df.imdb_id[i]) == 'nan' or str(df.imdb_id[i]) == 'NaN' or str(df.imdb_id[i]) == '0' or i == 30399 or i == 30544 or i==33357:\n",
        "    pass\n",
        "  else:\n",
        "    url_keywords = \"https://www.imdb.com/title/\" + df.imdb_id[i] +\"/keywords\"\n",
        "    request_text = request.urlopen(url_keywords).read()\n",
        "    page = bs4.BeautifulSoup(request_text, \"lxml\")\n",
        "    l = []\n",
        "    for post in page.findAll('td'):\n",
        "      l.append(post.get('data-item-keyword'))\n",
        "    df_2.keywords[i] = l\n",
        "    \n",
        "df_2.to_csv('base_keywords.csv', sep = ';', encoding ='utf-8') \n",
        "```\n",
        "\n"
      ]
    },
    {
      "cell_type": "markdown",
      "metadata": {
        "id": "YVzT4DoJ-eav"
      },
      "source": [
        "Voici ce que donne ce code sur les 10 premières lignes de la base :"
      ]
    },
    {
      "cell_type": "code",
      "metadata": {
        "id": "-PrFrybA-bBe"
      },
      "source": [
        "for i in trange(10):\n",
        "  if df.imdb_id[i] == None or str(df.imdb_id[i]) == 'nan' or str(df.imdb_id[i]) == 'NaN' or str(df.imdb_id[i]) == '0' or i == 30399 or i == 30544 or i==33357:\n",
        "    pass\n",
        "  else:\n",
        "    url_keywords = \"https://www.imdb.com/title/\" + df.imdb_id[i] +\"/keywords\"\n",
        "    request_text = request.urlopen(url_keywords).read()\n",
        "    page = bs4.BeautifulSoup(request_text, \"lxml\")\n",
        "    l = []\n",
        "    for post in page.findAll('td'):\n",
        "      l.append(post.get('data-item-keyword'))\n",
        "    df_2.keywords[i] = l\n"
      ],
      "execution_count": null,
      "outputs": []
    },
    {
      "cell_type": "markdown",
      "metadata": {
        "id": "5NVwfAPY_hhM"
      },
      "source": [
        "# Scraping des notes sur IMDB\n",
        "\n",
        "Pour enrichir notre analyse, nous avons voulu obtenir les notes données aux films sur un autre site, IMDB. Pour cela, nous allons scraper les pages sources des films présentant un imdb_id, à l'adresse https://www.imdb.com/title/imbd_id/keywords"
      ]
    },
    {
      "cell_type": "code",
      "metadata": {
        "id": "t0txas8z-vfX"
      },
      "source": [
        "url_rate = \"https://www.imdb.com/title/\" + df.imdb_id[0]\n",
        "    \n",
        "request_text = request.urlopen(url_rate).read()\n",
        "page = bs4.BeautifulSoup(request_text, \"lxml\")"
      ],
      "execution_count": 127,
      "outputs": []
    },
    {
      "cell_type": "markdown",
      "metadata": {
        "id": "-hwi2XqH_345"
      },
      "source": [
        "Dans ce code source, on récupère la note moyenne, renseignée par 'ratingValue':"
      ]
    },
    {
      "cell_type": "code",
      "metadata": {
        "colab": {
          "base_uri": "https://localhost:8080/",
          "height": 35
        },
        "id": "tIaSY23k-ybe",
        "outputId": "8d6961f1-479b-4c50-a250-f4362cbd4554"
      },
      "source": [
        "p = page.find_all('span',{ 'itemprop' : 'ratingValue'})\n",
        "p[0].contents[0]"
      ],
      "execution_count": 128,
      "outputs": [
        {
          "output_type": "execute_result",
          "data": {
            "application/vnd.google.colaboratory.intrinsic+json": {
              "type": "string"
            },
            "text/plain": [
              "'8.3'"
            ]
          },
          "metadata": {
            "tags": []
          },
          "execution_count": 128
        }
      ]
    },
    {
      "cell_type": "markdown",
      "metadata": {
        "id": "UK2F9R5l_6tu"
      },
      "source": [
        "On généralise le processus à toute la base et on crée une nouvelle variable imdb_rate dans laquelle on stocke ces informations."
      ]
    },
    {
      "cell_type": "code",
      "metadata": {
        "id": "s_bH46X3_69v"
      },
      "source": [
        "df_new_column = pd.DataFrame(0, index=df.index, columns=['imdb_rate'])\n",
        "#df2 = pd.concat([df, df_new_column], axis=1)\n",
        "df = df.join(df_new_column, how='inner')"
      ],
      "execution_count": 129,
      "outputs": []
    },
    {
      "cell_type": "code",
      "metadata": {
        "id": "kVDPigcO_9tY",
        "colab": {
          "base_uri": "https://localhost:8080/",
          "height": 665,
          "referenced_widgets": [
            "d63bc4b909d34834819c692320f0c1db",
            "21e92fb255cf4790acfa29d972070a1b",
            "033d1d246cc64fa9937adb6c56ead87a",
            "bec261d2ef1e495d9ec9af01cb8bcda0",
            "6fd40f5a509e44529134868cd509ad84",
            "a02d46d1b7474fa5adf9f3585c525305",
            "a1829deb64c24b408f7a3ce13b4143fa",
            "38a99a01aa364b58b549e981848ea24e"
          ]
        },
        "outputId": "85ca5eb6-e52a-4930-c69a-35cca6436083"
      },
      "source": [
        "for i in trange(len(df)):\n",
        "  if df.imdb_id[i] == None or str(df.imdb_id[i]) == 'nan' or str(df.imdb_id[i]) == 'NaN' or str(df.imdb_id[i]) == '0' or i == 30399 or i == 30544 or i==33357:\n",
        "    pass\n",
        "  else:\n",
        "    url_rate = \"https://www.imdb.com/title/\" + df.imdb_id[i]\n",
        "    request_text = request.urlopen(url_rate).read()\n",
        "    page = bs4.BeautifulSoup(request_text, \"lxml\")\n",
        "    p = page.find_all('span',{ 'itemprop' : 'ratingValue'})\n",
        "    df.imdb_rate[i] = p[0].contents[0]\n"
      ],
      "execution_count": 130,
      "outputs": [
        {
          "output_type": "display_data",
          "data": {
            "application/vnd.jupyter.widget-view+json": {
              "model_id": "d63bc4b909d34834819c692320f0c1db",
              "version_minor": 0,
              "version_major": 2
            },
            "text/plain": [
              "HBox(children=(FloatProgress(value=0.0, max=42980.0), HTML(value='')))"
            ]
          },
          "metadata": {
            "tags": []
          }
        },
        {
          "output_type": "stream",
          "text": [
            "/usr/local/lib/python3.6/dist-packages/ipykernel_launcher.py:9: SettingWithCopyWarning:\n",
            "\n",
            "\n",
            "A value is trying to be set on a copy of a slice from a DataFrame\n",
            "\n",
            "See the caveats in the documentation: https://pandas.pydata.org/pandas-docs/stable/user_guide/indexing.html#returning-a-view-versus-a-copy\n",
            "\n",
            "/usr/local/lib/python3.6/dist-packages/pandas/core/indexing.py:670: SettingWithCopyWarning:\n",
            "\n",
            "\n",
            "A value is trying to be set on a copy of a slice from a DataFrame\n",
            "\n",
            "See the caveats in the documentation: https://pandas.pydata.org/pandas-docs/stable/user_guide/indexing.html#returning-a-view-versus-a-copy\n",
            "\n"
          ],
          "name": "stderr"
        },
        {
          "output_type": "error",
          "ename": "KeyboardInterrupt",
          "evalue": "ignored",
          "traceback": [
            "\u001b[0;31m---------------------------------------------------------------------------\u001b[0m",
            "\u001b[0;31mKeyboardInterrupt\u001b[0m                         Traceback (most recent call last)",
            "\u001b[0;32m<ipython-input-130-c0b44eb452df>\u001b[0m in \u001b[0;36m<module>\u001b[0;34m()\u001b[0m\n\u001b[1;32m      4\u001b[0m   \u001b[0;32melse\u001b[0m\u001b[0;34m:\u001b[0m\u001b[0;34m\u001b[0m\u001b[0;34m\u001b[0m\u001b[0m\n\u001b[1;32m      5\u001b[0m     \u001b[0murl_rate\u001b[0m \u001b[0;34m=\u001b[0m \u001b[0;34m\"https://www.imdb.com/title/\"\u001b[0m \u001b[0;34m+\u001b[0m \u001b[0mdf\u001b[0m\u001b[0;34m.\u001b[0m\u001b[0mimdb_id\u001b[0m\u001b[0;34m[\u001b[0m\u001b[0mi\u001b[0m\u001b[0;34m]\u001b[0m\u001b[0;34m\u001b[0m\u001b[0;34m\u001b[0m\u001b[0m\n\u001b[0;32m----> 6\u001b[0;31m     \u001b[0mrequest_text\u001b[0m \u001b[0;34m=\u001b[0m \u001b[0mrequest\u001b[0m\u001b[0;34m.\u001b[0m\u001b[0murlopen\u001b[0m\u001b[0;34m(\u001b[0m\u001b[0murl_rate\u001b[0m\u001b[0;34m)\u001b[0m\u001b[0;34m.\u001b[0m\u001b[0mread\u001b[0m\u001b[0;34m(\u001b[0m\u001b[0;34m)\u001b[0m\u001b[0;34m\u001b[0m\u001b[0;34m\u001b[0m\u001b[0m\n\u001b[0m\u001b[1;32m      7\u001b[0m     \u001b[0mpage\u001b[0m \u001b[0;34m=\u001b[0m \u001b[0mbs4\u001b[0m\u001b[0;34m.\u001b[0m\u001b[0mBeautifulSoup\u001b[0m\u001b[0;34m(\u001b[0m\u001b[0mrequest_text\u001b[0m\u001b[0;34m,\u001b[0m \u001b[0;34m\"lxml\"\u001b[0m\u001b[0;34m)\u001b[0m\u001b[0;34m\u001b[0m\u001b[0;34m\u001b[0m\u001b[0m\n\u001b[1;32m      8\u001b[0m     \u001b[0mp\u001b[0m \u001b[0;34m=\u001b[0m \u001b[0mpage\u001b[0m\u001b[0;34m.\u001b[0m\u001b[0mfind_all\u001b[0m\u001b[0;34m(\u001b[0m\u001b[0;34m'span'\u001b[0m\u001b[0;34m,\u001b[0m\u001b[0;34m{\u001b[0m \u001b[0;34m'itemprop'\u001b[0m \u001b[0;34m:\u001b[0m \u001b[0;34m'ratingValue'\u001b[0m\u001b[0;34m}\u001b[0m\u001b[0;34m)\u001b[0m\u001b[0;34m\u001b[0m\u001b[0;34m\u001b[0m\u001b[0m\n",
            "\u001b[0;32m/usr/lib/python3.6/urllib/request.py\u001b[0m in \u001b[0;36murlopen\u001b[0;34m(url, data, timeout, cafile, capath, cadefault, context)\u001b[0m\n\u001b[1;32m    221\u001b[0m     \u001b[0;32melse\u001b[0m\u001b[0;34m:\u001b[0m\u001b[0;34m\u001b[0m\u001b[0;34m\u001b[0m\u001b[0m\n\u001b[1;32m    222\u001b[0m         \u001b[0mopener\u001b[0m \u001b[0;34m=\u001b[0m \u001b[0m_opener\u001b[0m\u001b[0;34m\u001b[0m\u001b[0;34m\u001b[0m\u001b[0m\n\u001b[0;32m--> 223\u001b[0;31m     \u001b[0;32mreturn\u001b[0m \u001b[0mopener\u001b[0m\u001b[0;34m.\u001b[0m\u001b[0mopen\u001b[0m\u001b[0;34m(\u001b[0m\u001b[0murl\u001b[0m\u001b[0;34m,\u001b[0m \u001b[0mdata\u001b[0m\u001b[0;34m,\u001b[0m \u001b[0mtimeout\u001b[0m\u001b[0;34m)\u001b[0m\u001b[0;34m\u001b[0m\u001b[0;34m\u001b[0m\u001b[0m\n\u001b[0m\u001b[1;32m    224\u001b[0m \u001b[0;34m\u001b[0m\u001b[0m\n\u001b[1;32m    225\u001b[0m \u001b[0;32mdef\u001b[0m \u001b[0minstall_opener\u001b[0m\u001b[0;34m(\u001b[0m\u001b[0mopener\u001b[0m\u001b[0;34m)\u001b[0m\u001b[0;34m:\u001b[0m\u001b[0;34m\u001b[0m\u001b[0;34m\u001b[0m\u001b[0m\n",
            "\u001b[0;32m/usr/lib/python3.6/urllib/request.py\u001b[0m in \u001b[0;36mopen\u001b[0;34m(self, fullurl, data, timeout)\u001b[0m\n\u001b[1;32m    530\u001b[0m         \u001b[0;32mfor\u001b[0m \u001b[0mprocessor\u001b[0m \u001b[0;32min\u001b[0m \u001b[0mself\u001b[0m\u001b[0;34m.\u001b[0m\u001b[0mprocess_response\u001b[0m\u001b[0;34m.\u001b[0m\u001b[0mget\u001b[0m\u001b[0;34m(\u001b[0m\u001b[0mprotocol\u001b[0m\u001b[0;34m,\u001b[0m \u001b[0;34m[\u001b[0m\u001b[0;34m]\u001b[0m\u001b[0;34m)\u001b[0m\u001b[0;34m:\u001b[0m\u001b[0;34m\u001b[0m\u001b[0;34m\u001b[0m\u001b[0m\n\u001b[1;32m    531\u001b[0m             \u001b[0mmeth\u001b[0m \u001b[0;34m=\u001b[0m \u001b[0mgetattr\u001b[0m\u001b[0;34m(\u001b[0m\u001b[0mprocessor\u001b[0m\u001b[0;34m,\u001b[0m \u001b[0mmeth_name\u001b[0m\u001b[0;34m)\u001b[0m\u001b[0;34m\u001b[0m\u001b[0;34m\u001b[0m\u001b[0m\n\u001b[0;32m--> 532\u001b[0;31m             \u001b[0mresponse\u001b[0m \u001b[0;34m=\u001b[0m \u001b[0mmeth\u001b[0m\u001b[0;34m(\u001b[0m\u001b[0mreq\u001b[0m\u001b[0;34m,\u001b[0m \u001b[0mresponse\u001b[0m\u001b[0;34m)\u001b[0m\u001b[0;34m\u001b[0m\u001b[0;34m\u001b[0m\u001b[0m\n\u001b[0m\u001b[1;32m    533\u001b[0m \u001b[0;34m\u001b[0m\u001b[0m\n\u001b[1;32m    534\u001b[0m         \u001b[0;32mreturn\u001b[0m \u001b[0mresponse\u001b[0m\u001b[0;34m\u001b[0m\u001b[0;34m\u001b[0m\u001b[0m\n",
            "\u001b[0;32m/usr/lib/python3.6/urllib/request.py\u001b[0m in \u001b[0;36mhttp_response\u001b[0;34m(self, request, response)\u001b[0m\n\u001b[1;32m    640\u001b[0m         \u001b[0;32mif\u001b[0m \u001b[0;32mnot\u001b[0m \u001b[0;34m(\u001b[0m\u001b[0;36m200\u001b[0m \u001b[0;34m<=\u001b[0m \u001b[0mcode\u001b[0m \u001b[0;34m<\u001b[0m \u001b[0;36m300\u001b[0m\u001b[0;34m)\u001b[0m\u001b[0;34m:\u001b[0m\u001b[0;34m\u001b[0m\u001b[0;34m\u001b[0m\u001b[0m\n\u001b[1;32m    641\u001b[0m             response = self.parent.error(\n\u001b[0;32m--> 642\u001b[0;31m                 'http', request, response, code, msg, hdrs)\n\u001b[0m\u001b[1;32m    643\u001b[0m \u001b[0;34m\u001b[0m\u001b[0m\n\u001b[1;32m    644\u001b[0m         \u001b[0;32mreturn\u001b[0m \u001b[0mresponse\u001b[0m\u001b[0;34m\u001b[0m\u001b[0;34m\u001b[0m\u001b[0m\n",
            "\u001b[0;32m/usr/lib/python3.6/urllib/request.py\u001b[0m in \u001b[0;36merror\u001b[0;34m(self, proto, *args)\u001b[0m\n\u001b[1;32m    562\u001b[0m             \u001b[0mhttp_err\u001b[0m \u001b[0;34m=\u001b[0m \u001b[0;36m0\u001b[0m\u001b[0;34m\u001b[0m\u001b[0;34m\u001b[0m\u001b[0m\n\u001b[1;32m    563\u001b[0m         \u001b[0margs\u001b[0m \u001b[0;34m=\u001b[0m \u001b[0;34m(\u001b[0m\u001b[0mdict\u001b[0m\u001b[0;34m,\u001b[0m \u001b[0mproto\u001b[0m\u001b[0;34m,\u001b[0m \u001b[0mmeth_name\u001b[0m\u001b[0;34m)\u001b[0m \u001b[0;34m+\u001b[0m \u001b[0margs\u001b[0m\u001b[0;34m\u001b[0m\u001b[0;34m\u001b[0m\u001b[0m\n\u001b[0;32m--> 564\u001b[0;31m         \u001b[0mresult\u001b[0m \u001b[0;34m=\u001b[0m \u001b[0mself\u001b[0m\u001b[0;34m.\u001b[0m\u001b[0m_call_chain\u001b[0m\u001b[0;34m(\u001b[0m\u001b[0;34m*\u001b[0m\u001b[0margs\u001b[0m\u001b[0;34m)\u001b[0m\u001b[0;34m\u001b[0m\u001b[0;34m\u001b[0m\u001b[0m\n\u001b[0m\u001b[1;32m    565\u001b[0m         \u001b[0;32mif\u001b[0m \u001b[0mresult\u001b[0m\u001b[0;34m:\u001b[0m\u001b[0;34m\u001b[0m\u001b[0;34m\u001b[0m\u001b[0m\n\u001b[1;32m    566\u001b[0m             \u001b[0;32mreturn\u001b[0m \u001b[0mresult\u001b[0m\u001b[0;34m\u001b[0m\u001b[0;34m\u001b[0m\u001b[0m\n",
            "\u001b[0;32m/usr/lib/python3.6/urllib/request.py\u001b[0m in \u001b[0;36m_call_chain\u001b[0;34m(self, chain, kind, meth_name, *args)\u001b[0m\n\u001b[1;32m    502\u001b[0m         \u001b[0;32mfor\u001b[0m \u001b[0mhandler\u001b[0m \u001b[0;32min\u001b[0m \u001b[0mhandlers\u001b[0m\u001b[0;34m:\u001b[0m\u001b[0;34m\u001b[0m\u001b[0;34m\u001b[0m\u001b[0m\n\u001b[1;32m    503\u001b[0m             \u001b[0mfunc\u001b[0m \u001b[0;34m=\u001b[0m \u001b[0mgetattr\u001b[0m\u001b[0;34m(\u001b[0m\u001b[0mhandler\u001b[0m\u001b[0;34m,\u001b[0m \u001b[0mmeth_name\u001b[0m\u001b[0;34m)\u001b[0m\u001b[0;34m\u001b[0m\u001b[0;34m\u001b[0m\u001b[0m\n\u001b[0;32m--> 504\u001b[0;31m             \u001b[0mresult\u001b[0m \u001b[0;34m=\u001b[0m \u001b[0mfunc\u001b[0m\u001b[0;34m(\u001b[0m\u001b[0;34m*\u001b[0m\u001b[0margs\u001b[0m\u001b[0;34m)\u001b[0m\u001b[0;34m\u001b[0m\u001b[0;34m\u001b[0m\u001b[0m\n\u001b[0m\u001b[1;32m    505\u001b[0m             \u001b[0;32mif\u001b[0m \u001b[0mresult\u001b[0m \u001b[0;32mis\u001b[0m \u001b[0;32mnot\u001b[0m \u001b[0;32mNone\u001b[0m\u001b[0;34m:\u001b[0m\u001b[0;34m\u001b[0m\u001b[0;34m\u001b[0m\u001b[0m\n\u001b[1;32m    506\u001b[0m                 \u001b[0;32mreturn\u001b[0m \u001b[0mresult\u001b[0m\u001b[0;34m\u001b[0m\u001b[0;34m\u001b[0m\u001b[0m\n",
            "\u001b[0;32m/usr/lib/python3.6/urllib/request.py\u001b[0m in \u001b[0;36mhttp_error_302\u001b[0;34m(self, req, fp, code, msg, headers)\u001b[0m\n\u001b[1;32m    754\u001b[0m         \u001b[0mfp\u001b[0m\u001b[0;34m.\u001b[0m\u001b[0mclose\u001b[0m\u001b[0;34m(\u001b[0m\u001b[0;34m)\u001b[0m\u001b[0;34m\u001b[0m\u001b[0;34m\u001b[0m\u001b[0m\n\u001b[1;32m    755\u001b[0m \u001b[0;34m\u001b[0m\u001b[0m\n\u001b[0;32m--> 756\u001b[0;31m         \u001b[0;32mreturn\u001b[0m \u001b[0mself\u001b[0m\u001b[0;34m.\u001b[0m\u001b[0mparent\u001b[0m\u001b[0;34m.\u001b[0m\u001b[0mopen\u001b[0m\u001b[0;34m(\u001b[0m\u001b[0mnew\u001b[0m\u001b[0;34m,\u001b[0m \u001b[0mtimeout\u001b[0m\u001b[0;34m=\u001b[0m\u001b[0mreq\u001b[0m\u001b[0;34m.\u001b[0m\u001b[0mtimeout\u001b[0m\u001b[0;34m)\u001b[0m\u001b[0;34m\u001b[0m\u001b[0;34m\u001b[0m\u001b[0m\n\u001b[0m\u001b[1;32m    757\u001b[0m \u001b[0;34m\u001b[0m\u001b[0m\n\u001b[1;32m    758\u001b[0m     \u001b[0mhttp_error_301\u001b[0m \u001b[0;34m=\u001b[0m \u001b[0mhttp_error_303\u001b[0m \u001b[0;34m=\u001b[0m \u001b[0mhttp_error_307\u001b[0m \u001b[0;34m=\u001b[0m \u001b[0mhttp_error_302\u001b[0m\u001b[0;34m\u001b[0m\u001b[0;34m\u001b[0m\u001b[0m\n",
            "\u001b[0;32m/usr/lib/python3.6/urllib/request.py\u001b[0m in \u001b[0;36mopen\u001b[0;34m(self, fullurl, data, timeout)\u001b[0m\n\u001b[1;32m    524\u001b[0m             \u001b[0mreq\u001b[0m \u001b[0;34m=\u001b[0m \u001b[0mmeth\u001b[0m\u001b[0;34m(\u001b[0m\u001b[0mreq\u001b[0m\u001b[0;34m)\u001b[0m\u001b[0;34m\u001b[0m\u001b[0;34m\u001b[0m\u001b[0m\n\u001b[1;32m    525\u001b[0m \u001b[0;34m\u001b[0m\u001b[0m\n\u001b[0;32m--> 526\u001b[0;31m         \u001b[0mresponse\u001b[0m \u001b[0;34m=\u001b[0m \u001b[0mself\u001b[0m\u001b[0;34m.\u001b[0m\u001b[0m_open\u001b[0m\u001b[0;34m(\u001b[0m\u001b[0mreq\u001b[0m\u001b[0;34m,\u001b[0m \u001b[0mdata\u001b[0m\u001b[0;34m)\u001b[0m\u001b[0;34m\u001b[0m\u001b[0;34m\u001b[0m\u001b[0m\n\u001b[0m\u001b[1;32m    527\u001b[0m \u001b[0;34m\u001b[0m\u001b[0m\n\u001b[1;32m    528\u001b[0m         \u001b[0;31m# post-process response\u001b[0m\u001b[0;34m\u001b[0m\u001b[0;34m\u001b[0m\u001b[0;34m\u001b[0m\u001b[0m\n",
            "\u001b[0;32m/usr/lib/python3.6/urllib/request.py\u001b[0m in \u001b[0;36m_open\u001b[0;34m(self, req, data)\u001b[0m\n\u001b[1;32m    542\u001b[0m         \u001b[0mprotocol\u001b[0m \u001b[0;34m=\u001b[0m \u001b[0mreq\u001b[0m\u001b[0;34m.\u001b[0m\u001b[0mtype\u001b[0m\u001b[0;34m\u001b[0m\u001b[0;34m\u001b[0m\u001b[0m\n\u001b[1;32m    543\u001b[0m         result = self._call_chain(self.handle_open, protocol, protocol +\n\u001b[0;32m--> 544\u001b[0;31m                                   '_open', req)\n\u001b[0m\u001b[1;32m    545\u001b[0m         \u001b[0;32mif\u001b[0m \u001b[0mresult\u001b[0m\u001b[0;34m:\u001b[0m\u001b[0;34m\u001b[0m\u001b[0;34m\u001b[0m\u001b[0m\n\u001b[1;32m    546\u001b[0m             \u001b[0;32mreturn\u001b[0m \u001b[0mresult\u001b[0m\u001b[0;34m\u001b[0m\u001b[0;34m\u001b[0m\u001b[0m\n",
            "\u001b[0;32m/usr/lib/python3.6/urllib/request.py\u001b[0m in \u001b[0;36m_call_chain\u001b[0;34m(self, chain, kind, meth_name, *args)\u001b[0m\n\u001b[1;32m    502\u001b[0m         \u001b[0;32mfor\u001b[0m \u001b[0mhandler\u001b[0m \u001b[0;32min\u001b[0m \u001b[0mhandlers\u001b[0m\u001b[0;34m:\u001b[0m\u001b[0;34m\u001b[0m\u001b[0;34m\u001b[0m\u001b[0m\n\u001b[1;32m    503\u001b[0m             \u001b[0mfunc\u001b[0m \u001b[0;34m=\u001b[0m \u001b[0mgetattr\u001b[0m\u001b[0;34m(\u001b[0m\u001b[0mhandler\u001b[0m\u001b[0;34m,\u001b[0m \u001b[0mmeth_name\u001b[0m\u001b[0;34m)\u001b[0m\u001b[0;34m\u001b[0m\u001b[0;34m\u001b[0m\u001b[0m\n\u001b[0;32m--> 504\u001b[0;31m             \u001b[0mresult\u001b[0m \u001b[0;34m=\u001b[0m \u001b[0mfunc\u001b[0m\u001b[0;34m(\u001b[0m\u001b[0;34m*\u001b[0m\u001b[0margs\u001b[0m\u001b[0;34m)\u001b[0m\u001b[0;34m\u001b[0m\u001b[0;34m\u001b[0m\u001b[0m\n\u001b[0m\u001b[1;32m    505\u001b[0m             \u001b[0;32mif\u001b[0m \u001b[0mresult\u001b[0m \u001b[0;32mis\u001b[0m \u001b[0;32mnot\u001b[0m \u001b[0;32mNone\u001b[0m\u001b[0;34m:\u001b[0m\u001b[0;34m\u001b[0m\u001b[0;34m\u001b[0m\u001b[0m\n\u001b[1;32m    506\u001b[0m                 \u001b[0;32mreturn\u001b[0m \u001b[0mresult\u001b[0m\u001b[0;34m\u001b[0m\u001b[0;34m\u001b[0m\u001b[0m\n",
            "\u001b[0;32m/usr/lib/python3.6/urllib/request.py\u001b[0m in \u001b[0;36mhttps_open\u001b[0;34m(self, req)\u001b[0m\n\u001b[1;32m   1366\u001b[0m         \u001b[0;32mdef\u001b[0m \u001b[0mhttps_open\u001b[0m\u001b[0;34m(\u001b[0m\u001b[0mself\u001b[0m\u001b[0;34m,\u001b[0m \u001b[0mreq\u001b[0m\u001b[0;34m)\u001b[0m\u001b[0;34m:\u001b[0m\u001b[0;34m\u001b[0m\u001b[0;34m\u001b[0m\u001b[0m\n\u001b[1;32m   1367\u001b[0m             return self.do_open(http.client.HTTPSConnection, req,\n\u001b[0;32m-> 1368\u001b[0;31m                 context=self._context, check_hostname=self._check_hostname)\n\u001b[0m\u001b[1;32m   1369\u001b[0m \u001b[0;34m\u001b[0m\u001b[0m\n\u001b[1;32m   1370\u001b[0m         \u001b[0mhttps_request\u001b[0m \u001b[0;34m=\u001b[0m \u001b[0mAbstractHTTPHandler\u001b[0m\u001b[0;34m.\u001b[0m\u001b[0mdo_request_\u001b[0m\u001b[0;34m\u001b[0m\u001b[0;34m\u001b[0m\u001b[0m\n",
            "\u001b[0;32m/usr/lib/python3.6/urllib/request.py\u001b[0m in \u001b[0;36mdo_open\u001b[0;34m(self, http_class, req, **http_conn_args)\u001b[0m\n\u001b[1;32m   1326\u001b[0m             \u001b[0;32mexcept\u001b[0m \u001b[0mOSError\u001b[0m \u001b[0;32mas\u001b[0m \u001b[0merr\u001b[0m\u001b[0;34m:\u001b[0m \u001b[0;31m# timeout error\u001b[0m\u001b[0;34m\u001b[0m\u001b[0;34m\u001b[0m\u001b[0m\n\u001b[1;32m   1327\u001b[0m                 \u001b[0;32mraise\u001b[0m \u001b[0mURLError\u001b[0m\u001b[0;34m(\u001b[0m\u001b[0merr\u001b[0m\u001b[0;34m)\u001b[0m\u001b[0;34m\u001b[0m\u001b[0;34m\u001b[0m\u001b[0m\n\u001b[0;32m-> 1328\u001b[0;31m             \u001b[0mr\u001b[0m \u001b[0;34m=\u001b[0m \u001b[0mh\u001b[0m\u001b[0;34m.\u001b[0m\u001b[0mgetresponse\u001b[0m\u001b[0;34m(\u001b[0m\u001b[0;34m)\u001b[0m\u001b[0;34m\u001b[0m\u001b[0;34m\u001b[0m\u001b[0m\n\u001b[0m\u001b[1;32m   1329\u001b[0m         \u001b[0;32mexcept\u001b[0m\u001b[0;34m:\u001b[0m\u001b[0;34m\u001b[0m\u001b[0;34m\u001b[0m\u001b[0m\n\u001b[1;32m   1330\u001b[0m             \u001b[0mh\u001b[0m\u001b[0;34m.\u001b[0m\u001b[0mclose\u001b[0m\u001b[0;34m(\u001b[0m\u001b[0;34m)\u001b[0m\u001b[0;34m\u001b[0m\u001b[0;34m\u001b[0m\u001b[0m\n",
            "\u001b[0;32m/usr/lib/python3.6/http/client.py\u001b[0m in \u001b[0;36mgetresponse\u001b[0;34m(self)\u001b[0m\n\u001b[1;32m   1371\u001b[0m         \u001b[0;32mtry\u001b[0m\u001b[0;34m:\u001b[0m\u001b[0;34m\u001b[0m\u001b[0;34m\u001b[0m\u001b[0m\n\u001b[1;32m   1372\u001b[0m             \u001b[0;32mtry\u001b[0m\u001b[0;34m:\u001b[0m\u001b[0;34m\u001b[0m\u001b[0;34m\u001b[0m\u001b[0m\n\u001b[0;32m-> 1373\u001b[0;31m                 \u001b[0mresponse\u001b[0m\u001b[0;34m.\u001b[0m\u001b[0mbegin\u001b[0m\u001b[0;34m(\u001b[0m\u001b[0;34m)\u001b[0m\u001b[0;34m\u001b[0m\u001b[0;34m\u001b[0m\u001b[0m\n\u001b[0m\u001b[1;32m   1374\u001b[0m             \u001b[0;32mexcept\u001b[0m \u001b[0mConnectionError\u001b[0m\u001b[0;34m:\u001b[0m\u001b[0;34m\u001b[0m\u001b[0;34m\u001b[0m\u001b[0m\n\u001b[1;32m   1375\u001b[0m                 \u001b[0mself\u001b[0m\u001b[0;34m.\u001b[0m\u001b[0mclose\u001b[0m\u001b[0;34m(\u001b[0m\u001b[0;34m)\u001b[0m\u001b[0;34m\u001b[0m\u001b[0;34m\u001b[0m\u001b[0m\n",
            "\u001b[0;32m/usr/lib/python3.6/http/client.py\u001b[0m in \u001b[0;36mbegin\u001b[0;34m(self)\u001b[0m\n\u001b[1;32m    309\u001b[0m         \u001b[0;31m# read until we get a non-100 response\u001b[0m\u001b[0;34m\u001b[0m\u001b[0;34m\u001b[0m\u001b[0;34m\u001b[0m\u001b[0m\n\u001b[1;32m    310\u001b[0m         \u001b[0;32mwhile\u001b[0m \u001b[0;32mTrue\u001b[0m\u001b[0;34m:\u001b[0m\u001b[0;34m\u001b[0m\u001b[0;34m\u001b[0m\u001b[0m\n\u001b[0;32m--> 311\u001b[0;31m             \u001b[0mversion\u001b[0m\u001b[0;34m,\u001b[0m \u001b[0mstatus\u001b[0m\u001b[0;34m,\u001b[0m \u001b[0mreason\u001b[0m \u001b[0;34m=\u001b[0m \u001b[0mself\u001b[0m\u001b[0;34m.\u001b[0m\u001b[0m_read_status\u001b[0m\u001b[0;34m(\u001b[0m\u001b[0;34m)\u001b[0m\u001b[0;34m\u001b[0m\u001b[0;34m\u001b[0m\u001b[0m\n\u001b[0m\u001b[1;32m    312\u001b[0m             \u001b[0;32mif\u001b[0m \u001b[0mstatus\u001b[0m \u001b[0;34m!=\u001b[0m \u001b[0mCONTINUE\u001b[0m\u001b[0;34m:\u001b[0m\u001b[0;34m\u001b[0m\u001b[0;34m\u001b[0m\u001b[0m\n\u001b[1;32m    313\u001b[0m                 \u001b[0;32mbreak\u001b[0m\u001b[0;34m\u001b[0m\u001b[0;34m\u001b[0m\u001b[0m\n",
            "\u001b[0;32m/usr/lib/python3.6/http/client.py\u001b[0m in \u001b[0;36m_read_status\u001b[0;34m(self)\u001b[0m\n\u001b[1;32m    270\u001b[0m \u001b[0;34m\u001b[0m\u001b[0m\n\u001b[1;32m    271\u001b[0m     \u001b[0;32mdef\u001b[0m \u001b[0m_read_status\u001b[0m\u001b[0;34m(\u001b[0m\u001b[0mself\u001b[0m\u001b[0;34m)\u001b[0m\u001b[0;34m:\u001b[0m\u001b[0;34m\u001b[0m\u001b[0;34m\u001b[0m\u001b[0m\n\u001b[0;32m--> 272\u001b[0;31m         \u001b[0mline\u001b[0m \u001b[0;34m=\u001b[0m \u001b[0mstr\u001b[0m\u001b[0;34m(\u001b[0m\u001b[0mself\u001b[0m\u001b[0;34m.\u001b[0m\u001b[0mfp\u001b[0m\u001b[0;34m.\u001b[0m\u001b[0mreadline\u001b[0m\u001b[0;34m(\u001b[0m\u001b[0m_MAXLINE\u001b[0m \u001b[0;34m+\u001b[0m \u001b[0;36m1\u001b[0m\u001b[0;34m)\u001b[0m\u001b[0;34m,\u001b[0m \u001b[0;34m\"iso-8859-1\"\u001b[0m\u001b[0;34m)\u001b[0m\u001b[0;34m\u001b[0m\u001b[0;34m\u001b[0m\u001b[0m\n\u001b[0m\u001b[1;32m    273\u001b[0m         \u001b[0;32mif\u001b[0m \u001b[0mlen\u001b[0m\u001b[0;34m(\u001b[0m\u001b[0mline\u001b[0m\u001b[0;34m)\u001b[0m \u001b[0;34m>\u001b[0m \u001b[0m_MAXLINE\u001b[0m\u001b[0;34m:\u001b[0m\u001b[0;34m\u001b[0m\u001b[0;34m\u001b[0m\u001b[0m\n\u001b[1;32m    274\u001b[0m             \u001b[0;32mraise\u001b[0m \u001b[0mLineTooLong\u001b[0m\u001b[0;34m(\u001b[0m\u001b[0;34m\"status line\"\u001b[0m\u001b[0;34m)\u001b[0m\u001b[0;34m\u001b[0m\u001b[0;34m\u001b[0m\u001b[0m\n",
            "\u001b[0;32m/usr/lib/python3.6/socket.py\u001b[0m in \u001b[0;36mreadinto\u001b[0;34m(self, b)\u001b[0m\n\u001b[1;32m    584\u001b[0m         \u001b[0;32mwhile\u001b[0m \u001b[0;32mTrue\u001b[0m\u001b[0;34m:\u001b[0m\u001b[0;34m\u001b[0m\u001b[0;34m\u001b[0m\u001b[0m\n\u001b[1;32m    585\u001b[0m             \u001b[0;32mtry\u001b[0m\u001b[0;34m:\u001b[0m\u001b[0;34m\u001b[0m\u001b[0;34m\u001b[0m\u001b[0m\n\u001b[0;32m--> 586\u001b[0;31m                 \u001b[0;32mreturn\u001b[0m \u001b[0mself\u001b[0m\u001b[0;34m.\u001b[0m\u001b[0m_sock\u001b[0m\u001b[0;34m.\u001b[0m\u001b[0mrecv_into\u001b[0m\u001b[0;34m(\u001b[0m\u001b[0mb\u001b[0m\u001b[0;34m)\u001b[0m\u001b[0;34m\u001b[0m\u001b[0;34m\u001b[0m\u001b[0m\n\u001b[0m\u001b[1;32m    587\u001b[0m             \u001b[0;32mexcept\u001b[0m \u001b[0mtimeout\u001b[0m\u001b[0;34m:\u001b[0m\u001b[0;34m\u001b[0m\u001b[0;34m\u001b[0m\u001b[0m\n\u001b[1;32m    588\u001b[0m                 \u001b[0mself\u001b[0m\u001b[0;34m.\u001b[0m\u001b[0m_timeout_occurred\u001b[0m \u001b[0;34m=\u001b[0m \u001b[0;32mTrue\u001b[0m\u001b[0;34m\u001b[0m\u001b[0;34m\u001b[0m\u001b[0m\n",
            "\u001b[0;32m/usr/lib/python3.6/ssl.py\u001b[0m in \u001b[0;36mrecv_into\u001b[0;34m(self, buffer, nbytes, flags)\u001b[0m\n\u001b[1;32m   1010\u001b[0m                   \u001b[0;34m\"non-zero flags not allowed in calls to recv_into() on %s\"\u001b[0m \u001b[0;34m%\u001b[0m\u001b[0;34m\u001b[0m\u001b[0;34m\u001b[0m\u001b[0m\n\u001b[1;32m   1011\u001b[0m                   self.__class__)\n\u001b[0;32m-> 1012\u001b[0;31m             \u001b[0;32mreturn\u001b[0m \u001b[0mself\u001b[0m\u001b[0;34m.\u001b[0m\u001b[0mread\u001b[0m\u001b[0;34m(\u001b[0m\u001b[0mnbytes\u001b[0m\u001b[0;34m,\u001b[0m \u001b[0mbuffer\u001b[0m\u001b[0;34m)\u001b[0m\u001b[0;34m\u001b[0m\u001b[0;34m\u001b[0m\u001b[0m\n\u001b[0m\u001b[1;32m   1013\u001b[0m         \u001b[0;32melse\u001b[0m\u001b[0;34m:\u001b[0m\u001b[0;34m\u001b[0m\u001b[0;34m\u001b[0m\u001b[0m\n\u001b[1;32m   1014\u001b[0m             \u001b[0;32mreturn\u001b[0m \u001b[0msocket\u001b[0m\u001b[0;34m.\u001b[0m\u001b[0mrecv_into\u001b[0m\u001b[0;34m(\u001b[0m\u001b[0mself\u001b[0m\u001b[0;34m,\u001b[0m \u001b[0mbuffer\u001b[0m\u001b[0;34m,\u001b[0m \u001b[0mnbytes\u001b[0m\u001b[0;34m,\u001b[0m \u001b[0mflags\u001b[0m\u001b[0;34m)\u001b[0m\u001b[0;34m\u001b[0m\u001b[0;34m\u001b[0m\u001b[0m\n",
            "\u001b[0;32m/usr/lib/python3.6/ssl.py\u001b[0m in \u001b[0;36mread\u001b[0;34m(self, len, buffer)\u001b[0m\n\u001b[1;32m    872\u001b[0m             \u001b[0;32mraise\u001b[0m \u001b[0mValueError\u001b[0m\u001b[0;34m(\u001b[0m\u001b[0;34m\"Read on closed or unwrapped SSL socket.\"\u001b[0m\u001b[0;34m)\u001b[0m\u001b[0;34m\u001b[0m\u001b[0;34m\u001b[0m\u001b[0m\n\u001b[1;32m    873\u001b[0m         \u001b[0;32mtry\u001b[0m\u001b[0;34m:\u001b[0m\u001b[0;34m\u001b[0m\u001b[0;34m\u001b[0m\u001b[0m\n\u001b[0;32m--> 874\u001b[0;31m             \u001b[0;32mreturn\u001b[0m \u001b[0mself\u001b[0m\u001b[0;34m.\u001b[0m\u001b[0m_sslobj\u001b[0m\u001b[0;34m.\u001b[0m\u001b[0mread\u001b[0m\u001b[0;34m(\u001b[0m\u001b[0mlen\u001b[0m\u001b[0;34m,\u001b[0m \u001b[0mbuffer\u001b[0m\u001b[0;34m)\u001b[0m\u001b[0;34m\u001b[0m\u001b[0;34m\u001b[0m\u001b[0m\n\u001b[0m\u001b[1;32m    875\u001b[0m         \u001b[0;32mexcept\u001b[0m \u001b[0mSSLError\u001b[0m \u001b[0;32mas\u001b[0m \u001b[0mx\u001b[0m\u001b[0;34m:\u001b[0m\u001b[0;34m\u001b[0m\u001b[0;34m\u001b[0m\u001b[0m\n\u001b[1;32m    876\u001b[0m             \u001b[0;32mif\u001b[0m \u001b[0mx\u001b[0m\u001b[0;34m.\u001b[0m\u001b[0margs\u001b[0m\u001b[0;34m[\u001b[0m\u001b[0;36m0\u001b[0m\u001b[0;34m]\u001b[0m \u001b[0;34m==\u001b[0m \u001b[0mSSL_ERROR_EOF\u001b[0m \u001b[0;32mand\u001b[0m \u001b[0mself\u001b[0m\u001b[0;34m.\u001b[0m\u001b[0msuppress_ragged_eofs\u001b[0m\u001b[0;34m:\u001b[0m\u001b[0;34m\u001b[0m\u001b[0;34m\u001b[0m\u001b[0m\n",
            "\u001b[0;32m/usr/lib/python3.6/ssl.py\u001b[0m in \u001b[0;36mread\u001b[0;34m(self, len, buffer)\u001b[0m\n\u001b[1;32m    629\u001b[0m         \"\"\"\n\u001b[1;32m    630\u001b[0m         \u001b[0;32mif\u001b[0m \u001b[0mbuffer\u001b[0m \u001b[0;32mis\u001b[0m \u001b[0;32mnot\u001b[0m \u001b[0;32mNone\u001b[0m\u001b[0;34m:\u001b[0m\u001b[0;34m\u001b[0m\u001b[0;34m\u001b[0m\u001b[0m\n\u001b[0;32m--> 631\u001b[0;31m             \u001b[0mv\u001b[0m \u001b[0;34m=\u001b[0m \u001b[0mself\u001b[0m\u001b[0;34m.\u001b[0m\u001b[0m_sslobj\u001b[0m\u001b[0;34m.\u001b[0m\u001b[0mread\u001b[0m\u001b[0;34m(\u001b[0m\u001b[0mlen\u001b[0m\u001b[0;34m,\u001b[0m \u001b[0mbuffer\u001b[0m\u001b[0;34m)\u001b[0m\u001b[0;34m\u001b[0m\u001b[0;34m\u001b[0m\u001b[0m\n\u001b[0m\u001b[1;32m    632\u001b[0m         \u001b[0;32melse\u001b[0m\u001b[0;34m:\u001b[0m\u001b[0;34m\u001b[0m\u001b[0;34m\u001b[0m\u001b[0m\n\u001b[1;32m    633\u001b[0m             \u001b[0mv\u001b[0m \u001b[0;34m=\u001b[0m \u001b[0mself\u001b[0m\u001b[0;34m.\u001b[0m\u001b[0m_sslobj\u001b[0m\u001b[0;34m.\u001b[0m\u001b[0mread\u001b[0m\u001b[0;34m(\u001b[0m\u001b[0mlen\u001b[0m\u001b[0;34m)\u001b[0m\u001b[0;34m\u001b[0m\u001b[0;34m\u001b[0m\u001b[0m\n",
            "\u001b[0;31mKeyboardInterrupt\u001b[0m: "
          ]
        }
      ]
    },
    {
      "cell_type": "code",
      "metadata": {
        "id": "uoakvOJE__5-",
        "outputId": "383505be-52dc-475b-d6cb-173210af8ed0",
        "colab": {
          "base_uri": "https://localhost:8080/",
          "height": 1000
        }
      },
      "source": [
        "df"
      ],
      "execution_count": 70,
      "outputs": [
        {
          "output_type": "execute_result",
          "data": {
            "text/html": [
              "<div>\n",
              "<style scoped>\n",
              "    .dataframe tbody tr th:only-of-type {\n",
              "        vertical-align: middle;\n",
              "    }\n",
              "\n",
              "    .dataframe tbody tr th {\n",
              "        vertical-align: top;\n",
              "    }\n",
              "\n",
              "    .dataframe thead th {\n",
              "        text-align: right;\n",
              "    }\n",
              "</style>\n",
              "<table border=\"1\" class=\"dataframe\">\n",
              "  <thead>\n",
              "    <tr style=\"text-align: right;\">\n",
              "      <th></th>\n",
              "      <th>budget</th>\n",
              "      <th>genres</th>\n",
              "      <th>imdb_id</th>\n",
              "      <th>original_language</th>\n",
              "      <th>original_title</th>\n",
              "      <th>overview</th>\n",
              "      <th>popularity</th>\n",
              "      <th>release_date</th>\n",
              "      <th>revenue</th>\n",
              "      <th>runtime</th>\n",
              "      <th>status</th>\n",
              "      <th>title</th>\n",
              "      <th>vote_average</th>\n",
              "      <th>vote_count</th>\n",
              "      <th>collection</th>\n",
              "      <th>score_1</th>\n",
              "      <th>production_companies_name</th>\n",
              "      <th>production_companies_id</th>\n",
              "      <th>country_code</th>\n",
              "      <th>country_name</th>\n",
              "      <th>imdb_rate</th>\n",
              "    </tr>\n",
              "    <tr>\n",
              "      <th>id</th>\n",
              "      <th></th>\n",
              "      <th></th>\n",
              "      <th></th>\n",
              "      <th></th>\n",
              "      <th></th>\n",
              "      <th></th>\n",
              "      <th></th>\n",
              "      <th></th>\n",
              "      <th></th>\n",
              "      <th></th>\n",
              "      <th></th>\n",
              "      <th></th>\n",
              "      <th></th>\n",
              "      <th></th>\n",
              "      <th></th>\n",
              "      <th></th>\n",
              "      <th></th>\n",
              "      <th></th>\n",
              "      <th></th>\n",
              "      <th></th>\n",
              "      <th></th>\n",
              "    </tr>\n",
              "  </thead>\n",
              "  <tbody>\n",
              "    <tr>\n",
              "      <th>862</th>\n",
              "      <td>30000000.0</td>\n",
              "      <td>Animation, Comedy, Family</td>\n",
              "      <td>tt0114709</td>\n",
              "      <td>en</td>\n",
              "      <td>Toy Story</td>\n",
              "      <td>Led by Woody, Andy's toys live happily in his ...</td>\n",
              "      <td>21.946943</td>\n",
              "      <td>1995-10-30</td>\n",
              "      <td>373554033.0</td>\n",
              "      <td>81.0</td>\n",
              "      <td>Released</td>\n",
              "      <td>Toy Story</td>\n",
              "      <td>7.7</td>\n",
              "      <td>5415.0</td>\n",
              "      <td>1</td>\n",
              "      <td>41695.5</td>\n",
              "      <td>Pixar Animation Studios</td>\n",
              "      <td>3</td>\n",
              "      <td>US</td>\n",
              "      <td>United States of America</td>\n",
              "      <td>0</td>\n",
              "    </tr>\n",
              "    <tr>\n",
              "      <th>8844</th>\n",
              "      <td>65000000.0</td>\n",
              "      <td>Adventure, Fantasy, Family</td>\n",
              "      <td>tt0113497</td>\n",
              "      <td>en</td>\n",
              "      <td>Jumanji</td>\n",
              "      <td>When siblings Judy and Peter discover an encha...</td>\n",
              "      <td>17.015539</td>\n",
              "      <td>1995-12-15</td>\n",
              "      <td>262797249.0</td>\n",
              "      <td>104.0</td>\n",
              "      <td>Released</td>\n",
              "      <td>Jumanji</td>\n",
              "      <td>6.9</td>\n",
              "      <td>2413.0</td>\n",
              "      <td>0</td>\n",
              "      <td>16649.7</td>\n",
              "      <td>TriStar Pictures</td>\n",
              "      <td>559</td>\n",
              "      <td>US</td>\n",
              "      <td>United States of America</td>\n",
              "      <td>0</td>\n",
              "    </tr>\n",
              "    <tr>\n",
              "      <th>15602</th>\n",
              "      <td>0.0</td>\n",
              "      <td>Romance, Comedy</td>\n",
              "      <td>tt0113228</td>\n",
              "      <td>en</td>\n",
              "      <td>Grumpier Old Men</td>\n",
              "      <td>A family wedding reignites the ancient feud be...</td>\n",
              "      <td>11.712900</td>\n",
              "      <td>1995-12-22</td>\n",
              "      <td>0.0</td>\n",
              "      <td>101.0</td>\n",
              "      <td>Released</td>\n",
              "      <td>Grumpier Old Men</td>\n",
              "      <td>6.5</td>\n",
              "      <td>92.0</td>\n",
              "      <td>1</td>\n",
              "      <td>598.0</td>\n",
              "      <td>Warner Bros</td>\n",
              "      <td>6194</td>\n",
              "      <td>US</td>\n",
              "      <td>United States of America</td>\n",
              "      <td>0</td>\n",
              "    </tr>\n",
              "    <tr>\n",
              "      <th>31357</th>\n",
              "      <td>16000000.0</td>\n",
              "      <td>Comedy, Drama, Romance</td>\n",
              "      <td>tt0114885</td>\n",
              "      <td>en</td>\n",
              "      <td>Waiting to Exhale</td>\n",
              "      <td>Cheated on, mistreated and stepped on, the wom...</td>\n",
              "      <td>3.859495</td>\n",
              "      <td>1995-12-22</td>\n",
              "      <td>81452156.0</td>\n",
              "      <td>127.0</td>\n",
              "      <td>Released</td>\n",
              "      <td>Waiting to Exhale</td>\n",
              "      <td>6.1</td>\n",
              "      <td>34.0</td>\n",
              "      <td>0</td>\n",
              "      <td>207.4</td>\n",
              "      <td>Twentieth Century Fox Film Corporation</td>\n",
              "      <td>306</td>\n",
              "      <td>US</td>\n",
              "      <td>United States of America</td>\n",
              "      <td>0</td>\n",
              "    </tr>\n",
              "    <tr>\n",
              "      <th>11862</th>\n",
              "      <td>0.0</td>\n",
              "      <td>Comedy</td>\n",
              "      <td>tt0113041</td>\n",
              "      <td>en</td>\n",
              "      <td>Father of the Bride Part II</td>\n",
              "      <td>Just when George Banks has recovered from his ...</td>\n",
              "      <td>8.387519</td>\n",
              "      <td>1995-02-10</td>\n",
              "      <td>76578911.0</td>\n",
              "      <td>106.0</td>\n",
              "      <td>Released</td>\n",
              "      <td>Father of the Bride Part II</td>\n",
              "      <td>5.7</td>\n",
              "      <td>173.0</td>\n",
              "      <td>1</td>\n",
              "      <td>986.1</td>\n",
              "      <td>Sandollar Productions</td>\n",
              "      <td>5842</td>\n",
              "      <td>US</td>\n",
              "      <td>United States of America</td>\n",
              "      <td>0</td>\n",
              "    </tr>\n",
              "    <tr>\n",
              "      <th>...</th>\n",
              "      <td>...</td>\n",
              "      <td>...</td>\n",
              "      <td>...</td>\n",
              "      <td>...</td>\n",
              "      <td>...</td>\n",
              "      <td>...</td>\n",
              "      <td>...</td>\n",
              "      <td>...</td>\n",
              "      <td>...</td>\n",
              "      <td>...</td>\n",
              "      <td>...</td>\n",
              "      <td>...</td>\n",
              "      <td>...</td>\n",
              "      <td>...</td>\n",
              "      <td>...</td>\n",
              "      <td>...</td>\n",
              "      <td>...</td>\n",
              "      <td>...</td>\n",
              "      <td>...</td>\n",
              "      <td>...</td>\n",
              "      <td>...</td>\n",
              "    </tr>\n",
              "    <tr>\n",
              "      <th>222848</th>\n",
              "      <td>0.0</td>\n",
              "      <td>id 878 name Science Fiction</td>\n",
              "      <td>tt0112613</td>\n",
              "      <td>en</td>\n",
              "      <td>Caged Heat 3000</td>\n",
              "      <td>It's the year 3000 AD. The world's most danger...</td>\n",
              "      <td>0.661558</td>\n",
              "      <td>1995-01-01</td>\n",
              "      <td>0.0</td>\n",
              "      <td>85.0</td>\n",
              "      <td>Released</td>\n",
              "      <td>Caged Heat 3000</td>\n",
              "      <td>3.5</td>\n",
              "      <td>1.0</td>\n",
              "      <td>0</td>\n",
              "      <td>3.5</td>\n",
              "      <td>ConcordeNew Horizons</td>\n",
              "      <td>4688</td>\n",
              "      <td>US</td>\n",
              "      <td>United States of America</td>\n",
              "      <td>0</td>\n",
              "    </tr>\n",
              "    <tr>\n",
              "      <th>30840</th>\n",
              "      <td>0.0</td>\n",
              "      <td>id  name Drama id  name Action id 10749 name R...</td>\n",
              "      <td>tt0102797</td>\n",
              "      <td>en</td>\n",
              "      <td>Robin Hood</td>\n",
              "      <td>Yet another version of the classic epic, with ...</td>\n",
              "      <td>5.683753</td>\n",
              "      <td>1991-05-13</td>\n",
              "      <td>0.0</td>\n",
              "      <td>104.0</td>\n",
              "      <td>Released</td>\n",
              "      <td>Robin Hood</td>\n",
              "      <td>5.7</td>\n",
              "      <td>26.0</td>\n",
              "      <td>0</td>\n",
              "      <td>148.2</td>\n",
              "      <td>Westdeutscher Rundfunk WDR</td>\n",
              "      <td>7025</td>\n",
              "      <td>CA</td>\n",
              "      <td>Canada</td>\n",
              "      <td>0</td>\n",
              "    </tr>\n",
              "    <tr>\n",
              "      <th>439050</th>\n",
              "      <td>0.0</td>\n",
              "      <td>id  name Drama id  name Family</td>\n",
              "      <td>tt6209470</td>\n",
              "      <td>fa</td>\n",
              "      <td>رگ خواب</td>\n",
              "      <td>Rising and falling between a man and woman.</td>\n",
              "      <td>0.072051</td>\n",
              "      <td>NaN</td>\n",
              "      <td>0.0</td>\n",
              "      <td>90.0</td>\n",
              "      <td>Released</td>\n",
              "      <td>Subdue</td>\n",
              "      <td>4.0</td>\n",
              "      <td>1.0</td>\n",
              "      <td>0</td>\n",
              "      <td>4.0</td>\n",
              "      <td>NaN</td>\n",
              "      <td>NaN</td>\n",
              "      <td>IR</td>\n",
              "      <td>Iran</td>\n",
              "      <td>0</td>\n",
              "    </tr>\n",
              "    <tr>\n",
              "      <th>111109</th>\n",
              "      <td>0.0</td>\n",
              "      <td>id  name Drama</td>\n",
              "      <td>tt2028550</td>\n",
              "      <td>tl</td>\n",
              "      <td>Siglo ng Pagluluwal</td>\n",
              "      <td>An artist struggles to finish his work while a...</td>\n",
              "      <td>0.178241</td>\n",
              "      <td>2011-11-17</td>\n",
              "      <td>0.0</td>\n",
              "      <td>360.0</td>\n",
              "      <td>Released</td>\n",
              "      <td>Century of Birthing</td>\n",
              "      <td>9.0</td>\n",
              "      <td>3.0</td>\n",
              "      <td>0</td>\n",
              "      <td>27.0</td>\n",
              "      <td>Sine Olivia</td>\n",
              "      <td>19653</td>\n",
              "      <td>PH</td>\n",
              "      <td>Philippines</td>\n",
              "      <td>0</td>\n",
              "    </tr>\n",
              "    <tr>\n",
              "      <th>67758</th>\n",
              "      <td>0.0</td>\n",
              "      <td>id  name Action id  name Drama id  name Thriller</td>\n",
              "      <td>tt0303758</td>\n",
              "      <td>en</td>\n",
              "      <td>Betrayal</td>\n",
              "      <td>When one of her hits goes wrong, a professiona...</td>\n",
              "      <td>0.903007</td>\n",
              "      <td>2003-08-01</td>\n",
              "      <td>0.0</td>\n",
              "      <td>90.0</td>\n",
              "      <td>Released</td>\n",
              "      <td>Betrayal</td>\n",
              "      <td>3.8</td>\n",
              "      <td>6.0</td>\n",
              "      <td>0</td>\n",
              "      <td>22.8</td>\n",
              "      <td>American World Pictures</td>\n",
              "      <td>6165</td>\n",
              "      <td>US</td>\n",
              "      <td>United States of America</td>\n",
              "      <td>0</td>\n",
              "    </tr>\n",
              "  </tbody>\n",
              "</table>\n",
              "<p>42979 rows × 21 columns</p>\n",
              "</div>"
            ],
            "text/plain": [
              "            budget  ... imdb_rate\n",
              "id                  ...          \n",
              "862     30000000.0  ...         0\n",
              "8844    65000000.0  ...         0\n",
              "15602          0.0  ...         0\n",
              "31357   16000000.0  ...         0\n",
              "11862          0.0  ...         0\n",
              "...            ...  ...       ...\n",
              "222848         0.0  ...         0\n",
              "30840          0.0  ...         0\n",
              "439050         0.0  ...         0\n",
              "111109         0.0  ...         0\n",
              "67758          0.0  ...         0\n",
              "\n",
              "[42979 rows x 21 columns]"
            ]
          },
          "metadata": {
            "tags": []
          },
          "execution_count": 70
        }
      ]
    },
    {
      "cell_type": "code",
      "metadata": {
        "id": "dtUSWOOjNnnL"
      },
      "source": [
        ""
      ],
      "execution_count": null,
      "outputs": []
    }
  ]
}