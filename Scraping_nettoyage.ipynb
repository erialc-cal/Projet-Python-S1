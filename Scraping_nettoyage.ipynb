{
  "nbformat": 4,
  "nbformat_minor": 0,
  "metadata": {
    "kernelspec": {
      "display_name": "Python 3",
      "language": "python",
      "name": "python3"
    },
    "language_info": {
      "codemirror_mode": {
        "name": "ipython",
        "version": 3
      },
      "file_extension": ".py",
      "mimetype": "text/x-python",
      "name": "python",
      "nbconvert_exporter": "python",
      "pygments_lexer": "ipython3",
      "version": "3.7.6"
    },
    "colab": {
      "name": "Notebook scraping et nettoyage.ipynb",
      "provenance": [],
      "toc_visible": true,
      "include_colab_link": true
    },
    "widgets": {
      "application/vnd.jupyter.widget-state+json": {
        "8f2e4daf7fd741989b1db2af6a0eb98e": {
          "model_module": "@jupyter-widgets/controls",
          "model_name": "HBoxModel",
          "state": {
            "_view_name": "HBoxView",
            "_dom_classes": [],
            "_model_name": "HBoxModel",
            "_view_module": "@jupyter-widgets/controls",
            "_model_module_version": "1.5.0",
            "_view_count": null,
            "_view_module_version": "1.5.0",
            "box_style": "",
            "layout": "IPY_MODEL_59faa0d4238f41febaf9486842d9d400",
            "_model_module": "@jupyter-widgets/controls",
            "children": [
              "IPY_MODEL_3a4a2b78f1f44363987f000325ef0cba",
              "IPY_MODEL_e6c81fd342584ae7b60abab9ea11140f"
            ]
          }
        },
        "59faa0d4238f41febaf9486842d9d400": {
          "model_module": "@jupyter-widgets/base",
          "model_name": "LayoutModel",
          "state": {
            "_view_name": "LayoutView",
            "grid_template_rows": null,
            "right": null,
            "justify_content": null,
            "_view_module": "@jupyter-widgets/base",
            "overflow": null,
            "_model_module_version": "1.2.0",
            "_view_count": null,
            "flex_flow": null,
            "width": null,
            "min_width": null,
            "border": null,
            "align_items": null,
            "bottom": null,
            "_model_module": "@jupyter-widgets/base",
            "top": null,
            "grid_column": null,
            "overflow_y": null,
            "overflow_x": null,
            "grid_auto_flow": null,
            "grid_area": null,
            "grid_template_columns": null,
            "flex": null,
            "_model_name": "LayoutModel",
            "justify_items": null,
            "grid_row": null,
            "max_height": null,
            "align_content": null,
            "visibility": null,
            "align_self": null,
            "height": null,
            "min_height": null,
            "padding": null,
            "grid_auto_rows": null,
            "grid_gap": null,
            "max_width": null,
            "order": null,
            "_view_module_version": "1.2.0",
            "grid_template_areas": null,
            "object_position": null,
            "object_fit": null,
            "grid_auto_columns": null,
            "margin": null,
            "display": null,
            "left": null
          }
        },
        "3a4a2b78f1f44363987f000325ef0cba": {
          "model_module": "@jupyter-widgets/controls",
          "model_name": "FloatProgressModel",
          "state": {
            "_view_name": "ProgressView",
            "style": "IPY_MODEL_7669be18b90c44b1af5d5ddcf3dd4424",
            "_dom_classes": [],
            "description": "100%",
            "_model_name": "FloatProgressModel",
            "bar_style": "success",
            "max": 45417,
            "_view_module": "@jupyter-widgets/controls",
            "_model_module_version": "1.5.0",
            "value": 45417,
            "_view_count": null,
            "_view_module_version": "1.5.0",
            "orientation": "horizontal",
            "min": 0,
            "description_tooltip": null,
            "_model_module": "@jupyter-widgets/controls",
            "layout": "IPY_MODEL_d42ca4e393a6406ab1e444ad804b8734"
          }
        },
        "e6c81fd342584ae7b60abab9ea11140f": {
          "model_module": "@jupyter-widgets/controls",
          "model_name": "HTMLModel",
          "state": {
            "_view_name": "HTMLView",
            "style": "IPY_MODEL_e563654206044853b4cf20f21c60cf46",
            "_dom_classes": [],
            "description": "",
            "_model_name": "HTMLModel",
            "placeholder": "​",
            "_view_module": "@jupyter-widgets/controls",
            "_model_module_version": "1.5.0",
            "value": " 45417/45417 [25:14&lt;00:00, 29.99it/s]",
            "_view_count": null,
            "_view_module_version": "1.5.0",
            "description_tooltip": null,
            "_model_module": "@jupyter-widgets/controls",
            "layout": "IPY_MODEL_2ab3b7ccf3b9441eb49a733e9f49c2c0"
          }
        },
        "7669be18b90c44b1af5d5ddcf3dd4424": {
          "model_module": "@jupyter-widgets/controls",
          "model_name": "ProgressStyleModel",
          "state": {
            "_view_name": "StyleView",
            "_model_name": "ProgressStyleModel",
            "description_width": "initial",
            "_view_module": "@jupyter-widgets/base",
            "_model_module_version": "1.5.0",
            "_view_count": null,
            "_view_module_version": "1.2.0",
            "bar_color": null,
            "_model_module": "@jupyter-widgets/controls"
          }
        },
        "d42ca4e393a6406ab1e444ad804b8734": {
          "model_module": "@jupyter-widgets/base",
          "model_name": "LayoutModel",
          "state": {
            "_view_name": "LayoutView",
            "grid_template_rows": null,
            "right": null,
            "justify_content": null,
            "_view_module": "@jupyter-widgets/base",
            "overflow": null,
            "_model_module_version": "1.2.0",
            "_view_count": null,
            "flex_flow": null,
            "width": null,
            "min_width": null,
            "border": null,
            "align_items": null,
            "bottom": null,
            "_model_module": "@jupyter-widgets/base",
            "top": null,
            "grid_column": null,
            "overflow_y": null,
            "overflow_x": null,
            "grid_auto_flow": null,
            "grid_area": null,
            "grid_template_columns": null,
            "flex": null,
            "_model_name": "LayoutModel",
            "justify_items": null,
            "grid_row": null,
            "max_height": null,
            "align_content": null,
            "visibility": null,
            "align_self": null,
            "height": null,
            "min_height": null,
            "padding": null,
            "grid_auto_rows": null,
            "grid_gap": null,
            "max_width": null,
            "order": null,
            "_view_module_version": "1.2.0",
            "grid_template_areas": null,
            "object_position": null,
            "object_fit": null,
            "grid_auto_columns": null,
            "margin": null,
            "display": null,
            "left": null
          }
        },
        "e563654206044853b4cf20f21c60cf46": {
          "model_module": "@jupyter-widgets/controls",
          "model_name": "DescriptionStyleModel",
          "state": {
            "_view_name": "StyleView",
            "_model_name": "DescriptionStyleModel",
            "description_width": "",
            "_view_module": "@jupyter-widgets/base",
            "_model_module_version": "1.5.0",
            "_view_count": null,
            "_view_module_version": "1.2.0",
            "_model_module": "@jupyter-widgets/controls"
          }
        },
        "2ab3b7ccf3b9441eb49a733e9f49c2c0": {
          "model_module": "@jupyter-widgets/base",
          "model_name": "LayoutModel",
          "state": {
            "_view_name": "LayoutView",
            "grid_template_rows": null,
            "right": null,
            "justify_content": null,
            "_view_module": "@jupyter-widgets/base",
            "overflow": null,
            "_model_module_version": "1.2.0",
            "_view_count": null,
            "flex_flow": null,
            "width": null,
            "min_width": null,
            "border": null,
            "align_items": null,
            "bottom": null,
            "_model_module": "@jupyter-widgets/base",
            "top": null,
            "grid_column": null,
            "overflow_y": null,
            "overflow_x": null,
            "grid_auto_flow": null,
            "grid_area": null,
            "grid_template_columns": null,
            "flex": null,
            "_model_name": "LayoutModel",
            "justify_items": null,
            "grid_row": null,
            "max_height": null,
            "align_content": null,
            "visibility": null,
            "align_self": null,
            "height": null,
            "min_height": null,
            "padding": null,
            "grid_auto_rows": null,
            "grid_gap": null,
            "max_width": null,
            "order": null,
            "_view_module_version": "1.2.0",
            "grid_template_areas": null,
            "object_position": null,
            "object_fit": null,
            "grid_auto_columns": null,
            "margin": null,
            "display": null,
            "left": null
          }
        },
        "212fec51de0d42fd97a73455fbfd5b2b": {
          "model_module": "@jupyter-widgets/controls",
          "model_name": "HBoxModel",
          "state": {
            "_view_name": "HBoxView",
            "_dom_classes": [],
            "_model_name": "HBoxModel",
            "_view_module": "@jupyter-widgets/controls",
            "_model_module_version": "1.5.0",
            "_view_count": null,
            "_view_module_version": "1.5.0",
            "box_style": "",
            "layout": "IPY_MODEL_eb3b796fb5f74320a1a5e9e274c7ce70",
            "_model_module": "@jupyter-widgets/controls",
            "children": [
              "IPY_MODEL_a27d2fc3eaf34cd897fc865f0d1ff6f0",
              "IPY_MODEL_fb0cf4d6303141a9956e8f2c01698147"
            ]
          }
        },
        "eb3b796fb5f74320a1a5e9e274c7ce70": {
          "model_module": "@jupyter-widgets/base",
          "model_name": "LayoutModel",
          "state": {
            "_view_name": "LayoutView",
            "grid_template_rows": null,
            "right": null,
            "justify_content": null,
            "_view_module": "@jupyter-widgets/base",
            "overflow": null,
            "_model_module_version": "1.2.0",
            "_view_count": null,
            "flex_flow": null,
            "width": null,
            "min_width": null,
            "border": null,
            "align_items": null,
            "bottom": null,
            "_model_module": "@jupyter-widgets/base",
            "top": null,
            "grid_column": null,
            "overflow_y": null,
            "overflow_x": null,
            "grid_auto_flow": null,
            "grid_area": null,
            "grid_template_columns": null,
            "flex": null,
            "_model_name": "LayoutModel",
            "justify_items": null,
            "grid_row": null,
            "max_height": null,
            "align_content": null,
            "visibility": null,
            "align_self": null,
            "height": null,
            "min_height": null,
            "padding": null,
            "grid_auto_rows": null,
            "grid_gap": null,
            "max_width": null,
            "order": null,
            "_view_module_version": "1.2.0",
            "grid_template_areas": null,
            "object_position": null,
            "object_fit": null,
            "grid_auto_columns": null,
            "margin": null,
            "display": null,
            "left": null
          }
        },
        "a27d2fc3eaf34cd897fc865f0d1ff6f0": {
          "model_module": "@jupyter-widgets/controls",
          "model_name": "FloatProgressModel",
          "state": {
            "_view_name": "ProgressView",
            "style": "IPY_MODEL_d2d745e75ee04e98aace5c1641f33561",
            "_dom_classes": [],
            "description": "100%",
            "_model_name": "FloatProgressModel",
            "bar_style": "success",
            "max": 45417,
            "_view_module": "@jupyter-widgets/controls",
            "_model_module_version": "1.5.0",
            "value": 45417,
            "_view_count": null,
            "_view_module_version": "1.5.0",
            "orientation": "horizontal",
            "min": 0,
            "description_tooltip": null,
            "_model_module": "@jupyter-widgets/controls",
            "layout": "IPY_MODEL_1d35cd66f9064fb8ba9f16f622e76499"
          }
        },
        "fb0cf4d6303141a9956e8f2c01698147": {
          "model_module": "@jupyter-widgets/controls",
          "model_name": "HTMLModel",
          "state": {
            "_view_name": "HTMLView",
            "style": "IPY_MODEL_86737d4f739b4d18a6c4de486a90238d",
            "_dom_classes": [],
            "description": "",
            "_model_name": "HTMLModel",
            "placeholder": "​",
            "_view_module": "@jupyter-widgets/controls",
            "_model_module_version": "1.5.0",
            "value": " 45417/45417 [00:49&lt;00:00, 912.50it/s]",
            "_view_count": null,
            "_view_module_version": "1.5.0",
            "description_tooltip": null,
            "_model_module": "@jupyter-widgets/controls",
            "layout": "IPY_MODEL_b5521ed3c5b64936a36e082bf6f450bb"
          }
        },
        "d2d745e75ee04e98aace5c1641f33561": {
          "model_module": "@jupyter-widgets/controls",
          "model_name": "ProgressStyleModel",
          "state": {
            "_view_name": "StyleView",
            "_model_name": "ProgressStyleModel",
            "description_width": "initial",
            "_view_module": "@jupyter-widgets/base",
            "_model_module_version": "1.5.0",
            "_view_count": null,
            "_view_module_version": "1.2.0",
            "bar_color": null,
            "_model_module": "@jupyter-widgets/controls"
          }
        },
        "1d35cd66f9064fb8ba9f16f622e76499": {
          "model_module": "@jupyter-widgets/base",
          "model_name": "LayoutModel",
          "state": {
            "_view_name": "LayoutView",
            "grid_template_rows": null,
            "right": null,
            "justify_content": null,
            "_view_module": "@jupyter-widgets/base",
            "overflow": null,
            "_model_module_version": "1.2.0",
            "_view_count": null,
            "flex_flow": null,
            "width": null,
            "min_width": null,
            "border": null,
            "align_items": null,
            "bottom": null,
            "_model_module": "@jupyter-widgets/base",
            "top": null,
            "grid_column": null,
            "overflow_y": null,
            "overflow_x": null,
            "grid_auto_flow": null,
            "grid_area": null,
            "grid_template_columns": null,
            "flex": null,
            "_model_name": "LayoutModel",
            "justify_items": null,
            "grid_row": null,
            "max_height": null,
            "align_content": null,
            "visibility": null,
            "align_self": null,
            "height": null,
            "min_height": null,
            "padding": null,
            "grid_auto_rows": null,
            "grid_gap": null,
            "max_width": null,
            "order": null,
            "_view_module_version": "1.2.0",
            "grid_template_areas": null,
            "object_position": null,
            "object_fit": null,
            "grid_auto_columns": null,
            "margin": null,
            "display": null,
            "left": null
          }
        },
        "86737d4f739b4d18a6c4de486a90238d": {
          "model_module": "@jupyter-widgets/controls",
          "model_name": "DescriptionStyleModel",
          "state": {
            "_view_name": "StyleView",
            "_model_name": "DescriptionStyleModel",
            "description_width": "",
            "_view_module": "@jupyter-widgets/base",
            "_model_module_version": "1.5.0",
            "_view_count": null,
            "_view_module_version": "1.2.0",
            "_model_module": "@jupyter-widgets/controls"
          }
        },
        "b5521ed3c5b64936a36e082bf6f450bb": {
          "model_module": "@jupyter-widgets/base",
          "model_name": "LayoutModel",
          "state": {
            "_view_name": "LayoutView",
            "grid_template_rows": null,
            "right": null,
            "justify_content": null,
            "_view_module": "@jupyter-widgets/base",
            "overflow": null,
            "_model_module_version": "1.2.0",
            "_view_count": null,
            "flex_flow": null,
            "width": null,
            "min_width": null,
            "border": null,
            "align_items": null,
            "bottom": null,
            "_model_module": "@jupyter-widgets/base",
            "top": null,
            "grid_column": null,
            "overflow_y": null,
            "overflow_x": null,
            "grid_auto_flow": null,
            "grid_area": null,
            "grid_template_columns": null,
            "flex": null,
            "_model_name": "LayoutModel",
            "justify_items": null,
            "grid_row": null,
            "max_height": null,
            "align_content": null,
            "visibility": null,
            "align_self": null,
            "height": null,
            "min_height": null,
            "padding": null,
            "grid_auto_rows": null,
            "grid_gap": null,
            "max_width": null,
            "order": null,
            "_view_module_version": "1.2.0",
            "grid_template_areas": null,
            "object_position": null,
            "object_fit": null,
            "grid_auto_columns": null,
            "margin": null,
            "display": null,
            "left": null
          }
        },
        "8a698c6be0f243b099b46274e0689201": {
          "model_module": "@jupyter-widgets/controls",
          "model_name": "HBoxModel",
          "state": {
            "_view_name": "HBoxView",
            "_dom_classes": [],
            "_model_name": "HBoxModel",
            "_view_module": "@jupyter-widgets/controls",
            "_model_module_version": "1.5.0",
            "_view_count": null,
            "_view_module_version": "1.5.0",
            "box_style": "",
            "layout": "IPY_MODEL_e3908c9e60324439b65d9e751acdaac4",
            "_model_module": "@jupyter-widgets/controls",
            "children": [
              "IPY_MODEL_72de0a302f014580a911d1cbf3d9d42d",
              "IPY_MODEL_b712dbd65a56495687e8322865ddbd79"
            ]
          }
        },
        "e3908c9e60324439b65d9e751acdaac4": {
          "model_module": "@jupyter-widgets/base",
          "model_name": "LayoutModel",
          "state": {
            "_view_name": "LayoutView",
            "grid_template_rows": null,
            "right": null,
            "justify_content": null,
            "_view_module": "@jupyter-widgets/base",
            "overflow": null,
            "_model_module_version": "1.2.0",
            "_view_count": null,
            "flex_flow": null,
            "width": null,
            "min_width": null,
            "border": null,
            "align_items": null,
            "bottom": null,
            "_model_module": "@jupyter-widgets/base",
            "top": null,
            "grid_column": null,
            "overflow_y": null,
            "overflow_x": null,
            "grid_auto_flow": null,
            "grid_area": null,
            "grid_template_columns": null,
            "flex": null,
            "_model_name": "LayoutModel",
            "justify_items": null,
            "grid_row": null,
            "max_height": null,
            "align_content": null,
            "visibility": null,
            "align_self": null,
            "height": null,
            "min_height": null,
            "padding": null,
            "grid_auto_rows": null,
            "grid_gap": null,
            "max_width": null,
            "order": null,
            "_view_module_version": "1.2.0",
            "grid_template_areas": null,
            "object_position": null,
            "object_fit": null,
            "grid_auto_columns": null,
            "margin": null,
            "display": null,
            "left": null
          }
        },
        "72de0a302f014580a911d1cbf3d9d42d": {
          "model_module": "@jupyter-widgets/controls",
          "model_name": "FloatProgressModel",
          "state": {
            "_view_name": "ProgressView",
            "style": "IPY_MODEL_6e5133c57b99466ba3ae0d82b4db9dea",
            "_dom_classes": [],
            "description": "100%",
            "_model_name": "FloatProgressModel",
            "bar_style": "success",
            "max": 45417,
            "_view_module": "@jupyter-widgets/controls",
            "_model_module_version": "1.5.0",
            "value": 45417,
            "_view_count": null,
            "_view_module_version": "1.5.0",
            "orientation": "horizontal",
            "min": 0,
            "description_tooltip": null,
            "_model_module": "@jupyter-widgets/controls",
            "layout": "IPY_MODEL_f823bbe7980e461f82b20fb6757c706a"
          }
        },
        "b712dbd65a56495687e8322865ddbd79": {
          "model_module": "@jupyter-widgets/controls",
          "model_name": "HTMLModel",
          "state": {
            "_view_name": "HTMLView",
            "style": "IPY_MODEL_f15ce1a7097f4fde80962b181bf4b6c1",
            "_dom_classes": [],
            "description": "",
            "_model_name": "HTMLModel",
            "placeholder": "​",
            "_view_module": "@jupyter-widgets/controls",
            "_model_module_version": "1.5.0",
            "value": " 45417/45417 [00:00&lt;00:00, 71544.46it/s]",
            "_view_count": null,
            "_view_module_version": "1.5.0",
            "description_tooltip": null,
            "_model_module": "@jupyter-widgets/controls",
            "layout": "IPY_MODEL_b9a1983fc20b4c27a31e08e65126818e"
          }
        },
        "6e5133c57b99466ba3ae0d82b4db9dea": {
          "model_module": "@jupyter-widgets/controls",
          "model_name": "ProgressStyleModel",
          "state": {
            "_view_name": "StyleView",
            "_model_name": "ProgressStyleModel",
            "description_width": "initial",
            "_view_module": "@jupyter-widgets/base",
            "_model_module_version": "1.5.0",
            "_view_count": null,
            "_view_module_version": "1.2.0",
            "bar_color": null,
            "_model_module": "@jupyter-widgets/controls"
          }
        },
        "f823bbe7980e461f82b20fb6757c706a": {
          "model_module": "@jupyter-widgets/base",
          "model_name": "LayoutModel",
          "state": {
            "_view_name": "LayoutView",
            "grid_template_rows": null,
            "right": null,
            "justify_content": null,
            "_view_module": "@jupyter-widgets/base",
            "overflow": null,
            "_model_module_version": "1.2.0",
            "_view_count": null,
            "flex_flow": null,
            "width": null,
            "min_width": null,
            "border": null,
            "align_items": null,
            "bottom": null,
            "_model_module": "@jupyter-widgets/base",
            "top": null,
            "grid_column": null,
            "overflow_y": null,
            "overflow_x": null,
            "grid_auto_flow": null,
            "grid_area": null,
            "grid_template_columns": null,
            "flex": null,
            "_model_name": "LayoutModel",
            "justify_items": null,
            "grid_row": null,
            "max_height": null,
            "align_content": null,
            "visibility": null,
            "align_self": null,
            "height": null,
            "min_height": null,
            "padding": null,
            "grid_auto_rows": null,
            "grid_gap": null,
            "max_width": null,
            "order": null,
            "_view_module_version": "1.2.0",
            "grid_template_areas": null,
            "object_position": null,
            "object_fit": null,
            "grid_auto_columns": null,
            "margin": null,
            "display": null,
            "left": null
          }
        },
        "f15ce1a7097f4fde80962b181bf4b6c1": {
          "model_module": "@jupyter-widgets/controls",
          "model_name": "DescriptionStyleModel",
          "state": {
            "_view_name": "StyleView",
            "_model_name": "DescriptionStyleModel",
            "description_width": "",
            "_view_module": "@jupyter-widgets/base",
            "_model_module_version": "1.5.0",
            "_view_count": null,
            "_view_module_version": "1.2.0",
            "_model_module": "@jupyter-widgets/controls"
          }
        },
        "b9a1983fc20b4c27a31e08e65126818e": {
          "model_module": "@jupyter-widgets/base",
          "model_name": "LayoutModel",
          "state": {
            "_view_name": "LayoutView",
            "grid_template_rows": null,
            "right": null,
            "justify_content": null,
            "_view_module": "@jupyter-widgets/base",
            "overflow": null,
            "_model_module_version": "1.2.0",
            "_view_count": null,
            "flex_flow": null,
            "width": null,
            "min_width": null,
            "border": null,
            "align_items": null,
            "bottom": null,
            "_model_module": "@jupyter-widgets/base",
            "top": null,
            "grid_column": null,
            "overflow_y": null,
            "overflow_x": null,
            "grid_auto_flow": null,
            "grid_area": null,
            "grid_template_columns": null,
            "flex": null,
            "_model_name": "LayoutModel",
            "justify_items": null,
            "grid_row": null,
            "max_height": null,
            "align_content": null,
            "visibility": null,
            "align_self": null,
            "height": null,
            "min_height": null,
            "padding": null,
            "grid_auto_rows": null,
            "grid_gap": null,
            "max_width": null,
            "order": null,
            "_view_module_version": "1.2.0",
            "grid_template_areas": null,
            "object_position": null,
            "object_fit": null,
            "grid_auto_columns": null,
            "margin": null,
            "display": null,
            "left": null
          }
        },
        "5366f8a5552446fa8e108edb26d20647": {
          "model_module": "@jupyter-widgets/controls",
          "model_name": "HBoxModel",
          "state": {
            "_view_name": "HBoxView",
            "_dom_classes": [],
            "_model_name": "HBoxModel",
            "_view_module": "@jupyter-widgets/controls",
            "_model_module_version": "1.5.0",
            "_view_count": null,
            "_view_module_version": "1.5.0",
            "box_style": "",
            "layout": "IPY_MODEL_b8bfdbd76f6546218767b0f1ae879b65",
            "_model_module": "@jupyter-widgets/controls",
            "children": [
              "IPY_MODEL_cff95acc99a74a33a7107b09322ec338",
              "IPY_MODEL_1655c764dd2a4bde9e19741cabb798bf"
            ]
          }
        },
        "b8bfdbd76f6546218767b0f1ae879b65": {
          "model_module": "@jupyter-widgets/base",
          "model_name": "LayoutModel",
          "state": {
            "_view_name": "LayoutView",
            "grid_template_rows": null,
            "right": null,
            "justify_content": null,
            "_view_module": "@jupyter-widgets/base",
            "overflow": null,
            "_model_module_version": "1.2.0",
            "_view_count": null,
            "flex_flow": null,
            "width": null,
            "min_width": null,
            "border": null,
            "align_items": null,
            "bottom": null,
            "_model_module": "@jupyter-widgets/base",
            "top": null,
            "grid_column": null,
            "overflow_y": null,
            "overflow_x": null,
            "grid_auto_flow": null,
            "grid_area": null,
            "grid_template_columns": null,
            "flex": null,
            "_model_name": "LayoutModel",
            "justify_items": null,
            "grid_row": null,
            "max_height": null,
            "align_content": null,
            "visibility": null,
            "align_self": null,
            "height": null,
            "min_height": null,
            "padding": null,
            "grid_auto_rows": null,
            "grid_gap": null,
            "max_width": null,
            "order": null,
            "_view_module_version": "1.2.0",
            "grid_template_areas": null,
            "object_position": null,
            "object_fit": null,
            "grid_auto_columns": null,
            "margin": null,
            "display": null,
            "left": null
          }
        },
        "cff95acc99a74a33a7107b09322ec338": {
          "model_module": "@jupyter-widgets/controls",
          "model_name": "FloatProgressModel",
          "state": {
            "_view_name": "ProgressView",
            "style": "IPY_MODEL_21d3d8e66c8541b6bab78040328487b7",
            "_dom_classes": [],
            "description": "100%",
            "_model_name": "FloatProgressModel",
            "bar_style": "success",
            "max": 45417,
            "_view_module": "@jupyter-widgets/controls",
            "_model_module_version": "1.5.0",
            "value": 45417,
            "_view_count": null,
            "_view_module_version": "1.5.0",
            "orientation": "horizontal",
            "min": 0,
            "description_tooltip": null,
            "_model_module": "@jupyter-widgets/controls",
            "layout": "IPY_MODEL_0b9a82a020b6405395b3e2702600ffd7"
          }
        },
        "1655c764dd2a4bde9e19741cabb798bf": {
          "model_module": "@jupyter-widgets/controls",
          "model_name": "HTMLModel",
          "state": {
            "_view_name": "HTMLView",
            "style": "IPY_MODEL_a0b1b726feb441e49bf6f1040349b6bd",
            "_dom_classes": [],
            "description": "",
            "_model_name": "HTMLModel",
            "placeholder": "​",
            "_view_module": "@jupyter-widgets/controls",
            "_model_module_version": "1.5.0",
            "value": " 45417/45417 [00:01&lt;00:00, 30952.72it/s]",
            "_view_count": null,
            "_view_module_version": "1.5.0",
            "description_tooltip": null,
            "_model_module": "@jupyter-widgets/controls",
            "layout": "IPY_MODEL_9f9204468bc24cda95742c61002853b6"
          }
        },
        "21d3d8e66c8541b6bab78040328487b7": {
          "model_module": "@jupyter-widgets/controls",
          "model_name": "ProgressStyleModel",
          "state": {
            "_view_name": "StyleView",
            "_model_name": "ProgressStyleModel",
            "description_width": "initial",
            "_view_module": "@jupyter-widgets/base",
            "_model_module_version": "1.5.0",
            "_view_count": null,
            "_view_module_version": "1.2.0",
            "bar_color": null,
            "_model_module": "@jupyter-widgets/controls"
          }
        },
        "0b9a82a020b6405395b3e2702600ffd7": {
          "model_module": "@jupyter-widgets/base",
          "model_name": "LayoutModel",
          "state": {
            "_view_name": "LayoutView",
            "grid_template_rows": null,
            "right": null,
            "justify_content": null,
            "_view_module": "@jupyter-widgets/base",
            "overflow": null,
            "_model_module_version": "1.2.0",
            "_view_count": null,
            "flex_flow": null,
            "width": null,
            "min_width": null,
            "border": null,
            "align_items": null,
            "bottom": null,
            "_model_module": "@jupyter-widgets/base",
            "top": null,
            "grid_column": null,
            "overflow_y": null,
            "overflow_x": null,
            "grid_auto_flow": null,
            "grid_area": null,
            "grid_template_columns": null,
            "flex": null,
            "_model_name": "LayoutModel",
            "justify_items": null,
            "grid_row": null,
            "max_height": null,
            "align_content": null,
            "visibility": null,
            "align_self": null,
            "height": null,
            "min_height": null,
            "padding": null,
            "grid_auto_rows": null,
            "grid_gap": null,
            "max_width": null,
            "order": null,
            "_view_module_version": "1.2.0",
            "grid_template_areas": null,
            "object_position": null,
            "object_fit": null,
            "grid_auto_columns": null,
            "margin": null,
            "display": null,
            "left": null
          }
        },
        "a0b1b726feb441e49bf6f1040349b6bd": {
          "model_module": "@jupyter-widgets/controls",
          "model_name": "DescriptionStyleModel",
          "state": {
            "_view_name": "StyleView",
            "_model_name": "DescriptionStyleModel",
            "description_width": "",
            "_view_module": "@jupyter-widgets/base",
            "_model_module_version": "1.5.0",
            "_view_count": null,
            "_view_module_version": "1.2.0",
            "_model_module": "@jupyter-widgets/controls"
          }
        },
        "9f9204468bc24cda95742c61002853b6": {
          "model_module": "@jupyter-widgets/base",
          "model_name": "LayoutModel",
          "state": {
            "_view_name": "LayoutView",
            "grid_template_rows": null,
            "right": null,
            "justify_content": null,
            "_view_module": "@jupyter-widgets/base",
            "overflow": null,
            "_model_module_version": "1.2.0",
            "_view_count": null,
            "flex_flow": null,
            "width": null,
            "min_width": null,
            "border": null,
            "align_items": null,
            "bottom": null,
            "_model_module": "@jupyter-widgets/base",
            "top": null,
            "grid_column": null,
            "overflow_y": null,
            "overflow_x": null,
            "grid_auto_flow": null,
            "grid_area": null,
            "grid_template_columns": null,
            "flex": null,
            "_model_name": "LayoutModel",
            "justify_items": null,
            "grid_row": null,
            "max_height": null,
            "align_content": null,
            "visibility": null,
            "align_self": null,
            "height": null,
            "min_height": null,
            "padding": null,
            "grid_auto_rows": null,
            "grid_gap": null,
            "max_width": null,
            "order": null,
            "_view_module_version": "1.2.0",
            "grid_template_areas": null,
            "object_position": null,
            "object_fit": null,
            "grid_auto_columns": null,
            "margin": null,
            "display": null,
            "left": null
          }
        },
        "e70bc348adc245b2b2756d40aeb15518": {
          "model_module": "@jupyter-widgets/controls",
          "model_name": "HBoxModel",
          "state": {
            "_view_name": "HBoxView",
            "_dom_classes": [],
            "_model_name": "HBoxModel",
            "_view_module": "@jupyter-widgets/controls",
            "_model_module_version": "1.5.0",
            "_view_count": null,
            "_view_module_version": "1.5.0",
            "box_style": "",
            "layout": "IPY_MODEL_e4ef2e07a3884ed5b5083158dc28f72a",
            "_model_module": "@jupyter-widgets/controls",
            "children": [
              "IPY_MODEL_0ff71013d53b4db089f4ec278e98d5eb",
              "IPY_MODEL_be4802b72b044a13b120d21e6dc179a4"
            ]
          }
        },
        "e4ef2e07a3884ed5b5083158dc28f72a": {
          "model_module": "@jupyter-widgets/base",
          "model_name": "LayoutModel",
          "state": {
            "_view_name": "LayoutView",
            "grid_template_rows": null,
            "right": null,
            "justify_content": null,
            "_view_module": "@jupyter-widgets/base",
            "overflow": null,
            "_model_module_version": "1.2.0",
            "_view_count": null,
            "flex_flow": null,
            "width": null,
            "min_width": null,
            "border": null,
            "align_items": null,
            "bottom": null,
            "_model_module": "@jupyter-widgets/base",
            "top": null,
            "grid_column": null,
            "overflow_y": null,
            "overflow_x": null,
            "grid_auto_flow": null,
            "grid_area": null,
            "grid_template_columns": null,
            "flex": null,
            "_model_name": "LayoutModel",
            "justify_items": null,
            "grid_row": null,
            "max_height": null,
            "align_content": null,
            "visibility": null,
            "align_self": null,
            "height": null,
            "min_height": null,
            "padding": null,
            "grid_auto_rows": null,
            "grid_gap": null,
            "max_width": null,
            "order": null,
            "_view_module_version": "1.2.0",
            "grid_template_areas": null,
            "object_position": null,
            "object_fit": null,
            "grid_auto_columns": null,
            "margin": null,
            "display": null,
            "left": null
          }
        },
        "0ff71013d53b4db089f4ec278e98d5eb": {
          "model_module": "@jupyter-widgets/controls",
          "model_name": "FloatProgressModel",
          "state": {
            "_view_name": "ProgressView",
            "style": "IPY_MODEL_de70b5838831454083bc67802fc872b8",
            "_dom_classes": [],
            "description": "100%",
            "_model_name": "FloatProgressModel",
            "bar_style": "success",
            "max": 45417,
            "_view_module": "@jupyter-widgets/controls",
            "_model_module_version": "1.5.0",
            "value": 45417,
            "_view_count": null,
            "_view_module_version": "1.5.0",
            "orientation": "horizontal",
            "min": 0,
            "description_tooltip": null,
            "_model_module": "@jupyter-widgets/controls",
            "layout": "IPY_MODEL_523410a1a6dc48aeb74c8889d67ba86f"
          }
        },
        "be4802b72b044a13b120d21e6dc179a4": {
          "model_module": "@jupyter-widgets/controls",
          "model_name": "HTMLModel",
          "state": {
            "_view_name": "HTMLView",
            "style": "IPY_MODEL_741482a26a584e2ba303a879c3a36d7d",
            "_dom_classes": [],
            "description": "",
            "_model_name": "HTMLModel",
            "placeholder": "​",
            "_view_module": "@jupyter-widgets/controls",
            "_model_module_version": "1.5.0",
            "value": " 45417/45417 [00:39&lt;00:00, 1163.36it/s]",
            "_view_count": null,
            "_view_module_version": "1.5.0",
            "description_tooltip": null,
            "_model_module": "@jupyter-widgets/controls",
            "layout": "IPY_MODEL_0f7e068c648141a681e34501e49180fd"
          }
        },
        "de70b5838831454083bc67802fc872b8": {
          "model_module": "@jupyter-widgets/controls",
          "model_name": "ProgressStyleModel",
          "state": {
            "_view_name": "StyleView",
            "_model_name": "ProgressStyleModel",
            "description_width": "initial",
            "_view_module": "@jupyter-widgets/base",
            "_model_module_version": "1.5.0",
            "_view_count": null,
            "_view_module_version": "1.2.0",
            "bar_color": null,
            "_model_module": "@jupyter-widgets/controls"
          }
        },
        "523410a1a6dc48aeb74c8889d67ba86f": {
          "model_module": "@jupyter-widgets/base",
          "model_name": "LayoutModel",
          "state": {
            "_view_name": "LayoutView",
            "grid_template_rows": null,
            "right": null,
            "justify_content": null,
            "_view_module": "@jupyter-widgets/base",
            "overflow": null,
            "_model_module_version": "1.2.0",
            "_view_count": null,
            "flex_flow": null,
            "width": null,
            "min_width": null,
            "border": null,
            "align_items": null,
            "bottom": null,
            "_model_module": "@jupyter-widgets/base",
            "top": null,
            "grid_column": null,
            "overflow_y": null,
            "overflow_x": null,
            "grid_auto_flow": null,
            "grid_area": null,
            "grid_template_columns": null,
            "flex": null,
            "_model_name": "LayoutModel",
            "justify_items": null,
            "grid_row": null,
            "max_height": null,
            "align_content": null,
            "visibility": null,
            "align_self": null,
            "height": null,
            "min_height": null,
            "padding": null,
            "grid_auto_rows": null,
            "grid_gap": null,
            "max_width": null,
            "order": null,
            "_view_module_version": "1.2.0",
            "grid_template_areas": null,
            "object_position": null,
            "object_fit": null,
            "grid_auto_columns": null,
            "margin": null,
            "display": null,
            "left": null
          }
        },
        "741482a26a584e2ba303a879c3a36d7d": {
          "model_module": "@jupyter-widgets/controls",
          "model_name": "DescriptionStyleModel",
          "state": {
            "_view_name": "StyleView",
            "_model_name": "DescriptionStyleModel",
            "description_width": "",
            "_view_module": "@jupyter-widgets/base",
            "_model_module_version": "1.5.0",
            "_view_count": null,
            "_view_module_version": "1.2.0",
            "_model_module": "@jupyter-widgets/controls"
          }
        },
        "0f7e068c648141a681e34501e49180fd": {
          "model_module": "@jupyter-widgets/base",
          "model_name": "LayoutModel",
          "state": {
            "_view_name": "LayoutView",
            "grid_template_rows": null,
            "right": null,
            "justify_content": null,
            "_view_module": "@jupyter-widgets/base",
            "overflow": null,
            "_model_module_version": "1.2.0",
            "_view_count": null,
            "flex_flow": null,
            "width": null,
            "min_width": null,
            "border": null,
            "align_items": null,
            "bottom": null,
            "_model_module": "@jupyter-widgets/base",
            "top": null,
            "grid_column": null,
            "overflow_y": null,
            "overflow_x": null,
            "grid_auto_flow": null,
            "grid_area": null,
            "grid_template_columns": null,
            "flex": null,
            "_model_name": "LayoutModel",
            "justify_items": null,
            "grid_row": null,
            "max_height": null,
            "align_content": null,
            "visibility": null,
            "align_self": null,
            "height": null,
            "min_height": null,
            "padding": null,
            "grid_auto_rows": null,
            "grid_gap": null,
            "max_width": null,
            "order": null,
            "_view_module_version": "1.2.0",
            "grid_template_areas": null,
            "object_position": null,
            "object_fit": null,
            "grid_auto_columns": null,
            "margin": null,
            "display": null,
            "left": null
          }
        },
        "2fbd1163aae241f0b3ad71c5ae8c13c3": {
          "model_module": "@jupyter-widgets/controls",
          "model_name": "HBoxModel",
          "state": {
            "_view_name": "HBoxView",
            "_dom_classes": [],
            "_model_name": "HBoxModel",
            "_view_module": "@jupyter-widgets/controls",
            "_model_module_version": "1.5.0",
            "_view_count": null,
            "_view_module_version": "1.5.0",
            "box_style": "",
            "layout": "IPY_MODEL_c07c0bd5afbd40e3b885212ec3ce6d4a",
            "_model_module": "@jupyter-widgets/controls",
            "children": [
              "IPY_MODEL_6f2fe116780b4f24b4775f00f1b4aa65",
              "IPY_MODEL_0c558fed167e4525a018adb5941ce869"
            ]
          }
        },
        "c07c0bd5afbd40e3b885212ec3ce6d4a": {
          "model_module": "@jupyter-widgets/base",
          "model_name": "LayoutModel",
          "state": {
            "_view_name": "LayoutView",
            "grid_template_rows": null,
            "right": null,
            "justify_content": null,
            "_view_module": "@jupyter-widgets/base",
            "overflow": null,
            "_model_module_version": "1.2.0",
            "_view_count": null,
            "flex_flow": null,
            "width": null,
            "min_width": null,
            "border": null,
            "align_items": null,
            "bottom": null,
            "_model_module": "@jupyter-widgets/base",
            "top": null,
            "grid_column": null,
            "overflow_y": null,
            "overflow_x": null,
            "grid_auto_flow": null,
            "grid_area": null,
            "grid_template_columns": null,
            "flex": null,
            "_model_name": "LayoutModel",
            "justify_items": null,
            "grid_row": null,
            "max_height": null,
            "align_content": null,
            "visibility": null,
            "align_self": null,
            "height": null,
            "min_height": null,
            "padding": null,
            "grid_auto_rows": null,
            "grid_gap": null,
            "max_width": null,
            "order": null,
            "_view_module_version": "1.2.0",
            "grid_template_areas": null,
            "object_position": null,
            "object_fit": null,
            "grid_auto_columns": null,
            "margin": null,
            "display": null,
            "left": null
          }
        },
        "6f2fe116780b4f24b4775f00f1b4aa65": {
          "model_module": "@jupyter-widgets/controls",
          "model_name": "FloatProgressModel",
          "state": {
            "_view_name": "ProgressView",
            "style": "IPY_MODEL_30e332d1092e4f5e9968abbd8c9afadd",
            "_dom_classes": [],
            "description": "100%",
            "_model_name": "FloatProgressModel",
            "bar_style": "success",
            "max": 10,
            "_view_module": "@jupyter-widgets/controls",
            "_model_module_version": "1.5.0",
            "value": 10,
            "_view_count": null,
            "_view_module_version": "1.5.0",
            "orientation": "horizontal",
            "min": 0,
            "description_tooltip": null,
            "_model_module": "@jupyter-widgets/controls",
            "layout": "IPY_MODEL_112b838771734f149a2ef91db67a3159"
          }
        },
        "0c558fed167e4525a018adb5941ce869": {
          "model_module": "@jupyter-widgets/controls",
          "model_name": "HTMLModel",
          "state": {
            "_view_name": "HTMLView",
            "style": "IPY_MODEL_686581002ae54d88955ef2ed3dfd355a",
            "_dom_classes": [],
            "description": "",
            "_model_name": "HTMLModel",
            "placeholder": "​",
            "_view_module": "@jupyter-widgets/controls",
            "_model_module_version": "1.5.0",
            "value": " 10/10 [00:18&lt;00:00,  1.85s/it]",
            "_view_count": null,
            "_view_module_version": "1.5.0",
            "description_tooltip": null,
            "_model_module": "@jupyter-widgets/controls",
            "layout": "IPY_MODEL_412e64cc34d3460c868d2bd551a30d60"
          }
        },
        "30e332d1092e4f5e9968abbd8c9afadd": {
          "model_module": "@jupyter-widgets/controls",
          "model_name": "ProgressStyleModel",
          "state": {
            "_view_name": "StyleView",
            "_model_name": "ProgressStyleModel",
            "description_width": "initial",
            "_view_module": "@jupyter-widgets/base",
            "_model_module_version": "1.5.0",
            "_view_count": null,
            "_view_module_version": "1.2.0",
            "bar_color": null,
            "_model_module": "@jupyter-widgets/controls"
          }
        },
        "112b838771734f149a2ef91db67a3159": {
          "model_module": "@jupyter-widgets/base",
          "model_name": "LayoutModel",
          "state": {
            "_view_name": "LayoutView",
            "grid_template_rows": null,
            "right": null,
            "justify_content": null,
            "_view_module": "@jupyter-widgets/base",
            "overflow": null,
            "_model_module_version": "1.2.0",
            "_view_count": null,
            "flex_flow": null,
            "width": null,
            "min_width": null,
            "border": null,
            "align_items": null,
            "bottom": null,
            "_model_module": "@jupyter-widgets/base",
            "top": null,
            "grid_column": null,
            "overflow_y": null,
            "overflow_x": null,
            "grid_auto_flow": null,
            "grid_area": null,
            "grid_template_columns": null,
            "flex": null,
            "_model_name": "LayoutModel",
            "justify_items": null,
            "grid_row": null,
            "max_height": null,
            "align_content": null,
            "visibility": null,
            "align_self": null,
            "height": null,
            "min_height": null,
            "padding": null,
            "grid_auto_rows": null,
            "grid_gap": null,
            "max_width": null,
            "order": null,
            "_view_module_version": "1.2.0",
            "grid_template_areas": null,
            "object_position": null,
            "object_fit": null,
            "grid_auto_columns": null,
            "margin": null,
            "display": null,
            "left": null
          }
        },
        "686581002ae54d88955ef2ed3dfd355a": {
          "model_module": "@jupyter-widgets/controls",
          "model_name": "DescriptionStyleModel",
          "state": {
            "_view_name": "StyleView",
            "_model_name": "DescriptionStyleModel",
            "description_width": "",
            "_view_module": "@jupyter-widgets/base",
            "_model_module_version": "1.5.0",
            "_view_count": null,
            "_view_module_version": "1.2.0",
            "_model_module": "@jupyter-widgets/controls"
          }
        },
        "412e64cc34d3460c868d2bd551a30d60": {
          "model_module": "@jupyter-widgets/base",
          "model_name": "LayoutModel",
          "state": {
            "_view_name": "LayoutView",
            "grid_template_rows": null,
            "right": null,
            "justify_content": null,
            "_view_module": "@jupyter-widgets/base",
            "overflow": null,
            "_model_module_version": "1.2.0",
            "_view_count": null,
            "flex_flow": null,
            "width": null,
            "min_width": null,
            "border": null,
            "align_items": null,
            "bottom": null,
            "_model_module": "@jupyter-widgets/base",
            "top": null,
            "grid_column": null,
            "overflow_y": null,
            "overflow_x": null,
            "grid_auto_flow": null,
            "grid_area": null,
            "grid_template_columns": null,
            "flex": null,
            "_model_name": "LayoutModel",
            "justify_items": null,
            "grid_row": null,
            "max_height": null,
            "align_content": null,
            "visibility": null,
            "align_self": null,
            "height": null,
            "min_height": null,
            "padding": null,
            "grid_auto_rows": null,
            "grid_gap": null,
            "max_width": null,
            "order": null,
            "_view_module_version": "1.2.0",
            "grid_template_areas": null,
            "object_position": null,
            "object_fit": null,
            "grid_auto_columns": null,
            "margin": null,
            "display": null,
            "left": null
          }
        }
      }
    }
  },
  "cells": [
    {
      "cell_type": "markdown",
      "metadata": {
        "id": "view-in-github",
        "colab_type": "text"
      },
      "source": [
        "<a href=\"https://colab.research.google.com/github/marie-ganon/Projet-Python-S1/blob/main/Scraping_nettoyage.ipynb\" target=\"_parent\"><img src=\"https://colab.research.google.com/assets/colab-badge.svg\" alt=\"Open In Colab\"/></a>"
      ]
    },
    {
      "cell_type": "markdown",
      "metadata": {
        "id": "F_SDS8etfano"
      },
      "source": [
        "**Introduction**\n",
        "Dans cette partie, nous avons débuté par scraper et nettoyer les informations que nous utilisons dans les parties suivantes. Nous avons opté, plutôt qu'entièrement scraper nous-mêmes ces informations, de débuter sur une base déjà construite et de l'enrichir par du scraping (plus léger) ou d'y apporter des informations complémentaires (éventuellement enregistrées dans d'autres bases) : notamment une métrique qu'on utilisera pour évaluer le \"succès\" d'un film. \n",
        "\n",
        "A l'issue de ce notebook, on aura une base principale, enregistrée dans *base.csv* et des bases complémentaires (*base_keywords.csv*, *train_review.csv*, *test_review.csv*).\n",
        "\n",
        "\n",
        "**Sommaire** \n",
        "* Aperçu de la base initiale \n",
        "*  Nettoyage de la base initiale\n",
        "  1. Nettoyage des colonnes\n",
        "  2. Nettoyage sur les lignes\n",
        "  3. Nettoyage variable par variable\n",
        "      - *popularity*\n",
        "      - *vote_average* et *vote_count*\n",
        "      - *production_companies* et *production_countries*\n",
        "      - *genres*\n",
        "      - *budget* et *revenue*\n",
        "      - *original_language*\n",
        "  4. Fin du nettoyage\n",
        "* Scraping de mots clés caractérisant le film\n",
        "* Scraping des commentaires et de la qualité associée au commentaire\n"
      ]
    },
    {
      "cell_type": "markdown",
      "metadata": {
        "id": "rBU7UqOwGDpl"
      },
      "source": [
        "**Intégration continue**"
      ]
    },
    {
      "cell_type": "code",
      "metadata": {
        "id": "7oV85KzyGFgx"
      },
      "source": [
        "from IPython.display import Image\n",
        "try:\n",
        "    im = Image(\"https://travis-ci.org/sdpython/ensae_teaching_cs.png\")\n",
        "except TimeoutError:\n",
        "    im = None\n",
        "im"
      ],
      "execution_count": null,
      "outputs": []
    },
    {
      "cell_type": "markdown",
      "metadata": {
        "id": "eTDyiiurXxCi"
      },
      "source": [
        "Chargement des packages utiles"
      ]
    },
    {
      "cell_type": "code",
      "metadata": {
        "id": "Bx_pQrTRXxCi"
      },
      "source": [
        "import numpy as np\n",
        "import pandas as pd\n",
        "import matplotlib.pyplot as plt\n",
        "import plotly.express as px\n",
        "from urllib import request\n",
        "from wordcloud import WordCloud, STOPWORDS \n",
        "import csv\n",
        "import bs4\n",
        "from tqdm.notebook import trange, tqdm\n",
        "import seaborn as sns\n",
        "import numpy as np"
      ],
      "execution_count": null,
      "outputs": []
    },
    {
      "cell_type": "markdown",
      "metadata": {
        "id": "g3m8HQ_BXxCi"
      },
      "source": [
        "## Aperçu de la base initiale\n",
        "\n",
        "La base que nous avons décidé de choisir pour mener à bien notre projet est un ensemble de données collecté par TMDB (The Movie Database, une API), ainsi que GroupLens, un laboratoire de recherche de l'université du Minnesota.\n",
        "\n",
        "Le dataset est disponible à l'adresse suivante : https://www.kaggle.com/rounakbanik/the-movies-dataset.\n",
        "\n",
        "Ces données regroupent plus de 45 000 films et donnent de nombreuses caractéristiques, tels que le genre, le budget et le revenu généré par le film. Une partie de la base a été prénettoyée sur Excel et avec des méthodes Python simples. "
      ]
    },
    {
      "cell_type": "code",
      "metadata": {
        "id": "ftGFCr8urGc6",
        "colab": {
          "base_uri": "https://localhost:8080/"
        },
        "outputId": "0cb614ba-e24f-40a2-b81d-1e92fb3be662"
      },
      "source": [
        "!ls"
      ],
      "execution_count": null,
      "outputs": [
        {
          "output_type": "stream",
          "text": [
            "movies_metadata.csv.zip  sample_data\n"
          ],
          "name": "stdout"
        }
      ]
    },
    {
      "cell_type": "code",
      "metadata": {
        "id": "0r2egIGRXxCi"
      },
      "source": [
        "# On crée un dossier temporaire pour dézipper le csv\n",
        "import tempfile\n",
        "\n",
        "temp_dir = tempfile.mkdtemp()\n"
      ],
      "execution_count": null,
      "outputs": []
    },
    {
      "cell_type": "code",
      "metadata": {
        "id": "JnCWwg9OXxCi"
      },
      "source": [
        "# Pour dezipper le csv disponible dans le git (movies metadata)\n",
        "\n",
        "import zipfile\n",
        "\n",
        "with zipfile.ZipFile('movies_metadata.csv.zip', 'r') as zip_ref:\n",
        "    zip_ref.extractall('temp_dir')\n",
        "    "
      ],
      "execution_count": null,
      "outputs": []
    },
    {
      "cell_type": "code",
      "metadata": {
        "id": "jfVvpSAEXxCi"
      },
      "source": [
        "df = pd.read_csv(r'temp_dir/movies_metadata.csv', sep=',', low_memory = False)"
      ],
      "execution_count": null,
      "outputs": []
    },
    {
      "cell_type": "markdown",
      "metadata": {
        "id": "XizICr_WXxCi"
      },
      "source": [
        "# Nettoyage sur la base\n",
        "\n",
        "On regarde : \n",
        "- quelles colonnes sont les mieux renseignées\n",
        "- quelles colonnes il faut supprimer\n",
        "- si les types de chaque variable est cohérent\n",
        "- puis par variable si les informations sont bien renseignées"
      ]
    },
    {
      "cell_type": "markdown",
      "metadata": {
        "id": "YCU0jmF7XxCi"
      },
      "source": [
        "## Nettoyage des colonnes"
      ]
    },
    {
      "cell_type": "markdown",
      "metadata": {
        "id": "KcNit-iZhMj0"
      },
      "source": [
        "Pour nous donner une idée des informations exploitables parmi les différentes variables, nous affichons la complétude du dataset. En blanc sont les valeurs manquantes, en noir les valeurs renseignées. \n",
        "\n",
        "La base est complète à 90.33% avant nettoyage. "
      ]
    },
    {
      "cell_type": "code",
      "metadata": {
        "id": "tBgnnceoXxCj",
        "colab": {
          "base_uri": "https://localhost:8080/",
          "height": 511
        },
        "outputId": "8fe0b08e-9670-48f0-f437-a0c934fc1be9"
      },
      "source": [
        "fig, ax = plt.subplots(figsize=(12,6))\n",
        "sns.heatmap(df.isnull(), cbar=False)\n",
        "plt.title('Complétude de la base, en blanc les valeurs manquantes')\n",
        "print(\"Complétude totale en pourcentage de la base :\", (1-df.isnull().sum().sum()/(len(df.id)*len(df.columns)))*100,'%')"
      ],
      "execution_count": null,
      "outputs": [
        {
          "output_type": "stream",
          "text": [
            "Complétude totale en pourcentage de la base : 90.32592120119062 %\n"
          ],
          "name": "stdout"
        },
        {
          "output_type": "display_data",
          "data": {
            "image/png": "[encoded data removed]",
            "text/plain": [
              "<Figure size 864x432 with 1 Axes>"
            ]
          },
          "metadata": {
            "tags": [],
            "needs_background": "light"
          }
        }
      ]
    },
    {
      "cell_type": "code",
      "metadata": {
        "id": "eRqokJ3mXxCj",
        "colab": {
          "base_uri": "https://localhost:8080/"
        },
        "outputId": "3227fa18-34a9-4293-fe55-99445221bfef"
      },
      "source": [
        "df.info()"
      ],
      "execution_count": null,
      "outputs": [
        {
          "output_type": "stream",
          "text": [
            "<class 'pandas.core.frame.DataFrame'>\n",
            "RangeIndex: 45466 entries, 0 to 45465\n",
            "Data columns (total 24 columns):\n",
            " #   Column                 Non-Null Count  Dtype  \n",
            "---  ------                 --------------  -----  \n",
            " 0   adult                  45466 non-null  object \n",
            " 1   belongs_to_collection  4494 non-null   object \n",
            " 2   budget                 45466 non-null  object \n",
            " 3   genres                 45466 non-null  object \n",
            " 4   homepage               7782 non-null   object \n",
            " 5   id                     45466 non-null  object \n",
            " 6   imdb_id                45449 non-null  object \n",
            " 7   original_language      45455 non-null  object \n",
            " 8   original_title         45466 non-null  object \n",
            " 9   overview               44512 non-null  object \n",
            " 10  popularity             45461 non-null  object \n",
            " 11  poster_path            45080 non-null  object \n",
            " 12  production_companies   45463 non-null  object \n",
            " 13  production_countries   45463 non-null  object \n",
            " 14  release_date           45379 non-null  object \n",
            " 15  revenue                45460 non-null  float64\n",
            " 16  runtime                45203 non-null  float64\n",
            " 17  spoken_languages       45460 non-null  object \n",
            " 18  status                 45379 non-null  object \n",
            " 19  tagline                20412 non-null  object \n",
            " 20  title                  45460 non-null  object \n",
            " 21  video                  45460 non-null  object \n",
            " 22  vote_average           45460 non-null  float64\n",
            " 23  vote_count             45460 non-null  float64\n",
            "dtypes: float64(4), object(20)\n",
            "memory usage: 8.3+ MB\n"
          ],
          "name": "stdout"
        }
      ]
    },
    {
      "cell_type": "markdown",
      "metadata": {
        "id": "dCr45glQ83xK"
      },
      "source": [
        "En explorant les premières colonnes de la base et le site The Movie DataBase, on comprend mieux le sens des colonnes :\n",
        "\n",
        "- *adult* : Booléen qui indique si oui ou non le film est un film pour adultes\n",
        "- *belongs_to_collection* : Booléen qui prend la valeur 1 si le film appartient à une collection\n",
        "- *budget* : budget de production du film\n",
        "- *genres* : Genre cinématographique du film\n",
        "- *homepage* : Lien menant à la page d'accueil du film si elle existe\n",
        "- *id* : Identifiant du film sur le site The Movie DataBase\n",
        "- *imdb_id* : Identifiant du film sur le site Internet Movie DataBase\n",
        "- *original_language* : Langue dans laquelle le film a été tourné\n",
        "-\t*original_title* : Titre originel du film\n",
        "- *overview* : Synopsis du film\n",
        "-\t*popularity* : Indicateur de la popularité du film\n",
        "- *poster_path* : Chemin d'accès à l'affiche du film présentée sur la version anglophone de TMDB (si elle existe)\n",
        "- *production_companies* : Compagnie qui a produit le film\n",
        "-\t*production_countries* : Pays dans lequel le film a été produit\n",
        "- *release_date* : Date de première sortie du film, donnée sur TMDB\n",
        "- *revenue*\t: Revenus générés par le film selon TMDB\n",
        "- *runtime*\t: Durée du film\n",
        "- *spoken_languages* : Langues parlées dans la version originale du film\n",
        "- *status* : Indique si le film est sorti ou non\n",
        "- *tagline* : slogan/phrase d'accroche du film sur la page anglophone de TMDB (si elle existe)\n",
        "-\t*title*\t: Titre du film en anglais\n",
        "- *video*\t: Booléen\n",
        "- *vote_average* : Moyenne des votes (à l'époque où la base a été constituée) sur TMDB\n",
        "-\t*vote_count* : Nombre de votes (à l'époque où la base a été constituée) sur TMDB\n"
      ]
    },
    {
      "cell_type": "markdown",
      "metadata": {
        "id": "5Q6cTkqpXxCj"
      },
      "source": [
        "Notre base de données est très volumineuse. Or toutes les colonnes ne nous seront pas utiles pour notre analyse. Par conséquent, pour une question de mémoire nous avons décidé de les supprimer. \n",
        "\n",
        "En particulier, les informations données dans la colonne *spoken_languages* étant peu claires, nous préférons enlever cette colonne de notre dataset.\n",
        "Les informations *taglines*, *homepage* et *belongs_to_collection* ne sont pas très bien renseignées ni forcément pertinentes, on va donc les dropper de même. En revanche, avant de dropper *belongs_to_collection*, on va créer une variable binaire renseignant si oui ou non un film appartient à une collection (c'est-à-dire correspond à un volet de plusieurs films) puisqu'il s'agit d'une information pouvant avoir une importance significative sur le succès du film. \n",
        "\n",
        "Tous les types sont des *object* à l'exception des variables *revenue*, *runtime*, *vote_average*, et *vote_count*. On s'attend toutefois à avoir pour *popularity* qui est un score de popularité ainsi que pour *budget* des formats *float64* ou *int*. Il faudra se pencher sur ces variables. "
      ]
    },
    {
      "cell_type": "code",
      "metadata": {
        "scrolled": false,
        "id": "XWBqmytCXxCj",
        "colab": {
          "base_uri": "https://localhost:8080/"
        },
        "outputId": "32eccd9e-b880-4441-9a8f-9d4af06768d4"
      },
      "source": [
        "df.belongs_to_collection"
      ],
      "execution_count": null,
      "outputs": [
        {
          "output_type": "execute_result",
          "data": {
            "text/plain": [
              "0        {'id': 10194, 'name': 'Toy Story Collection', ...\n",
              "1                                                      NaN\n",
              "2        {'id': 119050, 'name': 'Grumpy Old Men Collect...\n",
              "3                                                      NaN\n",
              "4        {'id': 96871, 'name': 'Father of the Bride Col...\n",
              "                               ...                        \n",
              "45461                                                  NaN\n",
              "45462                                                  NaN\n",
              "45463                                                  NaN\n",
              "45464                                                  NaN\n",
              "45465                                                  NaN\n",
              "Name: belongs_to_collection, Length: 45466, dtype: object"
            ]
          },
          "metadata": {
            "tags": []
          },
          "execution_count": 49
        }
      ]
    },
    {
      "cell_type": "code",
      "metadata": {
        "id": "dP9-dQfUXxCk"
      },
      "source": [
        "df.belongs_to_collection = df.belongs_to_collection.fillna(0)"
      ],
      "execution_count": null,
      "outputs": []
    },
    {
      "cell_type": "markdown",
      "metadata": {
        "id": "quS7LDcxXxCk"
      },
      "source": [
        "*collection* prend la valeur 1 si le film appartient à une collection, 0 sinon. "
      ]
    },
    {
      "cell_type": "code",
      "metadata": {
        "id": "f6uKVWZ7XxCl"
      },
      "source": [
        "df['collection']= np.where(df['belongs_to_collection']!= 0, 1, 0)"
      ],
      "execution_count": null,
      "outputs": []
    },
    {
      "cell_type": "code",
      "metadata": {
        "id": "xl0BIQoPXxCl",
        "colab": {
          "base_uri": "https://localhost:8080/"
        },
        "outputId": "3fba4a3d-b6e2-4511-a5bf-0706bc157451"
      },
      "source": [
        "df.collection.head()"
      ],
      "execution_count": null,
      "outputs": [
        {
          "output_type": "execute_result",
          "data": {
            "text/plain": [
              "0    1\n",
              "1    0\n",
              "2    1\n",
              "3    0\n",
              "4    1\n",
              "Name: collection, dtype: int64"
            ]
          },
          "metadata": {
            "tags": []
          },
          "execution_count": 52
        }
      ]
    },
    {
      "cell_type": "markdown",
      "metadata": {
        "id": "24Jw89AAXxCl"
      },
      "source": [
        "On va s'intéresser rapidement aux types de chaque variable et en tirer leur pertinence ou non pour notre étude. "
      ]
    },
    {
      "cell_type": "code",
      "metadata": {
        "scrolled": true,
        "id": "mx0BjAsOXxCl",
        "colab": {
          "base_uri": "https://localhost:8080/"
        },
        "outputId": "a03989ce-6c9a-4ef2-952b-472cb3d77e59"
      },
      "source": [
        "pd.unique(df.adult)"
      ],
      "execution_count": null,
      "outputs": [
        {
          "output_type": "execute_result",
          "data": {
            "text/plain": [
              "array(['False', 'True', ' - Written by Ørnås',\n",
              "       ' Rune Balot goes to a casino connected to the October corporation to try to wrap up her case once and for all.',\n",
              "       ' Avalanche Sharks tells the story of a bikini contest that turns into a horrifying affair when it is hit by a shark avalanche.'],\n",
              "      dtype=object)"
            ]
          },
          "metadata": {
            "tags": []
          },
          "execution_count": 53
        }
      ]
    },
    {
      "cell_type": "markdown",
      "metadata": {
        "id": "euW-29qqXxCl"
      },
      "source": [
        "Vraisemblablement, *adult* est une variable binaire prenant la valeur *True* lorsqu'un film est un film pour adulte, *False* lorsque c'est un film tout public. On remarque qu'il y a des erreurs de collecte lors du scrapping mais cette variable n'étant pas très intéressante pour nous, nous allons la dropper. "
      ]
    },
    {
      "cell_type": "markdown",
      "metadata": {
        "id": "9z1-0vp2h3nP"
      },
      "source": [
        "On observe les autres modalités proposées :"
      ]
    },
    {
      "cell_type": "code",
      "metadata": {
        "id": "UnCmFAtHXxCp",
        "colab": {
          "base_uri": "https://localhost:8080/"
        },
        "outputId": "0d5a7efc-887c-44ab-c18d-5a57b5ea22b6"
      },
      "source": [
        "print('Modalités status :', pd.unique(df.status))\n",
        "print('Modalités video :', pd.unique(df.video))"
      ],
      "execution_count": null,
      "outputs": [
        {
          "output_type": "stream",
          "text": [
            "Modalités status : ['Released' nan 'Rumored' 'Post Production' 'In Production' 'Planned'\n",
            " 'Canceled']\n",
            "Modalités video : [False True nan]\n"
          ],
          "name": "stdout"
        }
      ]
    },
    {
      "cell_type": "markdown",
      "metadata": {
        "id": "KvKqetXRXxCp"
      },
      "source": [
        "Nous n'utiliserons pas les images a priori. On peut également enlever *poster_path*, *video*, *spoken_language*, *adult* et *belongs_to_collection*."
      ]
    },
    {
      "cell_type": "code",
      "metadata": {
        "id": "g2_CtTxaXxCp"
      },
      "source": [
        "df = df.drop(columns ='video')\n",
        "df = df.drop(columns ='poster_path')\n",
        "df = df.drop(columns ='adult')\n",
        "df = df.drop(columns ='spoken_languages')\n",
        "df = df.drop(columns ='homepage')\n",
        "df = df.drop(columns ='belongs_to_collection')"
      ],
      "execution_count": null,
      "outputs": []
    },
    {
      "cell_type": "markdown",
      "metadata": {
        "id": "uPnIojotXxCp"
      },
      "source": [
        "## Nettoyage sur les lignes"
      ]
    },
    {
      "cell_type": "markdown",
      "metadata": {
        "id": "qOuHkalzXxCp"
      },
      "source": [
        "Nous n'avons pas vérifié encore la cohérence sur les lignes du dataset. Vérifions d'abord que le dataset ne contient que des *id* uniques. Sinon, on retire les informations en surplus. "
      ]
    },
    {
      "cell_type": "code",
      "metadata": {
        "scrolled": true,
        "id": "7anCYZ6rXxCp",
        "colab": {
          "base_uri": "https://localhost:8080/"
        },
        "outputId": "42a55917-1acc-4829-9034-db5967a78d80"
      },
      "source": [
        "print(\"Doublons d'id : \" , len(df)-len(pd.unique(df.id)))\n",
        "print(\"Doublons d'id imdb : \" , len(df)-len(pd.unique(df.imdb_id)))\n",
        "df = df.drop_duplicates(subset=['id'])\n",
        "df = df.drop_duplicates(subset=['imdb_id'])"
      ],
      "execution_count": null,
      "outputs": [
        {
          "output_type": "stream",
          "text": [
            "Doublons d'id :  30\n",
            "Doublons d'id imdb :  48\n"
          ],
          "name": "stdout"
        }
      ]
    },
    {
      "cell_type": "markdown",
      "metadata": {
        "id": "YuLWzu4J0W62"
      },
      "source": [
        "D'autre part, on peut enlever tous les 'id' ne correspondant pas à des valeurs convertibles en entier. "
      ]
    },
    {
      "cell_type": "code",
      "metadata": {
        "colab": {
          "base_uri": "https://localhost:8080/"
        },
        "id": "7nPJQvi80cC3",
        "outputId": "f0d3befa-df64-44e1-d569-553957d005d2"
      },
      "source": [
        "df = df[df.id != '1997-08-20']\n",
        "df.id.astype('float')"
      ],
      "execution_count": null,
      "outputs": [
        {
          "output_type": "execute_result",
          "data": {
            "text/plain": [
              "0           862.0\n",
              "1          8844.0\n",
              "2         15602.0\n",
              "3         31357.0\n",
              "4         11862.0\n",
              "           ...   \n",
              "45461    439050.0\n",
              "45462    111109.0\n",
              "45463     67758.0\n",
              "45464    227506.0\n",
              "45465    461257.0\n",
              "Name: id, Length: 45417, dtype: float64"
            ]
          },
          "metadata": {
            "tags": []
          },
          "execution_count": 58
        }
      ]
    },
    {
      "cell_type": "markdown",
      "metadata": {
        "id": "EEojj16irpXG"
      },
      "source": [
        "Puis on réinitialise l'index de la base."
      ]
    },
    {
      "cell_type": "code",
      "metadata": {
        "id": "3cgLjwaer2v4"
      },
      "source": [
        "df = df.reset_index()"
      ],
      "execution_count": null,
      "outputs": []
    },
    {
      "cell_type": "markdown",
      "metadata": {
        "id": "OeoMIDFSXxCp"
      },
      "source": [
        "## Nettoyage par variable"
      ]
    },
    {
      "cell_type": "markdown",
      "metadata": {
        "id": "Ydragb8gXxCq"
      },
      "source": [
        "### *Popularity*\n"
      ]
    },
    {
      "cell_type": "markdown",
      "metadata": {
        "id": "uPC1A-u-tnqT"
      },
      "source": [
        "Sur *The Movie Database* un indicateur de popularité a été construit à la date *t* en prenant en compte les informations suivantes d'après la documentation :\r\n",
        "- Nombre de votes\r\n",
        "- Nombre de vues \r\n",
        "- Nombre de favoris \r\n",
        "- Nombre de gens ayant le film dans leur \"watchlist\"\r\n",
        "- Date de sortie\r\n",
        "- Nombre de votes totaux\r\n",
        "- Score des jours précédents\r\n",
        "\r\n",
        "Néanmoins, les détails de la métrique ne sont pas explicités. "
      ]
    },
    {
      "cell_type": "code",
      "metadata": {
        "id": "DVF-orFQXxCq",
        "colab": {
          "base_uri": "https://localhost:8080/"
        },
        "outputId": "e2d6e61e-2045-4133-afda-9930d96dbff6"
      },
      "source": [
        "df.popularity = df.popularity.astype('float64')\n",
        "df.popularity.describe()"
      ],
      "execution_count": null,
      "outputs": [
        {
          "output_type": "execute_result",
          "data": {
            "text/plain": [
              "count    45414.000000\n",
              "mean         2.921932\n",
              "std          6.007588\n",
              "min          0.000000\n",
              "25%          0.386107\n",
              "50%          1.127685\n",
              "75%          3.679143\n",
              "max        547.488298\n",
              "Name: popularity, dtype: float64"
            ]
          },
          "metadata": {
            "tags": []
          },
          "execution_count": 60
        }
      ]
    },
    {
      "cell_type": "code",
      "metadata": {
        "id": "i9sEEnjQXxCq",
        "colab": {
          "base_uri": "https://localhost:8080/"
        },
        "outputId": "b26e58f9-eb15-4053-87f2-79a69b465f27"
      },
      "source": [
        "df.popularity.describe()"
      ],
      "execution_count": null,
      "outputs": [
        {
          "output_type": "execute_result",
          "data": {
            "text/plain": [
              "count    45414.000000\n",
              "mean         2.921932\n",
              "std          6.007588\n",
              "min          0.000000\n",
              "25%          0.386107\n",
              "50%          1.127685\n",
              "75%          3.679143\n",
              "max        547.488298\n",
              "Name: popularity, dtype: float64"
            ]
          },
          "metadata": {
            "tags": []
          },
          "execution_count": 61
        }
      ]
    },
    {
      "cell_type": "markdown",
      "metadata": {
        "id": "GYEZjdZZXxCq"
      },
      "source": [
        "Observons les 20 meilleurs films par popularité : "
      ]
    },
    {
      "cell_type": "code",
      "metadata": {
        "scrolled": true,
        "id": "LjjbmhepXxCq",
        "colab": {
          "base_uri": "https://localhost:8080/"
        },
        "outputId": "be4151a5-ca34-4690-a0a0-2c3839377710"
      },
      "source": [
        "df.sort_values(by='popularity', ascending=False)['original_title'].head(20)"
      ],
      "execution_count": null,
      "outputs": [
        {
          "output_type": "execute_result",
          "data": {
            "text/plain": [
              "30666                                             Minions\n",
              "33322                                        Wonder Woman\n",
              "42177                                Beauty and the Beast\n",
              "43599                                         Baby Driver\n",
              "24427                                          Big Hero 6\n",
              "26535                                            Deadpool\n",
              "26537                      Guardians of the Galaxy Vol. 2\n",
              "14544                                              Avatar\n",
              "24323                                           John Wick\n",
              "23648                                           Gone Girl\n",
              "24844               The Hunger Games: Mockingjay - Part 1\n",
              "44229                      War for the Planet of the Apes\n",
              "26538                          Captain America: Civil War\n",
              "292                                          Pulp Fiction\n",
              "26531    Pirates of the Caribbean: Dead Men Tell No Tales\n",
              "12477                                     The Dark Knight\n",
              "536                                          Blade Runner\n",
              "17806                                        The Avengers\n",
              "43241            Captain Underpants: The First Epic Movie\n",
              "33327                                          The Circle\n",
              "Name: original_title, dtype: object"
            ]
          },
          "metadata": {
            "tags": []
          },
          "execution_count": 62
        }
      ]
    },
    {
      "cell_type": "markdown",
      "metadata": {
        "id": "jWLngYl6XxCq"
      },
      "source": [
        "Cela paraît à peu près cohérent, il s'agit bien de films connus. "
      ]
    },
    {
      "cell_type": "code",
      "metadata": {
        "id": "bVRK2ffUXxCq",
        "colab": {
          "base_uri": "https://localhost:8080/"
        },
        "outputId": "b001f5d7-2be1-4d9c-92e5-9e06df9d8cd2"
      },
      "source": [
        "fig, ax = plt.subplots(figsize=(2,4))\n",
        "sns.heatmap(df[['popularity']].isnull(),cbar=False)\n",
        "plt.title('Complétude après nettoyage')\n",
        "print('Popularity est complet à ',(1-len(df.popularity[df.popularity.isnull()])/len(df.popularity))*100,'%')"
      ],
      "execution_count": null,
      "outputs": [
        {
          "output_type": "stream",
          "text": [
            "Popularity est complet à  99.99339454389326 %\n"
          ],
          "name": "stdout"
        },
        {
          "output_type": "display_data",
          "data": {
            "image/png": "[encoded data removed]",
            "text/plain": [
              "<Figure size 144x288 with 1 Axes>"
            ]
          },
          "metadata": {
            "tags": [],
            "needs_background": "light"
          }
        }
      ]
    },
    {
      "cell_type": "markdown",
      "metadata": {
        "id": "Cl0ybX8tXxCq"
      },
      "source": [
        "### *vote_average* et *vote_count*\n"
      ]
    },
    {
      "cell_type": "markdown",
      "metadata": {
        "id": "D1Pc7yoJtre_"
      },
      "source": [
        "*vote_average* : variable renseignée sur *TMDb*, elle donne la moyenne des votes sur tMDb sur 10. \r\n",
        "\r\n",
        "*vote_count* : variable de *TMDb* donnant le nombre de votants pour chaque film."
      ]
    },
    {
      "cell_type": "code",
      "metadata": {
        "id": "mW1syqy0XxCq",
        "colab": {
          "base_uri": "https://localhost:8080/"
        },
        "outputId": "dee5489c-dd7e-43b9-969d-5034f6a1598d"
      },
      "source": [
        "print('statistiques: \\n ',df.vote_average.describe())\n",
        "\n",
        "print('nombre de nan: \\n', df.vote_average.isnull().sum())"
      ],
      "execution_count": null,
      "outputs": [
        {
          "output_type": "stream",
          "text": [
            "statistiques: \n",
            "  count    45414.000000\n",
            "mean         5.618864\n",
            "std          1.923210\n",
            "min          0.000000\n",
            "25%          5.000000\n",
            "50%          6.000000\n",
            "75%          6.800000\n",
            "max         10.000000\n",
            "Name: vote_average, dtype: float64\n",
            "nombre de nan: \n",
            " 3\n"
          ],
          "name": "stdout"
        }
      ]
    },
    {
      "cell_type": "markdown",
      "metadata": {
        "id": "sAvnnRkMXxCr"
      },
      "source": [
        " Notons que le pic à 0 est dû à un certain nombre de films non notés. Il n'y a seulement 4 NaNs, par défaut, le site met une moyenne de votes nuls si le nombre de votant est nul. "
      ]
    },
    {
      "cell_type": "code",
      "metadata": {
        "id": "ZKdxh2MfXxCr",
        "colab": {
          "base_uri": "https://localhost:8080/",
          "height": 313
        },
        "outputId": "2f0e58f1-95de-4544-d5d4-91a2df65598c"
      },
      "source": [
        "fig, ax = plt.subplots(figsize=(6,4))\n",
        "df.groupby(df['vote_average']).imdb_id.count().plot()\n",
        "plt.title('Distribution des notes moyennes sur imdb')\n",
        "ax.set(xlabel= 'Moyenne des votes')"
      ],
      "execution_count": null,
      "outputs": [
        {
          "output_type": "execute_result",
          "data": {
            "text/plain": [
              "[Text(0.5, 0, 'Moyenne des votes')]"
            ]
          },
          "metadata": {
            "tags": []
          },
          "execution_count": 65
        },
        {
          "output_type": "display_data",
          "data": {
            "image/png": "[encoded data removed]",
            "text/plain": [
              "<Figure size 432x288 with 1 Axes>"
            ]
          },
          "metadata": {
            "tags": [],
            "needs_background": "light"
          }
        }
      ]
    },
    {
      "cell_type": "code",
      "metadata": {
        "id": "zH_T7UbOXxCr",
        "colab": {
          "base_uri": "https://localhost:8080/"
        },
        "outputId": "8ac1211f-696d-4094-bc79-152da14249d1"
      },
      "source": [
        "df.sort_values(by='vote_average', ascending=False)['original_title'].head(20)"
      ],
      "execution_count": null,
      "outputs": [
        {
          "output_type": "execute_result",
          "data": {
            "text/plain": [
              "44584                                 東京喰種 トーキョーグール\n",
              "37503    Portrait of a Young Man in Three Movements\n",
              "30109                            Im Alter von Ellen\n",
              "394                            Girl in the Cadillac\n",
              "27374          The Court-Martial of Jackie Robinson\n",
              "22231                               Cowboy del Amor\n",
              "39116                                 Truckfighters\n",
              "44505    Harold and Lillian: A Hollywood Love Story\n",
              "32763                      אני לא מאמין, אני רובוט!\n",
              "40227                                       Killjoy\n",
              "35424                       Tom Brown's School Days\n",
              "39303                           Survive and Advance\n",
              "32839                                    Redemption\n",
              "2113                              The Farmer's Wife\n",
              "39804                                       Bazodee\n",
              "37837                              Bowery Battalion\n",
              "1633                       Other Voices Other Rooms\n",
              "28122                                Goodbye & Amen\n",
              "36728                                     Parapalos\n",
              "32915                               Pourquoi Israël\n",
              "Name: original_title, dtype: object"
            ]
          },
          "metadata": {
            "tags": []
          },
          "execution_count": 66
        }
      ]
    },
    {
      "cell_type": "markdown",
      "metadata": {
        "id": "PEdNND3nXxCr"
      },
      "source": [
        "En se basant sur les moyennes des notes seules on observe sans surprise un résultat très différent pour la liste des 20 meilleurs films puisque ces moyennes ne prennent pas en compte le poids du nombre de votes. Dans la liste, il s'agit surtout de films inconnus du grand public. "
      ]
    },
    {
      "cell_type": "code",
      "metadata": {
        "scrolled": true,
        "id": "w3bXGvyJXxCr",
        "colab": {
          "base_uri": "https://localhost:8080/"
        },
        "outputId": "c89420fe-e79d-4871-e427-5958eb29750c"
      },
      "source": [
        "print('statistiques: \\n',df.vote_count.describe())\n",
        "print('valeurs manquantes: \\n', df.vote_count.isnull().sum())"
      ],
      "execution_count": null,
      "outputs": [
        {
          "output_type": "stream",
          "text": [
            "statistiques: \n",
            " count    45414.000000\n",
            "mean       109.971837\n",
            "std        491.549122\n",
            "min          0.000000\n",
            "25%          3.000000\n",
            "50%         10.000000\n",
            "75%         34.000000\n",
            "max      14075.000000\n",
            "Name: vote_count, dtype: float64\n",
            "valeurs manquantes: \n",
            " 3\n"
          ],
          "name": "stdout"
        }
      ]
    },
    {
      "cell_type": "markdown",
      "metadata": {
        "id": "vwP668CeXxCr"
      },
      "source": [
        "#### Quelques métriques supplémentaires \n",
        "On peut essayer d'établir une métrique permettant d'améliorer l'observation du succès d'un film basé sur sa note. Pour cela, nous allons définir des variables de score à partir des variables *vote_count* et *vote_average*.\n",
        "\n",
        "    score_1 = vote_count × vote_average\n",
        "    score_2 = vote_count × vote_average²\n",
        "    score_3 = vote_count² × vote_average\n"
      ]
    },
    {
      "cell_type": "code",
      "metadata": {
        "id": "6fI8sHAvXxCr"
      },
      "source": [
        "df['score_1'] = df.vote_count.mul(df.vote_average)\n",
        "df['score_2'] = df.vote_count.mul(df.vote_average.pow(2))\n",
        "df['score_3'] = df.vote_count.pow(2).mul(df.vote_average)"
      ],
      "execution_count": null,
      "outputs": []
    },
    {
      "cell_type": "code",
      "metadata": {
        "scrolled": true,
        "id": "wNiEm-r-XxCr",
        "colab": {
          "base_uri": "https://localhost:8080/",
          "height": 749
        },
        "outputId": "a23f0222-8075-45aa-e5bd-70d729540ecc"
      },
      "source": [
        "l_score1 = df.sort_values(by='score_1', ascending=False)['original_title'].head(20).tolist()\n",
        "l_score2 = df.sort_values(by='score_2', ascending=False)['original_title'].head(20).tolist()\n",
        "l_score3 = df.sort_values(by='score_3', ascending=False)['original_title'].head(20).tolist()\n",
        "\n",
        "pd.DataFrame({'score_1': l_score1 ,'score_2' : l_score2, 'score_3' : l_score3})"
      ],
      "execution_count": null,
      "outputs": [
        {
          "output_type": "execute_result",
          "data": {
            "text/html": [
              "<div>\n",
              "<style scoped>\n",
              "    .dataframe tbody tr th:only-of-type {\n",
              "        vertical-align: middle;\n",
              "    }\n",
              "\n",
              "    .dataframe tbody tr th {\n",
              "        vertical-align: top;\n",
              "    }\n",
              "\n",
              "    .dataframe thead th {\n",
              "        text-align: right;\n",
              "    }\n",
              "</style>\n",
              "<table border=\"1\" class=\"dataframe\">\n",
              "  <thead>\n",
              "    <tr style=\"text-align: right;\">\n",
              "      <th></th>\n",
              "      <th>score_1</th>\n",
              "      <th>score_2</th>\n",
              "      <th>score_3</th>\n",
              "    </tr>\n",
              "  </thead>\n",
              "  <tbody>\n",
              "    <tr>\n",
              "      <th>0</th>\n",
              "      <td>Inception</td>\n",
              "      <td>Inception</td>\n",
              "      <td>Inception</td>\n",
              "    </tr>\n",
              "    <tr>\n",
              "      <th>1</th>\n",
              "      <td>The Dark Knight</td>\n",
              "      <td>The Dark Knight</td>\n",
              "      <td>The Dark Knight</td>\n",
              "    </tr>\n",
              "    <tr>\n",
              "      <th>2</th>\n",
              "      <td>Interstellar</td>\n",
              "      <td>Interstellar</td>\n",
              "      <td>The Avengers</td>\n",
              "    </tr>\n",
              "    <tr>\n",
              "      <th>3</th>\n",
              "      <td>The Avengers</td>\n",
              "      <td>Fight Club</td>\n",
              "      <td>Avatar</td>\n",
              "    </tr>\n",
              "    <tr>\n",
              "      <th>4</th>\n",
              "      <td>Avatar</td>\n",
              "      <td>The Avengers</td>\n",
              "      <td>Interstellar</td>\n",
              "    </tr>\n",
              "    <tr>\n",
              "      <th>5</th>\n",
              "      <td>Deadpool</td>\n",
              "      <td>Avatar</td>\n",
              "      <td>Deadpool</td>\n",
              "    </tr>\n",
              "    <tr>\n",
              "      <th>6</th>\n",
              "      <td>Fight Club</td>\n",
              "      <td>Deadpool</td>\n",
              "      <td>Django Unchained</td>\n",
              "    </tr>\n",
              "    <tr>\n",
              "      <th>7</th>\n",
              "      <td>Django Unchained</td>\n",
              "      <td>Django Unchained</td>\n",
              "      <td>Guardians of the Galaxy</td>\n",
              "    </tr>\n",
              "    <tr>\n",
              "      <th>8</th>\n",
              "      <td>Guardians of the Galaxy</td>\n",
              "      <td>Guardians of the Galaxy</td>\n",
              "      <td>Fight Club</td>\n",
              "    </tr>\n",
              "    <tr>\n",
              "      <th>9</th>\n",
              "      <td>Pulp Fiction</td>\n",
              "      <td>The Shawshank Redemption</td>\n",
              "      <td>Mad Max: Fury Road</td>\n",
              "    </tr>\n",
              "    <tr>\n",
              "      <th>10</th>\n",
              "      <td>The Matrix</td>\n",
              "      <td>Pulp Fiction</td>\n",
              "      <td>The Dark Knight Rises</td>\n",
              "    </tr>\n",
              "    <tr>\n",
              "      <th>11</th>\n",
              "      <td>The Lord of the Rings: The Fellowship of the Ring</td>\n",
              "      <td>The Lord of the Rings: The Fellowship of the Ring</td>\n",
              "      <td>The Matrix</td>\n",
              "    </tr>\n",
              "    <tr>\n",
              "      <th>12</th>\n",
              "      <td>The Shawshank Redemption</td>\n",
              "      <td>The Matrix</td>\n",
              "      <td>The Hunger Games</td>\n",
              "    </tr>\n",
              "    <tr>\n",
              "      <th>13</th>\n",
              "      <td>The Dark Knight Rises</td>\n",
              "      <td>Forrest Gump</td>\n",
              "      <td>The Lord of the Rings: The Fellowship of the Ring</td>\n",
              "    </tr>\n",
              "    <tr>\n",
              "      <th>14</th>\n",
              "      <td>Mad Max: Fury Road</td>\n",
              "      <td>The Lord of the Rings: The Return of the King</td>\n",
              "      <td>Pulp Fiction</td>\n",
              "    </tr>\n",
              "    <tr>\n",
              "      <th>15</th>\n",
              "      <td>Forrest Gump</td>\n",
              "      <td>The Dark Knight Rises</td>\n",
              "      <td>The Shawshank Redemption</td>\n",
              "    </tr>\n",
              "    <tr>\n",
              "      <th>16</th>\n",
              "      <td>The Lord of the Rings: The Return of the King</td>\n",
              "      <td>Mad Max: Fury Road</td>\n",
              "      <td>Iron Man</td>\n",
              "    </tr>\n",
              "    <tr>\n",
              "      <th>17</th>\n",
              "      <td>The Hunger Games</td>\n",
              "      <td>Iron Man</td>\n",
              "      <td>The Lord of the Rings: The Return of the King</td>\n",
              "    </tr>\n",
              "    <tr>\n",
              "      <th>18</th>\n",
              "      <td>Iron Man</td>\n",
              "      <td>The Lord of the Rings: The Two Towers</td>\n",
              "      <td>Iron Man 3</td>\n",
              "    </tr>\n",
              "    <tr>\n",
              "      <th>19</th>\n",
              "      <td>The Lord of the Rings: The Two Towers</td>\n",
              "      <td>The Hunger Games</td>\n",
              "      <td>Forrest Gump</td>\n",
              "    </tr>\n",
              "  </tbody>\n",
              "</table>\n",
              "</div>"
            ],
            "text/plain": [
              "                                              score_1  ...                                            score_3\n",
              "0                                           Inception  ...                                          Inception\n",
              "1                                     The Dark Knight  ...                                    The Dark Knight\n",
              "2                                        Interstellar  ...                                       The Avengers\n",
              "3                                        The Avengers  ...                                             Avatar\n",
              "4                                              Avatar  ...                                       Interstellar\n",
              "5                                            Deadpool  ...                                           Deadpool\n",
              "6                                          Fight Club  ...                                   Django Unchained\n",
              "7                                    Django Unchained  ...                            Guardians of the Galaxy\n",
              "8                             Guardians of the Galaxy  ...                                         Fight Club\n",
              "9                                        Pulp Fiction  ...                                 Mad Max: Fury Road\n",
              "10                                         The Matrix  ...                              The Dark Knight Rises\n",
              "11  The Lord of the Rings: The Fellowship of the Ring  ...                                         The Matrix\n",
              "12                           The Shawshank Redemption  ...                                   The Hunger Games\n",
              "13                              The Dark Knight Rises  ...  The Lord of the Rings: The Fellowship of the Ring\n",
              "14                                 Mad Max: Fury Road  ...                                       Pulp Fiction\n",
              "15                                       Forrest Gump  ...                           The Shawshank Redemption\n",
              "16      The Lord of the Rings: The Return of the King  ...                                           Iron Man\n",
              "17                                   The Hunger Games  ...      The Lord of the Rings: The Return of the King\n",
              "18                                           Iron Man  ...                                         Iron Man 3\n",
              "19              The Lord of the Rings: The Two Towers  ...                                       Forrest Gump\n",
              "\n",
              "[20 rows x 3 columns]"
            ]
          },
          "metadata": {
            "tags": []
          },
          "execution_count": 69
        }
      ]
    },
    {
      "cell_type": "markdown",
      "metadata": {
        "id": "VZqm2LuxXxCr"
      },
      "source": [
        "La première métrique obtenue a un résultat correspondant davantage à l'idée que l'on se fait d'un succès critique et commercial d'un film. On observe d'ailleurs que l'on peut jouer sur l'importance de la popularité via le *vote_count* et sur l'importance du succès critique via *vote_average* : le **score_3** met en avant des films \"populaires\" au sens blockbusters etc. tandis que le **score_2** met en avant des succès critiques tels que Fight Club, ou The Shawshank Redemption. Toutefois cette influence est assez marginale, les scores 1, 2 et 3 sont assez proches, on retiendra donc seulement le **score_1**."
      ]
    },
    {
      "cell_type": "code",
      "metadata": {
        "id": "31ug_tXbn-cO"
      },
      "source": [
        "df = df.drop(columns=['score_2', 'score_3'])"
      ],
      "execution_count": null,
      "outputs": []
    },
    {
      "cell_type": "markdown",
      "metadata": {
        "id": "gHAM24BTtAWk"
      },
      "source": [
        "Comparons la liste des 20 premiers films selon *score_1* et *popularity* :"
      ]
    },
    {
      "cell_type": "code",
      "metadata": {
        "id": "I-mudkNhXxCr",
        "colab": {
          "base_uri": "https://localhost:8080/",
          "height": 662
        },
        "outputId": "03cd1e30-6fe9-47ea-ea98-7c1f63a78b65"
      },
      "source": [
        "l_pop = df.sort_values(by='popularity', ascending=False)['original_title'].head(20).tolist()\n",
        "pd.DataFrame({'popularity': l_pop ,'score_1' : l_score1})"
      ],
      "execution_count": null,
      "outputs": [
        {
          "output_type": "execute_result",
          "data": {
            "text/html": [
              "<div>\n",
              "<style scoped>\n",
              "    .dataframe tbody tr th:only-of-type {\n",
              "        vertical-align: middle;\n",
              "    }\n",
              "\n",
              "    .dataframe tbody tr th {\n",
              "        vertical-align: top;\n",
              "    }\n",
              "\n",
              "    .dataframe thead th {\n",
              "        text-align: right;\n",
              "    }\n",
              "</style>\n",
              "<table border=\"1\" class=\"dataframe\">\n",
              "  <thead>\n",
              "    <tr style=\"text-align: right;\">\n",
              "      <th></th>\n",
              "      <th>popularity</th>\n",
              "      <th>score_1</th>\n",
              "    </tr>\n",
              "  </thead>\n",
              "  <tbody>\n",
              "    <tr>\n",
              "      <th>0</th>\n",
              "      <td>Minions</td>\n",
              "      <td>Inception</td>\n",
              "    </tr>\n",
              "    <tr>\n",
              "      <th>1</th>\n",
              "      <td>Wonder Woman</td>\n",
              "      <td>The Dark Knight</td>\n",
              "    </tr>\n",
              "    <tr>\n",
              "      <th>2</th>\n",
              "      <td>Beauty and the Beast</td>\n",
              "      <td>Interstellar</td>\n",
              "    </tr>\n",
              "    <tr>\n",
              "      <th>3</th>\n",
              "      <td>Baby Driver</td>\n",
              "      <td>The Avengers</td>\n",
              "    </tr>\n",
              "    <tr>\n",
              "      <th>4</th>\n",
              "      <td>Big Hero 6</td>\n",
              "      <td>Avatar</td>\n",
              "    </tr>\n",
              "    <tr>\n",
              "      <th>5</th>\n",
              "      <td>Deadpool</td>\n",
              "      <td>Deadpool</td>\n",
              "    </tr>\n",
              "    <tr>\n",
              "      <th>6</th>\n",
              "      <td>Guardians of the Galaxy Vol. 2</td>\n",
              "      <td>Fight Club</td>\n",
              "    </tr>\n",
              "    <tr>\n",
              "      <th>7</th>\n",
              "      <td>Avatar</td>\n",
              "      <td>Django Unchained</td>\n",
              "    </tr>\n",
              "    <tr>\n",
              "      <th>8</th>\n",
              "      <td>John Wick</td>\n",
              "      <td>Guardians of the Galaxy</td>\n",
              "    </tr>\n",
              "    <tr>\n",
              "      <th>9</th>\n",
              "      <td>Gone Girl</td>\n",
              "      <td>Pulp Fiction</td>\n",
              "    </tr>\n",
              "    <tr>\n",
              "      <th>10</th>\n",
              "      <td>The Hunger Games: Mockingjay - Part 1</td>\n",
              "      <td>The Matrix</td>\n",
              "    </tr>\n",
              "    <tr>\n",
              "      <th>11</th>\n",
              "      <td>War for the Planet of the Apes</td>\n",
              "      <td>The Lord of the Rings: The Fellowship of the Ring</td>\n",
              "    </tr>\n",
              "    <tr>\n",
              "      <th>12</th>\n",
              "      <td>Captain America: Civil War</td>\n",
              "      <td>The Shawshank Redemption</td>\n",
              "    </tr>\n",
              "    <tr>\n",
              "      <th>13</th>\n",
              "      <td>Pulp Fiction</td>\n",
              "      <td>The Dark Knight Rises</td>\n",
              "    </tr>\n",
              "    <tr>\n",
              "      <th>14</th>\n",
              "      <td>Pirates of the Caribbean: Dead Men Tell No Tales</td>\n",
              "      <td>Mad Max: Fury Road</td>\n",
              "    </tr>\n",
              "    <tr>\n",
              "      <th>15</th>\n",
              "      <td>The Dark Knight</td>\n",
              "      <td>Forrest Gump</td>\n",
              "    </tr>\n",
              "    <tr>\n",
              "      <th>16</th>\n",
              "      <td>Blade Runner</td>\n",
              "      <td>The Lord of the Rings: The Return of the King</td>\n",
              "    </tr>\n",
              "    <tr>\n",
              "      <th>17</th>\n",
              "      <td>The Avengers</td>\n",
              "      <td>The Hunger Games</td>\n",
              "    </tr>\n",
              "    <tr>\n",
              "      <th>18</th>\n",
              "      <td>Captain Underpants: The First Epic Movie</td>\n",
              "      <td>Iron Man</td>\n",
              "    </tr>\n",
              "    <tr>\n",
              "      <th>19</th>\n",
              "      <td>The Circle</td>\n",
              "      <td>The Lord of the Rings: The Two Towers</td>\n",
              "    </tr>\n",
              "  </tbody>\n",
              "</table>\n",
              "</div>"
            ],
            "text/plain": [
              "                                          popularity                                            score_1\n",
              "0                                            Minions                                          Inception\n",
              "1                                       Wonder Woman                                    The Dark Knight\n",
              "2                               Beauty and the Beast                                       Interstellar\n",
              "3                                        Baby Driver                                       The Avengers\n",
              "4                                         Big Hero 6                                             Avatar\n",
              "5                                           Deadpool                                           Deadpool\n",
              "6                     Guardians of the Galaxy Vol. 2                                         Fight Club\n",
              "7                                             Avatar                                   Django Unchained\n",
              "8                                          John Wick                            Guardians of the Galaxy\n",
              "9                                          Gone Girl                                       Pulp Fiction\n",
              "10             The Hunger Games: Mockingjay - Part 1                                         The Matrix\n",
              "11                    War for the Planet of the Apes  The Lord of the Rings: The Fellowship of the Ring\n",
              "12                        Captain America: Civil War                           The Shawshank Redemption\n",
              "13                                      Pulp Fiction                              The Dark Knight Rises\n",
              "14  Pirates of the Caribbean: Dead Men Tell No Tales                                 Mad Max: Fury Road\n",
              "15                                   The Dark Knight                                       Forrest Gump\n",
              "16                                      Blade Runner      The Lord of the Rings: The Return of the King\n",
              "17                                      The Avengers                                   The Hunger Games\n",
              "18          Captain Underpants: The First Epic Movie                                           Iron Man\n",
              "19                                        The Circle              The Lord of the Rings: The Two Towers"
            ]
          },
          "metadata": {
            "tags": []
          },
          "execution_count": 71
        }
      ]
    },
    {
      "cell_type": "markdown",
      "metadata": {
        "id": "21Jn-dysXxCr"
      },
      "source": [
        "On pourra retenir *popularity* pour évoquer des film au succès commercial, et *score_1* pour évoquer des films relativement acclamés par la critique et populaires. "
      ]
    },
    {
      "cell_type": "markdown",
      "metadata": {
        "id": "LIFKRegpXxCr"
      },
      "source": [
        "### *production companies* et *production countries*"
      ]
    },
    {
      "cell_type": "markdown",
      "metadata": {
        "id": "BNzCQQSjfeS4"
      },
      "source": [
        "#### *production_companies*"
      ]
    },
    {
      "cell_type": "code",
      "metadata": {
        "id": "THCk8HQAXxCr",
        "colab": {
          "base_uri": "https://localhost:8080/"
        },
        "outputId": "0bcb960e-8f03-4132-c5a2-418099e1b685"
      },
      "source": [
        "df.production_companies"
      ],
      "execution_count": null,
      "outputs": [
        {
          "output_type": "execute_result",
          "data": {
            "text/plain": [
              "0           [{'name': 'Pixar Animation Studios', 'id': 3}]\n",
              "1        [{'name': 'TriStar Pictures', 'id': 559}, {'na...\n",
              "2        [{'name': 'Warner Bros.', 'id': 6194}, {'name'...\n",
              "3        [{'name': 'Twentieth Century Fox Film Corporat...\n",
              "4        [{'name': 'Sandollar Productions', 'id': 5842}...\n",
              "                               ...                        \n",
              "45412                                                   []\n",
              "45413               [{'name': 'Sine Olivia', 'id': 19653}]\n",
              "45414    [{'name': 'American World Pictures', 'id': 6165}]\n",
              "45415                 [{'name': 'Yermoliev', 'id': 88753}]\n",
              "45416                                                   []\n",
              "Name: production_companies, Length: 45417, dtype: object"
            ]
          },
          "metadata": {
            "tags": []
          },
          "execution_count": 72
        }
      ]
    },
    {
      "cell_type": "markdown",
      "metadata": {
        "id": "CWejqTVVXxCr"
      },
      "source": [
        "Dans la cellule de code suivante, nous allons récupérer les noms des companies de production, ainsi que leur identifiant. Celui-ci s'avérera utile par la suite. Pour cela, nous allons utiliser la fonction *split* qui transforme un ensemble de chaînes de caractères en liste."
      ]
    },
    {
      "cell_type": "code",
      "metadata": {
        "id": "1H4lQaBAXxCr"
      },
      "source": [
        "df_temp = df.production_companies.str.split(',')\n",
        "df_1 = pd.DataFrame()\n",
        "df_2 = pd.DataFrame()\n",
        "df_1['name'] = df_temp.str.get(0)\n",
        "df_1['id'] = df_temp.str.get(1)\n",
        "df['production_companies_name'] = df_1.name.str.split(':').str.get(1)\n",
        "df['production_companies_id'] = df_1.id.str.split(':').str.get(1)\n"
      ],
      "execution_count": null,
      "outputs": []
    },
    {
      "cell_type": "markdown",
      "metadata": {
        "id": "dueazfTTXxCr"
      },
      "source": [
        "On retire ensuite les guillemets qui se trouvent dans les cellules de cette colonne"
      ]
    },
    {
      "cell_type": "code",
      "metadata": {
        "id": "aU_WcGQjXxCr",
        "colab": {
          "base_uri": "https://localhost:8080/"
        },
        "outputId": "4cacad62-d372-4185-af8c-0a22113163cb"
      },
      "source": [
        "df.production_companies_name = df.production_companies_name.str.replace(r'[^\\w\\s]+', '')\n",
        "df.production_companies_id= df.production_companies_id.str.replace(r'[^\\w\\s]+', '')\n",
        "df.production_companies_id = df.production_companies_id.str.replace(\"'\",\"\")\n",
        "df.production_companies_id.sort_values(ascending=False).head(100)"
      ],
      "execution_count": null,
      "outputs": [
        {
          "output_type": "execute_result",
          "data": {
            "text/plain": [
              "15500     9999\n",
              "2007      9998\n",
              "2465      9996\n",
              "27274      999\n",
              "2918       999\n",
              "         ...  \n",
              "23697       97\n",
              "5194        97\n",
              "1361        97\n",
              "1360        97\n",
              "5874        97\n",
              "Name: production_companies_id, Length: 100, dtype: object"
            ]
          },
          "metadata": {
            "tags": []
          },
          "execution_count": 74
        }
      ]
    },
    {
      "cell_type": "markdown",
      "metadata": {
        "id": "W7MsiAgtXxCr"
      },
      "source": [
        "On voit des doublons, il faut harmoniser à l'aide des *id* des compagnies de production.\n",
        "Nous pouvons remarquer quelques effets à corriger : certains films sont mal regroupés en raison de l'utilisation des acronymes ou du nom complet de la société de production. Par exemple, Lionsgate est également présent sous le nom Lions Gate, de même avec la BBC et British Broadcasting Channel etc.\n"
      ]
    },
    {
      "cell_type": "code",
      "metadata": {
        "id": "Vvyi_tUhXxCr",
        "colab": {
          "base_uri": "https://localhost:8080/"
        },
        "outputId": "57443508-ed41-444d-d5a0-32dbf0f1436d"
      },
      "source": [
        "df.production_companies_name.head()"
      ],
      "execution_count": null,
      "outputs": [
        {
          "output_type": "execute_result",
          "data": {
            "text/plain": [
              "0                    Pixar Animation Studios\n",
              "1                           TriStar Pictures\n",
              "2                                Warner Bros\n",
              "3     Twentieth Century Fox Film Corporation\n",
              "4                      Sandollar Productions\n",
              "Name: production_companies_name, dtype: object"
            ]
          },
          "metadata": {
            "tags": []
          },
          "execution_count": 75
        }
      ]
    },
    {
      "cell_type": "code",
      "metadata": {
        "id": "MzYuFe5TXxCr"
      },
      "source": [
        "df['pc_id_count'] = df.groupby(['production_companies_id'])['production_companies_name'].transform('count')\n",
        "#df['pc_id_count']=df['production_companies_id'].map(df['production_companies_id'].value_counts())"
      ],
      "execution_count": null,
      "outputs": []
    },
    {
      "cell_type": "code",
      "metadata": {
        "id": "UiHkXee1XxCr",
        "colab": {
          "base_uri": "https://localhost:8080/",
          "height": 202
        },
        "outputId": "069d078b-3939-440b-b842-5d927a7a6a4f"
      },
      "source": [
        "df[['pc_id_count', 'production_companies_name', 'production_companies_id']].head()"
      ],
      "execution_count": null,
      "outputs": [
        {
          "output_type": "execute_result",
          "data": {
            "text/html": [
              "<div>\n",
              "<style scoped>\n",
              "    .dataframe tbody tr th:only-of-type {\n",
              "        vertical-align: middle;\n",
              "    }\n",
              "\n",
              "    .dataframe tbody tr th {\n",
              "        vertical-align: top;\n",
              "    }\n",
              "\n",
              "    .dataframe thead th {\n",
              "        text-align: right;\n",
              "    }\n",
              "</style>\n",
              "<table border=\"1\" class=\"dataframe\">\n",
              "  <thead>\n",
              "    <tr style=\"text-align: right;\">\n",
              "      <th></th>\n",
              "      <th>pc_id_count</th>\n",
              "      <th>production_companies_name</th>\n",
              "      <th>production_companies_id</th>\n",
              "    </tr>\n",
              "  </thead>\n",
              "  <tbody>\n",
              "    <tr>\n",
              "      <th>0</th>\n",
              "      <td>29.0</td>\n",
              "      <td>Pixar Animation Studios</td>\n",
              "      <td>3</td>\n",
              "    </tr>\n",
              "    <tr>\n",
              "      <th>1</th>\n",
              "      <td>163.0</td>\n",
              "      <td>TriStar Pictures</td>\n",
              "      <td>559</td>\n",
              "    </tr>\n",
              "    <tr>\n",
              "      <th>2</th>\n",
              "      <td>757.0</td>\n",
              "      <td>Warner Bros</td>\n",
              "      <td>6194</td>\n",
              "    </tr>\n",
              "    <tr>\n",
              "      <th>3</th>\n",
              "      <td>780.0</td>\n",
              "      <td>Twentieth Century Fox Film Corporation</td>\n",
              "      <td>306</td>\n",
              "    </tr>\n",
              "    <tr>\n",
              "      <th>4</th>\n",
              "      <td>5.0</td>\n",
              "      <td>Sandollar Productions</td>\n",
              "      <td>5842</td>\n",
              "    </tr>\n",
              "  </tbody>\n",
              "</table>\n",
              "</div>"
            ],
            "text/plain": [
              "   pc_id_count                production_companies_name production_companies_id\n",
              "0         29.0                  Pixar Animation Studios                       3\n",
              "1        163.0                         TriStar Pictures                     559\n",
              "2        757.0                              Warner Bros                    6194\n",
              "3        780.0   Twentieth Century Fox Film Corporation                     306\n",
              "4          5.0                    Sandollar Productions                    5842"
            ]
          },
          "metadata": {
            "tags": []
          },
          "execution_count": 79
        }
      ]
    },
    {
      "cell_type": "markdown",
      "metadata": {
        "id": "Ebv-v1QKuLQ3"
      },
      "source": [
        "On construit deux nouvelles variables, *production_compagnies_name* et *production_compagnies_id* dans lesquelles on va respectivement stocker le nom et l'identifiant associé à chaque compagnie de production de la base."
      ]
    },
    {
      "cell_type": "code",
      "metadata": {
        "id": "Bd42LkKWtJIJ"
      },
      "source": [
        "df.production_companies_id = df.production_companies_id.fillna(0)\n",
        "df.production_companies_id = df.production_companies_id.astype(int)\n",
        "df.production_companies_name = df.production_companies_name.fillna('Non renseigné')"
      ],
      "execution_count": null,
      "outputs": []
    },
    {
      "cell_type": "code",
      "metadata": {
        "id": "nshLLEbuXxCs",
        "colab": {
          "base_uri": "https://localhost:8080/",
          "height": 202
        },
        "outputId": "d3e5fd91-bb6a-491b-d59d-67b2a8a933cc"
      },
      "source": [
        "df.sort_values(by='production_companies_id')[['pc_id_count', 'production_companies_name', 'production_companies_id']].head()"
      ],
      "execution_count": null,
      "outputs": [
        {
          "output_type": "execute_result",
          "data": {
            "text/html": [
              "<div>\n",
              "<style scoped>\n",
              "    .dataframe tbody tr th:only-of-type {\n",
              "        vertical-align: middle;\n",
              "    }\n",
              "\n",
              "    .dataframe tbody tr th {\n",
              "        vertical-align: top;\n",
              "    }\n",
              "\n",
              "    .dataframe thead th {\n",
              "        text-align: right;\n",
              "    }\n",
              "</style>\n",
              "<table border=\"1\" class=\"dataframe\">\n",
              "  <thead>\n",
              "    <tr style=\"text-align: right;\">\n",
              "      <th></th>\n",
              "      <th>pc_id_count</th>\n",
              "      <th>production_companies_name</th>\n",
              "      <th>production_companies_id</th>\n",
              "    </tr>\n",
              "  </thead>\n",
              "  <tbody>\n",
              "    <tr>\n",
              "      <th>45416</th>\n",
              "      <td>NaN</td>\n",
              "      <td>Non renseigné</td>\n",
              "      <td>0</td>\n",
              "    </tr>\n",
              "    <tr>\n",
              "      <th>25433</th>\n",
              "      <td>NaN</td>\n",
              "      <td>Non renseigné</td>\n",
              "      <td>0</td>\n",
              "    </tr>\n",
              "    <tr>\n",
              "      <th>25432</th>\n",
              "      <td>NaN</td>\n",
              "      <td>Non renseigné</td>\n",
              "      <td>0</td>\n",
              "    </tr>\n",
              "    <tr>\n",
              "      <th>25431</th>\n",
              "      <td>NaN</td>\n",
              "      <td>Non renseigné</td>\n",
              "      <td>0</td>\n",
              "    </tr>\n",
              "    <tr>\n",
              "      <th>25424</th>\n",
              "      <td>NaN</td>\n",
              "      <td>Non renseigné</td>\n",
              "      <td>0</td>\n",
              "    </tr>\n",
              "  </tbody>\n",
              "</table>\n",
              "</div>"
            ],
            "text/plain": [
              "       pc_id_count production_companies_name  production_companies_id\n",
              "45416          NaN             Non renseigné                        0\n",
              "25433          NaN             Non renseigné                        0\n",
              "25432          NaN             Non renseigné                        0\n",
              "25431          NaN             Non renseigné                        0\n",
              "25424          NaN             Non renseigné                        0"
            ]
          },
          "metadata": {
            "tags": []
          },
          "execution_count": 81
        }
      ]
    },
    {
      "cell_type": "markdown",
      "metadata": {
        "id": "QxJYIhemieag"
      },
      "source": [
        "On construit un dictionnaire reliant *id* et *noms* des compagnies de production. "
      ]
    },
    {
      "cell_type": "code",
      "metadata": {
        "id": "1qMNNFSdh5Qi"
      },
      "source": [
        "dico_pc = df.groupby('production_companies_id').production_companies_name.agg('min').transpose().to_dict()"
      ],
      "execution_count": null,
      "outputs": []
    },
    {
      "cell_type": "code",
      "metadata": {
        "colab": {
          "base_uri": "https://localhost:8080/"
        },
        "id": "QjwrgNLpsj4J",
        "outputId": "f76bf9a3-7200-4360-a244-e43a833aa29b"
      },
      "source": [
        "print(dico_pc.keys(),dico_pc[1])"
      ],
      "execution_count": null,
      "outputs": [
        {
          "output_type": "stream",
          "text": [
            "dict_keys([0, 1, 2, 3, 4, 5, 6, 7, 8, 9, 10, 11, 12, 13, 14, 15, 16, 17, 18, 19, 20, 21, 23, 24, 25, 27, 28, 29, 30, 32, 33, 34, 35, 36, 37, 38, 39, 41, 42, 43, 44, 45, 46, 47, 49, 50, 51, 52, 53, 54, 55, 56, 58, 59, 60, 62, 64, 65, 67, 70, 72, 73, 74, 76, 77, 78, 79, 80, 81, 82, 83, 84, 85, 86, 88, 94, 97, 98, 99, 100, 101, 103, 104, 105, 107, 109, 110, 112, 113, 116, 118, 119, 120, 121, 122, 123, 124, 125, 126, 128, 129, 130, 131, 134, 135, 136, 137, 138, 139, 140, 141, 142, 144, 146, 147, 148, 149, 151, 152, 153, 155, 156, 157, 158, 161, 162, 163, 164, 165, 166, 168, 170, 171, 173, 174, 175, 176, 177, 178, 181, 182, 183, 185, 186, 189, 190, 191, 194, 196, 197, 198, 199, 200, 201, 203, 204, 206, 207, 208, 209, 210, 211, 212, 213, 214, 215, 216, 217, 218, 219, 220, 222, 223, 224, 225, 227, 228, 229, 230, 231, 233, 234, 235, 236, 238, 239, 240, 241, 242, 243, 245, 246, 247, 248, 249, 250, 251, 254, 255, 258, 259, 260, 261, 263, 264, 266, 267, 268, 269, 272, 273, 274, 276, 278, 280, 282, 284, 285, 288, 289, 290, 292, 293, 294, 296, 297, 298, 299, 300, 302, 306, 307, 308, 309, 310, 311, 313, 315, 316, 317, 318, 320, 321, 322, 326, 327, 328, 330, 331, 333, 335, 336, 341, 342, 345, 346, 347, 348, 351, 354, 355, 356, 357, 359, 360, 361, 362, 364, 365, 367, 368, 370, 371, 373, 376, 377, 379, 380, 383, 385, 386, 388, 393, 396, 397, 398, 399, 400, 401, 402, 403, 404, 405, 406, 407, 410, 412, 413, 414, 415, 416, 417, 418, 419, 420, 421, 423, 424, 425, 426, 427, 428, 429, 430, 431, 433, 435, 436, 437, 438, 439, 441, 443, 444, 446, 449, 450, 452, 454, 455, 457, 459, 461, 462, 463, 464, 465, 467, 468, 469, 470, 472, 473, 475, 477, 478, 479, 480, 481, 483, 484, 486, 487, 489, 490, 491, 494, 496, 497, 499, 500, 503, 506, 507, 508, 509, 510, 511, 512, 513, 514, 515, 516, 517, 519, 520, 521, 523, 524, 525, 528, 532, 533, 534, 537, 538, 539, 540, 542, 544, 546, 547, 550, 551, 552, 553, 554, 556, 557, 559, 560, 562, 563, 564, 567, 568, 570, 572, 574, 575, 580, 581, 582, 584, 585, 587, 588, 591, 594, 597, 598, 599, 600, 602, 608, 609, 611, 612, 613, 614, 615, 616, 617, 618, 619, 620, 622, 624, 626, 627, 628, 632, 634, 635, 638, 639, 641, 643, 644, 648, 650, 653, 654, 655, 656, 657, 659, 660, 661, 662, 664, 665, 667, 668, 669, 670, 675, 676, 678, 679, 680, 682, 684, 685, 686, 688, 689, 691, 692, 693, 694, 695, 697, 698, 700, 702, 703, 705, 706, 707, 708, 711, 713, 718, 719, 720, 721, 722, 724, 725, 726, 727, 728, 729, 730, 732, 734, 735, 736, 737, 738, 740, 741, 743, 744, 745, 746, 748, 749, 750, 753, 754, 755, 756, 757, 758, 760, 761, 762, 763, 768, 769, 770, 771, 773, 774, 776, 777, 779, 784, 786, 787, 788, 789, 790, 791, 792, 793, 794, 796, 798, 799, 800, 802, 803, 804, 805, 806, 807, 810, 813, 816, 817, 819, 820, 822, 823, 824, 826, 827, 828, 829, 830, 831, 834, 836, 838, 839, 841, 843, 844, 846, 847, 850, 851, 854, 856, 857, 858, 859, 860, 862, 863, 865, 866, 868, 870, 871, 872, 873, 874, 875, 876, 877, 881, 882, 883, 884, 885, 886, 887, 888, 890, 892, 893, 895, 897, 898, 901, 903, 906, 908, 910, 911, 912, 915, 916, 918, 919, 921, 922, 923, 925, 927, 928, 930, 931, 932, 934, 937, 938, 940, 941, 942, 943, 945, 946, 947, 948, 953, 954, 955, 958, 959, 960, 964, 965, 966, 968, 969, 971, 972, 973, 974, 975, 976, 979, 980, 982, 983, 985, 986, 987, 988, 989, 992, 993, 995, 998, 999, 1001, 1002, 1003, 1005, 1009, 1010, 1011, 1012, 1016, 1017, 1020, 1021, 1023, 1024, 1026, 1030, 1031, 1035, 1036, 1038, 1039, 1041, 1042, 1043, 1044, 1047, 1048, 1049, 1050, 1051, 1054, 1059, 1060, 1061, 1062, 1063, 1066, 1069, 1070, 1071, 1073, 1075, 1076, 1077, 1078, 1079, 1080, 1082, 1083, 1084, 1087, 1088, 1092, 1093, 1095, 1097, 1099, 1101, 1102, 1105, 1107, 1108, 1110, 1113, 1115, 1117, 1122, 1123, 1124, 1125, 1129, 1130, 1131, 1132, 1137, 1138, 1141, 1147, 1151, 1152, 1153, 1155, 1156, 1157, 1158, 1159, 1163, 1164, 1166, 1167, 1168, 1169, 1171, 1172, 1174, 1176, 1177, 1178, 1179, 1180, 1181, 1182, 1183, 1184, 1187, 1188, 1190, 1192, 1194, 1195, 1199, 1200, 1203, 1204, 1205, 1207, 1208, 1210, 1211, 1212, 1213, 1215, 1216, 1218, 1219, 1221, 1222, 1223, 1224, 1225, 1231, 1234, 1235, 1236, 1237, 1239, 1240, 1241, 1242, 1243, 1244, 1245, 1246, 1247, 1249, 1250, 1251, 1252, 1253, 1255, 1256, 1257, 1258, 1259, 1261, 1262, 1266, 1267, 1268, 1269, 1271, 1273, 1274, 1275, 1280, 1281, 1282, 1283, 1284, 1285, 1286, 1287, 1292, 1295, 1296, 1299, 1300, 1302, 1304, 1305, 1307, 1309, 1311, 1312, 1313, 1314, 1315, 1317, 1318, 1319, 1321, 1322, 1323, 1325, 1326, 1328, 1331, 1332, 1333, 1335, 1339, 1341, 1342, 1343, 1345, 1347, 1352, 1353, 1354, 1360, 1361, 1363, 1369, 1370, 1371, 1373, 1374, 1375, 1376, 1377, 1378, 1379, 1380, 1382, 1386, 1388, 1391, 1392, 1393, 1394, 1397, 1398, 1399, 1400, 1401, 1403, 1405, 1406, 1407, 1408, 1410, 1411, 1415, 1416, 1419, 1420, 1421, 1422, 1423, 1424, 1426, 1427, 1428, 1429, 1431, 1432, 1435, 1436, 1438, 1441, 1442, 1444, 1445, 1446, 1447, 1448, 1450, 1453, 1460, 1461, 1462, 1465, 1467, 1468, 1470, 1471, 1472, 1473, 1474, 1475, 1477, 1478, 1479, 1480, 1482, 1483, 1484, 1486, 1487, 1490, 1492, 1493, 1496, 1497, 1498, 1501, 1502, 1503, 1504, 1505, 1506, 1507, 1508, 1509, 1512, 1515, 1516, 1521, 1522, 1523, 1524, 1526, 1527, 1528, 1529, 1530, 1531, 1532, 1533, 1538, 1539, 1541, 1542, 1545, 1546, 1548, 1549, 1553, 1554, 1555, 1556, 1557, 1558, 1560, 1563, 1565, 1566, 1567, 1569, 1570, 1573, 1574, 1575, 1576, 1578, 1580, 1582, 1583, 1584, 1585, 1586, 1587, 1588, 1589, 1590, 1591, 1594, 1595, 1596, 1597, 1598, 1599, 1600, 1602, 1603, 1605, 1606, 1607, 1610, 1612, 1613, 1615, 1616, 1618, 1620, 1625, 1626, 1627, 1628, 1630, 1631, 1632, 1633, 1635, 1636, 1638, 1639, 1640, 1641, 1644, 1645, 1647, 1648, 1649, 1650, 1653, 1655, 1657, 1659, 1660, 1662, 1664, 1665, 1666, 1669, 1671, 1672, 1676, 1677, 1678, 1679, 1684, 1685, 1688, 1693, 1701, 1702, 1704, 1705, 1708, 1711, 1712, 1713, 1714, 1717, 1719, 1722, 1723, 1724, 1727, 1728, 1729, 1730, 1735, 1736, 1737, 1740, 1741, 1742, 1743, 1746, 1747, 1751, 1754, 1755, 1756, 1757, 1761, 1763, 1764, 1765, 1766, 1768, 1772, 1775, 1776, 1778, 1779, 1784, 1785, 1786, 1787, 1788, 1789, 1791, 1793, 1794, 1795, 1796, 1798, 1799, 1800, 1801, 1802, 1803, 1804, 1807, 1808, 1810, 1811, 1812, 1814, 1815, 1817, 1818, 1819, 1820, 1822, 1823, 1824, 1825, 1826, 1828, 1829, 1830, 1832, 1836, 1838, 1840, 1841, 1842, 1843, 1844, 1845, 1846, 1848, 1850, 1854, 1858, 1861, 1867, 1869, 1870, 1871, 1872, 1873, 1874, 1875, 1876, 1877, 1879, 1880, 1881, 1885, 1886, 1887, 1890, 1892, 1894, 1895, 1897, 1898, 1900, 1901, 1902, 1905, 1906, 1912, 1914, 1915, 1917, 1920, 1923, 1925, 1926, 1927, 1928, 1929, 1930, 1931, 1934, 1936, 1942, 1946, 1947, 1949, 1950, 1951, 1954, 1957, 1958, 1959, 1962, 1964, 1965, 1968, 1969, 1971, 1972, 1974, 1976, 1978, 1979, 1980, 1981, 1982, 1983, 1984, 1987, 1988, 1989, 1990, 1991, 1992, 1995, 2000, 2008, 2009, 2013, 2015, 2016, 2017, 2019, 2027, 2029, 2030, 2032, 2034, 2036, 2044, 2046, 2048, 2049, 2050, 2051, 2053, 2054, 2055, 2060, 2061, 2063, 2064, 2065, 2070, 2073, 2075, 2076, 2078, 2080, 2081, 2083, 2088, 2090, 2091, 2092, 2094, 2098, 2100, 2101, 2102, 2105, 2106, 2108, 2112, 2113, 2115, 2122, 2123, 2124, 2125, 2127, 2130, 2132, 2137, 2140, 2141, 2144, 2146, 2147, 2150, 2152, 2153, 2154, 2155, 2157, 2159, 2160, 2161, 2162, 2164, 2165, 2166, 2167, 2169, 2170, 2179, 2181, 2184, 2185, 2186, 2187, 2188, 2192, 2197, 2198, 2203, 2209, 2210, 2212, 2213, 2214, 2215, 2216, 2218, 2219, 2220, 2221, 2224, 2226, 2230, 2231, 2233, 2236, 2238, 2239, 2242, 2244, 2245, 2247, 2248, 2250, 2251, 2253, 2254, 2256, 2257, 2258, 2260, 2262, 2264, 2265, 2266, 2267, 2268, 2269, 2270, 2273, 2274, 2277, 2278, 2279, 2280, 2282, 2289, 2290, 2291, 2292, 2293, 2294, 2297, 2302, 2303, 2304, 2306, 2307, 2308, 2309, 2310, 2311, 2312, 2313, 2315, 2316, 2317, 2318, 2319, 2320, 2321, 2322, 2324, 2325, 2326, 2328, 2329, 2330, 2333, 2335, 2337, 2341, 2342, 2343, 2344, 2345, 2347, 2348, 2351, 2352, 2353, 2354, 2356, 2359, 2361, 2362, 2364, 2365, 2366, 2370, 2372, 2373, 2374, 2375, 2376, 2379, 2380, 2381, 2382, 2383, 2387, 2389, 2391, 2392, 2393, 2394, 2395, 2396, 2399, 2400, 2401, 2402, 2403, 2404, 2406, 2408, 2409, 2410, 2412, 2416, 2418, 2421, 2422, 2426, 2427, 2428, 2429, 2430, 2432, 2433, 2434, 2437, 2440, 2441, 2445, 2446, 2448, 2449, 2452, 2453, 2455, 2461, 2462, 2463, 2464, 2465, 2476, 2479, 2480, 2481, 2482, 2483, 2486, 2487, 2489, 2490, 2491, 2492, 2493, 2494, 2495, 2496, 2497, 2498, 2499, 2500, 2501, 2502, 2503, 2504, 2505, 2508, 2511, 2512, 2513, 2514, 2516, 2517, 2520, 2521, 2525, 2526, 2527, 2531, 2532, 2535, 2537, 2538, 2541, 2542, 2549, 2551, 2552, 2554, 2561, 2562, 2564, 2565, 2566, 2567, 2568, 2570, 2575, 2577, 2580, 2582, 2585, 2586, 2587, 2588, 2591, 2592, 2595, 2596, 2598, 2599, 2600, 2602, 2604, 2605, 2606, 2608, 2609, 2612, 2613, 2615, 2619, 2623, 2630, 2632, 2634, 2636, 2640, 2643, 2644, 2649, 2650, 2651, 2652, 2659, 2662, 2664, 2665, 2668, 2669, 2670, 2673, 2674, 2675, 2677, 2679, 2680, 2681, 2683, 2684, 2688, 2690, 2691, 2692, 2695, 2696, 2699, 2700, 2703, 2704, 2705, 2706, 2710, 2711, 2712, 2714, 2715, 2717, 2723, 2726, 2729, 2730, 2731, 2734, 2735, 2736, 2737, 2740, 2741, 2742, 2744, 2745, 2746, 2747, 2748, 2751, 2752, 2753, 2754, 2756, 2757, 2760, 2761, 2763, 2764, 2765, 2766, 2767, 2769, 2772, 2773, 2775, 2776, 2777, 2779, 2780, 2783, 2784, 2785, 2786, 2787, 2788, 2789, 2790, 2792, 2798, 2799, 2804, 2805, 2806, 2809, 2810, 2811, 2812, 2813, 2814, 2815, 2817, 2822, 2823, 2826, 2828, 2829, 2830, 2832, 2833, 2834, 2835, 2842, 2844, 2846, 2847, 2849, 2850, 2852, 2853, 2854, 2856, 2857, 2858, 2861, 2863, 2865, 2866, 2867, 2869, 2870, 2872, 2873, 2875, 2876, 2877, 2879, 2880, 2883, 2884, 2885, 2886, 2888, 2890, 2893, 2894, 2901, 2902, 2903, 2905, 2906, 2907, 2908, 2909, 2910, 2911, 2912, 2915, 2916, 2918, 2919, 2920, 2921, 2922, 2924, 2926, 2927, 2928, 2929, 2930, 2931, 2933, 2934, 2935, 2936, 2938, 2940, 2942, 2943, 2944, 2948, 2949, 2950, 2951, 2952, 2953, 2956, 2957, 2958, 2959, 2961, 2962, 2964, 2965, 2966, 2969, 2972, 2973, 2974, 2976, 2978, 2982, 2983, 2984, 2986, 2987, 2989, 2995, 2996, 2997, 3000, 3003, 3004, 3005, 3006, 3007, 3009, 3011, 3012, 3015, 3017, 3018, 3019, 3020, 3025, 3026, 3029, 3032, 3033, 3034, 3036, 3038, 3039, 3040, 3041, 3043, 3044, 3045, 3047, 3049, 3051, 3052, 3054, 3055, 3057, 3058, 3060, 3061, 3064, 3065, 3066, 3067, 3068, 3070, 3071, 3072, 3073, 3074, 3076, 3077, 3078, 3079, 3080, 3081, 3082, 3083, 3084, 3086, 3087, 3092, 3094, 3095, 3097, 3099, 3100, 3101, 3102, 3105, 3106, 3110, 3112, 3116, 3117, 3118, 3119, 3120, 3121, 3123, 3124, 3125, 3126, 3127, 3128, 3129, 3133, 3134, 3135, 3136, 3137, 3138, 3140, 3141, 3142, 3145, 3146, 3147, 3150, 3151, 3153, 3154, 3155, 3156, 3157, 3158, 3159, 3160, 3161, 3164, 3165, 3166, 3167, 3169, 3170, 3171, 3172, 3173, 3175, 3176, 3179, 3180, 3182, 3183, 3184, 3187, 3188, 3189, 3192, 3195, 3196, 3198, 3199, 3200, 3201, 3202, 3203, 3204, 3207, 3208, 3212, 3213, 3214, 3217, 3219, 3220, 3221, 3222, 3223, 3224, 3225, 3226, 3228, 3231, 3232, 3234, 3235, 3236, 3237, 3238, 3240, 3241, 3244, 3245, 3246, 3248, 3252, 3254, 3255, 3256, 3257, 3263, 3265, 3266, 3267, 3268, 3269, 3270, 3271, 3272, 3276, 3279, 3280, 3281, 3282, 3283, 3287, 3289, 3290, 3291, 3293, 3294, 3295, 3298, 3299, 3300, 3302, 3304, 3305, 3306, 3307, 3308, 3310, 3313, 3314, 3316, 3318, 3319, 3320, 3322, 3324, 3326, 3327, 3328, 3330, 3332, 3333, 3336, 3338, 3339, 3341, 3344, 3346, 3347, 3348, 3349, 3350, 3351, 3353, 3356, 3358, 3359, 3361, 3362, 3366, 3372, 3376, 3378, 3379, 3380, 3381, 3383, 3388, 3389, 3390, 3391, 3393, 3394, 3395, 3396, 3397, 3398, 3400, 3401, 3402, 3404, 3405, 3406, 3407, 3408, 3411, 3412, 3413, 3414, 3416, 3417, 3418, 3419, 3421, 3423, 3425, 3427, 3428, 3429, 3430, 3431, 3432, 3433, 3434, 3435, 3436, 3438, 3441, 3444, 3445, 3446, 3447, 3448, 3449, 3450, 3451, 3452, 3453, 3458, 3459, 3460, 3462, 3463, 3465, 3466, 3467, 3468, 3470, 3471, 3472, 3473, 3475, 3477, 3478, 3480, 3481, 3483, 3484, 3485, 3486, 3489, 3490, 3491, 3492, 3493, 3494, 3495, 3496, 3497, 3498, 3502, 3504, 3506, 3510, 3513, 3514, 3516, 3519, 3520, 3521, 3522, 3524, 3525, 3526, 3528, 3530, 3531, 3535, 3536, 3539, 3540, 3541, 3543, 3544, 3545, 3546, 3547, 3548, 3549, 3552, 3553, 3554, 3555, 3556, 3557, 3558, 3560, 3561, 3563, 3564, 3565, 3566, 3568, 3569, 3570, 3571, 3572, 3573, 3574, 3575, 3576, 3578, 3583, 3585, 3588, 3592, 3593, 3595, 3598, 3599, 3600, 3603, 3604, 3605, 3606, 3608, 3609, 3610, 3612, 3614, 3615, 3616, 3617, 3618, 3619, 3620, 3621, 3623, 3625, 3626, 3627, 3628, 3630, 3631, 3632, 3634, 3635, 3638, 3641, 3644, 3645, 3646, 3647, 3649, 3651, 3652, 3653, 3654, 3656, 3657, 3659, 3660, 3661, 3662, 3667, 3668, 3672, 3675, 3676, 3677, 3679, 3680, 3681, 3683, 3685, 3687, 3688, 3689, 3690, 3691, 3694, 3695, 3696, 3697, 3698, 3703, 3706, 3707, 3708, 3712, 3714, 3715, 3718, 3719, 3725, 3726, 3728, 3733, 3734, 3735, 3741, 3743, 3747, 3748, 3749, 3750, 3751, 3753, 3754, 3756, 3759, 3760, 3761, 3762, 3763, 3764, 3765, 3766, 3767, 3768, 3769, 3770, 3777, 3778, 3781, 3782, 3786, 3787, 3788, 3790, 3791, 3792, 3795, 3796, 3797, 3798, 3799, 3801, 3802, 3803, 3804, 3805, 3808, 3810, 3811, 3813, 3815, 3816, 3823, 3825, 3827, 3829, 3830, 3835, 3836, 3839, 3840, 3842, 3845, 3846, 3848, 3849, 3850, 3851, 3852, 3853, 3857, 3862, 3863, 3864, 3865, 3866, 3867, 3868, 3870, 3875, 3879, 3881, 3883, 3887, 3888, 3892, 3893, 3894, 3895, 3896, 3898, 3901, 3902, 3906, 3908, 3909, 3911, 3912, 3914, 3915, 3916, 3917, 3918, 3919, 3920, 3921, 3922, 3923, 3924, 3926, 3928, 3929, 3930, 3932, 3935, 3936, 3938, 3939, 3940, 3947, 3950, 3951, 3952, 3957, 3958, 3959, 3960, 3963, 3964, 3965, 3966, 3968, 3969, 3970, 3971, 3975, 3978, 3979, 3980, 3981, 3982, 3983, 3984, 3985, 3986, 3989, 3990, 3992, 3994, 3995, 3996, 3997, 4003, 4006, 4007, 4009, 4010, 4014, 4015, 4016, 4017, 4018, 4022, 4026, 4027, 4030, 4033, 4035, 4037, 4038, 4040, 4041, 4042, 4043, 4049, 4051, 4052, 4053, 4054, 4056, 4059, 4060, 4061, 4062, 4063, 4064, 4065, 4067, 4068, 4071, 4076, 4077, 4079, 4080, 4081, 4082, 4087, 4095, 4096, 4097, 4098, 4099, 4100, 4101, 4102, 4103, 4104, 4106, 4107, 4108, 4109, 4110, 4111, 4112, 4113, 4114, 4115, 4116, 4119, 4120, 4125, 4126, 4127, 4129, 4131, 4133, 4135, 4137, 4141, 4145, 4147, 4148, 4149, 4151, 4152, 4159, 4162, 4164, 4166, 4167, 4169, 4170, 4171, 4172, 4174, 4175, 4176, 4178, 4179, 4181, 4182, 4183, 4186, 4188, 4189, 4191, 4192, 4194, 4197, 4198, 4199, 4200, 4203, 4205, 4206, 4207, 4208, 4211, 4212, 4213, 4214, 4216, 4217, 4218, 4220, 4221, 4222, 4223, 4225, 4226, 4227, 4229, 4232, 4233, 4234, 4235, 4237, 4240, 4241, 4242, 4243, 4246, 4247, 4248, 4253, 4255, 4259, 4263, 4264, 4268, 4270, 4271, 4273, 4274, 4277, 4278, 4279, 4282, 4283, 4284, 4285, 4287, 4288, 4290, 4292, 4293, 4294, 4297, 4298, 4299, 4301, 4302, 4304, 4305, 4306, 4308, 4311, 4313, 4316, 4319, 4322, 4323, 4324, 4326, 4328, 4333, 4334, 4335, 4336, 4339, 4340, 4343, 4344, 4345, 4347, 4349, 4350, 4351, 4356, 4357, 4358, 4359, 4360, 4361, 4363, 4365, 4366, 4367, 4369, 4373, 4374, 4375, 4376, 4377, 4378, 4379, 4380, 4381, 4382, 4388, 4389, 4391, 4393, 4395, 4396, 4399, 4400, 4401, 4402, 4403, 4405, 4406, 4408, 4409, 4411, 4412, 4414, 4415, 4416, 4417, 4418, 4419, 4420, 4421, 4424, 4427, 4428, 4431, 4433, 4434, 4436, 4437, 4439, 4448, 4451, 4456, 4463, 4469, 4470, 4472, 4473, 4475, 4476, 4483, 4484, 4491, 4495, 4496, 4497, 4498, 4502, 4503, 4506, 4508, 4513, 4514, 4517, 4518, 4519, 4526, 4527, 4529, 4530, 4531, 4532, 4533, 4534, 4535, 4539, 4541, 4542, 4543, 4545, 4552, 4554, 4555, 4557, 4559, 4562, 4563, 4564, 4565, 4566, 4569, 4570, 4572, 4573, 4574, 4575, 4576, 4579, 4580, 4581, 4582, 4583, 4585, 4586, 4587, 4588, 4589, 4590, 4591, 4592, 4593, 4594, 4595, 4597, 4598, 4599, 4602, 4603, 4605, 4606, 4608, 4610, 4614, 4615, 4616, 4620, 4621, 4624, 4626, 4627, 4629, 4630, 4631, 4632, 4634, 4636, 4638, 4639, 4641, 4645, 4647, 4648, 4649, 4650, 4651, 4655, 4656, 4658, 4659, 4660, 4662, 4663, 4664, 4667, 4672, 4673, 4674, 4675, 4676, 4677, 4681, 4684, 4685, 4687, 4688, 4689, 4690, 4692, 4697, 4698, 4699, 4700, 4701, 4703, 4704, 4705, 4707, 4710, 4712, 4713, 4714, 4717, 4718, 4721, 4724, 4725, 4726, 4729, 4730, 4732, 4736, 4738, 4739, 4740, 4742, 4743, 4744, 4745, 4746, 4747, 4748, 4749, 4750, 4753, 4754, 4756, 4758, 4759, 4760, 4762, 4765, 4766, 4774, 4777, 4780, 4781, 4782, 4784, 4786, 4787, 4788, 4790, 4792, 4793, 4794, 4796, 4797, 4799, 4800, 4801, 4802, 4804, 4805, 4808, 4809, 4810, 4811, 4813, 4814, 4817, 4818, 4819, 4820, 4821, 4824, 4825, 4826, 4827, 4828, 4829, 4830, 4834, 4835, 4836, 4838, 4839, 4842, 4847, 4848, 4852, 4853, 4856, 4857, 4858, 4861, 4862, 4863, 4864, 4865, 4866, 4867, 4868, 4870, 4872, 4878, 4881, 4884, 4886, 4887, 4890, 4893, 4894, 4896, 4897, 4898, 4899, 4903, 4904, 4905, 4907, 4908, 4909, 4911, 4912, 4913, 4914, 4915, 4916, 4917, 4918, 4921, 4922, 4923, 4927, 4928, 4929, 4933, 4934, 4936, 4938, 4939, 4940, 4944, 4945, 4946, 4947, 4948, 4949, 4950, 4951, 4952, 4958, 4959, 4960, 4963, 4965, 4968, 4970, 4971, 4977, 4978, 4983, 4985, 4986, 4988, 4990, 4992, 4995, 4997, 4999, 5001, 5003, 5004, 5005, 5006, 5007, 5008, 5010, 5011, 5012, 5015, 5017, 5020, 5021, 5023, 5024, 5025, 5026, 5028, 5030, 5031, 5038, 5040, 5041, 5042, 5043, 5044, 5045, 5049, 5051, 5052, 5054, 5056, 5061, 5062, 5067, 5069, 5070, 5072, 5073, 5076, 5077, 5078, 5079, 5080, 5084, 5085, 5087, 5093, 5094, 5099, 5100, 5101, 5104, 5106, 5107, 5108, 5109, 5110, 5111, 5112, 5113, 5117, 5120, 5121, 5122, 5123, 5124, 5125, 5126, 5127, 5128, 5129, 5132, 5133, 5135, 5137, 5140, 5142, 5145, 5148, 5150, 5153, 5155, 5159, 5162, 5164, 5165, 5166, 5170, 5171, 5173, 5174, 5175, 5176, 5181, 5186, 5187, 5195, 5199, 5201, 5212, 5214, 5217, 5218, 5219, 5220, 5221, 5223, 5224, 5225, 5227, 5228, 5229, 5231, 5233, 5234, 5235, 5237, 5238, 5240, 5241, 5242, 5245, 5247, 5248, 5249, 5251, 5253, 5258, 5260, 5261, 5262, 5266, 5267, 5269, 5270, 5272, 5276, 5277, 5281, 5284, 5285, 5286, 5293, 5294, 5295, 5296, 5298, 5299, 5302, 5303, 5305, 5306, 5307, 5311, 5313, 5315, 5316, 5324, 5325, 5326, 5328, 5330, 5332, 5333, 5334, 5336, 5337, 5338, 5340, 5344, 5346, 5347, 5351, 5352, 5353, 5355, 5356, 5357, 5358, 5361, 5362, 5364, 5367, 5369, 5370, 5371, 5372, 5373, 5376, 5379, 5381, 5385, 5386, 5387, 5388, 5391, 5394, 5397, 5401, 5404, 5406, 5407, 5408, 5409, 5410, 5411, 5413, 5414, 5417, 5418, 5421, 5422, 5426, 5433, 5437, 5438, 5440, 5442, 5443, 5444, 5445, 5447, 5448, 5449, 5450, 5452, 5454, 5455, 5460, 5461, 5462, 5463, 5466, 5469, 5470, 5475, 5479, 5480, 5482, 5484, 5485, 5486, 5487, 5488, 5490, 5494, 5498, 5504, 5505, 5507, 5515, 5517, 5521, 5525, 5526, 5528, 5529, 5531, 5533, 5534, 5535, 5537, 5538, 5539, 5542, 5545, 5546, 5547, 5548, 5551, 5552, 5553, 5556, 5561, 5562, 5563, 5568, 5569, 5570, 5571, 5573, 5574, 5576, 5577, 5579, 5581, 5582, 5583, 5586, 5591, 5594, 5596, 5609, 5612, 5614, 5615, 5617, 5619, 5620, 5621, 5623, 5625, 5626, 5630, 5632, 5633, 5635, 5639, 5640, 5641, 5644, 5645, 5646, 5648, 5649, 5652, 5654, 5656, 5659, 5661, 5662, 5666, 5668, 5669, 5670, 5674, 5677, 5679, 5681, 5682, 5683, 5685, 5686, 5687, 5690, 5694, 5695, 5696, 5698, 5699, 5701, 5703, 5706, 5707, 5708, 5710, 5711, 5712, 5716, 5718, 5721, 5723, 5724, 5726, 5729, 5730, 5735, 5739, 5740, 5745, 5746, 5748, 5749, 5751, 5752, 5754, 5755, 5756, 5759, 5760, 5761, 5763, 5766, 5768, 5770, 5773, 5774, 5775, 5776, 5778, 5779, 5780, 5781, 5786, 5790, 5791, 5793, 5798, 5799, 5802, 5815, 5820, 5821, 5822, 5823, 5824, 5826, 5827, 5828, 5830, 5831, 5841, 5842, 5843, 5844, 5845, 5846, 5848, 5849, 5850, 5851, 5855, 5856, 5857, 5859, 5860, 5861, 5870, 5871, 5873, 5874, 5878, 5879, 5882, 5885, 5887, 5888, 5889, 5891, 5892, 5893, 5896, 5897, 5899, 5901, 5904, 5906, 5907, 5912, 5915, 5920, 5922, 5924, 5928, 5935, 5938, 5939, 5940, 5948, 5950, 5953, 5954, 5957, 5958, 5959, 5963, 5965, 5966, 5967, 5968, 5971, 5972, 5974, 5975, 5982, 5984, 5992, 5993, 5995, 5996, 5999, 6000, 6003, 6005, 6007, 6008, 6018, 6023, 6026, 6028, 6033, 6034, 6037, 6051, 6060, 6062, 6066, 6067, 6068, 6069, 6071, 6078, 6082, 6084, 6086, 6087, 6090, 6092, 6095, 6098, 6104, 6105, 6106, 6108, 6111, 6113, 6114, 6116, 6117, 6125, 6128, 6129, 6130, 6131, 6135, 6137, 6141, 6142, 6144, 6145, 6147, 6148, 6152, 6153, 6154, 6157, 6158, 6159, 6162, 6165, 6168, 6170, 6174, 6175, 6176, 6177, 6178, 6179, 6180, 6181, 6189, 6190, 6194, 6197, 6203, 6205, 6206, 6212, 6213, 6215, 6216, 6220, 6221, 6223, 6224, 6231, 6232, 6233, 6235, 6236, 6237, 6242, 6246, 6249, 6250, 6255, 6259, 6264, 6265, 6266, 6270, 6274, 6275, 6276, 6279, 6281, 6282, 6283, 6288, 6292, 6296, 6298, 6301, 6302, 6303, 6304, 6305, 6306, 6308, 6309, 6312, 6313, 6317, 6318, 6319, 6323, 6326, 6327, 6328, 6329, 6334, 6337, 6338, 6339, 6342, 6344, 6345, 6352, 6353, 6354, 6356, 6359, 6363, 6364, 6365, 6366, 6367, 6370, 6371, 6372, 6373, 6374, 6377, 6379, 6382, 6384, 6386, 6388, 6390, 6394, 6397, 6399, 6404, 6407, 6408, 6416, 6417, 6419, 6425, 6426, 6427, 6428, 6429, 6431, 6434, 6435, 6438, 6445, 6446, 6447, 6448, 6452, 6453, 6454, 6455, 6458, 6461, 6462, 6464, 6466, 6470, 6475, 6476, 6477, 6480, 6484, 6485, 6488, 6492, 6500, 6504, 6505, 6507, 6509, 6510, 6516, 6517, 6519, 6520, 6521, 6523, 6527, 6529, 6530, 6531, 6535, 6536, 6538, 6541, 6544, 6545, 6547, 6548, 6549, 6550, 6551, 6555, 6557, 6560, 6562, 6564, 6565, 6566, 6570, 6571, 6572, 6574, 6576, 6583, 6584, 6587, 6590, 6596, 6597, 6605, 6606, 6616, 6617, 6623, 6624, 6633, 6636, 6638, 6639, 6644, 6647, 6651, 6652, 6654, 6657, 6661, 6663, 6665, 6666, 6667, 6669, 6673, 6677, 6679, 6681, 6683, 6684, 6685, 6689, 6690, 6691, 6692, 6694, 6697, 6704, 6705, 6708, 6714, 6715, 6716, 6718, 6720, 6724, 6725, 6727, 6728, 6730, 6735, 6736, 6739, 6742, 6745, 6748, 6751, 6752, 6755, 6757, 6758, 6759, 6760, 6761, 6762, 6763, 6765, 6766, 6768, 6773, 6775, 6778, 6780, 6782, 6785, 6786, 6789, 6790, 6802, 6804, 6805, 6809, 6812, 6820, 6822, 6823, 6824, 6831, 6832, 6834, 6838, 6841, 6842, 6844, 6847, 6849, 6850, 6852, 6853, 6854, 6857, 6858, 6859, 6861, 6863, 6869, 6878, 6882, 6887, 6889, 6893, 6896, 6897, 6901, 6906, 6908, 6910, 6916, 6918, 6919, 6921, 6925, 6926, 6927, 6929, 6930, 6934, 6936, 6937, 6938, 6939, 6941, 6943, 6947, 6949, 6950, 6951, 6956, 6959, 6960, 6961, 6962, 6964, 6971, 6973, 6980, 6992, 6996, 6999, 7001, 7002, 7005, 7008, 7010, 7013, 7015, 7018, 7020, 7024, 7025, 7030, 7031, 7033, 7035, 7036, 7038, 7041, 7042, 7045, 7046, 7047, 7048, 7049, 7054, 7055, 7057, 7059, 7062, 7064, 7069, 7070, 7074, 7075, 7076, 7079, 7080, 7082, 7083, 7086, 7087, 7088, 7091, 7092, 7100, 7101, 7105, 7108, 7110, 7112, 7115, 7117, 7118, 7119, 7120, 7125, 7126, 7127, 7128, 7134, 7135, 7140, 7141, 7142, 7143, 7144, 7148, 7149, 7151, 7152, 7154, 7155, 7157, 7159, 7162, 7164, 7166, 7168, 7169, 7171, 7173, 7177, 7178, 7184, 7188, 7190, 7193, 7196, 7197, 7201, 7212, 7215, 7216, 7217, 7220, 7225, 7228, 7229, 7237, 7247, 7248, 7249, 7250, 7252, 7254, 7255, 7258, 7260, 7261, 7263, 7264, 7265, 7266, 7269, 7270, 7271, 7272, 7274, 7277, 7278, 7281, 7286, 7290, 7293, 7294, 7295, 7299, 7300, 7301, 7302, 7305, 7307, 7309, 7310, 7312, 7313, 7314, 7315, 7317, 7319, 7320, 7324, 7325, 7330, 7331, 7333, 7339, 7340, 7341, 7342, 7343, 7344, 7345, 7346, 7347, 7350, 7352, 7353, 7355, 7356, 7357, 7359, 7361, 7364, 7367, 7368, 7370, 7372, 7373, 7374, 7377, 7380, 7382, 7392, 7395, 7396, 7399, 7400, 7403, 7405, 7407, 7408, 7410, 7414, 7419, 7423, 7424, 7425, 7426, 7429, 7432, 7434, 7435, 7436, 7437, 7438, 7443, 7445, 7446, 7447, 7448, 7449, 7453, 7454, 7456, 7460, 7466, 7472, 7473, 7475, 7480, 7481, 7482, 7483, 7484, 7485, 7492, 7493, 7494, 7499, 7500, 7502, 7503, 7506, 7507, 7508, 7510, 7514, 7516, 7519, 7521, 7523, 7524, 7525, 7529, 7531, 7535, 7537, 7541, 7543, 7550, 7553, 7554, 7556, 7557, 7561, 7565, 7570, 7571, 7573, 7575, 7576, 7579, 7582, 7583, 7584, 7585, 7586, 7587, 7588, 7592, 7594, 7601, 7608, 7610, 7611, 7613, 7617, 7619, 7625, 7626, 7627, 7630, 7633, 7636, 7640, 7646, 7653, 7660, 7662, 7669, 7671, 7672, 7673, 7674, 7676, 7679, 7680, 7688, 7691, 7692, 7694, 7696, 7698, 7699, 7702, 7704, 7705, 7706, 7710, 7714, 7720, 7724, 7729, 7730, 7733, 7741, 7743, 7749, 7751, 7754, 7762, 7764, 7765, 7767, 7768, 7770, 7772, 7775, 7776, 7777, 7782, 7783, 7784, 7787, 7790, 7795, 7796, 7798, 7799, 7800, 7801, 7803, 7805, 7806, 7810, 7816, 7817, 7819, 7822, 7823, 7826, 7827, 7828, 7829, 7830, 7831, 7832, 7833, 7839, 7843, 7846, 7847, 7850, 7855, 7857, 7864, 7866, 7869, 7870, 7872, 7881, 7882, 7885, 7890, 7894, 7897, 7898, 7899, 7901, 7903, 7906, 7907, 7911, 7912, 7914, 7918, 7926, 7928, 7929, 7930, 7931, 7932, 7933, 7937, 7942, 7943, 7948, 7949, 7954, 7955, 7956, 7959, 7961, 7965, 7971, 7977, 7979, 7981, 7983, 7984, 7986, 7990, 7992, 7996, 7997, 8001, 8011, 8014, 8015, 8016, 8019, 8031, 8039, 8040, 8041, 8046, 8050, 8053, 8056, 8059, 8061, 8064, 8068, 8073, 8078, 8079, 8083, 8085, 8087, 8090, 8096, 8099, 8100, 8101, 8102, 8104, 8105, 8109, 8116, 8117, 8119, 8123, 8128, 8130, 8131, 8135, 8137, 8138, 8139, 8142, 8145, 8146, 8147, 8151, 8156, 8158, 8165, 8171, 8173, 8178, 8179, 8180, 8182, 8183, 8185, 8187, 8189, 8191, 8193, 8194, 8196, 8204, 8205, 8207, 8210, 8212, 8213, 8215, 8216, 8219, 8222, 8229, 8230, 8232, 8237, 8238, 8241, 8250, 8254, 8255, 8258, 8261, 8262, 8263, 8265, 8266, 8268, 8269, 8273, 8275, 8276, 8277, 8280, 8290, 8298, 8299, 8302, 8303, 8307, 8310, 8311, 8313, 8314, 8317, 8321, 8322, 8323, 8331, 8333, 8335, 8339, 8341, 8342, 8344, 8350, 8355, 8362, 8363, 8366, 8369, 8370, 8373, 8380, 8382, 8383, 8386, 8390, 8395, 8402, 8403, 8411, 8412, 8415, 8420, 8423, 8424, 8430, 8431, 8436, 8439, 8441, 8442, 8444, 8451, 8452, 8456, 8457, 8460, 8461, 8463, 8466, 8467, 8469, 8470, 8471, 8473, 8474, 8478, 8479, 8481, 8483, 8486, 8488, 8491, 8492, 8496, 8499, 8500, 8501, 8508, 8509, 8512, 8515, 8516, 8520, 8521, 8526, 8530, 8532, 8541, 8549, 8565, 8568, 8573, 8580, 8581, 8582, 8583, 8588, 8589, 8590, 8595, 8599, 8600, 8601, 8605, 8608, 8609, 8612, 8614, 8622, 8624, 8628, 8630, 8640, 8658, 8666, 8668, 8670, 8676, 8677, 8680, 8681, 8685, 8689, 8690, 8691, 8692, 8697, 8698, 8699, 8703, 8704, 8714, 8717, 8719, 8724, 8728, 8730, 8735, 8739, 8747, 8748, 8749, 8751, 8753, 8769, 8772, 8778, 8781, 8790, 8791, 8793, 8797, 8798, 8799, 8803, 8807, 8808, 8816, 8818, 8819, 8820, 8821, 8822, 8827, 8828, 8830, 8833, 8840, 8850, 8852, 8857, 8858, 8859, 8861, 8869, 8870, 8872, 8873, 8875, 8880, 8888, 8890, 8893, 8894, 8899, 8900, 8906, 8911, 8912, 8914, 8915, 8916, 8918, 8919, 8922, 8923, 8924, 8928, 8930, 8935, 8940, 8943, 8948, 8953, 8955, 8962, 8966, 8970, 8976, 8979, 8981, 8988, 8992, 8993, 8994, 8997, 9000, 9005, 9012, 9015, 9018, 9020, 9024, 9026, 9027, 9030, 9032, 9034, 9038, 9039, 9040, 9043, 9044, 9050, 9054, 9055, 9058, 9059, 9066, 9068, 9074, 9075, 9077, 9079, 9081, 9083, 9088, 9090, 9096, 9110, 9111, 9115, 9118, 9122, 9124, 9126, 9137, 9138, 9145, 9148, 9149, 9150, 9152, 9154, 9155, 9156, 9158, 9160, 9165, 9168, 9171, 9181, 9195, 9196, 9198, 9205, 9209, 9210, 9211, 9214, 9217, 9219, 9221, 9222, 9223, 9225, 9228, 9232, 9233, 9237, 9240, 9244, 9247, 9248, 9251, 9255, 9257, 9259, 9261, 9262, 9266, 9281, 9282, 9286, 9290, 9292, 9301, 9303, 9307, 9315, 9320, 9323, 9325, 9330, 9331, 9334, 9335, 9336, 9340, 9341, 9342, 9344, 9345, 9349, 9350, 9364, 9369, 9371, 9372, 9375, 9377, 9381, 9382, 9383, 9384, 9385, 9387, 9962, 9964, 9967, 9968, 9973, 9974, 9976, 9980, 9987, 9996, 9998, 9999, 10000, 10001, 10002, 10011, 10012, 10023, 10026, 10031, 10038, 10039, 10044, 10046, 10047, 10051, 10054, 10056, 10057, 10058, 10059, 10067, 10077, 10079, 10081, 10084, 10086, 10091, 10096, 10100, 10101, 10102, 10104, 10105, 10116, 10118, 10128, 10138, 10143, 10146, 10148, 10156, 10157, 10159, 10161, 10163, 10165, 10167, 10176, 10178, 10188, 10194, 10195, 10196, 10198, 10201, 10202, 10209, 10210, 10214, 10217, 10219, 10220, 10221, 10226, 10227, 10228, 10229, 10235, 10238, 10240, 10243, 10244, 10246, 10250, 10253, 10254, 10255, 10259, 10260, 10265, 10272, 10278, 10283, 10284, 10285, 10289, 10290, 10298, 10299, 10302, 10307, 10308, 10312, 10313, 10316, 10318, 10320, 10324, 10326, 10327, 10329, 10330, 10331, 10338, 10339, 10342, 10343, 10345, 10346, 10347, 10348, 10351, 10354, 10358, 10361, 10368, 10369, 10370, 10377, 10389, 10393, 10397, 10399, 10400, 10405, 10417, 10418, 10420, 10424, 10425, 10427, 10430, 10437, 10443, 10444, 10445, 10453, 10462, 10463, 10466, 10473, 10475, 10477, 10478, 10479, 10481, 10484, 10485, 10487, 10488, 10492, 10494, 10497, 10503, 10505, 10507, 10509, 10510, 10511, 10515, 10516, 10517, 10518, 10519, 10520, 10521, 10522, 10523, 10525, 10530, 10531, 10535, 10537, 10554, 10556, 10559, 10561, 10563, 10565, 10568, 10571, 10583, 10584, 10588, 10593, 10599, 10602, 10609, 10610, 10612, 10617, 10618, 10620, 10621, 10622, 10623, 10625, 10630, 10631, 10633, 10640, 10645, 10647, 10650, 10652, 10657, 10663, 10670, 10675, 10676, 10690, 10694, 10695, 10700, 10702, 10705, 10713, 10715, 10720, 10722, 10735, 10739, 10740, 10747, 10748, 10754, 10767, 10769, 10771, 10772, 10776, 10778, 10784, 10786, 10789, 10793, 10804, 10806, 10807, 10817, 10822, 10826, 10828, 10843, 10844, 10845, 10852, 10853, 10854, 10858, 10861, 10869, 10872, 10878, 10882, 10890, 10892, 10901, 10914, 10915, 10917, 10922, 10923, 10927, 10928, 10929, 10932, 10933, 10935, 10936, 10939, 10941, 10942, 10943, 10947, 10951, 10954, 10958, 10962, 10967, 10968, 10969, 10970, 10974, 10975, 10976, 10978, 10985, 10986, 10988, 10989, 10991, 10992, 10999, 11001, 11005, 11008, 11018, 11021, 11024, 11029, 11041, 11043, 11046, 11048, 11049, 11054, 11055, 11056, 11061, 11065, 11068, 11073, 11081, 11086, 11092, 11093, 11094, 11098, 11112, 11114, 11116, 11126, 11127, 11128, 11130, 11138, 11139, 11141, 11142, 11143, 11147, 11152, 11165, 11180, 11186, 11191, 11192, 11193, 11194, 11203, 11205, 11208, 11220, 11224, 11227, 11240, 11244, 11246, 11264, 11273, 11274, 11275, 11276, 11279, 11280, 11284, 11289, 11290, 11295, 11300, 11301, 11308, 11311, 11312, 11317, 11331, 11332, 11339, 11341, 11345, 11352, 11356, 11370, 11376, 11378, 11382, 11384, 11387, 11390, 11391, 11401, 11406, 11407, 11408, 11413, 11418, 11420, 11424, 11430, 11431, 11438, 11441, 11444, 11446, 11448, 11457, 11459, 11460, 11461, 11462, 11463, 11465, 11468, 11470, 11471, 11472, 11474, 11476, 11480, 11483, 11486, 11487, 11489, 11490, 11492, 11493, 11496, 11503, 11505, 11506, 11509, 11510, 11517, 11518, 11522, 11529, 11530, 11536, 11537, 11550, 11554, 11561, 11565, 11571, 11574, 11578, 11579, 11584, 11585, 11586, 11589, 11594, 11595, 11600, 11605, 11613, 11619, 11624, 11626, 11629, 11638, 11641, 11645, 11646, 11651, 11656, 11658, 11661, 11665, 11670, 11671, 11672, 11675, 11679, 11686, 11687, 11702, 11707, 11712, 11735, 11736, 11737, 11740, 11745, 11757, 11765, 11773, 11777, 11778, 11785, 11787, 11791, 11792, 11793, 11794, 11801, 11803, 11819, 11831, 11840, 11842, 11843, 11851, 11856, 11858, 11859, 11860, 11862, 11863, 11864, 11865, 11870, 11874, 11879, 11884, 11892, 11893, 11895, 11901, 11907, 11912, 11917, 11945, 11946, 11949, 11952, 11954, 11955, 11961, 11976, 11977, 11982, 11983, 11987, 11992, 11996, 11999, 12003, 12009, 12010, 12021, 12022, 12023, 12026, 12032, 12040, 12041, 12046, 12061, 12062, 12069, 12075, 12076, 12077, 12081, 12085, 12086, 12088, 12093, 12096, 12103, 12111, 12112, 12113, 12119, 12120, 12127, 12133, 12134, 12141, 12142, 12154, 12166, 12167, 12169, 12177, 12178, 12180, 12181, 12182, 12186, 12188, 12190, 12205, 12215, 12217, 12224, 12226, 12228, 12238, 12239, 12240, 12242, 12245, 12247, 12252, 12254, 12258, 12265, 12266, 12269, 12274, 12278, 12292, 12293, 12296, 12297, 12315, 12319, 12334, 12335, 12340, 12354, 12355, 12357, 12360, 12364, 12365, 12371, 12372, 12380, 12381, 12386, 12387, 12389, 12396, 12398, 12410, 12413, 12420, 12424, 12432, 12443, 12466, 12467, 12474, 12476, 12485, 12487, 12493, 12500, 12502, 12508, 12514, 12520, 12529, 12534, 12545, 12551, 12553, 12557, 12561, 12564, 12565, 12580, 12583, 12584, 12589, 12593, 12599, 12601, 12608, 12616, 12617, 12622, 12625, 12630, 12648, 12654, 12657, 12660, 12664, 12665, 12667, 12669, 12671, 12686, 12687, 12689, 12695, 12696, 12709, 12711, 12719, 12720, 12724, 12725, 12727, 12740, 12743, 12744, 12749, 12750, 12751, 12767, 12770, 12771, 12778, 12779, 12782, 12789, 12793, 12795, 12797, 12799, 12800, 12801, 12807, 12808, 12810, 12834, 12836, 12838, 12848, 12849, 12850, 12854, 12855, 12856, 12859, 12861, 12865, 12866, 12872, 12874, 12875, 12877, 12881, 12885, 12889, 12894, 12897, 12903, 12905, 12906, 12909, 12943, 12950, 12966, 12972, 12973, 12975, 12977, 12982, 12984, 12986, 12989, 12991, 12997, 13000, 13001, 13002, 13020, 13022, 13023, 13027, 13029, 13031, 13032, 13040, 13041, 13042, 13045, 13064, 13071, 13077, 13094, 13096, 13107, 13113, 13121, 13123, 13131, 13133, 13134, 13140, 13148, 13150, 13151, 13158, 13161, 13168, 13184, 13185, 13187, 13191, 13193, 13194, 13205, 13212, 13218, 13231, 13235, 13238, 13240, 13241, 13246, 13247, 13252, 13255, 13260, 13270, 13281, 13282, 13286, 13287, 13308, 13311, 13313, 13316, 13318, 13324, 13338, 13339, 13340, 13346, 13349, 13351, 13359, 13361, 13362, 13363, 13369, 13370, 13371, 13375, 13383, 13384, 13389, 13391, 13399, 13400, 13403, 13404, 13407, 13411, 13413, 13419, 13425, 13427, 13429, 13432, 13433, 13438, 13439, 13442, 13445, 13450, 13459, 13465, 13466, 13470, 13472, 13479, 13495, 13498, 13499, 13523, 13534, 13535, 13537, 13547, 13549, 13552, 13553, 13557, 13558, 13561, 13563, 13565, 13566, 13569, 13572, 13573, 13575, 13579, 13580, 13582, 13586, 13588, 13591, 13592, 13597, 13612, 13613, 13617, 13620, 13630, 13635, 13644, 13646, 13654, 13660, 13662, 13665, 13670, 13671, 13672, 13673, 13674, 13675, 13677, 13678, 13682, 13689, 13699, 13700, 13701, 13705, 13707, 13708, 13709, 13716, 13718, 13719, 13720, 13721, 13723, 13731, 13733, 13734, 13737, 13742, 13745, 13746, 13748, 13750, 13751, 13755, 13757, 13760, 13765, 13773, 13777, 13782, 13786, 13788, 13790, 13796, 13816, 13818, 13819, 13833, 13838, 13839, 13845, 13850, 13852, 13853, 13862, 13863, 13866, 13877, 13880, 13892, 13894, 13898, 13905, 13907, 13912, 13913, 13914, 13916, 13918, 13921, 13924, 13930, 13932, 13946, 13947, 13954, 13967, 13968, 13969, 13973, 13976, 13985, 13992, 13996, 13999, 14001, 14002, 14007, 14019, 14020, 14024, 14027, 14028, 14029, 14031, 14035, 14046, 14047, 14055, 14056, 14063, 14066, 14069, 14070, 14074, 14078, 14085, 14087, 14091, 14093, 14102, 14104, 14106, 14109, 14112, 14115, 14116, 14118, 14121, 14127, 14132, 14137, 14145, 14148, 14149, 14150, 14154, 14156, 14159, 14165, 14166, 14171, 14175, 14178, 14180, 14185, 14186, 14188, 14193, 14197, 14217, 14220, 14221, 14228, 14232, 14233, 14235, 14237, 14245, 14246, 14248, 14252, 14253, 14254, 14262, 14269, 14271, 14273, 14276, 14280, 14282, 14284, 14285, 14286, 14294, 14298, 14299, 14314, 14315, 14317, 14319, 14323, 14324, 14326, 14336, 14343, 14345, 14351, 14355, 14358, 14368, 14372, 14374, 14377, 14391, 14404, 14406, 14408, 14409, 14418, 14444, 14459, 14464, 14465, 14468, 14477, 14513, 14515, 14524, 14531, 14532, 14534, 14538, 14550, 14551, 14557, 14563, 14564, 14572, 14576, 14579, 14580, 14582, 14585, 14589, 14590, 14591, 14599, 14600, 14605, 14606, 14619, 14623, 14624, 14625, 14628, 14634, 14637, 14638, 14641, 14646, 14648, 14650, 14656, 14665, 14669, 14679, 14680, 14683, 14687, 14688, 14697, 14701, 14707, 14712, 14714, 14718, 14723, 14729, 14747, 14750, 14757, 14786, 14787, 14799, 14802, 14803, 14809, 14828, 14829, 14830, 14832, 14836, 14837, 14838, 14861, 14862, 14868, 14884, 14901, 14912, 14914, 14919, 14924, 14925, 14937, 14938, 14958, 14959, 14960, 14961, 14962, 14965, 14966, 14967, 14970, 14975, 14982, 14987, 15002, 15008, 15010, 15012, 15017, 15024, 15037, 15040, 15042, 15044, 15045, 15048, 15055, 15057, 15058, 15059, 15062, 15064, 15066, 15068, 15071, 15073, 15077, 15083, 15094, 15097, 15098, 15103, 15104, 15105, 15108, 15120, 15121, 15127, 15128, 15132, 15135, 15143, 15149, 15156, 15157, 15159, 15160, 15163, 15165, 15166, 15175, 15180, 15184, 15187, 15191, 15193, 15194, 15195, 15197, 15224, 15231, 15242, 15246, 15261, 15265, 15266, 15268, 15269, 15276, 15278, 15282, 15285, 15287, 15289, 15292, 15296, 15297, 15299, 15301, 15303, 15307, 15308, 15309, 15314, 15316, 15318, 15319, 15320, 15321, 15323, 15324, 15325, 15326, 15342, 15346, 15347, 15352, 15354, 15384, 15390, 15398, 15399, 15401, 15406, 15417, 15418, 15419, 15444, 15446, 15448, 15459, 15460, 15462, 15465, 15469, 15472, 15476, 15479, 15486, 15488, 15489, 15498, 15505, 15507, 15509, 15517, 15521, 15530, 15537, 15540, 15558, 15567, 15568, 15578, 15580, 15583, 15591, 15595, 15597, 15601, 15606, 15616, 15634, 15635, 15645, 15646, 15653, 15660, 15669, 15671, 15672, 15674, 15681, 15682, 15683, 15707, 15709, 15722, 15731, 15751, 15780, 15781, 15784, 15787, 15788, 15794, 15798, 15799, 15826, 15830, 15842, 15848, 15856, 15866, 15868, 15870, 15871, 15873, 15874, 15886, 15888, 15889, 15913, 15925, 15933, 15937, 15948, 15957, 15963, 15973, 15978, 15979, 15980, 15984, 15993, 15996, 15997, 15998, 16004, 16011, 16014, 16020, 16030, 16042, 16046, 16048, 16051, 16053, 16056, 16058, 16061, 16064, 16066, 16067, 16073, 16076, 16078, 16079, 16101, 16106, 16108, 16124, 16127, 16128, 16131, 16132, 16144, 16151, 16154, 16183, 16185, 16188, 16191, 16204, 16206, 16209, 16210, 16211, 16214, 16217, 16219, 16238, 16252, 16256, 16259, 16262, 16265, 16269, 16274, 16276, 16280, 16286, 16291, 16301, 16305, 16313, 16316, 16322, 16323, 16331, 16336, 16337, 16339, 16354, 16366, 16370, 16386, 16397, 16401, 16404, 16405, 16406, 16409, 16413, 16421, 16422, 16424, 16428, 16430, 16432, 16434, 16439, 16441, 16443, 16449, 16450, 16453, 16464, 16466, 16496, 16498, 16510, 16511, 16527, 16535, 16538, 16546, 16549, 16553, 16558, 16561, 16568, 16581, 16584, 16593, 16610, 16612, 16616, 16621, 16623, 16628, 16630, 16631, 16636, 16639, 16641, 16642, 16643, 16644, 16647, 16658, 16667, 16670, 16675, 16677, 16685, 16687, 16700, 16701, 16708, 16718, 16723, 16725, 16726, 16733, 16734, 16748, 16753, 16768, 16769, 16772, 16779, 16782, 16785, 16786, 16788, 16792, 16798, 16804, 16820, 16837, 16839, 16844, 16850, 16853, 16860, 16864, 16867, 16874, 16875, 16877, 16882, 16887, 16889, 16897, 16900, 16906, 16914, 16918, 16923, 16928, 16930, 16934, 16936, 16937, 16943, 16945, 16947, 16948, 16953, 16956, 16959, 16968, 16977, 16979, 16984, 17008, 17009, 17018, 17023, 17024, 17027, 17033, 17038, 17039, 17043, 17047, 17049, 17055, 17061, 17069, 17071, 17072, 17075, 17080, 17087, 17088, 17090, 17096, 17097, 17100, 17102, 17105, 17116, 17119, 17138, 17139, 17157, 17161, 17164, 17168, 17169, 17171, 17173, 17177, 17179, 17180, 17181, 17183, 17208, 17209, 17216, 17227, 17252, 17260, 17270, 17281, 17290, 17311, 17312, 17317, 17337, 17339, 17349, 17364, 17365, 17369, 17375, 17380, 17382, 17383, 17387, 17388, 17390, 17392, 17393, 17404, 17405, 17406, 17408, 17411, 17413, 17415, 17425, 17432, 17434, 17436, 17444, 17449, 17450, 17451, 17457, 17461, 17465, 17469, 17479, 17513, 17514, 17516, 17517, 17526, 17537, 17550, 17552, 17561, 17563, 17587, 17610, 17611, 17619, 17620, 17643, 17644, 17645, 17662, 17666, 17668, 17671, 17691, 17692, 17697, 17700, 17723, 17725, 17741, 17745, 17758, 17761, 17763, 17777, 17778, 17780, 17785, 17794, 17806, 17811, 17817, 17818, 17820, 17821, 17823, 17827, 17837, 17838, 17840, 17842, 17845, 17874, 17881, 17884, 17887, 17888, 17889, 17893, 17911, 17912, 17915, 17926, 17927, 17928, 17946, 17953, 17955, 17962, 17965, 17966, 17980, 17992, 17997, 18003, 18008, 18010, 18013, 18038, 18039, 18040, 18043, 18044, 18054, 18061, 18062, 18064, 18065, 18066, 18068, 18069, 18071, 18073, 18080, 18086, 18088, 18092, 18093, 18094, 18108, 18120, 18125, 18131, 18138, 18149, 18156, 18160, 18165, 18167, 18169, 18176, 18178, 18180, 18188, 18189, 18190, 18192, 18201, 18202, 18203, 18219, 18229, 18239, 18253, 18268, 18276, 18283, 18284, 18325, 18346, 18347, 18359, 18367, 18378, 18382, 18387, 18402, 18405, 18412, 18426, 18436, 18437, 18440, 18444, 18450, 18480, 18481, 18485, 18516, 18519, 18526, 18541, 18549, 18572, 18575, 18582, 18583, 18595, 18609, 18612, 18615, 18619, 18622, 18623, 18626, 18627, 18643, 18656, 18674, 18675, 18677, 18682, 18685, 18700, 18701, 18702, 18717, 18720, 18722, 18726, 18734, 18737, 18758, 18760, 18769, 18771, 18774, 18776, 18789, 18793, 18810, 18818, 18826, 18832, 18852, 18859, 18866, 18867, 18876, 18880, 18881, 18892, 18899, 18903, 18922, 18923, 18924, 18926, 18933, 18939, 18947, 18952, 18956, 18970, 18973, 18977, 18978, 18993, 19002, 19014, 19016, 19020, 19024, 19033, 19037, 19038, 19055, 19059, 19067, 19070, 19072, 19076, 19088, 19104, 19113, 19117, 19124, 19138, 19142, 19143, 19144, 19145, 19146, 19149, 19150, 19160, 19161, 19171, 19175, 19176, 19177, 19181, 19187, 19194, 19211, 19212, 19215, 19222, 19227, 19228, 19230, 19237, 19243, 19246, 19249, 19250, 19257, 19262, 19325, 19330, 19340, 19349, 19356, 19358, 19368, 19374, 19381, 19385, 19397, 19402, 19404, 19412, 19425, 19431, 19451, 19456, 19463, 19467, 19485, 19491, 19494, 19528, 19531, 19532, 19535, 19542, 19546, 19548, 19570, 19584, 19589, 19592, 19599, 19601, 19606, 19615, 19623, 19625, 19632, 19638, 19642, 19649, 19653, 19671, 19672, 19673, 19678, 19683, 19684, 19687, 19694, 19704, 19722, 19723, 19724, 19730, 19733, 19741, 19742, 19747, 19752, 19760, 19761, 19765, 19773, 19776, 19777, 19781, 19785, 19788, 19791, 19799, 19802, 19803, 19804, 19816, 19818, 19850, 19852, 19901, 19906, 19911, 19916, 19917, 19955, 19956, 19961, 19970, 19972, 19993, 19997, 19999, 20014, 20018, 20023, 20024, 20033, 20037, 20038, 20039, 20042, 20060, 20063, 20064, 20066, 20068, 20072, 20076, 20091, 20103, 20107, 20108, 20124, 20127, 20139, 20149, 20151, 20182, 20184, 20192, 20193, 20219, 20235, 20240, 20241, 20244, 20246, 20260, 20264, 20268, 20269, 20276, 20303, 20313, 20314, 20317, 20318, 20320, 20339, 20353, 20358, 20366, 20370, 20393, 20395, 20398, 20411, 20421, 20441, 20449, 20462, 20472, 20477, 20479, 20491, 20500, 20511, 20528, 20535, 20537, 20542, 20544, 20545, 20559, 20560, 20562, 20566, 20577, 20580, 20581, 20588, 20589, 20598, 20602, 20611, 20612, 20613, 20616, 20629, 20639, 20643, 20656, 20658, 20659, 20670, 20671, 20678, 20687, 20692, 20693, 20695, 20711, 20728, 20734, 20736, 20739, 20740, 20741, 20744, 20745, 20757, 20759, 20761, 20770, 20771, 20772, 20773, 20774, 20778, 20780, 20783, 20788, 20798, 20803, 20807, 20823, 20826, 20835, 20847, 20848, 20852, 20853, 20854, 20855, 20858, 20873, 20877, 20904, 20913, 20915, 20916, 20917, 20938, 20942, 20943, 20966, 20974, 20976, 20977, 20980, 20982, 20987, 20993, 20997, 20998, 21015, 21018, 21034, 21040, 21041, 21046, 21048, 21067, 21079, 21098, 21100, 21110, 21120, 21125, 21126, 21136, 21137, 21138, 21139, 21144, 21145, 21147, 21149, 21151, 21159, 21161, 21163, 21180, 21188, 21189, 21193, 21199, 21200, 21205, 21206, 21207, 21213, 21216, 21221, 21222, 21224, 21230, 21237, 21243, 21246, 21248, 21254, 21256, 21261, 21267, 21279, 21280, 21290, 21293, 21296, 21303, 21309, 21321, 21329, 21332, 21334, 21360, 21374, 21375, 21379, 21381, 21384, 21398, 21404, 21414, 21415, 21435, 21446, 21456, 21457, 21459, 21468, 21482, 21513, 21525, 21526, 21532, 21534, 21537, 21540, 21544, 21546, 21555, 21556, 21566, 21569, 21572, 21576, 21577, 21578, 21579, 21588, 21590, 21591, 21592, 21594, 21597, 21608, 21609, 21621, 21628, 21629, 21640, 21641, 21646, 21666, 21673, 21678, 21683, 21702, 21703, 21706, 21708, 21712, 21716, 21718, 21723, 21726, 21732, 21733, 21736, 21740, 21743, 21750, 21754, 21758, 21775, 21786, 21789, 21794, 21805, 21817, 21819, 21834, 21840, 21858, 21868, 21872, 21873, 21882, 21887, 21889, 21897, 21899, 21914, 21915, 21917, 21921, 21928, 21946, 21948, 21953, 21959, 21966, 21978, 21979, 22028, 22029, 22030, 22036, 22042, 22046, 22047, 22051, 22057, 22060, 22061, 22062, 22085, 22089, 22090, 22097, 22101, 22109, 22117, 22123, 22135, 22136, 22146, 22154, 22155, 22158, 22191, 22209, 22218, 22220, 22231, 22245, 22284, 22285, 22289, 22294, 22300, 22302, 22306, 22308, 22309, 22321, 22329, 22348, 22353, 22358, 22359, 22367, 22375, 22376, 22384, 22385, 22393, 22411, 22423, 22436, 22445, 22449, 22452, 22464, 22466, 22475, 22477, 22486, 22490, 22498, 22500, 22509, 22518, 22520, 22532, 22573, 22588, 22602, 22622, 22631, 22632, 22633, 22650, 22677, 22701, 22702, 22706, 22707, 22708, 22761, 22764, 22782, 22784, 22793, 22800, 22811, 22814, 22822, 22826, 22836, 22837, 22841, 22842, 22852, 22856, 22858, 22864, 22865, 22891, 22913, 22916, 22918, 22921, 22933, 22937, 22950, 22957, 22959, 22971, 22974, 22983, 22995, 22997, 23009, 23036, 23050, 23084, 23098, 23099, 23108, 23119, 23120, 23156, 23167, 23189, 23192, 23222, 23225, 23231, 23301, 23315, 23318, 23331, 23333, 23336, 23337, 23338, 23343, 23377, 23378, 23384, 23385, 23386, 23389, 23390, 23398, 23399, 23404, 23406, 23411, 23418, 23431, 23437, 23457, 23462, 23468, 23469, 23477, 23480, 23481, 23485, 23495, 23496, 23513, 23516, 23525, 23553, 23555, 23577, 23595, 23596, 23607, 23632, 23647, 23648, 23663, 23665, 23680, 23683, 23688, 23698, 23700, 23701, 23703, 23705, 23708, 23709, 23712, 23719, 23722, 23724, 23740, 23745, 23749, 23754, 23761, 23800, 23818, 23820, 23822, 23838, 23839, 23852, 23868, 23872, 23875, 23886, 23898, 23909, 23912, 23928, 23932, 23946, 23948, 23967, 23968, 23970, 23985, 23991, 24012, 24013, 24021, 24060, 24067, 24093, 24108, 24133, 24142, 24143, 24148, 24156, 24180, 24184, 24195, 24205, 24206, 24235, 24239, 24240, 24257, 24259, 24284, 24287, 24296, 24301, 24307, 24309, 24312, 24338, 24342, 24349, 24352, 24372, 24379, 24385, 24399, 24412, 24416, 24428, 24459, 24471, 24477, 24528, 24546, 24562, 24576, 24635, 24637, 24643, 24650, 24662, 24674, 24720, 24734, 24737, 24747, 24769, 24781, 24843, 24845, 24853, 24895, 24899, 24906, 24908, 24934, 24948, 24949, 24952, 24955, 24972, 25004, 25009, 25012, 25055, 25056, 25060, 25065, 25072, 25077, 25136, 25140, 25196, 25197, 25206, 25250, 25261, 25275, 25307, 25323, 25345, 25346, 25350, 25381, 25410, 25412, 25422, 25431, 25458, 25473, 25474, 25478, 25484, 25487, 25491, 25526, 25545, 25560, 25566, 25570, 25575, 25577, 25578, 25582, 25591, 25606, 25630, 25639, 25651, 25654, 25660, 25669, 25673, 25674, 25677, 25678, 25689, 25690, 25701, 25708, 25724, 25755, 25756, 25795, 25814, 25817, 25819, 25822, 25844, 25846, 25884, 25886, 25894, 25919, 25924, 25925, 25928, 25929, 25953, 25986, 25988, 25994, 26001, 26013, 26015, 26043, 26046, 26087, 26092, 26103, 26105, 26133, 26137, 26174, 26189, 26197, 26212, 26249, 26253, 26260, 26267, 26305, 26324, 26332, 26342, 26344, 26347, 26362, 26365, 26369, 26373, 26396, 26399, 26402, 26403, 26408, 26420, 26421, 26422, 26424, 26445, 26449, 26450, 26468, 26484, 26590, 26593, 26598, 26610, 26629, 26637, 26646, 26647, 26648, 26649, 26669, 26680, 26684, 26686, 26693, 26710, 26727, 26742, 26750, 26753, 26769, 26776, 26854, 26855, 26875, 26878, 26927, 26932, 26951, 26957, 26958, 26966, 26995, 26999, 27025, 27028, 27049, 27063, 27066, 27071, 27072, 27088, 27099, 27100, 27101, 27110, 27124, 27127, 27128, 27133, 27155, 27180, 27188, 27204, 27206, 27336, 27354, 27373, 27404, 27450, 27459, 27460, 27497, 27499, 27543, 27570, 27592, 27593, 27619, 27621, 27628, 27644, 27649, 27653, 27673, 27706, 27726, 27734, 27753, 27756, 27760, 27804, 27817, 27848, 27863, 27881, 27899, 27901, 27927, 27934, 28001, 28003, 28049, 28085, 28103, 28104, 28149, 28152, 28163, 28184, 28192, 28221, 28230, 28236, 28250, 28286, 28294, 28317, 28320, 28323, 28348, 28367, 28387, 28433, 28440, 28447, 28472, 28490, 28504, 28513, 28518, 28520, 28523, 28555, 28617, 28622, 28638, 28671, 28688, 28699, 28713, 28762, 28769, 28775, 28810, 28815, 28831, 28832, 28872, 28917, 28926, 28950, 28955, 29005, 29010, 29025, 29028, 29060, 29062, 29097, 29110, 29165, 29201, 29223, 29238, 29248, 29264, 29265, 29269, 29272, 29305, 29315, 29363, 29364, 29365, 29406, 29407, 29419, 29427, 29459, 29467, 29475, 29481, 29489, 29493, 29500, 29506, 29519, 29524, 29566, 29575, 29587, 29646, 29648, 29650, 29652, 29671, 29672, 29682, 29692, 29693, 29700, 29702, 29709, 29716, 29729, 29736, 29749, 29784, 29837, 29843, 29856, 29867, 29891, 29922, 29924, 30031, 30062, 30064, 30083, 30085, 30131, 30148, 30187, 30194, 30232, 30256, 30257, 30270, 30336, 30376, 30391, 30399, 30420, 30422, 30497, 30531, 30533, 30534, 30535, 30553, 30584, 30589, 30591, 30593, 30601, 30637, 30666, 30688, 30724, 30795, 30804, 30816, 30833, 30926, 30943, 30965, 30983, 30997, 31023, 31030, 31034, 31052, 31058, 31062, 31064, 31075, 31080, 31084, 31114, 31137, 31141, 31143, 31149, 31167, 31182, 31183, 31226, 31242, 31266, 31296, 31342, 31343, 31394, 31421, 31465, 31527, 31550, 31587, 31637, 31702, 31739, 31775, 31782, 31785, 31789, 31793, 31807, 31835, 31848, 31892, 32164, 32175, 32200, 32201, 32218, 32243, 32251, 32287, 32292, 32300, 32306, 32330, 32365, 32393, 32397, 32400, 32414, 32429, 32430, 32443, 32462, 32473, 32485, 32505, 32508, 32537, 32540, 32542, 32553, 32558, 32569, 32580, 32606, 32622, 32626, 32634, 32647, 32648, 32652, 32653, 32687, 32696, 32731, 32732, 32769, 32782, 32827, 32843, 32875, 32911, 32930, 32954, 32981, 33022, 33130, 33131, 33135, 33167, 33168, 33197, 33199, 33214, 33227, 33236, 33256, 33263, 33271, 33290, 33299, 33306, 33314, 33326, 33333, 33365, 33380, 33389, 33392, 33398, 33427, 33433, 33449, 33453, 33460, 33475, 33511, 33521, 33538, 33569, 33588, 33596, 33601, 33606, 33624, 33634, 33650, 33660, 33674, 33717, 33770, 33774, 33781, 33783, 33792, 33805, 33810, 33817, 33818, 33836, 33846, 33891, 33916, 34000, 34027, 34037, 34068, 34070, 34097, 34103, 34127, 34145, 34175, 34200, 34202, 34231, 34233, 34245, 34249, 34271, 34280, 34281, 34284, 34307, 34341, 34350, 34374, 34397, 34432, 34455, 34456, 34469, 34478, 34484, 34502, 34505, 34509, 34519, 34526, 34532, 34574, 34578, 34602, 34627, 34628, 34634, 34673, 34705, 34733, 34745, 34777, 34804, 34911, 34951, 34966, 34977, 34990, 34994, 35017, 35021, 35027, 35043, 35076, 35085, 35153, 35162, 35208, 35211, 35212, 35265, 35267, 35327, 35353, 35389, 35396, 35430, 35431, 35442, 35449, 35461, 35465, 35471, 35482, 35493, 35499, 35500, 35508, 35558, 35561, 35562, 35600, 35603, 35610, 35659, 35673, 35711, 35713, 35731, 35746, 35761, 35777, 35781, 35798, 35799, 35802, 35812, 35814, 35816, 35830, 35831, 35849, 35852, 35858, 35872, 35873, 35874, 35905, 35915, 35916, 35930, 35987, 35989, 35998, 36016, 36025, 36107, 36108, 36109, 36118, 36122, 36123, 36149, 36152, 36174, 36181, 36191, 36195, 36236, 36239, 36241, 36242, 36245, 36274, 36289, 36321, 36359, 36389, 36390, 36394, 36412, 36414, 36417, 36421, 36425, 36433, 36434, 36472, 36549, 36550, 36551, 36601, 36614, 36616, 36633, 36684, 36686, 36746, 36748, 36785, 36786, 36791, 36835, 36836, 36841, 36881, 36911, 36956, 37006, 37014, 37020, 37034, 37041, 37046, 37051, 37061, 37065, 37081, 37123, 37129, 37130, 37137, 37145, 37208, 37217, 37221, 37230, 37297, 37330, 37352, 37356, 37429, 37432, 37437, 37438, 37441, 37445, 37451, 37462, 37464, 37488, 37492, 37503, 37504, 37535, 37583, 37637, 37658, 37659, 37660, 37661, 37664, 37665, 37667, 37673, 37682, 37693, 37708, 37723, 37732, 37740, 37789, 37802, 37812, 37815, 37860, 37870, 37890, 37892, 37897, 37929, 37938, 37954, 37974, 37987, 38016, 38018, 38024, 38063, 38069, 38077, 38086, 38097, 38099, 38100, 38111, 38115, 38118, 38128, 38146, 38147, 38154, 38157, 38159, 38162, 38175, 38179, 38196, 38207, 38212, 38215, 38223, 38224, 38272, 38284, 38298, 38299, 38348, 38365, 38374, 38381, 38407, 38474, 38550, 38555, 38567, 38568, 38573, 38582, 38609, 38617, 38666, 38675, 38725, 38766, 38767, 38792, 38797, 38798, 38851, 38857, 38870, 38920, 38925, 38952, 38953, 38956, 38957, 38972, 38977, 38982, 38995, 39016, 39020, 39026, 39036, 39039, 39045, 39050, 39061, 39075, 39077, 39134, 39174, 39211, 39222, 39240, 39242, 39246, 39255, 39257, 39281, 39328, 39329, 39335, 39340, 39359, 39407, 39417, 39445, 39456, 39485, 39492, 39518, 39526, 39530, 39606, 39613, 39649, 39699, 39703, 39720, 39803, 39804, 39817, 39820, 39829, 39832, 39856, 39904, 39906, 39932, 39955, 39961, 39964, 39985, 39987, 40020, 40031, 40044, 40065, 40071, 40092, 40151, 40157, 40238, 40245, 40249, 40268, 40271, 40276, 40325, 40336, 40353, 40383, 40401, 40413, 40417, 40423, 40424, 40431, 40432, 40445, 40451, 40456, 40460, 40477, 40478, 40486, 40515, 40538, 40560, 40590, 40594, 40639, 40644, 40666, 40690, 40700, 40716, 40745, 40758, 40759, 40765, 40773, 40774, 40788, 40796, 40797, 40806, 40817, 40833, 40870, 40938, 40970, 40975, 40989, 41045, 41046, 41047, 41077, 41111, 41112, 41197, 41245, 41289, 41314, 41344, 41354, 41397, 41434, 41465, 41474, 41506, 41511, 41527, 41533, 41536, 41537, 41542, 41551, 41573, 41577, 41605, 41606, 41639, 41640, 41642, 41653, 41656, 41659, 41671, 41675, 41676, 41677, 41680, 41681, 41684, 41698, 41720, 41730, 41735, 41738, 41752, 41763, 41765, 41789, 41792, 41796, 41800, 41823, 41828, 41912, 41914, 41917, 41945, 41954, 41956, 41969, 41973, 41977, 42001, 42004, 42019, 42031, 42033, 42037, 42039, 42045, 42051, 42053, 42084, 42096, 42120, 42121, 42136, 42137, 42152, 42184, 42189, 42203, 42205, 42206, 42231, 42243, 42255, 42263, 42273, 42322, 42342, 42347, 42349, 42414, 42466, 42479, 42485, 42498, 42504, 42521, 42531, 42610, 42613, 42621, 42648, 42681, 42686, 42694, 42711, 42712, 42735, 42755, 42759, 42767, 42785, 42804, 42810, 42841, 42843, 42880, 42899, 42978, 43051, 43092, 43206, 43239, 43255, 43260, 43265, 43272, 43290, 43376, 43382, 43384, 43386, 43390, 43436, 43458, 43462, 43463, 43464, 43466, 43487, 43494, 43498, 43528, 43596, 43628, 43631, 43635, 43640, 43650, 43710, 43711, 43793, 43808, 43849, 43854, 43867, 43872, 43900, 43907, 43916, 43918, 43944, 43977, 43979, 43995, 43997, 44067, 44072, 44076, 44089, 44097, 44098, 44099, 44160, 44163, 44205, 44222, 44223, 44224, 44236, 44280, 44296, 44302, 44332, 44382, 44426, 44428, 44431, 44438, 44455, 44460, 44467, 44537, 44543, 44548, 44568, 44611, 44612, 44615, 44620, 44622, 44628, 44632, 44640, 44642, 44643, 44653, 44672, 44678, 44698, 44699, 44715, 44730, 44751, 44774, 44784, 44803, 44916, 44921, 44940, 44944, 44948, 44962, 44964, 44989, 44995, 45004, 45012, 45086, 45119, 45138, 45190, 45229, 45339, 45347, 45366, 45410, 45436, 45460, 45461, 45469, 45475, 45486, 45494, 45585, 45587, 45601, 45602, 45606, 45641, 45724, 45725, 45732, 45754, 45765, 45778, 45822, 45830, 45852, 45861, 45867, 45873, 45909, 45986, 46010, 46012, 46048, 46055, 46104, 46117, 46132, 46160, 46170, 46177, 46225, 46226, 46234, 46241, 46244, 46261, 46296, 46315, 46328, 46336, 46346, 46410, 46412, 46416, 46429, 46431, 46446, 46453, 46454, 46503, 46509, 46523, 46525, 46526, 46563, 46567, 46568, 46570, 46609, 46654, 46719, 46722, 46798, 46844, 46875, 46879, 46903, 46907, 46939, 46979, 47002, 47082, 47092, 47103, 47112, 47186, 47196, 47226, 47237, 47241, 47261, 47270, 47281, 47327, 47335, 47347, 47351, 47356, 47416, 47426, 47440, 47441, 47449, 47452, 47460, 47473, 47486, 47499, 47547, 47561, 47593, 47605, 47680, 47685, 47687, 47693, 47722, 47729, 47750, 47776, 47783, 47804, 47813, 47832, 47843, 47848, 47853, 47854, 47893, 47896, 47925, 48026, 48075, 48081, 48106, 48116, 48117, 48144, 48176, 48269, 48270, 48320, 48334, 48357, 48370, 48401, 48420, 48421, 48441, 48456, 48480, 48490, 48491, 48510, 48530, 48545, 48548, 48577, 48596, 48612, 48668, 48669, 48685, 48701, 48708, 48738, 48742, 48745, 48747, 48774, 48812, 48856, 48860, 48861, 48873, 48874, 48934, 48941, 48976, 49011, 49055, 49069, 49105, 49124, 49152, 49199, 49248, 49254, 49255, 49261, 49266, 49273, 49297, 49321, 49328, 49386, 49389, 49393, 49396, 49405, 49430, 49471, 49473, 49589, 49619, 49628, 49671, 49673, 49691, 49707, 49723, 49734, 49739, 49755, 49756, 49760, 49763, 49803, 49822, 49830, 49843, 49847, 49865, 49867, 49871, 49924, 49928, 49933, 49940, 49941, 49945, 49959, 49964, 49968, 49976, 49983, 49986, 49988, 49989, 49990, 50074, 50080, 50084, 50089, 50103, 50104, 50109, 50110, 50146, 50185, 50242, 50248, 50382, 50421, 50449, 50451, 50460, 50476, 50479, 50490, 50491, 50505, 50511, 50513, 50574, 50786, 50810, 50820, 50834, 50843, 50885, 50892, 50904, 50908, 50911, 50933, 50948, 50962, 50976, 50983, 50989, 50997, 51028, 51043, 51065, 51071, 51081, 51084, 51098, 51117, 51151, 51198, 51207, 51254, 51255, 51274, 51277, 51316, 51322, 51360, 51363, 51411, 51523, 51611, 51614, 51626, 51656, 51663, 51670, 51719, 51747, 51748, 51785, 51816, 51848, 51854, 51878, 51899, 51905, 51928, 51955, 51965, 51980, 51990, 51992, 51995, 52003, 52010, 52032, 52082, 52085, 52103, 52105, 52120, 52134, 52144, 52146, 52185, 52207, 52217, 52241, 52242, 52257, 52258, 52295, 52305, 52343, 52360, 52372, 52377, 52387, 52412, 52426, 52458, 52472, 52473, 52577, 52597, 52599, 52606, 52630, 52635, 52669, 52688, 52698, 52704, 52707, 52749, 52758, 52763, 52775, 52780, 52782, 52826, 52828, 52831, 52854, 52859, 52878, 52882, 52900, 52917, 52921, 52932, 52972, 52986, 53002, 53009, 53015, 53027, 53038, 53042, 53076, 53085, 53105, 53169, 53198, 53236, 53282, 53303, 53334, 53390, 53446, 53472, 53493, 53518, 53531, 53573, 53577, 53583, 53591, 53630, 53634, 53651, 53696, 53729, 53749, 53804, 53874, 53894, 53926, 53935, 53963, 53972, 53975, 54019, 54041, 54088, 54103, 54131, 54224, 54237, 54259, 54269, 54275, 54279, 54287, 54299, 54307, 54374, 54377, 54386, 54403, 54446, 54531, 54537, 54574, 54582, 54598, 54602, 54657, 54674, 54684, 54687, 54712, 54731, 54732, 54778, 54787, 54833, 54849, 54873, 54874, 54879, 54927, 54949, 54957, 54962, 55017, 55037, 55107, 55142, 55145, 55170, 55218, 55239, 55250, 55251, 55254, 55267, 55284, 55318, 55352, 55455, 55481, 55497, 55524, 55525, 55530, 55540, 55545, 55547, 55570, 55571, 55573, 55576, 55633, 55642, 55649, 55665, 55669, 55686, 55783, 55802, 55805, 55808, 55820, 55840, 55956, 55960, 55968, 55973, 55989, 56041, 56111, 56159, 56221, 56239, 56277, 56289, 56290, 56291, 56307, 56347, 56359, 56362, 56398, 56403, 56447, 56482, 56492, 56499, 56508, 56580, 56615, 56663, 56674, 56684, 56689, 56696, 56804, 56811, 56820, 56889, 56890, 56895, 56931, 56950, 56994, 57002, 57028, 57043, 57065, 57094, 57185, 57263, 57276, 57288, 57294, 57297, 57301, 57317, 57338, 57349, 57412, 57430, 57437, 57487, 57488, 57493, 57505, 57537, 57609, 57626, 57635, 57659, 57719, 57752, 57753, 57780, 57825, 57851, 57862, 57927, 57946, 57977, 57998, 58045, 58073, 58090, 58091, 58093, 58108, 58136, 58204, 58225, 58253, 58255, 58262, 58273, 58399, 58423, 58442, 58491, 58538, 58565, 58568, 58572, 58591, 58596, 58637, 58658, 58659, 58666, 58674, 58675, 58725, 58749, 58784, 58791, 58864, 58870, 58902, 58932, 59005, 59031, 59033, 59086, 59111, 59118, 59180, 59193, 59195, 59196, 59199, 59213, 59266, 59275, 59279, 59293, 59305, 59341, 59374, 59387, 59398, 59425, 59427, 59429, 59453, 59463, 59483, 59517, 59558, 59566, 59576, 59577, 59620, 59651, 59666, 59689, 59811, 59838, 59851, 59996, 60014, 60028, 60041, 60045, 60061, 60064, 60103, 60137, 60250, 60282, 60290, 60294, 60305, 60360, 60389, 60399, 60464, 60473, 60481, 60490, 60536, 60547, 60605, 60622, 60644, 60662, 60676, 60681, 60690, 60714, 60724, 60748, 60749, 60754, 60824, 60877, 60914, 60919, 60950, 61007, 61011, 61014, 61051, 61085, 61194, 61201, 61208, 61211, 61212, 61259, 61273, 61288, 61298, 61307, 61312, 61336, 61415, 61428, 61488, 61550, 61604, 61689, 61698, 61703, 61727, 61746, 61759, 61770, 61773, 61789, 61827, 61897, 61949, 62009, 62063, 62081, 62136, 62170, 62175, 62196, 62197, 62216, 62257, 62312, 62402, 62412, 62423, 62452, 62457, 62478, 62485, 62512, 62513, 62532, 62546, 62562, 62658, 62699, 62708, 62711, 62730, 62749, 62764, 62774, 62877, 62889, 62924, 62925, 62945, 62981, 63047, 63053, 63074, 63078, 63092, 63095, 63117, 63136, 63178, 63188, 63189, 63193, 63267, 63305, 63306, 63349, 63357, 63381, 63391, 63484, 63485, 63505, 63550, 63612, 63627, 63637, 63690, 63708, 63713, 63714, 63716, 63782, 63784, 63794, 63813, 63816, 63846, 63905, 63953, 63960, 63964, 63967, 63971, 63987, 64025, 64038, 64047, 64052, 64054, 64107, 64111, 64128, 64190, 64216, 64232, 64233, 64282, 64299, 64321, 64323, 64331, 64335, 64339, 64343, 64379, 64393, 64402, 64425, 64451, 64464, 64498, 64499, 64510, 64522, 64531, 64577, 64596, 64597, 64614, 64620, 64621, 64629, 64642, 64655, 64673, 64705, 64709, 64716, 64730, 64757, 64776, 64779, 64784, 64785, 64806, 64814, 64827, 64857, 64858, 64898, 64913, 64927, 64942, 64945, 64974, 65085, 65125, 65151, 65157, 65191, 65192, 65217, 65251, 65285, 65300, 65337, 65428, 65442, 65532, 65546, 65582, 65585, 65594, 65602, 65606, 65607, 65649, 65654, 65655, 65658, 65701, 65737, 65769, 65786, 65792, 65795, 65815, 65820, 65834, 65840, 65858, 65869, 65873, 65903, 65906, 65909, 65956, 65962, 66008, 66034, 66038, 66102, 66152, 66172, 66178, 66179, 66206, 66209, 66252, 66256, 66271, 66283, 66284, 66326, 66386, 66398, 66430, 66454, 66465, 66483, 66615, 66650, 66693, 66722, 66728, 66768, 66791, 66834, 66848, 66850, 66903, 66911, 66913, 66961, 66970, 67025, 67037, 67043, 67065, 67097, 67110, 67114, 67117, 67128, 67229, 67232, 67254, 67325, 67344, 67370, 67385, 67480, 67481, 67496, 67498, 67504, 67508, 67525, 67576, 67592, 67609, 67646, 67653, 67713, 67851, 67853, 67895, 67912, 67976, 67979, 67994, 67997, 67999, 68001, 68040, 68073, 68086, 68120, 68129, 68154, 68167, 68201, 68209, 68229, 68257, 68260, 68290, 68293, 68319, 68383, 68384, 68386, 68399, 68428, 68438, 68453, 68466, 68479, 68488, 68539, 68552, 68562, 68571, 68591, 68596, 68599, 68602, 68620, 68624, 68746, 68807, 68860, 68884, 68915, 68919, 68945, 68952, 68959, 69005, 69037, 69053, 69112, 69124, 69142, 69189, 69192, 69202, 69204, 69240, 69253, 69262, 69292, 69299, 69317, 69328, 69329, 69352, 69387, 69395, 69425, 69456, 69500, 69563, 69576, 69619, 69696, 69704, 69750, 69765, 69777, 69791, 69815, 69825, 69840, 69868, 69870, 69882, 69915, 69959, 69985, 69987, 70054, 70098, 70149, 70186, 70197, 70230, 70274, 70279, 70303, 70359, 70420, 70444, 70446, 70464, 70591, 70619, 70737, 70771, 70777, 70783, 70784, 70801, 70839, 70879, 70884, 70930, 70969, 70973, 71029, 71042, 71072, 71087, 71109, 71150, 71156, 71158, 71243, 71331, 71352, 71398, 71447, 71489, 71515, 71621, 71671, 71693, 71702, 71744, 71748, 71751, 71759, 71825, 71826, 71842, 71843, 71848, 71860, 71874, 71884, 71890, 71899, 71947, 71951, 71953, 71972, 71985, 72022, 72023, 72026, 72049, 72060, 72067, 72112, 72127, 72131, 72152, 72184, 72228, 72244, 72251, 72260, 72276, 72295, 72299, 72315, 72317, 72339, 72345, 72382, 72384, 72408, 72417, 72421, 72432, 72448, 72468, 72469, 72470, 72471, 72481, 72489, 72494, 72518, 72537, 72542, 72591, 72662, 72664, 72688, 72690, 72700, 72713, 72737, 72757, 72758, 72769, 72797, 72861, 72870, 72874, 72926, 72927, 72942, 72945, 72948, 72951, 72954, 72965, 72987, 72996, 72998, 72999, 73015, 73043, 73067, 73068, 73069, 73091, 73124, 73129, 73162, 73176, 73178, 73179, 73213, 73252, 73320, 73322, 73331, 73334, 73335, 73342, 73343, 73345, 73385, 73401, 73436, 73461, 73469, 73471, 73494, 73502, 73526, 73528, 73552, 73553, 73556, 73571, 73574, 73587, 73606, 73620, 73631, 73642, 73643, 73658, 73661, 73663, 73679, 73685, 73686, 73694, 73695, 73706, 73715, 73734, 73741, 73744, 73759, 73765, 73770, 73777, 73782, 73783, 73800, 73820, 73856, 73887, 73934, 73975, 73982, 73983, 74006, 74023, 74067, 74079, 74105, 74116, 74144, 74148, 74153, 74164, 74188, 74199, 74210, 74253, 74257, 74277, 74308, 74328, 74333, 74335, 74348, 74355, 74361, 74385, 74406, 74407, 74429, 74432, 74445, 74472, 74602, 74617, 74622, 74624, 74659, 74665, 74679, 74682, 74700, 74705, 74731, 74752, 74778, 74828, 74910, 74938, 74954, 74958, 74959, 74992, 74997, 75013, 75045, 75075, 75140, 75150, 75151, 75167, 75168, 75170, 75212, 75247, 75258, 75277, 75317, 75341, 75352, 75358, 75373, 75375, 75377, 75408, 75418, 75431, 75439, 75491, 75499, 75507, 75511, 75522, 75524, 75533, 75540, 75555, 75556, 75567, 75579, 75609, 75620, 75712, 75714, 75759, 75818, 75835, 75872, 75889, 75897, 75923, 75957, 75978, 76002, 76038, 76045, 76056, 76131, 76144, 76166, 76193, 76194, 76207, 76211, 76219, 76233, 76236, 76267, 76270, 76298, 76305, 76343, 76346, 76348, 76425, 76431, 76460, 76472, 76473, 76515, 76530, 76541, 76563, 76619, 76628, 76632, 76634, 76635, 76643, 76679, 76685, 76705, 76718, 76719, 76797, 76809, 76866, 76876, 76877, 76902, 76917, 76928, 76942, 76952, 77004, 77019, 77022, 77130, 77133, 77167, 77175, 77195, 77197, 77226, 77231, 77235, 77268, 77322, 77369, 77413, 77441, 77448, 77451, 77452, 77459, 77471, 77501, 77508, 77514, 77518, 77549, 77578, 77601, 77606, 77609, 77633, 77649, 77656, 77671, 77672, 77683, 77713, 77732, 77733, 77779, 77791, 77793, 77830, 77854, 77864, 77890, 77921, 77943, 77970, 77995, 78037, 78039, 78049, 78056, 78109, 78121, 78154, 78243, 78244, 78246, 78248, 78255, 78268, 78306, 78309, 78321, 78370, 78412, 78475, 78563, 78565, 78578, 78590, 78604, 78619, 78626, 78627, 78636, 78645, 78686, 78688, 78696, 78701, 78710, 78716, 78725, 78751, 78766, 78848, 78851, 78854, 78890, 78892, 78981, 79049, 79055, 79062, 79080, 79168, 79171, 79178, 79180, 79218, 79260, 79289, 79293, 79351, 79373, 79377, 79409, 79427, 79478, 79509, 79532, 79545, 79569, 79613, 79619, 79651, 79654, 79707, 79725, 79727, 79736, 79765, 79775, 79808, 79811, 79854, 79858, 79871, 79897, 79901, 79924, 79935, 79947, 79960, 79986, 79987, 80004, 80020, 80033, 80041, 80057, 80066, 80067, 80069, 80075, 80088, 80108, 80112, 80115, 80156, 80158, 80169, 80180, 80198, 80201, 80261, 80274, 80290, 80292, 80310, 80327, 80343, 80346, 80364, 80393, 80401, 80450, 80492, 80504, 80514, 80556, 80559, 80573, 80636, 80656, 80658, 80666, 80696, 80712, 80717, 80873, 80880, 80889, 80933, 80968, 80995, 80999, 81025, 81051, 81074, 81142, 81175, 81185, 81225, 81235, 81254, 81289, 81300, 81366, 81379, 81397, 81500, 81501, 81522, 81550, 81604, 81616, 81646, 81716, 81732, 81825, 81827, 81865, 81886, 81895, 81903, 81915, 81925, 81930, 81962, 81981, 81993, 81994, 82001, 82007, 82020, 82064, 82128, 82222, 82227, 82234, 82261, 82298, 82320, 82340, 82345, 82376, 82407, 82459, 82618, 82620, 82645, 82669, 82687, 82699, 82745, 82776, 82779, 82780, 82784, 82786, 82811, 82830, 82833, 82848, 82915, 82946, 82956, 82958, 83092, 83098, 83124, 83190, 83194, 83243, 83249, 83289, 83295, 83296, 83316, 83329, 83338, 83339, 83348, 83357, 83384, 83404, 83440, 83458, 83486, 83604, 83638, 83652, 83694, 83765, 84007, 84017, 84021, 84031, 84105, 84120, 84161, 84167, 84188, 84212, 84219, 84327, 84397, 84452, 84456, 84489, 84494, 84521, 84525, 84544, 84554, 84610, 84678, 84748, 84797, 84803, 84825, 84834, 84838, 84839, 84863, 84882, 84883, 84911, 84938, 84939, 84943, 84947, 84957, 84964, 84995, 85028, 85101, 85119, 85121, 85150, 85229, 85280, 85313, 85329, 85382, 85383, 85389, 85391, 85434, 85450, 85501, 85529, 85559, 85627, 85638, 85641, 85668, 85680, 85711, 85721, 85769, 85770, 85800, 85804, 85808, 85822, 85869, 85872, 85903, 85910, 85942, 85943, 85944, 85976, 85985, 86050, 86077, 86089, 86093, 86094, 86117, 86121, 86166, 86169, 86181, 86188, 86248, 86249, 86250, 86255, 86256, 86265, 86273, 86463, 86526, 86538, 86625, 86626, 86706, 86710, 86737, 86758, 86833, 86861, 86881, 86906, 86914, 86915, 86918, 86925, 86932, 86934, 86935, 86936, 86962, 86969, 86979, 86980, 86993, 87008, 87014, 87065, 87116, 87143, 87144, 87214, 87259, 87275, 87278, 87308, 87358, 87370, 87385, 87426, 87464, 87477, 87522, 87564, 87589, 87594, 87656, 87664, 87674, 87704, 87714, 87726, 87780, 87807, 87810, 87902, 87928, 87947, 87977, 87980, 87986, 88024, 88031, 88086, 88123, 88138, 88158, 88216, 88251, 88295, 88324, 88355, 88370, 88473, 88549, 88601, 88709, 88719, 88753, 88756, 88813, 88839, 88849, 88955, 88965, 88966, 88976, 88982, 88992, 89036, 89037, 89125, 89142, 89145, 89197, 89218, 89221, 89247, 89251, 89292, 89312, 89348, 89446, 89464, 89475, 89529, 89612, 89674, 89730, 89807, 89849, 89864, 89897, 89949, 89951, 89953, 89970, 89991, 89993, 90012, 90053, 90093, 90129, 90139, 90177, 90198, 90232, 90274, 90401, 90405, 90490, 90557, 90586, 90595, 90630, 90743, 90752, 90753, 90792, 90799, 90899, 90949, 90950, 90970, 90979, 91082, 91175, 91181, 91244, 91393, 91394, 91522, 91672, 91689, 91698, 91712, 91744, 91781, 91783, 91787, 91871, 91875, 91896, 91900, 92031, 92032, 92066, 92086, 92127, 92534, 92539, 92554, 92568, 92630, 92631, 92715, 92766, 92805, 92838, 92861, 93020, 93065, 93093, 93112, 93125, 93133, 93145, 93165, 93193, 93194, 93197, 93224, 93240, 93391, 93399, 93481, 93488, 93492, 93591, 93597, 93608, 93635, 93638, 93645, 93652, 93678, 93689, 93741, 93847, 93867, 93868, 93881, 93896, 93951, 93953, 93961, 94046, 94202, 94225, 94395, 94396, 94447, 94464, 94575, 94708, 94734, 94763, 94767, 94778, 94829, 94836, 94838, 94912, 94930, 94935, 94953, 94967, 95035, 95081, 95102, 95143, 95146, 95162, 95164, 95200, 95301, 95315, 95321, 95341, 95351, 95357, 95364, 95366, 95368, 95386, 95392, 95393, 95410, 95666, 95677, 95698, 95799, 95918, 95940, 96053, 96067])  Lucasfilm\n"
          ],
          "name": "stdout"
        }
      ]
    },
    {
      "cell_type": "markdown",
      "metadata": {
        "id": "MdOWlJlqrkB3"
      },
      "source": [
        "On va pouvoir remplacer les noms des compagnies de production maintenant pour les homogénéiser. "
      ]
    },
    {
      "cell_type": "code",
      "metadata": {
        "id": "tNylrFtsh5KM",
        "colab": {
          "base_uri": "https://localhost:8080/",
          "height": 67,
          "referenced_widgets": [
            "8f2e4daf7fd741989b1db2af6a0eb98e",
            "59faa0d4238f41febaf9486842d9d400",
            "3a4a2b78f1f44363987f000325ef0cba",
            "e6c81fd342584ae7b60abab9ea11140f",
            "7669be18b90c44b1af5d5ddcf3dd4424",
            "d42ca4e393a6406ab1e444ad804b8734",
            "e563654206044853b4cf20f21c60cf46",
            "2ab3b7ccf3b9441eb49a733e9f49c2c0"
          ]
        },
        "outputId": "0a810646-6c26-4a1b-e827-137fec8d0aac"
      },
      "source": [
        "for film in trange(len(df.index)):\n",
        "  num_prod = df.production_companies_id[film]\n",
        "  df.replace(df.production_companies_name[film], dico_pc[num_prod])"
      ],
      "execution_count": null,
      "outputs": [
        {
          "output_type": "display_data",
          "data": {
            "application/vnd.jupyter.widget-view+json": {
              "model_id": "8f2e4daf7fd741989b1db2af6a0eb98e",
              "version_minor": 0,
              "version_major": 2
            },
            "text/plain": [
              "HBox(children=(FloatProgress(value=0.0, max=45417.0), HTML(value='')))"
            ]
          },
          "metadata": {
            "tags": []
          }
        },
        {
          "output_type": "stream",
          "text": [
            "\n"
          ],
          "name": "stdout"
        }
      ]
    },
    {
      "cell_type": "markdown",
      "metadata": {
        "id": "lAFJjUIwfWun"
      },
      "source": [
        "#### *production_countries*"
      ]
    },
    {
      "cell_type": "code",
      "metadata": {
        "id": "-UzM7zYRkQ2a",
        "colab": {
          "base_uri": "https://localhost:8080/"
        },
        "outputId": "aaace22b-2461-4e3c-a4d0-cfc9bd7fbd27"
      },
      "source": [
        "df.production_countries"
      ],
      "execution_count": null,
      "outputs": [
        {
          "output_type": "execute_result",
          "data": {
            "text/plain": [
              "0        [{'iso_3166_1': 'US', 'name': 'United States o...\n",
              "1        [{'iso_3166_1': 'US', 'name': 'United States o...\n",
              "2        [{'iso_3166_1': 'US', 'name': 'United States o...\n",
              "3        [{'iso_3166_1': 'US', 'name': 'United States o...\n",
              "4        [{'iso_3166_1': 'US', 'name': 'United States o...\n",
              "                               ...                        \n",
              "45412               [{'iso_3166_1': 'IR', 'name': 'Iran'}]\n",
              "45413        [{'iso_3166_1': 'PH', 'name': 'Philippines'}]\n",
              "45414    [{'iso_3166_1': 'US', 'name': 'United States o...\n",
              "45415             [{'iso_3166_1': 'RU', 'name': 'Russia'}]\n",
              "45416     [{'iso_3166_1': 'GB', 'name': 'United Kingdom'}]\n",
              "Name: production_countries, Length: 45417, dtype: object"
            ]
          },
          "metadata": {
            "tags": []
          },
          "execution_count": 85
        }
      ]
    },
    {
      "cell_type": "markdown",
      "metadata": {
        "id": "l8oiRrNGu49S"
      },
      "source": [
        "De la même manière que pour les compagnies de production, on va extraire le pays de production grâce à la fonction split."
      ]
    },
    {
      "cell_type": "code",
      "metadata": {
        "colab": {
          "base_uri": "https://localhost:8080/"
        },
        "id": "-rXKqdyWbmXT",
        "outputId": "ac32b992-437b-4d95-b321-5407afd9b0f6"
      },
      "source": [
        "df.production_countries.str.split(',').str.get(1)"
      ],
      "execution_count": null,
      "outputs": [
        {
          "output_type": "execute_result",
          "data": {
            "text/plain": [
              "0         'name': 'United States of America'}]\n",
              "1         'name': 'United States of America'}]\n",
              "2         'name': 'United States of America'}]\n",
              "3         'name': 'United States of America'}]\n",
              "4         'name': 'United States of America'}]\n",
              "                         ...                  \n",
              "45412                         'name': 'Iran'}]\n",
              "45413                  'name': 'Philippines'}]\n",
              "45414     'name': 'United States of America'}]\n",
              "45415                       'name': 'Russia'}]\n",
              "45416               'name': 'United Kingdom'}]\n",
              "Name: production_countries, Length: 45417, dtype: object"
            ]
          },
          "metadata": {
            "tags": []
          },
          "execution_count": 86
        }
      ]
    },
    {
      "cell_type": "markdown",
      "metadata": {
        "id": "RRrlYV4NvEV0"
      },
      "source": [
        "Ainsi, on crée deux nouvelles colonnes, contenant respectivement le nom du pays de production ainsi que son identifiant."
      ]
    },
    {
      "cell_type": "code",
      "metadata": {
        "id": "nSIJfrWhnf3E"
      },
      "source": [
        "df_temp = df.production_countries.str.split(',')\n",
        "df_1 = pd.DataFrame()\n",
        "df_2 = pd.DataFrame()\n",
        "df_1['country_code'] = df_temp.str.get(0)\n",
        "df_1['country_name'] = df_temp.str.get(1)\n",
        "df['country_code'] = df_1.country_code.str.split(':').str.get(1)\n",
        "df_2['country_name_try'] = df_1.country_name.str.split(':').str.get(1)\n",
        "df['country_name']=df_2['country_name_try'].str.split('}').str.get(0)\n",
        "\n",
        "df.country_code = df.country_code.str.replace(r'[^\\w\\s]+', '')\n",
        "df.country_name = df.country_name.str.replace(r'[^\\w\\s]+', '')"
      ],
      "execution_count": null,
      "outputs": []
    },
    {
      "cell_type": "markdown",
      "metadata": {
        "id": "ieou0TUSnnbc"
      },
      "source": [
        "On supprime les colonnes dédoublées à cause du nettoyage :"
      ]
    },
    {
      "cell_type": "code",
      "metadata": {
        "id": "uJD0j0F2niJp"
      },
      "source": [
        "df = df.drop(columns=['production_companies','production_countries'])"
      ],
      "execution_count": null,
      "outputs": []
    },
    {
      "cell_type": "code",
      "metadata": {
        "colab": {
          "base_uri": "https://localhost:8080/",
          "height": 299
        },
        "id": "T3RpkYMOnp8B",
        "outputId": "196eae6c-1469-4971-96b1-bbc9457cf4d6"
      },
      "source": [
        "fig, ax = plt.subplots(figsize=(2,4))\n",
        "sns.heatmap(df[['country_name']].isnull(),cbar=False)\n",
        "plt.title('Complétude après nettoyage')\n",
        "print('Country_name est complet à ',(1-len(df.country_name[df.country_name.isnull()])/len(df.country_name))*100,'%')"
      ],
      "execution_count": null,
      "outputs": [
        {
          "output_type": "stream",
          "text": [
            "Country_name est complet à  86.1857894620957 %\n"
          ],
          "name": "stdout"
        },
        {
          "output_type": "display_data",
          "data": {
            "image/png": "[encoded data removed]",
            "text/plain": [
              "<Figure size 144x288 with 1 Axes>"
            ]
          },
          "metadata": {
            "tags": [],
            "needs_background": "light"
          }
        }
      ]
    },
    {
      "cell_type": "markdown",
      "metadata": {
        "id": "2-RbAh9IwTdD"
      },
      "source": [
        "### *Genres*\n",
        "\n",
        "\n",
        "\n"
      ]
    },
    {
      "cell_type": "code",
      "metadata": {
        "id": "-DplJL_qvzMG",
        "colab": {
          "base_uri": "https://localhost:8080/"
        },
        "outputId": "5dd76b89-c724-40ad-f9ea-a92e056b40f4"
      },
      "source": [
        "df.genres"
      ],
      "execution_count": null,
      "outputs": [
        {
          "output_type": "execute_result",
          "data": {
            "text/plain": [
              "0        [{'id': 16, 'name': 'Animation'}, {'id': 35, '...\n",
              "1        [{'id': 12, 'name': 'Adventure'}, {'id': 14, '...\n",
              "2        [{'id': 10749, 'name': 'Romance'}, {'id': 35, ...\n",
              "3        [{'id': 35, 'name': 'Comedy'}, {'id': 18, 'nam...\n",
              "4                           [{'id': 35, 'name': 'Comedy'}]\n",
              "                               ...                        \n",
              "45412    [{'id': 18, 'name': 'Drama'}, {'id': 10751, 'n...\n",
              "45413                        [{'id': 18, 'name': 'Drama'}]\n",
              "45414    [{'id': 28, 'name': 'Action'}, {'id': 18, 'nam...\n",
              "45415                                                   []\n",
              "45416                                                   []\n",
              "Name: genres, Length: 45417, dtype: object"
            ]
          },
          "metadata": {
            "tags": []
          },
          "execution_count": 90
        }
      ]
    },
    {
      "cell_type": "markdown",
      "metadata": {
        "id": "30_0iVTrv52r"
      },
      "source": [
        "Comme précédemment, on va récupérer les informations importantes de cette colonne. On va tout d'abord supprimer la ponctuation :"
      ]
    },
    {
      "cell_type": "code",
      "metadata": {
        "colab": {
          "base_uri": "https://localhost:8080/",
          "height": 35
        },
        "id": "cXnrPctNxwPu",
        "outputId": "021c53ac-a002-48dc-87ab-7e0bc8062502"
      },
      "source": [
        "df.genres = df.genres.str.replace(r'[^\\w\\s]+', '')\n",
        "df.genres[0]"
      ],
      "execution_count": null,
      "outputs": [
        {
          "output_type": "execute_result",
          "data": {
            "application/vnd.google.colaboratory.intrinsic+json": {
              "type": "string"
            },
            "text/plain": [
              "'id 16 name Animation id 35 name Comedy id 10751 name Family'"
            ]
          },
          "metadata": {
            "tags": []
          },
          "execution_count": 91
        }
      ]
    },
    {
      "cell_type": "markdown",
      "metadata": {
        "id": "k7CG1VaBx48Y"
      },
      "source": [
        "Puis on récupère le nom du genre grâce à la fonction *split*:"
      ]
    },
    {
      "cell_type": "code",
      "metadata": {
        "colab": {
          "base_uri": "https://localhost:8080/",
          "height": 451,
          "referenced_widgets": [
            "212fec51de0d42fd97a73455fbfd5b2b",
            "eb3b796fb5f74320a1a5e9e274c7ce70",
            "a27d2fc3eaf34cd897fc865f0d1ff6f0",
            "fb0cf4d6303141a9956e8f2c01698147",
            "d2d745e75ee04e98aace5c1641f33561",
            "1d35cd66f9064fb8ba9f16f622e76499",
            "86737d4f739b4d18a6c4de486a90238d",
            "b5521ed3c5b64936a36e082bf6f450bb"
          ]
        },
        "id": "GAoFakMnx0wS",
        "outputId": "e8645624-7076-440f-b4ef-77d83564ef72"
      },
      "source": [
        "for i in trange(len(df)):\n",
        "  genre = df.genres[i].split()\n",
        "  df.genres[i] = \"\"\n",
        "  for j in range(len(genre)//4):\n",
        "    if j == 0 :\n",
        "      df.genres[i] = df.genres[i] + genre[3]\n",
        "    else : \n",
        "      df.genres[i] = df.genres[i] + ', ' + genre[3 + j*4]"
      ],
      "execution_count": null,
      "outputs": [
        {
          "output_type": "display_data",
          "data": {
            "application/vnd.jupyter.widget-view+json": {
              "model_id": "212fec51de0d42fd97a73455fbfd5b2b",
              "version_minor": 0,
              "version_major": 2
            },
            "text/plain": [
              "HBox(children=(FloatProgress(value=0.0, max=45417.0), HTML(value='')))"
            ]
          },
          "metadata": {
            "tags": []
          }
        },
        {
          "output_type": "stream",
          "text": [
            "/usr/local/lib/python3.6/dist-packages/ipykernel_launcher.py:3: SettingWithCopyWarning:\n",
            "\n",
            "\n",
            "A value is trying to be set on a copy of a slice from a DataFrame\n",
            "\n",
            "See the caveats in the documentation: https://pandas.pydata.org/pandas-docs/stable/user_guide/indexing.html#returning-a-view-versus-a-copy\n",
            "\n",
            "/usr/local/lib/python3.6/dist-packages/ipykernel_launcher.py:6: SettingWithCopyWarning:\n",
            "\n",
            "\n",
            "A value is trying to be set on a copy of a slice from a DataFrame\n",
            "\n",
            "See the caveats in the documentation: https://pandas.pydata.org/pandas-docs/stable/user_guide/indexing.html#returning-a-view-versus-a-copy\n",
            "\n",
            "/usr/local/lib/python3.6/dist-packages/ipykernel_launcher.py:8: SettingWithCopyWarning:\n",
            "\n",
            "\n",
            "A value is trying to be set on a copy of a slice from a DataFrame\n",
            "\n",
            "See the caveats in the documentation: https://pandas.pydata.org/pandas-docs/stable/user_guide/indexing.html#returning-a-view-versus-a-copy\n",
            "\n"
          ],
          "name": "stderr"
        },
        {
          "output_type": "stream",
          "text": [
            "\n"
          ],
          "name": "stdout"
        }
      ]
    },
    {
      "cell_type": "code",
      "metadata": {
        "id": "285-5GKhx0sC",
        "colab": {
          "base_uri": "https://localhost:8080/",
          "height": 283
        },
        "outputId": "f4d02c81-2fdd-4307-c631-099008bf8721"
      },
      "source": [
        "df.groupby(df['genres']).imdb_id.count().sort_values(ascending = False)[:10].plot(kind = 'barh')"
      ],
      "execution_count": null,
      "outputs": [
        {
          "output_type": "execute_result",
          "data": {
            "text/plain": [
              "<matplotlib.axes._subplots.AxesSubplot at 0x7fabed57b5f8>"
            ]
          },
          "metadata": {
            "tags": []
          },
          "execution_count": 93
        },
        {
          "output_type": "display_data",
          "data": {
            "image/png": "[encoded data removed]",
            "text/plain": [
              "<Figure size 432x288 with 1 Axes>"
            ]
          },
          "metadata": {
            "tags": [],
            "needs_background": "light"
          }
        }
      ]
    },
    {
      "cell_type": "markdown",
      "metadata": {
        "id": "FxOI5_BuyHg8"
      },
      "source": [
        "Les films de genre drame, comédie et documentaire sont les plus représentés dans l'ensemble des films. Remarquons que les genres n'ont pas été récupérés indépendamment : on considère comme un genre à part entière des subsets composés de plusieurs genres. On pourrait vouloir voir la proportion des films contenant Drama ou Romance par exemple. On va construire un dataframe comportant toutes les occurrences de tous les genres présents dans la base."
      ]
    },
    {
      "cell_type": "code",
      "metadata": {
        "id": "BZ7rNtF2x0o2",
        "colab": {
          "base_uri": "https://localhost:8080/",
          "height": 275,
          "referenced_widgets": [
            "8a698c6be0f243b099b46274e0689201",
            "e3908c9e60324439b65d9e751acdaac4",
            "72de0a302f014580a911d1cbf3d9d42d",
            "b712dbd65a56495687e8322865ddbd79",
            "6e5133c57b99466ba3ae0d82b4db9dea",
            "f823bbe7980e461f82b20fb6757c706a",
            "f15ce1a7097f4fde80962b181bf4b6c1",
            "b9a1983fc20b4c27a31e08e65126818e"
          ]
        },
        "outputId": "25c3e639-9d88-4b08-801d-7b69bce97c92"
      },
      "source": [
        "l = []\n",
        "for i in trange(len(df)):\n",
        "    genre = df.genres[i].split()\n",
        "    for i in genre :\n",
        "        l.append(i)\n",
        "genre = pd.DataFrame(l, columns=['genre'])\n",
        "genre = genre.genre.str.replace(r',', '')\n",
        "genre"
      ],
      "execution_count": null,
      "outputs": [
        {
          "output_type": "display_data",
          "data": {
            "application/vnd.jupyter.widget-view+json": {
              "model_id": "8a698c6be0f243b099b46274e0689201",
              "version_minor": 0,
              "version_major": 2
            },
            "text/plain": [
              "HBox(children=(FloatProgress(value=0.0, max=45417.0), HTML(value='')))"
            ]
          },
          "metadata": {
            "tags": []
          }
        },
        {
          "output_type": "stream",
          "text": [
            "\n"
          ],
          "name": "stdout"
        },
        {
          "output_type": "execute_result",
          "data": {
            "text/plain": [
              "0        Animation\n",
              "1           Comedy\n",
              "2           Family\n",
              "3        Adventure\n",
              "4          Fantasy\n",
              "           ...    \n",
              "90981       Family\n",
              "90982        Drama\n",
              "90983       Action\n",
              "90984        Drama\n",
              "90985     Thriller\n",
              "Name: genre, Length: 90986, dtype: object"
            ]
          },
          "metadata": {
            "tags": []
          },
          "execution_count": 94
        }
      ]
    },
    {
      "cell_type": "code",
      "metadata": {
        "id": "UL_S-Mvlx0lz",
        "colab": {
          "base_uri": "https://localhost:8080/",
          "height": 421
        },
        "outputId": "74d99c29-37db-4d18-b530-7ba20dc5704f"
      },
      "source": [
        "fig, ax = plt.subplots(figsize=(12,6))\n",
        "sns.countplot(y = genre)\n",
        "plt.title('Occurrences totales des genres')"
      ],
      "execution_count": null,
      "outputs": [
        {
          "output_type": "execute_result",
          "data": {
            "text/plain": [
              "Text(0.5, 1.0, 'Occurrences totales des genres')"
            ]
          },
          "metadata": {
            "tags": []
          },
          "execution_count": 95
        },
        {
          "output_type": "display_data",
          "data": {
            "image/png": "[encoded data removed]",
            "text/plain": [
              "<Figure size 864x432 with 1 Axes>"
            ]
          },
          "metadata": {
            "tags": [],
            "needs_background": "light"
          }
        }
      ]
    },
    {
      "cell_type": "markdown",
      "metadata": {
        "id": "BuVCawSsyOXt"
      },
      "source": [
        "Ces premières statistiques descriptives nous montrent que la base n'est pas bien nettoyée puisqu'il reste des id et des entrées qui ne correspondent pas au genre."
      ]
    },
    {
      "cell_type": "code",
      "metadata": {
        "colab": {
          "base_uri": "https://localhost:8080/"
        },
        "id": "5PC3xKO2x0eG",
        "outputId": "d7b9bd7b-dbf8-4945-ba40-13c86996df00"
      },
      "source": [
        "df.genres[df.genres == '[]'].sort_values()"
      ],
      "execution_count": null,
      "outputs": [
        {
          "output_type": "execute_result",
          "data": {
            "text/plain": [
              "Series([], Name: genres, dtype: object)"
            ]
          },
          "metadata": {
            "tags": []
          },
          "execution_count": 97
        }
      ]
    },
    {
      "cell_type": "markdown",
      "metadata": {
        "id": "nPVu58jYw8Vi"
      },
      "source": [
        "On remplace les valeurs mal codées par des NaN."
      ]
    },
    {
      "cell_type": "code",
      "metadata": {
        "id": "scvbyD3ax0QC"
      },
      "source": [
        "df.genres = df.genres.str.replace('18','')\n",
        "df.genres = df.genres.str.replace('53','')\n",
        "df.genres = df.genres.str.replace('28','')\n",
        "df.genres = df.genres.str.replace('10751','')\n",
        "df.genres = df.genres.str.replace('9648','')\n",
        "df.genres = df.genres.str.replace('12','')\n",
        "df.genres = df.genres.str.replace('27','')\n",
        "df.genres = df.genres.replace('', np.NaN)\n",
        "df.genres = df.genres.replace('name', np.NaN)"
      ],
      "execution_count": null,
      "outputs": []
    },
    {
      "cell_type": "code",
      "metadata": {
        "id": "XTuG2d1pv1ws",
        "colab": {
          "base_uri": "https://localhost:8080/"
        },
        "outputId": "873f4461-851c-4228-eb98-4a147b97f020"
      },
      "source": [
        "str(df.genres[i]) == 'nan'"
      ],
      "execution_count": null,
      "outputs": [
        {
          "output_type": "execute_result",
          "data": {
            "text/plain": [
              "True"
            ]
          },
          "metadata": {
            "tags": []
          },
          "execution_count": 99
        }
      ]
    },
    {
      "cell_type": "code",
      "metadata": {
        "colab": {
          "base_uri": "https://localhost:8080/",
          "height": 488,
          "referenced_widgets": [
            "5366f8a5552446fa8e108edb26d20647",
            "b8bfdbd76f6546218767b0f1ae879b65",
            "cff95acc99a74a33a7107b09322ec338",
            "1655c764dd2a4bde9e19741cabb798bf",
            "21d3d8e66c8541b6bab78040328487b7",
            "0b9a82a020b6405395b3e2702600ffd7",
            "a0b1b726feb441e49bf6f1040349b6bd",
            "9f9204468bc24cda95742c61002853b6"
          ]
        },
        "id": "vfqIoZqex1dj",
        "outputId": "37739c87-7080-40db-8f90-d53a0ecc5ac8"
      },
      "source": [
        "l = []\n",
        "for i in trange(len(df)):\n",
        "  if str(df.genres[i]) == 'nan':\n",
        "    pass\n",
        "  else :\n",
        "    genre = df.genres[i].split()\n",
        "    for i in genre :\n",
        "        l.append(i)\n",
        "print(len(l))\n",
        "df_genre = pd.DataFrame(l, columns=['genre'])\n",
        "df_genre.genre = df_genre.genre.str.replace(r',', '')\n",
        "df_genre.genre = df_genre.genre.replace('name', np.NaN)\n",
        "df_genre.genre = df_genre[df_genre.genre != '']\n",
        "fig, ax = plt.subplots(figsize=(12,6))\n",
        "sns.countplot(y = df_genre.genre, order = df_genre['genre'].value_counts().index)\n",
        "plt.title('Occurrences totales des genres')\n"
      ],
      "execution_count": null,
      "outputs": [
        {
          "output_type": "display_data",
          "data": {
            "application/vnd.jupyter.widget-view+json": {
              "model_id": "5366f8a5552446fa8e108edb26d20647",
              "version_minor": 0,
              "version_major": 2
            },
            "text/plain": [
              "HBox(children=(FloatProgress(value=0.0, max=45417.0), HTML(value='')))"
            ]
          },
          "metadata": {
            "tags": []
          }
        },
        {
          "output_type": "stream",
          "text": [
            "\n",
            "90972\n"
          ],
          "name": "stdout"
        },
        {
          "output_type": "execute_result",
          "data": {
            "text/plain": [
              "Text(0.5, 1.0, 'Occurrences totales des genres')"
            ]
          },
          "metadata": {
            "tags": []
          },
          "execution_count": 100
        },
        {
          "output_type": "display_data",
          "data": {
            "image/png": "[encoded data removed]",
            "text/plain": [
              "<Figure size 864x432 with 1 Axes>"
            ]
          },
          "metadata": {
            "tags": [],
            "needs_background": "light"
          }
        }
      ]
    },
    {
      "cell_type": "code",
      "metadata": {
        "id": "nYHFVARqwbn_",
        "colab": {
          "base_uri": "https://localhost:8080/"
        },
        "outputId": "1ce84c06-3e71-446b-db65-df3b4a1b2ab0"
      },
      "source": [
        "df_genre.genre.unique()"
      ],
      "execution_count": null,
      "outputs": [
        {
          "output_type": "execute_result",
          "data": {
            "text/plain": [
              "array(['Animation', 'Comedy', 'Family', 'Adventure', 'Fantasy', 'Romance',\n",
              "       'Drama', 'Action', 'Crime', 'Thriller', 'Horror', 'History',\n",
              "       'Science', nan, 'War', 'Mystery', 'Foreign', 'Music',\n",
              "       'Documentary', 'Western', 'TV'], dtype=object)"
            ]
          },
          "metadata": {
            "tags": []
          },
          "execution_count": 101
        }
      ]
    },
    {
      "cell_type": "markdown",
      "metadata": {
        "id": "_uADVy-bwTOB"
      },
      "source": [
        "Ce nettoyage fait apparaître qu'il existe en fait des genres plus représentés que Documentaire mais qui figuraient souvent dans des regroupements (Thriller, Action, Horror ou Crime)."
      ]
    },
    {
      "cell_type": "code",
      "metadata": {
        "id": "myjOmePexx1w",
        "colab": {
          "base_uri": "https://localhost:8080/",
          "height": 299
        },
        "outputId": "52314d12-6e31-4807-ef8b-0e541439b93d"
      },
      "source": [
        "len(df.genres[df.genres == ''])\n",
        "\n",
        "fig, ax = plt.subplots(figsize=(2,4))\n",
        "sns.heatmap(df[['genres']].isnull(),cbar=False)\n",
        "plt.title('Complétude après nettoyage')\n",
        "print('Genres est complet à ',(1-len(df.genres[df.genres.isnull()])/len(df.genres))*100,'%')"
      ],
      "execution_count": null,
      "outputs": [
        {
          "output_type": "stream",
          "text": [
            "Genres est complet à  94.63416782262148 %\n"
          ],
          "name": "stdout"
        },
        {
          "output_type": "display_data",
          "data": {
            "image/png": "[encoded data removed]",
            "text/plain": [
              "<Figure size 144x288 with 1 Axes>"
            ]
          },
          "metadata": {
            "tags": [],
            "needs_background": "light"
          }
        }
      ]
    },
    {
      "cell_type": "markdown",
      "metadata": {
        "id": "o5xL3Bgmysac"
      },
      "source": [
        "### *Budget* et *revenue*\n",
        "\n"
      ]
    },
    {
      "cell_type": "markdown",
      "metadata": {
        "id": "zBwBqckhCcSs"
      },
      "source": [
        "#### *budget*\n"
      ]
    },
    {
      "cell_type": "markdown",
      "metadata": {
        "id": "IRw-lZiixM_u"
      },
      "source": [
        "Il n'y a pas beaucoup de manipulations à faire sur la variable *budget*. Néanmoins, on retiendra qu'elle n'est pas forcément exploitable du fait de la forte quantité de 0. "
      ]
    },
    {
      "cell_type": "code",
      "metadata": {
        "id": "uzI2kmB_yuc1",
        "colab": {
          "base_uri": "https://localhost:8080/"
        },
        "outputId": "c462c418-2cd6-4f6f-c09c-b1c8c0f7c308"
      },
      "source": [
        "print(df.budget.sort_values().head())\n",
        "df.budget = df.budget.astype(float)"
      ],
      "execution_count": null,
      "outputs": [
        {
          "output_type": "stream",
          "text": [
            "45416    0\n",
            "26963    0\n",
            "26964    0\n",
            "26965    0\n",
            "26966    0\n",
            "Name: budget, dtype: object\n"
          ],
          "name": "stdout"
        }
      ]
    },
    {
      "cell_type": "code",
      "metadata": {
        "id": "RbkHL6QAAUwu",
        "colab": {
          "base_uri": "https://localhost:8080/"
        },
        "outputId": "e85c8b78-60c8-4902-d970-0b24d695d4aa"
      },
      "source": [
        "df.budget.sort_values().plot(logx=True,logy=False)"
      ],
      "execution_count": null,
      "outputs": [
        {
          "output_type": "execute_result",
          "data": {
            "text/plain": [
              "<matplotlib.axes._subplots.AxesSubplot at 0x7fabe64fe898>"
            ]
          },
          "metadata": {
            "tags": []
          },
          "execution_count": 105
        },
        {
          "output_type": "display_data",
          "data": {
            "image/png": "[encoded data removed]",
            "text/plain": [
              "<Figure size 432x288 with 1 Axes>"
            ]
          },
          "metadata": {
            "tags": [],
            "needs_background": "light"
          }
        }
      ]
    },
    {
      "cell_type": "code",
      "metadata": {
        "id": "fvDk6RdDAuKz",
        "colab": {
          "base_uri": "https://localhost:8080/"
        },
        "outputId": "3d3e1793-ca72-48c8-e2c2-869c04861914"
      },
      "source": [
        "df.budget[df.budget > 0].sort_values().plot(logx=True,logy=False)"
      ],
      "execution_count": null,
      "outputs": [
        {
          "output_type": "execute_result",
          "data": {
            "text/plain": [
              "<matplotlib.axes._subplots.AxesSubplot at 0x7fabe63d4048>"
            ]
          },
          "metadata": {
            "tags": []
          },
          "execution_count": 106
        },
        {
          "output_type": "display_data",
          "data": {
            "image/png": "[encoded data removed]",
            "text/plain": [
              "<Figure size 432x288 with 1 Axes>"
            ]
          },
          "metadata": {
            "tags": [],
            "needs_background": "light"
          }
        }
      ]
    },
    {
      "cell_type": "code",
      "metadata": {
        "id": "n5IQ4x7y3sES",
        "colab": {
          "base_uri": "https://localhost:8080/"
        },
        "outputId": "cb305300-a650-453e-ae69-45f9beaa2d17"
      },
      "source": [
        "fig, ax = plt.subplots(figsize=(2,4))\n",
        "sns.heatmap(df[['budget']]==0,cbar=False)\n",
        "plt.title('Complétude après nettoyage')\n",
        "print('Budget est complet à ',(1-len(df.budget[df.budget == 0])/len(df.budget))*100,'%')"
      ],
      "execution_count": null,
      "outputs": [
        {
          "output_type": "stream",
          "text": [
            "Budget est complet à  19.549948257260496 %\n"
          ],
          "name": "stdout"
        },
        {
          "output_type": "display_data",
          "data": {
            "image/png": "[encoded data removed]",
            "text/plain": [
              "<Figure size 144x288 with 1 Axes>"
            ]
          },
          "metadata": {
            "tags": [],
            "needs_background": "light"
          }
        }
      ]
    },
    {
      "cell_type": "markdown",
      "metadata": {
        "id": "QMlTlcp_A1fl"
      },
      "source": [
        "#### *revenue*"
      ]
    },
    {
      "cell_type": "markdown",
      "metadata": {
        "id": "e8H1DDuJBxZC"
      },
      "source": [
        "De même que pour la variable *budget*, la variable *revenue* est assez mal renseignée avec une grosse proportion de films dont le revenu est renseigné comme nul. "
      ]
    },
    {
      "cell_type": "code",
      "metadata": {
        "id": "Pbh3C0YXBkvr",
        "colab": {
          "base_uri": "https://localhost:8080/"
        },
        "outputId": "4f5ee1b2-8cad-4a1e-9323-629b825375f5"
      },
      "source": [
        "df.revenue.describe()"
      ],
      "execution_count": null,
      "outputs": [
        {
          "output_type": "execute_result",
          "data": {
            "text/plain": [
              "count    4.541400e+04\n",
              "mean     1.121683e+07\n",
              "std      6.436312e+07\n",
              "min      0.000000e+00\n",
              "25%      0.000000e+00\n",
              "50%      0.000000e+00\n",
              "75%      0.000000e+00\n",
              "max      2.787965e+09\n",
              "Name: revenue, dtype: float64"
            ]
          },
          "metadata": {
            "tags": []
          },
          "execution_count": 108
        }
      ]
    },
    {
      "cell_type": "code",
      "metadata": {
        "id": "aPpxFBanA_rm",
        "colab": {
          "base_uri": "https://localhost:8080/"
        },
        "outputId": "0d1e99df-ecb6-45e7-9d0b-ee6c07421723"
      },
      "source": [
        "df.revenue.sort_values().plot()"
      ],
      "execution_count": null,
      "outputs": [
        {
          "output_type": "execute_result",
          "data": {
            "text/plain": [
              "<matplotlib.axes._subplots.AxesSubplot at 0x7fabe61ce898>"
            ]
          },
          "metadata": {
            "tags": []
          },
          "execution_count": 109
        },
        {
          "output_type": "display_data",
          "data": {
            "image/png": "[encoded data removed]",
            "text/plain": [
              "<Figure size 432x288 with 1 Axes>"
            ]
          },
          "metadata": {
            "tags": [],
            "needs_background": "light"
          }
        }
      ]
    },
    {
      "cell_type": "code",
      "metadata": {
        "id": "JJW9r6tKBpwb",
        "colab": {
          "base_uri": "https://localhost:8080/"
        },
        "outputId": "8c6624c4-8b29-4170-c56e-7a02939714b0"
      },
      "source": [
        "fig, ax = plt.subplots(figsize=(2,4))\n",
        "sns.heatmap(df[['revenue']]==0,cbar=False)\n",
        "plt.title('Complétude après nettoyage')\n",
        "print('Revenue est complet à ',(1-len(df.revenue[df.revenue == 0])/len(df.revenue))*100,'%')"
      ],
      "execution_count": null,
      "outputs": [
        {
          "output_type": "stream",
          "text": [
            "Revenue est complet à  16.295660215337872 %\n"
          ],
          "name": "stdout"
        },
        {
          "output_type": "display_data",
          "data": {
            "image/png": "[encoded data removed]",
            "text/plain": [
              "<Figure size 144x288 with 1 Axes>"
            ]
          },
          "metadata": {
            "tags": [],
            "needs_background": "light"
          }
        }
      ]
    },
    {
      "cell_type": "markdown",
      "metadata": {
        "id": "s1WKbEok9PhS"
      },
      "source": [
        "### *Original_language* \n",
        "\n",
        "\n",
        "Dans notre base de données, les langues originales dans lequel le film est apparu sont codées de cette manière :"
      ]
    },
    {
      "cell_type": "code",
      "metadata": {
        "id": "iCfBDk7-9ZR6",
        "colab": {
          "base_uri": "https://localhost:8080/",
          "height": 35
        },
        "outputId": "f878425d-612f-4839-af55-fee1af2290c1"
      },
      "source": [
        "df.original_language[0]"
      ],
      "execution_count": null,
      "outputs": [
        {
          "output_type": "execute_result",
          "data": {
            "application/vnd.google.colaboratory.intrinsic+json": {
              "type": "string"
            },
            "text/plain": [
              "'en'"
            ]
          },
          "metadata": {
            "tags": []
          },
          "execution_count": 111
        }
      ]
    },
    {
      "cell_type": "markdown",
      "metadata": {
        "id": "MmlCgXLV9dkx"
      },
      "source": [
        "En fait, il s'agit des identifiants ISO_639-1 de chaque langue (en l'occurence ici l'anglais). Pour plus de lisibilité, nous avons décidé de récupérer cette liste d'identifiants via une méthode de webscrapping, puis de créer une fonction qui renvoit la langue associée à son identifiant."
      ]
    },
    {
      "cell_type": "markdown",
      "metadata": {
        "id": "d2E5x1Ue9gxH"
      },
      "source": [
        "#### Scraping des identifiants ISO_639-1\n",
        "\n",
        "\n",
        "La liste des codes IS0_639-1 est disponible sur l'url suivante : https://fr.wikipedia.org/wiki/Liste_des_codes_ISO_639-1.\n",
        "\n",
        "Nous allons récupérer les identifiants, ainsi que les langues correspondantes:"
      ]
    },
    {
      "cell_type": "code",
      "metadata": {
        "id": "GMl4S2ZQ9o_9"
      },
      "source": [
        "url_iso = \"https://fr.wikipedia.org/wiki/Liste_des_codes_ISO_639-1\"\n",
        "    \n",
        "request_text = request.urlopen(url_iso).read()\n",
        "page = bs4.BeautifulSoup(request_text, \"lxml\")"
      ],
      "execution_count": null,
      "outputs": []
    },
    {
      "cell_type": "markdown",
      "metadata": {
        "id": "vNR2CCo49svo"
      },
      "source": [
        "Les informations que nous désirons étant contenues dans un tableau, on le récupère puis on le convertit en Data Frame."
      ]
    },
    {
      "cell_type": "code",
      "metadata": {
        "id": "r3bpHcw79sMC",
        "colab": {
          "base_uri": "https://localhost:8080/",
          "height": 415
        },
        "outputId": "2d9d800a-5200-4358-9a40-10de482caf10"
      },
      "source": [
        "table = page.find('table')\n",
        "ls = str(table)\n",
        "liste_iso = pd.DataFrame(pd.read_html(ls)[0])\n",
        "liste_iso"
      ],
      "execution_count": null,
      "outputs": [
        {
          "output_type": "execute_result",
          "data": {
            "text/html": [
              "<div>\n",
              "<style scoped>\n",
              "    .dataframe tbody tr th:only-of-type {\n",
              "        vertical-align: middle;\n",
              "    }\n",
              "\n",
              "    .dataframe tbody tr th {\n",
              "        vertical-align: top;\n",
              "    }\n",
              "\n",
              "    .dataframe thead th {\n",
              "        text-align: right;\n",
              "    }\n",
              "</style>\n",
              "<table border=\"1\" class=\"dataframe\">\n",
              "  <thead>\n",
              "    <tr style=\"text-align: right;\">\n",
              "      <th></th>\n",
              "      <th>639-1</th>\n",
              "      <th>639-2</th>\n",
              "      <th>639-3</th>\n",
              "      <th>Nom de la langue</th>\n",
              "      <th>Nom(dans la langue correspondante)</th>\n",
              "      <th>Nom en anglais</th>\n",
              "      <th>Commentaire</th>\n",
              "    </tr>\n",
              "  </thead>\n",
              "  <tbody>\n",
              "    <tr>\n",
              "      <th>0</th>\n",
              "      <td>aa</td>\n",
              "      <td>aar</td>\n",
              "      <td>aar</td>\n",
              "      <td>Afar</td>\n",
              "      <td>Afaraf</td>\n",
              "      <td>Afar</td>\n",
              "      <td>NaN</td>\n",
              "    </tr>\n",
              "    <tr>\n",
              "      <th>1</th>\n",
              "      <td>ab</td>\n",
              "      <td>abk</td>\n",
              "      <td>abk</td>\n",
              "      <td>Abkhaze</td>\n",
              "      <td>Аҧсуа</td>\n",
              "      <td>Abkhazian</td>\n",
              "      <td>NaN</td>\n",
              "    </tr>\n",
              "    <tr>\n",
              "      <th>2</th>\n",
              "      <td>ae</td>\n",
              "      <td>ave</td>\n",
              "      <td>ave</td>\n",
              "      <td>Avestique</td>\n",
              "      <td>Avesta</td>\n",
              "      <td>Avestan</td>\n",
              "      <td>NaN</td>\n",
              "    </tr>\n",
              "    <tr>\n",
              "      <th>3</th>\n",
              "      <td>af</td>\n",
              "      <td>afr</td>\n",
              "      <td>afr</td>\n",
              "      <td>Afrikaans</td>\n",
              "      <td>Afrikaans</td>\n",
              "      <td>Afrikaans</td>\n",
              "      <td>NaN</td>\n",
              "    </tr>\n",
              "    <tr>\n",
              "      <th>4</th>\n",
              "      <td>ak</td>\n",
              "      <td>aka</td>\n",
              "      <td>aka + 2</td>\n",
              "      <td>Akan</td>\n",
              "      <td>Akan</td>\n",
              "      <td>Akan</td>\n",
              "      <td>NaN</td>\n",
              "    </tr>\n",
              "    <tr>\n",
              "      <th>...</th>\n",
              "      <td>...</td>\n",
              "      <td>...</td>\n",
              "      <td>...</td>\n",
              "      <td>...</td>\n",
              "      <td>...</td>\n",
              "      <td>...</td>\n",
              "      <td>...</td>\n",
              "    </tr>\n",
              "    <tr>\n",
              "      <th>182</th>\n",
              "      <td>yi</td>\n",
              "      <td>yid</td>\n",
              "      <td>yid + 2</td>\n",
              "      <td>Yiddish</td>\n",
              "      <td>ייִדיש</td>\n",
              "      <td>Yiddish</td>\n",
              "      <td>NaN</td>\n",
              "    </tr>\n",
              "    <tr>\n",
              "      <th>183</th>\n",
              "      <td>yo</td>\n",
              "      <td>yor</td>\n",
              "      <td>yor</td>\n",
              "      <td>Yoruba</td>\n",
              "      <td>Yorùbá</td>\n",
              "      <td>Yoruba</td>\n",
              "      <td>NaN</td>\n",
              "    </tr>\n",
              "    <tr>\n",
              "      <th>184</th>\n",
              "      <td>za</td>\n",
              "      <td>zha</td>\n",
              "      <td>zha + 2</td>\n",
              "      <td>Zhuang</td>\n",
              "      <td>Saɯ cueŋƅ ; Saw cuengh</td>\n",
              "      <td>Zhuang</td>\n",
              "      <td>NaN</td>\n",
              "    </tr>\n",
              "    <tr>\n",
              "      <th>185</th>\n",
              "      <td>zh</td>\n",
              "      <td>chi/zho</td>\n",
              "      <td>zho + 13</td>\n",
              "      <td>Chinois</td>\n",
              "      <td>中文, 汉语, 漢語</td>\n",
              "      <td>Chinese</td>\n",
              "      <td>NaN</td>\n",
              "    </tr>\n",
              "    <tr>\n",
              "      <th>186</th>\n",
              "      <td>zu</td>\n",
              "      <td>zul</td>\n",
              "      <td>zul</td>\n",
              "      <td>Zoulou</td>\n",
              "      <td>isiZulu</td>\n",
              "      <td>Zulu</td>\n",
              "      <td>NaN</td>\n",
              "    </tr>\n",
              "  </tbody>\n",
              "</table>\n",
              "<p>187 rows × 7 columns</p>\n",
              "</div>"
            ],
            "text/plain": [
              "    639-1    639-2  ... Nom en anglais Commentaire\n",
              "0      aa      aar  ...           Afar         NaN\n",
              "1      ab      abk  ...      Abkhazian         NaN\n",
              "2      ae      ave  ...        Avestan         NaN\n",
              "3      af      afr  ...      Afrikaans         NaN\n",
              "4      ak      aka  ...           Akan         NaN\n",
              "..    ...      ...  ...            ...         ...\n",
              "182    yi      yid  ...        Yiddish         NaN\n",
              "183    yo      yor  ...         Yoruba         NaN\n",
              "184    za      zha  ...         Zhuang         NaN\n",
              "185    zh  chi/zho  ...        Chinese         NaN\n",
              "186    zu      zul  ...           Zulu         NaN\n",
              "\n",
              "[187 rows x 7 columns]"
            ]
          },
          "metadata": {
            "tags": []
          },
          "execution_count": 113
        }
      ]
    },
    {
      "cell_type": "markdown",
      "metadata": {
        "id": "7DAa2-nV9r-q"
      },
      "source": [
        "Après une étude approfondie de la base, nous avons constaté que certains films possédaient l'identifiant 'cn' correspondant au cantonais. On le rajoute au Data Frame précédent:\n",
        "\n"
      ]
    },
    {
      "cell_type": "code",
      "metadata": {
        "id": "mZEri99W90wf",
        "colab": {
          "base_uri": "https://localhost:8080/",
          "height": 415
        },
        "outputId": "2bb31583-c377-4a14-f635-381c3b30b890"
      },
      "source": [
        "liste_iso.loc[187] = ['cn', 'NaN', 'NaN', 'Cantonais', 'NaN', 'Cantonese', 'NaN']\n",
        "liste_iso"
      ],
      "execution_count": null,
      "outputs": [
        {
          "output_type": "execute_result",
          "data": {
            "text/html": [
              "<div>\n",
              "<style scoped>\n",
              "    .dataframe tbody tr th:only-of-type {\n",
              "        vertical-align: middle;\n",
              "    }\n",
              "\n",
              "    .dataframe tbody tr th {\n",
              "        vertical-align: top;\n",
              "    }\n",
              "\n",
              "    .dataframe thead th {\n",
              "        text-align: right;\n",
              "    }\n",
              "</style>\n",
              "<table border=\"1\" class=\"dataframe\">\n",
              "  <thead>\n",
              "    <tr style=\"text-align: right;\">\n",
              "      <th></th>\n",
              "      <th>639-1</th>\n",
              "      <th>639-2</th>\n",
              "      <th>639-3</th>\n",
              "      <th>Nom de la langue</th>\n",
              "      <th>Nom(dans la langue correspondante)</th>\n",
              "      <th>Nom en anglais</th>\n",
              "      <th>Commentaire</th>\n",
              "    </tr>\n",
              "  </thead>\n",
              "  <tbody>\n",
              "    <tr>\n",
              "      <th>0</th>\n",
              "      <td>aa</td>\n",
              "      <td>aar</td>\n",
              "      <td>aar</td>\n",
              "      <td>Afar</td>\n",
              "      <td>Afaraf</td>\n",
              "      <td>Afar</td>\n",
              "      <td>NaN</td>\n",
              "    </tr>\n",
              "    <tr>\n",
              "      <th>1</th>\n",
              "      <td>ab</td>\n",
              "      <td>abk</td>\n",
              "      <td>abk</td>\n",
              "      <td>Abkhaze</td>\n",
              "      <td>Аҧсуа</td>\n",
              "      <td>Abkhazian</td>\n",
              "      <td>NaN</td>\n",
              "    </tr>\n",
              "    <tr>\n",
              "      <th>2</th>\n",
              "      <td>ae</td>\n",
              "      <td>ave</td>\n",
              "      <td>ave</td>\n",
              "      <td>Avestique</td>\n",
              "      <td>Avesta</td>\n",
              "      <td>Avestan</td>\n",
              "      <td>NaN</td>\n",
              "    </tr>\n",
              "    <tr>\n",
              "      <th>3</th>\n",
              "      <td>af</td>\n",
              "      <td>afr</td>\n",
              "      <td>afr</td>\n",
              "      <td>Afrikaans</td>\n",
              "      <td>Afrikaans</td>\n",
              "      <td>Afrikaans</td>\n",
              "      <td>NaN</td>\n",
              "    </tr>\n",
              "    <tr>\n",
              "      <th>4</th>\n",
              "      <td>ak</td>\n",
              "      <td>aka</td>\n",
              "      <td>aka + 2</td>\n",
              "      <td>Akan</td>\n",
              "      <td>Akan</td>\n",
              "      <td>Akan</td>\n",
              "      <td>NaN</td>\n",
              "    </tr>\n",
              "    <tr>\n",
              "      <th>...</th>\n",
              "      <td>...</td>\n",
              "      <td>...</td>\n",
              "      <td>...</td>\n",
              "      <td>...</td>\n",
              "      <td>...</td>\n",
              "      <td>...</td>\n",
              "      <td>...</td>\n",
              "    </tr>\n",
              "    <tr>\n",
              "      <th>183</th>\n",
              "      <td>yo</td>\n",
              "      <td>yor</td>\n",
              "      <td>yor</td>\n",
              "      <td>Yoruba</td>\n",
              "      <td>Yorùbá</td>\n",
              "      <td>Yoruba</td>\n",
              "      <td>NaN</td>\n",
              "    </tr>\n",
              "    <tr>\n",
              "      <th>184</th>\n",
              "      <td>za</td>\n",
              "      <td>zha</td>\n",
              "      <td>zha + 2</td>\n",
              "      <td>Zhuang</td>\n",
              "      <td>Saɯ cueŋƅ ; Saw cuengh</td>\n",
              "      <td>Zhuang</td>\n",
              "      <td>NaN</td>\n",
              "    </tr>\n",
              "    <tr>\n",
              "      <th>185</th>\n",
              "      <td>zh</td>\n",
              "      <td>chi/zho</td>\n",
              "      <td>zho + 13</td>\n",
              "      <td>Chinois</td>\n",
              "      <td>中文, 汉语, 漢語</td>\n",
              "      <td>Chinese</td>\n",
              "      <td>NaN</td>\n",
              "    </tr>\n",
              "    <tr>\n",
              "      <th>186</th>\n",
              "      <td>zu</td>\n",
              "      <td>zul</td>\n",
              "      <td>zul</td>\n",
              "      <td>Zoulou</td>\n",
              "      <td>isiZulu</td>\n",
              "      <td>Zulu</td>\n",
              "      <td>NaN</td>\n",
              "    </tr>\n",
              "    <tr>\n",
              "      <th>187</th>\n",
              "      <td>cn</td>\n",
              "      <td>NaN</td>\n",
              "      <td>NaN</td>\n",
              "      <td>Cantonais</td>\n",
              "      <td>NaN</td>\n",
              "      <td>Cantonese</td>\n",
              "      <td>NaN</td>\n",
              "    </tr>\n",
              "  </tbody>\n",
              "</table>\n",
              "<p>188 rows × 7 columns</p>\n",
              "</div>"
            ],
            "text/plain": [
              "    639-1    639-2  ... Nom en anglais Commentaire\n",
              "0      aa      aar  ...           Afar         NaN\n",
              "1      ab      abk  ...      Abkhazian         NaN\n",
              "2      ae      ave  ...        Avestan         NaN\n",
              "3      af      afr  ...      Afrikaans         NaN\n",
              "4      ak      aka  ...           Akan         NaN\n",
              "..    ...      ...  ...            ...         ...\n",
              "183    yo      yor  ...         Yoruba         NaN\n",
              "184    za      zha  ...         Zhuang         NaN\n",
              "185    zh  chi/zho  ...        Chinese         NaN\n",
              "186    zu      zul  ...           Zulu         NaN\n",
              "187    cn      NaN  ...      Cantonese         NaN\n",
              "\n",
              "[188 rows x 7 columns]"
            ]
          },
          "metadata": {
            "tags": []
          },
          "execution_count": 114
        }
      ]
    },
    {
      "cell_type": "markdown",
      "metadata": {
        "id": "igk9MH2_94bl"
      },
      "source": [
        "La fonction suivante permettra de récupérer la langue associée à un identifiant ISO_639-1. En la faisant tourner, nous nous sommes rendu compte que les NaN n'étaient pas toujours indiqués de la même manière. Il faut donc prendre en compte ces cas pour éviter toute erreur lors du lancement de la fonction."
      ]
    },
    {
      "cell_type": "code",
      "metadata": {
        "id": "Cv6tGS9197_o"
      },
      "source": [
        "def find_id(id):\n",
        "  if id == '' or id == 'NaN' or id == 'xx' or id == 'nan' or id =='104.0' or id =='68.0' or id =='82.0':        # on élimine les cas où la langue n'est pas indiquée\n",
        "    return ''\n",
        "  i = 0\n",
        "  while (str((liste_iso['639-1'])[i]) == id) == False and i<len(df):\n",
        "    i += 1\n",
        "  return liste_iso['Nom de la langue'][i]"
      ],
      "execution_count": null,
      "outputs": []
    },
    {
      "cell_type": "markdown",
      "metadata": {
        "id": "eYbQqkxX-AVd"
      },
      "source": [
        "On teste la fonction sur la première entrée de la colonne 'original_language'"
      ]
    },
    {
      "cell_type": "code",
      "metadata": {
        "id": "_vQTB8rP990A",
        "colab": {
          "base_uri": "https://localhost:8080/",
          "height": 35
        },
        "outputId": "bce303a1-5f99-4132-f0f1-db3c3fb77fa9"
      },
      "source": [
        "test = str('en')\n",
        "find_id(test)"
      ],
      "execution_count": null,
      "outputs": [
        {
          "output_type": "execute_result",
          "data": {
            "application/vnd.google.colaboratory.intrinsic+json": {
              "type": "string"
            },
            "text/plain": [
              "'Anglais'"
            ]
          },
          "metadata": {
            "tags": []
          },
          "execution_count": 116
        }
      ]
    },
    {
      "cell_type": "markdown",
      "metadata": {
        "id": "OaMGql2g-EVQ"
      },
      "source": [
        "Puis on généralise la méthode à toutes les cellules de cette colonne :"
      ]
    },
    {
      "cell_type": "code",
      "metadata": {
        "id": "C3mejqWN-FWP",
        "colab": {
          "base_uri": "https://localhost:8080/",
          "height": 208,
          "referenced_widgets": [
            "e70bc348adc245b2b2756d40aeb15518",
            "e4ef2e07a3884ed5b5083158dc28f72a",
            "0ff71013d53b4db089f4ec278e98d5eb",
            "be4802b72b044a13b120d21e6dc179a4",
            "de70b5838831454083bc67802fc872b8",
            "523410a1a6dc48aeb74c8889d67ba86f",
            "741482a26a584e2ba303a879c3a36d7d",
            "0f7e068c648141a681e34501e49180fd"
          ]
        },
        "outputId": "a37a40e1-5f5d-4695-e2f5-4ffd2fc74a5e"
      },
      "source": [
        "for i in trange(len(df)):\n",
        "  id = str(df.original_language[i])\n",
        "  df.original_language[i] = find_id(id)"
      ],
      "execution_count": null,
      "outputs": [
        {
          "output_type": "display_data",
          "data": {
            "application/vnd.jupyter.widget-view+json": {
              "model_id": "e70bc348adc245b2b2756d40aeb15518",
              "version_minor": 0,
              "version_major": 2
            },
            "text/plain": [
              "HBox(children=(FloatProgress(value=0.0, max=45417.0), HTML(value='')))"
            ]
          },
          "metadata": {
            "tags": []
          }
        },
        {
          "output_type": "stream",
          "text": [
            "/usr/local/lib/python3.6/dist-packages/ipykernel_launcher.py:3: SettingWithCopyWarning:\n",
            "\n",
            "\n",
            "A value is trying to be set on a copy of a slice from a DataFrame\n",
            "\n",
            "See the caveats in the documentation: https://pandas.pydata.org/pandas-docs/stable/user_guide/indexing.html#returning-a-view-versus-a-copy\n",
            "\n"
          ],
          "name": "stderr"
        },
        {
          "output_type": "stream",
          "text": [
            "\n"
          ],
          "name": "stdout"
        }
      ]
    },
    {
      "cell_type": "markdown",
      "metadata": {
        "id": "GAo-1Mc7xnKY"
      },
      "source": [
        "## Fin du nettoyage"
      ]
    },
    {
      "cell_type": "markdown",
      "metadata": {
        "id": "DdQo6B9C-9JJ"
      },
      "source": [
        "On enregistre la base nettoyée sous le nom base.csv."
      ]
    },
    {
      "cell_type": "code",
      "metadata": {
        "id": "FdQjnnns-7vQ"
      },
      "source": [
        "df.to_csv('base.csv')"
      ],
      "execution_count": null,
      "outputs": []
    },
    {
      "cell_type": "markdown",
      "metadata": {
        "id": "CfZEvcuGzFVF"
      },
      "source": [
        "# Scraping de mots-clés caractérisant le film\n",
        "Le but de cette partie est de récupérer des mots-clés pour chaque film de la base. Pour un film donné, d'identifiant imbd_id, nous allons scraper la page https://www.imdb.com/title/imbd_id/keywords. Tout l'intérêt de la démarche est de pouvoir ensuite réaliser des nuages de mots, pour tenter de mettre en évidence les thématiques qui plaisent au public"
      ]
    },
    {
      "cell_type": "code",
      "metadata": {
        "id": "0Yxw6CiNzGvC"
      },
      "source": [
        "url_keywords = \"https://www.imdb.com/title/\" + df.imdb_id[1] +\"/keywords\"\n",
        "    \n",
        "request_text = request.urlopen(url_keywords).read()\n",
        "page = bs4.BeautifulSoup(request_text, \"lxml\")"
      ],
      "execution_count": null,
      "outputs": []
    },
    {
      "cell_type": "markdown",
      "metadata": {
        "id": "1BMCndn_-REe"
      },
      "source": [
        "On peut ensuite récupérer facilement les mots-clés, repérés dans le code source par 'data-item-keyword' :"
      ]
    },
    {
      "cell_type": "code",
      "metadata": {
        "id": "2ZOkL-65-OcL",
        "colab": {
          "base_uri": "https://localhost:8080/"
        },
        "outputId": "09551d78-f676-48df-f39d-e62fae4e8a3b"
      },
      "source": [
        "for post in page.findAll('td'):\n",
        "    print(post.get('data-item-keyword'))"
      ],
      "execution_count": null,
      "outputs": [
        {
          "output_type": "stream",
          "text": [
            "board game\n",
            "adventurer\n",
            "fight\n",
            "game\n",
            "year 1995\n",
            "drumbeat\n",
            "jumanji\n",
            "franchise\n",
            "first of series\n",
            "first part\n",
            "cult film\n",
            "cult classic\n",
            "christmas\n",
            "1960s\n",
            "1990s\n",
            "20th century\n",
            "jungle\n",
            "magic\n",
            "trapped in a game\n",
            "dybbuk box\n",
            "based on children's book\n",
            "rainforest\n",
            "surrealism\n",
            "year 1969\n",
            "new hampshire\n",
            "blockbuster\n",
            "wood\n",
            "board\n",
            "explorer\n",
            "footwear\n",
            "bug\n",
            "danger\n",
            "adulthood\n",
            "child\n",
            "childhood\n",
            "perilous escape\n",
            "pigtails\n",
            "bearded man\n",
            "shared universe\n",
            "old photograph\n",
            "child turning into animal\n",
            "live action and animation\n",
            "psychotronic film\n",
            "supernatural power\n",
            "1860s\n",
            "19th century\n",
            "friends who live together\n",
            "overalls\n",
            "actor playing multiple roles\n",
            "animal killing\n",
            "heavy rain\n",
            "rampage\n",
            "hiding in a closet\n",
            "mutation\n",
            "attic\n",
            "friendship\n",
            "fish out of water\n",
            "stealing a car\n",
            "hunter\n",
            "year 1869\n",
            "abandoned factory\n",
            "tail\n",
            "sporting goods store\n",
            "small town\n",
            "motorcycle\n",
            "giant insect\n",
            "forest\n",
            "factory\n",
            "exterminator\n",
            "crocodile\n",
            "big game hunter\n",
            "one word title\n",
            "no opening credits\n",
            "rhinoceros\n",
            "pelican\n",
            "mosquito\n",
            "monkey\n",
            "lion\n",
            "earthquake\n",
            "zebra\n",
            "elephant\n",
            "bully\n",
            "title spoken by character\n",
            "woodland\n",
            "lush\n",
            "vegetation\n",
            "arachnid\n",
            "critter\n",
            "crawler\n",
            "blunderbuss\n",
            "blunder\n",
            "leaf\n",
            "lace\n",
            "competition\n",
            "vine\n",
            "partner\n",
            "plant\n",
            "carnivore\n",
            "reference to wilt chamberlain\n",
            "wonder bread\n",
            "looking through a keyhole\n",
            "dice\n",
            "saying thank you\n",
            "reference to tarzan\n",
            "reference to ringling brothers\n",
            "handcuffed\n",
            "motor car\n",
            "vehicle\n",
            "automobile\n",
            "weapon\n",
            "car\n",
            "motor vehicle\n",
            "car crash\n",
            "vandalism\n",
            "first film in series\n",
            "title same as book\n",
            "boy\n",
            "girl\n",
            "supernatural\n",
            "shoe factory\n",
            "older version of character\n",
            "rolling dice\n",
            "cgi animal\n",
            "fortune teller\n",
            "nervous breakdown\n",
            "person thought dead is alive\n",
            "nemesis\n",
            "great white hunter\n",
            "police car\n",
            "fainting\n",
            "moving into a house\n",
            "aunt niece relationship\n",
            "aunt nephew relationship\n",
            "cutting face while shaving\n",
            "illegal gun sale\n",
            "hostage situation\n",
            "discount store\n",
            "laundry detergent\n",
            "hacksaw\n",
            "turning into a monkey\n",
            "reference to clue the board game\n",
            "predator prey\n",
            "human hunting a human\n",
            "poison\n",
            "spider\n",
            "businessman\n",
            "boarding school\n",
            "wealthy family\n",
            "transported back in time\n",
            "return to the past\n",
            "santa claus costume\n",
            "alternate timeline\n",
            "timeline change\n",
            "pregnant woman\n",
            "statue\n",
            "sneaker\n",
            "beat up\n",
            "bloody lip\n",
            "black eye\n",
            "stealing a bicycle\n",
            "namesake\n",
            "family name\n",
            "snob\n",
            "wooden chest\n",
            "excavation\n",
            "game piece\n",
            "brochure\n",
            "family legacy\n",
            "suitcase\n",
            "animatronic\n",
            "fib\n",
            "real estate agent\n",
            "jungle man\n",
            "homeless person\n",
            "bum\n",
            "squatter\n",
            "car crashes into a store\n",
            "driving a car into a building\n",
            "realtor\n",
            "driving without a license\n",
            "cracked windshield\n",
            "cutting one's own hair\n",
            "view through rifle scope\n",
            "sniper rifle\n",
            "canoe\n",
            "scuba tank\n",
            "tire\n",
            "paint can\n",
            "rain\n",
            "reference to a zodiac sign\n",
            "reference to a horoscope\n",
            "reference to libra the constellation\n",
            "zodiac sign\n",
            "trailer narrated by hal douglas\n",
            "trailer narrated by nick tate\n",
            "breaking the fourth wall\n",
            "altering history\n",
            "held at gunpoint\n",
            "improvised weapon\n",
            "impersonating a police officer\n",
            "looting\n",
            "subtitled scene\n",
            "hit by a car\n",
            "shotgun\n",
            "psychiatrist\n",
            "library\n",
            "mother daughter relationship\n",
            "mother son relationship\n",
            "arrest\n",
            "handcuffs\n",
            "revolver\n",
            "bullet time\n",
            "underwater scene\n",
            "investment banker\n",
            "chaos\n",
            "motorcycle cop\n",
            "gun store\n",
            "poison ivy\n",
            "car through wall\n",
            "family relationships\n",
            "time lapse photography\n",
            "vortex\n",
            "shoe\n",
            "santa claus suit\n",
            "river\n",
            "rifle\n",
            "refrigerator\n",
            "recluse\n",
            "prologue\n",
            "police officer\n",
            "orphan\n",
            "missing child\n",
            "mansion\n",
            "loss of parents\n",
            "giant spider\n",
            "flood\n",
            "first love\n",
            "fireplace\n",
            "father son reunion\n",
            "conveyor belt\n",
            "convertible\n",
            "construction site\n",
            "confession\n",
            "christmas party\n",
            "child in peril\n",
            "chest\n",
            "cemetery\n",
            "carnivorous plant\n",
            "bridge\n",
            "bicycle chase\n",
            "beach\n",
            "axe\n",
            "auto theft\n",
            "apology\n",
            "animal driving a car\n",
            "insect attack\n",
            "courage\n",
            "animal attack\n",
            "quicksand\n",
            "presumed dead\n",
            "monsoon\n",
            "car accident\n",
            "bat\n",
            "father son relationship\n",
            "brother sister relationship\n",
            "stampede\n",
            "cgi\n",
            "based on novel\n",
            "based on book\n",
            "horror for children\n",
            "tween girl\n",
            "lifting someone into the air\n",
            "human becoming an animal\n",
            "time travel\n",
            "surprise ending\n",
            "None\n"
          ],
          "name": "stdout"
        }
      ]
    },
    {
      "cell_type": "markdown",
      "metadata": {
        "id": "Q9jYrf9rx_q2"
      },
      "source": [
        "Pour stocker les mots-clés, on crée une nouvelle base comprenant les variables *imdb_id*, *title* ainsi que *keywords*, qui sera sous la forme d'une liste de mots-clés pour chaque film."
      ]
    },
    {
      "cell_type": "code",
      "metadata": {
        "id": "2m0AOj0Z-S1s",
        "colab": {
          "base_uri": "https://localhost:8080/"
        },
        "outputId": "c8d280a5-92c2-45b3-c82b-b0c9905e068c"
      },
      "source": [
        "df_new_column = pd.DataFrame(0, index=np.arange(len(df)), columns=['keywords'])\n",
        "df_2 = pd.concat([df.imdb_id, df.title, df_new_column], axis=1)\n",
        "\n",
        "df_2"
      ],
      "execution_count": null,
      "outputs": [
        {
          "output_type": "execute_result",
          "data": {
            "text/html": [
              "<div>\n",
              "<style scoped>\n",
              "    .dataframe tbody tr th:only-of-type {\n",
              "        vertical-align: middle;\n",
              "    }\n",
              "\n",
              "    .dataframe tbody tr th {\n",
              "        vertical-align: top;\n",
              "    }\n",
              "\n",
              "    .dataframe thead th {\n",
              "        text-align: right;\n",
              "    }\n",
              "</style>\n",
              "<table border=\"1\" class=\"dataframe\">\n",
              "  <thead>\n",
              "    <tr style=\"text-align: right;\">\n",
              "      <th></th>\n",
              "      <th>imdb_id</th>\n",
              "      <th>title</th>\n",
              "      <th>keywords</th>\n",
              "    </tr>\n",
              "  </thead>\n",
              "  <tbody>\n",
              "    <tr>\n",
              "      <th>0</th>\n",
              "      <td>tt0114709</td>\n",
              "      <td>Toy Story</td>\n",
              "      <td>0</td>\n",
              "    </tr>\n",
              "    <tr>\n",
              "      <th>1</th>\n",
              "      <td>tt0113497</td>\n",
              "      <td>Jumanji</td>\n",
              "      <td>0</td>\n",
              "    </tr>\n",
              "    <tr>\n",
              "      <th>2</th>\n",
              "      <td>tt0113228</td>\n",
              "      <td>Grumpier Old Men</td>\n",
              "      <td>0</td>\n",
              "    </tr>\n",
              "    <tr>\n",
              "      <th>3</th>\n",
              "      <td>tt0114885</td>\n",
              "      <td>Waiting to Exhale</td>\n",
              "      <td>0</td>\n",
              "    </tr>\n",
              "    <tr>\n",
              "      <th>4</th>\n",
              "      <td>tt0113041</td>\n",
              "      <td>Father of the Bride Part II</td>\n",
              "      <td>0</td>\n",
              "    </tr>\n",
              "    <tr>\n",
              "      <th>...</th>\n",
              "      <td>...</td>\n",
              "      <td>...</td>\n",
              "      <td>...</td>\n",
              "    </tr>\n",
              "    <tr>\n",
              "      <th>45412</th>\n",
              "      <td>tt6209470</td>\n",
              "      <td>Subdue</td>\n",
              "      <td>0</td>\n",
              "    </tr>\n",
              "    <tr>\n",
              "      <th>45413</th>\n",
              "      <td>tt2028550</td>\n",
              "      <td>Century of Birthing</td>\n",
              "      <td>0</td>\n",
              "    </tr>\n",
              "    <tr>\n",
              "      <th>45414</th>\n",
              "      <td>tt0303758</td>\n",
              "      <td>Betrayal</td>\n",
              "      <td>0</td>\n",
              "    </tr>\n",
              "    <tr>\n",
              "      <th>45415</th>\n",
              "      <td>tt0008536</td>\n",
              "      <td>Satan Triumphant</td>\n",
              "      <td>0</td>\n",
              "    </tr>\n",
              "    <tr>\n",
              "      <th>45416</th>\n",
              "      <td>tt6980792</td>\n",
              "      <td>Queerama</td>\n",
              "      <td>0</td>\n",
              "    </tr>\n",
              "  </tbody>\n",
              "</table>\n",
              "<p>45417 rows × 3 columns</p>\n",
              "</div>"
            ],
            "text/plain": [
              "         imdb_id                        title  keywords\n",
              "0      tt0114709                    Toy Story         0\n",
              "1      tt0113497                      Jumanji         0\n",
              "2      tt0113228             Grumpier Old Men         0\n",
              "3      tt0114885            Waiting to Exhale         0\n",
              "4      tt0113041  Father of the Bride Part II         0\n",
              "...          ...                          ...       ...\n",
              "45412  tt6209470                       Subdue         0\n",
              "45413  tt2028550          Century of Birthing         0\n",
              "45414  tt0303758                     Betrayal         0\n",
              "45415  tt0008536             Satan Triumphant         0\n",
              "45416  tt6980792                     Queerama         0\n",
              "\n",
              "[45417 rows x 3 columns]"
            ]
          },
          "metadata": {
            "tags": []
          },
          "execution_count": 121
        }
      ]
    },
    {
      "cell_type": "markdown",
      "metadata": {
        "id": "y6Xo7kUq-WCu"
      },
      "source": [
        "On généralise la démarche à tous les films de la base, puis on stocke les mots-clés dans une nouvelle variable. Cependant, il a fallu exclure certains indices car nous avons constaté que pour ceux-ci, le lien https://www.imdb.com/title/imbd_id/keywords n'existait pas."
      ]
    },
    {
      "cell_type": "markdown",
      "metadata": {
        "id": "Dx8r1P8q-ZeJ"
      },
      "source": [
        "Voici le code de scrapping des mots-clés. Malheureusement ce code étant très chronophage, on se contentera de charger les mots-clés déjà scrappés.\n",
        "\n",
        "\n",
        "```\n",
        "for i in trange(len(df)):\n",
        "  if df.imdb_id[i] == None or str(df.imdb_id[i]) == 'nan' or str(df.imdb_id[i]) == 'NaN' or str(df.imdb_id[i]) == '0' or i == 30399 or i == 30544 or i==33357:\n",
        "    pass\n",
        "  else:\n",
        "    url_keywords = \"https://www.imdb.com/title/\" + df.imdb_id[i] +\"/keywords\"\n",
        "    request_text = request.urlopen(url_keywords).read()\n",
        "    page = bs4.BeautifulSoup(request_text, \"lxml\")\n",
        "    l = []\n",
        "    for post in page.findAll('td'):\n",
        "      l.append(post.get('data-item-keyword'))\n",
        "    df_2.keywords[i] = l\n",
        "    \n",
        "df_2.to_csv('base_keywords2.csv', sep = ';', encoding ='utf-8') \n",
        "```\n",
        "\n"
      ]
    },
    {
      "cell_type": "markdown",
      "metadata": {
        "id": "YVzT4DoJ-eav"
      },
      "source": [
        "Voici ce que donne ce code sur les 10 premières lignes de la base :"
      ]
    },
    {
      "cell_type": "code",
      "metadata": {
        "id": "-PrFrybA-bBe",
        "colab": {
          "base_uri": "https://localhost:8080/",
          "referenced_widgets": [
            "2fbd1163aae241f0b3ad71c5ae8c13c3",
            "c07c0bd5afbd40e3b885212ec3ce6d4a",
            "6f2fe116780b4f24b4775f00f1b4aa65",
            "0c558fed167e4525a018adb5941ce869",
            "30e332d1092e4f5e9968abbd8c9afadd",
            "112b838771734f149a2ef91db67a3159",
            "686581002ae54d88955ef2ed3dfd355a",
            "412e64cc34d3460c868d2bd551a30d60"
          ]
        },
        "outputId": "e83c305c-fa4a-43c5-fe26-ce073fce0eed"
      },
      "source": [
        "for i in trange(10):\n",
        "  if df.imdb_id[i] == None or str(df.imdb_id[i]) == 'nan' or str(df.imdb_id[i]) == 'NaN' or str(df.imdb_id[i]) == '0' or i == 30399 or i == 30544 or i==33357:\n",
        "    pass\n",
        "  else:\n",
        "    url_keywords = \"https://www.imdb.com/title/\" + df.imdb_id[i] +\"/keywords\"\n",
        "    request_text = request.urlopen(url_keywords).read()\n",
        "    page = bs4.BeautifulSoup(request_text, \"lxml\")\n",
        "    l = []\n",
        "    for post in page.findAll('td'):\n",
        "      l.append(post.get('data-item-keyword'))\n",
        "    df_2.keywords[i] = l\n"
      ],
      "execution_count": null,
      "outputs": [
        {
          "output_type": "display_data",
          "data": {
            "application/vnd.jupyter.widget-view+json": {
              "model_id": "2fbd1163aae241f0b3ad71c5ae8c13c3",
              "version_minor": 0,
              "version_major": 2
            },
            "text/plain": [
              "HBox(children=(FloatProgress(value=0.0, max=10.0), HTML(value='')))"
            ]
          },
          "metadata": {
            "tags": []
          }
        },
        {
          "output_type": "stream",
          "text": [
            "/usr/local/lib/python3.6/dist-packages/ipykernel_launcher.py:11: SettingWithCopyWarning:\n",
            "\n",
            "\n",
            "A value is trying to be set on a copy of a slice from a DataFrame\n",
            "\n",
            "See the caveats in the documentation: https://pandas.pydata.org/pandas-docs/stable/user_guide/indexing.html#returning-a-view-versus-a-copy\n",
            "\n",
            "/usr/local/lib/python3.6/dist-packages/pandas/core/indexing.py:670: SettingWithCopyWarning:\n",
            "\n",
            "\n",
            "A value is trying to be set on a copy of a slice from a DataFrame\n",
            "\n",
            "See the caveats in the documentation: https://pandas.pydata.org/pandas-docs/stable/user_guide/indexing.html#returning-a-view-versus-a-copy\n",
            "\n"
          ],
          "name": "stderr"
        },
        {
          "output_type": "stream",
          "text": [
            "\n"
          ],
          "name": "stdout"
        }
      ]
    },
    {
      "cell_type": "code",
      "metadata": {
        "id": "Uf7-y71VjQnc"
      },
      "source": [
        "df_2"
      ],
      "execution_count": null,
      "outputs": []
    },
    {
      "cell_type": "markdown",
      "metadata": {
        "id": "Z21ftev9wKMP"
      },
      "source": [
        "# Scraping des review imdb et score imdb \n",
        "\n",
        "On a récupéré le [Large Movie Review Dataset](http://ai.stanford.edu/~amaas/data/sentiment/), une base de données labellisées crée dans le cadre de l'ACL 2011 pour de l'analyse de sentiments en machine learning par un laboratoire de Stanford. Ces données sont récupérées depuis IMDB, on va chercher à compléter notre modèle à l'aide d'une analyse sentiment des commentaires des films. \n",
        "\n",
        "Le fichier de l'ACL 2011 est une arborescence de fichiers .txt contenant chacun un commentaire. \n",
        "![Capture d’écran 2020-12-14 à 01.05.49.png](data:image/png;base64,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)\n",
        "\n",
        "\n",
        "\n",
        "Le code pour transformer la base téléchargée à l'adresse et utilisé pour construire les différentes bases *review_x_y.csv* où *x* correspond à *test* ou *train* et *y* au label 0 ou 1 (*neg*/*pos*) est tel que suit (le dossier initial est trop lourd pour GitHub) : \n",
        "\n",
        "\n",
        "```\n",
        "import pandas as pd\n",
        "import os\n",
        "folder = 'aclImdb'\n",
        "labels = {'pos': 1, 'neg': 0}\n",
        "\n",
        "def create_reviewdf(x,y):\n",
        "    df = pd.DataFrame()\n",
        "    path = os.path.join(folder, x, y)\n",
        "    for file in os.listdir (path) :\n",
        "        with open(os.path.join(path, file),'r', encoding='utf-8') as infile:\n",
        "            txt = infile.read()\n",
        "        filename =os.path.basename(file)\n",
        "        df = df.append([[txt, labels[y], filename]],ignore_index=True)\n",
        "    df.columns = ['review', 'sentiment', 'filename']\n",
        "    return df\n",
        "\n",
        "# où x prend les valeurs {'test', 'train'} et y les valeurs {'pos', 'neg'}. \n",
        "\n",
        "```\n",
        "Le review *filename* correspond aux noms des fichiers, composé de l'id imdb et du score associé au film sur imdb. On ouvre donc les 4 bases correspondant aux sample test et sample train selon les sentiments positifs ou négatifs. \n",
        "\n",
        "On crée donc les 4 csv de la manière suivante :\n",
        "```\n",
        "create_reviewdf(test, neg).to_csv('review_test_neg.csv')\n",
        "create_reviewdf(test, pos).to_csv('review_test_pos.csv')\n",
        "create_reviewdf(rain, pos).to_csv('review_train_pos.csv')\n",
        "create_reviewdf(train, neg).to_csv('review_train_neg.csv')\n",
        "\n",
        "```\n"
      ]
    },
    {
      "cell_type": "markdown",
      "metadata": {
        "id": "MGyg9T0uj7xZ"
      },
      "source": [
        "On charge les bases déjà importées sur Github."
      ]
    },
    {
      "cell_type": "code",
      "metadata": {
        "id": "8U839mEZwR65"
      },
      "source": [
        "rtestn = pd.read_csv(r'https://raw.githubusercontent.com/marie-ganon/Projet-Python-S1/main/Bases_import%C3%A9es/review_test_neg.csv', sep=';', encoding='utf-8', low_memory=True)\n",
        "rtrainn = pd.read_csv(r'https://raw.githubusercontent.com/marie-ganon/Projet-Python-S1/main/Bases_import%C3%A9es/review_train_neg.csv', sep=';', encoding='utf-8', low_memory=True)\n",
        "rtestp = pd.read_csv(r'https://raw.githubusercontent.com/marie-ganon/Projet-Python-S1/main/Bases_import%C3%A9es/review_test_pos.csv', sep=';', encoding='utf-8', low_memory=True)\n",
        "rtrainp = pd.read_csv(r'https://raw.githubusercontent.com/marie-ganon/Projet-Python-S1/main/Bases_import%C3%A9es/review_train_pos.csv', sep=';', encoding='utf-8', low_memory=True)\n"
      ],
      "execution_count": null,
      "outputs": []
    },
    {
      "cell_type": "code",
      "metadata": {
        "id": "DG7AVbRrwWWU",
        "colab": {
          "base_uri": "https://localhost:8080/",
          "height": 202
        },
        "outputId": "08f2375d-3741-4443-ae8a-1e8ac55b666e"
      },
      "source": [
        "rtrainn.head()"
      ],
      "execution_count": null,
      "outputs": [
        {
          "output_type": "execute_result",
          "data": {
            "text/html": [
              "<div>\n",
              "<style scoped>\n",
              "    .dataframe tbody tr th:only-of-type {\n",
              "        vertical-align: middle;\n",
              "    }\n",
              "\n",
              "    .dataframe tbody tr th {\n",
              "        vertical-align: top;\n",
              "    }\n",
              "\n",
              "    .dataframe thead th {\n",
              "        text-align: right;\n",
              "    }\n",
              "</style>\n",
              "<table border=\"1\" class=\"dataframe\">\n",
              "  <thead>\n",
              "    <tr style=\"text-align: right;\">\n",
              "      <th></th>\n",
              "      <th>review</th>\n",
              "      <th>sentiment</th>\n",
              "      <th>filename</th>\n",
              "    </tr>\n",
              "  </thead>\n",
              "  <tbody>\n",
              "    <tr>\n",
              "      <th>0</th>\n",
              "      <td>Working with one of the best Shakespeare sourc...</td>\n",
              "      <td>0</td>\n",
              "      <td>1821_4.txt</td>\n",
              "    </tr>\n",
              "    <tr>\n",
              "      <th>1</th>\n",
              "      <td>Well...tremors I, the original started off in ...</td>\n",
              "      <td>0</td>\n",
              "      <td>10402_1.txt</td>\n",
              "    </tr>\n",
              "    <tr>\n",
              "      <th>2</th>\n",
              "      <td>Ouch! This one was a bit painful to sit throug...</td>\n",
              "      <td>0</td>\n",
              "      <td>1062_4.txt</td>\n",
              "    </tr>\n",
              "    <tr>\n",
              "      <th>3</th>\n",
              "      <td>I've seen some crappy movies in my life, but t...</td>\n",
              "      <td>0</td>\n",
              "      <td>9056_1.txt</td>\n",
              "    </tr>\n",
              "    <tr>\n",
              "      <th>4</th>\n",
              "      <td>\"Carriers\" follows the exploits of two guys an...</td>\n",
              "      <td>0</td>\n",
              "      <td>5392_3.txt</td>\n",
              "    </tr>\n",
              "  </tbody>\n",
              "</table>\n",
              "</div>"
            ],
            "text/plain": [
              "                                              review  sentiment     filename\n",
              "0  Working with one of the best Shakespeare sourc...          0   1821_4.txt\n",
              "1  Well...tremors I, the original started off in ...          0  10402_1.txt\n",
              "2  Ouch! This one was a bit painful to sit throug...          0   1062_4.txt\n",
              "3  I've seen some crappy movies in my life, but t...          0   9056_1.txt\n",
              "4  \"Carriers\" follows the exploits of two guys an...          0   5392_3.txt"
            ]
          },
          "metadata": {
            "tags": []
          },
          "execution_count": 124
        }
      ]
    },
    {
      "cell_type": "markdown",
      "metadata": {
        "id": "QjCN3MhXvdlo"
      },
      "source": [
        "On récupère les notes et les numéros de chaque commentaire. "
      ]
    },
    {
      "cell_type": "code",
      "metadata": {
        "id": "dqRumXKZxoAy"
      },
      "source": [
        "rtrainn['url_code']=rtrainn.filename.str.split('_').str.get(0)\n",
        "rtrainn['rating']= rtrainn.filename.str.split('_').str.get(1).str.split('.').str.get(0)\n",
        "rtrainn = rtrainn.drop(columns='filename')\n",
        "\n",
        "rtrainp['url_code']=rtrainp.filename.str.split('_').str.get(0)\n",
        "rtrainp['rating']= rtrainp.filename.str.split('_').str.get(1).str.split('.').str.get(0)\n",
        "rtrainp = rtrainp.drop(columns='filename')\n",
        "\n",
        "rtestn['url_code']=rtestn.filename.str.split('_').str.get(0)\n",
        "rtestn['rating']= rtestn.filename.str.split('_').str.get(1).str.split('.').str.get(0)\n",
        "rtestn = rtestn.drop(columns='filename')\n",
        "\n",
        "rtestp['url_code']=rtestp.filename.str.split('_').str.get(0)\n",
        "rtestp['rating']= rtestp.filename.str.split('_').str.get(1).str.split('.').str.get(0)\n",
        "rtestp = rtestp.drop(columns='filename')\n",
        "\n",
        "\n"
      ],
      "execution_count": null,
      "outputs": []
    },
    {
      "cell_type": "code",
      "metadata": {
        "id": "N3ZfJ0gDx3q7",
        "colab": {
          "base_uri": "https://localhost:8080/",
          "height": 202
        },
        "outputId": "56be1c7d-f228-4bb3-a29f-5dc7dd3aea9c"
      },
      "source": [
        "rtestn.head()"
      ],
      "execution_count": null,
      "outputs": [
        {
          "output_type": "execute_result",
          "data": {
            "text/html": [
              "<div>\n",
              "<style scoped>\n",
              "    .dataframe tbody tr th:only-of-type {\n",
              "        vertical-align: middle;\n",
              "    }\n",
              "\n",
              "    .dataframe tbody tr th {\n",
              "        vertical-align: top;\n",
              "    }\n",
              "\n",
              "    .dataframe thead th {\n",
              "        text-align: right;\n",
              "    }\n",
              "</style>\n",
              "<table border=\"1\" class=\"dataframe\">\n",
              "  <thead>\n",
              "    <tr style=\"text-align: right;\">\n",
              "      <th></th>\n",
              "      <th>review</th>\n",
              "      <th>sentiment</th>\n",
              "      <th>url_code</th>\n",
              "      <th>rating</th>\n",
              "    </tr>\n",
              "  </thead>\n",
              "  <tbody>\n",
              "    <tr>\n",
              "      <th>0</th>\n",
              "      <td>Alan Rickman &amp; Emma Thompson give good perform...</td>\n",
              "      <td>0</td>\n",
              "      <td>1821</td>\n",
              "      <td>4</td>\n",
              "    </tr>\n",
              "    <tr>\n",
              "      <th>1</th>\n",
              "      <td>I have seen this movie and I did not care for ...</td>\n",
              "      <td>0</td>\n",
              "      <td>9487</td>\n",
              "      <td>1</td>\n",
              "    </tr>\n",
              "    <tr>\n",
              "      <th>2</th>\n",
              "      <td>In Los Angeles, the alcoholic and lazy Hank Ch...</td>\n",
              "      <td>0</td>\n",
              "      <td>4604</td>\n",
              "      <td>4</td>\n",
              "    </tr>\n",
              "    <tr>\n",
              "      <th>3</th>\n",
              "      <td>This film is bundled along with \"Gli fumavano ...</td>\n",
              "      <td>0</td>\n",
              "      <td>2828</td>\n",
              "      <td>2</td>\n",
              "    </tr>\n",
              "    <tr>\n",
              "      <th>4</th>\n",
              "      <td>I only comment on really very good films and o...</td>\n",
              "      <td>0</td>\n",
              "      <td>10890</td>\n",
              "      <td>1</td>\n",
              "    </tr>\n",
              "  </tbody>\n",
              "</table>\n",
              "</div>"
            ],
            "text/plain": [
              "                                              review  sentiment url_code rating\n",
              "0  Alan Rickman & Emma Thompson give good perform...          0     1821      4\n",
              "1  I have seen this movie and I did not care for ...          0     9487      1\n",
              "2  In Los Angeles, the alcoholic and lazy Hank Ch...          0     4604      4\n",
              "3  This film is bundled along with \"Gli fumavano ...          0     2828      2\n",
              "4  I only comment on really very good films and o...          0    10890      1"
            ]
          },
          "metadata": {
            "tags": []
          },
          "execution_count": 126
        }
      ]
    },
    {
      "cell_type": "markdown",
      "metadata": {
        "id": "EFTQCHWPv3xE"
      },
      "source": [
        "On relie les numéros de commentaire à l'id du film. "
      ]
    },
    {
      "cell_type": "markdown",
      "metadata": {
        "id": "muAP1KxiVqrB"
      },
      "source": [
        "Pour faire le lien entre cette base de commentaires et notre base principale, on va relier chaque commentaire à son *id* imdb présent dans la table *url_table.csv*. \n",
        "\n",
        "On a créé *url_table.csv* en local pour les mêmes raisons que review, à partir des fichiers \"url_neg.txt\" et \"url_pos.txt\" pour les fichiers entraînés et tests. \n",
        "\n",
        "\n",
        "\n",
        "```\n",
        "import pandas\n",
        "\n",
        "\n",
        "#On récupère les lignes de chaque fichier sous un dataframe\n",
        "\n",
        "df_test_pos = pandas.read_table(os.path.join(folder, 'test', 'urls_pos.txt'), delim_whitespace=True, names=('A'))\n",
        "df_test_neg = pandas.read_table(os.path.join(folder, 'test', 'urls_neg.txt'), delim_whitespace=True, names=('B'))\n",
        "\n",
        "df_train_pos = pandas.read_table(os.path.join(folder, 'train', 'urls_pos.txt'), delim_whitespace=True, names=('C'))\n",
        "df_train_neg = pandas.read_table(os.path.join(folder, 'train', 'urls_neg.txt'), delim_whitespace=True, names=('D'))\n",
        "\n",
        "\n",
        "\n",
        "#On concatène ce dataframe\n",
        "\n",
        "df_url.columns=['test_pos', 'test_neg', 'train_pos', 'train_neg']\n",
        "df_url.head()\n",
        "\n",
        "\n",
        "#On transforme les liens récupérés en imdb_id\n",
        "\n",
        "\n",
        "df_url['test_pos']=df_url.test_pos.str.split('/').str.get(4)\n",
        "df_url['test_neg']=df_url.test_neg.str.split('/').str.get(4)\n",
        "df_url['train_pos']=df_url.train_pos.str.split('/').str.get(4)\n",
        "df_url['train_neg']=df_url.train_neg.str.split('/').str.get(4)\n",
        "```\n",
        "\n",
        "\n"
      ]
    },
    {
      "cell_type": "code",
      "metadata": {
        "id": "r7ZBR2Xkx4wF"
      },
      "source": [
        "df_url = pd.read_csv(r'https://raw.githubusercontent.com/marie-ganon/Projet-Python-S1/main/Bases_import%C3%A9es/url_table.csv', sep=',', encoding='utf-8')"
      ],
      "execution_count": null,
      "outputs": []
    },
    {
      "cell_type": "code",
      "metadata": {
        "id": "SYNORebwWrtZ",
        "colab": {
          "base_uri": "https://localhost:8080/",
          "height": 202
        },
        "outputId": "f43fee45-e47f-4e14-f88d-3232b8fe7ece"
      },
      "source": [
        "df_url.head()"
      ],
      "execution_count": null,
      "outputs": [
        {
          "output_type": "execute_result",
          "data": {
            "text/html": [
              "<div>\n",
              "<style scoped>\n",
              "    .dataframe tbody tr th:only-of-type {\n",
              "        vertical-align: middle;\n",
              "    }\n",
              "\n",
              "    .dataframe tbody tr th {\n",
              "        vertical-align: top;\n",
              "    }\n",
              "\n",
              "    .dataframe thead th {\n",
              "        text-align: right;\n",
              "    }\n",
              "</style>\n",
              "<table border=\"1\" class=\"dataframe\">\n",
              "  <thead>\n",
              "    <tr style=\"text-align: right;\">\n",
              "      <th></th>\n",
              "      <th>Unnamed: 0</th>\n",
              "      <th>test_pos</th>\n",
              "      <th>test_neg</th>\n",
              "      <th>train_pos</th>\n",
              "      <th>train_neg</th>\n",
              "    </tr>\n",
              "  </thead>\n",
              "  <tbody>\n",
              "    <tr>\n",
              "      <th>0</th>\n",
              "      <td>0</td>\n",
              "      <td>tt0406816</td>\n",
              "      <td>tt0406816</td>\n",
              "      <td>tt0453418</td>\n",
              "      <td>tt0064354</td>\n",
              "    </tr>\n",
              "    <tr>\n",
              "      <th>1</th>\n",
              "      <td>1</td>\n",
              "      <td>tt0406816</td>\n",
              "      <td>tt0406816</td>\n",
              "      <td>tt0453418</td>\n",
              "      <td>tt0100680</td>\n",
              "    </tr>\n",
              "    <tr>\n",
              "      <th>2</th>\n",
              "      <td>2</td>\n",
              "      <td>tt0406816</td>\n",
              "      <td>tt0406816</td>\n",
              "      <td>tt0453418</td>\n",
              "      <td>tt0100680</td>\n",
              "    </tr>\n",
              "    <tr>\n",
              "      <th>3</th>\n",
              "      <td>3</td>\n",
              "      <td>tt0406816</td>\n",
              "      <td>tt0406816</td>\n",
              "      <td>tt0064354</td>\n",
              "      <td>tt0100680</td>\n",
              "    </tr>\n",
              "    <tr>\n",
              "      <th>4</th>\n",
              "      <td>4</td>\n",
              "      <td>tt0406816</td>\n",
              "      <td>tt0406816</td>\n",
              "      <td>tt0064354</td>\n",
              "      <td>tt0047200</td>\n",
              "    </tr>\n",
              "  </tbody>\n",
              "</table>\n",
              "</div>"
            ],
            "text/plain": [
              "   Unnamed: 0   test_pos   test_neg  train_pos  train_neg\n",
              "0           0  tt0406816  tt0406816  tt0453418  tt0064354\n",
              "1           1  tt0406816  tt0406816  tt0453418  tt0100680\n",
              "2           2  tt0406816  tt0406816  tt0453418  tt0100680\n",
              "3           3  tt0406816  tt0406816  tt0064354  tt0100680\n",
              "4           4  tt0406816  tt0406816  tt0064354  tt0047200"
            ]
          },
          "metadata": {
            "tags": []
          },
          "execution_count": 128
        }
      ]
    },
    {
      "cell_type": "code",
      "metadata": {
        "id": "NeAcPZTWa2_8"
      },
      "source": [
        "# on rajoute un décalage de 1 car les numéros de lignes se comptent en partant de 1 et non de 0\n",
        "df_url['code_url']= df_url['Unnamed: 0']+1 \n",
        "df_url = df_url.drop(columns='Unnamed: 0')"
      ],
      "execution_count": null,
      "outputs": []
    },
    {
      "cell_type": "markdown",
      "metadata": {
        "id": "NWOYnPZ-WxPG"
      },
      "source": [
        "D'après le README.txt des fichiers utilisés pour la base review, le *url_code* de review correspond au film *url_code*-ième film de la base de *df_url*. \n",
        "\n",
        "On crée une colonne imdb_id dans chaque dataframe d'analyse sentiment."
      ]
    },
    {
      "cell_type": "code",
      "metadata": {
        "id": "7_-_yf7kb_Xz",
        "colab": {
          "base_uri": "https://localhost:8080/",
          "height": 202
        },
        "outputId": "594cf08d-7923-4a91-f392-564bb71615cf"
      },
      "source": [
        "df_url.head()\n",
        "#df_url.code_url"
      ],
      "execution_count": null,
      "outputs": [
        {
          "output_type": "execute_result",
          "data": {
            "text/html": [
              "<div>\n",
              "<style scoped>\n",
              "    .dataframe tbody tr th:only-of-type {\n",
              "        vertical-align: middle;\n",
              "    }\n",
              "\n",
              "    .dataframe tbody tr th {\n",
              "        vertical-align: top;\n",
              "    }\n",
              "\n",
              "    .dataframe thead th {\n",
              "        text-align: right;\n",
              "    }\n",
              "</style>\n",
              "<table border=\"1\" class=\"dataframe\">\n",
              "  <thead>\n",
              "    <tr style=\"text-align: right;\">\n",
              "      <th></th>\n",
              "      <th>test_pos</th>\n",
              "      <th>test_neg</th>\n",
              "      <th>train_pos</th>\n",
              "      <th>train_neg</th>\n",
              "      <th>code_url</th>\n",
              "    </tr>\n",
              "  </thead>\n",
              "  <tbody>\n",
              "    <tr>\n",
              "      <th>0</th>\n",
              "      <td>tt0406816</td>\n",
              "      <td>tt0406816</td>\n",
              "      <td>tt0453418</td>\n",
              "      <td>tt0064354</td>\n",
              "      <td>1</td>\n",
              "    </tr>\n",
              "    <tr>\n",
              "      <th>1</th>\n",
              "      <td>tt0406816</td>\n",
              "      <td>tt0406816</td>\n",
              "      <td>tt0453418</td>\n",
              "      <td>tt0100680</td>\n",
              "      <td>2</td>\n",
              "    </tr>\n",
              "    <tr>\n",
              "      <th>2</th>\n",
              "      <td>tt0406816</td>\n",
              "      <td>tt0406816</td>\n",
              "      <td>tt0453418</td>\n",
              "      <td>tt0100680</td>\n",
              "      <td>3</td>\n",
              "    </tr>\n",
              "    <tr>\n",
              "      <th>3</th>\n",
              "      <td>tt0406816</td>\n",
              "      <td>tt0406816</td>\n",
              "      <td>tt0064354</td>\n",
              "      <td>tt0100680</td>\n",
              "      <td>4</td>\n",
              "    </tr>\n",
              "    <tr>\n",
              "      <th>4</th>\n",
              "      <td>tt0406816</td>\n",
              "      <td>tt0406816</td>\n",
              "      <td>tt0064354</td>\n",
              "      <td>tt0047200</td>\n",
              "      <td>5</td>\n",
              "    </tr>\n",
              "  </tbody>\n",
              "</table>\n",
              "</div>"
            ],
            "text/plain": [
              "    test_pos   test_neg  train_pos  train_neg  code_url\n",
              "0  tt0406816  tt0406816  tt0453418  tt0064354         1\n",
              "1  tt0406816  tt0406816  tt0453418  tt0100680         2\n",
              "2  tt0406816  tt0406816  tt0453418  tt0100680         3\n",
              "3  tt0406816  tt0406816  tt0064354  tt0100680         4\n",
              "4  tt0406816  tt0406816  tt0064354  tt0047200         5"
            ]
          },
          "metadata": {
            "tags": []
          },
          "execution_count": 130
        }
      ]
    },
    {
      "cell_type": "markdown",
      "metadata": {
        "id": "2F5oFV0y1tJu"
      },
      "source": [
        "On convertit les *url_code* en entier:"
      ]
    },
    {
      "cell_type": "code",
      "metadata": {
        "id": "jLoDfQPFeiZh"
      },
      "source": [
        "rtrainn.url_code = rtrainn.url_code.astype('int64')\n",
        "rtrainp.url_code = rtrainp.url_code.astype('int64')\n",
        "rtestn.url_code = rtestn.url_code.astype('int64')\n",
        "rtestp.url_code = rtestp.url_code.astype('int64')"
      ],
      "execution_count": null,
      "outputs": []
    },
    {
      "cell_type": "markdown",
      "metadata": {
        "id": "vbHTwLrq2C0d"
      },
      "source": [
        "On fusionne chaque dataframe de review avec df_url en effectuant une fusion sur *code_url* d'un côté et *url_code*  de l'autre:"
      ]
    },
    {
      "cell_type": "code",
      "metadata": {
        "id": "61gCYJzTemNL"
      },
      "source": [
        "df_trainn = pd.merge(rtrainn, df_url[['train_neg', 'code_url']], left_on='url_code', right_on='code_url')\n",
        "df_trainp =pd.merge(rtrainp, df_url[['train_pos', 'code_url']], left_on='url_code', right_on='code_url')\n",
        "df_testn = pd.merge(rtestn, df_url[['test_neg', 'code_url']], left_on='url_code', right_on='code_url')\n",
        "df_testp =pd.merge(rtestp, df_url[['test_pos', 'code_url']], left_on='url_code', right_on='code_url')\n"
      ],
      "execution_count": null,
      "outputs": []
    },
    {
      "cell_type": "markdown",
      "metadata": {
        "id": "Kd-P46p_xKlc"
      },
      "source": [
        "On concatène tous les dataframes d'entrainement et de test et on renomme leurs colonnes pour une question de clarté. "
      ]
    },
    {
      "cell_type": "code",
      "metadata": {
        "id": "lcNk7NinwoTS",
        "colab": {
          "base_uri": "https://localhost:8080/",
          "height": 202
        },
        "outputId": "fb49bb12-3854-46ee-eaaa-a3d5cd98d2f1"
      },
      "source": [
        "df_trainn = df_trainn.rename(columns={'train_neg': 'imdb_id'})\n",
        "df_trainp = df_trainp.rename(columns={'train_pos': 'imdb_id'})\n",
        "\n",
        "df_train=pd.concat([df_trainn, df_trainp])\n",
        "df_train.head()\n",
        "#df_trainn"
      ],
      "execution_count": null,
      "outputs": [
        {
          "output_type": "execute_result",
          "data": {
            "text/html": [
              "<div>\n",
              "<style scoped>\n",
              "    .dataframe tbody tr th:only-of-type {\n",
              "        vertical-align: middle;\n",
              "    }\n",
              "\n",
              "    .dataframe tbody tr th {\n",
              "        vertical-align: top;\n",
              "    }\n",
              "\n",
              "    .dataframe thead th {\n",
              "        text-align: right;\n",
              "    }\n",
              "</style>\n",
              "<table border=\"1\" class=\"dataframe\">\n",
              "  <thead>\n",
              "    <tr style=\"text-align: right;\">\n",
              "      <th></th>\n",
              "      <th>review</th>\n",
              "      <th>sentiment</th>\n",
              "      <th>url_code</th>\n",
              "      <th>rating</th>\n",
              "      <th>imdb_id</th>\n",
              "      <th>code_url</th>\n",
              "    </tr>\n",
              "  </thead>\n",
              "  <tbody>\n",
              "    <tr>\n",
              "      <th>0</th>\n",
              "      <td>Working with one of the best Shakespeare sourc...</td>\n",
              "      <td>0</td>\n",
              "      <td>1821</td>\n",
              "      <td>4</td>\n",
              "      <td>tt0125430</td>\n",
              "      <td>1821</td>\n",
              "    </tr>\n",
              "    <tr>\n",
              "      <th>1</th>\n",
              "      <td>Well...tremors I, the original started off in ...</td>\n",
              "      <td>0</td>\n",
              "      <td>10402</td>\n",
              "      <td>1</td>\n",
              "      <td>tt0334541</td>\n",
              "      <td>10402</td>\n",
              "    </tr>\n",
              "    <tr>\n",
              "      <th>2</th>\n",
              "      <td>Ouch! This one was a bit painful to sit throug...</td>\n",
              "      <td>0</td>\n",
              "      <td>1062</td>\n",
              "      <td>4</td>\n",
              "      <td>tt0043809</td>\n",
              "      <td>1062</td>\n",
              "    </tr>\n",
              "    <tr>\n",
              "      <th>3</th>\n",
              "      <td>I've seen some crappy movies in my life, but t...</td>\n",
              "      <td>0</td>\n",
              "      <td>9056</td>\n",
              "      <td>1</td>\n",
              "      <td>tt0219400</td>\n",
              "      <td>9056</td>\n",
              "    </tr>\n",
              "    <tr>\n",
              "      <th>4</th>\n",
              "      <td>\"Carriers\" follows the exploits of two guys an...</td>\n",
              "      <td>0</td>\n",
              "      <td>5392</td>\n",
              "      <td>3</td>\n",
              "      <td>tt0806203</td>\n",
              "      <td>5392</td>\n",
              "    </tr>\n",
              "  </tbody>\n",
              "</table>\n",
              "</div>"
            ],
            "text/plain": [
              "                                              review  ...  code_url\n",
              "0  Working with one of the best Shakespeare sourc...  ...      1821\n",
              "1  Well...tremors I, the original started off in ...  ...     10402\n",
              "2  Ouch! This one was a bit painful to sit throug...  ...      1062\n",
              "3  I've seen some crappy movies in my life, but t...  ...      9056\n",
              "4  \"Carriers\" follows the exploits of two guys an...  ...      5392\n",
              "\n",
              "[5 rows x 6 columns]"
            ]
          },
          "metadata": {
            "tags": []
          },
          "execution_count": 133
        }
      ]
    },
    {
      "cell_type": "code",
      "metadata": {
        "id": "rcfZyFo8xIa6",
        "colab": {
          "base_uri": "https://localhost:8080/",
          "height": 202
        },
        "outputId": "4ec3c002-7d39-4e84-f21b-cc64f62379db"
      },
      "source": [
        "df_testn = df_testn.rename(columns={'test_neg': 'imdb_id'})\n",
        "df_testp = df_testp.rename(columns={'test_pos': 'imdb_id'})\n",
        "\n",
        "df_test=pd.concat([df_testn, df_testp])\n",
        "df_test.head()"
      ],
      "execution_count": null,
      "outputs": [
        {
          "output_type": "execute_result",
          "data": {
            "text/html": [
              "<div>\n",
              "<style scoped>\n",
              "    .dataframe tbody tr th:only-of-type {\n",
              "        vertical-align: middle;\n",
              "    }\n",
              "\n",
              "    .dataframe tbody tr th {\n",
              "        vertical-align: top;\n",
              "    }\n",
              "\n",
              "    .dataframe thead th {\n",
              "        text-align: right;\n",
              "    }\n",
              "</style>\n",
              "<table border=\"1\" class=\"dataframe\">\n",
              "  <thead>\n",
              "    <tr style=\"text-align: right;\">\n",
              "      <th></th>\n",
              "      <th>review</th>\n",
              "      <th>sentiment</th>\n",
              "      <th>url_code</th>\n",
              "      <th>rating</th>\n",
              "      <th>imdb_id</th>\n",
              "      <th>code_url</th>\n",
              "    </tr>\n",
              "  </thead>\n",
              "  <tbody>\n",
              "    <tr>\n",
              "      <th>0</th>\n",
              "      <td>Alan Rickman &amp; Emma Thompson give good perform...</td>\n",
              "      <td>0</td>\n",
              "      <td>1821</td>\n",
              "      <td>4</td>\n",
              "      <td>tt0138541</td>\n",
              "      <td>1821</td>\n",
              "    </tr>\n",
              "    <tr>\n",
              "      <th>1</th>\n",
              "      <td>I have seen this movie and I did not care for ...</td>\n",
              "      <td>0</td>\n",
              "      <td>9487</td>\n",
              "      <td>1</td>\n",
              "      <td>tt0202521</td>\n",
              "      <td>9487</td>\n",
              "    </tr>\n",
              "    <tr>\n",
              "      <th>2</th>\n",
              "      <td>In Los Angeles, the alcoholic and lazy Hank Ch...</td>\n",
              "      <td>0</td>\n",
              "      <td>4604</td>\n",
              "      <td>4</td>\n",
              "      <td>tt0417658</td>\n",
              "      <td>4604</td>\n",
              "    </tr>\n",
              "    <tr>\n",
              "      <th>3</th>\n",
              "      <td>This film is bundled along with \"Gli fumavano ...</td>\n",
              "      <td>0</td>\n",
              "      <td>2828</td>\n",
              "      <td>2</td>\n",
              "      <td>tt0084234</td>\n",
              "      <td>2828</td>\n",
              "    </tr>\n",
              "    <tr>\n",
              "      <th>4</th>\n",
              "      <td>I only comment on really very good films and o...</td>\n",
              "      <td>0</td>\n",
              "      <td>10890</td>\n",
              "      <td>1</td>\n",
              "      <td>tt0787505</td>\n",
              "      <td>10890</td>\n",
              "    </tr>\n",
              "  </tbody>\n",
              "</table>\n",
              "</div>"
            ],
            "text/plain": [
              "                                              review  ...  code_url\n",
              "0  Alan Rickman & Emma Thompson give good perform...  ...      1821\n",
              "1  I have seen this movie and I did not care for ...  ...      9487\n",
              "2  In Los Angeles, the alcoholic and lazy Hank Ch...  ...      4604\n",
              "3  This film is bundled along with \"Gli fumavano ...  ...      2828\n",
              "4  I only comment on really very good films and o...  ...     10890\n",
              "\n",
              "[5 rows x 6 columns]"
            ]
          },
          "metadata": {
            "tags": []
          },
          "execution_count": 134
        }
      ]
    },
    {
      "cell_type": "markdown",
      "metadata": {
        "id": "NtoQyQ1Qy79t"
      },
      "source": [
        "On convertit enfin ces deux dataframes en CSV :"
      ]
    },
    {
      "cell_type": "code",
      "metadata": {
        "id": "lJQBN-6cxWgM"
      },
      "source": [
        "df_test.to_csv('test_review.csv')"
      ],
      "execution_count": null,
      "outputs": []
    },
    {
      "cell_type": "code",
      "metadata": {
        "id": "uu_uncJDxrJO"
      },
      "source": [
        "df_train.to_csv('train_review.csv')"
      ],
      "execution_count": null,
      "outputs": []
    },
    {
      "cell_type": "markdown",
      "metadata": {
        "id": "XME3dBH8Mfb0"
      },
      "source": [
        "On a fait les mêmes opérations sur le fichier *unsup_filtered_review.csv* en local mais comme il est plus gros, on laissera le code commenté pour des raisons de RAM. Ce fichier contient un ensemble des commentaires non labelisés.\n",
        "\n",
        "\n",
        "\n",
        "\n",
        "\n",
        "```\n",
        "# Récupération de la base à partir des fichiers txt \n",
        "df = pd.DataFrame()\n",
        "path = os.path.join(folder, 'train', 'unsup')\n",
        "for file in os.listdir (path) :\n",
        "    with open(os.path.join(path, file),'r', encoding='utf-8') as infile:\n",
        "        txt = infile.read()\n",
        "        filename =os.path.basename(file)\n",
        "        df = df.append([[txt, filename]],ignore_index=True)\n",
        "   # df.columns = ['review', 'filename']\n",
        "df.to_csv('unsup.csv')\n",
        "\n",
        "\n",
        "---\n",
        "\n",
        "# Table des reviews non labellisées\n",
        "unsup = pd.read_csv(r'unsup.csv')\n",
        "\n",
        "\n",
        "\n",
        "---\n",
        "# Récupération de la table de liens associés aux reviews\n",
        "\n",
        "df_url_unsup= pandas.read_table(os.path.join(folder, 'train', 'urls_unsup.txt'), delim_whitespace=True, names=('A'))\n",
        "\n",
        "df_url_unsup.to_csv('url_unsup.csv')\n",
        "\n",
        "---\n",
        "\n",
        "# Table des liens associés au review\n",
        "url_unsup = pd.read_csv(r'url_unsup.csv')\n",
        "---\n",
        "# Préparation de la table des liens\n",
        "\n",
        "url_unsup = url_unsup.rename(columns={'A':'imdb_id'})\n",
        "\n",
        "url_unsup.imdb_id.str.split('/').str.get(4)\n",
        "\n",
        "---\n",
        "# Préparation de la table des reviews\n",
        "\n",
        "unsup = unsup.rename(columns={'0':'review', '1':'filename'})\n",
        "unsup['url_code']=unsup.filename.str.split('_').str.get(0)\n",
        "unsup = unsup.drop(columns='filename')\n",
        "\n",
        "---\n",
        "# Ajout du décalage de ligne (même code que dans la partie préparation de données dans Modélisation)\n",
        "\n",
        "url_unsup['code_url']= url_unsup['Unnamed: 0']+1 \n",
        "url_unsup = url_unsup.drop(columns='Unnamed: 0')\n",
        "\n",
        "unsup.url_code = unsup.url_code.astype('int64')\n",
        "---\n",
        "\n",
        "# Jointure\n",
        "\n",
        "df_unsup = pd.merge(unsup, url_unsup, left_on='url_code', right_on='code_url')\n",
        "df_unsup.head()\n",
        "\n",
        "\n",
        "df_unsup['imdb_id']=df_unsup.A.str.split('/').str.get(4)\n",
        "df_unsup = df_unsup.drop(columns='A')\n",
        "\n",
        "---\n",
        "# On filtre pour ne garder que les films contenus dans notre base (et diminuer la taille du fichier avant importation)\n",
        "\n",
        "l = []\n",
        "l_unsup = pd.unique(df_unsup.imdb_id)\n",
        "for elem in df_id.imdb_id:\n",
        "  if elem in l_unsup : \n",
        "    l.append(elem)\n",
        "\n",
        "    cond = df_unsup.apply( lambda row : row['imdb_id'] in l , axis = 1 )\n",
        "unsup_filtered = df_unsup[cond]\n",
        "\n",
        "unsup_filtered.to_csv('unsup_filtered_review.csv')\n",
        "```\n",
        "\n"
      ]
    },
    {
      "cell_type": "markdown",
      "metadata": {
        "id": "HbGXURb2Oah7"
      },
      "source": [
        "# Conclusion\n",
        "\n",
        "A l'issue de cette partie, on a nettoyé une première base à partir des données de *The Movie Database* dans la *base.csv* sauvegardée sur Github. Cette base est utilisée comme base principale de nos statistiques et modélisations. \n",
        "\n",
        "En complément, dans la base *base_keywords.csv.zip*, nous avons récupéré les mots-clés des films via le site *Internet Movie Database* et dans les bases *train_review.csv.zip*, *test_review.csv.zip*, et *unsup_filtered.csv.zip*  différentes informations complémentaires de commentaires de films. Les fichiers compressés sont à télécharger pour leur utilisation en raison de la limite de taille de fichier imposée par GitHub et sont conservés dans le dossier **Bases_à_importer**. Les bases déjà chargées (donc moins lourdes) sont conservées dans **Bases_importées**.  "
      ]
    }
  ]
}